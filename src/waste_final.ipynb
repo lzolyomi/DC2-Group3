{
 "metadata": {
  "language_info": {
   "codemirror_mode": {
    "name": "ipython",
    "version": 3
   },
   "file_extension": ".py",
   "mimetype": "text/x-python",
   "name": "python",
   "nbconvert_exporter": "python",
   "pygments_lexer": "ipython3",
   "version": "3.8.2"
  },
  "orig_nbformat": 2,
  "kernelspec": {
   "name": "python3",
   "display_name": "Python 3.8.2 64-bit",
   "metadata": {
    "interpreter": {
     "hash": "aee8b7b246df8f9039afb4144a1f6fd8d2ca17a180786b69acc140d282b71a49"
    }
   }
  }
 },
 "nbformat": 4,
 "nbformat_minor": 2,
 "cells": [
  {
   "cell_type": "code",
   "execution_count": 1,
   "metadata": {},
   "outputs": [],
   "source": [
    "import pandas as pd\n",
    "import numpy as np \n",
    "import datetime\n",
    "inventory = pd.read_csv(\"data/inventory.csv\")\n",
    "products = pd.read_csv(\"data/products.csv\")\n",
    "promotions = pd.read_csv(\"data/promotions.csv\")\n",
    "transactions = pd.read_csv(\"data/transactions.csv\")\n",
    "\n",
    "#create a reference dataframe\n",
    "dayofyear = list(range(365))\n",
    "date = [datetime.datetime(2018, 1, 1) + datetime.timedelta(day) for day in dayofyear]\n",
    "df_date = pd.DataFrame({\"day\":dayofyear, \"date\":date})\n",
    "\n",
    "import ast\n",
    "for colname in inventory.columns[2:]:\n",
    "    inventory[colname] = [ast.literal_eval(i) for i in inventory[colname]]"
   ]
  },
  {
   "cell_type": "code",
   "execution_count": 2,
   "metadata": {},
   "outputs": [],
   "source": [
    "product_names = ['Biologische prei', 'Biologische brocolli', 'Biologische courgette', 'Biologische rode kool', 'Biologische cherry tomaten', 'Biologisch Bloemkool', 'Biologische pompoen', 'Biologische kikkererwten', 'Biologische knoflook']"
   ]
  },
  {
   "cell_type": "code",
   "execution_count": 5,
   "metadata": {},
   "outputs": [
    {
     "output_type": "execute_result",
     "data": {
      "text/plain": [
       "        day     time  customer  bank acount category product_id  \\\n",
       "0  1/1/2018  9:07:00       0.0          NaN    snack        s_5   \n",
       "1  1/1/2018  9:07:00       0.0          NaN     meat       m_16   \n",
       "2  1/1/2018  9:07:00       0.0          NaN     meat       m_18   \n",
       "3  1/1/2018  9:07:00       0.0          NaN     meat        m_6   \n",
       "4  1/1/2018  9:07:00       0.0          NaN    bread       b_33   \n",
       "\n",
       "                 description  size  std_sales_price  purchase_price  bio  \\\n",
       "0                 Eierkoeken   4st             1.79            1.79  0.0   \n",
       "1  Sappige gelders rookworst  250g             1.08            1.08  0.0   \n",
       "2          Varkensbraadworst   4st             2.49            1.99  NaN   \n",
       "3        Half om half gehakt  500g             2.69            2.42  0.0   \n",
       "4      Biologisch bruin heel   1st             2.12            2.12  1.0   \n",
       "\n",
       "   basic  \n",
       "0    0.0  \n",
       "1    0.0  \n",
       "2    0.0  \n",
       "3    0.0  \n",
       "4    0.0  "
      ],
      "text/html": "<div>\n<style scoped>\n    .dataframe tbody tr th:only-of-type {\n        vertical-align: middle;\n    }\n\n    .dataframe tbody tr th {\n        vertical-align: top;\n    }\n\n    .dataframe thead th {\n        text-align: right;\n    }\n</style>\n<table border=\"1\" class=\"dataframe\">\n  <thead>\n    <tr style=\"text-align: right;\">\n      <th></th>\n      <th>day</th>\n      <th>time</th>\n      <th>customer</th>\n      <th>bank acount</th>\n      <th>category</th>\n      <th>product_id</th>\n      <th>description</th>\n      <th>size</th>\n      <th>std_sales_price</th>\n      <th>purchase_price</th>\n      <th>bio</th>\n      <th>basic</th>\n    </tr>\n  </thead>\n  <tbody>\n    <tr>\n      <th>0</th>\n      <td>1/1/2018</td>\n      <td>9:07:00</td>\n      <td>0.0</td>\n      <td>NaN</td>\n      <td>snack</td>\n      <td>s_5</td>\n      <td>Eierkoeken</td>\n      <td>4st</td>\n      <td>1.79</td>\n      <td>1.79</td>\n      <td>0.0</td>\n      <td>0.0</td>\n    </tr>\n    <tr>\n      <th>1</th>\n      <td>1/1/2018</td>\n      <td>9:07:00</td>\n      <td>0.0</td>\n      <td>NaN</td>\n      <td>meat</td>\n      <td>m_16</td>\n      <td>Sappige gelders rookworst</td>\n      <td>250g</td>\n      <td>1.08</td>\n      <td>1.08</td>\n      <td>0.0</td>\n      <td>0.0</td>\n    </tr>\n    <tr>\n      <th>2</th>\n      <td>1/1/2018</td>\n      <td>9:07:00</td>\n      <td>0.0</td>\n      <td>NaN</td>\n      <td>meat</td>\n      <td>m_18</td>\n      <td>Varkensbraadworst</td>\n      <td>4st</td>\n      <td>2.49</td>\n      <td>1.99</td>\n      <td>NaN</td>\n      <td>0.0</td>\n    </tr>\n    <tr>\n      <th>3</th>\n      <td>1/1/2018</td>\n      <td>9:07:00</td>\n      <td>0.0</td>\n      <td>NaN</td>\n      <td>meat</td>\n      <td>m_6</td>\n      <td>Half om half gehakt</td>\n      <td>500g</td>\n      <td>2.69</td>\n      <td>2.42</td>\n      <td>0.0</td>\n      <td>0.0</td>\n    </tr>\n    <tr>\n      <th>4</th>\n      <td>1/1/2018</td>\n      <td>9:07:00</td>\n      <td>0.0</td>\n      <td>NaN</td>\n      <td>bread</td>\n      <td>b_33</td>\n      <td>Biologisch bruin heel</td>\n      <td>1st</td>\n      <td>2.12</td>\n      <td>2.12</td>\n      <td>1.0</td>\n      <td>0.0</td>\n    </tr>\n  </tbody>\n</table>\n</div>"
     },
     "metadata": {},
     "execution_count": 5
    }
   ],
   "source": [
    "transactions.head()"
   ]
  },
  {
   "cell_type": "code",
   "execution_count": 11,
   "metadata": {},
   "outputs": [
    {
     "output_type": "execute_result",
     "data": {
      "text/plain": [
       "   day before or after delivery             Komkommer  Courgette  \\\n",
       "0    0                   before                    []         []   \n",
       "1    0                    after            [(14, 36)]  [(14, 8)]   \n",
       "2    3                   before            [(14, 13)]         []   \n",
       "3    3                    after  [(14, 13), (17, 36)]  [(17, 8)]   \n",
       "4    7                   before            [(17, 35)]         []   \n",
       "\n",
       "  SnoepVegetable tomaat           Paprika Mix     Paprika  \\\n",
       "0                    []                    []          []   \n",
       "1            [(14, 37)]            [(14, 33)]  [(14, 34)]   \n",
       "2            [(14, 13)]            [(14, 11)]          []   \n",
       "3  [(14, 13), (17, 37)]  [(14, 11), (17, 33)]  [(17, 34)]   \n",
       "4            [(17, 27)]            [(17, 17)]   [(17, 1)]   \n",
       "\n",
       "  Geschrapte worteltjes   Basis Sperziebonen Basis Rode kool met appel  ...  \\\n",
       "0                    []                   []                        []  ...   \n",
       "1            [(14, 35)]           [(14, 31)]                [(14, 35)]  ...   \n",
       "2                    []            [(14, 2)]                [(14, 12)]  ...   \n",
       "3            [(17, 35)]  [(14, 2), (17, 31)]      [(14, 12), (17, 35)]  ...   \n",
       "4            [(17, 13)]            [(17, 8)]                [(17, 32)]  ...   \n",
       "\n",
       "  Roomboter chocolade brood Chinois brioche  Vanille muffins (vers)  \\\n",
       "0                        []              []                      []   \n",
       "1                 [(5, 19)]       [(5, 23)]            [(100, 130)]   \n",
       "2                        []              []              [(100, 3)]   \n",
       "3                 [(8, 19)]       [(8, 23)]  [(100, 3), (103, 130)]   \n",
       "4                        []              []             [(103, 26)]   \n",
       "\n",
       "  Basic chocolate chip cookies                     Oreo  \\\n",
       "0                           []                       []   \n",
       "1                  [(100, 45)]             [(100, 131)]   \n",
       "2                           []              [(100, 19)]   \n",
       "3                  [(103, 45)]  [(100, 19), (103, 131)]   \n",
       "4                  [(103, 19)]              [(103, 55)]   \n",
       "\n",
       "        Bakkersspeculaas              Eierkoeken     Ribbelchips naturel  \\\n",
       "0                     []                      []                      []   \n",
       "1            [(100, 45)]            [(100, 125)]             [(100, 45)]   \n",
       "2             [(100, 7)]              [(100, 8)]             [(100, 10)]   \n",
       "3  [(100, 7), (103, 45)]  [(100, 8), (103, 125)]  [(100, 10), (103, 45)]   \n",
       "4            [(103, 16)]             [(103, 39)]             [(103, 28)]   \n",
       "\n",
       "      Ribbelchips paprika      Doritos sweet chili  \n",
       "0                      []                       []  \n",
       "1             [(100, 44)]             [(100, 128)]  \n",
       "2             [(100, 11)]              [(100, 26)]  \n",
       "3  [(100, 11), (103, 44)]  [(100, 26), (103, 128)]  \n",
       "4             [(103, 19)]              [(103, 58)]  \n",
       "\n",
       "[5 rows x 157 columns]"
      ],
      "text/html": "<div>\n<style scoped>\n    .dataframe tbody tr th:only-of-type {\n        vertical-align: middle;\n    }\n\n    .dataframe tbody tr th {\n        vertical-align: top;\n    }\n\n    .dataframe thead th {\n        text-align: right;\n    }\n</style>\n<table border=\"1\" class=\"dataframe\">\n  <thead>\n    <tr style=\"text-align: right;\">\n      <th></th>\n      <th>day</th>\n      <th>before or after delivery</th>\n      <th>Komkommer</th>\n      <th>Courgette</th>\n      <th>SnoepVegetable tomaat</th>\n      <th>Paprika Mix</th>\n      <th>Paprika</th>\n      <th>Geschrapte worteltjes</th>\n      <th>Basis Sperziebonen</th>\n      <th>Basis Rode kool met appel</th>\n      <th>...</th>\n      <th>Roomboter chocolade brood</th>\n      <th>Chinois brioche</th>\n      <th>Vanille muffins (vers)</th>\n      <th>Basic chocolate chip cookies</th>\n      <th>Oreo</th>\n      <th>Bakkersspeculaas</th>\n      <th>Eierkoeken</th>\n      <th>Ribbelchips naturel</th>\n      <th>Ribbelchips paprika</th>\n      <th>Doritos sweet chili</th>\n    </tr>\n  </thead>\n  <tbody>\n    <tr>\n      <th>0</th>\n      <td>0</td>\n      <td>before</td>\n      <td>[]</td>\n      <td>[]</td>\n      <td>[]</td>\n      <td>[]</td>\n      <td>[]</td>\n      <td>[]</td>\n      <td>[]</td>\n      <td>[]</td>\n      <td>...</td>\n      <td>[]</td>\n      <td>[]</td>\n      <td>[]</td>\n      <td>[]</td>\n      <td>[]</td>\n      <td>[]</td>\n      <td>[]</td>\n      <td>[]</td>\n      <td>[]</td>\n      <td>[]</td>\n    </tr>\n    <tr>\n      <th>1</th>\n      <td>0</td>\n      <td>after</td>\n      <td>[(14, 36)]</td>\n      <td>[(14, 8)]</td>\n      <td>[(14, 37)]</td>\n      <td>[(14, 33)]</td>\n      <td>[(14, 34)]</td>\n      <td>[(14, 35)]</td>\n      <td>[(14, 31)]</td>\n      <td>[(14, 35)]</td>\n      <td>...</td>\n      <td>[(5, 19)]</td>\n      <td>[(5, 23)]</td>\n      <td>[(100, 130)]</td>\n      <td>[(100, 45)]</td>\n      <td>[(100, 131)]</td>\n      <td>[(100, 45)]</td>\n      <td>[(100, 125)]</td>\n      <td>[(100, 45)]</td>\n      <td>[(100, 44)]</td>\n      <td>[(100, 128)]</td>\n    </tr>\n    <tr>\n      <th>2</th>\n      <td>3</td>\n      <td>before</td>\n      <td>[(14, 13)]</td>\n      <td>[]</td>\n      <td>[(14, 13)]</td>\n      <td>[(14, 11)]</td>\n      <td>[]</td>\n      <td>[]</td>\n      <td>[(14, 2)]</td>\n      <td>[(14, 12)]</td>\n      <td>...</td>\n      <td>[]</td>\n      <td>[]</td>\n      <td>[(100, 3)]</td>\n      <td>[]</td>\n      <td>[(100, 19)]</td>\n      <td>[(100, 7)]</td>\n      <td>[(100, 8)]</td>\n      <td>[(100, 10)]</td>\n      <td>[(100, 11)]</td>\n      <td>[(100, 26)]</td>\n    </tr>\n    <tr>\n      <th>3</th>\n      <td>3</td>\n      <td>after</td>\n      <td>[(14, 13), (17, 36)]</td>\n      <td>[(17, 8)]</td>\n      <td>[(14, 13), (17, 37)]</td>\n      <td>[(14, 11), (17, 33)]</td>\n      <td>[(17, 34)]</td>\n      <td>[(17, 35)]</td>\n      <td>[(14, 2), (17, 31)]</td>\n      <td>[(14, 12), (17, 35)]</td>\n      <td>...</td>\n      <td>[(8, 19)]</td>\n      <td>[(8, 23)]</td>\n      <td>[(100, 3), (103, 130)]</td>\n      <td>[(103, 45)]</td>\n      <td>[(100, 19), (103, 131)]</td>\n      <td>[(100, 7), (103, 45)]</td>\n      <td>[(100, 8), (103, 125)]</td>\n      <td>[(100, 10), (103, 45)]</td>\n      <td>[(100, 11), (103, 44)]</td>\n      <td>[(100, 26), (103, 128)]</td>\n    </tr>\n    <tr>\n      <th>4</th>\n      <td>7</td>\n      <td>before</td>\n      <td>[(17, 35)]</td>\n      <td>[]</td>\n      <td>[(17, 27)]</td>\n      <td>[(17, 17)]</td>\n      <td>[(17, 1)]</td>\n      <td>[(17, 13)]</td>\n      <td>[(17, 8)]</td>\n      <td>[(17, 32)]</td>\n      <td>...</td>\n      <td>[]</td>\n      <td>[]</td>\n      <td>[(103, 26)]</td>\n      <td>[(103, 19)]</td>\n      <td>[(103, 55)]</td>\n      <td>[(103, 16)]</td>\n      <td>[(103, 39)]</td>\n      <td>[(103, 28)]</td>\n      <td>[(103, 19)]</td>\n      <td>[(103, 58)]</td>\n    </tr>\n  </tbody>\n</table>\n<p>5 rows × 157 columns</p>\n</div>"
     },
     "metadata": {},
     "execution_count": 11
    }
   ],
   "source": [
    "inventory.head()"
   ]
  },
  {
   "cell_type": "code",
   "execution_count": 9,
   "metadata": {},
   "outputs": [],
   "source": [
    "inventory_filt = inventory[['day', 'before or after delivery', 'Biologische prei', 'Biologische brocolli', 'Biologische courgette', 'Biologische rode kool', 'Biologische cherry tomaten', 'Biologische Bloemkool', 'Biologische pompoen', 'Biologische kikkererwten', 'Biologische knoflook']]\n",
    "products_filt = products\n",
    "transactions_filt = transactions[transactions['description'].isin(product_names)]"
   ]
  },
  {
   "cell_type": "code",
   "execution_count": 37,
   "metadata": {},
   "outputs": [],
   "source": [
    "def date_converter(row):\n",
    "    #converted_date = datetime.datetime(2018, 1, 1) + datetime.timedelta(row[\"day\"])\n",
    "    return pd.to_datetime(row['day']).dayofyear - 1\n",
    "\n",
    "#inventory_filt[\"DOY\"] = inventory_filt.apply(date_converter, axis = 1)"
   ]
  },
  {
   "cell_type": "code",
   "execution_count": 38,
   "metadata": {},
   "outputs": [
    {
     "output_type": "stream",
     "name": "stderr",
     "text": [
      "<ipython-input-38-c79e6ac0706b>:1: SettingWithCopyWarning: \nA value is trying to be set on a copy of a slice from a DataFrame.\nTry using .loc[row_indexer,col_indexer] = value instead\n\nSee the caveats in the documentation: https://pandas.pydata.org/pandas-docs/stable/user_guide/indexing.html#returning-a-view-versus-a-copy\n  transactions_filt['DOY'] = transactions_filt.apply(date_converter, axis = 1)\n"
     ]
    }
   ],
   "source": [
    "transactions_filt['DOY'] = transactions_filt.apply(date_converter, axis = 1)"
   ]
  },
  {
   "cell_type": "code",
   "execution_count": 41,
   "metadata": {},
   "outputs": [
    {
     "output_type": "execute_result",
     "data": {
      "text/plain": [
       "       day  time  customer  bank acount  category  product_id  description  \\\n",
       "DOY                                                                          \n",
       "0.0      2     2         2            1         2           2            2   \n",
       "1.0      1     1         1            0         1           1            1   \n",
       "2.0      3     3         3            3         3           3            3   \n",
       "3.0      9     9         9            9         9           9            9   \n",
       "4.0      4     4         4            4         4           4            4   \n",
       "...    ...   ...       ...          ...       ...         ...          ...   \n",
       "359.0    4     4         4            4         4           4            4   \n",
       "360.0    4     4         4            4         4           4            4   \n",
       "361.0    2     2         2            1         2           2            2   \n",
       "362.0    2     2         2            2         2           2            2   \n",
       "363.0    2     2         2            2         2           2            2   \n",
       "\n",
       "       size  std_sales_price  purchase_price  bio  basic  \n",
       "DOY                                                       \n",
       "0.0       2                2               2    2      2  \n",
       "1.0       1                1               1    1      1  \n",
       "2.0       3                3               3    3      3  \n",
       "3.0       9                9               9    9      9  \n",
       "4.0       4                4               4    4      4  \n",
       "...     ...              ...             ...  ...    ...  \n",
       "359.0     4                4               4    4      4  \n",
       "360.0     4                4               4    4      4  \n",
       "361.0     2                2               2    2      2  \n",
       "362.0     2                2               2    2      2  \n",
       "363.0     2                2               2    2      2  \n",
       "\n",
       "[336 rows x 12 columns]"
      ],
      "text/html": "<div>\n<style scoped>\n    .dataframe tbody tr th:only-of-type {\n        vertical-align: middle;\n    }\n\n    .dataframe tbody tr th {\n        vertical-align: top;\n    }\n\n    .dataframe thead th {\n        text-align: right;\n    }\n</style>\n<table border=\"1\" class=\"dataframe\">\n  <thead>\n    <tr style=\"text-align: right;\">\n      <th></th>\n      <th>day</th>\n      <th>time</th>\n      <th>customer</th>\n      <th>bank acount</th>\n      <th>category</th>\n      <th>product_id</th>\n      <th>description</th>\n      <th>size</th>\n      <th>std_sales_price</th>\n      <th>purchase_price</th>\n      <th>bio</th>\n      <th>basic</th>\n    </tr>\n    <tr>\n      <th>DOY</th>\n      <th></th>\n      <th></th>\n      <th></th>\n      <th></th>\n      <th></th>\n      <th></th>\n      <th></th>\n      <th></th>\n      <th></th>\n      <th></th>\n      <th></th>\n      <th></th>\n    </tr>\n  </thead>\n  <tbody>\n    <tr>\n      <th>0.0</th>\n      <td>2</td>\n      <td>2</td>\n      <td>2</td>\n      <td>1</td>\n      <td>2</td>\n      <td>2</td>\n      <td>2</td>\n      <td>2</td>\n      <td>2</td>\n      <td>2</td>\n      <td>2</td>\n      <td>2</td>\n    </tr>\n    <tr>\n      <th>1.0</th>\n      <td>1</td>\n      <td>1</td>\n      <td>1</td>\n      <td>0</td>\n      <td>1</td>\n      <td>1</td>\n      <td>1</td>\n      <td>1</td>\n      <td>1</td>\n      <td>1</td>\n      <td>1</td>\n      <td>1</td>\n    </tr>\n    <tr>\n      <th>2.0</th>\n      <td>3</td>\n      <td>3</td>\n      <td>3</td>\n      <td>3</td>\n      <td>3</td>\n      <td>3</td>\n      <td>3</td>\n      <td>3</td>\n      <td>3</td>\n      <td>3</td>\n      <td>3</td>\n      <td>3</td>\n    </tr>\n    <tr>\n      <th>3.0</th>\n      <td>9</td>\n      <td>9</td>\n      <td>9</td>\n      <td>9</td>\n      <td>9</td>\n      <td>9</td>\n      <td>9</td>\n      <td>9</td>\n      <td>9</td>\n      <td>9</td>\n      <td>9</td>\n      <td>9</td>\n    </tr>\n    <tr>\n      <th>4.0</th>\n      <td>4</td>\n      <td>4</td>\n      <td>4</td>\n      <td>4</td>\n      <td>4</td>\n      <td>4</td>\n      <td>4</td>\n      <td>4</td>\n      <td>4</td>\n      <td>4</td>\n      <td>4</td>\n      <td>4</td>\n    </tr>\n    <tr>\n      <th>...</th>\n      <td>...</td>\n      <td>...</td>\n      <td>...</td>\n      <td>...</td>\n      <td>...</td>\n      <td>...</td>\n      <td>...</td>\n      <td>...</td>\n      <td>...</td>\n      <td>...</td>\n      <td>...</td>\n      <td>...</td>\n    </tr>\n    <tr>\n      <th>359.0</th>\n      <td>4</td>\n      <td>4</td>\n      <td>4</td>\n      <td>4</td>\n      <td>4</td>\n      <td>4</td>\n      <td>4</td>\n      <td>4</td>\n      <td>4</td>\n      <td>4</td>\n      <td>4</td>\n      <td>4</td>\n    </tr>\n    <tr>\n      <th>360.0</th>\n      <td>4</td>\n      <td>4</td>\n      <td>4</td>\n      <td>4</td>\n      <td>4</td>\n      <td>4</td>\n      <td>4</td>\n      <td>4</td>\n      <td>4</td>\n      <td>4</td>\n      <td>4</td>\n      <td>4</td>\n    </tr>\n    <tr>\n      <th>361.0</th>\n      <td>2</td>\n      <td>2</td>\n      <td>2</td>\n      <td>1</td>\n      <td>2</td>\n      <td>2</td>\n      <td>2</td>\n      <td>2</td>\n      <td>2</td>\n      <td>2</td>\n      <td>2</td>\n      <td>2</td>\n    </tr>\n    <tr>\n      <th>362.0</th>\n      <td>2</td>\n      <td>2</td>\n      <td>2</td>\n      <td>2</td>\n      <td>2</td>\n      <td>2</td>\n      <td>2</td>\n      <td>2</td>\n      <td>2</td>\n      <td>2</td>\n      <td>2</td>\n      <td>2</td>\n    </tr>\n    <tr>\n      <th>363.0</th>\n      <td>2</td>\n      <td>2</td>\n      <td>2</td>\n      <td>2</td>\n      <td>2</td>\n      <td>2</td>\n      <td>2</td>\n      <td>2</td>\n      <td>2</td>\n      <td>2</td>\n      <td>2</td>\n      <td>2</td>\n    </tr>\n  </tbody>\n</table>\n<p>336 rows × 12 columns</p>\n</div>"
     },
     "metadata": {},
     "execution_count": 41
    }
   ],
   "source": [
    "transactions_filt[transactions_filt['description'] == 'Biologische prei'].groupby('DOY').count()"
   ]
  },
  {
   "cell_type": "code",
   "execution_count": null,
   "metadata": {},
   "outputs": [],
   "source": [
    "#loss by supermarket (don't forget promotion weeks) purchase price/std price in transactions\n",
    "#don't forget to download new data from canvas for purchase price\n",
    "#now apply to whole dataset with for loop over all the products"
   ]
  }
 ]
}