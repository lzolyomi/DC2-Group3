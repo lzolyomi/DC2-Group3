{
 "metadata": {
  "language_info": {
   "codemirror_mode": {
    "name": "ipython",
    "version": 3
   },
   "file_extension": ".py",
   "mimetype": "text/x-python",
   "name": "python",
   "nbconvert_exporter": "python",
   "pygments_lexer": "ipython3",
   "version": "3.8.2-final"
  },
  "orig_nbformat": 2,
  "kernelspec": {
   "name": "python3",
   "display_name": "Python 3.8.2 64-bit",
   "metadata": {
    "interpreter": {
     "hash": "1baa965d5efe3ac65b79dfc60c0d706280b1da80fedb7760faf2759126c4f253"
    }
   }
  }
 },
 "nbformat": 4,
 "nbformat_minor": 2,
 "cells": [
  {
   "cell_type": "code",
   "execution_count": 5,
   "metadata": {},
   "outputs": [],
   "source": [
    "import pandas as pd \n",
    "import demand\n",
    "transactions = pd.read_csv(\"data/transactions.csv\")"
   ]
  },
  {
   "source": [
    "## Looking for complimentary products\n",
    "#### products that are usually sold together with the chosen item"
   ],
   "cell_type": "markdown",
   "metadata": {}
  },
  {
   "cell_type": "code",
   "execution_count": 6,
   "metadata": {
    "tags": []
   },
   "outputs": [],
   "source": [
    "product = \"Biologische brocolli\"\n",
    "\n",
    "customers = transactions[transactions[\"description\"] == product][\"customer\"]\n",
    "customers_basket = {}\n",
    "\n",
    "for customer in customers:\n",
    "    basket = transactions[transactions[\"customer\"] == customer][\"description\"].values\n",
    "    customers_basket[customer] = basket"
   ]
  },
  {
   "cell_type": "code",
   "execution_count": 8,
   "metadata": {
    "tags": []
   },
   "outputs": [
    {
     "output_type": "execute_result",
     "data": {
      "text/plain": [
       "                                  product  frequency\n",
       "16                   Biologische brocolli       1303\n",
       "71               Biologisch volkoren heel        780\n",
       "20                   Basis annanasstukjes        777\n",
       "32   Biologisch Vloerbrood meerzaden heel        690\n",
       "74                  Biologisch bruin heel        654\n",
       "69                    Biologische pompoen        461\n",
       "66                  Biologische courgette        458\n",
       "111            Biologische cherry tomaten        449\n",
       "68                   Biologische knoflook        434\n",
       "114                 Biologische rode kool        429"
      ],
      "text/html": "<div>\n<style scoped>\n    .dataframe tbody tr th:only-of-type {\n        vertical-align: middle;\n    }\n\n    .dataframe tbody tr th {\n        vertical-align: top;\n    }\n\n    .dataframe thead th {\n        text-align: right;\n    }\n</style>\n<table border=\"1\" class=\"dataframe\">\n  <thead>\n    <tr style=\"text-align: right;\">\n      <th></th>\n      <th>product</th>\n      <th>frequency</th>\n    </tr>\n  </thead>\n  <tbody>\n    <tr>\n      <th>16</th>\n      <td>Biologische brocolli</td>\n      <td>1303</td>\n    </tr>\n    <tr>\n      <th>71</th>\n      <td>Biologisch volkoren heel</td>\n      <td>780</td>\n    </tr>\n    <tr>\n      <th>20</th>\n      <td>Basis annanasstukjes</td>\n      <td>777</td>\n    </tr>\n    <tr>\n      <th>32</th>\n      <td>Biologisch Vloerbrood meerzaden heel</td>\n      <td>690</td>\n    </tr>\n    <tr>\n      <th>74</th>\n      <td>Biologisch bruin heel</td>\n      <td>654</td>\n    </tr>\n    <tr>\n      <th>69</th>\n      <td>Biologische pompoen</td>\n      <td>461</td>\n    </tr>\n    <tr>\n      <th>66</th>\n      <td>Biologische courgette</td>\n      <td>458</td>\n    </tr>\n    <tr>\n      <th>111</th>\n      <td>Biologische cherry tomaten</td>\n      <td>449</td>\n    </tr>\n    <tr>\n      <th>68</th>\n      <td>Biologische knoflook</td>\n      <td>434</td>\n    </tr>\n    <tr>\n      <th>114</th>\n      <td>Biologische rode kool</td>\n      <td>429</td>\n    </tr>\n  </tbody>\n</table>\n</div>"
     },
     "metadata": {},
     "execution_count": 8
    }
   ],
   "source": [
    "purchase_frequencies = {}\n",
    "for cust_id in customers_basket.keys():\n",
    "    basket = customers_basket[cust_id]\n",
    "    for item in basket:\n",
    "        if purchase_frequencies.get(item) == None:\n",
    "            purchase_frequencies[item] = 1\n",
    "        else:\n",
    "            purchase_frequencies[item] += 1\n",
    "df_purchases = pd.DataFrame({\"product\":purchase_frequencies.keys(), \"frequency\":purchase_frequencies.values()})\n",
    "df_purchases.sort_values(\"frequency\", inplace=True, ascending=False)\n",
    "df_purchases.head(10)"
   ]
  },
  {
   "source": [
    "## Creating data for one complimentary product"
   ],
   "cell_type": "markdown",
   "metadata": {}
  },
  {
   "cell_type": "code",
   "execution_count": 22,
   "metadata": {},
   "outputs": [
    {
     "output_type": "stream",
     "name": "stderr",
     "text": [
      "<ipython-input-22-65b3afea25e7>:3: SettingWithCopyWarning: \nA value is trying to be set on a copy of a slice from a DataFrame.\nTry using .loc[row_indexer,col_indexer] = value instead\n\nSee the caveats in the documentation: https://pandas.pydata.org/pandas-docs/stable/user_guide/indexing.html#returning-a-view-versus-a-copy\n  compl_transactions[\"day\"] = pd.to_datetime(compl_transactions[\"day\"], dayfirst=True)\n"
     ]
    },
    {
     "output_type": "execute_result",
     "data": {
      "text/plain": [
       "1.0100000000000007"
      ]
     },
     "metadata": {},
     "execution_count": 22
    }
   ],
   "source": [
    "compliment_product = \"Basis annanasstukjes\"\n",
    "compl_transactions = transactions[transactions[\"description\"] == compliment_product]\n",
    "compl_transactions[\"day\"] = pd.to_datetime(compl_transactions[\"day\"], dayfirst=True)\n",
    "grouped = compl_transactions.groupby(\"day\").mean()[\"purchase_price\"]\n",
    "compl_sales = pd.DataFrame({\"sales\":grouped.values, \"day\": grouped.index})\n",
    "compl_sales[\"sales\"].max()"
   ]
  },
  {
   "source": [
    "## Testing the function and predictions"
   ],
   "cell_type": "markdown",
   "metadata": {}
  },
  {
   "cell_type": "code",
   "execution_count": 2,
   "metadata": {},
   "outputs": [
    {
     "output_type": "stream",
     "name": "stderr",
     "text": [
      "c:\\Users\\zolyo\\OneDrive\\Documents\\Quartile 3\\JBG050 Data Challenge 2\\Code\\src\\demand.py:15: SettingWithCopyWarning: \n",
      "A value is trying to be set on a copy of a slice from a DataFrame.\n",
      "Try using .loc[row_indexer,col_indexer] = value instead\n",
      "\n",
      "See the caveats in the documentation: https://pandas.pydata.org/pandas-docs/stable/user_guide/indexing.html#returning-a-view-versus-a-copy\n",
      "  filtered_transactions[\"day\"] = pd.to_datetime(filtered_transactions[\"day\"])\n",
      "c:\\Users\\zolyo\\OneDrive\\Documents\\Quartile 3\\JBG050 Data Challenge 2\\Code\\src\\demand.py:18: SettingWithCopyWarning: \n",
      "A value is trying to be set on a copy of a slice from a DataFrame.\n",
      "Try using .loc[row_indexer,col_indexer] = value instead\n",
      "\n",
      "See the caveats in the documentation: https://pandas.pydata.org/pandas-docs/stable/user_guide/indexing.html#returning-a-view-versus-a-copy\n",
      "  filtered_transactions[\"discount\"] = 100-(\n",
      "compl_product is a string\n",
      "c:\\Users\\zolyo\\OneDrive\\Documents\\Quartile 3\\JBG050 Data Challenge 2\\Code\\src\\demand.py:27: SettingWithCopyWarning: \n",
      "A value is trying to be set on a copy of a slice from a DataFrame.\n",
      "Try using .loc[row_indexer,col_indexer] = value instead\n",
      "\n",
      "See the caveats in the documentation: https://pandas.pydata.org/pandas-docs/stable/user_guide/indexing.html#returning-a-view-versus-a-copy\n",
      "  purchases[\"month\"] = [purchases.index[i][1].month_name() for i in range(purchases.shape[0])]\n",
      "c:\\Users\\zolyo\\OneDrive\\Documents\\Quartile 3\\JBG050 Data Challenge 2\\Code\\src\\demand.py:29: SettingWithCopyWarning: \n",
      "A value is trying to be set on a copy of a slice from a DataFrame.\n",
      "Try using .loc[row_indexer,col_indexer] = value instead\n",
      "\n",
      "See the caveats in the documentation: https://pandas.pydata.org/pandas-docs/stable/user_guide/indexing.html#returning-a-view-versus-a-copy\n",
      "  purchases[\"product\"] = [purchases.index[i][0] for i in range(purchases.shape[0])]\n",
      "c:\\Users\\zolyo\\OneDrive\\Documents\\Quartile 3\\JBG050 Data Challenge 2\\Code\\src\\demand.py:31: SettingWithCopyWarning: \n",
      "A value is trying to be set on a copy of a slice from a DataFrame.\n",
      "Try using .loc[row_indexer,col_indexer] = value instead\n",
      "\n",
      "See the caveats in the documentation: https://pandas.pydata.org/pandas-docs/stable/user_guide/indexing.html#returning-a-view-versus-a-copy\n",
      "  purchases[\"day\"] = [purchases.index[i][1].dayofyear for i in range(purchases.shape[0])]\n",
      "c:\\Users\\zolyo\\OneDrive\\Documents\\Quartile 3\\JBG050 Data Challenge 2\\Code\\src\\demand.py:33: SettingWithCopyWarning: \n",
      "A value is trying to be set on a copy of a slice from a DataFrame.\n",
      "Try using .loc[row_indexer,col_indexer] = value instead\n",
      "\n",
      "See the caveats in the documentation: https://pandas.pydata.org/pandas-docs/stable/user_guide/indexing.html#returning-a-view-versus-a-copy\n",
      "  purchases[\"dayofweek\"] = [purchases.index[i][1].dayofweek for i in range(purchases.shape[0])]\n",
      "C:\\Users\\zolyo\\AppData\\Roaming\\Python\\Python38\\site-packages\\pandas\\core\\series.py:4575: SettingWithCopyWarning: \n",
      "A value is trying to be set on a copy of a slice from a DataFrame\n",
      "\n",
      "See the caveats in the documentation: https://pandas.pydata.org/pandas-docs/stable/user_guide/indexing.html#returning-a-view-versus-a-copy\n",
      "  return super().replace(\n",
      "c:\\Users\\zolyo\\OneDrive\\Documents\\Quartile 3\\JBG050 Data Challenge 2\\Code\\src\\demand.py:35: SettingWithCopyWarning: \n",
      "A value is trying to be set on a copy of a slice from a DataFrame.\n",
      "Try using .loc[row_indexer,col_indexer] = value instead\n",
      "\n",
      "See the caveats in the documentation: https://pandas.pydata.org/pandas-docs/stable/user_guide/indexing.html#returning-a-view-versus-a-copy\n",
      "  purchases[\"purchase_price\"] = pp\n",
      "c:\\Users\\zolyo\\OneDrive\\Documents\\Quartile 3\\JBG050 Data Challenge 2\\Code\\src\\demand.py:36: SettingWithCopyWarning: \n",
      "A value is trying to be set on a copy of a slice from a DataFrame.\n",
      "Try using .loc[row_indexer,col_indexer] = value instead\n",
      "\n",
      "See the caveats in the documentation: https://pandas.pydata.org/pandas-docs/stable/user_guide/indexing.html#returning-a-view-versus-a-copy\n",
      "  purchases[\"std_sales_price\"] = std_p\n",
      "C:\\Users\\zolyo\\AppData\\Roaming\\Python\\Python38\\site-packages\\pandas\\core\\frame.py:4300: SettingWithCopyWarning: \n",
      "A value is trying to be set on a copy of a slice from a DataFrame\n",
      "\n",
      "See the caveats in the documentation: https://pandas.pydata.org/pandas-docs/stable/user_guide/indexing.html#returning-a-view-versus-a-copy\n",
      "  return super().rename(\n",
      "c:\\Users\\zolyo\\OneDrive\\Documents\\Quartile 3\\JBG050 Data Challenge 2\\Code\\src\\demand.py:40: SettingWithCopyWarning: \n",
      "A value is trying to be set on a copy of a slice from a DataFrame.\n",
      "Try using .loc[row_indexer,col_indexer] = value instead\n",
      "\n",
      "See the caveats in the documentation: https://pandas.pydata.org/pandas-docs/stable/user_guide/indexing.html#returning-a-view-versus-a-copy\n",
      "  purchases[\"prev_day_purchases\"] = purchases[\"count\"].shift(1)\n",
      "C:\\Users\\zolyo\\AppData\\Roaming\\Python\\Python38\\site-packages\\pandas\\core\\indexing.py:670: SettingWithCopyWarning: \n",
      "A value is trying to be set on a copy of a slice from a DataFrame\n",
      "\n",
      "See the caveats in the documentation: https://pandas.pydata.org/pandas-docs/stable/user_guide/indexing.html#returning-a-view-versus-a-copy\n",
      "  iloc._setitem_with_indexer(indexer, value)\n",
      "c:\\Users\\zolyo\\OneDrive\\Documents\\Quartile 3\\JBG050 Data Challenge 2\\Code\\src\\demand.py:41: SettingWithCopyWarning: \n",
      "A value is trying to be set on a copy of a slice from a DataFrame\n",
      "\n",
      "See the caveats in the documentation: https://pandas.pydata.org/pandas-docs/stable/user_guide/indexing.html#returning-a-view-versus-a-copy\n",
      "  purchases[\"prev_day_purchases\"].iloc[0] = 0\n",
      "c:\\Users\\zolyo\\OneDrive\\Documents\\Quartile 3\\JBG050 Data Challenge 2\\Code\\src\\demand.py:168: SettingWithCopyWarning: \n",
      "A value is trying to be set on a copy of a slice from a DataFrame.\n",
      "Try using .loc[row_indexer,col_indexer] = value instead\n",
      "\n",
      "See the caveats in the documentation: https://pandas.pydata.org/pandas-docs/stable/user_guide/indexing.html#returning-a-view-versus-a-copy\n",
      "  filt_transactions[\"day\"] = pd.to_datetime(filt_transactions[\"day\"], dayfirst=True)\n"
     ]
    }
   ],
   "source": [
    "product = \"Biologische courgette\"\n",
    "compl_prod = \"Basis annanasstukjes\"\n",
    "filtered_transactions = transactions[transactions[\"description\"] == product]\n",
    "test_prepare = demand.prepare_data(filtered_transactions, complimentary_products=compl_prod, full_transactions=transactions)\n"
   ]
  },
  {
   "cell_type": "code",
   "execution_count": 8,
   "metadata": {},
   "outputs": [
    {
     "output_type": "execute_result",
     "data": {
      "text/plain": [
       "(56, 16)"
      ]
     },
     "metadata": {},
     "execution_count": 8
    }
   ],
   "source": [
    "test_prepare[test_prepare[\"sales\"] < 1]"
   ]
  },
  {
   "cell_type": "code",
   "execution_count": 7,
   "metadata": {},
   "outputs": [
    {
     "output_type": "stream",
     "name": "stderr",
     "text": [
      "c:\\Users\\zolyo\\OneDrive\\Documents\\Quartile 3\\JBG050 Data Challenge 2\\Code\\src\\demand.py:168: SettingWithCopyWarning: \nA value is trying to be set on a copy of a slice from a DataFrame.\nTry using .loc[row_indexer,col_indexer] = value instead\n\nSee the caveats in the documentation: https://pandas.pydata.org/pandas-docs/stable/user_guide/indexing.html#returning-a-view-versus-a-copy\n  filt_transactions[\"day\"] = pd.to_datetime(filt_transactions[\"day\"], dayfirst=True)\n"
     ]
    },
    {
     "output_type": "execute_result",
     "data": {
      "text/plain": [
       "                                  count   discount  std        min        25%  \\\n",
       "description           day                                                       \n",
       "Biologische courgette 2018-01-01    8.0  14.792899  0.0  14.792899  14.792899   \n",
       "                      2018-01-02    2.0   0.000000  0.0   0.000000   0.000000   \n",
       "                      2018-01-03    4.0  30.177515  0.0  30.177515  30.177515   \n",
       "                      2018-01-04    3.0   0.000000  0.0   0.000000   0.000000   \n",
       "                      2018-01-05    3.0   0.000000  0.0   0.000000   0.000000   \n",
       "...                                 ...        ...  ...        ...        ...   \n",
       "                      2018-12-26    4.0   0.000000  0.0   0.000000   0.000000   \n",
       "                      2018-12-27    3.0   0.000000  0.0   0.000000   0.000000   \n",
       "                      2018-12-28    2.0   0.000000  0.0   0.000000   0.000000   \n",
       "                      2018-12-29    3.0   0.000000  0.0   0.000000   0.000000   \n",
       "                      2018-12-30    4.0   0.000000  0.0   0.000000   0.000000   \n",
       "\n",
       "                                        50%        75%        max     month  \\\n",
       "description           day                                                     \n",
       "Biologische courgette 2018-01-01  14.792899  14.792899  14.792899   January   \n",
       "                      2018-01-02   0.000000   0.000000   0.000000   January   \n",
       "                      2018-01-03  30.177515  30.177515  30.177515   January   \n",
       "                      2018-01-04   0.000000   0.000000   0.000000   January   \n",
       "                      2018-01-05   0.000000   0.000000   0.000000   January   \n",
       "...                                     ...        ...        ...       ...   \n",
       "                      2018-12-26   0.000000   0.000000   0.000000  December   \n",
       "                      2018-12-27   0.000000   0.000000   0.000000  December   \n",
       "                      2018-12-28   0.000000   0.000000   0.000000  December   \n",
       "                      2018-12-29   0.000000   0.000000   0.000000  December   \n",
       "                      2018-12-30   0.000000   0.000000   0.000000  December   \n",
       "\n",
       "                                                product  day  dayofweek  \\\n",
       "description           day                                                 \n",
       "Biologische courgette 2018-01-01  Biologische courgette    1     Monday   \n",
       "                      2018-01-02  Biologische courgette    2    Tuesday   \n",
       "                      2018-01-03  Biologische courgette    3  Wednesday   \n",
       "                      2018-01-04  Biologische courgette    4   Thursday   \n",
       "                      2018-01-05  Biologische courgette    5     Friday   \n",
       "...                                                 ...  ...        ...   \n",
       "                      2018-12-26  Biologische courgette  360  Wednesday   \n",
       "                      2018-12-27  Biologische courgette  361   Thursday   \n",
       "                      2018-12-28  Biologische courgette  362     Friday   \n",
       "                      2018-12-29  Biologische courgette  363   Saturday   \n",
       "                      2018-12-30  Biologische courgette  364     Sunday   \n",
       "\n",
       "                                  purchase_price  std_sales_price  \\\n",
       "description           day                                           \n",
       "Biologische courgette 2018-01-01            1.44             1.69   \n",
       "                      2018-01-02            1.69             1.69   \n",
       "                      2018-01-03            1.18             1.69   \n",
       "                      2018-01-04            1.69             1.69   \n",
       "                      2018-01-05            1.69             1.69   \n",
       "...                                          ...              ...   \n",
       "                      2018-12-26            1.69             1.69   \n",
       "                      2018-12-27            1.69             1.69   \n",
       "                      2018-12-28            1.69             1.69   \n",
       "                      2018-12-29            1.69             1.69   \n",
       "                      2018-12-30            1.69             1.69   \n",
       "\n",
       "                                  prev_day_purchases  sales  \n",
       "description           day                                    \n",
       "Biologische courgette 2018-01-01                 0.0   1.01  \n",
       "                      2018-01-02                 8.0   1.01  \n",
       "                      2018-01-03                 2.0   1.01  \n",
       "                      2018-01-04                 4.0   1.01  \n",
       "                      2018-01-05                 3.0   1.01  \n",
       "...                                              ...    ...  \n",
       "                      2018-12-26                 2.0   1.01  \n",
       "                      2018-12-27                 4.0   1.01  \n",
       "                      2018-12-28                 3.0   1.01  \n",
       "                      2018-12-29                 2.0   1.01  \n",
       "                      2018-12-30                 3.0   1.01  \n",
       "\n",
       "[345 rows x 16 columns]"
      ],
      "text/html": "<div>\n<style scoped>\n    .dataframe tbody tr th:only-of-type {\n        vertical-align: middle;\n    }\n\n    .dataframe tbody tr th {\n        vertical-align: top;\n    }\n\n    .dataframe thead th {\n        text-align: right;\n    }\n</style>\n<table border=\"1\" class=\"dataframe\">\n  <thead>\n    <tr style=\"text-align: right;\">\n      <th></th>\n      <th></th>\n      <th>count</th>\n      <th>discount</th>\n      <th>std</th>\n      <th>min</th>\n      <th>25%</th>\n      <th>50%</th>\n      <th>75%</th>\n      <th>max</th>\n      <th>month</th>\n      <th>product</th>\n      <th>day</th>\n      <th>dayofweek</th>\n      <th>purchase_price</th>\n      <th>std_sales_price</th>\n      <th>prev_day_purchases</th>\n      <th>sales</th>\n    </tr>\n    <tr>\n      <th>description</th>\n      <th>day</th>\n      <th></th>\n      <th></th>\n      <th></th>\n      <th></th>\n      <th></th>\n      <th></th>\n      <th></th>\n      <th></th>\n      <th></th>\n      <th></th>\n      <th></th>\n      <th></th>\n      <th></th>\n      <th></th>\n      <th></th>\n      <th></th>\n    </tr>\n  </thead>\n  <tbody>\n    <tr>\n      <th rowspan=\"11\" valign=\"top\">Biologische courgette</th>\n      <th>2018-01-01</th>\n      <td>8.0</td>\n      <td>14.792899</td>\n      <td>0.0</td>\n      <td>14.792899</td>\n      <td>14.792899</td>\n      <td>14.792899</td>\n      <td>14.792899</td>\n      <td>14.792899</td>\n      <td>January</td>\n      <td>Biologische courgette</td>\n      <td>1</td>\n      <td>Monday</td>\n      <td>1.44</td>\n      <td>1.69</td>\n      <td>0.0</td>\n      <td>1.01</td>\n    </tr>\n    <tr>\n      <th>2018-01-02</th>\n      <td>2.0</td>\n      <td>0.000000</td>\n      <td>0.0</td>\n      <td>0.000000</td>\n      <td>0.000000</td>\n      <td>0.000000</td>\n      <td>0.000000</td>\n      <td>0.000000</td>\n      <td>January</td>\n      <td>Biologische courgette</td>\n      <td>2</td>\n      <td>Tuesday</td>\n      <td>1.69</td>\n      <td>1.69</td>\n      <td>8.0</td>\n      <td>1.01</td>\n    </tr>\n    <tr>\n      <th>2018-01-03</th>\n      <td>4.0</td>\n      <td>30.177515</td>\n      <td>0.0</td>\n      <td>30.177515</td>\n      <td>30.177515</td>\n      <td>30.177515</td>\n      <td>30.177515</td>\n      <td>30.177515</td>\n      <td>January</td>\n      <td>Biologische courgette</td>\n      <td>3</td>\n      <td>Wednesday</td>\n      <td>1.18</td>\n      <td>1.69</td>\n      <td>2.0</td>\n      <td>1.01</td>\n    </tr>\n    <tr>\n      <th>2018-01-04</th>\n      <td>3.0</td>\n      <td>0.000000</td>\n      <td>0.0</td>\n      <td>0.000000</td>\n      <td>0.000000</td>\n      <td>0.000000</td>\n      <td>0.000000</td>\n      <td>0.000000</td>\n      <td>January</td>\n      <td>Biologische courgette</td>\n      <td>4</td>\n      <td>Thursday</td>\n      <td>1.69</td>\n      <td>1.69</td>\n      <td>4.0</td>\n      <td>1.01</td>\n    </tr>\n    <tr>\n      <th>2018-01-05</th>\n      <td>3.0</td>\n      <td>0.000000</td>\n      <td>0.0</td>\n      <td>0.000000</td>\n      <td>0.000000</td>\n      <td>0.000000</td>\n      <td>0.000000</td>\n      <td>0.000000</td>\n      <td>January</td>\n      <td>Biologische courgette</td>\n      <td>5</td>\n      <td>Friday</td>\n      <td>1.69</td>\n      <td>1.69</td>\n      <td>3.0</td>\n      <td>1.01</td>\n    </tr>\n    <tr>\n      <th>...</th>\n      <td>...</td>\n      <td>...</td>\n      <td>...</td>\n      <td>...</td>\n      <td>...</td>\n      <td>...</td>\n      <td>...</td>\n      <td>...</td>\n      <td>...</td>\n      <td>...</td>\n      <td>...</td>\n      <td>...</td>\n      <td>...</td>\n      <td>...</td>\n      <td>...</td>\n      <td>...</td>\n    </tr>\n    <tr>\n      <th>2018-12-26</th>\n      <td>4.0</td>\n      <td>0.000000</td>\n      <td>0.0</td>\n      <td>0.000000</td>\n      <td>0.000000</td>\n      <td>0.000000</td>\n      <td>0.000000</td>\n      <td>0.000000</td>\n      <td>December</td>\n      <td>Biologische courgette</td>\n      <td>360</td>\n      <td>Wednesday</td>\n      <td>1.69</td>\n      <td>1.69</td>\n      <td>2.0</td>\n      <td>1.01</td>\n    </tr>\n    <tr>\n      <th>2018-12-27</th>\n      <td>3.0</td>\n      <td>0.000000</td>\n      <td>0.0</td>\n      <td>0.000000</td>\n      <td>0.000000</td>\n      <td>0.000000</td>\n      <td>0.000000</td>\n      <td>0.000000</td>\n      <td>December</td>\n      <td>Biologische courgette</td>\n      <td>361</td>\n      <td>Thursday</td>\n      <td>1.69</td>\n      <td>1.69</td>\n      <td>4.0</td>\n      <td>1.01</td>\n    </tr>\n    <tr>\n      <th>2018-12-28</th>\n      <td>2.0</td>\n      <td>0.000000</td>\n      <td>0.0</td>\n      <td>0.000000</td>\n      <td>0.000000</td>\n      <td>0.000000</td>\n      <td>0.000000</td>\n      <td>0.000000</td>\n      <td>December</td>\n      <td>Biologische courgette</td>\n      <td>362</td>\n      <td>Friday</td>\n      <td>1.69</td>\n      <td>1.69</td>\n      <td>3.0</td>\n      <td>1.01</td>\n    </tr>\n    <tr>\n      <th>2018-12-29</th>\n      <td>3.0</td>\n      <td>0.000000</td>\n      <td>0.0</td>\n      <td>0.000000</td>\n      <td>0.000000</td>\n      <td>0.000000</td>\n      <td>0.000000</td>\n      <td>0.000000</td>\n      <td>December</td>\n      <td>Biologische courgette</td>\n      <td>363</td>\n      <td>Saturday</td>\n      <td>1.69</td>\n      <td>1.69</td>\n      <td>2.0</td>\n      <td>1.01</td>\n    </tr>\n    <tr>\n      <th>2018-12-30</th>\n      <td>4.0</td>\n      <td>0.000000</td>\n      <td>0.0</td>\n      <td>0.000000</td>\n      <td>0.000000</td>\n      <td>0.000000</td>\n      <td>0.000000</td>\n      <td>0.000000</td>\n      <td>December</td>\n      <td>Biologische courgette</td>\n      <td>364</td>\n      <td>Sunday</td>\n      <td>1.69</td>\n      <td>1.69</td>\n      <td>3.0</td>\n      <td>1.01</td>\n    </tr>\n  </tbody>\n</table>\n<p>345 rows × 16 columns</p>\n</div>"
     },
     "metadata": {},
     "execution_count": 7
    }
   ],
   "source": [
    "test_prepare.join(demand.calc_sales(transactions, compl_prod).set_index(\"day\"))"
   ]
  },
  {
   "cell_type": "code",
   "execution_count": 3,
   "metadata": {},
   "outputs": [
    {
     "output_type": "execute_result",
     "data": {
      "text/plain": [
       "                                  count   discount  std        min        25%  \\\n",
       "description           day                                                       \n",
       "Biologische courgette 2018-01-01    8.0  14.792899  0.0  14.792899  14.792899   \n",
       "                      2018-01-02    2.0   0.000000  0.0   0.000000   0.000000   \n",
       "                      2018-01-03    4.0  30.177515  0.0  30.177515  30.177515   \n",
       "                      2018-01-04    3.0   0.000000  0.0   0.000000   0.000000   \n",
       "                      2018-01-05    3.0   0.000000  0.0   0.000000   0.000000   \n",
       "...                                 ...        ...  ...        ...        ...   \n",
       "                      2018-12-26    4.0   0.000000  0.0   0.000000   0.000000   \n",
       "                      2018-12-27    3.0   0.000000  0.0   0.000000   0.000000   \n",
       "                      2018-12-28    2.0   0.000000  0.0   0.000000   0.000000   \n",
       "                      2018-12-29    3.0   0.000000  0.0   0.000000   0.000000   \n",
       "                      2018-12-30    4.0   0.000000  0.0   0.000000   0.000000   \n",
       "\n",
       "                                        50%        75%        max     month  \\\n",
       "description           day                                                     \n",
       "Biologische courgette 2018-01-01  14.792899  14.792899  14.792899   January   \n",
       "                      2018-01-02   0.000000   0.000000   0.000000   January   \n",
       "                      2018-01-03  30.177515  30.177515  30.177515   January   \n",
       "                      2018-01-04   0.000000   0.000000   0.000000   January   \n",
       "                      2018-01-05   0.000000   0.000000   0.000000   January   \n",
       "...                                     ...        ...        ...       ...   \n",
       "                      2018-12-26   0.000000   0.000000   0.000000  December   \n",
       "                      2018-12-27   0.000000   0.000000   0.000000  December   \n",
       "                      2018-12-28   0.000000   0.000000   0.000000  December   \n",
       "                      2018-12-29   0.000000   0.000000   0.000000  December   \n",
       "                      2018-12-30   0.000000   0.000000   0.000000  December   \n",
       "\n",
       "                                                product  day  dayofweek  \\\n",
       "description           day                                                 \n",
       "Biologische courgette 2018-01-01  Biologische courgette    1     Monday   \n",
       "                      2018-01-02  Biologische courgette    2    Tuesday   \n",
       "                      2018-01-03  Biologische courgette    3  Wednesday   \n",
       "                      2018-01-04  Biologische courgette    4   Thursday   \n",
       "                      2018-01-05  Biologische courgette    5     Friday   \n",
       "...                                                 ...  ...        ...   \n",
       "                      2018-12-26  Biologische courgette  360  Wednesday   \n",
       "                      2018-12-27  Biologische courgette  361   Thursday   \n",
       "                      2018-12-28  Biologische courgette  362     Friday   \n",
       "                      2018-12-29  Biologische courgette  363   Saturday   \n",
       "                      2018-12-30  Biologische courgette  364     Sunday   \n",
       "\n",
       "                                  purchase_price  std_sales_price  \\\n",
       "description           day                                           \n",
       "Biologische courgette 2018-01-01            1.44             1.69   \n",
       "                      2018-01-02            1.69             1.69   \n",
       "                      2018-01-03            1.18             1.69   \n",
       "                      2018-01-04            1.69             1.69   \n",
       "                      2018-01-05            1.69             1.69   \n",
       "...                                          ...              ...   \n",
       "                      2018-12-26            1.69             1.69   \n",
       "                      2018-12-27            1.69             1.69   \n",
       "                      2018-12-28            1.69             1.69   \n",
       "                      2018-12-29            1.69             1.69   \n",
       "                      2018-12-30            1.69             1.69   \n",
       "\n",
       "                                  prev_day_purchases  \n",
       "description           day                             \n",
       "Biologische courgette 2018-01-01                 0.0  \n",
       "                      2018-01-02                 8.0  \n",
       "                      2018-01-03                 2.0  \n",
       "                      2018-01-04                 4.0  \n",
       "                      2018-01-05                 3.0  \n",
       "...                                              ...  \n",
       "                      2018-12-26                 2.0  \n",
       "                      2018-12-27                 4.0  \n",
       "                      2018-12-28                 3.0  \n",
       "                      2018-12-29                 2.0  \n",
       "                      2018-12-30                 3.0  \n",
       "\n",
       "[345 rows x 15 columns]"
      ],
      "text/html": "<div>\n<style scoped>\n    .dataframe tbody tr th:only-of-type {\n        vertical-align: middle;\n    }\n\n    .dataframe tbody tr th {\n        vertical-align: top;\n    }\n\n    .dataframe thead th {\n        text-align: right;\n    }\n</style>\n<table border=\"1\" class=\"dataframe\">\n  <thead>\n    <tr style=\"text-align: right;\">\n      <th></th>\n      <th></th>\n      <th>count</th>\n      <th>discount</th>\n      <th>std</th>\n      <th>min</th>\n      <th>25%</th>\n      <th>50%</th>\n      <th>75%</th>\n      <th>max</th>\n      <th>month</th>\n      <th>product</th>\n      <th>day</th>\n      <th>dayofweek</th>\n      <th>purchase_price</th>\n      <th>std_sales_price</th>\n      <th>prev_day_purchases</th>\n    </tr>\n    <tr>\n      <th>description</th>\n      <th>day</th>\n      <th></th>\n      <th></th>\n      <th></th>\n      <th></th>\n      <th></th>\n      <th></th>\n      <th></th>\n      <th></th>\n      <th></th>\n      <th></th>\n      <th></th>\n      <th></th>\n      <th></th>\n      <th></th>\n      <th></th>\n    </tr>\n  </thead>\n  <tbody>\n    <tr>\n      <th rowspan=\"11\" valign=\"top\">Biologische courgette</th>\n      <th>2018-01-01</th>\n      <td>8.0</td>\n      <td>14.792899</td>\n      <td>0.0</td>\n      <td>14.792899</td>\n      <td>14.792899</td>\n      <td>14.792899</td>\n      <td>14.792899</td>\n      <td>14.792899</td>\n      <td>January</td>\n      <td>Biologische courgette</td>\n      <td>1</td>\n      <td>Monday</td>\n      <td>1.44</td>\n      <td>1.69</td>\n      <td>0.0</td>\n    </tr>\n    <tr>\n      <th>2018-01-02</th>\n      <td>2.0</td>\n      <td>0.000000</td>\n      <td>0.0</td>\n      <td>0.000000</td>\n      <td>0.000000</td>\n      <td>0.000000</td>\n      <td>0.000000</td>\n      <td>0.000000</td>\n      <td>January</td>\n      <td>Biologische courgette</td>\n      <td>2</td>\n      <td>Tuesday</td>\n      <td>1.69</td>\n      <td>1.69</td>\n      <td>8.0</td>\n    </tr>\n    <tr>\n      <th>2018-01-03</th>\n      <td>4.0</td>\n      <td>30.177515</td>\n      <td>0.0</td>\n      <td>30.177515</td>\n      <td>30.177515</td>\n      <td>30.177515</td>\n      <td>30.177515</td>\n      <td>30.177515</td>\n      <td>January</td>\n      <td>Biologische courgette</td>\n      <td>3</td>\n      <td>Wednesday</td>\n      <td>1.18</td>\n      <td>1.69</td>\n      <td>2.0</td>\n    </tr>\n    <tr>\n      <th>2018-01-04</th>\n      <td>3.0</td>\n      <td>0.000000</td>\n      <td>0.0</td>\n      <td>0.000000</td>\n      <td>0.000000</td>\n      <td>0.000000</td>\n      <td>0.000000</td>\n      <td>0.000000</td>\n      <td>January</td>\n      <td>Biologische courgette</td>\n      <td>4</td>\n      <td>Thursday</td>\n      <td>1.69</td>\n      <td>1.69</td>\n      <td>4.0</td>\n    </tr>\n    <tr>\n      <th>2018-01-05</th>\n      <td>3.0</td>\n      <td>0.000000</td>\n      <td>0.0</td>\n      <td>0.000000</td>\n      <td>0.000000</td>\n      <td>0.000000</td>\n      <td>0.000000</td>\n      <td>0.000000</td>\n      <td>January</td>\n      <td>Biologische courgette</td>\n      <td>5</td>\n      <td>Friday</td>\n      <td>1.69</td>\n      <td>1.69</td>\n      <td>3.0</td>\n    </tr>\n    <tr>\n      <th>...</th>\n      <td>...</td>\n      <td>...</td>\n      <td>...</td>\n      <td>...</td>\n      <td>...</td>\n      <td>...</td>\n      <td>...</td>\n      <td>...</td>\n      <td>...</td>\n      <td>...</td>\n      <td>...</td>\n      <td>...</td>\n      <td>...</td>\n      <td>...</td>\n      <td>...</td>\n    </tr>\n    <tr>\n      <th>2018-12-26</th>\n      <td>4.0</td>\n      <td>0.000000</td>\n      <td>0.0</td>\n      <td>0.000000</td>\n      <td>0.000000</td>\n      <td>0.000000</td>\n      <td>0.000000</td>\n      <td>0.000000</td>\n      <td>December</td>\n      <td>Biologische courgette</td>\n      <td>360</td>\n      <td>Wednesday</td>\n      <td>1.69</td>\n      <td>1.69</td>\n      <td>2.0</td>\n    </tr>\n    <tr>\n      <th>2018-12-27</th>\n      <td>3.0</td>\n      <td>0.000000</td>\n      <td>0.0</td>\n      <td>0.000000</td>\n      <td>0.000000</td>\n      <td>0.000000</td>\n      <td>0.000000</td>\n      <td>0.000000</td>\n      <td>December</td>\n      <td>Biologische courgette</td>\n      <td>361</td>\n      <td>Thursday</td>\n      <td>1.69</td>\n      <td>1.69</td>\n      <td>4.0</td>\n    </tr>\n    <tr>\n      <th>2018-12-28</th>\n      <td>2.0</td>\n      <td>0.000000</td>\n      <td>0.0</td>\n      <td>0.000000</td>\n      <td>0.000000</td>\n      <td>0.000000</td>\n      <td>0.000000</td>\n      <td>0.000000</td>\n      <td>December</td>\n      <td>Biologische courgette</td>\n      <td>362</td>\n      <td>Friday</td>\n      <td>1.69</td>\n      <td>1.69</td>\n      <td>3.0</td>\n    </tr>\n    <tr>\n      <th>2018-12-29</th>\n      <td>3.0</td>\n      <td>0.000000</td>\n      <td>0.0</td>\n      <td>0.000000</td>\n      <td>0.000000</td>\n      <td>0.000000</td>\n      <td>0.000000</td>\n      <td>0.000000</td>\n      <td>December</td>\n      <td>Biologische courgette</td>\n      <td>363</td>\n      <td>Saturday</td>\n      <td>1.69</td>\n      <td>1.69</td>\n      <td>2.0</td>\n    </tr>\n    <tr>\n      <th>2018-12-30</th>\n      <td>4.0</td>\n      <td>0.000000</td>\n      <td>0.0</td>\n      <td>0.000000</td>\n      <td>0.000000</td>\n      <td>0.000000</td>\n      <td>0.000000</td>\n      <td>0.000000</td>\n      <td>December</td>\n      <td>Biologische courgette</td>\n      <td>364</td>\n      <td>Sunday</td>\n      <td>1.69</td>\n      <td>1.69</td>\n      <td>3.0</td>\n    </tr>\n  </tbody>\n</table>\n<p>345 rows × 15 columns</p>\n</div>"
     },
     "metadata": {},
     "execution_count": 3
    }
   ],
   "source": [
    "test_prepare"
   ]
  },
  {
   "cell_type": "code",
   "execution_count": 28,
   "metadata": {},
   "outputs": [
    {
     "output_type": "execute_result",
     "data": {
      "text/plain": [
       "                                  count   discount  std        min        25%  \\\n",
       "description           day                                                       \n",
       "Biologische courgette 2018-01-01    8.0  14.792899  0.0  14.792899  14.792899   \n",
       "                      2018-01-02    2.0   0.000000  0.0   0.000000   0.000000   \n",
       "                      2018-01-03    4.0  30.177515  0.0  30.177515  30.177515   \n",
       "                      2018-01-04    3.0   0.000000  0.0   0.000000   0.000000   \n",
       "                      2018-01-05    3.0   0.000000  0.0   0.000000   0.000000   \n",
       "...                                 ...        ...  ...        ...        ...   \n",
       "                      2018-12-26    4.0   0.000000  0.0   0.000000   0.000000   \n",
       "                      2018-12-27    3.0   0.000000  0.0   0.000000   0.000000   \n",
       "                      2018-12-28    2.0   0.000000  0.0   0.000000   0.000000   \n",
       "                      2018-12-29    3.0   0.000000  0.0   0.000000   0.000000   \n",
       "                      2018-12-30    4.0   0.000000  0.0   0.000000   0.000000   \n",
       "\n",
       "                                        50%        75%        max     month  \\\n",
       "description           day                                                     \n",
       "Biologische courgette 2018-01-01  14.792899  14.792899  14.792899   January   \n",
       "                      2018-01-02   0.000000   0.000000   0.000000   January   \n",
       "                      2018-01-03  30.177515  30.177515  30.177515   January   \n",
       "                      2018-01-04   0.000000   0.000000   0.000000   January   \n",
       "                      2018-01-05   0.000000   0.000000   0.000000   January   \n",
       "...                                     ...        ...        ...       ...   \n",
       "                      2018-12-26   0.000000   0.000000   0.000000  December   \n",
       "                      2018-12-27   0.000000   0.000000   0.000000  December   \n",
       "                      2018-12-28   0.000000   0.000000   0.000000  December   \n",
       "                      2018-12-29   0.000000   0.000000   0.000000  December   \n",
       "                      2018-12-30   0.000000   0.000000   0.000000  December   \n",
       "\n",
       "                                                product  day  dayofweek  \\\n",
       "description           day                                                 \n",
       "Biologische courgette 2018-01-01  Biologische courgette    1     Monday   \n",
       "                      2018-01-02  Biologische courgette    2    Tuesday   \n",
       "                      2018-01-03  Biologische courgette    3  Wednesday   \n",
       "                      2018-01-04  Biologische courgette    4   Thursday   \n",
       "                      2018-01-05  Biologische courgette    5     Friday   \n",
       "...                                                 ...  ...        ...   \n",
       "                      2018-12-26  Biologische courgette  360  Wednesday   \n",
       "                      2018-12-27  Biologische courgette  361   Thursday   \n",
       "                      2018-12-28  Biologische courgette  362     Friday   \n",
       "                      2018-12-29  Biologische courgette  363   Saturday   \n",
       "                      2018-12-30  Biologische courgette  364     Sunday   \n",
       "\n",
       "                                  purchase_price  std_sales_price  \\\n",
       "description           day                                           \n",
       "Biologische courgette 2018-01-01            1.44             1.69   \n",
       "                      2018-01-02            1.69             1.69   \n",
       "                      2018-01-03            1.18             1.69   \n",
       "                      2018-01-04            1.69             1.69   \n",
       "                      2018-01-05            1.69             1.69   \n",
       "...                                          ...              ...   \n",
       "                      2018-12-26            1.69             1.69   \n",
       "                      2018-12-27            1.69             1.69   \n",
       "                      2018-12-28            1.69             1.69   \n",
       "                      2018-12-29            1.69             1.69   \n",
       "                      2018-12-30            1.69             1.69   \n",
       "\n",
       "                                  prev_day_purchases  sales  \n",
       "description           day                                    \n",
       "Biologische courgette 2018-01-01                 0.0   1.01  \n",
       "                      2018-01-02                 8.0   1.01  \n",
       "                      2018-01-03                 2.0   1.01  \n",
       "                      2018-01-04                 4.0   1.01  \n",
       "                      2018-01-05                 3.0   1.01  \n",
       "...                                              ...    ...  \n",
       "                      2018-12-26                 2.0   1.01  \n",
       "                      2018-12-27                 4.0   1.01  \n",
       "                      2018-12-28                 3.0   1.01  \n",
       "                      2018-12-29                 2.0   1.01  \n",
       "                      2018-12-30                 3.0   1.01  \n",
       "\n",
       "[345 rows x 16 columns]"
      ],
      "text/html": "<div>\n<style scoped>\n    .dataframe tbody tr th:only-of-type {\n        vertical-align: middle;\n    }\n\n    .dataframe tbody tr th {\n        vertical-align: top;\n    }\n\n    .dataframe thead th {\n        text-align: right;\n    }\n</style>\n<table border=\"1\" class=\"dataframe\">\n  <thead>\n    <tr style=\"text-align: right;\">\n      <th></th>\n      <th></th>\n      <th>count</th>\n      <th>discount</th>\n      <th>std</th>\n      <th>min</th>\n      <th>25%</th>\n      <th>50%</th>\n      <th>75%</th>\n      <th>max</th>\n      <th>month</th>\n      <th>product</th>\n      <th>day</th>\n      <th>dayofweek</th>\n      <th>purchase_price</th>\n      <th>std_sales_price</th>\n      <th>prev_day_purchases</th>\n      <th>sales</th>\n    </tr>\n    <tr>\n      <th>description</th>\n      <th>day</th>\n      <th></th>\n      <th></th>\n      <th></th>\n      <th></th>\n      <th></th>\n      <th></th>\n      <th></th>\n      <th></th>\n      <th></th>\n      <th></th>\n      <th></th>\n      <th></th>\n      <th></th>\n      <th></th>\n      <th></th>\n      <th></th>\n    </tr>\n  </thead>\n  <tbody>\n    <tr>\n      <th rowspan=\"11\" valign=\"top\">Biologische courgette</th>\n      <th>2018-01-01</th>\n      <td>8.0</td>\n      <td>14.792899</td>\n      <td>0.0</td>\n      <td>14.792899</td>\n      <td>14.792899</td>\n      <td>14.792899</td>\n      <td>14.792899</td>\n      <td>14.792899</td>\n      <td>January</td>\n      <td>Biologische courgette</td>\n      <td>1</td>\n      <td>Monday</td>\n      <td>1.44</td>\n      <td>1.69</td>\n      <td>0.0</td>\n      <td>1.01</td>\n    </tr>\n    <tr>\n      <th>2018-01-02</th>\n      <td>2.0</td>\n      <td>0.000000</td>\n      <td>0.0</td>\n      <td>0.000000</td>\n      <td>0.000000</td>\n      <td>0.000000</td>\n      <td>0.000000</td>\n      <td>0.000000</td>\n      <td>January</td>\n      <td>Biologische courgette</td>\n      <td>2</td>\n      <td>Tuesday</td>\n      <td>1.69</td>\n      <td>1.69</td>\n      <td>8.0</td>\n      <td>1.01</td>\n    </tr>\n    <tr>\n      <th>2018-01-03</th>\n      <td>4.0</td>\n      <td>30.177515</td>\n      <td>0.0</td>\n      <td>30.177515</td>\n      <td>30.177515</td>\n      <td>30.177515</td>\n      <td>30.177515</td>\n      <td>30.177515</td>\n      <td>January</td>\n      <td>Biologische courgette</td>\n      <td>3</td>\n      <td>Wednesday</td>\n      <td>1.18</td>\n      <td>1.69</td>\n      <td>2.0</td>\n      <td>1.01</td>\n    </tr>\n    <tr>\n      <th>2018-01-04</th>\n      <td>3.0</td>\n      <td>0.000000</td>\n      <td>0.0</td>\n      <td>0.000000</td>\n      <td>0.000000</td>\n      <td>0.000000</td>\n      <td>0.000000</td>\n      <td>0.000000</td>\n      <td>January</td>\n      <td>Biologische courgette</td>\n      <td>4</td>\n      <td>Thursday</td>\n      <td>1.69</td>\n      <td>1.69</td>\n      <td>4.0</td>\n      <td>1.01</td>\n    </tr>\n    <tr>\n      <th>2018-01-05</th>\n      <td>3.0</td>\n      <td>0.000000</td>\n      <td>0.0</td>\n      <td>0.000000</td>\n      <td>0.000000</td>\n      <td>0.000000</td>\n      <td>0.000000</td>\n      <td>0.000000</td>\n      <td>January</td>\n      <td>Biologische courgette</td>\n      <td>5</td>\n      <td>Friday</td>\n      <td>1.69</td>\n      <td>1.69</td>\n      <td>3.0</td>\n      <td>1.01</td>\n    </tr>\n    <tr>\n      <th>...</th>\n      <td>...</td>\n      <td>...</td>\n      <td>...</td>\n      <td>...</td>\n      <td>...</td>\n      <td>...</td>\n      <td>...</td>\n      <td>...</td>\n      <td>...</td>\n      <td>...</td>\n      <td>...</td>\n      <td>...</td>\n      <td>...</td>\n      <td>...</td>\n      <td>...</td>\n      <td>...</td>\n    </tr>\n    <tr>\n      <th>2018-12-26</th>\n      <td>4.0</td>\n      <td>0.000000</td>\n      <td>0.0</td>\n      <td>0.000000</td>\n      <td>0.000000</td>\n      <td>0.000000</td>\n      <td>0.000000</td>\n      <td>0.000000</td>\n      <td>December</td>\n      <td>Biologische courgette</td>\n      <td>360</td>\n      <td>Wednesday</td>\n      <td>1.69</td>\n      <td>1.69</td>\n      <td>2.0</td>\n      <td>1.01</td>\n    </tr>\n    <tr>\n      <th>2018-12-27</th>\n      <td>3.0</td>\n      <td>0.000000</td>\n      <td>0.0</td>\n      <td>0.000000</td>\n      <td>0.000000</td>\n      <td>0.000000</td>\n      <td>0.000000</td>\n      <td>0.000000</td>\n      <td>December</td>\n      <td>Biologische courgette</td>\n      <td>361</td>\n      <td>Thursday</td>\n      <td>1.69</td>\n      <td>1.69</td>\n      <td>4.0</td>\n      <td>1.01</td>\n    </tr>\n    <tr>\n      <th>2018-12-28</th>\n      <td>2.0</td>\n      <td>0.000000</td>\n      <td>0.0</td>\n      <td>0.000000</td>\n      <td>0.000000</td>\n      <td>0.000000</td>\n      <td>0.000000</td>\n      <td>0.000000</td>\n      <td>December</td>\n      <td>Biologische courgette</td>\n      <td>362</td>\n      <td>Friday</td>\n      <td>1.69</td>\n      <td>1.69</td>\n      <td>3.0</td>\n      <td>1.01</td>\n    </tr>\n    <tr>\n      <th>2018-12-29</th>\n      <td>3.0</td>\n      <td>0.000000</td>\n      <td>0.0</td>\n      <td>0.000000</td>\n      <td>0.000000</td>\n      <td>0.000000</td>\n      <td>0.000000</td>\n      <td>0.000000</td>\n      <td>December</td>\n      <td>Biologische courgette</td>\n      <td>363</td>\n      <td>Saturday</td>\n      <td>1.69</td>\n      <td>1.69</td>\n      <td>2.0</td>\n      <td>1.01</td>\n    </tr>\n    <tr>\n      <th>2018-12-30</th>\n      <td>4.0</td>\n      <td>0.000000</td>\n      <td>0.0</td>\n      <td>0.000000</td>\n      <td>0.000000</td>\n      <td>0.000000</td>\n      <td>0.000000</td>\n      <td>0.000000</td>\n      <td>December</td>\n      <td>Biologische courgette</td>\n      <td>364</td>\n      <td>Sunday</td>\n      <td>1.69</td>\n      <td>1.69</td>\n      <td>3.0</td>\n      <td>1.01</td>\n    </tr>\n  </tbody>\n</table>\n<p>345 rows × 16 columns</p>\n</div>"
     },
     "metadata": {},
     "execution_count": 28
    }
   ],
   "source": [
    "test_prepare.join(compl_sales.set_index(\"day\"))"
   ]
  }
 ]
}