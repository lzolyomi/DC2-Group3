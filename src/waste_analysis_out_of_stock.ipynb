{
 "metadata": {
  "language_info": {
   "codemirror_mode": {
    "name": "ipython",
    "version": 3
   },
   "file_extension": ".py",
   "mimetype": "text/x-python",
   "name": "python",
   "nbconvert_exporter": "python",
   "pygments_lexer": "ipython3",
<<<<<<< HEAD
   "version": "3.7.7-final"
=======
   "version": "3.8.2-final"
>>>>>>> 544ff591e8005cfd51a06b53094d5865d8548fed
  },
  "orig_nbformat": 2,
  "kernelspec": {
   "name": "python3",
<<<<<<< HEAD
   "display_name": "Python 3",
   "language": "python"
=======
   "display_name": "Python 3.8.2 64-bit",
   "metadata": {
    "interpreter": {
     "hash": "1baa965d5efe3ac65b79dfc60c0d706280b1da80fedb7760faf2759126c4f253"
    }
   }
>>>>>>> 544ff591e8005cfd51a06b53094d5865d8548fed
  }
 },
 "nbformat": 4,
 "nbformat_minor": 2,
 "cells": [
  {
   "cell_type": "code",
   "execution_count": 1,
   "metadata": {},
   "outputs": [],
   "source": [
    "import pandas as pd\n",
    "import numpy as np \n",
    "import datetime\n",
    "inventory = pd.read_csv(\"data/inventory.csv\")\n",
    "products = pd.read_csv(\"data/products.csv\")\n",
    "promotions = pd.read_csv(\"data/promotions.csv\")\n",
    "transactions = pd.read_csv(\"data/transactions.csv\")\n",
    "\n",
    "#create a reference dataframe\n",
    "dayofyear = list(range(365))\n",
    "date = [datetime.datetime(2018, 1, 1) + datetime.timedelta(day) for day in dayofyear]\n",
    "df_date = pd.DataFrame({\"day\":dayofyear, \"date\":date})\n",
    "\n",
    "import ast\n",
    "for colname in inventory.columns[2:]:\n",
    "    inventory[colname] = [ast.literal_eval(i) for i in inventory[colname]]\n",
    "    #converting inventory rows to list of tuples from string"
   ]
  },
  {
   "cell_type": "code",
   "execution_count": 115,
   "metadata": {},
   "outputs": [
    {
     "output_type": "execute_result",
     "data": {
      "text/plain": [
       "              day      time  customer  bank acount   category product_id  \\\n",
       "201    2018-01-01  12:20:00      14.0   67267391.0  vegetable       v_17   \n",
       "867    2018-01-01  18:41:40      48.0          NaN  vegetable       v_17   \n",
       "1935   2018-02-01  20:30:05     108.0          NaN  vegetable       v_17   \n",
       "3753   2018-05-01  12:52:06     227.0   22598330.0  vegetable       v_17   \n",
       "4446   2018-06-01  11:57:40     269.0          NaN  vegetable       v_17   \n",
       "...           ...       ...       ...          ...        ...        ...   \n",
       "352880 2018-12-28  18:27:00   20585.0          NaN  vegetable       v_17   \n",
       "353165 2018-12-29  11:20:57   20599.0   13185251.0  vegetable       v_17   \n",
       "353393 2018-12-29  13:54:53   20612.0   62257065.0  vegetable       v_17   \n",
       "353903 2018-12-30   9:09:23   20639.0    6301858.0  vegetable       v_17   \n",
       "354731 2018-12-30  19:22:26   20680.0    9697098.0  vegetable       v_17   \n",
       "\n",
       "             description size  std_sales_price  purchase_price  bio  basic  \n",
       "201     Biologische prei  1st             0.85            0.85  1.0    0.0  \n",
       "867     Biologische prei  1st             0.85            0.85  1.0    0.0  \n",
       "1935    Biologische prei  1st             0.85            0.85  1.0    0.0  \n",
       "3753    Biologische prei  1st             0.85            0.85  1.0    0.0  \n",
       "4446    Biologische prei  1st             0.85            0.85  1.0    0.0  \n",
       "...                  ...  ...              ...             ...  ...    ...  \n",
       "352880  Biologische prei  1st             0.85            0.85  1.0    0.0  \n",
       "353165  Biologische prei  1st             0.85            0.85  1.0    0.0  \n",
       "353393  Biologische prei  1st             0.85            0.85  1.0    0.0  \n",
       "353903  Biologische prei  1st             0.85            0.85  1.0    0.0  \n",
       "354731  Biologische prei  1st             0.85            0.85  1.0    0.0  \n",
       "\n",
       "[1270 rows x 12 columns]"
      ],
      "text/html": "<div>\n<style scoped>\n    .dataframe tbody tr th:only-of-type {\n        vertical-align: middle;\n    }\n\n    .dataframe tbody tr th {\n        vertical-align: top;\n    }\n\n    .dataframe thead th {\n        text-align: right;\n    }\n</style>\n<table border=\"1\" class=\"dataframe\">\n  <thead>\n    <tr style=\"text-align: right;\">\n      <th></th>\n      <th>day</th>\n      <th>time</th>\n      <th>customer</th>\n      <th>bank acount</th>\n      <th>category</th>\n      <th>product_id</th>\n      <th>description</th>\n      <th>size</th>\n      <th>std_sales_price</th>\n      <th>purchase_price</th>\n      <th>bio</th>\n      <th>basic</th>\n    </tr>\n  </thead>\n  <tbody>\n    <tr>\n      <th>201</th>\n      <td>2018-01-01</td>\n      <td>12:20:00</td>\n      <td>14.0</td>\n      <td>67267391.0</td>\n      <td>vegetable</td>\n      <td>v_17</td>\n      <td>Biologische prei</td>\n      <td>1st</td>\n      <td>0.85</td>\n      <td>0.85</td>\n      <td>1.0</td>\n      <td>0.0</td>\n    </tr>\n    <tr>\n      <th>867</th>\n      <td>2018-01-01</td>\n      <td>18:41:40</td>\n      <td>48.0</td>\n      <td>NaN</td>\n      <td>vegetable</td>\n      <td>v_17</td>\n      <td>Biologische prei</td>\n      <td>1st</td>\n      <td>0.85</td>\n      <td>0.85</td>\n      <td>1.0</td>\n      <td>0.0</td>\n    </tr>\n    <tr>\n      <th>1935</th>\n      <td>2018-02-01</td>\n      <td>20:30:05</td>\n      <td>108.0</td>\n      <td>NaN</td>\n      <td>vegetable</td>\n      <td>v_17</td>\n      <td>Biologische prei</td>\n      <td>1st</td>\n      <td>0.85</td>\n      <td>0.85</td>\n      <td>1.0</td>\n      <td>0.0</td>\n    </tr>\n    <tr>\n      <th>3753</th>\n      <td>2018-05-01</td>\n      <td>12:52:06</td>\n      <td>227.0</td>\n      <td>22598330.0</td>\n      <td>vegetable</td>\n      <td>v_17</td>\n      <td>Biologische prei</td>\n      <td>1st</td>\n      <td>0.85</td>\n      <td>0.85</td>\n      <td>1.0</td>\n      <td>0.0</td>\n    </tr>\n    <tr>\n      <th>4446</th>\n      <td>2018-06-01</td>\n      <td>11:57:40</td>\n      <td>269.0</td>\n      <td>NaN</td>\n      <td>vegetable</td>\n      <td>v_17</td>\n      <td>Biologische prei</td>\n      <td>1st</td>\n      <td>0.85</td>\n      <td>0.85</td>\n      <td>1.0</td>\n      <td>0.0</td>\n    </tr>\n    <tr>\n      <th>...</th>\n      <td>...</td>\n      <td>...</td>\n      <td>...</td>\n      <td>...</td>\n      <td>...</td>\n      <td>...</td>\n      <td>...</td>\n      <td>...</td>\n      <td>...</td>\n      <td>...</td>\n      <td>...</td>\n      <td>...</td>\n    </tr>\n    <tr>\n      <th>352880</th>\n      <td>2018-12-28</td>\n      <td>18:27:00</td>\n      <td>20585.0</td>\n      <td>NaN</td>\n      <td>vegetable</td>\n      <td>v_17</td>\n      <td>Biologische prei</td>\n      <td>1st</td>\n      <td>0.85</td>\n      <td>0.85</td>\n      <td>1.0</td>\n      <td>0.0</td>\n    </tr>\n    <tr>\n      <th>353165</th>\n      <td>2018-12-29</td>\n      <td>11:20:57</td>\n      <td>20599.0</td>\n      <td>13185251.0</td>\n      <td>vegetable</td>\n      <td>v_17</td>\n      <td>Biologische prei</td>\n      <td>1st</td>\n      <td>0.85</td>\n      <td>0.85</td>\n      <td>1.0</td>\n      <td>0.0</td>\n    </tr>\n    <tr>\n      <th>353393</th>\n      <td>2018-12-29</td>\n      <td>13:54:53</td>\n      <td>20612.0</td>\n      <td>62257065.0</td>\n      <td>vegetable</td>\n      <td>v_17</td>\n      <td>Biologische prei</td>\n      <td>1st</td>\n      <td>0.85</td>\n      <td>0.85</td>\n      <td>1.0</td>\n      <td>0.0</td>\n    </tr>\n    <tr>\n      <th>353903</th>\n      <td>2018-12-30</td>\n      <td>9:09:23</td>\n      <td>20639.0</td>\n      <td>6301858.0</td>\n      <td>vegetable</td>\n      <td>v_17</td>\n      <td>Biologische prei</td>\n      <td>1st</td>\n      <td>0.85</td>\n      <td>0.85</td>\n      <td>1.0</td>\n      <td>0.0</td>\n    </tr>\n    <tr>\n      <th>354731</th>\n      <td>2018-12-30</td>\n      <td>19:22:26</td>\n      <td>20680.0</td>\n      <td>9697098.0</td>\n      <td>vegetable</td>\n      <td>v_17</td>\n      <td>Biologische prei</td>\n      <td>1st</td>\n      <td>0.85</td>\n      <td>0.85</td>\n      <td>1.0</td>\n      <td>0.0</td>\n    </tr>\n  </tbody>\n</table>\n<p>1270 rows × 12 columns</p>\n</div>"
     },
     "metadata": {},
     "execution_count": 115
    }
   ],
   "source": [
    "product = \"Biologische prei\" #select the product to analyze\n",
    "transactions[transactions[\"description\"] == product] #transactions for that product"
   ]
  },
  {
   "cell_type": "code",
<<<<<<< HEAD
   "execution_count": 34,
   "metadata": {},
   "outputs": [
    {
     "output_type": "execute_result",
     "data": {
      "text/plain": [
       "33"
      ]
     },
     "metadata": {},
     "execution_count": 34
    }
   ],
   "source": [
    "slav = inventory[inventory['before or after delivery'] == 'before']['Mini gourmet slavink']\n",
    "len(slav[(slav.astype(str).values == '[]')])"
   ]
  },
  {
   "cell_type": "code",
   "execution_count": 40,
   "metadata": {},
   "outputs": [
    {
     "output_type": "execute_result",
     "data": {
      "text/plain": [
       "     day before or after delivery  \\\n",
       "0      0                   before   \n",
       "2      3                   before   \n",
       "4      7                   before   \n",
       "6     10                   before   \n",
       "8     14                   before   \n",
       "..   ...                      ...   \n",
       "198  346                   before   \n",
       "200  350                   before   \n",
       "202  353                   before   \n",
       "204  357                   before   \n",
       "206  360                   before   \n",
       "\n",
       "                                        Komkommer  \\\n",
       "0                                              []   \n",
       "2                                      [(14, 13)]   \n",
       "4                                      [(17, 35)]   \n",
       "6                            [(17, 13), (21, 36)]   \n",
       "8                            [(21, 24), (24, 36)]   \n",
       "..                                            ...   \n",
       "198             [(350, 29), (353, 36), (357, 36)]   \n",
       "200             [(353, 30), (357, 36), (360, 36)]   \n",
       "202             [(357, 32), (360, 36), (364, 36)]   \n",
       "204  [(357, 10), (360, 36), (364, 36), (367, 36)]   \n",
       "206             [(364, 36), (367, 36), (371, 36)]   \n",
       "\n",
       "                                       Courgette  \\\n",
       "0                                             []   \n",
       "2                                             []   \n",
       "4                                             []   \n",
       "6                                     [(21, 14)]   \n",
       "8                                     [(24, 21)]   \n",
       "..                                           ...   \n",
       "198            [(350, 33), (353, 36), (357, 36)]   \n",
       "200  [(350, 5), (353, 36), (357, 36), (360, 36)]   \n",
       "202            [(357, 32), (360, 36), (364, 36)]   \n",
       "204            [(360, 28), (364, 36), (367, 36)]   \n",
       "206            [(364, 32), (367, 36), (371, 36)]   \n",
       "\n",
       "                            SnoepVegetable tomaat  \\\n",
       "0                                              []   \n",
       "2                                      [(14, 13)]   \n",
       "4                                      [(17, 27)]   \n",
       "6                                      [(21, 37)]   \n",
       "8                            [(21, 15), (24, 37)]   \n",
       "..                                            ...   \n",
       "198             [(350, 31), (353, 37), (357, 37)]   \n",
       "200             [(353, 32), (357, 37), (360, 37)]   \n",
       "202             [(357, 35), (360, 37), (364, 37)]   \n",
       "204  [(357, 15), (360, 37), (364, 37), (367, 37)]   \n",
       "206             [(364, 36), (367, 37), (371, 37)]   \n",
       "\n",
       "                                      Paprika Mix  \\\n",
       "0                                              []   \n",
       "2                                      [(14, 11)]   \n",
       "4                                      [(17, 17)]   \n",
       "6                                              []   \n",
       "8                                              []   \n",
       "..                                            ...   \n",
       "198             [(350, 25), (353, 33), (357, 33)]   \n",
       "200             [(353, 25), (357, 33), (360, 33)]   \n",
       "202             [(357, 30), (360, 33), (364, 33)]   \n",
       "204  [(357, 14), (360, 33), (364, 33), (367, 33)]   \n",
       "206             [(364, 33), (367, 33), (371, 33)]   \n",
       "\n",
       "                                         Paprika Geschrapte worteltjes  \\\n",
       "0                                             []                    []   \n",
       "2                                             []                    []   \n",
       "4                                      [(17, 1)]            [(17, 13)]   \n",
       "6                                     [(21, 11)]            [(21, 23)]   \n",
       "8                                      [(24, 5)]            [(24, 30)]   \n",
       "..                                           ...                   ...   \n",
       "198            [(350, 28), (353, 34), (357, 34)]            [(357, 5)]   \n",
       "200            [(353, 29), (357, 34), (360, 34)]                    []   \n",
       "202            [(357, 31), (360, 34), (364, 34)]            [(364, 3)]   \n",
       "204  [(357, 4), (360, 34), (364, 34), (367, 34)]           [(367, 10)]   \n",
       "206            [(364, 29), (367, 34), (371, 14)]           [(371, 22)]   \n",
       "\n",
       "                              Basis Sperziebonen  \\\n",
       "0                                             []   \n",
       "2                                      [(14, 2)]   \n",
       "4                                      [(17, 8)]   \n",
       "6                                     [(21, 22)]   \n",
       "8                            [(21, 9), (24, 31)]   \n",
       "..                                           ...   \n",
       "198            [(350, 28), (353, 31), (357, 31)]   \n",
       "200  [(350, 5), (353, 31), (357, 31), (360, 31)]   \n",
       "202             [(357, 27), (360, 31), (364, 7)]   \n",
       "204              [(360, 28), (364, 7), (367, 7)]   \n",
       "206              [(364, 7), (367, 7), (371, 31)]   \n",
       "\n",
       "             Basis Rode kool met appel  ... Roomboter chocolade brood  \\\n",
       "0                                   []  ...                        []   \n",
       "2                           [(14, 12)]  ...                        []   \n",
       "4                           [(17, 32)]  ...                        []   \n",
       "6                 [(17, 16), (21, 35)]  ...                        []   \n",
       "8                 [(21, 29), (24, 35)]  ...                        []   \n",
       "..                                 ...  ...                       ...   \n",
       "198             [(353, 28), (357, 35)]  ...               [(348, 12)]   \n",
       "200             [(357, 30), (360, 35)]  ...                [(351, 8)]   \n",
       "202   [(357, 8), (360, 35), (364, 35)]  ...                        []   \n",
       "204  [(360, 12), (364, 35), (367, 35)]  ...                        []   \n",
       "206  [(364, 34), (367, 35), (371, 35)]  ...                [(362, 1)]   \n",
       "\n",
       "    Chinois brioche                             Vanille muffins (vers)  \\\n",
       "0                []                                                 []   \n",
       "2                []                                         [(100, 3)]   \n",
       "4                []                                        [(103, 26)]   \n",
       "6         [(12, 9)]                                        [(107, 73)]   \n",
       "8        [(15, 10)]                                        [(110, 86)]   \n",
       "..              ...                                                ...   \n",
       "198      [(348, 5)]  [(397, 3), (401, 155), (404, 155), (408, 130),...   \n",
       "200     [(351, 10)]  [(401, 41), (404, 155), (408, 130), (411, 130)...   \n",
       "202     [(355, 11)]  [(404, 88), (408, 130), (411, 130), (415, 130)...   \n",
       "204     [(358, 16)]  [(408, 114), (411, 130), (415, 130), (418, 130...   \n",
       "206      [(362, 9)]  [(408, 29), (411, 130), (415, 130), (418, 130)...   \n",
       "\n",
       "                          Basic chocolate chip cookies  \\\n",
       "0                                                   []   \n",
       "2                                                   []   \n",
       "4                                          [(103, 19)]   \n",
       "6                                          [(107, 43)]   \n",
       "8                                [(107, 9), (110, 45)]   \n",
       "..                                                 ...   \n",
       "198  [(380, 34), (383, 45), (387, 45), (390, 45), (...   \n",
       "200  [(383, 44), (387, 45), (390, 45), (394, 45), (...   \n",
       "202  [(387, 45), (390, 45), (394, 45), (397, 45), (...   \n",
       "204  [(387, 7), (390, 45), (394, 45), (397, 45), (4...   \n",
       "206  [(390, 22), (394, 45), (397, 45), (401, 45), (...   \n",
       "\n",
       "                                                  Oreo  \\\n",
       "0                                                   []   \n",
       "2                                          [(100, 19)]   \n",
       "4                                          [(103, 55)]   \n",
       "6                                          [(107, 74)]   \n",
       "8                                         [(110, 101)]   \n",
       "..                                                 ...   \n",
       "198  [(376, 96), (380, 131), (383, 131), (387, 157)...   \n",
       "200  [(380, 101), (383, 131), (387, 157), (390, 157...   \n",
       "202  [(380, 2), (383, 131), (387, 157), (390, 157),...   \n",
       "204  [(383, 43), (387, 157), (390, 157), (394, 131)...   \n",
       "206  [(387, 80), (390, 157), (394, 131), (397, 131)...   \n",
       "\n",
       "                                      Bakkersspeculaas  \\\n",
       "0                                                   []   \n",
       "2                                           [(100, 7)]   \n",
       "4                                          [(103, 16)]   \n",
       "6                                          [(107, 29)]   \n",
       "8                               [(107, 10), (110, 45)]   \n",
       "..                                                 ...   \n",
       "198  [(394, 27), (397, 45), (401, 62), (404, 62), (...   \n",
       "200  [(397, 32), (401, 62), (404, 62), (408, 45), (...   \n",
       "202  [(401, 52), (404, 62), (408, 45), (411, 45), (...   \n",
       "204  [(401, 18), (404, 62), (408, 45), (411, 45), (...   \n",
       "206  [(404, 52), (408, 45), (411, 45), (415, 54), (...   \n",
       "\n",
       "                                            Eierkoeken  \\\n",
       "0                                                   []   \n",
       "2                                           [(100, 8)]   \n",
       "4                                          [(103, 39)]   \n",
       "6                                          [(107, 79)]   \n",
       "8                                         [(110, 116)]   \n",
       "..                                                 ...   \n",
       "198  [(397, 45), (401, 125), (404, 125), (408, 125)...   \n",
       "200  [(401, 75), (404, 125), (408, 125), (411, 125)...   \n",
       "202  [(404, 68), (408, 125), (411, 125), (415, 125)...   \n",
       "204  [(408, 88), (411, 125), (415, 125), (418, 125)...   \n",
       "206  [(411, 115), (415, 125), (418, 125), (422, 125...   \n",
       "\n",
       "                                   Ribbelchips naturel  \\\n",
       "0                                                   []   \n",
       "2                                          [(100, 10)]   \n",
       "4                                          [(103, 28)]   \n",
       "6                                          [(107, 37)]   \n",
       "8                               [(107, 16), (110, 45)]   \n",
       "..                                                 ...   \n",
       "198  [(380, 42), (383, 45), (387, 45), (390, 45), (...   \n",
       "200  [(380, 15), (383, 45), (387, 45), (390, 45), (...   \n",
       "202  [(383, 16), (387, 45), (390, 45), (394, 45), (...   \n",
       "204  [(387, 29), (390, 45), (394, 45), (397, 45), (...   \n",
       "206  [(387, 3), (390, 45), (394, 45), (397, 45), (4...   \n",
       "\n",
       "                                   Ribbelchips paprika  \\\n",
       "0                                                   []   \n",
       "2                                          [(100, 11)]   \n",
       "4                                          [(103, 19)]   \n",
       "6                                                   []   \n",
       "8                                                   []   \n",
       "..                                                 ...   \n",
       "198  [(390, 43), (394, 44), (397, 44), (401, 44), (...   \n",
       "200  [(390, 8), (394, 44), (397, 44), (401, 44), (4...   \n",
       "202  [(394, 10), (397, 44), (401, 44), (404, 44), (...   \n",
       "204  [(397, 30), (401, 44), (404, 44), (408, 44), (...   \n",
       "206  [(401, 33), (404, 44), (408, 44), (411, 44), (...   \n",
       "\n",
       "                                   Doritos sweet chili  \n",
       "0                                                   []  \n",
       "2                                          [(100, 26)]  \n",
       "4                                          [(103, 58)]  \n",
       "6                                          [(107, 73)]  \n",
       "8                                          [(110, 86)]  \n",
       "..                                                 ...  \n",
       "198  [(390, 34), (394, 77), (397, 77), (401, 128), ...  \n",
       "200  [(397, 74), (401, 128), (404, 128), (408, 128)...  \n",
       "202  [(401, 100), (404, 128), (408, 128), (411, 128...  \n",
       "204  [(404, 120), (408, 128), (411, 128), (415, 128...  \n",
       "206  [(404, 35), (408, 128), (411, 128), (415, 128)...  \n",
       "\n",
       "[104 rows x 157 columns]"
      ],
      "text/html": "<div>\n<style scoped>\n    .dataframe tbody tr th:only-of-type {\n        vertical-align: middle;\n    }\n\n    .dataframe tbody tr th {\n        vertical-align: top;\n    }\n\n    .dataframe thead th {\n        text-align: right;\n    }\n</style>\n<table border=\"1\" class=\"dataframe\">\n  <thead>\n    <tr style=\"text-align: right;\">\n      <th></th>\n      <th>day</th>\n      <th>before or after delivery</th>\n      <th>Komkommer</th>\n      <th>Courgette</th>\n      <th>SnoepVegetable tomaat</th>\n      <th>Paprika Mix</th>\n      <th>Paprika</th>\n      <th>Geschrapte worteltjes</th>\n      <th>Basis Sperziebonen</th>\n      <th>Basis Rode kool met appel</th>\n      <th>...</th>\n      <th>Roomboter chocolade brood</th>\n      <th>Chinois brioche</th>\n      <th>Vanille muffins (vers)</th>\n      <th>Basic chocolate chip cookies</th>\n      <th>Oreo</th>\n      <th>Bakkersspeculaas</th>\n      <th>Eierkoeken</th>\n      <th>Ribbelchips naturel</th>\n      <th>Ribbelchips paprika</th>\n      <th>Doritos sweet chili</th>\n    </tr>\n  </thead>\n  <tbody>\n    <tr>\n      <th>0</th>\n      <td>0</td>\n      <td>before</td>\n      <td>[]</td>\n      <td>[]</td>\n      <td>[]</td>\n      <td>[]</td>\n      <td>[]</td>\n      <td>[]</td>\n      <td>[]</td>\n      <td>[]</td>\n      <td>...</td>\n      <td>[]</td>\n      <td>[]</td>\n      <td>[]</td>\n      <td>[]</td>\n      <td>[]</td>\n      <td>[]</td>\n      <td>[]</td>\n      <td>[]</td>\n      <td>[]</td>\n      <td>[]</td>\n    </tr>\n    <tr>\n      <th>2</th>\n      <td>3</td>\n      <td>before</td>\n      <td>[(14, 13)]</td>\n      <td>[]</td>\n      <td>[(14, 13)]</td>\n      <td>[(14, 11)]</td>\n      <td>[]</td>\n      <td>[]</td>\n      <td>[(14, 2)]</td>\n      <td>[(14, 12)]</td>\n      <td>...</td>\n      <td>[]</td>\n      <td>[]</td>\n      <td>[(100, 3)]</td>\n      <td>[]</td>\n      <td>[(100, 19)]</td>\n      <td>[(100, 7)]</td>\n      <td>[(100, 8)]</td>\n      <td>[(100, 10)]</td>\n      <td>[(100, 11)]</td>\n      <td>[(100, 26)]</td>\n    </tr>\n    <tr>\n      <th>4</th>\n      <td>7</td>\n      <td>before</td>\n      <td>[(17, 35)]</td>\n      <td>[]</td>\n      <td>[(17, 27)]</td>\n      <td>[(17, 17)]</td>\n      <td>[(17, 1)]</td>\n      <td>[(17, 13)]</td>\n      <td>[(17, 8)]</td>\n      <td>[(17, 32)]</td>\n      <td>...</td>\n      <td>[]</td>\n      <td>[]</td>\n      <td>[(103, 26)]</td>\n      <td>[(103, 19)]</td>\n      <td>[(103, 55)]</td>\n      <td>[(103, 16)]</td>\n      <td>[(103, 39)]</td>\n      <td>[(103, 28)]</td>\n      <td>[(103, 19)]</td>\n      <td>[(103, 58)]</td>\n    </tr>\n    <tr>\n      <th>6</th>\n      <td>10</td>\n      <td>before</td>\n      <td>[(17, 13), (21, 36)]</td>\n      <td>[(21, 14)]</td>\n      <td>[(21, 37)]</td>\n      <td>[]</td>\n      <td>[(21, 11)]</td>\n      <td>[(21, 23)]</td>\n      <td>[(21, 22)]</td>\n      <td>[(17, 16), (21, 35)]</td>\n      <td>...</td>\n      <td>[]</td>\n      <td>[(12, 9)]</td>\n      <td>[(107, 73)]</td>\n      <td>[(107, 43)]</td>\n      <td>[(107, 74)]</td>\n      <td>[(107, 29)]</td>\n      <td>[(107, 79)]</td>\n      <td>[(107, 37)]</td>\n      <td>[]</td>\n      <td>[(107, 73)]</td>\n    </tr>\n    <tr>\n      <th>8</th>\n      <td>14</td>\n      <td>before</td>\n      <td>[(21, 24), (24, 36)]</td>\n      <td>[(24, 21)]</td>\n      <td>[(21, 15), (24, 37)]</td>\n      <td>[]</td>\n      <td>[(24, 5)]</td>\n      <td>[(24, 30)]</td>\n      <td>[(21, 9), (24, 31)]</td>\n      <td>[(21, 29), (24, 35)]</td>\n      <td>...</td>\n      <td>[]</td>\n      <td>[(15, 10)]</td>\n      <td>[(110, 86)]</td>\n      <td>[(107, 9), (110, 45)]</td>\n      <td>[(110, 101)]</td>\n      <td>[(107, 10), (110, 45)]</td>\n      <td>[(110, 116)]</td>\n      <td>[(107, 16), (110, 45)]</td>\n      <td>[]</td>\n      <td>[(110, 86)]</td>\n    </tr>\n    <tr>\n      <th>...</th>\n      <td>...</td>\n      <td>...</td>\n      <td>...</td>\n      <td>...</td>\n      <td>...</td>\n      <td>...</td>\n      <td>...</td>\n      <td>...</td>\n      <td>...</td>\n      <td>...</td>\n      <td>...</td>\n      <td>...</td>\n      <td>...</td>\n      <td>...</td>\n      <td>...</td>\n      <td>...</td>\n      <td>...</td>\n      <td>...</td>\n      <td>...</td>\n      <td>...</td>\n      <td>...</td>\n    </tr>\n    <tr>\n      <th>198</th>\n      <td>346</td>\n      <td>before</td>\n      <td>[(350, 29), (353, 36), (357, 36)]</td>\n      <td>[(350, 33), (353, 36), (357, 36)]</td>\n      <td>[(350, 31), (353, 37), (357, 37)]</td>\n      <td>[(350, 25), (353, 33), (357, 33)]</td>\n      <td>[(350, 28), (353, 34), (357, 34)]</td>\n      <td>[(357, 5)]</td>\n      <td>[(350, 28), (353, 31), (357, 31)]</td>\n      <td>[(353, 28), (357, 35)]</td>\n      <td>...</td>\n      <td>[(348, 12)]</td>\n      <td>[(348, 5)]</td>\n      <td>[(397, 3), (401, 155), (404, 155), (408, 130),...</td>\n      <td>[(380, 34), (383, 45), (387, 45), (390, 45), (...</td>\n      <td>[(376, 96), (380, 131), (383, 131), (387, 157)...</td>\n      <td>[(394, 27), (397, 45), (401, 62), (404, 62), (...</td>\n      <td>[(397, 45), (401, 125), (404, 125), (408, 125)...</td>\n      <td>[(380, 42), (383, 45), (387, 45), (390, 45), (...</td>\n      <td>[(390, 43), (394, 44), (397, 44), (401, 44), (...</td>\n      <td>[(390, 34), (394, 77), (397, 77), (401, 128), ...</td>\n    </tr>\n    <tr>\n      <th>200</th>\n      <td>350</td>\n      <td>before</td>\n      <td>[(353, 30), (357, 36), (360, 36)]</td>\n      <td>[(350, 5), (353, 36), (357, 36), (360, 36)]</td>\n      <td>[(353, 32), (357, 37), (360, 37)]</td>\n      <td>[(353, 25), (357, 33), (360, 33)]</td>\n      <td>[(353, 29), (357, 34), (360, 34)]</td>\n      <td>[]</td>\n      <td>[(350, 5), (353, 31), (357, 31), (360, 31)]</td>\n      <td>[(357, 30), (360, 35)]</td>\n      <td>...</td>\n      <td>[(351, 8)]</td>\n      <td>[(351, 10)]</td>\n      <td>[(401, 41), (404, 155), (408, 130), (411, 130)...</td>\n      <td>[(383, 44), (387, 45), (390, 45), (394, 45), (...</td>\n      <td>[(380, 101), (383, 131), (387, 157), (390, 157...</td>\n      <td>[(397, 32), (401, 62), (404, 62), (408, 45), (...</td>\n      <td>[(401, 75), (404, 125), (408, 125), (411, 125)...</td>\n      <td>[(380, 15), (383, 45), (387, 45), (390, 45), (...</td>\n      <td>[(390, 8), (394, 44), (397, 44), (401, 44), (4...</td>\n      <td>[(397, 74), (401, 128), (404, 128), (408, 128)...</td>\n    </tr>\n    <tr>\n      <th>202</th>\n      <td>353</td>\n      <td>before</td>\n      <td>[(357, 32), (360, 36), (364, 36)]</td>\n      <td>[(357, 32), (360, 36), (364, 36)]</td>\n      <td>[(357, 35), (360, 37), (364, 37)]</td>\n      <td>[(357, 30), (360, 33), (364, 33)]</td>\n      <td>[(357, 31), (360, 34), (364, 34)]</td>\n      <td>[(364, 3)]</td>\n      <td>[(357, 27), (360, 31), (364, 7)]</td>\n      <td>[(357, 8), (360, 35), (364, 35)]</td>\n      <td>...</td>\n      <td>[]</td>\n      <td>[(355, 11)]</td>\n      <td>[(404, 88), (408, 130), (411, 130), (415, 130)...</td>\n      <td>[(387, 45), (390, 45), (394, 45), (397, 45), (...</td>\n      <td>[(380, 2), (383, 131), (387, 157), (390, 157),...</td>\n      <td>[(401, 52), (404, 62), (408, 45), (411, 45), (...</td>\n      <td>[(404, 68), (408, 125), (411, 125), (415, 125)...</td>\n      <td>[(383, 16), (387, 45), (390, 45), (394, 45), (...</td>\n      <td>[(394, 10), (397, 44), (401, 44), (404, 44), (...</td>\n      <td>[(401, 100), (404, 128), (408, 128), (411, 128...</td>\n    </tr>\n    <tr>\n      <th>204</th>\n      <td>357</td>\n      <td>before</td>\n      <td>[(357, 10), (360, 36), (364, 36), (367, 36)]</td>\n      <td>[(360, 28), (364, 36), (367, 36)]</td>\n      <td>[(357, 15), (360, 37), (364, 37), (367, 37)]</td>\n      <td>[(357, 14), (360, 33), (364, 33), (367, 33)]</td>\n      <td>[(357, 4), (360, 34), (364, 34), (367, 34)]</td>\n      <td>[(367, 10)]</td>\n      <td>[(360, 28), (364, 7), (367, 7)]</td>\n      <td>[(360, 12), (364, 35), (367, 35)]</td>\n      <td>...</td>\n      <td>[]</td>\n      <td>[(358, 16)]</td>\n      <td>[(408, 114), (411, 130), (415, 130), (418, 130...</td>\n      <td>[(387, 7), (390, 45), (394, 45), (397, 45), (4...</td>\n      <td>[(383, 43), (387, 157), (390, 157), (394, 131)...</td>\n      <td>[(401, 18), (404, 62), (408, 45), (411, 45), (...</td>\n      <td>[(408, 88), (411, 125), (415, 125), (418, 125)...</td>\n      <td>[(387, 29), (390, 45), (394, 45), (397, 45), (...</td>\n      <td>[(397, 30), (401, 44), (404, 44), (408, 44), (...</td>\n      <td>[(404, 120), (408, 128), (411, 128), (415, 128...</td>\n    </tr>\n    <tr>\n      <th>206</th>\n      <td>360</td>\n      <td>before</td>\n      <td>[(364, 36), (367, 36), (371, 36)]</td>\n      <td>[(364, 32), (367, 36), (371, 36)]</td>\n      <td>[(364, 36), (367, 37), (371, 37)]</td>\n      <td>[(364, 33), (367, 33), (371, 33)]</td>\n      <td>[(364, 29), (367, 34), (371, 14)]</td>\n      <td>[(371, 22)]</td>\n      <td>[(364, 7), (367, 7), (371, 31)]</td>\n      <td>[(364, 34), (367, 35), (371, 35)]</td>\n      <td>...</td>\n      <td>[(362, 1)]</td>\n      <td>[(362, 9)]</td>\n      <td>[(408, 29), (411, 130), (415, 130), (418, 130)...</td>\n      <td>[(390, 22), (394, 45), (397, 45), (401, 45), (...</td>\n      <td>[(387, 80), (390, 157), (394, 131), (397, 131)...</td>\n      <td>[(404, 52), (408, 45), (411, 45), (415, 54), (...</td>\n      <td>[(411, 115), (415, 125), (418, 125), (422, 125...</td>\n      <td>[(387, 3), (390, 45), (394, 45), (397, 45), (4...</td>\n      <td>[(401, 33), (404, 44), (408, 44), (411, 44), (...</td>\n      <td>[(404, 35), (408, 128), (411, 128), (415, 128)...</td>\n    </tr>\n  </tbody>\n</table>\n<p>104 rows × 157 columns</p>\n</div>"
     },
     "metadata": {},
     "execution_count": 40
    }
   ],
   "source": [
    "inventory[inventory['before or after delivery'] == 'before']"
   ]
  },
  {
   "cell_type": "code",
   "execution_count": 82,
   "metadata": {},
   "outputs": [
    {
     "output_type": "execute_result",
     "data": {
      "text/plain": [
       "                                         product  count_days  \\\n",
       "90                          Mini gourmet slavink          32   \n",
       "144                                 Amandelkrans          30   \n",
       "92                      Zigeuner gehaktschnitzel          28   \n",
       "93                        Veluwse rookworst fijn          26   \n",
       "124                    Zaanse sijnder bruin half          22   \n",
       "102                                   Kipblokjes          22   \n",
       "130                    Bolletje Fries roggebrood          22   \n",
       "109                     meergranen volkoren half          21   \n",
       "107                            Tijger bruin heel          21   \n",
       "140                            Muesli-notenbrood          20   \n",
       "117                     Meergranen volkoren heel          18   \n",
       "78                         Unox Magere rookworst          18   \n",
       "46                                         Mango          17   \n",
       "145                    Roomboter chocolade brood          17   \n",
       "95                                   Spekblokjes          16   \n",
       "118                              Tijger wit half          16   \n",
       "69                       Unox Gelderse rookworst          16   \n",
       "120                         Vloerbrood volkoren           15   \n",
       "115                            Tijger bruin half          15   \n",
       "143                        Krenten rozijnenwegge          15   \n",
       "116                                Volkoren heel          15   \n",
       "122                              Tijger wit heel          14   \n",
       "126                         Steiv spelt gesneden          14   \n",
       "111                             Zaans bruin heel          14   \n",
       "96                         biologische Hamburger          14   \n",
       "104                   Krokante Kipfiletschnitzel          13   \n",
       "129  Atkins laag koolhydraat volkoren brood half          13   \n",
       "66                          Gerookte spekreepjes          13   \n",
       "135                            Basic casino half          13   \n",
       "88                      Gekruide runderchipolata          13   \n",
       "114                                    Mais half          12   \n",
       "85                            gerookt onbijtspek          12   \n",
       "70                           Half om half gehakt          12   \n",
       "51                             Mandarijnen groot          12   \n",
       "133                        Basic meergranen heel          12   \n",
       "136                          Basic volkoren heel          12   \n",
       "128                              Zaans volkoren           11   \n",
       "91                      Mini gourmet varkenshaas          11   \n",
       "65                                  Rundergehakt          11   \n",
       "47                                 Blauwe bessen          11   \n",
       "37                              Chiquita bananen          11   \n",
       "3                                    Paprika Mix          10   \n",
       "72                                     Slavinken          10   \n",
       "127               Krenten- en rozijnenbrood half          10   \n",
       "134                               Basic wit heel          10   \n",
       "131                               Kaneelbroodjes          10   \n",
       "146                              Chinois brioche           9   \n",
       "35                                  Mandarijenen           9   \n",
       "43                                    Conference           9   \n",
       "106                          Zaans volkoren heel           8   \n",
       "\n",
       "                                                  days  \n",
       "90   [3, 7, 17, 21, 24, 28, 35, 80, 84, 87, 105, 10...  \n",
       "144  [28, 38, 59, 63, 66, 70, 73, 77, 80, 84, 87, 9...  \n",
       "92   [84, 94, 98, 101, 105, 108, 115, 119, 133, 136...  \n",
       "93   [49, 52, 56, 161, 164, 168, 171, 175, 178, 185...  \n",
       "124  [3, 7, 115, 119, 122, 126, 129, 133, 196, 199,...  \n",
       "102  [87, 91, 101, 105, 108, 112, 115, 119, 143, 14...  \n",
       "130  [28, 38, 42, 80, 84, 87, 105, 119, 150, 154, 1...  \n",
       "109  [42, 49, 87, 91, 94, 98, 150, 154, 157, 161, 1...  \n",
       "107  [31, 35, 38, 42, 45, 77, 87, 91, 119, 140, 143...  \n",
       "140  [14, 17, 21, 45, 49, 52, 70, 105, 108, 112, 11...  \n",
       "117  [10, 14, 17, 45, 49, 80, 84, 87, 119, 178, 182...  \n",
       "78   [3, 14, 17, 21, 24, 28, 45, 49, 52, 56, 59, 63...  \n",
       "46   [3, 42, 77, 80, 84, 94, 98, 101, 105, 108, 112...  \n",
       "145  [3, 7, 10, 14, 17, 42, 84, 87, 150, 154, 157, ...  \n",
       "95   [14, 17, 21, 28, 77, 105, 119, 122, 126, 147, ...  \n",
       "118  [17, 21, 24, 45, 49, 52, 77, 147, 150, 154, 15...  \n",
       "69   [3, 7, 10, 14, 17, 28, 35, 38, 42, 45, 77, 80,...  \n",
       "120  [3, 7, 10, 70, 73, 80, 84, 91, 112, 199, 203, ...  \n",
       "115  [3, 70, 77, 91, 115, 119, 164, 168, 199, 203, ...  \n",
       "143  [10, 14, 147, 150, 154, 157, 185, 189, 192, 20...  \n",
       "116  [10, 14, 73, 77, 101, 105, 185, 189, 227, 231,...  \n",
       "122  [35, 49, 98, 150, 154, 157, 168, 192, 196, 199...  \n",
       "126  [59, 101, 105, 115, 182, 245, 248, 276, 280, 2...  \n",
       "111  [91, 112, 178, 182, 213, 217, 227, 231, 248, 2...  \n",
       "96   [14, 21, 73, 77, 80, 84, 91, 112, 217, 220, 24...  \n",
       "104  [7, 10, 14, 185, 189, 203, 245, 248, 252, 255,...  \n",
       "129  [10, 14, 56, 59, 63, 143, 147, 269, 273, 315, ...  \n",
       "66   [3, 84, 87, 91, 133, 143, 147, 150, 182, 185, ...  \n",
       "135  [38, 42, 150, 154, 157, 161, 217, 220, 304, 30...  \n",
       "88   [91, 94, 101, 112, 115, 119, 122, 126, 129, 13...  \n",
       "114  [73, 101, 105, 154, 168, 262, 290, 294, 311, 3...  \n",
       "85   [24, 28, 108, 112, 129, 133, 136, 140, 143, 15...  \n",
       "70   [3, 7, 10, 14, 31, 35, 140, 150, 182, 290, 294...  \n",
       "51   [3, 7, 10, 14, 21, 28, 35, 42, 77, 336, 350, 357]  \n",
       "133  [24, 28, 52, 56, 73, 77, 241, 245, 283, 287, 3...  \n",
       "136  [21, 66, 70, 101, 105, 108, 112, 143, 147, 150...  \n",
       "128  [3, 59, 63, 66, 70, 192, 196, 238, 311, 315, 318]  \n",
       "91   [59, 63, 66, 70, 73, 77, 206, 210, 217, 220, 224]  \n",
       "65    [49, 52, 56, 59, 66, 70, 80, 227, 231, 287, 357]  \n",
       "47   [175, 189, 192, 217, 220, 224, 234, 238, 241, ...  \n",
       "37   [7, 84, 94, 98, 101, 105, 108, 112, 115, 119, ...  \n",
       "3     [10, 14, 112, 147, 150, 154, 157, 161, 192, 196]  \n",
       "72      [3, 7, 108, 112, 119, 122, 147, 150, 154, 157]  \n",
       "127   [73, 77, 122, 126, 171, 175, 206, 210, 241, 245]  \n",
       "134       [10, 14, 24, 28, 87, 91, 119, 220, 224, 360]  \n",
       "131       [14, 42, 45, 49, 73, 77, 161, 266, 332, 336]  \n",
       "146                [3, 7, 52, 56, 66, 70, 73, 77, 315]  \n",
       "35                  [3, 7, 10, 14, 17, 21, 24, 28, 31]  \n",
       "43         [3, 287, 297, 301, 304, 308, 311, 318, 322]  \n",
       "106           [119, 122, 126, 136, 140, 252, 255, 350]  "
      ],
      "text/html": "<div>\n<style scoped>\n    .dataframe tbody tr th:only-of-type {\n        vertical-align: middle;\n    }\n\n    .dataframe tbody tr th {\n        vertical-align: top;\n    }\n\n    .dataframe thead th {\n        text-align: right;\n    }\n</style>\n<table border=\"1\" class=\"dataframe\">\n  <thead>\n    <tr style=\"text-align: right;\">\n      <th></th>\n      <th>product</th>\n      <th>count_days</th>\n      <th>days</th>\n    </tr>\n  </thead>\n  <tbody>\n    <tr>\n      <th>90</th>\n      <td>Mini gourmet slavink</td>\n      <td>32</td>\n      <td>[3, 7, 17, 21, 24, 28, 35, 80, 84, 87, 105, 10...</td>\n    </tr>\n    <tr>\n      <th>144</th>\n      <td>Amandelkrans</td>\n      <td>30</td>\n      <td>[28, 38, 59, 63, 66, 70, 73, 77, 80, 84, 87, 9...</td>\n    </tr>\n    <tr>\n      <th>92</th>\n      <td>Zigeuner gehaktschnitzel</td>\n      <td>28</td>\n      <td>[84, 94, 98, 101, 105, 108, 115, 119, 133, 136...</td>\n    </tr>\n    <tr>\n      <th>93</th>\n      <td>Veluwse rookworst fijn</td>\n      <td>26</td>\n      <td>[49, 52, 56, 161, 164, 168, 171, 175, 178, 185...</td>\n    </tr>\n    <tr>\n      <th>124</th>\n      <td>Zaanse sijnder bruin half</td>\n      <td>22</td>\n      <td>[3, 7, 115, 119, 122, 126, 129, 133, 196, 199,...</td>\n    </tr>\n    <tr>\n      <th>102</th>\n      <td>Kipblokjes</td>\n      <td>22</td>\n      <td>[87, 91, 101, 105, 108, 112, 115, 119, 143, 14...</td>\n    </tr>\n    <tr>\n      <th>130</th>\n      <td>Bolletje Fries roggebrood</td>\n      <td>22</td>\n      <td>[28, 38, 42, 80, 84, 87, 105, 119, 150, 154, 1...</td>\n    </tr>\n    <tr>\n      <th>109</th>\n      <td>meergranen volkoren half</td>\n      <td>21</td>\n      <td>[42, 49, 87, 91, 94, 98, 150, 154, 157, 161, 1...</td>\n    </tr>\n    <tr>\n      <th>107</th>\n      <td>Tijger bruin heel</td>\n      <td>21</td>\n      <td>[31, 35, 38, 42, 45, 77, 87, 91, 119, 140, 143...</td>\n    </tr>\n    <tr>\n      <th>140</th>\n      <td>Muesli-notenbrood</td>\n      <td>20</td>\n      <td>[14, 17, 21, 45, 49, 52, 70, 105, 108, 112, 11...</td>\n    </tr>\n    <tr>\n      <th>117</th>\n      <td>Meergranen volkoren heel</td>\n      <td>18</td>\n      <td>[10, 14, 17, 45, 49, 80, 84, 87, 119, 178, 182...</td>\n    </tr>\n    <tr>\n      <th>78</th>\n      <td>Unox Magere rookworst</td>\n      <td>18</td>\n      <td>[3, 14, 17, 21, 24, 28, 45, 49, 52, 56, 59, 63...</td>\n    </tr>\n    <tr>\n      <th>46</th>\n      <td>Mango</td>\n      <td>17</td>\n      <td>[3, 42, 77, 80, 84, 94, 98, 101, 105, 108, 112...</td>\n    </tr>\n    <tr>\n      <th>145</th>\n      <td>Roomboter chocolade brood</td>\n      <td>17</td>\n      <td>[3, 7, 10, 14, 17, 42, 84, 87, 150, 154, 157, ...</td>\n    </tr>\n    <tr>\n      <th>95</th>\n      <td>Spekblokjes</td>\n      <td>16</td>\n      <td>[14, 17, 21, 28, 77, 105, 119, 122, 126, 147, ...</td>\n    </tr>\n    <tr>\n      <th>118</th>\n      <td>Tijger wit half</td>\n      <td>16</td>\n      <td>[17, 21, 24, 45, 49, 52, 77, 147, 150, 154, 15...</td>\n    </tr>\n    <tr>\n      <th>69</th>\n      <td>Unox Gelderse rookworst</td>\n      <td>16</td>\n      <td>[3, 7, 10, 14, 17, 28, 35, 38, 42, 45, 77, 80,...</td>\n    </tr>\n    <tr>\n      <th>120</th>\n      <td>Vloerbrood volkoren</td>\n      <td>15</td>\n      <td>[3, 7, 10, 70, 73, 80, 84, 91, 112, 199, 203, ...</td>\n    </tr>\n    <tr>\n      <th>115</th>\n      <td>Tijger bruin half</td>\n      <td>15</td>\n      <td>[3, 70, 77, 91, 115, 119, 164, 168, 199, 203, ...</td>\n    </tr>\n    <tr>\n      <th>143</th>\n      <td>Krenten rozijnenwegge</td>\n      <td>15</td>\n      <td>[10, 14, 147, 150, 154, 157, 185, 189, 192, 20...</td>\n    </tr>\n    <tr>\n      <th>116</th>\n      <td>Volkoren heel</td>\n      <td>15</td>\n      <td>[10, 14, 73, 77, 101, 105, 185, 189, 227, 231,...</td>\n    </tr>\n    <tr>\n      <th>122</th>\n      <td>Tijger wit heel</td>\n      <td>14</td>\n      <td>[35, 49, 98, 150, 154, 157, 168, 192, 196, 199...</td>\n    </tr>\n    <tr>\n      <th>126</th>\n      <td>Steiv spelt gesneden</td>\n      <td>14</td>\n      <td>[59, 101, 105, 115, 182, 245, 248, 276, 280, 2...</td>\n    </tr>\n    <tr>\n      <th>111</th>\n      <td>Zaans bruin heel</td>\n      <td>14</td>\n      <td>[91, 112, 178, 182, 213, 217, 227, 231, 248, 2...</td>\n    </tr>\n    <tr>\n      <th>96</th>\n      <td>biologische Hamburger</td>\n      <td>14</td>\n      <td>[14, 21, 73, 77, 80, 84, 91, 112, 217, 220, 24...</td>\n    </tr>\n    <tr>\n      <th>104</th>\n      <td>Krokante Kipfiletschnitzel</td>\n      <td>13</td>\n      <td>[7, 10, 14, 185, 189, 203, 245, 248, 252, 255,...</td>\n    </tr>\n    <tr>\n      <th>129</th>\n      <td>Atkins laag koolhydraat volkoren brood half</td>\n      <td>13</td>\n      <td>[10, 14, 56, 59, 63, 143, 147, 269, 273, 315, ...</td>\n    </tr>\n    <tr>\n      <th>66</th>\n      <td>Gerookte spekreepjes</td>\n      <td>13</td>\n      <td>[3, 84, 87, 91, 133, 143, 147, 150, 182, 185, ...</td>\n    </tr>\n    <tr>\n      <th>135</th>\n      <td>Basic casino half</td>\n      <td>13</td>\n      <td>[38, 42, 150, 154, 157, 161, 217, 220, 304, 30...</td>\n    </tr>\n    <tr>\n      <th>88</th>\n      <td>Gekruide runderchipolata</td>\n      <td>13</td>\n      <td>[91, 94, 101, 112, 115, 119, 122, 126, 129, 13...</td>\n    </tr>\n    <tr>\n      <th>114</th>\n      <td>Mais half</td>\n      <td>12</td>\n      <td>[73, 101, 105, 154, 168, 262, 290, 294, 311, 3...</td>\n    </tr>\n    <tr>\n      <th>85</th>\n      <td>gerookt onbijtspek</td>\n      <td>12</td>\n      <td>[24, 28, 108, 112, 129, 133, 136, 140, 143, 15...</td>\n    </tr>\n    <tr>\n      <th>70</th>\n      <td>Half om half gehakt</td>\n      <td>12</td>\n      <td>[3, 7, 10, 14, 31, 35, 140, 150, 182, 290, 294...</td>\n    </tr>\n    <tr>\n      <th>51</th>\n      <td>Mandarijnen groot</td>\n      <td>12</td>\n      <td>[3, 7, 10, 14, 21, 28, 35, 42, 77, 336, 350, 357]</td>\n    </tr>\n    <tr>\n      <th>133</th>\n      <td>Basic meergranen heel</td>\n      <td>12</td>\n      <td>[24, 28, 52, 56, 73, 77, 241, 245, 283, 287, 3...</td>\n    </tr>\n    <tr>\n      <th>136</th>\n      <td>Basic volkoren heel</td>\n      <td>12</td>\n      <td>[21, 66, 70, 101, 105, 108, 112, 143, 147, 150...</td>\n    </tr>\n    <tr>\n      <th>128</th>\n      <td>Zaans volkoren</td>\n      <td>11</td>\n      <td>[3, 59, 63, 66, 70, 192, 196, 238, 311, 315, 318]</td>\n    </tr>\n    <tr>\n      <th>91</th>\n      <td>Mini gourmet varkenshaas</td>\n      <td>11</td>\n      <td>[59, 63, 66, 70, 73, 77, 206, 210, 217, 220, 224]</td>\n    </tr>\n    <tr>\n      <th>65</th>\n      <td>Rundergehakt</td>\n      <td>11</td>\n      <td>[49, 52, 56, 59, 66, 70, 80, 227, 231, 287, 357]</td>\n    </tr>\n    <tr>\n      <th>47</th>\n      <td>Blauwe bessen</td>\n      <td>11</td>\n      <td>[175, 189, 192, 217, 220, 224, 234, 238, 241, ...</td>\n    </tr>\n    <tr>\n      <th>37</th>\n      <td>Chiquita bananen</td>\n      <td>11</td>\n      <td>[7, 84, 94, 98, 101, 105, 108, 112, 115, 119, ...</td>\n    </tr>\n    <tr>\n      <th>3</th>\n      <td>Paprika Mix</td>\n      <td>10</td>\n      <td>[10, 14, 112, 147, 150, 154, 157, 161, 192, 196]</td>\n    </tr>\n    <tr>\n      <th>72</th>\n      <td>Slavinken</td>\n      <td>10</td>\n      <td>[3, 7, 108, 112, 119, 122, 147, 150, 154, 157]</td>\n    </tr>\n    <tr>\n      <th>127</th>\n      <td>Krenten- en rozijnenbrood half</td>\n      <td>10</td>\n      <td>[73, 77, 122, 126, 171, 175, 206, 210, 241, 245]</td>\n    </tr>\n    <tr>\n      <th>134</th>\n      <td>Basic wit heel</td>\n      <td>10</td>\n      <td>[10, 14, 24, 28, 87, 91, 119, 220, 224, 360]</td>\n    </tr>\n    <tr>\n      <th>131</th>\n      <td>Kaneelbroodjes</td>\n      <td>10</td>\n      <td>[14, 42, 45, 49, 73, 77, 161, 266, 332, 336]</td>\n    </tr>\n    <tr>\n      <th>146</th>\n      <td>Chinois brioche</td>\n      <td>9</td>\n      <td>[3, 7, 52, 56, 66, 70, 73, 77, 315]</td>\n    </tr>\n    <tr>\n      <th>35</th>\n      <td>Mandarijenen</td>\n      <td>9</td>\n      <td>[3, 7, 10, 14, 17, 21, 24, 28, 31]</td>\n    </tr>\n    <tr>\n      <th>43</th>\n      <td>Conference</td>\n      <td>9</td>\n      <td>[3, 287, 297, 301, 304, 308, 311, 318, 322]</td>\n    </tr>\n    <tr>\n      <th>106</th>\n      <td>Zaans volkoren heel</td>\n      <td>8</td>\n      <td>[119, 122, 126, 136, 140, 252, 255, 350]</td>\n    </tr>\n  </tbody>\n</table>\n</div>"
     },
     "metadata": {},
     "execution_count": 82
    }
   ],
   "source": [
    "#inventory[inventory.values == []]\n",
    "#filtered_inventory = inventory[(inventory.astype(str) == '[]')]\n",
    "#print(filtered_inventory.shape)\n",
    "#Total number of times that the product had zero inventory\n",
    "filtered_inventory = inventory[inventory['day'] > 0]\n",
    "##print(filtered_inventory.shape)\n",
    "filtered_inventory = filtered_inventory[filtered_inventory['before or after delivery'] == 'before']\n",
    "filtered_inventory = filtered_inventory[filtered_inventory.astype(str) == '[]']\n",
    "#print(filtered_inventory)\n",
    "num_sold_out = pd.DataFrame()\n",
    "num_sold_out['count_days'] = pd.Series(filtered_inventory.astype(str).isin(['[]']).sum(axis=0))\n",
    "#num_sold_out\n",
    "days_with_waste = [[inventory.loc[i, 'day'] for i in filtered_inventory.index if str(filtered_inventory.loc[i, col]) == '[]'] for col in filtered_inventory.columns[2:]]\n",
    "num_sold_out.drop(['day', 'before or after delivery'], inplace=True)\n",
    "num_sold_out.reset_index(inplace=True)\n",
    "num_sold_out.columns = ['product', 'count_days']\n",
    "\n",
    "num_sold_out['days'] = days_with_waste\n",
    "num_sold_out.sort_values(by = 'count_days', ascending = False, inplace = True)\n",
    "\n",
    "num_sold_out.iloc[0:50,]\n",
    "#look at the transactions between periods, do we actually restock these?, specific product drilldown"
   ]
  },
  {
   "cell_type": "code",
   "execution_count": 182,
=======
   "execution_count": 116,
>>>>>>> 544ff591e8005cfd51a06b53094d5865d8548fed
   "metadata": {},
   "outputs": [],
   "source": [
    "def date_converter(row):\n",
    "    converted_date = datetime.datetime(2018, 1, 1) + datetime.timedelta(row[\"day\"])\n",
    "    return converted_date\n",
    "\n",
    "inventory[\"date\"] = inventory.apply(date_converter, axis = 1) #convert day of year to actual timestamp"
   ]
  },
  {
   "cell_type": "code",
   "execution_count": 117,
   "metadata": {},
   "outputs": [],
   "source": [
    "def week_of_year(row):\n",
    "    week_nr = datetime.date(row[\"date\"].year, row[\"date\"].month, row[\"date\"].day).isocalendar()[1]\n",
    "    return week_nr\n",
    "\n",
    "inventory[\"week\"] = inventory.apply(week_of_year, axis = 1)\n",
    "#add nr week of year as an extra column to inventory"
   ]
  },
  {
   "cell_type": "code",
   "execution_count": 118,
   "metadata": {},
   "outputs": [
    {
     "output_type": "stream",
     "name": "stderr",
     "text": [
      "<ipython-input-118-77f34563d40f>:13: SettingWithCopyWarning:\n\n\nA value is trying to be set on a copy of a slice from a DataFrame.\nTry using .loc[row_indexer,col_indexer] = value instead\n\nSee the caveats in the documentation: https://pandas.pydata.org/pandas-docs/stable/user_guide/indexing.html#returning-a-view-versus-a-copy\n\n"
     ]
    }
   ],
   "source": [
    "#only keep relevant columns in inventory\n",
    "filter_inventory = inventory[[\"day\", \"before or after delivery\", \"date\", \"week\", product]]\n",
    "#filters promotion table to only contain discounts for chosen product\n",
    "promotions_filter = promotions[promotions[\"description\"] == product]\n",
    "\n",
    "def check_discount(row):\n",
    "    if row[\"week\"] in promotions_filter[\"week\"].values:\n",
    "        discount_amount = promotions_filter[promotions_filter[\"week\"] == row[\"week\"]][\"discount\"]\n",
    "        return discount_amount.values[0]\n",
    "    else:\n",
    "        return 0\n",
    "#adds extra column to filter inventory containing discount amount\n",
    "filter_inventory[\"discount\"] = filter_inventory.apply(check_discount, axis = 1)\n"
   ]
  },
  {
   "cell_type": "code",
   "execution_count": 119,
   "metadata": {},
   "outputs": [
    {
     "output_type": "stream",
     "name": "stderr",
     "text": [
      "<ipython-input-119-12a88a37912f>:8: SettingWithCopyWarning:\n\n\nA value is trying to be set on a copy of a slice from a DataFrame.\nTry using .loc[row_indexer,col_indexer] = value instead\n\nSee the caveats in the documentation: https://pandas.pydata.org/pandas-docs/stable/user_guide/indexing.html#returning-a-view-versus-a-copy\n\n"
     ]
    }
   ],
   "source": [
    "def total_inv(row):\n",
    "    total = 0\n",
    "    if len(row[product]) > 0:\n",
    "        for batch in row[product]:\n",
    "            total += batch[1]\n",
    "    return total\n",
    "#adds total nr items in inventory for the filtered dataframe\n",
    "filter_inventory[\"total inventory\"] = filter_inventory.apply(total_inv, axis = 1)"
   ]
  },
  {
   "cell_type": "code",
   "execution_count": 120,
   "metadata": {},
   "outputs": [
    {
     "output_type": "execute_result",
     "data": {
      "text/plain": [
       "array([ 14,  17,  21,  24,  28,  31,  35,  38,  42,  45,  49,  52,  56,\n",
       "        59,  63,  66,  70,  73,  77,  80,  84,  87,  91,  94,  98, 101,\n",
       "       105, 108, 112, 115, 119, 122, 126, 129, 133, 136, 140, 143, 147,\n",
       "       150, 154, 157, 161, 164, 168, 171, 175, 178, 182, 185, 189, 192,\n",
       "       196, 199, 203, 206, 210, 213, 217, 220, 224, 227, 231, 234, 238,\n",
       "       241, 245, 248, 252, 255, 259, 262, 266, 269, 273, 276, 280, 283,\n",
       "       287, 290, 294, 297, 301, 304, 308, 311, 315, 318, 322, 325, 329,\n",
       "       332, 336, 339, 343, 346, 350, 353, 357, 360, 364, 367, 371, 374])"
      ]
     },
     "metadata": {},
     "execution_count": 120
    }
   ],
   "source": [
    "best_before = []\n",
    "for element_list in filter_inventory[product]:\n",
    "    for batch in element_list:\n",
    "        best_before.append(batch[0])\n",
    "bb_dates = np.unique(best_before)\n",
    "#list of each unique best before dates\n",
    "bb_dates"
   ]
  },
  {
   "cell_type": "code",
   "execution_count": 121,
   "metadata": {},
   "outputs": [
    {
     "output_type": "execute_result",
     "data": {
      "text/plain": [
       "     best before\n",
       "0             14\n",
       "1             17\n",
       "2             21\n",
       "3             24\n",
       "4             28\n",
       "..           ...\n",
       "99           360\n",
       "100          364\n",
       "101          367\n",
       "102          371\n",
       "103          374\n",
       "\n",
       "[104 rows x 1 columns]"
      ],
      "text/html": "<div>\n<style scoped>\n    .dataframe tbody tr th:only-of-type {\n        vertical-align: middle;\n    }\n\n    .dataframe tbody tr th {\n        vertical-align: top;\n    }\n\n    .dataframe thead th {\n        text-align: right;\n    }\n</style>\n<table border=\"1\" class=\"dataframe\">\n  <thead>\n    <tr style=\"text-align: right;\">\n      <th></th>\n      <th>best before</th>\n    </tr>\n  </thead>\n  <tbody>\n    <tr>\n      <th>0</th>\n      <td>14</td>\n    </tr>\n    <tr>\n      <th>1</th>\n      <td>17</td>\n    </tr>\n    <tr>\n      <th>2</th>\n      <td>21</td>\n    </tr>\n    <tr>\n      <th>3</th>\n      <td>24</td>\n    </tr>\n    <tr>\n      <th>4</th>\n      <td>28</td>\n    </tr>\n    <tr>\n      <th>...</th>\n      <td>...</td>\n    </tr>\n    <tr>\n      <th>99</th>\n      <td>360</td>\n    </tr>\n    <tr>\n      <th>100</th>\n      <td>364</td>\n    </tr>\n    <tr>\n      <th>101</th>\n      <td>367</td>\n    </tr>\n    <tr>\n      <th>102</th>\n      <td>371</td>\n    </tr>\n    <tr>\n      <th>103</th>\n      <td>374</td>\n    </tr>\n  </tbody>\n</table>\n<p>104 rows × 1 columns</p>\n</div>"
     },
     "metadata": {},
     "execution_count": 121
    }
   ],
   "source": [
    "df_waste = pd.DataFrame({\"best before\":bb_dates})\n",
    "df_waste #build initial df with points where waste can occur"
   ]
  },
  {
   "cell_type": "code",
   "execution_count": 122,
   "metadata": {},
   "outputs": [
    {
     "output_type": "execute_result",
     "data": {
      "text/plain": [
       "     best before  amount\n",
       "0             14      26\n",
       "1             17      26\n",
       "2             21      26\n",
       "3             24      26\n",
       "4             28      26\n",
       "..           ...     ...\n",
       "99           360      26\n",
       "100          364      26\n",
       "101          367      26\n",
       "102          371      26\n",
       "103          374      26\n",
       "\n",
       "[104 rows x 2 columns]"
      ],
      "text/html": "<div>\n<style scoped>\n    .dataframe tbody tr th:only-of-type {\n        vertical-align: middle;\n    }\n\n    .dataframe tbody tr th {\n        vertical-align: top;\n    }\n\n    .dataframe thead th {\n        text-align: right;\n    }\n</style>\n<table border=\"1\" class=\"dataframe\">\n  <thead>\n    <tr style=\"text-align: right;\">\n      <th></th>\n      <th>best before</th>\n      <th>amount</th>\n    </tr>\n  </thead>\n  <tbody>\n    <tr>\n      <th>0</th>\n      <td>14</td>\n      <td>26</td>\n    </tr>\n    <tr>\n      <th>1</th>\n      <td>17</td>\n      <td>26</td>\n    </tr>\n    <tr>\n      <th>2</th>\n      <td>21</td>\n      <td>26</td>\n    </tr>\n    <tr>\n      <th>3</th>\n      <td>24</td>\n      <td>26</td>\n    </tr>\n    <tr>\n      <th>4</th>\n      <td>28</td>\n      <td>26</td>\n    </tr>\n    <tr>\n      <th>...</th>\n      <td>...</td>\n      <td>...</td>\n    </tr>\n    <tr>\n      <th>99</th>\n      <td>360</td>\n      <td>26</td>\n    </tr>\n    <tr>\n      <th>100</th>\n      <td>364</td>\n      <td>26</td>\n    </tr>\n    <tr>\n      <th>101</th>\n      <td>367</td>\n      <td>26</td>\n    </tr>\n    <tr>\n      <th>102</th>\n      <td>371</td>\n      <td>26</td>\n    </tr>\n    <tr>\n      <th>103</th>\n      <td>374</td>\n      <td>26</td>\n    </tr>\n  </tbody>\n</table>\n<p>104 rows × 2 columns</p>\n</div>"
     },
     "metadata": {},
     "execution_count": 122
    }
   ],
   "source": [
    "def input_inv(row):\n",
    "    for element_list in filter_inventory[product]:\n",
    "        if len(element_list) > 0:\n",
    "            for batch in element_list:\n",
    "                if batch[0] == row[\"best before\"]:\n",
    "                    return batch[1]\n",
    "\n",
    "df_waste[\"amount\"] = df_waste.apply(input_inv, axis = 1)\n",
    "df_waste #amount that was received with particular expiry date"
   ]
  },
  {
   "cell_type": "code",
   "execution_count": 123,
   "metadata": {},
   "outputs": [
    {
     "output_type": "execute_result",
     "data": {
      "text/plain": [
       "     best before  amount\n",
       "0             14      26\n",
       "1             17      26\n",
       "2             21      26\n",
       "3             24      26\n",
       "4             28      26\n",
       "..           ...     ...\n",
       "96           350      26\n",
       "97           353      26\n",
       "98           357      26\n",
       "99           360      26\n",
       "100          364      26\n",
       "\n",
       "[101 rows x 2 columns]"
      ],
      "text/html": "<div>\n<style scoped>\n    .dataframe tbody tr th:only-of-type {\n        vertical-align: middle;\n    }\n\n    .dataframe tbody tr th {\n        vertical-align: top;\n    }\n\n    .dataframe thead th {\n        text-align: right;\n    }\n</style>\n<table border=\"1\" class=\"dataframe\">\n  <thead>\n    <tr style=\"text-align: right;\">\n      <th></th>\n      <th>best before</th>\n      <th>amount</th>\n    </tr>\n  </thead>\n  <tbody>\n    <tr>\n      <th>0</th>\n      <td>14</td>\n      <td>26</td>\n    </tr>\n    <tr>\n      <th>1</th>\n      <td>17</td>\n      <td>26</td>\n    </tr>\n    <tr>\n      <th>2</th>\n      <td>21</td>\n      <td>26</td>\n    </tr>\n    <tr>\n      <th>3</th>\n      <td>24</td>\n      <td>26</td>\n    </tr>\n    <tr>\n      <th>4</th>\n      <td>28</td>\n      <td>26</td>\n    </tr>\n    <tr>\n      <th>...</th>\n      <td>...</td>\n      <td>...</td>\n    </tr>\n    <tr>\n      <th>96</th>\n      <td>350</td>\n      <td>26</td>\n    </tr>\n    <tr>\n      <th>97</th>\n      <td>353</td>\n      <td>26</td>\n    </tr>\n    <tr>\n      <th>98</th>\n      <td>357</td>\n      <td>26</td>\n    </tr>\n    <tr>\n      <th>99</th>\n      <td>360</td>\n      <td>26</td>\n    </tr>\n    <tr>\n      <th>100</th>\n      <td>364</td>\n      <td>26</td>\n    </tr>\n  </tbody>\n</table>\n<p>101 rows × 2 columns</p>\n</div>"
     },
     "metadata": {},
     "execution_count": 123
    }
   ],
   "source": [
    "df_waste = df_waste[df_waste[\"best before\"] < 365] #only keep rows where expiry date is in same year\n",
    "df_waste"
   ]
  },
  {
   "cell_type": "code",
   "execution_count": 124,
   "metadata": {},
   "outputs": [
    {
     "output_type": "execute_result",
     "data": {
      "text/plain": [
       "             day      time  customer  bank acount   category product_id  \\\n",
       "201   2018-01-01  12:20:00      14.0   67267391.0  vegetable       v_17   \n",
       "867   2018-01-01  18:41:40      48.0          NaN  vegetable       v_17   \n",
       "28992 2018-01-02  11:53:17    1708.0          NaN  vegetable       v_17   \n",
       "56097 2018-01-03  11:30:50    3333.0   73458689.0  vegetable       v_17   \n",
       "56293 2018-01-03  14:02:46    3348.0   33780213.0  vegetable       v_17   \n",
       "56629 2018-01-03  18:38:07    3371.0   33780213.0  vegetable       v_17   \n",
       "\n",
       "            description size  std_sales_price  purchase_price  bio  basic  \n",
       "201    Biologische prei  1st             0.85            0.85  1.0    0.0  \n",
       "867    Biologische prei  1st             0.85            0.85  1.0    0.0  \n",
       "28992  Biologische prei  1st             0.85            0.85  1.0    0.0  \n",
       "56097  Biologische prei  1st             0.85            0.85  1.0    0.0  \n",
       "56293  Biologische prei  1st             0.85            0.85  1.0    0.0  \n",
       "56629  Biologische prei  1st             0.85            0.85  1.0    0.0  "
      ],
      "text/html": "<div>\n<style scoped>\n    .dataframe tbody tr th:only-of-type {\n        vertical-align: middle;\n    }\n\n    .dataframe tbody tr th {\n        vertical-align: top;\n    }\n\n    .dataframe thead th {\n        text-align: right;\n    }\n</style>\n<table border=\"1\" class=\"dataframe\">\n  <thead>\n    <tr style=\"text-align: right;\">\n      <th></th>\n      <th>day</th>\n      <th>time</th>\n      <th>customer</th>\n      <th>bank acount</th>\n      <th>category</th>\n      <th>product_id</th>\n      <th>description</th>\n      <th>size</th>\n      <th>std_sales_price</th>\n      <th>purchase_price</th>\n      <th>bio</th>\n      <th>basic</th>\n    </tr>\n  </thead>\n  <tbody>\n    <tr>\n      <th>201</th>\n      <td>2018-01-01</td>\n      <td>12:20:00</td>\n      <td>14.0</td>\n      <td>67267391.0</td>\n      <td>vegetable</td>\n      <td>v_17</td>\n      <td>Biologische prei</td>\n      <td>1st</td>\n      <td>0.85</td>\n      <td>0.85</td>\n      <td>1.0</td>\n      <td>0.0</td>\n    </tr>\n    <tr>\n      <th>867</th>\n      <td>2018-01-01</td>\n      <td>18:41:40</td>\n      <td>48.0</td>\n      <td>NaN</td>\n      <td>vegetable</td>\n      <td>v_17</td>\n      <td>Biologische prei</td>\n      <td>1st</td>\n      <td>0.85</td>\n      <td>0.85</td>\n      <td>1.0</td>\n      <td>0.0</td>\n    </tr>\n    <tr>\n      <th>28992</th>\n      <td>2018-01-02</td>\n      <td>11:53:17</td>\n      <td>1708.0</td>\n      <td>NaN</td>\n      <td>vegetable</td>\n      <td>v_17</td>\n      <td>Biologische prei</td>\n      <td>1st</td>\n      <td>0.85</td>\n      <td>0.85</td>\n      <td>1.0</td>\n      <td>0.0</td>\n    </tr>\n    <tr>\n      <th>56097</th>\n      <td>2018-01-03</td>\n      <td>11:30:50</td>\n      <td>3333.0</td>\n      <td>73458689.0</td>\n      <td>vegetable</td>\n      <td>v_17</td>\n      <td>Biologische prei</td>\n      <td>1st</td>\n      <td>0.85</td>\n      <td>0.85</td>\n      <td>1.0</td>\n      <td>0.0</td>\n    </tr>\n    <tr>\n      <th>56293</th>\n      <td>2018-01-03</td>\n      <td>14:02:46</td>\n      <td>3348.0</td>\n      <td>33780213.0</td>\n      <td>vegetable</td>\n      <td>v_17</td>\n      <td>Biologische prei</td>\n      <td>1st</td>\n      <td>0.85</td>\n      <td>0.85</td>\n      <td>1.0</td>\n      <td>0.0</td>\n    </tr>\n    <tr>\n      <th>56629</th>\n      <td>2018-01-03</td>\n      <td>18:38:07</td>\n      <td>3371.0</td>\n      <td>33780213.0</td>\n      <td>vegetable</td>\n      <td>v_17</td>\n      <td>Biologische prei</td>\n      <td>1st</td>\n      <td>0.85</td>\n      <td>0.85</td>\n      <td>1.0</td>\n      <td>0.0</td>\n    </tr>\n  </tbody>\n</table>\n</div>"
     },
     "metadata": {},
     "execution_count": 124
    }
   ],
   "source": [
    "transactions[\"day\"] = pd.to_datetime(transactions[\"day\"])\n",
    "filter_transactions = transactions[transactions[\"description\"] == product]\n",
    "#converts date then filters transactions to contain selected product purchases\n",
    "\n",
    "first_restock = df_date[df_date[\"day\"] == 3][\"date\"].values[0]\n",
    "#first_restock check purchases mde before the first restock\n",
    "filter_transactions[filter_transactions[\"day\"] < first_restock]\n",
    "#PROBLEM: IF A PRODUCT HASN'T BEEN BOUGHT IN ONE DAY IT HAS A ZERO, CAUSES AN ERROR FEW CELLS "
   ]
  },
  {
   "cell_type": "code",
   "execution_count": 125,
   "metadata": {},
   "outputs": [
    {
     "output_type": "execute_result",
     "data": {
      "text/plain": [
       "day\n",
       "0.142857     2\n",
       "0.285714     1\n",
       "0.428571     3\n",
       "0.571429     9\n",
       "0.714286     4\n",
       "            ..\n",
       "51.428571    4\n",
       "51.571429    4\n",
       "51.714286    2\n",
       "51.857143    2\n",
       "52.000000    2\n",
       "Name: product_id, Length: 336, dtype: int64"
      ]
     },
     "metadata": {},
     "execution_count": 125
    }
   ],
   "source": [
    "#cumulative sum of purchases from that product\n",
    "purchases_per_day = filter_transactions.groupby(\"day\").count()[\"product_id\"].cumsum()\n",
    "#purchases made per day from that product\n",
    "purchases_per_day_plotting = filter_transactions.groupby(\"day\").count()[\"product_id\"]\n",
    "#idk know what is this\n",
    "purchases_per_day_plotting.index = purchases_per_day_plotting.index.dayofyear/7\n",
    "purchases_per_day_plotting"
   ]
  },
  {
   "cell_type": "code",
   "execution_count": 126,
   "metadata": {},
   "outputs": [],
   "source": [
    "purchases_per_day.index[0].year\n",
    "weeknr = []\n",
    "for ind in purchases_per_day.index:\n",
    "    week = datetime.date(ind.year, ind.month, ind.day).isocalendar()[1]\n",
    "    weeknr.append(week)\n",
    "#week number for each purchase day\n"
   ]
  },
  {
   "cell_type": "code",
   "execution_count": 127,
   "metadata": {},
   "outputs": [
    {
     "output_type": "stream",
     "name": "stderr",
     "text": [
      "C:\\Users\\zolyo\\AppData\\Roaming\\Python\\Python38\\site-packages\\pandas\\core\\frame.py:4167: SettingWithCopyWarning:\n\n\nA value is trying to be set on a copy of a slice from a DataFrame\n\nSee the caveats in the documentation: https://pandas.pydata.org/pandas-docs/stable/user_guide/indexing.html#returning-a-view-versus-a-copy\n\n"
     ]
    },
    {
     "output_type": "execute_result",
     "data": {
      "text/plain": [
       "    best before  amount\n",
       "0            14      26\n",
       "1            17      26\n",
       "2            21      26\n",
       "3            24      26\n",
       "4            28      26\n",
       "..          ...     ...\n",
       "87          318      26\n",
       "88          322      26\n",
       "89          325      26\n",
       "90          329      26\n",
       "91          332      26\n",
       "\n",
       "[92 rows x 2 columns]"
      ],
      "text/html": "<div>\n<style scoped>\n    .dataframe tbody tr th:only-of-type {\n        vertical-align: middle;\n    }\n\n    .dataframe tbody tr th {\n        vertical-align: top;\n    }\n\n    .dataframe thead th {\n        text-align: right;\n    }\n</style>\n<table border=\"1\" class=\"dataframe\">\n  <thead>\n    <tr style=\"text-align: right;\">\n      <th></th>\n      <th>best before</th>\n      <th>amount</th>\n    </tr>\n  </thead>\n  <tbody>\n    <tr>\n      <th>0</th>\n      <td>14</td>\n      <td>26</td>\n    </tr>\n    <tr>\n      <th>1</th>\n      <td>17</td>\n      <td>26</td>\n    </tr>\n    <tr>\n      <th>2</th>\n      <td>21</td>\n      <td>26</td>\n    </tr>\n    <tr>\n      <th>3</th>\n      <td>24</td>\n      <td>26</td>\n    </tr>\n    <tr>\n      <th>4</th>\n      <td>28</td>\n      <td>26</td>\n    </tr>\n    <tr>\n      <th>...</th>\n      <td>...</td>\n      <td>...</td>\n    </tr>\n    <tr>\n      <th>87</th>\n      <td>318</td>\n      <td>26</td>\n    </tr>\n    <tr>\n      <th>88</th>\n      <td>322</td>\n      <td>26</td>\n    </tr>\n    <tr>\n      <th>89</th>\n      <td>325</td>\n      <td>26</td>\n    </tr>\n    <tr>\n      <th>90</th>\n      <td>329</td>\n      <td>26</td>\n    </tr>\n    <tr>\n      <th>91</th>\n      <td>332</td>\n      <td>26</td>\n    </tr>\n  </tbody>\n</table>\n<p>92 rows × 2 columns</p>\n</div>"
     },
     "metadata": {},
     "execution_count": 127
    }
   ],
   "source": [
    "df_waste.drop(index=df_waste.tail(9).index, inplace=True)\n",
    "#drop the last rows not to cause index issues\n",
    "#STILL NEED TO BE FIXED\n",
    "df_waste"
   ]
  },
  {
   "cell_type": "code",
   "execution_count": 128,
   "metadata": {},
   "outputs": [
    {
     "output_type": "stream",
     "name": "stderr",
     "text": [
      "<ipython-input-128-62eb4934d63e>:1: SettingWithCopyWarning:\n\n\nA value is trying to be set on a copy of a slice from a DataFrame.\nTry using .loc[row_indexer,col_indexer] = value instead\n\nSee the caveats in the documentation: https://pandas.pydata.org/pandas-docs/stable/user_guide/indexing.html#returning-a-view-versus-a-copy\n\n"
     ]
    },
    {
     "output_type": "execute_result",
     "data": {
      "text/plain": [
       "    best before  amount  purchases\n",
       "0            14      26         57\n",
       "1            17      26         62\n",
       "2            21      26         81\n",
       "3            24      26         98\n",
       "4            28      26        115\n",
       "..          ...     ...        ...\n",
       "87          318      26       1214\n",
       "88          322      26       1227\n",
       "89          325      26       1233\n",
       "90          329      26       1249\n",
       "91          332      26       1257\n",
       "\n",
       "[92 rows x 3 columns]"
      ],
      "text/html": "<div>\n<style scoped>\n    .dataframe tbody tr th:only-of-type {\n        vertical-align: middle;\n    }\n\n    .dataframe tbody tr th {\n        vertical-align: top;\n    }\n\n    .dataframe thead th {\n        text-align: right;\n    }\n</style>\n<table border=\"1\" class=\"dataframe\">\n  <thead>\n    <tr style=\"text-align: right;\">\n      <th></th>\n      <th>best before</th>\n      <th>amount</th>\n      <th>purchases</th>\n    </tr>\n  </thead>\n  <tbody>\n    <tr>\n      <th>0</th>\n      <td>14</td>\n      <td>26</td>\n      <td>57</td>\n    </tr>\n    <tr>\n      <th>1</th>\n      <td>17</td>\n      <td>26</td>\n      <td>62</td>\n    </tr>\n    <tr>\n      <th>2</th>\n      <td>21</td>\n      <td>26</td>\n      <td>81</td>\n    </tr>\n    <tr>\n      <th>3</th>\n      <td>24</td>\n      <td>26</td>\n      <td>98</td>\n    </tr>\n    <tr>\n      <th>4</th>\n      <td>28</td>\n      <td>26</td>\n      <td>115</td>\n    </tr>\n    <tr>\n      <th>...</th>\n      <td>...</td>\n      <td>...</td>\n      <td>...</td>\n    </tr>\n    <tr>\n      <th>87</th>\n      <td>318</td>\n      <td>26</td>\n      <td>1214</td>\n    </tr>\n    <tr>\n      <th>88</th>\n      <td>322</td>\n      <td>26</td>\n      <td>1227</td>\n    </tr>\n    <tr>\n      <th>89</th>\n      <td>325</td>\n      <td>26</td>\n      <td>1233</td>\n    </tr>\n    <tr>\n      <th>90</th>\n      <td>329</td>\n      <td>26</td>\n      <td>1249</td>\n    </tr>\n    <tr>\n      <th>91</th>\n      <td>332</td>\n      <td>26</td>\n      <td>1257</td>\n    </tr>\n  </tbody>\n</table>\n<p>92 rows × 3 columns</p>\n</div>"
     },
     "metadata": {},
     "execution_count": 128
    }
   ],
   "source": [
    "df_waste[\"purchases\"] = [purchases_per_day[i-1] for i in df_waste[\"best before\"]]\n",
    "#add cumulative sum of purchases up until that day (based on expiry dates)\n",
    "df_waste"
   ]
  },
  {
   "cell_type": "code",
   "execution_count": 129,
   "metadata": {},
   "outputs": [
    {
     "output_type": "stream",
     "name": "stderr",
     "text": [
      "<ipython-input-129-248a6f37d748>:1: SettingWithCopyWarning:\n\n\nA value is trying to be set on a copy of a slice from a DataFrame.\nTry using .loc[row_indexer,col_indexer] = value instead\n\nSee the caveats in the documentation: https://pandas.pydata.org/pandas-docs/stable/user_guide/indexing.html#returning-a-view-versus-a-copy\n\n"
     ]
    },
    {
     "output_type": "execute_result",
     "data": {
      "text/plain": [
       "    best before  amount  purchases  prev purchases\n",
       "0            14      26         57             NaN\n",
       "1            17      26         62             5.0\n",
       "2            21      26         81            19.0\n",
       "3            24      26         98            17.0\n",
       "4            28      26        115            17.0\n",
       "..          ...     ...        ...             ...\n",
       "87          318      26       1214            16.0\n",
       "88          322      26       1227            13.0\n",
       "89          325      26       1233             6.0\n",
       "90          329      26       1249            16.0\n",
       "91          332      26       1257             8.0\n",
       "\n",
       "[92 rows x 4 columns]"
      ],
      "text/html": "<div>\n<style scoped>\n    .dataframe tbody tr th:only-of-type {\n        vertical-align: middle;\n    }\n\n    .dataframe tbody tr th {\n        vertical-align: top;\n    }\n\n    .dataframe thead th {\n        text-align: right;\n    }\n</style>\n<table border=\"1\" class=\"dataframe\">\n  <thead>\n    <tr style=\"text-align: right;\">\n      <th></th>\n      <th>best before</th>\n      <th>amount</th>\n      <th>purchases</th>\n      <th>prev purchases</th>\n    </tr>\n  </thead>\n  <tbody>\n    <tr>\n      <th>0</th>\n      <td>14</td>\n      <td>26</td>\n      <td>57</td>\n      <td>NaN</td>\n    </tr>\n    <tr>\n      <th>1</th>\n      <td>17</td>\n      <td>26</td>\n      <td>62</td>\n      <td>5.0</td>\n    </tr>\n    <tr>\n      <th>2</th>\n      <td>21</td>\n      <td>26</td>\n      <td>81</td>\n      <td>19.0</td>\n    </tr>\n    <tr>\n      <th>3</th>\n      <td>24</td>\n      <td>26</td>\n      <td>98</td>\n      <td>17.0</td>\n    </tr>\n    <tr>\n      <th>4</th>\n      <td>28</td>\n      <td>26</td>\n      <td>115</td>\n      <td>17.0</td>\n    </tr>\n    <tr>\n      <th>...</th>\n      <td>...</td>\n      <td>...</td>\n      <td>...</td>\n      <td>...</td>\n    </tr>\n    <tr>\n      <th>87</th>\n      <td>318</td>\n      <td>26</td>\n      <td>1214</td>\n      <td>16.0</td>\n    </tr>\n    <tr>\n      <th>88</th>\n      <td>322</td>\n      <td>26</td>\n      <td>1227</td>\n      <td>13.0</td>\n    </tr>\n    <tr>\n      <th>89</th>\n      <td>325</td>\n      <td>26</td>\n      <td>1233</td>\n      <td>6.0</td>\n    </tr>\n    <tr>\n      <th>90</th>\n      <td>329</td>\n      <td>26</td>\n      <td>1249</td>\n      <td>16.0</td>\n    </tr>\n    <tr>\n      <th>91</th>\n      <td>332</td>\n      <td>26</td>\n      <td>1257</td>\n      <td>8.0</td>\n    </tr>\n  </tbody>\n</table>\n<p>92 rows × 4 columns</p>\n</div>"
     },
     "metadata": {},
     "execution_count": 129
    }
   ],
   "source": [
    "df_waste[\"prev purchases\"] = df_waste[\"purchases\"].diff()\n",
    "df_waste #difference in purchases since a previous batch of product expired"
   ]
  },
  {
   "cell_type": "code",
   "execution_count": 130,
   "metadata": {},
   "outputs": [
    {
     "output_type": "stream",
     "name": "stderr",
     "text": [
      "<ipython-input-130-5d914a2b7924>:4: SettingWithCopyWarning:\n",
      "\n",
      "\n",
      "A value is trying to be set on a copy of a slice from a DataFrame.\n",
      "Try using .loc[row_indexer,col_indexer] = value instead\n",
      "\n",
      "See the caveats in the documentation: https://pandas.pydata.org/pandas-docs/stable/user_guide/indexing.html#returning-a-view-versus-a-copy\n",
      "\n",
      "C:\\Users\\zolyo\\AppData\\Roaming\\Python\\Python38\\site-packages\\pandas\\core\\indexing.py:670: SettingWithCopyWarning:\n",
      "\n",
      "\n",
      "A value is trying to be set on a copy of a slice from a DataFrame\n",
      "\n",
      "See the caveats in the documentation: https://pandas.pydata.org/pandas-docs/stable/user_guide/indexing.html#returning-a-view-versus-a-copy\n",
      "\n",
      "<ipython-input-130-5d914a2b7924>:6: SettingWithCopyWarning:\n",
      "\n",
      "\n",
      "A value is trying to be set on a copy of a slice from a DataFrame\n",
      "\n",
      "See the caveats in the documentation: https://pandas.pydata.org/pandas-docs/stable/user_guide/indexing.html#returning-a-view-versus-a-copy\n",
      "\n",
      "<ipython-input-130-5d914a2b7924>:24: SettingWithCopyWarning:\n",
      "\n",
      "\n",
      "A value is trying to be set on a copy of a slice from a DataFrame.\n",
      "Try using .loc[row_indexer,col_indexer] = value instead\n",
      "\n",
      "See the caveats in the documentation: https://pandas.pydata.org/pandas-docs/stable/user_guide/indexing.html#returning-a-view-versus-a-copy\n",
      "\n",
      "<ipython-input-130-5d914a2b7924>:29: SettingWithCopyWarning:\n",
      "\n",
      "\n",
      "A value is trying to be set on a copy of a slice from a DataFrame.\n",
      "Try using .loc[row_indexer,col_indexer] = value instead\n",
      "\n",
      "See the caveats in the documentation: https://pandas.pydata.org/pandas-docs/stable/user_guide/indexing.html#returning-a-view-versus-a-copy\n",
      "\n",
      "<ipython-input-130-5d914a2b7924>:30: SettingWithCopyWarning:\n",
      "\n",
      "\n",
      "A value is trying to be set on a copy of a slice from a DataFrame.\n",
      "Try using .loc[row_indexer,col_indexer] = value instead\n",
      "\n",
      "See the caveats in the documentation: https://pandas.pydata.org/pandas-docs/stable/user_guide/indexing.html#returning-a-view-versus-a-copy\n",
      "\n",
      "<ipython-input-130-5d914a2b7924>:31: SettingWithCopyWarning:\n",
      "\n",
      "\n",
      "A value is trying to be set on a copy of a slice from a DataFrame.\n",
      "Try using .loc[row_indexer,col_indexer] = value instead\n",
      "\n",
      "See the caveats in the documentation: https://pandas.pydata.org/pandas-docs/stable/user_guide/indexing.html#returning-a-view-versus-a-copy\n",
      "\n"
     ]
    },
    {
     "output_type": "execute_result",
     "data": {
      "text/plain": [
       "    best before  amount  purchases  prev purchases  remaining  waste  \\\n",
       "0            14      26         57             NaN      -31.0  -31.0   \n",
       "1            17      26         62             5.0       21.0  -10.0   \n",
       "2            21      26         81            19.0        7.0   -3.0   \n",
       "3            24      26         98            17.0        9.0    6.0   \n",
       "4            28      26        115            17.0        9.0    9.0   \n",
       "..          ...     ...        ...             ...        ...    ...   \n",
       "87          318      26       1214            16.0       10.0   10.0   \n",
       "88          322      26       1227            13.0       13.0   13.0   \n",
       "89          325      26       1233             6.0       20.0   20.0   \n",
       "90          329      26       1249            16.0       10.0   10.0   \n",
       "91          332      26       1257             8.0       18.0   18.0   \n",
       "\n",
       "         date  week  \n",
       "0  2018-01-15     3  \n",
       "1  2018-01-18     3  \n",
       "2  2018-01-22     4  \n",
       "3  2018-01-25     4  \n",
       "4  2018-01-29     5  \n",
       "..        ...   ...  \n",
       "87 2018-11-15    46  \n",
       "88 2018-11-19    47  \n",
       "89 2018-11-22    47  \n",
       "90 2018-11-26    48  \n",
       "91 2018-11-29    48  \n",
       "\n",
       "[92 rows x 8 columns]"
      ],
      "text/html": "<div>\n<style scoped>\n    .dataframe tbody tr th:only-of-type {\n        vertical-align: middle;\n    }\n\n    .dataframe tbody tr th {\n        vertical-align: top;\n    }\n\n    .dataframe thead th {\n        text-align: right;\n    }\n</style>\n<table border=\"1\" class=\"dataframe\">\n  <thead>\n    <tr style=\"text-align: right;\">\n      <th></th>\n      <th>best before</th>\n      <th>amount</th>\n      <th>purchases</th>\n      <th>prev purchases</th>\n      <th>remaining</th>\n      <th>waste</th>\n      <th>date</th>\n      <th>week</th>\n    </tr>\n  </thead>\n  <tbody>\n    <tr>\n      <th>0</th>\n      <td>14</td>\n      <td>26</td>\n      <td>57</td>\n      <td>NaN</td>\n      <td>-31.0</td>\n      <td>-31.0</td>\n      <td>2018-01-15</td>\n      <td>3</td>\n    </tr>\n    <tr>\n      <th>1</th>\n      <td>17</td>\n      <td>26</td>\n      <td>62</td>\n      <td>5.0</td>\n      <td>21.0</td>\n      <td>-10.0</td>\n      <td>2018-01-18</td>\n      <td>3</td>\n    </tr>\n    <tr>\n      <th>2</th>\n      <td>21</td>\n      <td>26</td>\n      <td>81</td>\n      <td>19.0</td>\n      <td>7.0</td>\n      <td>-3.0</td>\n      <td>2018-01-22</td>\n      <td>4</td>\n    </tr>\n    <tr>\n      <th>3</th>\n      <td>24</td>\n      <td>26</td>\n      <td>98</td>\n      <td>17.0</td>\n      <td>9.0</td>\n      <td>6.0</td>\n      <td>2018-01-25</td>\n      <td>4</td>\n    </tr>\n    <tr>\n      <th>4</th>\n      <td>28</td>\n      <td>26</td>\n      <td>115</td>\n      <td>17.0</td>\n      <td>9.0</td>\n      <td>9.0</td>\n      <td>2018-01-29</td>\n      <td>5</td>\n    </tr>\n    <tr>\n      <th>...</th>\n      <td>...</td>\n      <td>...</td>\n      <td>...</td>\n      <td>...</td>\n      <td>...</td>\n      <td>...</td>\n      <td>...</td>\n      <td>...</td>\n    </tr>\n    <tr>\n      <th>87</th>\n      <td>318</td>\n      <td>26</td>\n      <td>1214</td>\n      <td>16.0</td>\n      <td>10.0</td>\n      <td>10.0</td>\n      <td>2018-11-15</td>\n      <td>46</td>\n    </tr>\n    <tr>\n      <th>88</th>\n      <td>322</td>\n      <td>26</td>\n      <td>1227</td>\n      <td>13.0</td>\n      <td>13.0</td>\n      <td>13.0</td>\n      <td>2018-11-19</td>\n      <td>47</td>\n    </tr>\n    <tr>\n      <th>89</th>\n      <td>325</td>\n      <td>26</td>\n      <td>1233</td>\n      <td>6.0</td>\n      <td>20.0</td>\n      <td>20.0</td>\n      <td>2018-11-22</td>\n      <td>47</td>\n    </tr>\n    <tr>\n      <th>90</th>\n      <td>329</td>\n      <td>26</td>\n      <td>1249</td>\n      <td>16.0</td>\n      <td>10.0</td>\n      <td>10.0</td>\n      <td>2018-11-26</td>\n      <td>48</td>\n    </tr>\n    <tr>\n      <th>91</th>\n      <td>332</td>\n      <td>26</td>\n      <td>1257</td>\n      <td>8.0</td>\n      <td>18.0</td>\n      <td>18.0</td>\n      <td>2018-11-29</td>\n      <td>48</td>\n    </tr>\n  </tbody>\n</table>\n<p>92 rows × 8 columns</p>\n</div>"
     },
     "metadata": {},
     "execution_count": 130
    }
   ],
   "source": [
    "length = df_waste.shape[0]\n",
    "lst_waste = [] #nr rows in waste dataframe\n",
    "#amount left from the item\n",
    "df_waste[\"remaining\"] = df_waste[\"amount\"] - df_waste[\"prev purchases\"] \n",
    "#the first row is different as there is no prev pruchases available\n",
    "df_waste[\"remaining\"].iloc[0] = df_waste[\"amount\"].iloc[0] - df_waste[\"purchases\"].iloc[0]\n",
    "\n",
    "for i in range(length):\n",
    "    #iterates through the rows of the waste dataframe\n",
    "    current_row = df_waste.iloc[i]\n",
    "    if i == 0:\n",
    "        #\n",
    "        lst_waste.append(current_row[\"remaining\"])\n",
    "        continue     \n",
    "    else:\n",
    "        prev_row = df_waste.iloc[i-1] #previous row in dataframe\n",
    "        if lst_waste[-1] < 0:\n",
    "            #no idea whats happening here\n",
    "            waste = lst_waste[-1] + current_row[\"remaining\"]\n",
    "            lst_waste.append(lst_waste[-1] + current_row[\"remaining\"])\n",
    "        else:\n",
    "            lst_waste.append(current_row[\"remaining\"])\n",
    "    \n",
    "df_waste[\"waste\"] = lst_waste\n",
    "def date_converter(row):\n",
    "    converted_date = datetime.datetime(2018, 1, 1) + datetime.timedelta(row[\"best before\"])\n",
    "    return converted_date\n",
    "\n",
    "df_waste[\"date\"] = df_waste.apply(date_converter, axis = 1)\n",
    "df_waste[\"week\"] = df_waste.apply(week_of_year, axis = 1)\n",
    "df_waste[df_waste[\"waste\"] < 0][\"waste\"] = 0\n",
    "df_waste"
   ]
  },
  {
   "cell_type": "code",
   "execution_count": 131,
   "metadata": {},
   "outputs": [
    {
     "output_type": "stream",
     "name": "stderr",
     "text": [
      "<ipython-input-131-08904a856e7a>:1: SettingWithCopyWarning:\n\n\nA value is trying to be set on a copy of a slice from a DataFrame.\nTry using .loc[row_indexer,col_indexer] = value instead\n\nSee the caveats in the documentation: https://pandas.pydata.org/pandas-docs/stable/user_guide/indexing.html#returning-a-view-versus-a-copy\n\n"
     ]
    }
   ],
   "source": [
    "df_waste[\"waste nn\"] = [i if i > 0 else 0 for i in df_waste[\"waste\"]]\n",
    "#takes nonnegative values which is counted as waste\n",
    "waste_group = df_waste.groupby(\"week\").sum()\n",
    "waste_group[\"weekly purchases\"] = waste_group[\"purchases\"].diff()\n"
   ]
  },
  {
   "source": [
    "## `df_waste` is prepared for plotting"
   ],
   "cell_type": "markdown",
   "metadata": {}
  },
  {
   "cell_type": "code",
   "execution_count": 132,
   "metadata": {},
   "outputs": [
    {
     "output_type": "execute_result",
     "data": {
      "text/plain": [
       "      best before  amount  purchases  prev purchases  remaining  waste  \\\n",
       "week                                                                     \n",
       "3              31      52        119             5.0      -10.0  -41.0   \n",
       "4              45      52        179            36.0       16.0    3.0   \n",
       "5              59      52        238            25.0       27.0   27.0   \n",
       "6              73      52        283            23.0       29.0   29.0   \n",
       "7              87      52        327            24.0       28.0   28.0   \n",
       "8             101      52        383            24.0       28.0   28.0   \n",
       "9             115      52        430            26.0       26.0   26.0   \n",
       "10            129      52        492            31.0       21.0   21.0   \n",
       "11            143      52        537            21.0       31.0   31.0   \n",
       "12            157      52        589            33.0       19.0   19.0   \n",
       "13            171      52        650            23.0       29.0   29.0   \n",
       "14            185      52        716            38.0       14.0   14.0   \n",
       "15            199      52        801            40.0       12.0    9.0   \n",
       "16            213      52        860            35.0       17.0   17.0   \n",
       "17            227      52        921            25.0       27.0   27.0   \n",
       "18            241      52        967            21.0       31.0   31.0   \n",
       "19            255      22       1020            27.0       -5.0  -13.0   \n",
       "20            269      52       1064            26.0       26.0   21.0   \n",
       "21            283      52       1122            29.0       23.0   23.0   \n",
       "22            297      52       1171            21.0       31.0   31.0   \n",
       "23            311      52       1225            28.0       24.0   24.0   \n",
       "24            325      52       1266            17.0       35.0   35.0   \n",
       "25            339      52       1316            27.0       25.0   25.0   \n",
       "26            353      52       1362            24.0       28.0   28.0   \n",
       "27            367      52       1400            18.0       34.0   34.0   \n",
       "28            381      52       1445            23.0       29.0   29.0   \n",
       "29            395      52       1489            23.0       29.0   29.0   \n",
       "30            409      52       1556            39.0       13.0   13.0   \n",
       "31            423      52       1623            27.0       25.0   25.0   \n",
       "32            437      52       1676            26.0       26.0   26.0   \n",
       "33            451      52       1728            28.0       24.0   24.0   \n",
       "34            465      52       1782            30.0       22.0   22.0   \n",
       "35            479      52       1863            36.0       16.0   15.0   \n",
       "36            493      52       1912            25.0       27.0   27.0   \n",
       "37            507      52       1965            28.0       24.0   24.0   \n",
       "38            521      52       2017            23.0       29.0   29.0   \n",
       "39            535      52       2052            19.0       33.0   33.0   \n",
       "40            549      52       2103            26.0       26.0   26.0   \n",
       "41            563      52       2151            21.0       31.0   31.0   \n",
       "42            577      52       2197            27.0       25.0   25.0   \n",
       "43            591      52       2263            30.0       22.0   22.0   \n",
       "44            605      52       2312            28.0       24.0   24.0   \n",
       "45            619      52       2357            19.0       33.0   33.0   \n",
       "46            633      52       2412            32.0       20.0   20.0   \n",
       "47            647      52       2460            19.0       33.0   33.0   \n",
       "48            661      52       2506            24.0       28.0   28.0   \n",
       "\n",
       "      waste nn  weekly purchases  \n",
       "week                              \n",
       "3          0.0               NaN  \n",
       "4          6.0              60.0  \n",
       "5         27.0              59.0  \n",
       "6         29.0              45.0  \n",
       "7         28.0              44.0  \n",
       "8         28.0              56.0  \n",
       "9         26.0              47.0  \n",
       "10        21.0              62.0  \n",
       "11        31.0              45.0  \n",
       "12        19.0              52.0  \n",
       "13        29.0              61.0  \n",
       "14        14.0              66.0  \n",
       "15        12.0              85.0  \n",
       "16        17.0              59.0  \n",
       "17        27.0              61.0  \n",
       "18        31.0              46.0  \n",
       "19         0.0              53.0  \n",
       "20        21.0              44.0  \n",
       "21        23.0              58.0  \n",
       "22        31.0              49.0  \n",
       "23        24.0              54.0  \n",
       "24        35.0              41.0  \n",
       "25        25.0              50.0  \n",
       "26        28.0              46.0  \n",
       "27        34.0              38.0  \n",
       "28        29.0              45.0  \n",
       "29        29.0              44.0  \n",
       "30        13.0              67.0  \n",
       "31        25.0              67.0  \n",
       "32        26.0              53.0  \n",
       "33        24.0              52.0  \n",
       "34        22.0              54.0  \n",
       "35        16.0              81.0  \n",
       "36        27.0              49.0  \n",
       "37        24.0              53.0  \n",
       "38        29.0              52.0  \n",
       "39        33.0              35.0  \n",
       "40        26.0              51.0  \n",
       "41        31.0              48.0  \n",
       "42        25.0              46.0  \n",
       "43        22.0              66.0  \n",
       "44        24.0              49.0  \n",
       "45        33.0              45.0  \n",
       "46        20.0              55.0  \n",
       "47        33.0              48.0  \n",
       "48        28.0              46.0  "
      ],
      "text/html": "<div>\n<style scoped>\n    .dataframe tbody tr th:only-of-type {\n        vertical-align: middle;\n    }\n\n    .dataframe tbody tr th {\n        vertical-align: top;\n    }\n\n    .dataframe thead th {\n        text-align: right;\n    }\n</style>\n<table border=\"1\" class=\"dataframe\">\n  <thead>\n    <tr style=\"text-align: right;\">\n      <th></th>\n      <th>best before</th>\n      <th>amount</th>\n      <th>purchases</th>\n      <th>prev purchases</th>\n      <th>remaining</th>\n      <th>waste</th>\n      <th>waste nn</th>\n      <th>weekly purchases</th>\n    </tr>\n    <tr>\n      <th>week</th>\n      <th></th>\n      <th></th>\n      <th></th>\n      <th></th>\n      <th></th>\n      <th></th>\n      <th></th>\n      <th></th>\n    </tr>\n  </thead>\n  <tbody>\n    <tr>\n      <th>3</th>\n      <td>31</td>\n      <td>52</td>\n      <td>119</td>\n      <td>5.0</td>\n      <td>-10.0</td>\n      <td>-41.0</td>\n      <td>0.0</td>\n      <td>NaN</td>\n    </tr>\n    <tr>\n      <th>4</th>\n      <td>45</td>\n      <td>52</td>\n      <td>179</td>\n      <td>36.0</td>\n      <td>16.0</td>\n      <td>3.0</td>\n      <td>6.0</td>\n      <td>60.0</td>\n    </tr>\n    <tr>\n      <th>5</th>\n      <td>59</td>\n      <td>52</td>\n      <td>238</td>\n      <td>25.0</td>\n      <td>27.0</td>\n      <td>27.0</td>\n      <td>27.0</td>\n      <td>59.0</td>\n    </tr>\n    <tr>\n      <th>6</th>\n      <td>73</td>\n      <td>52</td>\n      <td>283</td>\n      <td>23.0</td>\n      <td>29.0</td>\n      <td>29.0</td>\n      <td>29.0</td>\n      <td>45.0</td>\n    </tr>\n    <tr>\n      <th>7</th>\n      <td>87</td>\n      <td>52</td>\n      <td>327</td>\n      <td>24.0</td>\n      <td>28.0</td>\n      <td>28.0</td>\n      <td>28.0</td>\n      <td>44.0</td>\n    </tr>\n    <tr>\n      <th>8</th>\n      <td>101</td>\n      <td>52</td>\n      <td>383</td>\n      <td>24.0</td>\n      <td>28.0</td>\n      <td>28.0</td>\n      <td>28.0</td>\n      <td>56.0</td>\n    </tr>\n    <tr>\n      <th>9</th>\n      <td>115</td>\n      <td>52</td>\n      <td>430</td>\n      <td>26.0</td>\n      <td>26.0</td>\n      <td>26.0</td>\n      <td>26.0</td>\n      <td>47.0</td>\n    </tr>\n    <tr>\n      <th>10</th>\n      <td>129</td>\n      <td>52</td>\n      <td>492</td>\n      <td>31.0</td>\n      <td>21.0</td>\n      <td>21.0</td>\n      <td>21.0</td>\n      <td>62.0</td>\n    </tr>\n    <tr>\n      <th>11</th>\n      <td>143</td>\n      <td>52</td>\n      <td>537</td>\n      <td>21.0</td>\n      <td>31.0</td>\n      <td>31.0</td>\n      <td>31.0</td>\n      <td>45.0</td>\n    </tr>\n    <tr>\n      <th>12</th>\n      <td>157</td>\n      <td>52</td>\n      <td>589</td>\n      <td>33.0</td>\n      <td>19.0</td>\n      <td>19.0</td>\n      <td>19.0</td>\n      <td>52.0</td>\n    </tr>\n    <tr>\n      <th>13</th>\n      <td>171</td>\n      <td>52</td>\n      <td>650</td>\n      <td>23.0</td>\n      <td>29.0</td>\n      <td>29.0</td>\n      <td>29.0</td>\n      <td>61.0</td>\n    </tr>\n    <tr>\n      <th>14</th>\n      <td>185</td>\n      <td>52</td>\n      <td>716</td>\n      <td>38.0</td>\n      <td>14.0</td>\n      <td>14.0</td>\n      <td>14.0</td>\n      <td>66.0</td>\n    </tr>\n    <tr>\n      <th>15</th>\n      <td>199</td>\n      <td>52</td>\n      <td>801</td>\n      <td>40.0</td>\n      <td>12.0</td>\n      <td>9.0</td>\n      <td>12.0</td>\n      <td>85.0</td>\n    </tr>\n    <tr>\n      <th>16</th>\n      <td>213</td>\n      <td>52</td>\n      <td>860</td>\n      <td>35.0</td>\n      <td>17.0</td>\n      <td>17.0</td>\n      <td>17.0</td>\n      <td>59.0</td>\n    </tr>\n    <tr>\n      <th>17</th>\n      <td>227</td>\n      <td>52</td>\n      <td>921</td>\n      <td>25.0</td>\n      <td>27.0</td>\n      <td>27.0</td>\n      <td>27.0</td>\n      <td>61.0</td>\n    </tr>\n    <tr>\n      <th>18</th>\n      <td>241</td>\n      <td>52</td>\n      <td>967</td>\n      <td>21.0</td>\n      <td>31.0</td>\n      <td>31.0</td>\n      <td>31.0</td>\n      <td>46.0</td>\n    </tr>\n    <tr>\n      <th>19</th>\n      <td>255</td>\n      <td>22</td>\n      <td>1020</td>\n      <td>27.0</td>\n      <td>-5.0</td>\n      <td>-13.0</td>\n      <td>0.0</td>\n      <td>53.0</td>\n    </tr>\n    <tr>\n      <th>20</th>\n      <td>269</td>\n      <td>52</td>\n      <td>1064</td>\n      <td>26.0</td>\n      <td>26.0</td>\n      <td>21.0</td>\n      <td>21.0</td>\n      <td>44.0</td>\n    </tr>\n    <tr>\n      <th>21</th>\n      <td>283</td>\n      <td>52</td>\n      <td>1122</td>\n      <td>29.0</td>\n      <td>23.0</td>\n      <td>23.0</td>\n      <td>23.0</td>\n      <td>58.0</td>\n    </tr>\n    <tr>\n      <th>22</th>\n      <td>297</td>\n      <td>52</td>\n      <td>1171</td>\n      <td>21.0</td>\n      <td>31.0</td>\n      <td>31.0</td>\n      <td>31.0</td>\n      <td>49.0</td>\n    </tr>\n    <tr>\n      <th>23</th>\n      <td>311</td>\n      <td>52</td>\n      <td>1225</td>\n      <td>28.0</td>\n      <td>24.0</td>\n      <td>24.0</td>\n      <td>24.0</td>\n      <td>54.0</td>\n    </tr>\n    <tr>\n      <th>24</th>\n      <td>325</td>\n      <td>52</td>\n      <td>1266</td>\n      <td>17.0</td>\n      <td>35.0</td>\n      <td>35.0</td>\n      <td>35.0</td>\n      <td>41.0</td>\n    </tr>\n    <tr>\n      <th>25</th>\n      <td>339</td>\n      <td>52</td>\n      <td>1316</td>\n      <td>27.0</td>\n      <td>25.0</td>\n      <td>25.0</td>\n      <td>25.0</td>\n      <td>50.0</td>\n    </tr>\n    <tr>\n      <th>26</th>\n      <td>353</td>\n      <td>52</td>\n      <td>1362</td>\n      <td>24.0</td>\n      <td>28.0</td>\n      <td>28.0</td>\n      <td>28.0</td>\n      <td>46.0</td>\n    </tr>\n    <tr>\n      <th>27</th>\n      <td>367</td>\n      <td>52</td>\n      <td>1400</td>\n      <td>18.0</td>\n      <td>34.0</td>\n      <td>34.0</td>\n      <td>34.0</td>\n      <td>38.0</td>\n    </tr>\n    <tr>\n      <th>28</th>\n      <td>381</td>\n      <td>52</td>\n      <td>1445</td>\n      <td>23.0</td>\n      <td>29.0</td>\n      <td>29.0</td>\n      <td>29.0</td>\n      <td>45.0</td>\n    </tr>\n    <tr>\n      <th>29</th>\n      <td>395</td>\n      <td>52</td>\n      <td>1489</td>\n      <td>23.0</td>\n      <td>29.0</td>\n      <td>29.0</td>\n      <td>29.0</td>\n      <td>44.0</td>\n    </tr>\n    <tr>\n      <th>30</th>\n      <td>409</td>\n      <td>52</td>\n      <td>1556</td>\n      <td>39.0</td>\n      <td>13.0</td>\n      <td>13.0</td>\n      <td>13.0</td>\n      <td>67.0</td>\n    </tr>\n    <tr>\n      <th>31</th>\n      <td>423</td>\n      <td>52</td>\n      <td>1623</td>\n      <td>27.0</td>\n      <td>25.0</td>\n      <td>25.0</td>\n      <td>25.0</td>\n      <td>67.0</td>\n    </tr>\n    <tr>\n      <th>32</th>\n      <td>437</td>\n      <td>52</td>\n      <td>1676</td>\n      <td>26.0</td>\n      <td>26.0</td>\n      <td>26.0</td>\n      <td>26.0</td>\n      <td>53.0</td>\n    </tr>\n    <tr>\n      <th>33</th>\n      <td>451</td>\n      <td>52</td>\n      <td>1728</td>\n      <td>28.0</td>\n      <td>24.0</td>\n      <td>24.0</td>\n      <td>24.0</td>\n      <td>52.0</td>\n    </tr>\n    <tr>\n      <th>34</th>\n      <td>465</td>\n      <td>52</td>\n      <td>1782</td>\n      <td>30.0</td>\n      <td>22.0</td>\n      <td>22.0</td>\n      <td>22.0</td>\n      <td>54.0</td>\n    </tr>\n    <tr>\n      <th>35</th>\n      <td>479</td>\n      <td>52</td>\n      <td>1863</td>\n      <td>36.0</td>\n      <td>16.0</td>\n      <td>15.0</td>\n      <td>16.0</td>\n      <td>81.0</td>\n    </tr>\n    <tr>\n      <th>36</th>\n      <td>493</td>\n      <td>52</td>\n      <td>1912</td>\n      <td>25.0</td>\n      <td>27.0</td>\n      <td>27.0</td>\n      <td>27.0</td>\n      <td>49.0</td>\n    </tr>\n    <tr>\n      <th>37</th>\n      <td>507</td>\n      <td>52</td>\n      <td>1965</td>\n      <td>28.0</td>\n      <td>24.0</td>\n      <td>24.0</td>\n      <td>24.0</td>\n      <td>53.0</td>\n    </tr>\n    <tr>\n      <th>38</th>\n      <td>521</td>\n      <td>52</td>\n      <td>2017</td>\n      <td>23.0</td>\n      <td>29.0</td>\n      <td>29.0</td>\n      <td>29.0</td>\n      <td>52.0</td>\n    </tr>\n    <tr>\n      <th>39</th>\n      <td>535</td>\n      <td>52</td>\n      <td>2052</td>\n      <td>19.0</td>\n      <td>33.0</td>\n      <td>33.0</td>\n      <td>33.0</td>\n      <td>35.0</td>\n    </tr>\n    <tr>\n      <th>40</th>\n      <td>549</td>\n      <td>52</td>\n      <td>2103</td>\n      <td>26.0</td>\n      <td>26.0</td>\n      <td>26.0</td>\n      <td>26.0</td>\n      <td>51.0</td>\n    </tr>\n    <tr>\n      <th>41</th>\n      <td>563</td>\n      <td>52</td>\n      <td>2151</td>\n      <td>21.0</td>\n      <td>31.0</td>\n      <td>31.0</td>\n      <td>31.0</td>\n      <td>48.0</td>\n    </tr>\n    <tr>\n      <th>42</th>\n      <td>577</td>\n      <td>52</td>\n      <td>2197</td>\n      <td>27.0</td>\n      <td>25.0</td>\n      <td>25.0</td>\n      <td>25.0</td>\n      <td>46.0</td>\n    </tr>\n    <tr>\n      <th>43</th>\n      <td>591</td>\n      <td>52</td>\n      <td>2263</td>\n      <td>30.0</td>\n      <td>22.0</td>\n      <td>22.0</td>\n      <td>22.0</td>\n      <td>66.0</td>\n    </tr>\n    <tr>\n      <th>44</th>\n      <td>605</td>\n      <td>52</td>\n      <td>2312</td>\n      <td>28.0</td>\n      <td>24.0</td>\n      <td>24.0</td>\n      <td>24.0</td>\n      <td>49.0</td>\n    </tr>\n    <tr>\n      <th>45</th>\n      <td>619</td>\n      <td>52</td>\n      <td>2357</td>\n      <td>19.0</td>\n      <td>33.0</td>\n      <td>33.0</td>\n      <td>33.0</td>\n      <td>45.0</td>\n    </tr>\n    <tr>\n      <th>46</th>\n      <td>633</td>\n      <td>52</td>\n      <td>2412</td>\n      <td>32.0</td>\n      <td>20.0</td>\n      <td>20.0</td>\n      <td>20.0</td>\n      <td>55.0</td>\n    </tr>\n    <tr>\n      <th>47</th>\n      <td>647</td>\n      <td>52</td>\n      <td>2460</td>\n      <td>19.0</td>\n      <td>33.0</td>\n      <td>33.0</td>\n      <td>33.0</td>\n      <td>48.0</td>\n    </tr>\n    <tr>\n      <th>48</th>\n      <td>661</td>\n      <td>52</td>\n      <td>2506</td>\n      <td>24.0</td>\n      <td>28.0</td>\n      <td>28.0</td>\n      <td>28.0</td>\n      <td>46.0</td>\n    </tr>\n  </tbody>\n</table>\n</div>"
     },
     "metadata": {},
     "execution_count": 132
    }
   ],
   "source": [
    "waste_group"
   ]
  },
  {
   "cell_type": "code",
   "execution_count": 133,
   "metadata": {},
   "outputs": [],
   "source": [
    "waste_group[\"week\"] = waste_group.index"
   ]
  },
  {
   "cell_type": "code",
   "execution_count": 134,
   "metadata": {},
   "outputs": [
    {
     "output_type": "display_data",
     "data": {
      "application/vnd.plotly.v1+json": {
       "config": {
        "plotlyServerURL": "https://plot.ly"
       },
       "data": [
        {
         "hovertemplate": "week=%{x}<br>waste nn=%{y}<extra></extra>",
         "legendgroup": "",
         "line": {
          "color": "#636efa",
          "dash": "solid"
         },
         "mode": "lines",
         "name": "",
         "orientation": "v",
         "showlegend": false,
         "type": "scatter",
         "x": [
          3,
          4,
          5,
          6,
          7,
          8,
          9,
          10,
          11,
          12,
          13,
          14,
          15,
          16,
          17,
          18,
          19,
          20,
          21,
          22,
          23,
          24,
          25,
          26,
          27,
          28,
          29,
          30,
          31,
          32,
          33,
          34,
          35,
          36,
          37,
          38,
          39,
          40,
          41,
          42,
          43,
          44,
          45,
          46,
          47,
          48
         ],
         "xaxis": "x",
         "y": [
          0,
          6,
          27,
          29,
          28,
          28,
          26,
          21,
          31,
          19,
          29,
          14,
          12,
          17,
          27,
          31,
          0,
          21,
          23,
          31,
          24,
          35,
          25,
          28,
          34,
          29,
          29,
          13,
          25,
          26,
          24,
          22,
          16,
          27,
          24,
          29,
          33,
          26,
          31,
          25,
          22,
          24,
          33,
          20,
          33,
          28
         ],
         "yaxis": "y"
        },
        {
         "mode": "lines",
         "type": "scatter",
         "x": [
          3,
          4,
          5,
          6,
          7,
          8,
          9,
          10,
          11,
          12,
          13,
          14,
          15,
          16,
          17,
          18,
          19,
          20,
          21,
          22,
          23,
          24,
          25,
          26,
          27,
          28,
          29,
          30,
          31,
          32,
          33,
          34,
          35,
          36,
          37,
          38,
          39,
          40,
          41,
          42,
          43,
          44,
          45,
          46,
          47,
          48
         ],
         "y": [
          52,
          52,
          52,
          52,
          52,
          52,
          52,
          52,
          52,
          52,
          52,
          52,
          52,
          52,
          52,
          52,
          22,
          52,
          52,
          52,
          52,
          52,
          52,
          52,
          52,
          52,
          52,
          52,
          52,
          52,
          52,
          52,
          52,
          52,
          52,
          52,
          52,
          52,
          52,
          52,
          52,
          52,
          52,
          52,
          52,
          52
         ]
        },
        {
         "mode": "lines",
         "type": "scatter",
         "x": [
          3,
          4,
          5,
          6,
          7,
          8,
          9,
          10,
          11,
          12,
          13,
          14,
          15,
          16,
          17,
          18,
          19,
          20,
          21,
          22,
          23,
          24,
          25,
          26,
          27,
          28,
          29,
          30,
          31,
          32,
          33,
          34,
          35,
          36,
          37,
          38,
          39,
          40,
          41,
          42,
          43,
          44,
          45,
          46,
          47,
          48
         ],
         "y": [
          null,
          60,
          59,
          45,
          44,
          56,
          47,
          62,
          45,
          52,
          61,
          66,
          85,
          59,
          61,
          46,
          53,
          44,
          58,
          49,
          54,
          41,
          50,
          46,
          38,
          45,
          44,
          67,
          67,
          53,
          52,
          54,
          81,
          49,
          53,
          52,
          35,
          51,
          48,
          46,
          66,
          49,
          45,
          55,
          48,
          46
         ]
        }
       ],
       "layout": {
        "legend": {
         "tracegroupgap": 0
        },
        "template": {
         "data": {
          "bar": [
           {
            "error_x": {
             "color": "#2a3f5f"
            },
            "error_y": {
             "color": "#2a3f5f"
            },
            "marker": {
             "line": {
              "color": "#E5ECF6",
              "width": 0.5
             }
            },
            "type": "bar"
           }
          ],
          "barpolar": [
           {
            "marker": {
             "line": {
              "color": "#E5ECF6",
              "width": 0.5
             }
            },
            "type": "barpolar"
           }
          ],
          "carpet": [
           {
            "aaxis": {
             "endlinecolor": "#2a3f5f",
             "gridcolor": "white",
             "linecolor": "white",
             "minorgridcolor": "white",
             "startlinecolor": "#2a3f5f"
            },
            "baxis": {
             "endlinecolor": "#2a3f5f",
             "gridcolor": "white",
             "linecolor": "white",
             "minorgridcolor": "white",
             "startlinecolor": "#2a3f5f"
            },
            "type": "carpet"
           }
          ],
          "choropleth": [
           {
            "colorbar": {
             "outlinewidth": 0,
             "ticks": ""
            },
            "type": "choropleth"
           }
          ],
          "contour": [
           {
            "colorbar": {
             "outlinewidth": 0,
             "ticks": ""
            },
            "colorscale": [
             [
              0,
              "#0d0887"
             ],
             [
              0.1111111111111111,
              "#46039f"
             ],
             [
              0.2222222222222222,
              "#7201a8"
             ],
             [
              0.3333333333333333,
              "#9c179e"
             ],
             [
              0.4444444444444444,
              "#bd3786"
             ],
             [
              0.5555555555555556,
              "#d8576b"
             ],
             [
              0.6666666666666666,
              "#ed7953"
             ],
             [
              0.7777777777777778,
              "#fb9f3a"
             ],
             [
              0.8888888888888888,
              "#fdca26"
             ],
             [
              1,
              "#f0f921"
             ]
            ],
            "type": "contour"
           }
          ],
          "contourcarpet": [
           {
            "colorbar": {
             "outlinewidth": 0,
             "ticks": ""
            },
            "type": "contourcarpet"
           }
          ],
          "heatmap": [
           {
            "colorbar": {
             "outlinewidth": 0,
             "ticks": ""
            },
            "colorscale": [
             [
              0,
              "#0d0887"
             ],
             [
              0.1111111111111111,
              "#46039f"
             ],
             [
              0.2222222222222222,
              "#7201a8"
             ],
             [
              0.3333333333333333,
              "#9c179e"
             ],
             [
              0.4444444444444444,
              "#bd3786"
             ],
             [
              0.5555555555555556,
              "#d8576b"
             ],
             [
              0.6666666666666666,
              "#ed7953"
             ],
             [
              0.7777777777777778,
              "#fb9f3a"
             ],
             [
              0.8888888888888888,
              "#fdca26"
             ],
             [
              1,
              "#f0f921"
             ]
            ],
            "type": "heatmap"
           }
          ],
          "heatmapgl": [
           {
            "colorbar": {
             "outlinewidth": 0,
             "ticks": ""
            },
            "colorscale": [
             [
              0,
              "#0d0887"
             ],
             [
              0.1111111111111111,
              "#46039f"
             ],
             [
              0.2222222222222222,
              "#7201a8"
             ],
             [
              0.3333333333333333,
              "#9c179e"
             ],
             [
              0.4444444444444444,
              "#bd3786"
             ],
             [
              0.5555555555555556,
              "#d8576b"
             ],
             [
              0.6666666666666666,
              "#ed7953"
             ],
             [
              0.7777777777777778,
              "#fb9f3a"
             ],
             [
              0.8888888888888888,
              "#fdca26"
             ],
             [
              1,
              "#f0f921"
             ]
            ],
            "type": "heatmapgl"
           }
          ],
          "histogram": [
           {
            "marker": {
             "colorbar": {
              "outlinewidth": 0,
              "ticks": ""
             }
            },
            "type": "histogram"
           }
          ],
          "histogram2d": [
           {
            "colorbar": {
             "outlinewidth": 0,
             "ticks": ""
            },
            "colorscale": [
             [
              0,
              "#0d0887"
             ],
             [
              0.1111111111111111,
              "#46039f"
             ],
             [
              0.2222222222222222,
              "#7201a8"
             ],
             [
              0.3333333333333333,
              "#9c179e"
             ],
             [
              0.4444444444444444,
              "#bd3786"
             ],
             [
              0.5555555555555556,
              "#d8576b"
             ],
             [
              0.6666666666666666,
              "#ed7953"
             ],
             [
              0.7777777777777778,
              "#fb9f3a"
             ],
             [
              0.8888888888888888,
              "#fdca26"
             ],
             [
              1,
              "#f0f921"
             ]
            ],
            "type": "histogram2d"
           }
          ],
          "histogram2dcontour": [
           {
            "colorbar": {
             "outlinewidth": 0,
             "ticks": ""
            },
            "colorscale": [
             [
              0,
              "#0d0887"
             ],
             [
              0.1111111111111111,
              "#46039f"
             ],
             [
              0.2222222222222222,
              "#7201a8"
             ],
             [
              0.3333333333333333,
              "#9c179e"
             ],
             [
              0.4444444444444444,
              "#bd3786"
             ],
             [
              0.5555555555555556,
              "#d8576b"
             ],
             [
              0.6666666666666666,
              "#ed7953"
             ],
             [
              0.7777777777777778,
              "#fb9f3a"
             ],
             [
              0.8888888888888888,
              "#fdca26"
             ],
             [
              1,
              "#f0f921"
             ]
            ],
            "type": "histogram2dcontour"
           }
          ],
          "mesh3d": [
           {
            "colorbar": {
             "outlinewidth": 0,
             "ticks": ""
            },
            "type": "mesh3d"
           }
          ],
          "parcoords": [
           {
            "line": {
             "colorbar": {
              "outlinewidth": 0,
              "ticks": ""
             }
            },
            "type": "parcoords"
           }
          ],
          "pie": [
           {
            "automargin": true,
            "type": "pie"
           }
          ],
          "scatter": [
           {
            "marker": {
             "colorbar": {
              "outlinewidth": 0,
              "ticks": ""
             }
            },
            "type": "scatter"
           }
          ],
          "scatter3d": [
           {
            "line": {
             "colorbar": {
              "outlinewidth": 0,
              "ticks": ""
             }
            },
            "marker": {
             "colorbar": {
              "outlinewidth": 0,
              "ticks": ""
             }
            },
            "type": "scatter3d"
           }
          ],
          "scattercarpet": [
           {
            "marker": {
             "colorbar": {
              "outlinewidth": 0,
              "ticks": ""
             }
            },
            "type": "scattercarpet"
           }
          ],
          "scattergeo": [
           {
            "marker": {
             "colorbar": {
              "outlinewidth": 0,
              "ticks": ""
             }
            },
            "type": "scattergeo"
           }
          ],
          "scattergl": [
           {
            "marker": {
             "colorbar": {
              "outlinewidth": 0,
              "ticks": ""
             }
            },
            "type": "scattergl"
           }
          ],
          "scattermapbox": [
           {
            "marker": {
             "colorbar": {
              "outlinewidth": 0,
              "ticks": ""
             }
            },
            "type": "scattermapbox"
           }
          ],
          "scatterpolar": [
           {
            "marker": {
             "colorbar": {
              "outlinewidth": 0,
              "ticks": ""
             }
            },
            "type": "scatterpolar"
           }
          ],
          "scatterpolargl": [
           {
            "marker": {
             "colorbar": {
              "outlinewidth": 0,
              "ticks": ""
             }
            },
            "type": "scatterpolargl"
           }
          ],
          "scatterternary": [
           {
            "marker": {
             "colorbar": {
              "outlinewidth": 0,
              "ticks": ""
             }
            },
            "type": "scatterternary"
           }
          ],
          "surface": [
           {
            "colorbar": {
             "outlinewidth": 0,
             "ticks": ""
            },
            "colorscale": [
             [
              0,
              "#0d0887"
             ],
             [
              0.1111111111111111,
              "#46039f"
             ],
             [
              0.2222222222222222,
              "#7201a8"
             ],
             [
              0.3333333333333333,
              "#9c179e"
             ],
             [
              0.4444444444444444,
              "#bd3786"
             ],
             [
              0.5555555555555556,
              "#d8576b"
             ],
             [
              0.6666666666666666,
              "#ed7953"
             ],
             [
              0.7777777777777778,
              "#fb9f3a"
             ],
             [
              0.8888888888888888,
              "#fdca26"
             ],
             [
              1,
              "#f0f921"
             ]
            ],
            "type": "surface"
           }
          ],
          "table": [
           {
            "cells": {
             "fill": {
              "color": "#EBF0F8"
             },
             "line": {
              "color": "white"
             }
            },
            "header": {
             "fill": {
              "color": "#C8D4E3"
             },
             "line": {
              "color": "white"
             }
            },
            "type": "table"
           }
          ]
         },
         "layout": {
          "annotationdefaults": {
           "arrowcolor": "#2a3f5f",
           "arrowhead": 0,
           "arrowwidth": 1
          },
          "coloraxis": {
           "colorbar": {
            "outlinewidth": 0,
            "ticks": ""
           }
          },
          "colorscale": {
           "diverging": [
            [
             0,
             "#8e0152"
            ],
            [
             0.1,
             "#c51b7d"
            ],
            [
             0.2,
             "#de77ae"
            ],
            [
             0.3,
             "#f1b6da"
            ],
            [
             0.4,
             "#fde0ef"
            ],
            [
             0.5,
             "#f7f7f7"
            ],
            [
             0.6,
             "#e6f5d0"
            ],
            [
             0.7,
             "#b8e186"
            ],
            [
             0.8,
             "#7fbc41"
            ],
            [
             0.9,
             "#4d9221"
            ],
            [
             1,
             "#276419"
            ]
           ],
           "sequential": [
            [
             0,
             "#0d0887"
            ],
            [
             0.1111111111111111,
             "#46039f"
            ],
            [
             0.2222222222222222,
             "#7201a8"
            ],
            [
             0.3333333333333333,
             "#9c179e"
            ],
            [
             0.4444444444444444,
             "#bd3786"
            ],
            [
             0.5555555555555556,
             "#d8576b"
            ],
            [
             0.6666666666666666,
             "#ed7953"
            ],
            [
             0.7777777777777778,
             "#fb9f3a"
            ],
            [
             0.8888888888888888,
             "#fdca26"
            ],
            [
             1,
             "#f0f921"
            ]
           ],
           "sequentialminus": [
            [
             0,
             "#0d0887"
            ],
            [
             0.1111111111111111,
             "#46039f"
            ],
            [
             0.2222222222222222,
             "#7201a8"
            ],
            [
             0.3333333333333333,
             "#9c179e"
            ],
            [
             0.4444444444444444,
             "#bd3786"
            ],
            [
             0.5555555555555556,
             "#d8576b"
            ],
            [
             0.6666666666666666,
             "#ed7953"
            ],
            [
             0.7777777777777778,
             "#fb9f3a"
            ],
            [
             0.8888888888888888,
             "#fdca26"
            ],
            [
             1,
             "#f0f921"
            ]
           ]
          },
          "colorway": [
           "#636efa",
           "#EF553B",
           "#00cc96",
           "#ab63fa",
           "#FFA15A",
           "#19d3f3",
           "#FF6692",
           "#B6E880",
           "#FF97FF",
           "#FECB52"
          ],
          "font": {
           "color": "#2a3f5f"
          },
          "geo": {
           "bgcolor": "white",
           "lakecolor": "white",
           "landcolor": "#E5ECF6",
           "showlakes": true,
           "showland": true,
           "subunitcolor": "white"
          },
          "hoverlabel": {
           "align": "left"
          },
          "hovermode": "closest",
          "mapbox": {
           "style": "light"
          },
          "paper_bgcolor": "white",
          "plot_bgcolor": "#E5ECF6",
          "polar": {
           "angularaxis": {
            "gridcolor": "white",
            "linecolor": "white",
            "ticks": ""
           },
           "bgcolor": "#E5ECF6",
           "radialaxis": {
            "gridcolor": "white",
            "linecolor": "white",
            "ticks": ""
           }
          },
          "scene": {
           "xaxis": {
            "backgroundcolor": "#E5ECF6",
            "gridcolor": "white",
            "gridwidth": 2,
            "linecolor": "white",
            "showbackground": true,
            "ticks": "",
            "zerolinecolor": "white"
           },
           "yaxis": {
            "backgroundcolor": "#E5ECF6",
            "gridcolor": "white",
            "gridwidth": 2,
            "linecolor": "white",
            "showbackground": true,
            "ticks": "",
            "zerolinecolor": "white"
           },
           "zaxis": {
            "backgroundcolor": "#E5ECF6",
            "gridcolor": "white",
            "gridwidth": 2,
            "linecolor": "white",
            "showbackground": true,
            "ticks": "",
            "zerolinecolor": "white"
           }
          },
          "shapedefaults": {
           "line": {
            "color": "#2a3f5f"
           }
          },
          "ternary": {
           "aaxis": {
            "gridcolor": "white",
            "linecolor": "white",
            "ticks": ""
           },
           "baxis": {
            "gridcolor": "white",
            "linecolor": "white",
            "ticks": ""
           },
           "bgcolor": "#E5ECF6",
           "caxis": {
            "gridcolor": "white",
            "linecolor": "white",
            "ticks": ""
           }
          },
          "title": {
           "x": 0.05
          },
          "xaxis": {
           "automargin": true,
           "gridcolor": "white",
           "linecolor": "white",
           "ticks": "",
           "title": {
            "standoff": 15
           },
           "zerolinecolor": "white",
           "zerolinewidth": 2
          },
          "yaxis": {
           "automargin": true,
           "gridcolor": "white",
           "linecolor": "white",
           "ticks": "",
           "title": {
            "standoff": 15
           },
           "zerolinecolor": "white",
           "zerolinewidth": 2
          }
         }
        },
        "title": {
         "text": "Absolute waste of Biologische prei per week"
        },
        "xaxis": {
         "anchor": "y",
         "domain": [
          0,
          1
         ],
         "title": {
          "text": "week"
         }
        },
        "yaxis": {
         "anchor": "x",
         "domain": [
          0,
          1
         ],
         "title": {
          "text": "Waste amount"
         }
        }
       }
      }
     },
     "metadata": {}
    }
   ],
   "source": [
    "import plotly.express as px\n",
    "fig = px.line(waste_group, x = \"week\", y = \"waste nn\", title=\"Absolute waste of {} per week\".format(product))\n",
    "fig.add_scatter(x=waste_group[\"week\"], y=waste_group[\"amount\"], mode=\"lines\")\n",
    "fig.add_scatter(x=waste_group[\"week\"], y=waste_group[\"weekly purchases\"], mode=\"lines\")\n",
    "fig.update_yaxes(title=\"Waste amount\")\n",
    "fig.show()"
   ]
  },
  {
   "cell_type": "code",
   "execution_count": 112,
   "metadata": {},
   "outputs": [
    {
     "output_type": "execute_result",
     "data": {
      "text/plain": [
       "day\n",
       "2018-01-01       8\n",
       "2018-01-02      13\n",
       "2018-01-03      18\n",
       "2018-01-04      30\n",
       "2018-01-05      40\n",
       "              ... \n",
       "2018-12-26    2913\n",
       "2018-12-27    2918\n",
       "2018-12-28    2921\n",
       "2018-12-29    2934\n",
       "2018-12-30    2943\n",
       "Name: product_id, Length: 364, dtype: int64"
      ]
     },
     "metadata": {},
     "execution_count": 112
    }
   ],
   "source": [
    "purchases_per_day"
   ]
  },
  {
   "cell_type": "code",
   "execution_count": 71,
   "metadata": {},
   "outputs": [],
   "source": [
    "transactions[\"day\"] = pd.to_datetime(transactions[\"day\"])\n",
    "filter_transactions = transactions[transactions[\"description\"] == product]"
   ]
  },
  {
   "cell_type": "code",
   "execution_count": 86,
   "metadata": {},
   "outputs": [
    {
     "output_type": "execute_result",
     "data": {
      "text/plain": [
       "             day      time  customer  bank acount   category product_id  \\\n",
       "89    2018-01-01  10:40:13       6.0   54211938.0  vegetable        v_1   \n",
       "467   2018-01-01  14:21:35      26.0   51433968.0  vegetable        v_1   \n",
       "573   2018-01-01  15:36:46      33.0   30794082.0  vegetable        v_1   \n",
       "700   2018-01-01  16:56:20      39.0   15832817.0  vegetable        v_1   \n",
       "808   2018-01-01  18:15:29      46.0   90399261.0  vegetable        v_1   \n",
       "821   2018-01-01  18:15:29      46.0   90399261.0  vegetable        v_1   \n",
       "824   2018-01-01  18:15:29      46.0   90399261.0  vegetable        v_1   \n",
       "879   2018-01-01  18:46:48      49.0   15382238.0  vegetable        v_1   \n",
       "29093 2018-01-02  12:52:06    1714.0   28719528.0  vegetable        v_1   \n",
       "29134 2018-01-02  13:44:14    1718.0   39309224.0  vegetable        v_1   \n",
       "29295 2018-01-02  15:15:43    1728.0    8997496.0  vegetable        v_1   \n",
       "29445 2018-01-02  17:57:52    1737.0   34052285.0  vegetable        v_1   \n",
       "29559 2018-01-02  18:51:21    1745.0   50106779.0  vegetable        v_1   \n",
       "55959 2018-01-03   9:22:58    3327.0          NaN  vegetable        v_1   \n",
       "56275 2018-01-03  13:35:26    3346.0   73805186.0  vegetable        v_1   \n",
       "56537 2018-01-03  16:48:00    3364.0   73806149.0  vegetable        v_1   \n",
       "56586 2018-01-03  17:58:20    3369.0     319898.0  vegetable        v_1   \n",
       "56613 2018-01-03  18:20:23    3370.0   98645816.0  vegetable        v_1   \n",
       "\n",
       "      description size  std_sales_price  purchase_price  bio  basic  \n",
       "89      Komkommer  1st             0.69            0.69  0.0    0.0  \n",
       "467     Komkommer  1st             0.69            0.69  0.0    0.0  \n",
       "573     Komkommer  1st             0.69            0.69  0.0    0.0  \n",
       "700     Komkommer  1st             0.69            0.69  0.0    0.0  \n",
       "808     Komkommer  1st             0.69            0.69  0.0    0.0  \n",
       "821     Komkommer  1st             0.69            0.69  0.0    0.0  \n",
       "824     Komkommer  1st             0.69            0.69  0.0    0.0  \n",
       "879     Komkommer  1st             0.69            0.69  0.0    0.0  \n",
       "29093   Komkommer  1st             0.69            0.69  0.0    0.0  \n",
       "29134   Komkommer  1st             0.69            0.69  0.0    0.0  \n",
       "29295   Komkommer  1st             0.69            0.69  0.0    0.0  \n",
       "29445   Komkommer  1st             0.69            0.69  0.0    0.0  \n",
       "29559   Komkommer  1st             0.69            0.69  0.0    0.0  \n",
       "55959   Komkommer  1st             0.69            0.69  0.0    0.0  \n",
       "56275   Komkommer  1st             0.69            0.69  0.0    0.0  \n",
       "56537   Komkommer  1st             0.69            0.69  0.0    0.0  \n",
       "56586   Komkommer  1st             0.69            0.69  0.0    0.0  \n",
       "56613   Komkommer  1st             0.69            0.69  0.0    0.0  "
      ],
      "text/html": "<div>\n<style scoped>\n    .dataframe tbody tr th:only-of-type {\n        vertical-align: middle;\n    }\n\n    .dataframe tbody tr th {\n        vertical-align: top;\n    }\n\n    .dataframe thead th {\n        text-align: right;\n    }\n</style>\n<table border=\"1\" class=\"dataframe\">\n  <thead>\n    <tr style=\"text-align: right;\">\n      <th></th>\n      <th>day</th>\n      <th>time</th>\n      <th>customer</th>\n      <th>bank acount</th>\n      <th>category</th>\n      <th>product_id</th>\n      <th>description</th>\n      <th>size</th>\n      <th>std_sales_price</th>\n      <th>purchase_price</th>\n      <th>bio</th>\n      <th>basic</th>\n    </tr>\n  </thead>\n  <tbody>\n    <tr>\n      <th>89</th>\n      <td>2018-01-01</td>\n      <td>10:40:13</td>\n      <td>6.0</td>\n      <td>54211938.0</td>\n      <td>vegetable</td>\n      <td>v_1</td>\n      <td>Komkommer</td>\n      <td>1st</td>\n      <td>0.69</td>\n      <td>0.69</td>\n      <td>0.0</td>\n      <td>0.0</td>\n    </tr>\n    <tr>\n      <th>467</th>\n      <td>2018-01-01</td>\n      <td>14:21:35</td>\n      <td>26.0</td>\n      <td>51433968.0</td>\n      <td>vegetable</td>\n      <td>v_1</td>\n      <td>Komkommer</td>\n      <td>1st</td>\n      <td>0.69</td>\n      <td>0.69</td>\n      <td>0.0</td>\n      <td>0.0</td>\n    </tr>\n    <tr>\n      <th>573</th>\n      <td>2018-01-01</td>\n      <td>15:36:46</td>\n      <td>33.0</td>\n      <td>30794082.0</td>\n      <td>vegetable</td>\n      <td>v_1</td>\n      <td>Komkommer</td>\n      <td>1st</td>\n      <td>0.69</td>\n      <td>0.69</td>\n      <td>0.0</td>\n      <td>0.0</td>\n    </tr>\n    <tr>\n      <th>700</th>\n      <td>2018-01-01</td>\n      <td>16:56:20</td>\n      <td>39.0</td>\n      <td>15832817.0</td>\n      <td>vegetable</td>\n      <td>v_1</td>\n      <td>Komkommer</td>\n      <td>1st</td>\n      <td>0.69</td>\n      <td>0.69</td>\n      <td>0.0</td>\n      <td>0.0</td>\n    </tr>\n    <tr>\n      <th>808</th>\n      <td>2018-01-01</td>\n      <td>18:15:29</td>\n      <td>46.0</td>\n      <td>90399261.0</td>\n      <td>vegetable</td>\n      <td>v_1</td>\n      <td>Komkommer</td>\n      <td>1st</td>\n      <td>0.69</td>\n      <td>0.69</td>\n      <td>0.0</td>\n      <td>0.0</td>\n    </tr>\n    <tr>\n      <th>821</th>\n      <td>2018-01-01</td>\n      <td>18:15:29</td>\n      <td>46.0</td>\n      <td>90399261.0</td>\n      <td>vegetable</td>\n      <td>v_1</td>\n      <td>Komkommer</td>\n      <td>1st</td>\n      <td>0.69</td>\n      <td>0.69</td>\n      <td>0.0</td>\n      <td>0.0</td>\n    </tr>\n    <tr>\n      <th>824</th>\n      <td>2018-01-01</td>\n      <td>18:15:29</td>\n      <td>46.0</td>\n      <td>90399261.0</td>\n      <td>vegetable</td>\n      <td>v_1</td>\n      <td>Komkommer</td>\n      <td>1st</td>\n      <td>0.69</td>\n      <td>0.69</td>\n      <td>0.0</td>\n      <td>0.0</td>\n    </tr>\n    <tr>\n      <th>879</th>\n      <td>2018-01-01</td>\n      <td>18:46:48</td>\n      <td>49.0</td>\n      <td>15382238.0</td>\n      <td>vegetable</td>\n      <td>v_1</td>\n      <td>Komkommer</td>\n      <td>1st</td>\n      <td>0.69</td>\n      <td>0.69</td>\n      <td>0.0</td>\n      <td>0.0</td>\n    </tr>\n    <tr>\n      <th>29093</th>\n      <td>2018-01-02</td>\n      <td>12:52:06</td>\n      <td>1714.0</td>\n      <td>28719528.0</td>\n      <td>vegetable</td>\n      <td>v_1</td>\n      <td>Komkommer</td>\n      <td>1st</td>\n      <td>0.69</td>\n      <td>0.69</td>\n      <td>0.0</td>\n      <td>0.0</td>\n    </tr>\n    <tr>\n      <th>29134</th>\n      <td>2018-01-02</td>\n      <td>13:44:14</td>\n      <td>1718.0</td>\n      <td>39309224.0</td>\n      <td>vegetable</td>\n      <td>v_1</td>\n      <td>Komkommer</td>\n      <td>1st</td>\n      <td>0.69</td>\n      <td>0.69</td>\n      <td>0.0</td>\n      <td>0.0</td>\n    </tr>\n    <tr>\n      <th>29295</th>\n      <td>2018-01-02</td>\n      <td>15:15:43</td>\n      <td>1728.0</td>\n      <td>8997496.0</td>\n      <td>vegetable</td>\n      <td>v_1</td>\n      <td>Komkommer</td>\n      <td>1st</td>\n      <td>0.69</td>\n      <td>0.69</td>\n      <td>0.0</td>\n      <td>0.0</td>\n    </tr>\n    <tr>\n      <th>29445</th>\n      <td>2018-01-02</td>\n      <td>17:57:52</td>\n      <td>1737.0</td>\n      <td>34052285.0</td>\n      <td>vegetable</td>\n      <td>v_1</td>\n      <td>Komkommer</td>\n      <td>1st</td>\n      <td>0.69</td>\n      <td>0.69</td>\n      <td>0.0</td>\n      <td>0.0</td>\n    </tr>\n    <tr>\n      <th>29559</th>\n      <td>2018-01-02</td>\n      <td>18:51:21</td>\n      <td>1745.0</td>\n      <td>50106779.0</td>\n      <td>vegetable</td>\n      <td>v_1</td>\n      <td>Komkommer</td>\n      <td>1st</td>\n      <td>0.69</td>\n      <td>0.69</td>\n      <td>0.0</td>\n      <td>0.0</td>\n    </tr>\n    <tr>\n      <th>55959</th>\n      <td>2018-01-03</td>\n      <td>9:22:58</td>\n      <td>3327.0</td>\n      <td>NaN</td>\n      <td>vegetable</td>\n      <td>v_1</td>\n      <td>Komkommer</td>\n      <td>1st</td>\n      <td>0.69</td>\n      <td>0.69</td>\n      <td>0.0</td>\n      <td>0.0</td>\n    </tr>\n    <tr>\n      <th>56275</th>\n      <td>2018-01-03</td>\n      <td>13:35:26</td>\n      <td>3346.0</td>\n      <td>73805186.0</td>\n      <td>vegetable</td>\n      <td>v_1</td>\n      <td>Komkommer</td>\n      <td>1st</td>\n      <td>0.69</td>\n      <td>0.69</td>\n      <td>0.0</td>\n      <td>0.0</td>\n    </tr>\n    <tr>\n      <th>56537</th>\n      <td>2018-01-03</td>\n      <td>16:48:00</td>\n      <td>3364.0</td>\n      <td>73806149.0</td>\n      <td>vegetable</td>\n      <td>v_1</td>\n      <td>Komkommer</td>\n      <td>1st</td>\n      <td>0.69</td>\n      <td>0.69</td>\n      <td>0.0</td>\n      <td>0.0</td>\n    </tr>\n    <tr>\n      <th>56586</th>\n      <td>2018-01-03</td>\n      <td>17:58:20</td>\n      <td>3369.0</td>\n      <td>319898.0</td>\n      <td>vegetable</td>\n      <td>v_1</td>\n      <td>Komkommer</td>\n      <td>1st</td>\n      <td>0.69</td>\n      <td>0.69</td>\n      <td>0.0</td>\n      <td>0.0</td>\n    </tr>\n    <tr>\n      <th>56613</th>\n      <td>2018-01-03</td>\n      <td>18:20:23</td>\n      <td>3370.0</td>\n      <td>98645816.0</td>\n      <td>vegetable</td>\n      <td>v_1</td>\n      <td>Komkommer</td>\n      <td>1st</td>\n      <td>0.69</td>\n      <td>0.69</td>\n      <td>0.0</td>\n      <td>0.0</td>\n    </tr>\n  </tbody>\n</table>\n</div>"
     },
     "metadata": {},
     "execution_count": 86
    }
   ],
   "source": [
    "daydate = df_date[df_date[\"day\"] == 2][\"date\"].values[0]\n",
    "\n",
    "filter_transactions[filter_transactions[\"day\"] <= daydate]\n"
   ]
  },
  {
   "cell_type": "code",
   "execution_count": 111,
   "metadata": {},
   "outputs": [
    {
     "output_type": "execute_result",
     "data": {
      "text/plain": [
       "day\n",
       "2018-01-01       8\n",
       "2018-01-02      13\n",
       "2018-01-03      18\n",
       "2018-01-04      30\n",
       "2018-01-05      40\n",
       "              ... \n",
       "2018-12-26    2913\n",
       "2018-12-27    2918\n",
       "2018-12-28    2921\n",
       "2018-12-29    2934\n",
       "2018-12-30    2943\n",
       "Name: product_id, Length: 364, dtype: int64"
      ]
     },
     "metadata": {},
     "execution_count": 111
    }
   ],
   "source": [
    "purchases_per_day = filter_transactions.groupby(\"day\").count()[\"product_id\"].cumsum()\n",
    "purchases_per_day"
   ]
  },
  {
   "cell_type": "code",
   "execution_count": 52,
   "metadata": {},
   "outputs": [
    {
     "output_type": "execute_result",
     "data": {
      "text/plain": [
       "numpy.datetime64('2018-01-15T00:00:00.000000000')"
      ]
     },
     "metadata": {},
     "execution_count": 52
    }
   ],
   "source": [
    "daydate"
   ]
  },
  {
   "cell_type": "code",
   "execution_count": 15,
   "metadata": {},
   "outputs": [],
   "source": [
    "dayofyear = list(range(365))\n",
    "date = [datetime.datetime(2018, 1, 1) + datetime.timedelta(day) for day in dayofyear]\n",
    "df_date = pd.DataFrame({\"day\":dayofyear, \"date\":date})"
   ]
  }
 ]
}