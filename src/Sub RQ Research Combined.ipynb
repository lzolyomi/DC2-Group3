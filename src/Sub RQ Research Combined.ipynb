{
 "cells": [
  {
   "cell_type": "markdown",
   "id": "juvenile-airline",
   "metadata": {},
   "source": [
    "# Sub Research Questions"
   ]
  },
  {
   "cell_type": "markdown",
   "id": "afraid-petersburg",
   "metadata": {},
   "source": [
    "### Imports"
   ]
  },
  {
   "cell_type": "markdown",
   "id": "unable-fight",
   "metadata": {},
   "source": [
    "#### Packages"
   ]
  },
  {
   "cell_type": "code",
   "execution_count": 6,
   "id": "parallel-spectacular",
   "metadata": {},
   "outputs": [],
   "source": [
    "# General Packages\n",
    "import pandas as pd\n",
    "import numpy as np \n",
    "import ast\n",
    "import os\n",
    "\n",
    "#EDA Packages\n",
    "\n",
    "#Waste Analysis\n",
    "\n",
    "#Promotion Analysis\n",
    "import matplotlib.pyplot as plt"
   ]
  },
  {
   "cell_type": "markdown",
   "id": "available-swaziland",
   "metadata": {},
   "source": [
    "#### Data"
   ]
  },
  {
   "cell_type": "code",
   "execution_count": 8,
   "id": "brilliant-situation",
   "metadata": {},
   "outputs": [],
   "source": [
    "inventory = pd.read_csv(\"inventory.csv\")\n",
    "products = pd.read_csv(\"products.csv\")\n",
    "promotions = pd.read_csv(\"promotions.csv\")\n",
    "transactions = pd.read_csv(\"transactions.csv\")"
   ]
  },
  {
   "cell_type": "markdown",
   "id": "reverse-hepatitis",
   "metadata": {},
   "source": [
    "## Explorative Data Analysis"
   ]
  },
  {
   "cell_type": "code",
   "execution_count": null,
   "id": "careful-device",
   "metadata": {},
   "outputs": [],
   "source": [
    "# Finding the quantity of a product\n",
    "\n",
    "def count_inventory(colname, df_inventory):\n",
    "    item = df_inventory[colname]\n",
    "    amount = 0\n",
    "    current_len = 0\n",
    "    for inv in item:\n",
    "        if len(inv) > current_len:\n",
    "            amount += inv[-1][-1]\n",
    "        current_len = len(inv)\n",
    "    return amount"
   ]
  },
  {
   "cell_type": "markdown",
   "id": "particular-jacksonville",
   "metadata": {},
   "source": [
    "## Waste Analysis"
   ]
  },
  {
   "cell_type": "code",
   "execution_count": null,
   "id": "roman-james",
   "metadata": {},
   "outputs": [],
   "source": [
    "#create a reference dataframe\n",
    "dayofyear = list(range(365))\n",
    "date = [datetime.datetime(2018, 1, 1) + datetime.timedelta(day) for day in dayofyear]\n",
    "df_date = pd.DataFrame({\"day\":dayofyear, \"date\":date})\n",
    "\n",
    "for colname in inventory.columns[2:]:\n",
    "    inventory[colname] = [ast.literal_eval(i) for i in inventory[colname]]\n",
    "    #converting inventory rows to list of tuples from string"
   ]
  },
  {
   "cell_type": "code",
   "execution_count": null,
   "id": "considerable-valuable",
   "metadata": {},
   "outputs": [],
   "source": [
    "product = \"Biologische prei\" #select the product to analyze\n",
    "transactions[transactions[\"description\"] == product] #transactions for that product"
   ]
  },
  {
   "cell_type": "code",
   "execution_count": null,
   "id": "quality-mortgage",
   "metadata": {},
   "outputs": [],
   "source": [
    "def date_converter(row):\n",
    "    converted_date = datetime.datetime(2018, 1, 1) + datetime.timedelta(row[\"day\"])\n",
    "    return converted_date\n",
    "\n",
    "inventory[\"date\"] = inventory.apply(date_converter, axis = 1) #convert day of year to actual timestamp\n",
    "\n",
    "def week_of_year(row):\n",
    "    week_nr = datetime.date(row[\"date\"].year, row[\"date\"].month, row[\"date\"].day).isocalendar()[1]\n",
    "    return week_nr\n",
    "\n",
    "inventory[\"week\"] = inventory.apply(week_of_year, axis = 1)\n",
    "#add nr week of year as an extra column to inventory"
   ]
  },
  {
   "cell_type": "code",
   "execution_count": null,
   "id": "hydraulic-bleeding",
   "metadata": {},
   "outputs": [],
   "source": [
    "#only keep relevant columns in inventory\n",
    "filter_inventory = inventory[[\"day\", \"before or after delivery\", \"date\", \"week\", product]]\n",
    "#filters promotion table to only contain discounts for chosen product\n",
    "promotions_filter = promotions[promotions[\"description\"] == product]\n",
    "\n",
    "def check_discount(row):\n",
    "    if row[\"week\"] in promotions_filter[\"week\"].values:\n",
    "        discount_amount = promotions_filter[promotions_filter[\"week\"] == row[\"week\"]][\"discount\"]\n",
    "        return discount_amount.values[0]\n",
    "    else:\n",
    "        return 0\n",
    "#adds extra column to filter inventory containing discount amount\n",
    "filter_inventory[\"discount\"] = filter_inventory.apply(check_discount, axis = 1)\n"
   ]
  },
  {
   "cell_type": "code",
   "execution_count": null,
   "id": "impaired-jenny",
   "metadata": {},
   "outputs": [],
   "source": [
    "def total_inv(row):\n",
    "    total = 0\n",
    "    if len(row[product]) > 0:\n",
    "        for batch in row[product]:\n",
    "            total += batch[1]\n",
    "    return total\n",
    "#adds total nr items in inventory for the filtered dataframe\n",
    "filter_inventory[\"total inventory\"] = filter_inventory.apply(total_inv, axis = 1)"
   ]
  },
  {
   "cell_type": "code",
   "execution_count": null,
   "id": "every-roulette",
   "metadata": {},
   "outputs": [],
   "source": [
    "best_before = []\n",
    "for element_list in filter_inventory[product]:\n",
    "    for batch in element_list:\n",
    "        best_before.append(batch[0])\n",
    "bb_dates = np.unique(best_before)\n",
    "#list of each unique best before dates\n",
    "bb_dates"
   ]
  },
  {
   "cell_type": "code",
   "execution_count": null,
   "id": "billion-melbourne",
   "metadata": {},
   "outputs": [],
   "source": [
    "df_waste = pd.DataFrame({\"best before\":bb_dates})\n",
    "df_waste #build initial df with points where waste can occur"
   ]
  },
  {
   "cell_type": "code",
   "execution_count": null,
   "id": "frozen-middle",
   "metadata": {},
   "outputs": [],
   "source": [
    "def input_inv(row):\n",
    "    for element_list in filter_inventory[product]:\n",
    "        if len(element_list) > 0:\n",
    "            for batch in element_list:\n",
    "                if batch[0] == row[\"best before\"]:\n",
    "                    return batch[1]\n",
    "\n",
    "df_waste[\"amount\"] = df_waste.apply(input_inv, axis = 1)\n",
    "df_waste #amount that was received with particular expiry date"
   ]
  },
  {
   "cell_type": "code",
   "execution_count": null,
   "id": "engaged-cover",
   "metadata": {},
   "outputs": [],
   "source": [
    "df_waste = df_waste[df_waste[\"best before\"] < 365] #only keep rows where expiry date is in same year\n",
    "df_waste"
   ]
  },
  {
   "cell_type": "code",
   "execution_count": null,
   "id": "joined-redhead",
   "metadata": {},
   "outputs": [],
   "source": [
    "transactions[\"day\"] = pd.to_datetime(transactions[\"day\"])\n",
    "filter_transactions = transactions[transactions[\"description\"] == product]\n",
    "#converts date then filters transactions to contain selected product purchases\n",
    "\n",
    "first_restock = df_date[df_date[\"day\"] == 3][\"date\"].values[0]\n",
    "#first_restock check purchases mde before the first restock\n",
    "filter_transactions[filter_transactions[\"day\"] < first_restock]\n",
    "#PROBLEM: IF A PRODUCT HASN'T BEEN BOUGHT IN ONE DAY IT HAS A ZERO, CAUSES AN ERROR FEW CELLS "
   ]
  },
  {
   "cell_type": "code",
   "execution_count": null,
   "id": "wicked-weight",
   "metadata": {},
   "outputs": [],
   "source": [
    "#cumulative sum of purchases from that product\n",
    "purchases_per_day = filter_transactions.groupby(\"day\").count()[\"product_id\"].cumsum()\n",
    "#purchases made per day from that product\n",
    "purchases_per_day_plotting = filter_transactions.groupby(\"day\").count()[\"product_id\"]\n",
    "#idk know what is this\n",
    "purchases_per_day_plotting.index = purchases_per_day_plotting.index.dayofyear/7\n",
    "purchases_per_day_plotting"
   ]
  },
  {
   "cell_type": "code",
   "execution_count": null,
   "id": "comprehensive-thing",
   "metadata": {},
   "outputs": [],
   "source": [
    "purchases_per_day.index[0].year\n",
    "weeknr = []\n",
    "for ind in purchases_per_day.index:\n",
    "    week = datetime.date(ind.year, ind.month, ind.day).isocalendar()[1]\n",
    "    weeknr.append(week)\n",
    "#week number for each purchase day"
   ]
  },
  {
   "cell_type": "code",
   "execution_count": null,
   "id": "hazardous-water",
   "metadata": {},
   "outputs": [],
   "source": [
    "df_waste[\"purchases\"] = [purchases_per_day[i-1] for i in df_waste[\"best before\"]]\n",
    "#add cumulative sum of purchases up until that day (based on expiry dates)\n",
    "df_waste"
   ]
  },
  {
   "cell_type": "code",
   "execution_count": null,
   "id": "animal-haiti",
   "metadata": {},
   "outputs": [],
   "source": [
    "df_waste[\"prev purchases\"] = df_waste[\"purchases\"].diff()\n",
    "df_waste #difference in purchases since a previous batch of product expired"
   ]
  },
  {
   "cell_type": "code",
   "execution_count": null,
   "id": "breathing-pilot",
   "metadata": {},
   "outputs": [],
   "source": [
    "length = df_waste.shape[0]\n",
    "lst_waste = [] #nr rows in waste dataframe\n",
    "#amount left from the item\n",
    "df_waste[\"remaining\"] = df_waste[\"amount\"] - df_waste[\"prev purchases\"] \n",
    "#the first row is different as there is no prev pruchases available\n",
    "df_waste[\"remaining\"].iloc[0] = df_waste[\"amount\"].iloc[0] - df_waste[\"purchases\"].iloc[0]\n",
    "\n",
    "for i in range(length):\n",
    "    #iterates through the rows of the waste dataframe\n",
    "    current_row = df_waste.iloc[i]\n",
    "    if i == 0:\n",
    "        #\n",
    "        lst_waste.append(current_row[\"remaining\"])\n",
    "        continue     \n",
    "    else:\n",
    "        prev_row = df_waste.iloc[i-1] #previous row in dataframe\n",
    "        if lst_waste[-1] < 0:\n",
    "            #no idea whats happening here\n",
    "            waste = lst_waste[-1] + current_row[\"remaining\"]\n",
    "            lst_waste.append(lst_waste[-1] + current_row[\"remaining\"])\n",
    "        else:\n",
    "            lst_waste.append(current_row[\"remaining\"])\n",
    "    \n",
    "df_waste[\"waste\"] = lst_waste\n",
    "def date_converter(row):\n",
    "    converted_date = datetime.datetime(2018, 1, 1) + datetime.timedelta(row[\"best before\"])\n",
    "    return converted_date\n",
    "\n",
    "df_waste[\"date\"] = df_waste.apply(date_converter, axis = 1)\n",
    "df_waste[\"week\"] = df_waste.apply(week_of_year, axis = 1)\n",
    "df_waste[df_waste[\"waste\"] < 0][\"waste\"] = 0\n",
    "df_waste"
   ]
  },
  {
   "cell_type": "code",
   "execution_count": null,
   "id": "exempt-direction",
   "metadata": {},
   "outputs": [],
   "source": [
    "df_waste[\"waste nn\"] = [i if i > 0 else 0 for i in df_waste[\"waste\"]]\n",
    "#takes nonnegative values which is counted as waste\n",
    "waste_group = df_waste.groupby(\"week\").sum()\n",
    "waste_group[\"weekly purchases\"] = waste_group[\"purchases\"].diff()\n"
   ]
  },
  {
   "cell_type": "markdown",
   "id": "legal-vocabulary",
   "metadata": {},
   "source": [
    "## Promotions Analysis"
   ]
  },
  {
   "cell_type": "code",
   "execution_count": null,
   "id": "compliant-crystal",
   "metadata": {},
   "outputs": [],
   "source": [
    "transactions['day'] = pd.to_datetime(transactions['day'])\n",
    "transactions['time'] = pd.to_datetime(transactions['time'])\n",
    "transactions['week'] = transactions['day'].dt.strftime('%U')\n",
    "transactions['week'] = pd.to_numeric(transactions['week'])\n",
    "transactions['hour'] = transactions['time'].dt.strftime('%H')"
   ]
  },
  {
   "cell_type": "code",
   "execution_count": null,
   "id": "compatible-declaration",
   "metadata": {},
   "outputs": [],
   "source": [
    "# how much does each customer (incl. repeats) spend per trip?"
   ]
  },
  {
   "cell_type": "code",
   "execution_count": null,
   "id": "informed-affairs",
   "metadata": {},
   "outputs": [],
   "source": [
    "spent_each = transactions.groupby('customer')['purchase_price'].sum()\n",
    "# on average, each customer spends 31.64 per trip\n",
    "spent_each = spent_each.sample(n=100)\n",
    "plt.scatter(spent_each.index, spent_each)\n",
    "plt.show()"
   ]
  },
  {
   "cell_type": "code",
   "execution_count": null,
   "id": "entertaining-participation",
   "metadata": {},
   "outputs": [],
   "source": [
    "# What percentage of customers is paying by card and is a regular customer?"
   ]
  },
  {
   "cell_type": "code",
   "execution_count": null,
   "id": "global-microphone",
   "metadata": {},
   "outputs": [],
   "source": [
    "customers = transactions[[\"customer\", \"bank acount\"]]\n",
    "# new row for every product a customer buys, so customer and bank act columns are identical for two products\n",
    "unique_customers = customers.drop_duplicates()\n",
    "# nrs appearing for bank act means they paid w one\n",
    "bankact = unique_customers[unique_customers['bank acount'] > 0]\n",
    "# % of customers w bank act\n",
    "num_bank_act = len(bankact) / len(unique_customers)\n",
    "# at what time do customers come most often?\n",
    "cust_freq = transactions.drop_duplicates(subset=['customer'])\n",
    "# Of those paying with a bank acct, what percentage of the items are on discount?\n",
    "bankact_full = transactions[transactions['bank acount'] > 0]"
   ]
  },
  {
   "cell_type": "code",
   "execution_count": null,
   "id": "comparable-being",
   "metadata": {},
   "outputs": [],
   "source": [
    "bankact_full = bankact_full.drop_duplicates(subset=['customer'])\n",
    "repeat_customers = bankact_full[bankact_full.duplicated(subset=['bank acount'], keep=False) == True]\n",
    "repeat_customers\n",
    "# repeat_customers['bank acount'].value_counts().mean()\n",
    "#\n",
    "# of the customers that visit more than once, on avg they visited 38 times in a year\n",
    "repeat_customers.groupby('bank acount')['purchase_price'].sum()"
   ]
  },
  {
   "cell_type": "code",
   "execution_count": null,
   "id": "international-easter",
   "metadata": {},
   "outputs": [],
   "source": [
    "cash_full = transactions[transactions['bank acount'].isnull()]\n",
    "discounts_amount = discounts[['category', 'description', 'discount']].copy()\n",
    "# discounts_amount[discounts_amount.duplicated(keep=False) == True]\n",
    "discounts_category = discounts_amount.groupby('category').describe()\n",
    "# discounts_amount = discounts_amount.groupby(['category', 'description', 'discount']).size()\n",
    "discounts_category['discount']['mean']"
   ]
  },
  {
   "cell_type": "code",
   "execution_count": null,
   "id": "provincial-costume",
   "metadata": {},
   "outputs": [],
   "source": [
    "discounts_description = discounts_amount[discounts_amount['category'] == 'snack']\n",
    "discounts_description.groupby('description').describe()"
   ]
  },
  {
   "cell_type": "code",
   "execution_count": null,
   "id": "editorial-raleigh",
   "metadata": {},
   "outputs": [],
   "source": [
    "discounts_week = discounts[['week', 'product_id']].copy()\n",
    "bankact_week = bankact_full[['week', 'product_id']].copy()\n",
    "bankact_unique_week = bankact_week.drop_duplicates().reset_index(drop=True)\n",
    "result = bankact_unique_week.append(discounts_week)\n",
    "result = result.reset_index(drop=True)\n",
    "result[result.duplicated(keep='last')]"
   ]
  },
  {
   "cell_type": "code",
   "execution_count": null,
   "id": "round-legislation",
   "metadata": {},
   "outputs": [],
   "source": [
    "#which item appears the most often in the discount?"
   ]
  },
  {
   "cell_type": "code",
   "execution_count": null,
   "id": "smart-making",
   "metadata": {},
   "outputs": [],
   "source": [
    "# What percentage of items are customers paying w bankact buying vs w cash?"
   ]
  },
  {
   "cell_type": "code",
   "execution_count": null,
   "id": "covered-oasis",
   "metadata": {},
   "outputs": [],
   "source": [
    "bankact_full['category'].value_counts()) / len(bankact_full\n",
    "cash_full['category'].value_counts() / len(cash_full)"
   ]
  },
  {
   "cell_type": "code",
   "execution_count": null,
   "id": "independent-belief",
   "metadata": {},
   "outputs": [],
   "source": [
    "category_product = products['category'].value_counts()\n",
    "products[products['product_id'] == 'f_4']\n",
    "products[products['product_id'] == 'v_9']"
   ]
  },
  {
   "cell_type": "code",
   "execution_count": null,
   "id": "prerequisite-rating",
   "metadata": {},
   "outputs": [],
   "source": [
    "discounts['product_id'].value_counts()"
   ]
  },
  {
   "cell_type": "code",
   "execution_count": null,
   "id": "federal-roads",
   "metadata": {},
   "outputs": [],
   "source": [
    "category_discount = discounts['category'].value_counts()\n",
    "fig = plt.figure()\n",
    "ax = fig.add_axes([0,0,1,1])\n",
    "types = ['meat', 'bread', 'vegetable', 'fruit', 'snack']\n",
    "ax.set_title('Percentage of discounted products per category per week')\n",
    "ax.bar(types, [(category_discount[0]/52)/category_product[0]*100, (category_discount[1]/52)/category_product[1]*100, (category_discount[2]/52)/category_product[2]*100, (category_discount[3]/52)/category_product[3]*100, (category_discount[4]/52)/category_product[4]*100])\n",
    "plt.savefig('percentproducts.png',bbox_inches='tight', dpi=600)\n",
    "# try box plot instead"
   ]
  },
  {
   "cell_type": "markdown",
   "id": "impossible-winter",
   "metadata": {},
   "source": [
    "## Promotions and Transactions"
   ]
  },
  {
   "cell_type": "code",
   "execution_count": null,
   "id": "periodic-output",
   "metadata": {},
   "outputs": [],
   "source": [
    "transactions[\"day\"] = pd.to_datetime(transactions[\"day\"])\n",
    "transactions['week'] = \"\""
   ]
  },
  {
   "cell_type": "code",
   "execution_count": null,
   "id": "rising-cosmetic",
   "metadata": {},
   "outputs": [],
   "source": [
    "for n in range(0,len(transactions)):\n",
    "    transactions['week'][n] = transactions['day'][n].weekofyear"
   ]
  },
  {
   "cell_type": "code",
   "execution_count": null,
   "id": "healthy-combat",
   "metadata": {},
   "outputs": [],
   "source": [
    "transactions.to_csv(\"transactions_with weeks.csv\")"
   ]
  },
  {
   "cell_type": "code",
   "execution_count": null,
   "id": "brutal-sustainability",
   "metadata": {},
   "outputs": [],
   "source": [
    "t = transactions.groupby(['week','product_id'])"
   ]
  },
  {
   "cell_type": "code",
   "execution_count": null,
   "id": "veterinary-swiss",
   "metadata": {},
   "outputs": [],
   "source": [
    "t2 = t.count()['day']\n",
    "t2 = t2.reset_index()\n",
    "t2['on sale'] = False\n",
    "t2 = t2[:-1]"
   ]
  },
  {
   "cell_type": "code",
   "execution_count": null,
   "id": "adjacent-lithuania",
   "metadata": {},
   "outputs": [],
   "source": [
    "lastweek = 0 \n",
    "count = 0\n",
    "for week in promotions['week']:\n",
    "    #print(week)\n",
    "    if week != lastweek:\n",
    "        lastweek = week                #if still week 1 won't go into loop\n",
    "        weekx = promotions[promotions['week'] == week] \n",
    "        weeky = t2[t2['week'] == week]\n",
    "        for product in weeky['product_id']:\n",
    "            #print(product)\n",
    "            count = count + 1\n",
    "            for product2 in weekx['product_id']:\n",
    "                if product == product2:\n",
    "                    t2['on sale'][count - 1] = True\n"
   ]
  },
  {
   "cell_type": "code",
   "execution_count": 9,
   "id": "known-delta",
   "metadata": {},
   "outputs": [],
   "source": [
    "#t_delete = t2[(t2['on sale'] == True) & (t2['week'] == 1)]\n",
    "#p_delete = promotions[promotions['week'] == 1]"
   ]
  },
  {
   "cell_type": "code",
   "execution_count": null,
   "id": "bright-overall",
   "metadata": {},
   "outputs": [],
   "source": [
    "#t_delete.count()\n",
    "#p_delete.count()"
   ]
  },
  {
   "cell_type": "code",
   "execution_count": null,
   "id": "mineral-evans",
   "metadata": {},
   "outputs": [],
   "source": [
    "t3 = t2.copy()\n",
    "t3['num of transactions'] = t3['day']\n",
    "t3.drop(['day'],axis = 1)"
   ]
  },
  {
   "cell_type": "code",
   "execution_count": null,
   "id": "wrapped-explorer",
   "metadata": {},
   "outputs": [],
   "source": [
    "b_1 = t3[t3['product_id'] == \"b_1\"]\n",
    "x0 = b_1[b_1['on sale'] == True]"
   ]
  },
  {
   "cell_type": "code",
   "execution_count": null,
   "id": "preceding-maker",
   "metadata": {},
   "outputs": [],
   "source": [
    "plt.plot(b_1['week'],b_1['num of transactions'],\"-o\")\n",
    "plt.plot(x0['week'],x0['num of transactions'], \"s\")\n",
    "plt.title('week vs num of transactions of b_1', fontsize=14)\n",
    "plt.xlabel('week', fontsize=14)\n",
    "plt.ylabel('num of transac', fontsize=14)\n",
    "plt.grid(True)\n",
    "plt.show()"
   ]
  }
 ],
 "metadata": {
  "kernelspec": {
   "display_name": "Python 3",
   "language": "python",
   "name": "python3"
  },
  "language_info": {
   "codemirror_mode": {
    "name": "ipython",
    "version": 3
   },
   "file_extension": ".py",
   "mimetype": "text/x-python",
   "name": "python",
   "nbconvert_exporter": "python",
   "pygments_lexer": "ipython3",
   "version": "3.8.3"
  }
 },
 "nbformat": 4,
 "nbformat_minor": 5
}
