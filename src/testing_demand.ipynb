{
 "metadata": {
  "language_info": {
   "codemirror_mode": {
    "name": "ipython",
    "version": 3
   },
   "file_extension": ".py",
   "mimetype": "text/x-python",
   "name": "python",
   "nbconvert_exporter": "python",
   "pygments_lexer": "ipython3",
   "version": "3.8.2-final"
  },
  "orig_nbformat": 2,
  "kernelspec": {
   "name": "python3",
   "display_name": "Python 3.8.2 64-bit",
   "metadata": {
    "interpreter": {
     "hash": "1baa965d5efe3ac65b79dfc60c0d706280b1da80fedb7760faf2759126c4f253"
    }
   }
  }
 },
 "nbformat": 4,
 "nbformat_minor": 2,
 "cells": [
  {
   "cell_type": "code",
   "execution_count": 1,
   "metadata": {},
   "outputs": [],
   "source": [
    "import pandas as pd \n",
    "import numpy as np \n",
    "from demand import prepare_data, prepare_demand_function, fit_demand_function, prepare_predictors\n",
    "from discounts import apply_discount\n",
    "transactions = pd.read_csv(\"data/transactions.csv\")\n",
    "discounts_per_day = pd.read_csv(\"nr_discounts_per_day.csv\")#csv with the nr of discounts daily"
   ]
  },
  {
   "cell_type": "code",
   "execution_count": 2,
   "metadata": {},
   "outputs": [],
   "source": [
    "product = \"Biologische kikkererwten\"\n",
    "\n",
    "filtered_transactions = transactions[(transactions[\"description\"] == product) & (transactions[\"bio\"] == 1)]"
   ]
  },
  {
   "cell_type": "code",
   "execution_count": 3,
   "metadata": {},
   "outputs": [
    {
     "output_type": "stream",
     "name": "stderr",
     "text": [
      "c:\\Users\\zolyo\\OneDrive\\Documents\\Quartile 3\\JBG050 Data Challenge 2\\Code\\src\\demand.py:15: SettingWithCopyWarning: \n",
      "A value is trying to be set on a copy of a slice from a DataFrame.\n",
      "Try using .loc[row_indexer,col_indexer] = value instead\n",
      "\n",
      "See the caveats in the documentation: https://pandas.pydata.org/pandas-docs/stable/user_guide/indexing.html#returning-a-view-versus-a-copy\n",
      "  filtered_transactions[\"day\"] = pd.to_datetime(filtered_transactions[\"day\"])\n",
      "c:\\Users\\zolyo\\OneDrive\\Documents\\Quartile 3\\JBG050 Data Challenge 2\\Code\\src\\demand.py:18: SettingWithCopyWarning: \n",
      "A value is trying to be set on a copy of a slice from a DataFrame.\n",
      "Try using .loc[row_indexer,col_indexer] = value instead\n",
      "\n",
      "See the caveats in the documentation: https://pandas.pydata.org/pandas-docs/stable/user_guide/indexing.html#returning-a-view-versus-a-copy\n",
      "  filtered_transactions[\"discount\"] = 100-(\n",
      "c:\\Users\\zolyo\\OneDrive\\Documents\\Quartile 3\\JBG050 Data Challenge 2\\Code\\src\\demand.py:27: SettingWithCopyWarning: \n",
      "A value is trying to be set on a copy of a slice from a DataFrame.\n",
      "Try using .loc[row_indexer,col_indexer] = value instead\n",
      "\n",
      "See the caveats in the documentation: https://pandas.pydata.org/pandas-docs/stable/user_guide/indexing.html#returning-a-view-versus-a-copy\n",
      "  purchases[\"month\"] = [purchases.index[i][1].month_name() for i in range(purchases.shape[0])]\n",
      "c:\\Users\\zolyo\\OneDrive\\Documents\\Quartile 3\\JBG050 Data Challenge 2\\Code\\src\\demand.py:29: SettingWithCopyWarning: \n",
      "A value is trying to be set on a copy of a slice from a DataFrame.\n",
      "Try using .loc[row_indexer,col_indexer] = value instead\n",
      "\n",
      "See the caveats in the documentation: https://pandas.pydata.org/pandas-docs/stable/user_guide/indexing.html#returning-a-view-versus-a-copy\n",
      "  purchases[\"product\"] = [purchases.index[i][0] for i in range(purchases.shape[0])]\n",
      "c:\\Users\\zolyo\\OneDrive\\Documents\\Quartile 3\\JBG050 Data Challenge 2\\Code\\src\\demand.py:31: SettingWithCopyWarning: \n",
      "A value is trying to be set on a copy of a slice from a DataFrame.\n",
      "Try using .loc[row_indexer,col_indexer] = value instead\n",
      "\n",
      "See the caveats in the documentation: https://pandas.pydata.org/pandas-docs/stable/user_guide/indexing.html#returning-a-view-versus-a-copy\n",
      "  purchases[\"day\"] = [purchases.index[i][1].dayofyear for i in range(purchases.shape[0])]\n",
      "c:\\Users\\zolyo\\OneDrive\\Documents\\Quartile 3\\JBG050 Data Challenge 2\\Code\\src\\demand.py:33: SettingWithCopyWarning: \n",
      "A value is trying to be set on a copy of a slice from a DataFrame.\n",
      "Try using .loc[row_indexer,col_indexer] = value instead\n",
      "\n",
      "See the caveats in the documentation: https://pandas.pydata.org/pandas-docs/stable/user_guide/indexing.html#returning-a-view-versus-a-copy\n",
      "  purchases[\"dayofweek\"] = [purchases.index[i][1].dayofweek for i in range(purchases.shape[0])]\n",
      "C:\\Users\\zolyo\\AppData\\Roaming\\Python\\Python38\\site-packages\\pandas\\core\\series.py:4575: SettingWithCopyWarning: \n",
      "A value is trying to be set on a copy of a slice from a DataFrame\n",
      "\n",
      "See the caveats in the documentation: https://pandas.pydata.org/pandas-docs/stable/user_guide/indexing.html#returning-a-view-versus-a-copy\n",
      "  return super().replace(\n",
      "c:\\Users\\zolyo\\OneDrive\\Documents\\Quartile 3\\JBG050 Data Challenge 2\\Code\\src\\demand.py:35: SettingWithCopyWarning: \n",
      "A value is trying to be set on a copy of a slice from a DataFrame.\n",
      "Try using .loc[row_indexer,col_indexer] = value instead\n",
      "\n",
      "See the caveats in the documentation: https://pandas.pydata.org/pandas-docs/stable/user_guide/indexing.html#returning-a-view-versus-a-copy\n",
      "  purchases[\"purchase_price\"] = pp\n",
      "c:\\Users\\zolyo\\OneDrive\\Documents\\Quartile 3\\JBG050 Data Challenge 2\\Code\\src\\demand.py:36: SettingWithCopyWarning: \n",
      "A value is trying to be set on a copy of a slice from a DataFrame.\n",
      "Try using .loc[row_indexer,col_indexer] = value instead\n",
      "\n",
      "See the caveats in the documentation: https://pandas.pydata.org/pandas-docs/stable/user_guide/indexing.html#returning-a-view-versus-a-copy\n",
      "  purchases[\"std_sales_price\"] = std_p\n",
      "C:\\Users\\zolyo\\AppData\\Roaming\\Python\\Python38\\site-packages\\pandas\\core\\frame.py:4300: SettingWithCopyWarning: \n",
      "A value is trying to be set on a copy of a slice from a DataFrame\n",
      "\n",
      "See the caveats in the documentation: https://pandas.pydata.org/pandas-docs/stable/user_guide/indexing.html#returning-a-view-versus-a-copy\n",
      "  return super().rename(\n",
      "c:\\Users\\zolyo\\OneDrive\\Documents\\Quartile 3\\JBG050 Data Challenge 2\\Code\\src\\demand.py:40: SettingWithCopyWarning: \n",
      "A value is trying to be set on a copy of a slice from a DataFrame.\n",
      "Try using .loc[row_indexer,col_indexer] = value instead\n",
      "\n",
      "See the caveats in the documentation: https://pandas.pydata.org/pandas-docs/stable/user_guide/indexing.html#returning-a-view-versus-a-copy\n",
      "  purchases[\"prev_day_purchases\"] = purchases[\"count\"].shift(1)\n",
      "C:\\Users\\zolyo\\AppData\\Roaming\\Python\\Python38\\site-packages\\pandas\\core\\indexing.py:670: SettingWithCopyWarning: \n",
      "A value is trying to be set on a copy of a slice from a DataFrame\n",
      "\n",
      "See the caveats in the documentation: https://pandas.pydata.org/pandas-docs/stable/user_guide/indexing.html#returning-a-view-versus-a-copy\n",
      "  iloc._setitem_with_indexer(indexer, value)\n",
      "c:\\Users\\zolyo\\OneDrive\\Documents\\Quartile 3\\JBG050 Data Challenge 2\\Code\\src\\demand.py:41: SettingWithCopyWarning: \n",
      "A value is trying to be set on a copy of a slice from a DataFrame\n",
      "\n",
      "See the caveats in the documentation: https://pandas.pydata.org/pandas-docs/stable/user_guide/indexing.html#returning-a-view-versus-a-copy\n",
      "  purchases[\"prev_day_purchases\"].iloc[0] = 0\n"
     ]
    },
    {
     "output_type": "execute_result",
     "data": {
      "text/plain": [
       "                                     count  discount  std       min       25%  \\\n",
       "description              day                                                    \n",
       "Biologische kikkererwten 2018-01-01    3.0  9.782609  0.0  9.782609  9.782609   \n",
       "                         2018-01-03    1.0  0.000000  NaN  0.000000  0.000000   \n",
       "                         2018-01-04    4.0  0.000000  0.0  0.000000  0.000000   \n",
       "                         2018-01-05    5.0  0.000000  0.0  0.000000  0.000000   \n",
       "                         2018-01-06    3.0  0.000000  0.0  0.000000  0.000000   \n",
       "\n",
       "                                          50%       75%       max    month  \\\n",
       "description              day                                                 \n",
       "Biologische kikkererwten 2018-01-01  9.782609  9.782609  9.782609  January   \n",
       "                         2018-01-03  0.000000  0.000000  0.000000  January   \n",
       "                         2018-01-04  0.000000  0.000000  0.000000  January   \n",
       "                         2018-01-05  0.000000  0.000000  0.000000  January   \n",
       "                         2018-01-06  0.000000  0.000000  0.000000  January   \n",
       "\n",
       "                                                      product  day  dayofweek  \\\n",
       "description              day                                                    \n",
       "Biologische kikkererwten 2018-01-01  Biologische kikkererwten    1     Monday   \n",
       "                         2018-01-03  Biologische kikkererwten    3  Wednesday   \n",
       "                         2018-01-04  Biologische kikkererwten    4   Thursday   \n",
       "                         2018-01-05  Biologische kikkererwten    5     Friday   \n",
       "                         2018-01-06  Biologische kikkererwten    6   Saturday   \n",
       "\n",
       "                                     purchase_price  std_sales_price  \\\n",
       "description              day                                           \n",
       "Biologische kikkererwten 2018-01-01            0.83             0.92   \n",
       "                         2018-01-03            0.92             0.92   \n",
       "                         2018-01-04            0.92             0.92   \n",
       "                         2018-01-05            0.92             0.92   \n",
       "                         2018-01-06            0.92             0.92   \n",
       "\n",
       "                                     prev_day_purchases      days  on_discount  \n",
       "description              day                                                    \n",
       "Biologische kikkererwten 2018-01-01                 0.0  1/1/2018           15  \n",
       "                         2018-01-03                 3.0  3/1/2018            8  \n",
       "                         2018-01-04                 1.0  4/1/2018           16  \n",
       "                         2018-01-05                 4.0  5/1/2018           16  \n",
       "                         2018-01-06                 5.0  6/1/2018           11  "
      ],
      "text/html": "<div>\n<style scoped>\n    .dataframe tbody tr th:only-of-type {\n        vertical-align: middle;\n    }\n\n    .dataframe tbody tr th {\n        vertical-align: top;\n    }\n\n    .dataframe thead th {\n        text-align: right;\n    }\n</style>\n<table border=\"1\" class=\"dataframe\">\n  <thead>\n    <tr style=\"text-align: right;\">\n      <th></th>\n      <th></th>\n      <th>count</th>\n      <th>discount</th>\n      <th>std</th>\n      <th>min</th>\n      <th>25%</th>\n      <th>50%</th>\n      <th>75%</th>\n      <th>max</th>\n      <th>month</th>\n      <th>product</th>\n      <th>day</th>\n      <th>dayofweek</th>\n      <th>purchase_price</th>\n      <th>std_sales_price</th>\n      <th>prev_day_purchases</th>\n      <th>days</th>\n      <th>on_discount</th>\n    </tr>\n    <tr>\n      <th>description</th>\n      <th>day</th>\n      <th></th>\n      <th></th>\n      <th></th>\n      <th></th>\n      <th></th>\n      <th></th>\n      <th></th>\n      <th></th>\n      <th></th>\n      <th></th>\n      <th></th>\n      <th></th>\n      <th></th>\n      <th></th>\n      <th></th>\n      <th></th>\n      <th></th>\n    </tr>\n  </thead>\n  <tbody>\n    <tr>\n      <th rowspan=\"5\" valign=\"top\">Biologische kikkererwten</th>\n      <th>2018-01-01</th>\n      <td>3.0</td>\n      <td>9.782609</td>\n      <td>0.0</td>\n      <td>9.782609</td>\n      <td>9.782609</td>\n      <td>9.782609</td>\n      <td>9.782609</td>\n      <td>9.782609</td>\n      <td>January</td>\n      <td>Biologische kikkererwten</td>\n      <td>1</td>\n      <td>Monday</td>\n      <td>0.83</td>\n      <td>0.92</td>\n      <td>0.0</td>\n      <td>1/1/2018</td>\n      <td>15</td>\n    </tr>\n    <tr>\n      <th>2018-01-03</th>\n      <td>1.0</td>\n      <td>0.000000</td>\n      <td>NaN</td>\n      <td>0.000000</td>\n      <td>0.000000</td>\n      <td>0.000000</td>\n      <td>0.000000</td>\n      <td>0.000000</td>\n      <td>January</td>\n      <td>Biologische kikkererwten</td>\n      <td>3</td>\n      <td>Wednesday</td>\n      <td>0.92</td>\n      <td>0.92</td>\n      <td>3.0</td>\n      <td>3/1/2018</td>\n      <td>8</td>\n    </tr>\n    <tr>\n      <th>2018-01-04</th>\n      <td>4.0</td>\n      <td>0.000000</td>\n      <td>0.0</td>\n      <td>0.000000</td>\n      <td>0.000000</td>\n      <td>0.000000</td>\n      <td>0.000000</td>\n      <td>0.000000</td>\n      <td>January</td>\n      <td>Biologische kikkererwten</td>\n      <td>4</td>\n      <td>Thursday</td>\n      <td>0.92</td>\n      <td>0.92</td>\n      <td>1.0</td>\n      <td>4/1/2018</td>\n      <td>16</td>\n    </tr>\n    <tr>\n      <th>2018-01-05</th>\n      <td>5.0</td>\n      <td>0.000000</td>\n      <td>0.0</td>\n      <td>0.000000</td>\n      <td>0.000000</td>\n      <td>0.000000</td>\n      <td>0.000000</td>\n      <td>0.000000</td>\n      <td>January</td>\n      <td>Biologische kikkererwten</td>\n      <td>5</td>\n      <td>Friday</td>\n      <td>0.92</td>\n      <td>0.92</td>\n      <td>4.0</td>\n      <td>5/1/2018</td>\n      <td>16</td>\n    </tr>\n    <tr>\n      <th>2018-01-06</th>\n      <td>3.0</td>\n      <td>0.000000</td>\n      <td>0.0</td>\n      <td>0.000000</td>\n      <td>0.000000</td>\n      <td>0.000000</td>\n      <td>0.000000</td>\n      <td>0.000000</td>\n      <td>January</td>\n      <td>Biologische kikkererwten</td>\n      <td>6</td>\n      <td>Saturday</td>\n      <td>0.92</td>\n      <td>0.92</td>\n      <td>5.0</td>\n      <td>6/1/2018</td>\n      <td>11</td>\n    </tr>\n  </tbody>\n</table>\n</div>"
     },
     "metadata": {},
     "execution_count": 3
    }
   ],
   "source": [
    "prepared_transactions = prepare_data(filtered_transactions, discounts_per_day)\n",
    "prepared_transactions.head()"
   ]
  },
  {
   "cell_type": "code",
   "execution_count": 28,
   "metadata": {},
   "outputs": [
    {
     "output_type": "stream",
     "name": "stdout",
     "text": [
      "Model fitted; test set metrics: MAE: 1.6823192401646991 MSE: 3.9915100388105595, R^2 score: -0.2515089729293247\n",
      "C:\\Users\\zolyo\\AppData\\Roaming\\Python\\Python38\\site-packages\\sklearn\\neural_network\\_multilayer_perceptron.py:614: ConvergenceWarning:\n",
      "\n",
      "Stochastic Optimizer: Maximum iterations (200) reached and the optimization hasn't converged yet.\n",
      "\n"
     ]
    }
   ],
   "source": [
    "from sklearn.ensemble import RandomForestRegressor, VotingRegressor, StackingRegressor\n",
    "from sklearn.neural_network import MLPRegressor\n",
    "from sklearn.linear_model import Ridge, LinearRegression\n",
    "from sklearn.tree import DecisionTreeRegressor\n",
    "\n",
    "output_dct = prepare_demand_function(prepared_transactions)\n",
    "nn =  MLPRegressor(hidden_layer_sizes=(50,50))\n",
    "rf = RandomForestRegressor(n_estimators=50)\n",
    "rf2 = RandomForestRegressor(n_estimators=300)\n",
    "ridge = Ridge()\n",
    "voter = VotingRegressor([(\"nn\",nn), (\"df\",rf), (\"lin\", ridge), (\"rf2\", rf2)])\n",
    "model = fit_demand_function(output_dct,nn)"
   ]
  },
  {
   "cell_type": "code",
   "execution_count": 5,
   "metadata": {},
   "outputs": [
    {
     "output_type": "error",
     "ename": "AttributeError",
     "evalue": "'RandomForestRegressor' object has no attribute 'coef_'",
     "traceback": [
      "\u001b[1;31m---------------------------------------------------------------------------\u001b[0m",
      "\u001b[1;31mAttributeError\u001b[0m                            Traceback (most recent call last)",
      "\u001b[1;32m<ipython-input-5-76ba33396865>\u001b[0m in \u001b[0;36m<module>\u001b[1;34m\u001b[0m\n\u001b[1;32m----> 1\u001b[1;33m \u001b[0mpd\u001b[0m\u001b[1;33m.\u001b[0m\u001b[0mDataFrame\u001b[0m\u001b[1;33m(\u001b[0m\u001b[1;33m{\u001b[0m\u001b[1;34m\"predictor\"\u001b[0m\u001b[1;33m:\u001b[0m\u001b[0moutput_dct\u001b[0m\u001b[1;33m[\u001b[0m\u001b[1;34m\"train\"\u001b[0m\u001b[1;33m]\u001b[0m\u001b[1;33m[\u001b[0m\u001b[1;36m0\u001b[0m\u001b[1;33m]\u001b[0m\u001b[1;33m.\u001b[0m\u001b[0mcolumns\u001b[0m\u001b[1;33m,\u001b[0m \u001b[1;34m\"coef\"\u001b[0m\u001b[1;33m:\u001b[0m\u001b[0mmodel\u001b[0m\u001b[1;33m.\u001b[0m\u001b[0mcoef_\u001b[0m\u001b[1;33m}\u001b[0m\u001b[1;33m)\u001b[0m\u001b[1;33m\u001b[0m\u001b[1;33m\u001b[0m\u001b[0m\n\u001b[0m",
      "\u001b[1;31mAttributeError\u001b[0m: 'RandomForestRegressor' object has no attribute 'coef_'"
     ]
    }
   ],
   "source": [
    "pd.DataFrame({\"predictor\":output_dct[\"train\"][0].columns, \"coef\":model.coef_})"
   ]
  },
  {
   "cell_type": "code",
   "execution_count": 29,
   "metadata": {},
   "outputs": [],
   "source": [
    "prepared_transactions.dropna(inplace=True)\n",
    "one_row = prepared_transactions#[prepared_transactions[\"product\"] == \"Biologische knoflook\"].tail(500)\n",
    "pred_columns = [\"discount\", \"purchase_price\", \"prev_day_purchases\", \"on_discount\"]\n",
    "target_col = \"count\"\n",
    "\n",
    "\n",
    "df_dayofweek = pd.DataFrame(output_dct[\"weekday_enc\"].transform(one_row[[\"dayofweek\"]]), columns=output_dct[\"weekday_enc\"].get_feature_names())\n",
    "\n",
    "df_month = pd.DataFrame(output_dct[\"months_enc\"].transform(one_row[[\"month\"]]), columns=output_dct[\"months_enc\"].get_feature_names())\n",
    "\n",
    "#df_product = pd.DataFrame(output_dct[\"product_enc\"].transform(one_row[[\"product\"]]), columns=output_dct[\"product_enc\"].get_feature_names())\n",
    "\n",
    "X_pred = pd.concat([pd.DataFrame(one_row[pred_columns].values, columns=one_row[pred_columns].columns), df_dayofweek, df_month], axis=1) #add df_product back\n",
    "\n",
    "one_row[\"predicted\"] = model.predict(X_pred)"
   ]
  },
  {
   "cell_type": "code",
   "execution_count": 30,
   "metadata": {},
   "outputs": [
    {
     "output_type": "display_data",
     "data": {
      "application/vnd.plotly.v1+json": {
       "config": {
        "plotlyServerURL": "https://plot.ly"
       },
       "data": [
        {
         "hovertemplate": "day=%{x}<br>count=%{y}<extra></extra>",
         "legendgroup": "",
         "line": {
          "color": "#636efa",
          "dash": "solid"
         },
         "mode": "lines",
         "name": "",
         "orientation": "v",
         "showlegend": false,
         "type": "scatter",
         "x": [
          1,
          4,
          5,
          6,
          7,
          8,
          9,
          11,
          12,
          13,
          14,
          15,
          16,
          17,
          19,
          20,
          21,
          22,
          23,
          24,
          25,
          26,
          27,
          28,
          29,
          30,
          32,
          33,
          34,
          35,
          36,
          37,
          38,
          39,
          40,
          42,
          44,
          46,
          48,
          49,
          51,
          52,
          53,
          54,
          55,
          56,
          57,
          58,
          61,
          62,
          63,
          64,
          65,
          66,
          67,
          68,
          69,
          72,
          73,
          74,
          75,
          76,
          77,
          78,
          79,
          80,
          81,
          82,
          83,
          84,
          85,
          86,
          87,
          88,
          89,
          90,
          92,
          93,
          94,
          95,
          96,
          97,
          98,
          99,
          100,
          104,
          105,
          106,
          107,
          108,
          109,
          112,
          114,
          115,
          116,
          117,
          119,
          120,
          121,
          122,
          123,
          124,
          125,
          126,
          127,
          131,
          132,
          133,
          134,
          135,
          137,
          138,
          139,
          140,
          141,
          142,
          143,
          144,
          145,
          146,
          147,
          149,
          150,
          151,
          152,
          153,
          154,
          155,
          157,
          158,
          159,
          160,
          161,
          162,
          167,
          168,
          169,
          170,
          171,
          173,
          175,
          176,
          180,
          181,
          183,
          186,
          187,
          188,
          189,
          191,
          192,
          193,
          194,
          195,
          196,
          197,
          198,
          199,
          201,
          202,
          203,
          204,
          205,
          206,
          207,
          208,
          209,
          210,
          211,
          212,
          213,
          214,
          215,
          216,
          217,
          219,
          220,
          221,
          222,
          223,
          224,
          225,
          226,
          227,
          228,
          229,
          230,
          231,
          232,
          233,
          234,
          235,
          236,
          237,
          239,
          240,
          241,
          242,
          243,
          244,
          245,
          246,
          247,
          249,
          250,
          251,
          252,
          253,
          254,
          255,
          256,
          257,
          258,
          260,
          262,
          263,
          264,
          265,
          267,
          268,
          269,
          270,
          271,
          272,
          273,
          274,
          275,
          276,
          277,
          278,
          280,
          281,
          282,
          283,
          284,
          285,
          286,
          288,
          289,
          292,
          293,
          294,
          295,
          296,
          298,
          299,
          300,
          302,
          303,
          304,
          305,
          307,
          308,
          309,
          311,
          312,
          313,
          314,
          315,
          318,
          319,
          321,
          323,
          327,
          328,
          329,
          330,
          331,
          333,
          334,
          335,
          337,
          339,
          341,
          342,
          343,
          344,
          345,
          346,
          347,
          348,
          349,
          350,
          351,
          353,
          355,
          358,
          360,
          361,
          362,
          363,
          364
         ],
         "xaxis": "x",
         "y": [
          3,
          4,
          5,
          3,
          6,
          5,
          5,
          4,
          3,
          7,
          4,
          3,
          5,
          4,
          3,
          8,
          5,
          2,
          3,
          5,
          2,
          5,
          5,
          3,
          4,
          4,
          5,
          3,
          6,
          9,
          3,
          3,
          8,
          4,
          2,
          4,
          3,
          4,
          4,
          5,
          4,
          3,
          4,
          3,
          2,
          2,
          7,
          4,
          3,
          8,
          3,
          2,
          3,
          3,
          2,
          3,
          5,
          4,
          4,
          3,
          5,
          5,
          2,
          7,
          7,
          12,
          6,
          5,
          4,
          9,
          6,
          4,
          6,
          3,
          3,
          5,
          3,
          6,
          4,
          4,
          9,
          3,
          4,
          5,
          6,
          9,
          10,
          3,
          5,
          3,
          4,
          5,
          3,
          13,
          2,
          3,
          6,
          4,
          6,
          3,
          2,
          2,
          5,
          2,
          5,
          5,
          2,
          2,
          2,
          2,
          4,
          3,
          2,
          5,
          2,
          2,
          6,
          2,
          4,
          2,
          3,
          9,
          3,
          5,
          2,
          6,
          6,
          3,
          5,
          3,
          7,
          3,
          2,
          3,
          4,
          2,
          8,
          2,
          2,
          7,
          3,
          5,
          2,
          6,
          7,
          3,
          5,
          6,
          3,
          3,
          3,
          6,
          3,
          2,
          2,
          8,
          4,
          7,
          3,
          2,
          4,
          2,
          2,
          5,
          2,
          6,
          10,
          4,
          2,
          5,
          2,
          6,
          2,
          2,
          3,
          3,
          6,
          11,
          8,
          5,
          6,
          6,
          6,
          4,
          4,
          5,
          4,
          10,
          7,
          3,
          6,
          3,
          2,
          5,
          3,
          2,
          2,
          2,
          2,
          7,
          2,
          3,
          4,
          3,
          13,
          8,
          7,
          6,
          3,
          3,
          6,
          2,
          3,
          4,
          3,
          4,
          4,
          2,
          4,
          9,
          8,
          3,
          5,
          5,
          7,
          3,
          12,
          6,
          6,
          2,
          4,
          8,
          5,
          4,
          9,
          6,
          8,
          2,
          7,
          5,
          4,
          4,
          4,
          3,
          2,
          2,
          3,
          6,
          2,
          2,
          4,
          5,
          3,
          6,
          4,
          8,
          3,
          6,
          2,
          5,
          4,
          4,
          2,
          3,
          2,
          3,
          5,
          3,
          6,
          5,
          4,
          7,
          5,
          3,
          4,
          6,
          3,
          5,
          5,
          5,
          6,
          2,
          4,
          2,
          2,
          2,
          2,
          2,
          4,
          2,
          2,
          4
         ],
         "yaxis": "y"
        },
        {
         "mode": "lines",
         "type": "scatter",
         "x": [
          1,
          4,
          5,
          6,
          7,
          8,
          9,
          11,
          12,
          13,
          14,
          15,
          16,
          17,
          19,
          20,
          21,
          22,
          23,
          24,
          25,
          26,
          27,
          28,
          29,
          30,
          32,
          33,
          34,
          35,
          36,
          37,
          38,
          39,
          40,
          42,
          44,
          46,
          48,
          49,
          51,
          52,
          53,
          54,
          55,
          56,
          57,
          58,
          61,
          62,
          63,
          64,
          65,
          66,
          67,
          68,
          69,
          72,
          73,
          74,
          75,
          76,
          77,
          78,
          79,
          80,
          81,
          82,
          83,
          84,
          85,
          86,
          87,
          88,
          89,
          90,
          92,
          93,
          94,
          95,
          96,
          97,
          98,
          99,
          100,
          104,
          105,
          106,
          107,
          108,
          109,
          112,
          114,
          115,
          116,
          117,
          119,
          120,
          121,
          122,
          123,
          124,
          125,
          126,
          127,
          131,
          132,
          133,
          134,
          135,
          137,
          138,
          139,
          140,
          141,
          142,
          143,
          144,
          145,
          146,
          147,
          149,
          150,
          151,
          152,
          153,
          154,
          155,
          157,
          158,
          159,
          160,
          161,
          162,
          167,
          168,
          169,
          170,
          171,
          173,
          175,
          176,
          180,
          181,
          183,
          186,
          187,
          188,
          189,
          191,
          192,
          193,
          194,
          195,
          196,
          197,
          198,
          199,
          201,
          202,
          203,
          204,
          205,
          206,
          207,
          208,
          209,
          210,
          211,
          212,
          213,
          214,
          215,
          216,
          217,
          219,
          220,
          221,
          222,
          223,
          224,
          225,
          226,
          227,
          228,
          229,
          230,
          231,
          232,
          233,
          234,
          235,
          236,
          237,
          239,
          240,
          241,
          242,
          243,
          244,
          245,
          246,
          247,
          249,
          250,
          251,
          252,
          253,
          254,
          255,
          256,
          257,
          258,
          260,
          262,
          263,
          264,
          265,
          267,
          268,
          269,
          270,
          271,
          272,
          273,
          274,
          275,
          276,
          277,
          278,
          280,
          281,
          282,
          283,
          284,
          285,
          286,
          288,
          289,
          292,
          293,
          294,
          295,
          296,
          298,
          299,
          300,
          302,
          303,
          304,
          305,
          307,
          308,
          309,
          311,
          312,
          313,
          314,
          315,
          318,
          319,
          321,
          323,
          327,
          328,
          329,
          330,
          331,
          333,
          334,
          335,
          337,
          339,
          341,
          342,
          343,
          344,
          345,
          346,
          347,
          348,
          349,
          350,
          351,
          353,
          355,
          358,
          360,
          361,
          362,
          363,
          364
         ],
         "y": [
          3.194822154681117,
          3.3088808990045577,
          4.410891471803717,
          4.605611906379906,
          4.433261799109084,
          4.0927673264587305,
          4.68388552700467,
          3.6389276418143135,
          4.274826051904587,
          4.979734880394741,
          5.657675525849034,
          4.330113306999783,
          4.7413527323189575,
          4.1295399572923195,
          3.1439046114224847,
          5.082997789558879,
          6.12620330489265,
          3.895380786110662,
          4.21339455244462,
          5.141795169619352,
          3.772995673106008,
          3.846108238459355,
          4.605611906379906,
          4.43816372622548,
          4.540800142017371,
          4.608334315964475,
          4.624095353417774,
          3.960882615067468,
          5.118318567009928,
          4.607191359056659,
          3.982377892504306,
          4.461082276662248,
          5.157053241436932,
          3.810859597934252,
          4.279675851731048,
          3.8618741846026374,
          3.6528989939477556,
          4.024842568866156,
          4.511953211779823,
          4.251515443580609,
          3.6528989939477556,
          4.351794358974397,
          3.887826024740878,
          4.143610431831918,
          5.118318567009928,
          4.118479419106178,
          4.0321211378422825,
          4.211076233342477,
          3.2410774088050767,
          4.809096012734025,
          4.319422360274525,
          3.7858962124261697,
          3.7658152698853806,
          4.314254925872587,
          2.9890427091200094,
          3.4591116545340688,
          4.67733244964566,
          3.469079743976173,
          4.5876856454963715,
          3.2023338883278596,
          3.6184504350337057,
          4.61876211000445,
          3.97051660398181,
          6.367684707661626,
          8.058101958568338,
          9.453588189184497,
          7.466740023539732,
          6.486969713074528,
          6.373532818982336,
          9.677743653956021,
          4.381696151105519,
          4.028086841765737,
          4.130850065346771,
          3.065422035949598,
          3.6184504350337057,
          4.67733244964566,
          4.333264085599083,
          5.618172283484215,
          5.18333456125432,
          5.075224110760544,
          5.610195946727553,
          5.316969884445851,
          5.59678065799296,
          5.317203902243511,
          5.362261126400057,
          5.559193961300787,
          5.767166510281564,
          4.598661276832691,
          5.618172283484215,
          4.833658468961462,
          5.011278540910911,
          5.043964719725594,
          4.459302057837294,
          5.983835284359292,
          5.23521313826933,
          4.892881456870284,
          5.274591891067965,
          4.966662187143253,
          5.418739634123006,
          3.1638219236803193,
          3.2015135799567678,
          3.5833752210844674,
          3.5609039005676464,
          3.154038899023838,
          3.3030811122058505,
          3.728306916488209,
          3.7194459788762546,
          3.727288600847662,
          3.4127369314775957,
          3.6063200127758748,
          3.9548134488241597,
          3.1435507120386736,
          3.8340986204688834,
          3.3501355271803317,
          3.4937348049463783,
          4.011079024707986,
          4.5123418251796235,
          2.9105428398743562,
          3.477326191636628,
          3.6746662033208977,
          3.727288600847662,
          3.891705342208777,
          4.002914141204895,
          3.0405534859749634,
          3.1356016036761565,
          4.5737347793902785,
          4.539759432741015,
          3.7492944986110195,
          4.887194008779592,
          3.4943548073415256,
          4.335027131295916,
          4.2629890340940575,
          4.332987860151319,
          4.199692628786151,
          4.744533976585233,
          4.109614489126911,
          4.199692628786151,
          3.471145055874177,
          4.959911155242614,
          4.1604421795975695,
          3.747708133049729,
          4.288319892181904,
          3.892714303864766,
          4.8068245815632356,
          4.015989422078291,
          3.3649652331139825,
          4.102039804670629,
          5.005738679559599,
          4.056649180733812,
          3.975499865223677,
          5.038265560945161,
          3.8265768796147226,
          3.7509486335067144,
          4.97452908260371,
          4.21201551265063,
          4.185521628793631,
          4.272775667627351,
          5.001089642113925,
          3.787141541006326,
          4.97452908260371,
          4.307085048790589,
          4.067737780719328,
          4.237226665661479,
          4.827469410399477,
          3.5768115541353955,
          4.163156891622776,
          4.582560814369156,
          5.438058399232098,
          4.427116593309718,
          4.356236616752311,
          4.8449303992684944,
          3.6298909950784624,
          4.119553267682572,
          4.330162247770187,
          4.3181344540042135,
          2.9702404235173283,
          4.687965502289113,
          4.140097738321673,
          6.9807161789540215,
          5.0229954814033,
          4.931349016743305,
          4.4805701694675255,
          4.663892709234302,
          4.711085787888231,
          4.2611239680572535,
          4.16583949508539,
          5.129489351614838,
          5.163226676492437,
          4.633938072004247,
          4.906798200714204,
          4.8759691989585665,
          4.389560101956671,
          3.8562926277581067,
          4.392079746633786,
          2.9986062917905096,
          4.529859567691972,
          4.320348652911894,
          3.7110714553261275,
          3.4651143363164616,
          5.333953034168801,
          4.793296100051123,
          4.753732697699101,
          5.177871096913366,
          4.224404184876952,
          4.674711300417007,
          7.2416119561114805,
          5.035096595516967,
          5.35861474503065,
          4.814372697963533,
          5.9168624691957445,
          4.516037352119556,
          4.366012053888049,
          5.449276321733206,
          4.759599833238576,
          5.170316116469701,
          4.2616160203421725,
          5.040294879465702,
          5.956568556148,
          4.111266844856815,
          5.304178647833979,
          5.127895359977839,
          4.195079970229354,
          4.8364566054928675,
          5.678550409803727,
          5.130503227478574,
          5.112121309293432,
          5.909613044988138,
          6.263420339520503,
          4.69315724921104,
          4.80349796212378,
          5.093460749848653,
          5.3918889331996285,
          4.960855365989908,
          5.390397562912451,
          5.01324715193234,
          4.58374261645054,
          4.549910525919484,
          5.004857553781584,
          5.492561700834294,
          4.89230948749383,
          5.718034078839527,
          5.646013295363767,
          5.121323112723567,
          5.567058737862407,
          4.852585414003074,
          5.069484228086511,
          5.980275518018791,
          4.803254719708648,
          5.234744785878558,
          5.206558636106555,
          3.76294477439964,
          4.115061606052926,
          3.921090739901292,
          3.94696329696379,
          4.882081045472607,
          3.7339485150032297,
          3.8894956322510765,
          3.8749863795908244,
          4.279493526589141,
          5.119873333040035,
          3.7708983029851555,
          4.587166213838134,
          4.154458565572542,
          3.7574548301491117,
          4.850177170964834,
          4.536586043971549,
          4.28708696715386,
          4.091431258396661,
          3.958453467015835,
          3.454407199962545,
          4.8339133822900475,
          3.605386735130158,
          4.861133162750759,
          3.7083563635931656,
          4.786353159286418,
          4.648677833876442,
          4.990898172402952,
          4.34177089379997,
          4.594400441873267,
          3.7297933521569,
          3.8613514354428338,
          4.621314110146475,
          3.9644369649193214,
          3.7904878599438376,
          4.861133162750759,
          4.021638266716174,
          3.69138881849317,
          4.742237018967046,
          3.9554171776357867,
          3.776847511472914,
          4.525899238893789,
          4.55594985283686
         ]
        }
       ],
       "layout": {
        "legend": {
         "tracegroupgap": 0
        },
        "margin": {
         "t": 60
        },
        "template": {
         "data": {
          "bar": [
           {
            "error_x": {
             "color": "#2a3f5f"
            },
            "error_y": {
             "color": "#2a3f5f"
            },
            "marker": {
             "line": {
              "color": "#E5ECF6",
              "width": 0.5
             }
            },
            "type": "bar"
           }
          ],
          "barpolar": [
           {
            "marker": {
             "line": {
              "color": "#E5ECF6",
              "width": 0.5
             }
            },
            "type": "barpolar"
           }
          ],
          "carpet": [
           {
            "aaxis": {
             "endlinecolor": "#2a3f5f",
             "gridcolor": "white",
             "linecolor": "white",
             "minorgridcolor": "white",
             "startlinecolor": "#2a3f5f"
            },
            "baxis": {
             "endlinecolor": "#2a3f5f",
             "gridcolor": "white",
             "linecolor": "white",
             "minorgridcolor": "white",
             "startlinecolor": "#2a3f5f"
            },
            "type": "carpet"
           }
          ],
          "choropleth": [
           {
            "colorbar": {
             "outlinewidth": 0,
             "ticks": ""
            },
            "type": "choropleth"
           }
          ],
          "contour": [
           {
            "colorbar": {
             "outlinewidth": 0,
             "ticks": ""
            },
            "colorscale": [
             [
              0,
              "#0d0887"
             ],
             [
              0.1111111111111111,
              "#46039f"
             ],
             [
              0.2222222222222222,
              "#7201a8"
             ],
             [
              0.3333333333333333,
              "#9c179e"
             ],
             [
              0.4444444444444444,
              "#bd3786"
             ],
             [
              0.5555555555555556,
              "#d8576b"
             ],
             [
              0.6666666666666666,
              "#ed7953"
             ],
             [
              0.7777777777777778,
              "#fb9f3a"
             ],
             [
              0.8888888888888888,
              "#fdca26"
             ],
             [
              1,
              "#f0f921"
             ]
            ],
            "type": "contour"
           }
          ],
          "contourcarpet": [
           {
            "colorbar": {
             "outlinewidth": 0,
             "ticks": ""
            },
            "type": "contourcarpet"
           }
          ],
          "heatmap": [
           {
            "colorbar": {
             "outlinewidth": 0,
             "ticks": ""
            },
            "colorscale": [
             [
              0,
              "#0d0887"
             ],
             [
              0.1111111111111111,
              "#46039f"
             ],
             [
              0.2222222222222222,
              "#7201a8"
             ],
             [
              0.3333333333333333,
              "#9c179e"
             ],
             [
              0.4444444444444444,
              "#bd3786"
             ],
             [
              0.5555555555555556,
              "#d8576b"
             ],
             [
              0.6666666666666666,
              "#ed7953"
             ],
             [
              0.7777777777777778,
              "#fb9f3a"
             ],
             [
              0.8888888888888888,
              "#fdca26"
             ],
             [
              1,
              "#f0f921"
             ]
            ],
            "type": "heatmap"
           }
          ],
          "heatmapgl": [
           {
            "colorbar": {
             "outlinewidth": 0,
             "ticks": ""
            },
            "colorscale": [
             [
              0,
              "#0d0887"
             ],
             [
              0.1111111111111111,
              "#46039f"
             ],
             [
              0.2222222222222222,
              "#7201a8"
             ],
             [
              0.3333333333333333,
              "#9c179e"
             ],
             [
              0.4444444444444444,
              "#bd3786"
             ],
             [
              0.5555555555555556,
              "#d8576b"
             ],
             [
              0.6666666666666666,
              "#ed7953"
             ],
             [
              0.7777777777777778,
              "#fb9f3a"
             ],
             [
              0.8888888888888888,
              "#fdca26"
             ],
             [
              1,
              "#f0f921"
             ]
            ],
            "type": "heatmapgl"
           }
          ],
          "histogram": [
           {
            "marker": {
             "colorbar": {
              "outlinewidth": 0,
              "ticks": ""
             }
            },
            "type": "histogram"
           }
          ],
          "histogram2d": [
           {
            "colorbar": {
             "outlinewidth": 0,
             "ticks": ""
            },
            "colorscale": [
             [
              0,
              "#0d0887"
             ],
             [
              0.1111111111111111,
              "#46039f"
             ],
             [
              0.2222222222222222,
              "#7201a8"
             ],
             [
              0.3333333333333333,
              "#9c179e"
             ],
             [
              0.4444444444444444,
              "#bd3786"
             ],
             [
              0.5555555555555556,
              "#d8576b"
             ],
             [
              0.6666666666666666,
              "#ed7953"
             ],
             [
              0.7777777777777778,
              "#fb9f3a"
             ],
             [
              0.8888888888888888,
              "#fdca26"
             ],
             [
              1,
              "#f0f921"
             ]
            ],
            "type": "histogram2d"
           }
          ],
          "histogram2dcontour": [
           {
            "colorbar": {
             "outlinewidth": 0,
             "ticks": ""
            },
            "colorscale": [
             [
              0,
              "#0d0887"
             ],
             [
              0.1111111111111111,
              "#46039f"
             ],
             [
              0.2222222222222222,
              "#7201a8"
             ],
             [
              0.3333333333333333,
              "#9c179e"
             ],
             [
              0.4444444444444444,
              "#bd3786"
             ],
             [
              0.5555555555555556,
              "#d8576b"
             ],
             [
              0.6666666666666666,
              "#ed7953"
             ],
             [
              0.7777777777777778,
              "#fb9f3a"
             ],
             [
              0.8888888888888888,
              "#fdca26"
             ],
             [
              1,
              "#f0f921"
             ]
            ],
            "type": "histogram2dcontour"
           }
          ],
          "mesh3d": [
           {
            "colorbar": {
             "outlinewidth": 0,
             "ticks": ""
            },
            "type": "mesh3d"
           }
          ],
          "parcoords": [
           {
            "line": {
             "colorbar": {
              "outlinewidth": 0,
              "ticks": ""
             }
            },
            "type": "parcoords"
           }
          ],
          "pie": [
           {
            "automargin": true,
            "type": "pie"
           }
          ],
          "scatter": [
           {
            "marker": {
             "colorbar": {
              "outlinewidth": 0,
              "ticks": ""
             }
            },
            "type": "scatter"
           }
          ],
          "scatter3d": [
           {
            "line": {
             "colorbar": {
              "outlinewidth": 0,
              "ticks": ""
             }
            },
            "marker": {
             "colorbar": {
              "outlinewidth": 0,
              "ticks": ""
             }
            },
            "type": "scatter3d"
           }
          ],
          "scattercarpet": [
           {
            "marker": {
             "colorbar": {
              "outlinewidth": 0,
              "ticks": ""
             }
            },
            "type": "scattercarpet"
           }
          ],
          "scattergeo": [
           {
            "marker": {
             "colorbar": {
              "outlinewidth": 0,
              "ticks": ""
             }
            },
            "type": "scattergeo"
           }
          ],
          "scattergl": [
           {
            "marker": {
             "colorbar": {
              "outlinewidth": 0,
              "ticks": ""
             }
            },
            "type": "scattergl"
           }
          ],
          "scattermapbox": [
           {
            "marker": {
             "colorbar": {
              "outlinewidth": 0,
              "ticks": ""
             }
            },
            "type": "scattermapbox"
           }
          ],
          "scatterpolar": [
           {
            "marker": {
             "colorbar": {
              "outlinewidth": 0,
              "ticks": ""
             }
            },
            "type": "scatterpolar"
           }
          ],
          "scatterpolargl": [
           {
            "marker": {
             "colorbar": {
              "outlinewidth": 0,
              "ticks": ""
             }
            },
            "type": "scatterpolargl"
           }
          ],
          "scatterternary": [
           {
            "marker": {
             "colorbar": {
              "outlinewidth": 0,
              "ticks": ""
             }
            },
            "type": "scatterternary"
           }
          ],
          "surface": [
           {
            "colorbar": {
             "outlinewidth": 0,
             "ticks": ""
            },
            "colorscale": [
             [
              0,
              "#0d0887"
             ],
             [
              0.1111111111111111,
              "#46039f"
             ],
             [
              0.2222222222222222,
              "#7201a8"
             ],
             [
              0.3333333333333333,
              "#9c179e"
             ],
             [
              0.4444444444444444,
              "#bd3786"
             ],
             [
              0.5555555555555556,
              "#d8576b"
             ],
             [
              0.6666666666666666,
              "#ed7953"
             ],
             [
              0.7777777777777778,
              "#fb9f3a"
             ],
             [
              0.8888888888888888,
              "#fdca26"
             ],
             [
              1,
              "#f0f921"
             ]
            ],
            "type": "surface"
           }
          ],
          "table": [
           {
            "cells": {
             "fill": {
              "color": "#EBF0F8"
             },
             "line": {
              "color": "white"
             }
            },
            "header": {
             "fill": {
              "color": "#C8D4E3"
             },
             "line": {
              "color": "white"
             }
            },
            "type": "table"
           }
          ]
         },
         "layout": {
          "annotationdefaults": {
           "arrowcolor": "#2a3f5f",
           "arrowhead": 0,
           "arrowwidth": 1
          },
          "coloraxis": {
           "colorbar": {
            "outlinewidth": 0,
            "ticks": ""
           }
          },
          "colorscale": {
           "diverging": [
            [
             0,
             "#8e0152"
            ],
            [
             0.1,
             "#c51b7d"
            ],
            [
             0.2,
             "#de77ae"
            ],
            [
             0.3,
             "#f1b6da"
            ],
            [
             0.4,
             "#fde0ef"
            ],
            [
             0.5,
             "#f7f7f7"
            ],
            [
             0.6,
             "#e6f5d0"
            ],
            [
             0.7,
             "#b8e186"
            ],
            [
             0.8,
             "#7fbc41"
            ],
            [
             0.9,
             "#4d9221"
            ],
            [
             1,
             "#276419"
            ]
           ],
           "sequential": [
            [
             0,
             "#0d0887"
            ],
            [
             0.1111111111111111,
             "#46039f"
            ],
            [
             0.2222222222222222,
             "#7201a8"
            ],
            [
             0.3333333333333333,
             "#9c179e"
            ],
            [
             0.4444444444444444,
             "#bd3786"
            ],
            [
             0.5555555555555556,
             "#d8576b"
            ],
            [
             0.6666666666666666,
             "#ed7953"
            ],
            [
             0.7777777777777778,
             "#fb9f3a"
            ],
            [
             0.8888888888888888,
             "#fdca26"
            ],
            [
             1,
             "#f0f921"
            ]
           ],
           "sequentialminus": [
            [
             0,
             "#0d0887"
            ],
            [
             0.1111111111111111,
             "#46039f"
            ],
            [
             0.2222222222222222,
             "#7201a8"
            ],
            [
             0.3333333333333333,
             "#9c179e"
            ],
            [
             0.4444444444444444,
             "#bd3786"
            ],
            [
             0.5555555555555556,
             "#d8576b"
            ],
            [
             0.6666666666666666,
             "#ed7953"
            ],
            [
             0.7777777777777778,
             "#fb9f3a"
            ],
            [
             0.8888888888888888,
             "#fdca26"
            ],
            [
             1,
             "#f0f921"
            ]
           ]
          },
          "colorway": [
           "#636efa",
           "#EF553B",
           "#00cc96",
           "#ab63fa",
           "#FFA15A",
           "#19d3f3",
           "#FF6692",
           "#B6E880",
           "#FF97FF",
           "#FECB52"
          ],
          "font": {
           "color": "#2a3f5f"
          },
          "geo": {
           "bgcolor": "white",
           "lakecolor": "white",
           "landcolor": "#E5ECF6",
           "showlakes": true,
           "showland": true,
           "subunitcolor": "white"
          },
          "hoverlabel": {
           "align": "left"
          },
          "hovermode": "closest",
          "mapbox": {
           "style": "light"
          },
          "paper_bgcolor": "white",
          "plot_bgcolor": "#E5ECF6",
          "polar": {
           "angularaxis": {
            "gridcolor": "white",
            "linecolor": "white",
            "ticks": ""
           },
           "bgcolor": "#E5ECF6",
           "radialaxis": {
            "gridcolor": "white",
            "linecolor": "white",
            "ticks": ""
           }
          },
          "scene": {
           "xaxis": {
            "backgroundcolor": "#E5ECF6",
            "gridcolor": "white",
            "gridwidth": 2,
            "linecolor": "white",
            "showbackground": true,
            "ticks": "",
            "zerolinecolor": "white"
           },
           "yaxis": {
            "backgroundcolor": "#E5ECF6",
            "gridcolor": "white",
            "gridwidth": 2,
            "linecolor": "white",
            "showbackground": true,
            "ticks": "",
            "zerolinecolor": "white"
           },
           "zaxis": {
            "backgroundcolor": "#E5ECF6",
            "gridcolor": "white",
            "gridwidth": 2,
            "linecolor": "white",
            "showbackground": true,
            "ticks": "",
            "zerolinecolor": "white"
           }
          },
          "shapedefaults": {
           "line": {
            "color": "#2a3f5f"
           }
          },
          "ternary": {
           "aaxis": {
            "gridcolor": "white",
            "linecolor": "white",
            "ticks": ""
           },
           "baxis": {
            "gridcolor": "white",
            "linecolor": "white",
            "ticks": ""
           },
           "bgcolor": "#E5ECF6",
           "caxis": {
            "gridcolor": "white",
            "linecolor": "white",
            "ticks": ""
           }
          },
          "title": {
           "x": 0.05
          },
          "xaxis": {
           "automargin": true,
           "gridcolor": "white",
           "linecolor": "white",
           "ticks": "",
           "title": {
            "standoff": 15
           },
           "zerolinecolor": "white",
           "zerolinewidth": 2
          },
          "yaxis": {
           "automargin": true,
           "gridcolor": "white",
           "linecolor": "white",
           "ticks": "",
           "title": {
            "standoff": 15
           },
           "zerolinecolor": "white",
           "zerolinewidth": 2
          }
         }
        },
        "xaxis": {
         "anchor": "y",
         "domain": [
          0,
          1
         ],
         "title": {
          "text": "day"
         }
        },
        "yaxis": {
         "anchor": "x",
         "domain": [
          0,
          1
         ],
         "title": {
          "text": "count"
         }
        }
       }
      }
     },
     "metadata": {}
    }
   ],
   "source": [
    "import plotly.express as px\n",
    "fig = px.line(one_row, x=\"day\", y=\"count\")\n",
    "fig.add_scatter(x=one_row[\"day\"], y=one_row[\"predicted\"], mode=\"lines\")\n",
    "fig.show()"
   ]
  },
  {
   "cell_type": "code",
   "execution_count": 31,
   "metadata": {},
   "outputs": [
    {
     "output_type": "stream",
     "name": "stderr",
     "text": [
      "c:\\Users\\zolyo\\OneDrive\\Documents\\Quartile 3\\JBG050 Data Challenge 2\\Code\\src\\demand.py:133: SettingWithCopyWarning:\n\n\nA value is trying to be set on a copy of a slice from a DataFrame\n\nSee the caveats in the documentation: https://pandas.pydata.org/pandas-docs/stable/user_guide/indexing.html#returning-a-view-versus-a-copy\n\n"
     ]
    },
    {
     "output_type": "execute_result",
     "data": {
      "text/plain": [
       "array([4.55594985])"
      ]
     },
     "metadata": {},
     "execution_count": 31
    }
   ],
   "source": [
    "modded = one_row.tail(1)\n",
    "#modded[\"discount\"] = 30\n",
    "X_mod = prepare_predictors(modded, output_dct)\n",
    "model.predict(X_mod)"
   ]
  },
  {
   "cell_type": "code",
   "execution_count": 35,
   "metadata": {},
   "outputs": [
    {
     "output_type": "execute_result",
     "data": {
      "text/plain": [
       "array([8.63540059])"
      ]
     },
     "metadata": {},
     "execution_count": 35
    }
   ],
   "source": [
    "X_mod20 = apply_discount(X_mod, 20)\n",
    "model.predict(X_mod20)"
   ]
  },
  {
   "cell_type": "code",
   "execution_count": 8,
   "metadata": {},
   "outputs": [
    {
     "output_type": "execute_result",
     "data": {
      "text/plain": [
       "                                     count  discount  std  min  25%  50%  75%  \\\n",
       "description              day                                                    \n",
       "Biologische kikkererwten 2018-12-30    4.0       0.0  0.0  0.0  0.0  0.0  0.0   \n",
       "\n",
       "                                     max     month                   product  \\\n",
       "description              day                                                   \n",
       "Biologische kikkererwten 2018-12-30  0.0  December  Biologische kikkererwten   \n",
       "\n",
       "                                     day dayofweek  purchase_price  \\\n",
       "description              day                                         \n",
       "Biologische kikkererwten 2018-12-30  364    Sunday            0.92   \n",
       "\n",
       "                                     std_sales_price  discount_2  \\\n",
       "description              day                                       \n",
       "Biologische kikkererwten 2018-12-30             0.92         0.0   \n",
       "\n",
       "                                     prev_day_purchases        days  \\\n",
       "description              day                                          \n",
       "Biologische kikkererwten 2018-12-30                 2.0  30-12-2018   \n",
       "\n",
       "                                     on_discount  predicted  \n",
       "description              day                                 \n",
       "Biologische kikkererwten 2018-12-30           13   3.793408  "
      ],
      "text/html": "<div>\n<style scoped>\n    .dataframe tbody tr th:only-of-type {\n        vertical-align: middle;\n    }\n\n    .dataframe tbody tr th {\n        vertical-align: top;\n    }\n\n    .dataframe thead th {\n        text-align: right;\n    }\n</style>\n<table border=\"1\" class=\"dataframe\">\n  <thead>\n    <tr style=\"text-align: right;\">\n      <th></th>\n      <th></th>\n      <th>count</th>\n      <th>discount</th>\n      <th>std</th>\n      <th>min</th>\n      <th>25%</th>\n      <th>50%</th>\n      <th>75%</th>\n      <th>max</th>\n      <th>month</th>\n      <th>product</th>\n      <th>day</th>\n      <th>dayofweek</th>\n      <th>purchase_price</th>\n      <th>std_sales_price</th>\n      <th>discount_2</th>\n      <th>prev_day_purchases</th>\n      <th>days</th>\n      <th>on_discount</th>\n      <th>predicted</th>\n    </tr>\n    <tr>\n      <th>description</th>\n      <th>day</th>\n      <th></th>\n      <th></th>\n      <th></th>\n      <th></th>\n      <th></th>\n      <th></th>\n      <th></th>\n      <th></th>\n      <th></th>\n      <th></th>\n      <th></th>\n      <th></th>\n      <th></th>\n      <th></th>\n      <th></th>\n      <th></th>\n      <th></th>\n      <th></th>\n      <th></th>\n    </tr>\n  </thead>\n  <tbody>\n    <tr>\n      <th>Biologische kikkererwten</th>\n      <th>2018-12-30</th>\n      <td>4.0</td>\n      <td>0.0</td>\n      <td>0.0</td>\n      <td>0.0</td>\n      <td>0.0</td>\n      <td>0.0</td>\n      <td>0.0</td>\n      <td>0.0</td>\n      <td>December</td>\n      <td>Biologische kikkererwten</td>\n      <td>364</td>\n      <td>Sunday</td>\n      <td>0.92</td>\n      <td>0.92</td>\n      <td>0.0</td>\n      <td>2.0</td>\n      <td>30-12-2018</td>\n      <td>13</td>\n      <td>3.793408</td>\n    </tr>\n  </tbody>\n</table>\n</div>"
     },
     "metadata": {},
     "execution_count": 8
    }
   ],
   "source": [
    "modded"
   ]
  },
  {
   "cell_type": "code",
   "execution_count": 47,
   "metadata": {},
   "outputs": [
    {
     "output_type": "display_data",
     "data": {
      "application/vnd.plotly.v1+json": {
       "config": {
        "plotlyServerURL": "https://plot.ly"
       },
       "data": [
        {
         "hovertemplate": "purchase_price=%{x}<br>count=%{y}<extra></extra>",
         "legendgroup": "",
         "marker": {
          "color": "#636efa",
          "symbol": "circle"
         },
         "mode": "markers",
         "name": "",
         "orientation": "v",
         "showlegend": false,
         "type": "scatter",
         "x": [
          0.48,
          0.69,
          0.66,
          0.69,
          0.48,
          0.69,
          0.69,
          0.69,
          0.69,
          0.6900000000000001,
          0.69,
          0.6900000000000001,
          0.69,
          0.69,
          0.69,
          0.69,
          0.6900000000000001,
          0.69,
          0.69,
          0.69,
          0.69,
          0.69,
          0.69,
          0.69,
          0.69,
          0.69,
          0.48,
          0.69,
          0.69,
          0.69,
          0.69,
          0.6549999999999999,
          0.69,
          0.69,
          0.69,
          0.69,
          0.69,
          0.69,
          0.6066666666666666,
          0.59,
          0.59,
          0.59,
          0.59,
          0.59,
          0.59,
          0.6233333333333332,
          0.69,
          0.69,
          0.48,
          0.69,
          0.69,
          0.69,
          0.66,
          0.69,
          0.69,
          0.69,
          0.69,
          0.69,
          0.69,
          0.69,
          0.69,
          0.69,
          0.6899999999999998,
          0.69,
          0.69,
          0.69,
          0.69,
          0.69,
          0.69,
          0.69,
          0.69,
          0.69,
          0.69,
          0.69,
          0.69,
          0.69,
          0.69,
          0.69,
          0.69,
          0.69,
          0.66,
          0.69,
          0.69,
          0.69,
          0.6899999999999998,
          0.69,
          0.69,
          0.69,
          0.69,
          0.69,
          0.69,
          0.69,
          0.69,
          0.69,
          0.69,
          0.69,
          0.69,
          0.6900000000000001,
          0.69,
          0.69,
          0.69,
          0.6675000000000001,
          0.48,
          0.69,
          0.69,
          0.69,
          0.66,
          0.69,
          0.69,
          0.69,
          0.69,
          0.69,
          0.69,
          0.69,
          0.69,
          0.69,
          0.69,
          0.69,
          0.69,
          0.69,
          0.6900000000000001,
          0.69,
          0.6900000000000001,
          0.69,
          0.69,
          0.69,
          0.69,
          0.6899999999999998,
          0.69,
          0.69,
          0.48000000000000004,
          0.69,
          0.69,
          0.66,
          0.69,
          0.6900000000000001,
          0.69,
          0.69,
          0.69,
          0.69,
          0.69,
          0.69,
          0.69,
          0.69,
          0.6900000000000001,
          0.69,
          0.69,
          0.69,
          0.69,
          0.69,
          0.5033333333333333,
          0.48,
          0.48,
          0.48,
          0.4800000000000002,
          0.48000000000000015,
          0.48,
          0.69,
          0.69,
          0.69,
          0.69,
          0.69,
          0.69,
          0.69,
          0.69,
          0.69,
          0.6900000000000001,
          0.69,
          0.69,
          0.69,
          0.69,
          0.69,
          0.69,
          0.69,
          0.69,
          0.69,
          0.69,
          0.69,
          0.69,
          0.69,
          0.69,
          0.69,
          0.69,
          0.69,
          0.6900000000000001,
          0.6599999999999999,
          0.69,
          0.69,
          0.69,
          0.69,
          0.69,
          0.69,
          0.69,
          0.69,
          0.69,
          0.69,
          0.69,
          0.69,
          0.69,
          0.69,
          0.69,
          0.69,
          0.69,
          0.69,
          0.69,
          0.69,
          0.69,
          0.69,
          0.69,
          0.69,
          0.69,
          0.69,
          0.69,
          0.69,
          0.69,
          0.69,
          0.6899999999999998,
          0.69,
          0.69,
          0.69,
          0.69,
          0.69,
          0.69,
          0.69,
          0.69,
          0.69,
          0.69,
          0.69,
          0.69,
          0.69,
          0.69,
          0.69,
          0.69,
          0.69,
          0.69,
          0.69,
          0.69,
          0.6899999999999998,
          0.69,
          0.69,
          0.69,
          0.69,
          0.69,
          0.69,
          0.69,
          0.69,
          0.69,
          0.69,
          0.69,
          0.69,
          0.69,
          0.69,
          0.69,
          0.69,
          0.69,
          0.69,
          0.69,
          0.6899999999999998,
          0.69,
          0.69,
          0.69,
          0.69,
          0.69,
          0.69,
          0.6899999999999998,
          0.69,
          0.69,
          0.69,
          0.69,
          0.69,
          0.69,
          0.52,
          0.52,
          0.52,
          0.52,
          0.52,
          0.52,
          0.52,
          0.69,
          0.69,
          0.69,
          0.69,
          0.69,
          0.69,
          0.69,
          0.69,
          0.69,
          0.69,
          0.69,
          0.69,
          0.6900000000000001,
          0.69,
          0.69,
          0.69,
          0.69,
          0.69,
          0.69,
          0.69,
          0.69,
          0.69,
          0.69,
          0.6900000000000001,
          0.69,
          0.69,
          0.6900000000000001,
          0.69,
          0.69,
          0.69
         ],
         "xaxis": "x",
         "y": [
          6,
          6,
          6,
          5,
          7,
          4,
          6,
          3,
          2,
          7,
          4,
          7,
          6,
          4,
          2,
          3,
          7,
          2,
          2,
          9,
          5,
          8,
          3,
          2,
          4,
          3,
          5,
          3,
          6,
          5,
          8,
          6,
          2,
          3,
          4,
          3,
          3,
          2,
          6,
          5,
          9,
          7,
          4,
          4,
          8,
          3,
          4,
          5,
          2,
          2,
          9,
          5,
          4,
          2,
          2,
          3,
          2,
          4,
          2,
          2,
          9,
          4,
          10,
          6,
          9,
          6,
          8,
          4,
          4,
          4,
          6,
          6,
          4,
          4,
          3,
          8,
          6,
          3,
          5,
          6,
          6,
          4,
          4,
          3,
          10,
          6,
          3,
          5,
          6,
          4,
          6,
          8,
          3,
          2,
          5,
          2,
          6,
          7,
          2,
          5,
          5,
          4,
          3,
          3,
          4,
          3,
          9,
          4,
          2,
          2,
          2,
          6,
          9,
          2,
          3,
          3,
          3,
          8,
          5,
          6,
          7,
          4,
          7,
          2,
          4,
          3,
          9,
          12,
          3,
          2,
          9,
          5,
          5,
          2,
          2,
          7,
          3,
          2,
          3,
          6,
          6,
          3,
          4,
          5,
          7,
          3,
          2,
          4,
          3,
          4,
          9,
          5,
          4,
          6,
          15,
          13,
          6,
          4,
          2,
          4,
          3,
          3,
          5,
          3,
          3,
          2,
          7,
          2,
          2,
          6,
          4,
          3,
          4,
          3,
          5,
          4,
          6,
          4,
          5,
          5,
          3,
          3,
          4,
          2,
          7,
          7,
          4,
          5,
          6,
          5,
          6,
          2,
          8,
          8,
          2,
          8,
          3,
          4,
          2,
          4,
          5,
          2,
          2,
          3,
          6,
          2,
          4,
          4,
          4,
          3,
          2,
          4,
          3,
          4,
          3,
          2,
          10,
          6,
          3,
          3,
          3,
          3,
          2,
          2,
          3,
          5,
          2,
          5,
          5,
          4,
          6,
          6,
          2,
          6,
          3,
          4,
          5,
          10,
          4,
          2,
          3,
          2,
          5,
          4,
          3,
          4,
          3,
          2,
          4,
          3,
          2,
          4,
          3,
          9,
          5,
          2,
          2,
          10,
          2,
          3,
          8,
          4,
          3,
          3,
          12,
          5,
          4,
          2,
          3,
          3,
          4,
          4,
          4,
          4,
          5,
          8,
          2,
          5,
          3,
          2,
          5,
          3,
          9,
          4,
          3,
          2,
          6,
          6,
          4,
          4,
          7,
          2,
          4,
          2,
          3,
          2,
          3,
          4,
          3,
          5,
          3,
          7,
          2,
          5,
          7,
          4,
          2,
          2
         ],
         "yaxis": "y"
        }
       ],
       "layout": {
        "legend": {
         "tracegroupgap": 0
        },
        "margin": {
         "t": 60
        },
        "template": {
         "data": {
          "bar": [
           {
            "error_x": {
             "color": "#2a3f5f"
            },
            "error_y": {
             "color": "#2a3f5f"
            },
            "marker": {
             "line": {
              "color": "#E5ECF6",
              "width": 0.5
             }
            },
            "type": "bar"
           }
          ],
          "barpolar": [
           {
            "marker": {
             "line": {
              "color": "#E5ECF6",
              "width": 0.5
             }
            },
            "type": "barpolar"
           }
          ],
          "carpet": [
           {
            "aaxis": {
             "endlinecolor": "#2a3f5f",
             "gridcolor": "white",
             "linecolor": "white",
             "minorgridcolor": "white",
             "startlinecolor": "#2a3f5f"
            },
            "baxis": {
             "endlinecolor": "#2a3f5f",
             "gridcolor": "white",
             "linecolor": "white",
             "minorgridcolor": "white",
             "startlinecolor": "#2a3f5f"
            },
            "type": "carpet"
           }
          ],
          "choropleth": [
           {
            "colorbar": {
             "outlinewidth": 0,
             "ticks": ""
            },
            "type": "choropleth"
           }
          ],
          "contour": [
           {
            "colorbar": {
             "outlinewidth": 0,
             "ticks": ""
            },
            "colorscale": [
             [
              0,
              "#0d0887"
             ],
             [
              0.1111111111111111,
              "#46039f"
             ],
             [
              0.2222222222222222,
              "#7201a8"
             ],
             [
              0.3333333333333333,
              "#9c179e"
             ],
             [
              0.4444444444444444,
              "#bd3786"
             ],
             [
              0.5555555555555556,
              "#d8576b"
             ],
             [
              0.6666666666666666,
              "#ed7953"
             ],
             [
              0.7777777777777778,
              "#fb9f3a"
             ],
             [
              0.8888888888888888,
              "#fdca26"
             ],
             [
              1,
              "#f0f921"
             ]
            ],
            "type": "contour"
           }
          ],
          "contourcarpet": [
           {
            "colorbar": {
             "outlinewidth": 0,
             "ticks": ""
            },
            "type": "contourcarpet"
           }
          ],
          "heatmap": [
           {
            "colorbar": {
             "outlinewidth": 0,
             "ticks": ""
            },
            "colorscale": [
             [
              0,
              "#0d0887"
             ],
             [
              0.1111111111111111,
              "#46039f"
             ],
             [
              0.2222222222222222,
              "#7201a8"
             ],
             [
              0.3333333333333333,
              "#9c179e"
             ],
             [
              0.4444444444444444,
              "#bd3786"
             ],
             [
              0.5555555555555556,
              "#d8576b"
             ],
             [
              0.6666666666666666,
              "#ed7953"
             ],
             [
              0.7777777777777778,
              "#fb9f3a"
             ],
             [
              0.8888888888888888,
              "#fdca26"
             ],
             [
              1,
              "#f0f921"
             ]
            ],
            "type": "heatmap"
           }
          ],
          "heatmapgl": [
           {
            "colorbar": {
             "outlinewidth": 0,
             "ticks": ""
            },
            "colorscale": [
             [
              0,
              "#0d0887"
             ],
             [
              0.1111111111111111,
              "#46039f"
             ],
             [
              0.2222222222222222,
              "#7201a8"
             ],
             [
              0.3333333333333333,
              "#9c179e"
             ],
             [
              0.4444444444444444,
              "#bd3786"
             ],
             [
              0.5555555555555556,
              "#d8576b"
             ],
             [
              0.6666666666666666,
              "#ed7953"
             ],
             [
              0.7777777777777778,
              "#fb9f3a"
             ],
             [
              0.8888888888888888,
              "#fdca26"
             ],
             [
              1,
              "#f0f921"
             ]
            ],
            "type": "heatmapgl"
           }
          ],
          "histogram": [
           {
            "marker": {
             "colorbar": {
              "outlinewidth": 0,
              "ticks": ""
             }
            },
            "type": "histogram"
           }
          ],
          "histogram2d": [
           {
            "colorbar": {
             "outlinewidth": 0,
             "ticks": ""
            },
            "colorscale": [
             [
              0,
              "#0d0887"
             ],
             [
              0.1111111111111111,
              "#46039f"
             ],
             [
              0.2222222222222222,
              "#7201a8"
             ],
             [
              0.3333333333333333,
              "#9c179e"
             ],
             [
              0.4444444444444444,
              "#bd3786"
             ],
             [
              0.5555555555555556,
              "#d8576b"
             ],
             [
              0.6666666666666666,
              "#ed7953"
             ],
             [
              0.7777777777777778,
              "#fb9f3a"
             ],
             [
              0.8888888888888888,
              "#fdca26"
             ],
             [
              1,
              "#f0f921"
             ]
            ],
            "type": "histogram2d"
           }
          ],
          "histogram2dcontour": [
           {
            "colorbar": {
             "outlinewidth": 0,
             "ticks": ""
            },
            "colorscale": [
             [
              0,
              "#0d0887"
             ],
             [
              0.1111111111111111,
              "#46039f"
             ],
             [
              0.2222222222222222,
              "#7201a8"
             ],
             [
              0.3333333333333333,
              "#9c179e"
             ],
             [
              0.4444444444444444,
              "#bd3786"
             ],
             [
              0.5555555555555556,
              "#d8576b"
             ],
             [
              0.6666666666666666,
              "#ed7953"
             ],
             [
              0.7777777777777778,
              "#fb9f3a"
             ],
             [
              0.8888888888888888,
              "#fdca26"
             ],
             [
              1,
              "#f0f921"
             ]
            ],
            "type": "histogram2dcontour"
           }
          ],
          "mesh3d": [
           {
            "colorbar": {
             "outlinewidth": 0,
             "ticks": ""
            },
            "type": "mesh3d"
           }
          ],
          "parcoords": [
           {
            "line": {
             "colorbar": {
              "outlinewidth": 0,
              "ticks": ""
             }
            },
            "type": "parcoords"
           }
          ],
          "pie": [
           {
            "automargin": true,
            "type": "pie"
           }
          ],
          "scatter": [
           {
            "marker": {
             "colorbar": {
              "outlinewidth": 0,
              "ticks": ""
             }
            },
            "type": "scatter"
           }
          ],
          "scatter3d": [
           {
            "line": {
             "colorbar": {
              "outlinewidth": 0,
              "ticks": ""
             }
            },
            "marker": {
             "colorbar": {
              "outlinewidth": 0,
              "ticks": ""
             }
            },
            "type": "scatter3d"
           }
          ],
          "scattercarpet": [
           {
            "marker": {
             "colorbar": {
              "outlinewidth": 0,
              "ticks": ""
             }
            },
            "type": "scattercarpet"
           }
          ],
          "scattergeo": [
           {
            "marker": {
             "colorbar": {
              "outlinewidth": 0,
              "ticks": ""
             }
            },
            "type": "scattergeo"
           }
          ],
          "scattergl": [
           {
            "marker": {
             "colorbar": {
              "outlinewidth": 0,
              "ticks": ""
             }
            },
            "type": "scattergl"
           }
          ],
          "scattermapbox": [
           {
            "marker": {
             "colorbar": {
              "outlinewidth": 0,
              "ticks": ""
             }
            },
            "type": "scattermapbox"
           }
          ],
          "scatterpolar": [
           {
            "marker": {
             "colorbar": {
              "outlinewidth": 0,
              "ticks": ""
             }
            },
            "type": "scatterpolar"
           }
          ],
          "scatterpolargl": [
           {
            "marker": {
             "colorbar": {
              "outlinewidth": 0,
              "ticks": ""
             }
            },
            "type": "scatterpolargl"
           }
          ],
          "scatterternary": [
           {
            "marker": {
             "colorbar": {
              "outlinewidth": 0,
              "ticks": ""
             }
            },
            "type": "scatterternary"
           }
          ],
          "surface": [
           {
            "colorbar": {
             "outlinewidth": 0,
             "ticks": ""
            },
            "colorscale": [
             [
              0,
              "#0d0887"
             ],
             [
              0.1111111111111111,
              "#46039f"
             ],
             [
              0.2222222222222222,
              "#7201a8"
             ],
             [
              0.3333333333333333,
              "#9c179e"
             ],
             [
              0.4444444444444444,
              "#bd3786"
             ],
             [
              0.5555555555555556,
              "#d8576b"
             ],
             [
              0.6666666666666666,
              "#ed7953"
             ],
             [
              0.7777777777777778,
              "#fb9f3a"
             ],
             [
              0.8888888888888888,
              "#fdca26"
             ],
             [
              1,
              "#f0f921"
             ]
            ],
            "type": "surface"
           }
          ],
          "table": [
           {
            "cells": {
             "fill": {
              "color": "#EBF0F8"
             },
             "line": {
              "color": "white"
             }
            },
            "header": {
             "fill": {
              "color": "#C8D4E3"
             },
             "line": {
              "color": "white"
             }
            },
            "type": "table"
           }
          ]
         },
         "layout": {
          "annotationdefaults": {
           "arrowcolor": "#2a3f5f",
           "arrowhead": 0,
           "arrowwidth": 1
          },
          "coloraxis": {
           "colorbar": {
            "outlinewidth": 0,
            "ticks": ""
           }
          },
          "colorscale": {
           "diverging": [
            [
             0,
             "#8e0152"
            ],
            [
             0.1,
             "#c51b7d"
            ],
            [
             0.2,
             "#de77ae"
            ],
            [
             0.3,
             "#f1b6da"
            ],
            [
             0.4,
             "#fde0ef"
            ],
            [
             0.5,
             "#f7f7f7"
            ],
            [
             0.6,
             "#e6f5d0"
            ],
            [
             0.7,
             "#b8e186"
            ],
            [
             0.8,
             "#7fbc41"
            ],
            [
             0.9,
             "#4d9221"
            ],
            [
             1,
             "#276419"
            ]
           ],
           "sequential": [
            [
             0,
             "#0d0887"
            ],
            [
             0.1111111111111111,
             "#46039f"
            ],
            [
             0.2222222222222222,
             "#7201a8"
            ],
            [
             0.3333333333333333,
             "#9c179e"
            ],
            [
             0.4444444444444444,
             "#bd3786"
            ],
            [
             0.5555555555555556,
             "#d8576b"
            ],
            [
             0.6666666666666666,
             "#ed7953"
            ],
            [
             0.7777777777777778,
             "#fb9f3a"
            ],
            [
             0.8888888888888888,
             "#fdca26"
            ],
            [
             1,
             "#f0f921"
            ]
           ],
           "sequentialminus": [
            [
             0,
             "#0d0887"
            ],
            [
             0.1111111111111111,
             "#46039f"
            ],
            [
             0.2222222222222222,
             "#7201a8"
            ],
            [
             0.3333333333333333,
             "#9c179e"
            ],
            [
             0.4444444444444444,
             "#bd3786"
            ],
            [
             0.5555555555555556,
             "#d8576b"
            ],
            [
             0.6666666666666666,
             "#ed7953"
            ],
            [
             0.7777777777777778,
             "#fb9f3a"
            ],
            [
             0.8888888888888888,
             "#fdca26"
            ],
            [
             1,
             "#f0f921"
            ]
           ]
          },
          "colorway": [
           "#636efa",
           "#EF553B",
           "#00cc96",
           "#ab63fa",
           "#FFA15A",
           "#19d3f3",
           "#FF6692",
           "#B6E880",
           "#FF97FF",
           "#FECB52"
          ],
          "font": {
           "color": "#2a3f5f"
          },
          "geo": {
           "bgcolor": "white",
           "lakecolor": "white",
           "landcolor": "#E5ECF6",
           "showlakes": true,
           "showland": true,
           "subunitcolor": "white"
          },
          "hoverlabel": {
           "align": "left"
          },
          "hovermode": "closest",
          "mapbox": {
           "style": "light"
          },
          "paper_bgcolor": "white",
          "plot_bgcolor": "#E5ECF6",
          "polar": {
           "angularaxis": {
            "gridcolor": "white",
            "linecolor": "white",
            "ticks": ""
           },
           "bgcolor": "#E5ECF6",
           "radialaxis": {
            "gridcolor": "white",
            "linecolor": "white",
            "ticks": ""
           }
          },
          "scene": {
           "xaxis": {
            "backgroundcolor": "#E5ECF6",
            "gridcolor": "white",
            "gridwidth": 2,
            "linecolor": "white",
            "showbackground": true,
            "ticks": "",
            "zerolinecolor": "white"
           },
           "yaxis": {
            "backgroundcolor": "#E5ECF6",
            "gridcolor": "white",
            "gridwidth": 2,
            "linecolor": "white",
            "showbackground": true,
            "ticks": "",
            "zerolinecolor": "white"
           },
           "zaxis": {
            "backgroundcolor": "#E5ECF6",
            "gridcolor": "white",
            "gridwidth": 2,
            "linecolor": "white",
            "showbackground": true,
            "ticks": "",
            "zerolinecolor": "white"
           }
          },
          "shapedefaults": {
           "line": {
            "color": "#2a3f5f"
           }
          },
          "ternary": {
           "aaxis": {
            "gridcolor": "white",
            "linecolor": "white",
            "ticks": ""
           },
           "baxis": {
            "gridcolor": "white",
            "linecolor": "white",
            "ticks": ""
           },
           "bgcolor": "#E5ECF6",
           "caxis": {
            "gridcolor": "white",
            "linecolor": "white",
            "ticks": ""
           }
          },
          "title": {
           "x": 0.05
          },
          "xaxis": {
           "automargin": true,
           "gridcolor": "white",
           "linecolor": "white",
           "ticks": "",
           "title": {
            "standoff": 15
           },
           "zerolinecolor": "white",
           "zerolinewidth": 2
          },
          "yaxis": {
           "automargin": true,
           "gridcolor": "white",
           "linecolor": "white",
           "ticks": "",
           "title": {
            "standoff": 15
           },
           "zerolinecolor": "white",
           "zerolinewidth": 2
          }
         }
        },
        "xaxis": {
         "anchor": "y",
         "domain": [
          0,
          1
         ],
         "title": {
          "text": "purchase_price"
         }
        },
        "yaxis": {
         "anchor": "x",
         "domain": [
          0,
          1
         ],
         "title": {
          "text": "count"
         }
        }
       }
      }
     },
     "metadata": {}
    }
   ],
   "source": [
    "import plotly.express as px\n",
    "fig = px.scatter(one_row, x=\"purchase_price\", y=\"count\")\n",
    "fig.show()"
   ]
  },
  {
   "cell_type": "code",
   "execution_count": 39,
   "metadata": {},
   "outputs": [
    {
     "output_type": "execute_result",
     "data": {
      "text/plain": [
       "                                 count   discount  std        min        25%  \\\n",
       "description          day                                                       \n",
       "Biologische knoflook 2018-01-01    6.0  30.434783  0.0  30.434783  30.434783   \n",
       "                     2018-01-03    6.0   0.000000  0.0   0.000000   0.000000   \n",
       "                     2018-01-05    6.0   4.347826  0.0   4.347826   4.347826   \n",
       "                     2018-01-06    5.0   0.000000  0.0   0.000000   0.000000   \n",
       "                     2018-01-07    7.0  30.434783  0.0  30.434783  30.434783   \n",
       "...                                ...        ...  ...        ...        ...   \n",
       "                     2018-12-25    5.0   0.000000  0.0   0.000000   0.000000   \n",
       "                     2018-12-26    7.0   0.000000  0.0   0.000000   0.000000   \n",
       "                     2018-12-28    4.0   0.000000  0.0   0.000000   0.000000   \n",
       "                     2018-12-29    2.0   0.000000  0.0   0.000000   0.000000   \n",
       "                     2018-12-30    2.0   0.000000  0.0   0.000000   0.000000   \n",
       "\n",
       "                                       50%        75%        max     month  \\\n",
       "description          day                                                     \n",
       "Biologische knoflook 2018-01-01  30.434783  30.434783  30.434783   January   \n",
       "                     2018-01-03   0.000000   0.000000   0.000000   January   \n",
       "                     2018-01-05   4.347826   4.347826   4.347826   January   \n",
       "                     2018-01-06   0.000000   0.000000   0.000000   January   \n",
       "                     2018-01-07  30.434783  30.434783  30.434783   January   \n",
       "...                                    ...        ...        ...       ...   \n",
       "                     2018-12-25   0.000000   0.000000   0.000000  December   \n",
       "                     2018-12-26   0.000000   0.000000   0.000000  December   \n",
       "                     2018-12-28   0.000000   0.000000   0.000000  December   \n",
       "                     2018-12-29   0.000000   0.000000   0.000000  December   \n",
       "                     2018-12-30   0.000000   0.000000   0.000000  December   \n",
       "\n",
       "                                              product  day  dayofweek  \\\n",
       "description          day                                                \n",
       "Biologische knoflook 2018-01-01  Biologische knoflook    1     Monday   \n",
       "                     2018-01-03  Biologische knoflook    3  Wednesday   \n",
       "                     2018-01-05  Biologische knoflook    5     Friday   \n",
       "                     2018-01-06  Biologische knoflook    6   Saturday   \n",
       "                     2018-01-07  Biologische knoflook    7     Sunday   \n",
       "...                                               ...  ...        ...   \n",
       "                     2018-12-25  Biologische knoflook  359    Tuesday   \n",
       "                     2018-12-26  Biologische knoflook  360  Wednesday   \n",
       "                     2018-12-28  Biologische knoflook  362     Friday   \n",
       "                     2018-12-29  Biologische knoflook  363   Saturday   \n",
       "                     2018-12-30  Biologische knoflook  364     Sunday   \n",
       "\n",
       "                                 purchase_price  std_sales_price  discount_2  \\\n",
       "description          day                                                       \n",
       "Biologische knoflook 2018-01-01            0.48             0.69  926.275992   \n",
       "                     2018-01-03            0.69             0.69    0.000000   \n",
       "                     2018-01-05            0.66             0.69   18.903592   \n",
       "                     2018-01-06            0.69             0.69    0.000000   \n",
       "                     2018-01-07            0.48             0.69  926.275992   \n",
       "...                                         ...              ...         ...   \n",
       "                     2018-12-25            0.69             0.69    0.000000   \n",
       "                     2018-12-26            0.69             0.69    0.000000   \n",
       "                     2018-12-28            0.69             0.69    0.000000   \n",
       "                     2018-12-29            0.69             0.69    0.000000   \n",
       "                     2018-12-30            0.69             0.69    0.000000   \n",
       "\n",
       "                                 prev_day_purchases        days  on_discount  \\\n",
       "description          day                                                       \n",
       "Biologische knoflook 2018-01-01                 4.0    1/1/2018           15   \n",
       "                     2018-01-03                 6.0    3/1/2018            8   \n",
       "                     2018-01-05                 1.0    5/1/2018           16   \n",
       "                     2018-01-06                 6.0    6/1/2018           11   \n",
       "                     2018-01-07                 5.0    7/1/2018            4   \n",
       "...                                             ...         ...          ...   \n",
       "                     2018-12-25                 2.0  25-12-2018           15   \n",
       "                     2018-12-26                 5.0  26-12-2018           13   \n",
       "                     2018-12-28                 1.0  28-12-2018           13   \n",
       "                     2018-12-29                 4.0  29-12-2018           12   \n",
       "                     2018-12-30                 2.0  30-12-2018           13   \n",
       "\n",
       "                                 predicted  \n",
       "description          day                    \n",
       "Biologische knoflook 2018-01-01   7.555760  \n",
       "                     2018-01-03   4.511195  \n",
       "                     2018-01-05   4.013872  \n",
       "                     2018-01-06   4.034979  \n",
       "                     2018-01-07   8.226951  \n",
       "...                                    ...  \n",
       "                     2018-12-25   4.511382  \n",
       "                     2018-12-26   3.908512  \n",
       "                     2018-12-28   4.268667  \n",
       "                     2018-12-29   4.405963  \n",
       "                     2018-12-30   4.411930  \n",
       "\n",
       "[308 rows x 19 columns]"
      ],
      "text/html": "<div>\n<style scoped>\n    .dataframe tbody tr th:only-of-type {\n        vertical-align: middle;\n    }\n\n    .dataframe tbody tr th {\n        vertical-align: top;\n    }\n\n    .dataframe thead th {\n        text-align: right;\n    }\n</style>\n<table border=\"1\" class=\"dataframe\">\n  <thead>\n    <tr style=\"text-align: right;\">\n      <th></th>\n      <th></th>\n      <th>count</th>\n      <th>discount</th>\n      <th>std</th>\n      <th>min</th>\n      <th>25%</th>\n      <th>50%</th>\n      <th>75%</th>\n      <th>max</th>\n      <th>month</th>\n      <th>product</th>\n      <th>day</th>\n      <th>dayofweek</th>\n      <th>purchase_price</th>\n      <th>std_sales_price</th>\n      <th>discount_2</th>\n      <th>prev_day_purchases</th>\n      <th>days</th>\n      <th>on_discount</th>\n      <th>predicted</th>\n    </tr>\n    <tr>\n      <th>description</th>\n      <th>day</th>\n      <th></th>\n      <th></th>\n      <th></th>\n      <th></th>\n      <th></th>\n      <th></th>\n      <th></th>\n      <th></th>\n      <th></th>\n      <th></th>\n      <th></th>\n      <th></th>\n      <th></th>\n      <th></th>\n      <th></th>\n      <th></th>\n      <th></th>\n      <th></th>\n      <th></th>\n    </tr>\n  </thead>\n  <tbody>\n    <tr>\n      <th rowspan=\"11\" valign=\"top\">Biologische knoflook</th>\n      <th>2018-01-01</th>\n      <td>6.0</td>\n      <td>30.434783</td>\n      <td>0.0</td>\n      <td>30.434783</td>\n      <td>30.434783</td>\n      <td>30.434783</td>\n      <td>30.434783</td>\n      <td>30.434783</td>\n      <td>January</td>\n      <td>Biologische knoflook</td>\n      <td>1</td>\n      <td>Monday</td>\n      <td>0.48</td>\n      <td>0.69</td>\n      <td>926.275992</td>\n      <td>4.0</td>\n      <td>1/1/2018</td>\n      <td>15</td>\n      <td>7.555760</td>\n    </tr>\n    <tr>\n      <th>2018-01-03</th>\n      <td>6.0</td>\n      <td>0.000000</td>\n      <td>0.0</td>\n      <td>0.000000</td>\n      <td>0.000000</td>\n      <td>0.000000</td>\n      <td>0.000000</td>\n      <td>0.000000</td>\n      <td>January</td>\n      <td>Biologische knoflook</td>\n      <td>3</td>\n      <td>Wednesday</td>\n      <td>0.69</td>\n      <td>0.69</td>\n      <td>0.000000</td>\n      <td>6.0</td>\n      <td>3/1/2018</td>\n      <td>8</td>\n      <td>4.511195</td>\n    </tr>\n    <tr>\n      <th>2018-01-05</th>\n      <td>6.0</td>\n      <td>4.347826</td>\n      <td>0.0</td>\n      <td>4.347826</td>\n      <td>4.347826</td>\n      <td>4.347826</td>\n      <td>4.347826</td>\n      <td>4.347826</td>\n      <td>January</td>\n      <td>Biologische knoflook</td>\n      <td>5</td>\n      <td>Friday</td>\n      <td>0.66</td>\n      <td>0.69</td>\n      <td>18.903592</td>\n      <td>1.0</td>\n      <td>5/1/2018</td>\n      <td>16</td>\n      <td>4.013872</td>\n    </tr>\n    <tr>\n      <th>2018-01-06</th>\n      <td>5.0</td>\n      <td>0.000000</td>\n      <td>0.0</td>\n      <td>0.000000</td>\n      <td>0.000000</td>\n      <td>0.000000</td>\n      <td>0.000000</td>\n      <td>0.000000</td>\n      <td>January</td>\n      <td>Biologische knoflook</td>\n      <td>6</td>\n      <td>Saturday</td>\n      <td>0.69</td>\n      <td>0.69</td>\n      <td>0.000000</td>\n      <td>6.0</td>\n      <td>6/1/2018</td>\n      <td>11</td>\n      <td>4.034979</td>\n    </tr>\n    <tr>\n      <th>2018-01-07</th>\n      <td>7.0</td>\n      <td>30.434783</td>\n      <td>0.0</td>\n      <td>30.434783</td>\n      <td>30.434783</td>\n      <td>30.434783</td>\n      <td>30.434783</td>\n      <td>30.434783</td>\n      <td>January</td>\n      <td>Biologische knoflook</td>\n      <td>7</td>\n      <td>Sunday</td>\n      <td>0.48</td>\n      <td>0.69</td>\n      <td>926.275992</td>\n      <td>5.0</td>\n      <td>7/1/2018</td>\n      <td>4</td>\n      <td>8.226951</td>\n    </tr>\n    <tr>\n      <th>...</th>\n      <td>...</td>\n      <td>...</td>\n      <td>...</td>\n      <td>...</td>\n      <td>...</td>\n      <td>...</td>\n      <td>...</td>\n      <td>...</td>\n      <td>...</td>\n      <td>...</td>\n      <td>...</td>\n      <td>...</td>\n      <td>...</td>\n      <td>...</td>\n      <td>...</td>\n      <td>...</td>\n      <td>...</td>\n      <td>...</td>\n      <td>...</td>\n    </tr>\n    <tr>\n      <th>2018-12-25</th>\n      <td>5.0</td>\n      <td>0.000000</td>\n      <td>0.0</td>\n      <td>0.000000</td>\n      <td>0.000000</td>\n      <td>0.000000</td>\n      <td>0.000000</td>\n      <td>0.000000</td>\n      <td>December</td>\n      <td>Biologische knoflook</td>\n      <td>359</td>\n      <td>Tuesday</td>\n      <td>0.69</td>\n      <td>0.69</td>\n      <td>0.000000</td>\n      <td>2.0</td>\n      <td>25-12-2018</td>\n      <td>15</td>\n      <td>4.511382</td>\n    </tr>\n    <tr>\n      <th>2018-12-26</th>\n      <td>7.0</td>\n      <td>0.000000</td>\n      <td>0.0</td>\n      <td>0.000000</td>\n      <td>0.000000</td>\n      <td>0.000000</td>\n      <td>0.000000</td>\n      <td>0.000000</td>\n      <td>December</td>\n      <td>Biologische knoflook</td>\n      <td>360</td>\n      <td>Wednesday</td>\n      <td>0.69</td>\n      <td>0.69</td>\n      <td>0.000000</td>\n      <td>5.0</td>\n      <td>26-12-2018</td>\n      <td>13</td>\n      <td>3.908512</td>\n    </tr>\n    <tr>\n      <th>2018-12-28</th>\n      <td>4.0</td>\n      <td>0.000000</td>\n      <td>0.0</td>\n      <td>0.000000</td>\n      <td>0.000000</td>\n      <td>0.000000</td>\n      <td>0.000000</td>\n      <td>0.000000</td>\n      <td>December</td>\n      <td>Biologische knoflook</td>\n      <td>362</td>\n      <td>Friday</td>\n      <td>0.69</td>\n      <td>0.69</td>\n      <td>0.000000</td>\n      <td>1.0</td>\n      <td>28-12-2018</td>\n      <td>13</td>\n      <td>4.268667</td>\n    </tr>\n    <tr>\n      <th>2018-12-29</th>\n      <td>2.0</td>\n      <td>0.000000</td>\n      <td>0.0</td>\n      <td>0.000000</td>\n      <td>0.000000</td>\n      <td>0.000000</td>\n      <td>0.000000</td>\n      <td>0.000000</td>\n      <td>December</td>\n      <td>Biologische knoflook</td>\n      <td>363</td>\n      <td>Saturday</td>\n      <td>0.69</td>\n      <td>0.69</td>\n      <td>0.000000</td>\n      <td>4.0</td>\n      <td>29-12-2018</td>\n      <td>12</td>\n      <td>4.405963</td>\n    </tr>\n    <tr>\n      <th>2018-12-30</th>\n      <td>2.0</td>\n      <td>0.000000</td>\n      <td>0.0</td>\n      <td>0.000000</td>\n      <td>0.000000</td>\n      <td>0.000000</td>\n      <td>0.000000</td>\n      <td>0.000000</td>\n      <td>December</td>\n      <td>Biologische knoflook</td>\n      <td>364</td>\n      <td>Sunday</td>\n      <td>0.69</td>\n      <td>0.69</td>\n      <td>0.000000</td>\n      <td>2.0</td>\n      <td>30-12-2018</td>\n      <td>13</td>\n      <td>4.411930</td>\n    </tr>\n  </tbody>\n</table>\n<p>308 rows × 19 columns</p>\n</div>"
     },
     "metadata": {},
     "execution_count": 39
    }
   ],
   "source": [
    "one_row"
   ]
  },
  {
   "cell_type": "code",
   "execution_count": 25,
   "metadata": {},
   "outputs": [
    {
     "output_type": "execute_result",
     "data": {
      "text/plain": [
       "                       customer                                              \\\n",
       "                          count          mean        std      min       25%   \n",
       "description  day                                                              \n",
       "Aardbeien    1/1/2018       9.0     38.333333  16.000000      7.0     31.00   \n",
       "             1/10/2018      6.0  15646.833333  23.819460  15621.0  15625.75   \n",
       "             1/11/2018      6.0  17345.666667  11.075498  17333.0  17337.50   \n",
       "             1/12/2018      5.0  19071.400000  11.436783  19054.0  19071.00   \n",
       "             1/2/2018       8.0   1720.375000  13.037720   1704.0   1709.50   \n",
       "...                         ...           ...        ...      ...       ...   \n",
       "rundervinken 9/5/2018       1.0   7448.000000        NaN   7448.0   7448.00   \n",
       "             9/6/2018       7.0   9285.428571  17.709293   9257.0   9276.50   \n",
       "             9/7/2018       7.0  10946.142857  19.038807  10914.0  10936.50   \n",
       "             9/8/2018       6.0  12685.833333  10.457852  12669.0  12681.00   \n",
       "             9/9/2018       2.0  14419.500000   6.363961  14415.0  14417.25   \n",
       "\n",
       "                                                   bank acount                \\\n",
       "                            50%       75%      max       count          mean   \n",
       "description  day                                                               \n",
       "Aardbeien    1/1/2018      39.0     46.00     60.0         9.0  6.196480e+07   \n",
       "             1/10/2018  15649.0  15667.00  15671.0         6.0  7.127359e+07   \n",
       "             1/11/2018  17348.0  17348.00  17363.0         6.0  4.081008e+07   \n",
       "             1/12/2018  19072.0  19074.00  19086.0         3.0  3.525882e+07   \n",
       "             1/2/2018    1721.0   1729.75   1740.0         7.0  6.307131e+07   \n",
       "...                         ...       ...      ...         ...           ...   \n",
       "rundervinken 9/5/2018    7448.0   7448.00   7448.0         1.0  7.380519e+07   \n",
       "             9/6/2018    9288.0   9296.50   9307.0         5.0  3.724918e+07   \n",
       "             9/7/2018   10947.0  10959.50  10970.0         7.0  5.381642e+07   \n",
       "             9/8/2018   12687.5  12692.50  12698.0         4.0  3.107016e+07   \n",
       "             9/9/2018   14419.5  14421.75  14424.0         2.0  2.884079e+07   \n",
       "\n",
       "                        ... basic      on_discount                           \\\n",
       "                        ...   75%  max       count mean  std  min  25%  50%   \n",
       "description  day        ...                                                   \n",
       "Aardbeien    1/1/2018   ...   0.0  0.0         9.0  0.0  0.0  0.0  0.0  0.0   \n",
       "             1/10/2018  ...   0.0  0.0         6.0  0.0  0.0  0.0  0.0  0.0   \n",
       "             1/11/2018  ...   0.0  0.0         6.0  0.0  0.0  0.0  0.0  0.0   \n",
       "             1/12/2018  ...   0.0  0.0         5.0  0.0  0.0  0.0  0.0  0.0   \n",
       "             1/2/2018   ...   0.0  0.0         8.0  1.0  0.0  1.0  1.0  1.0   \n",
       "...                     ...   ...  ...         ...  ...  ...  ...  ...  ...   \n",
       "rundervinken 9/5/2018   ...   0.0  0.0         1.0  0.0  NaN  0.0  0.0  0.0   \n",
       "             9/6/2018   ...   0.0  0.0         7.0  0.0  0.0  0.0  0.0  0.0   \n",
       "             9/7/2018   ...   0.0  0.0         7.0  0.0  0.0  0.0  0.0  0.0   \n",
       "             9/8/2018   ...   0.0  0.0         6.0  0.0  0.0  0.0  0.0  0.0   \n",
       "             9/9/2018   ...   0.0  0.0         2.0  0.0  0.0  0.0  0.0  0.0   \n",
       "\n",
       "                                  \n",
       "                        75%  max  \n",
       "description  day                  \n",
       "Aardbeien    1/1/2018   0.0  0.0  \n",
       "             1/10/2018  0.0  0.0  \n",
       "             1/11/2018  0.0  0.0  \n",
       "             1/12/2018  0.0  0.0  \n",
       "             1/2/2018   1.0  1.0  \n",
       "...                     ...  ...  \n",
       "rundervinken 9/5/2018   0.0  0.0  \n",
       "             9/6/2018   0.0  0.0  \n",
       "             9/7/2018   0.0  0.0  \n",
       "             9/8/2018   0.0  0.0  \n",
       "             9/9/2018   0.0  0.0  \n",
       "\n",
       "[53181 rows x 56 columns]"
      ],
      "text/html": "<div>\n<style scoped>\n    .dataframe tbody tr th:only-of-type {\n        vertical-align: middle;\n    }\n\n    .dataframe tbody tr th {\n        vertical-align: top;\n    }\n\n    .dataframe thead tr th {\n        text-align: left;\n    }\n\n    .dataframe thead tr:last-of-type th {\n        text-align: right;\n    }\n</style>\n<table border=\"1\" class=\"dataframe\">\n  <thead>\n    <tr>\n      <th></th>\n      <th></th>\n      <th colspan=\"8\" halign=\"left\">customer</th>\n      <th colspan=\"2\" halign=\"left\">bank acount</th>\n      <th>...</th>\n      <th colspan=\"2\" halign=\"left\">basic</th>\n      <th colspan=\"8\" halign=\"left\">on_discount</th>\n    </tr>\n    <tr>\n      <th></th>\n      <th></th>\n      <th>count</th>\n      <th>mean</th>\n      <th>std</th>\n      <th>min</th>\n      <th>25%</th>\n      <th>50%</th>\n      <th>75%</th>\n      <th>max</th>\n      <th>count</th>\n      <th>mean</th>\n      <th>...</th>\n      <th>75%</th>\n      <th>max</th>\n      <th>count</th>\n      <th>mean</th>\n      <th>std</th>\n      <th>min</th>\n      <th>25%</th>\n      <th>50%</th>\n      <th>75%</th>\n      <th>max</th>\n    </tr>\n    <tr>\n      <th>description</th>\n      <th>day</th>\n      <th></th>\n      <th></th>\n      <th></th>\n      <th></th>\n      <th></th>\n      <th></th>\n      <th></th>\n      <th></th>\n      <th></th>\n      <th></th>\n      <th></th>\n      <th></th>\n      <th></th>\n      <th></th>\n      <th></th>\n      <th></th>\n      <th></th>\n      <th></th>\n      <th></th>\n      <th></th>\n      <th></th>\n    </tr>\n  </thead>\n  <tbody>\n    <tr>\n      <th rowspan=\"5\" valign=\"top\">Aardbeien</th>\n      <th>1/1/2018</th>\n      <td>9.0</td>\n      <td>38.333333</td>\n      <td>16.000000</td>\n      <td>7.0</td>\n      <td>31.00</td>\n      <td>39.0</td>\n      <td>46.00</td>\n      <td>60.0</td>\n      <td>9.0</td>\n      <td>6.196480e+07</td>\n      <td>...</td>\n      <td>0.0</td>\n      <td>0.0</td>\n      <td>9.0</td>\n      <td>0.0</td>\n      <td>0.0</td>\n      <td>0.0</td>\n      <td>0.0</td>\n      <td>0.0</td>\n      <td>0.0</td>\n      <td>0.0</td>\n    </tr>\n    <tr>\n      <th>1/10/2018</th>\n      <td>6.0</td>\n      <td>15646.833333</td>\n      <td>23.819460</td>\n      <td>15621.0</td>\n      <td>15625.75</td>\n      <td>15649.0</td>\n      <td>15667.00</td>\n      <td>15671.0</td>\n      <td>6.0</td>\n      <td>7.127359e+07</td>\n      <td>...</td>\n      <td>0.0</td>\n      <td>0.0</td>\n      <td>6.0</td>\n      <td>0.0</td>\n      <td>0.0</td>\n      <td>0.0</td>\n      <td>0.0</td>\n      <td>0.0</td>\n      <td>0.0</td>\n      <td>0.0</td>\n    </tr>\n    <tr>\n      <th>1/11/2018</th>\n      <td>6.0</td>\n      <td>17345.666667</td>\n      <td>11.075498</td>\n      <td>17333.0</td>\n      <td>17337.50</td>\n      <td>17348.0</td>\n      <td>17348.00</td>\n      <td>17363.0</td>\n      <td>6.0</td>\n      <td>4.081008e+07</td>\n      <td>...</td>\n      <td>0.0</td>\n      <td>0.0</td>\n      <td>6.0</td>\n      <td>0.0</td>\n      <td>0.0</td>\n      <td>0.0</td>\n      <td>0.0</td>\n      <td>0.0</td>\n      <td>0.0</td>\n      <td>0.0</td>\n    </tr>\n    <tr>\n      <th>1/12/2018</th>\n      <td>5.0</td>\n      <td>19071.400000</td>\n      <td>11.436783</td>\n      <td>19054.0</td>\n      <td>19071.00</td>\n      <td>19072.0</td>\n      <td>19074.00</td>\n      <td>19086.0</td>\n      <td>3.0</td>\n      <td>3.525882e+07</td>\n      <td>...</td>\n      <td>0.0</td>\n      <td>0.0</td>\n      <td>5.0</td>\n      <td>0.0</td>\n      <td>0.0</td>\n      <td>0.0</td>\n      <td>0.0</td>\n      <td>0.0</td>\n      <td>0.0</td>\n      <td>0.0</td>\n    </tr>\n    <tr>\n      <th>1/2/2018</th>\n      <td>8.0</td>\n      <td>1720.375000</td>\n      <td>13.037720</td>\n      <td>1704.0</td>\n      <td>1709.50</td>\n      <td>1721.0</td>\n      <td>1729.75</td>\n      <td>1740.0</td>\n      <td>7.0</td>\n      <td>6.307131e+07</td>\n      <td>...</td>\n      <td>0.0</td>\n      <td>0.0</td>\n      <td>8.0</td>\n      <td>1.0</td>\n      <td>0.0</td>\n      <td>1.0</td>\n      <td>1.0</td>\n      <td>1.0</td>\n      <td>1.0</td>\n      <td>1.0</td>\n    </tr>\n    <tr>\n      <th>...</th>\n      <th>...</th>\n      <td>...</td>\n      <td>...</td>\n      <td>...</td>\n      <td>...</td>\n      <td>...</td>\n      <td>...</td>\n      <td>...</td>\n      <td>...</td>\n      <td>...</td>\n      <td>...</td>\n      <td>...</td>\n      <td>...</td>\n      <td>...</td>\n      <td>...</td>\n      <td>...</td>\n      <td>...</td>\n      <td>...</td>\n      <td>...</td>\n      <td>...</td>\n      <td>...</td>\n      <td>...</td>\n    </tr>\n    <tr>\n      <th rowspan=\"5\" valign=\"top\">rundervinken</th>\n      <th>9/5/2018</th>\n      <td>1.0</td>\n      <td>7448.000000</td>\n      <td>NaN</td>\n      <td>7448.0</td>\n      <td>7448.00</td>\n      <td>7448.0</td>\n      <td>7448.00</td>\n      <td>7448.0</td>\n      <td>1.0</td>\n      <td>7.380519e+07</td>\n      <td>...</td>\n      <td>0.0</td>\n      <td>0.0</td>\n      <td>1.0</td>\n      <td>0.0</td>\n      <td>NaN</td>\n      <td>0.0</td>\n      <td>0.0</td>\n      <td>0.0</td>\n      <td>0.0</td>\n      <td>0.0</td>\n    </tr>\n    <tr>\n      <th>9/6/2018</th>\n      <td>7.0</td>\n      <td>9285.428571</td>\n      <td>17.709293</td>\n      <td>9257.0</td>\n      <td>9276.50</td>\n      <td>9288.0</td>\n      <td>9296.50</td>\n      <td>9307.0</td>\n      <td>5.0</td>\n      <td>3.724918e+07</td>\n      <td>...</td>\n      <td>0.0</td>\n      <td>0.0</td>\n      <td>7.0</td>\n      <td>0.0</td>\n      <td>0.0</td>\n      <td>0.0</td>\n      <td>0.0</td>\n      <td>0.0</td>\n      <td>0.0</td>\n      <td>0.0</td>\n    </tr>\n    <tr>\n      <th>9/7/2018</th>\n      <td>7.0</td>\n      <td>10946.142857</td>\n      <td>19.038807</td>\n      <td>10914.0</td>\n      <td>10936.50</td>\n      <td>10947.0</td>\n      <td>10959.50</td>\n      <td>10970.0</td>\n      <td>7.0</td>\n      <td>5.381642e+07</td>\n      <td>...</td>\n      <td>0.0</td>\n      <td>0.0</td>\n      <td>7.0</td>\n      <td>0.0</td>\n      <td>0.0</td>\n      <td>0.0</td>\n      <td>0.0</td>\n      <td>0.0</td>\n      <td>0.0</td>\n      <td>0.0</td>\n    </tr>\n    <tr>\n      <th>9/8/2018</th>\n      <td>6.0</td>\n      <td>12685.833333</td>\n      <td>10.457852</td>\n      <td>12669.0</td>\n      <td>12681.00</td>\n      <td>12687.5</td>\n      <td>12692.50</td>\n      <td>12698.0</td>\n      <td>4.0</td>\n      <td>3.107016e+07</td>\n      <td>...</td>\n      <td>0.0</td>\n      <td>0.0</td>\n      <td>6.0</td>\n      <td>0.0</td>\n      <td>0.0</td>\n      <td>0.0</td>\n      <td>0.0</td>\n      <td>0.0</td>\n      <td>0.0</td>\n      <td>0.0</td>\n    </tr>\n    <tr>\n      <th>9/9/2018</th>\n      <td>2.0</td>\n      <td>14419.500000</td>\n      <td>6.363961</td>\n      <td>14415.0</td>\n      <td>14417.25</td>\n      <td>14419.5</td>\n      <td>14421.75</td>\n      <td>14424.0</td>\n      <td>2.0</td>\n      <td>2.884079e+07</td>\n      <td>...</td>\n      <td>0.0</td>\n      <td>0.0</td>\n      <td>2.0</td>\n      <td>0.0</td>\n      <td>0.0</td>\n      <td>0.0</td>\n      <td>0.0</td>\n      <td>0.0</td>\n      <td>0.0</td>\n      <td>0.0</td>\n    </tr>\n  </tbody>\n</table>\n<p>53181 rows × 56 columns</p>\n</div>"
     },
     "metadata": {},
     "execution_count": 25
    }
   ],
   "source": [
    "transactions[\"on_discount\"] = np.where(transactions[\"std_sales_price\"] == transactions[\"purchase_price\"], 0, 1)\n",
    "grouped_transactions = transactions.groupby([\"description\", \"day\"]).describe()\n",
    "grouped_transactions"
   ]
  },
  {
   "cell_type": "code",
   "execution_count": 45,
   "metadata": {},
   "outputs": [],
   "source": [
    "grouped_transactions[\"day\"] = [grouped_transactions.index[i][1] for i in range(grouped_transactions.shape[0])]\n",
    "grouped_transactions[\"on_discount\"] = np.where(grouped_transactions[\"std_sales_price\"][\"mean\"] == grouped_transactions[\"purchase_price\"][\"mean\"], 0, 1)\n",
    "grouped_transactions[\"on_discount\"][\"count\"]\n",
    "\n",
    "df_discounts = pd.DataFrame({\"days\":[grouped_transactions.index[i][1] for i in range(grouped_transactions.shape[0])], \"on_discount\":grouped_transactions[\"on_discount\"][\"count\"]})\n",
    "discounts_per_day = df_discounts.groupby(\"days\").sum()\n",
    "discounts_per_day[\"day\"] = pd.to_datetime(discounts_per_day.index, dayfirst=True)\n",
    "discounts_per_day.to_csv(\"nr_discounts_per_day.csv\")"
   ]
  },
  {
   "cell_type": "code",
   "execution_count": 49,
   "metadata": {},
   "outputs": [],
   "source": [
    "new_df = prepared_transactions.join(discounts_per_day.set_index(\"day\"))"
   ]
  },
  {
   "cell_type": "code",
   "execution_count": 50,
   "metadata": {},
   "outputs": [
    {
     "output_type": "execute_result",
     "data": {
      "text/plain": [
       "                                  count  discount  std  min  25%  50%  75%  \\\n",
       "description           day                                                    \n",
       "Biologische Bloemkool 2018-01-01    5.0       0.0  0.0  0.0  0.0  0.0  0.0   \n",
       "                      2018-01-04    4.0       0.0  0.0  0.0  0.0  0.0  0.0   \n",
       "                      2018-01-05    6.0       0.0  0.0  0.0  0.0  0.0  0.0   \n",
       "                      2018-01-07    9.0       0.0  0.0  0.0  0.0  0.0  0.0   \n",
       "                      2018-01-08    2.0       0.0  0.0  0.0  0.0  0.0  0.0   \n",
       "...                                 ...       ...  ...  ...  ...  ...  ...   \n",
       "Biologische rode kool 2018-12-25    3.0       0.0  0.0  0.0  0.0  0.0  0.0   \n",
       "                      2018-12-26    7.0       0.0  0.0  0.0  0.0  0.0  0.0   \n",
       "                      2018-12-28    5.0       0.0  0.0  0.0  0.0  0.0  0.0   \n",
       "                      2018-12-29    3.0       0.0  0.0  0.0  0.0  0.0  0.0   \n",
       "                      2018-12-30    3.0       0.0  0.0  0.0  0.0  0.0  0.0   \n",
       "\n",
       "                                  max     month                product  day  \\\n",
       "description           day                                                     \n",
       "Biologische Bloemkool 2018-01-01  0.0   January  Biologische Bloemkool    1   \n",
       "                      2018-01-04  0.0   January  Biologische Bloemkool    4   \n",
       "                      2018-01-05  0.0   January  Biologische Bloemkool    5   \n",
       "                      2018-01-07  0.0   January  Biologische Bloemkool    7   \n",
       "                      2018-01-08  0.0   January  Biologische Bloemkool    8   \n",
       "...                               ...       ...                    ...  ...   \n",
       "Biologische rode kool 2018-12-25  0.0  December  Biologische rode kool  359   \n",
       "                      2018-12-26  0.0  December  Biologische rode kool  360   \n",
       "                      2018-12-28  0.0  December  Biologische rode kool  362   \n",
       "                      2018-12-29  0.0  December  Biologische rode kool  363   \n",
       "                      2018-12-30  0.0  December  Biologische rode kool  364   \n",
       "\n",
       "                                  dayofweek  purchase_price  discount_2  \\\n",
       "description           day                                                 \n",
       "Biologische Bloemkool 2018-01-01     Monday            2.39         0.0   \n",
       "                      2018-01-04   Thursday            2.39         0.0   \n",
       "                      2018-01-05     Friday            2.39         0.0   \n",
       "                      2018-01-07     Sunday            2.39         0.0   \n",
       "                      2018-01-08     Monday            2.39         0.0   \n",
       "...                                     ...             ...         ...   \n",
       "Biologische rode kool 2018-12-25    Tuesday            1.29         0.0   \n",
       "                      2018-12-26  Wednesday            1.29         0.0   \n",
       "                      2018-12-28     Friday            1.29         0.0   \n",
       "                      2018-12-29   Saturday            1.29         0.0   \n",
       "                      2018-12-30     Sunday            1.29         0.0   \n",
       "\n",
       "                                  prev_day_purchases  prev_day_pp  \\\n",
       "description           day                                           \n",
       "Biologische Bloemkool 2018-01-01                 0.0          NaN   \n",
       "                      2018-01-04                 1.0         2.39   \n",
       "                      2018-01-05                 4.0         2.39   \n",
       "                      2018-01-07                 1.0         2.39   \n",
       "                      2018-01-08                 9.0         2.39   \n",
       "...                                              ...          ...   \n",
       "Biologische rode kool 2018-12-25                 4.0         1.29   \n",
       "                      2018-12-26                 3.0         1.29   \n",
       "                      2018-12-28                 1.0         1.29   \n",
       "                      2018-12-29                 5.0         1.29   \n",
       "                      2018-12-30                 3.0         1.29   \n",
       "\n",
       "                                  discount_prev_day  on_discount  \n",
       "description           day                                         \n",
       "Biologische Bloemkool 2018-01-01                  1           15  \n",
       "                      2018-01-04                  0           16  \n",
       "                      2018-01-05                  0           16  \n",
       "                      2018-01-07                  0            4  \n",
       "                      2018-01-08                  0           22  \n",
       "...                                             ...          ...  \n",
       "Biologische rode kool 2018-12-25                  0           15  \n",
       "                      2018-12-26                  1           13  \n",
       "                      2018-12-28                  1           13  \n",
       "                      2018-12-29                  0           12  \n",
       "                      2018-12-30                  0           13  \n",
       "\n",
       "[2680 rows x 18 columns]"
      ],
      "text/html": "<div>\n<style scoped>\n    .dataframe tbody tr th:only-of-type {\n        vertical-align: middle;\n    }\n\n    .dataframe tbody tr th {\n        vertical-align: top;\n    }\n\n    .dataframe thead th {\n        text-align: right;\n    }\n</style>\n<table border=\"1\" class=\"dataframe\">\n  <thead>\n    <tr style=\"text-align: right;\">\n      <th></th>\n      <th></th>\n      <th>count</th>\n      <th>discount</th>\n      <th>std</th>\n      <th>min</th>\n      <th>25%</th>\n      <th>50%</th>\n      <th>75%</th>\n      <th>max</th>\n      <th>month</th>\n      <th>product</th>\n      <th>day</th>\n      <th>dayofweek</th>\n      <th>purchase_price</th>\n      <th>discount_2</th>\n      <th>prev_day_purchases</th>\n      <th>prev_day_pp</th>\n      <th>discount_prev_day</th>\n      <th>on_discount</th>\n    </tr>\n    <tr>\n      <th>description</th>\n      <th>day</th>\n      <th></th>\n      <th></th>\n      <th></th>\n      <th></th>\n      <th></th>\n      <th></th>\n      <th></th>\n      <th></th>\n      <th></th>\n      <th></th>\n      <th></th>\n      <th></th>\n      <th></th>\n      <th></th>\n      <th></th>\n      <th></th>\n      <th></th>\n      <th></th>\n    </tr>\n  </thead>\n  <tbody>\n    <tr>\n      <th rowspan=\"5\" valign=\"top\">Biologische Bloemkool</th>\n      <th>2018-01-01</th>\n      <td>5.0</td>\n      <td>0.0</td>\n      <td>0.0</td>\n      <td>0.0</td>\n      <td>0.0</td>\n      <td>0.0</td>\n      <td>0.0</td>\n      <td>0.0</td>\n      <td>January</td>\n      <td>Biologische Bloemkool</td>\n      <td>1</td>\n      <td>Monday</td>\n      <td>2.39</td>\n      <td>0.0</td>\n      <td>0.0</td>\n      <td>NaN</td>\n      <td>1</td>\n      <td>15</td>\n    </tr>\n    <tr>\n      <th>2018-01-04</th>\n      <td>4.0</td>\n      <td>0.0</td>\n      <td>0.0</td>\n      <td>0.0</td>\n      <td>0.0</td>\n      <td>0.0</td>\n      <td>0.0</td>\n      <td>0.0</td>\n      <td>January</td>\n      <td>Biologische Bloemkool</td>\n      <td>4</td>\n      <td>Thursday</td>\n      <td>2.39</td>\n      <td>0.0</td>\n      <td>1.0</td>\n      <td>2.39</td>\n      <td>0</td>\n      <td>16</td>\n    </tr>\n    <tr>\n      <th>2018-01-05</th>\n      <td>6.0</td>\n      <td>0.0</td>\n      <td>0.0</td>\n      <td>0.0</td>\n      <td>0.0</td>\n      <td>0.0</td>\n      <td>0.0</td>\n      <td>0.0</td>\n      <td>January</td>\n      <td>Biologische Bloemkool</td>\n      <td>5</td>\n      <td>Friday</td>\n      <td>2.39</td>\n      <td>0.0</td>\n      <td>4.0</td>\n      <td>2.39</td>\n      <td>0</td>\n      <td>16</td>\n    </tr>\n    <tr>\n      <th>2018-01-07</th>\n      <td>9.0</td>\n      <td>0.0</td>\n      <td>0.0</td>\n      <td>0.0</td>\n      <td>0.0</td>\n      <td>0.0</td>\n      <td>0.0</td>\n      <td>0.0</td>\n      <td>January</td>\n      <td>Biologische Bloemkool</td>\n      <td>7</td>\n      <td>Sunday</td>\n      <td>2.39</td>\n      <td>0.0</td>\n      <td>1.0</td>\n      <td>2.39</td>\n      <td>0</td>\n      <td>4</td>\n    </tr>\n    <tr>\n      <th>2018-01-08</th>\n      <td>2.0</td>\n      <td>0.0</td>\n      <td>0.0</td>\n      <td>0.0</td>\n      <td>0.0</td>\n      <td>0.0</td>\n      <td>0.0</td>\n      <td>0.0</td>\n      <td>January</td>\n      <td>Biologische Bloemkool</td>\n      <td>8</td>\n      <td>Monday</td>\n      <td>2.39</td>\n      <td>0.0</td>\n      <td>9.0</td>\n      <td>2.39</td>\n      <td>0</td>\n      <td>22</td>\n    </tr>\n    <tr>\n      <th>...</th>\n      <th>...</th>\n      <td>...</td>\n      <td>...</td>\n      <td>...</td>\n      <td>...</td>\n      <td>...</td>\n      <td>...</td>\n      <td>...</td>\n      <td>...</td>\n      <td>...</td>\n      <td>...</td>\n      <td>...</td>\n      <td>...</td>\n      <td>...</td>\n      <td>...</td>\n      <td>...</td>\n      <td>...</td>\n      <td>...</td>\n      <td>...</td>\n    </tr>\n    <tr>\n      <th rowspan=\"5\" valign=\"top\">Biologische rode kool</th>\n      <th>2018-12-25</th>\n      <td>3.0</td>\n      <td>0.0</td>\n      <td>0.0</td>\n      <td>0.0</td>\n      <td>0.0</td>\n      <td>0.0</td>\n      <td>0.0</td>\n      <td>0.0</td>\n      <td>December</td>\n      <td>Biologische rode kool</td>\n      <td>359</td>\n      <td>Tuesday</td>\n      <td>1.29</td>\n      <td>0.0</td>\n      <td>4.0</td>\n      <td>1.29</td>\n      <td>0</td>\n      <td>15</td>\n    </tr>\n    <tr>\n      <th>2018-12-26</th>\n      <td>7.0</td>\n      <td>0.0</td>\n      <td>0.0</td>\n      <td>0.0</td>\n      <td>0.0</td>\n      <td>0.0</td>\n      <td>0.0</td>\n      <td>0.0</td>\n      <td>December</td>\n      <td>Biologische rode kool</td>\n      <td>360</td>\n      <td>Wednesday</td>\n      <td>1.29</td>\n      <td>0.0</td>\n      <td>3.0</td>\n      <td>1.29</td>\n      <td>1</td>\n      <td>13</td>\n    </tr>\n    <tr>\n      <th>2018-12-28</th>\n      <td>5.0</td>\n      <td>0.0</td>\n      <td>0.0</td>\n      <td>0.0</td>\n      <td>0.0</td>\n      <td>0.0</td>\n      <td>0.0</td>\n      <td>0.0</td>\n      <td>December</td>\n      <td>Biologische rode kool</td>\n      <td>362</td>\n      <td>Friday</td>\n      <td>1.29</td>\n      <td>0.0</td>\n      <td>1.0</td>\n      <td>1.29</td>\n      <td>1</td>\n      <td>13</td>\n    </tr>\n    <tr>\n      <th>2018-12-29</th>\n      <td>3.0</td>\n      <td>0.0</td>\n      <td>0.0</td>\n      <td>0.0</td>\n      <td>0.0</td>\n      <td>0.0</td>\n      <td>0.0</td>\n      <td>0.0</td>\n      <td>December</td>\n      <td>Biologische rode kool</td>\n      <td>363</td>\n      <td>Saturday</td>\n      <td>1.29</td>\n      <td>0.0</td>\n      <td>5.0</td>\n      <td>1.29</td>\n      <td>0</td>\n      <td>12</td>\n    </tr>\n    <tr>\n      <th>2018-12-30</th>\n      <td>3.0</td>\n      <td>0.0</td>\n      <td>0.0</td>\n      <td>0.0</td>\n      <td>0.0</td>\n      <td>0.0</td>\n      <td>0.0</td>\n      <td>0.0</td>\n      <td>December</td>\n      <td>Biologische rode kool</td>\n      <td>364</td>\n      <td>Sunday</td>\n      <td>1.29</td>\n      <td>0.0</td>\n      <td>3.0</td>\n      <td>1.29</td>\n      <td>0</td>\n      <td>13</td>\n    </tr>\n  </tbody>\n</table>\n<p>2680 rows × 18 columns</p>\n</div>"
     },
     "metadata": {},
     "execution_count": 50
    }
   ],
   "source": [
    "new_df"
   ]
  },
  {
   "source": [
    "## Experimenting with TensorFlow"
   ],
   "cell_type": "markdown",
   "metadata": {}
  },
  {
   "cell_type": "code",
   "execution_count": 59,
   "metadata": {},
   "outputs": [],
   "source": [
    "from tensorflow.keras import models, layers, losses, optimizers\n",
    "\n",
    "lstm_model = models.Sequential()\n",
    "lstm_model.add(layers.LSTM(50, return_sequences=True))\n",
    "lstm_model.add(layers.LSTM(20))\n",
    "lstm_model.add(layers.Dense(1, activation=\"sigmoid\"))\n",
    "lstm_model.compile(loss=\"adam\", metrics=\"mean_absolute_error\")"
   ]
  },
  {
   "cell_type": "code",
   "execution_count": 62,
   "metadata": {},
   "outputs": [
    {
     "output_type": "error",
     "ename": "ValueError",
     "evalue": "Failed to convert a NumPy array to a Tensor (Unsupported object type float).",
     "traceback": [
      "\u001b[1;31m---------------------------------------------------------------------------\u001b[0m",
      "\u001b[1;31mValueError\u001b[0m                                Traceback (most recent call last)",
      "\u001b[1;32m<ipython-input-62-eca404158108>\u001b[0m in \u001b[0;36m<module>\u001b[1;34m\u001b[0m\n\u001b[0;32m      1\u001b[0m \u001b[0mX_train\u001b[0m\u001b[1;33m,\u001b[0m \u001b[0my_train\u001b[0m \u001b[1;33m=\u001b[0m \u001b[0moutput_dct\u001b[0m\u001b[1;33m[\u001b[0m\u001b[1;34m\"train\"\u001b[0m\u001b[1;33m]\u001b[0m\u001b[1;33m[\u001b[0m\u001b[1;36m0\u001b[0m\u001b[1;33m]\u001b[0m\u001b[1;33m,\u001b[0m \u001b[0moutput_dct\u001b[0m\u001b[1;33m[\u001b[0m\u001b[1;34m\"train\"\u001b[0m\u001b[1;33m]\u001b[0m\u001b[1;33m[\u001b[0m\u001b[1;36m1\u001b[0m\u001b[1;33m]\u001b[0m\u001b[1;33m\u001b[0m\u001b[1;33m\u001b[0m\u001b[0m\n\u001b[1;32m----> 2\u001b[1;33m \u001b[0mlstm_model\u001b[0m\u001b[1;33m.\u001b[0m\u001b[0mfit\u001b[0m\u001b[1;33m(\u001b[0m\u001b[0mX_train\u001b[0m\u001b[1;33m,\u001b[0m \u001b[0my_train\u001b[0m\u001b[1;33m,\u001b[0m \u001b[0mbatch_size\u001b[0m\u001b[1;33m=\u001b[0m\u001b[1;36m16\u001b[0m\u001b[1;33m,\u001b[0m \u001b[0mepochs\u001b[0m\u001b[1;33m=\u001b[0m\u001b[1;36m30\u001b[0m\u001b[1;33m)\u001b[0m\u001b[1;33m\u001b[0m\u001b[1;33m\u001b[0m\u001b[0m\n\u001b[0m",
      "\u001b[1;32m~\\AppData\\Roaming\\Python\\Python38\\site-packages\\tensorflow\\python\\keras\\engine\\training.py\u001b[0m in \u001b[0;36m_method_wrapper\u001b[1;34m(self, *args, **kwargs)\u001b[0m\n\u001b[0;32m    106\u001b[0m   \u001b[1;32mdef\u001b[0m \u001b[0m_method_wrapper\u001b[0m\u001b[1;33m(\u001b[0m\u001b[0mself\u001b[0m\u001b[1;33m,\u001b[0m \u001b[1;33m*\u001b[0m\u001b[0margs\u001b[0m\u001b[1;33m,\u001b[0m \u001b[1;33m**\u001b[0m\u001b[0mkwargs\u001b[0m\u001b[1;33m)\u001b[0m\u001b[1;33m:\u001b[0m\u001b[1;33m\u001b[0m\u001b[1;33m\u001b[0m\u001b[0m\n\u001b[0;32m    107\u001b[0m     \u001b[1;32mif\u001b[0m \u001b[1;32mnot\u001b[0m \u001b[0mself\u001b[0m\u001b[1;33m.\u001b[0m\u001b[0m_in_multi_worker_mode\u001b[0m\u001b[1;33m(\u001b[0m\u001b[1;33m)\u001b[0m\u001b[1;33m:\u001b[0m  \u001b[1;31m# pylint: disable=protected-access\u001b[0m\u001b[1;33m\u001b[0m\u001b[1;33m\u001b[0m\u001b[0m\n\u001b[1;32m--> 108\u001b[1;33m       \u001b[1;32mreturn\u001b[0m \u001b[0mmethod\u001b[0m\u001b[1;33m(\u001b[0m\u001b[0mself\u001b[0m\u001b[1;33m,\u001b[0m \u001b[1;33m*\u001b[0m\u001b[0margs\u001b[0m\u001b[1;33m,\u001b[0m \u001b[1;33m**\u001b[0m\u001b[0mkwargs\u001b[0m\u001b[1;33m)\u001b[0m\u001b[1;33m\u001b[0m\u001b[1;33m\u001b[0m\u001b[0m\n\u001b[0m\u001b[0;32m    109\u001b[0m \u001b[1;33m\u001b[0m\u001b[0m\n\u001b[0;32m    110\u001b[0m     \u001b[1;31m# Running inside `run_distribute_coordinator` already.\u001b[0m\u001b[1;33m\u001b[0m\u001b[1;33m\u001b[0m\u001b[1;33m\u001b[0m\u001b[0m\n",
      "\u001b[1;32m~\\AppData\\Roaming\\Python\\Python38\\site-packages\\tensorflow\\python\\keras\\engine\\training.py\u001b[0m in \u001b[0;36mfit\u001b[1;34m(self, x, y, batch_size, epochs, verbose, callbacks, validation_split, validation_data, shuffle, class_weight, sample_weight, initial_epoch, steps_per_epoch, validation_steps, validation_batch_size, validation_freq, max_queue_size, workers, use_multiprocessing)\u001b[0m\n\u001b[0;32m   1047\u001b[0m          \u001b[0mtraining_utils\u001b[0m\u001b[1;33m.\u001b[0m\u001b[0mRespectCompiledTrainableState\u001b[0m\u001b[1;33m(\u001b[0m\u001b[0mself\u001b[0m\u001b[1;33m)\u001b[0m\u001b[1;33m:\u001b[0m\u001b[1;33m\u001b[0m\u001b[1;33m\u001b[0m\u001b[0m\n\u001b[0;32m   1048\u001b[0m       \u001b[1;31m# Creates a `tf.data.Dataset` and handles batch and epoch iteration.\u001b[0m\u001b[1;33m\u001b[0m\u001b[1;33m\u001b[0m\u001b[1;33m\u001b[0m\u001b[0m\n\u001b[1;32m-> 1049\u001b[1;33m       data_handler = data_adapter.DataHandler(\n\u001b[0m\u001b[0;32m   1050\u001b[0m           \u001b[0mx\u001b[0m\u001b[1;33m=\u001b[0m\u001b[0mx\u001b[0m\u001b[1;33m,\u001b[0m\u001b[1;33m\u001b[0m\u001b[1;33m\u001b[0m\u001b[0m\n\u001b[0;32m   1051\u001b[0m           \u001b[0my\u001b[0m\u001b[1;33m=\u001b[0m\u001b[0my\u001b[0m\u001b[1;33m,\u001b[0m\u001b[1;33m\u001b[0m\u001b[1;33m\u001b[0m\u001b[0m\n",
      "\u001b[1;32m~\\AppData\\Roaming\\Python\\Python38\\site-packages\\tensorflow\\python\\keras\\engine\\data_adapter.py\u001b[0m in \u001b[0;36m__init__\u001b[1;34m(self, x, y, sample_weight, batch_size, steps_per_epoch, initial_epoch, epochs, shuffle, class_weight, max_queue_size, workers, use_multiprocessing, model, steps_per_execution)\u001b[0m\n\u001b[0;32m   1103\u001b[0m \u001b[1;33m\u001b[0m\u001b[0m\n\u001b[0;32m   1104\u001b[0m     \u001b[0madapter_cls\u001b[0m \u001b[1;33m=\u001b[0m \u001b[0mselect_data_adapter\u001b[0m\u001b[1;33m(\u001b[0m\u001b[0mx\u001b[0m\u001b[1;33m,\u001b[0m \u001b[0my\u001b[0m\u001b[1;33m)\u001b[0m\u001b[1;33m\u001b[0m\u001b[1;33m\u001b[0m\u001b[0m\n\u001b[1;32m-> 1105\u001b[1;33m     self._adapter = adapter_cls(\n\u001b[0m\u001b[0;32m   1106\u001b[0m         \u001b[0mx\u001b[0m\u001b[1;33m,\u001b[0m\u001b[1;33m\u001b[0m\u001b[1;33m\u001b[0m\u001b[0m\n\u001b[0;32m   1107\u001b[0m         \u001b[0my\u001b[0m\u001b[1;33m,\u001b[0m\u001b[1;33m\u001b[0m\u001b[1;33m\u001b[0m\u001b[0m\n",
      "\u001b[1;32m~\\AppData\\Roaming\\Python\\Python38\\site-packages\\tensorflow\\python\\keras\\engine\\data_adapter.py\u001b[0m in \u001b[0;36m__init__\u001b[1;34m(self, x, y, sample_weights, sample_weight_modes, batch_size, epochs, steps, shuffle, **kwargs)\u001b[0m\n\u001b[0;32m    263\u001b[0m                **kwargs):\n\u001b[0;32m    264\u001b[0m     \u001b[0msuper\u001b[0m\u001b[1;33m(\u001b[0m\u001b[0mTensorLikeDataAdapter\u001b[0m\u001b[1;33m,\u001b[0m \u001b[0mself\u001b[0m\u001b[1;33m)\u001b[0m\u001b[1;33m.\u001b[0m\u001b[0m__init__\u001b[0m\u001b[1;33m(\u001b[0m\u001b[0mx\u001b[0m\u001b[1;33m,\u001b[0m \u001b[0my\u001b[0m\u001b[1;33m,\u001b[0m \u001b[1;33m**\u001b[0m\u001b[0mkwargs\u001b[0m\u001b[1;33m)\u001b[0m\u001b[1;33m\u001b[0m\u001b[1;33m\u001b[0m\u001b[0m\n\u001b[1;32m--> 265\u001b[1;33m     \u001b[0mx\u001b[0m\u001b[1;33m,\u001b[0m \u001b[0my\u001b[0m\u001b[1;33m,\u001b[0m \u001b[0msample_weights\u001b[0m \u001b[1;33m=\u001b[0m \u001b[0m_process_tensorlike\u001b[0m\u001b[1;33m(\u001b[0m\u001b[1;33m(\u001b[0m\u001b[0mx\u001b[0m\u001b[1;33m,\u001b[0m \u001b[0my\u001b[0m\u001b[1;33m,\u001b[0m \u001b[0msample_weights\u001b[0m\u001b[1;33m)\u001b[0m\u001b[1;33m)\u001b[0m\u001b[1;33m\u001b[0m\u001b[1;33m\u001b[0m\u001b[0m\n\u001b[0m\u001b[0;32m    266\u001b[0m     sample_weight_modes = broadcast_sample_weight_modes(\n\u001b[0;32m    267\u001b[0m         sample_weights, sample_weight_modes)\n",
      "\u001b[1;32m~\\AppData\\Roaming\\Python\\Python38\\site-packages\\tensorflow\\python\\keras\\engine\\data_adapter.py\u001b[0m in \u001b[0;36m_process_tensorlike\u001b[1;34m(inputs)\u001b[0m\n\u001b[0;32m   1019\u001b[0m     \u001b[1;32mreturn\u001b[0m \u001b[0mx\u001b[0m\u001b[1;33m\u001b[0m\u001b[1;33m\u001b[0m\u001b[0m\n\u001b[0;32m   1020\u001b[0m \u001b[1;33m\u001b[0m\u001b[0m\n\u001b[1;32m-> 1021\u001b[1;33m   \u001b[0minputs\u001b[0m \u001b[1;33m=\u001b[0m \u001b[0mnest\u001b[0m\u001b[1;33m.\u001b[0m\u001b[0mmap_structure\u001b[0m\u001b[1;33m(\u001b[0m\u001b[0m_convert_numpy_and_scipy\u001b[0m\u001b[1;33m,\u001b[0m \u001b[0minputs\u001b[0m\u001b[1;33m)\u001b[0m\u001b[1;33m\u001b[0m\u001b[1;33m\u001b[0m\u001b[0m\n\u001b[0m\u001b[0;32m   1022\u001b[0m   \u001b[1;32mreturn\u001b[0m \u001b[0mnest\u001b[0m\u001b[1;33m.\u001b[0m\u001b[0mlist_to_tuple\u001b[0m\u001b[1;33m(\u001b[0m\u001b[0minputs\u001b[0m\u001b[1;33m)\u001b[0m\u001b[1;33m\u001b[0m\u001b[1;33m\u001b[0m\u001b[0m\n\u001b[0;32m   1023\u001b[0m \u001b[1;33m\u001b[0m\u001b[0m\n",
      "\u001b[1;32m~\\AppData\\Roaming\\Python\\Python38\\site-packages\\tensorflow\\python\\util\\nest.py\u001b[0m in \u001b[0;36mmap_structure\u001b[1;34m(func, *structure, **kwargs)\u001b[0m\n\u001b[0;32m    633\u001b[0m \u001b[1;33m\u001b[0m\u001b[0m\n\u001b[0;32m    634\u001b[0m   return pack_sequence_as(\n\u001b[1;32m--> 635\u001b[1;33m       \u001b[0mstructure\u001b[0m\u001b[1;33m[\u001b[0m\u001b[1;36m0\u001b[0m\u001b[1;33m]\u001b[0m\u001b[1;33m,\u001b[0m \u001b[1;33m[\u001b[0m\u001b[0mfunc\u001b[0m\u001b[1;33m(\u001b[0m\u001b[1;33m*\u001b[0m\u001b[0mx\u001b[0m\u001b[1;33m)\u001b[0m \u001b[1;32mfor\u001b[0m \u001b[0mx\u001b[0m \u001b[1;32min\u001b[0m \u001b[0mentries\u001b[0m\u001b[1;33m]\u001b[0m\u001b[1;33m,\u001b[0m\u001b[1;33m\u001b[0m\u001b[1;33m\u001b[0m\u001b[0m\n\u001b[0m\u001b[0;32m    636\u001b[0m       expand_composites=expand_composites)\n\u001b[0;32m    637\u001b[0m \u001b[1;33m\u001b[0m\u001b[0m\n",
      "\u001b[1;32m~\\AppData\\Roaming\\Python\\Python38\\site-packages\\tensorflow\\python\\util\\nest.py\u001b[0m in \u001b[0;36m<listcomp>\u001b[1;34m(.0)\u001b[0m\n\u001b[0;32m    633\u001b[0m \u001b[1;33m\u001b[0m\u001b[0m\n\u001b[0;32m    634\u001b[0m   return pack_sequence_as(\n\u001b[1;32m--> 635\u001b[1;33m       \u001b[0mstructure\u001b[0m\u001b[1;33m[\u001b[0m\u001b[1;36m0\u001b[0m\u001b[1;33m]\u001b[0m\u001b[1;33m,\u001b[0m \u001b[1;33m[\u001b[0m\u001b[0mfunc\u001b[0m\u001b[1;33m(\u001b[0m\u001b[1;33m*\u001b[0m\u001b[0mx\u001b[0m\u001b[1;33m)\u001b[0m \u001b[1;32mfor\u001b[0m \u001b[0mx\u001b[0m \u001b[1;32min\u001b[0m \u001b[0mentries\u001b[0m\u001b[1;33m]\u001b[0m\u001b[1;33m,\u001b[0m\u001b[1;33m\u001b[0m\u001b[1;33m\u001b[0m\u001b[0m\n\u001b[0m\u001b[0;32m    636\u001b[0m       expand_composites=expand_composites)\n\u001b[0;32m    637\u001b[0m \u001b[1;33m\u001b[0m\u001b[0m\n",
      "\u001b[1;32m~\\AppData\\Roaming\\Python\\Python38\\site-packages\\tensorflow\\python\\keras\\engine\\data_adapter.py\u001b[0m in \u001b[0;36m_convert_numpy_and_scipy\u001b[1;34m(x)\u001b[0m\n\u001b[0;32m   1014\u001b[0m       \u001b[1;32mif\u001b[0m \u001b[0missubclass\u001b[0m\u001b[1;33m(\u001b[0m\u001b[0mx\u001b[0m\u001b[1;33m.\u001b[0m\u001b[0mdtype\u001b[0m\u001b[1;33m.\u001b[0m\u001b[0mtype\u001b[0m\u001b[1;33m,\u001b[0m \u001b[0mnp\u001b[0m\u001b[1;33m.\u001b[0m\u001b[0mfloating\u001b[0m\u001b[1;33m)\u001b[0m\u001b[1;33m:\u001b[0m\u001b[1;33m\u001b[0m\u001b[1;33m\u001b[0m\u001b[0m\n\u001b[0;32m   1015\u001b[0m         \u001b[0mdtype\u001b[0m \u001b[1;33m=\u001b[0m \u001b[0mbackend\u001b[0m\u001b[1;33m.\u001b[0m\u001b[0mfloatx\u001b[0m\u001b[1;33m(\u001b[0m\u001b[1;33m)\u001b[0m\u001b[1;33m\u001b[0m\u001b[1;33m\u001b[0m\u001b[0m\n\u001b[1;32m-> 1016\u001b[1;33m       \u001b[1;32mreturn\u001b[0m \u001b[0mops\u001b[0m\u001b[1;33m.\u001b[0m\u001b[0mconvert_to_tensor\u001b[0m\u001b[1;33m(\u001b[0m\u001b[0mx\u001b[0m\u001b[1;33m,\u001b[0m \u001b[0mdtype\u001b[0m\u001b[1;33m=\u001b[0m\u001b[0mdtype\u001b[0m\u001b[1;33m)\u001b[0m\u001b[1;33m\u001b[0m\u001b[1;33m\u001b[0m\u001b[0m\n\u001b[0m\u001b[0;32m   1017\u001b[0m     \u001b[1;32melif\u001b[0m \u001b[0mscipy_sparse\u001b[0m \u001b[1;32mand\u001b[0m \u001b[0mscipy_sparse\u001b[0m\u001b[1;33m.\u001b[0m\u001b[0missparse\u001b[0m\u001b[1;33m(\u001b[0m\u001b[0mx\u001b[0m\u001b[1;33m)\u001b[0m\u001b[1;33m:\u001b[0m\u001b[1;33m\u001b[0m\u001b[1;33m\u001b[0m\u001b[0m\n\u001b[0;32m   1018\u001b[0m       \u001b[1;32mreturn\u001b[0m \u001b[0m_scipy_sparse_to_sparse_tensor\u001b[0m\u001b[1;33m(\u001b[0m\u001b[0mx\u001b[0m\u001b[1;33m)\u001b[0m\u001b[1;33m\u001b[0m\u001b[1;33m\u001b[0m\u001b[0m\n",
      "\u001b[1;32m~\\AppData\\Roaming\\Python\\Python38\\site-packages\\tensorflow\\python\\framework\\ops.py\u001b[0m in \u001b[0;36mconvert_to_tensor\u001b[1;34m(value, dtype, name, as_ref, preferred_dtype, dtype_hint, ctx, accepted_result_types)\u001b[0m\n\u001b[0;32m   1497\u001b[0m \u001b[1;33m\u001b[0m\u001b[0m\n\u001b[0;32m   1498\u001b[0m     \u001b[1;32mif\u001b[0m \u001b[0mret\u001b[0m \u001b[1;32mis\u001b[0m \u001b[1;32mNone\u001b[0m\u001b[1;33m:\u001b[0m\u001b[1;33m\u001b[0m\u001b[1;33m\u001b[0m\u001b[0m\n\u001b[1;32m-> 1499\u001b[1;33m       \u001b[0mret\u001b[0m \u001b[1;33m=\u001b[0m \u001b[0mconversion_func\u001b[0m\u001b[1;33m(\u001b[0m\u001b[0mvalue\u001b[0m\u001b[1;33m,\u001b[0m \u001b[0mdtype\u001b[0m\u001b[1;33m=\u001b[0m\u001b[0mdtype\u001b[0m\u001b[1;33m,\u001b[0m \u001b[0mname\u001b[0m\u001b[1;33m=\u001b[0m\u001b[0mname\u001b[0m\u001b[1;33m,\u001b[0m \u001b[0mas_ref\u001b[0m\u001b[1;33m=\u001b[0m\u001b[0mas_ref\u001b[0m\u001b[1;33m)\u001b[0m\u001b[1;33m\u001b[0m\u001b[1;33m\u001b[0m\u001b[0m\n\u001b[0m\u001b[0;32m   1500\u001b[0m \u001b[1;33m\u001b[0m\u001b[0m\n\u001b[0;32m   1501\u001b[0m     \u001b[1;32mif\u001b[0m \u001b[0mret\u001b[0m \u001b[1;32mis\u001b[0m \u001b[0mNotImplemented\u001b[0m\u001b[1;33m:\u001b[0m\u001b[1;33m\u001b[0m\u001b[1;33m\u001b[0m\u001b[0m\n",
      "\u001b[1;32m~\\AppData\\Roaming\\Python\\Python38\\site-packages\\tensorflow\\python\\framework\\tensor_conversion_registry.py\u001b[0m in \u001b[0;36m_default_conversion_function\u001b[1;34m(***failed resolving arguments***)\u001b[0m\n\u001b[0;32m     50\u001b[0m \u001b[1;32mdef\u001b[0m \u001b[0m_default_conversion_function\u001b[0m\u001b[1;33m(\u001b[0m\u001b[0mvalue\u001b[0m\u001b[1;33m,\u001b[0m \u001b[0mdtype\u001b[0m\u001b[1;33m,\u001b[0m \u001b[0mname\u001b[0m\u001b[1;33m,\u001b[0m \u001b[0mas_ref\u001b[0m\u001b[1;33m)\u001b[0m\u001b[1;33m:\u001b[0m\u001b[1;33m\u001b[0m\u001b[1;33m\u001b[0m\u001b[0m\n\u001b[0;32m     51\u001b[0m   \u001b[1;32mdel\u001b[0m \u001b[0mas_ref\u001b[0m  \u001b[1;31m# Unused.\u001b[0m\u001b[1;33m\u001b[0m\u001b[1;33m\u001b[0m\u001b[0m\n\u001b[1;32m---> 52\u001b[1;33m   \u001b[1;32mreturn\u001b[0m \u001b[0mconstant_op\u001b[0m\u001b[1;33m.\u001b[0m\u001b[0mconstant\u001b[0m\u001b[1;33m(\u001b[0m\u001b[0mvalue\u001b[0m\u001b[1;33m,\u001b[0m \u001b[0mdtype\u001b[0m\u001b[1;33m,\u001b[0m \u001b[0mname\u001b[0m\u001b[1;33m=\u001b[0m\u001b[0mname\u001b[0m\u001b[1;33m)\u001b[0m\u001b[1;33m\u001b[0m\u001b[1;33m\u001b[0m\u001b[0m\n\u001b[0m\u001b[0;32m     53\u001b[0m \u001b[1;33m\u001b[0m\u001b[0m\n\u001b[0;32m     54\u001b[0m \u001b[1;33m\u001b[0m\u001b[0m\n",
      "\u001b[1;32m~\\AppData\\Roaming\\Python\\Python38\\site-packages\\tensorflow\\python\\framework\\constant_op.py\u001b[0m in \u001b[0;36mconstant\u001b[1;34m(value, dtype, shape, name)\u001b[0m\n\u001b[0;32m    261\u001b[0m     \u001b[0mValueError\u001b[0m\u001b[1;33m:\u001b[0m \u001b[1;32mif\u001b[0m \u001b[0mcalled\u001b[0m \u001b[0mon\u001b[0m \u001b[0ma\u001b[0m \u001b[0msymbolic\u001b[0m \u001b[0mtensor\u001b[0m\u001b[1;33m.\u001b[0m\u001b[1;33m\u001b[0m\u001b[1;33m\u001b[0m\u001b[0m\n\u001b[0;32m    262\u001b[0m   \"\"\"\n\u001b[1;32m--> 263\u001b[1;33m   return _constant_impl(value, dtype, shape, name, verify_shape=False,\n\u001b[0m\u001b[0;32m    264\u001b[0m                         allow_broadcast=True)\n\u001b[0;32m    265\u001b[0m \u001b[1;33m\u001b[0m\u001b[0m\n",
      "\u001b[1;32m~\\AppData\\Roaming\\Python\\Python38\\site-packages\\tensorflow\\python\\framework\\constant_op.py\u001b[0m in \u001b[0;36m_constant_impl\u001b[1;34m(value, dtype, shape, name, verify_shape, allow_broadcast)\u001b[0m\n\u001b[0;32m    273\u001b[0m       \u001b[1;32mwith\u001b[0m \u001b[0mtrace\u001b[0m\u001b[1;33m.\u001b[0m\u001b[0mTrace\u001b[0m\u001b[1;33m(\u001b[0m\u001b[1;34m\"tf.constant\"\u001b[0m\u001b[1;33m)\u001b[0m\u001b[1;33m:\u001b[0m\u001b[1;33m\u001b[0m\u001b[1;33m\u001b[0m\u001b[0m\n\u001b[0;32m    274\u001b[0m         \u001b[1;32mreturn\u001b[0m \u001b[0m_constant_eager_impl\u001b[0m\u001b[1;33m(\u001b[0m\u001b[0mctx\u001b[0m\u001b[1;33m,\u001b[0m \u001b[0mvalue\u001b[0m\u001b[1;33m,\u001b[0m \u001b[0mdtype\u001b[0m\u001b[1;33m,\u001b[0m \u001b[0mshape\u001b[0m\u001b[1;33m,\u001b[0m \u001b[0mverify_shape\u001b[0m\u001b[1;33m)\u001b[0m\u001b[1;33m\u001b[0m\u001b[1;33m\u001b[0m\u001b[0m\n\u001b[1;32m--> 275\u001b[1;33m     \u001b[1;32mreturn\u001b[0m \u001b[0m_constant_eager_impl\u001b[0m\u001b[1;33m(\u001b[0m\u001b[0mctx\u001b[0m\u001b[1;33m,\u001b[0m \u001b[0mvalue\u001b[0m\u001b[1;33m,\u001b[0m \u001b[0mdtype\u001b[0m\u001b[1;33m,\u001b[0m \u001b[0mshape\u001b[0m\u001b[1;33m,\u001b[0m \u001b[0mverify_shape\u001b[0m\u001b[1;33m)\u001b[0m\u001b[1;33m\u001b[0m\u001b[1;33m\u001b[0m\u001b[0m\n\u001b[0m\u001b[0;32m    276\u001b[0m \u001b[1;33m\u001b[0m\u001b[0m\n\u001b[0;32m    277\u001b[0m   \u001b[0mg\u001b[0m \u001b[1;33m=\u001b[0m \u001b[0mops\u001b[0m\u001b[1;33m.\u001b[0m\u001b[0mget_default_graph\u001b[0m\u001b[1;33m(\u001b[0m\u001b[1;33m)\u001b[0m\u001b[1;33m\u001b[0m\u001b[1;33m\u001b[0m\u001b[0m\n",
      "\u001b[1;32m~\\AppData\\Roaming\\Python\\Python38\\site-packages\\tensorflow\\python\\framework\\constant_op.py\u001b[0m in \u001b[0;36m_constant_eager_impl\u001b[1;34m(ctx, value, dtype, shape, verify_shape)\u001b[0m\n\u001b[0;32m    298\u001b[0m \u001b[1;32mdef\u001b[0m \u001b[0m_constant_eager_impl\u001b[0m\u001b[1;33m(\u001b[0m\u001b[0mctx\u001b[0m\u001b[1;33m,\u001b[0m \u001b[0mvalue\u001b[0m\u001b[1;33m,\u001b[0m \u001b[0mdtype\u001b[0m\u001b[1;33m,\u001b[0m \u001b[0mshape\u001b[0m\u001b[1;33m,\u001b[0m \u001b[0mverify_shape\u001b[0m\u001b[1;33m)\u001b[0m\u001b[1;33m:\u001b[0m\u001b[1;33m\u001b[0m\u001b[1;33m\u001b[0m\u001b[0m\n\u001b[0;32m    299\u001b[0m   \u001b[1;34m\"\"\"Implementation of eager constant.\"\"\"\u001b[0m\u001b[1;33m\u001b[0m\u001b[1;33m\u001b[0m\u001b[0m\n\u001b[1;32m--> 300\u001b[1;33m   \u001b[0mt\u001b[0m \u001b[1;33m=\u001b[0m \u001b[0mconvert_to_eager_tensor\u001b[0m\u001b[1;33m(\u001b[0m\u001b[0mvalue\u001b[0m\u001b[1;33m,\u001b[0m \u001b[0mctx\u001b[0m\u001b[1;33m,\u001b[0m \u001b[0mdtype\u001b[0m\u001b[1;33m)\u001b[0m\u001b[1;33m\u001b[0m\u001b[1;33m\u001b[0m\u001b[0m\n\u001b[0m\u001b[0;32m    301\u001b[0m   \u001b[1;32mif\u001b[0m \u001b[0mshape\u001b[0m \u001b[1;32mis\u001b[0m \u001b[1;32mNone\u001b[0m\u001b[1;33m:\u001b[0m\u001b[1;33m\u001b[0m\u001b[1;33m\u001b[0m\u001b[0m\n\u001b[0;32m    302\u001b[0m     \u001b[1;32mreturn\u001b[0m \u001b[0mt\u001b[0m\u001b[1;33m\u001b[0m\u001b[1;33m\u001b[0m\u001b[0m\n",
      "\u001b[1;32m~\\AppData\\Roaming\\Python\\Python38\\site-packages\\tensorflow\\python\\framework\\constant_op.py\u001b[0m in \u001b[0;36mconvert_to_eager_tensor\u001b[1;34m(value, ctx, dtype)\u001b[0m\n\u001b[0;32m     96\u001b[0m       \u001b[0mdtype\u001b[0m \u001b[1;33m=\u001b[0m \u001b[0mdtypes\u001b[0m\u001b[1;33m.\u001b[0m\u001b[0mas_dtype\u001b[0m\u001b[1;33m(\u001b[0m\u001b[0mdtype\u001b[0m\u001b[1;33m)\u001b[0m\u001b[1;33m.\u001b[0m\u001b[0mas_datatype_enum\u001b[0m\u001b[1;33m\u001b[0m\u001b[1;33m\u001b[0m\u001b[0m\n\u001b[0;32m     97\u001b[0m   \u001b[0mctx\u001b[0m\u001b[1;33m.\u001b[0m\u001b[0mensure_initialized\u001b[0m\u001b[1;33m(\u001b[0m\u001b[1;33m)\u001b[0m\u001b[1;33m\u001b[0m\u001b[1;33m\u001b[0m\u001b[0m\n\u001b[1;32m---> 98\u001b[1;33m   \u001b[1;32mreturn\u001b[0m \u001b[0mops\u001b[0m\u001b[1;33m.\u001b[0m\u001b[0mEagerTensor\u001b[0m\u001b[1;33m(\u001b[0m\u001b[0mvalue\u001b[0m\u001b[1;33m,\u001b[0m \u001b[0mctx\u001b[0m\u001b[1;33m.\u001b[0m\u001b[0mdevice_name\u001b[0m\u001b[1;33m,\u001b[0m \u001b[0mdtype\u001b[0m\u001b[1;33m)\u001b[0m\u001b[1;33m\u001b[0m\u001b[1;33m\u001b[0m\u001b[0m\n\u001b[0m\u001b[0;32m     99\u001b[0m \u001b[1;33m\u001b[0m\u001b[0m\n\u001b[0;32m    100\u001b[0m \u001b[1;33m\u001b[0m\u001b[0m\n",
      "\u001b[1;31mValueError\u001b[0m: Failed to convert a NumPy array to a Tensor (Unsupported object type float)."
     ]
    }
   ],
   "source": [
    "X_train, y_train = output_dct[\"train\"][0], output_dct[\"train\"][1]\n",
    "lstm_model.fit(X_train, y_train, batch_size=16, epochs=30)"
   ]
  }
 ]
}