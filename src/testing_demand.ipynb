{
 "metadata": {
  "language_info": {
   "codemirror_mode": {
    "name": "ipython",
    "version": 3
   },
   "file_extension": ".py",
   "mimetype": "text/x-python",
   "name": "python",
   "nbconvert_exporter": "python",
   "pygments_lexer": "ipython3",
   "version": "3.8.2-final"
  },
  "orig_nbformat": 2,
  "kernelspec": {
   "name": "python3",
   "display_name": "Python 3.8.2 64-bit",
   "metadata": {
    "interpreter": {
     "hash": "1baa965d5efe3ac65b79dfc60c0d706280b1da80fedb7760faf2759126c4f253"
    }
   }
  }
 },
 "nbformat": 4,
 "nbformat_minor": 2,
 "cells": [
  {
   "cell_type": "code",
   "execution_count": 1,
   "metadata": {},
   "outputs": [],
   "source": [
    "import pandas as pd \n",
    "import numpy as np \n",
    "from demand import prepare_data, prepare_demand_function, fit_demand_function, prepare_predictors\n",
    "from discounts import apply_discount\n",
    "transactions = pd.read_csv(\"data/transactions.csv\")\n",
    "discounts_per_day = pd.read_csv(\"nr_discounts_per_day.csv\")#csv with the nr of discounts daily"
   ]
  },
  {
   "cell_type": "code",
   "execution_count": 2,
   "metadata": {},
   "outputs": [],
   "source": [
    "product = \"Biologische courgette\"\n",
    "\n",
    "filtered_transactions = transactions[(transactions[\"description\"] == product)] #& (transactions[\"size\"] == \"150g\")]"
   ]
  },
  {
   "cell_type": "code",
   "execution_count": 3,
   "metadata": {},
   "outputs": [
    {
     "output_type": "stream",
     "name": "stderr",
     "text": [
      "c:\\Users\\zolyo\\OneDrive\\Documents\\Quartile 3\\JBG050 Data Challenge 2\\Code\\src\\demand.py:15: SettingWithCopyWarning: \n",
      "A value is trying to be set on a copy of a slice from a DataFrame.\n",
      "Try using .loc[row_indexer,col_indexer] = value instead\n",
      "\n",
      "See the caveats in the documentation: https://pandas.pydata.org/pandas-docs/stable/user_guide/indexing.html#returning-a-view-versus-a-copy\n",
      "  filtered_transactions[\"day\"] = pd.to_datetime(filtered_transactions[\"day\"], dayfirst=True)\n",
      "c:\\Users\\zolyo\\OneDrive\\Documents\\Quartile 3\\JBG050 Data Challenge 2\\Code\\src\\demand.py:18: SettingWithCopyWarning: \n",
      "A value is trying to be set on a copy of a slice from a DataFrame.\n",
      "Try using .loc[row_indexer,col_indexer] = value instead\n",
      "\n",
      "See the caveats in the documentation: https://pandas.pydata.org/pandas-docs/stable/user_guide/indexing.html#returning-a-view-versus-a-copy\n",
      "  filtered_transactions[\"discount\"] = 100-(\n",
      "compl_product is a string\n",
      "c:\\Users\\zolyo\\OneDrive\\Documents\\Quartile 3\\JBG050 Data Challenge 2\\Code\\src\\demand.py:27: SettingWithCopyWarning: \n",
      "A value is trying to be set on a copy of a slice from a DataFrame.\n",
      "Try using .loc[row_indexer,col_indexer] = value instead\n",
      "\n",
      "See the caveats in the documentation: https://pandas.pydata.org/pandas-docs/stable/user_guide/indexing.html#returning-a-view-versus-a-copy\n",
      "  purchases[\"month\"] = [purchases.index[i][1].month_name() for i in range(purchases.shape[0])]\n",
      "c:\\Users\\zolyo\\OneDrive\\Documents\\Quartile 3\\JBG050 Data Challenge 2\\Code\\src\\demand.py:29: SettingWithCopyWarning: \n",
      "A value is trying to be set on a copy of a slice from a DataFrame.\n",
      "Try using .loc[row_indexer,col_indexer] = value instead\n",
      "\n",
      "See the caveats in the documentation: https://pandas.pydata.org/pandas-docs/stable/user_guide/indexing.html#returning-a-view-versus-a-copy\n",
      "  purchases[\"product\"] = [purchases.index[i][0] for i in range(purchases.shape[0])]\n",
      "c:\\Users\\zolyo\\OneDrive\\Documents\\Quartile 3\\JBG050 Data Challenge 2\\Code\\src\\demand.py:31: SettingWithCopyWarning: \n",
      "A value is trying to be set on a copy of a slice from a DataFrame.\n",
      "Try using .loc[row_indexer,col_indexer] = value instead\n",
      "\n",
      "See the caveats in the documentation: https://pandas.pydata.org/pandas-docs/stable/user_guide/indexing.html#returning-a-view-versus-a-copy\n",
      "  purchases[\"day\"] = [purchases.index[i][1].dayofyear for i in range(purchases.shape[0])]\n",
      "c:\\Users\\zolyo\\OneDrive\\Documents\\Quartile 3\\JBG050 Data Challenge 2\\Code\\src\\demand.py:33: SettingWithCopyWarning: \n",
      "A value is trying to be set on a copy of a slice from a DataFrame.\n",
      "Try using .loc[row_indexer,col_indexer] = value instead\n",
      "\n",
      "See the caveats in the documentation: https://pandas.pydata.org/pandas-docs/stable/user_guide/indexing.html#returning-a-view-versus-a-copy\n",
      "  purchases[\"dayofweek\"] = [purchases.index[i][1].dayofweek for i in range(purchases.shape[0])]\n",
      "C:\\Users\\zolyo\\AppData\\Roaming\\Python\\Python38\\site-packages\\pandas\\core\\series.py:4575: SettingWithCopyWarning: \n",
      "A value is trying to be set on a copy of a slice from a DataFrame\n",
      "\n",
      "See the caveats in the documentation: https://pandas.pydata.org/pandas-docs/stable/user_guide/indexing.html#returning-a-view-versus-a-copy\n",
      "  return super().replace(\n",
      "c:\\Users\\zolyo\\OneDrive\\Documents\\Quartile 3\\JBG050 Data Challenge 2\\Code\\src\\demand.py:35: SettingWithCopyWarning: \n",
      "A value is trying to be set on a copy of a slice from a DataFrame.\n",
      "Try using .loc[row_indexer,col_indexer] = value instead\n",
      "\n",
      "See the caveats in the documentation: https://pandas.pydata.org/pandas-docs/stable/user_guide/indexing.html#returning-a-view-versus-a-copy\n",
      "  purchases[\"purchase_price\"] = pp\n",
      "c:\\Users\\zolyo\\OneDrive\\Documents\\Quartile 3\\JBG050 Data Challenge 2\\Code\\src\\demand.py:36: SettingWithCopyWarning: \n",
      "A value is trying to be set on a copy of a slice from a DataFrame.\n",
      "Try using .loc[row_indexer,col_indexer] = value instead\n",
      "\n",
      "See the caveats in the documentation: https://pandas.pydata.org/pandas-docs/stable/user_guide/indexing.html#returning-a-view-versus-a-copy\n",
      "  purchases[\"std_sales_price\"] = std_p\n",
      "C:\\Users\\zolyo\\AppData\\Roaming\\Python\\Python38\\site-packages\\pandas\\core\\frame.py:4300: SettingWithCopyWarning: \n",
      "A value is trying to be set on a copy of a slice from a DataFrame\n",
      "\n",
      "See the caveats in the documentation: https://pandas.pydata.org/pandas-docs/stable/user_guide/indexing.html#returning-a-view-versus-a-copy\n",
      "  return super().rename(\n",
      "c:\\Users\\zolyo\\OneDrive\\Documents\\Quartile 3\\JBG050 Data Challenge 2\\Code\\src\\demand.py:40: SettingWithCopyWarning: \n",
      "A value is trying to be set on a copy of a slice from a DataFrame.\n",
      "Try using .loc[row_indexer,col_indexer] = value instead\n",
      "\n",
      "See the caveats in the documentation: https://pandas.pydata.org/pandas-docs/stable/user_guide/indexing.html#returning-a-view-versus-a-copy\n",
      "  purchases[\"prev_day_purchases\"] = purchases[\"count\"].shift(1)\n",
      "C:\\Users\\zolyo\\AppData\\Roaming\\Python\\Python38\\site-packages\\pandas\\core\\indexing.py:670: SettingWithCopyWarning: \n",
      "A value is trying to be set on a copy of a slice from a DataFrame\n",
      "\n",
      "See the caveats in the documentation: https://pandas.pydata.org/pandas-docs/stable/user_guide/indexing.html#returning-a-view-versus-a-copy\n",
      "  iloc._setitem_with_indexer(indexer, value)\n",
      "c:\\Users\\zolyo\\OneDrive\\Documents\\Quartile 3\\JBG050 Data Challenge 2\\Code\\src\\demand.py:41: SettingWithCopyWarning: \n",
      "A value is trying to be set on a copy of a slice from a DataFrame\n",
      "\n",
      "See the caveats in the documentation: https://pandas.pydata.org/pandas-docs/stable/user_guide/indexing.html#returning-a-view-versus-a-copy\n",
      "  purchases[\"prev_day_purchases\"].iloc[0] = 0\n",
      "c:\\Users\\zolyo\\OneDrive\\Documents\\Quartile 3\\JBG050 Data Challenge 2\\Code\\src\\demand.py:168: SettingWithCopyWarning: \n",
      "A value is trying to be set on a copy of a slice from a DataFrame.\n",
      "Try using .loc[row_indexer,col_indexer] = value instead\n",
      "\n",
      "See the caveats in the documentation: https://pandas.pydata.org/pandas-docs/stable/user_guide/indexing.html#returning-a-view-versus-a-copy\n",
      "  filt_transactions[\"day\"] = pd.to_datetime(filt_transactions[\"day\"], dayfirst=True)\n"
     ]
    },
    {
     "output_type": "execute_result",
     "data": {
      "text/plain": [
       "                                  count   discount  std        min        25%  \\\n",
       "description           day                                                       \n",
       "Biologische courgette 2018-01-01    8.0  14.792899  0.0  14.792899  14.792899   \n",
       "                      2018-01-02    1.0  14.792899  NaN  14.792899  14.792899   \n",
       "                      2018-01-03    2.0  14.792899  0.0  14.792899  14.792899   \n",
       "                      2018-01-04    2.0  14.792899  0.0  14.792899  14.792899   \n",
       "                      2018-01-05    3.0  14.792899  0.0  14.792899  14.792899   \n",
       "\n",
       "                                        50%        75%        max    month  \\\n",
       "description           day                                                    \n",
       "Biologische courgette 2018-01-01  14.792899  14.792899  14.792899  January   \n",
       "                      2018-01-02  14.792899  14.792899  14.792899  January   \n",
       "                      2018-01-03  14.792899  14.792899  14.792899  January   \n",
       "                      2018-01-04  14.792899  14.792899  14.792899  January   \n",
       "                      2018-01-05  14.792899  14.792899  14.792899  January   \n",
       "\n",
       "                                                product  day  dayofweek  \\\n",
       "description           day                                                 \n",
       "Biologische courgette 2018-01-01  Biologische courgette    1     Monday   \n",
       "                      2018-01-02  Biologische courgette    2    Tuesday   \n",
       "                      2018-01-03  Biologische courgette    3  Wednesday   \n",
       "                      2018-01-04  Biologische courgette    4   Thursday   \n",
       "                      2018-01-05  Biologische courgette    5     Friday   \n",
       "\n",
       "                                  purchase_price  std_sales_price  \\\n",
       "description           day                                           \n",
       "Biologische courgette 2018-01-01            1.44             1.69   \n",
       "                      2018-01-02            1.44             1.69   \n",
       "                      2018-01-03            1.44             1.69   \n",
       "                      2018-01-04            1.44             1.69   \n",
       "                      2018-01-05            1.44             1.69   \n",
       "\n",
       "                                  prev_day_purchases  sales      days  \\\n",
       "description           day                                               \n",
       "Biologische courgette 2018-01-01                 0.0   2.34  1/1/2018   \n",
       "                      2018-01-02                 8.0   2.34  2/1/2018   \n",
       "                      2018-01-03                 1.0   2.34  3/1/2018   \n",
       "                      2018-01-04                 2.0   2.34  4/1/2018   \n",
       "                      2018-01-05                 2.0   2.34  5/1/2018   \n",
       "\n",
       "                                  on_discount  \n",
       "description           day                      \n",
       "Biologische courgette 2018-01-01           15  \n",
       "                      2018-01-02           13  \n",
       "                      2018-01-03            8  \n",
       "                      2018-01-04           16  \n",
       "                      2018-01-05           16  "
      ],
      "text/html": "<div>\n<style scoped>\n    .dataframe tbody tr th:only-of-type {\n        vertical-align: middle;\n    }\n\n    .dataframe tbody tr th {\n        vertical-align: top;\n    }\n\n    .dataframe thead th {\n        text-align: right;\n    }\n</style>\n<table border=\"1\" class=\"dataframe\">\n  <thead>\n    <tr style=\"text-align: right;\">\n      <th></th>\n      <th></th>\n      <th>count</th>\n      <th>discount</th>\n      <th>std</th>\n      <th>min</th>\n      <th>25%</th>\n      <th>50%</th>\n      <th>75%</th>\n      <th>max</th>\n      <th>month</th>\n      <th>product</th>\n      <th>day</th>\n      <th>dayofweek</th>\n      <th>purchase_price</th>\n      <th>std_sales_price</th>\n      <th>prev_day_purchases</th>\n      <th>sales</th>\n      <th>days</th>\n      <th>on_discount</th>\n    </tr>\n    <tr>\n      <th>description</th>\n      <th>day</th>\n      <th></th>\n      <th></th>\n      <th></th>\n      <th></th>\n      <th></th>\n      <th></th>\n      <th></th>\n      <th></th>\n      <th></th>\n      <th></th>\n      <th></th>\n      <th></th>\n      <th></th>\n      <th></th>\n      <th></th>\n      <th></th>\n      <th></th>\n      <th></th>\n    </tr>\n  </thead>\n  <tbody>\n    <tr>\n      <th rowspan=\"5\" valign=\"top\">Biologische courgette</th>\n      <th>2018-01-01</th>\n      <td>8.0</td>\n      <td>14.792899</td>\n      <td>0.0</td>\n      <td>14.792899</td>\n      <td>14.792899</td>\n      <td>14.792899</td>\n      <td>14.792899</td>\n      <td>14.792899</td>\n      <td>January</td>\n      <td>Biologische courgette</td>\n      <td>1</td>\n      <td>Monday</td>\n      <td>1.44</td>\n      <td>1.69</td>\n      <td>0.0</td>\n      <td>2.34</td>\n      <td>1/1/2018</td>\n      <td>15</td>\n    </tr>\n    <tr>\n      <th>2018-01-02</th>\n      <td>1.0</td>\n      <td>14.792899</td>\n      <td>NaN</td>\n      <td>14.792899</td>\n      <td>14.792899</td>\n      <td>14.792899</td>\n      <td>14.792899</td>\n      <td>14.792899</td>\n      <td>January</td>\n      <td>Biologische courgette</td>\n      <td>2</td>\n      <td>Tuesday</td>\n      <td>1.44</td>\n      <td>1.69</td>\n      <td>8.0</td>\n      <td>2.34</td>\n      <td>2/1/2018</td>\n      <td>13</td>\n    </tr>\n    <tr>\n      <th>2018-01-03</th>\n      <td>2.0</td>\n      <td>14.792899</td>\n      <td>0.0</td>\n      <td>14.792899</td>\n      <td>14.792899</td>\n      <td>14.792899</td>\n      <td>14.792899</td>\n      <td>14.792899</td>\n      <td>January</td>\n      <td>Biologische courgette</td>\n      <td>3</td>\n      <td>Wednesday</td>\n      <td>1.44</td>\n      <td>1.69</td>\n      <td>1.0</td>\n      <td>2.34</td>\n      <td>3/1/2018</td>\n      <td>8</td>\n    </tr>\n    <tr>\n      <th>2018-01-04</th>\n      <td>2.0</td>\n      <td>14.792899</td>\n      <td>0.0</td>\n      <td>14.792899</td>\n      <td>14.792899</td>\n      <td>14.792899</td>\n      <td>14.792899</td>\n      <td>14.792899</td>\n      <td>January</td>\n      <td>Biologische courgette</td>\n      <td>4</td>\n      <td>Thursday</td>\n      <td>1.44</td>\n      <td>1.69</td>\n      <td>2.0</td>\n      <td>2.34</td>\n      <td>4/1/2018</td>\n      <td>16</td>\n    </tr>\n    <tr>\n      <th>2018-01-05</th>\n      <td>3.0</td>\n      <td>14.792899</td>\n      <td>0.0</td>\n      <td>14.792899</td>\n      <td>14.792899</td>\n      <td>14.792899</td>\n      <td>14.792899</td>\n      <td>14.792899</td>\n      <td>January</td>\n      <td>Biologische courgette</td>\n      <td>5</td>\n      <td>Friday</td>\n      <td>1.44</td>\n      <td>1.69</td>\n      <td>2.0</td>\n      <td>2.34</td>\n      <td>5/1/2018</td>\n      <td>16</td>\n    </tr>\n  </tbody>\n</table>\n</div>"
     },
     "metadata": {},
     "execution_count": 3
    }
   ],
   "source": [
    "compl_prod = \"Biologisch volkoren heel\"\n",
    "\n",
    "prepared_transactions = prepare_data(filtered_transactions, discounts_per_day, compl_prod, transactions)\n",
    "prepared_transactions.head()"
   ]
  },
  {
   "cell_type": "code",
   "execution_count": 4,
   "metadata": {},
   "outputs": [
    {
     "output_type": "stream",
     "name": "stdout",
     "text": [
      "Model fitted; test set metrics: MAE: 1.5921128891019827 MSE: 6.048808476020343, R^2 score: 0.07163580688637294\n"
     ]
    }
   ],
   "source": [
    "from sklearn.ensemble import RandomForestRegressor, VotingRegressor, StackingRegressor\n",
    "from sklearn.neural_network import MLPRegressor\n",
    "from sklearn.linear_model import Ridge, LinearRegression\n",
    "from sklearn.tree import DecisionTreeRegressor\n",
    "\n",
    "output_dct = prepare_demand_function(prepared_transactions)\n",
    "nn =  MLPRegressor(hidden_layer_sizes=(50,50))\n",
    "rf = RandomForestRegressor(n_estimators=50, max_depth=9)\n",
    "rf2 = RandomForestRegressor(n_estimators=300)\n",
    "ridge = Ridge()\n",
    "voter = VotingRegressor([(\"nn\",nn), (\"df\",rf), (\"lin\", ridge)])\n",
    "model = fit_demand_function(output_dct,ridge)"
   ]
  },
  {
   "cell_type": "code",
   "execution_count": 5,
   "metadata": {},
   "outputs": [
    {
     "output_type": "execute_result",
     "data": {
      "text/plain": [
       "             predictor      coef\n",
       "0             discount  0.109863\n",
       "1       purchase_price -0.001857\n",
       "2   prev_day_purchases  0.035822\n",
       "3          on_discount -0.064755\n",
       "4                sales -0.203398\n",
       "5            x0_Friday  0.408356\n",
       "6            x0_Monday  0.156941\n",
       "7          x0_Saturday  1.097835\n",
       "8            x0_Sunday -0.295566\n",
       "9          x0_Thursday -1.106784\n",
       "10          x0_Tuesday  0.098753\n",
       "11        x0_Wednesday -0.359536\n",
       "12            x0_April  0.248620\n",
       "13           x0_August  0.362586\n",
       "14         x0_December  0.000000\n",
       "15         x0_February  0.286993\n",
       "16          x0_January -0.185895\n",
       "17             x0_July -0.106216\n",
       "18             x0_June -0.626724\n",
       "19            x0_March  1.556819\n",
       "20              x0_May -0.272043\n",
       "21         x0_November  0.000000\n",
       "22          x0_October -0.951080\n",
       "23        x0_September -0.313060"
      ],
      "text/html": "<div>\n<style scoped>\n    .dataframe tbody tr th:only-of-type {\n        vertical-align: middle;\n    }\n\n    .dataframe tbody tr th {\n        vertical-align: top;\n    }\n\n    .dataframe thead th {\n        text-align: right;\n    }\n</style>\n<table border=\"1\" class=\"dataframe\">\n  <thead>\n    <tr style=\"text-align: right;\">\n      <th></th>\n      <th>predictor</th>\n      <th>coef</th>\n    </tr>\n  </thead>\n  <tbody>\n    <tr>\n      <th>0</th>\n      <td>discount</td>\n      <td>0.109863</td>\n    </tr>\n    <tr>\n      <th>1</th>\n      <td>purchase_price</td>\n      <td>-0.001857</td>\n    </tr>\n    <tr>\n      <th>2</th>\n      <td>prev_day_purchases</td>\n      <td>0.035822</td>\n    </tr>\n    <tr>\n      <th>3</th>\n      <td>on_discount</td>\n      <td>-0.064755</td>\n    </tr>\n    <tr>\n      <th>4</th>\n      <td>sales</td>\n      <td>-0.203398</td>\n    </tr>\n    <tr>\n      <th>5</th>\n      <td>x0_Friday</td>\n      <td>0.408356</td>\n    </tr>\n    <tr>\n      <th>6</th>\n      <td>x0_Monday</td>\n      <td>0.156941</td>\n    </tr>\n    <tr>\n      <th>7</th>\n      <td>x0_Saturday</td>\n      <td>1.097835</td>\n    </tr>\n    <tr>\n      <th>8</th>\n      <td>x0_Sunday</td>\n      <td>-0.295566</td>\n    </tr>\n    <tr>\n      <th>9</th>\n      <td>x0_Thursday</td>\n      <td>-1.106784</td>\n    </tr>\n    <tr>\n      <th>10</th>\n      <td>x0_Tuesday</td>\n      <td>0.098753</td>\n    </tr>\n    <tr>\n      <th>11</th>\n      <td>x0_Wednesday</td>\n      <td>-0.359536</td>\n    </tr>\n    <tr>\n      <th>12</th>\n      <td>x0_April</td>\n      <td>0.248620</td>\n    </tr>\n    <tr>\n      <th>13</th>\n      <td>x0_August</td>\n      <td>0.362586</td>\n    </tr>\n    <tr>\n      <th>14</th>\n      <td>x0_December</td>\n      <td>0.000000</td>\n    </tr>\n    <tr>\n      <th>15</th>\n      <td>x0_February</td>\n      <td>0.286993</td>\n    </tr>\n    <tr>\n      <th>16</th>\n      <td>x0_January</td>\n      <td>-0.185895</td>\n    </tr>\n    <tr>\n      <th>17</th>\n      <td>x0_July</td>\n      <td>-0.106216</td>\n    </tr>\n    <tr>\n      <th>18</th>\n      <td>x0_June</td>\n      <td>-0.626724</td>\n    </tr>\n    <tr>\n      <th>19</th>\n      <td>x0_March</td>\n      <td>1.556819</td>\n    </tr>\n    <tr>\n      <th>20</th>\n      <td>x0_May</td>\n      <td>-0.272043</td>\n    </tr>\n    <tr>\n      <th>21</th>\n      <td>x0_November</td>\n      <td>0.000000</td>\n    </tr>\n    <tr>\n      <th>22</th>\n      <td>x0_October</td>\n      <td>-0.951080</td>\n    </tr>\n    <tr>\n      <th>23</th>\n      <td>x0_September</td>\n      <td>-0.313060</td>\n    </tr>\n  </tbody>\n</table>\n</div>"
     },
     "metadata": {},
     "execution_count": 5
    }
   ],
   "source": [
    "pd.DataFrame({\"predictor\":output_dct[\"train\"][0].columns, \"coef\":model.coef_})"
   ]
  },
  {
   "cell_type": "code",
   "execution_count": 6,
   "metadata": {},
   "outputs": [],
   "source": [
    "prepared_transactions.dropna(inplace=True)\n",
    "one_row = prepared_transactions#[prepared_transactions[\"product\"] == \"Biologische knoflook\"].tail(500)\n",
    "pred_columns = [\"discount\", \"purchase_price\", \"prev_day_purchases\", \"on_discount\", \"sales\"]\n",
    "target_col = \"count\"\n",
    "\n",
    "\n",
    "df_dayofweek = pd.DataFrame(output_dct[\"weekday_enc\"].transform(one_row[[\"dayofweek\"]]), columns=output_dct[\"weekday_enc\"].get_feature_names())\n",
    "\n",
    "df_month = pd.DataFrame(output_dct[\"months_enc\"].transform(one_row[[\"month\"]]), columns=output_dct[\"months_enc\"].get_feature_names())\n",
    "\n",
    "#df_product = pd.DataFrame(output_dct[\"product_enc\"].transform(one_row[[\"product\"]]), columns=output_dct[\"product_enc\"].get_feature_names())\n",
    "\n",
    "X_pred = pd.concat([pd.DataFrame(one_row[pred_columns].values, columns=one_row[pred_columns].columns), df_dayofweek, df_month], axis=1) #add df_product back\n",
    "\n",
    "one_row[\"predicted\"] = model.predict(X_pred)"
   ]
  },
  {
   "cell_type": "code",
   "execution_count": 7,
   "metadata": {},
   "outputs": [
    {
     "output_type": "display_data",
     "data": {
      "application/vnd.plotly.v1+json": {
       "config": {
        "plotlyServerURL": "https://plot.ly"
       },
       "data": [
        {
         "hovertemplate": "day=%{x}<br>count=%{y}<extra></extra>",
         "legendgroup": "",
         "line": {
          "color": "#636efa",
          "dash": "solid"
         },
         "mode": "lines",
         "name": "",
         "orientation": "v",
         "showlegend": false,
         "type": "scatter",
         "x": [
          1,
          3,
          4,
          5,
          6,
          7,
          8,
          9,
          10,
          11,
          12,
          13,
          14,
          15,
          16,
          17,
          18,
          19,
          20,
          21,
          22,
          25,
          26,
          27,
          28,
          30,
          31,
          32,
          33,
          35,
          36,
          37,
          38,
          39,
          40,
          41,
          43,
          44,
          45,
          46,
          48,
          49,
          50,
          51,
          52,
          53,
          55,
          56,
          57,
          58,
          59,
          60,
          61,
          62,
          63,
          64,
          65,
          67,
          68,
          69,
          70,
          71,
          72,
          73,
          74,
          75,
          76,
          78,
          79,
          80,
          81,
          83,
          84,
          85,
          86,
          87,
          88,
          89,
          90,
          91,
          92,
          94,
          96,
          98,
          99,
          100,
          101,
          102,
          104,
          105,
          106,
          107,
          109,
          110,
          111,
          112,
          113,
          114,
          115,
          116,
          117,
          118,
          119,
          120,
          121,
          122,
          123,
          124,
          125,
          127,
          129,
          130,
          131,
          132,
          133,
          134,
          136,
          137,
          138,
          139,
          140,
          141,
          143,
          145,
          147,
          148,
          150,
          151,
          152,
          153,
          154,
          155,
          156,
          157,
          158,
          160,
          161,
          162,
          163,
          167,
          168,
          169,
          170,
          171,
          172,
          173,
          174,
          175,
          176,
          177,
          180,
          181,
          182,
          183,
          184,
          187,
          188,
          189,
          190,
          191,
          192,
          193,
          194,
          195,
          196,
          197,
          198,
          199,
          200,
          201,
          202,
          203,
          204,
          205,
          206,
          207,
          208,
          210,
          211,
          212,
          213,
          214,
          215,
          216,
          217,
          218,
          219,
          220,
          221,
          222,
          223,
          224,
          225,
          227,
          229,
          231,
          232,
          233,
          234,
          235,
          236,
          237,
          238,
          239,
          242,
          243,
          244,
          245,
          246,
          247,
          249,
          250,
          251,
          252,
          255,
          256,
          257,
          259,
          262,
          264,
          265,
          266,
          267,
          269,
          270,
          271,
          272,
          273,
          274,
          276,
          277,
          278,
          279,
          280,
          281,
          283,
          286,
          287,
          288,
          290,
          291,
          293,
          295,
          296,
          297,
          298,
          299,
          300,
          301,
          302,
          303,
          304,
          305,
          306,
          307,
          308,
          309,
          310,
          311,
          312,
          313,
          314,
          315,
          316,
          317,
          318,
          319,
          320,
          321,
          322,
          323,
          326,
          327,
          328,
          330,
          331,
          332,
          333,
          335,
          336,
          338,
          339,
          340,
          341,
          342,
          346,
          347,
          348,
          349,
          352,
          353,
          354,
          355,
          356,
          357,
          358,
          359,
          360,
          361,
          362,
          363,
          364
         ],
         "xaxis": "x",
         "y": [
          8,
          2,
          2,
          3,
          5,
          3,
          4,
          5,
          4,
          2,
          5,
          4,
          2,
          2,
          3,
          2,
          10,
          6,
          6,
          6,
          4,
          2,
          13,
          8,
          2,
          2,
          2,
          2,
          4,
          4,
          5,
          9,
          7,
          3,
          4,
          12,
          5,
          4,
          2,
          2,
          4,
          4,
          3,
          4,
          4,
          2,
          7,
          3,
          9,
          6,
          4,
          4,
          12,
          22,
          11,
          4,
          6,
          2,
          4,
          7,
          8,
          6,
          12,
          2,
          2,
          7,
          5,
          6,
          7,
          4,
          8,
          4,
          2,
          5,
          4,
          6,
          3,
          8,
          4,
          3,
          2,
          2,
          5,
          9,
          2,
          4,
          2,
          2,
          13,
          6,
          3,
          6,
          7,
          3,
          4,
          2,
          3,
          8,
          14,
          5,
          5,
          6,
          7,
          4,
          3,
          4,
          2,
          2,
          10,
          4,
          2,
          2,
          5,
          3,
          7,
          4,
          2,
          4,
          4,
          2,
          3,
          4,
          5,
          2,
          8,
          2,
          3,
          2,
          3,
          6,
          6,
          3,
          2,
          3,
          3,
          2,
          3,
          4,
          2,
          3,
          2,
          5,
          4,
          2,
          5,
          4,
          4,
          4,
          2,
          3,
          4,
          7,
          6,
          5,
          5,
          2,
          5,
          5,
          6,
          4,
          3,
          2,
          3,
          3,
          4,
          3,
          3,
          9,
          3,
          6,
          3,
          2,
          4,
          2,
          2,
          3,
          4,
          6,
          3,
          3,
          4,
          4,
          7,
          8,
          2,
          6,
          3,
          4,
          4,
          6,
          7,
          3,
          5,
          7,
          7,
          5,
          4,
          5,
          2,
          3,
          3,
          5,
          3,
          4,
          2,
          2,
          3,
          2,
          3,
          4,
          3,
          4,
          2,
          4,
          3,
          5,
          2,
          5,
          8,
          3,
          4,
          3,
          4,
          5,
          2,
          8,
          3,
          2,
          2,
          5,
          2,
          2,
          2,
          4,
          5,
          3,
          2,
          2,
          2,
          3,
          2,
          5,
          5,
          3,
          2,
          2,
          6,
          3,
          2,
          2,
          2,
          5,
          4,
          4,
          3,
          2,
          3,
          5,
          5,
          10,
          5,
          18,
          6,
          4,
          4,
          2,
          5,
          3,
          5,
          2,
          2,
          2,
          3,
          4,
          6,
          3,
          2,
          2,
          6,
          2,
          2,
          3,
          3,
          2,
          4,
          4,
          7,
          5,
          3,
          7,
          4,
          7,
          8,
          4,
          7,
          6,
          2,
          4,
          3,
          2,
          3,
          4
         ],
         "yaxis": "y"
        },
        {
         "mode": "lines",
         "type": "scatter",
         "x": [
          1,
          3,
          4,
          5,
          6,
          7,
          8,
          9,
          10,
          11,
          12,
          13,
          14,
          15,
          16,
          17,
          18,
          19,
          20,
          21,
          22,
          25,
          26,
          27,
          28,
          30,
          31,
          32,
          33,
          35,
          36,
          37,
          38,
          39,
          40,
          41,
          43,
          44,
          45,
          46,
          48,
          49,
          50,
          51,
          52,
          53,
          55,
          56,
          57,
          58,
          59,
          60,
          61,
          62,
          63,
          64,
          65,
          67,
          68,
          69,
          70,
          71,
          72,
          73,
          74,
          75,
          76,
          78,
          79,
          80,
          81,
          83,
          84,
          85,
          86,
          87,
          88,
          89,
          90,
          91,
          92,
          94,
          96,
          98,
          99,
          100,
          101,
          102,
          104,
          105,
          106,
          107,
          109,
          110,
          111,
          112,
          113,
          114,
          115,
          116,
          117,
          118,
          119,
          120,
          121,
          122,
          123,
          124,
          125,
          127,
          129,
          130,
          131,
          132,
          133,
          134,
          136,
          137,
          138,
          139,
          140,
          141,
          143,
          145,
          147,
          148,
          150,
          151,
          152,
          153,
          154,
          155,
          156,
          157,
          158,
          160,
          161,
          162,
          163,
          167,
          168,
          169,
          170,
          171,
          172,
          173,
          174,
          175,
          176,
          177,
          180,
          181,
          182,
          183,
          184,
          187,
          188,
          189,
          190,
          191,
          192,
          193,
          194,
          195,
          196,
          197,
          198,
          199,
          200,
          201,
          202,
          203,
          204,
          205,
          206,
          207,
          208,
          210,
          211,
          212,
          213,
          214,
          215,
          216,
          217,
          218,
          219,
          220,
          221,
          222,
          223,
          224,
          225,
          227,
          229,
          231,
          232,
          233,
          234,
          235,
          236,
          237,
          238,
          239,
          242,
          243,
          244,
          245,
          246,
          247,
          249,
          250,
          251,
          252,
          255,
          256,
          257,
          259,
          262,
          264,
          265,
          266,
          267,
          269,
          270,
          271,
          272,
          273,
          274,
          276,
          277,
          278,
          279,
          280,
          281,
          283,
          286,
          287,
          288,
          290,
          291,
          293,
          295,
          296,
          297,
          298,
          299,
          300,
          301,
          302,
          303,
          304,
          305,
          306,
          307,
          308,
          309,
          310,
          311,
          312,
          313,
          314,
          315,
          316,
          317,
          318,
          319,
          320,
          321,
          322,
          323,
          326,
          327,
          328,
          330,
          331,
          332,
          333,
          335,
          336,
          338,
          339,
          340,
          341,
          342,
          346,
          347,
          348,
          349,
          352,
          353,
          354,
          355,
          356,
          357,
          358,
          359,
          360,
          361,
          362,
          363,
          364
         ],
         "y": [
          5.504913280281304,
          5.477545828304061,
          4.248077502405632,
          5.76321795653946,
          6.812295548118225,
          5.943826003363876,
          3.533443736391759,
          3.96436540147598,
          3.865674758195992,
          2.8235827837580914,
          4.202323411129776,
          5.2582903581816165,
          4.2175986911063195,
          3.43286620518842,
          3.827965574713837,
          3.794030167078383,
          2.6871829569959482,
          4.553657011244747,
          5.229357418095887,
          4.289243282223929,
          3.770421094357241,
          2.6513606614371437,
          4.26707864677431,
          5.544868722652053,
          4.166622166407934,
          3.921653750444101,
          3.4344316932969066,
          3.2248259117227134,
          4.675211130212007,
          4.0002224027113265,
          4.171664222321863,
          4.473075416117015,
          4.158075481290769,
          3.2744269182276673,
          4.646278190126278,
          5.630600546060508,
          3.9346868643563804,
          4.53783065176155,
          3.9789640034967464,
          3.0953154404336445,
          5.587888895028629,
          4.496220703254947,
          4.171664222321863,
          4.466186060643941,
          4.173229710430349,
          3.231715267195788,
          5.364690248009296,
          4.538932354286826,
          7.516922715758199,
          7.93269015170284,
          7.431689383609496,
          7.817866541865316,
          9.333006995999144,
          10.309064478266869,
          9.468152355404818,
          7.156143082294116,
          5.642323606232598,
          4.637940815276853,
          5.945036851530928,
          6.770915796090361,
          5.808758075605747,
          5.390513418942399,
          5.778723432994742,
          5.47061285364157,
          4.4298963973971,
          5.945036851530928,
          6.81362744712224,
          5.283046532265986,
          5.713968197350207,
          5.421011847136616,
          4.4367857528701755,
          6.598693673769413,
          5.50702548199573,
          5.240334881234107,
          5.678145901791402,
          5.378300196104737,
          4.573185579632319,
          5.980859147089733,
          6.914204978325579,
          4.263581933907095,
          3.9032031574152066,
          3.8978792900506187,
          4.53626053659442,
          4.0913598115861465,
          4.182892166412568,
          4.3272354670263535,
          4.070101412371567,
          3.186452849308465,
          5.4847605969698465,
          4.65073782958087,
          4.204935751025223,
          4.363057762585158,
          3.085875318105126,
          4.815949545591781,
          5.556405188087456,
          4.328337169551629,
          6.598472494027489,
          7.094149394756245,
          6.944482226777871,
          6.282656792540672,
          7.540151822289794,
          8.164875704442549,
          7.001562921551257,
          4.176002810939494,
          3.8782172043915604,
          3.643126734349429,
          2.672679351029138,
          4.051419978400823,
          5.064675274420783,
          3.542437078122447,
          3.479247330586399,
          2.703065654199711,
          4.282961343978073,
          5.14466258409631,
          3.809127678884071,
          3.5814248625422618,
          3.4846833229746306,
          2.4715242886224598,
          4.123064569518432,
          4.9420541586047895,
          3.8655401959706874,
          3.253029832373736,
          3.419928087330096,
          4.22364210072177,
          3.6065192533925496,
          3.7559174883904305,
          3.57148214323182,
          2.7016122911148677,
          3.6319832309893925,
          4.810571293857227,
          3.718903102083544,
          3.3295158265814933,
          3.63009180066696,
          3.2654908593357597,
          2.424553947304537,
          4.629173519235654,
          3.458971380871288,
          3.1878789210994993,
          3.523535692624665,
          4.544660995806015,
          3.352415272828993,
          3.1215469676261733,
          3.5593579881834696,
          3.1300018112077352,
          2.3111084837891678,
          3.8689605889548746,
          4.652127882482429,
          3.323482332743263,
          3.128436323099248,
          3.451891101507056,
          3.8551818780087257,
          4.716883118126963,
          3.821946841040191,
          3.7205890071264403,
          4.079866081093052,
          4.389468681864457,
          4.971480912985333,
          4.00932319250072,
          3.8790324185012386,
          4.115688376651857,
          3.5209994328282495,
          2.737928400968486,
          4.2820017951880445,
          4.942547972899604,
          3.9376786013831104,
          3.648944416008831,
          4.008221489975444,
          3.485177137269445,
          2.823351703032244,
          4.253068855102315,
          5.0500148595760175,
          3.872923365738576,
          3.577299824891222,
          4.044043785534248,
          3.5788653129997092,
          2.766861341054216,
          4.317824090746849,
          3.801278774620967,
          3.5263233001928374,
          3.943466254330909,
          4.083489765498984,
          3.37206332475683,
          4.822448543246124,
          5.8136602546534295,
          4.520837000473069,
          3.9813467461871586,
          4.649245769236862,
          4.148245001143518,
          3.37206332475683,
          4.822448543246124,
          5.713082723450091,
          4.549769940558799,
          4.126713242067625,
          4.129815851650857,
          4.832952333839193,
          4.323296373186386,
          4.276970446588331,
          4.494872182299117,
          4.137160596440991,
          3.2176897378190854,
          4.8981629588007864,
          5.65239731224261,
          4.524906824910123,
          4.158374881902265,
          3.1998412024358824,
          4.815559187773049,
          4.894147907077398,
          3.7955903598306406,
          3.2409458764051498,
          3.8013780127784393,
          2.5241955682984076,
          4.240491084838913,
          5.0305477338395415,
          3.630257592982767,
          3.206689068954832,
          2.5310849237714823,
          4.1826252046674535,
          3.630257592982767,
          3.4073887420444504,
          3.9810147529437168,
          4.742138461858615,
          3.4493152076782545,
          3.5595188484756077,
          3.271444304599366,
          2.6027295148890914,
          4.07515831799104,
          4.979571209141157,
          3.5365694172525033,
          2.7324358003278926,
          2.6334237572330403,
          2.0294642031673,
          3.437137770624714,
          4.126616888422003,
          2.9922370456164415,
          2.674569920156433,
          2.6981789928775743,
          4.220305064152267,
          2.9922370456164415,
          2.6676805646833577,
          2.5686685215885063,
          1.9578196120496907,
          4.220305064152267,
          2.761368740413622,
          3.235002056529723,
          2.7050683483506495,
          1.9219973164908861,
          3.37238253498018,
          4.334661306301756,
          2.9633041055307117,
          2.7324358003278926,
          3.127535169853309,
          2.928266995369982,
          3.045299689479771,
          4.5246178480547945,
          5.537873144074756,
          4.173405298776786,
          3.748271286640364,
          4.049682480435516,
          3.7277931901361954,
          2.980544453835237,
          4.545285914474019,
          5.314674497055423,
          4.451718789580717,
          3.9657936748416445,
          4.317046141571572,
          3.7292465532210386,
          2.9751084614470056,
          4.532960566612712,
          5.280305564581462,
          3.893794134670837,
          3.443026900632438,
          2.7725000359554848,
          4.388218021292651,
          5.113519434648745,
          3.560894935179835,
          4.286659838400999,
          3.850414305952189,
          2.808322331514289,
          5.1066300791756705,
          4.151361714164131,
          3.8789188127769005,
          3.7562707409048657,
          2.9800890645181775,
          4.55998475429654,
          5.278396812179559,
          3.584504007900977,
          2.9447221582764325,
          4.567329499086674,
          5.249919261410889,
          6.845529348251139,
          6.595284649069425,
          5.6758137904475205,
          7.298421131257761,
          8.153233015902924,
          6.681298283928541,
          5.812865754859645,
          4.221904602756464,
          3.7498367747488506,
          2.9447221582764325,
          4.553550788140525,
          5.271962846023543,
          3.8496291205541144
         ]
        }
       ],
       "layout": {
        "legend": {
         "tracegroupgap": 0
        },
        "margin": {
         "t": 60
        },
        "template": {
         "data": {
          "bar": [
           {
            "error_x": {
             "color": "#2a3f5f"
            },
            "error_y": {
             "color": "#2a3f5f"
            },
            "marker": {
             "line": {
              "color": "#E5ECF6",
              "width": 0.5
             }
            },
            "type": "bar"
           }
          ],
          "barpolar": [
           {
            "marker": {
             "line": {
              "color": "#E5ECF6",
              "width": 0.5
             }
            },
            "type": "barpolar"
           }
          ],
          "carpet": [
           {
            "aaxis": {
             "endlinecolor": "#2a3f5f",
             "gridcolor": "white",
             "linecolor": "white",
             "minorgridcolor": "white",
             "startlinecolor": "#2a3f5f"
            },
            "baxis": {
             "endlinecolor": "#2a3f5f",
             "gridcolor": "white",
             "linecolor": "white",
             "minorgridcolor": "white",
             "startlinecolor": "#2a3f5f"
            },
            "type": "carpet"
           }
          ],
          "choropleth": [
           {
            "colorbar": {
             "outlinewidth": 0,
             "ticks": ""
            },
            "type": "choropleth"
           }
          ],
          "contour": [
           {
            "colorbar": {
             "outlinewidth": 0,
             "ticks": ""
            },
            "colorscale": [
             [
              0,
              "#0d0887"
             ],
             [
              0.1111111111111111,
              "#46039f"
             ],
             [
              0.2222222222222222,
              "#7201a8"
             ],
             [
              0.3333333333333333,
              "#9c179e"
             ],
             [
              0.4444444444444444,
              "#bd3786"
             ],
             [
              0.5555555555555556,
              "#d8576b"
             ],
             [
              0.6666666666666666,
              "#ed7953"
             ],
             [
              0.7777777777777778,
              "#fb9f3a"
             ],
             [
              0.8888888888888888,
              "#fdca26"
             ],
             [
              1,
              "#f0f921"
             ]
            ],
            "type": "contour"
           }
          ],
          "contourcarpet": [
           {
            "colorbar": {
             "outlinewidth": 0,
             "ticks": ""
            },
            "type": "contourcarpet"
           }
          ],
          "heatmap": [
           {
            "colorbar": {
             "outlinewidth": 0,
             "ticks": ""
            },
            "colorscale": [
             [
              0,
              "#0d0887"
             ],
             [
              0.1111111111111111,
              "#46039f"
             ],
             [
              0.2222222222222222,
              "#7201a8"
             ],
             [
              0.3333333333333333,
              "#9c179e"
             ],
             [
              0.4444444444444444,
              "#bd3786"
             ],
             [
              0.5555555555555556,
              "#d8576b"
             ],
             [
              0.6666666666666666,
              "#ed7953"
             ],
             [
              0.7777777777777778,
              "#fb9f3a"
             ],
             [
              0.8888888888888888,
              "#fdca26"
             ],
             [
              1,
              "#f0f921"
             ]
            ],
            "type": "heatmap"
           }
          ],
          "heatmapgl": [
           {
            "colorbar": {
             "outlinewidth": 0,
             "ticks": ""
            },
            "colorscale": [
             [
              0,
              "#0d0887"
             ],
             [
              0.1111111111111111,
              "#46039f"
             ],
             [
              0.2222222222222222,
              "#7201a8"
             ],
             [
              0.3333333333333333,
              "#9c179e"
             ],
             [
              0.4444444444444444,
              "#bd3786"
             ],
             [
              0.5555555555555556,
              "#d8576b"
             ],
             [
              0.6666666666666666,
              "#ed7953"
             ],
             [
              0.7777777777777778,
              "#fb9f3a"
             ],
             [
              0.8888888888888888,
              "#fdca26"
             ],
             [
              1,
              "#f0f921"
             ]
            ],
            "type": "heatmapgl"
           }
          ],
          "histogram": [
           {
            "marker": {
             "colorbar": {
              "outlinewidth": 0,
              "ticks": ""
             }
            },
            "type": "histogram"
           }
          ],
          "histogram2d": [
           {
            "colorbar": {
             "outlinewidth": 0,
             "ticks": ""
            },
            "colorscale": [
             [
              0,
              "#0d0887"
             ],
             [
              0.1111111111111111,
              "#46039f"
             ],
             [
              0.2222222222222222,
              "#7201a8"
             ],
             [
              0.3333333333333333,
              "#9c179e"
             ],
             [
              0.4444444444444444,
              "#bd3786"
             ],
             [
              0.5555555555555556,
              "#d8576b"
             ],
             [
              0.6666666666666666,
              "#ed7953"
             ],
             [
              0.7777777777777778,
              "#fb9f3a"
             ],
             [
              0.8888888888888888,
              "#fdca26"
             ],
             [
              1,
              "#f0f921"
             ]
            ],
            "type": "histogram2d"
           }
          ],
          "histogram2dcontour": [
           {
            "colorbar": {
             "outlinewidth": 0,
             "ticks": ""
            },
            "colorscale": [
             [
              0,
              "#0d0887"
             ],
             [
              0.1111111111111111,
              "#46039f"
             ],
             [
              0.2222222222222222,
              "#7201a8"
             ],
             [
              0.3333333333333333,
              "#9c179e"
             ],
             [
              0.4444444444444444,
              "#bd3786"
             ],
             [
              0.5555555555555556,
              "#d8576b"
             ],
             [
              0.6666666666666666,
              "#ed7953"
             ],
             [
              0.7777777777777778,
              "#fb9f3a"
             ],
             [
              0.8888888888888888,
              "#fdca26"
             ],
             [
              1,
              "#f0f921"
             ]
            ],
            "type": "histogram2dcontour"
           }
          ],
          "mesh3d": [
           {
            "colorbar": {
             "outlinewidth": 0,
             "ticks": ""
            },
            "type": "mesh3d"
           }
          ],
          "parcoords": [
           {
            "line": {
             "colorbar": {
              "outlinewidth": 0,
              "ticks": ""
             }
            },
            "type": "parcoords"
           }
          ],
          "pie": [
           {
            "automargin": true,
            "type": "pie"
           }
          ],
          "scatter": [
           {
            "marker": {
             "colorbar": {
              "outlinewidth": 0,
              "ticks": ""
             }
            },
            "type": "scatter"
           }
          ],
          "scatter3d": [
           {
            "line": {
             "colorbar": {
              "outlinewidth": 0,
              "ticks": ""
             }
            },
            "marker": {
             "colorbar": {
              "outlinewidth": 0,
              "ticks": ""
             }
            },
            "type": "scatter3d"
           }
          ],
          "scattercarpet": [
           {
            "marker": {
             "colorbar": {
              "outlinewidth": 0,
              "ticks": ""
             }
            },
            "type": "scattercarpet"
           }
          ],
          "scattergeo": [
           {
            "marker": {
             "colorbar": {
              "outlinewidth": 0,
              "ticks": ""
             }
            },
            "type": "scattergeo"
           }
          ],
          "scattergl": [
           {
            "marker": {
             "colorbar": {
              "outlinewidth": 0,
              "ticks": ""
             }
            },
            "type": "scattergl"
           }
          ],
          "scattermapbox": [
           {
            "marker": {
             "colorbar": {
              "outlinewidth": 0,
              "ticks": ""
             }
            },
            "type": "scattermapbox"
           }
          ],
          "scatterpolar": [
           {
            "marker": {
             "colorbar": {
              "outlinewidth": 0,
              "ticks": ""
             }
            },
            "type": "scatterpolar"
           }
          ],
          "scatterpolargl": [
           {
            "marker": {
             "colorbar": {
              "outlinewidth": 0,
              "ticks": ""
             }
            },
            "type": "scatterpolargl"
           }
          ],
          "scatterternary": [
           {
            "marker": {
             "colorbar": {
              "outlinewidth": 0,
              "ticks": ""
             }
            },
            "type": "scatterternary"
           }
          ],
          "surface": [
           {
            "colorbar": {
             "outlinewidth": 0,
             "ticks": ""
            },
            "colorscale": [
             [
              0,
              "#0d0887"
             ],
             [
              0.1111111111111111,
              "#46039f"
             ],
             [
              0.2222222222222222,
              "#7201a8"
             ],
             [
              0.3333333333333333,
              "#9c179e"
             ],
             [
              0.4444444444444444,
              "#bd3786"
             ],
             [
              0.5555555555555556,
              "#d8576b"
             ],
             [
              0.6666666666666666,
              "#ed7953"
             ],
             [
              0.7777777777777778,
              "#fb9f3a"
             ],
             [
              0.8888888888888888,
              "#fdca26"
             ],
             [
              1,
              "#f0f921"
             ]
            ],
            "type": "surface"
           }
          ],
          "table": [
           {
            "cells": {
             "fill": {
              "color": "#EBF0F8"
             },
             "line": {
              "color": "white"
             }
            },
            "header": {
             "fill": {
              "color": "#C8D4E3"
             },
             "line": {
              "color": "white"
             }
            },
            "type": "table"
           }
          ]
         },
         "layout": {
          "annotationdefaults": {
           "arrowcolor": "#2a3f5f",
           "arrowhead": 0,
           "arrowwidth": 1
          },
          "coloraxis": {
           "colorbar": {
            "outlinewidth": 0,
            "ticks": ""
           }
          },
          "colorscale": {
           "diverging": [
            [
             0,
             "#8e0152"
            ],
            [
             0.1,
             "#c51b7d"
            ],
            [
             0.2,
             "#de77ae"
            ],
            [
             0.3,
             "#f1b6da"
            ],
            [
             0.4,
             "#fde0ef"
            ],
            [
             0.5,
             "#f7f7f7"
            ],
            [
             0.6,
             "#e6f5d0"
            ],
            [
             0.7,
             "#b8e186"
            ],
            [
             0.8,
             "#7fbc41"
            ],
            [
             0.9,
             "#4d9221"
            ],
            [
             1,
             "#276419"
            ]
           ],
           "sequential": [
            [
             0,
             "#0d0887"
            ],
            [
             0.1111111111111111,
             "#46039f"
            ],
            [
             0.2222222222222222,
             "#7201a8"
            ],
            [
             0.3333333333333333,
             "#9c179e"
            ],
            [
             0.4444444444444444,
             "#bd3786"
            ],
            [
             0.5555555555555556,
             "#d8576b"
            ],
            [
             0.6666666666666666,
             "#ed7953"
            ],
            [
             0.7777777777777778,
             "#fb9f3a"
            ],
            [
             0.8888888888888888,
             "#fdca26"
            ],
            [
             1,
             "#f0f921"
            ]
           ],
           "sequentialminus": [
            [
             0,
             "#0d0887"
            ],
            [
             0.1111111111111111,
             "#46039f"
            ],
            [
             0.2222222222222222,
             "#7201a8"
            ],
            [
             0.3333333333333333,
             "#9c179e"
            ],
            [
             0.4444444444444444,
             "#bd3786"
            ],
            [
             0.5555555555555556,
             "#d8576b"
            ],
            [
             0.6666666666666666,
             "#ed7953"
            ],
            [
             0.7777777777777778,
             "#fb9f3a"
            ],
            [
             0.8888888888888888,
             "#fdca26"
            ],
            [
             1,
             "#f0f921"
            ]
           ]
          },
          "colorway": [
           "#636efa",
           "#EF553B",
           "#00cc96",
           "#ab63fa",
           "#FFA15A",
           "#19d3f3",
           "#FF6692",
           "#B6E880",
           "#FF97FF",
           "#FECB52"
          ],
          "font": {
           "color": "#2a3f5f"
          },
          "geo": {
           "bgcolor": "white",
           "lakecolor": "white",
           "landcolor": "#E5ECF6",
           "showlakes": true,
           "showland": true,
           "subunitcolor": "white"
          },
          "hoverlabel": {
           "align": "left"
          },
          "hovermode": "closest",
          "mapbox": {
           "style": "light"
          },
          "paper_bgcolor": "white",
          "plot_bgcolor": "#E5ECF6",
          "polar": {
           "angularaxis": {
            "gridcolor": "white",
            "linecolor": "white",
            "ticks": ""
           },
           "bgcolor": "#E5ECF6",
           "radialaxis": {
            "gridcolor": "white",
            "linecolor": "white",
            "ticks": ""
           }
          },
          "scene": {
           "xaxis": {
            "backgroundcolor": "#E5ECF6",
            "gridcolor": "white",
            "gridwidth": 2,
            "linecolor": "white",
            "showbackground": true,
            "ticks": "",
            "zerolinecolor": "white"
           },
           "yaxis": {
            "backgroundcolor": "#E5ECF6",
            "gridcolor": "white",
            "gridwidth": 2,
            "linecolor": "white",
            "showbackground": true,
            "ticks": "",
            "zerolinecolor": "white"
           },
           "zaxis": {
            "backgroundcolor": "#E5ECF6",
            "gridcolor": "white",
            "gridwidth": 2,
            "linecolor": "white",
            "showbackground": true,
            "ticks": "",
            "zerolinecolor": "white"
           }
          },
          "shapedefaults": {
           "line": {
            "color": "#2a3f5f"
           }
          },
          "ternary": {
           "aaxis": {
            "gridcolor": "white",
            "linecolor": "white",
            "ticks": ""
           },
           "baxis": {
            "gridcolor": "white",
            "linecolor": "white",
            "ticks": ""
           },
           "bgcolor": "#E5ECF6",
           "caxis": {
            "gridcolor": "white",
            "linecolor": "white",
            "ticks": ""
           }
          },
          "title": {
           "x": 0.05
          },
          "xaxis": {
           "automargin": true,
           "gridcolor": "white",
           "linecolor": "white",
           "ticks": "",
           "title": {
            "standoff": 15
           },
           "zerolinecolor": "white",
           "zerolinewidth": 2
          },
          "yaxis": {
           "automargin": true,
           "gridcolor": "white",
           "linecolor": "white",
           "ticks": "",
           "title": {
            "standoff": 15
           },
           "zerolinecolor": "white",
           "zerolinewidth": 2
          }
         }
        },
        "xaxis": {
         "anchor": "y",
         "domain": [
          0,
          1
         ],
         "title": {
          "text": "day"
         }
        },
        "yaxis": {
         "anchor": "x",
         "domain": [
          0,
          1
         ],
         "title": {
          "text": "count"
         }
        }
       }
      }
     },
     "metadata": {}
    }
   ],
   "source": [
    "import plotly.express as px\n",
    "fig = px.line(one_row, x=\"day\", y=\"count\")\n",
    "fig.add_scatter(x=one_row[\"day\"], y=one_row[\"predicted\"], mode=\"lines\")\n",
    "fig.show()"
   ]
  },
  {
   "cell_type": "code",
   "execution_count": 8,
   "metadata": {},
   "outputs": [
    {
     "output_type": "stream",
     "name": "stderr",
     "text": [
      "c:\\Users\\zolyo\\OneDrive\\Documents\\Quartile 3\\JBG050 Data Challenge 2\\Code\\src\\demand.py:143: SettingWithCopyWarning:\n\n\nA value is trying to be set on a copy of a slice from a DataFrame\n\nSee the caveats in the documentation: https://pandas.pydata.org/pandas-docs/stable/user_guide/indexing.html#returning-a-view-versus-a-copy\n\n"
     ]
    },
    {
     "output_type": "execute_result",
     "data": {
      "text/plain": [
       "array([3.84962912])"
      ]
     },
     "metadata": {},
     "execution_count": 8
    }
   ],
   "source": [
    "modded = one_row.tail(1)\n",
    "#modded[\"discount\"] = 30\n",
    "X_mod = prepare_predictors(modded, output_dct)\n",
    "model.predict(X_mod)"
   ]
  },
  {
   "cell_type": "code",
   "execution_count": 13,
   "metadata": {},
   "outputs": [
    {
     "output_type": "execute_result",
     "data": {
      "text/plain": [
       "   discount  purchase_price  prev_day_purchases  on_discount  sales  \\\n",
       "0       0.0            1.69                 3.0         13.0   2.34   \n",
       "\n",
       "   x0_Friday  x0_Monday  x0_Saturday  x0_Sunday  x0_Thursday  ...  \\\n",
       "0        0.0        0.0          0.0        1.0          0.0  ...   \n",
       "\n",
       "   x0_December  x0_February  x0_January  x0_July  x0_June  x0_March  x0_May  \\\n",
       "0          1.0          0.0         0.0      0.0      0.0       0.0     0.0   \n",
       "\n",
       "   x0_November  x0_October  x0_September  \n",
       "0          0.0         0.0           0.0  \n",
       "\n",
       "[1 rows x 24 columns]"
      ],
      "text/html": "<div>\n<style scoped>\n    .dataframe tbody tr th:only-of-type {\n        vertical-align: middle;\n    }\n\n    .dataframe tbody tr th {\n        vertical-align: top;\n    }\n\n    .dataframe thead th {\n        text-align: right;\n    }\n</style>\n<table border=\"1\" class=\"dataframe\">\n  <thead>\n    <tr style=\"text-align: right;\">\n      <th></th>\n      <th>discount</th>\n      <th>purchase_price</th>\n      <th>prev_day_purchases</th>\n      <th>on_discount</th>\n      <th>sales</th>\n      <th>x0_Friday</th>\n      <th>x0_Monday</th>\n      <th>x0_Saturday</th>\n      <th>x0_Sunday</th>\n      <th>x0_Thursday</th>\n      <th>...</th>\n      <th>x0_December</th>\n      <th>x0_February</th>\n      <th>x0_January</th>\n      <th>x0_July</th>\n      <th>x0_June</th>\n      <th>x0_March</th>\n      <th>x0_May</th>\n      <th>x0_November</th>\n      <th>x0_October</th>\n      <th>x0_September</th>\n    </tr>\n  </thead>\n  <tbody>\n    <tr>\n      <th>0</th>\n      <td>0.0</td>\n      <td>1.69</td>\n      <td>3.0</td>\n      <td>13.0</td>\n      <td>2.34</td>\n      <td>0.0</td>\n      <td>0.0</td>\n      <td>0.0</td>\n      <td>1.0</td>\n      <td>0.0</td>\n      <td>...</td>\n      <td>1.0</td>\n      <td>0.0</td>\n      <td>0.0</td>\n      <td>0.0</td>\n      <td>0.0</td>\n      <td>0.0</td>\n      <td>0.0</td>\n      <td>0.0</td>\n      <td>0.0</td>\n      <td>0.0</td>\n    </tr>\n  </tbody>\n</table>\n<p>1 rows × 24 columns</p>\n</div>"
     },
     "metadata": {},
     "execution_count": 13
    }
   ],
   "source": [
    "X_mod"
   ]
  },
  {
   "cell_type": "code",
   "execution_count": 9,
   "metadata": {},
   "outputs": [
    {
     "output_type": "error",
     "ename": "AttributeError",
     "evalue": "'Ridge' object has no attribute 'decision_path'",
     "traceback": [
      "\u001b[1;31m---------------------------------------------------------------------------\u001b[0m",
      "\u001b[1;31mAttributeError\u001b[0m                            Traceback (most recent call last)",
      "\u001b[1;32m<ipython-input-9-cd00bacdb8bd>\u001b[0m in \u001b[0;36m<module>\u001b[1;34m\u001b[0m\n\u001b[1;32m----> 1\u001b[1;33m \u001b[0mmodel\u001b[0m\u001b[1;33m.\u001b[0m\u001b[0mdecision_path\u001b[0m\u001b[1;33m(\u001b[0m\u001b[1;33m)\u001b[0m\u001b[1;33m\u001b[0m\u001b[1;33m\u001b[0m\u001b[0m\n\u001b[0m",
      "\u001b[1;31mAttributeError\u001b[0m: 'Ridge' object has no attribute 'decision_path'"
     ]
    }
   ],
   "source": [
    "model.decision_path()"
   ]
  },
  {
   "cell_type": "code",
   "execution_count": 12,
   "metadata": {},
   "outputs": [
    {
     "output_type": "execute_result",
     "data": {
      "text/plain": [
       "array([7.63116127])"
      ]
     },
     "metadata": {},
     "execution_count": 12
    }
   ],
   "source": [
    "X_mod20 = apply_discount(X_mod, 35)\n",
    "model.predict(X_mod20)"
   ]
  },
  {
   "cell_type": "code",
   "execution_count": 21,
   "metadata": {},
   "outputs": [
    {
     "output_type": "execute_result",
     "data": {
      "text/plain": [
       "                                  count  discount  std  min  25%  50%  75%  \\\n",
       "description           day                                                    \n",
       "Biologische courgette 2018-12-30    4.0       0.0  0.0  0.0  0.0  0.0  0.0   \n",
       "\n",
       "                                  max     month                product  day  \\\n",
       "description           day                                                     \n",
       "Biologische courgette 2018-12-30  0.0  December  Biologische courgette  364   \n",
       "\n",
       "                                 dayofweek  purchase_price  std_sales_price  \\\n",
       "description           day                                                     \n",
       "Biologische courgette 2018-12-30    Sunday            1.69             1.69   \n",
       "\n",
       "                                  prev_day_purchases  sales        days  \\\n",
       "description           day                                                 \n",
       "Biologische courgette 2018-12-30                 3.0   2.34  30-12-2018   \n",
       "\n",
       "                                  on_discount  predicted  \n",
       "description           day                                 \n",
       "Biologische courgette 2018-12-30           13    3.65273  "
      ],
      "text/html": "<div>\n<style scoped>\n    .dataframe tbody tr th:only-of-type {\n        vertical-align: middle;\n    }\n\n    .dataframe tbody tr th {\n        vertical-align: top;\n    }\n\n    .dataframe thead th {\n        text-align: right;\n    }\n</style>\n<table border=\"1\" class=\"dataframe\">\n  <thead>\n    <tr style=\"text-align: right;\">\n      <th></th>\n      <th></th>\n      <th>count</th>\n      <th>discount</th>\n      <th>std</th>\n      <th>min</th>\n      <th>25%</th>\n      <th>50%</th>\n      <th>75%</th>\n      <th>max</th>\n      <th>month</th>\n      <th>product</th>\n      <th>day</th>\n      <th>dayofweek</th>\n      <th>purchase_price</th>\n      <th>std_sales_price</th>\n      <th>prev_day_purchases</th>\n      <th>sales</th>\n      <th>days</th>\n      <th>on_discount</th>\n      <th>predicted</th>\n    </tr>\n    <tr>\n      <th>description</th>\n      <th>day</th>\n      <th></th>\n      <th></th>\n      <th></th>\n      <th></th>\n      <th></th>\n      <th></th>\n      <th></th>\n      <th></th>\n      <th></th>\n      <th></th>\n      <th></th>\n      <th></th>\n      <th></th>\n      <th></th>\n      <th></th>\n      <th></th>\n      <th></th>\n      <th></th>\n      <th></th>\n    </tr>\n  </thead>\n  <tbody>\n    <tr>\n      <th>Biologische courgette</th>\n      <th>2018-12-30</th>\n      <td>4.0</td>\n      <td>0.0</td>\n      <td>0.0</td>\n      <td>0.0</td>\n      <td>0.0</td>\n      <td>0.0</td>\n      <td>0.0</td>\n      <td>0.0</td>\n      <td>December</td>\n      <td>Biologische courgette</td>\n      <td>364</td>\n      <td>Sunday</td>\n      <td>1.69</td>\n      <td>1.69</td>\n      <td>3.0</td>\n      <td>2.34</td>\n      <td>30-12-2018</td>\n      <td>13</td>\n      <td>3.65273</td>\n    </tr>\n  </tbody>\n</table>\n</div>"
     },
     "metadata": {},
     "execution_count": 21
    }
   ],
   "source": [
    "modded"
   ]
  },
  {
   "cell_type": "code",
   "execution_count": 47,
   "metadata": {},
   "outputs": [
    {
     "output_type": "display_data",
     "data": {
      "application/vnd.plotly.v1+json": {
       "config": {
        "plotlyServerURL": "https://plot.ly"
       },
       "data": [
        {
         "hovertemplate": "purchase_price=%{x}<br>count=%{y}<extra></extra>",
         "legendgroup": "",
         "marker": {
          "color": "#636efa",
          "symbol": "circle"
         },
         "mode": "markers",
         "name": "",
         "orientation": "v",
         "showlegend": false,
         "type": "scatter",
         "x": [
          0.48,
          0.69,
          0.66,
          0.69,
          0.48,
          0.69,
          0.69,
          0.69,
          0.69,
          0.6900000000000001,
          0.69,
          0.6900000000000001,
          0.69,
          0.69,
          0.69,
          0.69,
          0.6900000000000001,
          0.69,
          0.69,
          0.69,
          0.69,
          0.69,
          0.69,
          0.69,
          0.69,
          0.69,
          0.48,
          0.69,
          0.69,
          0.69,
          0.69,
          0.6549999999999999,
          0.69,
          0.69,
          0.69,
          0.69,
          0.69,
          0.69,
          0.6066666666666666,
          0.59,
          0.59,
          0.59,
          0.59,
          0.59,
          0.59,
          0.6233333333333332,
          0.69,
          0.69,
          0.48,
          0.69,
          0.69,
          0.69,
          0.66,
          0.69,
          0.69,
          0.69,
          0.69,
          0.69,
          0.69,
          0.69,
          0.69,
          0.69,
          0.6899999999999998,
          0.69,
          0.69,
          0.69,
          0.69,
          0.69,
          0.69,
          0.69,
          0.69,
          0.69,
          0.69,
          0.69,
          0.69,
          0.69,
          0.69,
          0.69,
          0.69,
          0.69,
          0.66,
          0.69,
          0.69,
          0.69,
          0.6899999999999998,
          0.69,
          0.69,
          0.69,
          0.69,
          0.69,
          0.69,
          0.69,
          0.69,
          0.69,
          0.69,
          0.69,
          0.69,
          0.6900000000000001,
          0.69,
          0.69,
          0.69,
          0.6675000000000001,
          0.48,
          0.69,
          0.69,
          0.69,
          0.66,
          0.69,
          0.69,
          0.69,
          0.69,
          0.69,
          0.69,
          0.69,
          0.69,
          0.69,
          0.69,
          0.69,
          0.69,
          0.69,
          0.6900000000000001,
          0.69,
          0.6900000000000001,
          0.69,
          0.69,
          0.69,
          0.69,
          0.6899999999999998,
          0.69,
          0.69,
          0.48000000000000004,
          0.69,
          0.69,
          0.66,
          0.69,
          0.6900000000000001,
          0.69,
          0.69,
          0.69,
          0.69,
          0.69,
          0.69,
          0.69,
          0.69,
          0.6900000000000001,
          0.69,
          0.69,
          0.69,
          0.69,
          0.69,
          0.5033333333333333,
          0.48,
          0.48,
          0.48,
          0.4800000000000002,
          0.48000000000000015,
          0.48,
          0.69,
          0.69,
          0.69,
          0.69,
          0.69,
          0.69,
          0.69,
          0.69,
          0.69,
          0.6900000000000001,
          0.69,
          0.69,
          0.69,
          0.69,
          0.69,
          0.69,
          0.69,
          0.69,
          0.69,
          0.69,
          0.69,
          0.69,
          0.69,
          0.69,
          0.69,
          0.69,
          0.69,
          0.6900000000000001,
          0.6599999999999999,
          0.69,
          0.69,
          0.69,
          0.69,
          0.69,
          0.69,
          0.69,
          0.69,
          0.69,
          0.69,
          0.69,
          0.69,
          0.69,
          0.69,
          0.69,
          0.69,
          0.69,
          0.69,
          0.69,
          0.69,
          0.69,
          0.69,
          0.69,
          0.69,
          0.69,
          0.69,
          0.69,
          0.69,
          0.69,
          0.69,
          0.6899999999999998,
          0.69,
          0.69,
          0.69,
          0.69,
          0.69,
          0.69,
          0.69,
          0.69,
          0.69,
          0.69,
          0.69,
          0.69,
          0.69,
          0.69,
          0.69,
          0.69,
          0.69,
          0.69,
          0.69,
          0.69,
          0.6899999999999998,
          0.69,
          0.69,
          0.69,
          0.69,
          0.69,
          0.69,
          0.69,
          0.69,
          0.69,
          0.69,
          0.69,
          0.69,
          0.69,
          0.69,
          0.69,
          0.69,
          0.69,
          0.69,
          0.69,
          0.6899999999999998,
          0.69,
          0.69,
          0.69,
          0.69,
          0.69,
          0.69,
          0.6899999999999998,
          0.69,
          0.69,
          0.69,
          0.69,
          0.69,
          0.69,
          0.52,
          0.52,
          0.52,
          0.52,
          0.52,
          0.52,
          0.52,
          0.69,
          0.69,
          0.69,
          0.69,
          0.69,
          0.69,
          0.69,
          0.69,
          0.69,
          0.69,
          0.69,
          0.69,
          0.6900000000000001,
          0.69,
          0.69,
          0.69,
          0.69,
          0.69,
          0.69,
          0.69,
          0.69,
          0.69,
          0.69,
          0.6900000000000001,
          0.69,
          0.69,
          0.6900000000000001,
          0.69,
          0.69,
          0.69
         ],
         "xaxis": "x",
         "y": [
          6,
          6,
          6,
          5,
          7,
          4,
          6,
          3,
          2,
          7,
          4,
          7,
          6,
          4,
          2,
          3,
          7,
          2,
          2,
          9,
          5,
          8,
          3,
          2,
          4,
          3,
          5,
          3,
          6,
          5,
          8,
          6,
          2,
          3,
          4,
          3,
          3,
          2,
          6,
          5,
          9,
          7,
          4,
          4,
          8,
          3,
          4,
          5,
          2,
          2,
          9,
          5,
          4,
          2,
          2,
          3,
          2,
          4,
          2,
          2,
          9,
          4,
          10,
          6,
          9,
          6,
          8,
          4,
          4,
          4,
          6,
          6,
          4,
          4,
          3,
          8,
          6,
          3,
          5,
          6,
          6,
          4,
          4,
          3,
          10,
          6,
          3,
          5,
          6,
          4,
          6,
          8,
          3,
          2,
          5,
          2,
          6,
          7,
          2,
          5,
          5,
          4,
          3,
          3,
          4,
          3,
          9,
          4,
          2,
          2,
          2,
          6,
          9,
          2,
          3,
          3,
          3,
          8,
          5,
          6,
          7,
          4,
          7,
          2,
          4,
          3,
          9,
          12,
          3,
          2,
          9,
          5,
          5,
          2,
          2,
          7,
          3,
          2,
          3,
          6,
          6,
          3,
          4,
          5,
          7,
          3,
          2,
          4,
          3,
          4,
          9,
          5,
          4,
          6,
          15,
          13,
          6,
          4,
          2,
          4,
          3,
          3,
          5,
          3,
          3,
          2,
          7,
          2,
          2,
          6,
          4,
          3,
          4,
          3,
          5,
          4,
          6,
          4,
          5,
          5,
          3,
          3,
          4,
          2,
          7,
          7,
          4,
          5,
          6,
          5,
          6,
          2,
          8,
          8,
          2,
          8,
          3,
          4,
          2,
          4,
          5,
          2,
          2,
          3,
          6,
          2,
          4,
          4,
          4,
          3,
          2,
          4,
          3,
          4,
          3,
          2,
          10,
          6,
          3,
          3,
          3,
          3,
          2,
          2,
          3,
          5,
          2,
          5,
          5,
          4,
          6,
          6,
          2,
          6,
          3,
          4,
          5,
          10,
          4,
          2,
          3,
          2,
          5,
          4,
          3,
          4,
          3,
          2,
          4,
          3,
          2,
          4,
          3,
          9,
          5,
          2,
          2,
          10,
          2,
          3,
          8,
          4,
          3,
          3,
          12,
          5,
          4,
          2,
          3,
          3,
          4,
          4,
          4,
          4,
          5,
          8,
          2,
          5,
          3,
          2,
          5,
          3,
          9,
          4,
          3,
          2,
          6,
          6,
          4,
          4,
          7,
          2,
          4,
          2,
          3,
          2,
          3,
          4,
          3,
          5,
          3,
          7,
          2,
          5,
          7,
          4,
          2,
          2
         ],
         "yaxis": "y"
        }
       ],
       "layout": {
        "legend": {
         "tracegroupgap": 0
        },
        "margin": {
         "t": 60
        },
        "template": {
         "data": {
          "bar": [
           {
            "error_x": {
             "color": "#2a3f5f"
            },
            "error_y": {
             "color": "#2a3f5f"
            },
            "marker": {
             "line": {
              "color": "#E5ECF6",
              "width": 0.5
             }
            },
            "type": "bar"
           }
          ],
          "barpolar": [
           {
            "marker": {
             "line": {
              "color": "#E5ECF6",
              "width": 0.5
             }
            },
            "type": "barpolar"
           }
          ],
          "carpet": [
           {
            "aaxis": {
             "endlinecolor": "#2a3f5f",
             "gridcolor": "white",
             "linecolor": "white",
             "minorgridcolor": "white",
             "startlinecolor": "#2a3f5f"
            },
            "baxis": {
             "endlinecolor": "#2a3f5f",
             "gridcolor": "white",
             "linecolor": "white",
             "minorgridcolor": "white",
             "startlinecolor": "#2a3f5f"
            },
            "type": "carpet"
           }
          ],
          "choropleth": [
           {
            "colorbar": {
             "outlinewidth": 0,
             "ticks": ""
            },
            "type": "choropleth"
           }
          ],
          "contour": [
           {
            "colorbar": {
             "outlinewidth": 0,
             "ticks": ""
            },
            "colorscale": [
             [
              0,
              "#0d0887"
             ],
             [
              0.1111111111111111,
              "#46039f"
             ],
             [
              0.2222222222222222,
              "#7201a8"
             ],
             [
              0.3333333333333333,
              "#9c179e"
             ],
             [
              0.4444444444444444,
              "#bd3786"
             ],
             [
              0.5555555555555556,
              "#d8576b"
             ],
             [
              0.6666666666666666,
              "#ed7953"
             ],
             [
              0.7777777777777778,
              "#fb9f3a"
             ],
             [
              0.8888888888888888,
              "#fdca26"
             ],
             [
              1,
              "#f0f921"
             ]
            ],
            "type": "contour"
           }
          ],
          "contourcarpet": [
           {
            "colorbar": {
             "outlinewidth": 0,
             "ticks": ""
            },
            "type": "contourcarpet"
           }
          ],
          "heatmap": [
           {
            "colorbar": {
             "outlinewidth": 0,
             "ticks": ""
            },
            "colorscale": [
             [
              0,
              "#0d0887"
             ],
             [
              0.1111111111111111,
              "#46039f"
             ],
             [
              0.2222222222222222,
              "#7201a8"
             ],
             [
              0.3333333333333333,
              "#9c179e"
             ],
             [
              0.4444444444444444,
              "#bd3786"
             ],
             [
              0.5555555555555556,
              "#d8576b"
             ],
             [
              0.6666666666666666,
              "#ed7953"
             ],
             [
              0.7777777777777778,
              "#fb9f3a"
             ],
             [
              0.8888888888888888,
              "#fdca26"
             ],
             [
              1,
              "#f0f921"
             ]
            ],
            "type": "heatmap"
           }
          ],
          "heatmapgl": [
           {
            "colorbar": {
             "outlinewidth": 0,
             "ticks": ""
            },
            "colorscale": [
             [
              0,
              "#0d0887"
             ],
             [
              0.1111111111111111,
              "#46039f"
             ],
             [
              0.2222222222222222,
              "#7201a8"
             ],
             [
              0.3333333333333333,
              "#9c179e"
             ],
             [
              0.4444444444444444,
              "#bd3786"
             ],
             [
              0.5555555555555556,
              "#d8576b"
             ],
             [
              0.6666666666666666,
              "#ed7953"
             ],
             [
              0.7777777777777778,
              "#fb9f3a"
             ],
             [
              0.8888888888888888,
              "#fdca26"
             ],
             [
              1,
              "#f0f921"
             ]
            ],
            "type": "heatmapgl"
           }
          ],
          "histogram": [
           {
            "marker": {
             "colorbar": {
              "outlinewidth": 0,
              "ticks": ""
             }
            },
            "type": "histogram"
           }
          ],
          "histogram2d": [
           {
            "colorbar": {
             "outlinewidth": 0,
             "ticks": ""
            },
            "colorscale": [
             [
              0,
              "#0d0887"
             ],
             [
              0.1111111111111111,
              "#46039f"
             ],
             [
              0.2222222222222222,
              "#7201a8"
             ],
             [
              0.3333333333333333,
              "#9c179e"
             ],
             [
              0.4444444444444444,
              "#bd3786"
             ],
             [
              0.5555555555555556,
              "#d8576b"
             ],
             [
              0.6666666666666666,
              "#ed7953"
             ],
             [
              0.7777777777777778,
              "#fb9f3a"
             ],
             [
              0.8888888888888888,
              "#fdca26"
             ],
             [
              1,
              "#f0f921"
             ]
            ],
            "type": "histogram2d"
           }
          ],
          "histogram2dcontour": [
           {
            "colorbar": {
             "outlinewidth": 0,
             "ticks": ""
            },
            "colorscale": [
             [
              0,
              "#0d0887"
             ],
             [
              0.1111111111111111,
              "#46039f"
             ],
             [
              0.2222222222222222,
              "#7201a8"
             ],
             [
              0.3333333333333333,
              "#9c179e"
             ],
             [
              0.4444444444444444,
              "#bd3786"
             ],
             [
              0.5555555555555556,
              "#d8576b"
             ],
             [
              0.6666666666666666,
              "#ed7953"
             ],
             [
              0.7777777777777778,
              "#fb9f3a"
             ],
             [
              0.8888888888888888,
              "#fdca26"
             ],
             [
              1,
              "#f0f921"
             ]
            ],
            "type": "histogram2dcontour"
           }
          ],
          "mesh3d": [
           {
            "colorbar": {
             "outlinewidth": 0,
             "ticks": ""
            },
            "type": "mesh3d"
           }
          ],
          "parcoords": [
           {
            "line": {
             "colorbar": {
              "outlinewidth": 0,
              "ticks": ""
             }
            },
            "type": "parcoords"
           }
          ],
          "pie": [
           {
            "automargin": true,
            "type": "pie"
           }
          ],
          "scatter": [
           {
            "marker": {
             "colorbar": {
              "outlinewidth": 0,
              "ticks": ""
             }
            },
            "type": "scatter"
           }
          ],
          "scatter3d": [
           {
            "line": {
             "colorbar": {
              "outlinewidth": 0,
              "ticks": ""
             }
            },
            "marker": {
             "colorbar": {
              "outlinewidth": 0,
              "ticks": ""
             }
            },
            "type": "scatter3d"
           }
          ],
          "scattercarpet": [
           {
            "marker": {
             "colorbar": {
              "outlinewidth": 0,
              "ticks": ""
             }
            },
            "type": "scattercarpet"
           }
          ],
          "scattergeo": [
           {
            "marker": {
             "colorbar": {
              "outlinewidth": 0,
              "ticks": ""
             }
            },
            "type": "scattergeo"
           }
          ],
          "scattergl": [
           {
            "marker": {
             "colorbar": {
              "outlinewidth": 0,
              "ticks": ""
             }
            },
            "type": "scattergl"
           }
          ],
          "scattermapbox": [
           {
            "marker": {
             "colorbar": {
              "outlinewidth": 0,
              "ticks": ""
             }
            },
            "type": "scattermapbox"
           }
          ],
          "scatterpolar": [
           {
            "marker": {
             "colorbar": {
              "outlinewidth": 0,
              "ticks": ""
             }
            },
            "type": "scatterpolar"
           }
          ],
          "scatterpolargl": [
           {
            "marker": {
             "colorbar": {
              "outlinewidth": 0,
              "ticks": ""
             }
            },
            "type": "scatterpolargl"
           }
          ],
          "scatterternary": [
           {
            "marker": {
             "colorbar": {
              "outlinewidth": 0,
              "ticks": ""
             }
            },
            "type": "scatterternary"
           }
          ],
          "surface": [
           {
            "colorbar": {
             "outlinewidth": 0,
             "ticks": ""
            },
            "colorscale": [
             [
              0,
              "#0d0887"
             ],
             [
              0.1111111111111111,
              "#46039f"
             ],
             [
              0.2222222222222222,
              "#7201a8"
             ],
             [
              0.3333333333333333,
              "#9c179e"
             ],
             [
              0.4444444444444444,
              "#bd3786"
             ],
             [
              0.5555555555555556,
              "#d8576b"
             ],
             [
              0.6666666666666666,
              "#ed7953"
             ],
             [
              0.7777777777777778,
              "#fb9f3a"
             ],
             [
              0.8888888888888888,
              "#fdca26"
             ],
             [
              1,
              "#f0f921"
             ]
            ],
            "type": "surface"
           }
          ],
          "table": [
           {
            "cells": {
             "fill": {
              "color": "#EBF0F8"
             },
             "line": {
              "color": "white"
             }
            },
            "header": {
             "fill": {
              "color": "#C8D4E3"
             },
             "line": {
              "color": "white"
             }
            },
            "type": "table"
           }
          ]
         },
         "layout": {
          "annotationdefaults": {
           "arrowcolor": "#2a3f5f",
           "arrowhead": 0,
           "arrowwidth": 1
          },
          "coloraxis": {
           "colorbar": {
            "outlinewidth": 0,
            "ticks": ""
           }
          },
          "colorscale": {
           "diverging": [
            [
             0,
             "#8e0152"
            ],
            [
             0.1,
             "#c51b7d"
            ],
            [
             0.2,
             "#de77ae"
            ],
            [
             0.3,
             "#f1b6da"
            ],
            [
             0.4,
             "#fde0ef"
            ],
            [
             0.5,
             "#f7f7f7"
            ],
            [
             0.6,
             "#e6f5d0"
            ],
            [
             0.7,
             "#b8e186"
            ],
            [
             0.8,
             "#7fbc41"
            ],
            [
             0.9,
             "#4d9221"
            ],
            [
             1,
             "#276419"
            ]
           ],
           "sequential": [
            [
             0,
             "#0d0887"
            ],
            [
             0.1111111111111111,
             "#46039f"
            ],
            [
             0.2222222222222222,
             "#7201a8"
            ],
            [
             0.3333333333333333,
             "#9c179e"
            ],
            [
             0.4444444444444444,
             "#bd3786"
            ],
            [
             0.5555555555555556,
             "#d8576b"
            ],
            [
             0.6666666666666666,
             "#ed7953"
            ],
            [
             0.7777777777777778,
             "#fb9f3a"
            ],
            [
             0.8888888888888888,
             "#fdca26"
            ],
            [
             1,
             "#f0f921"
            ]
           ],
           "sequentialminus": [
            [
             0,
             "#0d0887"
            ],
            [
             0.1111111111111111,
             "#46039f"
            ],
            [
             0.2222222222222222,
             "#7201a8"
            ],
            [
             0.3333333333333333,
             "#9c179e"
            ],
            [
             0.4444444444444444,
             "#bd3786"
            ],
            [
             0.5555555555555556,
             "#d8576b"
            ],
            [
             0.6666666666666666,
             "#ed7953"
            ],
            [
             0.7777777777777778,
             "#fb9f3a"
            ],
            [
             0.8888888888888888,
             "#fdca26"
            ],
            [
             1,
             "#f0f921"
            ]
           ]
          },
          "colorway": [
           "#636efa",
           "#EF553B",
           "#00cc96",
           "#ab63fa",
           "#FFA15A",
           "#19d3f3",
           "#FF6692",
           "#B6E880",
           "#FF97FF",
           "#FECB52"
          ],
          "font": {
           "color": "#2a3f5f"
          },
          "geo": {
           "bgcolor": "white",
           "lakecolor": "white",
           "landcolor": "#E5ECF6",
           "showlakes": true,
           "showland": true,
           "subunitcolor": "white"
          },
          "hoverlabel": {
           "align": "left"
          },
          "hovermode": "closest",
          "mapbox": {
           "style": "light"
          },
          "paper_bgcolor": "white",
          "plot_bgcolor": "#E5ECF6",
          "polar": {
           "angularaxis": {
            "gridcolor": "white",
            "linecolor": "white",
            "ticks": ""
           },
           "bgcolor": "#E5ECF6",
           "radialaxis": {
            "gridcolor": "white",
            "linecolor": "white",
            "ticks": ""
           }
          },
          "scene": {
           "xaxis": {
            "backgroundcolor": "#E5ECF6",
            "gridcolor": "white",
            "gridwidth": 2,
            "linecolor": "white",
            "showbackground": true,
            "ticks": "",
            "zerolinecolor": "white"
           },
           "yaxis": {
            "backgroundcolor": "#E5ECF6",
            "gridcolor": "white",
            "gridwidth": 2,
            "linecolor": "white",
            "showbackground": true,
            "ticks": "",
            "zerolinecolor": "white"
           },
           "zaxis": {
            "backgroundcolor": "#E5ECF6",
            "gridcolor": "white",
            "gridwidth": 2,
            "linecolor": "white",
            "showbackground": true,
            "ticks": "",
            "zerolinecolor": "white"
           }
          },
          "shapedefaults": {
           "line": {
            "color": "#2a3f5f"
           }
          },
          "ternary": {
           "aaxis": {
            "gridcolor": "white",
            "linecolor": "white",
            "ticks": ""
           },
           "baxis": {
            "gridcolor": "white",
            "linecolor": "white",
            "ticks": ""
           },
           "bgcolor": "#E5ECF6",
           "caxis": {
            "gridcolor": "white",
            "linecolor": "white",
            "ticks": ""
           }
          },
          "title": {
           "x": 0.05
          },
          "xaxis": {
           "automargin": true,
           "gridcolor": "white",
           "linecolor": "white",
           "ticks": "",
           "title": {
            "standoff": 15
           },
           "zerolinecolor": "white",
           "zerolinewidth": 2
          },
          "yaxis": {
           "automargin": true,
           "gridcolor": "white",
           "linecolor": "white",
           "ticks": "",
           "title": {
            "standoff": 15
           },
           "zerolinecolor": "white",
           "zerolinewidth": 2
          }
         }
        },
        "xaxis": {
         "anchor": "y",
         "domain": [
          0,
          1
         ],
         "title": {
          "text": "purchase_price"
         }
        },
        "yaxis": {
         "anchor": "x",
         "domain": [
          0,
          1
         ],
         "title": {
          "text": "count"
         }
        }
       }
      }
     },
     "metadata": {}
    }
   ],
   "source": [
    "import plotly.express as px\n",
    "fig = px.scatter(one_row, x=\"purchase_price\", y=\"count\")\n",
    "fig.show()"
   ]
  },
  {
   "cell_type": "code",
   "execution_count": 39,
   "metadata": {},
   "outputs": [
    {
     "output_type": "execute_result",
     "data": {
      "text/plain": [
       "                                 count   discount  std        min        25%  \\\n",
       "description          day                                                       \n",
       "Biologische knoflook 2018-01-01    6.0  30.434783  0.0  30.434783  30.434783   \n",
       "                     2018-01-03    6.0   0.000000  0.0   0.000000   0.000000   \n",
       "                     2018-01-05    6.0   4.347826  0.0   4.347826   4.347826   \n",
       "                     2018-01-06    5.0   0.000000  0.0   0.000000   0.000000   \n",
       "                     2018-01-07    7.0  30.434783  0.0  30.434783  30.434783   \n",
       "...                                ...        ...  ...        ...        ...   \n",
       "                     2018-12-25    5.0   0.000000  0.0   0.000000   0.000000   \n",
       "                     2018-12-26    7.0   0.000000  0.0   0.000000   0.000000   \n",
       "                     2018-12-28    4.0   0.000000  0.0   0.000000   0.000000   \n",
       "                     2018-12-29    2.0   0.000000  0.0   0.000000   0.000000   \n",
       "                     2018-12-30    2.0   0.000000  0.0   0.000000   0.000000   \n",
       "\n",
       "                                       50%        75%        max     month  \\\n",
       "description          day                                                     \n",
       "Biologische knoflook 2018-01-01  30.434783  30.434783  30.434783   January   \n",
       "                     2018-01-03   0.000000   0.000000   0.000000   January   \n",
       "                     2018-01-05   4.347826   4.347826   4.347826   January   \n",
       "                     2018-01-06   0.000000   0.000000   0.000000   January   \n",
       "                     2018-01-07  30.434783  30.434783  30.434783   January   \n",
       "...                                    ...        ...        ...       ...   \n",
       "                     2018-12-25   0.000000   0.000000   0.000000  December   \n",
       "                     2018-12-26   0.000000   0.000000   0.000000  December   \n",
       "                     2018-12-28   0.000000   0.000000   0.000000  December   \n",
       "                     2018-12-29   0.000000   0.000000   0.000000  December   \n",
       "                     2018-12-30   0.000000   0.000000   0.000000  December   \n",
       "\n",
       "                                              product  day  dayofweek  \\\n",
       "description          day                                                \n",
       "Biologische knoflook 2018-01-01  Biologische knoflook    1     Monday   \n",
       "                     2018-01-03  Biologische knoflook    3  Wednesday   \n",
       "                     2018-01-05  Biologische knoflook    5     Friday   \n",
       "                     2018-01-06  Biologische knoflook    6   Saturday   \n",
       "                     2018-01-07  Biologische knoflook    7     Sunday   \n",
       "...                                               ...  ...        ...   \n",
       "                     2018-12-25  Biologische knoflook  359    Tuesday   \n",
       "                     2018-12-26  Biologische knoflook  360  Wednesday   \n",
       "                     2018-12-28  Biologische knoflook  362     Friday   \n",
       "                     2018-12-29  Biologische knoflook  363   Saturday   \n",
       "                     2018-12-30  Biologische knoflook  364     Sunday   \n",
       "\n",
       "                                 purchase_price  std_sales_price  discount_2  \\\n",
       "description          day                                                       \n",
       "Biologische knoflook 2018-01-01            0.48             0.69  926.275992   \n",
       "                     2018-01-03            0.69             0.69    0.000000   \n",
       "                     2018-01-05            0.66             0.69   18.903592   \n",
       "                     2018-01-06            0.69             0.69    0.000000   \n",
       "                     2018-01-07            0.48             0.69  926.275992   \n",
       "...                                         ...              ...         ...   \n",
       "                     2018-12-25            0.69             0.69    0.000000   \n",
       "                     2018-12-26            0.69             0.69    0.000000   \n",
       "                     2018-12-28            0.69             0.69    0.000000   \n",
       "                     2018-12-29            0.69             0.69    0.000000   \n",
       "                     2018-12-30            0.69             0.69    0.000000   \n",
       "\n",
       "                                 prev_day_purchases        days  on_discount  \\\n",
       "description          day                                                       \n",
       "Biologische knoflook 2018-01-01                 4.0    1/1/2018           15   \n",
       "                     2018-01-03                 6.0    3/1/2018            8   \n",
       "                     2018-01-05                 1.0    5/1/2018           16   \n",
       "                     2018-01-06                 6.0    6/1/2018           11   \n",
       "                     2018-01-07                 5.0    7/1/2018            4   \n",
       "...                                             ...         ...          ...   \n",
       "                     2018-12-25                 2.0  25-12-2018           15   \n",
       "                     2018-12-26                 5.0  26-12-2018           13   \n",
       "                     2018-12-28                 1.0  28-12-2018           13   \n",
       "                     2018-12-29                 4.0  29-12-2018           12   \n",
       "                     2018-12-30                 2.0  30-12-2018           13   \n",
       "\n",
       "                                 predicted  \n",
       "description          day                    \n",
       "Biologische knoflook 2018-01-01   7.555760  \n",
       "                     2018-01-03   4.511195  \n",
       "                     2018-01-05   4.013872  \n",
       "                     2018-01-06   4.034979  \n",
       "                     2018-01-07   8.226951  \n",
       "...                                    ...  \n",
       "                     2018-12-25   4.511382  \n",
       "                     2018-12-26   3.908512  \n",
       "                     2018-12-28   4.268667  \n",
       "                     2018-12-29   4.405963  \n",
       "                     2018-12-30   4.411930  \n",
       "\n",
       "[308 rows x 19 columns]"
      ],
      "text/html": "<div>\n<style scoped>\n    .dataframe tbody tr th:only-of-type {\n        vertical-align: middle;\n    }\n\n    .dataframe tbody tr th {\n        vertical-align: top;\n    }\n\n    .dataframe thead th {\n        text-align: right;\n    }\n</style>\n<table border=\"1\" class=\"dataframe\">\n  <thead>\n    <tr style=\"text-align: right;\">\n      <th></th>\n      <th></th>\n      <th>count</th>\n      <th>discount</th>\n      <th>std</th>\n      <th>min</th>\n      <th>25%</th>\n      <th>50%</th>\n      <th>75%</th>\n      <th>max</th>\n      <th>month</th>\n      <th>product</th>\n      <th>day</th>\n      <th>dayofweek</th>\n      <th>purchase_price</th>\n      <th>std_sales_price</th>\n      <th>discount_2</th>\n      <th>prev_day_purchases</th>\n      <th>days</th>\n      <th>on_discount</th>\n      <th>predicted</th>\n    </tr>\n    <tr>\n      <th>description</th>\n      <th>day</th>\n      <th></th>\n      <th></th>\n      <th></th>\n      <th></th>\n      <th></th>\n      <th></th>\n      <th></th>\n      <th></th>\n      <th></th>\n      <th></th>\n      <th></th>\n      <th></th>\n      <th></th>\n      <th></th>\n      <th></th>\n      <th></th>\n      <th></th>\n      <th></th>\n      <th></th>\n    </tr>\n  </thead>\n  <tbody>\n    <tr>\n      <th rowspan=\"11\" valign=\"top\">Biologische knoflook</th>\n      <th>2018-01-01</th>\n      <td>6.0</td>\n      <td>30.434783</td>\n      <td>0.0</td>\n      <td>30.434783</td>\n      <td>30.434783</td>\n      <td>30.434783</td>\n      <td>30.434783</td>\n      <td>30.434783</td>\n      <td>January</td>\n      <td>Biologische knoflook</td>\n      <td>1</td>\n      <td>Monday</td>\n      <td>0.48</td>\n      <td>0.69</td>\n      <td>926.275992</td>\n      <td>4.0</td>\n      <td>1/1/2018</td>\n      <td>15</td>\n      <td>7.555760</td>\n    </tr>\n    <tr>\n      <th>2018-01-03</th>\n      <td>6.0</td>\n      <td>0.000000</td>\n      <td>0.0</td>\n      <td>0.000000</td>\n      <td>0.000000</td>\n      <td>0.000000</td>\n      <td>0.000000</td>\n      <td>0.000000</td>\n      <td>January</td>\n      <td>Biologische knoflook</td>\n      <td>3</td>\n      <td>Wednesday</td>\n      <td>0.69</td>\n      <td>0.69</td>\n      <td>0.000000</td>\n      <td>6.0</td>\n      <td>3/1/2018</td>\n      <td>8</td>\n      <td>4.511195</td>\n    </tr>\n    <tr>\n      <th>2018-01-05</th>\n      <td>6.0</td>\n      <td>4.347826</td>\n      <td>0.0</td>\n      <td>4.347826</td>\n      <td>4.347826</td>\n      <td>4.347826</td>\n      <td>4.347826</td>\n      <td>4.347826</td>\n      <td>January</td>\n      <td>Biologische knoflook</td>\n      <td>5</td>\n      <td>Friday</td>\n      <td>0.66</td>\n      <td>0.69</td>\n      <td>18.903592</td>\n      <td>1.0</td>\n      <td>5/1/2018</td>\n      <td>16</td>\n      <td>4.013872</td>\n    </tr>\n    <tr>\n      <th>2018-01-06</th>\n      <td>5.0</td>\n      <td>0.000000</td>\n      <td>0.0</td>\n      <td>0.000000</td>\n      <td>0.000000</td>\n      <td>0.000000</td>\n      <td>0.000000</td>\n      <td>0.000000</td>\n      <td>January</td>\n      <td>Biologische knoflook</td>\n      <td>6</td>\n      <td>Saturday</td>\n      <td>0.69</td>\n      <td>0.69</td>\n      <td>0.000000</td>\n      <td>6.0</td>\n      <td>6/1/2018</td>\n      <td>11</td>\n      <td>4.034979</td>\n    </tr>\n    <tr>\n      <th>2018-01-07</th>\n      <td>7.0</td>\n      <td>30.434783</td>\n      <td>0.0</td>\n      <td>30.434783</td>\n      <td>30.434783</td>\n      <td>30.434783</td>\n      <td>30.434783</td>\n      <td>30.434783</td>\n      <td>January</td>\n      <td>Biologische knoflook</td>\n      <td>7</td>\n      <td>Sunday</td>\n      <td>0.48</td>\n      <td>0.69</td>\n      <td>926.275992</td>\n      <td>5.0</td>\n      <td>7/1/2018</td>\n      <td>4</td>\n      <td>8.226951</td>\n    </tr>\n    <tr>\n      <th>...</th>\n      <td>...</td>\n      <td>...</td>\n      <td>...</td>\n      <td>...</td>\n      <td>...</td>\n      <td>...</td>\n      <td>...</td>\n      <td>...</td>\n      <td>...</td>\n      <td>...</td>\n      <td>...</td>\n      <td>...</td>\n      <td>...</td>\n      <td>...</td>\n      <td>...</td>\n      <td>...</td>\n      <td>...</td>\n      <td>...</td>\n      <td>...</td>\n    </tr>\n    <tr>\n      <th>2018-12-25</th>\n      <td>5.0</td>\n      <td>0.000000</td>\n      <td>0.0</td>\n      <td>0.000000</td>\n      <td>0.000000</td>\n      <td>0.000000</td>\n      <td>0.000000</td>\n      <td>0.000000</td>\n      <td>December</td>\n      <td>Biologische knoflook</td>\n      <td>359</td>\n      <td>Tuesday</td>\n      <td>0.69</td>\n      <td>0.69</td>\n      <td>0.000000</td>\n      <td>2.0</td>\n      <td>25-12-2018</td>\n      <td>15</td>\n      <td>4.511382</td>\n    </tr>\n    <tr>\n      <th>2018-12-26</th>\n      <td>7.0</td>\n      <td>0.000000</td>\n      <td>0.0</td>\n      <td>0.000000</td>\n      <td>0.000000</td>\n      <td>0.000000</td>\n      <td>0.000000</td>\n      <td>0.000000</td>\n      <td>December</td>\n      <td>Biologische knoflook</td>\n      <td>360</td>\n      <td>Wednesday</td>\n      <td>0.69</td>\n      <td>0.69</td>\n      <td>0.000000</td>\n      <td>5.0</td>\n      <td>26-12-2018</td>\n      <td>13</td>\n      <td>3.908512</td>\n    </tr>\n    <tr>\n      <th>2018-12-28</th>\n      <td>4.0</td>\n      <td>0.000000</td>\n      <td>0.0</td>\n      <td>0.000000</td>\n      <td>0.000000</td>\n      <td>0.000000</td>\n      <td>0.000000</td>\n      <td>0.000000</td>\n      <td>December</td>\n      <td>Biologische knoflook</td>\n      <td>362</td>\n      <td>Friday</td>\n      <td>0.69</td>\n      <td>0.69</td>\n      <td>0.000000</td>\n      <td>1.0</td>\n      <td>28-12-2018</td>\n      <td>13</td>\n      <td>4.268667</td>\n    </tr>\n    <tr>\n      <th>2018-12-29</th>\n      <td>2.0</td>\n      <td>0.000000</td>\n      <td>0.0</td>\n      <td>0.000000</td>\n      <td>0.000000</td>\n      <td>0.000000</td>\n      <td>0.000000</td>\n      <td>0.000000</td>\n      <td>December</td>\n      <td>Biologische knoflook</td>\n      <td>363</td>\n      <td>Saturday</td>\n      <td>0.69</td>\n      <td>0.69</td>\n      <td>0.000000</td>\n      <td>4.0</td>\n      <td>29-12-2018</td>\n      <td>12</td>\n      <td>4.405963</td>\n    </tr>\n    <tr>\n      <th>2018-12-30</th>\n      <td>2.0</td>\n      <td>0.000000</td>\n      <td>0.0</td>\n      <td>0.000000</td>\n      <td>0.000000</td>\n      <td>0.000000</td>\n      <td>0.000000</td>\n      <td>0.000000</td>\n      <td>December</td>\n      <td>Biologische knoflook</td>\n      <td>364</td>\n      <td>Sunday</td>\n      <td>0.69</td>\n      <td>0.69</td>\n      <td>0.000000</td>\n      <td>2.0</td>\n      <td>30-12-2018</td>\n      <td>13</td>\n      <td>4.411930</td>\n    </tr>\n  </tbody>\n</table>\n<p>308 rows × 19 columns</p>\n</div>"
     },
     "metadata": {},
     "execution_count": 39
    }
   ],
   "source": [
    "one_row"
   ]
  },
  {
   "cell_type": "code",
   "execution_count": 25,
   "metadata": {},
   "outputs": [
    {
     "output_type": "execute_result",
     "data": {
      "text/plain": [
       "                       customer                                              \\\n",
       "                          count          mean        std      min       25%   \n",
       "description  day                                                              \n",
       "Aardbeien    1/1/2018       9.0     38.333333  16.000000      7.0     31.00   \n",
       "             1/10/2018      6.0  15646.833333  23.819460  15621.0  15625.75   \n",
       "             1/11/2018      6.0  17345.666667  11.075498  17333.0  17337.50   \n",
       "             1/12/2018      5.0  19071.400000  11.436783  19054.0  19071.00   \n",
       "             1/2/2018       8.0   1720.375000  13.037720   1704.0   1709.50   \n",
       "...                         ...           ...        ...      ...       ...   \n",
       "rundervinken 9/5/2018       1.0   7448.000000        NaN   7448.0   7448.00   \n",
       "             9/6/2018       7.0   9285.428571  17.709293   9257.0   9276.50   \n",
       "             9/7/2018       7.0  10946.142857  19.038807  10914.0  10936.50   \n",
       "             9/8/2018       6.0  12685.833333  10.457852  12669.0  12681.00   \n",
       "             9/9/2018       2.0  14419.500000   6.363961  14415.0  14417.25   \n",
       "\n",
       "                                                   bank acount                \\\n",
       "                            50%       75%      max       count          mean   \n",
       "description  day                                                               \n",
       "Aardbeien    1/1/2018      39.0     46.00     60.0         9.0  6.196480e+07   \n",
       "             1/10/2018  15649.0  15667.00  15671.0         6.0  7.127359e+07   \n",
       "             1/11/2018  17348.0  17348.00  17363.0         6.0  4.081008e+07   \n",
       "             1/12/2018  19072.0  19074.00  19086.0         3.0  3.525882e+07   \n",
       "             1/2/2018    1721.0   1729.75   1740.0         7.0  6.307131e+07   \n",
       "...                         ...       ...      ...         ...           ...   \n",
       "rundervinken 9/5/2018    7448.0   7448.00   7448.0         1.0  7.380519e+07   \n",
       "             9/6/2018    9288.0   9296.50   9307.0         5.0  3.724918e+07   \n",
       "             9/7/2018   10947.0  10959.50  10970.0         7.0  5.381642e+07   \n",
       "             9/8/2018   12687.5  12692.50  12698.0         4.0  3.107016e+07   \n",
       "             9/9/2018   14419.5  14421.75  14424.0         2.0  2.884079e+07   \n",
       "\n",
       "                        ... basic      on_discount                           \\\n",
       "                        ...   75%  max       count mean  std  min  25%  50%   \n",
       "description  day        ...                                                   \n",
       "Aardbeien    1/1/2018   ...   0.0  0.0         9.0  0.0  0.0  0.0  0.0  0.0   \n",
       "             1/10/2018  ...   0.0  0.0         6.0  0.0  0.0  0.0  0.0  0.0   \n",
       "             1/11/2018  ...   0.0  0.0         6.0  0.0  0.0  0.0  0.0  0.0   \n",
       "             1/12/2018  ...   0.0  0.0         5.0  0.0  0.0  0.0  0.0  0.0   \n",
       "             1/2/2018   ...   0.0  0.0         8.0  1.0  0.0  1.0  1.0  1.0   \n",
       "...                     ...   ...  ...         ...  ...  ...  ...  ...  ...   \n",
       "rundervinken 9/5/2018   ...   0.0  0.0         1.0  0.0  NaN  0.0  0.0  0.0   \n",
       "             9/6/2018   ...   0.0  0.0         7.0  0.0  0.0  0.0  0.0  0.0   \n",
       "             9/7/2018   ...   0.0  0.0         7.0  0.0  0.0  0.0  0.0  0.0   \n",
       "             9/8/2018   ...   0.0  0.0         6.0  0.0  0.0  0.0  0.0  0.0   \n",
       "             9/9/2018   ...   0.0  0.0         2.0  0.0  0.0  0.0  0.0  0.0   \n",
       "\n",
       "                                  \n",
       "                        75%  max  \n",
       "description  day                  \n",
       "Aardbeien    1/1/2018   0.0  0.0  \n",
       "             1/10/2018  0.0  0.0  \n",
       "             1/11/2018  0.0  0.0  \n",
       "             1/12/2018  0.0  0.0  \n",
       "             1/2/2018   1.0  1.0  \n",
       "...                     ...  ...  \n",
       "rundervinken 9/5/2018   0.0  0.0  \n",
       "             9/6/2018   0.0  0.0  \n",
       "             9/7/2018   0.0  0.0  \n",
       "             9/8/2018   0.0  0.0  \n",
       "             9/9/2018   0.0  0.0  \n",
       "\n",
       "[53181 rows x 56 columns]"
      ],
      "text/html": "<div>\n<style scoped>\n    .dataframe tbody tr th:only-of-type {\n        vertical-align: middle;\n    }\n\n    .dataframe tbody tr th {\n        vertical-align: top;\n    }\n\n    .dataframe thead tr th {\n        text-align: left;\n    }\n\n    .dataframe thead tr:last-of-type th {\n        text-align: right;\n    }\n</style>\n<table border=\"1\" class=\"dataframe\">\n  <thead>\n    <tr>\n      <th></th>\n      <th></th>\n      <th colspan=\"8\" halign=\"left\">customer</th>\n      <th colspan=\"2\" halign=\"left\">bank acount</th>\n      <th>...</th>\n      <th colspan=\"2\" halign=\"left\">basic</th>\n      <th colspan=\"8\" halign=\"left\">on_discount</th>\n    </tr>\n    <tr>\n      <th></th>\n      <th></th>\n      <th>count</th>\n      <th>mean</th>\n      <th>std</th>\n      <th>min</th>\n      <th>25%</th>\n      <th>50%</th>\n      <th>75%</th>\n      <th>max</th>\n      <th>count</th>\n      <th>mean</th>\n      <th>...</th>\n      <th>75%</th>\n      <th>max</th>\n      <th>count</th>\n      <th>mean</th>\n      <th>std</th>\n      <th>min</th>\n      <th>25%</th>\n      <th>50%</th>\n      <th>75%</th>\n      <th>max</th>\n    </tr>\n    <tr>\n      <th>description</th>\n      <th>day</th>\n      <th></th>\n      <th></th>\n      <th></th>\n      <th></th>\n      <th></th>\n      <th></th>\n      <th></th>\n      <th></th>\n      <th></th>\n      <th></th>\n      <th></th>\n      <th></th>\n      <th></th>\n      <th></th>\n      <th></th>\n      <th></th>\n      <th></th>\n      <th></th>\n      <th></th>\n      <th></th>\n      <th></th>\n    </tr>\n  </thead>\n  <tbody>\n    <tr>\n      <th rowspan=\"5\" valign=\"top\">Aardbeien</th>\n      <th>1/1/2018</th>\n      <td>9.0</td>\n      <td>38.333333</td>\n      <td>16.000000</td>\n      <td>7.0</td>\n      <td>31.00</td>\n      <td>39.0</td>\n      <td>46.00</td>\n      <td>60.0</td>\n      <td>9.0</td>\n      <td>6.196480e+07</td>\n      <td>...</td>\n      <td>0.0</td>\n      <td>0.0</td>\n      <td>9.0</td>\n      <td>0.0</td>\n      <td>0.0</td>\n      <td>0.0</td>\n      <td>0.0</td>\n      <td>0.0</td>\n      <td>0.0</td>\n      <td>0.0</td>\n    </tr>\n    <tr>\n      <th>1/10/2018</th>\n      <td>6.0</td>\n      <td>15646.833333</td>\n      <td>23.819460</td>\n      <td>15621.0</td>\n      <td>15625.75</td>\n      <td>15649.0</td>\n      <td>15667.00</td>\n      <td>15671.0</td>\n      <td>6.0</td>\n      <td>7.127359e+07</td>\n      <td>...</td>\n      <td>0.0</td>\n      <td>0.0</td>\n      <td>6.0</td>\n      <td>0.0</td>\n      <td>0.0</td>\n      <td>0.0</td>\n      <td>0.0</td>\n      <td>0.0</td>\n      <td>0.0</td>\n      <td>0.0</td>\n    </tr>\n    <tr>\n      <th>1/11/2018</th>\n      <td>6.0</td>\n      <td>17345.666667</td>\n      <td>11.075498</td>\n      <td>17333.0</td>\n      <td>17337.50</td>\n      <td>17348.0</td>\n      <td>17348.00</td>\n      <td>17363.0</td>\n      <td>6.0</td>\n      <td>4.081008e+07</td>\n      <td>...</td>\n      <td>0.0</td>\n      <td>0.0</td>\n      <td>6.0</td>\n      <td>0.0</td>\n      <td>0.0</td>\n      <td>0.0</td>\n      <td>0.0</td>\n      <td>0.0</td>\n      <td>0.0</td>\n      <td>0.0</td>\n    </tr>\n    <tr>\n      <th>1/12/2018</th>\n      <td>5.0</td>\n      <td>19071.400000</td>\n      <td>11.436783</td>\n      <td>19054.0</td>\n      <td>19071.00</td>\n      <td>19072.0</td>\n      <td>19074.00</td>\n      <td>19086.0</td>\n      <td>3.0</td>\n      <td>3.525882e+07</td>\n      <td>...</td>\n      <td>0.0</td>\n      <td>0.0</td>\n      <td>5.0</td>\n      <td>0.0</td>\n      <td>0.0</td>\n      <td>0.0</td>\n      <td>0.0</td>\n      <td>0.0</td>\n      <td>0.0</td>\n      <td>0.0</td>\n    </tr>\n    <tr>\n      <th>1/2/2018</th>\n      <td>8.0</td>\n      <td>1720.375000</td>\n      <td>13.037720</td>\n      <td>1704.0</td>\n      <td>1709.50</td>\n      <td>1721.0</td>\n      <td>1729.75</td>\n      <td>1740.0</td>\n      <td>7.0</td>\n      <td>6.307131e+07</td>\n      <td>...</td>\n      <td>0.0</td>\n      <td>0.0</td>\n      <td>8.0</td>\n      <td>1.0</td>\n      <td>0.0</td>\n      <td>1.0</td>\n      <td>1.0</td>\n      <td>1.0</td>\n      <td>1.0</td>\n      <td>1.0</td>\n    </tr>\n    <tr>\n      <th>...</th>\n      <th>...</th>\n      <td>...</td>\n      <td>...</td>\n      <td>...</td>\n      <td>...</td>\n      <td>...</td>\n      <td>...</td>\n      <td>...</td>\n      <td>...</td>\n      <td>...</td>\n      <td>...</td>\n      <td>...</td>\n      <td>...</td>\n      <td>...</td>\n      <td>...</td>\n      <td>...</td>\n      <td>...</td>\n      <td>...</td>\n      <td>...</td>\n      <td>...</td>\n      <td>...</td>\n      <td>...</td>\n    </tr>\n    <tr>\n      <th rowspan=\"5\" valign=\"top\">rundervinken</th>\n      <th>9/5/2018</th>\n      <td>1.0</td>\n      <td>7448.000000</td>\n      <td>NaN</td>\n      <td>7448.0</td>\n      <td>7448.00</td>\n      <td>7448.0</td>\n      <td>7448.00</td>\n      <td>7448.0</td>\n      <td>1.0</td>\n      <td>7.380519e+07</td>\n      <td>...</td>\n      <td>0.0</td>\n      <td>0.0</td>\n      <td>1.0</td>\n      <td>0.0</td>\n      <td>NaN</td>\n      <td>0.0</td>\n      <td>0.0</td>\n      <td>0.0</td>\n      <td>0.0</td>\n      <td>0.0</td>\n    </tr>\n    <tr>\n      <th>9/6/2018</th>\n      <td>7.0</td>\n      <td>9285.428571</td>\n      <td>17.709293</td>\n      <td>9257.0</td>\n      <td>9276.50</td>\n      <td>9288.0</td>\n      <td>9296.50</td>\n      <td>9307.0</td>\n      <td>5.0</td>\n      <td>3.724918e+07</td>\n      <td>...</td>\n      <td>0.0</td>\n      <td>0.0</td>\n      <td>7.0</td>\n      <td>0.0</td>\n      <td>0.0</td>\n      <td>0.0</td>\n      <td>0.0</td>\n      <td>0.0</td>\n      <td>0.0</td>\n      <td>0.0</td>\n    </tr>\n    <tr>\n      <th>9/7/2018</th>\n      <td>7.0</td>\n      <td>10946.142857</td>\n      <td>19.038807</td>\n      <td>10914.0</td>\n      <td>10936.50</td>\n      <td>10947.0</td>\n      <td>10959.50</td>\n      <td>10970.0</td>\n      <td>7.0</td>\n      <td>5.381642e+07</td>\n      <td>...</td>\n      <td>0.0</td>\n      <td>0.0</td>\n      <td>7.0</td>\n      <td>0.0</td>\n      <td>0.0</td>\n      <td>0.0</td>\n      <td>0.0</td>\n      <td>0.0</td>\n      <td>0.0</td>\n      <td>0.0</td>\n    </tr>\n    <tr>\n      <th>9/8/2018</th>\n      <td>6.0</td>\n      <td>12685.833333</td>\n      <td>10.457852</td>\n      <td>12669.0</td>\n      <td>12681.00</td>\n      <td>12687.5</td>\n      <td>12692.50</td>\n      <td>12698.0</td>\n      <td>4.0</td>\n      <td>3.107016e+07</td>\n      <td>...</td>\n      <td>0.0</td>\n      <td>0.0</td>\n      <td>6.0</td>\n      <td>0.0</td>\n      <td>0.0</td>\n      <td>0.0</td>\n      <td>0.0</td>\n      <td>0.0</td>\n      <td>0.0</td>\n      <td>0.0</td>\n    </tr>\n    <tr>\n      <th>9/9/2018</th>\n      <td>2.0</td>\n      <td>14419.500000</td>\n      <td>6.363961</td>\n      <td>14415.0</td>\n      <td>14417.25</td>\n      <td>14419.5</td>\n      <td>14421.75</td>\n      <td>14424.0</td>\n      <td>2.0</td>\n      <td>2.884079e+07</td>\n      <td>...</td>\n      <td>0.0</td>\n      <td>0.0</td>\n      <td>2.0</td>\n      <td>0.0</td>\n      <td>0.0</td>\n      <td>0.0</td>\n      <td>0.0</td>\n      <td>0.0</td>\n      <td>0.0</td>\n      <td>0.0</td>\n    </tr>\n  </tbody>\n</table>\n<p>53181 rows × 56 columns</p>\n</div>"
     },
     "metadata": {},
     "execution_count": 25
    }
   ],
   "source": [
    "transactions[\"on_discount\"] = np.where(transactions[\"std_sales_price\"] == transactions[\"purchase_price\"], 0, 1)\n",
    "grouped_transactions = transactions.groupby([\"description\", \"day\"]).describe()\n",
    "grouped_transactions"
   ]
  },
  {
   "cell_type": "code",
   "execution_count": 45,
   "metadata": {},
   "outputs": [],
   "source": [
    "grouped_transactions[\"day\"] = [grouped_transactions.index[i][1] for i in range(grouped_transactions.shape[0])]\n",
    "grouped_transactions[\"on_discount\"] = np.where(grouped_transactions[\"std_sales_price\"][\"mean\"] == grouped_transactions[\"purchase_price\"][\"mean\"], 0, 1)\n",
    "grouped_transactions[\"on_discount\"][\"count\"]\n",
    "\n",
    "df_discounts = pd.DataFrame({\"days\":[grouped_transactions.index[i][1] for i in range(grouped_transactions.shape[0])], \"on_discount\":grouped_transactions[\"on_discount\"][\"count\"]})\n",
    "discounts_per_day = df_discounts.groupby(\"days\").sum()\n",
    "discounts_per_day[\"day\"] = pd.to_datetime(discounts_per_day.index, dayfirst=True)\n",
    "discounts_per_day.to_csv(\"nr_discounts_per_day.csv\")"
   ]
  },
  {
   "cell_type": "code",
   "execution_count": 49,
   "metadata": {},
   "outputs": [],
   "source": [
    "new_df = prepared_transactions.join(discounts_per_day.set_index(\"day\"))"
   ]
  },
  {
   "cell_type": "code",
   "execution_count": 50,
   "metadata": {},
   "outputs": [
    {
     "output_type": "execute_result",
     "data": {
      "text/plain": [
       "                                  count  discount  std  min  25%  50%  75%  \\\n",
       "description           day                                                    \n",
       "Biologische Bloemkool 2018-01-01    5.0       0.0  0.0  0.0  0.0  0.0  0.0   \n",
       "                      2018-01-04    4.0       0.0  0.0  0.0  0.0  0.0  0.0   \n",
       "                      2018-01-05    6.0       0.0  0.0  0.0  0.0  0.0  0.0   \n",
       "                      2018-01-07    9.0       0.0  0.0  0.0  0.0  0.0  0.0   \n",
       "                      2018-01-08    2.0       0.0  0.0  0.0  0.0  0.0  0.0   \n",
       "...                                 ...       ...  ...  ...  ...  ...  ...   \n",
       "Biologische rode kool 2018-12-25    3.0       0.0  0.0  0.0  0.0  0.0  0.0   \n",
       "                      2018-12-26    7.0       0.0  0.0  0.0  0.0  0.0  0.0   \n",
       "                      2018-12-28    5.0       0.0  0.0  0.0  0.0  0.0  0.0   \n",
       "                      2018-12-29    3.0       0.0  0.0  0.0  0.0  0.0  0.0   \n",
       "                      2018-12-30    3.0       0.0  0.0  0.0  0.0  0.0  0.0   \n",
       "\n",
       "                                  max     month                product  day  \\\n",
       "description           day                                                     \n",
       "Biologische Bloemkool 2018-01-01  0.0   January  Biologische Bloemkool    1   \n",
       "                      2018-01-04  0.0   January  Biologische Bloemkool    4   \n",
       "                      2018-01-05  0.0   January  Biologische Bloemkool    5   \n",
       "                      2018-01-07  0.0   January  Biologische Bloemkool    7   \n",
       "                      2018-01-08  0.0   January  Biologische Bloemkool    8   \n",
       "...                               ...       ...                    ...  ...   \n",
       "Biologische rode kool 2018-12-25  0.0  December  Biologische rode kool  359   \n",
       "                      2018-12-26  0.0  December  Biologische rode kool  360   \n",
       "                      2018-12-28  0.0  December  Biologische rode kool  362   \n",
       "                      2018-12-29  0.0  December  Biologische rode kool  363   \n",
       "                      2018-12-30  0.0  December  Biologische rode kool  364   \n",
       "\n",
       "                                  dayofweek  purchase_price  discount_2  \\\n",
       "description           day                                                 \n",
       "Biologische Bloemkool 2018-01-01     Monday            2.39         0.0   \n",
       "                      2018-01-04   Thursday            2.39         0.0   \n",
       "                      2018-01-05     Friday            2.39         0.0   \n",
       "                      2018-01-07     Sunday            2.39         0.0   \n",
       "                      2018-01-08     Monday            2.39         0.0   \n",
       "...                                     ...             ...         ...   \n",
       "Biologische rode kool 2018-12-25    Tuesday            1.29         0.0   \n",
       "                      2018-12-26  Wednesday            1.29         0.0   \n",
       "                      2018-12-28     Friday            1.29         0.0   \n",
       "                      2018-12-29   Saturday            1.29         0.0   \n",
       "                      2018-12-30     Sunday            1.29         0.0   \n",
       "\n",
       "                                  prev_day_purchases  prev_day_pp  \\\n",
       "description           day                                           \n",
       "Biologische Bloemkool 2018-01-01                 0.0          NaN   \n",
       "                      2018-01-04                 1.0         2.39   \n",
       "                      2018-01-05                 4.0         2.39   \n",
       "                      2018-01-07                 1.0         2.39   \n",
       "                      2018-01-08                 9.0         2.39   \n",
       "...                                              ...          ...   \n",
       "Biologische rode kool 2018-12-25                 4.0         1.29   \n",
       "                      2018-12-26                 3.0         1.29   \n",
       "                      2018-12-28                 1.0         1.29   \n",
       "                      2018-12-29                 5.0         1.29   \n",
       "                      2018-12-30                 3.0         1.29   \n",
       "\n",
       "                                  discount_prev_day  on_discount  \n",
       "description           day                                         \n",
       "Biologische Bloemkool 2018-01-01                  1           15  \n",
       "                      2018-01-04                  0           16  \n",
       "                      2018-01-05                  0           16  \n",
       "                      2018-01-07                  0            4  \n",
       "                      2018-01-08                  0           22  \n",
       "...                                             ...          ...  \n",
       "Biologische rode kool 2018-12-25                  0           15  \n",
       "                      2018-12-26                  1           13  \n",
       "                      2018-12-28                  1           13  \n",
       "                      2018-12-29                  0           12  \n",
       "                      2018-12-30                  0           13  \n",
       "\n",
       "[2680 rows x 18 columns]"
      ],
      "text/html": "<div>\n<style scoped>\n    .dataframe tbody tr th:only-of-type {\n        vertical-align: middle;\n    }\n\n    .dataframe tbody tr th {\n        vertical-align: top;\n    }\n\n    .dataframe thead th {\n        text-align: right;\n    }\n</style>\n<table border=\"1\" class=\"dataframe\">\n  <thead>\n    <tr style=\"text-align: right;\">\n      <th></th>\n      <th></th>\n      <th>count</th>\n      <th>discount</th>\n      <th>std</th>\n      <th>min</th>\n      <th>25%</th>\n      <th>50%</th>\n      <th>75%</th>\n      <th>max</th>\n      <th>month</th>\n      <th>product</th>\n      <th>day</th>\n      <th>dayofweek</th>\n      <th>purchase_price</th>\n      <th>discount_2</th>\n      <th>prev_day_purchases</th>\n      <th>prev_day_pp</th>\n      <th>discount_prev_day</th>\n      <th>on_discount</th>\n    </tr>\n    <tr>\n      <th>description</th>\n      <th>day</th>\n      <th></th>\n      <th></th>\n      <th></th>\n      <th></th>\n      <th></th>\n      <th></th>\n      <th></th>\n      <th></th>\n      <th></th>\n      <th></th>\n      <th></th>\n      <th></th>\n      <th></th>\n      <th></th>\n      <th></th>\n      <th></th>\n      <th></th>\n      <th></th>\n    </tr>\n  </thead>\n  <tbody>\n    <tr>\n      <th rowspan=\"5\" valign=\"top\">Biologische Bloemkool</th>\n      <th>2018-01-01</th>\n      <td>5.0</td>\n      <td>0.0</td>\n      <td>0.0</td>\n      <td>0.0</td>\n      <td>0.0</td>\n      <td>0.0</td>\n      <td>0.0</td>\n      <td>0.0</td>\n      <td>January</td>\n      <td>Biologische Bloemkool</td>\n      <td>1</td>\n      <td>Monday</td>\n      <td>2.39</td>\n      <td>0.0</td>\n      <td>0.0</td>\n      <td>NaN</td>\n      <td>1</td>\n      <td>15</td>\n    </tr>\n    <tr>\n      <th>2018-01-04</th>\n      <td>4.0</td>\n      <td>0.0</td>\n      <td>0.0</td>\n      <td>0.0</td>\n      <td>0.0</td>\n      <td>0.0</td>\n      <td>0.0</td>\n      <td>0.0</td>\n      <td>January</td>\n      <td>Biologische Bloemkool</td>\n      <td>4</td>\n      <td>Thursday</td>\n      <td>2.39</td>\n      <td>0.0</td>\n      <td>1.0</td>\n      <td>2.39</td>\n      <td>0</td>\n      <td>16</td>\n    </tr>\n    <tr>\n      <th>2018-01-05</th>\n      <td>6.0</td>\n      <td>0.0</td>\n      <td>0.0</td>\n      <td>0.0</td>\n      <td>0.0</td>\n      <td>0.0</td>\n      <td>0.0</td>\n      <td>0.0</td>\n      <td>January</td>\n      <td>Biologische Bloemkool</td>\n      <td>5</td>\n      <td>Friday</td>\n      <td>2.39</td>\n      <td>0.0</td>\n      <td>4.0</td>\n      <td>2.39</td>\n      <td>0</td>\n      <td>16</td>\n    </tr>\n    <tr>\n      <th>2018-01-07</th>\n      <td>9.0</td>\n      <td>0.0</td>\n      <td>0.0</td>\n      <td>0.0</td>\n      <td>0.0</td>\n      <td>0.0</td>\n      <td>0.0</td>\n      <td>0.0</td>\n      <td>January</td>\n      <td>Biologische Bloemkool</td>\n      <td>7</td>\n      <td>Sunday</td>\n      <td>2.39</td>\n      <td>0.0</td>\n      <td>1.0</td>\n      <td>2.39</td>\n      <td>0</td>\n      <td>4</td>\n    </tr>\n    <tr>\n      <th>2018-01-08</th>\n      <td>2.0</td>\n      <td>0.0</td>\n      <td>0.0</td>\n      <td>0.0</td>\n      <td>0.0</td>\n      <td>0.0</td>\n      <td>0.0</td>\n      <td>0.0</td>\n      <td>January</td>\n      <td>Biologische Bloemkool</td>\n      <td>8</td>\n      <td>Monday</td>\n      <td>2.39</td>\n      <td>0.0</td>\n      <td>9.0</td>\n      <td>2.39</td>\n      <td>0</td>\n      <td>22</td>\n    </tr>\n    <tr>\n      <th>...</th>\n      <th>...</th>\n      <td>...</td>\n      <td>...</td>\n      <td>...</td>\n      <td>...</td>\n      <td>...</td>\n      <td>...</td>\n      <td>...</td>\n      <td>...</td>\n      <td>...</td>\n      <td>...</td>\n      <td>...</td>\n      <td>...</td>\n      <td>...</td>\n      <td>...</td>\n      <td>...</td>\n      <td>...</td>\n      <td>...</td>\n      <td>...</td>\n    </tr>\n    <tr>\n      <th rowspan=\"5\" valign=\"top\">Biologische rode kool</th>\n      <th>2018-12-25</th>\n      <td>3.0</td>\n      <td>0.0</td>\n      <td>0.0</td>\n      <td>0.0</td>\n      <td>0.0</td>\n      <td>0.0</td>\n      <td>0.0</td>\n      <td>0.0</td>\n      <td>December</td>\n      <td>Biologische rode kool</td>\n      <td>359</td>\n      <td>Tuesday</td>\n      <td>1.29</td>\n      <td>0.0</td>\n      <td>4.0</td>\n      <td>1.29</td>\n      <td>0</td>\n      <td>15</td>\n    </tr>\n    <tr>\n      <th>2018-12-26</th>\n      <td>7.0</td>\n      <td>0.0</td>\n      <td>0.0</td>\n      <td>0.0</td>\n      <td>0.0</td>\n      <td>0.0</td>\n      <td>0.0</td>\n      <td>0.0</td>\n      <td>December</td>\n      <td>Biologische rode kool</td>\n      <td>360</td>\n      <td>Wednesday</td>\n      <td>1.29</td>\n      <td>0.0</td>\n      <td>3.0</td>\n      <td>1.29</td>\n      <td>1</td>\n      <td>13</td>\n    </tr>\n    <tr>\n      <th>2018-12-28</th>\n      <td>5.0</td>\n      <td>0.0</td>\n      <td>0.0</td>\n      <td>0.0</td>\n      <td>0.0</td>\n      <td>0.0</td>\n      <td>0.0</td>\n      <td>0.0</td>\n      <td>December</td>\n      <td>Biologische rode kool</td>\n      <td>362</td>\n      <td>Friday</td>\n      <td>1.29</td>\n      <td>0.0</td>\n      <td>1.0</td>\n      <td>1.29</td>\n      <td>1</td>\n      <td>13</td>\n    </tr>\n    <tr>\n      <th>2018-12-29</th>\n      <td>3.0</td>\n      <td>0.0</td>\n      <td>0.0</td>\n      <td>0.0</td>\n      <td>0.0</td>\n      <td>0.0</td>\n      <td>0.0</td>\n      <td>0.0</td>\n      <td>December</td>\n      <td>Biologische rode kool</td>\n      <td>363</td>\n      <td>Saturday</td>\n      <td>1.29</td>\n      <td>0.0</td>\n      <td>5.0</td>\n      <td>1.29</td>\n      <td>0</td>\n      <td>12</td>\n    </tr>\n    <tr>\n      <th>2018-12-30</th>\n      <td>3.0</td>\n      <td>0.0</td>\n      <td>0.0</td>\n      <td>0.0</td>\n      <td>0.0</td>\n      <td>0.0</td>\n      <td>0.0</td>\n      <td>0.0</td>\n      <td>December</td>\n      <td>Biologische rode kool</td>\n      <td>364</td>\n      <td>Sunday</td>\n      <td>1.29</td>\n      <td>0.0</td>\n      <td>3.0</td>\n      <td>1.29</td>\n      <td>0</td>\n      <td>13</td>\n    </tr>\n  </tbody>\n</table>\n<p>2680 rows × 18 columns</p>\n</div>"
     },
     "metadata": {},
     "execution_count": 50
    }
   ],
   "source": [
    "new_df"
   ]
  },
  {
   "source": [
    "## Experimenting with TensorFlow"
   ],
   "cell_type": "markdown",
   "metadata": {}
  },
  {
   "cell_type": "code",
   "execution_count": 59,
   "metadata": {},
   "outputs": [],
   "source": [
    "from tensorflow.keras import models, layers, losses, optimizers\n",
    "\n",
    "lstm_model = models.Sequential()\n",
    "lstm_model.add(layers.LSTM(50, return_sequences=True))\n",
    "lstm_model.add(layers.LSTM(20))\n",
    "lstm_model.add(layers.Dense(1, activation=\"sigmoid\"))\n",
    "lstm_model.compile(loss=\"adam\", metrics=\"mean_absolute_error\")"
   ]
  },
  {
   "cell_type": "code",
   "execution_count": 62,
   "metadata": {},
   "outputs": [
    {
     "output_type": "error",
     "ename": "ValueError",
     "evalue": "Failed to convert a NumPy array to a Tensor (Unsupported object type float).",
     "traceback": [
      "\u001b[1;31m---------------------------------------------------------------------------\u001b[0m",
      "\u001b[1;31mValueError\u001b[0m                                Traceback (most recent call last)",
      "\u001b[1;32m<ipython-input-62-eca404158108>\u001b[0m in \u001b[0;36m<module>\u001b[1;34m\u001b[0m\n\u001b[0;32m      1\u001b[0m \u001b[0mX_train\u001b[0m\u001b[1;33m,\u001b[0m \u001b[0my_train\u001b[0m \u001b[1;33m=\u001b[0m \u001b[0moutput_dct\u001b[0m\u001b[1;33m[\u001b[0m\u001b[1;34m\"train\"\u001b[0m\u001b[1;33m]\u001b[0m\u001b[1;33m[\u001b[0m\u001b[1;36m0\u001b[0m\u001b[1;33m]\u001b[0m\u001b[1;33m,\u001b[0m \u001b[0moutput_dct\u001b[0m\u001b[1;33m[\u001b[0m\u001b[1;34m\"train\"\u001b[0m\u001b[1;33m]\u001b[0m\u001b[1;33m[\u001b[0m\u001b[1;36m1\u001b[0m\u001b[1;33m]\u001b[0m\u001b[1;33m\u001b[0m\u001b[1;33m\u001b[0m\u001b[0m\n\u001b[1;32m----> 2\u001b[1;33m \u001b[0mlstm_model\u001b[0m\u001b[1;33m.\u001b[0m\u001b[0mfit\u001b[0m\u001b[1;33m(\u001b[0m\u001b[0mX_train\u001b[0m\u001b[1;33m,\u001b[0m \u001b[0my_train\u001b[0m\u001b[1;33m,\u001b[0m \u001b[0mbatch_size\u001b[0m\u001b[1;33m=\u001b[0m\u001b[1;36m16\u001b[0m\u001b[1;33m,\u001b[0m \u001b[0mepochs\u001b[0m\u001b[1;33m=\u001b[0m\u001b[1;36m30\u001b[0m\u001b[1;33m)\u001b[0m\u001b[1;33m\u001b[0m\u001b[1;33m\u001b[0m\u001b[0m\n\u001b[0m",
      "\u001b[1;32m~\\AppData\\Roaming\\Python\\Python38\\site-packages\\tensorflow\\python\\keras\\engine\\training.py\u001b[0m in \u001b[0;36m_method_wrapper\u001b[1;34m(self, *args, **kwargs)\u001b[0m\n\u001b[0;32m    106\u001b[0m   \u001b[1;32mdef\u001b[0m \u001b[0m_method_wrapper\u001b[0m\u001b[1;33m(\u001b[0m\u001b[0mself\u001b[0m\u001b[1;33m,\u001b[0m \u001b[1;33m*\u001b[0m\u001b[0margs\u001b[0m\u001b[1;33m,\u001b[0m \u001b[1;33m**\u001b[0m\u001b[0mkwargs\u001b[0m\u001b[1;33m)\u001b[0m\u001b[1;33m:\u001b[0m\u001b[1;33m\u001b[0m\u001b[1;33m\u001b[0m\u001b[0m\n\u001b[0;32m    107\u001b[0m     \u001b[1;32mif\u001b[0m \u001b[1;32mnot\u001b[0m \u001b[0mself\u001b[0m\u001b[1;33m.\u001b[0m\u001b[0m_in_multi_worker_mode\u001b[0m\u001b[1;33m(\u001b[0m\u001b[1;33m)\u001b[0m\u001b[1;33m:\u001b[0m  \u001b[1;31m# pylint: disable=protected-access\u001b[0m\u001b[1;33m\u001b[0m\u001b[1;33m\u001b[0m\u001b[0m\n\u001b[1;32m--> 108\u001b[1;33m       \u001b[1;32mreturn\u001b[0m \u001b[0mmethod\u001b[0m\u001b[1;33m(\u001b[0m\u001b[0mself\u001b[0m\u001b[1;33m,\u001b[0m \u001b[1;33m*\u001b[0m\u001b[0margs\u001b[0m\u001b[1;33m,\u001b[0m \u001b[1;33m**\u001b[0m\u001b[0mkwargs\u001b[0m\u001b[1;33m)\u001b[0m\u001b[1;33m\u001b[0m\u001b[1;33m\u001b[0m\u001b[0m\n\u001b[0m\u001b[0;32m    109\u001b[0m \u001b[1;33m\u001b[0m\u001b[0m\n\u001b[0;32m    110\u001b[0m     \u001b[1;31m# Running inside `run_distribute_coordinator` already.\u001b[0m\u001b[1;33m\u001b[0m\u001b[1;33m\u001b[0m\u001b[1;33m\u001b[0m\u001b[0m\n",
      "\u001b[1;32m~\\AppData\\Roaming\\Python\\Python38\\site-packages\\tensorflow\\python\\keras\\engine\\training.py\u001b[0m in \u001b[0;36mfit\u001b[1;34m(self, x, y, batch_size, epochs, verbose, callbacks, validation_split, validation_data, shuffle, class_weight, sample_weight, initial_epoch, steps_per_epoch, validation_steps, validation_batch_size, validation_freq, max_queue_size, workers, use_multiprocessing)\u001b[0m\n\u001b[0;32m   1047\u001b[0m          \u001b[0mtraining_utils\u001b[0m\u001b[1;33m.\u001b[0m\u001b[0mRespectCompiledTrainableState\u001b[0m\u001b[1;33m(\u001b[0m\u001b[0mself\u001b[0m\u001b[1;33m)\u001b[0m\u001b[1;33m:\u001b[0m\u001b[1;33m\u001b[0m\u001b[1;33m\u001b[0m\u001b[0m\n\u001b[0;32m   1048\u001b[0m       \u001b[1;31m# Creates a `tf.data.Dataset` and handles batch and epoch iteration.\u001b[0m\u001b[1;33m\u001b[0m\u001b[1;33m\u001b[0m\u001b[1;33m\u001b[0m\u001b[0m\n\u001b[1;32m-> 1049\u001b[1;33m       data_handler = data_adapter.DataHandler(\n\u001b[0m\u001b[0;32m   1050\u001b[0m           \u001b[0mx\u001b[0m\u001b[1;33m=\u001b[0m\u001b[0mx\u001b[0m\u001b[1;33m,\u001b[0m\u001b[1;33m\u001b[0m\u001b[1;33m\u001b[0m\u001b[0m\n\u001b[0;32m   1051\u001b[0m           \u001b[0my\u001b[0m\u001b[1;33m=\u001b[0m\u001b[0my\u001b[0m\u001b[1;33m,\u001b[0m\u001b[1;33m\u001b[0m\u001b[1;33m\u001b[0m\u001b[0m\n",
      "\u001b[1;32m~\\AppData\\Roaming\\Python\\Python38\\site-packages\\tensorflow\\python\\keras\\engine\\data_adapter.py\u001b[0m in \u001b[0;36m__init__\u001b[1;34m(self, x, y, sample_weight, batch_size, steps_per_epoch, initial_epoch, epochs, shuffle, class_weight, max_queue_size, workers, use_multiprocessing, model, steps_per_execution)\u001b[0m\n\u001b[0;32m   1103\u001b[0m \u001b[1;33m\u001b[0m\u001b[0m\n\u001b[0;32m   1104\u001b[0m     \u001b[0madapter_cls\u001b[0m \u001b[1;33m=\u001b[0m \u001b[0mselect_data_adapter\u001b[0m\u001b[1;33m(\u001b[0m\u001b[0mx\u001b[0m\u001b[1;33m,\u001b[0m \u001b[0my\u001b[0m\u001b[1;33m)\u001b[0m\u001b[1;33m\u001b[0m\u001b[1;33m\u001b[0m\u001b[0m\n\u001b[1;32m-> 1105\u001b[1;33m     self._adapter = adapter_cls(\n\u001b[0m\u001b[0;32m   1106\u001b[0m         \u001b[0mx\u001b[0m\u001b[1;33m,\u001b[0m\u001b[1;33m\u001b[0m\u001b[1;33m\u001b[0m\u001b[0m\n\u001b[0;32m   1107\u001b[0m         \u001b[0my\u001b[0m\u001b[1;33m,\u001b[0m\u001b[1;33m\u001b[0m\u001b[1;33m\u001b[0m\u001b[0m\n",
      "\u001b[1;32m~\\AppData\\Roaming\\Python\\Python38\\site-packages\\tensorflow\\python\\keras\\engine\\data_adapter.py\u001b[0m in \u001b[0;36m__init__\u001b[1;34m(self, x, y, sample_weights, sample_weight_modes, batch_size, epochs, steps, shuffle, **kwargs)\u001b[0m\n\u001b[0;32m    263\u001b[0m                **kwargs):\n\u001b[0;32m    264\u001b[0m     \u001b[0msuper\u001b[0m\u001b[1;33m(\u001b[0m\u001b[0mTensorLikeDataAdapter\u001b[0m\u001b[1;33m,\u001b[0m \u001b[0mself\u001b[0m\u001b[1;33m)\u001b[0m\u001b[1;33m.\u001b[0m\u001b[0m__init__\u001b[0m\u001b[1;33m(\u001b[0m\u001b[0mx\u001b[0m\u001b[1;33m,\u001b[0m \u001b[0my\u001b[0m\u001b[1;33m,\u001b[0m \u001b[1;33m**\u001b[0m\u001b[0mkwargs\u001b[0m\u001b[1;33m)\u001b[0m\u001b[1;33m\u001b[0m\u001b[1;33m\u001b[0m\u001b[0m\n\u001b[1;32m--> 265\u001b[1;33m     \u001b[0mx\u001b[0m\u001b[1;33m,\u001b[0m \u001b[0my\u001b[0m\u001b[1;33m,\u001b[0m \u001b[0msample_weights\u001b[0m \u001b[1;33m=\u001b[0m \u001b[0m_process_tensorlike\u001b[0m\u001b[1;33m(\u001b[0m\u001b[1;33m(\u001b[0m\u001b[0mx\u001b[0m\u001b[1;33m,\u001b[0m \u001b[0my\u001b[0m\u001b[1;33m,\u001b[0m \u001b[0msample_weights\u001b[0m\u001b[1;33m)\u001b[0m\u001b[1;33m)\u001b[0m\u001b[1;33m\u001b[0m\u001b[1;33m\u001b[0m\u001b[0m\n\u001b[0m\u001b[0;32m    266\u001b[0m     sample_weight_modes = broadcast_sample_weight_modes(\n\u001b[0;32m    267\u001b[0m         sample_weights, sample_weight_modes)\n",
      "\u001b[1;32m~\\AppData\\Roaming\\Python\\Python38\\site-packages\\tensorflow\\python\\keras\\engine\\data_adapter.py\u001b[0m in \u001b[0;36m_process_tensorlike\u001b[1;34m(inputs)\u001b[0m\n\u001b[0;32m   1019\u001b[0m     \u001b[1;32mreturn\u001b[0m \u001b[0mx\u001b[0m\u001b[1;33m\u001b[0m\u001b[1;33m\u001b[0m\u001b[0m\n\u001b[0;32m   1020\u001b[0m \u001b[1;33m\u001b[0m\u001b[0m\n\u001b[1;32m-> 1021\u001b[1;33m   \u001b[0minputs\u001b[0m \u001b[1;33m=\u001b[0m \u001b[0mnest\u001b[0m\u001b[1;33m.\u001b[0m\u001b[0mmap_structure\u001b[0m\u001b[1;33m(\u001b[0m\u001b[0m_convert_numpy_and_scipy\u001b[0m\u001b[1;33m,\u001b[0m \u001b[0minputs\u001b[0m\u001b[1;33m)\u001b[0m\u001b[1;33m\u001b[0m\u001b[1;33m\u001b[0m\u001b[0m\n\u001b[0m\u001b[0;32m   1022\u001b[0m   \u001b[1;32mreturn\u001b[0m \u001b[0mnest\u001b[0m\u001b[1;33m.\u001b[0m\u001b[0mlist_to_tuple\u001b[0m\u001b[1;33m(\u001b[0m\u001b[0minputs\u001b[0m\u001b[1;33m)\u001b[0m\u001b[1;33m\u001b[0m\u001b[1;33m\u001b[0m\u001b[0m\n\u001b[0;32m   1023\u001b[0m \u001b[1;33m\u001b[0m\u001b[0m\n",
      "\u001b[1;32m~\\AppData\\Roaming\\Python\\Python38\\site-packages\\tensorflow\\python\\util\\nest.py\u001b[0m in \u001b[0;36mmap_structure\u001b[1;34m(func, *structure, **kwargs)\u001b[0m\n\u001b[0;32m    633\u001b[0m \u001b[1;33m\u001b[0m\u001b[0m\n\u001b[0;32m    634\u001b[0m   return pack_sequence_as(\n\u001b[1;32m--> 635\u001b[1;33m       \u001b[0mstructure\u001b[0m\u001b[1;33m[\u001b[0m\u001b[1;36m0\u001b[0m\u001b[1;33m]\u001b[0m\u001b[1;33m,\u001b[0m \u001b[1;33m[\u001b[0m\u001b[0mfunc\u001b[0m\u001b[1;33m(\u001b[0m\u001b[1;33m*\u001b[0m\u001b[0mx\u001b[0m\u001b[1;33m)\u001b[0m \u001b[1;32mfor\u001b[0m \u001b[0mx\u001b[0m \u001b[1;32min\u001b[0m \u001b[0mentries\u001b[0m\u001b[1;33m]\u001b[0m\u001b[1;33m,\u001b[0m\u001b[1;33m\u001b[0m\u001b[1;33m\u001b[0m\u001b[0m\n\u001b[0m\u001b[0;32m    636\u001b[0m       expand_composites=expand_composites)\n\u001b[0;32m    637\u001b[0m \u001b[1;33m\u001b[0m\u001b[0m\n",
      "\u001b[1;32m~\\AppData\\Roaming\\Python\\Python38\\site-packages\\tensorflow\\python\\util\\nest.py\u001b[0m in \u001b[0;36m<listcomp>\u001b[1;34m(.0)\u001b[0m\n\u001b[0;32m    633\u001b[0m \u001b[1;33m\u001b[0m\u001b[0m\n\u001b[0;32m    634\u001b[0m   return pack_sequence_as(\n\u001b[1;32m--> 635\u001b[1;33m       \u001b[0mstructure\u001b[0m\u001b[1;33m[\u001b[0m\u001b[1;36m0\u001b[0m\u001b[1;33m]\u001b[0m\u001b[1;33m,\u001b[0m \u001b[1;33m[\u001b[0m\u001b[0mfunc\u001b[0m\u001b[1;33m(\u001b[0m\u001b[1;33m*\u001b[0m\u001b[0mx\u001b[0m\u001b[1;33m)\u001b[0m \u001b[1;32mfor\u001b[0m \u001b[0mx\u001b[0m \u001b[1;32min\u001b[0m \u001b[0mentries\u001b[0m\u001b[1;33m]\u001b[0m\u001b[1;33m,\u001b[0m\u001b[1;33m\u001b[0m\u001b[1;33m\u001b[0m\u001b[0m\n\u001b[0m\u001b[0;32m    636\u001b[0m       expand_composites=expand_composites)\n\u001b[0;32m    637\u001b[0m \u001b[1;33m\u001b[0m\u001b[0m\n",
      "\u001b[1;32m~\\AppData\\Roaming\\Python\\Python38\\site-packages\\tensorflow\\python\\keras\\engine\\data_adapter.py\u001b[0m in \u001b[0;36m_convert_numpy_and_scipy\u001b[1;34m(x)\u001b[0m\n\u001b[0;32m   1014\u001b[0m       \u001b[1;32mif\u001b[0m \u001b[0missubclass\u001b[0m\u001b[1;33m(\u001b[0m\u001b[0mx\u001b[0m\u001b[1;33m.\u001b[0m\u001b[0mdtype\u001b[0m\u001b[1;33m.\u001b[0m\u001b[0mtype\u001b[0m\u001b[1;33m,\u001b[0m \u001b[0mnp\u001b[0m\u001b[1;33m.\u001b[0m\u001b[0mfloating\u001b[0m\u001b[1;33m)\u001b[0m\u001b[1;33m:\u001b[0m\u001b[1;33m\u001b[0m\u001b[1;33m\u001b[0m\u001b[0m\n\u001b[0;32m   1015\u001b[0m         \u001b[0mdtype\u001b[0m \u001b[1;33m=\u001b[0m \u001b[0mbackend\u001b[0m\u001b[1;33m.\u001b[0m\u001b[0mfloatx\u001b[0m\u001b[1;33m(\u001b[0m\u001b[1;33m)\u001b[0m\u001b[1;33m\u001b[0m\u001b[1;33m\u001b[0m\u001b[0m\n\u001b[1;32m-> 1016\u001b[1;33m       \u001b[1;32mreturn\u001b[0m \u001b[0mops\u001b[0m\u001b[1;33m.\u001b[0m\u001b[0mconvert_to_tensor\u001b[0m\u001b[1;33m(\u001b[0m\u001b[0mx\u001b[0m\u001b[1;33m,\u001b[0m \u001b[0mdtype\u001b[0m\u001b[1;33m=\u001b[0m\u001b[0mdtype\u001b[0m\u001b[1;33m)\u001b[0m\u001b[1;33m\u001b[0m\u001b[1;33m\u001b[0m\u001b[0m\n\u001b[0m\u001b[0;32m   1017\u001b[0m     \u001b[1;32melif\u001b[0m \u001b[0mscipy_sparse\u001b[0m \u001b[1;32mand\u001b[0m \u001b[0mscipy_sparse\u001b[0m\u001b[1;33m.\u001b[0m\u001b[0missparse\u001b[0m\u001b[1;33m(\u001b[0m\u001b[0mx\u001b[0m\u001b[1;33m)\u001b[0m\u001b[1;33m:\u001b[0m\u001b[1;33m\u001b[0m\u001b[1;33m\u001b[0m\u001b[0m\n\u001b[0;32m   1018\u001b[0m       \u001b[1;32mreturn\u001b[0m \u001b[0m_scipy_sparse_to_sparse_tensor\u001b[0m\u001b[1;33m(\u001b[0m\u001b[0mx\u001b[0m\u001b[1;33m)\u001b[0m\u001b[1;33m\u001b[0m\u001b[1;33m\u001b[0m\u001b[0m\n",
      "\u001b[1;32m~\\AppData\\Roaming\\Python\\Python38\\site-packages\\tensorflow\\python\\framework\\ops.py\u001b[0m in \u001b[0;36mconvert_to_tensor\u001b[1;34m(value, dtype, name, as_ref, preferred_dtype, dtype_hint, ctx, accepted_result_types)\u001b[0m\n\u001b[0;32m   1497\u001b[0m \u001b[1;33m\u001b[0m\u001b[0m\n\u001b[0;32m   1498\u001b[0m     \u001b[1;32mif\u001b[0m \u001b[0mret\u001b[0m \u001b[1;32mis\u001b[0m \u001b[1;32mNone\u001b[0m\u001b[1;33m:\u001b[0m\u001b[1;33m\u001b[0m\u001b[1;33m\u001b[0m\u001b[0m\n\u001b[1;32m-> 1499\u001b[1;33m       \u001b[0mret\u001b[0m \u001b[1;33m=\u001b[0m \u001b[0mconversion_func\u001b[0m\u001b[1;33m(\u001b[0m\u001b[0mvalue\u001b[0m\u001b[1;33m,\u001b[0m \u001b[0mdtype\u001b[0m\u001b[1;33m=\u001b[0m\u001b[0mdtype\u001b[0m\u001b[1;33m,\u001b[0m \u001b[0mname\u001b[0m\u001b[1;33m=\u001b[0m\u001b[0mname\u001b[0m\u001b[1;33m,\u001b[0m \u001b[0mas_ref\u001b[0m\u001b[1;33m=\u001b[0m\u001b[0mas_ref\u001b[0m\u001b[1;33m)\u001b[0m\u001b[1;33m\u001b[0m\u001b[1;33m\u001b[0m\u001b[0m\n\u001b[0m\u001b[0;32m   1500\u001b[0m \u001b[1;33m\u001b[0m\u001b[0m\n\u001b[0;32m   1501\u001b[0m     \u001b[1;32mif\u001b[0m \u001b[0mret\u001b[0m \u001b[1;32mis\u001b[0m \u001b[0mNotImplemented\u001b[0m\u001b[1;33m:\u001b[0m\u001b[1;33m\u001b[0m\u001b[1;33m\u001b[0m\u001b[0m\n",
      "\u001b[1;32m~\\AppData\\Roaming\\Python\\Python38\\site-packages\\tensorflow\\python\\framework\\tensor_conversion_registry.py\u001b[0m in \u001b[0;36m_default_conversion_function\u001b[1;34m(***failed resolving arguments***)\u001b[0m\n\u001b[0;32m     50\u001b[0m \u001b[1;32mdef\u001b[0m \u001b[0m_default_conversion_function\u001b[0m\u001b[1;33m(\u001b[0m\u001b[0mvalue\u001b[0m\u001b[1;33m,\u001b[0m \u001b[0mdtype\u001b[0m\u001b[1;33m,\u001b[0m \u001b[0mname\u001b[0m\u001b[1;33m,\u001b[0m \u001b[0mas_ref\u001b[0m\u001b[1;33m)\u001b[0m\u001b[1;33m:\u001b[0m\u001b[1;33m\u001b[0m\u001b[1;33m\u001b[0m\u001b[0m\n\u001b[0;32m     51\u001b[0m   \u001b[1;32mdel\u001b[0m \u001b[0mas_ref\u001b[0m  \u001b[1;31m# Unused.\u001b[0m\u001b[1;33m\u001b[0m\u001b[1;33m\u001b[0m\u001b[0m\n\u001b[1;32m---> 52\u001b[1;33m   \u001b[1;32mreturn\u001b[0m \u001b[0mconstant_op\u001b[0m\u001b[1;33m.\u001b[0m\u001b[0mconstant\u001b[0m\u001b[1;33m(\u001b[0m\u001b[0mvalue\u001b[0m\u001b[1;33m,\u001b[0m \u001b[0mdtype\u001b[0m\u001b[1;33m,\u001b[0m \u001b[0mname\u001b[0m\u001b[1;33m=\u001b[0m\u001b[0mname\u001b[0m\u001b[1;33m)\u001b[0m\u001b[1;33m\u001b[0m\u001b[1;33m\u001b[0m\u001b[0m\n\u001b[0m\u001b[0;32m     53\u001b[0m \u001b[1;33m\u001b[0m\u001b[0m\n\u001b[0;32m     54\u001b[0m \u001b[1;33m\u001b[0m\u001b[0m\n",
      "\u001b[1;32m~\\AppData\\Roaming\\Python\\Python38\\site-packages\\tensorflow\\python\\framework\\constant_op.py\u001b[0m in \u001b[0;36mconstant\u001b[1;34m(value, dtype, shape, name)\u001b[0m\n\u001b[0;32m    261\u001b[0m     \u001b[0mValueError\u001b[0m\u001b[1;33m:\u001b[0m \u001b[1;32mif\u001b[0m \u001b[0mcalled\u001b[0m \u001b[0mon\u001b[0m \u001b[0ma\u001b[0m \u001b[0msymbolic\u001b[0m \u001b[0mtensor\u001b[0m\u001b[1;33m.\u001b[0m\u001b[1;33m\u001b[0m\u001b[1;33m\u001b[0m\u001b[0m\n\u001b[0;32m    262\u001b[0m   \"\"\"\n\u001b[1;32m--> 263\u001b[1;33m   return _constant_impl(value, dtype, shape, name, verify_shape=False,\n\u001b[0m\u001b[0;32m    264\u001b[0m                         allow_broadcast=True)\n\u001b[0;32m    265\u001b[0m \u001b[1;33m\u001b[0m\u001b[0m\n",
      "\u001b[1;32m~\\AppData\\Roaming\\Python\\Python38\\site-packages\\tensorflow\\python\\framework\\constant_op.py\u001b[0m in \u001b[0;36m_constant_impl\u001b[1;34m(value, dtype, shape, name, verify_shape, allow_broadcast)\u001b[0m\n\u001b[0;32m    273\u001b[0m       \u001b[1;32mwith\u001b[0m \u001b[0mtrace\u001b[0m\u001b[1;33m.\u001b[0m\u001b[0mTrace\u001b[0m\u001b[1;33m(\u001b[0m\u001b[1;34m\"tf.constant\"\u001b[0m\u001b[1;33m)\u001b[0m\u001b[1;33m:\u001b[0m\u001b[1;33m\u001b[0m\u001b[1;33m\u001b[0m\u001b[0m\n\u001b[0;32m    274\u001b[0m         \u001b[1;32mreturn\u001b[0m \u001b[0m_constant_eager_impl\u001b[0m\u001b[1;33m(\u001b[0m\u001b[0mctx\u001b[0m\u001b[1;33m,\u001b[0m \u001b[0mvalue\u001b[0m\u001b[1;33m,\u001b[0m \u001b[0mdtype\u001b[0m\u001b[1;33m,\u001b[0m \u001b[0mshape\u001b[0m\u001b[1;33m,\u001b[0m \u001b[0mverify_shape\u001b[0m\u001b[1;33m)\u001b[0m\u001b[1;33m\u001b[0m\u001b[1;33m\u001b[0m\u001b[0m\n\u001b[1;32m--> 275\u001b[1;33m     \u001b[1;32mreturn\u001b[0m \u001b[0m_constant_eager_impl\u001b[0m\u001b[1;33m(\u001b[0m\u001b[0mctx\u001b[0m\u001b[1;33m,\u001b[0m \u001b[0mvalue\u001b[0m\u001b[1;33m,\u001b[0m \u001b[0mdtype\u001b[0m\u001b[1;33m,\u001b[0m \u001b[0mshape\u001b[0m\u001b[1;33m,\u001b[0m \u001b[0mverify_shape\u001b[0m\u001b[1;33m)\u001b[0m\u001b[1;33m\u001b[0m\u001b[1;33m\u001b[0m\u001b[0m\n\u001b[0m\u001b[0;32m    276\u001b[0m \u001b[1;33m\u001b[0m\u001b[0m\n\u001b[0;32m    277\u001b[0m   \u001b[0mg\u001b[0m \u001b[1;33m=\u001b[0m \u001b[0mops\u001b[0m\u001b[1;33m.\u001b[0m\u001b[0mget_default_graph\u001b[0m\u001b[1;33m(\u001b[0m\u001b[1;33m)\u001b[0m\u001b[1;33m\u001b[0m\u001b[1;33m\u001b[0m\u001b[0m\n",
      "\u001b[1;32m~\\AppData\\Roaming\\Python\\Python38\\site-packages\\tensorflow\\python\\framework\\constant_op.py\u001b[0m in \u001b[0;36m_constant_eager_impl\u001b[1;34m(ctx, value, dtype, shape, verify_shape)\u001b[0m\n\u001b[0;32m    298\u001b[0m \u001b[1;32mdef\u001b[0m \u001b[0m_constant_eager_impl\u001b[0m\u001b[1;33m(\u001b[0m\u001b[0mctx\u001b[0m\u001b[1;33m,\u001b[0m \u001b[0mvalue\u001b[0m\u001b[1;33m,\u001b[0m \u001b[0mdtype\u001b[0m\u001b[1;33m,\u001b[0m \u001b[0mshape\u001b[0m\u001b[1;33m,\u001b[0m \u001b[0mverify_shape\u001b[0m\u001b[1;33m)\u001b[0m\u001b[1;33m:\u001b[0m\u001b[1;33m\u001b[0m\u001b[1;33m\u001b[0m\u001b[0m\n\u001b[0;32m    299\u001b[0m   \u001b[1;34m\"\"\"Implementation of eager constant.\"\"\"\u001b[0m\u001b[1;33m\u001b[0m\u001b[1;33m\u001b[0m\u001b[0m\n\u001b[1;32m--> 300\u001b[1;33m   \u001b[0mt\u001b[0m \u001b[1;33m=\u001b[0m \u001b[0mconvert_to_eager_tensor\u001b[0m\u001b[1;33m(\u001b[0m\u001b[0mvalue\u001b[0m\u001b[1;33m,\u001b[0m \u001b[0mctx\u001b[0m\u001b[1;33m,\u001b[0m \u001b[0mdtype\u001b[0m\u001b[1;33m)\u001b[0m\u001b[1;33m\u001b[0m\u001b[1;33m\u001b[0m\u001b[0m\n\u001b[0m\u001b[0;32m    301\u001b[0m   \u001b[1;32mif\u001b[0m \u001b[0mshape\u001b[0m \u001b[1;32mis\u001b[0m \u001b[1;32mNone\u001b[0m\u001b[1;33m:\u001b[0m\u001b[1;33m\u001b[0m\u001b[1;33m\u001b[0m\u001b[0m\n\u001b[0;32m    302\u001b[0m     \u001b[1;32mreturn\u001b[0m \u001b[0mt\u001b[0m\u001b[1;33m\u001b[0m\u001b[1;33m\u001b[0m\u001b[0m\n",
      "\u001b[1;32m~\\AppData\\Roaming\\Python\\Python38\\site-packages\\tensorflow\\python\\framework\\constant_op.py\u001b[0m in \u001b[0;36mconvert_to_eager_tensor\u001b[1;34m(value, ctx, dtype)\u001b[0m\n\u001b[0;32m     96\u001b[0m       \u001b[0mdtype\u001b[0m \u001b[1;33m=\u001b[0m \u001b[0mdtypes\u001b[0m\u001b[1;33m.\u001b[0m\u001b[0mas_dtype\u001b[0m\u001b[1;33m(\u001b[0m\u001b[0mdtype\u001b[0m\u001b[1;33m)\u001b[0m\u001b[1;33m.\u001b[0m\u001b[0mas_datatype_enum\u001b[0m\u001b[1;33m\u001b[0m\u001b[1;33m\u001b[0m\u001b[0m\n\u001b[0;32m     97\u001b[0m   \u001b[0mctx\u001b[0m\u001b[1;33m.\u001b[0m\u001b[0mensure_initialized\u001b[0m\u001b[1;33m(\u001b[0m\u001b[1;33m)\u001b[0m\u001b[1;33m\u001b[0m\u001b[1;33m\u001b[0m\u001b[0m\n\u001b[1;32m---> 98\u001b[1;33m   \u001b[1;32mreturn\u001b[0m \u001b[0mops\u001b[0m\u001b[1;33m.\u001b[0m\u001b[0mEagerTensor\u001b[0m\u001b[1;33m(\u001b[0m\u001b[0mvalue\u001b[0m\u001b[1;33m,\u001b[0m \u001b[0mctx\u001b[0m\u001b[1;33m.\u001b[0m\u001b[0mdevice_name\u001b[0m\u001b[1;33m,\u001b[0m \u001b[0mdtype\u001b[0m\u001b[1;33m)\u001b[0m\u001b[1;33m\u001b[0m\u001b[1;33m\u001b[0m\u001b[0m\n\u001b[0m\u001b[0;32m     99\u001b[0m \u001b[1;33m\u001b[0m\u001b[0m\n\u001b[0;32m    100\u001b[0m \u001b[1;33m\u001b[0m\u001b[0m\n",
      "\u001b[1;31mValueError\u001b[0m: Failed to convert a NumPy array to a Tensor (Unsupported object type float)."
     ]
    }
   ],
   "source": [
    "X_train, y_train = output_dct[\"train\"][0], output_dct[\"train\"][1]\n",
    "lstm_model.fit(X_train, y_train, batch_size=16, epochs=30)"
   ]
  }
 ]
}