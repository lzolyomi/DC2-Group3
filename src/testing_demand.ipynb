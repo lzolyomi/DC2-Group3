{
 "metadata": {
  "language_info": {
   "codemirror_mode": {
    "name": "ipython",
    "version": 3
   },
   "file_extension": ".py",
   "mimetype": "text/x-python",
   "name": "python",
   "nbconvert_exporter": "python",
   "pygments_lexer": "ipython3",
   "version": "3.8.2-final"
  },
  "orig_nbformat": 2,
  "kernelspec": {
   "name": "python3",
   "display_name": "Python 3.8.2 64-bit",
   "metadata": {
    "interpreter": {
     "hash": "1baa965d5efe3ac65b79dfc60c0d706280b1da80fedb7760faf2759126c4f253"
    }
   }
  }
 },
 "nbformat": 4,
 "nbformat_minor": 2,
 "cells": [
  {
   "cell_type": "code",
   "execution_count": 2,
   "metadata": {},
   "outputs": [],
   "source": [
    "import pandas as pd \n",
    "import numpy as np \n",
    "from demand import prepare_data, prepare_demand_function, fit_demand_function, prepare_predictors\n",
    "from discounts import apply_discount\n",
    "transactions = pd.read_csv(\"data/transactions.csv\")\n",
    "discounts_per_day = pd.read_csv(\"nr_discounts_per_day.csv\")#csv with the nr of discounts daily"
   ]
  },
  {
   "cell_type": "code",
   "execution_count": 45,
   "metadata": {},
   "outputs": [],
   "source": [
    "product = \"Biologische courgette\"\n",
    "\n",
    "filtered_transactions = transactions[(transactions[\"description\"] == product)] #& (transactions[\"size\"] == \"150g\")]"
   ]
  },
  {
   "cell_type": "code",
   "execution_count": 46,
   "metadata": {},
   "outputs": [
    {
     "output_type": "stream",
     "name": "stderr",
     "text": [
      "c:\\Users\\zolyo\\OneDrive\\Documents\\Quartile 3\\JBG050 Data Challenge 2\\Code\\src\\demand.py:15: SettingWithCopyWarning:\n",
      "\n",
      "\n",
      "A value is trying to be set on a copy of a slice from a DataFrame.\n",
      "Try using .loc[row_indexer,col_indexer] = value instead\n",
      "\n",
      "See the caveats in the documentation: https://pandas.pydata.org/pandas-docs/stable/user_guide/indexing.html#returning-a-view-versus-a-copy\n",
      "\n",
      "c:\\Users\\zolyo\\OneDrive\\Documents\\Quartile 3\\JBG050 Data Challenge 2\\Code\\src\\demand.py:18: SettingWithCopyWarning:\n",
      "\n",
      "\n",
      "A value is trying to be set on a copy of a slice from a DataFrame.\n",
      "Try using .loc[row_indexer,col_indexer] = value instead\n",
      "\n",
      "See the caveats in the documentation: https://pandas.pydata.org/pandas-docs/stable/user_guide/indexing.html#returning-a-view-versus-a-copy\n",
      "\n",
      "compl_product is a string\n",
      "c:\\Users\\zolyo\\OneDrive\\Documents\\Quartile 3\\JBG050 Data Challenge 2\\Code\\src\\demand.py:27: SettingWithCopyWarning:\n",
      "\n",
      "\n",
      "A value is trying to be set on a copy of a slice from a DataFrame.\n",
      "Try using .loc[row_indexer,col_indexer] = value instead\n",
      "\n",
      "See the caveats in the documentation: https://pandas.pydata.org/pandas-docs/stable/user_guide/indexing.html#returning-a-view-versus-a-copy\n",
      "\n",
      "c:\\Users\\zolyo\\OneDrive\\Documents\\Quartile 3\\JBG050 Data Challenge 2\\Code\\src\\demand.py:29: SettingWithCopyWarning:\n",
      "\n",
      "\n",
      "A value is trying to be set on a copy of a slice from a DataFrame.\n",
      "Try using .loc[row_indexer,col_indexer] = value instead\n",
      "\n",
      "See the caveats in the documentation: https://pandas.pydata.org/pandas-docs/stable/user_guide/indexing.html#returning-a-view-versus-a-copy\n",
      "\n",
      "c:\\Users\\zolyo\\OneDrive\\Documents\\Quartile 3\\JBG050 Data Challenge 2\\Code\\src\\demand.py:31: SettingWithCopyWarning:\n",
      "\n",
      "\n",
      "A value is trying to be set on a copy of a slice from a DataFrame.\n",
      "Try using .loc[row_indexer,col_indexer] = value instead\n",
      "\n",
      "See the caveats in the documentation: https://pandas.pydata.org/pandas-docs/stable/user_guide/indexing.html#returning-a-view-versus-a-copy\n",
      "\n",
      "c:\\Users\\zolyo\\OneDrive\\Documents\\Quartile 3\\JBG050 Data Challenge 2\\Code\\src\\demand.py:33: SettingWithCopyWarning:\n",
      "\n",
      "\n",
      "A value is trying to be set on a copy of a slice from a DataFrame.\n",
      "Try using .loc[row_indexer,col_indexer] = value instead\n",
      "\n",
      "See the caveats in the documentation: https://pandas.pydata.org/pandas-docs/stable/user_guide/indexing.html#returning-a-view-versus-a-copy\n",
      "\n",
      "C:\\Users\\zolyo\\AppData\\Roaming\\Python\\Python38\\site-packages\\pandas\\core\\series.py:4575: SettingWithCopyWarning:\n",
      "\n",
      "\n",
      "A value is trying to be set on a copy of a slice from a DataFrame\n",
      "\n",
      "See the caveats in the documentation: https://pandas.pydata.org/pandas-docs/stable/user_guide/indexing.html#returning-a-view-versus-a-copy\n",
      "\n",
      "c:\\Users\\zolyo\\OneDrive\\Documents\\Quartile 3\\JBG050 Data Challenge 2\\Code\\src\\demand.py:35: SettingWithCopyWarning:\n",
      "\n",
      "\n",
      "A value is trying to be set on a copy of a slice from a DataFrame.\n",
      "Try using .loc[row_indexer,col_indexer] = value instead\n",
      "\n",
      "See the caveats in the documentation: https://pandas.pydata.org/pandas-docs/stable/user_guide/indexing.html#returning-a-view-versus-a-copy\n",
      "\n",
      "c:\\Users\\zolyo\\OneDrive\\Documents\\Quartile 3\\JBG050 Data Challenge 2\\Code\\src\\demand.py:36: SettingWithCopyWarning:\n",
      "\n",
      "\n",
      "A value is trying to be set on a copy of a slice from a DataFrame.\n",
      "Try using .loc[row_indexer,col_indexer] = value instead\n",
      "\n",
      "See the caveats in the documentation: https://pandas.pydata.org/pandas-docs/stable/user_guide/indexing.html#returning-a-view-versus-a-copy\n",
      "\n",
      "C:\\Users\\zolyo\\AppData\\Roaming\\Python\\Python38\\site-packages\\pandas\\core\\frame.py:4300: SettingWithCopyWarning:\n",
      "\n",
      "\n",
      "A value is trying to be set on a copy of a slice from a DataFrame\n",
      "\n",
      "See the caveats in the documentation: https://pandas.pydata.org/pandas-docs/stable/user_guide/indexing.html#returning-a-view-versus-a-copy\n",
      "\n",
      "c:\\Users\\zolyo\\OneDrive\\Documents\\Quartile 3\\JBG050 Data Challenge 2\\Code\\src\\demand.py:40: SettingWithCopyWarning:\n",
      "\n",
      "\n",
      "A value is trying to be set on a copy of a slice from a DataFrame.\n",
      "Try using .loc[row_indexer,col_indexer] = value instead\n",
      "\n",
      "See the caveats in the documentation: https://pandas.pydata.org/pandas-docs/stable/user_guide/indexing.html#returning-a-view-versus-a-copy\n",
      "\n",
      "C:\\Users\\zolyo\\AppData\\Roaming\\Python\\Python38\\site-packages\\pandas\\core\\indexing.py:670: SettingWithCopyWarning:\n",
      "\n",
      "\n",
      "A value is trying to be set on a copy of a slice from a DataFrame\n",
      "\n",
      "See the caveats in the documentation: https://pandas.pydata.org/pandas-docs/stable/user_guide/indexing.html#returning-a-view-versus-a-copy\n",
      "\n",
      "c:\\Users\\zolyo\\OneDrive\\Documents\\Quartile 3\\JBG050 Data Challenge 2\\Code\\src\\demand.py:41: SettingWithCopyWarning:\n",
      "\n",
      "\n",
      "A value is trying to be set on a copy of a slice from a DataFrame\n",
      "\n",
      "See the caveats in the documentation: https://pandas.pydata.org/pandas-docs/stable/user_guide/indexing.html#returning-a-view-versus-a-copy\n",
      "\n",
      "c:\\Users\\zolyo\\OneDrive\\Documents\\Quartile 3\\JBG050 Data Challenge 2\\Code\\src\\demand.py:168: SettingWithCopyWarning:\n",
      "\n",
      "\n",
      "A value is trying to be set on a copy of a slice from a DataFrame.\n",
      "Try using .loc[row_indexer,col_indexer] = value instead\n",
      "\n",
      "See the caveats in the documentation: https://pandas.pydata.org/pandas-docs/stable/user_guide/indexing.html#returning-a-view-versus-a-copy\n",
      "\n"
     ]
    },
    {
     "output_type": "execute_result",
     "data": {
      "text/plain": [
       "                                  count   discount  std        min        25%  \\\n",
       "description           day                                                       \n",
       "Biologische courgette 2018-01-01    8.0  14.792899  0.0  14.792899  14.792899   \n",
       "                      2018-01-02    2.0   0.000000  0.0   0.000000   0.000000   \n",
       "                      2018-01-03    4.0  30.177515  0.0  30.177515  30.177515   \n",
       "                      2018-01-04    3.0   0.000000  0.0   0.000000   0.000000   \n",
       "                      2018-01-05    3.0   0.000000  0.0   0.000000   0.000000   \n",
       "\n",
       "                                        50%        75%        max    month  \\\n",
       "description           day                                                    \n",
       "Biologische courgette 2018-01-01  14.792899  14.792899  14.792899  January   \n",
       "                      2018-01-02   0.000000   0.000000   0.000000  January   \n",
       "                      2018-01-03  30.177515  30.177515  30.177515  January   \n",
       "                      2018-01-04   0.000000   0.000000   0.000000  January   \n",
       "                      2018-01-05   0.000000   0.000000   0.000000  January   \n",
       "\n",
       "                                                product  day  dayofweek  \\\n",
       "description           day                                                 \n",
       "Biologische courgette 2018-01-01  Biologische courgette    1     Monday   \n",
       "                      2018-01-02  Biologische courgette    2    Tuesday   \n",
       "                      2018-01-03  Biologische courgette    3  Wednesday   \n",
       "                      2018-01-04  Biologische courgette    4   Thursday   \n",
       "                      2018-01-05  Biologische courgette    5     Friday   \n",
       "\n",
       "                                  purchase_price  std_sales_price  \\\n",
       "description           day                                           \n",
       "Biologische courgette 2018-01-01            1.44             1.69   \n",
       "                      2018-01-02            1.69             1.69   \n",
       "                      2018-01-03            1.18             1.69   \n",
       "                      2018-01-04            1.69             1.69   \n",
       "                      2018-01-05            1.69             1.69   \n",
       "\n",
       "                                  prev_day_purchases  sales      days  \\\n",
       "description           day                                               \n",
       "Biologische courgette 2018-01-01                 0.0   2.34  1/1/2018   \n",
       "                      2018-01-02                 8.0   2.34  2/1/2018   \n",
       "                      2018-01-03                 2.0   2.34  3/1/2018   \n",
       "                      2018-01-04                 4.0   2.34  4/1/2018   \n",
       "                      2018-01-05                 3.0   2.34  5/1/2018   \n",
       "\n",
       "                                  on_discount  \n",
       "description           day                      \n",
       "Biologische courgette 2018-01-01           15  \n",
       "                      2018-01-02           13  \n",
       "                      2018-01-03            8  \n",
       "                      2018-01-04           16  \n",
       "                      2018-01-05           16  "
      ],
      "text/html": "<div>\n<style scoped>\n    .dataframe tbody tr th:only-of-type {\n        vertical-align: middle;\n    }\n\n    .dataframe tbody tr th {\n        vertical-align: top;\n    }\n\n    .dataframe thead th {\n        text-align: right;\n    }\n</style>\n<table border=\"1\" class=\"dataframe\">\n  <thead>\n    <tr style=\"text-align: right;\">\n      <th></th>\n      <th></th>\n      <th>count</th>\n      <th>discount</th>\n      <th>std</th>\n      <th>min</th>\n      <th>25%</th>\n      <th>50%</th>\n      <th>75%</th>\n      <th>max</th>\n      <th>month</th>\n      <th>product</th>\n      <th>day</th>\n      <th>dayofweek</th>\n      <th>purchase_price</th>\n      <th>std_sales_price</th>\n      <th>prev_day_purchases</th>\n      <th>sales</th>\n      <th>days</th>\n      <th>on_discount</th>\n    </tr>\n    <tr>\n      <th>description</th>\n      <th>day</th>\n      <th></th>\n      <th></th>\n      <th></th>\n      <th></th>\n      <th></th>\n      <th></th>\n      <th></th>\n      <th></th>\n      <th></th>\n      <th></th>\n      <th></th>\n      <th></th>\n      <th></th>\n      <th></th>\n      <th></th>\n      <th></th>\n      <th></th>\n      <th></th>\n    </tr>\n  </thead>\n  <tbody>\n    <tr>\n      <th rowspan=\"5\" valign=\"top\">Biologische courgette</th>\n      <th>2018-01-01</th>\n      <td>8.0</td>\n      <td>14.792899</td>\n      <td>0.0</td>\n      <td>14.792899</td>\n      <td>14.792899</td>\n      <td>14.792899</td>\n      <td>14.792899</td>\n      <td>14.792899</td>\n      <td>January</td>\n      <td>Biologische courgette</td>\n      <td>1</td>\n      <td>Monday</td>\n      <td>1.44</td>\n      <td>1.69</td>\n      <td>0.0</td>\n      <td>2.34</td>\n      <td>1/1/2018</td>\n      <td>15</td>\n    </tr>\n    <tr>\n      <th>2018-01-02</th>\n      <td>2.0</td>\n      <td>0.000000</td>\n      <td>0.0</td>\n      <td>0.000000</td>\n      <td>0.000000</td>\n      <td>0.000000</td>\n      <td>0.000000</td>\n      <td>0.000000</td>\n      <td>January</td>\n      <td>Biologische courgette</td>\n      <td>2</td>\n      <td>Tuesday</td>\n      <td>1.69</td>\n      <td>1.69</td>\n      <td>8.0</td>\n      <td>2.34</td>\n      <td>2/1/2018</td>\n      <td>13</td>\n    </tr>\n    <tr>\n      <th>2018-01-03</th>\n      <td>4.0</td>\n      <td>30.177515</td>\n      <td>0.0</td>\n      <td>30.177515</td>\n      <td>30.177515</td>\n      <td>30.177515</td>\n      <td>30.177515</td>\n      <td>30.177515</td>\n      <td>January</td>\n      <td>Biologische courgette</td>\n      <td>3</td>\n      <td>Wednesday</td>\n      <td>1.18</td>\n      <td>1.69</td>\n      <td>2.0</td>\n      <td>2.34</td>\n      <td>3/1/2018</td>\n      <td>8</td>\n    </tr>\n    <tr>\n      <th>2018-01-04</th>\n      <td>3.0</td>\n      <td>0.000000</td>\n      <td>0.0</td>\n      <td>0.000000</td>\n      <td>0.000000</td>\n      <td>0.000000</td>\n      <td>0.000000</td>\n      <td>0.000000</td>\n      <td>January</td>\n      <td>Biologische courgette</td>\n      <td>4</td>\n      <td>Thursday</td>\n      <td>1.69</td>\n      <td>1.69</td>\n      <td>4.0</td>\n      <td>2.34</td>\n      <td>4/1/2018</td>\n      <td>16</td>\n    </tr>\n    <tr>\n      <th>2018-01-05</th>\n      <td>3.0</td>\n      <td>0.000000</td>\n      <td>0.0</td>\n      <td>0.000000</td>\n      <td>0.000000</td>\n      <td>0.000000</td>\n      <td>0.000000</td>\n      <td>0.000000</td>\n      <td>January</td>\n      <td>Biologische courgette</td>\n      <td>5</td>\n      <td>Friday</td>\n      <td>1.69</td>\n      <td>1.69</td>\n      <td>3.0</td>\n      <td>2.34</td>\n      <td>5/1/2018</td>\n      <td>16</td>\n    </tr>\n  </tbody>\n</table>\n</div>"
     },
     "metadata": {},
     "execution_count": 46
    }
   ],
   "source": [
    "compl_prod = \"Biologisch volkoren heel\"\n",
    "\n",
    "prepared_transactions = prepare_data(filtered_transactions, discounts_per_day, compl_prod, transactions)\n",
    "prepared_transactions.head()"
   ]
  },
  {
   "cell_type": "code",
   "execution_count": 47,
   "metadata": {},
   "outputs": [
    {
     "output_type": "stream",
     "name": "stdout",
     "text": [
      "Model fitted; test set metrics: MAE: 1.5429145187027395 MSE: 3.4441643912990965, R^2 score: -0.09107636471988267\n"
     ]
    }
   ],
   "source": [
    "from sklearn.ensemble import RandomForestRegressor, VotingRegressor, StackingRegressor\n",
    "from sklearn.neural_network import MLPRegressor\n",
    "from sklearn.linear_model import Ridge, LinearRegression\n",
    "from sklearn.tree import DecisionTreeRegressor\n",
    "\n",
    "output_dct = prepare_demand_function(prepared_transactions)\n",
    "nn =  MLPRegressor(hidden_layer_sizes=(50,50))\n",
    "rf = RandomForestRegressor(n_estimators=50, max_depth=9)\n",
    "rf2 = RandomForestRegressor(n_estimators=300)\n",
    "ridge = Ridge()\n",
    "voter = VotingRegressor([(\"nn\",nn), (\"df\",rf), (\"lin\", ridge)])\n",
    "model = fit_demand_function(output_dct,ridge)"
   ]
  },
  {
   "cell_type": "code",
   "execution_count": 48,
   "metadata": {},
   "outputs": [
    {
     "output_type": "execute_result",
     "data": {
      "text/plain": [
       "             predictor      coef\n",
       "0             discount  0.134996\n",
       "1       purchase_price -0.002281\n",
       "2   prev_day_purchases -0.095561\n",
       "3          on_discount -0.120929\n",
       "4                sales -0.139352\n",
       "5            x0_Friday  0.126974\n",
       "6            x0_Monday  0.513630\n",
       "7          x0_Saturday  1.108219\n",
       "8            x0_Sunday -0.839608\n",
       "9          x0_Thursday -0.549412\n",
       "10          x0_Tuesday  0.135862\n",
       "11        x0_Wednesday -0.495666\n",
       "12            x0_April  0.011708\n",
       "13           x0_August  0.139735\n",
       "14         x0_December  0.000000\n",
       "15         x0_February -0.497052\n",
       "16          x0_January -0.209363\n",
       "17             x0_July -0.312378\n",
       "18             x0_June -0.368059\n",
       "19            x0_March  1.153484\n",
       "20              x0_May -0.566383\n",
       "21         x0_November  0.000000\n",
       "22          x0_October  0.851269\n",
       "23        x0_September -0.202960"
      ],
      "text/html": "<div>\n<style scoped>\n    .dataframe tbody tr th:only-of-type {\n        vertical-align: middle;\n    }\n\n    .dataframe tbody tr th {\n        vertical-align: top;\n    }\n\n    .dataframe thead th {\n        text-align: right;\n    }\n</style>\n<table border=\"1\" class=\"dataframe\">\n  <thead>\n    <tr style=\"text-align: right;\">\n      <th></th>\n      <th>predictor</th>\n      <th>coef</th>\n    </tr>\n  </thead>\n  <tbody>\n    <tr>\n      <th>0</th>\n      <td>discount</td>\n      <td>0.134996</td>\n    </tr>\n    <tr>\n      <th>1</th>\n      <td>purchase_price</td>\n      <td>-0.002281</td>\n    </tr>\n    <tr>\n      <th>2</th>\n      <td>prev_day_purchases</td>\n      <td>-0.095561</td>\n    </tr>\n    <tr>\n      <th>3</th>\n      <td>on_discount</td>\n      <td>-0.120929</td>\n    </tr>\n    <tr>\n      <th>4</th>\n      <td>sales</td>\n      <td>-0.139352</td>\n    </tr>\n    <tr>\n      <th>5</th>\n      <td>x0_Friday</td>\n      <td>0.126974</td>\n    </tr>\n    <tr>\n      <th>6</th>\n      <td>x0_Monday</td>\n      <td>0.513630</td>\n    </tr>\n    <tr>\n      <th>7</th>\n      <td>x0_Saturday</td>\n      <td>1.108219</td>\n    </tr>\n    <tr>\n      <th>8</th>\n      <td>x0_Sunday</td>\n      <td>-0.839608</td>\n    </tr>\n    <tr>\n      <th>9</th>\n      <td>x0_Thursday</td>\n      <td>-0.549412</td>\n    </tr>\n    <tr>\n      <th>10</th>\n      <td>x0_Tuesday</td>\n      <td>0.135862</td>\n    </tr>\n    <tr>\n      <th>11</th>\n      <td>x0_Wednesday</td>\n      <td>-0.495666</td>\n    </tr>\n    <tr>\n      <th>12</th>\n      <td>x0_April</td>\n      <td>0.011708</td>\n    </tr>\n    <tr>\n      <th>13</th>\n      <td>x0_August</td>\n      <td>0.139735</td>\n    </tr>\n    <tr>\n      <th>14</th>\n      <td>x0_December</td>\n      <td>0.000000</td>\n    </tr>\n    <tr>\n      <th>15</th>\n      <td>x0_February</td>\n      <td>-0.497052</td>\n    </tr>\n    <tr>\n      <th>16</th>\n      <td>x0_January</td>\n      <td>-0.209363</td>\n    </tr>\n    <tr>\n      <th>17</th>\n      <td>x0_July</td>\n      <td>-0.312378</td>\n    </tr>\n    <tr>\n      <th>18</th>\n      <td>x0_June</td>\n      <td>-0.368059</td>\n    </tr>\n    <tr>\n      <th>19</th>\n      <td>x0_March</td>\n      <td>1.153484</td>\n    </tr>\n    <tr>\n      <th>20</th>\n      <td>x0_May</td>\n      <td>-0.566383</td>\n    </tr>\n    <tr>\n      <th>21</th>\n      <td>x0_November</td>\n      <td>0.000000</td>\n    </tr>\n    <tr>\n      <th>22</th>\n      <td>x0_October</td>\n      <td>0.851269</td>\n    </tr>\n    <tr>\n      <th>23</th>\n      <td>x0_September</td>\n      <td>-0.202960</td>\n    </tr>\n  </tbody>\n</table>\n</div>"
     },
     "metadata": {},
     "execution_count": 48
    }
   ],
   "source": [
    "pd.DataFrame({\"predictor\":output_dct[\"train\"][0].columns, \"coef\":model.coef_})"
   ]
  },
  {
   "cell_type": "code",
   "execution_count": 49,
   "metadata": {},
   "outputs": [],
   "source": [
    "prepared_transactions.dropna(inplace=True)\n",
    "one_row = prepared_transactions#[prepared_transactions[\"product\"] == \"Biologische knoflook\"].tail(500)\n",
    "pred_columns = [\"discount\", \"purchase_price\", \"prev_day_purchases\", \"on_discount\", \"sales\"]\n",
    "target_col = \"count\"\n",
    "\n",
    "\n",
    "df_dayofweek = pd.DataFrame(output_dct[\"weekday_enc\"].transform(one_row[[\"dayofweek\"]]), columns=output_dct[\"weekday_enc\"].get_feature_names())\n",
    "\n",
    "df_month = pd.DataFrame(output_dct[\"months_enc\"].transform(one_row[[\"month\"]]), columns=output_dct[\"months_enc\"].get_feature_names())\n",
    "\n",
    "#df_product = pd.DataFrame(output_dct[\"product_enc\"].transform(one_row[[\"product\"]]), columns=output_dct[\"product_enc\"].get_feature_names())\n",
    "\n",
    "X_pred = pd.concat([pd.DataFrame(one_row[pred_columns].values, columns=one_row[pred_columns].columns), df_dayofweek, df_month], axis=1) #add df_product back\n",
    "\n",
    "one_row[\"predicted\"] = model.predict(X_pred)"
   ]
  },
  {
   "cell_type": "code",
   "execution_count": 50,
   "metadata": {},
   "outputs": [
    {
     "output_type": "display_data",
     "data": {
      "application/vnd.plotly.v1+json": {
       "config": {
        "plotlyServerURL": "https://plot.ly"
       },
       "data": [
        {
         "hovertemplate": "day=%{x}<br>count=%{y}<extra></extra>",
         "legendgroup": "",
         "line": {
          "color": "#636efa",
          "dash": "solid"
         },
         "mode": "lines",
         "name": "",
         "orientation": "v",
         "showlegend": false,
         "type": "scatter",
         "x": [
          1,
          2,
          3,
          4,
          5,
          6,
          7,
          8,
          9,
          10,
          11,
          12,
          13,
          14,
          15,
          16,
          17,
          18,
          19,
          20,
          21,
          22,
          25,
          26,
          27,
          28,
          30,
          31,
          33,
          34,
          35,
          36,
          37,
          38,
          39,
          40,
          42,
          43,
          44,
          45,
          46,
          48,
          49,
          50,
          51,
          52,
          53,
          55,
          56,
          57,
          58,
          59,
          60,
          62,
          64,
          65,
          66,
          67,
          68,
          69,
          70,
          72,
          73,
          74,
          75,
          76,
          78,
          79,
          80,
          81,
          83,
          84,
          85,
          86,
          87,
          88,
          89,
          90,
          91,
          92,
          93,
          94,
          95,
          96,
          98,
          99,
          100,
          101,
          102,
          104,
          105,
          106,
          107,
          109,
          110,
          111,
          112,
          113,
          114,
          115,
          116,
          117,
          118,
          119,
          120,
          121,
          122,
          123,
          125,
          126,
          128,
          130,
          131,
          132,
          133,
          134,
          136,
          137,
          138,
          139,
          140,
          141,
          143,
          145,
          147,
          148,
          150,
          151,
          152,
          153,
          154,
          155,
          157,
          158,
          159,
          160,
          161,
          162,
          163,
          167,
          168,
          169,
          170,
          171,
          172,
          173,
          174,
          175,
          176,
          177,
          180,
          181,
          182,
          183,
          186,
          187,
          188,
          189,
          190,
          191,
          192,
          193,
          194,
          195,
          196,
          197,
          198,
          199,
          200,
          201,
          202,
          203,
          204,
          205,
          206,
          207,
          208,
          210,
          211,
          212,
          213,
          214,
          215,
          216,
          219,
          220,
          221,
          222,
          223,
          224,
          225,
          227,
          229,
          231,
          232,
          233,
          234,
          235,
          236,
          237,
          238,
          239,
          242,
          243,
          244,
          245,
          246,
          247,
          248,
          249,
          250,
          251,
          252,
          254,
          256,
          257,
          259,
          262,
          264,
          265,
          266,
          267,
          269,
          270,
          271,
          272,
          273,
          274,
          275,
          276,
          277,
          278,
          279,
          280,
          281,
          283,
          284,
          286,
          287,
          288,
          290,
          291,
          293,
          295,
          296,
          297,
          298,
          299,
          300,
          301,
          302,
          303,
          304,
          305,
          307,
          308,
          309,
          310,
          311,
          312,
          315,
          317,
          318,
          319,
          320,
          321,
          322,
          323,
          326,
          327,
          328,
          330,
          331,
          332,
          333,
          335,
          336,
          337,
          338,
          339,
          340,
          341,
          342,
          343,
          345,
          346,
          347,
          348,
          349,
          352,
          353,
          354,
          355,
          356,
          357,
          358,
          359,
          360,
          361,
          362,
          363,
          364
         ],
         "xaxis": "x",
         "y": [
          8,
          2,
          4,
          3,
          3,
          3,
          6,
          4,
          3,
          2,
          4,
          6,
          4,
          2,
          2,
          3,
          2,
          10,
          6,
          6,
          6,
          4,
          2,
          13,
          8,
          2,
          2,
          2,
          4,
          12,
          2,
          4,
          6,
          5,
          4,
          2,
          4,
          2,
          4,
          2,
          2,
          4,
          4,
          3,
          4,
          4,
          2,
          7,
          3,
          9,
          6,
          4,
          2,
          22,
          2,
          6,
          5,
          7,
          3,
          5,
          3,
          12,
          2,
          2,
          7,
          5,
          6,
          7,
          4,
          8,
          4,
          2,
          5,
          4,
          6,
          3,
          8,
          4,
          2,
          4,
          11,
          2,
          2,
          3,
          8,
          4,
          2,
          2,
          2,
          13,
          6,
          3,
          6,
          7,
          3,
          4,
          2,
          3,
          8,
          14,
          5,
          5,
          6,
          7,
          4,
          3,
          5,
          4,
          10,
          2,
          2,
          2,
          3,
          3,
          7,
          4,
          2,
          4,
          4,
          2,
          3,
          4,
          5,
          2,
          8,
          2,
          3,
          2,
          5,
          9,
          6,
          5,
          3,
          2,
          6,
          3,
          2,
          5,
          3,
          3,
          2,
          5,
          4,
          2,
          5,
          4,
          4,
          4,
          2,
          3,
          4,
          7,
          3,
          7,
          4,
          3,
          5,
          3,
          4,
          4,
          5,
          2,
          3,
          3,
          4,
          3,
          3,
          9,
          3,
          6,
          3,
          2,
          4,
          2,
          2,
          3,
          4,
          6,
          3,
          3,
          4,
          3,
          2,
          9,
          5,
          4,
          2,
          5,
          10,
          4,
          5,
          7,
          7,
          5,
          4,
          5,
          2,
          3,
          3,
          5,
          3,
          4,
          2,
          2,
          5,
          4,
          4,
          2,
          2,
          2,
          6,
          4,
          4,
          5,
          5,
          2,
          5,
          8,
          3,
          4,
          3,
          4,
          5,
          2,
          8,
          3,
          2,
          4,
          12,
          7,
          4,
          2,
          3,
          4,
          6,
          3,
          18,
          2,
          2,
          2,
          3,
          2,
          5,
          5,
          3,
          2,
          2,
          6,
          3,
          2,
          2,
          2,
          5,
          2,
          8,
          2,
          5,
          4,
          3,
          7,
          6,
          4,
          2,
          5,
          3,
          5,
          2,
          2,
          2,
          3,
          4,
          6,
          3,
          2,
          2,
          5,
          5,
          6,
          2,
          3,
          2,
          2,
          3,
          3,
          4,
          4,
          7,
          5,
          3,
          7,
          4,
          7,
          8,
          4,
          7,
          6,
          2,
          4,
          3,
          2,
          3,
          4
         ],
         "yaxis": "y"
        },
        {
         "mode": "lines",
         "type": "scatter",
         "x": [
          1,
          2,
          3,
          4,
          5,
          6,
          7,
          8,
          9,
          10,
          11,
          12,
          13,
          14,
          15,
          16,
          17,
          18,
          19,
          20,
          21,
          22,
          25,
          26,
          27,
          28,
          30,
          31,
          33,
          34,
          35,
          36,
          37,
          38,
          39,
          40,
          42,
          43,
          44,
          45,
          46,
          48,
          49,
          50,
          51,
          52,
          53,
          55,
          56,
          57,
          58,
          59,
          60,
          62,
          64,
          65,
          66,
          67,
          68,
          69,
          70,
          72,
          73,
          74,
          75,
          76,
          78,
          79,
          80,
          81,
          83,
          84,
          85,
          86,
          87,
          88,
          89,
          90,
          91,
          92,
          93,
          94,
          95,
          96,
          98,
          99,
          100,
          101,
          102,
          104,
          105,
          106,
          107,
          109,
          110,
          111,
          112,
          113,
          114,
          115,
          116,
          117,
          118,
          119,
          120,
          121,
          122,
          123,
          125,
          126,
          128,
          130,
          131,
          132,
          133,
          134,
          136,
          137,
          138,
          139,
          140,
          141,
          143,
          145,
          147,
          148,
          150,
          151,
          152,
          153,
          154,
          155,
          157,
          158,
          159,
          160,
          161,
          162,
          163,
          167,
          168,
          169,
          170,
          171,
          172,
          173,
          174,
          175,
          176,
          177,
          180,
          181,
          182,
          183,
          186,
          187,
          188,
          189,
          190,
          191,
          192,
          193,
          194,
          195,
          196,
          197,
          198,
          199,
          200,
          201,
          202,
          203,
          204,
          205,
          206,
          207,
          208,
          210,
          211,
          212,
          213,
          214,
          215,
          216,
          219,
          220,
          221,
          222,
          223,
          224,
          225,
          227,
          229,
          231,
          232,
          233,
          234,
          235,
          236,
          237,
          238,
          239,
          242,
          243,
          244,
          245,
          246,
          247,
          248,
          249,
          250,
          251,
          252,
          254,
          256,
          257,
          259,
          262,
          264,
          265,
          266,
          267,
          269,
          270,
          271,
          272,
          273,
          274,
          275,
          276,
          277,
          278,
          279,
          280,
          281,
          283,
          284,
          286,
          287,
          288,
          290,
          291,
          293,
          295,
          296,
          297,
          298,
          299,
          300,
          301,
          302,
          303,
          304,
          305,
          307,
          308,
          309,
          310,
          311,
          312,
          315,
          317,
          318,
          319,
          320,
          321,
          322,
          323,
          326,
          327,
          328,
          330,
          331,
          332,
          333,
          335,
          336,
          337,
          338,
          339,
          340,
          341,
          342,
          343,
          345,
          346,
          347,
          348,
          349,
          352,
          353,
          354,
          355,
          356,
          357,
          358,
          359,
          360,
          361,
          362,
          363,
          364
         ],
         "y": [
          6.825924505682382,
          3.927967103264886,
          8.549462101160772,
          3.262153221668708,
          4.0341008576818895,
          5.619988847848214,
          4.518662466383965,
          3.4085007946277948,
          4.068355846067471,
          4.137032467104829,
          3.695133465006339,
          4.059467983970633,
          5.3333043547781065,
          4.30217234471515,
          3.6698181614091583,
          4.1385502174687625,
          4.137032467104829,
          3.574204841027559,
          3.6070276218091974,
          5.2123757307993275,
          4.111049349335079,
          3.6503580425853537,
          3.669766338717595,
          4.371519603329484,
          4.6643738709478555,
          3.557140482018668,
          4.475968963116358,
          3.627950844900967,
          4.058463464692431,
          8.828034730303099,
          2.161633735037536,
          3.744915020997187,
          3.7806668337191605,
          2.9580158417925135,
          2.878902711630362,
          3.6508503476435434,
          3.817453329521829,
          3.3119347776595562,
          4.092718453078012,
          3.1491388371725852,
          3.1655872047004694,
          5.523422830879976,
          3.6516974604305013,
          3.553792025617115,
          3.997156955387976,
          3.511924709108925,
          3.0953928332991776,
          4.944146837274822,
          3.2440843433816138,
          7.845293035694279,
          7.37787023367733,
          7.153955354179642,
          6.743482895089848,
          10.76525492810096,
          5.12822635147864,
          5.501396909848207,
          4.729480170499048,
          4.7712956643156765,
          5.135630183279971,
          6.620049668291321,
          5.08574304348944,
          5.526764036136951,
          3.9142539364012743,
          4.937051533407004,
          5.61343767173015,
          6.1168750535523975,
          4.745980360718496,
          5.119150919088064,
          4.6339186728090125,
          4.6249999140481535,
          6.690244039692613,
          4.818518669243138,
          5.153593477767384,
          5.2147124167781005,
          5.0415317898579,
          4.554805542646861,
          5.517876174040114,
          6.142242179841141,
          5.795226103708973,
          3.8908893072127446,
          8.364437880279405,
          3.1098971354730103,
          3.674347362852366,
          4.350733501175512,
          3.772304620357315,
          3.4384489450513094,
          4.289426991871057,
          4.090879238662113,
          3.9162046108099253,
          5.911254365053093,
          3.0585468914145153,
          3.87142918838894,
          4.384988489561093,
          3.8908374845211813,
          3.993854636704112,
          5.720131369673021,
          3.918600370624838,
          7.246780627078443,
          7.740879809426791,
          6.873401572387595,
          6.004429334416414,
          7.661797575928661,
          8.522113822222309,
          6.841511447152906,
          3.6549390667201247,
          5.7088896405900815,
          3.659083280585746,
          4.968005229621321,
          5.454091280687981,
          2.8880683001195124,
          3.8957983173846125,
          3.306085814654665,
          4.007839079266554,
          5.014451075827725,
          3.3084815744695777,
          2.873079664570726,
          3.200735910959371,
          2.9753270305296957,
          3.5815187974515497,
          4.804620915681536,
          3.773488905618579,
          2.975378853221259,
          3.0798072869805915,
          3.6068859237402933,
          3.2897744097034605,
          3.102214484664978,
          3.8502062759658178,
          3.242551404775999,
          5.847591960353913,
          5.391098348344775,
          3.4238114802052633,
          3.338483229407362,
          3.9042198816163016,
          3.4174936344052624,
          4.189441270418444,
          4.788440149930727,
          3.6110123896002473,
          3.7738820853724024,
          3.814098220275287,
          5.410558467168579,
          3.51346597043036,
          3.7529792812645697,
          3.814098220275287,
          3.399060345397527,
          3.536437336904191,
          3.8052103581784493,
          5.123873974098471,
          3.296975848761545,
          3.4409276619057185,
          4.100782713345394,
          4.429313596896153,
          5.244802598077251,
          4.821669128567213,
          3.592169823366174,
          3.5667508743858667,
          3.956452519638905,
          5.0332588876013675,
          3.4989522627994876,
          3.954955695302513,
          3.9653403817357424,
          3.2128837612103878,
          3.063576259646944,
          4.147575515018977,
          4.9123302636225885,
          3.6900752581795593,
          3.496608325676138,
          4.060901879425778,
          3.3084452589004236,
          2.439473020929241,
          3.9310853933501613,
          4.625645770552481,
          3.56914663420078,
          3.68773132105621,
          3.9653403817357424,
          3.645864004548019,
          3.471189376695831,
          4.052014017328941,
          3.7602696295808515,
          2.9426994583597272,
          3.9399732554469984,
          4.002415387195896,
          3.853107885632452,
          4.504126897666854,
          5.9437191375656555,
          4.825066379122543,
          3.932221015794604,
          3.853107885632452,
          4.59968839535689,
          5.536106020516769,
          3.4732576546872216,
          3.9028436024986335,
          4.274362558459588,
          4.776074068930546,
          4.172278061823606,
          4.01426816686563,
          4.328575604393553,
          3.7224147341357217,
          3.834424599353642,
          4.657106487944311,
          5.759279982195517,
          3.9831161094360783,
          4.173224069257536,
          4.01886375472378,
          4.72061701933567,
          5.480095739305986,
          3.729298992835291,
          3.3641691837756023,
          4.074758487792765,
          3.7552821106050422,
          3.5806074827528542,
          4.498850869033559,
          5.218778372524622,
          3.583003242567768,
          4.361442980862874,
          3.5552403564641106,
          3.9703091280058924,
          3.774126237947839,
          3.8996168178800215,
          4.15947108039342,
          4.949592955285775,
          3.027133332258813,
          3.9597029139090707,
          3.729914984316298,
          3.172994365703967,
          4.256993621076,
          4.664869505208212,
          3.436707492300244,
          4.851379002109228,
          5.0080594388099815,
          3.7329680847218984,
          4.15702956929867,
          5.120100200691923,
          6.292468066344422,
          4.732794315253798,
          4.418398758771597,
          4.905073183291073,
          4.5392755600588135,
          6.629886811992017,
          4.828355812943834,
          4.730450378130449,
          4.663215935333514,
          4.5392755600588135,
          6.629886811992017,
          5.067869123778044,
          5.0334265650987255,
          4.593021563932222,
          4.634837057748849,
          5.190294572093215,
          6.0311506995630575,
          4.611865691275019,
          4.851379002109228,
          5.320111058168832,
          5.172297557537377,
          3.617811866467557,
          6.2623319857171715,
          3.766503376549994,
          4.121038303898043,
          4.061228618929981,
          3.6461907440522214,
          3.688006237868849,
          3.9517193644651263,
          4.678671896125057,
          3.5186021585508156,
          3.776907774036259,
          4.045680795310517,
          5.459905908920575,
          3.200027540246018,
          3.529091702054829,
          3.7582006092701414,
          4.45995387388203,
          5.345637246464422,
          3.446200812602853,
          4.207524369197504,
          4.104538113678597,
          3.6626391115801056,
          5.657688865823273,
          3.8113306216625418,
          4.124984268370438,
          3.6435255906243924,
          4.007015572996016,
          3.7367794474537925,
          4.629655707445754,
          5.731829201696961,
          3.8093695786699984,
          4.3732802382888325,
          3.6461907440522214,
          3.5924447401788133,
          3.9821463854318515,
          5.2754428750631295,
          7.7291715581545315,
          6.836326194826592,
          6.948336060044513,
          7.33803770529755,
          8.4655783258375,
          7.020926191260718,
          6.001420319337109,
          4.086595745218725,
          4.079170987389853,
          3.5924447401788133,
          4.606249624149554,
          5.803984616090796,
          3.6396677451062747
         ]
        }
       ],
       "layout": {
        "legend": {
         "tracegroupgap": 0
        },
        "margin": {
         "t": 60
        },
        "template": {
         "data": {
          "bar": [
           {
            "error_x": {
             "color": "#2a3f5f"
            },
            "error_y": {
             "color": "#2a3f5f"
            },
            "marker": {
             "line": {
              "color": "#E5ECF6",
              "width": 0.5
             }
            },
            "type": "bar"
           }
          ],
          "barpolar": [
           {
            "marker": {
             "line": {
              "color": "#E5ECF6",
              "width": 0.5
             }
            },
            "type": "barpolar"
           }
          ],
          "carpet": [
           {
            "aaxis": {
             "endlinecolor": "#2a3f5f",
             "gridcolor": "white",
             "linecolor": "white",
             "minorgridcolor": "white",
             "startlinecolor": "#2a3f5f"
            },
            "baxis": {
             "endlinecolor": "#2a3f5f",
             "gridcolor": "white",
             "linecolor": "white",
             "minorgridcolor": "white",
             "startlinecolor": "#2a3f5f"
            },
            "type": "carpet"
           }
          ],
          "choropleth": [
           {
            "colorbar": {
             "outlinewidth": 0,
             "ticks": ""
            },
            "type": "choropleth"
           }
          ],
          "contour": [
           {
            "colorbar": {
             "outlinewidth": 0,
             "ticks": ""
            },
            "colorscale": [
             [
              0,
              "#0d0887"
             ],
             [
              0.1111111111111111,
              "#46039f"
             ],
             [
              0.2222222222222222,
              "#7201a8"
             ],
             [
              0.3333333333333333,
              "#9c179e"
             ],
             [
              0.4444444444444444,
              "#bd3786"
             ],
             [
              0.5555555555555556,
              "#d8576b"
             ],
             [
              0.6666666666666666,
              "#ed7953"
             ],
             [
              0.7777777777777778,
              "#fb9f3a"
             ],
             [
              0.8888888888888888,
              "#fdca26"
             ],
             [
              1,
              "#f0f921"
             ]
            ],
            "type": "contour"
           }
          ],
          "contourcarpet": [
           {
            "colorbar": {
             "outlinewidth": 0,
             "ticks": ""
            },
            "type": "contourcarpet"
           }
          ],
          "heatmap": [
           {
            "colorbar": {
             "outlinewidth": 0,
             "ticks": ""
            },
            "colorscale": [
             [
              0,
              "#0d0887"
             ],
             [
              0.1111111111111111,
              "#46039f"
             ],
             [
              0.2222222222222222,
              "#7201a8"
             ],
             [
              0.3333333333333333,
              "#9c179e"
             ],
             [
              0.4444444444444444,
              "#bd3786"
             ],
             [
              0.5555555555555556,
              "#d8576b"
             ],
             [
              0.6666666666666666,
              "#ed7953"
             ],
             [
              0.7777777777777778,
              "#fb9f3a"
             ],
             [
              0.8888888888888888,
              "#fdca26"
             ],
             [
              1,
              "#f0f921"
             ]
            ],
            "type": "heatmap"
           }
          ],
          "heatmapgl": [
           {
            "colorbar": {
             "outlinewidth": 0,
             "ticks": ""
            },
            "colorscale": [
             [
              0,
              "#0d0887"
             ],
             [
              0.1111111111111111,
              "#46039f"
             ],
             [
              0.2222222222222222,
              "#7201a8"
             ],
             [
              0.3333333333333333,
              "#9c179e"
             ],
             [
              0.4444444444444444,
              "#bd3786"
             ],
             [
              0.5555555555555556,
              "#d8576b"
             ],
             [
              0.6666666666666666,
              "#ed7953"
             ],
             [
              0.7777777777777778,
              "#fb9f3a"
             ],
             [
              0.8888888888888888,
              "#fdca26"
             ],
             [
              1,
              "#f0f921"
             ]
            ],
            "type": "heatmapgl"
           }
          ],
          "histogram": [
           {
            "marker": {
             "colorbar": {
              "outlinewidth": 0,
              "ticks": ""
             }
            },
            "type": "histogram"
           }
          ],
          "histogram2d": [
           {
            "colorbar": {
             "outlinewidth": 0,
             "ticks": ""
            },
            "colorscale": [
             [
              0,
              "#0d0887"
             ],
             [
              0.1111111111111111,
              "#46039f"
             ],
             [
              0.2222222222222222,
              "#7201a8"
             ],
             [
              0.3333333333333333,
              "#9c179e"
             ],
             [
              0.4444444444444444,
              "#bd3786"
             ],
             [
              0.5555555555555556,
              "#d8576b"
             ],
             [
              0.6666666666666666,
              "#ed7953"
             ],
             [
              0.7777777777777778,
              "#fb9f3a"
             ],
             [
              0.8888888888888888,
              "#fdca26"
             ],
             [
              1,
              "#f0f921"
             ]
            ],
            "type": "histogram2d"
           }
          ],
          "histogram2dcontour": [
           {
            "colorbar": {
             "outlinewidth": 0,
             "ticks": ""
            },
            "colorscale": [
             [
              0,
              "#0d0887"
             ],
             [
              0.1111111111111111,
              "#46039f"
             ],
             [
              0.2222222222222222,
              "#7201a8"
             ],
             [
              0.3333333333333333,
              "#9c179e"
             ],
             [
              0.4444444444444444,
              "#bd3786"
             ],
             [
              0.5555555555555556,
              "#d8576b"
             ],
             [
              0.6666666666666666,
              "#ed7953"
             ],
             [
              0.7777777777777778,
              "#fb9f3a"
             ],
             [
              0.8888888888888888,
              "#fdca26"
             ],
             [
              1,
              "#f0f921"
             ]
            ],
            "type": "histogram2dcontour"
           }
          ],
          "mesh3d": [
           {
            "colorbar": {
             "outlinewidth": 0,
             "ticks": ""
            },
            "type": "mesh3d"
           }
          ],
          "parcoords": [
           {
            "line": {
             "colorbar": {
              "outlinewidth": 0,
              "ticks": ""
             }
            },
            "type": "parcoords"
           }
          ],
          "pie": [
           {
            "automargin": true,
            "type": "pie"
           }
          ],
          "scatter": [
           {
            "marker": {
             "colorbar": {
              "outlinewidth": 0,
              "ticks": ""
             }
            },
            "type": "scatter"
           }
          ],
          "scatter3d": [
           {
            "line": {
             "colorbar": {
              "outlinewidth": 0,
              "ticks": ""
             }
            },
            "marker": {
             "colorbar": {
              "outlinewidth": 0,
              "ticks": ""
             }
            },
            "type": "scatter3d"
           }
          ],
          "scattercarpet": [
           {
            "marker": {
             "colorbar": {
              "outlinewidth": 0,
              "ticks": ""
             }
            },
            "type": "scattercarpet"
           }
          ],
          "scattergeo": [
           {
            "marker": {
             "colorbar": {
              "outlinewidth": 0,
              "ticks": ""
             }
            },
            "type": "scattergeo"
           }
          ],
          "scattergl": [
           {
            "marker": {
             "colorbar": {
              "outlinewidth": 0,
              "ticks": ""
             }
            },
            "type": "scattergl"
           }
          ],
          "scattermapbox": [
           {
            "marker": {
             "colorbar": {
              "outlinewidth": 0,
              "ticks": ""
             }
            },
            "type": "scattermapbox"
           }
          ],
          "scatterpolar": [
           {
            "marker": {
             "colorbar": {
              "outlinewidth": 0,
              "ticks": ""
             }
            },
            "type": "scatterpolar"
           }
          ],
          "scatterpolargl": [
           {
            "marker": {
             "colorbar": {
              "outlinewidth": 0,
              "ticks": ""
             }
            },
            "type": "scatterpolargl"
           }
          ],
          "scatterternary": [
           {
            "marker": {
             "colorbar": {
              "outlinewidth": 0,
              "ticks": ""
             }
            },
            "type": "scatterternary"
           }
          ],
          "surface": [
           {
            "colorbar": {
             "outlinewidth": 0,
             "ticks": ""
            },
            "colorscale": [
             [
              0,
              "#0d0887"
             ],
             [
              0.1111111111111111,
              "#46039f"
             ],
             [
              0.2222222222222222,
              "#7201a8"
             ],
             [
              0.3333333333333333,
              "#9c179e"
             ],
             [
              0.4444444444444444,
              "#bd3786"
             ],
             [
              0.5555555555555556,
              "#d8576b"
             ],
             [
              0.6666666666666666,
              "#ed7953"
             ],
             [
              0.7777777777777778,
              "#fb9f3a"
             ],
             [
              0.8888888888888888,
              "#fdca26"
             ],
             [
              1,
              "#f0f921"
             ]
            ],
            "type": "surface"
           }
          ],
          "table": [
           {
            "cells": {
             "fill": {
              "color": "#EBF0F8"
             },
             "line": {
              "color": "white"
             }
            },
            "header": {
             "fill": {
              "color": "#C8D4E3"
             },
             "line": {
              "color": "white"
             }
            },
            "type": "table"
           }
          ]
         },
         "layout": {
          "annotationdefaults": {
           "arrowcolor": "#2a3f5f",
           "arrowhead": 0,
           "arrowwidth": 1
          },
          "coloraxis": {
           "colorbar": {
            "outlinewidth": 0,
            "ticks": ""
           }
          },
          "colorscale": {
           "diverging": [
            [
             0,
             "#8e0152"
            ],
            [
             0.1,
             "#c51b7d"
            ],
            [
             0.2,
             "#de77ae"
            ],
            [
             0.3,
             "#f1b6da"
            ],
            [
             0.4,
             "#fde0ef"
            ],
            [
             0.5,
             "#f7f7f7"
            ],
            [
             0.6,
             "#e6f5d0"
            ],
            [
             0.7,
             "#b8e186"
            ],
            [
             0.8,
             "#7fbc41"
            ],
            [
             0.9,
             "#4d9221"
            ],
            [
             1,
             "#276419"
            ]
           ],
           "sequential": [
            [
             0,
             "#0d0887"
            ],
            [
             0.1111111111111111,
             "#46039f"
            ],
            [
             0.2222222222222222,
             "#7201a8"
            ],
            [
             0.3333333333333333,
             "#9c179e"
            ],
            [
             0.4444444444444444,
             "#bd3786"
            ],
            [
             0.5555555555555556,
             "#d8576b"
            ],
            [
             0.6666666666666666,
             "#ed7953"
            ],
            [
             0.7777777777777778,
             "#fb9f3a"
            ],
            [
             0.8888888888888888,
             "#fdca26"
            ],
            [
             1,
             "#f0f921"
            ]
           ],
           "sequentialminus": [
            [
             0,
             "#0d0887"
            ],
            [
             0.1111111111111111,
             "#46039f"
            ],
            [
             0.2222222222222222,
             "#7201a8"
            ],
            [
             0.3333333333333333,
             "#9c179e"
            ],
            [
             0.4444444444444444,
             "#bd3786"
            ],
            [
             0.5555555555555556,
             "#d8576b"
            ],
            [
             0.6666666666666666,
             "#ed7953"
            ],
            [
             0.7777777777777778,
             "#fb9f3a"
            ],
            [
             0.8888888888888888,
             "#fdca26"
            ],
            [
             1,
             "#f0f921"
            ]
           ]
          },
          "colorway": [
           "#636efa",
           "#EF553B",
           "#00cc96",
           "#ab63fa",
           "#FFA15A",
           "#19d3f3",
           "#FF6692",
           "#B6E880",
           "#FF97FF",
           "#FECB52"
          ],
          "font": {
           "color": "#2a3f5f"
          },
          "geo": {
           "bgcolor": "white",
           "lakecolor": "white",
           "landcolor": "#E5ECF6",
           "showlakes": true,
           "showland": true,
           "subunitcolor": "white"
          },
          "hoverlabel": {
           "align": "left"
          },
          "hovermode": "closest",
          "mapbox": {
           "style": "light"
          },
          "paper_bgcolor": "white",
          "plot_bgcolor": "#E5ECF6",
          "polar": {
           "angularaxis": {
            "gridcolor": "white",
            "linecolor": "white",
            "ticks": ""
           },
           "bgcolor": "#E5ECF6",
           "radialaxis": {
            "gridcolor": "white",
            "linecolor": "white",
            "ticks": ""
           }
          },
          "scene": {
           "xaxis": {
            "backgroundcolor": "#E5ECF6",
            "gridcolor": "white",
            "gridwidth": 2,
            "linecolor": "white",
            "showbackground": true,
            "ticks": "",
            "zerolinecolor": "white"
           },
           "yaxis": {
            "backgroundcolor": "#E5ECF6",
            "gridcolor": "white",
            "gridwidth": 2,
            "linecolor": "white",
            "showbackground": true,
            "ticks": "",
            "zerolinecolor": "white"
           },
           "zaxis": {
            "backgroundcolor": "#E5ECF6",
            "gridcolor": "white",
            "gridwidth": 2,
            "linecolor": "white",
            "showbackground": true,
            "ticks": "",
            "zerolinecolor": "white"
           }
          },
          "shapedefaults": {
           "line": {
            "color": "#2a3f5f"
           }
          },
          "ternary": {
           "aaxis": {
            "gridcolor": "white",
            "linecolor": "white",
            "ticks": ""
           },
           "baxis": {
            "gridcolor": "white",
            "linecolor": "white",
            "ticks": ""
           },
           "bgcolor": "#E5ECF6",
           "caxis": {
            "gridcolor": "white",
            "linecolor": "white",
            "ticks": ""
           }
          },
          "title": {
           "x": 0.05
          },
          "xaxis": {
           "automargin": true,
           "gridcolor": "white",
           "linecolor": "white",
           "ticks": "",
           "title": {
            "standoff": 15
           },
           "zerolinecolor": "white",
           "zerolinewidth": 2
          },
          "yaxis": {
           "automargin": true,
           "gridcolor": "white",
           "linecolor": "white",
           "ticks": "",
           "title": {
            "standoff": 15
           },
           "zerolinecolor": "white",
           "zerolinewidth": 2
          }
         }
        },
        "xaxis": {
         "anchor": "y",
         "domain": [
          0,
          1
         ],
         "title": {
          "text": "day"
         }
        },
        "yaxis": {
         "anchor": "x",
         "domain": [
          0,
          1
         ],
         "title": {
          "text": "count"
         }
        }
       }
      }
     },
     "metadata": {}
    }
   ],
   "source": [
    "import plotly.express as px\n",
    "fig = px.line(one_row, x=\"day\", y=\"count\")\n",
    "fig.add_scatter(x=one_row[\"day\"], y=one_row[\"predicted\"], mode=\"lines\")\n",
    "fig.show()"
   ]
  },
  {
   "cell_type": "code",
   "execution_count": 26,
   "metadata": {},
   "outputs": [
    {
     "output_type": "stream",
     "name": "stderr",
     "text": [
      "c:\\Users\\zolyo\\OneDrive\\Documents\\Quartile 3\\JBG050 Data Challenge 2\\Code\\src\\demand.py:143: SettingWithCopyWarning:\n\n\nA value is trying to be set on a copy of a slice from a DataFrame\n\nSee the caveats in the documentation: https://pandas.pydata.org/pandas-docs/stable/user_guide/indexing.html#returning-a-view-versus-a-copy\n\n"
     ]
    },
    {
     "output_type": "execute_result",
     "data": {
      "text/plain": [
       "array([3.80296181])"
      ]
     },
     "metadata": {},
     "execution_count": 26
    }
   ],
   "source": [
    "modded = one_row.tail(1)\n",
    "#modded[\"discount\"] = 30\n",
    "X_mod = prepare_predictors(modded, output_dct)\n",
    "model.predict(X_mod)"
   ]
  },
  {
   "cell_type": "code",
   "execution_count": null,
   "metadata": {},
   "outputs": [],
   "source": [
    "model.decision_path()"
   ]
  },
  {
   "cell_type": "code",
   "execution_count": 28,
   "metadata": {},
   "outputs": [
    {
     "output_type": "execute_result",
     "data": {
      "text/plain": [
       "array([6.17123928])"
      ]
     },
     "metadata": {},
     "execution_count": 28
    }
   ],
   "source": [
    "X_mod20 = apply_discount(X_mod, 20)\n",
    "model.predict(X_mod20)"
   ]
  },
  {
   "cell_type": "code",
   "execution_count": 21,
   "metadata": {},
   "outputs": [
    {
     "output_type": "execute_result",
     "data": {
      "text/plain": [
       "                                  count  discount  std  min  25%  50%  75%  \\\n",
       "description           day                                                    \n",
       "Biologische courgette 2018-12-30    4.0       0.0  0.0  0.0  0.0  0.0  0.0   \n",
       "\n",
       "                                  max     month                product  day  \\\n",
       "description           day                                                     \n",
       "Biologische courgette 2018-12-30  0.0  December  Biologische courgette  364   \n",
       "\n",
       "                                 dayofweek  purchase_price  std_sales_price  \\\n",
       "description           day                                                     \n",
       "Biologische courgette 2018-12-30    Sunday            1.69             1.69   \n",
       "\n",
       "                                  prev_day_purchases  sales        days  \\\n",
       "description           day                                                 \n",
       "Biologische courgette 2018-12-30                 3.0   2.34  30-12-2018   \n",
       "\n",
       "                                  on_discount  predicted  \n",
       "description           day                                 \n",
       "Biologische courgette 2018-12-30           13    3.65273  "
      ],
      "text/html": "<div>\n<style scoped>\n    .dataframe tbody tr th:only-of-type {\n        vertical-align: middle;\n    }\n\n    .dataframe tbody tr th {\n        vertical-align: top;\n    }\n\n    .dataframe thead th {\n        text-align: right;\n    }\n</style>\n<table border=\"1\" class=\"dataframe\">\n  <thead>\n    <tr style=\"text-align: right;\">\n      <th></th>\n      <th></th>\n      <th>count</th>\n      <th>discount</th>\n      <th>std</th>\n      <th>min</th>\n      <th>25%</th>\n      <th>50%</th>\n      <th>75%</th>\n      <th>max</th>\n      <th>month</th>\n      <th>product</th>\n      <th>day</th>\n      <th>dayofweek</th>\n      <th>purchase_price</th>\n      <th>std_sales_price</th>\n      <th>prev_day_purchases</th>\n      <th>sales</th>\n      <th>days</th>\n      <th>on_discount</th>\n      <th>predicted</th>\n    </tr>\n    <tr>\n      <th>description</th>\n      <th>day</th>\n      <th></th>\n      <th></th>\n      <th></th>\n      <th></th>\n      <th></th>\n      <th></th>\n      <th></th>\n      <th></th>\n      <th></th>\n      <th></th>\n      <th></th>\n      <th></th>\n      <th></th>\n      <th></th>\n      <th></th>\n      <th></th>\n      <th></th>\n      <th></th>\n      <th></th>\n    </tr>\n  </thead>\n  <tbody>\n    <tr>\n      <th>Biologische courgette</th>\n      <th>2018-12-30</th>\n      <td>4.0</td>\n      <td>0.0</td>\n      <td>0.0</td>\n      <td>0.0</td>\n      <td>0.0</td>\n      <td>0.0</td>\n      <td>0.0</td>\n      <td>0.0</td>\n      <td>December</td>\n      <td>Biologische courgette</td>\n      <td>364</td>\n      <td>Sunday</td>\n      <td>1.69</td>\n      <td>1.69</td>\n      <td>3.0</td>\n      <td>2.34</td>\n      <td>30-12-2018</td>\n      <td>13</td>\n      <td>3.65273</td>\n    </tr>\n  </tbody>\n</table>\n</div>"
     },
     "metadata": {},
     "execution_count": 21
    }
   ],
   "source": [
    "modded"
   ]
  },
  {
   "cell_type": "code",
   "execution_count": 47,
   "metadata": {},
   "outputs": [
    {
     "output_type": "display_data",
     "data": {
      "application/vnd.plotly.v1+json": {
       "config": {
        "plotlyServerURL": "https://plot.ly"
       },
       "data": [
        {
         "hovertemplate": "purchase_price=%{x}<br>count=%{y}<extra></extra>",
         "legendgroup": "",
         "marker": {
          "color": "#636efa",
          "symbol": "circle"
         },
         "mode": "markers",
         "name": "",
         "orientation": "v",
         "showlegend": false,
         "type": "scatter",
         "x": [
          0.48,
          0.69,
          0.66,
          0.69,
          0.48,
          0.69,
          0.69,
          0.69,
          0.69,
          0.6900000000000001,
          0.69,
          0.6900000000000001,
          0.69,
          0.69,
          0.69,
          0.69,
          0.6900000000000001,
          0.69,
          0.69,
          0.69,
          0.69,
          0.69,
          0.69,
          0.69,
          0.69,
          0.69,
          0.48,
          0.69,
          0.69,
          0.69,
          0.69,
          0.6549999999999999,
          0.69,
          0.69,
          0.69,
          0.69,
          0.69,
          0.69,
          0.6066666666666666,
          0.59,
          0.59,
          0.59,
          0.59,
          0.59,
          0.59,
          0.6233333333333332,
          0.69,
          0.69,
          0.48,
          0.69,
          0.69,
          0.69,
          0.66,
          0.69,
          0.69,
          0.69,
          0.69,
          0.69,
          0.69,
          0.69,
          0.69,
          0.69,
          0.6899999999999998,
          0.69,
          0.69,
          0.69,
          0.69,
          0.69,
          0.69,
          0.69,
          0.69,
          0.69,
          0.69,
          0.69,
          0.69,
          0.69,
          0.69,
          0.69,
          0.69,
          0.69,
          0.66,
          0.69,
          0.69,
          0.69,
          0.6899999999999998,
          0.69,
          0.69,
          0.69,
          0.69,
          0.69,
          0.69,
          0.69,
          0.69,
          0.69,
          0.69,
          0.69,
          0.69,
          0.6900000000000001,
          0.69,
          0.69,
          0.69,
          0.6675000000000001,
          0.48,
          0.69,
          0.69,
          0.69,
          0.66,
          0.69,
          0.69,
          0.69,
          0.69,
          0.69,
          0.69,
          0.69,
          0.69,
          0.69,
          0.69,
          0.69,
          0.69,
          0.69,
          0.6900000000000001,
          0.69,
          0.6900000000000001,
          0.69,
          0.69,
          0.69,
          0.69,
          0.6899999999999998,
          0.69,
          0.69,
          0.48000000000000004,
          0.69,
          0.69,
          0.66,
          0.69,
          0.6900000000000001,
          0.69,
          0.69,
          0.69,
          0.69,
          0.69,
          0.69,
          0.69,
          0.69,
          0.6900000000000001,
          0.69,
          0.69,
          0.69,
          0.69,
          0.69,
          0.5033333333333333,
          0.48,
          0.48,
          0.48,
          0.4800000000000002,
          0.48000000000000015,
          0.48,
          0.69,
          0.69,
          0.69,
          0.69,
          0.69,
          0.69,
          0.69,
          0.69,
          0.69,
          0.6900000000000001,
          0.69,
          0.69,
          0.69,
          0.69,
          0.69,
          0.69,
          0.69,
          0.69,
          0.69,
          0.69,
          0.69,
          0.69,
          0.69,
          0.69,
          0.69,
          0.69,
          0.69,
          0.6900000000000001,
          0.6599999999999999,
          0.69,
          0.69,
          0.69,
          0.69,
          0.69,
          0.69,
          0.69,
          0.69,
          0.69,
          0.69,
          0.69,
          0.69,
          0.69,
          0.69,
          0.69,
          0.69,
          0.69,
          0.69,
          0.69,
          0.69,
          0.69,
          0.69,
          0.69,
          0.69,
          0.69,
          0.69,
          0.69,
          0.69,
          0.69,
          0.69,
          0.6899999999999998,
          0.69,
          0.69,
          0.69,
          0.69,
          0.69,
          0.69,
          0.69,
          0.69,
          0.69,
          0.69,
          0.69,
          0.69,
          0.69,
          0.69,
          0.69,
          0.69,
          0.69,
          0.69,
          0.69,
          0.69,
          0.6899999999999998,
          0.69,
          0.69,
          0.69,
          0.69,
          0.69,
          0.69,
          0.69,
          0.69,
          0.69,
          0.69,
          0.69,
          0.69,
          0.69,
          0.69,
          0.69,
          0.69,
          0.69,
          0.69,
          0.69,
          0.6899999999999998,
          0.69,
          0.69,
          0.69,
          0.69,
          0.69,
          0.69,
          0.6899999999999998,
          0.69,
          0.69,
          0.69,
          0.69,
          0.69,
          0.69,
          0.52,
          0.52,
          0.52,
          0.52,
          0.52,
          0.52,
          0.52,
          0.69,
          0.69,
          0.69,
          0.69,
          0.69,
          0.69,
          0.69,
          0.69,
          0.69,
          0.69,
          0.69,
          0.69,
          0.6900000000000001,
          0.69,
          0.69,
          0.69,
          0.69,
          0.69,
          0.69,
          0.69,
          0.69,
          0.69,
          0.69,
          0.6900000000000001,
          0.69,
          0.69,
          0.6900000000000001,
          0.69,
          0.69,
          0.69
         ],
         "xaxis": "x",
         "y": [
          6,
          6,
          6,
          5,
          7,
          4,
          6,
          3,
          2,
          7,
          4,
          7,
          6,
          4,
          2,
          3,
          7,
          2,
          2,
          9,
          5,
          8,
          3,
          2,
          4,
          3,
          5,
          3,
          6,
          5,
          8,
          6,
          2,
          3,
          4,
          3,
          3,
          2,
          6,
          5,
          9,
          7,
          4,
          4,
          8,
          3,
          4,
          5,
          2,
          2,
          9,
          5,
          4,
          2,
          2,
          3,
          2,
          4,
          2,
          2,
          9,
          4,
          10,
          6,
          9,
          6,
          8,
          4,
          4,
          4,
          6,
          6,
          4,
          4,
          3,
          8,
          6,
          3,
          5,
          6,
          6,
          4,
          4,
          3,
          10,
          6,
          3,
          5,
          6,
          4,
          6,
          8,
          3,
          2,
          5,
          2,
          6,
          7,
          2,
          5,
          5,
          4,
          3,
          3,
          4,
          3,
          9,
          4,
          2,
          2,
          2,
          6,
          9,
          2,
          3,
          3,
          3,
          8,
          5,
          6,
          7,
          4,
          7,
          2,
          4,
          3,
          9,
          12,
          3,
          2,
          9,
          5,
          5,
          2,
          2,
          7,
          3,
          2,
          3,
          6,
          6,
          3,
          4,
          5,
          7,
          3,
          2,
          4,
          3,
          4,
          9,
          5,
          4,
          6,
          15,
          13,
          6,
          4,
          2,
          4,
          3,
          3,
          5,
          3,
          3,
          2,
          7,
          2,
          2,
          6,
          4,
          3,
          4,
          3,
          5,
          4,
          6,
          4,
          5,
          5,
          3,
          3,
          4,
          2,
          7,
          7,
          4,
          5,
          6,
          5,
          6,
          2,
          8,
          8,
          2,
          8,
          3,
          4,
          2,
          4,
          5,
          2,
          2,
          3,
          6,
          2,
          4,
          4,
          4,
          3,
          2,
          4,
          3,
          4,
          3,
          2,
          10,
          6,
          3,
          3,
          3,
          3,
          2,
          2,
          3,
          5,
          2,
          5,
          5,
          4,
          6,
          6,
          2,
          6,
          3,
          4,
          5,
          10,
          4,
          2,
          3,
          2,
          5,
          4,
          3,
          4,
          3,
          2,
          4,
          3,
          2,
          4,
          3,
          9,
          5,
          2,
          2,
          10,
          2,
          3,
          8,
          4,
          3,
          3,
          12,
          5,
          4,
          2,
          3,
          3,
          4,
          4,
          4,
          4,
          5,
          8,
          2,
          5,
          3,
          2,
          5,
          3,
          9,
          4,
          3,
          2,
          6,
          6,
          4,
          4,
          7,
          2,
          4,
          2,
          3,
          2,
          3,
          4,
          3,
          5,
          3,
          7,
          2,
          5,
          7,
          4,
          2,
          2
         ],
         "yaxis": "y"
        }
       ],
       "layout": {
        "legend": {
         "tracegroupgap": 0
        },
        "margin": {
         "t": 60
        },
        "template": {
         "data": {
          "bar": [
           {
            "error_x": {
             "color": "#2a3f5f"
            },
            "error_y": {
             "color": "#2a3f5f"
            },
            "marker": {
             "line": {
              "color": "#E5ECF6",
              "width": 0.5
             }
            },
            "type": "bar"
           }
          ],
          "barpolar": [
           {
            "marker": {
             "line": {
              "color": "#E5ECF6",
              "width": 0.5
             }
            },
            "type": "barpolar"
           }
          ],
          "carpet": [
           {
            "aaxis": {
             "endlinecolor": "#2a3f5f",
             "gridcolor": "white",
             "linecolor": "white",
             "minorgridcolor": "white",
             "startlinecolor": "#2a3f5f"
            },
            "baxis": {
             "endlinecolor": "#2a3f5f",
             "gridcolor": "white",
             "linecolor": "white",
             "minorgridcolor": "white",
             "startlinecolor": "#2a3f5f"
            },
            "type": "carpet"
           }
          ],
          "choropleth": [
           {
            "colorbar": {
             "outlinewidth": 0,
             "ticks": ""
            },
            "type": "choropleth"
           }
          ],
          "contour": [
           {
            "colorbar": {
             "outlinewidth": 0,
             "ticks": ""
            },
            "colorscale": [
             [
              0,
              "#0d0887"
             ],
             [
              0.1111111111111111,
              "#46039f"
             ],
             [
              0.2222222222222222,
              "#7201a8"
             ],
             [
              0.3333333333333333,
              "#9c179e"
             ],
             [
              0.4444444444444444,
              "#bd3786"
             ],
             [
              0.5555555555555556,
              "#d8576b"
             ],
             [
              0.6666666666666666,
              "#ed7953"
             ],
             [
              0.7777777777777778,
              "#fb9f3a"
             ],
             [
              0.8888888888888888,
              "#fdca26"
             ],
             [
              1,
              "#f0f921"
             ]
            ],
            "type": "contour"
           }
          ],
          "contourcarpet": [
           {
            "colorbar": {
             "outlinewidth": 0,
             "ticks": ""
            },
            "type": "contourcarpet"
           }
          ],
          "heatmap": [
           {
            "colorbar": {
             "outlinewidth": 0,
             "ticks": ""
            },
            "colorscale": [
             [
              0,
              "#0d0887"
             ],
             [
              0.1111111111111111,
              "#46039f"
             ],
             [
              0.2222222222222222,
              "#7201a8"
             ],
             [
              0.3333333333333333,
              "#9c179e"
             ],
             [
              0.4444444444444444,
              "#bd3786"
             ],
             [
              0.5555555555555556,
              "#d8576b"
             ],
             [
              0.6666666666666666,
              "#ed7953"
             ],
             [
              0.7777777777777778,
              "#fb9f3a"
             ],
             [
              0.8888888888888888,
              "#fdca26"
             ],
             [
              1,
              "#f0f921"
             ]
            ],
            "type": "heatmap"
           }
          ],
          "heatmapgl": [
           {
            "colorbar": {
             "outlinewidth": 0,
             "ticks": ""
            },
            "colorscale": [
             [
              0,
              "#0d0887"
             ],
             [
              0.1111111111111111,
              "#46039f"
             ],
             [
              0.2222222222222222,
              "#7201a8"
             ],
             [
              0.3333333333333333,
              "#9c179e"
             ],
             [
              0.4444444444444444,
              "#bd3786"
             ],
             [
              0.5555555555555556,
              "#d8576b"
             ],
             [
              0.6666666666666666,
              "#ed7953"
             ],
             [
              0.7777777777777778,
              "#fb9f3a"
             ],
             [
              0.8888888888888888,
              "#fdca26"
             ],
             [
              1,
              "#f0f921"
             ]
            ],
            "type": "heatmapgl"
           }
          ],
          "histogram": [
           {
            "marker": {
             "colorbar": {
              "outlinewidth": 0,
              "ticks": ""
             }
            },
            "type": "histogram"
           }
          ],
          "histogram2d": [
           {
            "colorbar": {
             "outlinewidth": 0,
             "ticks": ""
            },
            "colorscale": [
             [
              0,
              "#0d0887"
             ],
             [
              0.1111111111111111,
              "#46039f"
             ],
             [
              0.2222222222222222,
              "#7201a8"
             ],
             [
              0.3333333333333333,
              "#9c179e"
             ],
             [
              0.4444444444444444,
              "#bd3786"
             ],
             [
              0.5555555555555556,
              "#d8576b"
             ],
             [
              0.6666666666666666,
              "#ed7953"
             ],
             [
              0.7777777777777778,
              "#fb9f3a"
             ],
             [
              0.8888888888888888,
              "#fdca26"
             ],
             [
              1,
              "#f0f921"
             ]
            ],
            "type": "histogram2d"
           }
          ],
          "histogram2dcontour": [
           {
            "colorbar": {
             "outlinewidth": 0,
             "ticks": ""
            },
            "colorscale": [
             [
              0,
              "#0d0887"
             ],
             [
              0.1111111111111111,
              "#46039f"
             ],
             [
              0.2222222222222222,
              "#7201a8"
             ],
             [
              0.3333333333333333,
              "#9c179e"
             ],
             [
              0.4444444444444444,
              "#bd3786"
             ],
             [
              0.5555555555555556,
              "#d8576b"
             ],
             [
              0.6666666666666666,
              "#ed7953"
             ],
             [
              0.7777777777777778,
              "#fb9f3a"
             ],
             [
              0.8888888888888888,
              "#fdca26"
             ],
             [
              1,
              "#f0f921"
             ]
            ],
            "type": "histogram2dcontour"
           }
          ],
          "mesh3d": [
           {
            "colorbar": {
             "outlinewidth": 0,
             "ticks": ""
            },
            "type": "mesh3d"
           }
          ],
          "parcoords": [
           {
            "line": {
             "colorbar": {
              "outlinewidth": 0,
              "ticks": ""
             }
            },
            "type": "parcoords"
           }
          ],
          "pie": [
           {
            "automargin": true,
            "type": "pie"
           }
          ],
          "scatter": [
           {
            "marker": {
             "colorbar": {
              "outlinewidth": 0,
              "ticks": ""
             }
            },
            "type": "scatter"
           }
          ],
          "scatter3d": [
           {
            "line": {
             "colorbar": {
              "outlinewidth": 0,
              "ticks": ""
             }
            },
            "marker": {
             "colorbar": {
              "outlinewidth": 0,
              "ticks": ""
             }
            },
            "type": "scatter3d"
           }
          ],
          "scattercarpet": [
           {
            "marker": {
             "colorbar": {
              "outlinewidth": 0,
              "ticks": ""
             }
            },
            "type": "scattercarpet"
           }
          ],
          "scattergeo": [
           {
            "marker": {
             "colorbar": {
              "outlinewidth": 0,
              "ticks": ""
             }
            },
            "type": "scattergeo"
           }
          ],
          "scattergl": [
           {
            "marker": {
             "colorbar": {
              "outlinewidth": 0,
              "ticks": ""
             }
            },
            "type": "scattergl"
           }
          ],
          "scattermapbox": [
           {
            "marker": {
             "colorbar": {
              "outlinewidth": 0,
              "ticks": ""
             }
            },
            "type": "scattermapbox"
           }
          ],
          "scatterpolar": [
           {
            "marker": {
             "colorbar": {
              "outlinewidth": 0,
              "ticks": ""
             }
            },
            "type": "scatterpolar"
           }
          ],
          "scatterpolargl": [
           {
            "marker": {
             "colorbar": {
              "outlinewidth": 0,
              "ticks": ""
             }
            },
            "type": "scatterpolargl"
           }
          ],
          "scatterternary": [
           {
            "marker": {
             "colorbar": {
              "outlinewidth": 0,
              "ticks": ""
             }
            },
            "type": "scatterternary"
           }
          ],
          "surface": [
           {
            "colorbar": {
             "outlinewidth": 0,
             "ticks": ""
            },
            "colorscale": [
             [
              0,
              "#0d0887"
             ],
             [
              0.1111111111111111,
              "#46039f"
             ],
             [
              0.2222222222222222,
              "#7201a8"
             ],
             [
              0.3333333333333333,
              "#9c179e"
             ],
             [
              0.4444444444444444,
              "#bd3786"
             ],
             [
              0.5555555555555556,
              "#d8576b"
             ],
             [
              0.6666666666666666,
              "#ed7953"
             ],
             [
              0.7777777777777778,
              "#fb9f3a"
             ],
             [
              0.8888888888888888,
              "#fdca26"
             ],
             [
              1,
              "#f0f921"
             ]
            ],
            "type": "surface"
           }
          ],
          "table": [
           {
            "cells": {
             "fill": {
              "color": "#EBF0F8"
             },
             "line": {
              "color": "white"
             }
            },
            "header": {
             "fill": {
              "color": "#C8D4E3"
             },
             "line": {
              "color": "white"
             }
            },
            "type": "table"
           }
          ]
         },
         "layout": {
          "annotationdefaults": {
           "arrowcolor": "#2a3f5f",
           "arrowhead": 0,
           "arrowwidth": 1
          },
          "coloraxis": {
           "colorbar": {
            "outlinewidth": 0,
            "ticks": ""
           }
          },
          "colorscale": {
           "diverging": [
            [
             0,
             "#8e0152"
            ],
            [
             0.1,
             "#c51b7d"
            ],
            [
             0.2,
             "#de77ae"
            ],
            [
             0.3,
             "#f1b6da"
            ],
            [
             0.4,
             "#fde0ef"
            ],
            [
             0.5,
             "#f7f7f7"
            ],
            [
             0.6,
             "#e6f5d0"
            ],
            [
             0.7,
             "#b8e186"
            ],
            [
             0.8,
             "#7fbc41"
            ],
            [
             0.9,
             "#4d9221"
            ],
            [
             1,
             "#276419"
            ]
           ],
           "sequential": [
            [
             0,
             "#0d0887"
            ],
            [
             0.1111111111111111,
             "#46039f"
            ],
            [
             0.2222222222222222,
             "#7201a8"
            ],
            [
             0.3333333333333333,
             "#9c179e"
            ],
            [
             0.4444444444444444,
             "#bd3786"
            ],
            [
             0.5555555555555556,
             "#d8576b"
            ],
            [
             0.6666666666666666,
             "#ed7953"
            ],
            [
             0.7777777777777778,
             "#fb9f3a"
            ],
            [
             0.8888888888888888,
             "#fdca26"
            ],
            [
             1,
             "#f0f921"
            ]
           ],
           "sequentialminus": [
            [
             0,
             "#0d0887"
            ],
            [
             0.1111111111111111,
             "#46039f"
            ],
            [
             0.2222222222222222,
             "#7201a8"
            ],
            [
             0.3333333333333333,
             "#9c179e"
            ],
            [
             0.4444444444444444,
             "#bd3786"
            ],
            [
             0.5555555555555556,
             "#d8576b"
            ],
            [
             0.6666666666666666,
             "#ed7953"
            ],
            [
             0.7777777777777778,
             "#fb9f3a"
            ],
            [
             0.8888888888888888,
             "#fdca26"
            ],
            [
             1,
             "#f0f921"
            ]
           ]
          },
          "colorway": [
           "#636efa",
           "#EF553B",
           "#00cc96",
           "#ab63fa",
           "#FFA15A",
           "#19d3f3",
           "#FF6692",
           "#B6E880",
           "#FF97FF",
           "#FECB52"
          ],
          "font": {
           "color": "#2a3f5f"
          },
          "geo": {
           "bgcolor": "white",
           "lakecolor": "white",
           "landcolor": "#E5ECF6",
           "showlakes": true,
           "showland": true,
           "subunitcolor": "white"
          },
          "hoverlabel": {
           "align": "left"
          },
          "hovermode": "closest",
          "mapbox": {
           "style": "light"
          },
          "paper_bgcolor": "white",
          "plot_bgcolor": "#E5ECF6",
          "polar": {
           "angularaxis": {
            "gridcolor": "white",
            "linecolor": "white",
            "ticks": ""
           },
           "bgcolor": "#E5ECF6",
           "radialaxis": {
            "gridcolor": "white",
            "linecolor": "white",
            "ticks": ""
           }
          },
          "scene": {
           "xaxis": {
            "backgroundcolor": "#E5ECF6",
            "gridcolor": "white",
            "gridwidth": 2,
            "linecolor": "white",
            "showbackground": true,
            "ticks": "",
            "zerolinecolor": "white"
           },
           "yaxis": {
            "backgroundcolor": "#E5ECF6",
            "gridcolor": "white",
            "gridwidth": 2,
            "linecolor": "white",
            "showbackground": true,
            "ticks": "",
            "zerolinecolor": "white"
           },
           "zaxis": {
            "backgroundcolor": "#E5ECF6",
            "gridcolor": "white",
            "gridwidth": 2,
            "linecolor": "white",
            "showbackground": true,
            "ticks": "",
            "zerolinecolor": "white"
           }
          },
          "shapedefaults": {
           "line": {
            "color": "#2a3f5f"
           }
          },
          "ternary": {
           "aaxis": {
            "gridcolor": "white",
            "linecolor": "white",
            "ticks": ""
           },
           "baxis": {
            "gridcolor": "white",
            "linecolor": "white",
            "ticks": ""
           },
           "bgcolor": "#E5ECF6",
           "caxis": {
            "gridcolor": "white",
            "linecolor": "white",
            "ticks": ""
           }
          },
          "title": {
           "x": 0.05
          },
          "xaxis": {
           "automargin": true,
           "gridcolor": "white",
           "linecolor": "white",
           "ticks": "",
           "title": {
            "standoff": 15
           },
           "zerolinecolor": "white",
           "zerolinewidth": 2
          },
          "yaxis": {
           "automargin": true,
           "gridcolor": "white",
           "linecolor": "white",
           "ticks": "",
           "title": {
            "standoff": 15
           },
           "zerolinecolor": "white",
           "zerolinewidth": 2
          }
         }
        },
        "xaxis": {
         "anchor": "y",
         "domain": [
          0,
          1
         ],
         "title": {
          "text": "purchase_price"
         }
        },
        "yaxis": {
         "anchor": "x",
         "domain": [
          0,
          1
         ],
         "title": {
          "text": "count"
         }
        }
       }
      }
     },
     "metadata": {}
    }
   ],
   "source": [
    "import plotly.express as px\n",
    "fig = px.scatter(one_row, x=\"purchase_price\", y=\"count\")\n",
    "fig.show()"
   ]
  },
  {
   "cell_type": "code",
   "execution_count": 39,
   "metadata": {},
   "outputs": [
    {
     "output_type": "execute_result",
     "data": {
      "text/plain": [
       "                                 count   discount  std        min        25%  \\\n",
       "description          day                                                       \n",
       "Biologische knoflook 2018-01-01    6.0  30.434783  0.0  30.434783  30.434783   \n",
       "                     2018-01-03    6.0   0.000000  0.0   0.000000   0.000000   \n",
       "                     2018-01-05    6.0   4.347826  0.0   4.347826   4.347826   \n",
       "                     2018-01-06    5.0   0.000000  0.0   0.000000   0.000000   \n",
       "                     2018-01-07    7.0  30.434783  0.0  30.434783  30.434783   \n",
       "...                                ...        ...  ...        ...        ...   \n",
       "                     2018-12-25    5.0   0.000000  0.0   0.000000   0.000000   \n",
       "                     2018-12-26    7.0   0.000000  0.0   0.000000   0.000000   \n",
       "                     2018-12-28    4.0   0.000000  0.0   0.000000   0.000000   \n",
       "                     2018-12-29    2.0   0.000000  0.0   0.000000   0.000000   \n",
       "                     2018-12-30    2.0   0.000000  0.0   0.000000   0.000000   \n",
       "\n",
       "                                       50%        75%        max     month  \\\n",
       "description          day                                                     \n",
       "Biologische knoflook 2018-01-01  30.434783  30.434783  30.434783   January   \n",
       "                     2018-01-03   0.000000   0.000000   0.000000   January   \n",
       "                     2018-01-05   4.347826   4.347826   4.347826   January   \n",
       "                     2018-01-06   0.000000   0.000000   0.000000   January   \n",
       "                     2018-01-07  30.434783  30.434783  30.434783   January   \n",
       "...                                    ...        ...        ...       ...   \n",
       "                     2018-12-25   0.000000   0.000000   0.000000  December   \n",
       "                     2018-12-26   0.000000   0.000000   0.000000  December   \n",
       "                     2018-12-28   0.000000   0.000000   0.000000  December   \n",
       "                     2018-12-29   0.000000   0.000000   0.000000  December   \n",
       "                     2018-12-30   0.000000   0.000000   0.000000  December   \n",
       "\n",
       "                                              product  day  dayofweek  \\\n",
       "description          day                                                \n",
       "Biologische knoflook 2018-01-01  Biologische knoflook    1     Monday   \n",
       "                     2018-01-03  Biologische knoflook    3  Wednesday   \n",
       "                     2018-01-05  Biologische knoflook    5     Friday   \n",
       "                     2018-01-06  Biologische knoflook    6   Saturday   \n",
       "                     2018-01-07  Biologische knoflook    7     Sunday   \n",
       "...                                               ...  ...        ...   \n",
       "                     2018-12-25  Biologische knoflook  359    Tuesday   \n",
       "                     2018-12-26  Biologische knoflook  360  Wednesday   \n",
       "                     2018-12-28  Biologische knoflook  362     Friday   \n",
       "                     2018-12-29  Biologische knoflook  363   Saturday   \n",
       "                     2018-12-30  Biologische knoflook  364     Sunday   \n",
       "\n",
       "                                 purchase_price  std_sales_price  discount_2  \\\n",
       "description          day                                                       \n",
       "Biologische knoflook 2018-01-01            0.48             0.69  926.275992   \n",
       "                     2018-01-03            0.69             0.69    0.000000   \n",
       "                     2018-01-05            0.66             0.69   18.903592   \n",
       "                     2018-01-06            0.69             0.69    0.000000   \n",
       "                     2018-01-07            0.48             0.69  926.275992   \n",
       "...                                         ...              ...         ...   \n",
       "                     2018-12-25            0.69             0.69    0.000000   \n",
       "                     2018-12-26            0.69             0.69    0.000000   \n",
       "                     2018-12-28            0.69             0.69    0.000000   \n",
       "                     2018-12-29            0.69             0.69    0.000000   \n",
       "                     2018-12-30            0.69             0.69    0.000000   \n",
       "\n",
       "                                 prev_day_purchases        days  on_discount  \\\n",
       "description          day                                                       \n",
       "Biologische knoflook 2018-01-01                 4.0    1/1/2018           15   \n",
       "                     2018-01-03                 6.0    3/1/2018            8   \n",
       "                     2018-01-05                 1.0    5/1/2018           16   \n",
       "                     2018-01-06                 6.0    6/1/2018           11   \n",
       "                     2018-01-07                 5.0    7/1/2018            4   \n",
       "...                                             ...         ...          ...   \n",
       "                     2018-12-25                 2.0  25-12-2018           15   \n",
       "                     2018-12-26                 5.0  26-12-2018           13   \n",
       "                     2018-12-28                 1.0  28-12-2018           13   \n",
       "                     2018-12-29                 4.0  29-12-2018           12   \n",
       "                     2018-12-30                 2.0  30-12-2018           13   \n",
       "\n",
       "                                 predicted  \n",
       "description          day                    \n",
       "Biologische knoflook 2018-01-01   7.555760  \n",
       "                     2018-01-03   4.511195  \n",
       "                     2018-01-05   4.013872  \n",
       "                     2018-01-06   4.034979  \n",
       "                     2018-01-07   8.226951  \n",
       "...                                    ...  \n",
       "                     2018-12-25   4.511382  \n",
       "                     2018-12-26   3.908512  \n",
       "                     2018-12-28   4.268667  \n",
       "                     2018-12-29   4.405963  \n",
       "                     2018-12-30   4.411930  \n",
       "\n",
       "[308 rows x 19 columns]"
      ],
      "text/html": "<div>\n<style scoped>\n    .dataframe tbody tr th:only-of-type {\n        vertical-align: middle;\n    }\n\n    .dataframe tbody tr th {\n        vertical-align: top;\n    }\n\n    .dataframe thead th {\n        text-align: right;\n    }\n</style>\n<table border=\"1\" class=\"dataframe\">\n  <thead>\n    <tr style=\"text-align: right;\">\n      <th></th>\n      <th></th>\n      <th>count</th>\n      <th>discount</th>\n      <th>std</th>\n      <th>min</th>\n      <th>25%</th>\n      <th>50%</th>\n      <th>75%</th>\n      <th>max</th>\n      <th>month</th>\n      <th>product</th>\n      <th>day</th>\n      <th>dayofweek</th>\n      <th>purchase_price</th>\n      <th>std_sales_price</th>\n      <th>discount_2</th>\n      <th>prev_day_purchases</th>\n      <th>days</th>\n      <th>on_discount</th>\n      <th>predicted</th>\n    </tr>\n    <tr>\n      <th>description</th>\n      <th>day</th>\n      <th></th>\n      <th></th>\n      <th></th>\n      <th></th>\n      <th></th>\n      <th></th>\n      <th></th>\n      <th></th>\n      <th></th>\n      <th></th>\n      <th></th>\n      <th></th>\n      <th></th>\n      <th></th>\n      <th></th>\n      <th></th>\n      <th></th>\n      <th></th>\n      <th></th>\n    </tr>\n  </thead>\n  <tbody>\n    <tr>\n      <th rowspan=\"11\" valign=\"top\">Biologische knoflook</th>\n      <th>2018-01-01</th>\n      <td>6.0</td>\n      <td>30.434783</td>\n      <td>0.0</td>\n      <td>30.434783</td>\n      <td>30.434783</td>\n      <td>30.434783</td>\n      <td>30.434783</td>\n      <td>30.434783</td>\n      <td>January</td>\n      <td>Biologische knoflook</td>\n      <td>1</td>\n      <td>Monday</td>\n      <td>0.48</td>\n      <td>0.69</td>\n      <td>926.275992</td>\n      <td>4.0</td>\n      <td>1/1/2018</td>\n      <td>15</td>\n      <td>7.555760</td>\n    </tr>\n    <tr>\n      <th>2018-01-03</th>\n      <td>6.0</td>\n      <td>0.000000</td>\n      <td>0.0</td>\n      <td>0.000000</td>\n      <td>0.000000</td>\n      <td>0.000000</td>\n      <td>0.000000</td>\n      <td>0.000000</td>\n      <td>January</td>\n      <td>Biologische knoflook</td>\n      <td>3</td>\n      <td>Wednesday</td>\n      <td>0.69</td>\n      <td>0.69</td>\n      <td>0.000000</td>\n      <td>6.0</td>\n      <td>3/1/2018</td>\n      <td>8</td>\n      <td>4.511195</td>\n    </tr>\n    <tr>\n      <th>2018-01-05</th>\n      <td>6.0</td>\n      <td>4.347826</td>\n      <td>0.0</td>\n      <td>4.347826</td>\n      <td>4.347826</td>\n      <td>4.347826</td>\n      <td>4.347826</td>\n      <td>4.347826</td>\n      <td>January</td>\n      <td>Biologische knoflook</td>\n      <td>5</td>\n      <td>Friday</td>\n      <td>0.66</td>\n      <td>0.69</td>\n      <td>18.903592</td>\n      <td>1.0</td>\n      <td>5/1/2018</td>\n      <td>16</td>\n      <td>4.013872</td>\n    </tr>\n    <tr>\n      <th>2018-01-06</th>\n      <td>5.0</td>\n      <td>0.000000</td>\n      <td>0.0</td>\n      <td>0.000000</td>\n      <td>0.000000</td>\n      <td>0.000000</td>\n      <td>0.000000</td>\n      <td>0.000000</td>\n      <td>January</td>\n      <td>Biologische knoflook</td>\n      <td>6</td>\n      <td>Saturday</td>\n      <td>0.69</td>\n      <td>0.69</td>\n      <td>0.000000</td>\n      <td>6.0</td>\n      <td>6/1/2018</td>\n      <td>11</td>\n      <td>4.034979</td>\n    </tr>\n    <tr>\n      <th>2018-01-07</th>\n      <td>7.0</td>\n      <td>30.434783</td>\n      <td>0.0</td>\n      <td>30.434783</td>\n      <td>30.434783</td>\n      <td>30.434783</td>\n      <td>30.434783</td>\n      <td>30.434783</td>\n      <td>January</td>\n      <td>Biologische knoflook</td>\n      <td>7</td>\n      <td>Sunday</td>\n      <td>0.48</td>\n      <td>0.69</td>\n      <td>926.275992</td>\n      <td>5.0</td>\n      <td>7/1/2018</td>\n      <td>4</td>\n      <td>8.226951</td>\n    </tr>\n    <tr>\n      <th>...</th>\n      <td>...</td>\n      <td>...</td>\n      <td>...</td>\n      <td>...</td>\n      <td>...</td>\n      <td>...</td>\n      <td>...</td>\n      <td>...</td>\n      <td>...</td>\n      <td>...</td>\n      <td>...</td>\n      <td>...</td>\n      <td>...</td>\n      <td>...</td>\n      <td>...</td>\n      <td>...</td>\n      <td>...</td>\n      <td>...</td>\n      <td>...</td>\n    </tr>\n    <tr>\n      <th>2018-12-25</th>\n      <td>5.0</td>\n      <td>0.000000</td>\n      <td>0.0</td>\n      <td>0.000000</td>\n      <td>0.000000</td>\n      <td>0.000000</td>\n      <td>0.000000</td>\n      <td>0.000000</td>\n      <td>December</td>\n      <td>Biologische knoflook</td>\n      <td>359</td>\n      <td>Tuesday</td>\n      <td>0.69</td>\n      <td>0.69</td>\n      <td>0.000000</td>\n      <td>2.0</td>\n      <td>25-12-2018</td>\n      <td>15</td>\n      <td>4.511382</td>\n    </tr>\n    <tr>\n      <th>2018-12-26</th>\n      <td>7.0</td>\n      <td>0.000000</td>\n      <td>0.0</td>\n      <td>0.000000</td>\n      <td>0.000000</td>\n      <td>0.000000</td>\n      <td>0.000000</td>\n      <td>0.000000</td>\n      <td>December</td>\n      <td>Biologische knoflook</td>\n      <td>360</td>\n      <td>Wednesday</td>\n      <td>0.69</td>\n      <td>0.69</td>\n      <td>0.000000</td>\n      <td>5.0</td>\n      <td>26-12-2018</td>\n      <td>13</td>\n      <td>3.908512</td>\n    </tr>\n    <tr>\n      <th>2018-12-28</th>\n      <td>4.0</td>\n      <td>0.000000</td>\n      <td>0.0</td>\n      <td>0.000000</td>\n      <td>0.000000</td>\n      <td>0.000000</td>\n      <td>0.000000</td>\n      <td>0.000000</td>\n      <td>December</td>\n      <td>Biologische knoflook</td>\n      <td>362</td>\n      <td>Friday</td>\n      <td>0.69</td>\n      <td>0.69</td>\n      <td>0.000000</td>\n      <td>1.0</td>\n      <td>28-12-2018</td>\n      <td>13</td>\n      <td>4.268667</td>\n    </tr>\n    <tr>\n      <th>2018-12-29</th>\n      <td>2.0</td>\n      <td>0.000000</td>\n      <td>0.0</td>\n      <td>0.000000</td>\n      <td>0.000000</td>\n      <td>0.000000</td>\n      <td>0.000000</td>\n      <td>0.000000</td>\n      <td>December</td>\n      <td>Biologische knoflook</td>\n      <td>363</td>\n      <td>Saturday</td>\n      <td>0.69</td>\n      <td>0.69</td>\n      <td>0.000000</td>\n      <td>4.0</td>\n      <td>29-12-2018</td>\n      <td>12</td>\n      <td>4.405963</td>\n    </tr>\n    <tr>\n      <th>2018-12-30</th>\n      <td>2.0</td>\n      <td>0.000000</td>\n      <td>0.0</td>\n      <td>0.000000</td>\n      <td>0.000000</td>\n      <td>0.000000</td>\n      <td>0.000000</td>\n      <td>0.000000</td>\n      <td>December</td>\n      <td>Biologische knoflook</td>\n      <td>364</td>\n      <td>Sunday</td>\n      <td>0.69</td>\n      <td>0.69</td>\n      <td>0.000000</td>\n      <td>2.0</td>\n      <td>30-12-2018</td>\n      <td>13</td>\n      <td>4.411930</td>\n    </tr>\n  </tbody>\n</table>\n<p>308 rows × 19 columns</p>\n</div>"
     },
     "metadata": {},
     "execution_count": 39
    }
   ],
   "source": [
    "one_row"
   ]
  },
  {
   "cell_type": "code",
   "execution_count": 25,
   "metadata": {},
   "outputs": [
    {
     "output_type": "execute_result",
     "data": {
      "text/plain": [
       "                       customer                                              \\\n",
       "                          count          mean        std      min       25%   \n",
       "description  day                                                              \n",
       "Aardbeien    1/1/2018       9.0     38.333333  16.000000      7.0     31.00   \n",
       "             1/10/2018      6.0  15646.833333  23.819460  15621.0  15625.75   \n",
       "             1/11/2018      6.0  17345.666667  11.075498  17333.0  17337.50   \n",
       "             1/12/2018      5.0  19071.400000  11.436783  19054.0  19071.00   \n",
       "             1/2/2018       8.0   1720.375000  13.037720   1704.0   1709.50   \n",
       "...                         ...           ...        ...      ...       ...   \n",
       "rundervinken 9/5/2018       1.0   7448.000000        NaN   7448.0   7448.00   \n",
       "             9/6/2018       7.0   9285.428571  17.709293   9257.0   9276.50   \n",
       "             9/7/2018       7.0  10946.142857  19.038807  10914.0  10936.50   \n",
       "             9/8/2018       6.0  12685.833333  10.457852  12669.0  12681.00   \n",
       "             9/9/2018       2.0  14419.500000   6.363961  14415.0  14417.25   \n",
       "\n",
       "                                                   bank acount                \\\n",
       "                            50%       75%      max       count          mean   \n",
       "description  day                                                               \n",
       "Aardbeien    1/1/2018      39.0     46.00     60.0         9.0  6.196480e+07   \n",
       "             1/10/2018  15649.0  15667.00  15671.0         6.0  7.127359e+07   \n",
       "             1/11/2018  17348.0  17348.00  17363.0         6.0  4.081008e+07   \n",
       "             1/12/2018  19072.0  19074.00  19086.0         3.0  3.525882e+07   \n",
       "             1/2/2018    1721.0   1729.75   1740.0         7.0  6.307131e+07   \n",
       "...                         ...       ...      ...         ...           ...   \n",
       "rundervinken 9/5/2018    7448.0   7448.00   7448.0         1.0  7.380519e+07   \n",
       "             9/6/2018    9288.0   9296.50   9307.0         5.0  3.724918e+07   \n",
       "             9/7/2018   10947.0  10959.50  10970.0         7.0  5.381642e+07   \n",
       "             9/8/2018   12687.5  12692.50  12698.0         4.0  3.107016e+07   \n",
       "             9/9/2018   14419.5  14421.75  14424.0         2.0  2.884079e+07   \n",
       "\n",
       "                        ... basic      on_discount                           \\\n",
       "                        ...   75%  max       count mean  std  min  25%  50%   \n",
       "description  day        ...                                                   \n",
       "Aardbeien    1/1/2018   ...   0.0  0.0         9.0  0.0  0.0  0.0  0.0  0.0   \n",
       "             1/10/2018  ...   0.0  0.0         6.0  0.0  0.0  0.0  0.0  0.0   \n",
       "             1/11/2018  ...   0.0  0.0         6.0  0.0  0.0  0.0  0.0  0.0   \n",
       "             1/12/2018  ...   0.0  0.0         5.0  0.0  0.0  0.0  0.0  0.0   \n",
       "             1/2/2018   ...   0.0  0.0         8.0  1.0  0.0  1.0  1.0  1.0   \n",
       "...                     ...   ...  ...         ...  ...  ...  ...  ...  ...   \n",
       "rundervinken 9/5/2018   ...   0.0  0.0         1.0  0.0  NaN  0.0  0.0  0.0   \n",
       "             9/6/2018   ...   0.0  0.0         7.0  0.0  0.0  0.0  0.0  0.0   \n",
       "             9/7/2018   ...   0.0  0.0         7.0  0.0  0.0  0.0  0.0  0.0   \n",
       "             9/8/2018   ...   0.0  0.0         6.0  0.0  0.0  0.0  0.0  0.0   \n",
       "             9/9/2018   ...   0.0  0.0         2.0  0.0  0.0  0.0  0.0  0.0   \n",
       "\n",
       "                                  \n",
       "                        75%  max  \n",
       "description  day                  \n",
       "Aardbeien    1/1/2018   0.0  0.0  \n",
       "             1/10/2018  0.0  0.0  \n",
       "             1/11/2018  0.0  0.0  \n",
       "             1/12/2018  0.0  0.0  \n",
       "             1/2/2018   1.0  1.0  \n",
       "...                     ...  ...  \n",
       "rundervinken 9/5/2018   0.0  0.0  \n",
       "             9/6/2018   0.0  0.0  \n",
       "             9/7/2018   0.0  0.0  \n",
       "             9/8/2018   0.0  0.0  \n",
       "             9/9/2018   0.0  0.0  \n",
       "\n",
       "[53181 rows x 56 columns]"
      ],
      "text/html": "<div>\n<style scoped>\n    .dataframe tbody tr th:only-of-type {\n        vertical-align: middle;\n    }\n\n    .dataframe tbody tr th {\n        vertical-align: top;\n    }\n\n    .dataframe thead tr th {\n        text-align: left;\n    }\n\n    .dataframe thead tr:last-of-type th {\n        text-align: right;\n    }\n</style>\n<table border=\"1\" class=\"dataframe\">\n  <thead>\n    <tr>\n      <th></th>\n      <th></th>\n      <th colspan=\"8\" halign=\"left\">customer</th>\n      <th colspan=\"2\" halign=\"left\">bank acount</th>\n      <th>...</th>\n      <th colspan=\"2\" halign=\"left\">basic</th>\n      <th colspan=\"8\" halign=\"left\">on_discount</th>\n    </tr>\n    <tr>\n      <th></th>\n      <th></th>\n      <th>count</th>\n      <th>mean</th>\n      <th>std</th>\n      <th>min</th>\n      <th>25%</th>\n      <th>50%</th>\n      <th>75%</th>\n      <th>max</th>\n      <th>count</th>\n      <th>mean</th>\n      <th>...</th>\n      <th>75%</th>\n      <th>max</th>\n      <th>count</th>\n      <th>mean</th>\n      <th>std</th>\n      <th>min</th>\n      <th>25%</th>\n      <th>50%</th>\n      <th>75%</th>\n      <th>max</th>\n    </tr>\n    <tr>\n      <th>description</th>\n      <th>day</th>\n      <th></th>\n      <th></th>\n      <th></th>\n      <th></th>\n      <th></th>\n      <th></th>\n      <th></th>\n      <th></th>\n      <th></th>\n      <th></th>\n      <th></th>\n      <th></th>\n      <th></th>\n      <th></th>\n      <th></th>\n      <th></th>\n      <th></th>\n      <th></th>\n      <th></th>\n      <th></th>\n      <th></th>\n    </tr>\n  </thead>\n  <tbody>\n    <tr>\n      <th rowspan=\"5\" valign=\"top\">Aardbeien</th>\n      <th>1/1/2018</th>\n      <td>9.0</td>\n      <td>38.333333</td>\n      <td>16.000000</td>\n      <td>7.0</td>\n      <td>31.00</td>\n      <td>39.0</td>\n      <td>46.00</td>\n      <td>60.0</td>\n      <td>9.0</td>\n      <td>6.196480e+07</td>\n      <td>...</td>\n      <td>0.0</td>\n      <td>0.0</td>\n      <td>9.0</td>\n      <td>0.0</td>\n      <td>0.0</td>\n      <td>0.0</td>\n      <td>0.0</td>\n      <td>0.0</td>\n      <td>0.0</td>\n      <td>0.0</td>\n    </tr>\n    <tr>\n      <th>1/10/2018</th>\n      <td>6.0</td>\n      <td>15646.833333</td>\n      <td>23.819460</td>\n      <td>15621.0</td>\n      <td>15625.75</td>\n      <td>15649.0</td>\n      <td>15667.00</td>\n      <td>15671.0</td>\n      <td>6.0</td>\n      <td>7.127359e+07</td>\n      <td>...</td>\n      <td>0.0</td>\n      <td>0.0</td>\n      <td>6.0</td>\n      <td>0.0</td>\n      <td>0.0</td>\n      <td>0.0</td>\n      <td>0.0</td>\n      <td>0.0</td>\n      <td>0.0</td>\n      <td>0.0</td>\n    </tr>\n    <tr>\n      <th>1/11/2018</th>\n      <td>6.0</td>\n      <td>17345.666667</td>\n      <td>11.075498</td>\n      <td>17333.0</td>\n      <td>17337.50</td>\n      <td>17348.0</td>\n      <td>17348.00</td>\n      <td>17363.0</td>\n      <td>6.0</td>\n      <td>4.081008e+07</td>\n      <td>...</td>\n      <td>0.0</td>\n      <td>0.0</td>\n      <td>6.0</td>\n      <td>0.0</td>\n      <td>0.0</td>\n      <td>0.0</td>\n      <td>0.0</td>\n      <td>0.0</td>\n      <td>0.0</td>\n      <td>0.0</td>\n    </tr>\n    <tr>\n      <th>1/12/2018</th>\n      <td>5.0</td>\n      <td>19071.400000</td>\n      <td>11.436783</td>\n      <td>19054.0</td>\n      <td>19071.00</td>\n      <td>19072.0</td>\n      <td>19074.00</td>\n      <td>19086.0</td>\n      <td>3.0</td>\n      <td>3.525882e+07</td>\n      <td>...</td>\n      <td>0.0</td>\n      <td>0.0</td>\n      <td>5.0</td>\n      <td>0.0</td>\n      <td>0.0</td>\n      <td>0.0</td>\n      <td>0.0</td>\n      <td>0.0</td>\n      <td>0.0</td>\n      <td>0.0</td>\n    </tr>\n    <tr>\n      <th>1/2/2018</th>\n      <td>8.0</td>\n      <td>1720.375000</td>\n      <td>13.037720</td>\n      <td>1704.0</td>\n      <td>1709.50</td>\n      <td>1721.0</td>\n      <td>1729.75</td>\n      <td>1740.0</td>\n      <td>7.0</td>\n      <td>6.307131e+07</td>\n      <td>...</td>\n      <td>0.0</td>\n      <td>0.0</td>\n      <td>8.0</td>\n      <td>1.0</td>\n      <td>0.0</td>\n      <td>1.0</td>\n      <td>1.0</td>\n      <td>1.0</td>\n      <td>1.0</td>\n      <td>1.0</td>\n    </tr>\n    <tr>\n      <th>...</th>\n      <th>...</th>\n      <td>...</td>\n      <td>...</td>\n      <td>...</td>\n      <td>...</td>\n      <td>...</td>\n      <td>...</td>\n      <td>...</td>\n      <td>...</td>\n      <td>...</td>\n      <td>...</td>\n      <td>...</td>\n      <td>...</td>\n      <td>...</td>\n      <td>...</td>\n      <td>...</td>\n      <td>...</td>\n      <td>...</td>\n      <td>...</td>\n      <td>...</td>\n      <td>...</td>\n      <td>...</td>\n    </tr>\n    <tr>\n      <th rowspan=\"5\" valign=\"top\">rundervinken</th>\n      <th>9/5/2018</th>\n      <td>1.0</td>\n      <td>7448.000000</td>\n      <td>NaN</td>\n      <td>7448.0</td>\n      <td>7448.00</td>\n      <td>7448.0</td>\n      <td>7448.00</td>\n      <td>7448.0</td>\n      <td>1.0</td>\n      <td>7.380519e+07</td>\n      <td>...</td>\n      <td>0.0</td>\n      <td>0.0</td>\n      <td>1.0</td>\n      <td>0.0</td>\n      <td>NaN</td>\n      <td>0.0</td>\n      <td>0.0</td>\n      <td>0.0</td>\n      <td>0.0</td>\n      <td>0.0</td>\n    </tr>\n    <tr>\n      <th>9/6/2018</th>\n      <td>7.0</td>\n      <td>9285.428571</td>\n      <td>17.709293</td>\n      <td>9257.0</td>\n      <td>9276.50</td>\n      <td>9288.0</td>\n      <td>9296.50</td>\n      <td>9307.0</td>\n      <td>5.0</td>\n      <td>3.724918e+07</td>\n      <td>...</td>\n      <td>0.0</td>\n      <td>0.0</td>\n      <td>7.0</td>\n      <td>0.0</td>\n      <td>0.0</td>\n      <td>0.0</td>\n      <td>0.0</td>\n      <td>0.0</td>\n      <td>0.0</td>\n      <td>0.0</td>\n    </tr>\n    <tr>\n      <th>9/7/2018</th>\n      <td>7.0</td>\n      <td>10946.142857</td>\n      <td>19.038807</td>\n      <td>10914.0</td>\n      <td>10936.50</td>\n      <td>10947.0</td>\n      <td>10959.50</td>\n      <td>10970.0</td>\n      <td>7.0</td>\n      <td>5.381642e+07</td>\n      <td>...</td>\n      <td>0.0</td>\n      <td>0.0</td>\n      <td>7.0</td>\n      <td>0.0</td>\n      <td>0.0</td>\n      <td>0.0</td>\n      <td>0.0</td>\n      <td>0.0</td>\n      <td>0.0</td>\n      <td>0.0</td>\n    </tr>\n    <tr>\n      <th>9/8/2018</th>\n      <td>6.0</td>\n      <td>12685.833333</td>\n      <td>10.457852</td>\n      <td>12669.0</td>\n      <td>12681.00</td>\n      <td>12687.5</td>\n      <td>12692.50</td>\n      <td>12698.0</td>\n      <td>4.0</td>\n      <td>3.107016e+07</td>\n      <td>...</td>\n      <td>0.0</td>\n      <td>0.0</td>\n      <td>6.0</td>\n      <td>0.0</td>\n      <td>0.0</td>\n      <td>0.0</td>\n      <td>0.0</td>\n      <td>0.0</td>\n      <td>0.0</td>\n      <td>0.0</td>\n    </tr>\n    <tr>\n      <th>9/9/2018</th>\n      <td>2.0</td>\n      <td>14419.500000</td>\n      <td>6.363961</td>\n      <td>14415.0</td>\n      <td>14417.25</td>\n      <td>14419.5</td>\n      <td>14421.75</td>\n      <td>14424.0</td>\n      <td>2.0</td>\n      <td>2.884079e+07</td>\n      <td>...</td>\n      <td>0.0</td>\n      <td>0.0</td>\n      <td>2.0</td>\n      <td>0.0</td>\n      <td>0.0</td>\n      <td>0.0</td>\n      <td>0.0</td>\n      <td>0.0</td>\n      <td>0.0</td>\n      <td>0.0</td>\n    </tr>\n  </tbody>\n</table>\n<p>53181 rows × 56 columns</p>\n</div>"
     },
     "metadata": {},
     "execution_count": 25
    }
   ],
   "source": [
    "transactions[\"on_discount\"] = np.where(transactions[\"std_sales_price\"] == transactions[\"purchase_price\"], 0, 1)\n",
    "grouped_transactions = transactions.groupby([\"description\", \"day\"]).describe()\n",
    "grouped_transactions"
   ]
  },
  {
   "cell_type": "code",
   "execution_count": 45,
   "metadata": {},
   "outputs": [],
   "source": [
    "grouped_transactions[\"day\"] = [grouped_transactions.index[i][1] for i in range(grouped_transactions.shape[0])]\n",
    "grouped_transactions[\"on_discount\"] = np.where(grouped_transactions[\"std_sales_price\"][\"mean\"] == grouped_transactions[\"purchase_price\"][\"mean\"], 0, 1)\n",
    "grouped_transactions[\"on_discount\"][\"count\"]\n",
    "\n",
    "df_discounts = pd.DataFrame({\"days\":[grouped_transactions.index[i][1] for i in range(grouped_transactions.shape[0])], \"on_discount\":grouped_transactions[\"on_discount\"][\"count\"]})\n",
    "discounts_per_day = df_discounts.groupby(\"days\").sum()\n",
    "discounts_per_day[\"day\"] = pd.to_datetime(discounts_per_day.index, dayfirst=True)\n",
    "discounts_per_day.to_csv(\"nr_discounts_per_day.csv\")"
   ]
  },
  {
   "cell_type": "code",
   "execution_count": 49,
   "metadata": {},
   "outputs": [],
   "source": [
    "new_df = prepared_transactions.join(discounts_per_day.set_index(\"day\"))"
   ]
  },
  {
   "cell_type": "code",
   "execution_count": 50,
   "metadata": {},
   "outputs": [
    {
     "output_type": "execute_result",
     "data": {
      "text/plain": [
       "                                  count  discount  std  min  25%  50%  75%  \\\n",
       "description           day                                                    \n",
       "Biologische Bloemkool 2018-01-01    5.0       0.0  0.0  0.0  0.0  0.0  0.0   \n",
       "                      2018-01-04    4.0       0.0  0.0  0.0  0.0  0.0  0.0   \n",
       "                      2018-01-05    6.0       0.0  0.0  0.0  0.0  0.0  0.0   \n",
       "                      2018-01-07    9.0       0.0  0.0  0.0  0.0  0.0  0.0   \n",
       "                      2018-01-08    2.0       0.0  0.0  0.0  0.0  0.0  0.0   \n",
       "...                                 ...       ...  ...  ...  ...  ...  ...   \n",
       "Biologische rode kool 2018-12-25    3.0       0.0  0.0  0.0  0.0  0.0  0.0   \n",
       "                      2018-12-26    7.0       0.0  0.0  0.0  0.0  0.0  0.0   \n",
       "                      2018-12-28    5.0       0.0  0.0  0.0  0.0  0.0  0.0   \n",
       "                      2018-12-29    3.0       0.0  0.0  0.0  0.0  0.0  0.0   \n",
       "                      2018-12-30    3.0       0.0  0.0  0.0  0.0  0.0  0.0   \n",
       "\n",
       "                                  max     month                product  day  \\\n",
       "description           day                                                     \n",
       "Biologische Bloemkool 2018-01-01  0.0   January  Biologische Bloemkool    1   \n",
       "                      2018-01-04  0.0   January  Biologische Bloemkool    4   \n",
       "                      2018-01-05  0.0   January  Biologische Bloemkool    5   \n",
       "                      2018-01-07  0.0   January  Biologische Bloemkool    7   \n",
       "                      2018-01-08  0.0   January  Biologische Bloemkool    8   \n",
       "...                               ...       ...                    ...  ...   \n",
       "Biologische rode kool 2018-12-25  0.0  December  Biologische rode kool  359   \n",
       "                      2018-12-26  0.0  December  Biologische rode kool  360   \n",
       "                      2018-12-28  0.0  December  Biologische rode kool  362   \n",
       "                      2018-12-29  0.0  December  Biologische rode kool  363   \n",
       "                      2018-12-30  0.0  December  Biologische rode kool  364   \n",
       "\n",
       "                                  dayofweek  purchase_price  discount_2  \\\n",
       "description           day                                                 \n",
       "Biologische Bloemkool 2018-01-01     Monday            2.39         0.0   \n",
       "                      2018-01-04   Thursday            2.39         0.0   \n",
       "                      2018-01-05     Friday            2.39         0.0   \n",
       "                      2018-01-07     Sunday            2.39         0.0   \n",
       "                      2018-01-08     Monday            2.39         0.0   \n",
       "...                                     ...             ...         ...   \n",
       "Biologische rode kool 2018-12-25    Tuesday            1.29         0.0   \n",
       "                      2018-12-26  Wednesday            1.29         0.0   \n",
       "                      2018-12-28     Friday            1.29         0.0   \n",
       "                      2018-12-29   Saturday            1.29         0.0   \n",
       "                      2018-12-30     Sunday            1.29         0.0   \n",
       "\n",
       "                                  prev_day_purchases  prev_day_pp  \\\n",
       "description           day                                           \n",
       "Biologische Bloemkool 2018-01-01                 0.0          NaN   \n",
       "                      2018-01-04                 1.0         2.39   \n",
       "                      2018-01-05                 4.0         2.39   \n",
       "                      2018-01-07                 1.0         2.39   \n",
       "                      2018-01-08                 9.0         2.39   \n",
       "...                                              ...          ...   \n",
       "Biologische rode kool 2018-12-25                 4.0         1.29   \n",
       "                      2018-12-26                 3.0         1.29   \n",
       "                      2018-12-28                 1.0         1.29   \n",
       "                      2018-12-29                 5.0         1.29   \n",
       "                      2018-12-30                 3.0         1.29   \n",
       "\n",
       "                                  discount_prev_day  on_discount  \n",
       "description           day                                         \n",
       "Biologische Bloemkool 2018-01-01                  1           15  \n",
       "                      2018-01-04                  0           16  \n",
       "                      2018-01-05                  0           16  \n",
       "                      2018-01-07                  0            4  \n",
       "                      2018-01-08                  0           22  \n",
       "...                                             ...          ...  \n",
       "Biologische rode kool 2018-12-25                  0           15  \n",
       "                      2018-12-26                  1           13  \n",
       "                      2018-12-28                  1           13  \n",
       "                      2018-12-29                  0           12  \n",
       "                      2018-12-30                  0           13  \n",
       "\n",
       "[2680 rows x 18 columns]"
      ],
      "text/html": "<div>\n<style scoped>\n    .dataframe tbody tr th:only-of-type {\n        vertical-align: middle;\n    }\n\n    .dataframe tbody tr th {\n        vertical-align: top;\n    }\n\n    .dataframe thead th {\n        text-align: right;\n    }\n</style>\n<table border=\"1\" class=\"dataframe\">\n  <thead>\n    <tr style=\"text-align: right;\">\n      <th></th>\n      <th></th>\n      <th>count</th>\n      <th>discount</th>\n      <th>std</th>\n      <th>min</th>\n      <th>25%</th>\n      <th>50%</th>\n      <th>75%</th>\n      <th>max</th>\n      <th>month</th>\n      <th>product</th>\n      <th>day</th>\n      <th>dayofweek</th>\n      <th>purchase_price</th>\n      <th>discount_2</th>\n      <th>prev_day_purchases</th>\n      <th>prev_day_pp</th>\n      <th>discount_prev_day</th>\n      <th>on_discount</th>\n    </tr>\n    <tr>\n      <th>description</th>\n      <th>day</th>\n      <th></th>\n      <th></th>\n      <th></th>\n      <th></th>\n      <th></th>\n      <th></th>\n      <th></th>\n      <th></th>\n      <th></th>\n      <th></th>\n      <th></th>\n      <th></th>\n      <th></th>\n      <th></th>\n      <th></th>\n      <th></th>\n      <th></th>\n      <th></th>\n    </tr>\n  </thead>\n  <tbody>\n    <tr>\n      <th rowspan=\"5\" valign=\"top\">Biologische Bloemkool</th>\n      <th>2018-01-01</th>\n      <td>5.0</td>\n      <td>0.0</td>\n      <td>0.0</td>\n      <td>0.0</td>\n      <td>0.0</td>\n      <td>0.0</td>\n      <td>0.0</td>\n      <td>0.0</td>\n      <td>January</td>\n      <td>Biologische Bloemkool</td>\n      <td>1</td>\n      <td>Monday</td>\n      <td>2.39</td>\n      <td>0.0</td>\n      <td>0.0</td>\n      <td>NaN</td>\n      <td>1</td>\n      <td>15</td>\n    </tr>\n    <tr>\n      <th>2018-01-04</th>\n      <td>4.0</td>\n      <td>0.0</td>\n      <td>0.0</td>\n      <td>0.0</td>\n      <td>0.0</td>\n      <td>0.0</td>\n      <td>0.0</td>\n      <td>0.0</td>\n      <td>January</td>\n      <td>Biologische Bloemkool</td>\n      <td>4</td>\n      <td>Thursday</td>\n      <td>2.39</td>\n      <td>0.0</td>\n      <td>1.0</td>\n      <td>2.39</td>\n      <td>0</td>\n      <td>16</td>\n    </tr>\n    <tr>\n      <th>2018-01-05</th>\n      <td>6.0</td>\n      <td>0.0</td>\n      <td>0.0</td>\n      <td>0.0</td>\n      <td>0.0</td>\n      <td>0.0</td>\n      <td>0.0</td>\n      <td>0.0</td>\n      <td>January</td>\n      <td>Biologische Bloemkool</td>\n      <td>5</td>\n      <td>Friday</td>\n      <td>2.39</td>\n      <td>0.0</td>\n      <td>4.0</td>\n      <td>2.39</td>\n      <td>0</td>\n      <td>16</td>\n    </tr>\n    <tr>\n      <th>2018-01-07</th>\n      <td>9.0</td>\n      <td>0.0</td>\n      <td>0.0</td>\n      <td>0.0</td>\n      <td>0.0</td>\n      <td>0.0</td>\n      <td>0.0</td>\n      <td>0.0</td>\n      <td>January</td>\n      <td>Biologische Bloemkool</td>\n      <td>7</td>\n      <td>Sunday</td>\n      <td>2.39</td>\n      <td>0.0</td>\n      <td>1.0</td>\n      <td>2.39</td>\n      <td>0</td>\n      <td>4</td>\n    </tr>\n    <tr>\n      <th>2018-01-08</th>\n      <td>2.0</td>\n      <td>0.0</td>\n      <td>0.0</td>\n      <td>0.0</td>\n      <td>0.0</td>\n      <td>0.0</td>\n      <td>0.0</td>\n      <td>0.0</td>\n      <td>January</td>\n      <td>Biologische Bloemkool</td>\n      <td>8</td>\n      <td>Monday</td>\n      <td>2.39</td>\n      <td>0.0</td>\n      <td>9.0</td>\n      <td>2.39</td>\n      <td>0</td>\n      <td>22</td>\n    </tr>\n    <tr>\n      <th>...</th>\n      <th>...</th>\n      <td>...</td>\n      <td>...</td>\n      <td>...</td>\n      <td>...</td>\n      <td>...</td>\n      <td>...</td>\n      <td>...</td>\n      <td>...</td>\n      <td>...</td>\n      <td>...</td>\n      <td>...</td>\n      <td>...</td>\n      <td>...</td>\n      <td>...</td>\n      <td>...</td>\n      <td>...</td>\n      <td>...</td>\n      <td>...</td>\n    </tr>\n    <tr>\n      <th rowspan=\"5\" valign=\"top\">Biologische rode kool</th>\n      <th>2018-12-25</th>\n      <td>3.0</td>\n      <td>0.0</td>\n      <td>0.0</td>\n      <td>0.0</td>\n      <td>0.0</td>\n      <td>0.0</td>\n      <td>0.0</td>\n      <td>0.0</td>\n      <td>December</td>\n      <td>Biologische rode kool</td>\n      <td>359</td>\n      <td>Tuesday</td>\n      <td>1.29</td>\n      <td>0.0</td>\n      <td>4.0</td>\n      <td>1.29</td>\n      <td>0</td>\n      <td>15</td>\n    </tr>\n    <tr>\n      <th>2018-12-26</th>\n      <td>7.0</td>\n      <td>0.0</td>\n      <td>0.0</td>\n      <td>0.0</td>\n      <td>0.0</td>\n      <td>0.0</td>\n      <td>0.0</td>\n      <td>0.0</td>\n      <td>December</td>\n      <td>Biologische rode kool</td>\n      <td>360</td>\n      <td>Wednesday</td>\n      <td>1.29</td>\n      <td>0.0</td>\n      <td>3.0</td>\n      <td>1.29</td>\n      <td>1</td>\n      <td>13</td>\n    </tr>\n    <tr>\n      <th>2018-12-28</th>\n      <td>5.0</td>\n      <td>0.0</td>\n      <td>0.0</td>\n      <td>0.0</td>\n      <td>0.0</td>\n      <td>0.0</td>\n      <td>0.0</td>\n      <td>0.0</td>\n      <td>December</td>\n      <td>Biologische rode kool</td>\n      <td>362</td>\n      <td>Friday</td>\n      <td>1.29</td>\n      <td>0.0</td>\n      <td>1.0</td>\n      <td>1.29</td>\n      <td>1</td>\n      <td>13</td>\n    </tr>\n    <tr>\n      <th>2018-12-29</th>\n      <td>3.0</td>\n      <td>0.0</td>\n      <td>0.0</td>\n      <td>0.0</td>\n      <td>0.0</td>\n      <td>0.0</td>\n      <td>0.0</td>\n      <td>0.0</td>\n      <td>December</td>\n      <td>Biologische rode kool</td>\n      <td>363</td>\n      <td>Saturday</td>\n      <td>1.29</td>\n      <td>0.0</td>\n      <td>5.0</td>\n      <td>1.29</td>\n      <td>0</td>\n      <td>12</td>\n    </tr>\n    <tr>\n      <th>2018-12-30</th>\n      <td>3.0</td>\n      <td>0.0</td>\n      <td>0.0</td>\n      <td>0.0</td>\n      <td>0.0</td>\n      <td>0.0</td>\n      <td>0.0</td>\n      <td>0.0</td>\n      <td>December</td>\n      <td>Biologische rode kool</td>\n      <td>364</td>\n      <td>Sunday</td>\n      <td>1.29</td>\n      <td>0.0</td>\n      <td>3.0</td>\n      <td>1.29</td>\n      <td>0</td>\n      <td>13</td>\n    </tr>\n  </tbody>\n</table>\n<p>2680 rows × 18 columns</p>\n</div>"
     },
     "metadata": {},
     "execution_count": 50
    }
   ],
   "source": [
    "new_df"
   ]
  },
  {
   "source": [
    "## Experimenting with TensorFlow"
   ],
   "cell_type": "markdown",
   "metadata": {}
  },
  {
   "cell_type": "code",
   "execution_count": 59,
   "metadata": {},
   "outputs": [],
   "source": [
    "from tensorflow.keras import models, layers, losses, optimizers\n",
    "\n",
    "lstm_model = models.Sequential()\n",
    "lstm_model.add(layers.LSTM(50, return_sequences=True))\n",
    "lstm_model.add(layers.LSTM(20))\n",
    "lstm_model.add(layers.Dense(1, activation=\"sigmoid\"))\n",
    "lstm_model.compile(loss=\"adam\", metrics=\"mean_absolute_error\")"
   ]
  },
  {
   "cell_type": "code",
   "execution_count": 62,
   "metadata": {},
   "outputs": [
    {
     "output_type": "error",
     "ename": "ValueError",
     "evalue": "Failed to convert a NumPy array to a Tensor (Unsupported object type float).",
     "traceback": [
      "\u001b[1;31m---------------------------------------------------------------------------\u001b[0m",
      "\u001b[1;31mValueError\u001b[0m                                Traceback (most recent call last)",
      "\u001b[1;32m<ipython-input-62-eca404158108>\u001b[0m in \u001b[0;36m<module>\u001b[1;34m\u001b[0m\n\u001b[0;32m      1\u001b[0m \u001b[0mX_train\u001b[0m\u001b[1;33m,\u001b[0m \u001b[0my_train\u001b[0m \u001b[1;33m=\u001b[0m \u001b[0moutput_dct\u001b[0m\u001b[1;33m[\u001b[0m\u001b[1;34m\"train\"\u001b[0m\u001b[1;33m]\u001b[0m\u001b[1;33m[\u001b[0m\u001b[1;36m0\u001b[0m\u001b[1;33m]\u001b[0m\u001b[1;33m,\u001b[0m \u001b[0moutput_dct\u001b[0m\u001b[1;33m[\u001b[0m\u001b[1;34m\"train\"\u001b[0m\u001b[1;33m]\u001b[0m\u001b[1;33m[\u001b[0m\u001b[1;36m1\u001b[0m\u001b[1;33m]\u001b[0m\u001b[1;33m\u001b[0m\u001b[1;33m\u001b[0m\u001b[0m\n\u001b[1;32m----> 2\u001b[1;33m \u001b[0mlstm_model\u001b[0m\u001b[1;33m.\u001b[0m\u001b[0mfit\u001b[0m\u001b[1;33m(\u001b[0m\u001b[0mX_train\u001b[0m\u001b[1;33m,\u001b[0m \u001b[0my_train\u001b[0m\u001b[1;33m,\u001b[0m \u001b[0mbatch_size\u001b[0m\u001b[1;33m=\u001b[0m\u001b[1;36m16\u001b[0m\u001b[1;33m,\u001b[0m \u001b[0mepochs\u001b[0m\u001b[1;33m=\u001b[0m\u001b[1;36m30\u001b[0m\u001b[1;33m)\u001b[0m\u001b[1;33m\u001b[0m\u001b[1;33m\u001b[0m\u001b[0m\n\u001b[0m",
      "\u001b[1;32m~\\AppData\\Roaming\\Python\\Python38\\site-packages\\tensorflow\\python\\keras\\engine\\training.py\u001b[0m in \u001b[0;36m_method_wrapper\u001b[1;34m(self, *args, **kwargs)\u001b[0m\n\u001b[0;32m    106\u001b[0m   \u001b[1;32mdef\u001b[0m \u001b[0m_method_wrapper\u001b[0m\u001b[1;33m(\u001b[0m\u001b[0mself\u001b[0m\u001b[1;33m,\u001b[0m \u001b[1;33m*\u001b[0m\u001b[0margs\u001b[0m\u001b[1;33m,\u001b[0m \u001b[1;33m**\u001b[0m\u001b[0mkwargs\u001b[0m\u001b[1;33m)\u001b[0m\u001b[1;33m:\u001b[0m\u001b[1;33m\u001b[0m\u001b[1;33m\u001b[0m\u001b[0m\n\u001b[0;32m    107\u001b[0m     \u001b[1;32mif\u001b[0m \u001b[1;32mnot\u001b[0m \u001b[0mself\u001b[0m\u001b[1;33m.\u001b[0m\u001b[0m_in_multi_worker_mode\u001b[0m\u001b[1;33m(\u001b[0m\u001b[1;33m)\u001b[0m\u001b[1;33m:\u001b[0m  \u001b[1;31m# pylint: disable=protected-access\u001b[0m\u001b[1;33m\u001b[0m\u001b[1;33m\u001b[0m\u001b[0m\n\u001b[1;32m--> 108\u001b[1;33m       \u001b[1;32mreturn\u001b[0m \u001b[0mmethod\u001b[0m\u001b[1;33m(\u001b[0m\u001b[0mself\u001b[0m\u001b[1;33m,\u001b[0m \u001b[1;33m*\u001b[0m\u001b[0margs\u001b[0m\u001b[1;33m,\u001b[0m \u001b[1;33m**\u001b[0m\u001b[0mkwargs\u001b[0m\u001b[1;33m)\u001b[0m\u001b[1;33m\u001b[0m\u001b[1;33m\u001b[0m\u001b[0m\n\u001b[0m\u001b[0;32m    109\u001b[0m \u001b[1;33m\u001b[0m\u001b[0m\n\u001b[0;32m    110\u001b[0m     \u001b[1;31m# Running inside `run_distribute_coordinator` already.\u001b[0m\u001b[1;33m\u001b[0m\u001b[1;33m\u001b[0m\u001b[1;33m\u001b[0m\u001b[0m\n",
      "\u001b[1;32m~\\AppData\\Roaming\\Python\\Python38\\site-packages\\tensorflow\\python\\keras\\engine\\training.py\u001b[0m in \u001b[0;36mfit\u001b[1;34m(self, x, y, batch_size, epochs, verbose, callbacks, validation_split, validation_data, shuffle, class_weight, sample_weight, initial_epoch, steps_per_epoch, validation_steps, validation_batch_size, validation_freq, max_queue_size, workers, use_multiprocessing)\u001b[0m\n\u001b[0;32m   1047\u001b[0m          \u001b[0mtraining_utils\u001b[0m\u001b[1;33m.\u001b[0m\u001b[0mRespectCompiledTrainableState\u001b[0m\u001b[1;33m(\u001b[0m\u001b[0mself\u001b[0m\u001b[1;33m)\u001b[0m\u001b[1;33m:\u001b[0m\u001b[1;33m\u001b[0m\u001b[1;33m\u001b[0m\u001b[0m\n\u001b[0;32m   1048\u001b[0m       \u001b[1;31m# Creates a `tf.data.Dataset` and handles batch and epoch iteration.\u001b[0m\u001b[1;33m\u001b[0m\u001b[1;33m\u001b[0m\u001b[1;33m\u001b[0m\u001b[0m\n\u001b[1;32m-> 1049\u001b[1;33m       data_handler = data_adapter.DataHandler(\n\u001b[0m\u001b[0;32m   1050\u001b[0m           \u001b[0mx\u001b[0m\u001b[1;33m=\u001b[0m\u001b[0mx\u001b[0m\u001b[1;33m,\u001b[0m\u001b[1;33m\u001b[0m\u001b[1;33m\u001b[0m\u001b[0m\n\u001b[0;32m   1051\u001b[0m           \u001b[0my\u001b[0m\u001b[1;33m=\u001b[0m\u001b[0my\u001b[0m\u001b[1;33m,\u001b[0m\u001b[1;33m\u001b[0m\u001b[1;33m\u001b[0m\u001b[0m\n",
      "\u001b[1;32m~\\AppData\\Roaming\\Python\\Python38\\site-packages\\tensorflow\\python\\keras\\engine\\data_adapter.py\u001b[0m in \u001b[0;36m__init__\u001b[1;34m(self, x, y, sample_weight, batch_size, steps_per_epoch, initial_epoch, epochs, shuffle, class_weight, max_queue_size, workers, use_multiprocessing, model, steps_per_execution)\u001b[0m\n\u001b[0;32m   1103\u001b[0m \u001b[1;33m\u001b[0m\u001b[0m\n\u001b[0;32m   1104\u001b[0m     \u001b[0madapter_cls\u001b[0m \u001b[1;33m=\u001b[0m \u001b[0mselect_data_adapter\u001b[0m\u001b[1;33m(\u001b[0m\u001b[0mx\u001b[0m\u001b[1;33m,\u001b[0m \u001b[0my\u001b[0m\u001b[1;33m)\u001b[0m\u001b[1;33m\u001b[0m\u001b[1;33m\u001b[0m\u001b[0m\n\u001b[1;32m-> 1105\u001b[1;33m     self._adapter = adapter_cls(\n\u001b[0m\u001b[0;32m   1106\u001b[0m         \u001b[0mx\u001b[0m\u001b[1;33m,\u001b[0m\u001b[1;33m\u001b[0m\u001b[1;33m\u001b[0m\u001b[0m\n\u001b[0;32m   1107\u001b[0m         \u001b[0my\u001b[0m\u001b[1;33m,\u001b[0m\u001b[1;33m\u001b[0m\u001b[1;33m\u001b[0m\u001b[0m\n",
      "\u001b[1;32m~\\AppData\\Roaming\\Python\\Python38\\site-packages\\tensorflow\\python\\keras\\engine\\data_adapter.py\u001b[0m in \u001b[0;36m__init__\u001b[1;34m(self, x, y, sample_weights, sample_weight_modes, batch_size, epochs, steps, shuffle, **kwargs)\u001b[0m\n\u001b[0;32m    263\u001b[0m                **kwargs):\n\u001b[0;32m    264\u001b[0m     \u001b[0msuper\u001b[0m\u001b[1;33m(\u001b[0m\u001b[0mTensorLikeDataAdapter\u001b[0m\u001b[1;33m,\u001b[0m \u001b[0mself\u001b[0m\u001b[1;33m)\u001b[0m\u001b[1;33m.\u001b[0m\u001b[0m__init__\u001b[0m\u001b[1;33m(\u001b[0m\u001b[0mx\u001b[0m\u001b[1;33m,\u001b[0m \u001b[0my\u001b[0m\u001b[1;33m,\u001b[0m \u001b[1;33m**\u001b[0m\u001b[0mkwargs\u001b[0m\u001b[1;33m)\u001b[0m\u001b[1;33m\u001b[0m\u001b[1;33m\u001b[0m\u001b[0m\n\u001b[1;32m--> 265\u001b[1;33m     \u001b[0mx\u001b[0m\u001b[1;33m,\u001b[0m \u001b[0my\u001b[0m\u001b[1;33m,\u001b[0m \u001b[0msample_weights\u001b[0m \u001b[1;33m=\u001b[0m \u001b[0m_process_tensorlike\u001b[0m\u001b[1;33m(\u001b[0m\u001b[1;33m(\u001b[0m\u001b[0mx\u001b[0m\u001b[1;33m,\u001b[0m \u001b[0my\u001b[0m\u001b[1;33m,\u001b[0m \u001b[0msample_weights\u001b[0m\u001b[1;33m)\u001b[0m\u001b[1;33m)\u001b[0m\u001b[1;33m\u001b[0m\u001b[1;33m\u001b[0m\u001b[0m\n\u001b[0m\u001b[0;32m    266\u001b[0m     sample_weight_modes = broadcast_sample_weight_modes(\n\u001b[0;32m    267\u001b[0m         sample_weights, sample_weight_modes)\n",
      "\u001b[1;32m~\\AppData\\Roaming\\Python\\Python38\\site-packages\\tensorflow\\python\\keras\\engine\\data_adapter.py\u001b[0m in \u001b[0;36m_process_tensorlike\u001b[1;34m(inputs)\u001b[0m\n\u001b[0;32m   1019\u001b[0m     \u001b[1;32mreturn\u001b[0m \u001b[0mx\u001b[0m\u001b[1;33m\u001b[0m\u001b[1;33m\u001b[0m\u001b[0m\n\u001b[0;32m   1020\u001b[0m \u001b[1;33m\u001b[0m\u001b[0m\n\u001b[1;32m-> 1021\u001b[1;33m   \u001b[0minputs\u001b[0m \u001b[1;33m=\u001b[0m \u001b[0mnest\u001b[0m\u001b[1;33m.\u001b[0m\u001b[0mmap_structure\u001b[0m\u001b[1;33m(\u001b[0m\u001b[0m_convert_numpy_and_scipy\u001b[0m\u001b[1;33m,\u001b[0m \u001b[0minputs\u001b[0m\u001b[1;33m)\u001b[0m\u001b[1;33m\u001b[0m\u001b[1;33m\u001b[0m\u001b[0m\n\u001b[0m\u001b[0;32m   1022\u001b[0m   \u001b[1;32mreturn\u001b[0m \u001b[0mnest\u001b[0m\u001b[1;33m.\u001b[0m\u001b[0mlist_to_tuple\u001b[0m\u001b[1;33m(\u001b[0m\u001b[0minputs\u001b[0m\u001b[1;33m)\u001b[0m\u001b[1;33m\u001b[0m\u001b[1;33m\u001b[0m\u001b[0m\n\u001b[0;32m   1023\u001b[0m \u001b[1;33m\u001b[0m\u001b[0m\n",
      "\u001b[1;32m~\\AppData\\Roaming\\Python\\Python38\\site-packages\\tensorflow\\python\\util\\nest.py\u001b[0m in \u001b[0;36mmap_structure\u001b[1;34m(func, *structure, **kwargs)\u001b[0m\n\u001b[0;32m    633\u001b[0m \u001b[1;33m\u001b[0m\u001b[0m\n\u001b[0;32m    634\u001b[0m   return pack_sequence_as(\n\u001b[1;32m--> 635\u001b[1;33m       \u001b[0mstructure\u001b[0m\u001b[1;33m[\u001b[0m\u001b[1;36m0\u001b[0m\u001b[1;33m]\u001b[0m\u001b[1;33m,\u001b[0m \u001b[1;33m[\u001b[0m\u001b[0mfunc\u001b[0m\u001b[1;33m(\u001b[0m\u001b[1;33m*\u001b[0m\u001b[0mx\u001b[0m\u001b[1;33m)\u001b[0m \u001b[1;32mfor\u001b[0m \u001b[0mx\u001b[0m \u001b[1;32min\u001b[0m \u001b[0mentries\u001b[0m\u001b[1;33m]\u001b[0m\u001b[1;33m,\u001b[0m\u001b[1;33m\u001b[0m\u001b[1;33m\u001b[0m\u001b[0m\n\u001b[0m\u001b[0;32m    636\u001b[0m       expand_composites=expand_composites)\n\u001b[0;32m    637\u001b[0m \u001b[1;33m\u001b[0m\u001b[0m\n",
      "\u001b[1;32m~\\AppData\\Roaming\\Python\\Python38\\site-packages\\tensorflow\\python\\util\\nest.py\u001b[0m in \u001b[0;36m<listcomp>\u001b[1;34m(.0)\u001b[0m\n\u001b[0;32m    633\u001b[0m \u001b[1;33m\u001b[0m\u001b[0m\n\u001b[0;32m    634\u001b[0m   return pack_sequence_as(\n\u001b[1;32m--> 635\u001b[1;33m       \u001b[0mstructure\u001b[0m\u001b[1;33m[\u001b[0m\u001b[1;36m0\u001b[0m\u001b[1;33m]\u001b[0m\u001b[1;33m,\u001b[0m \u001b[1;33m[\u001b[0m\u001b[0mfunc\u001b[0m\u001b[1;33m(\u001b[0m\u001b[1;33m*\u001b[0m\u001b[0mx\u001b[0m\u001b[1;33m)\u001b[0m \u001b[1;32mfor\u001b[0m \u001b[0mx\u001b[0m \u001b[1;32min\u001b[0m \u001b[0mentries\u001b[0m\u001b[1;33m]\u001b[0m\u001b[1;33m,\u001b[0m\u001b[1;33m\u001b[0m\u001b[1;33m\u001b[0m\u001b[0m\n\u001b[0m\u001b[0;32m    636\u001b[0m       expand_composites=expand_composites)\n\u001b[0;32m    637\u001b[0m \u001b[1;33m\u001b[0m\u001b[0m\n",
      "\u001b[1;32m~\\AppData\\Roaming\\Python\\Python38\\site-packages\\tensorflow\\python\\keras\\engine\\data_adapter.py\u001b[0m in \u001b[0;36m_convert_numpy_and_scipy\u001b[1;34m(x)\u001b[0m\n\u001b[0;32m   1014\u001b[0m       \u001b[1;32mif\u001b[0m \u001b[0missubclass\u001b[0m\u001b[1;33m(\u001b[0m\u001b[0mx\u001b[0m\u001b[1;33m.\u001b[0m\u001b[0mdtype\u001b[0m\u001b[1;33m.\u001b[0m\u001b[0mtype\u001b[0m\u001b[1;33m,\u001b[0m \u001b[0mnp\u001b[0m\u001b[1;33m.\u001b[0m\u001b[0mfloating\u001b[0m\u001b[1;33m)\u001b[0m\u001b[1;33m:\u001b[0m\u001b[1;33m\u001b[0m\u001b[1;33m\u001b[0m\u001b[0m\n\u001b[0;32m   1015\u001b[0m         \u001b[0mdtype\u001b[0m \u001b[1;33m=\u001b[0m \u001b[0mbackend\u001b[0m\u001b[1;33m.\u001b[0m\u001b[0mfloatx\u001b[0m\u001b[1;33m(\u001b[0m\u001b[1;33m)\u001b[0m\u001b[1;33m\u001b[0m\u001b[1;33m\u001b[0m\u001b[0m\n\u001b[1;32m-> 1016\u001b[1;33m       \u001b[1;32mreturn\u001b[0m \u001b[0mops\u001b[0m\u001b[1;33m.\u001b[0m\u001b[0mconvert_to_tensor\u001b[0m\u001b[1;33m(\u001b[0m\u001b[0mx\u001b[0m\u001b[1;33m,\u001b[0m \u001b[0mdtype\u001b[0m\u001b[1;33m=\u001b[0m\u001b[0mdtype\u001b[0m\u001b[1;33m)\u001b[0m\u001b[1;33m\u001b[0m\u001b[1;33m\u001b[0m\u001b[0m\n\u001b[0m\u001b[0;32m   1017\u001b[0m     \u001b[1;32melif\u001b[0m \u001b[0mscipy_sparse\u001b[0m \u001b[1;32mand\u001b[0m \u001b[0mscipy_sparse\u001b[0m\u001b[1;33m.\u001b[0m\u001b[0missparse\u001b[0m\u001b[1;33m(\u001b[0m\u001b[0mx\u001b[0m\u001b[1;33m)\u001b[0m\u001b[1;33m:\u001b[0m\u001b[1;33m\u001b[0m\u001b[1;33m\u001b[0m\u001b[0m\n\u001b[0;32m   1018\u001b[0m       \u001b[1;32mreturn\u001b[0m \u001b[0m_scipy_sparse_to_sparse_tensor\u001b[0m\u001b[1;33m(\u001b[0m\u001b[0mx\u001b[0m\u001b[1;33m)\u001b[0m\u001b[1;33m\u001b[0m\u001b[1;33m\u001b[0m\u001b[0m\n",
      "\u001b[1;32m~\\AppData\\Roaming\\Python\\Python38\\site-packages\\tensorflow\\python\\framework\\ops.py\u001b[0m in \u001b[0;36mconvert_to_tensor\u001b[1;34m(value, dtype, name, as_ref, preferred_dtype, dtype_hint, ctx, accepted_result_types)\u001b[0m\n\u001b[0;32m   1497\u001b[0m \u001b[1;33m\u001b[0m\u001b[0m\n\u001b[0;32m   1498\u001b[0m     \u001b[1;32mif\u001b[0m \u001b[0mret\u001b[0m \u001b[1;32mis\u001b[0m \u001b[1;32mNone\u001b[0m\u001b[1;33m:\u001b[0m\u001b[1;33m\u001b[0m\u001b[1;33m\u001b[0m\u001b[0m\n\u001b[1;32m-> 1499\u001b[1;33m       \u001b[0mret\u001b[0m \u001b[1;33m=\u001b[0m \u001b[0mconversion_func\u001b[0m\u001b[1;33m(\u001b[0m\u001b[0mvalue\u001b[0m\u001b[1;33m,\u001b[0m \u001b[0mdtype\u001b[0m\u001b[1;33m=\u001b[0m\u001b[0mdtype\u001b[0m\u001b[1;33m,\u001b[0m \u001b[0mname\u001b[0m\u001b[1;33m=\u001b[0m\u001b[0mname\u001b[0m\u001b[1;33m,\u001b[0m \u001b[0mas_ref\u001b[0m\u001b[1;33m=\u001b[0m\u001b[0mas_ref\u001b[0m\u001b[1;33m)\u001b[0m\u001b[1;33m\u001b[0m\u001b[1;33m\u001b[0m\u001b[0m\n\u001b[0m\u001b[0;32m   1500\u001b[0m \u001b[1;33m\u001b[0m\u001b[0m\n\u001b[0;32m   1501\u001b[0m     \u001b[1;32mif\u001b[0m \u001b[0mret\u001b[0m \u001b[1;32mis\u001b[0m \u001b[0mNotImplemented\u001b[0m\u001b[1;33m:\u001b[0m\u001b[1;33m\u001b[0m\u001b[1;33m\u001b[0m\u001b[0m\n",
      "\u001b[1;32m~\\AppData\\Roaming\\Python\\Python38\\site-packages\\tensorflow\\python\\framework\\tensor_conversion_registry.py\u001b[0m in \u001b[0;36m_default_conversion_function\u001b[1;34m(***failed resolving arguments***)\u001b[0m\n\u001b[0;32m     50\u001b[0m \u001b[1;32mdef\u001b[0m \u001b[0m_default_conversion_function\u001b[0m\u001b[1;33m(\u001b[0m\u001b[0mvalue\u001b[0m\u001b[1;33m,\u001b[0m \u001b[0mdtype\u001b[0m\u001b[1;33m,\u001b[0m \u001b[0mname\u001b[0m\u001b[1;33m,\u001b[0m \u001b[0mas_ref\u001b[0m\u001b[1;33m)\u001b[0m\u001b[1;33m:\u001b[0m\u001b[1;33m\u001b[0m\u001b[1;33m\u001b[0m\u001b[0m\n\u001b[0;32m     51\u001b[0m   \u001b[1;32mdel\u001b[0m \u001b[0mas_ref\u001b[0m  \u001b[1;31m# Unused.\u001b[0m\u001b[1;33m\u001b[0m\u001b[1;33m\u001b[0m\u001b[0m\n\u001b[1;32m---> 52\u001b[1;33m   \u001b[1;32mreturn\u001b[0m \u001b[0mconstant_op\u001b[0m\u001b[1;33m.\u001b[0m\u001b[0mconstant\u001b[0m\u001b[1;33m(\u001b[0m\u001b[0mvalue\u001b[0m\u001b[1;33m,\u001b[0m \u001b[0mdtype\u001b[0m\u001b[1;33m,\u001b[0m \u001b[0mname\u001b[0m\u001b[1;33m=\u001b[0m\u001b[0mname\u001b[0m\u001b[1;33m)\u001b[0m\u001b[1;33m\u001b[0m\u001b[1;33m\u001b[0m\u001b[0m\n\u001b[0m\u001b[0;32m     53\u001b[0m \u001b[1;33m\u001b[0m\u001b[0m\n\u001b[0;32m     54\u001b[0m \u001b[1;33m\u001b[0m\u001b[0m\n",
      "\u001b[1;32m~\\AppData\\Roaming\\Python\\Python38\\site-packages\\tensorflow\\python\\framework\\constant_op.py\u001b[0m in \u001b[0;36mconstant\u001b[1;34m(value, dtype, shape, name)\u001b[0m\n\u001b[0;32m    261\u001b[0m     \u001b[0mValueError\u001b[0m\u001b[1;33m:\u001b[0m \u001b[1;32mif\u001b[0m \u001b[0mcalled\u001b[0m \u001b[0mon\u001b[0m \u001b[0ma\u001b[0m \u001b[0msymbolic\u001b[0m \u001b[0mtensor\u001b[0m\u001b[1;33m.\u001b[0m\u001b[1;33m\u001b[0m\u001b[1;33m\u001b[0m\u001b[0m\n\u001b[0;32m    262\u001b[0m   \"\"\"\n\u001b[1;32m--> 263\u001b[1;33m   return _constant_impl(value, dtype, shape, name, verify_shape=False,\n\u001b[0m\u001b[0;32m    264\u001b[0m                         allow_broadcast=True)\n\u001b[0;32m    265\u001b[0m \u001b[1;33m\u001b[0m\u001b[0m\n",
      "\u001b[1;32m~\\AppData\\Roaming\\Python\\Python38\\site-packages\\tensorflow\\python\\framework\\constant_op.py\u001b[0m in \u001b[0;36m_constant_impl\u001b[1;34m(value, dtype, shape, name, verify_shape, allow_broadcast)\u001b[0m\n\u001b[0;32m    273\u001b[0m       \u001b[1;32mwith\u001b[0m \u001b[0mtrace\u001b[0m\u001b[1;33m.\u001b[0m\u001b[0mTrace\u001b[0m\u001b[1;33m(\u001b[0m\u001b[1;34m\"tf.constant\"\u001b[0m\u001b[1;33m)\u001b[0m\u001b[1;33m:\u001b[0m\u001b[1;33m\u001b[0m\u001b[1;33m\u001b[0m\u001b[0m\n\u001b[0;32m    274\u001b[0m         \u001b[1;32mreturn\u001b[0m \u001b[0m_constant_eager_impl\u001b[0m\u001b[1;33m(\u001b[0m\u001b[0mctx\u001b[0m\u001b[1;33m,\u001b[0m \u001b[0mvalue\u001b[0m\u001b[1;33m,\u001b[0m \u001b[0mdtype\u001b[0m\u001b[1;33m,\u001b[0m \u001b[0mshape\u001b[0m\u001b[1;33m,\u001b[0m \u001b[0mverify_shape\u001b[0m\u001b[1;33m)\u001b[0m\u001b[1;33m\u001b[0m\u001b[1;33m\u001b[0m\u001b[0m\n\u001b[1;32m--> 275\u001b[1;33m     \u001b[1;32mreturn\u001b[0m \u001b[0m_constant_eager_impl\u001b[0m\u001b[1;33m(\u001b[0m\u001b[0mctx\u001b[0m\u001b[1;33m,\u001b[0m \u001b[0mvalue\u001b[0m\u001b[1;33m,\u001b[0m \u001b[0mdtype\u001b[0m\u001b[1;33m,\u001b[0m \u001b[0mshape\u001b[0m\u001b[1;33m,\u001b[0m \u001b[0mverify_shape\u001b[0m\u001b[1;33m)\u001b[0m\u001b[1;33m\u001b[0m\u001b[1;33m\u001b[0m\u001b[0m\n\u001b[0m\u001b[0;32m    276\u001b[0m \u001b[1;33m\u001b[0m\u001b[0m\n\u001b[0;32m    277\u001b[0m   \u001b[0mg\u001b[0m \u001b[1;33m=\u001b[0m \u001b[0mops\u001b[0m\u001b[1;33m.\u001b[0m\u001b[0mget_default_graph\u001b[0m\u001b[1;33m(\u001b[0m\u001b[1;33m)\u001b[0m\u001b[1;33m\u001b[0m\u001b[1;33m\u001b[0m\u001b[0m\n",
      "\u001b[1;32m~\\AppData\\Roaming\\Python\\Python38\\site-packages\\tensorflow\\python\\framework\\constant_op.py\u001b[0m in \u001b[0;36m_constant_eager_impl\u001b[1;34m(ctx, value, dtype, shape, verify_shape)\u001b[0m\n\u001b[0;32m    298\u001b[0m \u001b[1;32mdef\u001b[0m \u001b[0m_constant_eager_impl\u001b[0m\u001b[1;33m(\u001b[0m\u001b[0mctx\u001b[0m\u001b[1;33m,\u001b[0m \u001b[0mvalue\u001b[0m\u001b[1;33m,\u001b[0m \u001b[0mdtype\u001b[0m\u001b[1;33m,\u001b[0m \u001b[0mshape\u001b[0m\u001b[1;33m,\u001b[0m \u001b[0mverify_shape\u001b[0m\u001b[1;33m)\u001b[0m\u001b[1;33m:\u001b[0m\u001b[1;33m\u001b[0m\u001b[1;33m\u001b[0m\u001b[0m\n\u001b[0;32m    299\u001b[0m   \u001b[1;34m\"\"\"Implementation of eager constant.\"\"\"\u001b[0m\u001b[1;33m\u001b[0m\u001b[1;33m\u001b[0m\u001b[0m\n\u001b[1;32m--> 300\u001b[1;33m   \u001b[0mt\u001b[0m \u001b[1;33m=\u001b[0m \u001b[0mconvert_to_eager_tensor\u001b[0m\u001b[1;33m(\u001b[0m\u001b[0mvalue\u001b[0m\u001b[1;33m,\u001b[0m \u001b[0mctx\u001b[0m\u001b[1;33m,\u001b[0m \u001b[0mdtype\u001b[0m\u001b[1;33m)\u001b[0m\u001b[1;33m\u001b[0m\u001b[1;33m\u001b[0m\u001b[0m\n\u001b[0m\u001b[0;32m    301\u001b[0m   \u001b[1;32mif\u001b[0m \u001b[0mshape\u001b[0m \u001b[1;32mis\u001b[0m \u001b[1;32mNone\u001b[0m\u001b[1;33m:\u001b[0m\u001b[1;33m\u001b[0m\u001b[1;33m\u001b[0m\u001b[0m\n\u001b[0;32m    302\u001b[0m     \u001b[1;32mreturn\u001b[0m \u001b[0mt\u001b[0m\u001b[1;33m\u001b[0m\u001b[1;33m\u001b[0m\u001b[0m\n",
      "\u001b[1;32m~\\AppData\\Roaming\\Python\\Python38\\site-packages\\tensorflow\\python\\framework\\constant_op.py\u001b[0m in \u001b[0;36mconvert_to_eager_tensor\u001b[1;34m(value, ctx, dtype)\u001b[0m\n\u001b[0;32m     96\u001b[0m       \u001b[0mdtype\u001b[0m \u001b[1;33m=\u001b[0m \u001b[0mdtypes\u001b[0m\u001b[1;33m.\u001b[0m\u001b[0mas_dtype\u001b[0m\u001b[1;33m(\u001b[0m\u001b[0mdtype\u001b[0m\u001b[1;33m)\u001b[0m\u001b[1;33m.\u001b[0m\u001b[0mas_datatype_enum\u001b[0m\u001b[1;33m\u001b[0m\u001b[1;33m\u001b[0m\u001b[0m\n\u001b[0;32m     97\u001b[0m   \u001b[0mctx\u001b[0m\u001b[1;33m.\u001b[0m\u001b[0mensure_initialized\u001b[0m\u001b[1;33m(\u001b[0m\u001b[1;33m)\u001b[0m\u001b[1;33m\u001b[0m\u001b[1;33m\u001b[0m\u001b[0m\n\u001b[1;32m---> 98\u001b[1;33m   \u001b[1;32mreturn\u001b[0m \u001b[0mops\u001b[0m\u001b[1;33m.\u001b[0m\u001b[0mEagerTensor\u001b[0m\u001b[1;33m(\u001b[0m\u001b[0mvalue\u001b[0m\u001b[1;33m,\u001b[0m \u001b[0mctx\u001b[0m\u001b[1;33m.\u001b[0m\u001b[0mdevice_name\u001b[0m\u001b[1;33m,\u001b[0m \u001b[0mdtype\u001b[0m\u001b[1;33m)\u001b[0m\u001b[1;33m\u001b[0m\u001b[1;33m\u001b[0m\u001b[0m\n\u001b[0m\u001b[0;32m     99\u001b[0m \u001b[1;33m\u001b[0m\u001b[0m\n\u001b[0;32m    100\u001b[0m \u001b[1;33m\u001b[0m\u001b[0m\n",
      "\u001b[1;31mValueError\u001b[0m: Failed to convert a NumPy array to a Tensor (Unsupported object type float)."
     ]
    }
   ],
   "source": [
    "X_train, y_train = output_dct[\"train\"][0], output_dct[\"train\"][1]\n",
    "lstm_model.fit(X_train, y_train, batch_size=16, epochs=30)"
   ]
  }
 ]
}