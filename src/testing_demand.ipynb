{
 "metadata": {
  "language_info": {
   "codemirror_mode": {
    "name": "ipython",
    "version": 3
   },
   "file_extension": ".py",
   "mimetype": "text/x-python",
   "name": "python",
   "nbconvert_exporter": "python",
   "pygments_lexer": "ipython3",
   "version": "3.8.2-final"
  },
  "orig_nbformat": 2,
  "kernelspec": {
   "name": "python3",
   "display_name": "Python 3.8.2 64-bit",
   "metadata": {
    "interpreter": {
     "hash": "1baa965d5efe3ac65b79dfc60c0d706280b1da80fedb7760faf2759126c4f253"
    }
   }
  }
 },
 "nbformat": 4,
 "nbformat_minor": 2,
 "cells": [
  {
   "cell_type": "code",
   "execution_count": 1,
   "metadata": {},
   "outputs": [],
   "source": [
    "import pandas as pd \n",
    "import numpy as np \n",
    "from demand import prepare_data, prepare_demand_function, fit_demand_function, prepare_predictors\n",
    "from discounts import apply_discount\n",
    "transactions = pd.read_csv(\"data/transactions.csv\")\n",
    "discounts_per_day = pd.read_csv(\"nr_discounts_per_day.csv\")#csv with the nr of discounts daily"
   ]
  },
  {
   "cell_type": "code",
   "execution_count": 2,
   "metadata": {},
   "outputs": [],
   "source": [
    "product = \"Biologische courgette\"\n",
    "\n",
    "filtered_transactions = transactions[(transactions[\"description\"] == product) & (transactions[\"bio\"] == 1)]"
   ]
  },
  {
   "cell_type": "code",
   "execution_count": 3,
   "metadata": {},
   "outputs": [
    {
     "output_type": "stream",
     "name": "stderr",
     "text": [
      "c:\\Users\\zolyo\\OneDrive\\Documents\\Quartile 3\\JBG050 Data Challenge 2\\Code\\src\\demand.py:15: SettingWithCopyWarning: \n",
      "A value is trying to be set on a copy of a slice from a DataFrame.\n",
      "Try using .loc[row_indexer,col_indexer] = value instead\n",
      "\n",
      "See the caveats in the documentation: https://pandas.pydata.org/pandas-docs/stable/user_guide/indexing.html#returning-a-view-versus-a-copy\n",
      "  filtered_transactions[\"day\"] = pd.to_datetime(filtered_transactions[\"day\"])\n",
      "c:\\Users\\zolyo\\OneDrive\\Documents\\Quartile 3\\JBG050 Data Challenge 2\\Code\\src\\demand.py:18: SettingWithCopyWarning: \n",
      "A value is trying to be set on a copy of a slice from a DataFrame.\n",
      "Try using .loc[row_indexer,col_indexer] = value instead\n",
      "\n",
      "See the caveats in the documentation: https://pandas.pydata.org/pandas-docs/stable/user_guide/indexing.html#returning-a-view-versus-a-copy\n",
      "  filtered_transactions[\"discount\"] = 100-(\n",
      "compl_product is a string\n",
      "c:\\Users\\zolyo\\OneDrive\\Documents\\Quartile 3\\JBG050 Data Challenge 2\\Code\\src\\demand.py:27: SettingWithCopyWarning: \n",
      "A value is trying to be set on a copy of a slice from a DataFrame.\n",
      "Try using .loc[row_indexer,col_indexer] = value instead\n",
      "\n",
      "See the caveats in the documentation: https://pandas.pydata.org/pandas-docs/stable/user_guide/indexing.html#returning-a-view-versus-a-copy\n",
      "  purchases[\"month\"] = [purchases.index[i][1].month_name() for i in range(purchases.shape[0])]\n",
      "c:\\Users\\zolyo\\OneDrive\\Documents\\Quartile 3\\JBG050 Data Challenge 2\\Code\\src\\demand.py:29: SettingWithCopyWarning: \n",
      "A value is trying to be set on a copy of a slice from a DataFrame.\n",
      "Try using .loc[row_indexer,col_indexer] = value instead\n",
      "\n",
      "See the caveats in the documentation: https://pandas.pydata.org/pandas-docs/stable/user_guide/indexing.html#returning-a-view-versus-a-copy\n",
      "  purchases[\"product\"] = [purchases.index[i][0] for i in range(purchases.shape[0])]\n",
      "c:\\Users\\zolyo\\OneDrive\\Documents\\Quartile 3\\JBG050 Data Challenge 2\\Code\\src\\demand.py:31: SettingWithCopyWarning: \n",
      "A value is trying to be set on a copy of a slice from a DataFrame.\n",
      "Try using .loc[row_indexer,col_indexer] = value instead\n",
      "\n",
      "See the caveats in the documentation: https://pandas.pydata.org/pandas-docs/stable/user_guide/indexing.html#returning-a-view-versus-a-copy\n",
      "  purchases[\"day\"] = [purchases.index[i][1].dayofyear for i in range(purchases.shape[0])]\n",
      "c:\\Users\\zolyo\\OneDrive\\Documents\\Quartile 3\\JBG050 Data Challenge 2\\Code\\src\\demand.py:33: SettingWithCopyWarning: \n",
      "A value is trying to be set on a copy of a slice from a DataFrame.\n",
      "Try using .loc[row_indexer,col_indexer] = value instead\n",
      "\n",
      "See the caveats in the documentation: https://pandas.pydata.org/pandas-docs/stable/user_guide/indexing.html#returning-a-view-versus-a-copy\n",
      "  purchases[\"dayofweek\"] = [purchases.index[i][1].dayofweek for i in range(purchases.shape[0])]\n",
      "C:\\Users\\zolyo\\AppData\\Roaming\\Python\\Python38\\site-packages\\pandas\\core\\series.py:4575: SettingWithCopyWarning: \n",
      "A value is trying to be set on a copy of a slice from a DataFrame\n",
      "\n",
      "See the caveats in the documentation: https://pandas.pydata.org/pandas-docs/stable/user_guide/indexing.html#returning-a-view-versus-a-copy\n",
      "  return super().replace(\n",
      "c:\\Users\\zolyo\\OneDrive\\Documents\\Quartile 3\\JBG050 Data Challenge 2\\Code\\src\\demand.py:35: SettingWithCopyWarning: \n",
      "A value is trying to be set on a copy of a slice from a DataFrame.\n",
      "Try using .loc[row_indexer,col_indexer] = value instead\n",
      "\n",
      "See the caveats in the documentation: https://pandas.pydata.org/pandas-docs/stable/user_guide/indexing.html#returning-a-view-versus-a-copy\n",
      "  purchases[\"purchase_price\"] = pp\n",
      "c:\\Users\\zolyo\\OneDrive\\Documents\\Quartile 3\\JBG050 Data Challenge 2\\Code\\src\\demand.py:36: SettingWithCopyWarning: \n",
      "A value is trying to be set on a copy of a slice from a DataFrame.\n",
      "Try using .loc[row_indexer,col_indexer] = value instead\n",
      "\n",
      "See the caveats in the documentation: https://pandas.pydata.org/pandas-docs/stable/user_guide/indexing.html#returning-a-view-versus-a-copy\n",
      "  purchases[\"std_sales_price\"] = std_p\n",
      "C:\\Users\\zolyo\\AppData\\Roaming\\Python\\Python38\\site-packages\\pandas\\core\\frame.py:4300: SettingWithCopyWarning: \n",
      "A value is trying to be set on a copy of a slice from a DataFrame\n",
      "\n",
      "See the caveats in the documentation: https://pandas.pydata.org/pandas-docs/stable/user_guide/indexing.html#returning-a-view-versus-a-copy\n",
      "  return super().rename(\n",
      "c:\\Users\\zolyo\\OneDrive\\Documents\\Quartile 3\\JBG050 Data Challenge 2\\Code\\src\\demand.py:40: SettingWithCopyWarning: \n",
      "A value is trying to be set on a copy of a slice from a DataFrame.\n",
      "Try using .loc[row_indexer,col_indexer] = value instead\n",
      "\n",
      "See the caveats in the documentation: https://pandas.pydata.org/pandas-docs/stable/user_guide/indexing.html#returning-a-view-versus-a-copy\n",
      "  purchases[\"prev_day_purchases\"] = purchases[\"count\"].shift(1)\n",
      "C:\\Users\\zolyo\\AppData\\Roaming\\Python\\Python38\\site-packages\\pandas\\core\\indexing.py:670: SettingWithCopyWarning: \n",
      "A value is trying to be set on a copy of a slice from a DataFrame\n",
      "\n",
      "See the caveats in the documentation: https://pandas.pydata.org/pandas-docs/stable/user_guide/indexing.html#returning-a-view-versus-a-copy\n",
      "  iloc._setitem_with_indexer(indexer, value)\n",
      "c:\\Users\\zolyo\\OneDrive\\Documents\\Quartile 3\\JBG050 Data Challenge 2\\Code\\src\\demand.py:41: SettingWithCopyWarning: \n",
      "A value is trying to be set on a copy of a slice from a DataFrame\n",
      "\n",
      "See the caveats in the documentation: https://pandas.pydata.org/pandas-docs/stable/user_guide/indexing.html#returning-a-view-versus-a-copy\n",
      "  purchases[\"prev_day_purchases\"].iloc[0] = 0\n",
      "c:\\Users\\zolyo\\OneDrive\\Documents\\Quartile 3\\JBG050 Data Challenge 2\\Code\\src\\demand.py:168: SettingWithCopyWarning: \n",
      "A value is trying to be set on a copy of a slice from a DataFrame.\n",
      "Try using .loc[row_indexer,col_indexer] = value instead\n",
      "\n",
      "See the caveats in the documentation: https://pandas.pydata.org/pandas-docs/stable/user_guide/indexing.html#returning-a-view-versus-a-copy\n",
      "  filt_transactions[\"day\"] = pd.to_datetime(filt_transactions[\"day\"], dayfirst=True)\n"
     ]
    },
    {
     "output_type": "execute_result",
     "data": {
      "text/plain": [
       "                                  count   discount  std        min        25%  \\\n",
       "description           day                                                       \n",
       "Biologische courgette 2018-01-01    8.0  14.792899  0.0  14.792899  14.792899   \n",
       "                      2018-01-02    2.0   0.000000  0.0   0.000000   0.000000   \n",
       "                      2018-01-03    4.0  30.177515  0.0  30.177515  30.177515   \n",
       "                      2018-01-04    3.0   0.000000  0.0   0.000000   0.000000   \n",
       "                      2018-01-05    3.0   0.000000  0.0   0.000000   0.000000   \n",
       "\n",
       "                                        50%        75%        max    month  \\\n",
       "description           day                                                    \n",
       "Biologische courgette 2018-01-01  14.792899  14.792899  14.792899  January   \n",
       "                      2018-01-02   0.000000   0.000000   0.000000  January   \n",
       "                      2018-01-03  30.177515  30.177515  30.177515  January   \n",
       "                      2018-01-04   0.000000   0.000000   0.000000  January   \n",
       "                      2018-01-05   0.000000   0.000000   0.000000  January   \n",
       "\n",
       "                                                product  day  dayofweek  \\\n",
       "description           day                                                 \n",
       "Biologische courgette 2018-01-01  Biologische courgette    1     Monday   \n",
       "                      2018-01-02  Biologische courgette    2    Tuesday   \n",
       "                      2018-01-03  Biologische courgette    3  Wednesday   \n",
       "                      2018-01-04  Biologische courgette    4   Thursday   \n",
       "                      2018-01-05  Biologische courgette    5     Friday   \n",
       "\n",
       "                                  purchase_price  std_sales_price  \\\n",
       "description           day                                           \n",
       "Biologische courgette 2018-01-01            1.44             1.69   \n",
       "                      2018-01-02            1.69             1.69   \n",
       "                      2018-01-03            1.18             1.69   \n",
       "                      2018-01-04            1.69             1.69   \n",
       "                      2018-01-05            1.69             1.69   \n",
       "\n",
       "                                  prev_day_purchases  sales      days  \\\n",
       "description           day                                               \n",
       "Biologische courgette 2018-01-01                 0.0   1.01  1/1/2018   \n",
       "                      2018-01-02                 8.0   1.01  2/1/2018   \n",
       "                      2018-01-03                 2.0   1.01  3/1/2018   \n",
       "                      2018-01-04                 4.0   1.01  4/1/2018   \n",
       "                      2018-01-05                 3.0   1.01  5/1/2018   \n",
       "\n",
       "                                  on_discount  \n",
       "description           day                      \n",
       "Biologische courgette 2018-01-01           15  \n",
       "                      2018-01-02           13  \n",
       "                      2018-01-03            8  \n",
       "                      2018-01-04           16  \n",
       "                      2018-01-05           16  "
      ],
      "text/html": "<div>\n<style scoped>\n    .dataframe tbody tr th:only-of-type {\n        vertical-align: middle;\n    }\n\n    .dataframe tbody tr th {\n        vertical-align: top;\n    }\n\n    .dataframe thead th {\n        text-align: right;\n    }\n</style>\n<table border=\"1\" class=\"dataframe\">\n  <thead>\n    <tr style=\"text-align: right;\">\n      <th></th>\n      <th></th>\n      <th>count</th>\n      <th>discount</th>\n      <th>std</th>\n      <th>min</th>\n      <th>25%</th>\n      <th>50%</th>\n      <th>75%</th>\n      <th>max</th>\n      <th>month</th>\n      <th>product</th>\n      <th>day</th>\n      <th>dayofweek</th>\n      <th>purchase_price</th>\n      <th>std_sales_price</th>\n      <th>prev_day_purchases</th>\n      <th>sales</th>\n      <th>days</th>\n      <th>on_discount</th>\n    </tr>\n    <tr>\n      <th>description</th>\n      <th>day</th>\n      <th></th>\n      <th></th>\n      <th></th>\n      <th></th>\n      <th></th>\n      <th></th>\n      <th></th>\n      <th></th>\n      <th></th>\n      <th></th>\n      <th></th>\n      <th></th>\n      <th></th>\n      <th></th>\n      <th></th>\n      <th></th>\n      <th></th>\n      <th></th>\n    </tr>\n  </thead>\n  <tbody>\n    <tr>\n      <th rowspan=\"5\" valign=\"top\">Biologische courgette</th>\n      <th>2018-01-01</th>\n      <td>8.0</td>\n      <td>14.792899</td>\n      <td>0.0</td>\n      <td>14.792899</td>\n      <td>14.792899</td>\n      <td>14.792899</td>\n      <td>14.792899</td>\n      <td>14.792899</td>\n      <td>January</td>\n      <td>Biologische courgette</td>\n      <td>1</td>\n      <td>Monday</td>\n      <td>1.44</td>\n      <td>1.69</td>\n      <td>0.0</td>\n      <td>1.01</td>\n      <td>1/1/2018</td>\n      <td>15</td>\n    </tr>\n    <tr>\n      <th>2018-01-02</th>\n      <td>2.0</td>\n      <td>0.000000</td>\n      <td>0.0</td>\n      <td>0.000000</td>\n      <td>0.000000</td>\n      <td>0.000000</td>\n      <td>0.000000</td>\n      <td>0.000000</td>\n      <td>January</td>\n      <td>Biologische courgette</td>\n      <td>2</td>\n      <td>Tuesday</td>\n      <td>1.69</td>\n      <td>1.69</td>\n      <td>8.0</td>\n      <td>1.01</td>\n      <td>2/1/2018</td>\n      <td>13</td>\n    </tr>\n    <tr>\n      <th>2018-01-03</th>\n      <td>4.0</td>\n      <td>30.177515</td>\n      <td>0.0</td>\n      <td>30.177515</td>\n      <td>30.177515</td>\n      <td>30.177515</td>\n      <td>30.177515</td>\n      <td>30.177515</td>\n      <td>January</td>\n      <td>Biologische courgette</td>\n      <td>3</td>\n      <td>Wednesday</td>\n      <td>1.18</td>\n      <td>1.69</td>\n      <td>2.0</td>\n      <td>1.01</td>\n      <td>3/1/2018</td>\n      <td>8</td>\n    </tr>\n    <tr>\n      <th>2018-01-04</th>\n      <td>3.0</td>\n      <td>0.000000</td>\n      <td>0.0</td>\n      <td>0.000000</td>\n      <td>0.000000</td>\n      <td>0.000000</td>\n      <td>0.000000</td>\n      <td>0.000000</td>\n      <td>January</td>\n      <td>Biologische courgette</td>\n      <td>4</td>\n      <td>Thursday</td>\n      <td>1.69</td>\n      <td>1.69</td>\n      <td>4.0</td>\n      <td>1.01</td>\n      <td>4/1/2018</td>\n      <td>16</td>\n    </tr>\n    <tr>\n      <th>2018-01-05</th>\n      <td>3.0</td>\n      <td>0.000000</td>\n      <td>0.0</td>\n      <td>0.000000</td>\n      <td>0.000000</td>\n      <td>0.000000</td>\n      <td>0.000000</td>\n      <td>0.000000</td>\n      <td>January</td>\n      <td>Biologische courgette</td>\n      <td>5</td>\n      <td>Friday</td>\n      <td>1.69</td>\n      <td>1.69</td>\n      <td>3.0</td>\n      <td>1.01</td>\n      <td>5/1/2018</td>\n      <td>16</td>\n    </tr>\n  </tbody>\n</table>\n</div>"
     },
     "metadata": {},
     "execution_count": 3
    }
   ],
   "source": [
    "compl_prod = \"Basis annanasstukjes\"\n",
    "\n",
    "prepared_transactions = prepare_data(filtered_transactions, discounts_per_day, compl_prod, transactions)\n",
    "prepared_transactions.head()"
   ]
  },
  {
   "cell_type": "code",
   "execution_count": 4,
   "metadata": {},
   "outputs": [
    {
     "output_type": "stream",
     "name": "stdout",
     "text": [
      "Model fitted; test set metrics: MAE: 1.6046483035994232 MSE: 3.7926899717061877, R^2 score: -0.216393672187444\n"
     ]
    }
   ],
   "source": [
    "from sklearn.ensemble import RandomForestRegressor, VotingRegressor, StackingRegressor\n",
    "from sklearn.neural_network import MLPRegressor\n",
    "from sklearn.linear_model import Ridge, LinearRegression\n",
    "from sklearn.tree import DecisionTreeRegressor\n",
    "\n",
    "output_dct = prepare_demand_function(prepared_transactions)\n",
    "nn =  MLPRegressor(hidden_layer_sizes=(50,50))\n",
    "rf = RandomForestRegressor(n_estimators=20)\n",
    "rf2 = RandomForestRegressor(n_estimators=300)\n",
    "ridge = Ridge()\n",
    "voter = VotingRegressor([(\"nn\",nn), (\"df\",rf), (\"lin\", ridge)])\n",
    "model = fit_demand_function(output_dct,ridge)"
   ]
  },
  {
   "cell_type": "code",
   "execution_count": 5,
   "metadata": {},
   "outputs": [
    {
     "output_type": "execute_result",
     "data": {
      "text/plain": [
       "             predictor      coef\n",
       "0             discount  0.136481\n",
       "1       purchase_price -0.002307\n",
       "2   prev_day_purchases -0.100613\n",
       "3          on_discount -0.116866\n",
       "4                sales  1.351471\n",
       "5            x0_Friday  0.139236\n",
       "6            x0_Monday  0.485327\n",
       "7          x0_Saturday  1.117142\n",
       "8            x0_Sunday -0.815704\n",
       "9          x0_Thursday -0.541991\n",
       "10          x0_Tuesday  0.117000\n",
       "11        x0_Wednesday -0.501012\n",
       "12            x0_April  0.000848\n",
       "13           x0_August  0.109813\n",
       "14         x0_December  0.000000\n",
       "15         x0_February -0.549337\n",
       "16          x0_January -0.251948\n",
       "17             x0_July -0.317432\n",
       "18             x0_June -0.394877\n",
       "19            x0_March  1.103558\n",
       "20              x0_May -0.422966\n",
       "21         x0_November  0.000000\n",
       "22          x0_October  0.798847\n",
       "23        x0_September -0.076506"
      ],
      "text/html": "<div>\n<style scoped>\n    .dataframe tbody tr th:only-of-type {\n        vertical-align: middle;\n    }\n\n    .dataframe tbody tr th {\n        vertical-align: top;\n    }\n\n    .dataframe thead th {\n        text-align: right;\n    }\n</style>\n<table border=\"1\" class=\"dataframe\">\n  <thead>\n    <tr style=\"text-align: right;\">\n      <th></th>\n      <th>predictor</th>\n      <th>coef</th>\n    </tr>\n  </thead>\n  <tbody>\n    <tr>\n      <th>0</th>\n      <td>discount</td>\n      <td>0.136481</td>\n    </tr>\n    <tr>\n      <th>1</th>\n      <td>purchase_price</td>\n      <td>-0.002307</td>\n    </tr>\n    <tr>\n      <th>2</th>\n      <td>prev_day_purchases</td>\n      <td>-0.100613</td>\n    </tr>\n    <tr>\n      <th>3</th>\n      <td>on_discount</td>\n      <td>-0.116866</td>\n    </tr>\n    <tr>\n      <th>4</th>\n      <td>sales</td>\n      <td>1.351471</td>\n    </tr>\n    <tr>\n      <th>5</th>\n      <td>x0_Friday</td>\n      <td>0.139236</td>\n    </tr>\n    <tr>\n      <th>6</th>\n      <td>x0_Monday</td>\n      <td>0.485327</td>\n    </tr>\n    <tr>\n      <th>7</th>\n      <td>x0_Saturday</td>\n      <td>1.117142</td>\n    </tr>\n    <tr>\n      <th>8</th>\n      <td>x0_Sunday</td>\n      <td>-0.815704</td>\n    </tr>\n    <tr>\n      <th>9</th>\n      <td>x0_Thursday</td>\n      <td>-0.541991</td>\n    </tr>\n    <tr>\n      <th>10</th>\n      <td>x0_Tuesday</td>\n      <td>0.117000</td>\n    </tr>\n    <tr>\n      <th>11</th>\n      <td>x0_Wednesday</td>\n      <td>-0.501012</td>\n    </tr>\n    <tr>\n      <th>12</th>\n      <td>x0_April</td>\n      <td>0.000848</td>\n    </tr>\n    <tr>\n      <th>13</th>\n      <td>x0_August</td>\n      <td>0.109813</td>\n    </tr>\n    <tr>\n      <th>14</th>\n      <td>x0_December</td>\n      <td>0.000000</td>\n    </tr>\n    <tr>\n      <th>15</th>\n      <td>x0_February</td>\n      <td>-0.549337</td>\n    </tr>\n    <tr>\n      <th>16</th>\n      <td>x0_January</td>\n      <td>-0.251948</td>\n    </tr>\n    <tr>\n      <th>17</th>\n      <td>x0_July</td>\n      <td>-0.317432</td>\n    </tr>\n    <tr>\n      <th>18</th>\n      <td>x0_June</td>\n      <td>-0.394877</td>\n    </tr>\n    <tr>\n      <th>19</th>\n      <td>x0_March</td>\n      <td>1.103558</td>\n    </tr>\n    <tr>\n      <th>20</th>\n      <td>x0_May</td>\n      <td>-0.422966</td>\n    </tr>\n    <tr>\n      <th>21</th>\n      <td>x0_November</td>\n      <td>0.000000</td>\n    </tr>\n    <tr>\n      <th>22</th>\n      <td>x0_October</td>\n      <td>0.798847</td>\n    </tr>\n    <tr>\n      <th>23</th>\n      <td>x0_September</td>\n      <td>-0.076506</td>\n    </tr>\n  </tbody>\n</table>\n</div>"
     },
     "metadata": {},
     "execution_count": 5
    }
   ],
   "source": [
    "pd.DataFrame({\"predictor\":output_dct[\"train\"][0].columns, \"coef\":model.coef_})"
   ]
  },
  {
   "cell_type": "code",
   "execution_count": 7,
   "metadata": {},
   "outputs": [],
   "source": [
    "prepared_transactions.dropna(inplace=True)\n",
    "one_row = prepared_transactions#[prepared_transactions[\"product\"] == \"Biologische knoflook\"].tail(500)\n",
    "pred_columns = [\"discount\", \"purchase_price\", \"prev_day_purchases\", \"on_discount\", \"sales\"]\n",
    "target_col = \"count\"\n",
    "\n",
    "\n",
    "df_dayofweek = pd.DataFrame(output_dct[\"weekday_enc\"].transform(one_row[[\"dayofweek\"]]), columns=output_dct[\"weekday_enc\"].get_feature_names())\n",
    "\n",
    "df_month = pd.DataFrame(output_dct[\"months_enc\"].transform(one_row[[\"month\"]]), columns=output_dct[\"months_enc\"].get_feature_names())\n",
    "\n",
    "#df_product = pd.DataFrame(output_dct[\"product_enc\"].transform(one_row[[\"product\"]]), columns=output_dct[\"product_enc\"].get_feature_names())\n",
    "\n",
    "X_pred = pd.concat([pd.DataFrame(one_row[pred_columns].values, columns=one_row[pred_columns].columns), df_dayofweek, df_month], axis=1) #add df_product back\n",
    "\n",
    "one_row[\"predicted\"] = model.predict(X_pred)"
   ]
  },
  {
   "cell_type": "code",
   "execution_count": 8,
   "metadata": {},
   "outputs": [
    {
     "output_type": "display_data",
     "data": {
      "application/vnd.plotly.v1+json": {
       "config": {
        "plotlyServerURL": "https://plot.ly"
       },
       "data": [
        {
         "hovertemplate": "day=%{x}<br>count=%{y}<extra></extra>",
         "legendgroup": "",
         "line": {
          "color": "#636efa",
          "dash": "solid"
         },
         "mode": "lines",
         "name": "",
         "orientation": "v",
         "showlegend": false,
         "type": "scatter",
         "x": [
          1,
          2,
          3,
          4,
          5,
          6,
          7,
          8,
          9,
          10,
          11,
          12,
          13,
          14,
          15,
          16,
          17,
          18,
          19,
          20,
          21,
          22,
          25,
          26,
          27,
          28,
          30,
          31,
          33,
          34,
          35,
          36,
          37,
          38,
          39,
          40,
          42,
          43,
          44,
          45,
          46,
          48,
          49,
          50,
          51,
          52,
          53,
          55,
          56,
          57,
          58,
          59,
          60,
          62,
          64,
          65,
          66,
          67,
          68,
          69,
          70,
          72,
          73,
          74,
          75,
          76,
          78,
          79,
          80,
          81,
          83,
          84,
          85,
          86,
          87,
          88,
          89,
          90,
          91,
          92,
          93,
          94,
          95,
          96,
          98,
          99,
          100,
          101,
          102,
          104,
          105,
          106,
          107,
          109,
          110,
          111,
          112,
          113,
          114,
          115,
          116,
          117,
          118,
          119,
          120,
          121,
          122,
          123,
          125,
          126,
          128,
          130,
          131,
          132,
          133,
          134,
          136,
          137,
          138,
          139,
          140,
          141,
          143,
          145,
          147,
          148,
          150,
          151,
          152,
          153,
          154,
          155,
          157,
          158,
          159,
          160,
          161,
          162,
          163,
          167,
          168,
          169,
          170,
          171,
          172,
          173,
          174,
          175,
          176,
          177,
          180,
          181,
          182,
          183,
          186,
          187,
          188,
          189,
          190,
          191,
          192,
          193,
          194,
          195,
          196,
          197,
          198,
          199,
          200,
          201,
          202,
          203,
          204,
          205,
          206,
          207,
          208,
          210,
          211,
          212,
          213,
          214,
          215,
          216,
          219,
          220,
          221,
          222,
          223,
          224,
          225,
          227,
          229,
          231,
          232,
          233,
          234,
          235,
          236,
          237,
          238,
          239,
          242,
          243,
          244,
          245,
          246,
          247,
          248,
          249,
          250,
          251,
          252,
          254,
          256,
          257,
          259,
          262,
          264,
          265,
          266,
          267,
          269,
          270,
          271,
          272,
          273,
          274,
          275,
          276,
          277,
          278,
          279,
          280,
          281,
          283,
          284,
          286,
          287,
          288,
          290,
          291,
          293,
          295,
          296,
          297,
          298,
          299,
          300,
          301,
          302,
          303,
          304,
          305,
          307,
          308,
          309,
          310,
          311,
          312,
          315,
          317,
          318,
          319,
          320,
          321,
          322,
          323,
          326,
          327,
          328,
          330,
          331,
          332,
          333,
          335,
          336,
          337,
          338,
          339,
          340,
          341,
          342,
          343,
          345,
          346,
          347,
          348,
          349,
          351,
          352,
          353,
          354,
          355,
          356,
          357,
          358,
          359,
          360,
          361,
          362,
          363,
          364
         ],
         "xaxis": "x",
         "y": [
          8,
          2,
          4,
          3,
          3,
          3,
          6,
          4,
          3,
          2,
          4,
          6,
          4,
          2,
          2,
          3,
          2,
          10,
          6,
          6,
          6,
          4,
          2,
          13,
          8,
          2,
          2,
          2,
          4,
          12,
          2,
          4,
          6,
          5,
          4,
          2,
          4,
          2,
          4,
          2,
          2,
          4,
          4,
          3,
          4,
          4,
          2,
          7,
          3,
          9,
          6,
          4,
          2,
          22,
          2,
          6,
          5,
          7,
          3,
          5,
          3,
          12,
          2,
          2,
          7,
          5,
          6,
          7,
          4,
          8,
          4,
          2,
          5,
          4,
          6,
          3,
          8,
          4,
          2,
          4,
          11,
          2,
          2,
          3,
          8,
          4,
          2,
          2,
          2,
          13,
          6,
          3,
          6,
          7,
          3,
          4,
          2,
          3,
          7,
          14,
          5,
          5,
          6,
          7,
          4,
          3,
          5,
          4,
          10,
          2,
          2,
          2,
          3,
          3,
          7,
          4,
          2,
          4,
          4,
          2,
          3,
          4,
          5,
          2,
          8,
          2,
          3,
          2,
          5,
          9,
          6,
          5,
          3,
          2,
          6,
          3,
          2,
          5,
          3,
          3,
          2,
          5,
          4,
          2,
          5,
          4,
          4,
          4,
          2,
          3,
          4,
          7,
          3,
          7,
          4,
          3,
          5,
          3,
          4,
          4,
          5,
          2,
          3,
          3,
          4,
          3,
          3,
          9,
          3,
          6,
          3,
          2,
          4,
          2,
          2,
          3,
          4,
          6,
          3,
          3,
          4,
          3,
          2,
          9,
          5,
          4,
          2,
          5,
          10,
          4,
          5,
          7,
          7,
          5,
          4,
          5,
          2,
          3,
          3,
          5,
          3,
          4,
          2,
          2,
          5,
          4,
          4,
          2,
          2,
          2,
          6,
          4,
          4,
          5,
          5,
          2,
          5,
          8,
          3,
          4,
          3,
          4,
          5,
          2,
          8,
          3,
          2,
          4,
          12,
          7,
          4,
          2,
          3,
          4,
          6,
          3,
          18,
          2,
          2,
          2,
          3,
          2,
          5,
          5,
          3,
          2,
          2,
          6,
          3,
          2,
          2,
          2,
          5,
          2,
          8,
          2,
          5,
          4,
          3,
          7,
          6,
          4,
          2,
          5,
          3,
          5,
          2,
          2,
          2,
          3,
          4,
          6,
          3,
          2,
          2,
          5,
          5,
          6,
          2,
          3,
          2,
          2,
          3,
          3,
          4,
          4,
          7,
          5,
          3,
          3,
          7,
          4,
          7,
          8,
          4,
          7,
          6,
          2,
          4,
          3,
          2,
          3,
          4
         ],
         "yaxis": "y"
        },
        {
         "mode": "lines",
         "type": "scatter",
         "x": [
          1,
          2,
          3,
          4,
          5,
          6,
          7,
          8,
          9,
          10,
          11,
          12,
          13,
          14,
          15,
          16,
          17,
          18,
          19,
          20,
          21,
          22,
          25,
          26,
          27,
          28,
          30,
          31,
          33,
          34,
          35,
          36,
          37,
          38,
          39,
          40,
          42,
          43,
          44,
          45,
          46,
          48,
          49,
          50,
          51,
          52,
          53,
          55,
          56,
          57,
          58,
          59,
          60,
          62,
          64,
          65,
          66,
          67,
          68,
          69,
          70,
          72,
          73,
          74,
          75,
          76,
          78,
          79,
          80,
          81,
          83,
          84,
          85,
          86,
          87,
          88,
          89,
          90,
          91,
          92,
          93,
          94,
          95,
          96,
          98,
          99,
          100,
          101,
          102,
          104,
          105,
          106,
          107,
          109,
          110,
          111,
          112,
          113,
          114,
          115,
          116,
          117,
          118,
          119,
          120,
          121,
          122,
          123,
          125,
          126,
          128,
          130,
          131,
          132,
          133,
          134,
          136,
          137,
          138,
          139,
          140,
          141,
          143,
          145,
          147,
          148,
          150,
          151,
          152,
          153,
          154,
          155,
          157,
          158,
          159,
          160,
          161,
          162,
          163,
          167,
          168,
          169,
          170,
          171,
          172,
          173,
          174,
          175,
          176,
          177,
          180,
          181,
          182,
          183,
          186,
          187,
          188,
          189,
          190,
          191,
          192,
          193,
          194,
          195,
          196,
          197,
          198,
          199,
          200,
          201,
          202,
          203,
          204,
          205,
          206,
          207,
          208,
          210,
          211,
          212,
          213,
          214,
          215,
          216,
          219,
          220,
          221,
          222,
          223,
          224,
          225,
          227,
          229,
          231,
          232,
          233,
          234,
          235,
          236,
          237,
          238,
          239,
          242,
          243,
          244,
          245,
          246,
          247,
          248,
          249,
          250,
          251,
          252,
          254,
          256,
          257,
          259,
          262,
          264,
          265,
          266,
          267,
          269,
          270,
          271,
          272,
          273,
          274,
          275,
          276,
          277,
          278,
          279,
          280,
          281,
          283,
          284,
          286,
          287,
          288,
          290,
          291,
          293,
          295,
          296,
          297,
          298,
          299,
          300,
          301,
          302,
          303,
          304,
          305,
          307,
          308,
          309,
          310,
          311,
          312,
          315,
          317,
          318,
          319,
          320,
          321,
          322,
          323,
          326,
          327,
          328,
          330,
          331,
          332,
          333,
          335,
          336,
          337,
          338,
          339,
          340,
          341,
          342,
          343,
          345,
          346,
          347,
          348,
          349,
          351,
          352,
          353,
          354,
          355,
          356,
          357,
          358,
          359,
          360,
          361,
          362,
          363,
          364
         ],
         "y": [
          6.8473483142210405,
          3.888320658431841,
          8.578153658668192,
          3.2811838302023557,
          4.063024041541081,
          5.625259815397614,
          4.510475812374598,
          3.4060802697790473,
          4.057040988097421,
          4.12397179023063,
          3.716141897135228,
          4.079276942808033,
          5.323420617098386,
          4.2929967789081624,
          3.6916665668113238,
          4.1414011529302135,
          4.123971790230629,
          3.5992759297685337,
          3.5924645135762723,
          5.206554649731692,
          4.091770646708677,
          3.6398122045124346,
          3.6998889958682772,
          4.397369042374211,
          4.61912915440019,
          3.5399466124091097,
          4.475746153763344,
          3.6402550194969026,
          4.0837272679278485,
          8.879630874256117,
          2.1389096706305657,
          3.7448755957319944,
          3.759652114918011,
          2.9404138819185213,
          2.883181890923202,
          3.6650221022619274,
          3.829983234561203,
          3.3099175287991214,
          4.07774421448419,
          3.141640014118005,
          3.1850210892224293,
          5.529097074417688,
          3.645010003628669,
          3.543649463532508,
          3.977131148384448,
          3.4922379162180874,
          3.100660924389638,
          4.961020138851169,
          3.226304837962748,
          7.8809653646033775,
          7.37642365202373,
          7.177116716889646,
          6.773083821659399,
          10.83436509354842,
          5.147785780724734,
          5.496907300743881,
          4.710174870278294,
          4.769808846649669,
          5.132943892322473,
          6.6301680611112,
          5.080425991155312,
          5.513160202010832,
          3.8727645389464502,
          4.954782077582203,
          5.636009222821185,
          6.110849829345535,
          4.745333516325764,
          5.09445503634491,
          4.6095618041785515,
          4.636689978016023,
          6.71452822594399,
          4.830441155154971,
          5.164038681991685,
          5.195068102444654,
          5.028266969844473,
          4.552329813183231,
          5.535396156721442,
          6.127102730612488,
          5.864124321136738,
          3.9444620369633814,
          8.42967332585391,
          3.1043988621179714,
          3.735205432553898,
          4.4164325777928815,
          3.828343543593105,
          3.4576496077316197,
          4.30983645824948,
          4.126782424382348,
          3.9689373672872863,
          5.962415450382462,
          3.0559448173290678,
          3.892607674664493,
          4.4104495243492225,
          3.952684466020335,
          4.030233214660862,
          5.761189318182978,
          3.9614624122267506,
          7.059024783919451,
          7.465388538764845,
          6.678656108299258,
          5.699653621139305,
          7.403264328642663,
          8.264304298299033,
          6.5814433597095,
          3.6345845030705526,
          5.905551134235124,
          3.836088092724956,
          5.186337435132543,
          5.65546821745812,
          3.0508367827039513,
          3.56494204151619,
          3.0065639170875595,
          3.704043963593494,
          4.698202801883508,
          2.999088962027023,
          2.675210784208039,
          3.0470093067959283,
          2.8566584471669634,
          3.4535254275731555,
          4.665163299329607,
          3.6347394611393824,
          3.153341121914413,
          3.268011157158438,
          3.807646146569311,
          3.5051434094018097,
          3.2675683421739707,
          4.037314224924442,
          3.4445111008965066,
          5.923369373280495,
          5.397970007294507,
          3.413269870405746,
          3.2631506265087307,
          3.8316703770597162,
          3.3557332203984758,
          4.1375734317372,
          4.713027104361294,
          3.549484397537425,
          3.7824688582743953,
          3.813498278727364,
          5.4498243695933954,
          3.549484397537424,
          3.7824688582743953,
          3.8134982787273635,
          3.4129652113937956,
          3.5732122538649125,
          3.8357342334379734,
          5.1479851712941676,
          3.332005364070988,
          3.4643767587082164,
          4.115337477026591,
          4.471918432570332,
          5.264851138660862,
          4.89340734473579,
          3.6424350622286945,
          3.6344045900186965,
          4.0137925369584515,
          5.0923115400812575,
          3.542569470125369,
          3.790312273691253,
          3.788835891610318,
          3.0539578234436195,
          2.912365667615509,
          4.012297978520413,
          4.77272488207704,
          3.5410749116873306,
          3.5326074192817907,
          4.092169648347585,
          3.3572915801808856,
          2.4789021591206746,
          3.997539635691499,
          4.6736063744153356,
          3.6269296349581603,
          3.743048128328437,
          3.9915565822478416,
          3.691636581014016,
          3.5337915239189535,
          4.114405603058194,
          3.8281557671576443,
          2.989997961829385,
          3.9753036809808906,
          4.018268642630213,
          3.8766764868021024,
          4.541650730774133,
          5.970767635997021,
          4.837506875629703,
          3.933908477797422,
          3.876676486802102,
          4.642263796873876,
          5.5520624703311,
          3.466749267342596,
          3.8522011564781966,
          4.219494774829698,
          4.742876862973619,
          4.13853492750689,
          3.985320025111843,
          4.301935742597088,
          3.7001765430640337,
          3.8441706842681995,
          4.6585166981408275,
          5.753288602530584,
          3.9698145978413093,
          4.186546157311327,
          4.061649717734636,
          4.75912976424057,
          5.6675826537000455,
          3.9003615502777222,
          3.150565161548852,
          3.827041313758456,
          3.5271213125246303,
          3.3692762554295683,
          4.284235335401939,
          4.976554975392727,
          3.3618013003690326,
          4.196454075603524,
          3.4205969177084574,
          3.8162377659151647,
          3.630600996114358,
          4.033175759899416,
          4.322825913309949,
          5.099505718133528,
          3.1829128448106063,
          4.117093109747741,
          3.9163097925327226,
          3.3560124710386914,
          4.455944781943595,
          4.830172322368203,
          3.634123813010431,
          4.859327614602549,
          4.99097010115526,
          3.684919438924009,
          4.147005679694352,
          5.130072023232564,
          6.309204092455111,
          4.7432091212322725,
          4.424369547669675,
          4.90852913338787,
          4.549457944093323,
          6.643549093288241,
          4.843822187332014,
          4.742461647235855,
          4.674797198654482,
          4.549457944093322,
          6.643549093288243,
          5.076806648068984,
          5.0072230024222115,
          4.590437033821691,
          4.650071010193065,
          5.214432188065355,
          6.023617795422837,
          4.626343153865578,
          4.859327614602549,
          5.3090622007214385,
          5.158513969388209,
          3.6662505463114403,
          6.312165729805926,
          3.7918944598845488,
          3.9355041215929307,
          3.821215547923061,
          3.4206824805894933,
          3.480316456960867,
          3.758427798932607,
          4.610828033872089,
          3.4572448000394687,
          3.7343578098772796,
          3.9968797894503414,
          5.409743793406276,
          3.1588059192502245,
          3.593016512186681,
          3.834970875977022,
          4.532450922482957,
          5.409743793406277,
          3.5086563473538885,
          4.224628670740071,
          4.142187702972681,
          3.7343578098772787,
          5.727835892972455,
          3.860001723450389,
          4.04166552190847,
          3.57272527036076,
          3.9414952707931947,
          3.6830371475983905,
          4.58174332630381,
          5.676515230693567,
          3.759922357370645,
          4.409601901672604,
          3.6909767347728564,
          3.649997645044488,
          4.029385591984243,
          5.325383628573485,
          7.586406082431928,
          7.80240873381743,
          6.898810335985149,
          7.042804477189314,
          7.42219242412907,
          8.53321722978578,
          7.11968968696157,
          6.053018207318017,
          4.107762703373377,
          4.125934801705729,
          3.6499976450444884,
          4.665569791116602,
          5.860954761606101,
          3.710629953549792
         ]
        }
       ],
       "layout": {
        "legend": {
         "tracegroupgap": 0
        },
        "margin": {
         "t": 60
        },
        "template": {
         "data": {
          "bar": [
           {
            "error_x": {
             "color": "#2a3f5f"
            },
            "error_y": {
             "color": "#2a3f5f"
            },
            "marker": {
             "line": {
              "color": "#E5ECF6",
              "width": 0.5
             }
            },
            "type": "bar"
           }
          ],
          "barpolar": [
           {
            "marker": {
             "line": {
              "color": "#E5ECF6",
              "width": 0.5
             }
            },
            "type": "barpolar"
           }
          ],
          "carpet": [
           {
            "aaxis": {
             "endlinecolor": "#2a3f5f",
             "gridcolor": "white",
             "linecolor": "white",
             "minorgridcolor": "white",
             "startlinecolor": "#2a3f5f"
            },
            "baxis": {
             "endlinecolor": "#2a3f5f",
             "gridcolor": "white",
             "linecolor": "white",
             "minorgridcolor": "white",
             "startlinecolor": "#2a3f5f"
            },
            "type": "carpet"
           }
          ],
          "choropleth": [
           {
            "colorbar": {
             "outlinewidth": 0,
             "ticks": ""
            },
            "type": "choropleth"
           }
          ],
          "contour": [
           {
            "colorbar": {
             "outlinewidth": 0,
             "ticks": ""
            },
            "colorscale": [
             [
              0,
              "#0d0887"
             ],
             [
              0.1111111111111111,
              "#46039f"
             ],
             [
              0.2222222222222222,
              "#7201a8"
             ],
             [
              0.3333333333333333,
              "#9c179e"
             ],
             [
              0.4444444444444444,
              "#bd3786"
             ],
             [
              0.5555555555555556,
              "#d8576b"
             ],
             [
              0.6666666666666666,
              "#ed7953"
             ],
             [
              0.7777777777777778,
              "#fb9f3a"
             ],
             [
              0.8888888888888888,
              "#fdca26"
             ],
             [
              1,
              "#f0f921"
             ]
            ],
            "type": "contour"
           }
          ],
          "contourcarpet": [
           {
            "colorbar": {
             "outlinewidth": 0,
             "ticks": ""
            },
            "type": "contourcarpet"
           }
          ],
          "heatmap": [
           {
            "colorbar": {
             "outlinewidth": 0,
             "ticks": ""
            },
            "colorscale": [
             [
              0,
              "#0d0887"
             ],
             [
              0.1111111111111111,
              "#46039f"
             ],
             [
              0.2222222222222222,
              "#7201a8"
             ],
             [
              0.3333333333333333,
              "#9c179e"
             ],
             [
              0.4444444444444444,
              "#bd3786"
             ],
             [
              0.5555555555555556,
              "#d8576b"
             ],
             [
              0.6666666666666666,
              "#ed7953"
             ],
             [
              0.7777777777777778,
              "#fb9f3a"
             ],
             [
              0.8888888888888888,
              "#fdca26"
             ],
             [
              1,
              "#f0f921"
             ]
            ],
            "type": "heatmap"
           }
          ],
          "heatmapgl": [
           {
            "colorbar": {
             "outlinewidth": 0,
             "ticks": ""
            },
            "colorscale": [
             [
              0,
              "#0d0887"
             ],
             [
              0.1111111111111111,
              "#46039f"
             ],
             [
              0.2222222222222222,
              "#7201a8"
             ],
             [
              0.3333333333333333,
              "#9c179e"
             ],
             [
              0.4444444444444444,
              "#bd3786"
             ],
             [
              0.5555555555555556,
              "#d8576b"
             ],
             [
              0.6666666666666666,
              "#ed7953"
             ],
             [
              0.7777777777777778,
              "#fb9f3a"
             ],
             [
              0.8888888888888888,
              "#fdca26"
             ],
             [
              1,
              "#f0f921"
             ]
            ],
            "type": "heatmapgl"
           }
          ],
          "histogram": [
           {
            "marker": {
             "colorbar": {
              "outlinewidth": 0,
              "ticks": ""
             }
            },
            "type": "histogram"
           }
          ],
          "histogram2d": [
           {
            "colorbar": {
             "outlinewidth": 0,
             "ticks": ""
            },
            "colorscale": [
             [
              0,
              "#0d0887"
             ],
             [
              0.1111111111111111,
              "#46039f"
             ],
             [
              0.2222222222222222,
              "#7201a8"
             ],
             [
              0.3333333333333333,
              "#9c179e"
             ],
             [
              0.4444444444444444,
              "#bd3786"
             ],
             [
              0.5555555555555556,
              "#d8576b"
             ],
             [
              0.6666666666666666,
              "#ed7953"
             ],
             [
              0.7777777777777778,
              "#fb9f3a"
             ],
             [
              0.8888888888888888,
              "#fdca26"
             ],
             [
              1,
              "#f0f921"
             ]
            ],
            "type": "histogram2d"
           }
          ],
          "histogram2dcontour": [
           {
            "colorbar": {
             "outlinewidth": 0,
             "ticks": ""
            },
            "colorscale": [
             [
              0,
              "#0d0887"
             ],
             [
              0.1111111111111111,
              "#46039f"
             ],
             [
              0.2222222222222222,
              "#7201a8"
             ],
             [
              0.3333333333333333,
              "#9c179e"
             ],
             [
              0.4444444444444444,
              "#bd3786"
             ],
             [
              0.5555555555555556,
              "#d8576b"
             ],
             [
              0.6666666666666666,
              "#ed7953"
             ],
             [
              0.7777777777777778,
              "#fb9f3a"
             ],
             [
              0.8888888888888888,
              "#fdca26"
             ],
             [
              1,
              "#f0f921"
             ]
            ],
            "type": "histogram2dcontour"
           }
          ],
          "mesh3d": [
           {
            "colorbar": {
             "outlinewidth": 0,
             "ticks": ""
            },
            "type": "mesh3d"
           }
          ],
          "parcoords": [
           {
            "line": {
             "colorbar": {
              "outlinewidth": 0,
              "ticks": ""
             }
            },
            "type": "parcoords"
           }
          ],
          "pie": [
           {
            "automargin": true,
            "type": "pie"
           }
          ],
          "scatter": [
           {
            "marker": {
             "colorbar": {
              "outlinewidth": 0,
              "ticks": ""
             }
            },
            "type": "scatter"
           }
          ],
          "scatter3d": [
           {
            "line": {
             "colorbar": {
              "outlinewidth": 0,
              "ticks": ""
             }
            },
            "marker": {
             "colorbar": {
              "outlinewidth": 0,
              "ticks": ""
             }
            },
            "type": "scatter3d"
           }
          ],
          "scattercarpet": [
           {
            "marker": {
             "colorbar": {
              "outlinewidth": 0,
              "ticks": ""
             }
            },
            "type": "scattercarpet"
           }
          ],
          "scattergeo": [
           {
            "marker": {
             "colorbar": {
              "outlinewidth": 0,
              "ticks": ""
             }
            },
            "type": "scattergeo"
           }
          ],
          "scattergl": [
           {
            "marker": {
             "colorbar": {
              "outlinewidth": 0,
              "ticks": ""
             }
            },
            "type": "scattergl"
           }
          ],
          "scattermapbox": [
           {
            "marker": {
             "colorbar": {
              "outlinewidth": 0,
              "ticks": ""
             }
            },
            "type": "scattermapbox"
           }
          ],
          "scatterpolar": [
           {
            "marker": {
             "colorbar": {
              "outlinewidth": 0,
              "ticks": ""
             }
            },
            "type": "scatterpolar"
           }
          ],
          "scatterpolargl": [
           {
            "marker": {
             "colorbar": {
              "outlinewidth": 0,
              "ticks": ""
             }
            },
            "type": "scatterpolargl"
           }
          ],
          "scatterternary": [
           {
            "marker": {
             "colorbar": {
              "outlinewidth": 0,
              "ticks": ""
             }
            },
            "type": "scatterternary"
           }
          ],
          "surface": [
           {
            "colorbar": {
             "outlinewidth": 0,
             "ticks": ""
            },
            "colorscale": [
             [
              0,
              "#0d0887"
             ],
             [
              0.1111111111111111,
              "#46039f"
             ],
             [
              0.2222222222222222,
              "#7201a8"
             ],
             [
              0.3333333333333333,
              "#9c179e"
             ],
             [
              0.4444444444444444,
              "#bd3786"
             ],
             [
              0.5555555555555556,
              "#d8576b"
             ],
             [
              0.6666666666666666,
              "#ed7953"
             ],
             [
              0.7777777777777778,
              "#fb9f3a"
             ],
             [
              0.8888888888888888,
              "#fdca26"
             ],
             [
              1,
              "#f0f921"
             ]
            ],
            "type": "surface"
           }
          ],
          "table": [
           {
            "cells": {
             "fill": {
              "color": "#EBF0F8"
             },
             "line": {
              "color": "white"
             }
            },
            "header": {
             "fill": {
              "color": "#C8D4E3"
             },
             "line": {
              "color": "white"
             }
            },
            "type": "table"
           }
          ]
         },
         "layout": {
          "annotationdefaults": {
           "arrowcolor": "#2a3f5f",
           "arrowhead": 0,
           "arrowwidth": 1
          },
          "coloraxis": {
           "colorbar": {
            "outlinewidth": 0,
            "ticks": ""
           }
          },
          "colorscale": {
           "diverging": [
            [
             0,
             "#8e0152"
            ],
            [
             0.1,
             "#c51b7d"
            ],
            [
             0.2,
             "#de77ae"
            ],
            [
             0.3,
             "#f1b6da"
            ],
            [
             0.4,
             "#fde0ef"
            ],
            [
             0.5,
             "#f7f7f7"
            ],
            [
             0.6,
             "#e6f5d0"
            ],
            [
             0.7,
             "#b8e186"
            ],
            [
             0.8,
             "#7fbc41"
            ],
            [
             0.9,
             "#4d9221"
            ],
            [
             1,
             "#276419"
            ]
           ],
           "sequential": [
            [
             0,
             "#0d0887"
            ],
            [
             0.1111111111111111,
             "#46039f"
            ],
            [
             0.2222222222222222,
             "#7201a8"
            ],
            [
             0.3333333333333333,
             "#9c179e"
            ],
            [
             0.4444444444444444,
             "#bd3786"
            ],
            [
             0.5555555555555556,
             "#d8576b"
            ],
            [
             0.6666666666666666,
             "#ed7953"
            ],
            [
             0.7777777777777778,
             "#fb9f3a"
            ],
            [
             0.8888888888888888,
             "#fdca26"
            ],
            [
             1,
             "#f0f921"
            ]
           ],
           "sequentialminus": [
            [
             0,
             "#0d0887"
            ],
            [
             0.1111111111111111,
             "#46039f"
            ],
            [
             0.2222222222222222,
             "#7201a8"
            ],
            [
             0.3333333333333333,
             "#9c179e"
            ],
            [
             0.4444444444444444,
             "#bd3786"
            ],
            [
             0.5555555555555556,
             "#d8576b"
            ],
            [
             0.6666666666666666,
             "#ed7953"
            ],
            [
             0.7777777777777778,
             "#fb9f3a"
            ],
            [
             0.8888888888888888,
             "#fdca26"
            ],
            [
             1,
             "#f0f921"
            ]
           ]
          },
          "colorway": [
           "#636efa",
           "#EF553B",
           "#00cc96",
           "#ab63fa",
           "#FFA15A",
           "#19d3f3",
           "#FF6692",
           "#B6E880",
           "#FF97FF",
           "#FECB52"
          ],
          "font": {
           "color": "#2a3f5f"
          },
          "geo": {
           "bgcolor": "white",
           "lakecolor": "white",
           "landcolor": "#E5ECF6",
           "showlakes": true,
           "showland": true,
           "subunitcolor": "white"
          },
          "hoverlabel": {
           "align": "left"
          },
          "hovermode": "closest",
          "mapbox": {
           "style": "light"
          },
          "paper_bgcolor": "white",
          "plot_bgcolor": "#E5ECF6",
          "polar": {
           "angularaxis": {
            "gridcolor": "white",
            "linecolor": "white",
            "ticks": ""
           },
           "bgcolor": "#E5ECF6",
           "radialaxis": {
            "gridcolor": "white",
            "linecolor": "white",
            "ticks": ""
           }
          },
          "scene": {
           "xaxis": {
            "backgroundcolor": "#E5ECF6",
            "gridcolor": "white",
            "gridwidth": 2,
            "linecolor": "white",
            "showbackground": true,
            "ticks": "",
            "zerolinecolor": "white"
           },
           "yaxis": {
            "backgroundcolor": "#E5ECF6",
            "gridcolor": "white",
            "gridwidth": 2,
            "linecolor": "white",
            "showbackground": true,
            "ticks": "",
            "zerolinecolor": "white"
           },
           "zaxis": {
            "backgroundcolor": "#E5ECF6",
            "gridcolor": "white",
            "gridwidth": 2,
            "linecolor": "white",
            "showbackground": true,
            "ticks": "",
            "zerolinecolor": "white"
           }
          },
          "shapedefaults": {
           "line": {
            "color": "#2a3f5f"
           }
          },
          "ternary": {
           "aaxis": {
            "gridcolor": "white",
            "linecolor": "white",
            "ticks": ""
           },
           "baxis": {
            "gridcolor": "white",
            "linecolor": "white",
            "ticks": ""
           },
           "bgcolor": "#E5ECF6",
           "caxis": {
            "gridcolor": "white",
            "linecolor": "white",
            "ticks": ""
           }
          },
          "title": {
           "x": 0.05
          },
          "xaxis": {
           "automargin": true,
           "gridcolor": "white",
           "linecolor": "white",
           "ticks": "",
           "title": {
            "standoff": 15
           },
           "zerolinecolor": "white",
           "zerolinewidth": 2
          },
          "yaxis": {
           "automargin": true,
           "gridcolor": "white",
           "linecolor": "white",
           "ticks": "",
           "title": {
            "standoff": 15
           },
           "zerolinecolor": "white",
           "zerolinewidth": 2
          }
         }
        },
        "xaxis": {
         "anchor": "y",
         "domain": [
          0,
          1
         ],
         "title": {
          "text": "day"
         }
        },
        "yaxis": {
         "anchor": "x",
         "domain": [
          0,
          1
         ],
         "title": {
          "text": "count"
         }
        }
       }
      }
     },
     "metadata": {}
    }
   ],
   "source": [
    "import plotly.express as px\n",
    "fig = px.line(one_row, x=\"day\", y=\"count\")\n",
    "fig.add_scatter(x=one_row[\"day\"], y=one_row[\"predicted\"], mode=\"lines\")\n",
    "fig.show()"
   ]
  },
  {
   "cell_type": "code",
   "execution_count": 68,
   "metadata": {},
   "outputs": [
    {
     "output_type": "stream",
     "name": "stderr",
     "text": [
      "c:\\Users\\zolyo\\OneDrive\\Documents\\Quartile 3\\JBG050 Data Challenge 2\\Code\\src\\demand.py:133: SettingWithCopyWarning:\n\n\nA value is trying to be set on a copy of a slice from a DataFrame\n\nSee the caveats in the documentation: https://pandas.pydata.org/pandas-docs/stable/user_guide/indexing.html#returning-a-view-versus-a-copy\n\n"
     ]
    },
    {
     "output_type": "execute_result",
     "data": {
      "text/plain": [
       "array([3.36645635])"
      ]
     },
     "metadata": {},
     "execution_count": 68
    }
   ],
   "source": [
    "modded = one_row.tail(1)\n",
    "#modded[\"discount\"] = 30\n",
    "X_mod = prepare_predictors(modded, output_dct)\n",
    "model.predict(X_mod)"
   ]
  },
  {
   "cell_type": "code",
   "execution_count": 76,
   "metadata": {},
   "outputs": [
    {
     "output_type": "execute_result",
     "data": {
      "text/plain": [
       "array([10.19030312])"
      ]
     },
     "metadata": {},
     "execution_count": 76
    }
   ],
   "source": [
    "X_mod20 = apply_discount(X_mod, 50)\n",
    "model.predict(X_mod20)"
   ]
  },
  {
   "cell_type": "code",
   "execution_count": 8,
   "metadata": {},
   "outputs": [
    {
     "output_type": "execute_result",
     "data": {
      "text/plain": [
       "                                     count  discount  std  min  25%  50%  75%  \\\n",
       "description              day                                                    \n",
       "Biologische kikkererwten 2018-12-30    4.0       0.0  0.0  0.0  0.0  0.0  0.0   \n",
       "\n",
       "                                     max     month                   product  \\\n",
       "description              day                                                   \n",
       "Biologische kikkererwten 2018-12-30  0.0  December  Biologische kikkererwten   \n",
       "\n",
       "                                     day dayofweek  purchase_price  \\\n",
       "description              day                                         \n",
       "Biologische kikkererwten 2018-12-30  364    Sunday            0.92   \n",
       "\n",
       "                                     std_sales_price  discount_2  \\\n",
       "description              day                                       \n",
       "Biologische kikkererwten 2018-12-30             0.92         0.0   \n",
       "\n",
       "                                     prev_day_purchases        days  \\\n",
       "description              day                                          \n",
       "Biologische kikkererwten 2018-12-30                 2.0  30-12-2018   \n",
       "\n",
       "                                     on_discount  predicted  \n",
       "description              day                                 \n",
       "Biologische kikkererwten 2018-12-30           13   3.793408  "
      ],
      "text/html": "<div>\n<style scoped>\n    .dataframe tbody tr th:only-of-type {\n        vertical-align: middle;\n    }\n\n    .dataframe tbody tr th {\n        vertical-align: top;\n    }\n\n    .dataframe thead th {\n        text-align: right;\n    }\n</style>\n<table border=\"1\" class=\"dataframe\">\n  <thead>\n    <tr style=\"text-align: right;\">\n      <th></th>\n      <th></th>\n      <th>count</th>\n      <th>discount</th>\n      <th>std</th>\n      <th>min</th>\n      <th>25%</th>\n      <th>50%</th>\n      <th>75%</th>\n      <th>max</th>\n      <th>month</th>\n      <th>product</th>\n      <th>day</th>\n      <th>dayofweek</th>\n      <th>purchase_price</th>\n      <th>std_sales_price</th>\n      <th>discount_2</th>\n      <th>prev_day_purchases</th>\n      <th>days</th>\n      <th>on_discount</th>\n      <th>predicted</th>\n    </tr>\n    <tr>\n      <th>description</th>\n      <th>day</th>\n      <th></th>\n      <th></th>\n      <th></th>\n      <th></th>\n      <th></th>\n      <th></th>\n      <th></th>\n      <th></th>\n      <th></th>\n      <th></th>\n      <th></th>\n      <th></th>\n      <th></th>\n      <th></th>\n      <th></th>\n      <th></th>\n      <th></th>\n      <th></th>\n      <th></th>\n    </tr>\n  </thead>\n  <tbody>\n    <tr>\n      <th>Biologische kikkererwten</th>\n      <th>2018-12-30</th>\n      <td>4.0</td>\n      <td>0.0</td>\n      <td>0.0</td>\n      <td>0.0</td>\n      <td>0.0</td>\n      <td>0.0</td>\n      <td>0.0</td>\n      <td>0.0</td>\n      <td>December</td>\n      <td>Biologische kikkererwten</td>\n      <td>364</td>\n      <td>Sunday</td>\n      <td>0.92</td>\n      <td>0.92</td>\n      <td>0.0</td>\n      <td>2.0</td>\n      <td>30-12-2018</td>\n      <td>13</td>\n      <td>3.793408</td>\n    </tr>\n  </tbody>\n</table>\n</div>"
     },
     "metadata": {},
     "execution_count": 8
    }
   ],
   "source": [
    "modded"
   ]
  },
  {
   "cell_type": "code",
   "execution_count": 47,
   "metadata": {},
   "outputs": [
    {
     "output_type": "display_data",
     "data": {
      "application/vnd.plotly.v1+json": {
       "config": {
        "plotlyServerURL": "https://plot.ly"
       },
       "data": [
        {
         "hovertemplate": "purchase_price=%{x}<br>count=%{y}<extra></extra>",
         "legendgroup": "",
         "marker": {
          "color": "#636efa",
          "symbol": "circle"
         },
         "mode": "markers",
         "name": "",
         "orientation": "v",
         "showlegend": false,
         "type": "scatter",
         "x": [
          0.48,
          0.69,
          0.66,
          0.69,
          0.48,
          0.69,
          0.69,
          0.69,
          0.69,
          0.6900000000000001,
          0.69,
          0.6900000000000001,
          0.69,
          0.69,
          0.69,
          0.69,
          0.6900000000000001,
          0.69,
          0.69,
          0.69,
          0.69,
          0.69,
          0.69,
          0.69,
          0.69,
          0.69,
          0.48,
          0.69,
          0.69,
          0.69,
          0.69,
          0.6549999999999999,
          0.69,
          0.69,
          0.69,
          0.69,
          0.69,
          0.69,
          0.6066666666666666,
          0.59,
          0.59,
          0.59,
          0.59,
          0.59,
          0.59,
          0.6233333333333332,
          0.69,
          0.69,
          0.48,
          0.69,
          0.69,
          0.69,
          0.66,
          0.69,
          0.69,
          0.69,
          0.69,
          0.69,
          0.69,
          0.69,
          0.69,
          0.69,
          0.6899999999999998,
          0.69,
          0.69,
          0.69,
          0.69,
          0.69,
          0.69,
          0.69,
          0.69,
          0.69,
          0.69,
          0.69,
          0.69,
          0.69,
          0.69,
          0.69,
          0.69,
          0.69,
          0.66,
          0.69,
          0.69,
          0.69,
          0.6899999999999998,
          0.69,
          0.69,
          0.69,
          0.69,
          0.69,
          0.69,
          0.69,
          0.69,
          0.69,
          0.69,
          0.69,
          0.69,
          0.6900000000000001,
          0.69,
          0.69,
          0.69,
          0.6675000000000001,
          0.48,
          0.69,
          0.69,
          0.69,
          0.66,
          0.69,
          0.69,
          0.69,
          0.69,
          0.69,
          0.69,
          0.69,
          0.69,
          0.69,
          0.69,
          0.69,
          0.69,
          0.69,
          0.6900000000000001,
          0.69,
          0.6900000000000001,
          0.69,
          0.69,
          0.69,
          0.69,
          0.6899999999999998,
          0.69,
          0.69,
          0.48000000000000004,
          0.69,
          0.69,
          0.66,
          0.69,
          0.6900000000000001,
          0.69,
          0.69,
          0.69,
          0.69,
          0.69,
          0.69,
          0.69,
          0.69,
          0.6900000000000001,
          0.69,
          0.69,
          0.69,
          0.69,
          0.69,
          0.5033333333333333,
          0.48,
          0.48,
          0.48,
          0.4800000000000002,
          0.48000000000000015,
          0.48,
          0.69,
          0.69,
          0.69,
          0.69,
          0.69,
          0.69,
          0.69,
          0.69,
          0.69,
          0.6900000000000001,
          0.69,
          0.69,
          0.69,
          0.69,
          0.69,
          0.69,
          0.69,
          0.69,
          0.69,
          0.69,
          0.69,
          0.69,
          0.69,
          0.69,
          0.69,
          0.69,
          0.69,
          0.6900000000000001,
          0.6599999999999999,
          0.69,
          0.69,
          0.69,
          0.69,
          0.69,
          0.69,
          0.69,
          0.69,
          0.69,
          0.69,
          0.69,
          0.69,
          0.69,
          0.69,
          0.69,
          0.69,
          0.69,
          0.69,
          0.69,
          0.69,
          0.69,
          0.69,
          0.69,
          0.69,
          0.69,
          0.69,
          0.69,
          0.69,
          0.69,
          0.69,
          0.6899999999999998,
          0.69,
          0.69,
          0.69,
          0.69,
          0.69,
          0.69,
          0.69,
          0.69,
          0.69,
          0.69,
          0.69,
          0.69,
          0.69,
          0.69,
          0.69,
          0.69,
          0.69,
          0.69,
          0.69,
          0.69,
          0.6899999999999998,
          0.69,
          0.69,
          0.69,
          0.69,
          0.69,
          0.69,
          0.69,
          0.69,
          0.69,
          0.69,
          0.69,
          0.69,
          0.69,
          0.69,
          0.69,
          0.69,
          0.69,
          0.69,
          0.69,
          0.6899999999999998,
          0.69,
          0.69,
          0.69,
          0.69,
          0.69,
          0.69,
          0.6899999999999998,
          0.69,
          0.69,
          0.69,
          0.69,
          0.69,
          0.69,
          0.52,
          0.52,
          0.52,
          0.52,
          0.52,
          0.52,
          0.52,
          0.69,
          0.69,
          0.69,
          0.69,
          0.69,
          0.69,
          0.69,
          0.69,
          0.69,
          0.69,
          0.69,
          0.69,
          0.6900000000000001,
          0.69,
          0.69,
          0.69,
          0.69,
          0.69,
          0.69,
          0.69,
          0.69,
          0.69,
          0.69,
          0.6900000000000001,
          0.69,
          0.69,
          0.6900000000000001,
          0.69,
          0.69,
          0.69
         ],
         "xaxis": "x",
         "y": [
          6,
          6,
          6,
          5,
          7,
          4,
          6,
          3,
          2,
          7,
          4,
          7,
          6,
          4,
          2,
          3,
          7,
          2,
          2,
          9,
          5,
          8,
          3,
          2,
          4,
          3,
          5,
          3,
          6,
          5,
          8,
          6,
          2,
          3,
          4,
          3,
          3,
          2,
          6,
          5,
          9,
          7,
          4,
          4,
          8,
          3,
          4,
          5,
          2,
          2,
          9,
          5,
          4,
          2,
          2,
          3,
          2,
          4,
          2,
          2,
          9,
          4,
          10,
          6,
          9,
          6,
          8,
          4,
          4,
          4,
          6,
          6,
          4,
          4,
          3,
          8,
          6,
          3,
          5,
          6,
          6,
          4,
          4,
          3,
          10,
          6,
          3,
          5,
          6,
          4,
          6,
          8,
          3,
          2,
          5,
          2,
          6,
          7,
          2,
          5,
          5,
          4,
          3,
          3,
          4,
          3,
          9,
          4,
          2,
          2,
          2,
          6,
          9,
          2,
          3,
          3,
          3,
          8,
          5,
          6,
          7,
          4,
          7,
          2,
          4,
          3,
          9,
          12,
          3,
          2,
          9,
          5,
          5,
          2,
          2,
          7,
          3,
          2,
          3,
          6,
          6,
          3,
          4,
          5,
          7,
          3,
          2,
          4,
          3,
          4,
          9,
          5,
          4,
          6,
          15,
          13,
          6,
          4,
          2,
          4,
          3,
          3,
          5,
          3,
          3,
          2,
          7,
          2,
          2,
          6,
          4,
          3,
          4,
          3,
          5,
          4,
          6,
          4,
          5,
          5,
          3,
          3,
          4,
          2,
          7,
          7,
          4,
          5,
          6,
          5,
          6,
          2,
          8,
          8,
          2,
          8,
          3,
          4,
          2,
          4,
          5,
          2,
          2,
          3,
          6,
          2,
          4,
          4,
          4,
          3,
          2,
          4,
          3,
          4,
          3,
          2,
          10,
          6,
          3,
          3,
          3,
          3,
          2,
          2,
          3,
          5,
          2,
          5,
          5,
          4,
          6,
          6,
          2,
          6,
          3,
          4,
          5,
          10,
          4,
          2,
          3,
          2,
          5,
          4,
          3,
          4,
          3,
          2,
          4,
          3,
          2,
          4,
          3,
          9,
          5,
          2,
          2,
          10,
          2,
          3,
          8,
          4,
          3,
          3,
          12,
          5,
          4,
          2,
          3,
          3,
          4,
          4,
          4,
          4,
          5,
          8,
          2,
          5,
          3,
          2,
          5,
          3,
          9,
          4,
          3,
          2,
          6,
          6,
          4,
          4,
          7,
          2,
          4,
          2,
          3,
          2,
          3,
          4,
          3,
          5,
          3,
          7,
          2,
          5,
          7,
          4,
          2,
          2
         ],
         "yaxis": "y"
        }
       ],
       "layout": {
        "legend": {
         "tracegroupgap": 0
        },
        "margin": {
         "t": 60
        },
        "template": {
         "data": {
          "bar": [
           {
            "error_x": {
             "color": "#2a3f5f"
            },
            "error_y": {
             "color": "#2a3f5f"
            },
            "marker": {
             "line": {
              "color": "#E5ECF6",
              "width": 0.5
             }
            },
            "type": "bar"
           }
          ],
          "barpolar": [
           {
            "marker": {
             "line": {
              "color": "#E5ECF6",
              "width": 0.5
             }
            },
            "type": "barpolar"
           }
          ],
          "carpet": [
           {
            "aaxis": {
             "endlinecolor": "#2a3f5f",
             "gridcolor": "white",
             "linecolor": "white",
             "minorgridcolor": "white",
             "startlinecolor": "#2a3f5f"
            },
            "baxis": {
             "endlinecolor": "#2a3f5f",
             "gridcolor": "white",
             "linecolor": "white",
             "minorgridcolor": "white",
             "startlinecolor": "#2a3f5f"
            },
            "type": "carpet"
           }
          ],
          "choropleth": [
           {
            "colorbar": {
             "outlinewidth": 0,
             "ticks": ""
            },
            "type": "choropleth"
           }
          ],
          "contour": [
           {
            "colorbar": {
             "outlinewidth": 0,
             "ticks": ""
            },
            "colorscale": [
             [
              0,
              "#0d0887"
             ],
             [
              0.1111111111111111,
              "#46039f"
             ],
             [
              0.2222222222222222,
              "#7201a8"
             ],
             [
              0.3333333333333333,
              "#9c179e"
             ],
             [
              0.4444444444444444,
              "#bd3786"
             ],
             [
              0.5555555555555556,
              "#d8576b"
             ],
             [
              0.6666666666666666,
              "#ed7953"
             ],
             [
              0.7777777777777778,
              "#fb9f3a"
             ],
             [
              0.8888888888888888,
              "#fdca26"
             ],
             [
              1,
              "#f0f921"
             ]
            ],
            "type": "contour"
           }
          ],
          "contourcarpet": [
           {
            "colorbar": {
             "outlinewidth": 0,
             "ticks": ""
            },
            "type": "contourcarpet"
           }
          ],
          "heatmap": [
           {
            "colorbar": {
             "outlinewidth": 0,
             "ticks": ""
            },
            "colorscale": [
             [
              0,
              "#0d0887"
             ],
             [
              0.1111111111111111,
              "#46039f"
             ],
             [
              0.2222222222222222,
              "#7201a8"
             ],
             [
              0.3333333333333333,
              "#9c179e"
             ],
             [
              0.4444444444444444,
              "#bd3786"
             ],
             [
              0.5555555555555556,
              "#d8576b"
             ],
             [
              0.6666666666666666,
              "#ed7953"
             ],
             [
              0.7777777777777778,
              "#fb9f3a"
             ],
             [
              0.8888888888888888,
              "#fdca26"
             ],
             [
              1,
              "#f0f921"
             ]
            ],
            "type": "heatmap"
           }
          ],
          "heatmapgl": [
           {
            "colorbar": {
             "outlinewidth": 0,
             "ticks": ""
            },
            "colorscale": [
             [
              0,
              "#0d0887"
             ],
             [
              0.1111111111111111,
              "#46039f"
             ],
             [
              0.2222222222222222,
              "#7201a8"
             ],
             [
              0.3333333333333333,
              "#9c179e"
             ],
             [
              0.4444444444444444,
              "#bd3786"
             ],
             [
              0.5555555555555556,
              "#d8576b"
             ],
             [
              0.6666666666666666,
              "#ed7953"
             ],
             [
              0.7777777777777778,
              "#fb9f3a"
             ],
             [
              0.8888888888888888,
              "#fdca26"
             ],
             [
              1,
              "#f0f921"
             ]
            ],
            "type": "heatmapgl"
           }
          ],
          "histogram": [
           {
            "marker": {
             "colorbar": {
              "outlinewidth": 0,
              "ticks": ""
             }
            },
            "type": "histogram"
           }
          ],
          "histogram2d": [
           {
            "colorbar": {
             "outlinewidth": 0,
             "ticks": ""
            },
            "colorscale": [
             [
              0,
              "#0d0887"
             ],
             [
              0.1111111111111111,
              "#46039f"
             ],
             [
              0.2222222222222222,
              "#7201a8"
             ],
             [
              0.3333333333333333,
              "#9c179e"
             ],
             [
              0.4444444444444444,
              "#bd3786"
             ],
             [
              0.5555555555555556,
              "#d8576b"
             ],
             [
              0.6666666666666666,
              "#ed7953"
             ],
             [
              0.7777777777777778,
              "#fb9f3a"
             ],
             [
              0.8888888888888888,
              "#fdca26"
             ],
             [
              1,
              "#f0f921"
             ]
            ],
            "type": "histogram2d"
           }
          ],
          "histogram2dcontour": [
           {
            "colorbar": {
             "outlinewidth": 0,
             "ticks": ""
            },
            "colorscale": [
             [
              0,
              "#0d0887"
             ],
             [
              0.1111111111111111,
              "#46039f"
             ],
             [
              0.2222222222222222,
              "#7201a8"
             ],
             [
              0.3333333333333333,
              "#9c179e"
             ],
             [
              0.4444444444444444,
              "#bd3786"
             ],
             [
              0.5555555555555556,
              "#d8576b"
             ],
             [
              0.6666666666666666,
              "#ed7953"
             ],
             [
              0.7777777777777778,
              "#fb9f3a"
             ],
             [
              0.8888888888888888,
              "#fdca26"
             ],
             [
              1,
              "#f0f921"
             ]
            ],
            "type": "histogram2dcontour"
           }
          ],
          "mesh3d": [
           {
            "colorbar": {
             "outlinewidth": 0,
             "ticks": ""
            },
            "type": "mesh3d"
           }
          ],
          "parcoords": [
           {
            "line": {
             "colorbar": {
              "outlinewidth": 0,
              "ticks": ""
             }
            },
            "type": "parcoords"
           }
          ],
          "pie": [
           {
            "automargin": true,
            "type": "pie"
           }
          ],
          "scatter": [
           {
            "marker": {
             "colorbar": {
              "outlinewidth": 0,
              "ticks": ""
             }
            },
            "type": "scatter"
           }
          ],
          "scatter3d": [
           {
            "line": {
             "colorbar": {
              "outlinewidth": 0,
              "ticks": ""
             }
            },
            "marker": {
             "colorbar": {
              "outlinewidth": 0,
              "ticks": ""
             }
            },
            "type": "scatter3d"
           }
          ],
          "scattercarpet": [
           {
            "marker": {
             "colorbar": {
              "outlinewidth": 0,
              "ticks": ""
             }
            },
            "type": "scattercarpet"
           }
          ],
          "scattergeo": [
           {
            "marker": {
             "colorbar": {
              "outlinewidth": 0,
              "ticks": ""
             }
            },
            "type": "scattergeo"
           }
          ],
          "scattergl": [
           {
            "marker": {
             "colorbar": {
              "outlinewidth": 0,
              "ticks": ""
             }
            },
            "type": "scattergl"
           }
          ],
          "scattermapbox": [
           {
            "marker": {
             "colorbar": {
              "outlinewidth": 0,
              "ticks": ""
             }
            },
            "type": "scattermapbox"
           }
          ],
          "scatterpolar": [
           {
            "marker": {
             "colorbar": {
              "outlinewidth": 0,
              "ticks": ""
             }
            },
            "type": "scatterpolar"
           }
          ],
          "scatterpolargl": [
           {
            "marker": {
             "colorbar": {
              "outlinewidth": 0,
              "ticks": ""
             }
            },
            "type": "scatterpolargl"
           }
          ],
          "scatterternary": [
           {
            "marker": {
             "colorbar": {
              "outlinewidth": 0,
              "ticks": ""
             }
            },
            "type": "scatterternary"
           }
          ],
          "surface": [
           {
            "colorbar": {
             "outlinewidth": 0,
             "ticks": ""
            },
            "colorscale": [
             [
              0,
              "#0d0887"
             ],
             [
              0.1111111111111111,
              "#46039f"
             ],
             [
              0.2222222222222222,
              "#7201a8"
             ],
             [
              0.3333333333333333,
              "#9c179e"
             ],
             [
              0.4444444444444444,
              "#bd3786"
             ],
             [
              0.5555555555555556,
              "#d8576b"
             ],
             [
              0.6666666666666666,
              "#ed7953"
             ],
             [
              0.7777777777777778,
              "#fb9f3a"
             ],
             [
              0.8888888888888888,
              "#fdca26"
             ],
             [
              1,
              "#f0f921"
             ]
            ],
            "type": "surface"
           }
          ],
          "table": [
           {
            "cells": {
             "fill": {
              "color": "#EBF0F8"
             },
             "line": {
              "color": "white"
             }
            },
            "header": {
             "fill": {
              "color": "#C8D4E3"
             },
             "line": {
              "color": "white"
             }
            },
            "type": "table"
           }
          ]
         },
         "layout": {
          "annotationdefaults": {
           "arrowcolor": "#2a3f5f",
           "arrowhead": 0,
           "arrowwidth": 1
          },
          "coloraxis": {
           "colorbar": {
            "outlinewidth": 0,
            "ticks": ""
           }
          },
          "colorscale": {
           "diverging": [
            [
             0,
             "#8e0152"
            ],
            [
             0.1,
             "#c51b7d"
            ],
            [
             0.2,
             "#de77ae"
            ],
            [
             0.3,
             "#f1b6da"
            ],
            [
             0.4,
             "#fde0ef"
            ],
            [
             0.5,
             "#f7f7f7"
            ],
            [
             0.6,
             "#e6f5d0"
            ],
            [
             0.7,
             "#b8e186"
            ],
            [
             0.8,
             "#7fbc41"
            ],
            [
             0.9,
             "#4d9221"
            ],
            [
             1,
             "#276419"
            ]
           ],
           "sequential": [
            [
             0,
             "#0d0887"
            ],
            [
             0.1111111111111111,
             "#46039f"
            ],
            [
             0.2222222222222222,
             "#7201a8"
            ],
            [
             0.3333333333333333,
             "#9c179e"
            ],
            [
             0.4444444444444444,
             "#bd3786"
            ],
            [
             0.5555555555555556,
             "#d8576b"
            ],
            [
             0.6666666666666666,
             "#ed7953"
            ],
            [
             0.7777777777777778,
             "#fb9f3a"
            ],
            [
             0.8888888888888888,
             "#fdca26"
            ],
            [
             1,
             "#f0f921"
            ]
           ],
           "sequentialminus": [
            [
             0,
             "#0d0887"
            ],
            [
             0.1111111111111111,
             "#46039f"
            ],
            [
             0.2222222222222222,
             "#7201a8"
            ],
            [
             0.3333333333333333,
             "#9c179e"
            ],
            [
             0.4444444444444444,
             "#bd3786"
            ],
            [
             0.5555555555555556,
             "#d8576b"
            ],
            [
             0.6666666666666666,
             "#ed7953"
            ],
            [
             0.7777777777777778,
             "#fb9f3a"
            ],
            [
             0.8888888888888888,
             "#fdca26"
            ],
            [
             1,
             "#f0f921"
            ]
           ]
          },
          "colorway": [
           "#636efa",
           "#EF553B",
           "#00cc96",
           "#ab63fa",
           "#FFA15A",
           "#19d3f3",
           "#FF6692",
           "#B6E880",
           "#FF97FF",
           "#FECB52"
          ],
          "font": {
           "color": "#2a3f5f"
          },
          "geo": {
           "bgcolor": "white",
           "lakecolor": "white",
           "landcolor": "#E5ECF6",
           "showlakes": true,
           "showland": true,
           "subunitcolor": "white"
          },
          "hoverlabel": {
           "align": "left"
          },
          "hovermode": "closest",
          "mapbox": {
           "style": "light"
          },
          "paper_bgcolor": "white",
          "plot_bgcolor": "#E5ECF6",
          "polar": {
           "angularaxis": {
            "gridcolor": "white",
            "linecolor": "white",
            "ticks": ""
           },
           "bgcolor": "#E5ECF6",
           "radialaxis": {
            "gridcolor": "white",
            "linecolor": "white",
            "ticks": ""
           }
          },
          "scene": {
           "xaxis": {
            "backgroundcolor": "#E5ECF6",
            "gridcolor": "white",
            "gridwidth": 2,
            "linecolor": "white",
            "showbackground": true,
            "ticks": "",
            "zerolinecolor": "white"
           },
           "yaxis": {
            "backgroundcolor": "#E5ECF6",
            "gridcolor": "white",
            "gridwidth": 2,
            "linecolor": "white",
            "showbackground": true,
            "ticks": "",
            "zerolinecolor": "white"
           },
           "zaxis": {
            "backgroundcolor": "#E5ECF6",
            "gridcolor": "white",
            "gridwidth": 2,
            "linecolor": "white",
            "showbackground": true,
            "ticks": "",
            "zerolinecolor": "white"
           }
          },
          "shapedefaults": {
           "line": {
            "color": "#2a3f5f"
           }
          },
          "ternary": {
           "aaxis": {
            "gridcolor": "white",
            "linecolor": "white",
            "ticks": ""
           },
           "baxis": {
            "gridcolor": "white",
            "linecolor": "white",
            "ticks": ""
           },
           "bgcolor": "#E5ECF6",
           "caxis": {
            "gridcolor": "white",
            "linecolor": "white",
            "ticks": ""
           }
          },
          "title": {
           "x": 0.05
          },
          "xaxis": {
           "automargin": true,
           "gridcolor": "white",
           "linecolor": "white",
           "ticks": "",
           "title": {
            "standoff": 15
           },
           "zerolinecolor": "white",
           "zerolinewidth": 2
          },
          "yaxis": {
           "automargin": true,
           "gridcolor": "white",
           "linecolor": "white",
           "ticks": "",
           "title": {
            "standoff": 15
           },
           "zerolinecolor": "white",
           "zerolinewidth": 2
          }
         }
        },
        "xaxis": {
         "anchor": "y",
         "domain": [
          0,
          1
         ],
         "title": {
          "text": "purchase_price"
         }
        },
        "yaxis": {
         "anchor": "x",
         "domain": [
          0,
          1
         ],
         "title": {
          "text": "count"
         }
        }
       }
      }
     },
     "metadata": {}
    }
   ],
   "source": [
    "import plotly.express as px\n",
    "fig = px.scatter(one_row, x=\"purchase_price\", y=\"count\")\n",
    "fig.show()"
   ]
  },
  {
   "cell_type": "code",
   "execution_count": 39,
   "metadata": {},
   "outputs": [
    {
     "output_type": "execute_result",
     "data": {
      "text/plain": [
       "                                 count   discount  std        min        25%  \\\n",
       "description          day                                                       \n",
       "Biologische knoflook 2018-01-01    6.0  30.434783  0.0  30.434783  30.434783   \n",
       "                     2018-01-03    6.0   0.000000  0.0   0.000000   0.000000   \n",
       "                     2018-01-05    6.0   4.347826  0.0   4.347826   4.347826   \n",
       "                     2018-01-06    5.0   0.000000  0.0   0.000000   0.000000   \n",
       "                     2018-01-07    7.0  30.434783  0.0  30.434783  30.434783   \n",
       "...                                ...        ...  ...        ...        ...   \n",
       "                     2018-12-25    5.0   0.000000  0.0   0.000000   0.000000   \n",
       "                     2018-12-26    7.0   0.000000  0.0   0.000000   0.000000   \n",
       "                     2018-12-28    4.0   0.000000  0.0   0.000000   0.000000   \n",
       "                     2018-12-29    2.0   0.000000  0.0   0.000000   0.000000   \n",
       "                     2018-12-30    2.0   0.000000  0.0   0.000000   0.000000   \n",
       "\n",
       "                                       50%        75%        max     month  \\\n",
       "description          day                                                     \n",
       "Biologische knoflook 2018-01-01  30.434783  30.434783  30.434783   January   \n",
       "                     2018-01-03   0.000000   0.000000   0.000000   January   \n",
       "                     2018-01-05   4.347826   4.347826   4.347826   January   \n",
       "                     2018-01-06   0.000000   0.000000   0.000000   January   \n",
       "                     2018-01-07  30.434783  30.434783  30.434783   January   \n",
       "...                                    ...        ...        ...       ...   \n",
       "                     2018-12-25   0.000000   0.000000   0.000000  December   \n",
       "                     2018-12-26   0.000000   0.000000   0.000000  December   \n",
       "                     2018-12-28   0.000000   0.000000   0.000000  December   \n",
       "                     2018-12-29   0.000000   0.000000   0.000000  December   \n",
       "                     2018-12-30   0.000000   0.000000   0.000000  December   \n",
       "\n",
       "                                              product  day  dayofweek  \\\n",
       "description          day                                                \n",
       "Biologische knoflook 2018-01-01  Biologische knoflook    1     Monday   \n",
       "                     2018-01-03  Biologische knoflook    3  Wednesday   \n",
       "                     2018-01-05  Biologische knoflook    5     Friday   \n",
       "                     2018-01-06  Biologische knoflook    6   Saturday   \n",
       "                     2018-01-07  Biologische knoflook    7     Sunday   \n",
       "...                                               ...  ...        ...   \n",
       "                     2018-12-25  Biologische knoflook  359    Tuesday   \n",
       "                     2018-12-26  Biologische knoflook  360  Wednesday   \n",
       "                     2018-12-28  Biologische knoflook  362     Friday   \n",
       "                     2018-12-29  Biologische knoflook  363   Saturday   \n",
       "                     2018-12-30  Biologische knoflook  364     Sunday   \n",
       "\n",
       "                                 purchase_price  std_sales_price  discount_2  \\\n",
       "description          day                                                       \n",
       "Biologische knoflook 2018-01-01            0.48             0.69  926.275992   \n",
       "                     2018-01-03            0.69             0.69    0.000000   \n",
       "                     2018-01-05            0.66             0.69   18.903592   \n",
       "                     2018-01-06            0.69             0.69    0.000000   \n",
       "                     2018-01-07            0.48             0.69  926.275992   \n",
       "...                                         ...              ...         ...   \n",
       "                     2018-12-25            0.69             0.69    0.000000   \n",
       "                     2018-12-26            0.69             0.69    0.000000   \n",
       "                     2018-12-28            0.69             0.69    0.000000   \n",
       "                     2018-12-29            0.69             0.69    0.000000   \n",
       "                     2018-12-30            0.69             0.69    0.000000   \n",
       "\n",
       "                                 prev_day_purchases        days  on_discount  \\\n",
       "description          day                                                       \n",
       "Biologische knoflook 2018-01-01                 4.0    1/1/2018           15   \n",
       "                     2018-01-03                 6.0    3/1/2018            8   \n",
       "                     2018-01-05                 1.0    5/1/2018           16   \n",
       "                     2018-01-06                 6.0    6/1/2018           11   \n",
       "                     2018-01-07                 5.0    7/1/2018            4   \n",
       "...                                             ...         ...          ...   \n",
       "                     2018-12-25                 2.0  25-12-2018           15   \n",
       "                     2018-12-26                 5.0  26-12-2018           13   \n",
       "                     2018-12-28                 1.0  28-12-2018           13   \n",
       "                     2018-12-29                 4.0  29-12-2018           12   \n",
       "                     2018-12-30                 2.0  30-12-2018           13   \n",
       "\n",
       "                                 predicted  \n",
       "description          day                    \n",
       "Biologische knoflook 2018-01-01   7.555760  \n",
       "                     2018-01-03   4.511195  \n",
       "                     2018-01-05   4.013872  \n",
       "                     2018-01-06   4.034979  \n",
       "                     2018-01-07   8.226951  \n",
       "...                                    ...  \n",
       "                     2018-12-25   4.511382  \n",
       "                     2018-12-26   3.908512  \n",
       "                     2018-12-28   4.268667  \n",
       "                     2018-12-29   4.405963  \n",
       "                     2018-12-30   4.411930  \n",
       "\n",
       "[308 rows x 19 columns]"
      ],
      "text/html": "<div>\n<style scoped>\n    .dataframe tbody tr th:only-of-type {\n        vertical-align: middle;\n    }\n\n    .dataframe tbody tr th {\n        vertical-align: top;\n    }\n\n    .dataframe thead th {\n        text-align: right;\n    }\n</style>\n<table border=\"1\" class=\"dataframe\">\n  <thead>\n    <tr style=\"text-align: right;\">\n      <th></th>\n      <th></th>\n      <th>count</th>\n      <th>discount</th>\n      <th>std</th>\n      <th>min</th>\n      <th>25%</th>\n      <th>50%</th>\n      <th>75%</th>\n      <th>max</th>\n      <th>month</th>\n      <th>product</th>\n      <th>day</th>\n      <th>dayofweek</th>\n      <th>purchase_price</th>\n      <th>std_sales_price</th>\n      <th>discount_2</th>\n      <th>prev_day_purchases</th>\n      <th>days</th>\n      <th>on_discount</th>\n      <th>predicted</th>\n    </tr>\n    <tr>\n      <th>description</th>\n      <th>day</th>\n      <th></th>\n      <th></th>\n      <th></th>\n      <th></th>\n      <th></th>\n      <th></th>\n      <th></th>\n      <th></th>\n      <th></th>\n      <th></th>\n      <th></th>\n      <th></th>\n      <th></th>\n      <th></th>\n      <th></th>\n      <th></th>\n      <th></th>\n      <th></th>\n      <th></th>\n    </tr>\n  </thead>\n  <tbody>\n    <tr>\n      <th rowspan=\"11\" valign=\"top\">Biologische knoflook</th>\n      <th>2018-01-01</th>\n      <td>6.0</td>\n      <td>30.434783</td>\n      <td>0.0</td>\n      <td>30.434783</td>\n      <td>30.434783</td>\n      <td>30.434783</td>\n      <td>30.434783</td>\n      <td>30.434783</td>\n      <td>January</td>\n      <td>Biologische knoflook</td>\n      <td>1</td>\n      <td>Monday</td>\n      <td>0.48</td>\n      <td>0.69</td>\n      <td>926.275992</td>\n      <td>4.0</td>\n      <td>1/1/2018</td>\n      <td>15</td>\n      <td>7.555760</td>\n    </tr>\n    <tr>\n      <th>2018-01-03</th>\n      <td>6.0</td>\n      <td>0.000000</td>\n      <td>0.0</td>\n      <td>0.000000</td>\n      <td>0.000000</td>\n      <td>0.000000</td>\n      <td>0.000000</td>\n      <td>0.000000</td>\n      <td>January</td>\n      <td>Biologische knoflook</td>\n      <td>3</td>\n      <td>Wednesday</td>\n      <td>0.69</td>\n      <td>0.69</td>\n      <td>0.000000</td>\n      <td>6.0</td>\n      <td>3/1/2018</td>\n      <td>8</td>\n      <td>4.511195</td>\n    </tr>\n    <tr>\n      <th>2018-01-05</th>\n      <td>6.0</td>\n      <td>4.347826</td>\n      <td>0.0</td>\n      <td>4.347826</td>\n      <td>4.347826</td>\n      <td>4.347826</td>\n      <td>4.347826</td>\n      <td>4.347826</td>\n      <td>January</td>\n      <td>Biologische knoflook</td>\n      <td>5</td>\n      <td>Friday</td>\n      <td>0.66</td>\n      <td>0.69</td>\n      <td>18.903592</td>\n      <td>1.0</td>\n      <td>5/1/2018</td>\n      <td>16</td>\n      <td>4.013872</td>\n    </tr>\n    <tr>\n      <th>2018-01-06</th>\n      <td>5.0</td>\n      <td>0.000000</td>\n      <td>0.0</td>\n      <td>0.000000</td>\n      <td>0.000000</td>\n      <td>0.000000</td>\n      <td>0.000000</td>\n      <td>0.000000</td>\n      <td>January</td>\n      <td>Biologische knoflook</td>\n      <td>6</td>\n      <td>Saturday</td>\n      <td>0.69</td>\n      <td>0.69</td>\n      <td>0.000000</td>\n      <td>6.0</td>\n      <td>6/1/2018</td>\n      <td>11</td>\n      <td>4.034979</td>\n    </tr>\n    <tr>\n      <th>2018-01-07</th>\n      <td>7.0</td>\n      <td>30.434783</td>\n      <td>0.0</td>\n      <td>30.434783</td>\n      <td>30.434783</td>\n      <td>30.434783</td>\n      <td>30.434783</td>\n      <td>30.434783</td>\n      <td>January</td>\n      <td>Biologische knoflook</td>\n      <td>7</td>\n      <td>Sunday</td>\n      <td>0.48</td>\n      <td>0.69</td>\n      <td>926.275992</td>\n      <td>5.0</td>\n      <td>7/1/2018</td>\n      <td>4</td>\n      <td>8.226951</td>\n    </tr>\n    <tr>\n      <th>...</th>\n      <td>...</td>\n      <td>...</td>\n      <td>...</td>\n      <td>...</td>\n      <td>...</td>\n      <td>...</td>\n      <td>...</td>\n      <td>...</td>\n      <td>...</td>\n      <td>...</td>\n      <td>...</td>\n      <td>...</td>\n      <td>...</td>\n      <td>...</td>\n      <td>...</td>\n      <td>...</td>\n      <td>...</td>\n      <td>...</td>\n      <td>...</td>\n    </tr>\n    <tr>\n      <th>2018-12-25</th>\n      <td>5.0</td>\n      <td>0.000000</td>\n      <td>0.0</td>\n      <td>0.000000</td>\n      <td>0.000000</td>\n      <td>0.000000</td>\n      <td>0.000000</td>\n      <td>0.000000</td>\n      <td>December</td>\n      <td>Biologische knoflook</td>\n      <td>359</td>\n      <td>Tuesday</td>\n      <td>0.69</td>\n      <td>0.69</td>\n      <td>0.000000</td>\n      <td>2.0</td>\n      <td>25-12-2018</td>\n      <td>15</td>\n      <td>4.511382</td>\n    </tr>\n    <tr>\n      <th>2018-12-26</th>\n      <td>7.0</td>\n      <td>0.000000</td>\n      <td>0.0</td>\n      <td>0.000000</td>\n      <td>0.000000</td>\n      <td>0.000000</td>\n      <td>0.000000</td>\n      <td>0.000000</td>\n      <td>December</td>\n      <td>Biologische knoflook</td>\n      <td>360</td>\n      <td>Wednesday</td>\n      <td>0.69</td>\n      <td>0.69</td>\n      <td>0.000000</td>\n      <td>5.0</td>\n      <td>26-12-2018</td>\n      <td>13</td>\n      <td>3.908512</td>\n    </tr>\n    <tr>\n      <th>2018-12-28</th>\n      <td>4.0</td>\n      <td>0.000000</td>\n      <td>0.0</td>\n      <td>0.000000</td>\n      <td>0.000000</td>\n      <td>0.000000</td>\n      <td>0.000000</td>\n      <td>0.000000</td>\n      <td>December</td>\n      <td>Biologische knoflook</td>\n      <td>362</td>\n      <td>Friday</td>\n      <td>0.69</td>\n      <td>0.69</td>\n      <td>0.000000</td>\n      <td>1.0</td>\n      <td>28-12-2018</td>\n      <td>13</td>\n      <td>4.268667</td>\n    </tr>\n    <tr>\n      <th>2018-12-29</th>\n      <td>2.0</td>\n      <td>0.000000</td>\n      <td>0.0</td>\n      <td>0.000000</td>\n      <td>0.000000</td>\n      <td>0.000000</td>\n      <td>0.000000</td>\n      <td>0.000000</td>\n      <td>December</td>\n      <td>Biologische knoflook</td>\n      <td>363</td>\n      <td>Saturday</td>\n      <td>0.69</td>\n      <td>0.69</td>\n      <td>0.000000</td>\n      <td>4.0</td>\n      <td>29-12-2018</td>\n      <td>12</td>\n      <td>4.405963</td>\n    </tr>\n    <tr>\n      <th>2018-12-30</th>\n      <td>2.0</td>\n      <td>0.000000</td>\n      <td>0.0</td>\n      <td>0.000000</td>\n      <td>0.000000</td>\n      <td>0.000000</td>\n      <td>0.000000</td>\n      <td>0.000000</td>\n      <td>December</td>\n      <td>Biologische knoflook</td>\n      <td>364</td>\n      <td>Sunday</td>\n      <td>0.69</td>\n      <td>0.69</td>\n      <td>0.000000</td>\n      <td>2.0</td>\n      <td>30-12-2018</td>\n      <td>13</td>\n      <td>4.411930</td>\n    </tr>\n  </tbody>\n</table>\n<p>308 rows × 19 columns</p>\n</div>"
     },
     "metadata": {},
     "execution_count": 39
    }
   ],
   "source": [
    "one_row"
   ]
  },
  {
   "cell_type": "code",
   "execution_count": 25,
   "metadata": {},
   "outputs": [
    {
     "output_type": "execute_result",
     "data": {
      "text/plain": [
       "                       customer                                              \\\n",
       "                          count          mean        std      min       25%   \n",
       "description  day                                                              \n",
       "Aardbeien    1/1/2018       9.0     38.333333  16.000000      7.0     31.00   \n",
       "             1/10/2018      6.0  15646.833333  23.819460  15621.0  15625.75   \n",
       "             1/11/2018      6.0  17345.666667  11.075498  17333.0  17337.50   \n",
       "             1/12/2018      5.0  19071.400000  11.436783  19054.0  19071.00   \n",
       "             1/2/2018       8.0   1720.375000  13.037720   1704.0   1709.50   \n",
       "...                         ...           ...        ...      ...       ...   \n",
       "rundervinken 9/5/2018       1.0   7448.000000        NaN   7448.0   7448.00   \n",
       "             9/6/2018       7.0   9285.428571  17.709293   9257.0   9276.50   \n",
       "             9/7/2018       7.0  10946.142857  19.038807  10914.0  10936.50   \n",
       "             9/8/2018       6.0  12685.833333  10.457852  12669.0  12681.00   \n",
       "             9/9/2018       2.0  14419.500000   6.363961  14415.0  14417.25   \n",
       "\n",
       "                                                   bank acount                \\\n",
       "                            50%       75%      max       count          mean   \n",
       "description  day                                                               \n",
       "Aardbeien    1/1/2018      39.0     46.00     60.0         9.0  6.196480e+07   \n",
       "             1/10/2018  15649.0  15667.00  15671.0         6.0  7.127359e+07   \n",
       "             1/11/2018  17348.0  17348.00  17363.0         6.0  4.081008e+07   \n",
       "             1/12/2018  19072.0  19074.00  19086.0         3.0  3.525882e+07   \n",
       "             1/2/2018    1721.0   1729.75   1740.0         7.0  6.307131e+07   \n",
       "...                         ...       ...      ...         ...           ...   \n",
       "rundervinken 9/5/2018    7448.0   7448.00   7448.0         1.0  7.380519e+07   \n",
       "             9/6/2018    9288.0   9296.50   9307.0         5.0  3.724918e+07   \n",
       "             9/7/2018   10947.0  10959.50  10970.0         7.0  5.381642e+07   \n",
       "             9/8/2018   12687.5  12692.50  12698.0         4.0  3.107016e+07   \n",
       "             9/9/2018   14419.5  14421.75  14424.0         2.0  2.884079e+07   \n",
       "\n",
       "                        ... basic      on_discount                           \\\n",
       "                        ...   75%  max       count mean  std  min  25%  50%   \n",
       "description  day        ...                                                   \n",
       "Aardbeien    1/1/2018   ...   0.0  0.0         9.0  0.0  0.0  0.0  0.0  0.0   \n",
       "             1/10/2018  ...   0.0  0.0         6.0  0.0  0.0  0.0  0.0  0.0   \n",
       "             1/11/2018  ...   0.0  0.0         6.0  0.0  0.0  0.0  0.0  0.0   \n",
       "             1/12/2018  ...   0.0  0.0         5.0  0.0  0.0  0.0  0.0  0.0   \n",
       "             1/2/2018   ...   0.0  0.0         8.0  1.0  0.0  1.0  1.0  1.0   \n",
       "...                     ...   ...  ...         ...  ...  ...  ...  ...  ...   \n",
       "rundervinken 9/5/2018   ...   0.0  0.0         1.0  0.0  NaN  0.0  0.0  0.0   \n",
       "             9/6/2018   ...   0.0  0.0         7.0  0.0  0.0  0.0  0.0  0.0   \n",
       "             9/7/2018   ...   0.0  0.0         7.0  0.0  0.0  0.0  0.0  0.0   \n",
       "             9/8/2018   ...   0.0  0.0         6.0  0.0  0.0  0.0  0.0  0.0   \n",
       "             9/9/2018   ...   0.0  0.0         2.0  0.0  0.0  0.0  0.0  0.0   \n",
       "\n",
       "                                  \n",
       "                        75%  max  \n",
       "description  day                  \n",
       "Aardbeien    1/1/2018   0.0  0.0  \n",
       "             1/10/2018  0.0  0.0  \n",
       "             1/11/2018  0.0  0.0  \n",
       "             1/12/2018  0.0  0.0  \n",
       "             1/2/2018   1.0  1.0  \n",
       "...                     ...  ...  \n",
       "rundervinken 9/5/2018   0.0  0.0  \n",
       "             9/6/2018   0.0  0.0  \n",
       "             9/7/2018   0.0  0.0  \n",
       "             9/8/2018   0.0  0.0  \n",
       "             9/9/2018   0.0  0.0  \n",
       "\n",
       "[53181 rows x 56 columns]"
      ],
      "text/html": "<div>\n<style scoped>\n    .dataframe tbody tr th:only-of-type {\n        vertical-align: middle;\n    }\n\n    .dataframe tbody tr th {\n        vertical-align: top;\n    }\n\n    .dataframe thead tr th {\n        text-align: left;\n    }\n\n    .dataframe thead tr:last-of-type th {\n        text-align: right;\n    }\n</style>\n<table border=\"1\" class=\"dataframe\">\n  <thead>\n    <tr>\n      <th></th>\n      <th></th>\n      <th colspan=\"8\" halign=\"left\">customer</th>\n      <th colspan=\"2\" halign=\"left\">bank acount</th>\n      <th>...</th>\n      <th colspan=\"2\" halign=\"left\">basic</th>\n      <th colspan=\"8\" halign=\"left\">on_discount</th>\n    </tr>\n    <tr>\n      <th></th>\n      <th></th>\n      <th>count</th>\n      <th>mean</th>\n      <th>std</th>\n      <th>min</th>\n      <th>25%</th>\n      <th>50%</th>\n      <th>75%</th>\n      <th>max</th>\n      <th>count</th>\n      <th>mean</th>\n      <th>...</th>\n      <th>75%</th>\n      <th>max</th>\n      <th>count</th>\n      <th>mean</th>\n      <th>std</th>\n      <th>min</th>\n      <th>25%</th>\n      <th>50%</th>\n      <th>75%</th>\n      <th>max</th>\n    </tr>\n    <tr>\n      <th>description</th>\n      <th>day</th>\n      <th></th>\n      <th></th>\n      <th></th>\n      <th></th>\n      <th></th>\n      <th></th>\n      <th></th>\n      <th></th>\n      <th></th>\n      <th></th>\n      <th></th>\n      <th></th>\n      <th></th>\n      <th></th>\n      <th></th>\n      <th></th>\n      <th></th>\n      <th></th>\n      <th></th>\n      <th></th>\n      <th></th>\n    </tr>\n  </thead>\n  <tbody>\n    <tr>\n      <th rowspan=\"5\" valign=\"top\">Aardbeien</th>\n      <th>1/1/2018</th>\n      <td>9.0</td>\n      <td>38.333333</td>\n      <td>16.000000</td>\n      <td>7.0</td>\n      <td>31.00</td>\n      <td>39.0</td>\n      <td>46.00</td>\n      <td>60.0</td>\n      <td>9.0</td>\n      <td>6.196480e+07</td>\n      <td>...</td>\n      <td>0.0</td>\n      <td>0.0</td>\n      <td>9.0</td>\n      <td>0.0</td>\n      <td>0.0</td>\n      <td>0.0</td>\n      <td>0.0</td>\n      <td>0.0</td>\n      <td>0.0</td>\n      <td>0.0</td>\n    </tr>\n    <tr>\n      <th>1/10/2018</th>\n      <td>6.0</td>\n      <td>15646.833333</td>\n      <td>23.819460</td>\n      <td>15621.0</td>\n      <td>15625.75</td>\n      <td>15649.0</td>\n      <td>15667.00</td>\n      <td>15671.0</td>\n      <td>6.0</td>\n      <td>7.127359e+07</td>\n      <td>...</td>\n      <td>0.0</td>\n      <td>0.0</td>\n      <td>6.0</td>\n      <td>0.0</td>\n      <td>0.0</td>\n      <td>0.0</td>\n      <td>0.0</td>\n      <td>0.0</td>\n      <td>0.0</td>\n      <td>0.0</td>\n    </tr>\n    <tr>\n      <th>1/11/2018</th>\n      <td>6.0</td>\n      <td>17345.666667</td>\n      <td>11.075498</td>\n      <td>17333.0</td>\n      <td>17337.50</td>\n      <td>17348.0</td>\n      <td>17348.00</td>\n      <td>17363.0</td>\n      <td>6.0</td>\n      <td>4.081008e+07</td>\n      <td>...</td>\n      <td>0.0</td>\n      <td>0.0</td>\n      <td>6.0</td>\n      <td>0.0</td>\n      <td>0.0</td>\n      <td>0.0</td>\n      <td>0.0</td>\n      <td>0.0</td>\n      <td>0.0</td>\n      <td>0.0</td>\n    </tr>\n    <tr>\n      <th>1/12/2018</th>\n      <td>5.0</td>\n      <td>19071.400000</td>\n      <td>11.436783</td>\n      <td>19054.0</td>\n      <td>19071.00</td>\n      <td>19072.0</td>\n      <td>19074.00</td>\n      <td>19086.0</td>\n      <td>3.0</td>\n      <td>3.525882e+07</td>\n      <td>...</td>\n      <td>0.0</td>\n      <td>0.0</td>\n      <td>5.0</td>\n      <td>0.0</td>\n      <td>0.0</td>\n      <td>0.0</td>\n      <td>0.0</td>\n      <td>0.0</td>\n      <td>0.0</td>\n      <td>0.0</td>\n    </tr>\n    <tr>\n      <th>1/2/2018</th>\n      <td>8.0</td>\n      <td>1720.375000</td>\n      <td>13.037720</td>\n      <td>1704.0</td>\n      <td>1709.50</td>\n      <td>1721.0</td>\n      <td>1729.75</td>\n      <td>1740.0</td>\n      <td>7.0</td>\n      <td>6.307131e+07</td>\n      <td>...</td>\n      <td>0.0</td>\n      <td>0.0</td>\n      <td>8.0</td>\n      <td>1.0</td>\n      <td>0.0</td>\n      <td>1.0</td>\n      <td>1.0</td>\n      <td>1.0</td>\n      <td>1.0</td>\n      <td>1.0</td>\n    </tr>\n    <tr>\n      <th>...</th>\n      <th>...</th>\n      <td>...</td>\n      <td>...</td>\n      <td>...</td>\n      <td>...</td>\n      <td>...</td>\n      <td>...</td>\n      <td>...</td>\n      <td>...</td>\n      <td>...</td>\n      <td>...</td>\n      <td>...</td>\n      <td>...</td>\n      <td>...</td>\n      <td>...</td>\n      <td>...</td>\n      <td>...</td>\n      <td>...</td>\n      <td>...</td>\n      <td>...</td>\n      <td>...</td>\n      <td>...</td>\n    </tr>\n    <tr>\n      <th rowspan=\"5\" valign=\"top\">rundervinken</th>\n      <th>9/5/2018</th>\n      <td>1.0</td>\n      <td>7448.000000</td>\n      <td>NaN</td>\n      <td>7448.0</td>\n      <td>7448.00</td>\n      <td>7448.0</td>\n      <td>7448.00</td>\n      <td>7448.0</td>\n      <td>1.0</td>\n      <td>7.380519e+07</td>\n      <td>...</td>\n      <td>0.0</td>\n      <td>0.0</td>\n      <td>1.0</td>\n      <td>0.0</td>\n      <td>NaN</td>\n      <td>0.0</td>\n      <td>0.0</td>\n      <td>0.0</td>\n      <td>0.0</td>\n      <td>0.0</td>\n    </tr>\n    <tr>\n      <th>9/6/2018</th>\n      <td>7.0</td>\n      <td>9285.428571</td>\n      <td>17.709293</td>\n      <td>9257.0</td>\n      <td>9276.50</td>\n      <td>9288.0</td>\n      <td>9296.50</td>\n      <td>9307.0</td>\n      <td>5.0</td>\n      <td>3.724918e+07</td>\n      <td>...</td>\n      <td>0.0</td>\n      <td>0.0</td>\n      <td>7.0</td>\n      <td>0.0</td>\n      <td>0.0</td>\n      <td>0.0</td>\n      <td>0.0</td>\n      <td>0.0</td>\n      <td>0.0</td>\n      <td>0.0</td>\n    </tr>\n    <tr>\n      <th>9/7/2018</th>\n      <td>7.0</td>\n      <td>10946.142857</td>\n      <td>19.038807</td>\n      <td>10914.0</td>\n      <td>10936.50</td>\n      <td>10947.0</td>\n      <td>10959.50</td>\n      <td>10970.0</td>\n      <td>7.0</td>\n      <td>5.381642e+07</td>\n      <td>...</td>\n      <td>0.0</td>\n      <td>0.0</td>\n      <td>7.0</td>\n      <td>0.0</td>\n      <td>0.0</td>\n      <td>0.0</td>\n      <td>0.0</td>\n      <td>0.0</td>\n      <td>0.0</td>\n      <td>0.0</td>\n    </tr>\n    <tr>\n      <th>9/8/2018</th>\n      <td>6.0</td>\n      <td>12685.833333</td>\n      <td>10.457852</td>\n      <td>12669.0</td>\n      <td>12681.00</td>\n      <td>12687.5</td>\n      <td>12692.50</td>\n      <td>12698.0</td>\n      <td>4.0</td>\n      <td>3.107016e+07</td>\n      <td>...</td>\n      <td>0.0</td>\n      <td>0.0</td>\n      <td>6.0</td>\n      <td>0.0</td>\n      <td>0.0</td>\n      <td>0.0</td>\n      <td>0.0</td>\n      <td>0.0</td>\n      <td>0.0</td>\n      <td>0.0</td>\n    </tr>\n    <tr>\n      <th>9/9/2018</th>\n      <td>2.0</td>\n      <td>14419.500000</td>\n      <td>6.363961</td>\n      <td>14415.0</td>\n      <td>14417.25</td>\n      <td>14419.5</td>\n      <td>14421.75</td>\n      <td>14424.0</td>\n      <td>2.0</td>\n      <td>2.884079e+07</td>\n      <td>...</td>\n      <td>0.0</td>\n      <td>0.0</td>\n      <td>2.0</td>\n      <td>0.0</td>\n      <td>0.0</td>\n      <td>0.0</td>\n      <td>0.0</td>\n      <td>0.0</td>\n      <td>0.0</td>\n      <td>0.0</td>\n    </tr>\n  </tbody>\n</table>\n<p>53181 rows × 56 columns</p>\n</div>"
     },
     "metadata": {},
     "execution_count": 25
    }
   ],
   "source": [
    "transactions[\"on_discount\"] = np.where(transactions[\"std_sales_price\"] == transactions[\"purchase_price\"], 0, 1)\n",
    "grouped_transactions = transactions.groupby([\"description\", \"day\"]).describe()\n",
    "grouped_transactions"
   ]
  },
  {
   "cell_type": "code",
   "execution_count": 45,
   "metadata": {},
   "outputs": [],
   "source": [
    "grouped_transactions[\"day\"] = [grouped_transactions.index[i][1] for i in range(grouped_transactions.shape[0])]\n",
    "grouped_transactions[\"on_discount\"] = np.where(grouped_transactions[\"std_sales_price\"][\"mean\"] == grouped_transactions[\"purchase_price\"][\"mean\"], 0, 1)\n",
    "grouped_transactions[\"on_discount\"][\"count\"]\n",
    "\n",
    "df_discounts = pd.DataFrame({\"days\":[grouped_transactions.index[i][1] for i in range(grouped_transactions.shape[0])], \"on_discount\":grouped_transactions[\"on_discount\"][\"count\"]})\n",
    "discounts_per_day = df_discounts.groupby(\"days\").sum()\n",
    "discounts_per_day[\"day\"] = pd.to_datetime(discounts_per_day.index, dayfirst=True)\n",
    "discounts_per_day.to_csv(\"nr_discounts_per_day.csv\")"
   ]
  },
  {
   "cell_type": "code",
   "execution_count": 49,
   "metadata": {},
   "outputs": [],
   "source": [
    "new_df = prepared_transactions.join(discounts_per_day.set_index(\"day\"))"
   ]
  },
  {
   "cell_type": "code",
   "execution_count": 50,
   "metadata": {},
   "outputs": [
    {
     "output_type": "execute_result",
     "data": {
      "text/plain": [
       "                                  count  discount  std  min  25%  50%  75%  \\\n",
       "description           day                                                    \n",
       "Biologische Bloemkool 2018-01-01    5.0       0.0  0.0  0.0  0.0  0.0  0.0   \n",
       "                      2018-01-04    4.0       0.0  0.0  0.0  0.0  0.0  0.0   \n",
       "                      2018-01-05    6.0       0.0  0.0  0.0  0.0  0.0  0.0   \n",
       "                      2018-01-07    9.0       0.0  0.0  0.0  0.0  0.0  0.0   \n",
       "                      2018-01-08    2.0       0.0  0.0  0.0  0.0  0.0  0.0   \n",
       "...                                 ...       ...  ...  ...  ...  ...  ...   \n",
       "Biologische rode kool 2018-12-25    3.0       0.0  0.0  0.0  0.0  0.0  0.0   \n",
       "                      2018-12-26    7.0       0.0  0.0  0.0  0.0  0.0  0.0   \n",
       "                      2018-12-28    5.0       0.0  0.0  0.0  0.0  0.0  0.0   \n",
       "                      2018-12-29    3.0       0.0  0.0  0.0  0.0  0.0  0.0   \n",
       "                      2018-12-30    3.0       0.0  0.0  0.0  0.0  0.0  0.0   \n",
       "\n",
       "                                  max     month                product  day  \\\n",
       "description           day                                                     \n",
       "Biologische Bloemkool 2018-01-01  0.0   January  Biologische Bloemkool    1   \n",
       "                      2018-01-04  0.0   January  Biologische Bloemkool    4   \n",
       "                      2018-01-05  0.0   January  Biologische Bloemkool    5   \n",
       "                      2018-01-07  0.0   January  Biologische Bloemkool    7   \n",
       "                      2018-01-08  0.0   January  Biologische Bloemkool    8   \n",
       "...                               ...       ...                    ...  ...   \n",
       "Biologische rode kool 2018-12-25  0.0  December  Biologische rode kool  359   \n",
       "                      2018-12-26  0.0  December  Biologische rode kool  360   \n",
       "                      2018-12-28  0.0  December  Biologische rode kool  362   \n",
       "                      2018-12-29  0.0  December  Biologische rode kool  363   \n",
       "                      2018-12-30  0.0  December  Biologische rode kool  364   \n",
       "\n",
       "                                  dayofweek  purchase_price  discount_2  \\\n",
       "description           day                                                 \n",
       "Biologische Bloemkool 2018-01-01     Monday            2.39         0.0   \n",
       "                      2018-01-04   Thursday            2.39         0.0   \n",
       "                      2018-01-05     Friday            2.39         0.0   \n",
       "                      2018-01-07     Sunday            2.39         0.0   \n",
       "                      2018-01-08     Monday            2.39         0.0   \n",
       "...                                     ...             ...         ...   \n",
       "Biologische rode kool 2018-12-25    Tuesday            1.29         0.0   \n",
       "                      2018-12-26  Wednesday            1.29         0.0   \n",
       "                      2018-12-28     Friday            1.29         0.0   \n",
       "                      2018-12-29   Saturday            1.29         0.0   \n",
       "                      2018-12-30     Sunday            1.29         0.0   \n",
       "\n",
       "                                  prev_day_purchases  prev_day_pp  \\\n",
       "description           day                                           \n",
       "Biologische Bloemkool 2018-01-01                 0.0          NaN   \n",
       "                      2018-01-04                 1.0         2.39   \n",
       "                      2018-01-05                 4.0         2.39   \n",
       "                      2018-01-07                 1.0         2.39   \n",
       "                      2018-01-08                 9.0         2.39   \n",
       "...                                              ...          ...   \n",
       "Biologische rode kool 2018-12-25                 4.0         1.29   \n",
       "                      2018-12-26                 3.0         1.29   \n",
       "                      2018-12-28                 1.0         1.29   \n",
       "                      2018-12-29                 5.0         1.29   \n",
       "                      2018-12-30                 3.0         1.29   \n",
       "\n",
       "                                  discount_prev_day  on_discount  \n",
       "description           day                                         \n",
       "Biologische Bloemkool 2018-01-01                  1           15  \n",
       "                      2018-01-04                  0           16  \n",
       "                      2018-01-05                  0           16  \n",
       "                      2018-01-07                  0            4  \n",
       "                      2018-01-08                  0           22  \n",
       "...                                             ...          ...  \n",
       "Biologische rode kool 2018-12-25                  0           15  \n",
       "                      2018-12-26                  1           13  \n",
       "                      2018-12-28                  1           13  \n",
       "                      2018-12-29                  0           12  \n",
       "                      2018-12-30                  0           13  \n",
       "\n",
       "[2680 rows x 18 columns]"
      ],
      "text/html": "<div>\n<style scoped>\n    .dataframe tbody tr th:only-of-type {\n        vertical-align: middle;\n    }\n\n    .dataframe tbody tr th {\n        vertical-align: top;\n    }\n\n    .dataframe thead th {\n        text-align: right;\n    }\n</style>\n<table border=\"1\" class=\"dataframe\">\n  <thead>\n    <tr style=\"text-align: right;\">\n      <th></th>\n      <th></th>\n      <th>count</th>\n      <th>discount</th>\n      <th>std</th>\n      <th>min</th>\n      <th>25%</th>\n      <th>50%</th>\n      <th>75%</th>\n      <th>max</th>\n      <th>month</th>\n      <th>product</th>\n      <th>day</th>\n      <th>dayofweek</th>\n      <th>purchase_price</th>\n      <th>discount_2</th>\n      <th>prev_day_purchases</th>\n      <th>prev_day_pp</th>\n      <th>discount_prev_day</th>\n      <th>on_discount</th>\n    </tr>\n    <tr>\n      <th>description</th>\n      <th>day</th>\n      <th></th>\n      <th></th>\n      <th></th>\n      <th></th>\n      <th></th>\n      <th></th>\n      <th></th>\n      <th></th>\n      <th></th>\n      <th></th>\n      <th></th>\n      <th></th>\n      <th></th>\n      <th></th>\n      <th></th>\n      <th></th>\n      <th></th>\n      <th></th>\n    </tr>\n  </thead>\n  <tbody>\n    <tr>\n      <th rowspan=\"5\" valign=\"top\">Biologische Bloemkool</th>\n      <th>2018-01-01</th>\n      <td>5.0</td>\n      <td>0.0</td>\n      <td>0.0</td>\n      <td>0.0</td>\n      <td>0.0</td>\n      <td>0.0</td>\n      <td>0.0</td>\n      <td>0.0</td>\n      <td>January</td>\n      <td>Biologische Bloemkool</td>\n      <td>1</td>\n      <td>Monday</td>\n      <td>2.39</td>\n      <td>0.0</td>\n      <td>0.0</td>\n      <td>NaN</td>\n      <td>1</td>\n      <td>15</td>\n    </tr>\n    <tr>\n      <th>2018-01-04</th>\n      <td>4.0</td>\n      <td>0.0</td>\n      <td>0.0</td>\n      <td>0.0</td>\n      <td>0.0</td>\n      <td>0.0</td>\n      <td>0.0</td>\n      <td>0.0</td>\n      <td>January</td>\n      <td>Biologische Bloemkool</td>\n      <td>4</td>\n      <td>Thursday</td>\n      <td>2.39</td>\n      <td>0.0</td>\n      <td>1.0</td>\n      <td>2.39</td>\n      <td>0</td>\n      <td>16</td>\n    </tr>\n    <tr>\n      <th>2018-01-05</th>\n      <td>6.0</td>\n      <td>0.0</td>\n      <td>0.0</td>\n      <td>0.0</td>\n      <td>0.0</td>\n      <td>0.0</td>\n      <td>0.0</td>\n      <td>0.0</td>\n      <td>January</td>\n      <td>Biologische Bloemkool</td>\n      <td>5</td>\n      <td>Friday</td>\n      <td>2.39</td>\n      <td>0.0</td>\n      <td>4.0</td>\n      <td>2.39</td>\n      <td>0</td>\n      <td>16</td>\n    </tr>\n    <tr>\n      <th>2018-01-07</th>\n      <td>9.0</td>\n      <td>0.0</td>\n      <td>0.0</td>\n      <td>0.0</td>\n      <td>0.0</td>\n      <td>0.0</td>\n      <td>0.0</td>\n      <td>0.0</td>\n      <td>January</td>\n      <td>Biologische Bloemkool</td>\n      <td>7</td>\n      <td>Sunday</td>\n      <td>2.39</td>\n      <td>0.0</td>\n      <td>1.0</td>\n      <td>2.39</td>\n      <td>0</td>\n      <td>4</td>\n    </tr>\n    <tr>\n      <th>2018-01-08</th>\n      <td>2.0</td>\n      <td>0.0</td>\n      <td>0.0</td>\n      <td>0.0</td>\n      <td>0.0</td>\n      <td>0.0</td>\n      <td>0.0</td>\n      <td>0.0</td>\n      <td>January</td>\n      <td>Biologische Bloemkool</td>\n      <td>8</td>\n      <td>Monday</td>\n      <td>2.39</td>\n      <td>0.0</td>\n      <td>9.0</td>\n      <td>2.39</td>\n      <td>0</td>\n      <td>22</td>\n    </tr>\n    <tr>\n      <th>...</th>\n      <th>...</th>\n      <td>...</td>\n      <td>...</td>\n      <td>...</td>\n      <td>...</td>\n      <td>...</td>\n      <td>...</td>\n      <td>...</td>\n      <td>...</td>\n      <td>...</td>\n      <td>...</td>\n      <td>...</td>\n      <td>...</td>\n      <td>...</td>\n      <td>...</td>\n      <td>...</td>\n      <td>...</td>\n      <td>...</td>\n      <td>...</td>\n    </tr>\n    <tr>\n      <th rowspan=\"5\" valign=\"top\">Biologische rode kool</th>\n      <th>2018-12-25</th>\n      <td>3.0</td>\n      <td>0.0</td>\n      <td>0.0</td>\n      <td>0.0</td>\n      <td>0.0</td>\n      <td>0.0</td>\n      <td>0.0</td>\n      <td>0.0</td>\n      <td>December</td>\n      <td>Biologische rode kool</td>\n      <td>359</td>\n      <td>Tuesday</td>\n      <td>1.29</td>\n      <td>0.0</td>\n      <td>4.0</td>\n      <td>1.29</td>\n      <td>0</td>\n      <td>15</td>\n    </tr>\n    <tr>\n      <th>2018-12-26</th>\n      <td>7.0</td>\n      <td>0.0</td>\n      <td>0.0</td>\n      <td>0.0</td>\n      <td>0.0</td>\n      <td>0.0</td>\n      <td>0.0</td>\n      <td>0.0</td>\n      <td>December</td>\n      <td>Biologische rode kool</td>\n      <td>360</td>\n      <td>Wednesday</td>\n      <td>1.29</td>\n      <td>0.0</td>\n      <td>3.0</td>\n      <td>1.29</td>\n      <td>1</td>\n      <td>13</td>\n    </tr>\n    <tr>\n      <th>2018-12-28</th>\n      <td>5.0</td>\n      <td>0.0</td>\n      <td>0.0</td>\n      <td>0.0</td>\n      <td>0.0</td>\n      <td>0.0</td>\n      <td>0.0</td>\n      <td>0.0</td>\n      <td>December</td>\n      <td>Biologische rode kool</td>\n      <td>362</td>\n      <td>Friday</td>\n      <td>1.29</td>\n      <td>0.0</td>\n      <td>1.0</td>\n      <td>1.29</td>\n      <td>1</td>\n      <td>13</td>\n    </tr>\n    <tr>\n      <th>2018-12-29</th>\n      <td>3.0</td>\n      <td>0.0</td>\n      <td>0.0</td>\n      <td>0.0</td>\n      <td>0.0</td>\n      <td>0.0</td>\n      <td>0.0</td>\n      <td>0.0</td>\n      <td>December</td>\n      <td>Biologische rode kool</td>\n      <td>363</td>\n      <td>Saturday</td>\n      <td>1.29</td>\n      <td>0.0</td>\n      <td>5.0</td>\n      <td>1.29</td>\n      <td>0</td>\n      <td>12</td>\n    </tr>\n    <tr>\n      <th>2018-12-30</th>\n      <td>3.0</td>\n      <td>0.0</td>\n      <td>0.0</td>\n      <td>0.0</td>\n      <td>0.0</td>\n      <td>0.0</td>\n      <td>0.0</td>\n      <td>0.0</td>\n      <td>December</td>\n      <td>Biologische rode kool</td>\n      <td>364</td>\n      <td>Sunday</td>\n      <td>1.29</td>\n      <td>0.0</td>\n      <td>3.0</td>\n      <td>1.29</td>\n      <td>0</td>\n      <td>13</td>\n    </tr>\n  </tbody>\n</table>\n<p>2680 rows × 18 columns</p>\n</div>"
     },
     "metadata": {},
     "execution_count": 50
    }
   ],
   "source": [
    "new_df"
   ]
  },
  {
   "source": [
    "## Experimenting with TensorFlow"
   ],
   "cell_type": "markdown",
   "metadata": {}
  },
  {
   "cell_type": "code",
   "execution_count": 59,
   "metadata": {},
   "outputs": [],
   "source": [
    "from tensorflow.keras import models, layers, losses, optimizers\n",
    "\n",
    "lstm_model = models.Sequential()\n",
    "lstm_model.add(layers.LSTM(50, return_sequences=True))\n",
    "lstm_model.add(layers.LSTM(20))\n",
    "lstm_model.add(layers.Dense(1, activation=\"sigmoid\"))\n",
    "lstm_model.compile(loss=\"adam\", metrics=\"mean_absolute_error\")"
   ]
  },
  {
   "cell_type": "code",
   "execution_count": 62,
   "metadata": {},
   "outputs": [
    {
     "output_type": "error",
     "ename": "ValueError",
     "evalue": "Failed to convert a NumPy array to a Tensor (Unsupported object type float).",
     "traceback": [
      "\u001b[1;31m---------------------------------------------------------------------------\u001b[0m",
      "\u001b[1;31mValueError\u001b[0m                                Traceback (most recent call last)",
      "\u001b[1;32m<ipython-input-62-eca404158108>\u001b[0m in \u001b[0;36m<module>\u001b[1;34m\u001b[0m\n\u001b[0;32m      1\u001b[0m \u001b[0mX_train\u001b[0m\u001b[1;33m,\u001b[0m \u001b[0my_train\u001b[0m \u001b[1;33m=\u001b[0m \u001b[0moutput_dct\u001b[0m\u001b[1;33m[\u001b[0m\u001b[1;34m\"train\"\u001b[0m\u001b[1;33m]\u001b[0m\u001b[1;33m[\u001b[0m\u001b[1;36m0\u001b[0m\u001b[1;33m]\u001b[0m\u001b[1;33m,\u001b[0m \u001b[0moutput_dct\u001b[0m\u001b[1;33m[\u001b[0m\u001b[1;34m\"train\"\u001b[0m\u001b[1;33m]\u001b[0m\u001b[1;33m[\u001b[0m\u001b[1;36m1\u001b[0m\u001b[1;33m]\u001b[0m\u001b[1;33m\u001b[0m\u001b[1;33m\u001b[0m\u001b[0m\n\u001b[1;32m----> 2\u001b[1;33m \u001b[0mlstm_model\u001b[0m\u001b[1;33m.\u001b[0m\u001b[0mfit\u001b[0m\u001b[1;33m(\u001b[0m\u001b[0mX_train\u001b[0m\u001b[1;33m,\u001b[0m \u001b[0my_train\u001b[0m\u001b[1;33m,\u001b[0m \u001b[0mbatch_size\u001b[0m\u001b[1;33m=\u001b[0m\u001b[1;36m16\u001b[0m\u001b[1;33m,\u001b[0m \u001b[0mepochs\u001b[0m\u001b[1;33m=\u001b[0m\u001b[1;36m30\u001b[0m\u001b[1;33m)\u001b[0m\u001b[1;33m\u001b[0m\u001b[1;33m\u001b[0m\u001b[0m\n\u001b[0m",
      "\u001b[1;32m~\\AppData\\Roaming\\Python\\Python38\\site-packages\\tensorflow\\python\\keras\\engine\\training.py\u001b[0m in \u001b[0;36m_method_wrapper\u001b[1;34m(self, *args, **kwargs)\u001b[0m\n\u001b[0;32m    106\u001b[0m   \u001b[1;32mdef\u001b[0m \u001b[0m_method_wrapper\u001b[0m\u001b[1;33m(\u001b[0m\u001b[0mself\u001b[0m\u001b[1;33m,\u001b[0m \u001b[1;33m*\u001b[0m\u001b[0margs\u001b[0m\u001b[1;33m,\u001b[0m \u001b[1;33m**\u001b[0m\u001b[0mkwargs\u001b[0m\u001b[1;33m)\u001b[0m\u001b[1;33m:\u001b[0m\u001b[1;33m\u001b[0m\u001b[1;33m\u001b[0m\u001b[0m\n\u001b[0;32m    107\u001b[0m     \u001b[1;32mif\u001b[0m \u001b[1;32mnot\u001b[0m \u001b[0mself\u001b[0m\u001b[1;33m.\u001b[0m\u001b[0m_in_multi_worker_mode\u001b[0m\u001b[1;33m(\u001b[0m\u001b[1;33m)\u001b[0m\u001b[1;33m:\u001b[0m  \u001b[1;31m# pylint: disable=protected-access\u001b[0m\u001b[1;33m\u001b[0m\u001b[1;33m\u001b[0m\u001b[0m\n\u001b[1;32m--> 108\u001b[1;33m       \u001b[1;32mreturn\u001b[0m \u001b[0mmethod\u001b[0m\u001b[1;33m(\u001b[0m\u001b[0mself\u001b[0m\u001b[1;33m,\u001b[0m \u001b[1;33m*\u001b[0m\u001b[0margs\u001b[0m\u001b[1;33m,\u001b[0m \u001b[1;33m**\u001b[0m\u001b[0mkwargs\u001b[0m\u001b[1;33m)\u001b[0m\u001b[1;33m\u001b[0m\u001b[1;33m\u001b[0m\u001b[0m\n\u001b[0m\u001b[0;32m    109\u001b[0m \u001b[1;33m\u001b[0m\u001b[0m\n\u001b[0;32m    110\u001b[0m     \u001b[1;31m# Running inside `run_distribute_coordinator` already.\u001b[0m\u001b[1;33m\u001b[0m\u001b[1;33m\u001b[0m\u001b[1;33m\u001b[0m\u001b[0m\n",
      "\u001b[1;32m~\\AppData\\Roaming\\Python\\Python38\\site-packages\\tensorflow\\python\\keras\\engine\\training.py\u001b[0m in \u001b[0;36mfit\u001b[1;34m(self, x, y, batch_size, epochs, verbose, callbacks, validation_split, validation_data, shuffle, class_weight, sample_weight, initial_epoch, steps_per_epoch, validation_steps, validation_batch_size, validation_freq, max_queue_size, workers, use_multiprocessing)\u001b[0m\n\u001b[0;32m   1047\u001b[0m          \u001b[0mtraining_utils\u001b[0m\u001b[1;33m.\u001b[0m\u001b[0mRespectCompiledTrainableState\u001b[0m\u001b[1;33m(\u001b[0m\u001b[0mself\u001b[0m\u001b[1;33m)\u001b[0m\u001b[1;33m:\u001b[0m\u001b[1;33m\u001b[0m\u001b[1;33m\u001b[0m\u001b[0m\n\u001b[0;32m   1048\u001b[0m       \u001b[1;31m# Creates a `tf.data.Dataset` and handles batch and epoch iteration.\u001b[0m\u001b[1;33m\u001b[0m\u001b[1;33m\u001b[0m\u001b[1;33m\u001b[0m\u001b[0m\n\u001b[1;32m-> 1049\u001b[1;33m       data_handler = data_adapter.DataHandler(\n\u001b[0m\u001b[0;32m   1050\u001b[0m           \u001b[0mx\u001b[0m\u001b[1;33m=\u001b[0m\u001b[0mx\u001b[0m\u001b[1;33m,\u001b[0m\u001b[1;33m\u001b[0m\u001b[1;33m\u001b[0m\u001b[0m\n\u001b[0;32m   1051\u001b[0m           \u001b[0my\u001b[0m\u001b[1;33m=\u001b[0m\u001b[0my\u001b[0m\u001b[1;33m,\u001b[0m\u001b[1;33m\u001b[0m\u001b[1;33m\u001b[0m\u001b[0m\n",
      "\u001b[1;32m~\\AppData\\Roaming\\Python\\Python38\\site-packages\\tensorflow\\python\\keras\\engine\\data_adapter.py\u001b[0m in \u001b[0;36m__init__\u001b[1;34m(self, x, y, sample_weight, batch_size, steps_per_epoch, initial_epoch, epochs, shuffle, class_weight, max_queue_size, workers, use_multiprocessing, model, steps_per_execution)\u001b[0m\n\u001b[0;32m   1103\u001b[0m \u001b[1;33m\u001b[0m\u001b[0m\n\u001b[0;32m   1104\u001b[0m     \u001b[0madapter_cls\u001b[0m \u001b[1;33m=\u001b[0m \u001b[0mselect_data_adapter\u001b[0m\u001b[1;33m(\u001b[0m\u001b[0mx\u001b[0m\u001b[1;33m,\u001b[0m \u001b[0my\u001b[0m\u001b[1;33m)\u001b[0m\u001b[1;33m\u001b[0m\u001b[1;33m\u001b[0m\u001b[0m\n\u001b[1;32m-> 1105\u001b[1;33m     self._adapter = adapter_cls(\n\u001b[0m\u001b[0;32m   1106\u001b[0m         \u001b[0mx\u001b[0m\u001b[1;33m,\u001b[0m\u001b[1;33m\u001b[0m\u001b[1;33m\u001b[0m\u001b[0m\n\u001b[0;32m   1107\u001b[0m         \u001b[0my\u001b[0m\u001b[1;33m,\u001b[0m\u001b[1;33m\u001b[0m\u001b[1;33m\u001b[0m\u001b[0m\n",
      "\u001b[1;32m~\\AppData\\Roaming\\Python\\Python38\\site-packages\\tensorflow\\python\\keras\\engine\\data_adapter.py\u001b[0m in \u001b[0;36m__init__\u001b[1;34m(self, x, y, sample_weights, sample_weight_modes, batch_size, epochs, steps, shuffle, **kwargs)\u001b[0m\n\u001b[0;32m    263\u001b[0m                **kwargs):\n\u001b[0;32m    264\u001b[0m     \u001b[0msuper\u001b[0m\u001b[1;33m(\u001b[0m\u001b[0mTensorLikeDataAdapter\u001b[0m\u001b[1;33m,\u001b[0m \u001b[0mself\u001b[0m\u001b[1;33m)\u001b[0m\u001b[1;33m.\u001b[0m\u001b[0m__init__\u001b[0m\u001b[1;33m(\u001b[0m\u001b[0mx\u001b[0m\u001b[1;33m,\u001b[0m \u001b[0my\u001b[0m\u001b[1;33m,\u001b[0m \u001b[1;33m**\u001b[0m\u001b[0mkwargs\u001b[0m\u001b[1;33m)\u001b[0m\u001b[1;33m\u001b[0m\u001b[1;33m\u001b[0m\u001b[0m\n\u001b[1;32m--> 265\u001b[1;33m     \u001b[0mx\u001b[0m\u001b[1;33m,\u001b[0m \u001b[0my\u001b[0m\u001b[1;33m,\u001b[0m \u001b[0msample_weights\u001b[0m \u001b[1;33m=\u001b[0m \u001b[0m_process_tensorlike\u001b[0m\u001b[1;33m(\u001b[0m\u001b[1;33m(\u001b[0m\u001b[0mx\u001b[0m\u001b[1;33m,\u001b[0m \u001b[0my\u001b[0m\u001b[1;33m,\u001b[0m \u001b[0msample_weights\u001b[0m\u001b[1;33m)\u001b[0m\u001b[1;33m)\u001b[0m\u001b[1;33m\u001b[0m\u001b[1;33m\u001b[0m\u001b[0m\n\u001b[0m\u001b[0;32m    266\u001b[0m     sample_weight_modes = broadcast_sample_weight_modes(\n\u001b[0;32m    267\u001b[0m         sample_weights, sample_weight_modes)\n",
      "\u001b[1;32m~\\AppData\\Roaming\\Python\\Python38\\site-packages\\tensorflow\\python\\keras\\engine\\data_adapter.py\u001b[0m in \u001b[0;36m_process_tensorlike\u001b[1;34m(inputs)\u001b[0m\n\u001b[0;32m   1019\u001b[0m     \u001b[1;32mreturn\u001b[0m \u001b[0mx\u001b[0m\u001b[1;33m\u001b[0m\u001b[1;33m\u001b[0m\u001b[0m\n\u001b[0;32m   1020\u001b[0m \u001b[1;33m\u001b[0m\u001b[0m\n\u001b[1;32m-> 1021\u001b[1;33m   \u001b[0minputs\u001b[0m \u001b[1;33m=\u001b[0m \u001b[0mnest\u001b[0m\u001b[1;33m.\u001b[0m\u001b[0mmap_structure\u001b[0m\u001b[1;33m(\u001b[0m\u001b[0m_convert_numpy_and_scipy\u001b[0m\u001b[1;33m,\u001b[0m \u001b[0minputs\u001b[0m\u001b[1;33m)\u001b[0m\u001b[1;33m\u001b[0m\u001b[1;33m\u001b[0m\u001b[0m\n\u001b[0m\u001b[0;32m   1022\u001b[0m   \u001b[1;32mreturn\u001b[0m \u001b[0mnest\u001b[0m\u001b[1;33m.\u001b[0m\u001b[0mlist_to_tuple\u001b[0m\u001b[1;33m(\u001b[0m\u001b[0minputs\u001b[0m\u001b[1;33m)\u001b[0m\u001b[1;33m\u001b[0m\u001b[1;33m\u001b[0m\u001b[0m\n\u001b[0;32m   1023\u001b[0m \u001b[1;33m\u001b[0m\u001b[0m\n",
      "\u001b[1;32m~\\AppData\\Roaming\\Python\\Python38\\site-packages\\tensorflow\\python\\util\\nest.py\u001b[0m in \u001b[0;36mmap_structure\u001b[1;34m(func, *structure, **kwargs)\u001b[0m\n\u001b[0;32m    633\u001b[0m \u001b[1;33m\u001b[0m\u001b[0m\n\u001b[0;32m    634\u001b[0m   return pack_sequence_as(\n\u001b[1;32m--> 635\u001b[1;33m       \u001b[0mstructure\u001b[0m\u001b[1;33m[\u001b[0m\u001b[1;36m0\u001b[0m\u001b[1;33m]\u001b[0m\u001b[1;33m,\u001b[0m \u001b[1;33m[\u001b[0m\u001b[0mfunc\u001b[0m\u001b[1;33m(\u001b[0m\u001b[1;33m*\u001b[0m\u001b[0mx\u001b[0m\u001b[1;33m)\u001b[0m \u001b[1;32mfor\u001b[0m \u001b[0mx\u001b[0m \u001b[1;32min\u001b[0m \u001b[0mentries\u001b[0m\u001b[1;33m]\u001b[0m\u001b[1;33m,\u001b[0m\u001b[1;33m\u001b[0m\u001b[1;33m\u001b[0m\u001b[0m\n\u001b[0m\u001b[0;32m    636\u001b[0m       expand_composites=expand_composites)\n\u001b[0;32m    637\u001b[0m \u001b[1;33m\u001b[0m\u001b[0m\n",
      "\u001b[1;32m~\\AppData\\Roaming\\Python\\Python38\\site-packages\\tensorflow\\python\\util\\nest.py\u001b[0m in \u001b[0;36m<listcomp>\u001b[1;34m(.0)\u001b[0m\n\u001b[0;32m    633\u001b[0m \u001b[1;33m\u001b[0m\u001b[0m\n\u001b[0;32m    634\u001b[0m   return pack_sequence_as(\n\u001b[1;32m--> 635\u001b[1;33m       \u001b[0mstructure\u001b[0m\u001b[1;33m[\u001b[0m\u001b[1;36m0\u001b[0m\u001b[1;33m]\u001b[0m\u001b[1;33m,\u001b[0m \u001b[1;33m[\u001b[0m\u001b[0mfunc\u001b[0m\u001b[1;33m(\u001b[0m\u001b[1;33m*\u001b[0m\u001b[0mx\u001b[0m\u001b[1;33m)\u001b[0m \u001b[1;32mfor\u001b[0m \u001b[0mx\u001b[0m \u001b[1;32min\u001b[0m \u001b[0mentries\u001b[0m\u001b[1;33m]\u001b[0m\u001b[1;33m,\u001b[0m\u001b[1;33m\u001b[0m\u001b[1;33m\u001b[0m\u001b[0m\n\u001b[0m\u001b[0;32m    636\u001b[0m       expand_composites=expand_composites)\n\u001b[0;32m    637\u001b[0m \u001b[1;33m\u001b[0m\u001b[0m\n",
      "\u001b[1;32m~\\AppData\\Roaming\\Python\\Python38\\site-packages\\tensorflow\\python\\keras\\engine\\data_adapter.py\u001b[0m in \u001b[0;36m_convert_numpy_and_scipy\u001b[1;34m(x)\u001b[0m\n\u001b[0;32m   1014\u001b[0m       \u001b[1;32mif\u001b[0m \u001b[0missubclass\u001b[0m\u001b[1;33m(\u001b[0m\u001b[0mx\u001b[0m\u001b[1;33m.\u001b[0m\u001b[0mdtype\u001b[0m\u001b[1;33m.\u001b[0m\u001b[0mtype\u001b[0m\u001b[1;33m,\u001b[0m \u001b[0mnp\u001b[0m\u001b[1;33m.\u001b[0m\u001b[0mfloating\u001b[0m\u001b[1;33m)\u001b[0m\u001b[1;33m:\u001b[0m\u001b[1;33m\u001b[0m\u001b[1;33m\u001b[0m\u001b[0m\n\u001b[0;32m   1015\u001b[0m         \u001b[0mdtype\u001b[0m \u001b[1;33m=\u001b[0m \u001b[0mbackend\u001b[0m\u001b[1;33m.\u001b[0m\u001b[0mfloatx\u001b[0m\u001b[1;33m(\u001b[0m\u001b[1;33m)\u001b[0m\u001b[1;33m\u001b[0m\u001b[1;33m\u001b[0m\u001b[0m\n\u001b[1;32m-> 1016\u001b[1;33m       \u001b[1;32mreturn\u001b[0m \u001b[0mops\u001b[0m\u001b[1;33m.\u001b[0m\u001b[0mconvert_to_tensor\u001b[0m\u001b[1;33m(\u001b[0m\u001b[0mx\u001b[0m\u001b[1;33m,\u001b[0m \u001b[0mdtype\u001b[0m\u001b[1;33m=\u001b[0m\u001b[0mdtype\u001b[0m\u001b[1;33m)\u001b[0m\u001b[1;33m\u001b[0m\u001b[1;33m\u001b[0m\u001b[0m\n\u001b[0m\u001b[0;32m   1017\u001b[0m     \u001b[1;32melif\u001b[0m \u001b[0mscipy_sparse\u001b[0m \u001b[1;32mand\u001b[0m \u001b[0mscipy_sparse\u001b[0m\u001b[1;33m.\u001b[0m\u001b[0missparse\u001b[0m\u001b[1;33m(\u001b[0m\u001b[0mx\u001b[0m\u001b[1;33m)\u001b[0m\u001b[1;33m:\u001b[0m\u001b[1;33m\u001b[0m\u001b[1;33m\u001b[0m\u001b[0m\n\u001b[0;32m   1018\u001b[0m       \u001b[1;32mreturn\u001b[0m \u001b[0m_scipy_sparse_to_sparse_tensor\u001b[0m\u001b[1;33m(\u001b[0m\u001b[0mx\u001b[0m\u001b[1;33m)\u001b[0m\u001b[1;33m\u001b[0m\u001b[1;33m\u001b[0m\u001b[0m\n",
      "\u001b[1;32m~\\AppData\\Roaming\\Python\\Python38\\site-packages\\tensorflow\\python\\framework\\ops.py\u001b[0m in \u001b[0;36mconvert_to_tensor\u001b[1;34m(value, dtype, name, as_ref, preferred_dtype, dtype_hint, ctx, accepted_result_types)\u001b[0m\n\u001b[0;32m   1497\u001b[0m \u001b[1;33m\u001b[0m\u001b[0m\n\u001b[0;32m   1498\u001b[0m     \u001b[1;32mif\u001b[0m \u001b[0mret\u001b[0m \u001b[1;32mis\u001b[0m \u001b[1;32mNone\u001b[0m\u001b[1;33m:\u001b[0m\u001b[1;33m\u001b[0m\u001b[1;33m\u001b[0m\u001b[0m\n\u001b[1;32m-> 1499\u001b[1;33m       \u001b[0mret\u001b[0m \u001b[1;33m=\u001b[0m \u001b[0mconversion_func\u001b[0m\u001b[1;33m(\u001b[0m\u001b[0mvalue\u001b[0m\u001b[1;33m,\u001b[0m \u001b[0mdtype\u001b[0m\u001b[1;33m=\u001b[0m\u001b[0mdtype\u001b[0m\u001b[1;33m,\u001b[0m \u001b[0mname\u001b[0m\u001b[1;33m=\u001b[0m\u001b[0mname\u001b[0m\u001b[1;33m,\u001b[0m \u001b[0mas_ref\u001b[0m\u001b[1;33m=\u001b[0m\u001b[0mas_ref\u001b[0m\u001b[1;33m)\u001b[0m\u001b[1;33m\u001b[0m\u001b[1;33m\u001b[0m\u001b[0m\n\u001b[0m\u001b[0;32m   1500\u001b[0m \u001b[1;33m\u001b[0m\u001b[0m\n\u001b[0;32m   1501\u001b[0m     \u001b[1;32mif\u001b[0m \u001b[0mret\u001b[0m \u001b[1;32mis\u001b[0m \u001b[0mNotImplemented\u001b[0m\u001b[1;33m:\u001b[0m\u001b[1;33m\u001b[0m\u001b[1;33m\u001b[0m\u001b[0m\n",
      "\u001b[1;32m~\\AppData\\Roaming\\Python\\Python38\\site-packages\\tensorflow\\python\\framework\\tensor_conversion_registry.py\u001b[0m in \u001b[0;36m_default_conversion_function\u001b[1;34m(***failed resolving arguments***)\u001b[0m\n\u001b[0;32m     50\u001b[0m \u001b[1;32mdef\u001b[0m \u001b[0m_default_conversion_function\u001b[0m\u001b[1;33m(\u001b[0m\u001b[0mvalue\u001b[0m\u001b[1;33m,\u001b[0m \u001b[0mdtype\u001b[0m\u001b[1;33m,\u001b[0m \u001b[0mname\u001b[0m\u001b[1;33m,\u001b[0m \u001b[0mas_ref\u001b[0m\u001b[1;33m)\u001b[0m\u001b[1;33m:\u001b[0m\u001b[1;33m\u001b[0m\u001b[1;33m\u001b[0m\u001b[0m\n\u001b[0;32m     51\u001b[0m   \u001b[1;32mdel\u001b[0m \u001b[0mas_ref\u001b[0m  \u001b[1;31m# Unused.\u001b[0m\u001b[1;33m\u001b[0m\u001b[1;33m\u001b[0m\u001b[0m\n\u001b[1;32m---> 52\u001b[1;33m   \u001b[1;32mreturn\u001b[0m \u001b[0mconstant_op\u001b[0m\u001b[1;33m.\u001b[0m\u001b[0mconstant\u001b[0m\u001b[1;33m(\u001b[0m\u001b[0mvalue\u001b[0m\u001b[1;33m,\u001b[0m \u001b[0mdtype\u001b[0m\u001b[1;33m,\u001b[0m \u001b[0mname\u001b[0m\u001b[1;33m=\u001b[0m\u001b[0mname\u001b[0m\u001b[1;33m)\u001b[0m\u001b[1;33m\u001b[0m\u001b[1;33m\u001b[0m\u001b[0m\n\u001b[0m\u001b[0;32m     53\u001b[0m \u001b[1;33m\u001b[0m\u001b[0m\n\u001b[0;32m     54\u001b[0m \u001b[1;33m\u001b[0m\u001b[0m\n",
      "\u001b[1;32m~\\AppData\\Roaming\\Python\\Python38\\site-packages\\tensorflow\\python\\framework\\constant_op.py\u001b[0m in \u001b[0;36mconstant\u001b[1;34m(value, dtype, shape, name)\u001b[0m\n\u001b[0;32m    261\u001b[0m     \u001b[0mValueError\u001b[0m\u001b[1;33m:\u001b[0m \u001b[1;32mif\u001b[0m \u001b[0mcalled\u001b[0m \u001b[0mon\u001b[0m \u001b[0ma\u001b[0m \u001b[0msymbolic\u001b[0m \u001b[0mtensor\u001b[0m\u001b[1;33m.\u001b[0m\u001b[1;33m\u001b[0m\u001b[1;33m\u001b[0m\u001b[0m\n\u001b[0;32m    262\u001b[0m   \"\"\"\n\u001b[1;32m--> 263\u001b[1;33m   return _constant_impl(value, dtype, shape, name, verify_shape=False,\n\u001b[0m\u001b[0;32m    264\u001b[0m                         allow_broadcast=True)\n\u001b[0;32m    265\u001b[0m \u001b[1;33m\u001b[0m\u001b[0m\n",
      "\u001b[1;32m~\\AppData\\Roaming\\Python\\Python38\\site-packages\\tensorflow\\python\\framework\\constant_op.py\u001b[0m in \u001b[0;36m_constant_impl\u001b[1;34m(value, dtype, shape, name, verify_shape, allow_broadcast)\u001b[0m\n\u001b[0;32m    273\u001b[0m       \u001b[1;32mwith\u001b[0m \u001b[0mtrace\u001b[0m\u001b[1;33m.\u001b[0m\u001b[0mTrace\u001b[0m\u001b[1;33m(\u001b[0m\u001b[1;34m\"tf.constant\"\u001b[0m\u001b[1;33m)\u001b[0m\u001b[1;33m:\u001b[0m\u001b[1;33m\u001b[0m\u001b[1;33m\u001b[0m\u001b[0m\n\u001b[0;32m    274\u001b[0m         \u001b[1;32mreturn\u001b[0m \u001b[0m_constant_eager_impl\u001b[0m\u001b[1;33m(\u001b[0m\u001b[0mctx\u001b[0m\u001b[1;33m,\u001b[0m \u001b[0mvalue\u001b[0m\u001b[1;33m,\u001b[0m \u001b[0mdtype\u001b[0m\u001b[1;33m,\u001b[0m \u001b[0mshape\u001b[0m\u001b[1;33m,\u001b[0m \u001b[0mverify_shape\u001b[0m\u001b[1;33m)\u001b[0m\u001b[1;33m\u001b[0m\u001b[1;33m\u001b[0m\u001b[0m\n\u001b[1;32m--> 275\u001b[1;33m     \u001b[1;32mreturn\u001b[0m \u001b[0m_constant_eager_impl\u001b[0m\u001b[1;33m(\u001b[0m\u001b[0mctx\u001b[0m\u001b[1;33m,\u001b[0m \u001b[0mvalue\u001b[0m\u001b[1;33m,\u001b[0m \u001b[0mdtype\u001b[0m\u001b[1;33m,\u001b[0m \u001b[0mshape\u001b[0m\u001b[1;33m,\u001b[0m \u001b[0mverify_shape\u001b[0m\u001b[1;33m)\u001b[0m\u001b[1;33m\u001b[0m\u001b[1;33m\u001b[0m\u001b[0m\n\u001b[0m\u001b[0;32m    276\u001b[0m \u001b[1;33m\u001b[0m\u001b[0m\n\u001b[0;32m    277\u001b[0m   \u001b[0mg\u001b[0m \u001b[1;33m=\u001b[0m \u001b[0mops\u001b[0m\u001b[1;33m.\u001b[0m\u001b[0mget_default_graph\u001b[0m\u001b[1;33m(\u001b[0m\u001b[1;33m)\u001b[0m\u001b[1;33m\u001b[0m\u001b[1;33m\u001b[0m\u001b[0m\n",
      "\u001b[1;32m~\\AppData\\Roaming\\Python\\Python38\\site-packages\\tensorflow\\python\\framework\\constant_op.py\u001b[0m in \u001b[0;36m_constant_eager_impl\u001b[1;34m(ctx, value, dtype, shape, verify_shape)\u001b[0m\n\u001b[0;32m    298\u001b[0m \u001b[1;32mdef\u001b[0m \u001b[0m_constant_eager_impl\u001b[0m\u001b[1;33m(\u001b[0m\u001b[0mctx\u001b[0m\u001b[1;33m,\u001b[0m \u001b[0mvalue\u001b[0m\u001b[1;33m,\u001b[0m \u001b[0mdtype\u001b[0m\u001b[1;33m,\u001b[0m \u001b[0mshape\u001b[0m\u001b[1;33m,\u001b[0m \u001b[0mverify_shape\u001b[0m\u001b[1;33m)\u001b[0m\u001b[1;33m:\u001b[0m\u001b[1;33m\u001b[0m\u001b[1;33m\u001b[0m\u001b[0m\n\u001b[0;32m    299\u001b[0m   \u001b[1;34m\"\"\"Implementation of eager constant.\"\"\"\u001b[0m\u001b[1;33m\u001b[0m\u001b[1;33m\u001b[0m\u001b[0m\n\u001b[1;32m--> 300\u001b[1;33m   \u001b[0mt\u001b[0m \u001b[1;33m=\u001b[0m \u001b[0mconvert_to_eager_tensor\u001b[0m\u001b[1;33m(\u001b[0m\u001b[0mvalue\u001b[0m\u001b[1;33m,\u001b[0m \u001b[0mctx\u001b[0m\u001b[1;33m,\u001b[0m \u001b[0mdtype\u001b[0m\u001b[1;33m)\u001b[0m\u001b[1;33m\u001b[0m\u001b[1;33m\u001b[0m\u001b[0m\n\u001b[0m\u001b[0;32m    301\u001b[0m   \u001b[1;32mif\u001b[0m \u001b[0mshape\u001b[0m \u001b[1;32mis\u001b[0m \u001b[1;32mNone\u001b[0m\u001b[1;33m:\u001b[0m\u001b[1;33m\u001b[0m\u001b[1;33m\u001b[0m\u001b[0m\n\u001b[0;32m    302\u001b[0m     \u001b[1;32mreturn\u001b[0m \u001b[0mt\u001b[0m\u001b[1;33m\u001b[0m\u001b[1;33m\u001b[0m\u001b[0m\n",
      "\u001b[1;32m~\\AppData\\Roaming\\Python\\Python38\\site-packages\\tensorflow\\python\\framework\\constant_op.py\u001b[0m in \u001b[0;36mconvert_to_eager_tensor\u001b[1;34m(value, ctx, dtype)\u001b[0m\n\u001b[0;32m     96\u001b[0m       \u001b[0mdtype\u001b[0m \u001b[1;33m=\u001b[0m \u001b[0mdtypes\u001b[0m\u001b[1;33m.\u001b[0m\u001b[0mas_dtype\u001b[0m\u001b[1;33m(\u001b[0m\u001b[0mdtype\u001b[0m\u001b[1;33m)\u001b[0m\u001b[1;33m.\u001b[0m\u001b[0mas_datatype_enum\u001b[0m\u001b[1;33m\u001b[0m\u001b[1;33m\u001b[0m\u001b[0m\n\u001b[0;32m     97\u001b[0m   \u001b[0mctx\u001b[0m\u001b[1;33m.\u001b[0m\u001b[0mensure_initialized\u001b[0m\u001b[1;33m(\u001b[0m\u001b[1;33m)\u001b[0m\u001b[1;33m\u001b[0m\u001b[1;33m\u001b[0m\u001b[0m\n\u001b[1;32m---> 98\u001b[1;33m   \u001b[1;32mreturn\u001b[0m \u001b[0mops\u001b[0m\u001b[1;33m.\u001b[0m\u001b[0mEagerTensor\u001b[0m\u001b[1;33m(\u001b[0m\u001b[0mvalue\u001b[0m\u001b[1;33m,\u001b[0m \u001b[0mctx\u001b[0m\u001b[1;33m.\u001b[0m\u001b[0mdevice_name\u001b[0m\u001b[1;33m,\u001b[0m \u001b[0mdtype\u001b[0m\u001b[1;33m)\u001b[0m\u001b[1;33m\u001b[0m\u001b[1;33m\u001b[0m\u001b[0m\n\u001b[0m\u001b[0;32m     99\u001b[0m \u001b[1;33m\u001b[0m\u001b[0m\n\u001b[0;32m    100\u001b[0m \u001b[1;33m\u001b[0m\u001b[0m\n",
      "\u001b[1;31mValueError\u001b[0m: Failed to convert a NumPy array to a Tensor (Unsupported object type float)."
     ]
    }
   ],
   "source": [
    "X_train, y_train = output_dct[\"train\"][0], output_dct[\"train\"][1]\n",
    "lstm_model.fit(X_train, y_train, batch_size=16, epochs=30)"
   ]
  }
 ]
}