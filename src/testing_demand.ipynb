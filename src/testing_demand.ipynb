{
 "metadata": {
  "language_info": {
   "codemirror_mode": {
    "name": "ipython",
    "version": 3
   },
   "file_extension": ".py",
   "mimetype": "text/x-python",
   "name": "python",
   "nbconvert_exporter": "python",
   "pygments_lexer": "ipython3",
   "version": "3.8.2-final"
  },
  "orig_nbformat": 2,
  "kernelspec": {
   "name": "python3",
   "display_name": "Python 3.8.2 64-bit",
   "metadata": {
    "interpreter": {
     "hash": "1baa965d5efe3ac65b79dfc60c0d706280b1da80fedb7760faf2759126c4f253"
    }
   }
  }
 },
 "nbformat": 4,
 "nbformat_minor": 2,
 "cells": [
  {
   "cell_type": "code",
   "execution_count": 1,
   "metadata": {},
   "outputs": [],
   "source": [
    "import pandas as pd \n",
    "import numpy as np \n",
    "from demand import prepare_data, prepare_demand_function, fit_demand_function\n",
    "transactions = pd.read_csv(\"data/transactions.csv\")\n",
    "discounts_per_day = pd.read_csv(\"nr_discounts_per_day.csv\")#csv with the nr of discounts daily"
   ]
  },
  {
   "cell_type": "code",
   "execution_count": 2,
   "metadata": {},
   "outputs": [],
   "source": [
    "product = \"Biologische pompoen\"\n",
    "\n",
    "filtered_transactions = transactions[(transactions[\"description\"] == product) & (transactions[\"bio\"] == 1)]"
   ]
  },
  {
   "cell_type": "code",
   "execution_count": 3,
   "metadata": {},
   "outputs": [
    {
     "output_type": "stream",
     "name": "stderr",
     "text": [
      "c:\\Users\\zolyo\\OneDrive\\Documents\\Quartile 3\\JBG050 Data Challenge 2\\Code\\src\\demand.py:15: SettingWithCopyWarning: \n",
      "A value is trying to be set on a copy of a slice from a DataFrame.\n",
      "Try using .loc[row_indexer,col_indexer] = value instead\n",
      "\n",
      "See the caveats in the documentation: https://pandas.pydata.org/pandas-docs/stable/user_guide/indexing.html#returning-a-view-versus-a-copy\n",
      "  filtered_transactions[\"day\"] = pd.to_datetime(filtered_transactions[\"day\"])\n",
      "c:\\Users\\zolyo\\OneDrive\\Documents\\Quartile 3\\JBG050 Data Challenge 2\\Code\\src\\demand.py:18: SettingWithCopyWarning: \n",
      "A value is trying to be set on a copy of a slice from a DataFrame.\n",
      "Try using .loc[row_indexer,col_indexer] = value instead\n",
      "\n",
      "See the caveats in the documentation: https://pandas.pydata.org/pandas-docs/stable/user_guide/indexing.html#returning-a-view-versus-a-copy\n",
      "  filtered_transactions[\"discount\"] = 100-(\n",
      "c:\\Users\\zolyo\\OneDrive\\Documents\\Quartile 3\\JBG050 Data Challenge 2\\Code\\src\\demand.py:27: SettingWithCopyWarning: \n",
      "A value is trying to be set on a copy of a slice from a DataFrame.\n",
      "Try using .loc[row_indexer,col_indexer] = value instead\n",
      "\n",
      "See the caveats in the documentation: https://pandas.pydata.org/pandas-docs/stable/user_guide/indexing.html#returning-a-view-versus-a-copy\n",
      "  purchases[\"month\"] = [purchases.index[i][1].month_name() for i in range(purchases.shape[0])]\n",
      "c:\\Users\\zolyo\\OneDrive\\Documents\\Quartile 3\\JBG050 Data Challenge 2\\Code\\src\\demand.py:29: SettingWithCopyWarning: \n",
      "A value is trying to be set on a copy of a slice from a DataFrame.\n",
      "Try using .loc[row_indexer,col_indexer] = value instead\n",
      "\n",
      "See the caveats in the documentation: https://pandas.pydata.org/pandas-docs/stable/user_guide/indexing.html#returning-a-view-versus-a-copy\n",
      "  purchases[\"product\"] = [purchases.index[i][0] for i in range(purchases.shape[0])]\n",
      "c:\\Users\\zolyo\\OneDrive\\Documents\\Quartile 3\\JBG050 Data Challenge 2\\Code\\src\\demand.py:31: SettingWithCopyWarning: \n",
      "A value is trying to be set on a copy of a slice from a DataFrame.\n",
      "Try using .loc[row_indexer,col_indexer] = value instead\n",
      "\n",
      "See the caveats in the documentation: https://pandas.pydata.org/pandas-docs/stable/user_guide/indexing.html#returning-a-view-versus-a-copy\n",
      "  purchases[\"day\"] = [purchases.index[i][1].dayofyear for i in range(purchases.shape[0])]\n",
      "c:\\Users\\zolyo\\OneDrive\\Documents\\Quartile 3\\JBG050 Data Challenge 2\\Code\\src\\demand.py:33: SettingWithCopyWarning: \n",
      "A value is trying to be set on a copy of a slice from a DataFrame.\n",
      "Try using .loc[row_indexer,col_indexer] = value instead\n",
      "\n",
      "See the caveats in the documentation: https://pandas.pydata.org/pandas-docs/stable/user_guide/indexing.html#returning-a-view-versus-a-copy\n",
      "  purchases[\"dayofweek\"] = [purchases.index[i][1].dayofweek for i in range(purchases.shape[0])]\n",
      "C:\\Users\\zolyo\\AppData\\Roaming\\Python\\Python38\\site-packages\\pandas\\core\\series.py:4575: SettingWithCopyWarning: \n",
      "A value is trying to be set on a copy of a slice from a DataFrame\n",
      "\n",
      "See the caveats in the documentation: https://pandas.pydata.org/pandas-docs/stable/user_guide/indexing.html#returning-a-view-versus-a-copy\n",
      "  return super().replace(\n",
      "c:\\Users\\zolyo\\OneDrive\\Documents\\Quartile 3\\JBG050 Data Challenge 2\\Code\\src\\demand.py:35: SettingWithCopyWarning: \n",
      "A value is trying to be set on a copy of a slice from a DataFrame.\n",
      "Try using .loc[row_indexer,col_indexer] = value instead\n",
      "\n",
      "See the caveats in the documentation: https://pandas.pydata.org/pandas-docs/stable/user_guide/indexing.html#returning-a-view-versus-a-copy\n",
      "  purchases[\"purchase_price\"] = pp\n",
      "c:\\Users\\zolyo\\OneDrive\\Documents\\Quartile 3\\JBG050 Data Challenge 2\\Code\\src\\demand.py:36: SettingWithCopyWarning: \n",
      "A value is trying to be set on a copy of a slice from a DataFrame.\n",
      "Try using .loc[row_indexer,col_indexer] = value instead\n",
      "\n",
      "See the caveats in the documentation: https://pandas.pydata.org/pandas-docs/stable/user_guide/indexing.html#returning-a-view-versus-a-copy\n",
      "  purchases[\"std_sales_price\"] = std_p\n",
      "C:\\Users\\zolyo\\AppData\\Roaming\\Python\\Python38\\site-packages\\pandas\\core\\frame.py:4300: SettingWithCopyWarning: \n",
      "A value is trying to be set on a copy of a slice from a DataFrame\n",
      "\n",
      "See the caveats in the documentation: https://pandas.pydata.org/pandas-docs/stable/user_guide/indexing.html#returning-a-view-versus-a-copy\n",
      "  return super().rename(\n",
      "c:\\Users\\zolyo\\OneDrive\\Documents\\Quartile 3\\JBG050 Data Challenge 2\\Code\\src\\demand.py:39: SettingWithCopyWarning: \n",
      "A value is trying to be set on a copy of a slice from a DataFrame.\n",
      "Try using .loc[row_indexer,col_indexer] = value instead\n",
      "\n",
      "See the caveats in the documentation: https://pandas.pydata.org/pandas-docs/stable/user_guide/indexing.html#returning-a-view-versus-a-copy\n",
      "  purchases[\"discount_2\"] = purchases[\"discount\"]**2\n",
      "c:\\Users\\zolyo\\OneDrive\\Documents\\Quartile 3\\JBG050 Data Challenge 2\\Code\\src\\demand.py:40: SettingWithCopyWarning: \n",
      "A value is trying to be set on a copy of a slice from a DataFrame.\n",
      "Try using .loc[row_indexer,col_indexer] = value instead\n",
      "\n",
      "See the caveats in the documentation: https://pandas.pydata.org/pandas-docs/stable/user_guide/indexing.html#returning-a-view-versus-a-copy\n",
      "  purchases[\"prev_day_purchases\"] = purchases[\"count\"].shift(1)\n",
      "C:\\Users\\zolyo\\AppData\\Roaming\\Python\\Python38\\site-packages\\pandas\\core\\indexing.py:670: SettingWithCopyWarning: \n",
      "A value is trying to be set on a copy of a slice from a DataFrame\n",
      "\n",
      "See the caveats in the documentation: https://pandas.pydata.org/pandas-docs/stable/user_guide/indexing.html#returning-a-view-versus-a-copy\n",
      "  iloc._setitem_with_indexer(indexer, value)\n",
      "c:\\Users\\zolyo\\OneDrive\\Documents\\Quartile 3\\JBG050 Data Challenge 2\\Code\\src\\demand.py:41: SettingWithCopyWarning: \n",
      "A value is trying to be set on a copy of a slice from a DataFrame\n",
      "\n",
      "See the caveats in the documentation: https://pandas.pydata.org/pandas-docs/stable/user_guide/indexing.html#returning-a-view-versus-a-copy\n",
      "  purchases[\"prev_day_purchases\"].iloc[0] = 0\n"
     ]
    },
    {
     "output_type": "execute_result",
     "data": {
      "text/plain": [
       "                                count  discount  std   min   25%   50%   75%  \\\n",
       "description         day                                                        \n",
       "Biologische pompoen 2018-01-01    8.0      30.0  0.0  30.0  30.0  30.0  30.0   \n",
       "                    2018-01-02    3.0      30.0  0.0  30.0  30.0  30.0  30.0   \n",
       "                    2018-01-03    3.0       0.0  0.0   0.0   0.0   0.0   0.0   \n",
       "                    2018-01-04    1.0       0.0  NaN   0.0   0.0   0.0   0.0   \n",
       "                    2018-01-05    6.0       0.0  0.0   0.0   0.0   0.0   0.0   \n",
       "\n",
       "                                 max    month              product  day  \\\n",
       "description         day                                                   \n",
       "Biologische pompoen 2018-01-01  30.0  January  Biologische pompoen    1   \n",
       "                    2018-01-02  30.0  January  Biologische pompoen    2   \n",
       "                    2018-01-03   0.0  January  Biologische pompoen    3   \n",
       "                    2018-01-04   0.0  January  Biologische pompoen    4   \n",
       "                    2018-01-05   0.0  January  Biologische pompoen    5   \n",
       "\n",
       "                                dayofweek  purchase_price  std_sales_price  \\\n",
       "description         day                                                      \n",
       "Biologische pompoen 2018-01-01     Monday            1.75              2.5   \n",
       "                    2018-01-02    Tuesday            1.75              2.5   \n",
       "                    2018-01-03  Wednesday            2.50              2.5   \n",
       "                    2018-01-04   Thursday            2.50              2.5   \n",
       "                    2018-01-05     Friday            2.50              2.5   \n",
       "\n",
       "                                discount_2  prev_day_purchases      days  \\\n",
       "description         day                                                    \n",
       "Biologische pompoen 2018-01-01       900.0                 0.0  1/1/2018   \n",
       "                    2018-01-02       900.0                 8.0  2/1/2018   \n",
       "                    2018-01-03         0.0                 3.0  3/1/2018   \n",
       "                    2018-01-04         0.0                 3.0  4/1/2018   \n",
       "                    2018-01-05         0.0                 1.0  5/1/2018   \n",
       "\n",
       "                                on_discount  \n",
       "description         day                      \n",
       "Biologische pompoen 2018-01-01           15  \n",
       "                    2018-01-02           13  \n",
       "                    2018-01-03            8  \n",
       "                    2018-01-04           16  \n",
       "                    2018-01-05           16  "
      ],
      "text/html": "<div>\n<style scoped>\n    .dataframe tbody tr th:only-of-type {\n        vertical-align: middle;\n    }\n\n    .dataframe tbody tr th {\n        vertical-align: top;\n    }\n\n    .dataframe thead th {\n        text-align: right;\n    }\n</style>\n<table border=\"1\" class=\"dataframe\">\n  <thead>\n    <tr style=\"text-align: right;\">\n      <th></th>\n      <th></th>\n      <th>count</th>\n      <th>discount</th>\n      <th>std</th>\n      <th>min</th>\n      <th>25%</th>\n      <th>50%</th>\n      <th>75%</th>\n      <th>max</th>\n      <th>month</th>\n      <th>product</th>\n      <th>day</th>\n      <th>dayofweek</th>\n      <th>purchase_price</th>\n      <th>std_sales_price</th>\n      <th>discount_2</th>\n      <th>prev_day_purchases</th>\n      <th>days</th>\n      <th>on_discount</th>\n    </tr>\n    <tr>\n      <th>description</th>\n      <th>day</th>\n      <th></th>\n      <th></th>\n      <th></th>\n      <th></th>\n      <th></th>\n      <th></th>\n      <th></th>\n      <th></th>\n      <th></th>\n      <th></th>\n      <th></th>\n      <th></th>\n      <th></th>\n      <th></th>\n      <th></th>\n      <th></th>\n      <th></th>\n      <th></th>\n    </tr>\n  </thead>\n  <tbody>\n    <tr>\n      <th rowspan=\"5\" valign=\"top\">Biologische pompoen</th>\n      <th>2018-01-01</th>\n      <td>8.0</td>\n      <td>30.0</td>\n      <td>0.0</td>\n      <td>30.0</td>\n      <td>30.0</td>\n      <td>30.0</td>\n      <td>30.0</td>\n      <td>30.0</td>\n      <td>January</td>\n      <td>Biologische pompoen</td>\n      <td>1</td>\n      <td>Monday</td>\n      <td>1.75</td>\n      <td>2.5</td>\n      <td>900.0</td>\n      <td>0.0</td>\n      <td>1/1/2018</td>\n      <td>15</td>\n    </tr>\n    <tr>\n      <th>2018-01-02</th>\n      <td>3.0</td>\n      <td>30.0</td>\n      <td>0.0</td>\n      <td>30.0</td>\n      <td>30.0</td>\n      <td>30.0</td>\n      <td>30.0</td>\n      <td>30.0</td>\n      <td>January</td>\n      <td>Biologische pompoen</td>\n      <td>2</td>\n      <td>Tuesday</td>\n      <td>1.75</td>\n      <td>2.5</td>\n      <td>900.0</td>\n      <td>8.0</td>\n      <td>2/1/2018</td>\n      <td>13</td>\n    </tr>\n    <tr>\n      <th>2018-01-03</th>\n      <td>3.0</td>\n      <td>0.0</td>\n      <td>0.0</td>\n      <td>0.0</td>\n      <td>0.0</td>\n      <td>0.0</td>\n      <td>0.0</td>\n      <td>0.0</td>\n      <td>January</td>\n      <td>Biologische pompoen</td>\n      <td>3</td>\n      <td>Wednesday</td>\n      <td>2.50</td>\n      <td>2.5</td>\n      <td>0.0</td>\n      <td>3.0</td>\n      <td>3/1/2018</td>\n      <td>8</td>\n    </tr>\n    <tr>\n      <th>2018-01-04</th>\n      <td>1.0</td>\n      <td>0.0</td>\n      <td>NaN</td>\n      <td>0.0</td>\n      <td>0.0</td>\n      <td>0.0</td>\n      <td>0.0</td>\n      <td>0.0</td>\n      <td>January</td>\n      <td>Biologische pompoen</td>\n      <td>4</td>\n      <td>Thursday</td>\n      <td>2.50</td>\n      <td>2.5</td>\n      <td>0.0</td>\n      <td>3.0</td>\n      <td>4/1/2018</td>\n      <td>16</td>\n    </tr>\n    <tr>\n      <th>2018-01-05</th>\n      <td>6.0</td>\n      <td>0.0</td>\n      <td>0.0</td>\n      <td>0.0</td>\n      <td>0.0</td>\n      <td>0.0</td>\n      <td>0.0</td>\n      <td>0.0</td>\n      <td>January</td>\n      <td>Biologische pompoen</td>\n      <td>5</td>\n      <td>Friday</td>\n      <td>2.50</td>\n      <td>2.5</td>\n      <td>0.0</td>\n      <td>1.0</td>\n      <td>5/1/2018</td>\n      <td>16</td>\n    </tr>\n  </tbody>\n</table>\n</div>"
     },
     "metadata": {},
     "execution_count": 3
    }
   ],
   "source": [
    "prepared_transactions = prepare_data(filtered_transactions, discounts_per_day)\n",
    "prepared_transactions.head()"
   ]
  },
  {
   "cell_type": "code",
   "execution_count": 4,
   "metadata": {},
   "outputs": [
    {
     "output_type": "stream",
     "name": "stdout",
     "text": [
      "No valuable test data present\n"
     ]
    }
   ],
   "source": [
    "from sklearn.ensemble import RandomForestRegressor, VotingRegressor, StackingRegressor\n",
    "from sklearn.neural_network import MLPRegressor\n",
    "from sklearn.linear_model import Ridge, LinearRegression\n",
    "from sklearn.tree import DecisionTreeRegressor\n",
    "\n",
    "output_dct = prepare_demand_function(prepared_transactions)\n",
    "nn =  MLPRegressor(hidden_layer_sizes=(50,50))\n",
    "rf = RandomForestRegressor(n_estimators=200)\n",
    "rf2 = RandomForestRegressor(n_estimators=300)\n",
    "ridge = Ridge()\n",
    "voter = VotingRegressor([(\"nn\",nn), (\"df\",rf), (\"lin\", ridge), (\"rf2\", rf2)])\n",
    "model = fit_demand_function(output_dct,voter)"
   ]
  },
  {
   "cell_type": "code",
   "execution_count": 21,
   "metadata": {},
   "outputs": [
    {
     "output_type": "error",
     "ename": "AttributeError",
     "evalue": "'VotingRegressor' object has no attribute 'coef_'",
     "traceback": [
      "\u001b[1;31m---------------------------------------------------------------------------\u001b[0m",
      "\u001b[1;31mAttributeError\u001b[0m                            Traceback (most recent call last)",
      "\u001b[1;32m<ipython-input-21-76ba33396865>\u001b[0m in \u001b[0;36m<module>\u001b[1;34m\u001b[0m\n\u001b[1;32m----> 1\u001b[1;33m \u001b[0mpd\u001b[0m\u001b[1;33m.\u001b[0m\u001b[0mDataFrame\u001b[0m\u001b[1;33m(\u001b[0m\u001b[1;33m{\u001b[0m\u001b[1;34m\"predictor\"\u001b[0m\u001b[1;33m:\u001b[0m\u001b[0moutput_dct\u001b[0m\u001b[1;33m[\u001b[0m\u001b[1;34m\"train\"\u001b[0m\u001b[1;33m]\u001b[0m\u001b[1;33m[\u001b[0m\u001b[1;36m0\u001b[0m\u001b[1;33m]\u001b[0m\u001b[1;33m.\u001b[0m\u001b[0mcolumns\u001b[0m\u001b[1;33m,\u001b[0m \u001b[1;34m\"coef\"\u001b[0m\u001b[1;33m:\u001b[0m\u001b[0mmodel\u001b[0m\u001b[1;33m.\u001b[0m\u001b[0mcoef_\u001b[0m\u001b[1;33m}\u001b[0m\u001b[1;33m)\u001b[0m\u001b[1;33m\u001b[0m\u001b[1;33m\u001b[0m\u001b[0m\n\u001b[0m",
      "\u001b[1;31mAttributeError\u001b[0m: 'VotingRegressor' object has no attribute 'coef_'"
     ]
    }
   ],
   "source": [
    "pd.DataFrame({\"predictor\":output_dct[\"train\"][0].columns, \"coef\":model.coef_})"
   ]
  },
  {
   "cell_type": "code",
   "execution_count": 5,
   "metadata": {},
   "outputs": [],
   "source": [
    "prepared_transactions.dropna(inplace=True)\n",
    "one_row = prepared_transactions#[prepared_transactions[\"product\"] == \"Biologische knoflook\"].tail(500)\n",
    "pred_columns = [\"discount\", \"discount_2\", \"purchase_price\", \"prev_day_purchases\", \"on_discount\"]\n",
    "target_col = \"count\"\n",
    "\n",
    "\n",
    "df_dayofweek = pd.DataFrame(output_dct[\"weekday_enc\"].transform(one_row[[\"dayofweek\"]]), columns=output_dct[\"weekday_enc\"].get_feature_names())\n",
    "\n",
    "df_month = pd.DataFrame(output_dct[\"months_enc\"].transform(one_row[[\"month\"]]), columns=output_dct[\"months_enc\"].get_feature_names())\n",
    "\n",
    "#df_product = pd.DataFrame(output_dct[\"product_enc\"].transform(one_row[[\"product\"]]), columns=output_dct[\"product_enc\"].get_feature_names())\n",
    "\n",
    "X_pred = pd.concat([pd.DataFrame(one_row[pred_columns].values, columns=one_row[pred_columns].columns), df_dayofweek, df_month], axis=1) #add df_product back\n",
    "\n",
    "one_row[\"predicted\"] = model.predict(X_pred)"
   ]
  },
  {
   "cell_type": "code",
   "execution_count": 6,
   "metadata": {},
   "outputs": [
    {
     "output_type": "display_data",
     "data": {
      "application/vnd.plotly.v1+json": {
       "config": {
        "plotlyServerURL": "https://plot.ly"
       },
       "data": [
        {
         "hovertemplate": "day=%{x}<br>count=%{y}<extra></extra>",
         "legendgroup": "",
         "line": {
          "color": "#636efa",
          "dash": "solid"
         },
         "mode": "lines",
         "name": "",
         "orientation": "v",
         "showlegend": false,
         "type": "scatter",
         "x": [
          1,
          2,
          3,
          5,
          6,
          7,
          8,
          9,
          10,
          11,
          12,
          13,
          14,
          15,
          16,
          17,
          18,
          19,
          20,
          21,
          22,
          24,
          25,
          26,
          27,
          28,
          29,
          30,
          31,
          32,
          33,
          34,
          35,
          36,
          37,
          38,
          40,
          42,
          43,
          44,
          45,
          46,
          48,
          49,
          50,
          51,
          52,
          53,
          54,
          55,
          56,
          57,
          58,
          61,
          62,
          63,
          64,
          65,
          66,
          67,
          68,
          69,
          70,
          72,
          73,
          74,
          75,
          76,
          77,
          78,
          79,
          81,
          82,
          83,
          84,
          85,
          86,
          87,
          88,
          89,
          90,
          91,
          92,
          93,
          95,
          97,
          98,
          99,
          100,
          102,
          104,
          105,
          106,
          107,
          108,
          109,
          110,
          111,
          112,
          113,
          115,
          116,
          117,
          118,
          119,
          120,
          121,
          122,
          125,
          126,
          128,
          129,
          130,
          131,
          132,
          133,
          134,
          135,
          136,
          137,
          138,
          139,
          140,
          141,
          143,
          144,
          145,
          146,
          147,
          149,
          150,
          151,
          152,
          153,
          154,
          155,
          156,
          157,
          158,
          159,
          160,
          161,
          162,
          165,
          166,
          167,
          168,
          169,
          170,
          171,
          172,
          173,
          174,
          175,
          176,
          177,
          178,
          180,
          181,
          182,
          183,
          185,
          186,
          187,
          188,
          189,
          190,
          191,
          192,
          193,
          194,
          196,
          197,
          198,
          199,
          201,
          202,
          203,
          204,
          205,
          206,
          207,
          208,
          209,
          210,
          211,
          212,
          214,
          215,
          216,
          218,
          219,
          220,
          221,
          222,
          223,
          224,
          225,
          226,
          228,
          229,
          230,
          231,
          232,
          233,
          234,
          235,
          236,
          237,
          239,
          240,
          242,
          243,
          244,
          246,
          247,
          248,
          250,
          251,
          252,
          253,
          255,
          256,
          259,
          260,
          261,
          262,
          263,
          264,
          265,
          266,
          268,
          269,
          270,
          271,
          272,
          273,
          274,
          275,
          276,
          277,
          281,
          282,
          284,
          285,
          291,
          292,
          293,
          294,
          295,
          296,
          297,
          298,
          299,
          300,
          304,
          305,
          306,
          308,
          309,
          310,
          311,
          312,
          314,
          315,
          316,
          317,
          319,
          320,
          321,
          322,
          324,
          325,
          326,
          327,
          329,
          330,
          332,
          333,
          334,
          335,
          336,
          337,
          338,
          339,
          341,
          342,
          344,
          345,
          346,
          347,
          348,
          349,
          351,
          352,
          353,
          354,
          355,
          357,
          358,
          359,
          360,
          361,
          362,
          363,
          364
         ],
         "xaxis": "x",
         "y": [
          8,
          3,
          3,
          6,
          5,
          6,
          2,
          6,
          3,
          6,
          8,
          4,
          4,
          6,
          2,
          9,
          4,
          9,
          11,
          8,
          3,
          6,
          4,
          6,
          5,
          6,
          6,
          3,
          4,
          3,
          8,
          4,
          4,
          7,
          4,
          4,
          3,
          4,
          3,
          3,
          2,
          3,
          4,
          5,
          2,
          6,
          8,
          11,
          4,
          7,
          5,
          4,
          3,
          4,
          9,
          5,
          6,
          5,
          5,
          4,
          3,
          2,
          3,
          7,
          5,
          3,
          2,
          7,
          6,
          3,
          7,
          3,
          2,
          2,
          5,
          5,
          4,
          3,
          9,
          4,
          6,
          2,
          8,
          3,
          4,
          7,
          3,
          5,
          5,
          4,
          4,
          5,
          6,
          4,
          4,
          4,
          3,
          3,
          3,
          5,
          8,
          4,
          3,
          7,
          4,
          3,
          2,
          2,
          2,
          3,
          2,
          2,
          2,
          6,
          3,
          4,
          7,
          3,
          4,
          9,
          13,
          18,
          8,
          6,
          3,
          2,
          2,
          4,
          3,
          9,
          3,
          4,
          3,
          3,
          7,
          4,
          2,
          6,
          2,
          4,
          3,
          2,
          4,
          2,
          2,
          3,
          6,
          5,
          5,
          3,
          3,
          8,
          3,
          3,
          2,
          2,
          2,
          3,
          9,
          10,
          5,
          5,
          2,
          3,
          10,
          2,
          6,
          3,
          3,
          4,
          2,
          10,
          5,
          2,
          3,
          2,
          4,
          4,
          4,
          3,
          3,
          2,
          5,
          6,
          10,
          2,
          2,
          4,
          5,
          4,
          3,
          10,
          4,
          4,
          3,
          8,
          2,
          5,
          3,
          5,
          4,
          2,
          4,
          7,
          9,
          7,
          3,
          6,
          7,
          3,
          4,
          5,
          5,
          6,
          5,
          6,
          4,
          3,
          2,
          8,
          3,
          3,
          6,
          3,
          3,
          5,
          6,
          4,
          4,
          2,
          2,
          5,
          8,
          3,
          2,
          3,
          2,
          3,
          7,
          7,
          7,
          6,
          5,
          7,
          3,
          5,
          3,
          4,
          3,
          3,
          4,
          3,
          3,
          7,
          6,
          6,
          2,
          2,
          4,
          2,
          6,
          5,
          6,
          3,
          3,
          3,
          7,
          6,
          2,
          3,
          3,
          4,
          3,
          4,
          5,
          4,
          7,
          5,
          3,
          4,
          8,
          6,
          6,
          2,
          2,
          6,
          6,
          3,
          6,
          10,
          5,
          2,
          4,
          4,
          3,
          2,
          7,
          4,
          7,
          4,
          5,
          7,
          3,
          5,
          5,
          4
         ],
         "yaxis": "y"
        },
        {
         "mode": "lines",
         "type": "scatter",
         "x": [
          1,
          2,
          3,
          5,
          6,
          7,
          8,
          9,
          10,
          11,
          12,
          13,
          14,
          15,
          16,
          17,
          18,
          19,
          20,
          21,
          22,
          24,
          25,
          26,
          27,
          28,
          29,
          30,
          31,
          32,
          33,
          34,
          35,
          36,
          37,
          38,
          40,
          42,
          43,
          44,
          45,
          46,
          48,
          49,
          50,
          51,
          52,
          53,
          54,
          55,
          56,
          57,
          58,
          61,
          62,
          63,
          64,
          65,
          66,
          67,
          68,
          69,
          70,
          72,
          73,
          74,
          75,
          76,
          77,
          78,
          79,
          81,
          82,
          83,
          84,
          85,
          86,
          87,
          88,
          89,
          90,
          91,
          92,
          93,
          95,
          97,
          98,
          99,
          100,
          102,
          104,
          105,
          106,
          107,
          108,
          109,
          110,
          111,
          112,
          113,
          115,
          116,
          117,
          118,
          119,
          120,
          121,
          122,
          125,
          126,
          128,
          129,
          130,
          131,
          132,
          133,
          134,
          135,
          136,
          137,
          138,
          139,
          140,
          141,
          143,
          144,
          145,
          146,
          147,
          149,
          150,
          151,
          152,
          153,
          154,
          155,
          156,
          157,
          158,
          159,
          160,
          161,
          162,
          165,
          166,
          167,
          168,
          169,
          170,
          171,
          172,
          173,
          174,
          175,
          176,
          177,
          178,
          180,
          181,
          182,
          183,
          185,
          186,
          187,
          188,
          189,
          190,
          191,
          192,
          193,
          194,
          196,
          197,
          198,
          199,
          201,
          202,
          203,
          204,
          205,
          206,
          207,
          208,
          209,
          210,
          211,
          212,
          214,
          215,
          216,
          218,
          219,
          220,
          221,
          222,
          223,
          224,
          225,
          226,
          228,
          229,
          230,
          231,
          232,
          233,
          234,
          235,
          236,
          237,
          239,
          240,
          242,
          243,
          244,
          246,
          247,
          248,
          250,
          251,
          252,
          253,
          255,
          256,
          259,
          260,
          261,
          262,
          263,
          264,
          265,
          266,
          268,
          269,
          270,
          271,
          272,
          273,
          274,
          275,
          276,
          277,
          281,
          282,
          284,
          285,
          291,
          292,
          293,
          294,
          295,
          296,
          297,
          298,
          299,
          300,
          304,
          305,
          306,
          308,
          309,
          310,
          311,
          312,
          314,
          315,
          316,
          317,
          319,
          320,
          321,
          322,
          324,
          325,
          326,
          327,
          329,
          330,
          332,
          333,
          334,
          335,
          336,
          337,
          338,
          339,
          341,
          342,
          344,
          345,
          346,
          347,
          348,
          349,
          351,
          352,
          353,
          354,
          355,
          357,
          358,
          359,
          360,
          361,
          362,
          363,
          364
         ],
         "y": [
          6.077812419745642,
          4.956007088227878,
          4.127080745249973,
          4.803311968781397,
          5.085913924678019,
          5.598931121383787,
          3.6535244050195765,
          5.063743399314138,
          4.251962540167557,
          4.933088879316268,
          5.56663669264565,
          4.67141080353446,
          4.905442489519,
          6.230067997721372,
          4.684024085993932,
          6.491043890739685,
          6.073494256579949,
          6.702804074477831,
          8.392475786085747,
          7.554382741454967,
          3.882954120904392,
          5.1544448326226595,
          4.557412919102532,
          5.097051951245842,
          5.085913924678019,
          5.289231513731156,
          6.25983396065125,
          4.517832524824642,
          5.141939321035974,
          4.924767522324385,
          6.238469613705122,
          5.2140358475457145,
          4.312114178317095,
          4.767189933842573,
          4.37494129975356,
          4.244019429196285,
          3.745779172085334,
          4.288233276953182,
          3.8696476187611704,
          4.318488239562468,
          3.7174544633004736,
          3.979888404222059,
          4.545280240212021,
          4.797075144947429,
          3.613144133956574,
          4.840933123593913,
          5.671610835524271,
          6.450726928480401,
          4.425624544458352,
          5.691958305307801,
          4.956081885437945,
          4.018446770987009,
          3.9456177716341814,
          5.284768575363443,
          6.3657859723401415,
          4.782719107950534,
          4.751001475230154,
          4.588812258509291,
          4.817418692671063,
          4.2388793277860355,
          3.531549318063808,
          4.3107998610885545,
          4.241168802900939,
          5.35304261922113,
          4.777893817994579,
          4.222634079537327,
          3.155304212022811,
          4.913438424636182,
          5.108757558345366,
          4.0877349345615395,
          5.3609871769588,
          4.015925403833221,
          3.155304212022811,
          4.913438424636182,
          4.719957447452363,
          4.535020429843732,
          4.424361671651462,
          4.149889891108784,
          5.635605226666017,
          4.133573321614514,
          5.322669194887621,
          5.063458108613213,
          6.576149235253125,
          3.938245607688274,
          4.131504519387334,
          5.515190667494312,
          4.021883800890653,
          4.351909946926666,
          4.5160378118730735,
          4.2642438740851185,
          4.572296679403024,
          4.449667869729477,
          4.579224220412812,
          4.240896088653599,
          4.3334457196299425,
          4.157550127003207,
          3.5286480566078047,
          4.328366556241556,
          3.9179861966971354,
          4.497916913953129,
          5.607368415800948,
          4.275065085422838,
          3.593802241356115,
          5.696723648586671,
          4.021883800890653,
          3.8718109576973356,
          4.124812590590775,
          4.2663715430791775,
          3.4510124029136744,
          3.4368162945412477,
          3.3575542532054357,
          3.1077541666868003,
          2.8460287873941015,
          3.524225443970576,
          4.038378545855656,
          3.7568879351211644,
          6.525997306699924,
          4.739618288801532,
          5.056725909335498,
          6.190167715495539,
          8.754904382524376,
          11.373541289256133,
          9.343697989322596,
          5.029382393970105,
          3.434387958404363,
          3.021581882137278,
          3.524225443970576,
          3.8866029378021523,
          3.5325453136815166,
          5.546880421353525,
          3.6080408736077327,
          3.7245529706694054,
          5.009678077525917,
          4.366666257930696,
          4.971007925377828,
          3.6096461626564422,
          2.9867647879505217,
          3.786147627506364,
          3.0661068725436658,
          3.072188686875774,
          4.044083605512364,
          4.025170049368548,
          3.4010967951132645,
          2.901025835523233,
          3.072188686875774,
          3.968267150636745,
          4.025170049368548,
          4.137267745314733,
          4.171841297003583,
          3.8452842911283494,
          3.666778932166726,
          5.103904999868563,
          4.32066649294445,
          4.062940032497533,
          2.976361521020681,
          3.1324689210626016,
          3.786147627506364,
          3.172979950566404,
          5.653258188420512,
          7.857247118585913,
          4.473140709984346,
          4.723178889926064,
          3.312434091449649,
          3.343888422082314,
          6.279167553543936,
          3.7924894811764847,
          4.406439738967026,
          3.507666506736534,
          3.6558576015703292,
          3.8171685640151654,
          3.0314071973612693,
          6.150940583929804,
          4.473140709984346,
          3.2828989529729378,
          3.6202043403364,
          3.223936779353386,
          4.554340839313785,
          4.473036125794273,
          4.14036844161585,
          3.736166129805148,
          3.81746636969329,
          3.6846304805814256,
          4.590387368198223,
          5.581256981281296,
          6.254829908833481,
          4.26890234377217,
          3.456480101019354,
          4.289570223737983,
          4.043400256317421,
          4.737246645824053,
          3.9181169412114034,
          6.154518612663738,
          4.413593997289594,
          4.237521626317975,
          4.043400256317421,
          5.8317951080374275,
          3.6146146742847414,
          4.365362156760117,
          4.378443687702991,
          4.610403577016575,
          4.158618354513421,
          4.445723911891613,
          4.38483228471291,
          5.488043260289409,
          6.318537100573981,
          6.662323236308067,
          5.130482410685419,
          5.967630189337847,
          6.585455389765508,
          3.7448277061808324,
          4.6029265934235015,
          4.610403577016575,
          4.41696510780913,
          5.068526633239994,
          4.312937329693233,
          4.820317710065632,
          4.451840382549965,
          3.36570608008193,
          3.807662203274596,
          5.186555673682308,
          3.629910391624655,
          3.7732756743772247,
          4.424949674842751,
          4.043281367453404,
          3.7669696882561365,
          4.510882699100222,
          5.024277800289801,
          4.005052326680827,
          3.6672493945095037,
          3.945685515034757,
          3.3522678490375393,
          4.297328610631075,
          5.586280262794723,
          3.710762411322446,
          3.0711606758026266,
          4.037537288973313,
          3.471288583790795,
          4.059410286565954,
          5.471306275845486,
          5.844210696029103,
          5.682589774742938,
          4.996423032171496,
          5.00039185475003,
          5.4451032230363445,
          4.100721271179561,
          4.7223870740149145,
          4.029386802415889,
          4.893025325693848,
          4.121166972236004,
          3.9460518656779646,
          4.688370912491092,
          4.280497727969736,
          4.20568572772692,
          4.9299506268635485,
          5.6475957383516,
          5.222405450449872,
          3.422241405577933,
          3.089876974055958,
          4.362753226504809,
          3.198702498915495,
          4.567315305785182,
          4.627353490549501,
          4.46130928425652,
          3.9742688106597734,
          3.7024489441291086,
          3.4806925069605588,
          5.152083987630763,
          4.659140902086661,
          3.5177332102568672,
          4.2070993902705425,
          3.89672767463866,
          4.297636034599216,
          3.8204227704736184,
          3.9311165660731895,
          3.915525039298669,
          4.016806117347837,
          4.830350371991484,
          4.445567648201948,
          3.719989754713627,
          3.581626654624348,
          6.006174451508766,
          5.225655516203045,
          4.818990850362779,
          3.9353139643445525,
          4.033338074066677,
          4.603011933486832,
          5.716133278911821,
          4.124955515839731,
          5.331192300696099,
          6.363655489412069,
          4.746328864805877,
          3.767487821543624,
          4.782943385231582,
          4.542871656241596,
          4.2466103494793686,
          3.866874213083917,
          5.3108950773642825,
          4.793264463293834,
          5.465040486032946,
          4.365682415493269,
          4.6384335043792975,
          5.6867113004228385,
          4.281144013908499,
          4.47709375611574,
          5.364903011690877,
          4.750774708318582
         ]
        }
       ],
       "layout": {
        "legend": {
         "tracegroupgap": 0
        },
        "margin": {
         "t": 60
        },
        "template": {
         "data": {
          "bar": [
           {
            "error_x": {
             "color": "#2a3f5f"
            },
            "error_y": {
             "color": "#2a3f5f"
            },
            "marker": {
             "line": {
              "color": "#E5ECF6",
              "width": 0.5
             }
            },
            "type": "bar"
           }
          ],
          "barpolar": [
           {
            "marker": {
             "line": {
              "color": "#E5ECF6",
              "width": 0.5
             }
            },
            "type": "barpolar"
           }
          ],
          "carpet": [
           {
            "aaxis": {
             "endlinecolor": "#2a3f5f",
             "gridcolor": "white",
             "linecolor": "white",
             "minorgridcolor": "white",
             "startlinecolor": "#2a3f5f"
            },
            "baxis": {
             "endlinecolor": "#2a3f5f",
             "gridcolor": "white",
             "linecolor": "white",
             "minorgridcolor": "white",
             "startlinecolor": "#2a3f5f"
            },
            "type": "carpet"
           }
          ],
          "choropleth": [
           {
            "colorbar": {
             "outlinewidth": 0,
             "ticks": ""
            },
            "type": "choropleth"
           }
          ],
          "contour": [
           {
            "colorbar": {
             "outlinewidth": 0,
             "ticks": ""
            },
            "colorscale": [
             [
              0,
              "#0d0887"
             ],
             [
              0.1111111111111111,
              "#46039f"
             ],
             [
              0.2222222222222222,
              "#7201a8"
             ],
             [
              0.3333333333333333,
              "#9c179e"
             ],
             [
              0.4444444444444444,
              "#bd3786"
             ],
             [
              0.5555555555555556,
              "#d8576b"
             ],
             [
              0.6666666666666666,
              "#ed7953"
             ],
             [
              0.7777777777777778,
              "#fb9f3a"
             ],
             [
              0.8888888888888888,
              "#fdca26"
             ],
             [
              1,
              "#f0f921"
             ]
            ],
            "type": "contour"
           }
          ],
          "contourcarpet": [
           {
            "colorbar": {
             "outlinewidth": 0,
             "ticks": ""
            },
            "type": "contourcarpet"
           }
          ],
          "heatmap": [
           {
            "colorbar": {
             "outlinewidth": 0,
             "ticks": ""
            },
            "colorscale": [
             [
              0,
              "#0d0887"
             ],
             [
              0.1111111111111111,
              "#46039f"
             ],
             [
              0.2222222222222222,
              "#7201a8"
             ],
             [
              0.3333333333333333,
              "#9c179e"
             ],
             [
              0.4444444444444444,
              "#bd3786"
             ],
             [
              0.5555555555555556,
              "#d8576b"
             ],
             [
              0.6666666666666666,
              "#ed7953"
             ],
             [
              0.7777777777777778,
              "#fb9f3a"
             ],
             [
              0.8888888888888888,
              "#fdca26"
             ],
             [
              1,
              "#f0f921"
             ]
            ],
            "type": "heatmap"
           }
          ],
          "heatmapgl": [
           {
            "colorbar": {
             "outlinewidth": 0,
             "ticks": ""
            },
            "colorscale": [
             [
              0,
              "#0d0887"
             ],
             [
              0.1111111111111111,
              "#46039f"
             ],
             [
              0.2222222222222222,
              "#7201a8"
             ],
             [
              0.3333333333333333,
              "#9c179e"
             ],
             [
              0.4444444444444444,
              "#bd3786"
             ],
             [
              0.5555555555555556,
              "#d8576b"
             ],
             [
              0.6666666666666666,
              "#ed7953"
             ],
             [
              0.7777777777777778,
              "#fb9f3a"
             ],
             [
              0.8888888888888888,
              "#fdca26"
             ],
             [
              1,
              "#f0f921"
             ]
            ],
            "type": "heatmapgl"
           }
          ],
          "histogram": [
           {
            "marker": {
             "colorbar": {
              "outlinewidth": 0,
              "ticks": ""
             }
            },
            "type": "histogram"
           }
          ],
          "histogram2d": [
           {
            "colorbar": {
             "outlinewidth": 0,
             "ticks": ""
            },
            "colorscale": [
             [
              0,
              "#0d0887"
             ],
             [
              0.1111111111111111,
              "#46039f"
             ],
             [
              0.2222222222222222,
              "#7201a8"
             ],
             [
              0.3333333333333333,
              "#9c179e"
             ],
             [
              0.4444444444444444,
              "#bd3786"
             ],
             [
              0.5555555555555556,
              "#d8576b"
             ],
             [
              0.6666666666666666,
              "#ed7953"
             ],
             [
              0.7777777777777778,
              "#fb9f3a"
             ],
             [
              0.8888888888888888,
              "#fdca26"
             ],
             [
              1,
              "#f0f921"
             ]
            ],
            "type": "histogram2d"
           }
          ],
          "histogram2dcontour": [
           {
            "colorbar": {
             "outlinewidth": 0,
             "ticks": ""
            },
            "colorscale": [
             [
              0,
              "#0d0887"
             ],
             [
              0.1111111111111111,
              "#46039f"
             ],
             [
              0.2222222222222222,
              "#7201a8"
             ],
             [
              0.3333333333333333,
              "#9c179e"
             ],
             [
              0.4444444444444444,
              "#bd3786"
             ],
             [
              0.5555555555555556,
              "#d8576b"
             ],
             [
              0.6666666666666666,
              "#ed7953"
             ],
             [
              0.7777777777777778,
              "#fb9f3a"
             ],
             [
              0.8888888888888888,
              "#fdca26"
             ],
             [
              1,
              "#f0f921"
             ]
            ],
            "type": "histogram2dcontour"
           }
          ],
          "mesh3d": [
           {
            "colorbar": {
             "outlinewidth": 0,
             "ticks": ""
            },
            "type": "mesh3d"
           }
          ],
          "parcoords": [
           {
            "line": {
             "colorbar": {
              "outlinewidth": 0,
              "ticks": ""
             }
            },
            "type": "parcoords"
           }
          ],
          "pie": [
           {
            "automargin": true,
            "type": "pie"
           }
          ],
          "scatter": [
           {
            "marker": {
             "colorbar": {
              "outlinewidth": 0,
              "ticks": ""
             }
            },
            "type": "scatter"
           }
          ],
          "scatter3d": [
           {
            "line": {
             "colorbar": {
              "outlinewidth": 0,
              "ticks": ""
             }
            },
            "marker": {
             "colorbar": {
              "outlinewidth": 0,
              "ticks": ""
             }
            },
            "type": "scatter3d"
           }
          ],
          "scattercarpet": [
           {
            "marker": {
             "colorbar": {
              "outlinewidth": 0,
              "ticks": ""
             }
            },
            "type": "scattercarpet"
           }
          ],
          "scattergeo": [
           {
            "marker": {
             "colorbar": {
              "outlinewidth": 0,
              "ticks": ""
             }
            },
            "type": "scattergeo"
           }
          ],
          "scattergl": [
           {
            "marker": {
             "colorbar": {
              "outlinewidth": 0,
              "ticks": ""
             }
            },
            "type": "scattergl"
           }
          ],
          "scattermapbox": [
           {
            "marker": {
             "colorbar": {
              "outlinewidth": 0,
              "ticks": ""
             }
            },
            "type": "scattermapbox"
           }
          ],
          "scatterpolar": [
           {
            "marker": {
             "colorbar": {
              "outlinewidth": 0,
              "ticks": ""
             }
            },
            "type": "scatterpolar"
           }
          ],
          "scatterpolargl": [
           {
            "marker": {
             "colorbar": {
              "outlinewidth": 0,
              "ticks": ""
             }
            },
            "type": "scatterpolargl"
           }
          ],
          "scatterternary": [
           {
            "marker": {
             "colorbar": {
              "outlinewidth": 0,
              "ticks": ""
             }
            },
            "type": "scatterternary"
           }
          ],
          "surface": [
           {
            "colorbar": {
             "outlinewidth": 0,
             "ticks": ""
            },
            "colorscale": [
             [
              0,
              "#0d0887"
             ],
             [
              0.1111111111111111,
              "#46039f"
             ],
             [
              0.2222222222222222,
              "#7201a8"
             ],
             [
              0.3333333333333333,
              "#9c179e"
             ],
             [
              0.4444444444444444,
              "#bd3786"
             ],
             [
              0.5555555555555556,
              "#d8576b"
             ],
             [
              0.6666666666666666,
              "#ed7953"
             ],
             [
              0.7777777777777778,
              "#fb9f3a"
             ],
             [
              0.8888888888888888,
              "#fdca26"
             ],
             [
              1,
              "#f0f921"
             ]
            ],
            "type": "surface"
           }
          ],
          "table": [
           {
            "cells": {
             "fill": {
              "color": "#EBF0F8"
             },
             "line": {
              "color": "white"
             }
            },
            "header": {
             "fill": {
              "color": "#C8D4E3"
             },
             "line": {
              "color": "white"
             }
            },
            "type": "table"
           }
          ]
         },
         "layout": {
          "annotationdefaults": {
           "arrowcolor": "#2a3f5f",
           "arrowhead": 0,
           "arrowwidth": 1
          },
          "coloraxis": {
           "colorbar": {
            "outlinewidth": 0,
            "ticks": ""
           }
          },
          "colorscale": {
           "diverging": [
            [
             0,
             "#8e0152"
            ],
            [
             0.1,
             "#c51b7d"
            ],
            [
             0.2,
             "#de77ae"
            ],
            [
             0.3,
             "#f1b6da"
            ],
            [
             0.4,
             "#fde0ef"
            ],
            [
             0.5,
             "#f7f7f7"
            ],
            [
             0.6,
             "#e6f5d0"
            ],
            [
             0.7,
             "#b8e186"
            ],
            [
             0.8,
             "#7fbc41"
            ],
            [
             0.9,
             "#4d9221"
            ],
            [
             1,
             "#276419"
            ]
           ],
           "sequential": [
            [
             0,
             "#0d0887"
            ],
            [
             0.1111111111111111,
             "#46039f"
            ],
            [
             0.2222222222222222,
             "#7201a8"
            ],
            [
             0.3333333333333333,
             "#9c179e"
            ],
            [
             0.4444444444444444,
             "#bd3786"
            ],
            [
             0.5555555555555556,
             "#d8576b"
            ],
            [
             0.6666666666666666,
             "#ed7953"
            ],
            [
             0.7777777777777778,
             "#fb9f3a"
            ],
            [
             0.8888888888888888,
             "#fdca26"
            ],
            [
             1,
             "#f0f921"
            ]
           ],
           "sequentialminus": [
            [
             0,
             "#0d0887"
            ],
            [
             0.1111111111111111,
             "#46039f"
            ],
            [
             0.2222222222222222,
             "#7201a8"
            ],
            [
             0.3333333333333333,
             "#9c179e"
            ],
            [
             0.4444444444444444,
             "#bd3786"
            ],
            [
             0.5555555555555556,
             "#d8576b"
            ],
            [
             0.6666666666666666,
             "#ed7953"
            ],
            [
             0.7777777777777778,
             "#fb9f3a"
            ],
            [
             0.8888888888888888,
             "#fdca26"
            ],
            [
             1,
             "#f0f921"
            ]
           ]
          },
          "colorway": [
           "#636efa",
           "#EF553B",
           "#00cc96",
           "#ab63fa",
           "#FFA15A",
           "#19d3f3",
           "#FF6692",
           "#B6E880",
           "#FF97FF",
           "#FECB52"
          ],
          "font": {
           "color": "#2a3f5f"
          },
          "geo": {
           "bgcolor": "white",
           "lakecolor": "white",
           "landcolor": "#E5ECF6",
           "showlakes": true,
           "showland": true,
           "subunitcolor": "white"
          },
          "hoverlabel": {
           "align": "left"
          },
          "hovermode": "closest",
          "mapbox": {
           "style": "light"
          },
          "paper_bgcolor": "white",
          "plot_bgcolor": "#E5ECF6",
          "polar": {
           "angularaxis": {
            "gridcolor": "white",
            "linecolor": "white",
            "ticks": ""
           },
           "bgcolor": "#E5ECF6",
           "radialaxis": {
            "gridcolor": "white",
            "linecolor": "white",
            "ticks": ""
           }
          },
          "scene": {
           "xaxis": {
            "backgroundcolor": "#E5ECF6",
            "gridcolor": "white",
            "gridwidth": 2,
            "linecolor": "white",
            "showbackground": true,
            "ticks": "",
            "zerolinecolor": "white"
           },
           "yaxis": {
            "backgroundcolor": "#E5ECF6",
            "gridcolor": "white",
            "gridwidth": 2,
            "linecolor": "white",
            "showbackground": true,
            "ticks": "",
            "zerolinecolor": "white"
           },
           "zaxis": {
            "backgroundcolor": "#E5ECF6",
            "gridcolor": "white",
            "gridwidth": 2,
            "linecolor": "white",
            "showbackground": true,
            "ticks": "",
            "zerolinecolor": "white"
           }
          },
          "shapedefaults": {
           "line": {
            "color": "#2a3f5f"
           }
          },
          "ternary": {
           "aaxis": {
            "gridcolor": "white",
            "linecolor": "white",
            "ticks": ""
           },
           "baxis": {
            "gridcolor": "white",
            "linecolor": "white",
            "ticks": ""
           },
           "bgcolor": "#E5ECF6",
           "caxis": {
            "gridcolor": "white",
            "linecolor": "white",
            "ticks": ""
           }
          },
          "title": {
           "x": 0.05
          },
          "xaxis": {
           "automargin": true,
           "gridcolor": "white",
           "linecolor": "white",
           "ticks": "",
           "title": {
            "standoff": 15
           },
           "zerolinecolor": "white",
           "zerolinewidth": 2
          },
          "yaxis": {
           "automargin": true,
           "gridcolor": "white",
           "linecolor": "white",
           "ticks": "",
           "title": {
            "standoff": 15
           },
           "zerolinecolor": "white",
           "zerolinewidth": 2
          }
         }
        },
        "xaxis": {
         "anchor": "y",
         "domain": [
          0,
          1
         ],
         "title": {
          "text": "day"
         }
        },
        "yaxis": {
         "anchor": "x",
         "domain": [
          0,
          1
         ],
         "title": {
          "text": "count"
         }
        }
       }
      }
     },
     "metadata": {}
    }
   ],
   "source": [
    "import plotly.express as px\n",
    "fig = px.line(one_row, x=\"day\", y=\"count\")\n",
    "fig.add_scatter(x=one_row[\"day\"], y=one_row[\"predicted\"], mode=\"lines\")\n",
    "fig.show()"
   ]
  },
  {
   "cell_type": "code",
   "execution_count": 47,
   "metadata": {},
   "outputs": [
    {
     "output_type": "display_data",
     "data": {
      "application/vnd.plotly.v1+json": {
       "config": {
        "plotlyServerURL": "https://plot.ly"
       },
       "data": [
        {
         "hovertemplate": "purchase_price=%{x}<br>count=%{y}<extra></extra>",
         "legendgroup": "",
         "marker": {
          "color": "#636efa",
          "symbol": "circle"
         },
         "mode": "markers",
         "name": "",
         "orientation": "v",
         "showlegend": false,
         "type": "scatter",
         "x": [
          0.48,
          0.69,
          0.66,
          0.69,
          0.48,
          0.69,
          0.69,
          0.69,
          0.69,
          0.6900000000000001,
          0.69,
          0.6900000000000001,
          0.69,
          0.69,
          0.69,
          0.69,
          0.6900000000000001,
          0.69,
          0.69,
          0.69,
          0.69,
          0.69,
          0.69,
          0.69,
          0.69,
          0.69,
          0.48,
          0.69,
          0.69,
          0.69,
          0.69,
          0.6549999999999999,
          0.69,
          0.69,
          0.69,
          0.69,
          0.69,
          0.69,
          0.6066666666666666,
          0.59,
          0.59,
          0.59,
          0.59,
          0.59,
          0.59,
          0.6233333333333332,
          0.69,
          0.69,
          0.48,
          0.69,
          0.69,
          0.69,
          0.66,
          0.69,
          0.69,
          0.69,
          0.69,
          0.69,
          0.69,
          0.69,
          0.69,
          0.69,
          0.6899999999999998,
          0.69,
          0.69,
          0.69,
          0.69,
          0.69,
          0.69,
          0.69,
          0.69,
          0.69,
          0.69,
          0.69,
          0.69,
          0.69,
          0.69,
          0.69,
          0.69,
          0.69,
          0.66,
          0.69,
          0.69,
          0.69,
          0.6899999999999998,
          0.69,
          0.69,
          0.69,
          0.69,
          0.69,
          0.69,
          0.69,
          0.69,
          0.69,
          0.69,
          0.69,
          0.69,
          0.6900000000000001,
          0.69,
          0.69,
          0.69,
          0.6675000000000001,
          0.48,
          0.69,
          0.69,
          0.69,
          0.66,
          0.69,
          0.69,
          0.69,
          0.69,
          0.69,
          0.69,
          0.69,
          0.69,
          0.69,
          0.69,
          0.69,
          0.69,
          0.69,
          0.6900000000000001,
          0.69,
          0.6900000000000001,
          0.69,
          0.69,
          0.69,
          0.69,
          0.6899999999999998,
          0.69,
          0.69,
          0.48000000000000004,
          0.69,
          0.69,
          0.66,
          0.69,
          0.6900000000000001,
          0.69,
          0.69,
          0.69,
          0.69,
          0.69,
          0.69,
          0.69,
          0.69,
          0.6900000000000001,
          0.69,
          0.69,
          0.69,
          0.69,
          0.69,
          0.5033333333333333,
          0.48,
          0.48,
          0.48,
          0.4800000000000002,
          0.48000000000000015,
          0.48,
          0.69,
          0.69,
          0.69,
          0.69,
          0.69,
          0.69,
          0.69,
          0.69,
          0.69,
          0.6900000000000001,
          0.69,
          0.69,
          0.69,
          0.69,
          0.69,
          0.69,
          0.69,
          0.69,
          0.69,
          0.69,
          0.69,
          0.69,
          0.69,
          0.69,
          0.69,
          0.69,
          0.69,
          0.6900000000000001,
          0.6599999999999999,
          0.69,
          0.69,
          0.69,
          0.69,
          0.69,
          0.69,
          0.69,
          0.69,
          0.69,
          0.69,
          0.69,
          0.69,
          0.69,
          0.69,
          0.69,
          0.69,
          0.69,
          0.69,
          0.69,
          0.69,
          0.69,
          0.69,
          0.69,
          0.69,
          0.69,
          0.69,
          0.69,
          0.69,
          0.69,
          0.69,
          0.6899999999999998,
          0.69,
          0.69,
          0.69,
          0.69,
          0.69,
          0.69,
          0.69,
          0.69,
          0.69,
          0.69,
          0.69,
          0.69,
          0.69,
          0.69,
          0.69,
          0.69,
          0.69,
          0.69,
          0.69,
          0.69,
          0.6899999999999998,
          0.69,
          0.69,
          0.69,
          0.69,
          0.69,
          0.69,
          0.69,
          0.69,
          0.69,
          0.69,
          0.69,
          0.69,
          0.69,
          0.69,
          0.69,
          0.69,
          0.69,
          0.69,
          0.69,
          0.6899999999999998,
          0.69,
          0.69,
          0.69,
          0.69,
          0.69,
          0.69,
          0.6899999999999998,
          0.69,
          0.69,
          0.69,
          0.69,
          0.69,
          0.69,
          0.52,
          0.52,
          0.52,
          0.52,
          0.52,
          0.52,
          0.52,
          0.69,
          0.69,
          0.69,
          0.69,
          0.69,
          0.69,
          0.69,
          0.69,
          0.69,
          0.69,
          0.69,
          0.69,
          0.6900000000000001,
          0.69,
          0.69,
          0.69,
          0.69,
          0.69,
          0.69,
          0.69,
          0.69,
          0.69,
          0.69,
          0.6900000000000001,
          0.69,
          0.69,
          0.6900000000000001,
          0.69,
          0.69,
          0.69
         ],
         "xaxis": "x",
         "y": [
          6,
          6,
          6,
          5,
          7,
          4,
          6,
          3,
          2,
          7,
          4,
          7,
          6,
          4,
          2,
          3,
          7,
          2,
          2,
          9,
          5,
          8,
          3,
          2,
          4,
          3,
          5,
          3,
          6,
          5,
          8,
          6,
          2,
          3,
          4,
          3,
          3,
          2,
          6,
          5,
          9,
          7,
          4,
          4,
          8,
          3,
          4,
          5,
          2,
          2,
          9,
          5,
          4,
          2,
          2,
          3,
          2,
          4,
          2,
          2,
          9,
          4,
          10,
          6,
          9,
          6,
          8,
          4,
          4,
          4,
          6,
          6,
          4,
          4,
          3,
          8,
          6,
          3,
          5,
          6,
          6,
          4,
          4,
          3,
          10,
          6,
          3,
          5,
          6,
          4,
          6,
          8,
          3,
          2,
          5,
          2,
          6,
          7,
          2,
          5,
          5,
          4,
          3,
          3,
          4,
          3,
          9,
          4,
          2,
          2,
          2,
          6,
          9,
          2,
          3,
          3,
          3,
          8,
          5,
          6,
          7,
          4,
          7,
          2,
          4,
          3,
          9,
          12,
          3,
          2,
          9,
          5,
          5,
          2,
          2,
          7,
          3,
          2,
          3,
          6,
          6,
          3,
          4,
          5,
          7,
          3,
          2,
          4,
          3,
          4,
          9,
          5,
          4,
          6,
          15,
          13,
          6,
          4,
          2,
          4,
          3,
          3,
          5,
          3,
          3,
          2,
          7,
          2,
          2,
          6,
          4,
          3,
          4,
          3,
          5,
          4,
          6,
          4,
          5,
          5,
          3,
          3,
          4,
          2,
          7,
          7,
          4,
          5,
          6,
          5,
          6,
          2,
          8,
          8,
          2,
          8,
          3,
          4,
          2,
          4,
          5,
          2,
          2,
          3,
          6,
          2,
          4,
          4,
          4,
          3,
          2,
          4,
          3,
          4,
          3,
          2,
          10,
          6,
          3,
          3,
          3,
          3,
          2,
          2,
          3,
          5,
          2,
          5,
          5,
          4,
          6,
          6,
          2,
          6,
          3,
          4,
          5,
          10,
          4,
          2,
          3,
          2,
          5,
          4,
          3,
          4,
          3,
          2,
          4,
          3,
          2,
          4,
          3,
          9,
          5,
          2,
          2,
          10,
          2,
          3,
          8,
          4,
          3,
          3,
          12,
          5,
          4,
          2,
          3,
          3,
          4,
          4,
          4,
          4,
          5,
          8,
          2,
          5,
          3,
          2,
          5,
          3,
          9,
          4,
          3,
          2,
          6,
          6,
          4,
          4,
          7,
          2,
          4,
          2,
          3,
          2,
          3,
          4,
          3,
          5,
          3,
          7,
          2,
          5,
          7,
          4,
          2,
          2
         ],
         "yaxis": "y"
        }
       ],
       "layout": {
        "legend": {
         "tracegroupgap": 0
        },
        "margin": {
         "t": 60
        },
        "template": {
         "data": {
          "bar": [
           {
            "error_x": {
             "color": "#2a3f5f"
            },
            "error_y": {
             "color": "#2a3f5f"
            },
            "marker": {
             "line": {
              "color": "#E5ECF6",
              "width": 0.5
             }
            },
            "type": "bar"
           }
          ],
          "barpolar": [
           {
            "marker": {
             "line": {
              "color": "#E5ECF6",
              "width": 0.5
             }
            },
            "type": "barpolar"
           }
          ],
          "carpet": [
           {
            "aaxis": {
             "endlinecolor": "#2a3f5f",
             "gridcolor": "white",
             "linecolor": "white",
             "minorgridcolor": "white",
             "startlinecolor": "#2a3f5f"
            },
            "baxis": {
             "endlinecolor": "#2a3f5f",
             "gridcolor": "white",
             "linecolor": "white",
             "minorgridcolor": "white",
             "startlinecolor": "#2a3f5f"
            },
            "type": "carpet"
           }
          ],
          "choropleth": [
           {
            "colorbar": {
             "outlinewidth": 0,
             "ticks": ""
            },
            "type": "choropleth"
           }
          ],
          "contour": [
           {
            "colorbar": {
             "outlinewidth": 0,
             "ticks": ""
            },
            "colorscale": [
             [
              0,
              "#0d0887"
             ],
             [
              0.1111111111111111,
              "#46039f"
             ],
             [
              0.2222222222222222,
              "#7201a8"
             ],
             [
              0.3333333333333333,
              "#9c179e"
             ],
             [
              0.4444444444444444,
              "#bd3786"
             ],
             [
              0.5555555555555556,
              "#d8576b"
             ],
             [
              0.6666666666666666,
              "#ed7953"
             ],
             [
              0.7777777777777778,
              "#fb9f3a"
             ],
             [
              0.8888888888888888,
              "#fdca26"
             ],
             [
              1,
              "#f0f921"
             ]
            ],
            "type": "contour"
           }
          ],
          "contourcarpet": [
           {
            "colorbar": {
             "outlinewidth": 0,
             "ticks": ""
            },
            "type": "contourcarpet"
           }
          ],
          "heatmap": [
           {
            "colorbar": {
             "outlinewidth": 0,
             "ticks": ""
            },
            "colorscale": [
             [
              0,
              "#0d0887"
             ],
             [
              0.1111111111111111,
              "#46039f"
             ],
             [
              0.2222222222222222,
              "#7201a8"
             ],
             [
              0.3333333333333333,
              "#9c179e"
             ],
             [
              0.4444444444444444,
              "#bd3786"
             ],
             [
              0.5555555555555556,
              "#d8576b"
             ],
             [
              0.6666666666666666,
              "#ed7953"
             ],
             [
              0.7777777777777778,
              "#fb9f3a"
             ],
             [
              0.8888888888888888,
              "#fdca26"
             ],
             [
              1,
              "#f0f921"
             ]
            ],
            "type": "heatmap"
           }
          ],
          "heatmapgl": [
           {
            "colorbar": {
             "outlinewidth": 0,
             "ticks": ""
            },
            "colorscale": [
             [
              0,
              "#0d0887"
             ],
             [
              0.1111111111111111,
              "#46039f"
             ],
             [
              0.2222222222222222,
              "#7201a8"
             ],
             [
              0.3333333333333333,
              "#9c179e"
             ],
             [
              0.4444444444444444,
              "#bd3786"
             ],
             [
              0.5555555555555556,
              "#d8576b"
             ],
             [
              0.6666666666666666,
              "#ed7953"
             ],
             [
              0.7777777777777778,
              "#fb9f3a"
             ],
             [
              0.8888888888888888,
              "#fdca26"
             ],
             [
              1,
              "#f0f921"
             ]
            ],
            "type": "heatmapgl"
           }
          ],
          "histogram": [
           {
            "marker": {
             "colorbar": {
              "outlinewidth": 0,
              "ticks": ""
             }
            },
            "type": "histogram"
           }
          ],
          "histogram2d": [
           {
            "colorbar": {
             "outlinewidth": 0,
             "ticks": ""
            },
            "colorscale": [
             [
              0,
              "#0d0887"
             ],
             [
              0.1111111111111111,
              "#46039f"
             ],
             [
              0.2222222222222222,
              "#7201a8"
             ],
             [
              0.3333333333333333,
              "#9c179e"
             ],
             [
              0.4444444444444444,
              "#bd3786"
             ],
             [
              0.5555555555555556,
              "#d8576b"
             ],
             [
              0.6666666666666666,
              "#ed7953"
             ],
             [
              0.7777777777777778,
              "#fb9f3a"
             ],
             [
              0.8888888888888888,
              "#fdca26"
             ],
             [
              1,
              "#f0f921"
             ]
            ],
            "type": "histogram2d"
           }
          ],
          "histogram2dcontour": [
           {
            "colorbar": {
             "outlinewidth": 0,
             "ticks": ""
            },
            "colorscale": [
             [
              0,
              "#0d0887"
             ],
             [
              0.1111111111111111,
              "#46039f"
             ],
             [
              0.2222222222222222,
              "#7201a8"
             ],
             [
              0.3333333333333333,
              "#9c179e"
             ],
             [
              0.4444444444444444,
              "#bd3786"
             ],
             [
              0.5555555555555556,
              "#d8576b"
             ],
             [
              0.6666666666666666,
              "#ed7953"
             ],
             [
              0.7777777777777778,
              "#fb9f3a"
             ],
             [
              0.8888888888888888,
              "#fdca26"
             ],
             [
              1,
              "#f0f921"
             ]
            ],
            "type": "histogram2dcontour"
           }
          ],
          "mesh3d": [
           {
            "colorbar": {
             "outlinewidth": 0,
             "ticks": ""
            },
            "type": "mesh3d"
           }
          ],
          "parcoords": [
           {
            "line": {
             "colorbar": {
              "outlinewidth": 0,
              "ticks": ""
             }
            },
            "type": "parcoords"
           }
          ],
          "pie": [
           {
            "automargin": true,
            "type": "pie"
           }
          ],
          "scatter": [
           {
            "marker": {
             "colorbar": {
              "outlinewidth": 0,
              "ticks": ""
             }
            },
            "type": "scatter"
           }
          ],
          "scatter3d": [
           {
            "line": {
             "colorbar": {
              "outlinewidth": 0,
              "ticks": ""
             }
            },
            "marker": {
             "colorbar": {
              "outlinewidth": 0,
              "ticks": ""
             }
            },
            "type": "scatter3d"
           }
          ],
          "scattercarpet": [
           {
            "marker": {
             "colorbar": {
              "outlinewidth": 0,
              "ticks": ""
             }
            },
            "type": "scattercarpet"
           }
          ],
          "scattergeo": [
           {
            "marker": {
             "colorbar": {
              "outlinewidth": 0,
              "ticks": ""
             }
            },
            "type": "scattergeo"
           }
          ],
          "scattergl": [
           {
            "marker": {
             "colorbar": {
              "outlinewidth": 0,
              "ticks": ""
             }
            },
            "type": "scattergl"
           }
          ],
          "scattermapbox": [
           {
            "marker": {
             "colorbar": {
              "outlinewidth": 0,
              "ticks": ""
             }
            },
            "type": "scattermapbox"
           }
          ],
          "scatterpolar": [
           {
            "marker": {
             "colorbar": {
              "outlinewidth": 0,
              "ticks": ""
             }
            },
            "type": "scatterpolar"
           }
          ],
          "scatterpolargl": [
           {
            "marker": {
             "colorbar": {
              "outlinewidth": 0,
              "ticks": ""
             }
            },
            "type": "scatterpolargl"
           }
          ],
          "scatterternary": [
           {
            "marker": {
             "colorbar": {
              "outlinewidth": 0,
              "ticks": ""
             }
            },
            "type": "scatterternary"
           }
          ],
          "surface": [
           {
            "colorbar": {
             "outlinewidth": 0,
             "ticks": ""
            },
            "colorscale": [
             [
              0,
              "#0d0887"
             ],
             [
              0.1111111111111111,
              "#46039f"
             ],
             [
              0.2222222222222222,
              "#7201a8"
             ],
             [
              0.3333333333333333,
              "#9c179e"
             ],
             [
              0.4444444444444444,
              "#bd3786"
             ],
             [
              0.5555555555555556,
              "#d8576b"
             ],
             [
              0.6666666666666666,
              "#ed7953"
             ],
             [
              0.7777777777777778,
              "#fb9f3a"
             ],
             [
              0.8888888888888888,
              "#fdca26"
             ],
             [
              1,
              "#f0f921"
             ]
            ],
            "type": "surface"
           }
          ],
          "table": [
           {
            "cells": {
             "fill": {
              "color": "#EBF0F8"
             },
             "line": {
              "color": "white"
             }
            },
            "header": {
             "fill": {
              "color": "#C8D4E3"
             },
             "line": {
              "color": "white"
             }
            },
            "type": "table"
           }
          ]
         },
         "layout": {
          "annotationdefaults": {
           "arrowcolor": "#2a3f5f",
           "arrowhead": 0,
           "arrowwidth": 1
          },
          "coloraxis": {
           "colorbar": {
            "outlinewidth": 0,
            "ticks": ""
           }
          },
          "colorscale": {
           "diverging": [
            [
             0,
             "#8e0152"
            ],
            [
             0.1,
             "#c51b7d"
            ],
            [
             0.2,
             "#de77ae"
            ],
            [
             0.3,
             "#f1b6da"
            ],
            [
             0.4,
             "#fde0ef"
            ],
            [
             0.5,
             "#f7f7f7"
            ],
            [
             0.6,
             "#e6f5d0"
            ],
            [
             0.7,
             "#b8e186"
            ],
            [
             0.8,
             "#7fbc41"
            ],
            [
             0.9,
             "#4d9221"
            ],
            [
             1,
             "#276419"
            ]
           ],
           "sequential": [
            [
             0,
             "#0d0887"
            ],
            [
             0.1111111111111111,
             "#46039f"
            ],
            [
             0.2222222222222222,
             "#7201a8"
            ],
            [
             0.3333333333333333,
             "#9c179e"
            ],
            [
             0.4444444444444444,
             "#bd3786"
            ],
            [
             0.5555555555555556,
             "#d8576b"
            ],
            [
             0.6666666666666666,
             "#ed7953"
            ],
            [
             0.7777777777777778,
             "#fb9f3a"
            ],
            [
             0.8888888888888888,
             "#fdca26"
            ],
            [
             1,
             "#f0f921"
            ]
           ],
           "sequentialminus": [
            [
             0,
             "#0d0887"
            ],
            [
             0.1111111111111111,
             "#46039f"
            ],
            [
             0.2222222222222222,
             "#7201a8"
            ],
            [
             0.3333333333333333,
             "#9c179e"
            ],
            [
             0.4444444444444444,
             "#bd3786"
            ],
            [
             0.5555555555555556,
             "#d8576b"
            ],
            [
             0.6666666666666666,
             "#ed7953"
            ],
            [
             0.7777777777777778,
             "#fb9f3a"
            ],
            [
             0.8888888888888888,
             "#fdca26"
            ],
            [
             1,
             "#f0f921"
            ]
           ]
          },
          "colorway": [
           "#636efa",
           "#EF553B",
           "#00cc96",
           "#ab63fa",
           "#FFA15A",
           "#19d3f3",
           "#FF6692",
           "#B6E880",
           "#FF97FF",
           "#FECB52"
          ],
          "font": {
           "color": "#2a3f5f"
          },
          "geo": {
           "bgcolor": "white",
           "lakecolor": "white",
           "landcolor": "#E5ECF6",
           "showlakes": true,
           "showland": true,
           "subunitcolor": "white"
          },
          "hoverlabel": {
           "align": "left"
          },
          "hovermode": "closest",
          "mapbox": {
           "style": "light"
          },
          "paper_bgcolor": "white",
          "plot_bgcolor": "#E5ECF6",
          "polar": {
           "angularaxis": {
            "gridcolor": "white",
            "linecolor": "white",
            "ticks": ""
           },
           "bgcolor": "#E5ECF6",
           "radialaxis": {
            "gridcolor": "white",
            "linecolor": "white",
            "ticks": ""
           }
          },
          "scene": {
           "xaxis": {
            "backgroundcolor": "#E5ECF6",
            "gridcolor": "white",
            "gridwidth": 2,
            "linecolor": "white",
            "showbackground": true,
            "ticks": "",
            "zerolinecolor": "white"
           },
           "yaxis": {
            "backgroundcolor": "#E5ECF6",
            "gridcolor": "white",
            "gridwidth": 2,
            "linecolor": "white",
            "showbackground": true,
            "ticks": "",
            "zerolinecolor": "white"
           },
           "zaxis": {
            "backgroundcolor": "#E5ECF6",
            "gridcolor": "white",
            "gridwidth": 2,
            "linecolor": "white",
            "showbackground": true,
            "ticks": "",
            "zerolinecolor": "white"
           }
          },
          "shapedefaults": {
           "line": {
            "color": "#2a3f5f"
           }
          },
          "ternary": {
           "aaxis": {
            "gridcolor": "white",
            "linecolor": "white",
            "ticks": ""
           },
           "baxis": {
            "gridcolor": "white",
            "linecolor": "white",
            "ticks": ""
           },
           "bgcolor": "#E5ECF6",
           "caxis": {
            "gridcolor": "white",
            "linecolor": "white",
            "ticks": ""
           }
          },
          "title": {
           "x": 0.05
          },
          "xaxis": {
           "automargin": true,
           "gridcolor": "white",
           "linecolor": "white",
           "ticks": "",
           "title": {
            "standoff": 15
           },
           "zerolinecolor": "white",
           "zerolinewidth": 2
          },
          "yaxis": {
           "automargin": true,
           "gridcolor": "white",
           "linecolor": "white",
           "ticks": "",
           "title": {
            "standoff": 15
           },
           "zerolinecolor": "white",
           "zerolinewidth": 2
          }
         }
        },
        "xaxis": {
         "anchor": "y",
         "domain": [
          0,
          1
         ],
         "title": {
          "text": "purchase_price"
         }
        },
        "yaxis": {
         "anchor": "x",
         "domain": [
          0,
          1
         ],
         "title": {
          "text": "count"
         }
        }
       }
      }
     },
     "metadata": {}
    }
   ],
   "source": [
    "import plotly.express as px\n",
    "fig = px.scatter(one_row, x=\"purchase_price\", y=\"count\")\n",
    "fig.show()"
   ]
  },
  {
   "cell_type": "code",
   "execution_count": 39,
   "metadata": {},
   "outputs": [
    {
     "output_type": "execute_result",
     "data": {
      "text/plain": [
       "                                 count   discount  std        min        25%  \\\n",
       "description          day                                                       \n",
       "Biologische knoflook 2018-01-01    6.0  30.434783  0.0  30.434783  30.434783   \n",
       "                     2018-01-03    6.0   0.000000  0.0   0.000000   0.000000   \n",
       "                     2018-01-05    6.0   4.347826  0.0   4.347826   4.347826   \n",
       "                     2018-01-06    5.0   0.000000  0.0   0.000000   0.000000   \n",
       "                     2018-01-07    7.0  30.434783  0.0  30.434783  30.434783   \n",
       "...                                ...        ...  ...        ...        ...   \n",
       "                     2018-12-25    5.0   0.000000  0.0   0.000000   0.000000   \n",
       "                     2018-12-26    7.0   0.000000  0.0   0.000000   0.000000   \n",
       "                     2018-12-28    4.0   0.000000  0.0   0.000000   0.000000   \n",
       "                     2018-12-29    2.0   0.000000  0.0   0.000000   0.000000   \n",
       "                     2018-12-30    2.0   0.000000  0.0   0.000000   0.000000   \n",
       "\n",
       "                                       50%        75%        max     month  \\\n",
       "description          day                                                     \n",
       "Biologische knoflook 2018-01-01  30.434783  30.434783  30.434783   January   \n",
       "                     2018-01-03   0.000000   0.000000   0.000000   January   \n",
       "                     2018-01-05   4.347826   4.347826   4.347826   January   \n",
       "                     2018-01-06   0.000000   0.000000   0.000000   January   \n",
       "                     2018-01-07  30.434783  30.434783  30.434783   January   \n",
       "...                                    ...        ...        ...       ...   \n",
       "                     2018-12-25   0.000000   0.000000   0.000000  December   \n",
       "                     2018-12-26   0.000000   0.000000   0.000000  December   \n",
       "                     2018-12-28   0.000000   0.000000   0.000000  December   \n",
       "                     2018-12-29   0.000000   0.000000   0.000000  December   \n",
       "                     2018-12-30   0.000000   0.000000   0.000000  December   \n",
       "\n",
       "                                              product  day  dayofweek  \\\n",
       "description          day                                                \n",
       "Biologische knoflook 2018-01-01  Biologische knoflook    1     Monday   \n",
       "                     2018-01-03  Biologische knoflook    3  Wednesday   \n",
       "                     2018-01-05  Biologische knoflook    5     Friday   \n",
       "                     2018-01-06  Biologische knoflook    6   Saturday   \n",
       "                     2018-01-07  Biologische knoflook    7     Sunday   \n",
       "...                                               ...  ...        ...   \n",
       "                     2018-12-25  Biologische knoflook  359    Tuesday   \n",
       "                     2018-12-26  Biologische knoflook  360  Wednesday   \n",
       "                     2018-12-28  Biologische knoflook  362     Friday   \n",
       "                     2018-12-29  Biologische knoflook  363   Saturday   \n",
       "                     2018-12-30  Biologische knoflook  364     Sunday   \n",
       "\n",
       "                                 purchase_price  std_sales_price  discount_2  \\\n",
       "description          day                                                       \n",
       "Biologische knoflook 2018-01-01            0.48             0.69  926.275992   \n",
       "                     2018-01-03            0.69             0.69    0.000000   \n",
       "                     2018-01-05            0.66             0.69   18.903592   \n",
       "                     2018-01-06            0.69             0.69    0.000000   \n",
       "                     2018-01-07            0.48             0.69  926.275992   \n",
       "...                                         ...              ...         ...   \n",
       "                     2018-12-25            0.69             0.69    0.000000   \n",
       "                     2018-12-26            0.69             0.69    0.000000   \n",
       "                     2018-12-28            0.69             0.69    0.000000   \n",
       "                     2018-12-29            0.69             0.69    0.000000   \n",
       "                     2018-12-30            0.69             0.69    0.000000   \n",
       "\n",
       "                                 prev_day_purchases        days  on_discount  \\\n",
       "description          day                                                       \n",
       "Biologische knoflook 2018-01-01                 4.0    1/1/2018           15   \n",
       "                     2018-01-03                 6.0    3/1/2018            8   \n",
       "                     2018-01-05                 1.0    5/1/2018           16   \n",
       "                     2018-01-06                 6.0    6/1/2018           11   \n",
       "                     2018-01-07                 5.0    7/1/2018            4   \n",
       "...                                             ...         ...          ...   \n",
       "                     2018-12-25                 2.0  25-12-2018           15   \n",
       "                     2018-12-26                 5.0  26-12-2018           13   \n",
       "                     2018-12-28                 1.0  28-12-2018           13   \n",
       "                     2018-12-29                 4.0  29-12-2018           12   \n",
       "                     2018-12-30                 2.0  30-12-2018           13   \n",
       "\n",
       "                                 predicted  \n",
       "description          day                    \n",
       "Biologische knoflook 2018-01-01   7.555760  \n",
       "                     2018-01-03   4.511195  \n",
       "                     2018-01-05   4.013872  \n",
       "                     2018-01-06   4.034979  \n",
       "                     2018-01-07   8.226951  \n",
       "...                                    ...  \n",
       "                     2018-12-25   4.511382  \n",
       "                     2018-12-26   3.908512  \n",
       "                     2018-12-28   4.268667  \n",
       "                     2018-12-29   4.405963  \n",
       "                     2018-12-30   4.411930  \n",
       "\n",
       "[308 rows x 19 columns]"
      ],
      "text/html": "<div>\n<style scoped>\n    .dataframe tbody tr th:only-of-type {\n        vertical-align: middle;\n    }\n\n    .dataframe tbody tr th {\n        vertical-align: top;\n    }\n\n    .dataframe thead th {\n        text-align: right;\n    }\n</style>\n<table border=\"1\" class=\"dataframe\">\n  <thead>\n    <tr style=\"text-align: right;\">\n      <th></th>\n      <th></th>\n      <th>count</th>\n      <th>discount</th>\n      <th>std</th>\n      <th>min</th>\n      <th>25%</th>\n      <th>50%</th>\n      <th>75%</th>\n      <th>max</th>\n      <th>month</th>\n      <th>product</th>\n      <th>day</th>\n      <th>dayofweek</th>\n      <th>purchase_price</th>\n      <th>std_sales_price</th>\n      <th>discount_2</th>\n      <th>prev_day_purchases</th>\n      <th>days</th>\n      <th>on_discount</th>\n      <th>predicted</th>\n    </tr>\n    <tr>\n      <th>description</th>\n      <th>day</th>\n      <th></th>\n      <th></th>\n      <th></th>\n      <th></th>\n      <th></th>\n      <th></th>\n      <th></th>\n      <th></th>\n      <th></th>\n      <th></th>\n      <th></th>\n      <th></th>\n      <th></th>\n      <th></th>\n      <th></th>\n      <th></th>\n      <th></th>\n      <th></th>\n      <th></th>\n    </tr>\n  </thead>\n  <tbody>\n    <tr>\n      <th rowspan=\"11\" valign=\"top\">Biologische knoflook</th>\n      <th>2018-01-01</th>\n      <td>6.0</td>\n      <td>30.434783</td>\n      <td>0.0</td>\n      <td>30.434783</td>\n      <td>30.434783</td>\n      <td>30.434783</td>\n      <td>30.434783</td>\n      <td>30.434783</td>\n      <td>January</td>\n      <td>Biologische knoflook</td>\n      <td>1</td>\n      <td>Monday</td>\n      <td>0.48</td>\n      <td>0.69</td>\n      <td>926.275992</td>\n      <td>4.0</td>\n      <td>1/1/2018</td>\n      <td>15</td>\n      <td>7.555760</td>\n    </tr>\n    <tr>\n      <th>2018-01-03</th>\n      <td>6.0</td>\n      <td>0.000000</td>\n      <td>0.0</td>\n      <td>0.000000</td>\n      <td>0.000000</td>\n      <td>0.000000</td>\n      <td>0.000000</td>\n      <td>0.000000</td>\n      <td>January</td>\n      <td>Biologische knoflook</td>\n      <td>3</td>\n      <td>Wednesday</td>\n      <td>0.69</td>\n      <td>0.69</td>\n      <td>0.000000</td>\n      <td>6.0</td>\n      <td>3/1/2018</td>\n      <td>8</td>\n      <td>4.511195</td>\n    </tr>\n    <tr>\n      <th>2018-01-05</th>\n      <td>6.0</td>\n      <td>4.347826</td>\n      <td>0.0</td>\n      <td>4.347826</td>\n      <td>4.347826</td>\n      <td>4.347826</td>\n      <td>4.347826</td>\n      <td>4.347826</td>\n      <td>January</td>\n      <td>Biologische knoflook</td>\n      <td>5</td>\n      <td>Friday</td>\n      <td>0.66</td>\n      <td>0.69</td>\n      <td>18.903592</td>\n      <td>1.0</td>\n      <td>5/1/2018</td>\n      <td>16</td>\n      <td>4.013872</td>\n    </tr>\n    <tr>\n      <th>2018-01-06</th>\n      <td>5.0</td>\n      <td>0.000000</td>\n      <td>0.0</td>\n      <td>0.000000</td>\n      <td>0.000000</td>\n      <td>0.000000</td>\n      <td>0.000000</td>\n      <td>0.000000</td>\n      <td>January</td>\n      <td>Biologische knoflook</td>\n      <td>6</td>\n      <td>Saturday</td>\n      <td>0.69</td>\n      <td>0.69</td>\n      <td>0.000000</td>\n      <td>6.0</td>\n      <td>6/1/2018</td>\n      <td>11</td>\n      <td>4.034979</td>\n    </tr>\n    <tr>\n      <th>2018-01-07</th>\n      <td>7.0</td>\n      <td>30.434783</td>\n      <td>0.0</td>\n      <td>30.434783</td>\n      <td>30.434783</td>\n      <td>30.434783</td>\n      <td>30.434783</td>\n      <td>30.434783</td>\n      <td>January</td>\n      <td>Biologische knoflook</td>\n      <td>7</td>\n      <td>Sunday</td>\n      <td>0.48</td>\n      <td>0.69</td>\n      <td>926.275992</td>\n      <td>5.0</td>\n      <td>7/1/2018</td>\n      <td>4</td>\n      <td>8.226951</td>\n    </tr>\n    <tr>\n      <th>...</th>\n      <td>...</td>\n      <td>...</td>\n      <td>...</td>\n      <td>...</td>\n      <td>...</td>\n      <td>...</td>\n      <td>...</td>\n      <td>...</td>\n      <td>...</td>\n      <td>...</td>\n      <td>...</td>\n      <td>...</td>\n      <td>...</td>\n      <td>...</td>\n      <td>...</td>\n      <td>...</td>\n      <td>...</td>\n      <td>...</td>\n      <td>...</td>\n    </tr>\n    <tr>\n      <th>2018-12-25</th>\n      <td>5.0</td>\n      <td>0.000000</td>\n      <td>0.0</td>\n      <td>0.000000</td>\n      <td>0.000000</td>\n      <td>0.000000</td>\n      <td>0.000000</td>\n      <td>0.000000</td>\n      <td>December</td>\n      <td>Biologische knoflook</td>\n      <td>359</td>\n      <td>Tuesday</td>\n      <td>0.69</td>\n      <td>0.69</td>\n      <td>0.000000</td>\n      <td>2.0</td>\n      <td>25-12-2018</td>\n      <td>15</td>\n      <td>4.511382</td>\n    </tr>\n    <tr>\n      <th>2018-12-26</th>\n      <td>7.0</td>\n      <td>0.000000</td>\n      <td>0.0</td>\n      <td>0.000000</td>\n      <td>0.000000</td>\n      <td>0.000000</td>\n      <td>0.000000</td>\n      <td>0.000000</td>\n      <td>December</td>\n      <td>Biologische knoflook</td>\n      <td>360</td>\n      <td>Wednesday</td>\n      <td>0.69</td>\n      <td>0.69</td>\n      <td>0.000000</td>\n      <td>5.0</td>\n      <td>26-12-2018</td>\n      <td>13</td>\n      <td>3.908512</td>\n    </tr>\n    <tr>\n      <th>2018-12-28</th>\n      <td>4.0</td>\n      <td>0.000000</td>\n      <td>0.0</td>\n      <td>0.000000</td>\n      <td>0.000000</td>\n      <td>0.000000</td>\n      <td>0.000000</td>\n      <td>0.000000</td>\n      <td>December</td>\n      <td>Biologische knoflook</td>\n      <td>362</td>\n      <td>Friday</td>\n      <td>0.69</td>\n      <td>0.69</td>\n      <td>0.000000</td>\n      <td>1.0</td>\n      <td>28-12-2018</td>\n      <td>13</td>\n      <td>4.268667</td>\n    </tr>\n    <tr>\n      <th>2018-12-29</th>\n      <td>2.0</td>\n      <td>0.000000</td>\n      <td>0.0</td>\n      <td>0.000000</td>\n      <td>0.000000</td>\n      <td>0.000000</td>\n      <td>0.000000</td>\n      <td>0.000000</td>\n      <td>December</td>\n      <td>Biologische knoflook</td>\n      <td>363</td>\n      <td>Saturday</td>\n      <td>0.69</td>\n      <td>0.69</td>\n      <td>0.000000</td>\n      <td>4.0</td>\n      <td>29-12-2018</td>\n      <td>12</td>\n      <td>4.405963</td>\n    </tr>\n    <tr>\n      <th>2018-12-30</th>\n      <td>2.0</td>\n      <td>0.000000</td>\n      <td>0.0</td>\n      <td>0.000000</td>\n      <td>0.000000</td>\n      <td>0.000000</td>\n      <td>0.000000</td>\n      <td>0.000000</td>\n      <td>December</td>\n      <td>Biologische knoflook</td>\n      <td>364</td>\n      <td>Sunday</td>\n      <td>0.69</td>\n      <td>0.69</td>\n      <td>0.000000</td>\n      <td>2.0</td>\n      <td>30-12-2018</td>\n      <td>13</td>\n      <td>4.411930</td>\n    </tr>\n  </tbody>\n</table>\n<p>308 rows × 19 columns</p>\n</div>"
     },
     "metadata": {},
     "execution_count": 39
    }
   ],
   "source": [
    "one_row"
   ]
  },
  {
   "cell_type": "code",
   "execution_count": 25,
   "metadata": {},
   "outputs": [
    {
     "output_type": "execute_result",
     "data": {
      "text/plain": [
       "                       customer                                              \\\n",
       "                          count          mean        std      min       25%   \n",
       "description  day                                                              \n",
       "Aardbeien    1/1/2018       9.0     38.333333  16.000000      7.0     31.00   \n",
       "             1/10/2018      6.0  15646.833333  23.819460  15621.0  15625.75   \n",
       "             1/11/2018      6.0  17345.666667  11.075498  17333.0  17337.50   \n",
       "             1/12/2018      5.0  19071.400000  11.436783  19054.0  19071.00   \n",
       "             1/2/2018       8.0   1720.375000  13.037720   1704.0   1709.50   \n",
       "...                         ...           ...        ...      ...       ...   \n",
       "rundervinken 9/5/2018       1.0   7448.000000        NaN   7448.0   7448.00   \n",
       "             9/6/2018       7.0   9285.428571  17.709293   9257.0   9276.50   \n",
       "             9/7/2018       7.0  10946.142857  19.038807  10914.0  10936.50   \n",
       "             9/8/2018       6.0  12685.833333  10.457852  12669.0  12681.00   \n",
       "             9/9/2018       2.0  14419.500000   6.363961  14415.0  14417.25   \n",
       "\n",
       "                                                   bank acount                \\\n",
       "                            50%       75%      max       count          mean   \n",
       "description  day                                                               \n",
       "Aardbeien    1/1/2018      39.0     46.00     60.0         9.0  6.196480e+07   \n",
       "             1/10/2018  15649.0  15667.00  15671.0         6.0  7.127359e+07   \n",
       "             1/11/2018  17348.0  17348.00  17363.0         6.0  4.081008e+07   \n",
       "             1/12/2018  19072.0  19074.00  19086.0         3.0  3.525882e+07   \n",
       "             1/2/2018    1721.0   1729.75   1740.0         7.0  6.307131e+07   \n",
       "...                         ...       ...      ...         ...           ...   \n",
       "rundervinken 9/5/2018    7448.0   7448.00   7448.0         1.0  7.380519e+07   \n",
       "             9/6/2018    9288.0   9296.50   9307.0         5.0  3.724918e+07   \n",
       "             9/7/2018   10947.0  10959.50  10970.0         7.0  5.381642e+07   \n",
       "             9/8/2018   12687.5  12692.50  12698.0         4.0  3.107016e+07   \n",
       "             9/9/2018   14419.5  14421.75  14424.0         2.0  2.884079e+07   \n",
       "\n",
       "                        ... basic      on_discount                           \\\n",
       "                        ...   75%  max       count mean  std  min  25%  50%   \n",
       "description  day        ...                                                   \n",
       "Aardbeien    1/1/2018   ...   0.0  0.0         9.0  0.0  0.0  0.0  0.0  0.0   \n",
       "             1/10/2018  ...   0.0  0.0         6.0  0.0  0.0  0.0  0.0  0.0   \n",
       "             1/11/2018  ...   0.0  0.0         6.0  0.0  0.0  0.0  0.0  0.0   \n",
       "             1/12/2018  ...   0.0  0.0         5.0  0.0  0.0  0.0  0.0  0.0   \n",
       "             1/2/2018   ...   0.0  0.0         8.0  1.0  0.0  1.0  1.0  1.0   \n",
       "...                     ...   ...  ...         ...  ...  ...  ...  ...  ...   \n",
       "rundervinken 9/5/2018   ...   0.0  0.0         1.0  0.0  NaN  0.0  0.0  0.0   \n",
       "             9/6/2018   ...   0.0  0.0         7.0  0.0  0.0  0.0  0.0  0.0   \n",
       "             9/7/2018   ...   0.0  0.0         7.0  0.0  0.0  0.0  0.0  0.0   \n",
       "             9/8/2018   ...   0.0  0.0         6.0  0.0  0.0  0.0  0.0  0.0   \n",
       "             9/9/2018   ...   0.0  0.0         2.0  0.0  0.0  0.0  0.0  0.0   \n",
       "\n",
       "                                  \n",
       "                        75%  max  \n",
       "description  day                  \n",
       "Aardbeien    1/1/2018   0.0  0.0  \n",
       "             1/10/2018  0.0  0.0  \n",
       "             1/11/2018  0.0  0.0  \n",
       "             1/12/2018  0.0  0.0  \n",
       "             1/2/2018   1.0  1.0  \n",
       "...                     ...  ...  \n",
       "rundervinken 9/5/2018   0.0  0.0  \n",
       "             9/6/2018   0.0  0.0  \n",
       "             9/7/2018   0.0  0.0  \n",
       "             9/8/2018   0.0  0.0  \n",
       "             9/9/2018   0.0  0.0  \n",
       "\n",
       "[53181 rows x 56 columns]"
      ],
      "text/html": "<div>\n<style scoped>\n    .dataframe tbody tr th:only-of-type {\n        vertical-align: middle;\n    }\n\n    .dataframe tbody tr th {\n        vertical-align: top;\n    }\n\n    .dataframe thead tr th {\n        text-align: left;\n    }\n\n    .dataframe thead tr:last-of-type th {\n        text-align: right;\n    }\n</style>\n<table border=\"1\" class=\"dataframe\">\n  <thead>\n    <tr>\n      <th></th>\n      <th></th>\n      <th colspan=\"8\" halign=\"left\">customer</th>\n      <th colspan=\"2\" halign=\"left\">bank acount</th>\n      <th>...</th>\n      <th colspan=\"2\" halign=\"left\">basic</th>\n      <th colspan=\"8\" halign=\"left\">on_discount</th>\n    </tr>\n    <tr>\n      <th></th>\n      <th></th>\n      <th>count</th>\n      <th>mean</th>\n      <th>std</th>\n      <th>min</th>\n      <th>25%</th>\n      <th>50%</th>\n      <th>75%</th>\n      <th>max</th>\n      <th>count</th>\n      <th>mean</th>\n      <th>...</th>\n      <th>75%</th>\n      <th>max</th>\n      <th>count</th>\n      <th>mean</th>\n      <th>std</th>\n      <th>min</th>\n      <th>25%</th>\n      <th>50%</th>\n      <th>75%</th>\n      <th>max</th>\n    </tr>\n    <tr>\n      <th>description</th>\n      <th>day</th>\n      <th></th>\n      <th></th>\n      <th></th>\n      <th></th>\n      <th></th>\n      <th></th>\n      <th></th>\n      <th></th>\n      <th></th>\n      <th></th>\n      <th></th>\n      <th></th>\n      <th></th>\n      <th></th>\n      <th></th>\n      <th></th>\n      <th></th>\n      <th></th>\n      <th></th>\n      <th></th>\n      <th></th>\n    </tr>\n  </thead>\n  <tbody>\n    <tr>\n      <th rowspan=\"5\" valign=\"top\">Aardbeien</th>\n      <th>1/1/2018</th>\n      <td>9.0</td>\n      <td>38.333333</td>\n      <td>16.000000</td>\n      <td>7.0</td>\n      <td>31.00</td>\n      <td>39.0</td>\n      <td>46.00</td>\n      <td>60.0</td>\n      <td>9.0</td>\n      <td>6.196480e+07</td>\n      <td>...</td>\n      <td>0.0</td>\n      <td>0.0</td>\n      <td>9.0</td>\n      <td>0.0</td>\n      <td>0.0</td>\n      <td>0.0</td>\n      <td>0.0</td>\n      <td>0.0</td>\n      <td>0.0</td>\n      <td>0.0</td>\n    </tr>\n    <tr>\n      <th>1/10/2018</th>\n      <td>6.0</td>\n      <td>15646.833333</td>\n      <td>23.819460</td>\n      <td>15621.0</td>\n      <td>15625.75</td>\n      <td>15649.0</td>\n      <td>15667.00</td>\n      <td>15671.0</td>\n      <td>6.0</td>\n      <td>7.127359e+07</td>\n      <td>...</td>\n      <td>0.0</td>\n      <td>0.0</td>\n      <td>6.0</td>\n      <td>0.0</td>\n      <td>0.0</td>\n      <td>0.0</td>\n      <td>0.0</td>\n      <td>0.0</td>\n      <td>0.0</td>\n      <td>0.0</td>\n    </tr>\n    <tr>\n      <th>1/11/2018</th>\n      <td>6.0</td>\n      <td>17345.666667</td>\n      <td>11.075498</td>\n      <td>17333.0</td>\n      <td>17337.50</td>\n      <td>17348.0</td>\n      <td>17348.00</td>\n      <td>17363.0</td>\n      <td>6.0</td>\n      <td>4.081008e+07</td>\n      <td>...</td>\n      <td>0.0</td>\n      <td>0.0</td>\n      <td>6.0</td>\n      <td>0.0</td>\n      <td>0.0</td>\n      <td>0.0</td>\n      <td>0.0</td>\n      <td>0.0</td>\n      <td>0.0</td>\n      <td>0.0</td>\n    </tr>\n    <tr>\n      <th>1/12/2018</th>\n      <td>5.0</td>\n      <td>19071.400000</td>\n      <td>11.436783</td>\n      <td>19054.0</td>\n      <td>19071.00</td>\n      <td>19072.0</td>\n      <td>19074.00</td>\n      <td>19086.0</td>\n      <td>3.0</td>\n      <td>3.525882e+07</td>\n      <td>...</td>\n      <td>0.0</td>\n      <td>0.0</td>\n      <td>5.0</td>\n      <td>0.0</td>\n      <td>0.0</td>\n      <td>0.0</td>\n      <td>0.0</td>\n      <td>0.0</td>\n      <td>0.0</td>\n      <td>0.0</td>\n    </tr>\n    <tr>\n      <th>1/2/2018</th>\n      <td>8.0</td>\n      <td>1720.375000</td>\n      <td>13.037720</td>\n      <td>1704.0</td>\n      <td>1709.50</td>\n      <td>1721.0</td>\n      <td>1729.75</td>\n      <td>1740.0</td>\n      <td>7.0</td>\n      <td>6.307131e+07</td>\n      <td>...</td>\n      <td>0.0</td>\n      <td>0.0</td>\n      <td>8.0</td>\n      <td>1.0</td>\n      <td>0.0</td>\n      <td>1.0</td>\n      <td>1.0</td>\n      <td>1.0</td>\n      <td>1.0</td>\n      <td>1.0</td>\n    </tr>\n    <tr>\n      <th>...</th>\n      <th>...</th>\n      <td>...</td>\n      <td>...</td>\n      <td>...</td>\n      <td>...</td>\n      <td>...</td>\n      <td>...</td>\n      <td>...</td>\n      <td>...</td>\n      <td>...</td>\n      <td>...</td>\n      <td>...</td>\n      <td>...</td>\n      <td>...</td>\n      <td>...</td>\n      <td>...</td>\n      <td>...</td>\n      <td>...</td>\n      <td>...</td>\n      <td>...</td>\n      <td>...</td>\n      <td>...</td>\n    </tr>\n    <tr>\n      <th rowspan=\"5\" valign=\"top\">rundervinken</th>\n      <th>9/5/2018</th>\n      <td>1.0</td>\n      <td>7448.000000</td>\n      <td>NaN</td>\n      <td>7448.0</td>\n      <td>7448.00</td>\n      <td>7448.0</td>\n      <td>7448.00</td>\n      <td>7448.0</td>\n      <td>1.0</td>\n      <td>7.380519e+07</td>\n      <td>...</td>\n      <td>0.0</td>\n      <td>0.0</td>\n      <td>1.0</td>\n      <td>0.0</td>\n      <td>NaN</td>\n      <td>0.0</td>\n      <td>0.0</td>\n      <td>0.0</td>\n      <td>0.0</td>\n      <td>0.0</td>\n    </tr>\n    <tr>\n      <th>9/6/2018</th>\n      <td>7.0</td>\n      <td>9285.428571</td>\n      <td>17.709293</td>\n      <td>9257.0</td>\n      <td>9276.50</td>\n      <td>9288.0</td>\n      <td>9296.50</td>\n      <td>9307.0</td>\n      <td>5.0</td>\n      <td>3.724918e+07</td>\n      <td>...</td>\n      <td>0.0</td>\n      <td>0.0</td>\n      <td>7.0</td>\n      <td>0.0</td>\n      <td>0.0</td>\n      <td>0.0</td>\n      <td>0.0</td>\n      <td>0.0</td>\n      <td>0.0</td>\n      <td>0.0</td>\n    </tr>\n    <tr>\n      <th>9/7/2018</th>\n      <td>7.0</td>\n      <td>10946.142857</td>\n      <td>19.038807</td>\n      <td>10914.0</td>\n      <td>10936.50</td>\n      <td>10947.0</td>\n      <td>10959.50</td>\n      <td>10970.0</td>\n      <td>7.0</td>\n      <td>5.381642e+07</td>\n      <td>...</td>\n      <td>0.0</td>\n      <td>0.0</td>\n      <td>7.0</td>\n      <td>0.0</td>\n      <td>0.0</td>\n      <td>0.0</td>\n      <td>0.0</td>\n      <td>0.0</td>\n      <td>0.0</td>\n      <td>0.0</td>\n    </tr>\n    <tr>\n      <th>9/8/2018</th>\n      <td>6.0</td>\n      <td>12685.833333</td>\n      <td>10.457852</td>\n      <td>12669.0</td>\n      <td>12681.00</td>\n      <td>12687.5</td>\n      <td>12692.50</td>\n      <td>12698.0</td>\n      <td>4.0</td>\n      <td>3.107016e+07</td>\n      <td>...</td>\n      <td>0.0</td>\n      <td>0.0</td>\n      <td>6.0</td>\n      <td>0.0</td>\n      <td>0.0</td>\n      <td>0.0</td>\n      <td>0.0</td>\n      <td>0.0</td>\n      <td>0.0</td>\n      <td>0.0</td>\n    </tr>\n    <tr>\n      <th>9/9/2018</th>\n      <td>2.0</td>\n      <td>14419.500000</td>\n      <td>6.363961</td>\n      <td>14415.0</td>\n      <td>14417.25</td>\n      <td>14419.5</td>\n      <td>14421.75</td>\n      <td>14424.0</td>\n      <td>2.0</td>\n      <td>2.884079e+07</td>\n      <td>...</td>\n      <td>0.0</td>\n      <td>0.0</td>\n      <td>2.0</td>\n      <td>0.0</td>\n      <td>0.0</td>\n      <td>0.0</td>\n      <td>0.0</td>\n      <td>0.0</td>\n      <td>0.0</td>\n      <td>0.0</td>\n    </tr>\n  </tbody>\n</table>\n<p>53181 rows × 56 columns</p>\n</div>"
     },
     "metadata": {},
     "execution_count": 25
    }
   ],
   "source": [
    "transactions[\"on_discount\"] = np.where(transactions[\"std_sales_price\"] == transactions[\"purchase_price\"], 0, 1)\n",
    "grouped_transactions = transactions.groupby([\"description\", \"day\"]).describe()\n",
    "grouped_transactions"
   ]
  },
  {
   "cell_type": "code",
   "execution_count": 45,
   "metadata": {},
   "outputs": [],
   "source": [
    "grouped_transactions[\"day\"] = [grouped_transactions.index[i][1] for i in range(grouped_transactions.shape[0])]\n",
    "grouped_transactions[\"on_discount\"] = np.where(grouped_transactions[\"std_sales_price\"][\"mean\"] == grouped_transactions[\"purchase_price\"][\"mean\"], 0, 1)\n",
    "grouped_transactions[\"on_discount\"][\"count\"]\n",
    "\n",
    "df_discounts = pd.DataFrame({\"days\":[grouped_transactions.index[i][1] for i in range(grouped_transactions.shape[0])], \"on_discount\":grouped_transactions[\"on_discount\"][\"count\"]})\n",
    "discounts_per_day = df_discounts.groupby(\"days\").sum()\n",
    "discounts_per_day[\"day\"] = pd.to_datetime(discounts_per_day.index, dayfirst=True)\n",
    "discounts_per_day.to_csv(\"nr_discounts_per_day.csv\")"
   ]
  },
  {
   "cell_type": "code",
   "execution_count": 49,
   "metadata": {},
   "outputs": [],
   "source": [
    "new_df = prepared_transactions.join(discounts_per_day.set_index(\"day\"))"
   ]
  },
  {
   "cell_type": "code",
   "execution_count": 50,
   "metadata": {},
   "outputs": [
    {
     "output_type": "execute_result",
     "data": {
      "text/plain": [
       "                                  count  discount  std  min  25%  50%  75%  \\\n",
       "description           day                                                    \n",
       "Biologische Bloemkool 2018-01-01    5.0       0.0  0.0  0.0  0.0  0.0  0.0   \n",
       "                      2018-01-04    4.0       0.0  0.0  0.0  0.0  0.0  0.0   \n",
       "                      2018-01-05    6.0       0.0  0.0  0.0  0.0  0.0  0.0   \n",
       "                      2018-01-07    9.0       0.0  0.0  0.0  0.0  0.0  0.0   \n",
       "                      2018-01-08    2.0       0.0  0.0  0.0  0.0  0.0  0.0   \n",
       "...                                 ...       ...  ...  ...  ...  ...  ...   \n",
       "Biologische rode kool 2018-12-25    3.0       0.0  0.0  0.0  0.0  0.0  0.0   \n",
       "                      2018-12-26    7.0       0.0  0.0  0.0  0.0  0.0  0.0   \n",
       "                      2018-12-28    5.0       0.0  0.0  0.0  0.0  0.0  0.0   \n",
       "                      2018-12-29    3.0       0.0  0.0  0.0  0.0  0.0  0.0   \n",
       "                      2018-12-30    3.0       0.0  0.0  0.0  0.0  0.0  0.0   \n",
       "\n",
       "                                  max     month                product  day  \\\n",
       "description           day                                                     \n",
       "Biologische Bloemkool 2018-01-01  0.0   January  Biologische Bloemkool    1   \n",
       "                      2018-01-04  0.0   January  Biologische Bloemkool    4   \n",
       "                      2018-01-05  0.0   January  Biologische Bloemkool    5   \n",
       "                      2018-01-07  0.0   January  Biologische Bloemkool    7   \n",
       "                      2018-01-08  0.0   January  Biologische Bloemkool    8   \n",
       "...                               ...       ...                    ...  ...   \n",
       "Biologische rode kool 2018-12-25  0.0  December  Biologische rode kool  359   \n",
       "                      2018-12-26  0.0  December  Biologische rode kool  360   \n",
       "                      2018-12-28  0.0  December  Biologische rode kool  362   \n",
       "                      2018-12-29  0.0  December  Biologische rode kool  363   \n",
       "                      2018-12-30  0.0  December  Biologische rode kool  364   \n",
       "\n",
       "                                  dayofweek  purchase_price  discount_2  \\\n",
       "description           day                                                 \n",
       "Biologische Bloemkool 2018-01-01     Monday            2.39         0.0   \n",
       "                      2018-01-04   Thursday            2.39         0.0   \n",
       "                      2018-01-05     Friday            2.39         0.0   \n",
       "                      2018-01-07     Sunday            2.39         0.0   \n",
       "                      2018-01-08     Monday            2.39         0.0   \n",
       "...                                     ...             ...         ...   \n",
       "Biologische rode kool 2018-12-25    Tuesday            1.29         0.0   \n",
       "                      2018-12-26  Wednesday            1.29         0.0   \n",
       "                      2018-12-28     Friday            1.29         0.0   \n",
       "                      2018-12-29   Saturday            1.29         0.0   \n",
       "                      2018-12-30     Sunday            1.29         0.0   \n",
       "\n",
       "                                  prev_day_purchases  prev_day_pp  \\\n",
       "description           day                                           \n",
       "Biologische Bloemkool 2018-01-01                 0.0          NaN   \n",
       "                      2018-01-04                 1.0         2.39   \n",
       "                      2018-01-05                 4.0         2.39   \n",
       "                      2018-01-07                 1.0         2.39   \n",
       "                      2018-01-08                 9.0         2.39   \n",
       "...                                              ...          ...   \n",
       "Biologische rode kool 2018-12-25                 4.0         1.29   \n",
       "                      2018-12-26                 3.0         1.29   \n",
       "                      2018-12-28                 1.0         1.29   \n",
       "                      2018-12-29                 5.0         1.29   \n",
       "                      2018-12-30                 3.0         1.29   \n",
       "\n",
       "                                  discount_prev_day  on_discount  \n",
       "description           day                                         \n",
       "Biologische Bloemkool 2018-01-01                  1           15  \n",
       "                      2018-01-04                  0           16  \n",
       "                      2018-01-05                  0           16  \n",
       "                      2018-01-07                  0            4  \n",
       "                      2018-01-08                  0           22  \n",
       "...                                             ...          ...  \n",
       "Biologische rode kool 2018-12-25                  0           15  \n",
       "                      2018-12-26                  1           13  \n",
       "                      2018-12-28                  1           13  \n",
       "                      2018-12-29                  0           12  \n",
       "                      2018-12-30                  0           13  \n",
       "\n",
       "[2680 rows x 18 columns]"
      ],
      "text/html": "<div>\n<style scoped>\n    .dataframe tbody tr th:only-of-type {\n        vertical-align: middle;\n    }\n\n    .dataframe tbody tr th {\n        vertical-align: top;\n    }\n\n    .dataframe thead th {\n        text-align: right;\n    }\n</style>\n<table border=\"1\" class=\"dataframe\">\n  <thead>\n    <tr style=\"text-align: right;\">\n      <th></th>\n      <th></th>\n      <th>count</th>\n      <th>discount</th>\n      <th>std</th>\n      <th>min</th>\n      <th>25%</th>\n      <th>50%</th>\n      <th>75%</th>\n      <th>max</th>\n      <th>month</th>\n      <th>product</th>\n      <th>day</th>\n      <th>dayofweek</th>\n      <th>purchase_price</th>\n      <th>discount_2</th>\n      <th>prev_day_purchases</th>\n      <th>prev_day_pp</th>\n      <th>discount_prev_day</th>\n      <th>on_discount</th>\n    </tr>\n    <tr>\n      <th>description</th>\n      <th>day</th>\n      <th></th>\n      <th></th>\n      <th></th>\n      <th></th>\n      <th></th>\n      <th></th>\n      <th></th>\n      <th></th>\n      <th></th>\n      <th></th>\n      <th></th>\n      <th></th>\n      <th></th>\n      <th></th>\n      <th></th>\n      <th></th>\n      <th></th>\n      <th></th>\n    </tr>\n  </thead>\n  <tbody>\n    <tr>\n      <th rowspan=\"5\" valign=\"top\">Biologische Bloemkool</th>\n      <th>2018-01-01</th>\n      <td>5.0</td>\n      <td>0.0</td>\n      <td>0.0</td>\n      <td>0.0</td>\n      <td>0.0</td>\n      <td>0.0</td>\n      <td>0.0</td>\n      <td>0.0</td>\n      <td>January</td>\n      <td>Biologische Bloemkool</td>\n      <td>1</td>\n      <td>Monday</td>\n      <td>2.39</td>\n      <td>0.0</td>\n      <td>0.0</td>\n      <td>NaN</td>\n      <td>1</td>\n      <td>15</td>\n    </tr>\n    <tr>\n      <th>2018-01-04</th>\n      <td>4.0</td>\n      <td>0.0</td>\n      <td>0.0</td>\n      <td>0.0</td>\n      <td>0.0</td>\n      <td>0.0</td>\n      <td>0.0</td>\n      <td>0.0</td>\n      <td>January</td>\n      <td>Biologische Bloemkool</td>\n      <td>4</td>\n      <td>Thursday</td>\n      <td>2.39</td>\n      <td>0.0</td>\n      <td>1.0</td>\n      <td>2.39</td>\n      <td>0</td>\n      <td>16</td>\n    </tr>\n    <tr>\n      <th>2018-01-05</th>\n      <td>6.0</td>\n      <td>0.0</td>\n      <td>0.0</td>\n      <td>0.0</td>\n      <td>0.0</td>\n      <td>0.0</td>\n      <td>0.0</td>\n      <td>0.0</td>\n      <td>January</td>\n      <td>Biologische Bloemkool</td>\n      <td>5</td>\n      <td>Friday</td>\n      <td>2.39</td>\n      <td>0.0</td>\n      <td>4.0</td>\n      <td>2.39</td>\n      <td>0</td>\n      <td>16</td>\n    </tr>\n    <tr>\n      <th>2018-01-07</th>\n      <td>9.0</td>\n      <td>0.0</td>\n      <td>0.0</td>\n      <td>0.0</td>\n      <td>0.0</td>\n      <td>0.0</td>\n      <td>0.0</td>\n      <td>0.0</td>\n      <td>January</td>\n      <td>Biologische Bloemkool</td>\n      <td>7</td>\n      <td>Sunday</td>\n      <td>2.39</td>\n      <td>0.0</td>\n      <td>1.0</td>\n      <td>2.39</td>\n      <td>0</td>\n      <td>4</td>\n    </tr>\n    <tr>\n      <th>2018-01-08</th>\n      <td>2.0</td>\n      <td>0.0</td>\n      <td>0.0</td>\n      <td>0.0</td>\n      <td>0.0</td>\n      <td>0.0</td>\n      <td>0.0</td>\n      <td>0.0</td>\n      <td>January</td>\n      <td>Biologische Bloemkool</td>\n      <td>8</td>\n      <td>Monday</td>\n      <td>2.39</td>\n      <td>0.0</td>\n      <td>9.0</td>\n      <td>2.39</td>\n      <td>0</td>\n      <td>22</td>\n    </tr>\n    <tr>\n      <th>...</th>\n      <th>...</th>\n      <td>...</td>\n      <td>...</td>\n      <td>...</td>\n      <td>...</td>\n      <td>...</td>\n      <td>...</td>\n      <td>...</td>\n      <td>...</td>\n      <td>...</td>\n      <td>...</td>\n      <td>...</td>\n      <td>...</td>\n      <td>...</td>\n      <td>...</td>\n      <td>...</td>\n      <td>...</td>\n      <td>...</td>\n      <td>...</td>\n    </tr>\n    <tr>\n      <th rowspan=\"5\" valign=\"top\">Biologische rode kool</th>\n      <th>2018-12-25</th>\n      <td>3.0</td>\n      <td>0.0</td>\n      <td>0.0</td>\n      <td>0.0</td>\n      <td>0.0</td>\n      <td>0.0</td>\n      <td>0.0</td>\n      <td>0.0</td>\n      <td>December</td>\n      <td>Biologische rode kool</td>\n      <td>359</td>\n      <td>Tuesday</td>\n      <td>1.29</td>\n      <td>0.0</td>\n      <td>4.0</td>\n      <td>1.29</td>\n      <td>0</td>\n      <td>15</td>\n    </tr>\n    <tr>\n      <th>2018-12-26</th>\n      <td>7.0</td>\n      <td>0.0</td>\n      <td>0.0</td>\n      <td>0.0</td>\n      <td>0.0</td>\n      <td>0.0</td>\n      <td>0.0</td>\n      <td>0.0</td>\n      <td>December</td>\n      <td>Biologische rode kool</td>\n      <td>360</td>\n      <td>Wednesday</td>\n      <td>1.29</td>\n      <td>0.0</td>\n      <td>3.0</td>\n      <td>1.29</td>\n      <td>1</td>\n      <td>13</td>\n    </tr>\n    <tr>\n      <th>2018-12-28</th>\n      <td>5.0</td>\n      <td>0.0</td>\n      <td>0.0</td>\n      <td>0.0</td>\n      <td>0.0</td>\n      <td>0.0</td>\n      <td>0.0</td>\n      <td>0.0</td>\n      <td>December</td>\n      <td>Biologische rode kool</td>\n      <td>362</td>\n      <td>Friday</td>\n      <td>1.29</td>\n      <td>0.0</td>\n      <td>1.0</td>\n      <td>1.29</td>\n      <td>1</td>\n      <td>13</td>\n    </tr>\n    <tr>\n      <th>2018-12-29</th>\n      <td>3.0</td>\n      <td>0.0</td>\n      <td>0.0</td>\n      <td>0.0</td>\n      <td>0.0</td>\n      <td>0.0</td>\n      <td>0.0</td>\n      <td>0.0</td>\n      <td>December</td>\n      <td>Biologische rode kool</td>\n      <td>363</td>\n      <td>Saturday</td>\n      <td>1.29</td>\n      <td>0.0</td>\n      <td>5.0</td>\n      <td>1.29</td>\n      <td>0</td>\n      <td>12</td>\n    </tr>\n    <tr>\n      <th>2018-12-30</th>\n      <td>3.0</td>\n      <td>0.0</td>\n      <td>0.0</td>\n      <td>0.0</td>\n      <td>0.0</td>\n      <td>0.0</td>\n      <td>0.0</td>\n      <td>0.0</td>\n      <td>December</td>\n      <td>Biologische rode kool</td>\n      <td>364</td>\n      <td>Sunday</td>\n      <td>1.29</td>\n      <td>0.0</td>\n      <td>3.0</td>\n      <td>1.29</td>\n      <td>0</td>\n      <td>13</td>\n    </tr>\n  </tbody>\n</table>\n<p>2680 rows × 18 columns</p>\n</div>"
     },
     "metadata": {},
     "execution_count": 50
    }
   ],
   "source": [
    "new_df"
   ]
  },
  {
   "source": [
    "## Experimenting with TensorFlow"
   ],
   "cell_type": "markdown",
   "metadata": {}
  },
  {
   "cell_type": "code",
   "execution_count": 59,
   "metadata": {},
   "outputs": [],
   "source": [
    "from tensorflow.keras import models, layers, losses, optimizers\n",
    "\n",
    "lstm_model = models.Sequential()\n",
    "lstm_model.add(layers.LSTM(50, return_sequences=True))\n",
    "lstm_model.add(layers.LSTM(20))\n",
    "lstm_model.add(layers.Dense(1, activation=\"sigmoid\"))\n",
    "lstm_model.compile(loss=\"adam\", metrics=\"mean_absolute_error\")"
   ]
  },
  {
   "cell_type": "code",
   "execution_count": 62,
   "metadata": {},
   "outputs": [
    {
     "output_type": "error",
     "ename": "ValueError",
     "evalue": "Failed to convert a NumPy array to a Tensor (Unsupported object type float).",
     "traceback": [
      "\u001b[1;31m---------------------------------------------------------------------------\u001b[0m",
      "\u001b[1;31mValueError\u001b[0m                                Traceback (most recent call last)",
      "\u001b[1;32m<ipython-input-62-eca404158108>\u001b[0m in \u001b[0;36m<module>\u001b[1;34m\u001b[0m\n\u001b[0;32m      1\u001b[0m \u001b[0mX_train\u001b[0m\u001b[1;33m,\u001b[0m \u001b[0my_train\u001b[0m \u001b[1;33m=\u001b[0m \u001b[0moutput_dct\u001b[0m\u001b[1;33m[\u001b[0m\u001b[1;34m\"train\"\u001b[0m\u001b[1;33m]\u001b[0m\u001b[1;33m[\u001b[0m\u001b[1;36m0\u001b[0m\u001b[1;33m]\u001b[0m\u001b[1;33m,\u001b[0m \u001b[0moutput_dct\u001b[0m\u001b[1;33m[\u001b[0m\u001b[1;34m\"train\"\u001b[0m\u001b[1;33m]\u001b[0m\u001b[1;33m[\u001b[0m\u001b[1;36m1\u001b[0m\u001b[1;33m]\u001b[0m\u001b[1;33m\u001b[0m\u001b[1;33m\u001b[0m\u001b[0m\n\u001b[1;32m----> 2\u001b[1;33m \u001b[0mlstm_model\u001b[0m\u001b[1;33m.\u001b[0m\u001b[0mfit\u001b[0m\u001b[1;33m(\u001b[0m\u001b[0mX_train\u001b[0m\u001b[1;33m,\u001b[0m \u001b[0my_train\u001b[0m\u001b[1;33m,\u001b[0m \u001b[0mbatch_size\u001b[0m\u001b[1;33m=\u001b[0m\u001b[1;36m16\u001b[0m\u001b[1;33m,\u001b[0m \u001b[0mepochs\u001b[0m\u001b[1;33m=\u001b[0m\u001b[1;36m30\u001b[0m\u001b[1;33m)\u001b[0m\u001b[1;33m\u001b[0m\u001b[1;33m\u001b[0m\u001b[0m\n\u001b[0m",
      "\u001b[1;32m~\\AppData\\Roaming\\Python\\Python38\\site-packages\\tensorflow\\python\\keras\\engine\\training.py\u001b[0m in \u001b[0;36m_method_wrapper\u001b[1;34m(self, *args, **kwargs)\u001b[0m\n\u001b[0;32m    106\u001b[0m   \u001b[1;32mdef\u001b[0m \u001b[0m_method_wrapper\u001b[0m\u001b[1;33m(\u001b[0m\u001b[0mself\u001b[0m\u001b[1;33m,\u001b[0m \u001b[1;33m*\u001b[0m\u001b[0margs\u001b[0m\u001b[1;33m,\u001b[0m \u001b[1;33m**\u001b[0m\u001b[0mkwargs\u001b[0m\u001b[1;33m)\u001b[0m\u001b[1;33m:\u001b[0m\u001b[1;33m\u001b[0m\u001b[1;33m\u001b[0m\u001b[0m\n\u001b[0;32m    107\u001b[0m     \u001b[1;32mif\u001b[0m \u001b[1;32mnot\u001b[0m \u001b[0mself\u001b[0m\u001b[1;33m.\u001b[0m\u001b[0m_in_multi_worker_mode\u001b[0m\u001b[1;33m(\u001b[0m\u001b[1;33m)\u001b[0m\u001b[1;33m:\u001b[0m  \u001b[1;31m# pylint: disable=protected-access\u001b[0m\u001b[1;33m\u001b[0m\u001b[1;33m\u001b[0m\u001b[0m\n\u001b[1;32m--> 108\u001b[1;33m       \u001b[1;32mreturn\u001b[0m \u001b[0mmethod\u001b[0m\u001b[1;33m(\u001b[0m\u001b[0mself\u001b[0m\u001b[1;33m,\u001b[0m \u001b[1;33m*\u001b[0m\u001b[0margs\u001b[0m\u001b[1;33m,\u001b[0m \u001b[1;33m**\u001b[0m\u001b[0mkwargs\u001b[0m\u001b[1;33m)\u001b[0m\u001b[1;33m\u001b[0m\u001b[1;33m\u001b[0m\u001b[0m\n\u001b[0m\u001b[0;32m    109\u001b[0m \u001b[1;33m\u001b[0m\u001b[0m\n\u001b[0;32m    110\u001b[0m     \u001b[1;31m# Running inside `run_distribute_coordinator` already.\u001b[0m\u001b[1;33m\u001b[0m\u001b[1;33m\u001b[0m\u001b[1;33m\u001b[0m\u001b[0m\n",
      "\u001b[1;32m~\\AppData\\Roaming\\Python\\Python38\\site-packages\\tensorflow\\python\\keras\\engine\\training.py\u001b[0m in \u001b[0;36mfit\u001b[1;34m(self, x, y, batch_size, epochs, verbose, callbacks, validation_split, validation_data, shuffle, class_weight, sample_weight, initial_epoch, steps_per_epoch, validation_steps, validation_batch_size, validation_freq, max_queue_size, workers, use_multiprocessing)\u001b[0m\n\u001b[0;32m   1047\u001b[0m          \u001b[0mtraining_utils\u001b[0m\u001b[1;33m.\u001b[0m\u001b[0mRespectCompiledTrainableState\u001b[0m\u001b[1;33m(\u001b[0m\u001b[0mself\u001b[0m\u001b[1;33m)\u001b[0m\u001b[1;33m:\u001b[0m\u001b[1;33m\u001b[0m\u001b[1;33m\u001b[0m\u001b[0m\n\u001b[0;32m   1048\u001b[0m       \u001b[1;31m# Creates a `tf.data.Dataset` and handles batch and epoch iteration.\u001b[0m\u001b[1;33m\u001b[0m\u001b[1;33m\u001b[0m\u001b[1;33m\u001b[0m\u001b[0m\n\u001b[1;32m-> 1049\u001b[1;33m       data_handler = data_adapter.DataHandler(\n\u001b[0m\u001b[0;32m   1050\u001b[0m           \u001b[0mx\u001b[0m\u001b[1;33m=\u001b[0m\u001b[0mx\u001b[0m\u001b[1;33m,\u001b[0m\u001b[1;33m\u001b[0m\u001b[1;33m\u001b[0m\u001b[0m\n\u001b[0;32m   1051\u001b[0m           \u001b[0my\u001b[0m\u001b[1;33m=\u001b[0m\u001b[0my\u001b[0m\u001b[1;33m,\u001b[0m\u001b[1;33m\u001b[0m\u001b[1;33m\u001b[0m\u001b[0m\n",
      "\u001b[1;32m~\\AppData\\Roaming\\Python\\Python38\\site-packages\\tensorflow\\python\\keras\\engine\\data_adapter.py\u001b[0m in \u001b[0;36m__init__\u001b[1;34m(self, x, y, sample_weight, batch_size, steps_per_epoch, initial_epoch, epochs, shuffle, class_weight, max_queue_size, workers, use_multiprocessing, model, steps_per_execution)\u001b[0m\n\u001b[0;32m   1103\u001b[0m \u001b[1;33m\u001b[0m\u001b[0m\n\u001b[0;32m   1104\u001b[0m     \u001b[0madapter_cls\u001b[0m \u001b[1;33m=\u001b[0m \u001b[0mselect_data_adapter\u001b[0m\u001b[1;33m(\u001b[0m\u001b[0mx\u001b[0m\u001b[1;33m,\u001b[0m \u001b[0my\u001b[0m\u001b[1;33m)\u001b[0m\u001b[1;33m\u001b[0m\u001b[1;33m\u001b[0m\u001b[0m\n\u001b[1;32m-> 1105\u001b[1;33m     self._adapter = adapter_cls(\n\u001b[0m\u001b[0;32m   1106\u001b[0m         \u001b[0mx\u001b[0m\u001b[1;33m,\u001b[0m\u001b[1;33m\u001b[0m\u001b[1;33m\u001b[0m\u001b[0m\n\u001b[0;32m   1107\u001b[0m         \u001b[0my\u001b[0m\u001b[1;33m,\u001b[0m\u001b[1;33m\u001b[0m\u001b[1;33m\u001b[0m\u001b[0m\n",
      "\u001b[1;32m~\\AppData\\Roaming\\Python\\Python38\\site-packages\\tensorflow\\python\\keras\\engine\\data_adapter.py\u001b[0m in \u001b[0;36m__init__\u001b[1;34m(self, x, y, sample_weights, sample_weight_modes, batch_size, epochs, steps, shuffle, **kwargs)\u001b[0m\n\u001b[0;32m    263\u001b[0m                **kwargs):\n\u001b[0;32m    264\u001b[0m     \u001b[0msuper\u001b[0m\u001b[1;33m(\u001b[0m\u001b[0mTensorLikeDataAdapter\u001b[0m\u001b[1;33m,\u001b[0m \u001b[0mself\u001b[0m\u001b[1;33m)\u001b[0m\u001b[1;33m.\u001b[0m\u001b[0m__init__\u001b[0m\u001b[1;33m(\u001b[0m\u001b[0mx\u001b[0m\u001b[1;33m,\u001b[0m \u001b[0my\u001b[0m\u001b[1;33m,\u001b[0m \u001b[1;33m**\u001b[0m\u001b[0mkwargs\u001b[0m\u001b[1;33m)\u001b[0m\u001b[1;33m\u001b[0m\u001b[1;33m\u001b[0m\u001b[0m\n\u001b[1;32m--> 265\u001b[1;33m     \u001b[0mx\u001b[0m\u001b[1;33m,\u001b[0m \u001b[0my\u001b[0m\u001b[1;33m,\u001b[0m \u001b[0msample_weights\u001b[0m \u001b[1;33m=\u001b[0m \u001b[0m_process_tensorlike\u001b[0m\u001b[1;33m(\u001b[0m\u001b[1;33m(\u001b[0m\u001b[0mx\u001b[0m\u001b[1;33m,\u001b[0m \u001b[0my\u001b[0m\u001b[1;33m,\u001b[0m \u001b[0msample_weights\u001b[0m\u001b[1;33m)\u001b[0m\u001b[1;33m)\u001b[0m\u001b[1;33m\u001b[0m\u001b[1;33m\u001b[0m\u001b[0m\n\u001b[0m\u001b[0;32m    266\u001b[0m     sample_weight_modes = broadcast_sample_weight_modes(\n\u001b[0;32m    267\u001b[0m         sample_weights, sample_weight_modes)\n",
      "\u001b[1;32m~\\AppData\\Roaming\\Python\\Python38\\site-packages\\tensorflow\\python\\keras\\engine\\data_adapter.py\u001b[0m in \u001b[0;36m_process_tensorlike\u001b[1;34m(inputs)\u001b[0m\n\u001b[0;32m   1019\u001b[0m     \u001b[1;32mreturn\u001b[0m \u001b[0mx\u001b[0m\u001b[1;33m\u001b[0m\u001b[1;33m\u001b[0m\u001b[0m\n\u001b[0;32m   1020\u001b[0m \u001b[1;33m\u001b[0m\u001b[0m\n\u001b[1;32m-> 1021\u001b[1;33m   \u001b[0minputs\u001b[0m \u001b[1;33m=\u001b[0m \u001b[0mnest\u001b[0m\u001b[1;33m.\u001b[0m\u001b[0mmap_structure\u001b[0m\u001b[1;33m(\u001b[0m\u001b[0m_convert_numpy_and_scipy\u001b[0m\u001b[1;33m,\u001b[0m \u001b[0minputs\u001b[0m\u001b[1;33m)\u001b[0m\u001b[1;33m\u001b[0m\u001b[1;33m\u001b[0m\u001b[0m\n\u001b[0m\u001b[0;32m   1022\u001b[0m   \u001b[1;32mreturn\u001b[0m \u001b[0mnest\u001b[0m\u001b[1;33m.\u001b[0m\u001b[0mlist_to_tuple\u001b[0m\u001b[1;33m(\u001b[0m\u001b[0minputs\u001b[0m\u001b[1;33m)\u001b[0m\u001b[1;33m\u001b[0m\u001b[1;33m\u001b[0m\u001b[0m\n\u001b[0;32m   1023\u001b[0m \u001b[1;33m\u001b[0m\u001b[0m\n",
      "\u001b[1;32m~\\AppData\\Roaming\\Python\\Python38\\site-packages\\tensorflow\\python\\util\\nest.py\u001b[0m in \u001b[0;36mmap_structure\u001b[1;34m(func, *structure, **kwargs)\u001b[0m\n\u001b[0;32m    633\u001b[0m \u001b[1;33m\u001b[0m\u001b[0m\n\u001b[0;32m    634\u001b[0m   return pack_sequence_as(\n\u001b[1;32m--> 635\u001b[1;33m       \u001b[0mstructure\u001b[0m\u001b[1;33m[\u001b[0m\u001b[1;36m0\u001b[0m\u001b[1;33m]\u001b[0m\u001b[1;33m,\u001b[0m \u001b[1;33m[\u001b[0m\u001b[0mfunc\u001b[0m\u001b[1;33m(\u001b[0m\u001b[1;33m*\u001b[0m\u001b[0mx\u001b[0m\u001b[1;33m)\u001b[0m \u001b[1;32mfor\u001b[0m \u001b[0mx\u001b[0m \u001b[1;32min\u001b[0m \u001b[0mentries\u001b[0m\u001b[1;33m]\u001b[0m\u001b[1;33m,\u001b[0m\u001b[1;33m\u001b[0m\u001b[1;33m\u001b[0m\u001b[0m\n\u001b[0m\u001b[0;32m    636\u001b[0m       expand_composites=expand_composites)\n\u001b[0;32m    637\u001b[0m \u001b[1;33m\u001b[0m\u001b[0m\n",
      "\u001b[1;32m~\\AppData\\Roaming\\Python\\Python38\\site-packages\\tensorflow\\python\\util\\nest.py\u001b[0m in \u001b[0;36m<listcomp>\u001b[1;34m(.0)\u001b[0m\n\u001b[0;32m    633\u001b[0m \u001b[1;33m\u001b[0m\u001b[0m\n\u001b[0;32m    634\u001b[0m   return pack_sequence_as(\n\u001b[1;32m--> 635\u001b[1;33m       \u001b[0mstructure\u001b[0m\u001b[1;33m[\u001b[0m\u001b[1;36m0\u001b[0m\u001b[1;33m]\u001b[0m\u001b[1;33m,\u001b[0m \u001b[1;33m[\u001b[0m\u001b[0mfunc\u001b[0m\u001b[1;33m(\u001b[0m\u001b[1;33m*\u001b[0m\u001b[0mx\u001b[0m\u001b[1;33m)\u001b[0m \u001b[1;32mfor\u001b[0m \u001b[0mx\u001b[0m \u001b[1;32min\u001b[0m \u001b[0mentries\u001b[0m\u001b[1;33m]\u001b[0m\u001b[1;33m,\u001b[0m\u001b[1;33m\u001b[0m\u001b[1;33m\u001b[0m\u001b[0m\n\u001b[0m\u001b[0;32m    636\u001b[0m       expand_composites=expand_composites)\n\u001b[0;32m    637\u001b[0m \u001b[1;33m\u001b[0m\u001b[0m\n",
      "\u001b[1;32m~\\AppData\\Roaming\\Python\\Python38\\site-packages\\tensorflow\\python\\keras\\engine\\data_adapter.py\u001b[0m in \u001b[0;36m_convert_numpy_and_scipy\u001b[1;34m(x)\u001b[0m\n\u001b[0;32m   1014\u001b[0m       \u001b[1;32mif\u001b[0m \u001b[0missubclass\u001b[0m\u001b[1;33m(\u001b[0m\u001b[0mx\u001b[0m\u001b[1;33m.\u001b[0m\u001b[0mdtype\u001b[0m\u001b[1;33m.\u001b[0m\u001b[0mtype\u001b[0m\u001b[1;33m,\u001b[0m \u001b[0mnp\u001b[0m\u001b[1;33m.\u001b[0m\u001b[0mfloating\u001b[0m\u001b[1;33m)\u001b[0m\u001b[1;33m:\u001b[0m\u001b[1;33m\u001b[0m\u001b[1;33m\u001b[0m\u001b[0m\n\u001b[0;32m   1015\u001b[0m         \u001b[0mdtype\u001b[0m \u001b[1;33m=\u001b[0m \u001b[0mbackend\u001b[0m\u001b[1;33m.\u001b[0m\u001b[0mfloatx\u001b[0m\u001b[1;33m(\u001b[0m\u001b[1;33m)\u001b[0m\u001b[1;33m\u001b[0m\u001b[1;33m\u001b[0m\u001b[0m\n\u001b[1;32m-> 1016\u001b[1;33m       \u001b[1;32mreturn\u001b[0m \u001b[0mops\u001b[0m\u001b[1;33m.\u001b[0m\u001b[0mconvert_to_tensor\u001b[0m\u001b[1;33m(\u001b[0m\u001b[0mx\u001b[0m\u001b[1;33m,\u001b[0m \u001b[0mdtype\u001b[0m\u001b[1;33m=\u001b[0m\u001b[0mdtype\u001b[0m\u001b[1;33m)\u001b[0m\u001b[1;33m\u001b[0m\u001b[1;33m\u001b[0m\u001b[0m\n\u001b[0m\u001b[0;32m   1017\u001b[0m     \u001b[1;32melif\u001b[0m \u001b[0mscipy_sparse\u001b[0m \u001b[1;32mand\u001b[0m \u001b[0mscipy_sparse\u001b[0m\u001b[1;33m.\u001b[0m\u001b[0missparse\u001b[0m\u001b[1;33m(\u001b[0m\u001b[0mx\u001b[0m\u001b[1;33m)\u001b[0m\u001b[1;33m:\u001b[0m\u001b[1;33m\u001b[0m\u001b[1;33m\u001b[0m\u001b[0m\n\u001b[0;32m   1018\u001b[0m       \u001b[1;32mreturn\u001b[0m \u001b[0m_scipy_sparse_to_sparse_tensor\u001b[0m\u001b[1;33m(\u001b[0m\u001b[0mx\u001b[0m\u001b[1;33m)\u001b[0m\u001b[1;33m\u001b[0m\u001b[1;33m\u001b[0m\u001b[0m\n",
      "\u001b[1;32m~\\AppData\\Roaming\\Python\\Python38\\site-packages\\tensorflow\\python\\framework\\ops.py\u001b[0m in \u001b[0;36mconvert_to_tensor\u001b[1;34m(value, dtype, name, as_ref, preferred_dtype, dtype_hint, ctx, accepted_result_types)\u001b[0m\n\u001b[0;32m   1497\u001b[0m \u001b[1;33m\u001b[0m\u001b[0m\n\u001b[0;32m   1498\u001b[0m     \u001b[1;32mif\u001b[0m \u001b[0mret\u001b[0m \u001b[1;32mis\u001b[0m \u001b[1;32mNone\u001b[0m\u001b[1;33m:\u001b[0m\u001b[1;33m\u001b[0m\u001b[1;33m\u001b[0m\u001b[0m\n\u001b[1;32m-> 1499\u001b[1;33m       \u001b[0mret\u001b[0m \u001b[1;33m=\u001b[0m \u001b[0mconversion_func\u001b[0m\u001b[1;33m(\u001b[0m\u001b[0mvalue\u001b[0m\u001b[1;33m,\u001b[0m \u001b[0mdtype\u001b[0m\u001b[1;33m=\u001b[0m\u001b[0mdtype\u001b[0m\u001b[1;33m,\u001b[0m \u001b[0mname\u001b[0m\u001b[1;33m=\u001b[0m\u001b[0mname\u001b[0m\u001b[1;33m,\u001b[0m \u001b[0mas_ref\u001b[0m\u001b[1;33m=\u001b[0m\u001b[0mas_ref\u001b[0m\u001b[1;33m)\u001b[0m\u001b[1;33m\u001b[0m\u001b[1;33m\u001b[0m\u001b[0m\n\u001b[0m\u001b[0;32m   1500\u001b[0m \u001b[1;33m\u001b[0m\u001b[0m\n\u001b[0;32m   1501\u001b[0m     \u001b[1;32mif\u001b[0m \u001b[0mret\u001b[0m \u001b[1;32mis\u001b[0m \u001b[0mNotImplemented\u001b[0m\u001b[1;33m:\u001b[0m\u001b[1;33m\u001b[0m\u001b[1;33m\u001b[0m\u001b[0m\n",
      "\u001b[1;32m~\\AppData\\Roaming\\Python\\Python38\\site-packages\\tensorflow\\python\\framework\\tensor_conversion_registry.py\u001b[0m in \u001b[0;36m_default_conversion_function\u001b[1;34m(***failed resolving arguments***)\u001b[0m\n\u001b[0;32m     50\u001b[0m \u001b[1;32mdef\u001b[0m \u001b[0m_default_conversion_function\u001b[0m\u001b[1;33m(\u001b[0m\u001b[0mvalue\u001b[0m\u001b[1;33m,\u001b[0m \u001b[0mdtype\u001b[0m\u001b[1;33m,\u001b[0m \u001b[0mname\u001b[0m\u001b[1;33m,\u001b[0m \u001b[0mas_ref\u001b[0m\u001b[1;33m)\u001b[0m\u001b[1;33m:\u001b[0m\u001b[1;33m\u001b[0m\u001b[1;33m\u001b[0m\u001b[0m\n\u001b[0;32m     51\u001b[0m   \u001b[1;32mdel\u001b[0m \u001b[0mas_ref\u001b[0m  \u001b[1;31m# Unused.\u001b[0m\u001b[1;33m\u001b[0m\u001b[1;33m\u001b[0m\u001b[0m\n\u001b[1;32m---> 52\u001b[1;33m   \u001b[1;32mreturn\u001b[0m \u001b[0mconstant_op\u001b[0m\u001b[1;33m.\u001b[0m\u001b[0mconstant\u001b[0m\u001b[1;33m(\u001b[0m\u001b[0mvalue\u001b[0m\u001b[1;33m,\u001b[0m \u001b[0mdtype\u001b[0m\u001b[1;33m,\u001b[0m \u001b[0mname\u001b[0m\u001b[1;33m=\u001b[0m\u001b[0mname\u001b[0m\u001b[1;33m)\u001b[0m\u001b[1;33m\u001b[0m\u001b[1;33m\u001b[0m\u001b[0m\n\u001b[0m\u001b[0;32m     53\u001b[0m \u001b[1;33m\u001b[0m\u001b[0m\n\u001b[0;32m     54\u001b[0m \u001b[1;33m\u001b[0m\u001b[0m\n",
      "\u001b[1;32m~\\AppData\\Roaming\\Python\\Python38\\site-packages\\tensorflow\\python\\framework\\constant_op.py\u001b[0m in \u001b[0;36mconstant\u001b[1;34m(value, dtype, shape, name)\u001b[0m\n\u001b[0;32m    261\u001b[0m     \u001b[0mValueError\u001b[0m\u001b[1;33m:\u001b[0m \u001b[1;32mif\u001b[0m \u001b[0mcalled\u001b[0m \u001b[0mon\u001b[0m \u001b[0ma\u001b[0m \u001b[0msymbolic\u001b[0m \u001b[0mtensor\u001b[0m\u001b[1;33m.\u001b[0m\u001b[1;33m\u001b[0m\u001b[1;33m\u001b[0m\u001b[0m\n\u001b[0;32m    262\u001b[0m   \"\"\"\n\u001b[1;32m--> 263\u001b[1;33m   return _constant_impl(value, dtype, shape, name, verify_shape=False,\n\u001b[0m\u001b[0;32m    264\u001b[0m                         allow_broadcast=True)\n\u001b[0;32m    265\u001b[0m \u001b[1;33m\u001b[0m\u001b[0m\n",
      "\u001b[1;32m~\\AppData\\Roaming\\Python\\Python38\\site-packages\\tensorflow\\python\\framework\\constant_op.py\u001b[0m in \u001b[0;36m_constant_impl\u001b[1;34m(value, dtype, shape, name, verify_shape, allow_broadcast)\u001b[0m\n\u001b[0;32m    273\u001b[0m       \u001b[1;32mwith\u001b[0m \u001b[0mtrace\u001b[0m\u001b[1;33m.\u001b[0m\u001b[0mTrace\u001b[0m\u001b[1;33m(\u001b[0m\u001b[1;34m\"tf.constant\"\u001b[0m\u001b[1;33m)\u001b[0m\u001b[1;33m:\u001b[0m\u001b[1;33m\u001b[0m\u001b[1;33m\u001b[0m\u001b[0m\n\u001b[0;32m    274\u001b[0m         \u001b[1;32mreturn\u001b[0m \u001b[0m_constant_eager_impl\u001b[0m\u001b[1;33m(\u001b[0m\u001b[0mctx\u001b[0m\u001b[1;33m,\u001b[0m \u001b[0mvalue\u001b[0m\u001b[1;33m,\u001b[0m \u001b[0mdtype\u001b[0m\u001b[1;33m,\u001b[0m \u001b[0mshape\u001b[0m\u001b[1;33m,\u001b[0m \u001b[0mverify_shape\u001b[0m\u001b[1;33m)\u001b[0m\u001b[1;33m\u001b[0m\u001b[1;33m\u001b[0m\u001b[0m\n\u001b[1;32m--> 275\u001b[1;33m     \u001b[1;32mreturn\u001b[0m \u001b[0m_constant_eager_impl\u001b[0m\u001b[1;33m(\u001b[0m\u001b[0mctx\u001b[0m\u001b[1;33m,\u001b[0m \u001b[0mvalue\u001b[0m\u001b[1;33m,\u001b[0m \u001b[0mdtype\u001b[0m\u001b[1;33m,\u001b[0m \u001b[0mshape\u001b[0m\u001b[1;33m,\u001b[0m \u001b[0mverify_shape\u001b[0m\u001b[1;33m)\u001b[0m\u001b[1;33m\u001b[0m\u001b[1;33m\u001b[0m\u001b[0m\n\u001b[0m\u001b[0;32m    276\u001b[0m \u001b[1;33m\u001b[0m\u001b[0m\n\u001b[0;32m    277\u001b[0m   \u001b[0mg\u001b[0m \u001b[1;33m=\u001b[0m \u001b[0mops\u001b[0m\u001b[1;33m.\u001b[0m\u001b[0mget_default_graph\u001b[0m\u001b[1;33m(\u001b[0m\u001b[1;33m)\u001b[0m\u001b[1;33m\u001b[0m\u001b[1;33m\u001b[0m\u001b[0m\n",
      "\u001b[1;32m~\\AppData\\Roaming\\Python\\Python38\\site-packages\\tensorflow\\python\\framework\\constant_op.py\u001b[0m in \u001b[0;36m_constant_eager_impl\u001b[1;34m(ctx, value, dtype, shape, verify_shape)\u001b[0m\n\u001b[0;32m    298\u001b[0m \u001b[1;32mdef\u001b[0m \u001b[0m_constant_eager_impl\u001b[0m\u001b[1;33m(\u001b[0m\u001b[0mctx\u001b[0m\u001b[1;33m,\u001b[0m \u001b[0mvalue\u001b[0m\u001b[1;33m,\u001b[0m \u001b[0mdtype\u001b[0m\u001b[1;33m,\u001b[0m \u001b[0mshape\u001b[0m\u001b[1;33m,\u001b[0m \u001b[0mverify_shape\u001b[0m\u001b[1;33m)\u001b[0m\u001b[1;33m:\u001b[0m\u001b[1;33m\u001b[0m\u001b[1;33m\u001b[0m\u001b[0m\n\u001b[0;32m    299\u001b[0m   \u001b[1;34m\"\"\"Implementation of eager constant.\"\"\"\u001b[0m\u001b[1;33m\u001b[0m\u001b[1;33m\u001b[0m\u001b[0m\n\u001b[1;32m--> 300\u001b[1;33m   \u001b[0mt\u001b[0m \u001b[1;33m=\u001b[0m \u001b[0mconvert_to_eager_tensor\u001b[0m\u001b[1;33m(\u001b[0m\u001b[0mvalue\u001b[0m\u001b[1;33m,\u001b[0m \u001b[0mctx\u001b[0m\u001b[1;33m,\u001b[0m \u001b[0mdtype\u001b[0m\u001b[1;33m)\u001b[0m\u001b[1;33m\u001b[0m\u001b[1;33m\u001b[0m\u001b[0m\n\u001b[0m\u001b[0;32m    301\u001b[0m   \u001b[1;32mif\u001b[0m \u001b[0mshape\u001b[0m \u001b[1;32mis\u001b[0m \u001b[1;32mNone\u001b[0m\u001b[1;33m:\u001b[0m\u001b[1;33m\u001b[0m\u001b[1;33m\u001b[0m\u001b[0m\n\u001b[0;32m    302\u001b[0m     \u001b[1;32mreturn\u001b[0m \u001b[0mt\u001b[0m\u001b[1;33m\u001b[0m\u001b[1;33m\u001b[0m\u001b[0m\n",
      "\u001b[1;32m~\\AppData\\Roaming\\Python\\Python38\\site-packages\\tensorflow\\python\\framework\\constant_op.py\u001b[0m in \u001b[0;36mconvert_to_eager_tensor\u001b[1;34m(value, ctx, dtype)\u001b[0m\n\u001b[0;32m     96\u001b[0m       \u001b[0mdtype\u001b[0m \u001b[1;33m=\u001b[0m \u001b[0mdtypes\u001b[0m\u001b[1;33m.\u001b[0m\u001b[0mas_dtype\u001b[0m\u001b[1;33m(\u001b[0m\u001b[0mdtype\u001b[0m\u001b[1;33m)\u001b[0m\u001b[1;33m.\u001b[0m\u001b[0mas_datatype_enum\u001b[0m\u001b[1;33m\u001b[0m\u001b[1;33m\u001b[0m\u001b[0m\n\u001b[0;32m     97\u001b[0m   \u001b[0mctx\u001b[0m\u001b[1;33m.\u001b[0m\u001b[0mensure_initialized\u001b[0m\u001b[1;33m(\u001b[0m\u001b[1;33m)\u001b[0m\u001b[1;33m\u001b[0m\u001b[1;33m\u001b[0m\u001b[0m\n\u001b[1;32m---> 98\u001b[1;33m   \u001b[1;32mreturn\u001b[0m \u001b[0mops\u001b[0m\u001b[1;33m.\u001b[0m\u001b[0mEagerTensor\u001b[0m\u001b[1;33m(\u001b[0m\u001b[0mvalue\u001b[0m\u001b[1;33m,\u001b[0m \u001b[0mctx\u001b[0m\u001b[1;33m.\u001b[0m\u001b[0mdevice_name\u001b[0m\u001b[1;33m,\u001b[0m \u001b[0mdtype\u001b[0m\u001b[1;33m)\u001b[0m\u001b[1;33m\u001b[0m\u001b[1;33m\u001b[0m\u001b[0m\n\u001b[0m\u001b[0;32m     99\u001b[0m \u001b[1;33m\u001b[0m\u001b[0m\n\u001b[0;32m    100\u001b[0m \u001b[1;33m\u001b[0m\u001b[0m\n",
      "\u001b[1;31mValueError\u001b[0m: Failed to convert a NumPy array to a Tensor (Unsupported object type float)."
     ]
    }
   ],
   "source": [
    "X_train, y_train = output_dct[\"train\"][0], output_dct[\"train\"][1]\n",
    "lstm_model.fit(X_train, y_train, batch_size=16, epochs=30)"
   ]
  }
 ]
}