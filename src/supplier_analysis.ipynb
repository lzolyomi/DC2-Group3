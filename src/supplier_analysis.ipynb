{
 "metadata": {
  "language_info": {
   "codemirror_mode": {
    "name": "ipython",
    "version": 3
   },
   "file_extension": ".py",
   "mimetype": "text/x-python",
   "name": "python",
   "nbconvert_exporter": "python",
   "pygments_lexer": "ipython3",
   "version": "3.8.2-final"
  },
  "orig_nbformat": 2,
  "kernelspec": {
   "name": "python3",
   "display_name": "Python 3.8.2 64-bit",
   "metadata": {
    "interpreter": {
     "hash": "aee8b7b246df8f9039afb4144a1f6fd8d2ca17a180786b69acc140d282b71a49"
    }
   }
  }
 },
 "nbformat": 4,
 "nbformat_minor": 2,
 "cells": [
  {
   "cell_type": "code",
   "execution_count": 40,
   "metadata": {},
   "outputs": [],
   "source": [
    "import pandas as pd\n",
    "import numpy as np \n",
    "import datetime\n",
    "inventory = pd.read_csv(\"data/inventory.csv\")\n",
    "products = pd.read_csv(\"data/products.csv\")\n",
    "promotions = pd.read_csv(\"data/promotions.csv\")\n",
    "transactions = pd.read_csv(\"data/transactions.csv\")\n",
    "\n",
    "import ast\n",
    "for colname in inventory.columns[2:]:\n",
    "    inventory[colname] = [ast.literal_eval(i) for i in inventory[colname]]"
   ]
  },
  {
   "cell_type": "code",
   "execution_count": 58,
   "metadata": {},
   "outputs": [
    {
     "output_type": "execute_result",
     "data": {
      "text/plain": [
       "'date'"
      ]
     },
     "metadata": {},
     "execution_count": 58
    }
   ],
   "source": [
    "product = \"Paprika\"\n",
    "products = inventory.columns[2:]\n",
    "inventory.columns[-2]"
   ]
  },
  {
   "cell_type": "code",
   "execution_count": 3,
   "metadata": {},
   "outputs": [],
   "source": [
    "def date_converter(row):\n",
    "    converted_date = datetime.datetime(2018, 1, 1) + datetime.timedelta(row[\"day\"])\n",
    "    return converted_date\n",
    "\n",
    "inventory[\"date\"] = inventory.apply(date_converter, axis = 1)"
   ]
  },
  {
   "cell_type": "code",
   "execution_count": 4,
   "metadata": {},
   "outputs": [],
   "source": [
    "def week_of_year(row):\n",
    "    week_nr = datetime.date(row[\"date\"].year, row[\"date\"].month, row[\"date\"].day).isocalendar()[1]\n",
    "    return week_nr\n",
    "\n",
    "inventory[\"week\"] = inventory.apply(week_of_year, axis = 1)"
   ]
  },
  {
   "cell_type": "code",
   "execution_count": 5,
   "metadata": {},
   "outputs": [
    {
     "output_type": "stream",
     "name": "stderr",
     "text": [
      "<ipython-input-5-bc6caeb2001c>:11: SettingWithCopyWarning: \nA value is trying to be set on a copy of a slice from a DataFrame.\nTry using .loc[row_indexer,col_indexer] = value instead\n\nSee the caveats in the documentation: https://pandas.pydata.org/pandas-docs/stable/user_guide/indexing.html#returning-a-view-versus-a-copy\n  filter_inventory[\"discount\"] = filter_inventory.apply(check_discount, axis = 1)\n"
     ]
    }
   ],
   "source": [
    "filter_inventory = inventory[[\"day\", \"before or after delivery\", \"date\", \"week\", product]]\n",
    "promotions_filter = promotions[promotions[\"description\"] == product]\n",
    "\n",
    "def check_discount(row):\n",
    "    if row[\"week\"] in promotions_filter[\"week\"].values:\n",
    "        discount_amount = promotions_filter[promotions_filter[\"week\"] == row[\"week\"]][\"discount\"]\n",
    "        return discount_amount.values[0]\n",
    "    else:\n",
    "        return 0\n",
    "\n",
    "filter_inventory[\"discount\"] = filter_inventory.apply(check_discount, axis = 1)"
   ]
  },
  {
   "cell_type": "code",
   "execution_count": 8,
   "metadata": {},
   "outputs": [],
   "source": [
    "def total_inv(row):\n",
    "    total = 0\n",
    "    if len(row[product]) > 0:\n",
    "        for batch in row[product]:\n",
    "            total += batch[1]\n",
    "    return total\n",
    "\n",
    "#filter_inventory[\"total inventory\"] = filter_inventory.apply(total_inv, axis = 1)"
   ]
  },
  {
   "cell_type": "code",
   "execution_count": 9,
   "metadata": {},
   "outputs": [
    {
     "output_type": "execute_result",
     "data": {
      "text/plain": [
       "   day before or after delivery       date  week     Paprika  discount\n",
       "0    0                   before 2018-01-01     1          []         0\n",
       "1    0                    after 2018-01-01     1  [(14, 34)]         0\n",
       "2    3                   before 2018-01-04     1          []         0\n",
       "3    3                    after 2018-01-04     1  [(17, 34)]         0\n",
       "4    7                   before 2018-01-08     2   [(17, 1)]         0"
      ],
      "text/html": "<div>\n<style scoped>\n    .dataframe tbody tr th:only-of-type {\n        vertical-align: middle;\n    }\n\n    .dataframe tbody tr th {\n        vertical-align: top;\n    }\n\n    .dataframe thead th {\n        text-align: right;\n    }\n</style>\n<table border=\"1\" class=\"dataframe\">\n  <thead>\n    <tr style=\"text-align: right;\">\n      <th></th>\n      <th>day</th>\n      <th>before or after delivery</th>\n      <th>date</th>\n      <th>week</th>\n      <th>Paprika</th>\n      <th>discount</th>\n    </tr>\n  </thead>\n  <tbody>\n    <tr>\n      <th>0</th>\n      <td>0</td>\n      <td>before</td>\n      <td>2018-01-01</td>\n      <td>1</td>\n      <td>[]</td>\n      <td>0</td>\n    </tr>\n    <tr>\n      <th>1</th>\n      <td>0</td>\n      <td>after</td>\n      <td>2018-01-01</td>\n      <td>1</td>\n      <td>[(14, 34)]</td>\n      <td>0</td>\n    </tr>\n    <tr>\n      <th>2</th>\n      <td>3</td>\n      <td>before</td>\n      <td>2018-01-04</td>\n      <td>1</td>\n      <td>[]</td>\n      <td>0</td>\n    </tr>\n    <tr>\n      <th>3</th>\n      <td>3</td>\n      <td>after</td>\n      <td>2018-01-04</td>\n      <td>1</td>\n      <td>[(17, 34)]</td>\n      <td>0</td>\n    </tr>\n    <tr>\n      <th>4</th>\n      <td>7</td>\n      <td>before</td>\n      <td>2018-01-08</td>\n      <td>2</td>\n      <td>[(17, 1)]</td>\n      <td>0</td>\n    </tr>\n  </tbody>\n</table>\n</div>"
     },
     "metadata": {},
     "execution_count": 9
    }
   ],
   "source": [
    "filter_inventory.head()"
   ]
  },
  {
   "cell_type": "code",
   "execution_count": 10,
   "metadata": {},
   "outputs": [],
   "source": [
    "re_date = []\n",
    "for element in filter_inventory[filter_inventory['before or after delivery'] == 'before']['day']:\n",
    "    re_date.append(element)\n",
    "re_dates = np.unique(re_date)"
   ]
  },
  {
   "cell_type": "code",
   "execution_count": 11,
   "metadata": {},
   "outputs": [],
   "source": [
    "ship_date = []\n",
    "for element_list in filter_inventory[product]:\n",
    "    for batch in element_list:\n",
    "        ship_date.append(batch[0])\n",
    "sh_dates = np.unique(ship_date)"
   ]
  },
  {
   "cell_type": "code",
   "execution_count": 16,
   "metadata": {},
   "outputs": [
    {
     "output_type": "execute_result",
     "data": {
      "text/plain": [
       "16"
      ]
     },
     "metadata": {},
     "execution_count": 16
    }
   ],
   "source": [
    "len(sh_dates)"
   ]
  },
  {
   "cell_type": "code",
   "execution_count": 13,
   "metadata": {},
   "outputs": [
    {
     "output_type": "error",
     "ename": "ValueError",
     "evalue": "arrays must all be same length",
     "traceback": [
      "\u001b[0;31m---------------------------------------------------------------------------\u001b[0m",
      "\u001b[0;31mValueError\u001b[0m                                Traceback (most recent call last)",
      "\u001b[0;32m<ipython-input-13-df044a2bd6ad>\u001b[0m in \u001b[0;36m<module>\u001b[0;34m\u001b[0m\n\u001b[0;32m----> 1\u001b[0;31m \u001b[0mdf_ship\u001b[0m \u001b[0;34m=\u001b[0m \u001b[0mpd\u001b[0m\u001b[0;34m.\u001b[0m\u001b[0mDataFrame\u001b[0m\u001b[0;34m(\u001b[0m\u001b[0;34m{\u001b[0m\u001b[0;34m\"receivedDate\"\u001b[0m\u001b[0;34m:\u001b[0m\u001b[0mre_dates\u001b[0m\u001b[0;34m,\u001b[0m \u001b[0;34m\"bestby\"\u001b[0m\u001b[0;34m:\u001b[0m\u001b[0msh_dates\u001b[0m\u001b[0;34m}\u001b[0m\u001b[0;34m)\u001b[0m\u001b[0;34m\u001b[0m\u001b[0;34m\u001b[0m\u001b[0m\n\u001b[0m\u001b[1;32m      2\u001b[0m \u001b[0mdf_ship\u001b[0m\u001b[0;34m\u001b[0m\u001b[0;34m\u001b[0m\u001b[0m\n",
      "\u001b[0;32m/Library/Frameworks/Python.framework/Versions/3.8/lib/python3.8/site-packages/pandas/core/frame.py\u001b[0m in \u001b[0;36m__init__\u001b[0;34m(self, data, index, columns, dtype, copy)\u001b[0m\n\u001b[1;32m    433\u001b[0m             )\n\u001b[1;32m    434\u001b[0m         \u001b[0;32melif\u001b[0m \u001b[0misinstance\u001b[0m\u001b[0;34m(\u001b[0m\u001b[0mdata\u001b[0m\u001b[0;34m,\u001b[0m \u001b[0mdict\u001b[0m\u001b[0;34m)\u001b[0m\u001b[0;34m:\u001b[0m\u001b[0;34m\u001b[0m\u001b[0;34m\u001b[0m\u001b[0m\n\u001b[0;32m--> 435\u001b[0;31m             \u001b[0mmgr\u001b[0m \u001b[0;34m=\u001b[0m \u001b[0minit_dict\u001b[0m\u001b[0;34m(\u001b[0m\u001b[0mdata\u001b[0m\u001b[0;34m,\u001b[0m \u001b[0mindex\u001b[0m\u001b[0;34m,\u001b[0m \u001b[0mcolumns\u001b[0m\u001b[0;34m,\u001b[0m \u001b[0mdtype\u001b[0m\u001b[0;34m=\u001b[0m\u001b[0mdtype\u001b[0m\u001b[0;34m)\u001b[0m\u001b[0;34m\u001b[0m\u001b[0;34m\u001b[0m\u001b[0m\n\u001b[0m\u001b[1;32m    436\u001b[0m         \u001b[0;32melif\u001b[0m \u001b[0misinstance\u001b[0m\u001b[0;34m(\u001b[0m\u001b[0mdata\u001b[0m\u001b[0;34m,\u001b[0m \u001b[0mma\u001b[0m\u001b[0;34m.\u001b[0m\u001b[0mMaskedArray\u001b[0m\u001b[0;34m)\u001b[0m\u001b[0;34m:\u001b[0m\u001b[0;34m\u001b[0m\u001b[0;34m\u001b[0m\u001b[0m\n\u001b[1;32m    437\u001b[0m             \u001b[0;32mimport\u001b[0m \u001b[0mnumpy\u001b[0m\u001b[0;34m.\u001b[0m\u001b[0mma\u001b[0m\u001b[0;34m.\u001b[0m\u001b[0mmrecords\u001b[0m \u001b[0;32mas\u001b[0m \u001b[0mmrecords\u001b[0m\u001b[0;34m\u001b[0m\u001b[0;34m\u001b[0m\u001b[0m\n",
      "\u001b[0;32m/Library/Frameworks/Python.framework/Versions/3.8/lib/python3.8/site-packages/pandas/core/internals/construction.py\u001b[0m in \u001b[0;36minit_dict\u001b[0;34m(data, index, columns, dtype)\u001b[0m\n\u001b[1;32m    252\u001b[0m             \u001b[0marr\u001b[0m \u001b[0;32mif\u001b[0m \u001b[0;32mnot\u001b[0m \u001b[0mis_datetime64tz_dtype\u001b[0m\u001b[0;34m(\u001b[0m\u001b[0marr\u001b[0m\u001b[0;34m)\u001b[0m \u001b[0;32melse\u001b[0m \u001b[0marr\u001b[0m\u001b[0;34m.\u001b[0m\u001b[0mcopy\u001b[0m\u001b[0;34m(\u001b[0m\u001b[0;34m)\u001b[0m \u001b[0;32mfor\u001b[0m \u001b[0marr\u001b[0m \u001b[0;32min\u001b[0m \u001b[0marrays\u001b[0m\u001b[0;34m\u001b[0m\u001b[0;34m\u001b[0m\u001b[0m\n\u001b[1;32m    253\u001b[0m         ]\n\u001b[0;32m--> 254\u001b[0;31m     \u001b[0;32mreturn\u001b[0m \u001b[0marrays_to_mgr\u001b[0m\u001b[0;34m(\u001b[0m\u001b[0marrays\u001b[0m\u001b[0;34m,\u001b[0m \u001b[0mdata_names\u001b[0m\u001b[0;34m,\u001b[0m \u001b[0mindex\u001b[0m\u001b[0;34m,\u001b[0m \u001b[0mcolumns\u001b[0m\u001b[0;34m,\u001b[0m \u001b[0mdtype\u001b[0m\u001b[0;34m=\u001b[0m\u001b[0mdtype\u001b[0m\u001b[0;34m)\u001b[0m\u001b[0;34m\u001b[0m\u001b[0;34m\u001b[0m\u001b[0m\n\u001b[0m\u001b[1;32m    255\u001b[0m \u001b[0;34m\u001b[0m\u001b[0m\n\u001b[1;32m    256\u001b[0m \u001b[0;34m\u001b[0m\u001b[0m\n",
      "\u001b[0;32m/Library/Frameworks/Python.framework/Versions/3.8/lib/python3.8/site-packages/pandas/core/internals/construction.py\u001b[0m in \u001b[0;36marrays_to_mgr\u001b[0;34m(arrays, arr_names, index, columns, dtype)\u001b[0m\n\u001b[1;32m     62\u001b[0m     \u001b[0;31m# figure out the index, if necessary\u001b[0m\u001b[0;34m\u001b[0m\u001b[0;34m\u001b[0m\u001b[0;34m\u001b[0m\u001b[0m\n\u001b[1;32m     63\u001b[0m     \u001b[0;32mif\u001b[0m \u001b[0mindex\u001b[0m \u001b[0;32mis\u001b[0m \u001b[0;32mNone\u001b[0m\u001b[0;34m:\u001b[0m\u001b[0;34m\u001b[0m\u001b[0;34m\u001b[0m\u001b[0m\n\u001b[0;32m---> 64\u001b[0;31m         \u001b[0mindex\u001b[0m \u001b[0;34m=\u001b[0m \u001b[0mextract_index\u001b[0m\u001b[0;34m(\u001b[0m\u001b[0marrays\u001b[0m\u001b[0;34m)\u001b[0m\u001b[0;34m\u001b[0m\u001b[0;34m\u001b[0m\u001b[0m\n\u001b[0m\u001b[1;32m     65\u001b[0m     \u001b[0;32melse\u001b[0m\u001b[0;34m:\u001b[0m\u001b[0;34m\u001b[0m\u001b[0;34m\u001b[0m\u001b[0m\n\u001b[1;32m     66\u001b[0m         \u001b[0mindex\u001b[0m \u001b[0;34m=\u001b[0m \u001b[0mensure_index\u001b[0m\u001b[0;34m(\u001b[0m\u001b[0mindex\u001b[0m\u001b[0;34m)\u001b[0m\u001b[0;34m\u001b[0m\u001b[0;34m\u001b[0m\u001b[0m\n",
      "\u001b[0;32m/Library/Frameworks/Python.framework/Versions/3.8/lib/python3.8/site-packages/pandas/core/internals/construction.py\u001b[0m in \u001b[0;36mextract_index\u001b[0;34m(data)\u001b[0m\n\u001b[1;32m    363\u001b[0m             \u001b[0mlengths\u001b[0m \u001b[0;34m=\u001b[0m \u001b[0mlist\u001b[0m\u001b[0;34m(\u001b[0m\u001b[0mset\u001b[0m\u001b[0;34m(\u001b[0m\u001b[0mraw_lengths\u001b[0m\u001b[0;34m)\u001b[0m\u001b[0;34m)\u001b[0m\u001b[0;34m\u001b[0m\u001b[0;34m\u001b[0m\u001b[0m\n\u001b[1;32m    364\u001b[0m             \u001b[0;32mif\u001b[0m \u001b[0mlen\u001b[0m\u001b[0;34m(\u001b[0m\u001b[0mlengths\u001b[0m\u001b[0;34m)\u001b[0m \u001b[0;34m>\u001b[0m \u001b[0;36m1\u001b[0m\u001b[0;34m:\u001b[0m\u001b[0;34m\u001b[0m\u001b[0;34m\u001b[0m\u001b[0m\n\u001b[0;32m--> 365\u001b[0;31m                 \u001b[0;32mraise\u001b[0m \u001b[0mValueError\u001b[0m\u001b[0;34m(\u001b[0m\u001b[0;34m\"arrays must all be same length\"\u001b[0m\u001b[0;34m)\u001b[0m\u001b[0;34m\u001b[0m\u001b[0;34m\u001b[0m\u001b[0m\n\u001b[0m\u001b[1;32m    366\u001b[0m \u001b[0;34m\u001b[0m\u001b[0m\n\u001b[1;32m    367\u001b[0m             \u001b[0;32mif\u001b[0m \u001b[0mhave_dicts\u001b[0m\u001b[0;34m:\u001b[0m\u001b[0;34m\u001b[0m\u001b[0;34m\u001b[0m\u001b[0m\n",
      "\u001b[0;31mValueError\u001b[0m: arrays must all be same length"
     ]
    }
   ],
   "source": [
    "df_ship = pd.DataFrame({\"receivedDate\":re_dates, \"bestby\":sh_dates})\n",
    "df_ship"
   ]
  },
  {
   "cell_type": "code",
   "execution_count": 12,
   "metadata": {},
   "outputs": [
    {
     "output_type": "execute_result",
     "data": {
      "text/plain": [
       "   day before or after delivery             Komkommer  Courgette  \\\n",
       "0    0                   before                    []         []   \n",
       "1    0                    after            [(14, 36)]  [(14, 8)]   \n",
       "2    3                   before            [(14, 13)]         []   \n",
       "3    3                    after  [(14, 13), (17, 36)]  [(17, 8)]   \n",
       "4    7                   before            [(17, 35)]         []   \n",
       "\n",
       "  SnoepVegetable tomaat           Paprika Mix     Paprika  \\\n",
       "0                    []                    []          []   \n",
       "1            [(14, 37)]            [(14, 33)]  [(14, 34)]   \n",
       "2            [(14, 13)]            [(14, 11)]          []   \n",
       "3  [(14, 13), (17, 37)]  [(14, 11), (17, 33)]  [(17, 34)]   \n",
       "4            [(17, 27)]            [(17, 17)]   [(17, 1)]   \n",
       "\n",
       "  Geschrapte worteltjes   Basis Sperziebonen Basis Rode kool met appel  ...  \\\n",
       "0                    []                   []                        []  ...   \n",
       "1            [(14, 35)]           [(14, 31)]                [(14, 35)]  ...   \n",
       "2                    []            [(14, 2)]                [(14, 12)]  ...   \n",
       "3            [(17, 35)]  [(14, 2), (17, 31)]      [(14, 12), (17, 35)]  ...   \n",
       "4            [(17, 13)]            [(17, 8)]                [(17, 32)]  ...   \n",
       "\n",
       "   Vanille muffins (vers) Basic chocolate chip cookies  \\\n",
       "0                      []                           []   \n",
       "1            [(100, 130)]                  [(100, 45)]   \n",
       "2              [(100, 3)]                           []   \n",
       "3  [(100, 3), (103, 130)]                  [(103, 45)]   \n",
       "4             [(103, 26)]                  [(103, 19)]   \n",
       "\n",
       "                      Oreo       Bakkersspeculaas              Eierkoeken  \\\n",
       "0                       []                     []                      []   \n",
       "1             [(100, 131)]            [(100, 45)]            [(100, 125)]   \n",
       "2              [(100, 19)]             [(100, 7)]              [(100, 8)]   \n",
       "3  [(100, 19), (103, 131)]  [(100, 7), (103, 45)]  [(100, 8), (103, 125)]   \n",
       "4              [(103, 55)]            [(103, 16)]             [(103, 39)]   \n",
       "\n",
       "      Ribbelchips naturel     Ribbelchips paprika      Doritos sweet chili  \\\n",
       "0                      []                      []                       []   \n",
       "1             [(100, 45)]             [(100, 44)]             [(100, 128)]   \n",
       "2             [(100, 10)]             [(100, 11)]              [(100, 26)]   \n",
       "3  [(100, 10), (103, 45)]  [(100, 11), (103, 44)]  [(100, 26), (103, 128)]   \n",
       "4             [(103, 28)]             [(103, 19)]              [(103, 58)]   \n",
       "\n",
       "        date week  \n",
       "0 2018-01-01    1  \n",
       "1 2018-01-01    1  \n",
       "2 2018-01-04    1  \n",
       "3 2018-01-04    1  \n",
       "4 2018-01-08    2  \n",
       "\n",
       "[5 rows x 159 columns]"
      ],
      "text/html": "<div>\n<style scoped>\n    .dataframe tbody tr th:only-of-type {\n        vertical-align: middle;\n    }\n\n    .dataframe tbody tr th {\n        vertical-align: top;\n    }\n\n    .dataframe thead th {\n        text-align: right;\n    }\n</style>\n<table border=\"1\" class=\"dataframe\">\n  <thead>\n    <tr style=\"text-align: right;\">\n      <th></th>\n      <th>day</th>\n      <th>before or after delivery</th>\n      <th>Komkommer</th>\n      <th>Courgette</th>\n      <th>SnoepVegetable tomaat</th>\n      <th>Paprika Mix</th>\n      <th>Paprika</th>\n      <th>Geschrapte worteltjes</th>\n      <th>Basis Sperziebonen</th>\n      <th>Basis Rode kool met appel</th>\n      <th>...</th>\n      <th>Vanille muffins (vers)</th>\n      <th>Basic chocolate chip cookies</th>\n      <th>Oreo</th>\n      <th>Bakkersspeculaas</th>\n      <th>Eierkoeken</th>\n      <th>Ribbelchips naturel</th>\n      <th>Ribbelchips paprika</th>\n      <th>Doritos sweet chili</th>\n      <th>date</th>\n      <th>week</th>\n    </tr>\n  </thead>\n  <tbody>\n    <tr>\n      <th>0</th>\n      <td>0</td>\n      <td>before</td>\n      <td>[]</td>\n      <td>[]</td>\n      <td>[]</td>\n      <td>[]</td>\n      <td>[]</td>\n      <td>[]</td>\n      <td>[]</td>\n      <td>[]</td>\n      <td>...</td>\n      <td>[]</td>\n      <td>[]</td>\n      <td>[]</td>\n      <td>[]</td>\n      <td>[]</td>\n      <td>[]</td>\n      <td>[]</td>\n      <td>[]</td>\n      <td>2018-01-01</td>\n      <td>1</td>\n    </tr>\n    <tr>\n      <th>1</th>\n      <td>0</td>\n      <td>after</td>\n      <td>[(14, 36)]</td>\n      <td>[(14, 8)]</td>\n      <td>[(14, 37)]</td>\n      <td>[(14, 33)]</td>\n      <td>[(14, 34)]</td>\n      <td>[(14, 35)]</td>\n      <td>[(14, 31)]</td>\n      <td>[(14, 35)]</td>\n      <td>...</td>\n      <td>[(100, 130)]</td>\n      <td>[(100, 45)]</td>\n      <td>[(100, 131)]</td>\n      <td>[(100, 45)]</td>\n      <td>[(100, 125)]</td>\n      <td>[(100, 45)]</td>\n      <td>[(100, 44)]</td>\n      <td>[(100, 128)]</td>\n      <td>2018-01-01</td>\n      <td>1</td>\n    </tr>\n    <tr>\n      <th>2</th>\n      <td>3</td>\n      <td>before</td>\n      <td>[(14, 13)]</td>\n      <td>[]</td>\n      <td>[(14, 13)]</td>\n      <td>[(14, 11)]</td>\n      <td>[]</td>\n      <td>[]</td>\n      <td>[(14, 2)]</td>\n      <td>[(14, 12)]</td>\n      <td>...</td>\n      <td>[(100, 3)]</td>\n      <td>[]</td>\n      <td>[(100, 19)]</td>\n      <td>[(100, 7)]</td>\n      <td>[(100, 8)]</td>\n      <td>[(100, 10)]</td>\n      <td>[(100, 11)]</td>\n      <td>[(100, 26)]</td>\n      <td>2018-01-04</td>\n      <td>1</td>\n    </tr>\n    <tr>\n      <th>3</th>\n      <td>3</td>\n      <td>after</td>\n      <td>[(14, 13), (17, 36)]</td>\n      <td>[(17, 8)]</td>\n      <td>[(14, 13), (17, 37)]</td>\n      <td>[(14, 11), (17, 33)]</td>\n      <td>[(17, 34)]</td>\n      <td>[(17, 35)]</td>\n      <td>[(14, 2), (17, 31)]</td>\n      <td>[(14, 12), (17, 35)]</td>\n      <td>...</td>\n      <td>[(100, 3), (103, 130)]</td>\n      <td>[(103, 45)]</td>\n      <td>[(100, 19), (103, 131)]</td>\n      <td>[(100, 7), (103, 45)]</td>\n      <td>[(100, 8), (103, 125)]</td>\n      <td>[(100, 10), (103, 45)]</td>\n      <td>[(100, 11), (103, 44)]</td>\n      <td>[(100, 26), (103, 128)]</td>\n      <td>2018-01-04</td>\n      <td>1</td>\n    </tr>\n    <tr>\n      <th>4</th>\n      <td>7</td>\n      <td>before</td>\n      <td>[(17, 35)]</td>\n      <td>[]</td>\n      <td>[(17, 27)]</td>\n      <td>[(17, 17)]</td>\n      <td>[(17, 1)]</td>\n      <td>[(17, 13)]</td>\n      <td>[(17, 8)]</td>\n      <td>[(17, 32)]</td>\n      <td>...</td>\n      <td>[(103, 26)]</td>\n      <td>[(103, 19)]</td>\n      <td>[(103, 55)]</td>\n      <td>[(103, 16)]</td>\n      <td>[(103, 39)]</td>\n      <td>[(103, 28)]</td>\n      <td>[(103, 19)]</td>\n      <td>[(103, 58)]</td>\n      <td>2018-01-08</td>\n      <td>2</td>\n    </tr>\n  </tbody>\n</table>\n<p>5 rows × 159 columns</p>\n</div>"
     },
     "metadata": {},
     "execution_count": 12
    }
   ],
   "source": [
    "inventory.head()"
   ]
  },
  {
   "cell_type": "code",
   "execution_count": 18,
   "metadata": {},
   "outputs": [],
   "source": [
    "def input_inv(row):\n",
    "    for element_list in filter_inventory[product]:\n",
    "        if len(element_list) > 0:\n",
    "            for batch in element_list:\n",
    "                if batch[0] == row[\"bestby\"]:\n",
    "                    return batch[1]\n",
    "#df_ship[\"amount\"] = df_ship.apply(input_inv, axis = 1)"
   ]
  },
  {
   "cell_type": "code",
   "execution_count": 21,
   "metadata": {},
   "outputs": [],
   "source": [
    "# df_ship\n",
    "#product gets thrown away on the day it goes bad, no one can buy it anymore ON THAT DAY\n",
    "#discard any items that has best before for enxt year\n",
    "#haven't sold anything that is not in stock\n",
    "# df_ship = df_ship[df_ship[\"bestby\"] < 365]\n",
    "# df_ship"
   ]
  },
  {
   "cell_type": "code",
   "execution_count": 22,
   "metadata": {},
   "outputs": [],
   "source": [
    "def date_converter(row):\n",
    "    converted_date = datetime.datetime(2018, 1, 1) + datetime.timedelta(int(row[\"bestby\"]))\n",
    "    #print(type(row['best before']))\n",
    "    return converted_date\n",
    "def date_converter_inv(row):\n",
    "    converted_date = datetime.datetime(2018, 1, 1) + datetime.timedelta(int(row[\"day\"]))\n",
    "    #print(type(row['best before']))\n",
    "    return converted_date\n",
    "def date_converter_re(row):\n",
    "    converted_date = datetime.datetime(2018, 1, 1) + datetime.timedelta(int(row[\"receivedDate\"]))\n",
    "    #print(type(row['best before']))\n",
    "    return converted_date\n",
    "def week_of_year(row):\n",
    "    week_nr = datetime.date(row[\"date\"].year, row[\"date\"].month, row[\"date\"].day).isocalendar()[1]\n",
    "    return week_nr\n",
    "\n",
    "# df_ship[\"date\"] = df_ship.apply(date_converter, axis = 1)\n",
    "# df_ship[\"week\"] = df_ship.apply(week_of_year, axis = 1)\n",
    "# df_ship['product'] = [product] * len(df_ship)\n",
    "# df_week_ship = df_ship.groupby('week').sum()\n"
   ]
  },
  {
   "cell_type": "code",
   "execution_count": 63,
   "metadata": {},
   "outputs": [
    {
     "output_type": "execute_result",
     "data": {
      "text/plain": [
       "array([ 7, 14, 34])"
      ]
     },
     "metadata": {},
     "execution_count": 63
    }
   ],
   "source": [
    "np.unique(df_ship['amount'])"
   ]
  },
  {
   "cell_type": "code",
   "execution_count": 19,
   "metadata": {},
   "outputs": [
    {
     "output_type": "execute_result",
     "data": {
      "text/plain": [
       "      receivedDate  bestby  amount\n",
       "week                              \n",
       "1              350     364      34\n",
       "3                3      31      68\n",
       "4               17      45      68\n",
       "5               31      59      28\n",
       "6               45      73      68"
      ],
      "text/html": "<div>\n<style scoped>\n    .dataframe tbody tr th:only-of-type {\n        vertical-align: middle;\n    }\n\n    .dataframe tbody tr th {\n        vertical-align: top;\n    }\n\n    .dataframe thead th {\n        text-align: right;\n    }\n</style>\n<table border=\"1\" class=\"dataframe\">\n  <thead>\n    <tr style=\"text-align: right;\">\n      <th></th>\n      <th>receivedDate</th>\n      <th>bestby</th>\n      <th>amount</th>\n    </tr>\n    <tr>\n      <th>week</th>\n      <th></th>\n      <th></th>\n      <th></th>\n    </tr>\n  </thead>\n  <tbody>\n    <tr>\n      <th>1</th>\n      <td>350</td>\n      <td>364</td>\n      <td>34</td>\n    </tr>\n    <tr>\n      <th>3</th>\n      <td>3</td>\n      <td>31</td>\n      <td>68</td>\n    </tr>\n    <tr>\n      <th>4</th>\n      <td>17</td>\n      <td>45</td>\n      <td>68</td>\n    </tr>\n    <tr>\n      <th>5</th>\n      <td>31</td>\n      <td>59</td>\n      <td>28</td>\n    </tr>\n    <tr>\n      <th>6</th>\n      <td>45</td>\n      <td>73</td>\n      <td>68</td>\n    </tr>\n  </tbody>\n</table>\n</div>"
     },
     "metadata": {},
     "execution_count": 19
    }
   ],
   "source": [
    "df_week_ship.head()"
   ]
  },
  {
   "cell_type": "code",
   "execution_count": 60,
   "metadata": {
    "tags": []
   },
   "outputs": [
    {
     "output_type": "stream",
     "name": "stdout",
     "text": [
      "104 104\n",
      "Completed Komkommer\n",
      "104 104\n",
      "Completed Courgette\n",
      "104 104\n",
      "Completed SnoepVegetable tomaat\n",
      "104 104\n",
      "Completed Paprika Mix\n",
      "104 104\n",
      "Completed Paprika\n",
      "104 104\n",
      "Completed Geschrapte worteltjes\n",
      "104 104\n",
      "Completed Basis Sperziebonen\n",
      "104 104\n",
      "Completed Basis Rode kool met appel\n",
      "104 104\n",
      "Completed Basis worteltjes fijn\n",
      "104 104\n",
      "Completed Basis erwten zeer fijn\n",
      "104 104\n",
      "Completed Basis sperziebonen\n",
      "104 104\n",
      "Completed Biologische courgette\n",
      "104 104\n",
      "Completed Biologische Bloemkool\n",
      "104 104\n",
      "Completed Biologische knoflook\n",
      "104 104\n",
      "Completed Biologische pompoen\n",
      "104 104\n",
      "Completed Biologische kikkererwten\n",
      "104 104\n",
      "Completed Biologische prei\n",
      "104 104\n",
      "Completed Biologische rode kool\n",
      "104 104\n",
      "Completed Biologische cherry tomaten\n",
      "104 104\n",
      "Completed Biologische brocolli\n",
      "104 104\n",
      "Completed Boerenkool gesneden\n",
      "104 104\n",
      "Completed Spruiten\n",
      "104 104\n",
      "Completed Witlof\n",
      "104 104\n",
      "Completed Rucola\n",
      "104 104\n",
      "Completed Nasi bami Vegetable\n",
      "104 104\n",
      "Completed Snijbonen\n",
      "104 104\n",
      "Completed Buitenbeentjes puntpaprika\n",
      "104 104\n",
      "Completed Basis Maiskorrels\n",
      "104 104\n",
      "Completed Wortelen\n",
      "104 104\n",
      "Completed Pompoen stukjes\n",
      "104 104\n",
      "Completed Verse zuurkool\n",
      "104 104\n",
      "Completed Buitenbeentjes komkommer\n",
      "104 104\n",
      "Completed Buitenbeentjes paprika\n",
      "104 104\n",
      "Completed SnoepVegetable worteltjes\n",
      "104 104\n",
      "Completed WokVegetable thais\n",
      "104 104\n",
      "Completed Mandarijenen\n",
      "104 104\n",
      "Completed Bananen\n",
      "104 104\n",
      "Completed Chiquita bananen\n",
      "104 104\n",
      "Completed Pitloze witte druiven\n",
      "104 104\n",
      "Completed Zoete kleine appeltjes\n",
      "104 104\n",
      "Completed Pink lady appels\n",
      "104 104\n",
      "Completed Pitloze rode druiven\n",
      "104 104\n",
      "Completed Elstar\n",
      "104 104\n",
      "Completed Conference\n",
      "104 104\n",
      "Completed Biologische banane\n",
      "104 104\n",
      "Completed Citroenen\n",
      "104 104\n",
      "Completed Mango\n",
      "104 104\n",
      "Completed Blauwe bessen\n",
      "104 104\n",
      "Completed Blauwe bessen.1\n",
      "104 104\n",
      "Completed Aardbeien\n",
      "104 104\n",
      "Completed Jonagold\n",
      "104 104\n",
      "Completed Mandarijnen groot\n",
      "104 104\n",
      "Completed Mango eetrijp\n",
      "104 104\n",
      "Completed Buitenbeetjes appels\n",
      "104 104\n",
      "Completed Limoenen\n",
      "104 104\n",
      "Completed Granny smith\n",
      "104 104\n",
      "Completed Grapefruit rood\n",
      "104 104\n",
      "Completed Kanzi appelen\n",
      "104 104\n",
      "Completed Basis annanasstukjes\n",
      "104 104\n",
      "Completed Biologisch wilde bosbes\n",
      "104 104\n",
      "Completed Biologische rozijnen\n",
      "104 104\n",
      "Completed Biologische santana appelen\n",
      "104 104\n",
      "Completed Pitloze druivenmix\n",
      "104 104\n",
      "Completed Biologische sinaasappelen\n",
      "104 104\n",
      "Completed Aardbeien ontkroond\n",
      "104 104\n",
      "Completed Rundergehakt\n",
      "104 104\n",
      "Completed Gerookte spekreepjes\n",
      "104 104\n",
      "Completed Spekreepjes\n",
      "104 104\n",
      "Completed Mini gourmet hamburgers\n",
      "104 104\n",
      "Completed Unox Gelderse rookworst\n",
      "104 104\n",
      "Completed Half om half gehakt\n",
      "104 104\n",
      "Completed Rundergehakt.1\n",
      "104 104\n",
      "Completed Slavinken\n",
      "104 104\n",
      "Completed Mini biefstukjes\n",
      "104 104\n",
      "Completed Rundersoepballetjes\n",
      "104 104\n",
      "Completed Hamburgers\n",
      "104 104\n",
      "Completed Unox Gelderse rookworst.1\n",
      "104 104\n",
      "Completed Mini gourmet kipsatespiesjes\n",
      "104 104\n",
      "Completed Unox Magere rookworst\n",
      "104 104\n",
      "Completed Biologische spekreepjes\n",
      "104 104\n",
      "Completed Sappige gelders rookworst\n",
      "104 104\n",
      "Completed Biologisch rundergehakt\n",
      "104 104\n",
      "Completed Varkensbraadworst\n",
      "104 104\n",
      "Completed Runder riblap Iers\n",
      "104 104\n",
      "Completed rundergehakt\n",
      "104 104\n",
      "Completed gerookt onbijtspek\n",
      "104 104\n",
      "Completed rundervinken\n",
      "104 104\n",
      "Completed half of half gehakt\n",
      "104 104\n",
      "Completed Gekruide runderchipolata\n",
      "104 104\n",
      "Completed Biologisch rundergehakt.1\n",
      "104 104\n",
      "Completed Mini gourmet slavink\n",
      "104 104\n",
      "Completed Mini gourmet varkenshaas\n",
      "104 104\n",
      "Completed Zigeuner gehaktschnitzel\n",
      "104 104\n",
      "Completed Veluwse rookworst fijn\n",
      "104 104\n",
      "Completed Runderbraadworst\n",
      "104 104\n",
      "Completed Spekblokjes\n",
      "104 104\n",
      "Completed biologische Hamburger\n",
      "104 104\n",
      "Completed Mager rundergehakt\n",
      "104 104\n",
      "Completed Biologische gerookte ontbijtspek\n",
      "104 104\n",
      "Completed Biefstuk\n",
      "104 104\n",
      "Completed Biologische runderchipolata\n",
      "104 104\n",
      "Completed Biologische rundersoepballetjes\n",
      "104 104\n",
      "Completed Kipblokjes\n",
      "104 104\n",
      "Completed Kipfilet naturel\n",
      "104 104\n",
      "Completed Krokante Kipfiletschnitzel\n",
      "104 104\n",
      "Completed Kipfilet\n",
      "104 104\n",
      "Completed Zaans volkoren heel\n",
      "104 104\n",
      "Completed Tijger bruin heel\n",
      "104 104\n",
      "Completed Zaans volkoren half\n",
      "104 104\n",
      "Completed meergranen volkoren half\n",
      "104 104\n",
      "Completed Walkdorn heel\n",
      "104 104\n",
      "Completed Zaans bruin heel\n",
      "104 104\n",
      "Completed Tijger volkoren half\n",
      "104 104\n",
      "Completed Tijger volkoren heel\n",
      "104 104\n",
      "Completed Mais half\n",
      "104 104\n",
      "Completed Tijger bruin half\n",
      "104 104\n",
      "Completed Volkoren heel\n",
      "104 104\n",
      "Completed Meergranen volkoren heel\n",
      "104 104\n",
      "Completed Tijger wit half\n",
      "104 104\n",
      "Completed Vloerbrood meergranen\n",
      "104 104\n",
      "Completed Vloerbrood volkoren \n",
      "104 104\n",
      "Completed Casino wit half\n",
      "104 104\n",
      "Completed Tijger wit heel\n",
      "104 104\n",
      "Completed Bruin heel\n",
      "104 104\n",
      "Completed Zaanse sijnder bruin half\n",
      "104 104\n",
      "Completed Boerenvolkoren sesam heel\n",
      "104 104\n",
      "Completed Steiv spelt gesneden\n",
      "104 104\n",
      "Completed Krenten- en rozijnenbrood half\n",
      "104 104\n",
      "Completed Zaans volkoren \n",
      "104 104\n",
      "Completed Atkins laag koolhydraat volkoren brood half\n",
      "104 104\n",
      "Completed Bolletje Fries roggebrood\n",
      "104 104\n",
      "Completed Kaneelbroodjes\n",
      "104 104\n",
      "Completed Biologisch Vloerbrood meerzaden heel\n",
      "104 104\n",
      "Completed Basic meergranen heel\n",
      "104 104\n",
      "Completed Basic wit heel\n",
      "104 104\n",
      "Completed Basic casino half\n",
      "104 104\n",
      "Completed Basic volkoren heel\n",
      "104 104\n",
      "Completed Biologisch volkoren heel\n",
      "104 104\n",
      "Completed Biologisch bruin heel\n",
      "104 104\n",
      "Completed Glutenvrij bruin\n",
      "104 104\n",
      "Completed Muesli-notenbrood\n",
      "104 104\n",
      "Completed Basic roggebrood\n",
      "104 104\n",
      "Completed Melkbroodjes\n",
      "104 104\n",
      "Completed Krenten rozijnenwegge\n",
      "104 104\n",
      "Completed Amandelkrans\n",
      "104 104\n",
      "Completed Roomboter chocolade brood\n",
      "104 104\n",
      "Completed Chinois brioche\n",
      "104 104\n",
      "Completed Vanille muffins (vers)\n",
      "104 104\n",
      "Completed Basic chocolate chip cookies\n",
      "104 104\n",
      "Completed Oreo\n",
      "104 104\n",
      "Completed Bakkersspeculaas\n",
      "104 104\n",
      "Completed Eierkoeken\n",
      "104 104\n",
      "Completed Ribbelchips naturel\n",
      "104 104\n",
      "Completed Ribbelchips paprika\n",
      "104 104\n",
      "Completed Doritos sweet chili\n"
     ]
    }
   ],
   "source": [
    "agg_df = pd.DataFrame(columns=['week', 'amount', 'product'])\n",
    "\n",
    "for product in inventory.columns[2:-2]:\n",
    "    #product = 'Doritos sweet chili'\n",
    "    inventory[\"date\"] = inventory.apply(date_converter_inv, axis = 1)\n",
    "    inventory[\"week\"] = inventory.apply(week_of_year, axis = 1)\n",
    "    filter_inventory = inventory[[\"day\", \"before or after delivery\", \"date\", \"week\", product]]\n",
    "    #filter_inventory[\"discount\"] = filter_inventory.apply(check_discount, axis = 1)\n",
    "    #filter_inventory[\"total inventory\"] = filter_inventory.apply(total_inv, axis = 1)\n",
    "\n",
    "    re_date = []\n",
    "    for element in filter_inventory[filter_inventory['before or after delivery'] == 'after']['day']:\n",
    "        re_date.append(element)\n",
    "    re_dates = np.unique(re_date)\n",
    "\n",
    "    ship_date = []\n",
    "    for element_list in filter_inventory[product]:\n",
    "        #ship_date.append(element_list[-1][])\n",
    "        if len(element_list) > 0:\n",
    "            for batch in element_list:\n",
    "                #print(type(batch))\n",
    "                ship_date.append(batch[0])\n",
    "    sh_dates = np.unique(ship_date)\n",
    "\n",
    "    print(len(re_dates), len(sh_dates))\n",
    "    #print(filter_inventory[product])\n",
    "\n",
    "    df_ship = pd.DataFrame({\"receivedDate\":re_dates, \"bestby\":sh_dates})\n",
    "    df_ship = df_ship[df_ship[\"bestby\"] < 365]\n",
    "    df_ship[\"date\"] = df_ship.apply(date_converter_re, axis = 1)\n",
    "    df_ship[\"week\"] = df_ship.apply(week_of_year, axis = 1)\n",
    "    df_ship[\"amount\"] = df_ship.apply(input_inv, axis = 1)\n",
    "    df_ship['product'] = [product] * len(df_ship)\n",
    "    df_week_ship = df_ship.groupby('week').sum().reset_index()\n",
    "    df_week_ship['product'] = [product] * len(df_week_ship)\n",
    "    #df_week_ship\n",
    "    agg_df = agg_df.append(df_week_ship[['week', 'amount', 'product']], ignore_index=True)\n",
    "    print(\"Completed {}\".format(product))\n",
    "#df_week_ship\n",
    "\n"
   ]
  },
  {
   "cell_type": "code",
   "execution_count": 104,
   "metadata": {},
   "outputs": [
    {
     "output_type": "execute_result",
     "data": {
      "text/plain": [
       "                                                amount           \n",
       "                                                  mean        std\n",
       "product                                                          \n",
       "Aardbeien                                    48.720000   9.014818\n",
       "Aardbeien ontkroond                          55.480000   4.550129\n",
       "Amandelkrans                                 39.307692   4.992302\n",
       "Atkins laag koolhydraat volkoren brood half  41.442308   6.300991\n",
       "Bakkersspeculaas                             86.631579  16.000711\n",
       "...                                                ...        ...\n",
       "gerookt onbijtspek                           31.490196   7.734009\n",
       "half of half gehakt                          33.215686   4.100311\n",
       "meergranen volkoren half                     36.250000   6.522585\n",
       "rundergehakt                                 31.882353   4.407480\n",
       "rundervinken                                 31.764706   3.972849\n",
       "\n",
       "[155 rows x 2 columns]"
      ],
      "text/html": "<div>\n<style scoped>\n    .dataframe tbody tr th:only-of-type {\n        vertical-align: middle;\n    }\n\n    .dataframe tbody tr th {\n        vertical-align: top;\n    }\n\n    .dataframe thead tr th {\n        text-align: left;\n    }\n\n    .dataframe thead tr:last-of-type th {\n        text-align: right;\n    }\n</style>\n<table border=\"1\" class=\"dataframe\">\n  <thead>\n    <tr>\n      <th></th>\n      <th colspan=\"2\" halign=\"left\">amount</th>\n    </tr>\n    <tr>\n      <th></th>\n      <th>mean</th>\n      <th>std</th>\n    </tr>\n    <tr>\n      <th>product</th>\n      <th></th>\n      <th></th>\n    </tr>\n  </thead>\n  <tbody>\n    <tr>\n      <th>Aardbeien</th>\n      <td>48.720000</td>\n      <td>9.014818</td>\n    </tr>\n    <tr>\n      <th>Aardbeien ontkroond</th>\n      <td>55.480000</td>\n      <td>4.550129</td>\n    </tr>\n    <tr>\n      <th>Amandelkrans</th>\n      <td>39.307692</td>\n      <td>4.992302</td>\n    </tr>\n    <tr>\n      <th>Atkins laag koolhydraat volkoren brood half</th>\n      <td>41.442308</td>\n      <td>6.300991</td>\n    </tr>\n    <tr>\n      <th>Bakkersspeculaas</th>\n      <td>86.631579</td>\n      <td>16.000711</td>\n    </tr>\n    <tr>\n      <th>...</th>\n      <td>...</td>\n      <td>...</td>\n    </tr>\n    <tr>\n      <th>gerookt onbijtspek</th>\n      <td>31.490196</td>\n      <td>7.734009</td>\n    </tr>\n    <tr>\n      <th>half of half gehakt</th>\n      <td>33.215686</td>\n      <td>4.100311</td>\n    </tr>\n    <tr>\n      <th>meergranen volkoren half</th>\n      <td>36.250000</td>\n      <td>6.522585</td>\n    </tr>\n    <tr>\n      <th>rundergehakt</th>\n      <td>31.882353</td>\n      <td>4.407480</td>\n    </tr>\n    <tr>\n      <th>rundervinken</th>\n      <td>31.764706</td>\n      <td>3.972849</td>\n    </tr>\n  </tbody>\n</table>\n<p>155 rows × 2 columns</p>\n</div>"
     },
     "metadata": {},
     "execution_count": 104
    }
   ],
   "source": [
    "df_agg = agg_df\n",
    "df_agg['amount'] = df_agg['amount'].astype(int)\n",
    "m_std_df = df_agg.groupby('product').agg({'amount': ['mean', 'std']})\n",
    "m_std_df"
   ]
  },
  {
   "cell_type": "code",
   "execution_count": 136,
   "metadata": {},
   "outputs": [],
   "source": [
    "filt_cat = m_std_df.index[:2]\n",
    "filt_cat = m_std_df[('amount', 'std')].sort_values(ascending = False).index[0:5]\n",
    "df_agg_filt = df_agg[df_agg['product'].isin(filt_cat)]"
   ]
  },
  {
   "cell_type": "code",
   "execution_count": 145,
   "metadata": {},
   "outputs": [
    {
     "output_type": "display_data",
     "data": {
      "application/vnd.plotly.v1+json": {
       "config": {
        "plotlyServerURL": "https://plot.ly"
       },
       "data": [
        {
         "alignmentgroup": "True",
         "hovertemplate": "Product=%{x}<br>Quantity per week=%{y}<extra></extra>",
         "legendgroup": "Blauwe bessen.1",
         "marker": {
          "color": "#636efa"
         },
         "name": "Blauwe bessen.1",
         "notched": false,
         "offsetgroup": "Blauwe bessen.1",
         "orientation": "v",
         "showlegend": true,
         "type": "box",
         "x": [
          "Blauwe bessen.1",
          "Blauwe bessen.1",
          "Blauwe bessen.1",
          "Blauwe bessen.1",
          "Blauwe bessen.1",
          "Blauwe bessen.1",
          "Blauwe bessen.1",
          "Blauwe bessen.1",
          "Blauwe bessen.1",
          "Blauwe bessen.1",
          "Blauwe bessen.1",
          "Blauwe bessen.1",
          "Blauwe bessen.1",
          "Blauwe bessen.1",
          "Blauwe bessen.1",
          "Blauwe bessen.1",
          "Blauwe bessen.1",
          "Blauwe bessen.1",
          "Blauwe bessen.1",
          "Blauwe bessen.1",
          "Blauwe bessen.1",
          "Blauwe bessen.1",
          "Blauwe bessen.1",
          "Blauwe bessen.1",
          "Blauwe bessen.1",
          "Blauwe bessen.1",
          "Blauwe bessen.1",
          "Blauwe bessen.1",
          "Blauwe bessen.1",
          "Blauwe bessen.1",
          "Blauwe bessen.1",
          "Blauwe bessen.1",
          "Blauwe bessen.1",
          "Blauwe bessen.1",
          "Blauwe bessen.1",
          "Blauwe bessen.1",
          "Blauwe bessen.1",
          "Blauwe bessen.1",
          "Blauwe bessen.1",
          "Blauwe bessen.1",
          "Blauwe bessen.1",
          "Blauwe bessen.1",
          "Blauwe bessen.1",
          "Blauwe bessen.1",
          "Blauwe bessen.1",
          "Blauwe bessen.1",
          "Blauwe bessen.1",
          "Blauwe bessen.1",
          "Blauwe bessen.1",
          "Blauwe bessen.1"
         ],
         "x0": " ",
         "xaxis": "x",
         "y": [
          100,
          100,
          100,
          100,
          100,
          100,
          100,
          100,
          100,
          80,
          100,
          100,
          80,
          100,
          100,
          100,
          100,
          100,
          100,
          60,
          100,
          100,
          138,
          100,
          20,
          100,
          100,
          100,
          100,
          100,
          100,
          118,
          100,
          40,
          40,
          100,
          100,
          100,
          100,
          80,
          100,
          100,
          100,
          100,
          100,
          100,
          100,
          100,
          100,
          10
         ],
         "y0": " ",
         "yaxis": "y"
        },
        {
         "alignmentgroup": "True",
         "hovertemplate": "Product=%{x}<br>Quantity per week=%{y}<extra></extra>",
         "legendgroup": "Basis annanasstukjes",
         "marker": {
          "color": "#EF553B"
         },
         "name": "Basis annanasstukjes",
         "notched": false,
         "offsetgroup": "Basis annanasstukjes",
         "orientation": "v",
         "showlegend": true,
         "type": "box",
         "x": [
          "Basis annanasstukjes",
          "Basis annanasstukjes",
          "Basis annanasstukjes",
          "Basis annanasstukjes",
          "Basis annanasstukjes",
          "Basis annanasstukjes",
          "Basis annanasstukjes",
          "Basis annanasstukjes",
          "Basis annanasstukjes",
          "Basis annanasstukjes",
          "Basis annanasstukjes",
          "Basis annanasstukjes",
          "Basis annanasstukjes",
          "Basis annanasstukjes",
          "Basis annanasstukjes",
          "Basis annanasstukjes",
          "Basis annanasstukjes",
          "Basis annanasstukjes",
          "Basis annanasstukjes",
          "Basis annanasstukjes",
          "Basis annanasstukjes",
          "Basis annanasstukjes",
          "Basis annanasstukjes",
          "Basis annanasstukjes",
          "Basis annanasstukjes",
          "Basis annanasstukjes",
          "Basis annanasstukjes",
          "Basis annanasstukjes",
          "Basis annanasstukjes",
          "Basis annanasstukjes",
          "Basis annanasstukjes",
          "Basis annanasstukjes",
          "Basis annanasstukjes",
          "Basis annanasstukjes",
          "Basis annanasstukjes",
          "Basis annanasstukjes",
          "Basis annanasstukjes",
          "Basis annanasstukjes",
          "Basis annanasstukjes",
          "Basis annanasstukjes",
          "Basis annanasstukjes",
          "Basis annanasstukjes",
          "Basis annanasstukjes",
          "Basis annanasstukjes",
          "Basis annanasstukjes",
          "Basis annanasstukjes",
          "Basis annanasstukjes",
          "Basis annanasstukjes",
          "Basis annanasstukjes",
          "Basis annanasstukjes"
         ],
         "x0": " ",
         "xaxis": "x",
         "y": [
          292,
          292,
          292,
          292,
          292,
          292,
          292,
          292,
          292,
          292,
          292,
          292,
          292,
          292,
          292,
          292,
          292,
          292,
          350,
          292,
          292,
          292,
          292,
          292,
          292,
          292,
          292,
          176,
          292,
          292,
          292,
          292,
          292,
          292,
          292,
          350,
          292,
          292,
          292,
          292,
          292,
          292,
          292,
          292,
          234,
          292,
          292,
          292,
          60,
          146
         ],
         "y0": " ",
         "yaxis": "y"
        },
        {
         "alignmentgroup": "True",
         "hovertemplate": "Product=%{x}<br>Quantity per week=%{y}<extra></extra>",
         "legendgroup": "Vanille muffins (vers)",
         "marker": {
          "color": "#00cc96"
         },
         "name": "Vanille muffins (vers)",
         "notched": false,
         "offsetgroup": "Vanille muffins (vers)",
         "orientation": "v",
         "showlegend": true,
         "type": "box",
         "x": [
          "Vanille muffins (vers)",
          "Vanille muffins (vers)",
          "Vanille muffins (vers)",
          "Vanille muffins (vers)",
          "Vanille muffins (vers)",
          "Vanille muffins (vers)",
          "Vanille muffins (vers)",
          "Vanille muffins (vers)",
          "Vanille muffins (vers)",
          "Vanille muffins (vers)",
          "Vanille muffins (vers)",
          "Vanille muffins (vers)",
          "Vanille muffins (vers)",
          "Vanille muffins (vers)",
          "Vanille muffins (vers)",
          "Vanille muffins (vers)",
          "Vanille muffins (vers)",
          "Vanille muffins (vers)",
          "Vanille muffins (vers)",
          "Vanille muffins (vers)",
          "Vanille muffins (vers)",
          "Vanille muffins (vers)",
          "Vanille muffins (vers)",
          "Vanille muffins (vers)",
          "Vanille muffins (vers)",
          "Vanille muffins (vers)",
          "Vanille muffins (vers)",
          "Vanille muffins (vers)",
          "Vanille muffins (vers)",
          "Vanille muffins (vers)",
          "Vanille muffins (vers)",
          "Vanille muffins (vers)",
          "Vanille muffins (vers)",
          "Vanille muffins (vers)",
          "Vanille muffins (vers)",
          "Vanille muffins (vers)",
          "Vanille muffins (vers)",
          "Vanille muffins (vers)"
         ],
         "x0": " ",
         "xaxis": "x",
         "y": [
          260,
          260,
          260,
          260,
          260,
          260,
          260,
          260,
          104,
          260,
          260,
          260,
          260,
          260,
          52,
          260,
          260,
          260,
          260,
          260,
          260,
          260,
          260,
          260,
          260,
          260,
          260,
          260,
          104,
          260,
          260,
          260,
          260,
          260,
          260,
          260,
          156,
          260
         ],
         "y0": " ",
         "yaxis": "y"
        },
        {
         "alignmentgroup": "True",
         "hovertemplate": "Product=%{x}<br>Quantity per week=%{y}<extra></extra>",
         "legendgroup": "Eierkoeken",
         "marker": {
          "color": "#ab63fa"
         },
         "name": "Eierkoeken",
         "notched": false,
         "offsetgroup": "Eierkoeken",
         "orientation": "v",
         "showlegend": true,
         "type": "box",
         "x": [
          "Eierkoeken",
          "Eierkoeken",
          "Eierkoeken",
          "Eierkoeken",
          "Eierkoeken",
          "Eierkoeken",
          "Eierkoeken",
          "Eierkoeken",
          "Eierkoeken",
          "Eierkoeken",
          "Eierkoeken",
          "Eierkoeken",
          "Eierkoeken",
          "Eierkoeken",
          "Eierkoeken",
          "Eierkoeken",
          "Eierkoeken",
          "Eierkoeken",
          "Eierkoeken",
          "Eierkoeken",
          "Eierkoeken",
          "Eierkoeken",
          "Eierkoeken",
          "Eierkoeken",
          "Eierkoeken",
          "Eierkoeken",
          "Eierkoeken",
          "Eierkoeken",
          "Eierkoeken",
          "Eierkoeken",
          "Eierkoeken",
          "Eierkoeken",
          "Eierkoeken",
          "Eierkoeken",
          "Eierkoeken",
          "Eierkoeken",
          "Eierkoeken",
          "Eierkoeken"
         ],
         "x0": " ",
         "xaxis": "x",
         "y": [
          250,
          250,
          250,
          200,
          250,
          250,
          250,
          250,
          350,
          250,
          250,
          250,
          300,
          250,
          250,
          250,
          250,
          250,
          350,
          250,
          250,
          250,
          250,
          250,
          250,
          250,
          250,
          250,
          250,
          250,
          250,
          250,
          250,
          250,
          250,
          300,
          300,
          250
         ],
         "y0": " ",
         "yaxis": "y"
        },
        {
         "alignmentgroup": "True",
         "hovertemplate": "Product=%{x}<br>Quantity per week=%{y}<extra></extra>",
         "legendgroup": "Doritos sweet chili",
         "marker": {
          "color": "#FFA15A"
         },
         "name": "Doritos sweet chili",
         "notched": false,
         "offsetgroup": "Doritos sweet chili",
         "orientation": "v",
         "showlegend": true,
         "type": "box",
         "x": [
          "Doritos sweet chili",
          "Doritos sweet chili",
          "Doritos sweet chili",
          "Doritos sweet chili",
          "Doritos sweet chili",
          "Doritos sweet chili",
          "Doritos sweet chili",
          "Doritos sweet chili",
          "Doritos sweet chili",
          "Doritos sweet chili",
          "Doritos sweet chili",
          "Doritos sweet chili",
          "Doritos sweet chili",
          "Doritos sweet chili",
          "Doritos sweet chili",
          "Doritos sweet chili",
          "Doritos sweet chili",
          "Doritos sweet chili",
          "Doritos sweet chili",
          "Doritos sweet chili",
          "Doritos sweet chili",
          "Doritos sweet chili",
          "Doritos sweet chili",
          "Doritos sweet chili",
          "Doritos sweet chili",
          "Doritos sweet chili",
          "Doritos sweet chili",
          "Doritos sweet chili",
          "Doritos sweet chili",
          "Doritos sweet chili",
          "Doritos sweet chili",
          "Doritos sweet chili",
          "Doritos sweet chili",
          "Doritos sweet chili",
          "Doritos sweet chili",
          "Doritos sweet chili",
          "Doritos sweet chili",
          "Doritos sweet chili"
         ],
         "x0": " ",
         "xaxis": "x",
         "y": [
          256,
          256,
          256,
          256,
          256,
          256,
          256,
          256,
          256,
          204,
          102,
          256,
          256,
          256,
          256,
          256,
          256,
          358,
          256,
          256,
          256,
          256,
          256,
          256,
          306,
          256,
          256,
          256,
          256,
          256,
          256,
          256,
          256,
          256,
          256,
          256,
          256,
          256
         ],
         "y0": " ",
         "yaxis": "y"
        }
       ],
       "layout": {
        "boxmode": "overlay",
        "legend": {
         "title": {
          "text": "Product"
         },
         "tracegroupgap": 0
        },
        "showlegend": false,
        "template": {
         "data": {
          "bar": [
           {
            "error_x": {
             "color": "#2a3f5f"
            },
            "error_y": {
             "color": "#2a3f5f"
            },
            "marker": {
             "line": {
              "color": "#E5ECF6",
              "width": 0.5
             }
            },
            "type": "bar"
           }
          ],
          "barpolar": [
           {
            "marker": {
             "line": {
              "color": "#E5ECF6",
              "width": 0.5
             }
            },
            "type": "barpolar"
           }
          ],
          "carpet": [
           {
            "aaxis": {
             "endlinecolor": "#2a3f5f",
             "gridcolor": "white",
             "linecolor": "white",
             "minorgridcolor": "white",
             "startlinecolor": "#2a3f5f"
            },
            "baxis": {
             "endlinecolor": "#2a3f5f",
             "gridcolor": "white",
             "linecolor": "white",
             "minorgridcolor": "white",
             "startlinecolor": "#2a3f5f"
            },
            "type": "carpet"
           }
          ],
          "choropleth": [
           {
            "colorbar": {
             "outlinewidth": 0,
             "ticks": ""
            },
            "type": "choropleth"
           }
          ],
          "contour": [
           {
            "colorbar": {
             "outlinewidth": 0,
             "ticks": ""
            },
            "colorscale": [
             [
              0,
              "#0d0887"
             ],
             [
              0.1111111111111111,
              "#46039f"
             ],
             [
              0.2222222222222222,
              "#7201a8"
             ],
             [
              0.3333333333333333,
              "#9c179e"
             ],
             [
              0.4444444444444444,
              "#bd3786"
             ],
             [
              0.5555555555555556,
              "#d8576b"
             ],
             [
              0.6666666666666666,
              "#ed7953"
             ],
             [
              0.7777777777777778,
              "#fb9f3a"
             ],
             [
              0.8888888888888888,
              "#fdca26"
             ],
             [
              1,
              "#f0f921"
             ]
            ],
            "type": "contour"
           }
          ],
          "contourcarpet": [
           {
            "colorbar": {
             "outlinewidth": 0,
             "ticks": ""
            },
            "type": "contourcarpet"
           }
          ],
          "heatmap": [
           {
            "colorbar": {
             "outlinewidth": 0,
             "ticks": ""
            },
            "colorscale": [
             [
              0,
              "#0d0887"
             ],
             [
              0.1111111111111111,
              "#46039f"
             ],
             [
              0.2222222222222222,
              "#7201a8"
             ],
             [
              0.3333333333333333,
              "#9c179e"
             ],
             [
              0.4444444444444444,
              "#bd3786"
             ],
             [
              0.5555555555555556,
              "#d8576b"
             ],
             [
              0.6666666666666666,
              "#ed7953"
             ],
             [
              0.7777777777777778,
              "#fb9f3a"
             ],
             [
              0.8888888888888888,
              "#fdca26"
             ],
             [
              1,
              "#f0f921"
             ]
            ],
            "type": "heatmap"
           }
          ],
          "heatmapgl": [
           {
            "colorbar": {
             "outlinewidth": 0,
             "ticks": ""
            },
            "colorscale": [
             [
              0,
              "#0d0887"
             ],
             [
              0.1111111111111111,
              "#46039f"
             ],
             [
              0.2222222222222222,
              "#7201a8"
             ],
             [
              0.3333333333333333,
              "#9c179e"
             ],
             [
              0.4444444444444444,
              "#bd3786"
             ],
             [
              0.5555555555555556,
              "#d8576b"
             ],
             [
              0.6666666666666666,
              "#ed7953"
             ],
             [
              0.7777777777777778,
              "#fb9f3a"
             ],
             [
              0.8888888888888888,
              "#fdca26"
             ],
             [
              1,
              "#f0f921"
             ]
            ],
            "type": "heatmapgl"
           }
          ],
          "histogram": [
           {
            "marker": {
             "colorbar": {
              "outlinewidth": 0,
              "ticks": ""
             }
            },
            "type": "histogram"
           }
          ],
          "histogram2d": [
           {
            "colorbar": {
             "outlinewidth": 0,
             "ticks": ""
            },
            "colorscale": [
             [
              0,
              "#0d0887"
             ],
             [
              0.1111111111111111,
              "#46039f"
             ],
             [
              0.2222222222222222,
              "#7201a8"
             ],
             [
              0.3333333333333333,
              "#9c179e"
             ],
             [
              0.4444444444444444,
              "#bd3786"
             ],
             [
              0.5555555555555556,
              "#d8576b"
             ],
             [
              0.6666666666666666,
              "#ed7953"
             ],
             [
              0.7777777777777778,
              "#fb9f3a"
             ],
             [
              0.8888888888888888,
              "#fdca26"
             ],
             [
              1,
              "#f0f921"
             ]
            ],
            "type": "histogram2d"
           }
          ],
          "histogram2dcontour": [
           {
            "colorbar": {
             "outlinewidth": 0,
             "ticks": ""
            },
            "colorscale": [
             [
              0,
              "#0d0887"
             ],
             [
              0.1111111111111111,
              "#46039f"
             ],
             [
              0.2222222222222222,
              "#7201a8"
             ],
             [
              0.3333333333333333,
              "#9c179e"
             ],
             [
              0.4444444444444444,
              "#bd3786"
             ],
             [
              0.5555555555555556,
              "#d8576b"
             ],
             [
              0.6666666666666666,
              "#ed7953"
             ],
             [
              0.7777777777777778,
              "#fb9f3a"
             ],
             [
              0.8888888888888888,
              "#fdca26"
             ],
             [
              1,
              "#f0f921"
             ]
            ],
            "type": "histogram2dcontour"
           }
          ],
          "mesh3d": [
           {
            "colorbar": {
             "outlinewidth": 0,
             "ticks": ""
            },
            "type": "mesh3d"
           }
          ],
          "parcoords": [
           {
            "line": {
             "colorbar": {
              "outlinewidth": 0,
              "ticks": ""
             }
            },
            "type": "parcoords"
           }
          ],
          "pie": [
           {
            "automargin": true,
            "type": "pie"
           }
          ],
          "scatter": [
           {
            "marker": {
             "colorbar": {
              "outlinewidth": 0,
              "ticks": ""
             }
            },
            "type": "scatter"
           }
          ],
          "scatter3d": [
           {
            "line": {
             "colorbar": {
              "outlinewidth": 0,
              "ticks": ""
             }
            },
            "marker": {
             "colorbar": {
              "outlinewidth": 0,
              "ticks": ""
             }
            },
            "type": "scatter3d"
           }
          ],
          "scattercarpet": [
           {
            "marker": {
             "colorbar": {
              "outlinewidth": 0,
              "ticks": ""
             }
            },
            "type": "scattercarpet"
           }
          ],
          "scattergeo": [
           {
            "marker": {
             "colorbar": {
              "outlinewidth": 0,
              "ticks": ""
             }
            },
            "type": "scattergeo"
           }
          ],
          "scattergl": [
           {
            "marker": {
             "colorbar": {
              "outlinewidth": 0,
              "ticks": ""
             }
            },
            "type": "scattergl"
           }
          ],
          "scattermapbox": [
           {
            "marker": {
             "colorbar": {
              "outlinewidth": 0,
              "ticks": ""
             }
            },
            "type": "scattermapbox"
           }
          ],
          "scatterpolar": [
           {
            "marker": {
             "colorbar": {
              "outlinewidth": 0,
              "ticks": ""
             }
            },
            "type": "scatterpolar"
           }
          ],
          "scatterpolargl": [
           {
            "marker": {
             "colorbar": {
              "outlinewidth": 0,
              "ticks": ""
             }
            },
            "type": "scatterpolargl"
           }
          ],
          "scatterternary": [
           {
            "marker": {
             "colorbar": {
              "outlinewidth": 0,
              "ticks": ""
             }
            },
            "type": "scatterternary"
           }
          ],
          "surface": [
           {
            "colorbar": {
             "outlinewidth": 0,
             "ticks": ""
            },
            "colorscale": [
             [
              0,
              "#0d0887"
             ],
             [
              0.1111111111111111,
              "#46039f"
             ],
             [
              0.2222222222222222,
              "#7201a8"
             ],
             [
              0.3333333333333333,
              "#9c179e"
             ],
             [
              0.4444444444444444,
              "#bd3786"
             ],
             [
              0.5555555555555556,
              "#d8576b"
             ],
             [
              0.6666666666666666,
              "#ed7953"
             ],
             [
              0.7777777777777778,
              "#fb9f3a"
             ],
             [
              0.8888888888888888,
              "#fdca26"
             ],
             [
              1,
              "#f0f921"
             ]
            ],
            "type": "surface"
           }
          ],
          "table": [
           {
            "cells": {
             "fill": {
              "color": "#EBF0F8"
             },
             "line": {
              "color": "white"
             }
            },
            "header": {
             "fill": {
              "color": "#C8D4E3"
             },
             "line": {
              "color": "white"
             }
            },
            "type": "table"
           }
          ]
         },
         "layout": {
          "annotationdefaults": {
           "arrowcolor": "#2a3f5f",
           "arrowhead": 0,
           "arrowwidth": 1
          },
          "coloraxis": {
           "colorbar": {
            "outlinewidth": 0,
            "ticks": ""
           }
          },
          "colorscale": {
           "diverging": [
            [
             0,
             "#8e0152"
            ],
            [
             0.1,
             "#c51b7d"
            ],
            [
             0.2,
             "#de77ae"
            ],
            [
             0.3,
             "#f1b6da"
            ],
            [
             0.4,
             "#fde0ef"
            ],
            [
             0.5,
             "#f7f7f7"
            ],
            [
             0.6,
             "#e6f5d0"
            ],
            [
             0.7,
             "#b8e186"
            ],
            [
             0.8,
             "#7fbc41"
            ],
            [
             0.9,
             "#4d9221"
            ],
            [
             1,
             "#276419"
            ]
           ],
           "sequential": [
            [
             0,
             "#0d0887"
            ],
            [
             0.1111111111111111,
             "#46039f"
            ],
            [
             0.2222222222222222,
             "#7201a8"
            ],
            [
             0.3333333333333333,
             "#9c179e"
            ],
            [
             0.4444444444444444,
             "#bd3786"
            ],
            [
             0.5555555555555556,
             "#d8576b"
            ],
            [
             0.6666666666666666,
             "#ed7953"
            ],
            [
             0.7777777777777778,
             "#fb9f3a"
            ],
            [
             0.8888888888888888,
             "#fdca26"
            ],
            [
             1,
             "#f0f921"
            ]
           ],
           "sequentialminus": [
            [
             0,
             "#0d0887"
            ],
            [
             0.1111111111111111,
             "#46039f"
            ],
            [
             0.2222222222222222,
             "#7201a8"
            ],
            [
             0.3333333333333333,
             "#9c179e"
            ],
            [
             0.4444444444444444,
             "#bd3786"
            ],
            [
             0.5555555555555556,
             "#d8576b"
            ],
            [
             0.6666666666666666,
             "#ed7953"
            ],
            [
             0.7777777777777778,
             "#fb9f3a"
            ],
            [
             0.8888888888888888,
             "#fdca26"
            ],
            [
             1,
             "#f0f921"
            ]
           ]
          },
          "colorway": [
           "#636efa",
           "#EF553B",
           "#00cc96",
           "#ab63fa",
           "#FFA15A",
           "#19d3f3",
           "#FF6692",
           "#B6E880",
           "#FF97FF",
           "#FECB52"
          ],
          "font": {
           "color": "#2a3f5f"
          },
          "geo": {
           "bgcolor": "white",
           "lakecolor": "white",
           "landcolor": "#E5ECF6",
           "showlakes": true,
           "showland": true,
           "subunitcolor": "white"
          },
          "hoverlabel": {
           "align": "left"
          },
          "hovermode": "closest",
          "mapbox": {
           "style": "light"
          },
          "paper_bgcolor": "white",
          "plot_bgcolor": "#E5ECF6",
          "polar": {
           "angularaxis": {
            "gridcolor": "white",
            "linecolor": "white",
            "ticks": ""
           },
           "bgcolor": "#E5ECF6",
           "radialaxis": {
            "gridcolor": "white",
            "linecolor": "white",
            "ticks": ""
           }
          },
          "scene": {
           "xaxis": {
            "backgroundcolor": "#E5ECF6",
            "gridcolor": "white",
            "gridwidth": 2,
            "linecolor": "white",
            "showbackground": true,
            "ticks": "",
            "zerolinecolor": "white"
           },
           "yaxis": {
            "backgroundcolor": "#E5ECF6",
            "gridcolor": "white",
            "gridwidth": 2,
            "linecolor": "white",
            "showbackground": true,
            "ticks": "",
            "zerolinecolor": "white"
           },
           "zaxis": {
            "backgroundcolor": "#E5ECF6",
            "gridcolor": "white",
            "gridwidth": 2,
            "linecolor": "white",
            "showbackground": true,
            "ticks": "",
            "zerolinecolor": "white"
           }
          },
          "shapedefaults": {
           "line": {
            "color": "#2a3f5f"
           }
          },
          "ternary": {
           "aaxis": {
            "gridcolor": "white",
            "linecolor": "white",
            "ticks": ""
           },
           "baxis": {
            "gridcolor": "white",
            "linecolor": "white",
            "ticks": ""
           },
           "bgcolor": "#E5ECF6",
           "caxis": {
            "gridcolor": "white",
            "linecolor": "white",
            "ticks": ""
           }
          },
          "title": {
           "x": 0.05
          },
          "xaxis": {
           "automargin": true,
           "gridcolor": "white",
           "linecolor": "white",
           "ticks": "",
           "title": {
            "standoff": 15
           },
           "zerolinecolor": "white",
           "zerolinewidth": 2
          },
          "yaxis": {
           "automargin": true,
           "gridcolor": "white",
           "linecolor": "white",
           "ticks": "",
           "title": {
            "standoff": 15
           },
           "zerolinecolor": "white",
           "zerolinewidth": 2
          }
         }
        },
        "title": {
         "text": "Highest std dev Purchases from supplier"
        },
        "xaxis": {
         "anchor": "y",
         "categoryarray": [
          "Blauwe bessen.1",
          "Basis annanasstukjes",
          "Vanille muffins (vers)",
          "Eierkoeken",
          "Doritos sweet chili"
         ],
         "categoryorder": "array",
         "domain": [
          0,
          1
         ],
         "title": {
          "text": "Product"
         }
        },
        "yaxis": {
         "anchor": "x",
         "domain": [
          0,
          1
         ],
         "title": {
          "text": "Quantity per week"
         }
        }
       }
      }
     },
     "metadata": {}
    }
   ],
   "source": [
    "import plotly.express as px\n",
    "fig = px.box(df_agg_filt, x=\"product\", y=\"amount\", color='product', title='Highest std dev Purchases from supplier', labels={'amount': \"Quantity per week\", \"product\":\"Product\"})\n",
    "fig.update_layout(showlegend=False)\n",
    "fig.show()"
   ]
  },
  {
   "cell_type": "code",
   "execution_count": 107,
   "metadata": {},
   "outputs": [
    {
     "output_type": "execute_result",
     "data": {
      "text/plain": [
       "product\n",
       "Basis annanasstukjes                283.280000\n",
       "Oreo                                264.736842\n",
       "Eierkoeken                          257.894737\n",
       "Doritos sweet chili                 254.578947\n",
       "Vanille muffins (vers)              243.578947\n",
       "                                       ...    \n",
       "Biologische rundersoepballetjes      11.686275\n",
       "Biologische runderchipolata          10.156863\n",
       "Biologische spekreepjes              10.000000\n",
       "biologische Hamburger                 9.882353\n",
       "Biologische gerookte ontbijtspek      9.843137\n",
       "Name: (amount, mean), Length: 155, dtype: float64"
      ]
     },
     "metadata": {},
     "execution_count": 107
    }
   ],
   "source": [
    "m_std_df[('amount', 'mean')].sort_values(ascending = False)"
   ]
  },
  {
   "cell_type": "code",
   "execution_count": 160,
   "metadata": {},
   "outputs": [
    {
     "output_type": "execute_result",
     "data": {
      "text/plain": [
       "product\n",
       "Vanille muffins (vers)                  50.001422\n",
       "Basis annanasstukjes                    44.005120\n",
       "Doritos sweet chili                     32.568955\n",
       "Eierkoeken                              27.327631\n",
       "Blauwe bessen.1                         22.148331\n",
       "Blauwe bessen                           22.148331\n",
       "Basic chocolate chip cookies            18.197353\n",
       "Oreo                                    16.871028\n",
       "Ribbelchips paprika                     16.033127\n",
       "Bakkersspeculaas                        16.000711\n",
       "Rundergehakt.1                          15.445388\n",
       "Rundergehakt                            15.445388\n",
       "Basis Rode kool met appel               15.269680\n",
       "Basic casino half                       14.847376\n",
       "Basic meergranen heel                   14.682307\n",
       "Basic wit heel                          14.585616\n",
       "Basic volkoren heel                     14.422414\n",
       "Biologisch volkoren heel                14.287450\n",
       "Courgette                               14.014222\n",
       "Basis Maiskorrels                       12.528117\n",
       "Pompoen stukjes                         11.839747\n",
       "Pitloze witte druiven                   11.735608\n",
       "Rucola                                  11.634465\n",
       "WokVegetable thais                      11.632443\n",
       "Paprika                                 11.591884\n",
       "Biologisch Vloerbrood meerzaden heel    11.323620\n",
       "Boerenkool gesneden                     11.216200\n",
       "Spruiten                                11.110673\n",
       "Paprika Mix                             11.102411\n",
       "Biologische pompoen                     11.004705\n",
       "Name: (amount, std), dtype: float64"
      ]
     },
     "metadata": {},
     "execution_count": 160
    }
   ],
   "source": [
    "df_std = pd.DataFrame(m_std_df[('amount', 'std')].sort_values(ascending = False))[:30]\n",
    "df_std.reset_index(level=0)\n",
    "df_std[('amount', 'std')]"
   ]
  },
  {
   "cell_type": "code",
   "execution_count": 173,
   "metadata": {},
   "outputs": [
    {
     "output_type": "display_data",
     "data": {
      "application/vnd.plotly.v1+json": {
       "config": {
        "plotlyServerURL": "https://plot.ly"
       },
       "data": [
        {
         "alignmentgroup": "True",
         "hovertemplate": "color=Vanille muffins (vers)<br>Product=%{x}<br>Weekly Restock Std Dev=%{y}<extra></extra>",
         "legendgroup": "Vanille muffins (vers)",
         "marker": {
          "color": "#636efa"
         },
         "name": "Vanille muffins (vers)",
         "offsetgroup": "Vanille muffins (vers)",
         "orientation": "v",
         "showlegend": true,
         "textposition": "auto",
         "type": "bar",
         "x": [
          "Vanille muffins (vers)"
         ],
         "xaxis": "x",
         "y": [
          50.00142245487291
         ],
         "yaxis": "y"
        },
        {
         "alignmentgroup": "True",
         "hovertemplate": "color=Basis annanasstukjes<br>Product=%{x}<br>Weekly Restock Std Dev=%{y}<extra></extra>",
         "legendgroup": "Basis annanasstukjes",
         "marker": {
          "color": "#EF553B"
         },
         "name": "Basis annanasstukjes",
         "offsetgroup": "Basis annanasstukjes",
         "orientation": "v",
         "showlegend": true,
         "textposition": "auto",
         "type": "bar",
         "x": [
          "Basis annanasstukjes"
         ],
         "xaxis": "x",
         "y": [
          44.00512029576669
         ],
         "yaxis": "y"
        },
        {
         "alignmentgroup": "True",
         "hovertemplate": "color=Doritos sweet chili<br>Product=%{x}<br>Weekly Restock Std Dev=%{y}<extra></extra>",
         "legendgroup": "Doritos sweet chili",
         "marker": {
          "color": "#00cc96"
         },
         "name": "Doritos sweet chili",
         "offsetgroup": "Doritos sweet chili",
         "orientation": "v",
         "showlegend": true,
         "textposition": "auto",
         "type": "bar",
         "x": [
          "Doritos sweet chili"
         ],
         "xaxis": "x",
         "y": [
          32.56895518903336
         ],
         "yaxis": "y"
        },
        {
         "alignmentgroup": "True",
         "hovertemplate": "color=Eierkoeken<br>Product=%{x}<br>Weekly Restock Std Dev=%{y}<extra></extra>",
         "legendgroup": "Eierkoeken",
         "marker": {
          "color": "#ab63fa"
         },
         "name": "Eierkoeken",
         "offsetgroup": "Eierkoeken",
         "orientation": "v",
         "showlegend": true,
         "textposition": "auto",
         "type": "bar",
         "x": [
          "Eierkoeken"
         ],
         "xaxis": "x",
         "y": [
          27.32763127330939
         ],
         "yaxis": "y"
        },
        {
         "alignmentgroup": "True",
         "hovertemplate": "color=Blauwe bessen.1<br>Product=%{x}<br>Weekly Restock Std Dev=%{y}<extra></extra>",
         "legendgroup": "Blauwe bessen.1",
         "marker": {
          "color": "#FFA15A"
         },
         "name": "Blauwe bessen.1",
         "offsetgroup": "Blauwe bessen.1",
         "orientation": "v",
         "showlegend": true,
         "textposition": "auto",
         "type": "bar",
         "x": [
          "Blauwe bessen.1"
         ],
         "xaxis": "x",
         "y": [
          22.148331120618803
         ],
         "yaxis": "y"
        },
        {
         "alignmentgroup": "True",
         "hovertemplate": "color=Blauwe bessen<br>Product=%{x}<br>Weekly Restock Std Dev=%{y}<extra></extra>",
         "legendgroup": "Blauwe bessen",
         "marker": {
          "color": "#19d3f3"
         },
         "name": "Blauwe bessen",
         "offsetgroup": "Blauwe bessen",
         "orientation": "v",
         "showlegend": true,
         "textposition": "auto",
         "type": "bar",
         "x": [
          "Blauwe bessen"
         ],
         "xaxis": "x",
         "y": [
          22.148331120618803
         ],
         "yaxis": "y"
        },
        {
         "alignmentgroup": "True",
         "hovertemplate": "color=Basic chocolate chip cookies<br>Product=%{x}<br>Weekly Restock Std Dev=%{y}<extra></extra>",
         "legendgroup": "Basic chocolate chip cookies",
         "marker": {
          "color": "#FF6692"
         },
         "name": "Basic chocolate chip cookies",
         "offsetgroup": "Basic chocolate chip cookies",
         "orientation": "v",
         "showlegend": true,
         "textposition": "auto",
         "type": "bar",
         "x": [
          "Basic chocolate chip cookies"
         ],
         "xaxis": "x",
         "y": [
          18.19735337860358
         ],
         "yaxis": "y"
        },
        {
         "alignmentgroup": "True",
         "hovertemplate": "color=Oreo<br>Product=%{x}<br>Weekly Restock Std Dev=%{y}<extra></extra>",
         "legendgroup": "Oreo",
         "marker": {
          "color": "#B6E880"
         },
         "name": "Oreo",
         "offsetgroup": "Oreo",
         "orientation": "v",
         "showlegend": true,
         "textposition": "auto",
         "type": "bar",
         "x": [
          "Oreo"
         ],
         "xaxis": "x",
         "y": [
          16.871027797599297
         ],
         "yaxis": "y"
        },
        {
         "alignmentgroup": "True",
         "hovertemplate": "color=Ribbelchips paprika<br>Product=%{x}<br>Weekly Restock Std Dev=%{y}<extra></extra>",
         "legendgroup": "Ribbelchips paprika",
         "marker": {
          "color": "#FF97FF"
         },
         "name": "Ribbelchips paprika",
         "offsetgroup": "Ribbelchips paprika",
         "orientation": "v",
         "showlegend": true,
         "textposition": "auto",
         "type": "bar",
         "x": [
          "Ribbelchips paprika"
         ],
         "xaxis": "x",
         "y": [
          16.033127156908208
         ],
         "yaxis": "y"
        },
        {
         "alignmentgroup": "True",
         "hovertemplate": "color=Bakkersspeculaas<br>Product=%{x}<br>Weekly Restock Std Dev=%{y}<extra></extra>",
         "legendgroup": "Bakkersspeculaas",
         "marker": {
          "color": "#FECB52"
         },
         "name": "Bakkersspeculaas",
         "offsetgroup": "Bakkersspeculaas",
         "orientation": "v",
         "showlegend": true,
         "textposition": "auto",
         "type": "bar",
         "x": [
          "Bakkersspeculaas"
         ],
         "xaxis": "x",
         "y": [
          16.00071122174596
         ],
         "yaxis": "y"
        },
        {
         "alignmentgroup": "True",
         "hovertemplate": "color=Rundergehakt.1<br>Product=%{x}<br>Weekly Restock Std Dev=%{y}<extra></extra>",
         "legendgroup": "Rundergehakt.1",
         "marker": {
          "color": "#636efa"
         },
         "name": "Rundergehakt.1",
         "offsetgroup": "Rundergehakt.1",
         "orientation": "v",
         "showlegend": true,
         "textposition": "auto",
         "type": "bar",
         "x": [
          "Rundergehakt.1"
         ],
         "xaxis": "x",
         "y": [
          15.445387661046258
         ],
         "yaxis": "y"
        },
        {
         "alignmentgroup": "True",
         "hovertemplate": "color=Rundergehakt<br>Product=%{x}<br>Weekly Restock Std Dev=%{y}<extra></extra>",
         "legendgroup": "Rundergehakt",
         "marker": {
          "color": "#EF553B"
         },
         "name": "Rundergehakt",
         "offsetgroup": "Rundergehakt",
         "orientation": "v",
         "showlegend": true,
         "textposition": "auto",
         "type": "bar",
         "x": [
          "Rundergehakt"
         ],
         "xaxis": "x",
         "y": [
          15.445387661046258
         ],
         "yaxis": "y"
        },
        {
         "alignmentgroup": "True",
         "hovertemplate": "color=Basis Rode kool met appel<br>Product=%{x}<br>Weekly Restock Std Dev=%{y}<extra></extra>",
         "legendgroup": "Basis Rode kool met appel",
         "marker": {
          "color": "#00cc96"
         },
         "name": "Basis Rode kool met appel",
         "offsetgroup": "Basis Rode kool met appel",
         "orientation": "v",
         "showlegend": true,
         "textposition": "auto",
         "type": "bar",
         "x": [
          "Basis Rode kool met appel"
         ],
         "xaxis": "x",
         "y": [
          15.269680325890974
         ],
         "yaxis": "y"
        },
        {
         "alignmentgroup": "True",
         "hovertemplate": "color=Basic casino half<br>Product=%{x}<br>Weekly Restock Std Dev=%{y}<extra></extra>",
         "legendgroup": "Basic casino half",
         "marker": {
          "color": "#ab63fa"
         },
         "name": "Basic casino half",
         "offsetgroup": "Basic casino half",
         "orientation": "v",
         "showlegend": true,
         "textposition": "auto",
         "type": "bar",
         "x": [
          "Basic casino half"
         ],
         "xaxis": "x",
         "y": [
          14.847375866992344
         ],
         "yaxis": "y"
        },
        {
         "alignmentgroup": "True",
         "hovertemplate": "color=Basic meergranen heel<br>Product=%{x}<br>Weekly Restock Std Dev=%{y}<extra></extra>",
         "legendgroup": "Basic meergranen heel",
         "marker": {
          "color": "#FFA15A"
         },
         "name": "Basic meergranen heel",
         "offsetgroup": "Basic meergranen heel",
         "orientation": "v",
         "showlegend": true,
         "textposition": "auto",
         "type": "bar",
         "x": [
          "Basic meergranen heel"
         ],
         "xaxis": "x",
         "y": [
          14.682306894579146
         ],
         "yaxis": "y"
        },
        {
         "alignmentgroup": "True",
         "hovertemplate": "color=Basic wit heel<br>Product=%{x}<br>Weekly Restock Std Dev=%{y}<extra></extra>",
         "legendgroup": "Basic wit heel",
         "marker": {
          "color": "#19d3f3"
         },
         "name": "Basic wit heel",
         "offsetgroup": "Basic wit heel",
         "orientation": "v",
         "showlegend": true,
         "textposition": "auto",
         "type": "bar",
         "x": [
          "Basic wit heel"
         ],
         "xaxis": "x",
         "y": [
          14.585616067839966
         ],
         "yaxis": "y"
        },
        {
         "alignmentgroup": "True",
         "hovertemplate": "color=Basic volkoren heel<br>Product=%{x}<br>Weekly Restock Std Dev=%{y}<extra></extra>",
         "legendgroup": "Basic volkoren heel",
         "marker": {
          "color": "#FF6692"
         },
         "name": "Basic volkoren heel",
         "offsetgroup": "Basic volkoren heel",
         "orientation": "v",
         "showlegend": true,
         "textposition": "auto",
         "type": "bar",
         "x": [
          "Basic volkoren heel"
         ],
         "xaxis": "x",
         "y": [
          14.422414263309168
         ],
         "yaxis": "y"
        },
        {
         "alignmentgroup": "True",
         "hovertemplate": "color=Biologisch volkoren heel<br>Product=%{x}<br>Weekly Restock Std Dev=%{y}<extra></extra>",
         "legendgroup": "Biologisch volkoren heel",
         "marker": {
          "color": "#B6E880"
         },
         "name": "Biologisch volkoren heel",
         "offsetgroup": "Biologisch volkoren heel",
         "orientation": "v",
         "showlegend": true,
         "textposition": "auto",
         "type": "bar",
         "x": [
          "Biologisch volkoren heel"
         ],
         "xaxis": "x",
         "y": [
          14.287449797618082
         ],
         "yaxis": "y"
        },
        {
         "alignmentgroup": "True",
         "hovertemplate": "color=Courgette<br>Product=%{x}<br>Weekly Restock Std Dev=%{y}<extra></extra>",
         "legendgroup": "Courgette",
         "marker": {
          "color": "#FF97FF"
         },
         "name": "Courgette",
         "offsetgroup": "Courgette",
         "orientation": "v",
         "showlegend": true,
         "textposition": "auto",
         "type": "bar",
         "x": [
          "Courgette"
         ],
         "xaxis": "x",
         "y": [
          14.014222467641543
         ],
         "yaxis": "y"
        },
        {
         "alignmentgroup": "True",
         "hovertemplate": "color=Basis Maiskorrels<br>Product=%{x}<br>Weekly Restock Std Dev=%{y}<extra></extra>",
         "legendgroup": "Basis Maiskorrels",
         "marker": {
          "color": "#FECB52"
         },
         "name": "Basis Maiskorrels",
         "offsetgroup": "Basis Maiskorrels",
         "orientation": "v",
         "showlegend": true,
         "textposition": "auto",
         "type": "bar",
         "x": [
          "Basis Maiskorrels"
         ],
         "xaxis": "x",
         "y": [
          12.528117396089327
         ],
         "yaxis": "y"
        },
        {
         "alignmentgroup": "True",
         "hovertemplate": "color=Pompoen stukjes<br>Product=%{x}<br>Weekly Restock Std Dev=%{y}<extra></extra>",
         "legendgroup": "Pompoen stukjes",
         "marker": {
          "color": "#636efa"
         },
         "name": "Pompoen stukjes",
         "offsetgroup": "Pompoen stukjes",
         "orientation": "v",
         "showlegend": true,
         "textposition": "auto",
         "type": "bar",
         "x": [
          "Pompoen stukjes"
         ],
         "xaxis": "x",
         "y": [
          11.839746950131039
         ],
         "yaxis": "y"
        },
        {
         "alignmentgroup": "True",
         "hovertemplate": "color=Pitloze witte druiven<br>Product=%{x}<br>Weekly Restock Std Dev=%{y}<extra></extra>",
         "legendgroup": "Pitloze witte druiven",
         "marker": {
          "color": "#EF553B"
         },
         "name": "Pitloze witte druiven",
         "offsetgroup": "Pitloze witte druiven",
         "orientation": "v",
         "showlegend": true,
         "textposition": "auto",
         "type": "bar",
         "x": [
          "Pitloze witte druiven"
         ],
         "xaxis": "x",
         "y": [
          11.735607772753754
         ],
         "yaxis": "y"
        },
        {
         "alignmentgroup": "True",
         "hovertemplate": "color=Rucola<br>Product=%{x}<br>Weekly Restock Std Dev=%{y}<extra></extra>",
         "legendgroup": "Rucola",
         "marker": {
          "color": "#00cc96"
         },
         "name": "Rucola",
         "offsetgroup": "Rucola",
         "orientation": "v",
         "showlegend": true,
         "textposition": "auto",
         "type": "bar",
         "x": [
          "Rucola"
         ],
         "xaxis": "x",
         "y": [
          11.634465364327037
         ],
         "yaxis": "y"
        },
        {
         "alignmentgroup": "True",
         "hovertemplate": "color=WokVegetable thais<br>Product=%{x}<br>Weekly Restock Std Dev=%{y}<extra></extra>",
         "legendgroup": "WokVegetable thais",
         "marker": {
          "color": "#ab63fa"
         },
         "name": "WokVegetable thais",
         "offsetgroup": "WokVegetable thais",
         "orientation": "v",
         "showlegend": true,
         "textposition": "auto",
         "type": "bar",
         "x": [
          "WokVegetable thais"
         ],
         "xaxis": "x",
         "y": [
          11.632442799781826
         ],
         "yaxis": "y"
        },
        {
         "alignmentgroup": "True",
         "hovertemplate": "color=Paprika<br>Product=%{x}<br>Weekly Restock Std Dev=%{y}<extra></extra>",
         "legendgroup": "Paprika",
         "marker": {
          "color": "#FFA15A"
         },
         "name": "Paprika",
         "offsetgroup": "Paprika",
         "orientation": "v",
         "showlegend": true,
         "textposition": "auto",
         "type": "bar",
         "x": [
          "Paprika"
         ],
         "xaxis": "x",
         "y": [
          11.591883570234923
         ],
         "yaxis": "y"
        },
        {
         "alignmentgroup": "True",
         "hovertemplate": "color=Biologisch Vloerbrood meerzaden heel<br>Product=%{x}<br>Weekly Restock Std Dev=%{y}<extra></extra>",
         "legendgroup": "Biologisch Vloerbrood meerzaden heel",
         "marker": {
          "color": "#19d3f3"
         },
         "name": "Biologisch Vloerbrood meerzaden heel",
         "offsetgroup": "Biologisch Vloerbrood meerzaden heel",
         "orientation": "v",
         "showlegend": true,
         "textposition": "auto",
         "type": "bar",
         "x": [
          "Biologisch Vloerbrood meerzaden heel"
         ],
         "xaxis": "x",
         "y": [
          11.323619517378662
         ],
         "yaxis": "y"
        },
        {
         "alignmentgroup": "True",
         "hovertemplate": "color=Boerenkool gesneden<br>Product=%{x}<br>Weekly Restock Std Dev=%{y}<extra></extra>",
         "legendgroup": "Boerenkool gesneden",
         "marker": {
          "color": "#FF6692"
         },
         "name": "Boerenkool gesneden",
         "offsetgroup": "Boerenkool gesneden",
         "orientation": "v",
         "showlegend": true,
         "textposition": "auto",
         "type": "bar",
         "x": [
          "Boerenkool gesneden"
         ],
         "xaxis": "x",
         "y": [
          11.216199768856738
         ],
         "yaxis": "y"
        },
        {
         "alignmentgroup": "True",
         "hovertemplate": "color=Spruiten<br>Product=%{x}<br>Weekly Restock Std Dev=%{y}<extra></extra>",
         "legendgroup": "Spruiten",
         "marker": {
          "color": "#B6E880"
         },
         "name": "Spruiten",
         "offsetgroup": "Spruiten",
         "orientation": "v",
         "showlegend": true,
         "textposition": "auto",
         "type": "bar",
         "x": [
          "Spruiten"
         ],
         "xaxis": "x",
         "y": [
          11.110673193984665
         ],
         "yaxis": "y"
        },
        {
         "alignmentgroup": "True",
         "hovertemplate": "color=Paprika Mix<br>Product=%{x}<br>Weekly Restock Std Dev=%{y}<extra></extra>",
         "legendgroup": "Paprika Mix",
         "marker": {
          "color": "#FF97FF"
         },
         "name": "Paprika Mix",
         "offsetgroup": "Paprika Mix",
         "orientation": "v",
         "showlegend": true,
         "textposition": "auto",
         "type": "bar",
         "x": [
          "Paprika Mix"
         ],
         "xaxis": "x",
         "y": [
          11.10241097292677
         ],
         "yaxis": "y"
        },
        {
         "alignmentgroup": "True",
         "hovertemplate": "color=Biologische pompoen<br>Product=%{x}<br>Weekly Restock Std Dev=%{y}<extra></extra>",
         "legendgroup": "Biologische pompoen",
         "marker": {
          "color": "#FECB52"
         },
         "name": "Biologische pompoen",
         "offsetgroup": "Biologische pompoen",
         "orientation": "v",
         "showlegend": true,
         "textposition": "auto",
         "type": "bar",
         "x": [
          "Biologische pompoen"
         ],
         "xaxis": "x",
         "y": [
          11.004704876177495
         ],
         "yaxis": "y"
        }
       ],
       "layout": {
        "barmode": "relative",
        "legend": {
         "title": {
          "text": "color"
         },
         "tracegroupgap": 0
        },
        "showlegend": false,
        "template": {
         "data": {
          "bar": [
           {
            "error_x": {
             "color": "#2a3f5f"
            },
            "error_y": {
             "color": "#2a3f5f"
            },
            "marker": {
             "line": {
              "color": "#E5ECF6",
              "width": 0.5
             }
            },
            "type": "bar"
           }
          ],
          "barpolar": [
           {
            "marker": {
             "line": {
              "color": "#E5ECF6",
              "width": 0.5
             }
            },
            "type": "barpolar"
           }
          ],
          "carpet": [
           {
            "aaxis": {
             "endlinecolor": "#2a3f5f",
             "gridcolor": "white",
             "linecolor": "white",
             "minorgridcolor": "white",
             "startlinecolor": "#2a3f5f"
            },
            "baxis": {
             "endlinecolor": "#2a3f5f",
             "gridcolor": "white",
             "linecolor": "white",
             "minorgridcolor": "white",
             "startlinecolor": "#2a3f5f"
            },
            "type": "carpet"
           }
          ],
          "choropleth": [
           {
            "colorbar": {
             "outlinewidth": 0,
             "ticks": ""
            },
            "type": "choropleth"
           }
          ],
          "contour": [
           {
            "colorbar": {
             "outlinewidth": 0,
             "ticks": ""
            },
            "colorscale": [
             [
              0,
              "#0d0887"
             ],
             [
              0.1111111111111111,
              "#46039f"
             ],
             [
              0.2222222222222222,
              "#7201a8"
             ],
             [
              0.3333333333333333,
              "#9c179e"
             ],
             [
              0.4444444444444444,
              "#bd3786"
             ],
             [
              0.5555555555555556,
              "#d8576b"
             ],
             [
              0.6666666666666666,
              "#ed7953"
             ],
             [
              0.7777777777777778,
              "#fb9f3a"
             ],
             [
              0.8888888888888888,
              "#fdca26"
             ],
             [
              1,
              "#f0f921"
             ]
            ],
            "type": "contour"
           }
          ],
          "contourcarpet": [
           {
            "colorbar": {
             "outlinewidth": 0,
             "ticks": ""
            },
            "type": "contourcarpet"
           }
          ],
          "heatmap": [
           {
            "colorbar": {
             "outlinewidth": 0,
             "ticks": ""
            },
            "colorscale": [
             [
              0,
              "#0d0887"
             ],
             [
              0.1111111111111111,
              "#46039f"
             ],
             [
              0.2222222222222222,
              "#7201a8"
             ],
             [
              0.3333333333333333,
              "#9c179e"
             ],
             [
              0.4444444444444444,
              "#bd3786"
             ],
             [
              0.5555555555555556,
              "#d8576b"
             ],
             [
              0.6666666666666666,
              "#ed7953"
             ],
             [
              0.7777777777777778,
              "#fb9f3a"
             ],
             [
              0.8888888888888888,
              "#fdca26"
             ],
             [
              1,
              "#f0f921"
             ]
            ],
            "type": "heatmap"
           }
          ],
          "heatmapgl": [
           {
            "colorbar": {
             "outlinewidth": 0,
             "ticks": ""
            },
            "colorscale": [
             [
              0,
              "#0d0887"
             ],
             [
              0.1111111111111111,
              "#46039f"
             ],
             [
              0.2222222222222222,
              "#7201a8"
             ],
             [
              0.3333333333333333,
              "#9c179e"
             ],
             [
              0.4444444444444444,
              "#bd3786"
             ],
             [
              0.5555555555555556,
              "#d8576b"
             ],
             [
              0.6666666666666666,
              "#ed7953"
             ],
             [
              0.7777777777777778,
              "#fb9f3a"
             ],
             [
              0.8888888888888888,
              "#fdca26"
             ],
             [
              1,
              "#f0f921"
             ]
            ],
            "type": "heatmapgl"
           }
          ],
          "histogram": [
           {
            "marker": {
             "colorbar": {
              "outlinewidth": 0,
              "ticks": ""
             }
            },
            "type": "histogram"
           }
          ],
          "histogram2d": [
           {
            "colorbar": {
             "outlinewidth": 0,
             "ticks": ""
            },
            "colorscale": [
             [
              0,
              "#0d0887"
             ],
             [
              0.1111111111111111,
              "#46039f"
             ],
             [
              0.2222222222222222,
              "#7201a8"
             ],
             [
              0.3333333333333333,
              "#9c179e"
             ],
             [
              0.4444444444444444,
              "#bd3786"
             ],
             [
              0.5555555555555556,
              "#d8576b"
             ],
             [
              0.6666666666666666,
              "#ed7953"
             ],
             [
              0.7777777777777778,
              "#fb9f3a"
             ],
             [
              0.8888888888888888,
              "#fdca26"
             ],
             [
              1,
              "#f0f921"
             ]
            ],
            "type": "histogram2d"
           }
          ],
          "histogram2dcontour": [
           {
            "colorbar": {
             "outlinewidth": 0,
             "ticks": ""
            },
            "colorscale": [
             [
              0,
              "#0d0887"
             ],
             [
              0.1111111111111111,
              "#46039f"
             ],
             [
              0.2222222222222222,
              "#7201a8"
             ],
             [
              0.3333333333333333,
              "#9c179e"
             ],
             [
              0.4444444444444444,
              "#bd3786"
             ],
             [
              0.5555555555555556,
              "#d8576b"
             ],
             [
              0.6666666666666666,
              "#ed7953"
             ],
             [
              0.7777777777777778,
              "#fb9f3a"
             ],
             [
              0.8888888888888888,
              "#fdca26"
             ],
             [
              1,
              "#f0f921"
             ]
            ],
            "type": "histogram2dcontour"
           }
          ],
          "mesh3d": [
           {
            "colorbar": {
             "outlinewidth": 0,
             "ticks": ""
            },
            "type": "mesh3d"
           }
          ],
          "parcoords": [
           {
            "line": {
             "colorbar": {
              "outlinewidth": 0,
              "ticks": ""
             }
            },
            "type": "parcoords"
           }
          ],
          "pie": [
           {
            "automargin": true,
            "type": "pie"
           }
          ],
          "scatter": [
           {
            "marker": {
             "colorbar": {
              "outlinewidth": 0,
              "ticks": ""
             }
            },
            "type": "scatter"
           }
          ],
          "scatter3d": [
           {
            "line": {
             "colorbar": {
              "outlinewidth": 0,
              "ticks": ""
             }
            },
            "marker": {
             "colorbar": {
              "outlinewidth": 0,
              "ticks": ""
             }
            },
            "type": "scatter3d"
           }
          ],
          "scattercarpet": [
           {
            "marker": {
             "colorbar": {
              "outlinewidth": 0,
              "ticks": ""
             }
            },
            "type": "scattercarpet"
           }
          ],
          "scattergeo": [
           {
            "marker": {
             "colorbar": {
              "outlinewidth": 0,
              "ticks": ""
             }
            },
            "type": "scattergeo"
           }
          ],
          "scattergl": [
           {
            "marker": {
             "colorbar": {
              "outlinewidth": 0,
              "ticks": ""
             }
            },
            "type": "scattergl"
           }
          ],
          "scattermapbox": [
           {
            "marker": {
             "colorbar": {
              "outlinewidth": 0,
              "ticks": ""
             }
            },
            "type": "scattermapbox"
           }
          ],
          "scatterpolar": [
           {
            "marker": {
             "colorbar": {
              "outlinewidth": 0,
              "ticks": ""
             }
            },
            "type": "scatterpolar"
           }
          ],
          "scatterpolargl": [
           {
            "marker": {
             "colorbar": {
              "outlinewidth": 0,
              "ticks": ""
             }
            },
            "type": "scatterpolargl"
           }
          ],
          "scatterternary": [
           {
            "marker": {
             "colorbar": {
              "outlinewidth": 0,
              "ticks": ""
             }
            },
            "type": "scatterternary"
           }
          ],
          "surface": [
           {
            "colorbar": {
             "outlinewidth": 0,
             "ticks": ""
            },
            "colorscale": [
             [
              0,
              "#0d0887"
             ],
             [
              0.1111111111111111,
              "#46039f"
             ],
             [
              0.2222222222222222,
              "#7201a8"
             ],
             [
              0.3333333333333333,
              "#9c179e"
             ],
             [
              0.4444444444444444,
              "#bd3786"
             ],
             [
              0.5555555555555556,
              "#d8576b"
             ],
             [
              0.6666666666666666,
              "#ed7953"
             ],
             [
              0.7777777777777778,
              "#fb9f3a"
             ],
             [
              0.8888888888888888,
              "#fdca26"
             ],
             [
              1,
              "#f0f921"
             ]
            ],
            "type": "surface"
           }
          ],
          "table": [
           {
            "cells": {
             "fill": {
              "color": "#EBF0F8"
             },
             "line": {
              "color": "white"
             }
            },
            "header": {
             "fill": {
              "color": "#C8D4E3"
             },
             "line": {
              "color": "white"
             }
            },
            "type": "table"
           }
          ]
         },
         "layout": {
          "annotationdefaults": {
           "arrowcolor": "#2a3f5f",
           "arrowhead": 0,
           "arrowwidth": 1
          },
          "coloraxis": {
           "colorbar": {
            "outlinewidth": 0,
            "ticks": ""
           }
          },
          "colorscale": {
           "diverging": [
            [
             0,
             "#8e0152"
            ],
            [
             0.1,
             "#c51b7d"
            ],
            [
             0.2,
             "#de77ae"
            ],
            [
             0.3,
             "#f1b6da"
            ],
            [
             0.4,
             "#fde0ef"
            ],
            [
             0.5,
             "#f7f7f7"
            ],
            [
             0.6,
             "#e6f5d0"
            ],
            [
             0.7,
             "#b8e186"
            ],
            [
             0.8,
             "#7fbc41"
            ],
            [
             0.9,
             "#4d9221"
            ],
            [
             1,
             "#276419"
            ]
           ],
           "sequential": [
            [
             0,
             "#0d0887"
            ],
            [
             0.1111111111111111,
             "#46039f"
            ],
            [
             0.2222222222222222,
             "#7201a8"
            ],
            [
             0.3333333333333333,
             "#9c179e"
            ],
            [
             0.4444444444444444,
             "#bd3786"
            ],
            [
             0.5555555555555556,
             "#d8576b"
            ],
            [
             0.6666666666666666,
             "#ed7953"
            ],
            [
             0.7777777777777778,
             "#fb9f3a"
            ],
            [
             0.8888888888888888,
             "#fdca26"
            ],
            [
             1,
             "#f0f921"
            ]
           ],
           "sequentialminus": [
            [
             0,
             "#0d0887"
            ],
            [
             0.1111111111111111,
             "#46039f"
            ],
            [
             0.2222222222222222,
             "#7201a8"
            ],
            [
             0.3333333333333333,
             "#9c179e"
            ],
            [
             0.4444444444444444,
             "#bd3786"
            ],
            [
             0.5555555555555556,
             "#d8576b"
            ],
            [
             0.6666666666666666,
             "#ed7953"
            ],
            [
             0.7777777777777778,
             "#fb9f3a"
            ],
            [
             0.8888888888888888,
             "#fdca26"
            ],
            [
             1,
             "#f0f921"
            ]
           ]
          },
          "colorway": [
           "#636efa",
           "#EF553B",
           "#00cc96",
           "#ab63fa",
           "#FFA15A",
           "#19d3f3",
           "#FF6692",
           "#B6E880",
           "#FF97FF",
           "#FECB52"
          ],
          "font": {
           "color": "#2a3f5f"
          },
          "geo": {
           "bgcolor": "white",
           "lakecolor": "white",
           "landcolor": "#E5ECF6",
           "showlakes": true,
           "showland": true,
           "subunitcolor": "white"
          },
          "hoverlabel": {
           "align": "left"
          },
          "hovermode": "closest",
          "mapbox": {
           "style": "light"
          },
          "paper_bgcolor": "white",
          "plot_bgcolor": "#E5ECF6",
          "polar": {
           "angularaxis": {
            "gridcolor": "white",
            "linecolor": "white",
            "ticks": ""
           },
           "bgcolor": "#E5ECF6",
           "radialaxis": {
            "gridcolor": "white",
            "linecolor": "white",
            "ticks": ""
           }
          },
          "scene": {
           "xaxis": {
            "backgroundcolor": "#E5ECF6",
            "gridcolor": "white",
            "gridwidth": 2,
            "linecolor": "white",
            "showbackground": true,
            "ticks": "",
            "zerolinecolor": "white"
           },
           "yaxis": {
            "backgroundcolor": "#E5ECF6",
            "gridcolor": "white",
            "gridwidth": 2,
            "linecolor": "white",
            "showbackground": true,
            "ticks": "",
            "zerolinecolor": "white"
           },
           "zaxis": {
            "backgroundcolor": "#E5ECF6",
            "gridcolor": "white",
            "gridwidth": 2,
            "linecolor": "white",
            "showbackground": true,
            "ticks": "",
            "zerolinecolor": "white"
           }
          },
          "shapedefaults": {
           "line": {
            "color": "#2a3f5f"
           }
          },
          "ternary": {
           "aaxis": {
            "gridcolor": "white",
            "linecolor": "white",
            "ticks": ""
           },
           "baxis": {
            "gridcolor": "white",
            "linecolor": "white",
            "ticks": ""
           },
           "bgcolor": "#E5ECF6",
           "caxis": {
            "gridcolor": "white",
            "linecolor": "white",
            "ticks": ""
           }
          },
          "title": {
           "x": 0.05
          },
          "xaxis": {
           "automargin": true,
           "gridcolor": "white",
           "linecolor": "white",
           "ticks": "",
           "title": {
            "standoff": 15
           },
           "zerolinecolor": "white",
           "zerolinewidth": 2
          },
          "yaxis": {
           "automargin": true,
           "gridcolor": "white",
           "linecolor": "white",
           "ticks": "",
           "title": {
            "standoff": 15
           },
           "zerolinecolor": "white",
           "zerolinewidth": 2
          }
         }
        },
        "title": {
         "text": "Descending products by std dev weekly restock"
        },
        "xaxis": {
         "anchor": "y",
         "domain": [
          0,
          1
         ],
         "tickangle": 45,
         "title": {
          "text": "Product"
         }
        },
        "yaxis": {
         "anchor": "x",
         "domain": [
          0,
          1
         ],
         "title": {
          "text": "Weekly Restock Std Dev"
         }
        }
       }
      }
     },
     "metadata": {}
    }
   ],
   "source": [
    "\n",
    "fig = px.bar(x=df_std.index, y=df_std[('amount', 'std')], color = df_std.index, title = \"Descending products by std dev weekly restock\", labels = {\"y\":\"Weekly Restock Std Dev\",\"x\":\"Product\"})\n",
    "fig.update_layout(showlegend=False)\n",
    "fig.update_xaxes(tickangle = 45)\n",
    "fig.show()"
   ]
  },
  {
   "cell_type": "code",
   "execution_count": 85,
   "metadata": {},
   "outputs": [
    {
     "output_type": "execute_result",
     "data": {
      "text/plain": [
       "     day before or after delivery  \\\n",
       "0      0                   before   \n",
       "1      0                    after   \n",
       "2      3                   before   \n",
       "3      3                    after   \n",
       "4      7                   before   \n",
       "..   ...                      ...   \n",
       "203  353                    after   \n",
       "204  357                   before   \n",
       "205  357                    after   \n",
       "206  360                   before   \n",
       "207  360                    after   \n",
       "\n",
       "                                   Doritos sweet chili  \n",
       "0                                                   []  \n",
       "1                                         [(100, 128)]  \n",
       "2                                          [(100, 26)]  \n",
       "3                              [(100, 26), (103, 128)]  \n",
       "4                                          [(103, 58)]  \n",
       "..                                                 ...  \n",
       "203  [(401, 100), (404, 128), (408, 128), (411, 128...  \n",
       "204  [(404, 120), (408, 128), (411, 128), (415, 128...  \n",
       "205  [(404, 120), (408, 128), (411, 128), (415, 128...  \n",
       "206  [(404, 35), (408, 128), (411, 128), (415, 128)...  \n",
       "207  [(404, 35), (408, 128), (411, 128), (415, 128)...  \n",
       "\n",
       "[208 rows x 3 columns]"
      ],
      "text/html": "<div>\n<style scoped>\n    .dataframe tbody tr th:only-of-type {\n        vertical-align: middle;\n    }\n\n    .dataframe tbody tr th {\n        vertical-align: top;\n    }\n\n    .dataframe thead th {\n        text-align: right;\n    }\n</style>\n<table border=\"1\" class=\"dataframe\">\n  <thead>\n    <tr style=\"text-align: right;\">\n      <th></th>\n      <th>day</th>\n      <th>before or after delivery</th>\n      <th>Doritos sweet chili</th>\n    </tr>\n  </thead>\n  <tbody>\n    <tr>\n      <th>0</th>\n      <td>0</td>\n      <td>before</td>\n      <td>[]</td>\n    </tr>\n    <tr>\n      <th>1</th>\n      <td>0</td>\n      <td>after</td>\n      <td>[(100, 128)]</td>\n    </tr>\n    <tr>\n      <th>2</th>\n      <td>3</td>\n      <td>before</td>\n      <td>[(100, 26)]</td>\n    </tr>\n    <tr>\n      <th>3</th>\n      <td>3</td>\n      <td>after</td>\n      <td>[(100, 26), (103, 128)]</td>\n    </tr>\n    <tr>\n      <th>4</th>\n      <td>7</td>\n      <td>before</td>\n      <td>[(103, 58)]</td>\n    </tr>\n    <tr>\n      <th>...</th>\n      <td>...</td>\n      <td>...</td>\n      <td>...</td>\n    </tr>\n    <tr>\n      <th>203</th>\n      <td>353</td>\n      <td>after</td>\n      <td>[(401, 100), (404, 128), (408, 128), (411, 128...</td>\n    </tr>\n    <tr>\n      <th>204</th>\n      <td>357</td>\n      <td>before</td>\n      <td>[(404, 120), (408, 128), (411, 128), (415, 128...</td>\n    </tr>\n    <tr>\n      <th>205</th>\n      <td>357</td>\n      <td>after</td>\n      <td>[(404, 120), (408, 128), (411, 128), (415, 128...</td>\n    </tr>\n    <tr>\n      <th>206</th>\n      <td>360</td>\n      <td>before</td>\n      <td>[(404, 35), (408, 128), (411, 128), (415, 128)...</td>\n    </tr>\n    <tr>\n      <th>207</th>\n      <td>360</td>\n      <td>after</td>\n      <td>[(404, 35), (408, 128), (411, 128), (415, 128)...</td>\n    </tr>\n  </tbody>\n</table>\n<p>208 rows × 3 columns</p>\n</div>"
     },
     "metadata": {},
     "execution_count": 85
    }
   ],
   "source": [
    "inventory[['day', 'before or after delivery', 'Doritos sweet chili']]"
   ]
  },
  {
   "cell_type": "code",
   "execution_count": 61,
   "metadata": {},
   "outputs": [
    {
     "output_type": "execute_result",
     "data": {
      "text/plain": [
       "array(['Komkommer', 'Courgette', 'SnoepVegetable tomaat', 'Paprika Mix',\n",
       "       'Paprika', 'Geschrapte worteltjes', 'Basis Sperziebonen',\n",
       "       'Basis Rode kool met appel', 'Basis worteltjes fijn',\n",
       "       'Basis erwten zeer fijn', 'Basis sperziebonen',\n",
       "       'Biologische courgette', 'Biologische Bloemkool',\n",
       "       'Biologische knoflook', 'Biologische pompoen',\n",
       "       'Biologische kikkererwten', 'Biologische prei',\n",
       "       'Biologische rode kool', 'Biologische cherry tomaten',\n",
       "       'Biologische brocolli', 'Boerenkool gesneden', 'Spruiten',\n",
       "       'Witlof', 'Rucola', 'Nasi bami Vegetable', 'Snijbonen',\n",
       "       'Buitenbeentjes puntpaprika', 'Basis Maiskorrels', 'Wortelen',\n",
       "       'Pompoen stukjes', 'Verse zuurkool', 'Buitenbeentjes komkommer',\n",
       "       'Buitenbeentjes paprika', 'SnoepVegetable worteltjes',\n",
       "       'WokVegetable thais', 'Mandarijenen', 'Bananen',\n",
       "       'Chiquita bananen', 'Pitloze witte druiven',\n",
       "       'Zoete kleine appeltjes', 'Pink lady appels',\n",
       "       'Pitloze rode druiven', 'Elstar', 'Conference',\n",
       "       'Biologische banane', 'Citroenen', 'Mango', 'Blauwe bessen',\n",
       "       'Blauwe bessen.1', 'Aardbeien', 'Jonagold', 'Mandarijnen groot',\n",
       "       'Mango eetrijp', 'Buitenbeetjes appels', 'Limoenen',\n",
       "       'Granny smith', 'Grapefruit rood', 'Kanzi appelen',\n",
       "       'Basis annanasstukjes', 'Biologisch wilde bosbes',\n",
       "       'Biologische rozijnen', 'Biologische santana appelen',\n",
       "       'Pitloze druivenmix', 'Biologische sinaasappelen',\n",
       "       'Aardbeien ontkroond', 'Rundergehakt', 'Gerookte spekreepjes',\n",
       "       'Spekreepjes', 'Mini gourmet hamburgers',\n",
       "       'Unox Gelderse rookworst', 'Half om half gehakt', 'Rundergehakt.1',\n",
       "       'Slavinken', 'Mini biefstukjes', 'Rundersoepballetjes',\n",
       "       'Hamburgers', 'Unox Gelderse rookworst.1',\n",
       "       'Mini gourmet kipsatespiesjes', 'Unox Magere rookworst',\n",
       "       'Biologische spekreepjes', 'Sappige gelders rookworst',\n",
       "       'Biologisch rundergehakt', 'Varkensbraadworst',\n",
       "       'Runder riblap Iers', 'rundergehakt', 'gerookt onbijtspek',\n",
       "       'rundervinken', 'half of half gehakt', 'Gekruide runderchipolata',\n",
       "       'Biologisch rundergehakt.1', 'Mini gourmet slavink',\n",
       "       'Mini gourmet varkenshaas', 'Zigeuner gehaktschnitzel',\n",
       "       'Veluwse rookworst fijn', 'Runderbraadworst', 'Spekblokjes',\n",
       "       'biologische Hamburger', 'Mager rundergehakt',\n",
       "       'Biologische gerookte ontbijtspek', 'Biefstuk',\n",
       "       'Biologische runderchipolata', 'Biologische rundersoepballetjes',\n",
       "       'Kipblokjes', 'Kipfilet naturel', 'Krokante Kipfiletschnitzel',\n",
       "       'Kipfilet', 'Zaans volkoren heel', 'Tijger bruin heel',\n",
       "       'Zaans volkoren half', 'meergranen volkoren half', 'Walkdorn heel',\n",
       "       'Zaans bruin heel', 'Tijger volkoren half', 'Tijger volkoren heel',\n",
       "       'Mais half', 'Tijger bruin half', 'Volkoren heel',\n",
       "       'Meergranen volkoren heel', 'Tijger wit half',\n",
       "       'Vloerbrood meergranen', 'Vloerbrood volkoren ', 'Casino wit half',\n",
       "       'Tijger wit heel', 'Bruin heel', 'Zaanse sijnder bruin half',\n",
       "       'Boerenvolkoren sesam heel', 'Steiv spelt gesneden',\n",
       "       'Krenten- en rozijnenbrood half', 'Zaans volkoren ',\n",
       "       'Atkins laag koolhydraat volkoren brood half',\n",
       "       'Bolletje Fries roggebrood', 'Kaneelbroodjes',\n",
       "       'Biologisch Vloerbrood meerzaden heel', 'Basic meergranen heel',\n",
       "       'Basic wit heel', 'Basic casino half', 'Basic volkoren heel',\n",
       "       'Biologisch volkoren heel', 'Biologisch bruin heel',\n",
       "       'Glutenvrij bruin', 'Muesli-notenbrood', 'Basic roggebrood',\n",
       "       'Melkbroodjes', 'Krenten rozijnenwegge', 'Amandelkrans',\n",
       "       'Roomboter chocolade brood', 'Chinois brioche',\n",
       "       'Vanille muffins (vers)', 'Basic chocolate chip cookies', 'Oreo',\n",
       "       'Bakkersspeculaas', 'Eierkoeken', 'Ribbelchips naturel',\n",
       "       'Ribbelchips paprika', 'Doritos sweet chili'], dtype=object)"
      ]
     },
     "metadata": {},
     "execution_count": 61
    }
   ],
   "source": [
    "agg_df['product'].unique()"
   ]
  },
  {
   "cell_type": "code",
   "execution_count": 147,
   "metadata": {},
   "outputs": [
    {
     "output_type": "execute_result",
     "data": {
      "text/plain": [
       "     week  amount            product\n",
       "6884    1      70  Basic casino half\n",
       "6885    2      70  Basic casino half\n",
       "6886    3      70  Basic casino half\n",
       "6887    4      70  Basic casino half\n",
       "6888    5      70  Basic casino half\n",
       "6889    6      28  Basic casino half\n",
       "6890    7      70  Basic casino half\n",
       "6891    8      70  Basic casino half\n",
       "6892    9      70  Basic casino half\n",
       "6893   10      70  Basic casino half\n",
       "6894   11      70  Basic casino half\n",
       "6895   12      70  Basic casino half\n",
       "6896   13      70  Basic casino half\n",
       "6897   14      70  Basic casino half\n",
       "6898   15      70  Basic casino half\n",
       "6899   16      70  Basic casino half\n",
       "6900   17      70  Basic casino half\n",
       "6901   18      70  Basic casino half\n",
       "6902   19      70  Basic casino half\n",
       "6903   20      70  Basic casino half\n",
       "6904   21      70  Basic casino half\n",
       "6905   22      56  Basic casino half\n",
       "6906   23      56  Basic casino half\n",
       "6907   24      70  Basic casino half\n",
       "6908   25      70  Basic casino half\n",
       "6909   26      70  Basic casino half\n",
       "6910   27      70  Basic casino half\n",
       "6911   28      70  Basic casino half\n",
       "6912   29      70  Basic casino half\n",
       "6913   30      70  Basic casino half\n",
       "6914   31      70  Basic casino half\n",
       "6915   32      70  Basic casino half\n",
       "6916   33      70  Basic casino half\n",
       "6917   34      70  Basic casino half\n",
       "6918   35      70  Basic casino half\n",
       "6919   36      70  Basic casino half\n",
       "6920   37      70  Basic casino half\n",
       "6921   38      70  Basic casino half\n",
       "6922   39      70  Basic casino half\n",
       "6923   40      70  Basic casino half\n",
       "6924   41      70  Basic casino half\n",
       "6925   42      70  Basic casino half\n",
       "6926   43      70  Basic casino half\n",
       "6927   44      14  Basic casino half\n",
       "6928   45      70  Basic casino half\n",
       "6929   46      70  Basic casino half\n",
       "6930   47      70  Basic casino half\n",
       "6931   48      70  Basic casino half\n",
       "6932   49      70  Basic casino half\n",
       "6933   50      14  Basic casino half\n",
       "6934   51      70  Basic casino half\n",
       "6935   52       7  Basic casino half"
      ],
      "text/html": "<div>\n<style scoped>\n    .dataframe tbody tr th:only-of-type {\n        vertical-align: middle;\n    }\n\n    .dataframe tbody tr th {\n        vertical-align: top;\n    }\n\n    .dataframe thead th {\n        text-align: right;\n    }\n</style>\n<table border=\"1\" class=\"dataframe\">\n  <thead>\n    <tr style=\"text-align: right;\">\n      <th></th>\n      <th>week</th>\n      <th>amount</th>\n      <th>product</th>\n    </tr>\n  </thead>\n  <tbody>\n    <tr>\n      <th>6884</th>\n      <td>1</td>\n      <td>70</td>\n      <td>Basic casino half</td>\n    </tr>\n    <tr>\n      <th>6885</th>\n      <td>2</td>\n      <td>70</td>\n      <td>Basic casino half</td>\n    </tr>\n    <tr>\n      <th>6886</th>\n      <td>3</td>\n      <td>70</td>\n      <td>Basic casino half</td>\n    </tr>\n    <tr>\n      <th>6887</th>\n      <td>4</td>\n      <td>70</td>\n      <td>Basic casino half</td>\n    </tr>\n    <tr>\n      <th>6888</th>\n      <td>5</td>\n      <td>70</td>\n      <td>Basic casino half</td>\n    </tr>\n    <tr>\n      <th>6889</th>\n      <td>6</td>\n      <td>28</td>\n      <td>Basic casino half</td>\n    </tr>\n    <tr>\n      <th>6890</th>\n      <td>7</td>\n      <td>70</td>\n      <td>Basic casino half</td>\n    </tr>\n    <tr>\n      <th>6891</th>\n      <td>8</td>\n      <td>70</td>\n      <td>Basic casino half</td>\n    </tr>\n    <tr>\n      <th>6892</th>\n      <td>9</td>\n      <td>70</td>\n      <td>Basic casino half</td>\n    </tr>\n    <tr>\n      <th>6893</th>\n      <td>10</td>\n      <td>70</td>\n      <td>Basic casino half</td>\n    </tr>\n    <tr>\n      <th>6894</th>\n      <td>11</td>\n      <td>70</td>\n      <td>Basic casino half</td>\n    </tr>\n    <tr>\n      <th>6895</th>\n      <td>12</td>\n      <td>70</td>\n      <td>Basic casino half</td>\n    </tr>\n    <tr>\n      <th>6896</th>\n      <td>13</td>\n      <td>70</td>\n      <td>Basic casino half</td>\n    </tr>\n    <tr>\n      <th>6897</th>\n      <td>14</td>\n      <td>70</td>\n      <td>Basic casino half</td>\n    </tr>\n    <tr>\n      <th>6898</th>\n      <td>15</td>\n      <td>70</td>\n      <td>Basic casino half</td>\n    </tr>\n    <tr>\n      <th>6899</th>\n      <td>16</td>\n      <td>70</td>\n      <td>Basic casino half</td>\n    </tr>\n    <tr>\n      <th>6900</th>\n      <td>17</td>\n      <td>70</td>\n      <td>Basic casino half</td>\n    </tr>\n    <tr>\n      <th>6901</th>\n      <td>18</td>\n      <td>70</td>\n      <td>Basic casino half</td>\n    </tr>\n    <tr>\n      <th>6902</th>\n      <td>19</td>\n      <td>70</td>\n      <td>Basic casino half</td>\n    </tr>\n    <tr>\n      <th>6903</th>\n      <td>20</td>\n      <td>70</td>\n      <td>Basic casino half</td>\n    </tr>\n    <tr>\n      <th>6904</th>\n      <td>21</td>\n      <td>70</td>\n      <td>Basic casino half</td>\n    </tr>\n    <tr>\n      <th>6905</th>\n      <td>22</td>\n      <td>56</td>\n      <td>Basic casino half</td>\n    </tr>\n    <tr>\n      <th>6906</th>\n      <td>23</td>\n      <td>56</td>\n      <td>Basic casino half</td>\n    </tr>\n    <tr>\n      <th>6907</th>\n      <td>24</td>\n      <td>70</td>\n      <td>Basic casino half</td>\n    </tr>\n    <tr>\n      <th>6908</th>\n      <td>25</td>\n      <td>70</td>\n      <td>Basic casino half</td>\n    </tr>\n    <tr>\n      <th>6909</th>\n      <td>26</td>\n      <td>70</td>\n      <td>Basic casino half</td>\n    </tr>\n    <tr>\n      <th>6910</th>\n      <td>27</td>\n      <td>70</td>\n      <td>Basic casino half</td>\n    </tr>\n    <tr>\n      <th>6911</th>\n      <td>28</td>\n      <td>70</td>\n      <td>Basic casino half</td>\n    </tr>\n    <tr>\n      <th>6912</th>\n      <td>29</td>\n      <td>70</td>\n      <td>Basic casino half</td>\n    </tr>\n    <tr>\n      <th>6913</th>\n      <td>30</td>\n      <td>70</td>\n      <td>Basic casino half</td>\n    </tr>\n    <tr>\n      <th>6914</th>\n      <td>31</td>\n      <td>70</td>\n      <td>Basic casino half</td>\n    </tr>\n    <tr>\n      <th>6915</th>\n      <td>32</td>\n      <td>70</td>\n      <td>Basic casino half</td>\n    </tr>\n    <tr>\n      <th>6916</th>\n      <td>33</td>\n      <td>70</td>\n      <td>Basic casino half</td>\n    </tr>\n    <tr>\n      <th>6917</th>\n      <td>34</td>\n      <td>70</td>\n      <td>Basic casino half</td>\n    </tr>\n    <tr>\n      <th>6918</th>\n      <td>35</td>\n      <td>70</td>\n      <td>Basic casino half</td>\n    </tr>\n    <tr>\n      <th>6919</th>\n      <td>36</td>\n      <td>70</td>\n      <td>Basic casino half</td>\n    </tr>\n    <tr>\n      <th>6920</th>\n      <td>37</td>\n      <td>70</td>\n      <td>Basic casino half</td>\n    </tr>\n    <tr>\n      <th>6921</th>\n      <td>38</td>\n      <td>70</td>\n      <td>Basic casino half</td>\n    </tr>\n    <tr>\n      <th>6922</th>\n      <td>39</td>\n      <td>70</td>\n      <td>Basic casino half</td>\n    </tr>\n    <tr>\n      <th>6923</th>\n      <td>40</td>\n      <td>70</td>\n      <td>Basic casino half</td>\n    </tr>\n    <tr>\n      <th>6924</th>\n      <td>41</td>\n      <td>70</td>\n      <td>Basic casino half</td>\n    </tr>\n    <tr>\n      <th>6925</th>\n      <td>42</td>\n      <td>70</td>\n      <td>Basic casino half</td>\n    </tr>\n    <tr>\n      <th>6926</th>\n      <td>43</td>\n      <td>70</td>\n      <td>Basic casino half</td>\n    </tr>\n    <tr>\n      <th>6927</th>\n      <td>44</td>\n      <td>14</td>\n      <td>Basic casino half</td>\n    </tr>\n    <tr>\n      <th>6928</th>\n      <td>45</td>\n      <td>70</td>\n      <td>Basic casino half</td>\n    </tr>\n    <tr>\n      <th>6929</th>\n      <td>46</td>\n      <td>70</td>\n      <td>Basic casino half</td>\n    </tr>\n    <tr>\n      <th>6930</th>\n      <td>47</td>\n      <td>70</td>\n      <td>Basic casino half</td>\n    </tr>\n    <tr>\n      <th>6931</th>\n      <td>48</td>\n      <td>70</td>\n      <td>Basic casino half</td>\n    </tr>\n    <tr>\n      <th>6932</th>\n      <td>49</td>\n      <td>70</td>\n      <td>Basic casino half</td>\n    </tr>\n    <tr>\n      <th>6933</th>\n      <td>50</td>\n      <td>14</td>\n      <td>Basic casino half</td>\n    </tr>\n    <tr>\n      <th>6934</th>\n      <td>51</td>\n      <td>70</td>\n      <td>Basic casino half</td>\n    </tr>\n    <tr>\n      <th>6935</th>\n      <td>52</td>\n      <td>7</td>\n      <td>Basic casino half</td>\n    </tr>\n  </tbody>\n</table>\n</div>"
     },
     "metadata": {},
     "execution_count": 147
    }
   ],
   "source": [
    "agg_df[agg_df['product'] == 'Basic casino half']"
   ]
  },
  {
   "cell_type": "code",
   "execution_count": null,
   "metadata": {},
   "outputs": [],
   "source": []
  }
 ]
}