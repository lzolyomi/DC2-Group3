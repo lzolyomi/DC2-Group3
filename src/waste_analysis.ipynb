{
 "metadata": {
  "language_info": {
   "codemirror_mode": {
    "name": "ipython",
    "version": 3
   },
   "file_extension": ".py",
   "mimetype": "text/x-python",
   "name": "python",
   "nbconvert_exporter": "python",
   "pygments_lexer": "ipython3",
   "version": "3.7.9-final"
  },
  "orig_nbformat": 2,
  "kernelspec": {
   "name": "python3",
   "display_name": "Python 3.7.9 64-bit ('tensorflow': conda)",
   "metadata": {
    "interpreter": {
     "hash": "4813fb8e86ed3d6773ff61e311179fcaa83fd1f65519d6a34299835a423c2bed"
    }
   }
  }
 },
 "nbformat": 4,
 "nbformat_minor": 2,
 "cells": [
  {
   "cell_type": "code",
   "execution_count": 156,
   "metadata": {},
   "outputs": [],
   "source": [
    "import pandas as pd\n",
    "import numpy as np \n",
    "import datetime\n",
    "inventory = pd.read_csv(\"data/inventory.csv\")\n",
    "products = pd.read_csv(\"data/products.csv\")\n",
    "promotions = pd.read_csv(\"data/promotions.csv\")\n",
    "transactions = pd.read_csv(\"data/transactions.csv\")\n",
    "\n",
    "import ast\n",
    "for colname in inventory.columns[2:]:\n",
    "    inventory[colname] = [ast.literal_eval(i) for i in inventory[colname]]"
   ]
  },
  {
   "cell_type": "code",
   "execution_count": 181,
   "metadata": {},
   "outputs": [
    {
     "output_type": "execute_result",
     "data": {
      "text/plain": [
       "               day      time  customer  bank acount   category product_id  \\\n",
       "193       1/1/2018  12:20:00      14.0   67267391.0  vegetable        v_5   \n",
       "233       1/1/2018  13:03:28      16.0          NaN  vegetable        v_5   \n",
       "305       1/1/2018  13:21:22      19.0   25671204.0  vegetable        v_5   \n",
       "333       1/1/2018  13:37:36      21.0   88026174.0  vegetable        v_5   \n",
       "412       1/1/2018  14:09:57      24.0   55280334.0  vegetable        v_5   \n",
       "...            ...       ...       ...          ...        ...        ...   \n",
       "354373  30-12-2018  15:47:54   20663.0   87022141.0  vegetable        v_5   \n",
       "354605  30-12-2018  17:53:03   20673.0   21215141.0  vegetable        v_5   \n",
       "354701  30-12-2018  18:55:46   20678.0   83610097.0  vegetable        v_5   \n",
       "354751  30-12-2018  19:22:26   20680.0    9697098.0  vegetable        v_5   \n",
       "354790  30-12-2018  19:59:18   20682.0          NaN  vegetable        v_5   \n",
       "\n",
       "       description size  std_sales_price  purchase_price  bio  basic  \n",
       "193        Paprika  1st             0.99            0.99  0.0    0.0  \n",
       "233        Paprika  1st             0.99            0.99  0.0    0.0  \n",
       "305        Paprika  1st             0.99            0.99  0.0    0.0  \n",
       "333        Paprika  1st             0.99            0.99  0.0    0.0  \n",
       "412        Paprika  1st             0.99            0.99  0.0    0.0  \n",
       "...            ...  ...              ...             ...  ...    ...  \n",
       "354373     Paprika  1st             0.99            0.89  0.0    0.0  \n",
       "354605     Paprika  1st             0.99            0.89  0.0    0.0  \n",
       "354701     Paprika  1st             0.99            0.89  0.0    0.0  \n",
       "354751     Paprika  1st             0.99            0.89  0.0    0.0  \n",
       "354790     Paprika  1st             0.99            0.89  0.0    0.0  \n",
       "\n",
       "[3026 rows x 12 columns]"
      ],
      "text/html": "<div>\n<style scoped>\n    .dataframe tbody tr th:only-of-type {\n        vertical-align: middle;\n    }\n\n    .dataframe tbody tr th {\n        vertical-align: top;\n    }\n\n    .dataframe thead th {\n        text-align: right;\n    }\n</style>\n<table border=\"1\" class=\"dataframe\">\n  <thead>\n    <tr style=\"text-align: right;\">\n      <th></th>\n      <th>day</th>\n      <th>time</th>\n      <th>customer</th>\n      <th>bank acount</th>\n      <th>category</th>\n      <th>product_id</th>\n      <th>description</th>\n      <th>size</th>\n      <th>std_sales_price</th>\n      <th>purchase_price</th>\n      <th>bio</th>\n      <th>basic</th>\n    </tr>\n  </thead>\n  <tbody>\n    <tr>\n      <th>193</th>\n      <td>1/1/2018</td>\n      <td>12:20:00</td>\n      <td>14.0</td>\n      <td>67267391.0</td>\n      <td>vegetable</td>\n      <td>v_5</td>\n      <td>Paprika</td>\n      <td>1st</td>\n      <td>0.99</td>\n      <td>0.99</td>\n      <td>0.0</td>\n      <td>0.0</td>\n    </tr>\n    <tr>\n      <th>233</th>\n      <td>1/1/2018</td>\n      <td>13:03:28</td>\n      <td>16.0</td>\n      <td>NaN</td>\n      <td>vegetable</td>\n      <td>v_5</td>\n      <td>Paprika</td>\n      <td>1st</td>\n      <td>0.99</td>\n      <td>0.99</td>\n      <td>0.0</td>\n      <td>0.0</td>\n    </tr>\n    <tr>\n      <th>305</th>\n      <td>1/1/2018</td>\n      <td>13:21:22</td>\n      <td>19.0</td>\n      <td>25671204.0</td>\n      <td>vegetable</td>\n      <td>v_5</td>\n      <td>Paprika</td>\n      <td>1st</td>\n      <td>0.99</td>\n      <td>0.99</td>\n      <td>0.0</td>\n      <td>0.0</td>\n    </tr>\n    <tr>\n      <th>333</th>\n      <td>1/1/2018</td>\n      <td>13:37:36</td>\n      <td>21.0</td>\n      <td>88026174.0</td>\n      <td>vegetable</td>\n      <td>v_5</td>\n      <td>Paprika</td>\n      <td>1st</td>\n      <td>0.99</td>\n      <td>0.99</td>\n      <td>0.0</td>\n      <td>0.0</td>\n    </tr>\n    <tr>\n      <th>412</th>\n      <td>1/1/2018</td>\n      <td>14:09:57</td>\n      <td>24.0</td>\n      <td>55280334.0</td>\n      <td>vegetable</td>\n      <td>v_5</td>\n      <td>Paprika</td>\n      <td>1st</td>\n      <td>0.99</td>\n      <td>0.99</td>\n      <td>0.0</td>\n      <td>0.0</td>\n    </tr>\n    <tr>\n      <th>...</th>\n      <td>...</td>\n      <td>...</td>\n      <td>...</td>\n      <td>...</td>\n      <td>...</td>\n      <td>...</td>\n      <td>...</td>\n      <td>...</td>\n      <td>...</td>\n      <td>...</td>\n      <td>...</td>\n      <td>...</td>\n    </tr>\n    <tr>\n      <th>354373</th>\n      <td>30-12-2018</td>\n      <td>15:47:54</td>\n      <td>20663.0</td>\n      <td>87022141.0</td>\n      <td>vegetable</td>\n      <td>v_5</td>\n      <td>Paprika</td>\n      <td>1st</td>\n      <td>0.99</td>\n      <td>0.89</td>\n      <td>0.0</td>\n      <td>0.0</td>\n    </tr>\n    <tr>\n      <th>354605</th>\n      <td>30-12-2018</td>\n      <td>17:53:03</td>\n      <td>20673.0</td>\n      <td>21215141.0</td>\n      <td>vegetable</td>\n      <td>v_5</td>\n      <td>Paprika</td>\n      <td>1st</td>\n      <td>0.99</td>\n      <td>0.89</td>\n      <td>0.0</td>\n      <td>0.0</td>\n    </tr>\n    <tr>\n      <th>354701</th>\n      <td>30-12-2018</td>\n      <td>18:55:46</td>\n      <td>20678.0</td>\n      <td>83610097.0</td>\n      <td>vegetable</td>\n      <td>v_5</td>\n      <td>Paprika</td>\n      <td>1st</td>\n      <td>0.99</td>\n      <td>0.89</td>\n      <td>0.0</td>\n      <td>0.0</td>\n    </tr>\n    <tr>\n      <th>354751</th>\n      <td>30-12-2018</td>\n      <td>19:22:26</td>\n      <td>20680.0</td>\n      <td>9697098.0</td>\n      <td>vegetable</td>\n      <td>v_5</td>\n      <td>Paprika</td>\n      <td>1st</td>\n      <td>0.99</td>\n      <td>0.89</td>\n      <td>0.0</td>\n      <td>0.0</td>\n    </tr>\n    <tr>\n      <th>354790</th>\n      <td>30-12-2018</td>\n      <td>19:59:18</td>\n      <td>20682.0</td>\n      <td>NaN</td>\n      <td>vegetable</td>\n      <td>v_5</td>\n      <td>Paprika</td>\n      <td>1st</td>\n      <td>0.99</td>\n      <td>0.89</td>\n      <td>0.0</td>\n      <td>0.0</td>\n    </tr>\n  </tbody>\n</table>\n<p>3026 rows × 12 columns</p>\n</div>"
     },
     "metadata": {},
     "execution_count": 181
    }
   ],
   "source": [
    "product = \"Paprika\"\n",
    "transactions[transactions[\"description\"] == product]"
   ]
  },
  {
   "cell_type": "code",
   "execution_count": 182,
   "metadata": {},
   "outputs": [],
   "source": [
    "def date_converter(row):\n",
    "    converted_date = datetime.datetime(2018, 1, 1) + datetime.timedelta(row[\"day\"])\n",
    "    return converted_date\n",
    "\n",
    "inventory[\"date\"] = inventory.apply(date_converter, axis = 1)"
   ]
  },
  {
   "cell_type": "code",
   "execution_count": 183,
   "metadata": {},
   "outputs": [],
   "source": [
    "def week_of_year(row):\n",
    "    week_nr = datetime.date(row[\"date\"].year, row[\"date\"].month, row[\"date\"].day).isocalendar()[1]\n",
    "    return week_nr\n",
    "\n",
    "inventory[\"week\"] = inventory.apply(week_of_year, axis = 1)"
   ]
  },
  {
   "cell_type": "code",
   "execution_count": 184,
   "metadata": {},
   "outputs": [],
   "source": [
    "filter_inventory = inventory[[\"day\", \"before or after delivery\", \"date\", \"week\", product]]\n",
    "promotions_filter = promotions[promotions[\"description\"] == product]\n",
    "\n",
    "def check_discount(row):\n",
    "    if row[\"week\"] in promotions_filter[\"week\"].values:\n",
    "        discount_amount = promotions_filter[promotions_filter[\"week\"] == row[\"week\"]][\"discount\"]\n",
    "        return discount_amount.values[0]\n",
    "    else:\n",
    "        return 0\n",
    "\n",
    "filter_inventory[\"discount\"] = filter_inventory.apply(check_discount, axis = 1)\n"
   ]
  },
  {
   "cell_type": "code",
   "execution_count": 185,
   "metadata": {},
   "outputs": [],
   "source": [
    "def total_inv(row):\n",
    "    total = 0\n",
    "    if len(row[product]) > 0:\n",
    "        for batch in row[product]:\n",
    "            total += batch[1]\n",
    "    return total\n",
    "\n",
    "filter_inventory[\"total inventory\"] = filter_inventory.apply(total_inv, axis = 1)"
   ]
  },
  {
   "cell_type": "code",
   "execution_count": 186,
   "metadata": {},
   "outputs": [],
   "source": [
    "best_before = []\n",
    "for element_list in filter_inventory[product]:\n",
    "    for batch in element_list:\n",
    "        best_before.append(batch[0])\n",
    "bb_dates = np.unique(best_before)"
   ]
  },
  {
   "cell_type": "code",
   "execution_count": 187,
   "metadata": {},
   "outputs": [
    {
     "output_type": "execute_result",
     "data": {
      "text/plain": [
       "     best before\n",
       "0             14\n",
       "1             17\n",
       "2             21\n",
       "3             24\n",
       "4             28\n",
       "..           ...\n",
       "99           360\n",
       "100          364\n",
       "101          367\n",
       "102          371\n",
       "103          374\n",
       "\n",
       "[104 rows x 1 columns]"
      ],
      "text/html": "<div>\n<style scoped>\n    .dataframe tbody tr th:only-of-type {\n        vertical-align: middle;\n    }\n\n    .dataframe tbody tr th {\n        vertical-align: top;\n    }\n\n    .dataframe thead th {\n        text-align: right;\n    }\n</style>\n<table border=\"1\" class=\"dataframe\">\n  <thead>\n    <tr style=\"text-align: right;\">\n      <th></th>\n      <th>best before</th>\n    </tr>\n  </thead>\n  <tbody>\n    <tr>\n      <th>0</th>\n      <td>14</td>\n    </tr>\n    <tr>\n      <th>1</th>\n      <td>17</td>\n    </tr>\n    <tr>\n      <th>2</th>\n      <td>21</td>\n    </tr>\n    <tr>\n      <th>3</th>\n      <td>24</td>\n    </tr>\n    <tr>\n      <th>4</th>\n      <td>28</td>\n    </tr>\n    <tr>\n      <th>...</th>\n      <td>...</td>\n    </tr>\n    <tr>\n      <th>99</th>\n      <td>360</td>\n    </tr>\n    <tr>\n      <th>100</th>\n      <td>364</td>\n    </tr>\n    <tr>\n      <th>101</th>\n      <td>367</td>\n    </tr>\n    <tr>\n      <th>102</th>\n      <td>371</td>\n    </tr>\n    <tr>\n      <th>103</th>\n      <td>374</td>\n    </tr>\n  </tbody>\n</table>\n<p>104 rows × 1 columns</p>\n</div>"
     },
     "metadata": {},
     "execution_count": 187
    }
   ],
   "source": [
    "df_waste = pd.DataFrame({\"best before\":bb_dates})\n",
    "df_waste"
   ]
  },
  {
   "cell_type": "code",
   "execution_count": 188,
   "metadata": {},
   "outputs": [],
   "source": [
    "def input_inv(row):\n",
    "    for element_list in filter_inventory[product]:\n",
    "        if len(element_list) > 0:\n",
    "            for batch in element_list:\n",
    "                if batch[0] == row[\"best before\"]:\n",
    "                    return batch[1]\n",
    "df_waste[\"amount\"] = df_waste.apply(input_inv, axis = 1)"
   ]
  },
  {
   "cell_type": "code",
   "execution_count": 189,
   "metadata": {},
   "outputs": [
    {
     "output_type": "execute_result",
     "data": {
      "text/plain": [
       "     best before  amount\n",
       "0             14      34\n",
       "1             17      34\n",
       "2             21      34\n",
       "3             24      34\n",
       "4             28      14\n",
       "..           ...     ...\n",
       "96           350      34\n",
       "97           353      34\n",
       "98           357      34\n",
       "99           360      34\n",
       "100          364      34\n",
       "\n",
       "[101 rows x 2 columns]"
      ],
      "text/html": "<div>\n<style scoped>\n    .dataframe tbody tr th:only-of-type {\n        vertical-align: middle;\n    }\n\n    .dataframe tbody tr th {\n        vertical-align: top;\n    }\n\n    .dataframe thead th {\n        text-align: right;\n    }\n</style>\n<table border=\"1\" class=\"dataframe\">\n  <thead>\n    <tr style=\"text-align: right;\">\n      <th></th>\n      <th>best before</th>\n      <th>amount</th>\n    </tr>\n  </thead>\n  <tbody>\n    <tr>\n      <th>0</th>\n      <td>14</td>\n      <td>34</td>\n    </tr>\n    <tr>\n      <th>1</th>\n      <td>17</td>\n      <td>34</td>\n    </tr>\n    <tr>\n      <th>2</th>\n      <td>21</td>\n      <td>34</td>\n    </tr>\n    <tr>\n      <th>3</th>\n      <td>24</td>\n      <td>34</td>\n    </tr>\n    <tr>\n      <th>4</th>\n      <td>28</td>\n      <td>14</td>\n    </tr>\n    <tr>\n      <th>...</th>\n      <td>...</td>\n      <td>...</td>\n    </tr>\n    <tr>\n      <th>96</th>\n      <td>350</td>\n      <td>34</td>\n    </tr>\n    <tr>\n      <th>97</th>\n      <td>353</td>\n      <td>34</td>\n    </tr>\n    <tr>\n      <th>98</th>\n      <td>357</td>\n      <td>34</td>\n    </tr>\n    <tr>\n      <th>99</th>\n      <td>360</td>\n      <td>34</td>\n    </tr>\n    <tr>\n      <th>100</th>\n      <td>364</td>\n      <td>34</td>\n    </tr>\n  </tbody>\n</table>\n<p>101 rows × 2 columns</p>\n</div>"
     },
     "metadata": {},
     "execution_count": 189
    }
   ],
   "source": [
    "df_waste\n",
    "#product gets thrown away on the day it goes bad, no one can buy it anymore ON THAT DAY\n",
    "#discard any items that has best before for enxt year\n",
    "#haven't sold anything that is not in stock\n",
    "df_waste = df_waste[df_waste[\"best before\"] < 365]\n",
    "df_waste"
   ]
  },
  {
   "cell_type": "code",
   "execution_count": 190,
   "metadata": {},
   "outputs": [],
   "source": [
    "df_waste[\"purchases\"] = [purchases_per_day[i-1] for i in df_waste[\"best before\"]]"
   ]
  },
  {
   "cell_type": "code",
   "execution_count": 191,
   "metadata": {},
   "outputs": [
    {
     "output_type": "execute_result",
     "data": {
      "text/plain": [
       "     best before  amount  purchases  prev purchases\n",
       "0             14      34        115             NaN\n",
       "1             17      34        133            18.0\n",
       "2             21      34        170            37.0\n",
       "3             24      34        190            20.0\n",
       "4             28      14        209            19.0\n",
       "..           ...     ...        ...             ...\n",
       "96           350      34       2840            42.0\n",
       "97           353      34       2871            31.0\n",
       "98           357      34       2896            25.0\n",
       "99           360      34       2913            17.0\n",
       "100          364      34       2943            30.0\n",
       "\n",
       "[101 rows x 4 columns]"
      ],
      "text/html": "<div>\n<style scoped>\n    .dataframe tbody tr th:only-of-type {\n        vertical-align: middle;\n    }\n\n    .dataframe tbody tr th {\n        vertical-align: top;\n    }\n\n    .dataframe thead th {\n        text-align: right;\n    }\n</style>\n<table border=\"1\" class=\"dataframe\">\n  <thead>\n    <tr style=\"text-align: right;\">\n      <th></th>\n      <th>best before</th>\n      <th>amount</th>\n      <th>purchases</th>\n      <th>prev purchases</th>\n    </tr>\n  </thead>\n  <tbody>\n    <tr>\n      <th>0</th>\n      <td>14</td>\n      <td>34</td>\n      <td>115</td>\n      <td>NaN</td>\n    </tr>\n    <tr>\n      <th>1</th>\n      <td>17</td>\n      <td>34</td>\n      <td>133</td>\n      <td>18.0</td>\n    </tr>\n    <tr>\n      <th>2</th>\n      <td>21</td>\n      <td>34</td>\n      <td>170</td>\n      <td>37.0</td>\n    </tr>\n    <tr>\n      <th>3</th>\n      <td>24</td>\n      <td>34</td>\n      <td>190</td>\n      <td>20.0</td>\n    </tr>\n    <tr>\n      <th>4</th>\n      <td>28</td>\n      <td>14</td>\n      <td>209</td>\n      <td>19.0</td>\n    </tr>\n    <tr>\n      <th>...</th>\n      <td>...</td>\n      <td>...</td>\n      <td>...</td>\n      <td>...</td>\n    </tr>\n    <tr>\n      <th>96</th>\n      <td>350</td>\n      <td>34</td>\n      <td>2840</td>\n      <td>42.0</td>\n    </tr>\n    <tr>\n      <th>97</th>\n      <td>353</td>\n      <td>34</td>\n      <td>2871</td>\n      <td>31.0</td>\n    </tr>\n    <tr>\n      <th>98</th>\n      <td>357</td>\n      <td>34</td>\n      <td>2896</td>\n      <td>25.0</td>\n    </tr>\n    <tr>\n      <th>99</th>\n      <td>360</td>\n      <td>34</td>\n      <td>2913</td>\n      <td>17.0</td>\n    </tr>\n    <tr>\n      <th>100</th>\n      <td>364</td>\n      <td>34</td>\n      <td>2943</td>\n      <td>30.0</td>\n    </tr>\n  </tbody>\n</table>\n<p>101 rows × 4 columns</p>\n</div>"
     },
     "metadata": {},
     "execution_count": 191
    }
   ],
   "source": [
    "df_waste[\"prev purchases\"] = df_waste[\"purchases\"].diff()\n",
    "df_waste"
   ]
  },
  {
   "cell_type": "code",
   "execution_count": 192,
   "metadata": {},
   "outputs": [],
   "source": [
    "length = df_waste.shape[0]\n",
    "lst_waste = []\n",
    "df_waste[\"remaining\"] = df_waste[\"amount\"] - df_waste[\"prev purchases\"]\n",
    "df_waste[\"remaining\"].iloc[0] = df_waste[\"amount\"].iloc[0] - df_waste[\"purchases\"].iloc[0]\n",
    "\n",
    "for i in range(length):\n",
    "    current_row = df_waste.iloc[i]\n",
    "    if i == 0:\n",
    "        lst_waste.append(current_row[\"remaining\"])\n",
    "        continue     \n",
    "    else:\n",
    "        prev_row = df_waste.iloc[i-1]\n",
    "        if lst_waste[-1] < 0:\n",
    "            waste = lst_waste[-1] + current_row[\"remaining\"]\n",
    "            lst_waste.append(lst_waste[-1] + current_row[\"remaining\"])\n",
    "        else:\n",
    "            lst_waste.append(current_row[\"remaining\"])\n",
    "    \n",
    "df_waste[\"waste\"] = lst_waste\n",
    "def date_converter(row):\n",
    "    converted_date = datetime.datetime(2018, 1, 1) + datetime.timedelta(row[\"best before\"])\n",
    "    return converted_date\n",
    "\n",
    "df_waste[\"date\"] = df_waste.apply(date_converter, axis = 1)\n",
    "df_waste[\"week\"] = df_waste.apply(week_of_year, axis = 1)\n",
    "df_waste[df_waste[\"waste\"] < 0][\"waste\"] = 0"
   ]
  },
  {
   "cell_type": "code",
   "execution_count": 193,
   "metadata": {},
   "outputs": [
    {
     "output_type": "execute_result",
     "data": {
      "text/plain": [
       "     best before  amount  purchases  prev purchases  remaining  waste  \\\n",
       "0             14      34        115             NaN      -81.0  -81.0   \n",
       "1             17      34        133            18.0       16.0  -65.0   \n",
       "2             21      34        170            37.0       -3.0  -68.0   \n",
       "3             24      34        190            20.0       14.0  -54.0   \n",
       "4             28      14        209            19.0       -5.0  -59.0   \n",
       "..           ...     ...        ...             ...        ...    ...   \n",
       "96           350      34       2840            42.0       -8.0   -8.0   \n",
       "97           353      34       2871            31.0        3.0   -5.0   \n",
       "98           357      34       2896            25.0        9.0    4.0   \n",
       "99           360      34       2913            17.0       17.0   17.0   \n",
       "100          364      34       2943            30.0        4.0    4.0   \n",
       "\n",
       "          date  week  \n",
       "0   2018-01-15     3  \n",
       "1   2018-01-18     3  \n",
       "2   2018-01-22     4  \n",
       "3   2018-01-25     4  \n",
       "4   2018-01-29     5  \n",
       "..         ...   ...  \n",
       "96  2018-12-17    51  \n",
       "97  2018-12-20    51  \n",
       "98  2018-12-24    52  \n",
       "99  2018-12-27    52  \n",
       "100 2018-12-31     1  \n",
       "\n",
       "[101 rows x 8 columns]"
      ],
      "text/html": "<div>\n<style scoped>\n    .dataframe tbody tr th:only-of-type {\n        vertical-align: middle;\n    }\n\n    .dataframe tbody tr th {\n        vertical-align: top;\n    }\n\n    .dataframe thead th {\n        text-align: right;\n    }\n</style>\n<table border=\"1\" class=\"dataframe\">\n  <thead>\n    <tr style=\"text-align: right;\">\n      <th></th>\n      <th>best before</th>\n      <th>amount</th>\n      <th>purchases</th>\n      <th>prev purchases</th>\n      <th>remaining</th>\n      <th>waste</th>\n      <th>date</th>\n      <th>week</th>\n    </tr>\n  </thead>\n  <tbody>\n    <tr>\n      <th>0</th>\n      <td>14</td>\n      <td>34</td>\n      <td>115</td>\n      <td>NaN</td>\n      <td>-81.0</td>\n      <td>-81.0</td>\n      <td>2018-01-15</td>\n      <td>3</td>\n    </tr>\n    <tr>\n      <th>1</th>\n      <td>17</td>\n      <td>34</td>\n      <td>133</td>\n      <td>18.0</td>\n      <td>16.0</td>\n      <td>-65.0</td>\n      <td>2018-01-18</td>\n      <td>3</td>\n    </tr>\n    <tr>\n      <th>2</th>\n      <td>21</td>\n      <td>34</td>\n      <td>170</td>\n      <td>37.0</td>\n      <td>-3.0</td>\n      <td>-68.0</td>\n      <td>2018-01-22</td>\n      <td>4</td>\n    </tr>\n    <tr>\n      <th>3</th>\n      <td>24</td>\n      <td>34</td>\n      <td>190</td>\n      <td>20.0</td>\n      <td>14.0</td>\n      <td>-54.0</td>\n      <td>2018-01-25</td>\n      <td>4</td>\n    </tr>\n    <tr>\n      <th>4</th>\n      <td>28</td>\n      <td>14</td>\n      <td>209</td>\n      <td>19.0</td>\n      <td>-5.0</td>\n      <td>-59.0</td>\n      <td>2018-01-29</td>\n      <td>5</td>\n    </tr>\n    <tr>\n      <th>...</th>\n      <td>...</td>\n      <td>...</td>\n      <td>...</td>\n      <td>...</td>\n      <td>...</td>\n      <td>...</td>\n      <td>...</td>\n      <td>...</td>\n    </tr>\n    <tr>\n      <th>96</th>\n      <td>350</td>\n      <td>34</td>\n      <td>2840</td>\n      <td>42.0</td>\n      <td>-8.0</td>\n      <td>-8.0</td>\n      <td>2018-12-17</td>\n      <td>51</td>\n    </tr>\n    <tr>\n      <th>97</th>\n      <td>353</td>\n      <td>34</td>\n      <td>2871</td>\n      <td>31.0</td>\n      <td>3.0</td>\n      <td>-5.0</td>\n      <td>2018-12-20</td>\n      <td>51</td>\n    </tr>\n    <tr>\n      <th>98</th>\n      <td>357</td>\n      <td>34</td>\n      <td>2896</td>\n      <td>25.0</td>\n      <td>9.0</td>\n      <td>4.0</td>\n      <td>2018-12-24</td>\n      <td>52</td>\n    </tr>\n    <tr>\n      <th>99</th>\n      <td>360</td>\n      <td>34</td>\n      <td>2913</td>\n      <td>17.0</td>\n      <td>17.0</td>\n      <td>17.0</td>\n      <td>2018-12-27</td>\n      <td>52</td>\n    </tr>\n    <tr>\n      <th>100</th>\n      <td>364</td>\n      <td>34</td>\n      <td>2943</td>\n      <td>30.0</td>\n      <td>4.0</td>\n      <td>4.0</td>\n      <td>2018-12-31</td>\n      <td>1</td>\n    </tr>\n  </tbody>\n</table>\n<p>101 rows × 8 columns</p>\n</div>"
     },
     "metadata": {},
     "execution_count": 193
    }
   ],
   "source": [
    "df_waste"
   ]
  },
  {
   "cell_type": "code",
   "execution_count": 194,
   "metadata": {},
   "outputs": [],
   "source": [
    "df_waste[\"waste nn\"] = [i if i > 0 else 0 for i in df_waste[\"waste\"]]\n",
    "waste_group = df_waste.groupby(\"week\").sum()\n"
   ]
  },
  {
   "cell_type": "code",
   "execution_count": 195,
   "metadata": {},
   "outputs": [],
   "source": [
    "waste_group[\"week\"] = waste_group.index"
   ]
  },
  {
   "cell_type": "code",
   "execution_count": 196,
   "metadata": {},
   "outputs": [
    {
     "output_type": "display_data",
     "data": {
      "application/vnd.plotly.v1+json": {
       "config": {
        "plotlyServerURL": "https://plot.ly"
       },
       "data": [
        {
         "hovertemplate": "week=%{x}<br>waste nn=%{y}<extra></extra>",
         "legendgroup": "",
         "line": {
          "color": "#636efa",
          "dash": "solid"
         },
         "mode": "lines",
         "name": "",
         "orientation": "v",
         "showlegend": false,
         "type": "scatter",
         "x": [
          1,
          3,
          4,
          5,
          6,
          7,
          8,
          9,
          10,
          11,
          12,
          13,
          14,
          15,
          16,
          17,
          18,
          19,
          20,
          21,
          22,
          23,
          24,
          25,
          26,
          27,
          28,
          29,
          30,
          31,
          32,
          33,
          34,
          35,
          36,
          37,
          38,
          39,
          40,
          41,
          42,
          43,
          44,
          45,
          46,
          47,
          48,
          49,
          50,
          51,
          52
         ],
         "xaxis": "x",
         "y": [
          4,
          0,
          0,
          0,
          0,
          0,
          0,
          0,
          3,
          0,
          0,
          0,
          0,
          0,
          0,
          0,
          0,
          0,
          0,
          17,
          7,
          10,
          9,
          10,
          15,
          21,
          12,
          23,
          24,
          22,
          0,
          0,
          0,
          0,
          10,
          0,
          0,
          13,
          0,
          0,
          3,
          20,
          17,
          9,
          12,
          22,
          13,
          12,
          28,
          0,
          21
         ],
         "yaxis": "y"
        }
       ],
       "layout": {
        "legend": {
         "tracegroupgap": 0
        },
        "margin": {
         "t": 60
        },
        "template": {
         "data": {
          "bar": [
           {
            "error_x": {
             "color": "#2a3f5f"
            },
            "error_y": {
             "color": "#2a3f5f"
            },
            "marker": {
             "line": {
              "color": "#E5ECF6",
              "width": 0.5
             }
            },
            "type": "bar"
           }
          ],
          "barpolar": [
           {
            "marker": {
             "line": {
              "color": "#E5ECF6",
              "width": 0.5
             }
            },
            "type": "barpolar"
           }
          ],
          "carpet": [
           {
            "aaxis": {
             "endlinecolor": "#2a3f5f",
             "gridcolor": "white",
             "linecolor": "white",
             "minorgridcolor": "white",
             "startlinecolor": "#2a3f5f"
            },
            "baxis": {
             "endlinecolor": "#2a3f5f",
             "gridcolor": "white",
             "linecolor": "white",
             "minorgridcolor": "white",
             "startlinecolor": "#2a3f5f"
            },
            "type": "carpet"
           }
          ],
          "choropleth": [
           {
            "colorbar": {
             "outlinewidth": 0,
             "ticks": ""
            },
            "type": "choropleth"
           }
          ],
          "contour": [
           {
            "colorbar": {
             "outlinewidth": 0,
             "ticks": ""
            },
            "colorscale": [
             [
              0,
              "#0d0887"
             ],
             [
              0.1111111111111111,
              "#46039f"
             ],
             [
              0.2222222222222222,
              "#7201a8"
             ],
             [
              0.3333333333333333,
              "#9c179e"
             ],
             [
              0.4444444444444444,
              "#bd3786"
             ],
             [
              0.5555555555555556,
              "#d8576b"
             ],
             [
              0.6666666666666666,
              "#ed7953"
             ],
             [
              0.7777777777777778,
              "#fb9f3a"
             ],
             [
              0.8888888888888888,
              "#fdca26"
             ],
             [
              1,
              "#f0f921"
             ]
            ],
            "type": "contour"
           }
          ],
          "contourcarpet": [
           {
            "colorbar": {
             "outlinewidth": 0,
             "ticks": ""
            },
            "type": "contourcarpet"
           }
          ],
          "heatmap": [
           {
            "colorbar": {
             "outlinewidth": 0,
             "ticks": ""
            },
            "colorscale": [
             [
              0,
              "#0d0887"
             ],
             [
              0.1111111111111111,
              "#46039f"
             ],
             [
              0.2222222222222222,
              "#7201a8"
             ],
             [
              0.3333333333333333,
              "#9c179e"
             ],
             [
              0.4444444444444444,
              "#bd3786"
             ],
             [
              0.5555555555555556,
              "#d8576b"
             ],
             [
              0.6666666666666666,
              "#ed7953"
             ],
             [
              0.7777777777777778,
              "#fb9f3a"
             ],
             [
              0.8888888888888888,
              "#fdca26"
             ],
             [
              1,
              "#f0f921"
             ]
            ],
            "type": "heatmap"
           }
          ],
          "heatmapgl": [
           {
            "colorbar": {
             "outlinewidth": 0,
             "ticks": ""
            },
            "colorscale": [
             [
              0,
              "#0d0887"
             ],
             [
              0.1111111111111111,
              "#46039f"
             ],
             [
              0.2222222222222222,
              "#7201a8"
             ],
             [
              0.3333333333333333,
              "#9c179e"
             ],
             [
              0.4444444444444444,
              "#bd3786"
             ],
             [
              0.5555555555555556,
              "#d8576b"
             ],
             [
              0.6666666666666666,
              "#ed7953"
             ],
             [
              0.7777777777777778,
              "#fb9f3a"
             ],
             [
              0.8888888888888888,
              "#fdca26"
             ],
             [
              1,
              "#f0f921"
             ]
            ],
            "type": "heatmapgl"
           }
          ],
          "histogram": [
           {
            "marker": {
             "colorbar": {
              "outlinewidth": 0,
              "ticks": ""
             }
            },
            "type": "histogram"
           }
          ],
          "histogram2d": [
           {
            "colorbar": {
             "outlinewidth": 0,
             "ticks": ""
            },
            "colorscale": [
             [
              0,
              "#0d0887"
             ],
             [
              0.1111111111111111,
              "#46039f"
             ],
             [
              0.2222222222222222,
              "#7201a8"
             ],
             [
              0.3333333333333333,
              "#9c179e"
             ],
             [
              0.4444444444444444,
              "#bd3786"
             ],
             [
              0.5555555555555556,
              "#d8576b"
             ],
             [
              0.6666666666666666,
              "#ed7953"
             ],
             [
              0.7777777777777778,
              "#fb9f3a"
             ],
             [
              0.8888888888888888,
              "#fdca26"
             ],
             [
              1,
              "#f0f921"
             ]
            ],
            "type": "histogram2d"
           }
          ],
          "histogram2dcontour": [
           {
            "colorbar": {
             "outlinewidth": 0,
             "ticks": ""
            },
            "colorscale": [
             [
              0,
              "#0d0887"
             ],
             [
              0.1111111111111111,
              "#46039f"
             ],
             [
              0.2222222222222222,
              "#7201a8"
             ],
             [
              0.3333333333333333,
              "#9c179e"
             ],
             [
              0.4444444444444444,
              "#bd3786"
             ],
             [
              0.5555555555555556,
              "#d8576b"
             ],
             [
              0.6666666666666666,
              "#ed7953"
             ],
             [
              0.7777777777777778,
              "#fb9f3a"
             ],
             [
              0.8888888888888888,
              "#fdca26"
             ],
             [
              1,
              "#f0f921"
             ]
            ],
            "type": "histogram2dcontour"
           }
          ],
          "mesh3d": [
           {
            "colorbar": {
             "outlinewidth": 0,
             "ticks": ""
            },
            "type": "mesh3d"
           }
          ],
          "parcoords": [
           {
            "line": {
             "colorbar": {
              "outlinewidth": 0,
              "ticks": ""
             }
            },
            "type": "parcoords"
           }
          ],
          "pie": [
           {
            "automargin": true,
            "type": "pie"
           }
          ],
          "scatter": [
           {
            "marker": {
             "colorbar": {
              "outlinewidth": 0,
              "ticks": ""
             }
            },
            "type": "scatter"
           }
          ],
          "scatter3d": [
           {
            "line": {
             "colorbar": {
              "outlinewidth": 0,
              "ticks": ""
             }
            },
            "marker": {
             "colorbar": {
              "outlinewidth": 0,
              "ticks": ""
             }
            },
            "type": "scatter3d"
           }
          ],
          "scattercarpet": [
           {
            "marker": {
             "colorbar": {
              "outlinewidth": 0,
              "ticks": ""
             }
            },
            "type": "scattercarpet"
           }
          ],
          "scattergeo": [
           {
            "marker": {
             "colorbar": {
              "outlinewidth": 0,
              "ticks": ""
             }
            },
            "type": "scattergeo"
           }
          ],
          "scattergl": [
           {
            "marker": {
             "colorbar": {
              "outlinewidth": 0,
              "ticks": ""
             }
            },
            "type": "scattergl"
           }
          ],
          "scattermapbox": [
           {
            "marker": {
             "colorbar": {
              "outlinewidth": 0,
              "ticks": ""
             }
            },
            "type": "scattermapbox"
           }
          ],
          "scatterpolar": [
           {
            "marker": {
             "colorbar": {
              "outlinewidth": 0,
              "ticks": ""
             }
            },
            "type": "scatterpolar"
           }
          ],
          "scatterpolargl": [
           {
            "marker": {
             "colorbar": {
              "outlinewidth": 0,
              "ticks": ""
             }
            },
            "type": "scatterpolargl"
           }
          ],
          "scatterternary": [
           {
            "marker": {
             "colorbar": {
              "outlinewidth": 0,
              "ticks": ""
             }
            },
            "type": "scatterternary"
           }
          ],
          "surface": [
           {
            "colorbar": {
             "outlinewidth": 0,
             "ticks": ""
            },
            "colorscale": [
             [
              0,
              "#0d0887"
             ],
             [
              0.1111111111111111,
              "#46039f"
             ],
             [
              0.2222222222222222,
              "#7201a8"
             ],
             [
              0.3333333333333333,
              "#9c179e"
             ],
             [
              0.4444444444444444,
              "#bd3786"
             ],
             [
              0.5555555555555556,
              "#d8576b"
             ],
             [
              0.6666666666666666,
              "#ed7953"
             ],
             [
              0.7777777777777778,
              "#fb9f3a"
             ],
             [
              0.8888888888888888,
              "#fdca26"
             ],
             [
              1,
              "#f0f921"
             ]
            ],
            "type": "surface"
           }
          ],
          "table": [
           {
            "cells": {
             "fill": {
              "color": "#EBF0F8"
             },
             "line": {
              "color": "white"
             }
            },
            "header": {
             "fill": {
              "color": "#C8D4E3"
             },
             "line": {
              "color": "white"
             }
            },
            "type": "table"
           }
          ]
         },
         "layout": {
          "annotationdefaults": {
           "arrowcolor": "#2a3f5f",
           "arrowhead": 0,
           "arrowwidth": 1
          },
          "autotypenumbers": "strict",
          "coloraxis": {
           "colorbar": {
            "outlinewidth": 0,
            "ticks": ""
           }
          },
          "colorscale": {
           "diverging": [
            [
             0,
             "#8e0152"
            ],
            [
             0.1,
             "#c51b7d"
            ],
            [
             0.2,
             "#de77ae"
            ],
            [
             0.3,
             "#f1b6da"
            ],
            [
             0.4,
             "#fde0ef"
            ],
            [
             0.5,
             "#f7f7f7"
            ],
            [
             0.6,
             "#e6f5d0"
            ],
            [
             0.7,
             "#b8e186"
            ],
            [
             0.8,
             "#7fbc41"
            ],
            [
             0.9,
             "#4d9221"
            ],
            [
             1,
             "#276419"
            ]
           ],
           "sequential": [
            [
             0,
             "#0d0887"
            ],
            [
             0.1111111111111111,
             "#46039f"
            ],
            [
             0.2222222222222222,
             "#7201a8"
            ],
            [
             0.3333333333333333,
             "#9c179e"
            ],
            [
             0.4444444444444444,
             "#bd3786"
            ],
            [
             0.5555555555555556,
             "#d8576b"
            ],
            [
             0.6666666666666666,
             "#ed7953"
            ],
            [
             0.7777777777777778,
             "#fb9f3a"
            ],
            [
             0.8888888888888888,
             "#fdca26"
            ],
            [
             1,
             "#f0f921"
            ]
           ],
           "sequentialminus": [
            [
             0,
             "#0d0887"
            ],
            [
             0.1111111111111111,
             "#46039f"
            ],
            [
             0.2222222222222222,
             "#7201a8"
            ],
            [
             0.3333333333333333,
             "#9c179e"
            ],
            [
             0.4444444444444444,
             "#bd3786"
            ],
            [
             0.5555555555555556,
             "#d8576b"
            ],
            [
             0.6666666666666666,
             "#ed7953"
            ],
            [
             0.7777777777777778,
             "#fb9f3a"
            ],
            [
             0.8888888888888888,
             "#fdca26"
            ],
            [
             1,
             "#f0f921"
            ]
           ]
          },
          "colorway": [
           "#636efa",
           "#EF553B",
           "#00cc96",
           "#ab63fa",
           "#FFA15A",
           "#19d3f3",
           "#FF6692",
           "#B6E880",
           "#FF97FF",
           "#FECB52"
          ],
          "font": {
           "color": "#2a3f5f"
          },
          "geo": {
           "bgcolor": "white",
           "lakecolor": "white",
           "landcolor": "#E5ECF6",
           "showlakes": true,
           "showland": true,
           "subunitcolor": "white"
          },
          "hoverlabel": {
           "align": "left"
          },
          "hovermode": "closest",
          "mapbox": {
           "style": "light"
          },
          "paper_bgcolor": "white",
          "plot_bgcolor": "#E5ECF6",
          "polar": {
           "angularaxis": {
            "gridcolor": "white",
            "linecolor": "white",
            "ticks": ""
           },
           "bgcolor": "#E5ECF6",
           "radialaxis": {
            "gridcolor": "white",
            "linecolor": "white",
            "ticks": ""
           }
          },
          "scene": {
           "xaxis": {
            "backgroundcolor": "#E5ECF6",
            "gridcolor": "white",
            "gridwidth": 2,
            "linecolor": "white",
            "showbackground": true,
            "ticks": "",
            "zerolinecolor": "white"
           },
           "yaxis": {
            "backgroundcolor": "#E5ECF6",
            "gridcolor": "white",
            "gridwidth": 2,
            "linecolor": "white",
            "showbackground": true,
            "ticks": "",
            "zerolinecolor": "white"
           },
           "zaxis": {
            "backgroundcolor": "#E5ECF6",
            "gridcolor": "white",
            "gridwidth": 2,
            "linecolor": "white",
            "showbackground": true,
            "ticks": "",
            "zerolinecolor": "white"
           }
          },
          "shapedefaults": {
           "line": {
            "color": "#2a3f5f"
           }
          },
          "ternary": {
           "aaxis": {
            "gridcolor": "white",
            "linecolor": "white",
            "ticks": ""
           },
           "baxis": {
            "gridcolor": "white",
            "linecolor": "white",
            "ticks": ""
           },
           "bgcolor": "#E5ECF6",
           "caxis": {
            "gridcolor": "white",
            "linecolor": "white",
            "ticks": ""
           }
          },
          "title": {
           "x": 0.05
          },
          "xaxis": {
           "automargin": true,
           "gridcolor": "white",
           "linecolor": "white",
           "ticks": "",
           "title": {
            "standoff": 15
           },
           "zerolinecolor": "white",
           "zerolinewidth": 2
          },
          "yaxis": {
           "automargin": true,
           "gridcolor": "white",
           "linecolor": "white",
           "ticks": "",
           "title": {
            "standoff": 15
           },
           "zerolinecolor": "white",
           "zerolinewidth": 2
          }
         }
        },
        "xaxis": {
         "anchor": "y",
         "domain": [
          0,
          1
         ],
         "title": {
          "text": "week"
         }
        },
        "yaxis": {
         "anchor": "x",
         "domain": [
          0,
          1
         ],
         "title": {
          "text": "waste nn"
         }
        }
       }
      }
     },
     "metadata": {}
    }
   ],
   "source": [
    "import plotly.express as px\n",
    "fig = px.line(waste_group, x = \"week\", y = \"waste nn\")\n",
    "fig.show()"
   ]
  },
  {
   "cell_type": "code",
   "execution_count": 112,
   "metadata": {},
   "outputs": [
    {
     "output_type": "execute_result",
     "data": {
      "text/plain": [
       "day\n",
       "2018-01-01       8\n",
       "2018-01-02      13\n",
       "2018-01-03      18\n",
       "2018-01-04      30\n",
       "2018-01-05      40\n",
       "              ... \n",
       "2018-12-26    2913\n",
       "2018-12-27    2918\n",
       "2018-12-28    2921\n",
       "2018-12-29    2934\n",
       "2018-12-30    2943\n",
       "Name: product_id, Length: 364, dtype: int64"
      ]
     },
     "metadata": {},
     "execution_count": 112
    }
   ],
   "source": [
    "purchases_per_day"
   ]
  },
  {
   "cell_type": "code",
   "execution_count": 71,
   "metadata": {},
   "outputs": [],
   "source": [
    "transactions[\"day\"] = pd.to_datetime(transactions[\"day\"])\n",
    "filter_transactions = transactions[transactions[\"description\"] == product]"
   ]
  },
  {
   "cell_type": "code",
   "execution_count": 86,
   "metadata": {},
   "outputs": [
    {
     "output_type": "execute_result",
     "data": {
      "text/plain": [
       "             day      time  customer  bank acount   category product_id  \\\n",
       "89    2018-01-01  10:40:13       6.0   54211938.0  vegetable        v_1   \n",
       "467   2018-01-01  14:21:35      26.0   51433968.0  vegetable        v_1   \n",
       "573   2018-01-01  15:36:46      33.0   30794082.0  vegetable        v_1   \n",
       "700   2018-01-01  16:56:20      39.0   15832817.0  vegetable        v_1   \n",
       "808   2018-01-01  18:15:29      46.0   90399261.0  vegetable        v_1   \n",
       "821   2018-01-01  18:15:29      46.0   90399261.0  vegetable        v_1   \n",
       "824   2018-01-01  18:15:29      46.0   90399261.0  vegetable        v_1   \n",
       "879   2018-01-01  18:46:48      49.0   15382238.0  vegetable        v_1   \n",
       "29093 2018-01-02  12:52:06    1714.0   28719528.0  vegetable        v_1   \n",
       "29134 2018-01-02  13:44:14    1718.0   39309224.0  vegetable        v_1   \n",
       "29295 2018-01-02  15:15:43    1728.0    8997496.0  vegetable        v_1   \n",
       "29445 2018-01-02  17:57:52    1737.0   34052285.0  vegetable        v_1   \n",
       "29559 2018-01-02  18:51:21    1745.0   50106779.0  vegetable        v_1   \n",
       "55959 2018-01-03   9:22:58    3327.0          NaN  vegetable        v_1   \n",
       "56275 2018-01-03  13:35:26    3346.0   73805186.0  vegetable        v_1   \n",
       "56537 2018-01-03  16:48:00    3364.0   73806149.0  vegetable        v_1   \n",
       "56586 2018-01-03  17:58:20    3369.0     319898.0  vegetable        v_1   \n",
       "56613 2018-01-03  18:20:23    3370.0   98645816.0  vegetable        v_1   \n",
       "\n",
       "      description size  std_sales_price  purchase_price  bio  basic  \n",
       "89      Komkommer  1st             0.69            0.69  0.0    0.0  \n",
       "467     Komkommer  1st             0.69            0.69  0.0    0.0  \n",
       "573     Komkommer  1st             0.69            0.69  0.0    0.0  \n",
       "700     Komkommer  1st             0.69            0.69  0.0    0.0  \n",
       "808     Komkommer  1st             0.69            0.69  0.0    0.0  \n",
       "821     Komkommer  1st             0.69            0.69  0.0    0.0  \n",
       "824     Komkommer  1st             0.69            0.69  0.0    0.0  \n",
       "879     Komkommer  1st             0.69            0.69  0.0    0.0  \n",
       "29093   Komkommer  1st             0.69            0.69  0.0    0.0  \n",
       "29134   Komkommer  1st             0.69            0.69  0.0    0.0  \n",
       "29295   Komkommer  1st             0.69            0.69  0.0    0.0  \n",
       "29445   Komkommer  1st             0.69            0.69  0.0    0.0  \n",
       "29559   Komkommer  1st             0.69            0.69  0.0    0.0  \n",
       "55959   Komkommer  1st             0.69            0.69  0.0    0.0  \n",
       "56275   Komkommer  1st             0.69            0.69  0.0    0.0  \n",
       "56537   Komkommer  1st             0.69            0.69  0.0    0.0  \n",
       "56586   Komkommer  1st             0.69            0.69  0.0    0.0  \n",
       "56613   Komkommer  1st             0.69            0.69  0.0    0.0  "
      ],
      "text/html": "<div>\n<style scoped>\n    .dataframe tbody tr th:only-of-type {\n        vertical-align: middle;\n    }\n\n    .dataframe tbody tr th {\n        vertical-align: top;\n    }\n\n    .dataframe thead th {\n        text-align: right;\n    }\n</style>\n<table border=\"1\" class=\"dataframe\">\n  <thead>\n    <tr style=\"text-align: right;\">\n      <th></th>\n      <th>day</th>\n      <th>time</th>\n      <th>customer</th>\n      <th>bank acount</th>\n      <th>category</th>\n      <th>product_id</th>\n      <th>description</th>\n      <th>size</th>\n      <th>std_sales_price</th>\n      <th>purchase_price</th>\n      <th>bio</th>\n      <th>basic</th>\n    </tr>\n  </thead>\n  <tbody>\n    <tr>\n      <th>89</th>\n      <td>2018-01-01</td>\n      <td>10:40:13</td>\n      <td>6.0</td>\n      <td>54211938.0</td>\n      <td>vegetable</td>\n      <td>v_1</td>\n      <td>Komkommer</td>\n      <td>1st</td>\n      <td>0.69</td>\n      <td>0.69</td>\n      <td>0.0</td>\n      <td>0.0</td>\n    </tr>\n    <tr>\n      <th>467</th>\n      <td>2018-01-01</td>\n      <td>14:21:35</td>\n      <td>26.0</td>\n      <td>51433968.0</td>\n      <td>vegetable</td>\n      <td>v_1</td>\n      <td>Komkommer</td>\n      <td>1st</td>\n      <td>0.69</td>\n      <td>0.69</td>\n      <td>0.0</td>\n      <td>0.0</td>\n    </tr>\n    <tr>\n      <th>573</th>\n      <td>2018-01-01</td>\n      <td>15:36:46</td>\n      <td>33.0</td>\n      <td>30794082.0</td>\n      <td>vegetable</td>\n      <td>v_1</td>\n      <td>Komkommer</td>\n      <td>1st</td>\n      <td>0.69</td>\n      <td>0.69</td>\n      <td>0.0</td>\n      <td>0.0</td>\n    </tr>\n    <tr>\n      <th>700</th>\n      <td>2018-01-01</td>\n      <td>16:56:20</td>\n      <td>39.0</td>\n      <td>15832817.0</td>\n      <td>vegetable</td>\n      <td>v_1</td>\n      <td>Komkommer</td>\n      <td>1st</td>\n      <td>0.69</td>\n      <td>0.69</td>\n      <td>0.0</td>\n      <td>0.0</td>\n    </tr>\n    <tr>\n      <th>808</th>\n      <td>2018-01-01</td>\n      <td>18:15:29</td>\n      <td>46.0</td>\n      <td>90399261.0</td>\n      <td>vegetable</td>\n      <td>v_1</td>\n      <td>Komkommer</td>\n      <td>1st</td>\n      <td>0.69</td>\n      <td>0.69</td>\n      <td>0.0</td>\n      <td>0.0</td>\n    </tr>\n    <tr>\n      <th>821</th>\n      <td>2018-01-01</td>\n      <td>18:15:29</td>\n      <td>46.0</td>\n      <td>90399261.0</td>\n      <td>vegetable</td>\n      <td>v_1</td>\n      <td>Komkommer</td>\n      <td>1st</td>\n      <td>0.69</td>\n      <td>0.69</td>\n      <td>0.0</td>\n      <td>0.0</td>\n    </tr>\n    <tr>\n      <th>824</th>\n      <td>2018-01-01</td>\n      <td>18:15:29</td>\n      <td>46.0</td>\n      <td>90399261.0</td>\n      <td>vegetable</td>\n      <td>v_1</td>\n      <td>Komkommer</td>\n      <td>1st</td>\n      <td>0.69</td>\n      <td>0.69</td>\n      <td>0.0</td>\n      <td>0.0</td>\n    </tr>\n    <tr>\n      <th>879</th>\n      <td>2018-01-01</td>\n      <td>18:46:48</td>\n      <td>49.0</td>\n      <td>15382238.0</td>\n      <td>vegetable</td>\n      <td>v_1</td>\n      <td>Komkommer</td>\n      <td>1st</td>\n      <td>0.69</td>\n      <td>0.69</td>\n      <td>0.0</td>\n      <td>0.0</td>\n    </tr>\n    <tr>\n      <th>29093</th>\n      <td>2018-01-02</td>\n      <td>12:52:06</td>\n      <td>1714.0</td>\n      <td>28719528.0</td>\n      <td>vegetable</td>\n      <td>v_1</td>\n      <td>Komkommer</td>\n      <td>1st</td>\n      <td>0.69</td>\n      <td>0.69</td>\n      <td>0.0</td>\n      <td>0.0</td>\n    </tr>\n    <tr>\n      <th>29134</th>\n      <td>2018-01-02</td>\n      <td>13:44:14</td>\n      <td>1718.0</td>\n      <td>39309224.0</td>\n      <td>vegetable</td>\n      <td>v_1</td>\n      <td>Komkommer</td>\n      <td>1st</td>\n      <td>0.69</td>\n      <td>0.69</td>\n      <td>0.0</td>\n      <td>0.0</td>\n    </tr>\n    <tr>\n      <th>29295</th>\n      <td>2018-01-02</td>\n      <td>15:15:43</td>\n      <td>1728.0</td>\n      <td>8997496.0</td>\n      <td>vegetable</td>\n      <td>v_1</td>\n      <td>Komkommer</td>\n      <td>1st</td>\n      <td>0.69</td>\n      <td>0.69</td>\n      <td>0.0</td>\n      <td>0.0</td>\n    </tr>\n    <tr>\n      <th>29445</th>\n      <td>2018-01-02</td>\n      <td>17:57:52</td>\n      <td>1737.0</td>\n      <td>34052285.0</td>\n      <td>vegetable</td>\n      <td>v_1</td>\n      <td>Komkommer</td>\n      <td>1st</td>\n      <td>0.69</td>\n      <td>0.69</td>\n      <td>0.0</td>\n      <td>0.0</td>\n    </tr>\n    <tr>\n      <th>29559</th>\n      <td>2018-01-02</td>\n      <td>18:51:21</td>\n      <td>1745.0</td>\n      <td>50106779.0</td>\n      <td>vegetable</td>\n      <td>v_1</td>\n      <td>Komkommer</td>\n      <td>1st</td>\n      <td>0.69</td>\n      <td>0.69</td>\n      <td>0.0</td>\n      <td>0.0</td>\n    </tr>\n    <tr>\n      <th>55959</th>\n      <td>2018-01-03</td>\n      <td>9:22:58</td>\n      <td>3327.0</td>\n      <td>NaN</td>\n      <td>vegetable</td>\n      <td>v_1</td>\n      <td>Komkommer</td>\n      <td>1st</td>\n      <td>0.69</td>\n      <td>0.69</td>\n      <td>0.0</td>\n      <td>0.0</td>\n    </tr>\n    <tr>\n      <th>56275</th>\n      <td>2018-01-03</td>\n      <td>13:35:26</td>\n      <td>3346.0</td>\n      <td>73805186.0</td>\n      <td>vegetable</td>\n      <td>v_1</td>\n      <td>Komkommer</td>\n      <td>1st</td>\n      <td>0.69</td>\n      <td>0.69</td>\n      <td>0.0</td>\n      <td>0.0</td>\n    </tr>\n    <tr>\n      <th>56537</th>\n      <td>2018-01-03</td>\n      <td>16:48:00</td>\n      <td>3364.0</td>\n      <td>73806149.0</td>\n      <td>vegetable</td>\n      <td>v_1</td>\n      <td>Komkommer</td>\n      <td>1st</td>\n      <td>0.69</td>\n      <td>0.69</td>\n      <td>0.0</td>\n      <td>0.0</td>\n    </tr>\n    <tr>\n      <th>56586</th>\n      <td>2018-01-03</td>\n      <td>17:58:20</td>\n      <td>3369.0</td>\n      <td>319898.0</td>\n      <td>vegetable</td>\n      <td>v_1</td>\n      <td>Komkommer</td>\n      <td>1st</td>\n      <td>0.69</td>\n      <td>0.69</td>\n      <td>0.0</td>\n      <td>0.0</td>\n    </tr>\n    <tr>\n      <th>56613</th>\n      <td>2018-01-03</td>\n      <td>18:20:23</td>\n      <td>3370.0</td>\n      <td>98645816.0</td>\n      <td>vegetable</td>\n      <td>v_1</td>\n      <td>Komkommer</td>\n      <td>1st</td>\n      <td>0.69</td>\n      <td>0.69</td>\n      <td>0.0</td>\n      <td>0.0</td>\n    </tr>\n  </tbody>\n</table>\n</div>"
     },
     "metadata": {},
     "execution_count": 86
    }
   ],
   "source": [
    "daydate = df_date[df_date[\"day\"] == 2][\"date\"].values[0]\n",
    "\n",
    "filter_transactions[filter_transactions[\"day\"] <= daydate]\n"
   ]
  },
  {
   "cell_type": "code",
   "execution_count": 111,
   "metadata": {},
   "outputs": [
    {
     "output_type": "execute_result",
     "data": {
      "text/plain": [
       "day\n",
       "2018-01-01       8\n",
       "2018-01-02      13\n",
       "2018-01-03      18\n",
       "2018-01-04      30\n",
       "2018-01-05      40\n",
       "              ... \n",
       "2018-12-26    2913\n",
       "2018-12-27    2918\n",
       "2018-12-28    2921\n",
       "2018-12-29    2934\n",
       "2018-12-30    2943\n",
       "Name: product_id, Length: 364, dtype: int64"
      ]
     },
     "metadata": {},
     "execution_count": 111
    }
   ],
   "source": [
    "purchases_per_day = filter_transactions.groupby(\"day\").count()[\"product_id\"].cumsum()\n",
    "purchases_per_day"
   ]
  },
  {
   "cell_type": "code",
   "execution_count": 52,
   "metadata": {},
   "outputs": [
    {
     "output_type": "execute_result",
     "data": {
      "text/plain": [
       "numpy.datetime64('2018-01-15T00:00:00.000000000')"
      ]
     },
     "metadata": {},
     "execution_count": 52
    }
   ],
   "source": [
    "daydate"
   ]
  },
  {
   "cell_type": "code",
   "execution_count": 74,
   "metadata": {},
   "outputs": [
    {
     "output_type": "execute_result",
     "data": {
      "text/plain": [
       "     day       date\n",
       "0      0 2018-01-01\n",
       "1      1 2018-01-02\n",
       "2      2 2018-01-03\n",
       "3      3 2018-01-04\n",
       "4      4 2018-01-05\n",
       "..   ...        ...\n",
       "360  360 2018-12-27\n",
       "361  361 2018-12-28\n",
       "362  362 2018-12-29\n",
       "363  363 2018-12-30\n",
       "364  364 2018-12-31\n",
       "\n",
       "[365 rows x 2 columns]"
      ],
      "text/html": "<div>\n<style scoped>\n    .dataframe tbody tr th:only-of-type {\n        vertical-align: middle;\n    }\n\n    .dataframe tbody tr th {\n        vertical-align: top;\n    }\n\n    .dataframe thead th {\n        text-align: right;\n    }\n</style>\n<table border=\"1\" class=\"dataframe\">\n  <thead>\n    <tr style=\"text-align: right;\">\n      <th></th>\n      <th>day</th>\n      <th>date</th>\n    </tr>\n  </thead>\n  <tbody>\n    <tr>\n      <th>0</th>\n      <td>0</td>\n      <td>2018-01-01</td>\n    </tr>\n    <tr>\n      <th>1</th>\n      <td>1</td>\n      <td>2018-01-02</td>\n    </tr>\n    <tr>\n      <th>2</th>\n      <td>2</td>\n      <td>2018-01-03</td>\n    </tr>\n    <tr>\n      <th>3</th>\n      <td>3</td>\n      <td>2018-01-04</td>\n    </tr>\n    <tr>\n      <th>4</th>\n      <td>4</td>\n      <td>2018-01-05</td>\n    </tr>\n    <tr>\n      <th>...</th>\n      <td>...</td>\n      <td>...</td>\n    </tr>\n    <tr>\n      <th>360</th>\n      <td>360</td>\n      <td>2018-12-27</td>\n    </tr>\n    <tr>\n      <th>361</th>\n      <td>361</td>\n      <td>2018-12-28</td>\n    </tr>\n    <tr>\n      <th>362</th>\n      <td>362</td>\n      <td>2018-12-29</td>\n    </tr>\n    <tr>\n      <th>363</th>\n      <td>363</td>\n      <td>2018-12-30</td>\n    </tr>\n    <tr>\n      <th>364</th>\n      <td>364</td>\n      <td>2018-12-31</td>\n    </tr>\n  </tbody>\n</table>\n<p>365 rows × 2 columns</p>\n</div>"
     },
     "metadata": {},
     "execution_count": 74
    }
   ],
   "source": [
    "dayofyear = list(range(365))\n",
    "date = [datetime.datetime(2018, 1, 1) + datetime.timedelta(day) for day in dayofyear]\n",
    "df_date = pd.DataFrame({\"day\":dayofyear, \"date\":date})\n",
    "df_date"
   ]
  }
 ]
}