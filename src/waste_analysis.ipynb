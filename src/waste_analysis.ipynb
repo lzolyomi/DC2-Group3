{
 "metadata": {
  "language_info": {
   "codemirror_mode": {
    "name": "ipython",
    "version": 3
   },
   "file_extension": ".py",
   "mimetype": "text/x-python",
   "name": "python",
   "nbconvert_exporter": "python",
   "pygments_lexer": "ipython3",
   "version": "3.7.1"
  },
  "orig_nbformat": 2,
  "kernelspec": {
   "name": "python3",
   "display_name": "Python 3",
   "language": "python"
  }
 },
 "nbformat": 4,
 "nbformat_minor": 2,
 "cells": [
  {
   "cell_type": "code",
   "execution_count": 7,
   "metadata": {},
   "outputs": [],
   "source": [
    "import pandas as pd\n",
    "import numpy as np \n",
    "import datetime\n",
    "inventory = pd.read_csv(\"data/inventory.csv\")\n",
    "products = pd.read_csv(\"data/products_ext.csv\")\n",
    "promotions = pd.read_csv(\"data/promotions.csv\")\n",
    "transactions = pd.read_csv(\"data/transactions.csv\")\n",
    "\n",
    "#create a reference dataframe\n",
    "dayofyear = list(range(365))\n",
    "date = [datetime.datetime(2018, 1, 1) + datetime.timedelta(day) for day in dayofyear]\n",
    "df_date = pd.DataFrame({\"day\":dayofyear, \"date\":date})\n",
    "\n",
    "import ast\n",
    "for colname in inventory.columns[2:]:\n",
    "    inventory[colname] = [ast.literal_eval(i) for i in inventory[colname]]\n",
    "    #converting inventory rows to list of tuples from string"
   ]
  },
  {
   "cell_type": "code",
   "execution_count": 8,
   "metadata": {},
   "outputs": [
    {
     "output_type": "execute_result",
     "data": {
      "text/plain": [
       "    category product_id            description  size  std_sales_price  bio  \\\n",
       "0  vegetable        v_1              Komkommer   1st             0.69    0   \n",
       "1  vegetable        v_2              Courgette   1st             0.75    0   \n",
       "2  vegetable        v_3  SnoepVegetable tomaat  500g             1.99    0   \n",
       "3  vegetable        v_4            Paprika Mix   3st             1.79    0   \n",
       "4  vegetable        v_5                Paprika   1st             0.99    0   \n",
       "\n",
       "   basic  purchase_price  \n",
       "0      0            0.18  \n",
       "1      0            0.17  \n",
       "2      0            0.50  \n",
       "3      0            0.40  \n",
       "4      0            0.23  "
      ],
      "text/html": "<div>\n<style scoped>\n    .dataframe tbody tr th:only-of-type {\n        vertical-align: middle;\n    }\n\n    .dataframe tbody tr th {\n        vertical-align: top;\n    }\n\n    .dataframe thead th {\n        text-align: right;\n    }\n</style>\n<table border=\"1\" class=\"dataframe\">\n  <thead>\n    <tr style=\"text-align: right;\">\n      <th></th>\n      <th>category</th>\n      <th>product_id</th>\n      <th>description</th>\n      <th>size</th>\n      <th>std_sales_price</th>\n      <th>bio</th>\n      <th>basic</th>\n      <th>purchase_price</th>\n    </tr>\n  </thead>\n  <tbody>\n    <tr>\n      <th>0</th>\n      <td>vegetable</td>\n      <td>v_1</td>\n      <td>Komkommer</td>\n      <td>1st</td>\n      <td>0.69</td>\n      <td>0</td>\n      <td>0</td>\n      <td>0.18</td>\n    </tr>\n    <tr>\n      <th>1</th>\n      <td>vegetable</td>\n      <td>v_2</td>\n      <td>Courgette</td>\n      <td>1st</td>\n      <td>0.75</td>\n      <td>0</td>\n      <td>0</td>\n      <td>0.17</td>\n    </tr>\n    <tr>\n      <th>2</th>\n      <td>vegetable</td>\n      <td>v_3</td>\n      <td>SnoepVegetable tomaat</td>\n      <td>500g</td>\n      <td>1.99</td>\n      <td>0</td>\n      <td>0</td>\n      <td>0.50</td>\n    </tr>\n    <tr>\n      <th>3</th>\n      <td>vegetable</td>\n      <td>v_4</td>\n      <td>Paprika Mix</td>\n      <td>3st</td>\n      <td>1.79</td>\n      <td>0</td>\n      <td>0</td>\n      <td>0.40</td>\n    </tr>\n    <tr>\n      <th>4</th>\n      <td>vegetable</td>\n      <td>v_5</td>\n      <td>Paprika</td>\n      <td>1st</td>\n      <td>0.99</td>\n      <td>0</td>\n      <td>0</td>\n      <td>0.23</td>\n    </tr>\n  </tbody>\n</table>\n</div>"
     },
     "metadata": {},
     "execution_count": 8
    }
   ],
   "source": [
    "products.head()"
   ]
  },
  {
   "cell_type": "code",
   "execution_count": 82,
   "metadata": {},
   "outputs": [
    {
     "output_type": "execute_result",
     "data": {
      "text/plain": [
       "                                       Blauwe bessen.1\n",
       "0                                           [(20, 50)]\n",
       "1                                           [(20, 50)]\n",
       "2                                 [(20, 14), (23, 50)]\n",
       "3                                 [(20, 14), (23, 50)]\n",
       "4                                 [(23, 32), (27, 50)]\n",
       "..                                                 ...\n",
       "203  [(356, 36), (359, 50), (363, 10), (366, 10), (...\n",
       "204  [(359, 43), (363, 10), (366, 10), (370, 50), (...\n",
       "205  [(359, 43), (363, 10), (366, 10), (370, 50), (...\n",
       "206  [(363, 3), (366, 10), (370, 50), (373, 50), (3...\n",
       "207  [(363, 3), (366, 10), (370, 50), (373, 50), (3...\n",
       "\n",
       "[208 rows x 1 columns]"
      ],
      "text/html": "<div>\n<style scoped>\n    .dataframe tbody tr th:only-of-type {\n        vertical-align: middle;\n    }\n\n    .dataframe tbody tr th {\n        vertical-align: top;\n    }\n\n    .dataframe thead th {\n        text-align: right;\n    }\n</style>\n<table border=\"1\" class=\"dataframe\">\n  <thead>\n    <tr style=\"text-align: right;\">\n      <th></th>\n      <th>Blauwe bessen.1</th>\n    </tr>\n  </thead>\n  <tbody>\n    <tr>\n      <th>0</th>\n      <td>[(20, 50)]</td>\n    </tr>\n    <tr>\n      <th>1</th>\n      <td>[(20, 50)]</td>\n    </tr>\n    <tr>\n      <th>2</th>\n      <td>[(20, 14), (23, 50)]</td>\n    </tr>\n    <tr>\n      <th>3</th>\n      <td>[(20, 14), (23, 50)]</td>\n    </tr>\n    <tr>\n      <th>4</th>\n      <td>[(23, 32), (27, 50)]</td>\n    </tr>\n    <tr>\n      <th>...</th>\n      <td>...</td>\n    </tr>\n    <tr>\n      <th>203</th>\n      <td>[(356, 36), (359, 50), (363, 10), (366, 10), (...</td>\n    </tr>\n    <tr>\n      <th>204</th>\n      <td>[(359, 43), (363, 10), (366, 10), (370, 50), (...</td>\n    </tr>\n    <tr>\n      <th>205</th>\n      <td>[(359, 43), (363, 10), (366, 10), (370, 50), (...</td>\n    </tr>\n    <tr>\n      <th>206</th>\n      <td>[(363, 3), (366, 10), (370, 50), (373, 50), (3...</td>\n    </tr>\n    <tr>\n      <th>207</th>\n      <td>[(363, 3), (366, 10), (370, 50), (373, 50), (3...</td>\n    </tr>\n  </tbody>\n</table>\n<p>208 rows × 1 columns</p>\n</div>"
     },
     "metadata": {},
     "execution_count": 82
    }
   ],
   "source": [
    "inventory[['Blauwe bessen.1']]"
   ]
  },
  {
   "cell_type": "code",
   "execution_count": 120,
   "metadata": {},
   "outputs": [
    {
     "output_type": "execute_result",
     "data": {
      "text/plain": [
       "              day      time  customer  bank acount category product_id  \\\n",
       "1782   2018-02-01  18:44:22     101.0   24107630.0     meat       m_15   \n",
       "1827   2018-02-01  18:47:38     102.0   34187107.0     meat       m_15   \n",
       "2103   2018-03-01  10:47:17     117.0    1064747.0     meat       m_15   \n",
       "2724   2018-03-01  19:25:33     158.0   63634047.0     meat       m_15   \n",
       "4534   2018-06-01  12:45:08     274.0   43670698.0     meat       m_15   \n",
       "...           ...       ...       ...          ...      ...        ...   \n",
       "353828 2018-12-29  20:04:32   20636.0   38621378.0     meat       m_15   \n",
       "354041 2018-12-30  10:08:47   20646.0          NaN     meat       m_15   \n",
       "354144 2018-12-30  12:42:05   20650.0   63634047.0     meat       m_15   \n",
       "354171 2018-12-30  13:15:05   20651.0   79747334.0     meat       m_15   \n",
       "354260 2018-12-30  14:26:22   20656.0   40285157.0     meat       m_15   \n",
       "\n",
       "                    description  size  std_sales_price  purchase_price  bio  \\\n",
       "1782    Biologische spekreepjes  200g             2.69            2.69  1.0   \n",
       "1827    Biologische spekreepjes  200g             2.69            2.69  1.0   \n",
       "2103    Biologische spekreepjes  200g             2.69            2.69  1.0   \n",
       "2724    Biologische spekreepjes  200g             2.69            2.69  1.0   \n",
       "4534    Biologische spekreepjes  200g             2.69            2.69  1.0   \n",
       "...                         ...   ...              ...             ...  ...   \n",
       "353828  Biologische spekreepjes  200g             2.69            2.69  1.0   \n",
       "354041  Biologische spekreepjes  200g             2.69            2.69  1.0   \n",
       "354144  Biologische spekreepjes  200g             2.69            2.69  1.0   \n",
       "354171  Biologische spekreepjes  200g             2.69            2.69  1.0   \n",
       "354260  Biologische spekreepjes  200g             2.69            2.69  1.0   \n",
       "\n",
       "        basic  \n",
       "1782      0.0  \n",
       "1827      0.0  \n",
       "2103      0.0  \n",
       "2724      0.0  \n",
       "4534      0.0  \n",
       "...       ...  \n",
       "353828    0.0  \n",
       "354041    0.0  \n",
       "354144    0.0  \n",
       "354171    0.0  \n",
       "354260    0.0  \n",
       "\n",
       "[439 rows x 12 columns]"
      ],
      "text/html": "<div>\n<style scoped>\n    .dataframe tbody tr th:only-of-type {\n        vertical-align: middle;\n    }\n\n    .dataframe tbody tr th {\n        vertical-align: top;\n    }\n\n    .dataframe thead th {\n        text-align: right;\n    }\n</style>\n<table border=\"1\" class=\"dataframe\">\n  <thead>\n    <tr style=\"text-align: right;\">\n      <th></th>\n      <th>day</th>\n      <th>time</th>\n      <th>customer</th>\n      <th>bank acount</th>\n      <th>category</th>\n      <th>product_id</th>\n      <th>description</th>\n      <th>size</th>\n      <th>std_sales_price</th>\n      <th>purchase_price</th>\n      <th>bio</th>\n      <th>basic</th>\n    </tr>\n  </thead>\n  <tbody>\n    <tr>\n      <th>1782</th>\n      <td>2018-02-01</td>\n      <td>18:44:22</td>\n      <td>101.0</td>\n      <td>24107630.0</td>\n      <td>meat</td>\n      <td>m_15</td>\n      <td>Biologische spekreepjes</td>\n      <td>200g</td>\n      <td>2.69</td>\n      <td>2.69</td>\n      <td>1.0</td>\n      <td>0.0</td>\n    </tr>\n    <tr>\n      <th>1827</th>\n      <td>2018-02-01</td>\n      <td>18:47:38</td>\n      <td>102.0</td>\n      <td>34187107.0</td>\n      <td>meat</td>\n      <td>m_15</td>\n      <td>Biologische spekreepjes</td>\n      <td>200g</td>\n      <td>2.69</td>\n      <td>2.69</td>\n      <td>1.0</td>\n      <td>0.0</td>\n    </tr>\n    <tr>\n      <th>2103</th>\n      <td>2018-03-01</td>\n      <td>10:47:17</td>\n      <td>117.0</td>\n      <td>1064747.0</td>\n      <td>meat</td>\n      <td>m_15</td>\n      <td>Biologische spekreepjes</td>\n      <td>200g</td>\n      <td>2.69</td>\n      <td>2.69</td>\n      <td>1.0</td>\n      <td>0.0</td>\n    </tr>\n    <tr>\n      <th>2724</th>\n      <td>2018-03-01</td>\n      <td>19:25:33</td>\n      <td>158.0</td>\n      <td>63634047.0</td>\n      <td>meat</td>\n      <td>m_15</td>\n      <td>Biologische spekreepjes</td>\n      <td>200g</td>\n      <td>2.69</td>\n      <td>2.69</td>\n      <td>1.0</td>\n      <td>0.0</td>\n    </tr>\n    <tr>\n      <th>4534</th>\n      <td>2018-06-01</td>\n      <td>12:45:08</td>\n      <td>274.0</td>\n      <td>43670698.0</td>\n      <td>meat</td>\n      <td>m_15</td>\n      <td>Biologische spekreepjes</td>\n      <td>200g</td>\n      <td>2.69</td>\n      <td>2.69</td>\n      <td>1.0</td>\n      <td>0.0</td>\n    </tr>\n    <tr>\n      <th>...</th>\n      <td>...</td>\n      <td>...</td>\n      <td>...</td>\n      <td>...</td>\n      <td>...</td>\n      <td>...</td>\n      <td>...</td>\n      <td>...</td>\n      <td>...</td>\n      <td>...</td>\n      <td>...</td>\n      <td>...</td>\n    </tr>\n    <tr>\n      <th>353828</th>\n      <td>2018-12-29</td>\n      <td>20:04:32</td>\n      <td>20636.0</td>\n      <td>38621378.0</td>\n      <td>meat</td>\n      <td>m_15</td>\n      <td>Biologische spekreepjes</td>\n      <td>200g</td>\n      <td>2.69</td>\n      <td>2.69</td>\n      <td>1.0</td>\n      <td>0.0</td>\n    </tr>\n    <tr>\n      <th>354041</th>\n      <td>2018-12-30</td>\n      <td>10:08:47</td>\n      <td>20646.0</td>\n      <td>NaN</td>\n      <td>meat</td>\n      <td>m_15</td>\n      <td>Biologische spekreepjes</td>\n      <td>200g</td>\n      <td>2.69</td>\n      <td>2.69</td>\n      <td>1.0</td>\n      <td>0.0</td>\n    </tr>\n    <tr>\n      <th>354144</th>\n      <td>2018-12-30</td>\n      <td>12:42:05</td>\n      <td>20650.0</td>\n      <td>63634047.0</td>\n      <td>meat</td>\n      <td>m_15</td>\n      <td>Biologische spekreepjes</td>\n      <td>200g</td>\n      <td>2.69</td>\n      <td>2.69</td>\n      <td>1.0</td>\n      <td>0.0</td>\n    </tr>\n    <tr>\n      <th>354171</th>\n      <td>2018-12-30</td>\n      <td>13:15:05</td>\n      <td>20651.0</td>\n      <td>79747334.0</td>\n      <td>meat</td>\n      <td>m_15</td>\n      <td>Biologische spekreepjes</td>\n      <td>200g</td>\n      <td>2.69</td>\n      <td>2.69</td>\n      <td>1.0</td>\n      <td>0.0</td>\n    </tr>\n    <tr>\n      <th>354260</th>\n      <td>2018-12-30</td>\n      <td>14:26:22</td>\n      <td>20656.0</td>\n      <td>40285157.0</td>\n      <td>meat</td>\n      <td>m_15</td>\n      <td>Biologische spekreepjes</td>\n      <td>200g</td>\n      <td>2.69</td>\n      <td>2.69</td>\n      <td>1.0</td>\n      <td>0.0</td>\n    </tr>\n  </tbody>\n</table>\n<p>439 rows × 12 columns</p>\n</div>"
     },
     "metadata": {},
     "execution_count": 120
    }
   ],
   "source": [
    "product = 'Biologische spekreepjes' #select the product to analyze\n",
    "transactions[transactions[\"description\"] == product] #transactions for that product"
   ]
  },
  {
   "cell_type": "code",
   "execution_count": 121,
   "metadata": {},
   "outputs": [],
   "source": [
    "def date_converter(row):\n",
    "    converted_date = datetime.datetime(2018, 1, 1) + datetime.timedelta(row[\"day\"])\n",
    "    return converted_date\n",
    "\n",
    "inventory[\"date\"] = inventory.apply(date_converter, axis = 1) #convert day of year to actual timestamp"
   ]
  },
  {
   "cell_type": "code",
   "execution_count": 107,
   "metadata": {},
   "outputs": [],
   "source": [
    "def week_of_year(row):\n",
    "    week_nr = datetime.date(row[\"date\"].year, row[\"date\"].month, row[\"date\"].day).isocalendar()[1]\n",
    "    return week_nr\n",
    "\n",
    "inventory[\"week\"] = inventory.apply(week_of_year, axis = 1)\n",
    "#add nr week of year as an extra column to inventory"
   ]
  },
  {
   "cell_type": "code",
   "execution_count": 108,
   "metadata": {},
   "outputs": [
    {
     "output_type": "stream",
     "name": "stderr",
     "text": [
      "ipykernel_launcher:13: SettingWithCopyWarning: \nA value is trying to be set on a copy of a slice from a DataFrame.\nTry using .loc[row_indexer,col_indexer] = value instead\n\nSee the caveats in the documentation: https://pandas.pydata.org/pandas-docs/stable/user_guide/indexing.html#returning-a-view-versus-a-copy\n"
     ]
    }
   ],
   "source": [
    "#only keep relevant columns in inventory\n",
    "filter_inventory = inventory[[\"day\", \"before or after delivery\", \"date\", \"week\", product]]\n",
    "#filters promotion table to only contain discounts for chosen product\n",
    "promotions_filter = promotions[promotions[\"description\"] == product]\n",
    "\n",
    "def check_discount(row):\n",
    "    if row[\"week\"] in promotions_filter[\"week\"].values:\n",
    "        discount_amount = promotions_filter[promotions_filter[\"week\"] == row[\"week\"]][\"discount\"]\n",
    "        return discount_amount.values[0]\n",
    "    else:\n",
    "        return 0\n",
    "#adds extra column to filter inventory containing discount amount\n",
    "filter_inventory[\"discount\"] = filter_inventory.apply(check_discount, axis = 1)\n"
   ]
  },
  {
   "cell_type": "code",
   "execution_count": 109,
   "metadata": {},
   "outputs": [
    {
     "output_type": "stream",
     "name": "stderr",
     "text": [
      "ipykernel_launcher:8: SettingWithCopyWarning: \nA value is trying to be set on a copy of a slice from a DataFrame.\nTry using .loc[row_indexer,col_indexer] = value instead\n\nSee the caveats in the documentation: https://pandas.pydata.org/pandas-docs/stable/user_guide/indexing.html#returning-a-view-versus-a-copy\n"
     ]
    }
   ],
   "source": [
    "def total_inv(row):\n",
    "    total = 0\n",
    "    if len(row[product]) > 0:\n",
    "        for batch in row[product]:\n",
    "            total += batch[1]\n",
    "    return total\n",
    "#adds total nr items in inventory for the filtered dataframe\n",
    "filter_inventory[\"total inventory\"] = filter_inventory.apply(total_inv, axis = 1)"
   ]
  },
  {
   "cell_type": "code",
   "execution_count": 110,
   "metadata": {},
   "outputs": [
    {
     "output_type": "execute_result",
     "data": {
      "text/plain": [
       "array([ 10,  13,  17,  20,  24,  27,  31,  34,  38,  41,  45,  48,  52,\n",
       "        55,  59,  62,  66,  69,  73,  76,  80,  83,  87,  90,  94,  97,\n",
       "       101, 104, 108, 111, 115, 118, 122, 125, 129, 132, 136, 139, 143,\n",
       "       146, 150, 153, 157, 160, 164, 167, 171, 174, 178, 181, 185, 188,\n",
       "       192, 195, 199, 202, 206, 209, 213, 216, 220, 223, 227, 230, 234,\n",
       "       237, 241, 244, 248, 251, 255, 258, 262, 265, 269, 272, 276, 279,\n",
       "       283, 286, 290, 293, 297, 300, 304, 307, 311, 314, 318, 321, 325,\n",
       "       328, 332, 335, 339, 342, 346, 349, 353, 356, 360, 363, 367, 370])"
      ]
     },
     "metadata": {},
     "execution_count": 110
    }
   ],
   "source": [
    "best_before = []\n",
    "for element_list in filter_inventory[product]:\n",
    "    for batch in element_list:\n",
    "        best_before.append(batch[0])\n",
    "bb_dates = np.unique(best_before)\n",
    "#list of each unique best before dates\n",
    "bb_dates"
   ]
  },
  {
   "cell_type": "code",
   "execution_count": 111,
   "metadata": {},
   "outputs": [
    {
     "output_type": "execute_result",
     "data": {
      "text/plain": [
       "     best before\n",
       "0             10\n",
       "1             13\n",
       "2             17\n",
       "3             20\n",
       "4             24\n",
       "..           ...\n",
       "99           356\n",
       "100          360\n",
       "101          363\n",
       "102          367\n",
       "103          370\n",
       "\n",
       "[104 rows x 1 columns]"
      ],
      "text/html": "<div>\n<style scoped>\n    .dataframe tbody tr th:only-of-type {\n        vertical-align: middle;\n    }\n\n    .dataframe tbody tr th {\n        vertical-align: top;\n    }\n\n    .dataframe thead th {\n        text-align: right;\n    }\n</style>\n<table border=\"1\" class=\"dataframe\">\n  <thead>\n    <tr style=\"text-align: right;\">\n      <th></th>\n      <th>best before</th>\n    </tr>\n  </thead>\n  <tbody>\n    <tr>\n      <th>0</th>\n      <td>10</td>\n    </tr>\n    <tr>\n      <th>1</th>\n      <td>13</td>\n    </tr>\n    <tr>\n      <th>2</th>\n      <td>17</td>\n    </tr>\n    <tr>\n      <th>3</th>\n      <td>20</td>\n    </tr>\n    <tr>\n      <th>4</th>\n      <td>24</td>\n    </tr>\n    <tr>\n      <th>...</th>\n      <td>...</td>\n    </tr>\n    <tr>\n      <th>99</th>\n      <td>356</td>\n    </tr>\n    <tr>\n      <th>100</th>\n      <td>360</td>\n    </tr>\n    <tr>\n      <th>101</th>\n      <td>363</td>\n    </tr>\n    <tr>\n      <th>102</th>\n      <td>367</td>\n    </tr>\n    <tr>\n      <th>103</th>\n      <td>370</td>\n    </tr>\n  </tbody>\n</table>\n<p>104 rows × 1 columns</p>\n</div>"
     },
     "metadata": {},
     "execution_count": 111
    }
   ],
   "source": [
    "df_waste = pd.DataFrame({\"best before\":bb_dates})\n",
    "df_waste #build initial df with points where waste can occur"
   ]
  },
  {
   "cell_type": "code",
   "execution_count": 112,
   "metadata": {},
   "outputs": [
    {
     "output_type": "execute_result",
     "data": {
      "text/plain": [
       "     best before  amount\n",
       "0             10       5\n",
       "1             13       5\n",
       "2             17       5\n",
       "3             20       5\n",
       "4             24       5\n",
       "..           ...     ...\n",
       "99           356       5\n",
       "100          360       5\n",
       "101          363       5\n",
       "102          367       5\n",
       "103          370       5\n",
       "\n",
       "[104 rows x 2 columns]"
      ],
      "text/html": "<div>\n<style scoped>\n    .dataframe tbody tr th:only-of-type {\n        vertical-align: middle;\n    }\n\n    .dataframe tbody tr th {\n        vertical-align: top;\n    }\n\n    .dataframe thead th {\n        text-align: right;\n    }\n</style>\n<table border=\"1\" class=\"dataframe\">\n  <thead>\n    <tr style=\"text-align: right;\">\n      <th></th>\n      <th>best before</th>\n      <th>amount</th>\n    </tr>\n  </thead>\n  <tbody>\n    <tr>\n      <th>0</th>\n      <td>10</td>\n      <td>5</td>\n    </tr>\n    <tr>\n      <th>1</th>\n      <td>13</td>\n      <td>5</td>\n    </tr>\n    <tr>\n      <th>2</th>\n      <td>17</td>\n      <td>5</td>\n    </tr>\n    <tr>\n      <th>3</th>\n      <td>20</td>\n      <td>5</td>\n    </tr>\n    <tr>\n      <th>4</th>\n      <td>24</td>\n      <td>5</td>\n    </tr>\n    <tr>\n      <th>...</th>\n      <td>...</td>\n      <td>...</td>\n    </tr>\n    <tr>\n      <th>99</th>\n      <td>356</td>\n      <td>5</td>\n    </tr>\n    <tr>\n      <th>100</th>\n      <td>360</td>\n      <td>5</td>\n    </tr>\n    <tr>\n      <th>101</th>\n      <td>363</td>\n      <td>5</td>\n    </tr>\n    <tr>\n      <th>102</th>\n      <td>367</td>\n      <td>5</td>\n    </tr>\n    <tr>\n      <th>103</th>\n      <td>370</td>\n      <td>5</td>\n    </tr>\n  </tbody>\n</table>\n<p>104 rows × 2 columns</p>\n</div>"
     },
     "metadata": {},
     "execution_count": 112
    }
   ],
   "source": [
    "def input_inv(row):\n",
    "    for element_list in filter_inventory[product]:\n",
    "        if len(element_list) > 0:\n",
    "            for batch in element_list:\n",
    "                if batch[0] == row[\"best before\"]:\n",
    "                    return batch[1]\n",
    "\n",
    "df_waste[\"amount\"] = df_waste.apply(input_inv, axis = 1)\n",
    "df_waste #amount that was received with particular expiry date"
   ]
  },
  {
   "cell_type": "code",
   "execution_count": 113,
   "metadata": {},
   "outputs": [
    {
     "output_type": "execute_result",
     "data": {
      "text/plain": [
       "     best before  amount\n",
       "0             10       5\n",
       "1             13       5\n",
       "2             17       5\n",
       "3             20       5\n",
       "4             24       5\n",
       "..           ...     ...\n",
       "97           349       5\n",
       "98           353       5\n",
       "99           356       5\n",
       "100          360       5\n",
       "101          363       5\n",
       "\n",
       "[102 rows x 2 columns]"
      ],
      "text/html": "<div>\n<style scoped>\n    .dataframe tbody tr th:only-of-type {\n        vertical-align: middle;\n    }\n\n    .dataframe tbody tr th {\n        vertical-align: top;\n    }\n\n    .dataframe thead th {\n        text-align: right;\n    }\n</style>\n<table border=\"1\" class=\"dataframe\">\n  <thead>\n    <tr style=\"text-align: right;\">\n      <th></th>\n      <th>best before</th>\n      <th>amount</th>\n    </tr>\n  </thead>\n  <tbody>\n    <tr>\n      <th>0</th>\n      <td>10</td>\n      <td>5</td>\n    </tr>\n    <tr>\n      <th>1</th>\n      <td>13</td>\n      <td>5</td>\n    </tr>\n    <tr>\n      <th>2</th>\n      <td>17</td>\n      <td>5</td>\n    </tr>\n    <tr>\n      <th>3</th>\n      <td>20</td>\n      <td>5</td>\n    </tr>\n    <tr>\n      <th>4</th>\n      <td>24</td>\n      <td>5</td>\n    </tr>\n    <tr>\n      <th>...</th>\n      <td>...</td>\n      <td>...</td>\n    </tr>\n    <tr>\n      <th>97</th>\n      <td>349</td>\n      <td>5</td>\n    </tr>\n    <tr>\n      <th>98</th>\n      <td>353</td>\n      <td>5</td>\n    </tr>\n    <tr>\n      <th>99</th>\n      <td>356</td>\n      <td>5</td>\n    </tr>\n    <tr>\n      <th>100</th>\n      <td>360</td>\n      <td>5</td>\n    </tr>\n    <tr>\n      <th>101</th>\n      <td>363</td>\n      <td>5</td>\n    </tr>\n  </tbody>\n</table>\n<p>102 rows × 2 columns</p>\n</div>"
     },
     "metadata": {},
     "execution_count": 113
    }
   ],
   "source": [
    "df_waste = df_waste[df_waste[\"best before\"] < 365] #only keep rows where expiry date is in same year\n",
    "df_waste"
   ]
  },
  {
   "cell_type": "code",
   "execution_count": 114,
   "metadata": {},
   "outputs": [
    {
     "output_type": "execute_result",
     "data": {
      "text/plain": [
       "Empty DataFrame\n",
       "Columns: [day, time, customer, bank acount, category, product_id, description, size, std_sales_price, purchase_price, bio, basic]\n",
       "Index: []"
      ],
      "text/html": "<div>\n<style scoped>\n    .dataframe tbody tr th:only-of-type {\n        vertical-align: middle;\n    }\n\n    .dataframe tbody tr th {\n        vertical-align: top;\n    }\n\n    .dataframe thead th {\n        text-align: right;\n    }\n</style>\n<table border=\"1\" class=\"dataframe\">\n  <thead>\n    <tr style=\"text-align: right;\">\n      <th></th>\n      <th>day</th>\n      <th>time</th>\n      <th>customer</th>\n      <th>bank acount</th>\n      <th>category</th>\n      <th>product_id</th>\n      <th>description</th>\n      <th>size</th>\n      <th>std_sales_price</th>\n      <th>purchase_price</th>\n      <th>bio</th>\n      <th>basic</th>\n    </tr>\n  </thead>\n  <tbody>\n  </tbody>\n</table>\n</div>"
     },
     "metadata": {},
     "execution_count": 114
    }
   ],
   "source": [
    "transactions[\"day\"] = pd.to_datetime(transactions[\"day\"])\n",
    "filter_transactions = transactions[transactions[\"description\"] == product]\n",
    "#converts date then filters transactions to contain selected product purchases\n",
    "\n",
    "first_restock = df_date[df_date[\"day\"] == 3][\"date\"].values[0]\n",
    "#first_restock check purchases mde before the first restock\n",
    "filter_transactions[filter_transactions[\"day\"] < first_restock]\n",
    "#PROBLEM: IF A PRODUCT HASN'T BEEN BOUGHT IN ONE DAY IT HAS A ZERO, CAUSES AN ERROR FEW CELLS "
   ]
  },
  {
   "cell_type": "code",
   "execution_count": 115,
   "metadata": {},
   "outputs": [
    {
     "output_type": "execute_result",
     "data": {
      "text/plain": [
       "day\n",
       "2018-01-05      1\n",
       "2018-01-06      4\n",
       "2018-01-07      6\n",
       "2018-01-09      8\n",
       "2018-01-10      9\n",
       "             ... \n",
       "2018-12-26    427\n",
       "2018-12-27    428\n",
       "2018-12-28    429\n",
       "2018-12-29    433\n",
       "2018-12-30    437\n",
       "Name: product_id, Length: 243, dtype: int64"
      ]
     },
     "metadata": {},
     "execution_count": 115
    }
   ],
   "source": [
    "#cumulative sum of purchases from that product\n",
    "purchases_per_day = filter_transactions.groupby(\"day\").count()[\"product_id\"].cumsum()\n",
    "#purchases made per day from that product\n",
    "purchases_per_day_plotting = filter_transactions.groupby(\"day\").count()[\"product_id\"]\n",
    "#idk know what is this\n",
    "purchases_per_day_plotting.index = purchases_per_day_plotting.index.dayofyear/7\n",
    "purchases_per_day\n",
    "#would need to generate the individual days where there are no new purchases and assign a zero value to these days to fix the cumsum()"
   ]
  },
  {
   "cell_type": "code",
   "execution_count": 116,
   "metadata": {},
   "outputs": [],
   "source": [
    "purchases_per_day.index[0].year\n",
    "weeknr = []\n",
    "for ind in purchases_per_day.index:\n",
    "    week = datetime.date(ind.year, ind.month, ind.day).isocalendar()[1]\n",
    "    weeknr.append(week)\n",
    "#week number for each purchase day\n"
   ]
  },
  {
   "cell_type": "code",
   "execution_count": 137,
   "metadata": {},
   "outputs": [
    {
     "output_type": "stream",
     "name": "stderr",
     "text": [
      "/Users/teddy/opt/anaconda3/lib/python3.7/site-packages/pandas/core/frame.py:4312: SettingWithCopyWarning: \nA value is trying to be set on a copy of a slice from a DataFrame\n\nSee the caveats in the documentation: https://pandas.pydata.org/pandas-docs/stable/user_guide/indexing.html#returning-a-view-versus-a-copy\n  errors=errors,\n"
     ]
    },
    {
     "output_type": "execute_result",
     "data": {
      "text/plain": [
       "    best before  amount\n",
       "0            10       5\n",
       "1            13       5\n",
       "2            17       5\n",
       "3            20       5\n",
       "4            24       5\n",
       "5            27       5\n",
       "6            31       5\n",
       "7            34       5\n",
       "8            38       5\n",
       "9            41       5\n",
       "10           45       5\n",
       "11           48       5\n",
       "12           52       5\n",
       "13           55       5\n",
       "14           59       5\n",
       "15           62       5\n",
       "16           66       5\n",
       "17           69       5\n",
       "18           73       5\n",
       "19           76       5\n",
       "20           80       5\n",
       "21           83       5\n",
       "22           87       5\n",
       "23           90       5\n",
       "24           94       5\n",
       "25           97       5\n",
       "26          101       5\n",
       "27          104       5\n",
       "28          108       5\n",
       "29          111       5\n",
       "30          115       5\n",
       "31          118       5\n",
       "32          122       5\n",
       "33          125       5\n",
       "34          129       5\n",
       "35          132       5\n",
       "36          136       5\n",
       "37          139       5\n",
       "38          143       5\n",
       "39          146       5\n",
       "40          150       5\n",
       "41          153       5\n",
       "42          157       5\n",
       "43          160       5\n",
       "44          164       5\n",
       "45          167       5\n",
       "46          171       5\n",
       "47          174       5"
      ],
      "text/html": "<div>\n<style scoped>\n    .dataframe tbody tr th:only-of-type {\n        vertical-align: middle;\n    }\n\n    .dataframe tbody tr th {\n        vertical-align: top;\n    }\n\n    .dataframe thead th {\n        text-align: right;\n    }\n</style>\n<table border=\"1\" class=\"dataframe\">\n  <thead>\n    <tr style=\"text-align: right;\">\n      <th></th>\n      <th>best before</th>\n      <th>amount</th>\n    </tr>\n  </thead>\n  <tbody>\n    <tr>\n      <th>0</th>\n      <td>10</td>\n      <td>5</td>\n    </tr>\n    <tr>\n      <th>1</th>\n      <td>13</td>\n      <td>5</td>\n    </tr>\n    <tr>\n      <th>2</th>\n      <td>17</td>\n      <td>5</td>\n    </tr>\n    <tr>\n      <th>3</th>\n      <td>20</td>\n      <td>5</td>\n    </tr>\n    <tr>\n      <th>4</th>\n      <td>24</td>\n      <td>5</td>\n    </tr>\n    <tr>\n      <th>5</th>\n      <td>27</td>\n      <td>5</td>\n    </tr>\n    <tr>\n      <th>6</th>\n      <td>31</td>\n      <td>5</td>\n    </tr>\n    <tr>\n      <th>7</th>\n      <td>34</td>\n      <td>5</td>\n    </tr>\n    <tr>\n      <th>8</th>\n      <td>38</td>\n      <td>5</td>\n    </tr>\n    <tr>\n      <th>9</th>\n      <td>41</td>\n      <td>5</td>\n    </tr>\n    <tr>\n      <th>10</th>\n      <td>45</td>\n      <td>5</td>\n    </tr>\n    <tr>\n      <th>11</th>\n      <td>48</td>\n      <td>5</td>\n    </tr>\n    <tr>\n      <th>12</th>\n      <td>52</td>\n      <td>5</td>\n    </tr>\n    <tr>\n      <th>13</th>\n      <td>55</td>\n      <td>5</td>\n    </tr>\n    <tr>\n      <th>14</th>\n      <td>59</td>\n      <td>5</td>\n    </tr>\n    <tr>\n      <th>15</th>\n      <td>62</td>\n      <td>5</td>\n    </tr>\n    <tr>\n      <th>16</th>\n      <td>66</td>\n      <td>5</td>\n    </tr>\n    <tr>\n      <th>17</th>\n      <td>69</td>\n      <td>5</td>\n    </tr>\n    <tr>\n      <th>18</th>\n      <td>73</td>\n      <td>5</td>\n    </tr>\n    <tr>\n      <th>19</th>\n      <td>76</td>\n      <td>5</td>\n    </tr>\n    <tr>\n      <th>20</th>\n      <td>80</td>\n      <td>5</td>\n    </tr>\n    <tr>\n      <th>21</th>\n      <td>83</td>\n      <td>5</td>\n    </tr>\n    <tr>\n      <th>22</th>\n      <td>87</td>\n      <td>5</td>\n    </tr>\n    <tr>\n      <th>23</th>\n      <td>90</td>\n      <td>5</td>\n    </tr>\n    <tr>\n      <th>24</th>\n      <td>94</td>\n      <td>5</td>\n    </tr>\n    <tr>\n      <th>25</th>\n      <td>97</td>\n      <td>5</td>\n    </tr>\n    <tr>\n      <th>26</th>\n      <td>101</td>\n      <td>5</td>\n    </tr>\n    <tr>\n      <th>27</th>\n      <td>104</td>\n      <td>5</td>\n    </tr>\n    <tr>\n      <th>28</th>\n      <td>108</td>\n      <td>5</td>\n    </tr>\n    <tr>\n      <th>29</th>\n      <td>111</td>\n      <td>5</td>\n    </tr>\n    <tr>\n      <th>30</th>\n      <td>115</td>\n      <td>5</td>\n    </tr>\n    <tr>\n      <th>31</th>\n      <td>118</td>\n      <td>5</td>\n    </tr>\n    <tr>\n      <th>32</th>\n      <td>122</td>\n      <td>5</td>\n    </tr>\n    <tr>\n      <th>33</th>\n      <td>125</td>\n      <td>5</td>\n    </tr>\n    <tr>\n      <th>34</th>\n      <td>129</td>\n      <td>5</td>\n    </tr>\n    <tr>\n      <th>35</th>\n      <td>132</td>\n      <td>5</td>\n    </tr>\n    <tr>\n      <th>36</th>\n      <td>136</td>\n      <td>5</td>\n    </tr>\n    <tr>\n      <th>37</th>\n      <td>139</td>\n      <td>5</td>\n    </tr>\n    <tr>\n      <th>38</th>\n      <td>143</td>\n      <td>5</td>\n    </tr>\n    <tr>\n      <th>39</th>\n      <td>146</td>\n      <td>5</td>\n    </tr>\n    <tr>\n      <th>40</th>\n      <td>150</td>\n      <td>5</td>\n    </tr>\n    <tr>\n      <th>41</th>\n      <td>153</td>\n      <td>5</td>\n    </tr>\n    <tr>\n      <th>42</th>\n      <td>157</td>\n      <td>5</td>\n    </tr>\n    <tr>\n      <th>43</th>\n      <td>160</td>\n      <td>5</td>\n    </tr>\n    <tr>\n      <th>44</th>\n      <td>164</td>\n      <td>5</td>\n    </tr>\n    <tr>\n      <th>45</th>\n      <td>167</td>\n      <td>5</td>\n    </tr>\n    <tr>\n      <th>46</th>\n      <td>171</td>\n      <td>5</td>\n    </tr>\n    <tr>\n      <th>47</th>\n      <td>174</td>\n      <td>5</td>\n    </tr>\n  </tbody>\n</table>\n</div>"
     },
     "metadata": {},
     "execution_count": 137
    }
   ],
   "source": [
    "df_waste.drop(index=df_waste.tail(9).index, inplace=True)\n",
    "#drop the last rows not to cause index issues\n",
    "#STILL NEED TO BE FIXED\n",
    "df_waste"
   ]
  },
  {
   "cell_type": "code",
   "execution_count": 118,
   "metadata": {},
   "outputs": [
    {
     "output_type": "error",
     "ename": "IndexError",
     "evalue": "index 243 is out of bounds for axis 0 with size 243",
     "traceback": [
      "\u001b[0;31m---------------------------------------------------------------------------\u001b[0m",
      "\u001b[0;31mIndexError\u001b[0m                                Traceback (most recent call last)",
      "\u001b[0;32m<ipython-input-118-62eb4934d63e>\u001b[0m in \u001b[0;36m<module>\u001b[0;34m\u001b[0m\n\u001b[0;32m----> 1\u001b[0;31m \u001b[0mdf_waste\u001b[0m\u001b[0;34m[\u001b[0m\u001b[0;34m\"purchases\"\u001b[0m\u001b[0;34m]\u001b[0m \u001b[0;34m=\u001b[0m \u001b[0;34m[\u001b[0m\u001b[0mpurchases_per_day\u001b[0m\u001b[0;34m[\u001b[0m\u001b[0mi\u001b[0m\u001b[0;34m-\u001b[0m\u001b[0;36m1\u001b[0m\u001b[0;34m]\u001b[0m \u001b[0;32mfor\u001b[0m \u001b[0mi\u001b[0m \u001b[0;32min\u001b[0m \u001b[0mdf_waste\u001b[0m\u001b[0;34m[\u001b[0m\u001b[0;34m\"best before\"\u001b[0m\u001b[0;34m]\u001b[0m\u001b[0;34m]\u001b[0m\u001b[0;34m\u001b[0m\u001b[0;34m\u001b[0m\u001b[0m\n\u001b[0m\u001b[1;32m      2\u001b[0m \u001b[0;31m#add cumulative sum of purchases up until that day (based on expiry dates)\u001b[0m\u001b[0;34m\u001b[0m\u001b[0;34m\u001b[0m\u001b[0;34m\u001b[0m\u001b[0m\n\u001b[1;32m      3\u001b[0m \u001b[0mdf_waste\u001b[0m\u001b[0;34m\u001b[0m\u001b[0;34m\u001b[0m\u001b[0m\n",
      "\u001b[0;32m<ipython-input-118-62eb4934d63e>\u001b[0m in \u001b[0;36m<listcomp>\u001b[0;34m(.0)\u001b[0m\n\u001b[0;32m----> 1\u001b[0;31m \u001b[0mdf_waste\u001b[0m\u001b[0;34m[\u001b[0m\u001b[0;34m\"purchases\"\u001b[0m\u001b[0;34m]\u001b[0m \u001b[0;34m=\u001b[0m \u001b[0;34m[\u001b[0m\u001b[0mpurchases_per_day\u001b[0m\u001b[0;34m[\u001b[0m\u001b[0mi\u001b[0m\u001b[0;34m-\u001b[0m\u001b[0;36m1\u001b[0m\u001b[0;34m]\u001b[0m \u001b[0;32mfor\u001b[0m \u001b[0mi\u001b[0m \u001b[0;32min\u001b[0m \u001b[0mdf_waste\u001b[0m\u001b[0;34m[\u001b[0m\u001b[0;34m\"best before\"\u001b[0m\u001b[0;34m]\u001b[0m\u001b[0;34m]\u001b[0m\u001b[0;34m\u001b[0m\u001b[0;34m\u001b[0m\u001b[0m\n\u001b[0m\u001b[1;32m      2\u001b[0m \u001b[0;31m#add cumulative sum of purchases up until that day (based on expiry dates)\u001b[0m\u001b[0;34m\u001b[0m\u001b[0;34m\u001b[0m\u001b[0;34m\u001b[0m\u001b[0m\n\u001b[1;32m      3\u001b[0m \u001b[0mdf_waste\u001b[0m\u001b[0;34m\u001b[0m\u001b[0;34m\u001b[0m\u001b[0m\n",
      "\u001b[0;32m~/opt/anaconda3/lib/python3.7/site-packages/pandas/core/series.py\u001b[0m in \u001b[0;36m__getitem__\u001b[0;34m(self, key)\u001b[0m\n\u001b[1;32m    846\u001b[0m \u001b[0;34m\u001b[0m\u001b[0m\n\u001b[1;32m    847\u001b[0m         \u001b[0;32mif\u001b[0m \u001b[0mis_integer\u001b[0m\u001b[0;34m(\u001b[0m\u001b[0mkey\u001b[0m\u001b[0;34m)\u001b[0m \u001b[0;32mand\u001b[0m \u001b[0mself\u001b[0m\u001b[0;34m.\u001b[0m\u001b[0mindex\u001b[0m\u001b[0;34m.\u001b[0m\u001b[0m_should_fallback_to_positional\u001b[0m\u001b[0;34m(\u001b[0m\u001b[0;34m)\u001b[0m\u001b[0;34m:\u001b[0m\u001b[0;34m\u001b[0m\u001b[0;34m\u001b[0m\u001b[0m\n\u001b[0;32m--> 848\u001b[0;31m             \u001b[0;32mreturn\u001b[0m \u001b[0mself\u001b[0m\u001b[0;34m.\u001b[0m\u001b[0m_values\u001b[0m\u001b[0;34m[\u001b[0m\u001b[0mkey\u001b[0m\u001b[0;34m]\u001b[0m\u001b[0;34m\u001b[0m\u001b[0;34m\u001b[0m\u001b[0m\n\u001b[0m\u001b[1;32m    849\u001b[0m \u001b[0;34m\u001b[0m\u001b[0m\n\u001b[1;32m    850\u001b[0m         \u001b[0;32melif\u001b[0m \u001b[0mkey_is_scalar\u001b[0m\u001b[0;34m:\u001b[0m\u001b[0;34m\u001b[0m\u001b[0;34m\u001b[0m\u001b[0m\n",
      "\u001b[0;31mIndexError\u001b[0m: index 243 is out of bounds for axis 0 with size 243"
     ]
    }
   ],
   "source": [
    "df_waste[\"purchases\"] = [purchases_per_day[i-1] for i in df_waste[\"best before\"]]\n",
    "#add cumulative sum of purchases up until that day (based on expiry dates)\n",
    "df_waste"
   ]
  },
  {
   "cell_type": "code",
   "execution_count": 103,
   "metadata": {},
   "outputs": [
    {
     "output_type": "stream",
     "name": "stderr",
     "text": [
      "ipykernel_launcher:1: SettingWithCopyWarning: \nA value is trying to be set on a copy of a slice from a DataFrame.\nTry using .loc[row_indexer,col_indexer] = value instead\n\nSee the caveats in the documentation: https://pandas.pydata.org/pandas-docs/stable/user_guide/indexing.html#returning-a-view-versus-a-copy\n"
     ]
    },
    {
     "output_type": "execute_result",
     "data": {
      "text/plain": [
       "    best before  amount  purchases  prev purchases\n",
       "0            10       7         38             NaN\n",
       "1            13       7         47             9.0\n",
       "2            17       4         64            17.0\n",
       "3            20       4         79            15.0\n",
       "4            24      16         95            16.0\n",
       "..          ...     ...        ...             ...\n",
       "88          318      16       1377            29.0\n",
       "89          321      16       1388            11.0\n",
       "90          325      16       1403            15.0\n",
       "91          328      16       1420            17.0\n",
       "92          332      16       1434            14.0\n",
       "\n",
       "[93 rows x 4 columns]"
      ],
      "text/html": "<div>\n<style scoped>\n    .dataframe tbody tr th:only-of-type {\n        vertical-align: middle;\n    }\n\n    .dataframe tbody tr th {\n        vertical-align: top;\n    }\n\n    .dataframe thead th {\n        text-align: right;\n    }\n</style>\n<table border=\"1\" class=\"dataframe\">\n  <thead>\n    <tr style=\"text-align: right;\">\n      <th></th>\n      <th>best before</th>\n      <th>amount</th>\n      <th>purchases</th>\n      <th>prev purchases</th>\n    </tr>\n  </thead>\n  <tbody>\n    <tr>\n      <th>0</th>\n      <td>10</td>\n      <td>7</td>\n      <td>38</td>\n      <td>NaN</td>\n    </tr>\n    <tr>\n      <th>1</th>\n      <td>13</td>\n      <td>7</td>\n      <td>47</td>\n      <td>9.0</td>\n    </tr>\n    <tr>\n      <th>2</th>\n      <td>17</td>\n      <td>4</td>\n      <td>64</td>\n      <td>17.0</td>\n    </tr>\n    <tr>\n      <th>3</th>\n      <td>20</td>\n      <td>4</td>\n      <td>79</td>\n      <td>15.0</td>\n    </tr>\n    <tr>\n      <th>4</th>\n      <td>24</td>\n      <td>16</td>\n      <td>95</td>\n      <td>16.0</td>\n    </tr>\n    <tr>\n      <th>...</th>\n      <td>...</td>\n      <td>...</td>\n      <td>...</td>\n      <td>...</td>\n    </tr>\n    <tr>\n      <th>88</th>\n      <td>318</td>\n      <td>16</td>\n      <td>1377</td>\n      <td>29.0</td>\n    </tr>\n    <tr>\n      <th>89</th>\n      <td>321</td>\n      <td>16</td>\n      <td>1388</td>\n      <td>11.0</td>\n    </tr>\n    <tr>\n      <th>90</th>\n      <td>325</td>\n      <td>16</td>\n      <td>1403</td>\n      <td>15.0</td>\n    </tr>\n    <tr>\n      <th>91</th>\n      <td>328</td>\n      <td>16</td>\n      <td>1420</td>\n      <td>17.0</td>\n    </tr>\n    <tr>\n      <th>92</th>\n      <td>332</td>\n      <td>16</td>\n      <td>1434</td>\n      <td>14.0</td>\n    </tr>\n  </tbody>\n</table>\n<p>93 rows × 4 columns</p>\n</div>"
     },
     "metadata": {},
     "execution_count": 103
    }
   ],
   "source": [
    "df_waste[\"prev purchases\"] = df_waste[\"purchases\"].diff()\n",
    "df_waste #difference in purchases since a previous batch of product expired"
   ]
  },
  {
   "cell_type": "code",
   "execution_count": 104,
   "metadata": {},
   "outputs": [
    {
     "output_type": "stream",
     "name": "stdout",
     "text": [
      "13\n",
      "15\n",
      "2\n",
      "64\n",
      "5\n",
      "293\n",
      "20\n",
      "386\n",
      "26\n",
      "517\n",
      "35\n",
      "613\n",
      "41\n",
      "620\n",
      "42\n",
      "714\n",
      "48\n",
      "ipykernel_launcher:4: SettingWithCopyWarning: \n",
      "A value is trying to be set on a copy of a slice from a DataFrame.\n",
      "Try using .loc[row_indexer,col_indexer] = value instead\n",
      "\n",
      "See the caveats in the documentation: https://pandas.pydata.org/pandas-docs/stable/user_guide/indexing.html#returning-a-view-versus-a-copy\n",
      "/Users/teddy/opt/anaconda3/lib/python3.7/site-packages/pandas/core/indexing.py:1637: SettingWithCopyWarning: \n",
      "A value is trying to be set on a copy of a slice from a DataFrame\n",
      "\n",
      "See the caveats in the documentation: https://pandas.pydata.org/pandas-docs/stable/user_guide/indexing.html#returning-a-view-versus-a-copy\n",
      "  self._setitem_single_block(indexer, value, name)\n",
      "/Users/teddy/opt/anaconda3/lib/python3.7/site-packages/pandas/core/indexing.py:692: SettingWithCopyWarning: \n",
      "A value is trying to be set on a copy of a slice from a DataFrame\n",
      "\n",
      "See the caveats in the documentation: https://pandas.pydata.org/pandas-docs/stable/user_guide/indexing.html#returning-a-view-versus-a-copy\n",
      "  iloc._setitem_with_indexer(indexer, value, self.name)\n",
      "ipykernel_launcher:24: SettingWithCopyWarning: \n",
      "A value is trying to be set on a copy of a slice from a DataFrame.\n",
      "Try using .loc[row_indexer,col_indexer] = value instead\n",
      "\n",
      "See the caveats in the documentation: https://pandas.pydata.org/pandas-docs/stable/user_guide/indexing.html#returning-a-view-versus-a-copy\n",
      "ipykernel_launcher:29: SettingWithCopyWarning: \n",
      "A value is trying to be set on a copy of a slice from a DataFrame.\n",
      "Try using .loc[row_indexer,col_indexer] = value instead\n",
      "\n",
      "See the caveats in the documentation: https://pandas.pydata.org/pandas-docs/stable/user_guide/indexing.html#returning-a-view-versus-a-copy\n",
      "ipykernel_launcher:30: SettingWithCopyWarning: \n",
      "A value is trying to be set on a copy of a slice from a DataFrame.\n",
      "Try using .loc[row_indexer,col_indexer] = value instead\n",
      "\n",
      "See the caveats in the documentation: https://pandas.pydata.org/pandas-docs/stable/user_guide/indexing.html#returning-a-view-versus-a-copy\n",
      "ipykernel_launcher:31: SettingWithCopyWarning: \n",
      "A value is trying to be set on a copy of a slice from a DataFrame.\n",
      "Try using .loc[row_indexer,col_indexer] = value instead\n",
      "\n",
      "See the caveats in the documentation: https://pandas.pydata.org/pandas-docs/stable/user_guide/indexing.html#returning-a-view-versus-a-copy\n",
      "ipykernel_launcher:33: SettingWithCopyWarning: \n",
      "A value is trying to be set on a copy of a slice from a DataFrame.\n",
      "Try using .loc[row_indexer,col_indexer] = value instead\n",
      "\n",
      "See the caveats in the documentation: https://pandas.pydata.org/pandas-docs/stable/user_guide/indexing.html#returning-a-view-versus-a-copy\n",
      "/Users/teddy/opt/anaconda3/lib/python3.7/site-packages/pandas/core/indexing.py:1676: SettingWithCopyWarning: \n",
      "A value is trying to be set on a copy of a slice from a DataFrame.\n",
      "Try using .loc[row_indexer,col_indexer] = value instead\n",
      "\n",
      "See the caveats in the documentation: https://pandas.pydata.org/pandas-docs/stable/user_guide/indexing.html#returning-a-view-versus-a-copy\n",
      "  self._setitem_single_column(ilocs[0], value, pi)\n",
      "/Users/teddy/opt/anaconda3/lib/python3.7/site-packages/pandas/core/indexing.py:1676: SettingWithCopyWarning: \n",
      "A value is trying to be set on a copy of a slice from a DataFrame.\n",
      "Try using .loc[row_indexer,col_indexer] = value instead\n",
      "\n",
      "See the caveats in the documentation: https://pandas.pydata.org/pandas-docs/stable/user_guide/indexing.html#returning-a-view-versus-a-copy\n",
      "  self._setitem_single_column(ilocs[0], value, pi)\n",
      "/Users/teddy/opt/anaconda3/lib/python3.7/site-packages/pandas/core/indexing.py:1676: SettingWithCopyWarning: \n",
      "A value is trying to be set on a copy of a slice from a DataFrame.\n",
      "Try using .loc[row_indexer,col_indexer] = value instead\n",
      "\n",
      "See the caveats in the documentation: https://pandas.pydata.org/pandas-docs/stable/user_guide/indexing.html#returning-a-view-versus-a-copy\n",
      "  self._setitem_single_column(ilocs[0], value, pi)\n",
      "/Users/teddy/opt/anaconda3/lib/python3.7/site-packages/pandas/core/indexing.py:1676: SettingWithCopyWarning: \n",
      "A value is trying to be set on a copy of a slice from a DataFrame.\n",
      "Try using .loc[row_indexer,col_indexer] = value instead\n",
      "\n",
      "See the caveats in the documentation: https://pandas.pydata.org/pandas-docs/stable/user_guide/indexing.html#returning-a-view-versus-a-copy\n",
      "  self._setitem_single_column(ilocs[0], value, pi)\n",
      "/Users/teddy/opt/anaconda3/lib/python3.7/site-packages/pandas/core/indexing.py:1676: SettingWithCopyWarning: \n",
      "A value is trying to be set on a copy of a slice from a DataFrame.\n",
      "Try using .loc[row_indexer,col_indexer] = value instead\n",
      "\n",
      "See the caveats in the documentation: https://pandas.pydata.org/pandas-docs/stable/user_guide/indexing.html#returning-a-view-versus-a-copy\n",
      "  self._setitem_single_column(ilocs[0], value, pi)\n",
      "/Users/teddy/opt/anaconda3/lib/python3.7/site-packages/pandas/core/indexing.py:1676: SettingWithCopyWarning: \n",
      "A value is trying to be set on a copy of a slice from a DataFrame.\n",
      "Try using .loc[row_indexer,col_indexer] = value instead\n",
      "\n",
      "See the caveats in the documentation: https://pandas.pydata.org/pandas-docs/stable/user_guide/indexing.html#returning-a-view-versus-a-copy\n",
      "  self._setitem_single_column(ilocs[0], value, pi)\n",
      "/Users/teddy/opt/anaconda3/lib/python3.7/site-packages/pandas/core/indexing.py:1676: SettingWithCopyWarning: \n",
      "A value is trying to be set on a copy of a slice from a DataFrame.\n",
      "Try using .loc[row_indexer,col_indexer] = value instead\n",
      "\n",
      "See the caveats in the documentation: https://pandas.pydata.org/pandas-docs/stable/user_guide/indexing.html#returning-a-view-versus-a-copy\n",
      "  self._setitem_single_column(ilocs[0], value, pi)\n",
      "/Users/teddy/opt/anaconda3/lib/python3.7/site-packages/pandas/core/indexing.py:1676: SettingWithCopyWarning: \n",
      "A value is trying to be set on a copy of a slice from a DataFrame.\n",
      "Try using .loc[row_indexer,col_indexer] = value instead\n",
      "\n",
      "See the caveats in the documentation: https://pandas.pydata.org/pandas-docs/stable/user_guide/indexing.html#returning-a-view-versus-a-copy\n",
      "  self._setitem_single_column(ilocs[0], value, pi)\n",
      "ipykernel_launcher:44: SettingWithCopyWarning: \n",
      "A value is trying to be set on a copy of a slice from a DataFrame.\n",
      "Try using .loc[row_indexer,col_indexer] = value instead\n",
      "\n",
      "See the caveats in the documentation: https://pandas.pydata.org/pandas-docs/stable/user_guide/indexing.html#returning-a-view-versus-a-copy\n",
      "ipykernel_launcher:45: SettingWithCopyWarning: \n",
      "A value is trying to be set on a copy of a slice from a DataFrame.\n",
      "Try using .loc[row_indexer,col_indexer] = value instead\n",
      "\n",
      "See the caveats in the documentation: https://pandas.pydata.org/pandas-docs/stable/user_guide/indexing.html#returning-a-view-versus-a-copy\n",
      "ipykernel_launcher:46: SettingWithCopyWarning: \n",
      "A value is trying to be set on a copy of a slice from a DataFrame.\n",
      "Try using .loc[row_indexer,col_indexer] = value instead\n",
      "\n",
      "See the caveats in the documentation: https://pandas.pydata.org/pandas-docs/stable/user_guide/indexing.html#returning-a-view-versus-a-copy\n",
      "ipykernel_launcher:47: SettingWithCopyWarning: \n",
      "A value is trying to be set on a copy of a slice from a DataFrame.\n",
      "Try using .loc[row_indexer,col_indexer] = value instead\n",
      "\n",
      "See the caveats in the documentation: https://pandas.pydata.org/pandas-docs/stable/user_guide/indexing.html#returning-a-view-versus-a-copy\n"
     ]
    },
    {
     "output_type": "execute_result",
     "data": {
      "text/plain": [
       "    best before  amount  purchases  prev purchases  remaining  waste  \\\n",
       "0            10       7         38             NaN      -31.0  -31.0   \n",
       "1            13       7         47             9.0       -2.0  -33.0   \n",
       "2            17       4         64            17.0      -13.0  -46.0   \n",
       "3            20       4         79            15.0      -11.0  -57.0   \n",
       "4            24      16         95            16.0        0.0  -57.0   \n",
       "5            27      16        116            21.0       -5.0  -62.0   \n",
       "6            31      16        126            10.0        6.0  -56.0   \n",
       "7            34      16        136            10.0        6.0  -50.0   \n",
       "8            38      10        149            13.0       -3.0  -53.0   \n",
       "9            41      10        155             6.0        4.0  -49.0   \n",
       "10           45      16        167            12.0        4.0  -45.0   \n",
       "11           48      16        184            17.0       -1.0  -46.0   \n",
       "12           52      16        196            12.0        4.0  -42.0   \n",
       "13           55      16        207            11.0        5.0  -37.0   \n",
       "14           59      16        221            14.0        2.0  -35.0   \n",
       "15           62      16        232            11.0        5.0  -30.0   \n",
       "16           66      16        245            13.0        3.0  -27.0   \n",
       "17           69      16        256            11.0        5.0  -22.0   \n",
       "18           73      16        273            17.0       -1.0  -23.0   \n",
       "19           76      16        281             8.0        8.0  -15.0   \n",
       "20           80      16        298            17.0       -1.0  -16.0   \n",
       "21           83      16        314            16.0        0.0  -16.0   \n",
       "22           87      16        324            10.0        6.0  -10.0   \n",
       "23           90      16        342            18.0       -2.0  -12.0   \n",
       "24           94      16        353            11.0        5.0   -7.0   \n",
       "25           97      16        360             7.0        9.0    2.0   \n",
       "26          101      16        383            23.0       -7.0   -7.0   \n",
       "27          104      16        401            18.0       -2.0   -9.0   \n",
       "28          108      16        429            28.0      -12.0  -21.0   \n",
       "29          111      16        449            20.0       -4.0  -25.0   \n",
       "30          115      16        462            13.0        3.0  -22.0   \n",
       "31          118      16        474            12.0        4.0  -18.0   \n",
       "32          122      16        492            18.0       -2.0  -20.0   \n",
       "33          125      16        497             5.0       11.0   -9.0   \n",
       "34          129      16        518            21.0       -5.0  -14.0   \n",
       "35          132      16        546            28.0      -12.0  -26.0   \n",
       "36          136      16        561            15.0        1.0  -25.0   \n",
       "37          139      16        572            11.0        5.0  -20.0   \n",
       "38          143      19        595            23.0       -4.0  -24.0   \n",
       "39          146      19        605            10.0        9.0  -15.0   \n",
       "40          150      16        619            14.0        2.0  -13.0   \n",
       "41          153      16        634            15.0        1.0  -12.0   \n",
       "42          157      16        652            18.0       -2.0  -14.0   \n",
       "43          160      16        664            12.0        4.0  -10.0   \n",
       "44          164      16        680            16.0        0.0  -10.0   \n",
       "45          167      16        696            16.0        0.0  -10.0   \n",
       "46          171      16        724            28.0      -12.0  -22.0   \n",
       "47          174      16        741            17.0       -1.0  -23.0   \n",
       "48          178      16        766            25.0       -9.0  -32.0   \n",
       "49          181      16        777            11.0        5.0  -27.0   \n",
       "\n",
       "         date  week  weekPrice  lost_Revenue  purc_price  lost_profit  \\\n",
       "0  2018-01-11     2     2.5555      -79.2205        0.55     -62.1705   \n",
       "1  2018-01-14     2     2.5555      -84.3315        0.55     -66.1815   \n",
       "2  2018-01-18     3     2.6900     -123.7400        0.55     -98.4400   \n",
       "3  2018-01-21     3     2.6900     -153.3300        0.55    -121.9800   \n",
       "4  2018-01-25     4     2.6900     -153.3300        0.55    -121.9800   \n",
       "5  2018-01-28     4     2.6900     -166.7800        0.55    -132.6800   \n",
       "6  2018-02-01     5     2.2865     -128.0440        0.55     -97.2440   \n",
       "7  2018-02-04     5     2.2865     -114.3250        0.55     -86.8250   \n",
       "8  2018-02-08     6     2.6900     -142.5700        0.55    -113.4200   \n",
       "9  2018-02-11     6     2.6900     -131.8100        0.55    -104.8600   \n",
       "10 2018-02-15     7     2.6900     -121.0500        0.55     -96.3000   \n",
       "11 2018-02-18     7     2.6900     -123.7400        0.55     -98.4400   \n",
       "12 2018-02-22     8     2.6900     -112.9800        0.55     -89.8800   \n",
       "13 2018-02-25     8     2.6900      -99.5300        0.55     -79.1800   \n",
       "14 2018-03-01     9     2.6900      -94.1500        0.55     -74.9000   \n",
       "15 2018-03-04     9     2.6900      -80.7000        0.55     -64.2000   \n",
       "16 2018-03-08    10     2.6900      -72.6300        0.55     -57.7800   \n",
       "17 2018-03-11    10     2.6900      -59.1800        0.55     -47.0800   \n",
       "18 2018-03-15    11     2.6900      -61.8700        0.55     -49.2200   \n",
       "19 2018-03-18    11     2.6900      -40.3500        0.55     -32.1000   \n",
       "20 2018-03-22    12     2.6900      -43.0400        0.55     -34.2400   \n",
       "21 2018-03-25    12     2.6900      -43.0400        0.55     -34.2400   \n",
       "22 2018-03-29    13     2.6900      -26.9000        0.55     -21.4000   \n",
       "23 2018-04-01    13     2.6900      -32.2800        0.55     -25.6800   \n",
       "24 2018-04-05    14     2.6900      -18.8300        0.55     -14.9800   \n",
       "25 2018-04-08    14     2.6900        5.3800        0.55       4.2800   \n",
       "26 2018-04-12    15     2.6900      -18.8300        0.55     -14.9800   \n",
       "27 2018-04-15    15     2.6900      -24.2100        0.55     -19.2600   \n",
       "28 2018-04-19    16     2.6900      -56.4900        0.55     -44.9400   \n",
       "29 2018-04-22    16     2.6900      -67.2500        0.55     -53.5000   \n",
       "30 2018-04-26    17     2.6900      -59.1800        0.55     -47.0800   \n",
       "31 2018-04-29    17     2.6900      -48.4200        0.55     -38.5200   \n",
       "32 2018-05-03    18     2.6900      -53.8000        0.55     -42.8000   \n",
       "33 2018-05-06    18     2.6900      -24.2100        0.55     -19.2600   \n",
       "34 2018-05-10    19     2.6900      -37.6600        0.55     -29.9600   \n",
       "35 2018-05-13    19     2.6900      -69.9400        0.55     -55.6400   \n",
       "36 2018-05-17    20     1.8830      -47.0750        0.55     -33.3250   \n",
       "37 2018-05-20    20     1.8830      -37.6600        0.55     -26.6600   \n",
       "38 2018-05-24    21     2.6900      -64.5600        0.55     -51.3600   \n",
       "39 2018-05-27    21     2.6900      -40.3500        0.55     -32.1000   \n",
       "40 2018-05-31    22     2.6900      -34.9700        0.55     -27.8200   \n",
       "41 2018-06-03    22     2.6900      -32.2800        0.55     -25.6800   \n",
       "42 2018-06-07    23     2.6900      -37.6600        0.55     -29.9600   \n",
       "43 2018-06-10    23     2.6900      -26.9000        0.55     -21.4000   \n",
       "44 2018-06-14    24     2.6900      -26.9000        0.55     -21.4000   \n",
       "45 2018-06-17    24     2.6900      -26.9000        0.55     -21.4000   \n",
       "46 2018-06-21    25     2.6900      -59.1800        0.55     -47.0800   \n",
       "47 2018-06-24    25     2.6900      -61.8700        0.55     -49.2200   \n",
       "48 2018-06-28    26     2.0175      -64.5600        0.55     -46.9600   \n",
       "49 2018-07-01    26     2.0175      -54.4725        0.55     -39.6225   \n",
       "\n",
       "    cost_wasted  \n",
       "0        -17.05  \n",
       "1        -18.15  \n",
       "2        -25.30  \n",
       "3        -31.35  \n",
       "4        -31.35  \n",
       "5        -34.10  \n",
       "6        -30.80  \n",
       "7        -27.50  \n",
       "8        -29.15  \n",
       "9        -26.95  \n",
       "10       -24.75  \n",
       "11       -25.30  \n",
       "12       -23.10  \n",
       "13       -20.35  \n",
       "14       -19.25  \n",
       "15       -16.50  \n",
       "16       -14.85  \n",
       "17       -12.10  \n",
       "18       -12.65  \n",
       "19        -8.25  \n",
       "20        -8.80  \n",
       "21        -8.80  \n",
       "22        -5.50  \n",
       "23        -6.60  \n",
       "24        -3.85  \n",
       "25         1.10  \n",
       "26        -3.85  \n",
       "27        -4.95  \n",
       "28       -11.55  \n",
       "29       -13.75  \n",
       "30       -12.10  \n",
       "31        -9.90  \n",
       "32       -11.00  \n",
       "33        -4.95  \n",
       "34        -7.70  \n",
       "35       -14.30  \n",
       "36       -13.75  \n",
       "37       -11.00  \n",
       "38       -13.20  \n",
       "39        -8.25  \n",
       "40        -7.15  \n",
       "41        -6.60  \n",
       "42        -7.70  \n",
       "43        -5.50  \n",
       "44        -5.50  \n",
       "45        -5.50  \n",
       "46       -12.10  \n",
       "47       -12.65  \n",
       "48       -17.60  \n",
       "49       -14.85  "
      ],
      "text/html": "<div>\n<style scoped>\n    .dataframe tbody tr th:only-of-type {\n        vertical-align: middle;\n    }\n\n    .dataframe tbody tr th {\n        vertical-align: top;\n    }\n\n    .dataframe thead th {\n        text-align: right;\n    }\n</style>\n<table border=\"1\" class=\"dataframe\">\n  <thead>\n    <tr style=\"text-align: right;\">\n      <th></th>\n      <th>best before</th>\n      <th>amount</th>\n      <th>purchases</th>\n      <th>prev purchases</th>\n      <th>remaining</th>\n      <th>waste</th>\n      <th>date</th>\n      <th>week</th>\n      <th>weekPrice</th>\n      <th>lost_Revenue</th>\n      <th>purc_price</th>\n      <th>lost_profit</th>\n      <th>cost_wasted</th>\n    </tr>\n  </thead>\n  <tbody>\n    <tr>\n      <th>0</th>\n      <td>10</td>\n      <td>7</td>\n      <td>38</td>\n      <td>NaN</td>\n      <td>-31.0</td>\n      <td>-31.0</td>\n      <td>2018-01-11</td>\n      <td>2</td>\n      <td>2.5555</td>\n      <td>-79.2205</td>\n      <td>0.55</td>\n      <td>-62.1705</td>\n      <td>-17.05</td>\n    </tr>\n    <tr>\n      <th>1</th>\n      <td>13</td>\n      <td>7</td>\n      <td>47</td>\n      <td>9.0</td>\n      <td>-2.0</td>\n      <td>-33.0</td>\n      <td>2018-01-14</td>\n      <td>2</td>\n      <td>2.5555</td>\n      <td>-84.3315</td>\n      <td>0.55</td>\n      <td>-66.1815</td>\n      <td>-18.15</td>\n    </tr>\n    <tr>\n      <th>2</th>\n      <td>17</td>\n      <td>4</td>\n      <td>64</td>\n      <td>17.0</td>\n      <td>-13.0</td>\n      <td>-46.0</td>\n      <td>2018-01-18</td>\n      <td>3</td>\n      <td>2.6900</td>\n      <td>-123.7400</td>\n      <td>0.55</td>\n      <td>-98.4400</td>\n      <td>-25.30</td>\n    </tr>\n    <tr>\n      <th>3</th>\n      <td>20</td>\n      <td>4</td>\n      <td>79</td>\n      <td>15.0</td>\n      <td>-11.0</td>\n      <td>-57.0</td>\n      <td>2018-01-21</td>\n      <td>3</td>\n      <td>2.6900</td>\n      <td>-153.3300</td>\n      <td>0.55</td>\n      <td>-121.9800</td>\n      <td>-31.35</td>\n    </tr>\n    <tr>\n      <th>4</th>\n      <td>24</td>\n      <td>16</td>\n      <td>95</td>\n      <td>16.0</td>\n      <td>0.0</td>\n      <td>-57.0</td>\n      <td>2018-01-25</td>\n      <td>4</td>\n      <td>2.6900</td>\n      <td>-153.3300</td>\n      <td>0.55</td>\n      <td>-121.9800</td>\n      <td>-31.35</td>\n    </tr>\n    <tr>\n      <th>5</th>\n      <td>27</td>\n      <td>16</td>\n      <td>116</td>\n      <td>21.0</td>\n      <td>-5.0</td>\n      <td>-62.0</td>\n      <td>2018-01-28</td>\n      <td>4</td>\n      <td>2.6900</td>\n      <td>-166.7800</td>\n      <td>0.55</td>\n      <td>-132.6800</td>\n      <td>-34.10</td>\n    </tr>\n    <tr>\n      <th>6</th>\n      <td>31</td>\n      <td>16</td>\n      <td>126</td>\n      <td>10.0</td>\n      <td>6.0</td>\n      <td>-56.0</td>\n      <td>2018-02-01</td>\n      <td>5</td>\n      <td>2.2865</td>\n      <td>-128.0440</td>\n      <td>0.55</td>\n      <td>-97.2440</td>\n      <td>-30.80</td>\n    </tr>\n    <tr>\n      <th>7</th>\n      <td>34</td>\n      <td>16</td>\n      <td>136</td>\n      <td>10.0</td>\n      <td>6.0</td>\n      <td>-50.0</td>\n      <td>2018-02-04</td>\n      <td>5</td>\n      <td>2.2865</td>\n      <td>-114.3250</td>\n      <td>0.55</td>\n      <td>-86.8250</td>\n      <td>-27.50</td>\n    </tr>\n    <tr>\n      <th>8</th>\n      <td>38</td>\n      <td>10</td>\n      <td>149</td>\n      <td>13.0</td>\n      <td>-3.0</td>\n      <td>-53.0</td>\n      <td>2018-02-08</td>\n      <td>6</td>\n      <td>2.6900</td>\n      <td>-142.5700</td>\n      <td>0.55</td>\n      <td>-113.4200</td>\n      <td>-29.15</td>\n    </tr>\n    <tr>\n      <th>9</th>\n      <td>41</td>\n      <td>10</td>\n      <td>155</td>\n      <td>6.0</td>\n      <td>4.0</td>\n      <td>-49.0</td>\n      <td>2018-02-11</td>\n      <td>6</td>\n      <td>2.6900</td>\n      <td>-131.8100</td>\n      <td>0.55</td>\n      <td>-104.8600</td>\n      <td>-26.95</td>\n    </tr>\n    <tr>\n      <th>10</th>\n      <td>45</td>\n      <td>16</td>\n      <td>167</td>\n      <td>12.0</td>\n      <td>4.0</td>\n      <td>-45.0</td>\n      <td>2018-02-15</td>\n      <td>7</td>\n      <td>2.6900</td>\n      <td>-121.0500</td>\n      <td>0.55</td>\n      <td>-96.3000</td>\n      <td>-24.75</td>\n    </tr>\n    <tr>\n      <th>11</th>\n      <td>48</td>\n      <td>16</td>\n      <td>184</td>\n      <td>17.0</td>\n      <td>-1.0</td>\n      <td>-46.0</td>\n      <td>2018-02-18</td>\n      <td>7</td>\n      <td>2.6900</td>\n      <td>-123.7400</td>\n      <td>0.55</td>\n      <td>-98.4400</td>\n      <td>-25.30</td>\n    </tr>\n    <tr>\n      <th>12</th>\n      <td>52</td>\n      <td>16</td>\n      <td>196</td>\n      <td>12.0</td>\n      <td>4.0</td>\n      <td>-42.0</td>\n      <td>2018-02-22</td>\n      <td>8</td>\n      <td>2.6900</td>\n      <td>-112.9800</td>\n      <td>0.55</td>\n      <td>-89.8800</td>\n      <td>-23.10</td>\n    </tr>\n    <tr>\n      <th>13</th>\n      <td>55</td>\n      <td>16</td>\n      <td>207</td>\n      <td>11.0</td>\n      <td>5.0</td>\n      <td>-37.0</td>\n      <td>2018-02-25</td>\n      <td>8</td>\n      <td>2.6900</td>\n      <td>-99.5300</td>\n      <td>0.55</td>\n      <td>-79.1800</td>\n      <td>-20.35</td>\n    </tr>\n    <tr>\n      <th>14</th>\n      <td>59</td>\n      <td>16</td>\n      <td>221</td>\n      <td>14.0</td>\n      <td>2.0</td>\n      <td>-35.0</td>\n      <td>2018-03-01</td>\n      <td>9</td>\n      <td>2.6900</td>\n      <td>-94.1500</td>\n      <td>0.55</td>\n      <td>-74.9000</td>\n      <td>-19.25</td>\n    </tr>\n    <tr>\n      <th>15</th>\n      <td>62</td>\n      <td>16</td>\n      <td>232</td>\n      <td>11.0</td>\n      <td>5.0</td>\n      <td>-30.0</td>\n      <td>2018-03-04</td>\n      <td>9</td>\n      <td>2.6900</td>\n      <td>-80.7000</td>\n      <td>0.55</td>\n      <td>-64.2000</td>\n      <td>-16.50</td>\n    </tr>\n    <tr>\n      <th>16</th>\n      <td>66</td>\n      <td>16</td>\n      <td>245</td>\n      <td>13.0</td>\n      <td>3.0</td>\n      <td>-27.0</td>\n      <td>2018-03-08</td>\n      <td>10</td>\n      <td>2.6900</td>\n      <td>-72.6300</td>\n      <td>0.55</td>\n      <td>-57.7800</td>\n      <td>-14.85</td>\n    </tr>\n    <tr>\n      <th>17</th>\n      <td>69</td>\n      <td>16</td>\n      <td>256</td>\n      <td>11.0</td>\n      <td>5.0</td>\n      <td>-22.0</td>\n      <td>2018-03-11</td>\n      <td>10</td>\n      <td>2.6900</td>\n      <td>-59.1800</td>\n      <td>0.55</td>\n      <td>-47.0800</td>\n      <td>-12.10</td>\n    </tr>\n    <tr>\n      <th>18</th>\n      <td>73</td>\n      <td>16</td>\n      <td>273</td>\n      <td>17.0</td>\n      <td>-1.0</td>\n      <td>-23.0</td>\n      <td>2018-03-15</td>\n      <td>11</td>\n      <td>2.6900</td>\n      <td>-61.8700</td>\n      <td>0.55</td>\n      <td>-49.2200</td>\n      <td>-12.65</td>\n    </tr>\n    <tr>\n      <th>19</th>\n      <td>76</td>\n      <td>16</td>\n      <td>281</td>\n      <td>8.0</td>\n      <td>8.0</td>\n      <td>-15.0</td>\n      <td>2018-03-18</td>\n      <td>11</td>\n      <td>2.6900</td>\n      <td>-40.3500</td>\n      <td>0.55</td>\n      <td>-32.1000</td>\n      <td>-8.25</td>\n    </tr>\n    <tr>\n      <th>20</th>\n      <td>80</td>\n      <td>16</td>\n      <td>298</td>\n      <td>17.0</td>\n      <td>-1.0</td>\n      <td>-16.0</td>\n      <td>2018-03-22</td>\n      <td>12</td>\n      <td>2.6900</td>\n      <td>-43.0400</td>\n      <td>0.55</td>\n      <td>-34.2400</td>\n      <td>-8.80</td>\n    </tr>\n    <tr>\n      <th>21</th>\n      <td>83</td>\n      <td>16</td>\n      <td>314</td>\n      <td>16.0</td>\n      <td>0.0</td>\n      <td>-16.0</td>\n      <td>2018-03-25</td>\n      <td>12</td>\n      <td>2.6900</td>\n      <td>-43.0400</td>\n      <td>0.55</td>\n      <td>-34.2400</td>\n      <td>-8.80</td>\n    </tr>\n    <tr>\n      <th>22</th>\n      <td>87</td>\n      <td>16</td>\n      <td>324</td>\n      <td>10.0</td>\n      <td>6.0</td>\n      <td>-10.0</td>\n      <td>2018-03-29</td>\n      <td>13</td>\n      <td>2.6900</td>\n      <td>-26.9000</td>\n      <td>0.55</td>\n      <td>-21.4000</td>\n      <td>-5.50</td>\n    </tr>\n    <tr>\n      <th>23</th>\n      <td>90</td>\n      <td>16</td>\n      <td>342</td>\n      <td>18.0</td>\n      <td>-2.0</td>\n      <td>-12.0</td>\n      <td>2018-04-01</td>\n      <td>13</td>\n      <td>2.6900</td>\n      <td>-32.2800</td>\n      <td>0.55</td>\n      <td>-25.6800</td>\n      <td>-6.60</td>\n    </tr>\n    <tr>\n      <th>24</th>\n      <td>94</td>\n      <td>16</td>\n      <td>353</td>\n      <td>11.0</td>\n      <td>5.0</td>\n      <td>-7.0</td>\n      <td>2018-04-05</td>\n      <td>14</td>\n      <td>2.6900</td>\n      <td>-18.8300</td>\n      <td>0.55</td>\n      <td>-14.9800</td>\n      <td>-3.85</td>\n    </tr>\n    <tr>\n      <th>25</th>\n      <td>97</td>\n      <td>16</td>\n      <td>360</td>\n      <td>7.0</td>\n      <td>9.0</td>\n      <td>2.0</td>\n      <td>2018-04-08</td>\n      <td>14</td>\n      <td>2.6900</td>\n      <td>5.3800</td>\n      <td>0.55</td>\n      <td>4.2800</td>\n      <td>1.10</td>\n    </tr>\n    <tr>\n      <th>26</th>\n      <td>101</td>\n      <td>16</td>\n      <td>383</td>\n      <td>23.0</td>\n      <td>-7.0</td>\n      <td>-7.0</td>\n      <td>2018-04-12</td>\n      <td>15</td>\n      <td>2.6900</td>\n      <td>-18.8300</td>\n      <td>0.55</td>\n      <td>-14.9800</td>\n      <td>-3.85</td>\n    </tr>\n    <tr>\n      <th>27</th>\n      <td>104</td>\n      <td>16</td>\n      <td>401</td>\n      <td>18.0</td>\n      <td>-2.0</td>\n      <td>-9.0</td>\n      <td>2018-04-15</td>\n      <td>15</td>\n      <td>2.6900</td>\n      <td>-24.2100</td>\n      <td>0.55</td>\n      <td>-19.2600</td>\n      <td>-4.95</td>\n    </tr>\n    <tr>\n      <th>28</th>\n      <td>108</td>\n      <td>16</td>\n      <td>429</td>\n      <td>28.0</td>\n      <td>-12.0</td>\n      <td>-21.0</td>\n      <td>2018-04-19</td>\n      <td>16</td>\n      <td>2.6900</td>\n      <td>-56.4900</td>\n      <td>0.55</td>\n      <td>-44.9400</td>\n      <td>-11.55</td>\n    </tr>\n    <tr>\n      <th>29</th>\n      <td>111</td>\n      <td>16</td>\n      <td>449</td>\n      <td>20.0</td>\n      <td>-4.0</td>\n      <td>-25.0</td>\n      <td>2018-04-22</td>\n      <td>16</td>\n      <td>2.6900</td>\n      <td>-67.2500</td>\n      <td>0.55</td>\n      <td>-53.5000</td>\n      <td>-13.75</td>\n    </tr>\n    <tr>\n      <th>30</th>\n      <td>115</td>\n      <td>16</td>\n      <td>462</td>\n      <td>13.0</td>\n      <td>3.0</td>\n      <td>-22.0</td>\n      <td>2018-04-26</td>\n      <td>17</td>\n      <td>2.6900</td>\n      <td>-59.1800</td>\n      <td>0.55</td>\n      <td>-47.0800</td>\n      <td>-12.10</td>\n    </tr>\n    <tr>\n      <th>31</th>\n      <td>118</td>\n      <td>16</td>\n      <td>474</td>\n      <td>12.0</td>\n      <td>4.0</td>\n      <td>-18.0</td>\n      <td>2018-04-29</td>\n      <td>17</td>\n      <td>2.6900</td>\n      <td>-48.4200</td>\n      <td>0.55</td>\n      <td>-38.5200</td>\n      <td>-9.90</td>\n    </tr>\n    <tr>\n      <th>32</th>\n      <td>122</td>\n      <td>16</td>\n      <td>492</td>\n      <td>18.0</td>\n      <td>-2.0</td>\n      <td>-20.0</td>\n      <td>2018-05-03</td>\n      <td>18</td>\n      <td>2.6900</td>\n      <td>-53.8000</td>\n      <td>0.55</td>\n      <td>-42.8000</td>\n      <td>-11.00</td>\n    </tr>\n    <tr>\n      <th>33</th>\n      <td>125</td>\n      <td>16</td>\n      <td>497</td>\n      <td>5.0</td>\n      <td>11.0</td>\n      <td>-9.0</td>\n      <td>2018-05-06</td>\n      <td>18</td>\n      <td>2.6900</td>\n      <td>-24.2100</td>\n      <td>0.55</td>\n      <td>-19.2600</td>\n      <td>-4.95</td>\n    </tr>\n    <tr>\n      <th>34</th>\n      <td>129</td>\n      <td>16</td>\n      <td>518</td>\n      <td>21.0</td>\n      <td>-5.0</td>\n      <td>-14.0</td>\n      <td>2018-05-10</td>\n      <td>19</td>\n      <td>2.6900</td>\n      <td>-37.6600</td>\n      <td>0.55</td>\n      <td>-29.9600</td>\n      <td>-7.70</td>\n    </tr>\n    <tr>\n      <th>35</th>\n      <td>132</td>\n      <td>16</td>\n      <td>546</td>\n      <td>28.0</td>\n      <td>-12.0</td>\n      <td>-26.0</td>\n      <td>2018-05-13</td>\n      <td>19</td>\n      <td>2.6900</td>\n      <td>-69.9400</td>\n      <td>0.55</td>\n      <td>-55.6400</td>\n      <td>-14.30</td>\n    </tr>\n    <tr>\n      <th>36</th>\n      <td>136</td>\n      <td>16</td>\n      <td>561</td>\n      <td>15.0</td>\n      <td>1.0</td>\n      <td>-25.0</td>\n      <td>2018-05-17</td>\n      <td>20</td>\n      <td>1.8830</td>\n      <td>-47.0750</td>\n      <td>0.55</td>\n      <td>-33.3250</td>\n      <td>-13.75</td>\n    </tr>\n    <tr>\n      <th>37</th>\n      <td>139</td>\n      <td>16</td>\n      <td>572</td>\n      <td>11.0</td>\n      <td>5.0</td>\n      <td>-20.0</td>\n      <td>2018-05-20</td>\n      <td>20</td>\n      <td>1.8830</td>\n      <td>-37.6600</td>\n      <td>0.55</td>\n      <td>-26.6600</td>\n      <td>-11.00</td>\n    </tr>\n    <tr>\n      <th>38</th>\n      <td>143</td>\n      <td>19</td>\n      <td>595</td>\n      <td>23.0</td>\n      <td>-4.0</td>\n      <td>-24.0</td>\n      <td>2018-05-24</td>\n      <td>21</td>\n      <td>2.6900</td>\n      <td>-64.5600</td>\n      <td>0.55</td>\n      <td>-51.3600</td>\n      <td>-13.20</td>\n    </tr>\n    <tr>\n      <th>39</th>\n      <td>146</td>\n      <td>19</td>\n      <td>605</td>\n      <td>10.0</td>\n      <td>9.0</td>\n      <td>-15.0</td>\n      <td>2018-05-27</td>\n      <td>21</td>\n      <td>2.6900</td>\n      <td>-40.3500</td>\n      <td>0.55</td>\n      <td>-32.1000</td>\n      <td>-8.25</td>\n    </tr>\n    <tr>\n      <th>40</th>\n      <td>150</td>\n      <td>16</td>\n      <td>619</td>\n      <td>14.0</td>\n      <td>2.0</td>\n      <td>-13.0</td>\n      <td>2018-05-31</td>\n      <td>22</td>\n      <td>2.6900</td>\n      <td>-34.9700</td>\n      <td>0.55</td>\n      <td>-27.8200</td>\n      <td>-7.15</td>\n    </tr>\n    <tr>\n      <th>41</th>\n      <td>153</td>\n      <td>16</td>\n      <td>634</td>\n      <td>15.0</td>\n      <td>1.0</td>\n      <td>-12.0</td>\n      <td>2018-06-03</td>\n      <td>22</td>\n      <td>2.6900</td>\n      <td>-32.2800</td>\n      <td>0.55</td>\n      <td>-25.6800</td>\n      <td>-6.60</td>\n    </tr>\n    <tr>\n      <th>42</th>\n      <td>157</td>\n      <td>16</td>\n      <td>652</td>\n      <td>18.0</td>\n      <td>-2.0</td>\n      <td>-14.0</td>\n      <td>2018-06-07</td>\n      <td>23</td>\n      <td>2.6900</td>\n      <td>-37.6600</td>\n      <td>0.55</td>\n      <td>-29.9600</td>\n      <td>-7.70</td>\n    </tr>\n    <tr>\n      <th>43</th>\n      <td>160</td>\n      <td>16</td>\n      <td>664</td>\n      <td>12.0</td>\n      <td>4.0</td>\n      <td>-10.0</td>\n      <td>2018-06-10</td>\n      <td>23</td>\n      <td>2.6900</td>\n      <td>-26.9000</td>\n      <td>0.55</td>\n      <td>-21.4000</td>\n      <td>-5.50</td>\n    </tr>\n    <tr>\n      <th>44</th>\n      <td>164</td>\n      <td>16</td>\n      <td>680</td>\n      <td>16.0</td>\n      <td>0.0</td>\n      <td>-10.0</td>\n      <td>2018-06-14</td>\n      <td>24</td>\n      <td>2.6900</td>\n      <td>-26.9000</td>\n      <td>0.55</td>\n      <td>-21.4000</td>\n      <td>-5.50</td>\n    </tr>\n    <tr>\n      <th>45</th>\n      <td>167</td>\n      <td>16</td>\n      <td>696</td>\n      <td>16.0</td>\n      <td>0.0</td>\n      <td>-10.0</td>\n      <td>2018-06-17</td>\n      <td>24</td>\n      <td>2.6900</td>\n      <td>-26.9000</td>\n      <td>0.55</td>\n      <td>-21.4000</td>\n      <td>-5.50</td>\n    </tr>\n    <tr>\n      <th>46</th>\n      <td>171</td>\n      <td>16</td>\n      <td>724</td>\n      <td>28.0</td>\n      <td>-12.0</td>\n      <td>-22.0</td>\n      <td>2018-06-21</td>\n      <td>25</td>\n      <td>2.6900</td>\n      <td>-59.1800</td>\n      <td>0.55</td>\n      <td>-47.0800</td>\n      <td>-12.10</td>\n    </tr>\n    <tr>\n      <th>47</th>\n      <td>174</td>\n      <td>16</td>\n      <td>741</td>\n      <td>17.0</td>\n      <td>-1.0</td>\n      <td>-23.0</td>\n      <td>2018-06-24</td>\n      <td>25</td>\n      <td>2.6900</td>\n      <td>-61.8700</td>\n      <td>0.55</td>\n      <td>-49.2200</td>\n      <td>-12.65</td>\n    </tr>\n    <tr>\n      <th>48</th>\n      <td>178</td>\n      <td>16</td>\n      <td>766</td>\n      <td>25.0</td>\n      <td>-9.0</td>\n      <td>-32.0</td>\n      <td>2018-06-28</td>\n      <td>26</td>\n      <td>2.0175</td>\n      <td>-64.5600</td>\n      <td>0.55</td>\n      <td>-46.9600</td>\n      <td>-17.60</td>\n    </tr>\n    <tr>\n      <th>49</th>\n      <td>181</td>\n      <td>16</td>\n      <td>777</td>\n      <td>11.0</td>\n      <td>5.0</td>\n      <td>-27.0</td>\n      <td>2018-07-01</td>\n      <td>26</td>\n      <td>2.0175</td>\n      <td>-54.4725</td>\n      <td>0.55</td>\n      <td>-39.6225</td>\n      <td>-14.85</td>\n    </tr>\n  </tbody>\n</table>\n</div>"
     },
     "metadata": {},
     "execution_count": 104
    }
   ],
   "source": [
    "length = df_waste.shape[0]\n",
    "lst_waste = [] #nr rows in waste dataframe\n",
    "#amount left from the item\n",
    "df_waste[\"remaining\"] = df_waste[\"amount\"] - df_waste[\"prev purchases\"] \n",
    "#the first row is different as there is no prev pruchases available\n",
    "df_waste[\"remaining\"].iloc[0] = df_waste[\"amount\"].iloc[0] - df_waste[\"purchases\"].iloc[0]\n",
    "\n",
    "for i in range(length):\n",
    "    #iterates through the rows of the waste dataframe\n",
    "    current_row = df_waste.iloc[i]\n",
    "    if i == 0:\n",
    "        #\n",
    "        lst_waste.append(current_row[\"remaining\"])\n",
    "        continue     \n",
    "    else:\n",
    "        prev_row = df_waste.iloc[i-1] #previous row in dataframe\n",
    "        if lst_waste[-1] < 0:\n",
    "            #no idea whats happening here, I've had enough\n",
    "            waste = lst_waste[-1] + current_row[\"remaining\"]\n",
    "            lst_waste.append(lst_waste[-1] + current_row[\"remaining\"])\n",
    "        else:\n",
    "            lst_waste.append(current_row[\"remaining\"])\n",
    "    \n",
    "df_waste[\"waste\"] = lst_waste\n",
    "def date_converter(row):\n",
    "    converted_date = datetime.datetime(2018, 1, 1) + datetime.timedelta(row[\"best before\"])\n",
    "    return converted_date\n",
    "purchase_price = products[products['description'] == product]['purchase_price'].mean()\n",
    "df_waste[\"date\"] = df_waste.apply(date_converter, axis = 1)\n",
    "df_waste[\"week\"] = df_waste.apply(week_of_year, axis = 1)\n",
    "df_waste[df_waste[\"waste\"] < 0][\"waste\"] = 0\n",
    "\n",
    "df_waste['weekPrice'] = [float(products[products['description'] == product]['std_sales_price'].mean())] * len(df_waste)\n",
    "#df_waste.set_index('week', inplace = True)\n",
    "#print(df_waste.head())\n",
    "for week_ind in list(promotions[promotions['description'] == product].index):\n",
    "    week = promotions.at[week_ind, 'week']\n",
    "    print(week_ind)\n",
    "    # print(df_waste[['week']].dtypes)\n",
    "    if week in list(np.unique(df_waste.week)):\n",
    "        print(week)\n",
    "        df_waste.loc[df_waste[df_waste['week'] == week]['weekPrice'].index, 'weekPrice'] = (1 - (promotions.at[week_ind, 'discount'] / 100)) * df_waste.loc[df_waste[df_waste['week'] == week]['weekPrice'].index, 'weekPrice']\n",
    "        #break\n",
    "df_waste['lost_Revenue'] = df_waste.waste * df_waste.weekPrice\n",
    "df_waste['purc_price'] = [float(purchase_price)] * len(df_waste)\n",
    "df_waste['lost_profit'] = df_waste['waste'] * (df_waste['weekPrice'] - df_waste['purc_price'])\n",
    "df_waste['cost_wasted'] = df_waste['waste'] * df_waste['purc_price']\n",
    "df_waste.head(50)"
   ]
  },
  {
   "cell_type": "code",
   "execution_count": 232,
   "metadata": {},
   "outputs": [
    {
     "output_type": "execute_result",
     "data": {
      "text/plain": [
       "     week   category product_id           description  discount\n",
       "0       1  vegetable       v_14  Biologische knoflook        30\n",
       "107     8  vegetable       v_14  Biologische knoflook        15\n",
       "260    18  vegetable       v_14  Biologische knoflook         5\n",
       "388    26  vegetable       v_14  Biologische knoflook        30\n",
       "701    47  vegetable       v_14  Biologische knoflook        25"
      ],
      "text/html": "<div>\n<style scoped>\n    .dataframe tbody tr th:only-of-type {\n        vertical-align: middle;\n    }\n\n    .dataframe tbody tr th {\n        vertical-align: top;\n    }\n\n    .dataframe thead th {\n        text-align: right;\n    }\n</style>\n<table border=\"1\" class=\"dataframe\">\n  <thead>\n    <tr style=\"text-align: right;\">\n      <th></th>\n      <th>week</th>\n      <th>category</th>\n      <th>product_id</th>\n      <th>description</th>\n      <th>discount</th>\n    </tr>\n  </thead>\n  <tbody>\n    <tr>\n      <th>0</th>\n      <td>1</td>\n      <td>vegetable</td>\n      <td>v_14</td>\n      <td>Biologische knoflook</td>\n      <td>30</td>\n    </tr>\n    <tr>\n      <th>107</th>\n      <td>8</td>\n      <td>vegetable</td>\n      <td>v_14</td>\n      <td>Biologische knoflook</td>\n      <td>15</td>\n    </tr>\n    <tr>\n      <th>260</th>\n      <td>18</td>\n      <td>vegetable</td>\n      <td>v_14</td>\n      <td>Biologische knoflook</td>\n      <td>5</td>\n    </tr>\n    <tr>\n      <th>388</th>\n      <td>26</td>\n      <td>vegetable</td>\n      <td>v_14</td>\n      <td>Biologische knoflook</td>\n      <td>30</td>\n    </tr>\n    <tr>\n      <th>701</th>\n      <td>47</td>\n      <td>vegetable</td>\n      <td>v_14</td>\n      <td>Biologische knoflook</td>\n      <td>25</td>\n    </tr>\n  </tbody>\n</table>\n</div>"
     },
     "metadata": {},
     "execution_count": 232
    }
   ],
   "source": [
    "#promotions[(promotions['description'] == product) & (promotions['week'] == week)]['discount']\n",
    "#promotions[promotions['description'] == product]['week']\n",
    "promotions[(promotions['description'] == product) ]"
   ]
  },
  {
   "cell_type": "code",
   "execution_count": 88,
   "metadata": {},
   "outputs": [
    {
     "output_type": "stream",
     "name": "stdout",
     "text": [
      "   category product_id          description  size  std_sales_price  bio  \\\n70     meat        m_6  Half om half gehakt  500g             2.69    0   \n\n    basic  purchase_price  \n70      0            0.55  \n"
     ]
    }
   ],
   "source": [
    "print(products[products['description'] == 'Half om half gehakt'])"
   ]
  },
  {
   "cell_type": "code",
   "execution_count": 32,
   "metadata": {},
   "outputs": [
    {
     "output_type": "execute_result",
     "data": {
      "text/plain": [
       "waste           897.000\n",
       "lost_Revenue    612.168\n",
       "lost_profit     477.618\n",
       "cost_wasted     134.550\n",
       "dtype: float64"
      ]
     },
     "metadata": {},
     "execution_count": 32
    }
   ],
   "source": [
    "df_waste[df_waste['waste']>0][['waste', 'lost_Revenue', 'lost_profit', 'cost_wasted']].sum()"
   ]
  },
  {
   "cell_type": "code",
   "execution_count": 200,
   "metadata": {},
   "outputs": [
    {
     "output_type": "stream",
     "name": "stdout",
     "text": [
      "The number of products wasted in the dataset for Biologische knoflook is 897.0 items\n"
     ]
    }
   ],
   "source": [
    "print('The number of products wasted in the dataset for {} is {} items'.format(product, df_waste[df_waste['waste']>0]['waste'].sum()))"
   ]
  },
  {
   "cell_type": "code",
   "execution_count": 131,
   "metadata": {},
   "outputs": [
    {
     "output_type": "execute_result",
     "data": {
      "text/plain": [
       "    best before  amount  purchases  prev purchases  remaining  waste  \\\n",
       "0           NaN     NaN        NaN             NaN        NaN    NaN   \n",
       "1           NaN     NaN        NaN             NaN        NaN    NaN   \n",
       "2           NaN     NaN        NaN             NaN        NaN    NaN   \n",
       "3           NaN     NaN        NaN             NaN        NaN    NaN   \n",
       "4          28.0    25.0      113.0             9.0       16.0   12.0   \n",
       "..          ...     ...        ...             ...        ...    ...   \n",
       "87        318.0    25.0     1236.0            10.0       15.0   15.0   \n",
       "88        322.0    25.0     1252.0            16.0        9.0    9.0   \n",
       "89        325.0    25.0     1261.0             9.0       16.0   16.0   \n",
       "90        329.0    25.0     1271.0            10.0       15.0   15.0   \n",
       "91        332.0    25.0     1275.0             4.0       21.0   21.0   \n",
       "\n",
       "         date  week  \n",
       "0         NaT   NaN  \n",
       "1         NaT   NaN  \n",
       "2         NaT   NaN  \n",
       "3         NaT   NaN  \n",
       "4  2018-01-29   5.0  \n",
       "..        ...   ...  \n",
       "87 2018-11-15  46.0  \n",
       "88 2018-11-19  47.0  \n",
       "89 2018-11-22  47.0  \n",
       "90 2018-11-26  48.0  \n",
       "91 2018-11-29  48.0  \n",
       "\n",
       "[92 rows x 8 columns]"
      ],
      "text/html": "<div>\n<style scoped>\n    .dataframe tbody tr th:only-of-type {\n        vertical-align: middle;\n    }\n\n    .dataframe tbody tr th {\n        vertical-align: top;\n    }\n\n    .dataframe thead th {\n        text-align: right;\n    }\n</style>\n<table border=\"1\" class=\"dataframe\">\n  <thead>\n    <tr style=\"text-align: right;\">\n      <th></th>\n      <th>best before</th>\n      <th>amount</th>\n      <th>purchases</th>\n      <th>prev purchases</th>\n      <th>remaining</th>\n      <th>waste</th>\n      <th>date</th>\n      <th>week</th>\n    </tr>\n  </thead>\n  <tbody>\n    <tr>\n      <th>0</th>\n      <td>NaN</td>\n      <td>NaN</td>\n      <td>NaN</td>\n      <td>NaN</td>\n      <td>NaN</td>\n      <td>NaN</td>\n      <td>NaT</td>\n      <td>NaN</td>\n    </tr>\n    <tr>\n      <th>1</th>\n      <td>NaN</td>\n      <td>NaN</td>\n      <td>NaN</td>\n      <td>NaN</td>\n      <td>NaN</td>\n      <td>NaN</td>\n      <td>NaT</td>\n      <td>NaN</td>\n    </tr>\n    <tr>\n      <th>2</th>\n      <td>NaN</td>\n      <td>NaN</td>\n      <td>NaN</td>\n      <td>NaN</td>\n      <td>NaN</td>\n      <td>NaN</td>\n      <td>NaT</td>\n      <td>NaN</td>\n    </tr>\n    <tr>\n      <th>3</th>\n      <td>NaN</td>\n      <td>NaN</td>\n      <td>NaN</td>\n      <td>NaN</td>\n      <td>NaN</td>\n      <td>NaN</td>\n      <td>NaT</td>\n      <td>NaN</td>\n    </tr>\n    <tr>\n      <th>4</th>\n      <td>28.0</td>\n      <td>25.0</td>\n      <td>113.0</td>\n      <td>9.0</td>\n      <td>16.0</td>\n      <td>12.0</td>\n      <td>2018-01-29</td>\n      <td>5.0</td>\n    </tr>\n    <tr>\n      <th>...</th>\n      <td>...</td>\n      <td>...</td>\n      <td>...</td>\n      <td>...</td>\n      <td>...</td>\n      <td>...</td>\n      <td>...</td>\n      <td>...</td>\n    </tr>\n    <tr>\n      <th>87</th>\n      <td>318.0</td>\n      <td>25.0</td>\n      <td>1236.0</td>\n      <td>10.0</td>\n      <td>15.0</td>\n      <td>15.0</td>\n      <td>2018-11-15</td>\n      <td>46.0</td>\n    </tr>\n    <tr>\n      <th>88</th>\n      <td>322.0</td>\n      <td>25.0</td>\n      <td>1252.0</td>\n      <td>16.0</td>\n      <td>9.0</td>\n      <td>9.0</td>\n      <td>2018-11-19</td>\n      <td>47.0</td>\n    </tr>\n    <tr>\n      <th>89</th>\n      <td>325.0</td>\n      <td>25.0</td>\n      <td>1261.0</td>\n      <td>9.0</td>\n      <td>16.0</td>\n      <td>16.0</td>\n      <td>2018-11-22</td>\n      <td>47.0</td>\n    </tr>\n    <tr>\n      <th>90</th>\n      <td>329.0</td>\n      <td>25.0</td>\n      <td>1271.0</td>\n      <td>10.0</td>\n      <td>15.0</td>\n      <td>15.0</td>\n      <td>2018-11-26</td>\n      <td>48.0</td>\n    </tr>\n    <tr>\n      <th>91</th>\n      <td>332.0</td>\n      <td>25.0</td>\n      <td>1275.0</td>\n      <td>4.0</td>\n      <td>21.0</td>\n      <td>21.0</td>\n      <td>2018-11-29</td>\n      <td>48.0</td>\n    </tr>\n  </tbody>\n</table>\n<p>92 rows × 8 columns</p>\n</div>"
     },
     "metadata": {},
     "execution_count": 131
    }
   ],
   "source": [
    "df_waste.loc[:,:].where(df_waste.loc[:,'waste']>0)"
   ]
  },
  {
   "cell_type": "code",
   "execution_count": 132,
   "metadata": {},
   "outputs": [
    {
     "output_type": "execute_result",
     "data": {
      "text/plain": [
       "985.0"
      ]
     },
     "metadata": {},
     "execution_count": 132
    }
   ],
   "source": [
    "df_waste[df_waste['waste']>0]['waste'].sum()"
   ]
  },
  {
   "cell_type": "code",
   "execution_count": 31,
   "metadata": {},
   "outputs": [
    {
     "output_type": "execute_result",
     "data": {
      "text/plain": [
       "            time  customer  bank acount  category  product_id  description  \\\n",
       "day                                                                          \n",
       "2018-01-01     2         2            1         2           2            2   \n",
       "2018-01-02     1         1            0         1           1            1   \n",
       "2018-01-03     3         3            3         3           3            3   \n",
       "2018-01-04     9         9            9         9           9            9   \n",
       "2018-01-05     4         4            4         4           4            4   \n",
       "2018-01-06     3         3            1         3           3            3   \n",
       "2018-01-07     7         7            4         7           7            7   \n",
       "2018-01-08     5         5            5         5           5            5   \n",
       "2018-01-09     5         5            5         5           5            5   \n",
       "2018-01-10     1         1            1         1           1            1   \n",
       "2018-01-11     4         4            4         4           4            4   \n",
       "2018-01-12     4         4            4         4           4            4   \n",
       "2018-01-13     5         5            4         5           5            5   \n",
       "2018-01-15     4         4            2         4           4            4   \n",
       "\n",
       "            size  std_sales_price  purchase_price  bio  basic  \n",
       "day                                                            \n",
       "2018-01-01     2                2               2    2      2  \n",
       "2018-01-02     1                1               1    1      1  \n",
       "2018-01-03     3                3               3    3      3  \n",
       "2018-01-04     9                9               9    9      9  \n",
       "2018-01-05     4                4               4    4      4  \n",
       "2018-01-06     3                3               3    3      3  \n",
       "2018-01-07     7                7               7    7      7  \n",
       "2018-01-08     5                5               5    5      5  \n",
       "2018-01-09     5                5               5    5      5  \n",
       "2018-01-10     1                1               1    1      1  \n",
       "2018-01-11     4                4               4    4      4  \n",
       "2018-01-12     4                4               4    4      4  \n",
       "2018-01-13     5                5               5    5      5  \n",
       "2018-01-15     4                4               4    4      4  "
      ],
      "text/html": "<div>\n<style scoped>\n    .dataframe tbody tr th:only-of-type {\n        vertical-align: middle;\n    }\n\n    .dataframe tbody tr th {\n        vertical-align: top;\n    }\n\n    .dataframe thead th {\n        text-align: right;\n    }\n</style>\n<table border=\"1\" class=\"dataframe\">\n  <thead>\n    <tr style=\"text-align: right;\">\n      <th></th>\n      <th>time</th>\n      <th>customer</th>\n      <th>bank acount</th>\n      <th>category</th>\n      <th>product_id</th>\n      <th>description</th>\n      <th>size</th>\n      <th>std_sales_price</th>\n      <th>purchase_price</th>\n      <th>bio</th>\n      <th>basic</th>\n    </tr>\n    <tr>\n      <th>day</th>\n      <th></th>\n      <th></th>\n      <th></th>\n      <th></th>\n      <th></th>\n      <th></th>\n      <th></th>\n      <th></th>\n      <th></th>\n      <th></th>\n      <th></th>\n    </tr>\n  </thead>\n  <tbody>\n    <tr>\n      <th>2018-01-01</th>\n      <td>2</td>\n      <td>2</td>\n      <td>1</td>\n      <td>2</td>\n      <td>2</td>\n      <td>2</td>\n      <td>2</td>\n      <td>2</td>\n      <td>2</td>\n      <td>2</td>\n      <td>2</td>\n    </tr>\n    <tr>\n      <th>2018-01-02</th>\n      <td>1</td>\n      <td>1</td>\n      <td>0</td>\n      <td>1</td>\n      <td>1</td>\n      <td>1</td>\n      <td>1</td>\n      <td>1</td>\n      <td>1</td>\n      <td>1</td>\n      <td>1</td>\n    </tr>\n    <tr>\n      <th>2018-01-03</th>\n      <td>3</td>\n      <td>3</td>\n      <td>3</td>\n      <td>3</td>\n      <td>3</td>\n      <td>3</td>\n      <td>3</td>\n      <td>3</td>\n      <td>3</td>\n      <td>3</td>\n      <td>3</td>\n    </tr>\n    <tr>\n      <th>2018-01-04</th>\n      <td>9</td>\n      <td>9</td>\n      <td>9</td>\n      <td>9</td>\n      <td>9</td>\n      <td>9</td>\n      <td>9</td>\n      <td>9</td>\n      <td>9</td>\n      <td>9</td>\n      <td>9</td>\n    </tr>\n    <tr>\n      <th>2018-01-05</th>\n      <td>4</td>\n      <td>4</td>\n      <td>4</td>\n      <td>4</td>\n      <td>4</td>\n      <td>4</td>\n      <td>4</td>\n      <td>4</td>\n      <td>4</td>\n      <td>4</td>\n      <td>4</td>\n    </tr>\n    <tr>\n      <th>2018-01-06</th>\n      <td>3</td>\n      <td>3</td>\n      <td>1</td>\n      <td>3</td>\n      <td>3</td>\n      <td>3</td>\n      <td>3</td>\n      <td>3</td>\n      <td>3</td>\n      <td>3</td>\n      <td>3</td>\n    </tr>\n    <tr>\n      <th>2018-01-07</th>\n      <td>7</td>\n      <td>7</td>\n      <td>4</td>\n      <td>7</td>\n      <td>7</td>\n      <td>7</td>\n      <td>7</td>\n      <td>7</td>\n      <td>7</td>\n      <td>7</td>\n      <td>7</td>\n    </tr>\n    <tr>\n      <th>2018-01-08</th>\n      <td>5</td>\n      <td>5</td>\n      <td>5</td>\n      <td>5</td>\n      <td>5</td>\n      <td>5</td>\n      <td>5</td>\n      <td>5</td>\n      <td>5</td>\n      <td>5</td>\n      <td>5</td>\n    </tr>\n    <tr>\n      <th>2018-01-09</th>\n      <td>5</td>\n      <td>5</td>\n      <td>5</td>\n      <td>5</td>\n      <td>5</td>\n      <td>5</td>\n      <td>5</td>\n      <td>5</td>\n      <td>5</td>\n      <td>5</td>\n      <td>5</td>\n    </tr>\n    <tr>\n      <th>2018-01-10</th>\n      <td>1</td>\n      <td>1</td>\n      <td>1</td>\n      <td>1</td>\n      <td>1</td>\n      <td>1</td>\n      <td>1</td>\n      <td>1</td>\n      <td>1</td>\n      <td>1</td>\n      <td>1</td>\n    </tr>\n    <tr>\n      <th>2018-01-11</th>\n      <td>4</td>\n      <td>4</td>\n      <td>4</td>\n      <td>4</td>\n      <td>4</td>\n      <td>4</td>\n      <td>4</td>\n      <td>4</td>\n      <td>4</td>\n      <td>4</td>\n      <td>4</td>\n    </tr>\n    <tr>\n      <th>2018-01-12</th>\n      <td>4</td>\n      <td>4</td>\n      <td>4</td>\n      <td>4</td>\n      <td>4</td>\n      <td>4</td>\n      <td>4</td>\n      <td>4</td>\n      <td>4</td>\n      <td>4</td>\n      <td>4</td>\n    </tr>\n    <tr>\n      <th>2018-01-13</th>\n      <td>5</td>\n      <td>5</td>\n      <td>4</td>\n      <td>5</td>\n      <td>5</td>\n      <td>5</td>\n      <td>5</td>\n      <td>5</td>\n      <td>5</td>\n      <td>5</td>\n      <td>5</td>\n    </tr>\n    <tr>\n      <th>2018-01-15</th>\n      <td>4</td>\n      <td>4</td>\n      <td>2</td>\n      <td>4</td>\n      <td>4</td>\n      <td>4</td>\n      <td>4</td>\n      <td>4</td>\n      <td>4</td>\n      <td>4</td>\n      <td>4</td>\n    </tr>\n  </tbody>\n</table>\n</div>"
     },
     "metadata": {},
     "execution_count": 31
    }
   ],
   "source": [
    "transactions[transactions['description'] == 'Biologische prei'].groupby('day').count().iloc[0:14, :]"
   ]
  },
  {
   "cell_type": "code",
   "execution_count": 131,
   "metadata": {},
   "outputs": [
    {
     "output_type": "stream",
     "name": "stderr",
     "text": [
      "<ipython-input-131-08904a856e7a>:1: SettingWithCopyWarning:\n\n\nA value is trying to be set on a copy of a slice from a DataFrame.\nTry using .loc[row_indexer,col_indexer] = value instead\n\nSee the caveats in the documentation: https://pandas.pydata.org/pandas-docs/stable/user_guide/indexing.html#returning-a-view-versus-a-copy\n\n"
     ]
    }
   ],
   "source": [
    "df_waste[\"waste nn\"] = [i if i > 0 else 0 for i in df_waste[\"waste\"]]\n",
    "#takes nonnegative values which is counted as waste\n",
    "waste_group = df_waste.groupby(\"week\").sum()\n",
    "waste_group[\"weekly purchases\"] = waste_group[\"purchases\"].diff()\n"
   ]
  },
  {
   "source": [
    "## `df_waste` is prepared for plotting"
   ],
   "cell_type": "markdown",
   "metadata": {}
  },
  {
   "cell_type": "code",
   "execution_count": 132,
   "metadata": {},
   "outputs": [
    {
     "output_type": "execute_result",
     "data": {
      "text/plain": [
       "      best before  amount  purchases  prev purchases  remaining  waste  \\\n",
       "week                                                                     \n",
       "3              31      52        119             5.0      -10.0  -41.0   \n",
       "4              45      52        179            36.0       16.0    3.0   \n",
       "5              59      52        238            25.0       27.0   27.0   \n",
       "6              73      52        283            23.0       29.0   29.0   \n",
       "7              87      52        327            24.0       28.0   28.0   \n",
       "8             101      52        383            24.0       28.0   28.0   \n",
       "9             115      52        430            26.0       26.0   26.0   \n",
       "10            129      52        492            31.0       21.0   21.0   \n",
       "11            143      52        537            21.0       31.0   31.0   \n",
       "12            157      52        589            33.0       19.0   19.0   \n",
       "13            171      52        650            23.0       29.0   29.0   \n",
       "14            185      52        716            38.0       14.0   14.0   \n",
       "15            199      52        801            40.0       12.0    9.0   \n",
       "16            213      52        860            35.0       17.0   17.0   \n",
       "17            227      52        921            25.0       27.0   27.0   \n",
       "18            241      52        967            21.0       31.0   31.0   \n",
       "19            255      22       1020            27.0       -5.0  -13.0   \n",
       "20            269      52       1064            26.0       26.0   21.0   \n",
       "21            283      52       1122            29.0       23.0   23.0   \n",
       "22            297      52       1171            21.0       31.0   31.0   \n",
       "23            311      52       1225            28.0       24.0   24.0   \n",
       "24            325      52       1266            17.0       35.0   35.0   \n",
       "25            339      52       1316            27.0       25.0   25.0   \n",
       "26            353      52       1362            24.0       28.0   28.0   \n",
       "27            367      52       1400            18.0       34.0   34.0   \n",
       "28            381      52       1445            23.0       29.0   29.0   \n",
       "29            395      52       1489            23.0       29.0   29.0   \n",
       "30            409      52       1556            39.0       13.0   13.0   \n",
       "31            423      52       1623            27.0       25.0   25.0   \n",
       "32            437      52       1676            26.0       26.0   26.0   \n",
       "33            451      52       1728            28.0       24.0   24.0   \n",
       "34            465      52       1782            30.0       22.0   22.0   \n",
       "35            479      52       1863            36.0       16.0   15.0   \n",
       "36            493      52       1912            25.0       27.0   27.0   \n",
       "37            507      52       1965            28.0       24.0   24.0   \n",
       "38            521      52       2017            23.0       29.0   29.0   \n",
       "39            535      52       2052            19.0       33.0   33.0   \n",
       "40            549      52       2103            26.0       26.0   26.0   \n",
       "41            563      52       2151            21.0       31.0   31.0   \n",
       "42            577      52       2197            27.0       25.0   25.0   \n",
       "43            591      52       2263            30.0       22.0   22.0   \n",
       "44            605      52       2312            28.0       24.0   24.0   \n",
       "45            619      52       2357            19.0       33.0   33.0   \n",
       "46            633      52       2412            32.0       20.0   20.0   \n",
       "47            647      52       2460            19.0       33.0   33.0   \n",
       "48            661      52       2506            24.0       28.0   28.0   \n",
       "\n",
       "      waste nn  weekly purchases  \n",
       "week                              \n",
       "3          0.0               NaN  \n",
       "4          6.0              60.0  \n",
       "5         27.0              59.0  \n",
       "6         29.0              45.0  \n",
       "7         28.0              44.0  \n",
       "8         28.0              56.0  \n",
       "9         26.0              47.0  \n",
       "10        21.0              62.0  \n",
       "11        31.0              45.0  \n",
       "12        19.0              52.0  \n",
       "13        29.0              61.0  \n",
       "14        14.0              66.0  \n",
       "15        12.0              85.0  \n",
       "16        17.0              59.0  \n",
       "17        27.0              61.0  \n",
       "18        31.0              46.0  \n",
       "19         0.0              53.0  \n",
       "20        21.0              44.0  \n",
       "21        23.0              58.0  \n",
       "22        31.0              49.0  \n",
       "23        24.0              54.0  \n",
       "24        35.0              41.0  \n",
       "25        25.0              50.0  \n",
       "26        28.0              46.0  \n",
       "27        34.0              38.0  \n",
       "28        29.0              45.0  \n",
       "29        29.0              44.0  \n",
       "30        13.0              67.0  \n",
       "31        25.0              67.0  \n",
       "32        26.0              53.0  \n",
       "33        24.0              52.0  \n",
       "34        22.0              54.0  \n",
       "35        16.0              81.0  \n",
       "36        27.0              49.0  \n",
       "37        24.0              53.0  \n",
       "38        29.0              52.0  \n",
       "39        33.0              35.0  \n",
       "40        26.0              51.0  \n",
       "41        31.0              48.0  \n",
       "42        25.0              46.0  \n",
       "43        22.0              66.0  \n",
       "44        24.0              49.0  \n",
       "45        33.0              45.0  \n",
       "46        20.0              55.0  \n",
       "47        33.0              48.0  \n",
       "48        28.0              46.0  "
      ],
      "text/html": "<div>\n<style scoped>\n    .dataframe tbody tr th:only-of-type {\n        vertical-align: middle;\n    }\n\n    .dataframe tbody tr th {\n        vertical-align: top;\n    }\n\n    .dataframe thead th {\n        text-align: right;\n    }\n</style>\n<table border=\"1\" class=\"dataframe\">\n  <thead>\n    <tr style=\"text-align: right;\">\n      <th></th>\n      <th>best before</th>\n      <th>amount</th>\n      <th>purchases</th>\n      <th>prev purchases</th>\n      <th>remaining</th>\n      <th>waste</th>\n      <th>waste nn</th>\n      <th>weekly purchases</th>\n    </tr>\n    <tr>\n      <th>week</th>\n      <th></th>\n      <th></th>\n      <th></th>\n      <th></th>\n      <th></th>\n      <th></th>\n      <th></th>\n      <th></th>\n    </tr>\n  </thead>\n  <tbody>\n    <tr>\n      <th>3</th>\n      <td>31</td>\n      <td>52</td>\n      <td>119</td>\n      <td>5.0</td>\n      <td>-10.0</td>\n      <td>-41.0</td>\n      <td>0.0</td>\n      <td>NaN</td>\n    </tr>\n    <tr>\n      <th>4</th>\n      <td>45</td>\n      <td>52</td>\n      <td>179</td>\n      <td>36.0</td>\n      <td>16.0</td>\n      <td>3.0</td>\n      <td>6.0</td>\n      <td>60.0</td>\n    </tr>\n    <tr>\n      <th>5</th>\n      <td>59</td>\n      <td>52</td>\n      <td>238</td>\n      <td>25.0</td>\n      <td>27.0</td>\n      <td>27.0</td>\n      <td>27.0</td>\n      <td>59.0</td>\n    </tr>\n    <tr>\n      <th>6</th>\n      <td>73</td>\n      <td>52</td>\n      <td>283</td>\n      <td>23.0</td>\n      <td>29.0</td>\n      <td>29.0</td>\n      <td>29.0</td>\n      <td>45.0</td>\n    </tr>\n    <tr>\n      <th>7</th>\n      <td>87</td>\n      <td>52</td>\n      <td>327</td>\n      <td>24.0</td>\n      <td>28.0</td>\n      <td>28.0</td>\n      <td>28.0</td>\n      <td>44.0</td>\n    </tr>\n    <tr>\n      <th>8</th>\n      <td>101</td>\n      <td>52</td>\n      <td>383</td>\n      <td>24.0</td>\n      <td>28.0</td>\n      <td>28.0</td>\n      <td>28.0</td>\n      <td>56.0</td>\n    </tr>\n    <tr>\n      <th>9</th>\n      <td>115</td>\n      <td>52</td>\n      <td>430</td>\n      <td>26.0</td>\n      <td>26.0</td>\n      <td>26.0</td>\n      <td>26.0</td>\n      <td>47.0</td>\n    </tr>\n    <tr>\n      <th>10</th>\n      <td>129</td>\n      <td>52</td>\n      <td>492</td>\n      <td>31.0</td>\n      <td>21.0</td>\n      <td>21.0</td>\n      <td>21.0</td>\n      <td>62.0</td>\n    </tr>\n    <tr>\n      <th>11</th>\n      <td>143</td>\n      <td>52</td>\n      <td>537</td>\n      <td>21.0</td>\n      <td>31.0</td>\n      <td>31.0</td>\n      <td>31.0</td>\n      <td>45.0</td>\n    </tr>\n    <tr>\n      <th>12</th>\n      <td>157</td>\n      <td>52</td>\n      <td>589</td>\n      <td>33.0</td>\n      <td>19.0</td>\n      <td>19.0</td>\n      <td>19.0</td>\n      <td>52.0</td>\n    </tr>\n    <tr>\n      <th>13</th>\n      <td>171</td>\n      <td>52</td>\n      <td>650</td>\n      <td>23.0</td>\n      <td>29.0</td>\n      <td>29.0</td>\n      <td>29.0</td>\n      <td>61.0</td>\n    </tr>\n    <tr>\n      <th>14</th>\n      <td>185</td>\n      <td>52</td>\n      <td>716</td>\n      <td>38.0</td>\n      <td>14.0</td>\n      <td>14.0</td>\n      <td>14.0</td>\n      <td>66.0</td>\n    </tr>\n    <tr>\n      <th>15</th>\n      <td>199</td>\n      <td>52</td>\n      <td>801</td>\n      <td>40.0</td>\n      <td>12.0</td>\n      <td>9.0</td>\n      <td>12.0</td>\n      <td>85.0</td>\n    </tr>\n    <tr>\n      <th>16</th>\n      <td>213</td>\n      <td>52</td>\n      <td>860</td>\n      <td>35.0</td>\n      <td>17.0</td>\n      <td>17.0</td>\n      <td>17.0</td>\n      <td>59.0</td>\n    </tr>\n    <tr>\n      <th>17</th>\n      <td>227</td>\n      <td>52</td>\n      <td>921</td>\n      <td>25.0</td>\n      <td>27.0</td>\n      <td>27.0</td>\n      <td>27.0</td>\n      <td>61.0</td>\n    </tr>\n    <tr>\n      <th>18</th>\n      <td>241</td>\n      <td>52</td>\n      <td>967</td>\n      <td>21.0</td>\n      <td>31.0</td>\n      <td>31.0</td>\n      <td>31.0</td>\n      <td>46.0</td>\n    </tr>\n    <tr>\n      <th>19</th>\n      <td>255</td>\n      <td>22</td>\n      <td>1020</td>\n      <td>27.0</td>\n      <td>-5.0</td>\n      <td>-13.0</td>\n      <td>0.0</td>\n      <td>53.0</td>\n    </tr>\n    <tr>\n      <th>20</th>\n      <td>269</td>\n      <td>52</td>\n      <td>1064</td>\n      <td>26.0</td>\n      <td>26.0</td>\n      <td>21.0</td>\n      <td>21.0</td>\n      <td>44.0</td>\n    </tr>\n    <tr>\n      <th>21</th>\n      <td>283</td>\n      <td>52</td>\n      <td>1122</td>\n      <td>29.0</td>\n      <td>23.0</td>\n      <td>23.0</td>\n      <td>23.0</td>\n      <td>58.0</td>\n    </tr>\n    <tr>\n      <th>22</th>\n      <td>297</td>\n      <td>52</td>\n      <td>1171</td>\n      <td>21.0</td>\n      <td>31.0</td>\n      <td>31.0</td>\n      <td>31.0</td>\n      <td>49.0</td>\n    </tr>\n    <tr>\n      <th>23</th>\n      <td>311</td>\n      <td>52</td>\n      <td>1225</td>\n      <td>28.0</td>\n      <td>24.0</td>\n      <td>24.0</td>\n      <td>24.0</td>\n      <td>54.0</td>\n    </tr>\n    <tr>\n      <th>24</th>\n      <td>325</td>\n      <td>52</td>\n      <td>1266</td>\n      <td>17.0</td>\n      <td>35.0</td>\n      <td>35.0</td>\n      <td>35.0</td>\n      <td>41.0</td>\n    </tr>\n    <tr>\n      <th>25</th>\n      <td>339</td>\n      <td>52</td>\n      <td>1316</td>\n      <td>27.0</td>\n      <td>25.0</td>\n      <td>25.0</td>\n      <td>25.0</td>\n      <td>50.0</td>\n    </tr>\n    <tr>\n      <th>26</th>\n      <td>353</td>\n      <td>52</td>\n      <td>1362</td>\n      <td>24.0</td>\n      <td>28.0</td>\n      <td>28.0</td>\n      <td>28.0</td>\n      <td>46.0</td>\n    </tr>\n    <tr>\n      <th>27</th>\n      <td>367</td>\n      <td>52</td>\n      <td>1400</td>\n      <td>18.0</td>\n      <td>34.0</td>\n      <td>34.0</td>\n      <td>34.0</td>\n      <td>38.0</td>\n    </tr>\n    <tr>\n      <th>28</th>\n      <td>381</td>\n      <td>52</td>\n      <td>1445</td>\n      <td>23.0</td>\n      <td>29.0</td>\n      <td>29.0</td>\n      <td>29.0</td>\n      <td>45.0</td>\n    </tr>\n    <tr>\n      <th>29</th>\n      <td>395</td>\n      <td>52</td>\n      <td>1489</td>\n      <td>23.0</td>\n      <td>29.0</td>\n      <td>29.0</td>\n      <td>29.0</td>\n      <td>44.0</td>\n    </tr>\n    <tr>\n      <th>30</th>\n      <td>409</td>\n      <td>52</td>\n      <td>1556</td>\n      <td>39.0</td>\n      <td>13.0</td>\n      <td>13.0</td>\n      <td>13.0</td>\n      <td>67.0</td>\n    </tr>\n    <tr>\n      <th>31</th>\n      <td>423</td>\n      <td>52</td>\n      <td>1623</td>\n      <td>27.0</td>\n      <td>25.0</td>\n      <td>25.0</td>\n      <td>25.0</td>\n      <td>67.0</td>\n    </tr>\n    <tr>\n      <th>32</th>\n      <td>437</td>\n      <td>52</td>\n      <td>1676</td>\n      <td>26.0</td>\n      <td>26.0</td>\n      <td>26.0</td>\n      <td>26.0</td>\n      <td>53.0</td>\n    </tr>\n    <tr>\n      <th>33</th>\n      <td>451</td>\n      <td>52</td>\n      <td>1728</td>\n      <td>28.0</td>\n      <td>24.0</td>\n      <td>24.0</td>\n      <td>24.0</td>\n      <td>52.0</td>\n    </tr>\n    <tr>\n      <th>34</th>\n      <td>465</td>\n      <td>52</td>\n      <td>1782</td>\n      <td>30.0</td>\n      <td>22.0</td>\n      <td>22.0</td>\n      <td>22.0</td>\n      <td>54.0</td>\n    </tr>\n    <tr>\n      <th>35</th>\n      <td>479</td>\n      <td>52</td>\n      <td>1863</td>\n      <td>36.0</td>\n      <td>16.0</td>\n      <td>15.0</td>\n      <td>16.0</td>\n      <td>81.0</td>\n    </tr>\n    <tr>\n      <th>36</th>\n      <td>493</td>\n      <td>52</td>\n      <td>1912</td>\n      <td>25.0</td>\n      <td>27.0</td>\n      <td>27.0</td>\n      <td>27.0</td>\n      <td>49.0</td>\n    </tr>\n    <tr>\n      <th>37</th>\n      <td>507</td>\n      <td>52</td>\n      <td>1965</td>\n      <td>28.0</td>\n      <td>24.0</td>\n      <td>24.0</td>\n      <td>24.0</td>\n      <td>53.0</td>\n    </tr>\n    <tr>\n      <th>38</th>\n      <td>521</td>\n      <td>52</td>\n      <td>2017</td>\n      <td>23.0</td>\n      <td>29.0</td>\n      <td>29.0</td>\n      <td>29.0</td>\n      <td>52.0</td>\n    </tr>\n    <tr>\n      <th>39</th>\n      <td>535</td>\n      <td>52</td>\n      <td>2052</td>\n      <td>19.0</td>\n      <td>33.0</td>\n      <td>33.0</td>\n      <td>33.0</td>\n      <td>35.0</td>\n    </tr>\n    <tr>\n      <th>40</th>\n      <td>549</td>\n      <td>52</td>\n      <td>2103</td>\n      <td>26.0</td>\n      <td>26.0</td>\n      <td>26.0</td>\n      <td>26.0</td>\n      <td>51.0</td>\n    </tr>\n    <tr>\n      <th>41</th>\n      <td>563</td>\n      <td>52</td>\n      <td>2151</td>\n      <td>21.0</td>\n      <td>31.0</td>\n      <td>31.0</td>\n      <td>31.0</td>\n      <td>48.0</td>\n    </tr>\n    <tr>\n      <th>42</th>\n      <td>577</td>\n      <td>52</td>\n      <td>2197</td>\n      <td>27.0</td>\n      <td>25.0</td>\n      <td>25.0</td>\n      <td>25.0</td>\n      <td>46.0</td>\n    </tr>\n    <tr>\n      <th>43</th>\n      <td>591</td>\n      <td>52</td>\n      <td>2263</td>\n      <td>30.0</td>\n      <td>22.0</td>\n      <td>22.0</td>\n      <td>22.0</td>\n      <td>66.0</td>\n    </tr>\n    <tr>\n      <th>44</th>\n      <td>605</td>\n      <td>52</td>\n      <td>2312</td>\n      <td>28.0</td>\n      <td>24.0</td>\n      <td>24.0</td>\n      <td>24.0</td>\n      <td>49.0</td>\n    </tr>\n    <tr>\n      <th>45</th>\n      <td>619</td>\n      <td>52</td>\n      <td>2357</td>\n      <td>19.0</td>\n      <td>33.0</td>\n      <td>33.0</td>\n      <td>33.0</td>\n      <td>45.0</td>\n    </tr>\n    <tr>\n      <th>46</th>\n      <td>633</td>\n      <td>52</td>\n      <td>2412</td>\n      <td>32.0</td>\n      <td>20.0</td>\n      <td>20.0</td>\n      <td>20.0</td>\n      <td>55.0</td>\n    </tr>\n    <tr>\n      <th>47</th>\n      <td>647</td>\n      <td>52</td>\n      <td>2460</td>\n      <td>19.0</td>\n      <td>33.0</td>\n      <td>33.0</td>\n      <td>33.0</td>\n      <td>48.0</td>\n    </tr>\n    <tr>\n      <th>48</th>\n      <td>661</td>\n      <td>52</td>\n      <td>2506</td>\n      <td>24.0</td>\n      <td>28.0</td>\n      <td>28.0</td>\n      <td>28.0</td>\n      <td>46.0</td>\n    </tr>\n  </tbody>\n</table>\n</div>"
     },
     "metadata": {},
     "execution_count": 132
    }
   ],
   "source": [
    "waste_group"
   ]
  },
  {
   "cell_type": "code",
   "execution_count": 133,
   "metadata": {},
   "outputs": [],
   "source": [
    "waste_group[\"week\"] = waste_group.index"
   ]
  },
  {
   "cell_type": "code",
   "execution_count": 134,
   "metadata": {},
   "outputs": [
    {
     "output_type": "display_data",
     "data": {
      "application/vnd.plotly.v1+json": {
       "config": {
        "plotlyServerURL": "https://plot.ly"
       },
       "data": [
        {
         "hovertemplate": "week=%{x}<br>waste nn=%{y}<extra></extra>",
         "legendgroup": "",
         "line": {
          "color": "#636efa",
          "dash": "solid"
         },
         "mode": "lines",
         "name": "",
         "orientation": "v",
         "showlegend": false,
         "type": "scatter",
         "x": [
          3,
          4,
          5,
          6,
          7,
          8,
          9,
          10,
          11,
          12,
          13,
          14,
          15,
          16,
          17,
          18,
          19,
          20,
          21,
          22,
          23,
          24,
          25,
          26,
          27,
          28,
          29,
          30,
          31,
          32,
          33,
          34,
          35,
          36,
          37,
          38,
          39,
          40,
          41,
          42,
          43,
          44,
          45,
          46,
          47,
          48
         ],
         "xaxis": "x",
         "y": [
          0,
          6,
          27,
          29,
          28,
          28,
          26,
          21,
          31,
          19,
          29,
          14,
          12,
          17,
          27,
          31,
          0,
          21,
          23,
          31,
          24,
          35,
          25,
          28,
          34,
          29,
          29,
          13,
          25,
          26,
          24,
          22,
          16,
          27,
          24,
          29,
          33,
          26,
          31,
          25,
          22,
          24,
          33,
          20,
          33,
          28
         ],
         "yaxis": "y"
        },
        {
         "mode": "lines",
         "type": "scatter",
         "x": [
          3,
          4,
          5,
          6,
          7,
          8,
          9,
          10,
          11,
          12,
          13,
          14,
          15,
          16,
          17,
          18,
          19,
          20,
          21,
          22,
          23,
          24,
          25,
          26,
          27,
          28,
          29,
          30,
          31,
          32,
          33,
          34,
          35,
          36,
          37,
          38,
          39,
          40,
          41,
          42,
          43,
          44,
          45,
          46,
          47,
          48
         ],
         "y": [
          52,
          52,
          52,
          52,
          52,
          52,
          52,
          52,
          52,
          52,
          52,
          52,
          52,
          52,
          52,
          52,
          22,
          52,
          52,
          52,
          52,
          52,
          52,
          52,
          52,
          52,
          52,
          52,
          52,
          52,
          52,
          52,
          52,
          52,
          52,
          52,
          52,
          52,
          52,
          52,
          52,
          52,
          52,
          52,
          52,
          52
         ]
        },
        {
         "mode": "lines",
         "type": "scatter",
         "x": [
          3,
          4,
          5,
          6,
          7,
          8,
          9,
          10,
          11,
          12,
          13,
          14,
          15,
          16,
          17,
          18,
          19,
          20,
          21,
          22,
          23,
          24,
          25,
          26,
          27,
          28,
          29,
          30,
          31,
          32,
          33,
          34,
          35,
          36,
          37,
          38,
          39,
          40,
          41,
          42,
          43,
          44,
          45,
          46,
          47,
          48
         ],
         "y": [
          null,
          60,
          59,
          45,
          44,
          56,
          47,
          62,
          45,
          52,
          61,
          66,
          85,
          59,
          61,
          46,
          53,
          44,
          58,
          49,
          54,
          41,
          50,
          46,
          38,
          45,
          44,
          67,
          67,
          53,
          52,
          54,
          81,
          49,
          53,
          52,
          35,
          51,
          48,
          46,
          66,
          49,
          45,
          55,
          48,
          46
         ]
        }
       ],
       "layout": {
        "legend": {
         "tracegroupgap": 0
        },
        "template": {
         "data": {
          "bar": [
           {
            "error_x": {
             "color": "#2a3f5f"
            },
            "error_y": {
             "color": "#2a3f5f"
            },
            "marker": {
             "line": {
              "color": "#E5ECF6",
              "width": 0.5
             }
            },
            "type": "bar"
           }
          ],
          "barpolar": [
           {
            "marker": {
             "line": {
              "color": "#E5ECF6",
              "width": 0.5
             }
            },
            "type": "barpolar"
           }
          ],
          "carpet": [
           {
            "aaxis": {
             "endlinecolor": "#2a3f5f",
             "gridcolor": "white",
             "linecolor": "white",
             "minorgridcolor": "white",
             "startlinecolor": "#2a3f5f"
            },
            "baxis": {
             "endlinecolor": "#2a3f5f",
             "gridcolor": "white",
             "linecolor": "white",
             "minorgridcolor": "white",
             "startlinecolor": "#2a3f5f"
            },
            "type": "carpet"
           }
          ],
          "choropleth": [
           {
            "colorbar": {
             "outlinewidth": 0,
             "ticks": ""
            },
            "type": "choropleth"
           }
          ],
          "contour": [
           {
            "colorbar": {
             "outlinewidth": 0,
             "ticks": ""
            },
            "colorscale": [
             [
              0,
              "#0d0887"
             ],
             [
              0.1111111111111111,
              "#46039f"
             ],
             [
              0.2222222222222222,
              "#7201a8"
             ],
             [
              0.3333333333333333,
              "#9c179e"
             ],
             [
              0.4444444444444444,
              "#bd3786"
             ],
             [
              0.5555555555555556,
              "#d8576b"
             ],
             [
              0.6666666666666666,
              "#ed7953"
             ],
             [
              0.7777777777777778,
              "#fb9f3a"
             ],
             [
              0.8888888888888888,
              "#fdca26"
             ],
             [
              1,
              "#f0f921"
             ]
            ],
            "type": "contour"
           }
          ],
          "contourcarpet": [
           {
            "colorbar": {
             "outlinewidth": 0,
             "ticks": ""
            },
            "type": "contourcarpet"
           }
          ],
          "heatmap": [
           {
            "colorbar": {
             "outlinewidth": 0,
             "ticks": ""
            },
            "colorscale": [
             [
              0,
              "#0d0887"
             ],
             [
              0.1111111111111111,
              "#46039f"
             ],
             [
              0.2222222222222222,
              "#7201a8"
             ],
             [
              0.3333333333333333,
              "#9c179e"
             ],
             [
              0.4444444444444444,
              "#bd3786"
             ],
             [
              0.5555555555555556,
              "#d8576b"
             ],
             [
              0.6666666666666666,
              "#ed7953"
             ],
             [
              0.7777777777777778,
              "#fb9f3a"
             ],
             [
              0.8888888888888888,
              "#fdca26"
             ],
             [
              1,
              "#f0f921"
             ]
            ],
            "type": "heatmap"
           }
          ],
          "heatmapgl": [
           {
            "colorbar": {
             "outlinewidth": 0,
             "ticks": ""
            },
            "colorscale": [
             [
              0,
              "#0d0887"
             ],
             [
              0.1111111111111111,
              "#46039f"
             ],
             [
              0.2222222222222222,
              "#7201a8"
             ],
             [
              0.3333333333333333,
              "#9c179e"
             ],
             [
              0.4444444444444444,
              "#bd3786"
             ],
             [
              0.5555555555555556,
              "#d8576b"
             ],
             [
              0.6666666666666666,
              "#ed7953"
             ],
             [
              0.7777777777777778,
              "#fb9f3a"
             ],
             [
              0.8888888888888888,
              "#fdca26"
             ],
             [
              1,
              "#f0f921"
             ]
            ],
            "type": "heatmapgl"
           }
          ],
          "histogram": [
           {
            "marker": {
             "colorbar": {
              "outlinewidth": 0,
              "ticks": ""
             }
            },
            "type": "histogram"
           }
          ],
          "histogram2d": [
           {
            "colorbar": {
             "outlinewidth": 0,
             "ticks": ""
            },
            "colorscale": [
             [
              0,
              "#0d0887"
             ],
             [
              0.1111111111111111,
              "#46039f"
             ],
             [
              0.2222222222222222,
              "#7201a8"
             ],
             [
              0.3333333333333333,
              "#9c179e"
             ],
             [
              0.4444444444444444,
              "#bd3786"
             ],
             [
              0.5555555555555556,
              "#d8576b"
             ],
             [
              0.6666666666666666,
              "#ed7953"
             ],
             [
              0.7777777777777778,
              "#fb9f3a"
             ],
             [
              0.8888888888888888,
              "#fdca26"
             ],
             [
              1,
              "#f0f921"
             ]
            ],
            "type": "histogram2d"
           }
          ],
          "histogram2dcontour": [
           {
            "colorbar": {
             "outlinewidth": 0,
             "ticks": ""
            },
            "colorscale": [
             [
              0,
              "#0d0887"
             ],
             [
              0.1111111111111111,
              "#46039f"
             ],
             [
              0.2222222222222222,
              "#7201a8"
             ],
             [
              0.3333333333333333,
              "#9c179e"
             ],
             [
              0.4444444444444444,
              "#bd3786"
             ],
             [
              0.5555555555555556,
              "#d8576b"
             ],
             [
              0.6666666666666666,
              "#ed7953"
             ],
             [
              0.7777777777777778,
              "#fb9f3a"
             ],
             [
              0.8888888888888888,
              "#fdca26"
             ],
             [
              1,
              "#f0f921"
             ]
            ],
            "type": "histogram2dcontour"
           }
          ],
          "mesh3d": [
           {
            "colorbar": {
             "outlinewidth": 0,
             "ticks": ""
            },
            "type": "mesh3d"
           }
          ],
          "parcoords": [
           {
            "line": {
             "colorbar": {
              "outlinewidth": 0,
              "ticks": ""
             }
            },
            "type": "parcoords"
           }
          ],
          "pie": [
           {
            "automargin": true,
            "type": "pie"
           }
          ],
          "scatter": [
           {
            "marker": {
             "colorbar": {
              "outlinewidth": 0,
              "ticks": ""
             }
            },
            "type": "scatter"
           }
          ],
          "scatter3d": [
           {
            "line": {
             "colorbar": {
              "outlinewidth": 0,
              "ticks": ""
             }
            },
            "marker": {
             "colorbar": {
              "outlinewidth": 0,
              "ticks": ""
             }
            },
            "type": "scatter3d"
           }
          ],
          "scattercarpet": [
           {
            "marker": {
             "colorbar": {
              "outlinewidth": 0,
              "ticks": ""
             }
            },
            "type": "scattercarpet"
           }
          ],
          "scattergeo": [
           {
            "marker": {
             "colorbar": {
              "outlinewidth": 0,
              "ticks": ""
             }
            },
            "type": "scattergeo"
           }
          ],
          "scattergl": [
           {
            "marker": {
             "colorbar": {
              "outlinewidth": 0,
              "ticks": ""
             }
            },
            "type": "scattergl"
           }
          ],
          "scattermapbox": [
           {
            "marker": {
             "colorbar": {
              "outlinewidth": 0,
              "ticks": ""
             }
            },
            "type": "scattermapbox"
           }
          ],
          "scatterpolar": [
           {
            "marker": {
             "colorbar": {
              "outlinewidth": 0,
              "ticks": ""
             }
            },
            "type": "scatterpolar"
           }
          ],
          "scatterpolargl": [
           {
            "marker": {
             "colorbar": {
              "outlinewidth": 0,
              "ticks": ""
             }
            },
            "type": "scatterpolargl"
           }
          ],
          "scatterternary": [
           {
            "marker": {
             "colorbar": {
              "outlinewidth": 0,
              "ticks": ""
             }
            },
            "type": "scatterternary"
           }
          ],
          "surface": [
           {
            "colorbar": {
             "outlinewidth": 0,
             "ticks": ""
            },
            "colorscale": [
             [
              0,
              "#0d0887"
             ],
             [
              0.1111111111111111,
              "#46039f"
             ],
             [
              0.2222222222222222,
              "#7201a8"
             ],
             [
              0.3333333333333333,
              "#9c179e"
             ],
             [
              0.4444444444444444,
              "#bd3786"
             ],
             [
              0.5555555555555556,
              "#d8576b"
             ],
             [
              0.6666666666666666,
              "#ed7953"
             ],
             [
              0.7777777777777778,
              "#fb9f3a"
             ],
             [
              0.8888888888888888,
              "#fdca26"
             ],
             [
              1,
              "#f0f921"
             ]
            ],
            "type": "surface"
           }
          ],
          "table": [
           {
            "cells": {
             "fill": {
              "color": "#EBF0F8"
             },
             "line": {
              "color": "white"
             }
            },
            "header": {
             "fill": {
              "color": "#C8D4E3"
             },
             "line": {
              "color": "white"
             }
            },
            "type": "table"
           }
          ]
         },
         "layout": {
          "annotationdefaults": {
           "arrowcolor": "#2a3f5f",
           "arrowhead": 0,
           "arrowwidth": 1
          },
          "coloraxis": {
           "colorbar": {
            "outlinewidth": 0,
            "ticks": ""
           }
          },
          "colorscale": {
           "diverging": [
            [
             0,
             "#8e0152"
            ],
            [
             0.1,
             "#c51b7d"
            ],
            [
             0.2,
             "#de77ae"
            ],
            [
             0.3,
             "#f1b6da"
            ],
            [
             0.4,
             "#fde0ef"
            ],
            [
             0.5,
             "#f7f7f7"
            ],
            [
             0.6,
             "#e6f5d0"
            ],
            [
             0.7,
             "#b8e186"
            ],
            [
             0.8,
             "#7fbc41"
            ],
            [
             0.9,
             "#4d9221"
            ],
            [
             1,
             "#276419"
            ]
           ],
           "sequential": [
            [
             0,
             "#0d0887"
            ],
            [
             0.1111111111111111,
             "#46039f"
            ],
            [
             0.2222222222222222,
             "#7201a8"
            ],
            [
             0.3333333333333333,
             "#9c179e"
            ],
            [
             0.4444444444444444,
             "#bd3786"
            ],
            [
             0.5555555555555556,
             "#d8576b"
            ],
            [
             0.6666666666666666,
             "#ed7953"
            ],
            [
             0.7777777777777778,
             "#fb9f3a"
            ],
            [
             0.8888888888888888,
             "#fdca26"
            ],
            [
             1,
             "#f0f921"
            ]
           ],
           "sequentialminus": [
            [
             0,
             "#0d0887"
            ],
            [
             0.1111111111111111,
             "#46039f"
            ],
            [
             0.2222222222222222,
             "#7201a8"
            ],
            [
             0.3333333333333333,
             "#9c179e"
            ],
            [
             0.4444444444444444,
             "#bd3786"
            ],
            [
             0.5555555555555556,
             "#d8576b"
            ],
            [
             0.6666666666666666,
             "#ed7953"
            ],
            [
             0.7777777777777778,
             "#fb9f3a"
            ],
            [
             0.8888888888888888,
             "#fdca26"
            ],
            [
             1,
             "#f0f921"
            ]
           ]
          },
          "colorway": [
           "#636efa",
           "#EF553B",
           "#00cc96",
           "#ab63fa",
           "#FFA15A",
           "#19d3f3",
           "#FF6692",
           "#B6E880",
           "#FF97FF",
           "#FECB52"
          ],
          "font": {
           "color": "#2a3f5f"
          },
          "geo": {
           "bgcolor": "white",
           "lakecolor": "white",
           "landcolor": "#E5ECF6",
           "showlakes": true,
           "showland": true,
           "subunitcolor": "white"
          },
          "hoverlabel": {
           "align": "left"
          },
          "hovermode": "closest",
          "mapbox": {
           "style": "light"
          },
          "paper_bgcolor": "white",
          "plot_bgcolor": "#E5ECF6",
          "polar": {
           "angularaxis": {
            "gridcolor": "white",
            "linecolor": "white",
            "ticks": ""
           },
           "bgcolor": "#E5ECF6",
           "radialaxis": {
            "gridcolor": "white",
            "linecolor": "white",
            "ticks": ""
           }
          },
          "scene": {
           "xaxis": {
            "backgroundcolor": "#E5ECF6",
            "gridcolor": "white",
            "gridwidth": 2,
            "linecolor": "white",
            "showbackground": true,
            "ticks": "",
            "zerolinecolor": "white"
           },
           "yaxis": {
            "backgroundcolor": "#E5ECF6",
            "gridcolor": "white",
            "gridwidth": 2,
            "linecolor": "white",
            "showbackground": true,
            "ticks": "",
            "zerolinecolor": "white"
           },
           "zaxis": {
            "backgroundcolor": "#E5ECF6",
            "gridcolor": "white",
            "gridwidth": 2,
            "linecolor": "white",
            "showbackground": true,
            "ticks": "",
            "zerolinecolor": "white"
           }
          },
          "shapedefaults": {
           "line": {
            "color": "#2a3f5f"
           }
          },
          "ternary": {
           "aaxis": {
            "gridcolor": "white",
            "linecolor": "white",
            "ticks": ""
           },
           "baxis": {
            "gridcolor": "white",
            "linecolor": "white",
            "ticks": ""
           },
           "bgcolor": "#E5ECF6",
           "caxis": {
            "gridcolor": "white",
            "linecolor": "white",
            "ticks": ""
           }
          },
          "title": {
           "x": 0.05
          },
          "xaxis": {
           "automargin": true,
           "gridcolor": "white",
           "linecolor": "white",
           "ticks": "",
           "title": {
            "standoff": 15
           },
           "zerolinecolor": "white",
           "zerolinewidth": 2
          },
          "yaxis": {
           "automargin": true,
           "gridcolor": "white",
           "linecolor": "white",
           "ticks": "",
           "title": {
            "standoff": 15
           },
           "zerolinecolor": "white",
           "zerolinewidth": 2
          }
         }
        },
        "title": {
         "text": "Absolute waste of Biologische prei per week"
        },
        "xaxis": {
         "anchor": "y",
         "domain": [
          0,
          1
         ],
         "title": {
          "text": "week"
         }
        },
        "yaxis": {
         "anchor": "x",
         "domain": [
          0,
          1
         ],
         "title": {
          "text": "Waste amount"
         }
        }
       }
      }
     },
     "metadata": {}
    }
   ],
   "source": [
    "import plotly.express as px\n",
    "fig = px.line(waste_group, x = \"week\", y = \"waste nn\", title=\"Absolute waste of {} per week\".format(product))\n",
    "fig.add_scatter(x=waste_group[\"week\"], y=waste_group[\"amount\"], mode=\"lines\")\n",
    "fig.add_scatter(x=waste_group[\"week\"], y=waste_group[\"weekly purchases\"], mode=\"lines\")\n",
    "fig.update_yaxes(title=\"Waste amount\")\n",
    "fig.show()"
   ]
  },
  {
   "cell_type": "code",
   "execution_count": 112,
   "metadata": {},
   "outputs": [
    {
     "output_type": "execute_result",
     "data": {
      "text/plain": [
       "day\n",
       "2018-01-01       8\n",
       "2018-01-02      13\n",
       "2018-01-03      18\n",
       "2018-01-04      30\n",
       "2018-01-05      40\n",
       "              ... \n",
       "2018-12-26    2913\n",
       "2018-12-27    2918\n",
       "2018-12-28    2921\n",
       "2018-12-29    2934\n",
       "2018-12-30    2943\n",
       "Name: product_id, Length: 364, dtype: int64"
      ]
     },
     "metadata": {},
     "execution_count": 112
    }
   ],
   "source": [
    "purchases_per_day"
   ]
  },
  {
   "cell_type": "code",
   "execution_count": 71,
   "metadata": {},
   "outputs": [],
   "source": [
    "transactions[\"day\"] = pd.to_datetime(transactions[\"day\"])\n",
    "filter_transactions = transactions[transactions[\"description\"] == product]"
   ]
  },
  {
   "cell_type": "code",
   "execution_count": 86,
   "metadata": {},
   "outputs": [
    {
     "output_type": "execute_result",
     "data": {
      "text/plain": [
       "             day      time  customer  bank acount   category product_id  \\\n",
       "89    2018-01-01  10:40:13       6.0   54211938.0  vegetable        v_1   \n",
       "467   2018-01-01  14:21:35      26.0   51433968.0  vegetable        v_1   \n",
       "573   2018-01-01  15:36:46      33.0   30794082.0  vegetable        v_1   \n",
       "700   2018-01-01  16:56:20      39.0   15832817.0  vegetable        v_1   \n",
       "808   2018-01-01  18:15:29      46.0   90399261.0  vegetable        v_1   \n",
       "821   2018-01-01  18:15:29      46.0   90399261.0  vegetable        v_1   \n",
       "824   2018-01-01  18:15:29      46.0   90399261.0  vegetable        v_1   \n",
       "879   2018-01-01  18:46:48      49.0   15382238.0  vegetable        v_1   \n",
       "29093 2018-01-02  12:52:06    1714.0   28719528.0  vegetable        v_1   \n",
       "29134 2018-01-02  13:44:14    1718.0   39309224.0  vegetable        v_1   \n",
       "29295 2018-01-02  15:15:43    1728.0    8997496.0  vegetable        v_1   \n",
       "29445 2018-01-02  17:57:52    1737.0   34052285.0  vegetable        v_1   \n",
       "29559 2018-01-02  18:51:21    1745.0   50106779.0  vegetable        v_1   \n",
       "55959 2018-01-03   9:22:58    3327.0          NaN  vegetable        v_1   \n",
       "56275 2018-01-03  13:35:26    3346.0   73805186.0  vegetable        v_1   \n",
       "56537 2018-01-03  16:48:00    3364.0   73806149.0  vegetable        v_1   \n",
       "56586 2018-01-03  17:58:20    3369.0     319898.0  vegetable        v_1   \n",
       "56613 2018-01-03  18:20:23    3370.0   98645816.0  vegetable        v_1   \n",
       "\n",
       "      description size  std_sales_price  purchase_price  bio  basic  \n",
       "89      Komkommer  1st             0.69            0.69  0.0    0.0  \n",
       "467     Komkommer  1st             0.69            0.69  0.0    0.0  \n",
       "573     Komkommer  1st             0.69            0.69  0.0    0.0  \n",
       "700     Komkommer  1st             0.69            0.69  0.0    0.0  \n",
       "808     Komkommer  1st             0.69            0.69  0.0    0.0  \n",
       "821     Komkommer  1st             0.69            0.69  0.0    0.0  \n",
       "824     Komkommer  1st             0.69            0.69  0.0    0.0  \n",
       "879     Komkommer  1st             0.69            0.69  0.0    0.0  \n",
       "29093   Komkommer  1st             0.69            0.69  0.0    0.0  \n",
       "29134   Komkommer  1st             0.69            0.69  0.0    0.0  \n",
       "29295   Komkommer  1st             0.69            0.69  0.0    0.0  \n",
       "29445   Komkommer  1st             0.69            0.69  0.0    0.0  \n",
       "29559   Komkommer  1st             0.69            0.69  0.0    0.0  \n",
       "55959   Komkommer  1st             0.69            0.69  0.0    0.0  \n",
       "56275   Komkommer  1st             0.69            0.69  0.0    0.0  \n",
       "56537   Komkommer  1st             0.69            0.69  0.0    0.0  \n",
       "56586   Komkommer  1st             0.69            0.69  0.0    0.0  \n",
       "56613   Komkommer  1st             0.69            0.69  0.0    0.0  "
      ],
      "text/html": "<div>\n<style scoped>\n    .dataframe tbody tr th:only-of-type {\n        vertical-align: middle;\n    }\n\n    .dataframe tbody tr th {\n        vertical-align: top;\n    }\n\n    .dataframe thead th {\n        text-align: right;\n    }\n</style>\n<table border=\"1\" class=\"dataframe\">\n  <thead>\n    <tr style=\"text-align: right;\">\n      <th></th>\n      <th>day</th>\n      <th>time</th>\n      <th>customer</th>\n      <th>bank acount</th>\n      <th>category</th>\n      <th>product_id</th>\n      <th>description</th>\n      <th>size</th>\n      <th>std_sales_price</th>\n      <th>purchase_price</th>\n      <th>bio</th>\n      <th>basic</th>\n    </tr>\n  </thead>\n  <tbody>\n    <tr>\n      <th>89</th>\n      <td>2018-01-01</td>\n      <td>10:40:13</td>\n      <td>6.0</td>\n      <td>54211938.0</td>\n      <td>vegetable</td>\n      <td>v_1</td>\n      <td>Komkommer</td>\n      <td>1st</td>\n      <td>0.69</td>\n      <td>0.69</td>\n      <td>0.0</td>\n      <td>0.0</td>\n    </tr>\n    <tr>\n      <th>467</th>\n      <td>2018-01-01</td>\n      <td>14:21:35</td>\n      <td>26.0</td>\n      <td>51433968.0</td>\n      <td>vegetable</td>\n      <td>v_1</td>\n      <td>Komkommer</td>\n      <td>1st</td>\n      <td>0.69</td>\n      <td>0.69</td>\n      <td>0.0</td>\n      <td>0.0</td>\n    </tr>\n    <tr>\n      <th>573</th>\n      <td>2018-01-01</td>\n      <td>15:36:46</td>\n      <td>33.0</td>\n      <td>30794082.0</td>\n      <td>vegetable</td>\n      <td>v_1</td>\n      <td>Komkommer</td>\n      <td>1st</td>\n      <td>0.69</td>\n      <td>0.69</td>\n      <td>0.0</td>\n      <td>0.0</td>\n    </tr>\n    <tr>\n      <th>700</th>\n      <td>2018-01-01</td>\n      <td>16:56:20</td>\n      <td>39.0</td>\n      <td>15832817.0</td>\n      <td>vegetable</td>\n      <td>v_1</td>\n      <td>Komkommer</td>\n      <td>1st</td>\n      <td>0.69</td>\n      <td>0.69</td>\n      <td>0.0</td>\n      <td>0.0</td>\n    </tr>\n    <tr>\n      <th>808</th>\n      <td>2018-01-01</td>\n      <td>18:15:29</td>\n      <td>46.0</td>\n      <td>90399261.0</td>\n      <td>vegetable</td>\n      <td>v_1</td>\n      <td>Komkommer</td>\n      <td>1st</td>\n      <td>0.69</td>\n      <td>0.69</td>\n      <td>0.0</td>\n      <td>0.0</td>\n    </tr>\n    <tr>\n      <th>821</th>\n      <td>2018-01-01</td>\n      <td>18:15:29</td>\n      <td>46.0</td>\n      <td>90399261.0</td>\n      <td>vegetable</td>\n      <td>v_1</td>\n      <td>Komkommer</td>\n      <td>1st</td>\n      <td>0.69</td>\n      <td>0.69</td>\n      <td>0.0</td>\n      <td>0.0</td>\n    </tr>\n    <tr>\n      <th>824</th>\n      <td>2018-01-01</td>\n      <td>18:15:29</td>\n      <td>46.0</td>\n      <td>90399261.0</td>\n      <td>vegetable</td>\n      <td>v_1</td>\n      <td>Komkommer</td>\n      <td>1st</td>\n      <td>0.69</td>\n      <td>0.69</td>\n      <td>0.0</td>\n      <td>0.0</td>\n    </tr>\n    <tr>\n      <th>879</th>\n      <td>2018-01-01</td>\n      <td>18:46:48</td>\n      <td>49.0</td>\n      <td>15382238.0</td>\n      <td>vegetable</td>\n      <td>v_1</td>\n      <td>Komkommer</td>\n      <td>1st</td>\n      <td>0.69</td>\n      <td>0.69</td>\n      <td>0.0</td>\n      <td>0.0</td>\n    </tr>\n    <tr>\n      <th>29093</th>\n      <td>2018-01-02</td>\n      <td>12:52:06</td>\n      <td>1714.0</td>\n      <td>28719528.0</td>\n      <td>vegetable</td>\n      <td>v_1</td>\n      <td>Komkommer</td>\n      <td>1st</td>\n      <td>0.69</td>\n      <td>0.69</td>\n      <td>0.0</td>\n      <td>0.0</td>\n    </tr>\n    <tr>\n      <th>29134</th>\n      <td>2018-01-02</td>\n      <td>13:44:14</td>\n      <td>1718.0</td>\n      <td>39309224.0</td>\n      <td>vegetable</td>\n      <td>v_1</td>\n      <td>Komkommer</td>\n      <td>1st</td>\n      <td>0.69</td>\n      <td>0.69</td>\n      <td>0.0</td>\n      <td>0.0</td>\n    </tr>\n    <tr>\n      <th>29295</th>\n      <td>2018-01-02</td>\n      <td>15:15:43</td>\n      <td>1728.0</td>\n      <td>8997496.0</td>\n      <td>vegetable</td>\n      <td>v_1</td>\n      <td>Komkommer</td>\n      <td>1st</td>\n      <td>0.69</td>\n      <td>0.69</td>\n      <td>0.0</td>\n      <td>0.0</td>\n    </tr>\n    <tr>\n      <th>29445</th>\n      <td>2018-01-02</td>\n      <td>17:57:52</td>\n      <td>1737.0</td>\n      <td>34052285.0</td>\n      <td>vegetable</td>\n      <td>v_1</td>\n      <td>Komkommer</td>\n      <td>1st</td>\n      <td>0.69</td>\n      <td>0.69</td>\n      <td>0.0</td>\n      <td>0.0</td>\n    </tr>\n    <tr>\n      <th>29559</th>\n      <td>2018-01-02</td>\n      <td>18:51:21</td>\n      <td>1745.0</td>\n      <td>50106779.0</td>\n      <td>vegetable</td>\n      <td>v_1</td>\n      <td>Komkommer</td>\n      <td>1st</td>\n      <td>0.69</td>\n      <td>0.69</td>\n      <td>0.0</td>\n      <td>0.0</td>\n    </tr>\n    <tr>\n      <th>55959</th>\n      <td>2018-01-03</td>\n      <td>9:22:58</td>\n      <td>3327.0</td>\n      <td>NaN</td>\n      <td>vegetable</td>\n      <td>v_1</td>\n      <td>Komkommer</td>\n      <td>1st</td>\n      <td>0.69</td>\n      <td>0.69</td>\n      <td>0.0</td>\n      <td>0.0</td>\n    </tr>\n    <tr>\n      <th>56275</th>\n      <td>2018-01-03</td>\n      <td>13:35:26</td>\n      <td>3346.0</td>\n      <td>73805186.0</td>\n      <td>vegetable</td>\n      <td>v_1</td>\n      <td>Komkommer</td>\n      <td>1st</td>\n      <td>0.69</td>\n      <td>0.69</td>\n      <td>0.0</td>\n      <td>0.0</td>\n    </tr>\n    <tr>\n      <th>56537</th>\n      <td>2018-01-03</td>\n      <td>16:48:00</td>\n      <td>3364.0</td>\n      <td>73806149.0</td>\n      <td>vegetable</td>\n      <td>v_1</td>\n      <td>Komkommer</td>\n      <td>1st</td>\n      <td>0.69</td>\n      <td>0.69</td>\n      <td>0.0</td>\n      <td>0.0</td>\n    </tr>\n    <tr>\n      <th>56586</th>\n      <td>2018-01-03</td>\n      <td>17:58:20</td>\n      <td>3369.0</td>\n      <td>319898.0</td>\n      <td>vegetable</td>\n      <td>v_1</td>\n      <td>Komkommer</td>\n      <td>1st</td>\n      <td>0.69</td>\n      <td>0.69</td>\n      <td>0.0</td>\n      <td>0.0</td>\n    </tr>\n    <tr>\n      <th>56613</th>\n      <td>2018-01-03</td>\n      <td>18:20:23</td>\n      <td>3370.0</td>\n      <td>98645816.0</td>\n      <td>vegetable</td>\n      <td>v_1</td>\n      <td>Komkommer</td>\n      <td>1st</td>\n      <td>0.69</td>\n      <td>0.69</td>\n      <td>0.0</td>\n      <td>0.0</td>\n    </tr>\n  </tbody>\n</table>\n</div>"
     },
     "metadata": {},
     "execution_count": 86
    }
   ],
   "source": [
    "daydate = df_date[df_date[\"day\"] == 2][\"date\"].values[0]\n",
    "\n",
    "filter_transactions[filter_transactions[\"day\"] <= daydate]\n"
   ]
  },
  {
   "cell_type": "code",
   "execution_count": 111,
   "metadata": {},
   "outputs": [
    {
     "output_type": "execute_result",
     "data": {
      "text/plain": [
       "day\n",
       "2018-01-01       8\n",
       "2018-01-02      13\n",
       "2018-01-03      18\n",
       "2018-01-04      30\n",
       "2018-01-05      40\n",
       "              ... \n",
       "2018-12-26    2913\n",
       "2018-12-27    2918\n",
       "2018-12-28    2921\n",
       "2018-12-29    2934\n",
       "2018-12-30    2943\n",
       "Name: product_id, Length: 364, dtype: int64"
      ]
     },
     "metadata": {},
     "execution_count": 111
    }
   ],
   "source": [
    "purchases_per_day = filter_transactions.groupby(\"day\").count()[\"product_id\"].cumsum()\n",
    "purchases_per_day"
   ]
  },
  {
   "cell_type": "code",
   "execution_count": 52,
   "metadata": {},
   "outputs": [
    {
     "output_type": "execute_result",
     "data": {
      "text/plain": [
       "numpy.datetime64('2018-01-15T00:00:00.000000000')"
      ]
     },
     "metadata": {},
     "execution_count": 52
    }
   ],
   "source": [
    "daydate"
   ]
  },
  {
   "cell_type": "code",
   "execution_count": 15,
   "metadata": {},
   "outputs": [],
   "source": [
    "dayofyear = list(range(365))\n",
    "date = [datetime.datetime(2018, 1, 1) + datetime.timedelta(day) for day in dayofyear]\n",
    "df_date = pd.DataFrame({\"day\":dayofyear, \"date\":date})"
   ]
  }
 ]
}