{
 "metadata": {
  "language_info": {
   "codemirror_mode": {
    "name": "ipython",
    "version": 3
   },
   "file_extension": ".py",
   "mimetype": "text/x-python",
   "name": "python",
   "nbconvert_exporter": "python",
   "pygments_lexer": "ipython3",
   "version": "3.7.7"
  },
  "orig_nbformat": 2,
  "kernelspec": {
   "name": "python3",
   "display_name": "Python 3",
   "language": "python"
  }
 },
 "nbformat": 4,
 "nbformat_minor": 2,
 "cells": [
  {
   "cell_type": "code",
   "execution_count": 9,
   "metadata": {},
   "outputs": [],
   "source": [
    "import pandas as pd\n",
    "import numpy as np \n",
    "import datetime\n",
    "inventory = pd.read_csv(\"data/inventory.csv\")\n",
    "products = pd.read_csv(\"data/products_ext.csv\")\n",
    "promotions = pd.read_csv(\"data/promotions.csv\")\n",
    "transactions = pd.read_csv(\"data/transactions.csv\")\n",
    "\n",
    "#create a reference dataframe\n",
    "dayofyear = list(range(365))\n",
    "date = [datetime.datetime(2018, 1, 1) + datetime.timedelta(day) for day in dayofyear]\n",
    "df_date = pd.DataFrame({\"day\":dayofyear, \"date\":date})\n",
    "\n",
    "import ast\n",
    "for colname in inventory.columns[2:]:\n",
    "    inventory[colname] = [ast.literal_eval(i) for i in inventory[colname]]\n",
    "    #converting inventory rows to list of tuples from string"
   ]
  },
  {
   "cell_type": "code",
   "execution_count": 10,
   "metadata": {},
   "outputs": [
    {
     "output_type": "execute_result",
     "data": {
      "text/plain": [
       "    category product_id            description  size  std_sales_price  bio  \\\n",
       "0  vegetable        v_1              Komkommer   1st             0.69    0   \n",
       "1  vegetable        v_2              Courgette   1st             0.75    0   \n",
       "2  vegetable        v_3  SnoepVegetable tomaat  500g             1.99    0   \n",
       "3  vegetable        v_4            Paprika Mix   3st             1.79    0   \n",
       "4  vegetable        v_5                Paprika   1st             0.99    0   \n",
       "\n",
       "   basic  purchase_price  \n",
       "0      0            0.18  \n",
       "1      0            0.17  \n",
       "2      0            0.50  \n",
       "3      0            0.40  \n",
       "4      0            0.23  "
      ],
      "text/html": "<div>\n<style scoped>\n    .dataframe tbody tr th:only-of-type {\n        vertical-align: middle;\n    }\n\n    .dataframe tbody tr th {\n        vertical-align: top;\n    }\n\n    .dataframe thead th {\n        text-align: right;\n    }\n</style>\n<table border=\"1\" class=\"dataframe\">\n  <thead>\n    <tr style=\"text-align: right;\">\n      <th></th>\n      <th>category</th>\n      <th>product_id</th>\n      <th>description</th>\n      <th>size</th>\n      <th>std_sales_price</th>\n      <th>bio</th>\n      <th>basic</th>\n      <th>purchase_price</th>\n    </tr>\n  </thead>\n  <tbody>\n    <tr>\n      <th>0</th>\n      <td>vegetable</td>\n      <td>v_1</td>\n      <td>Komkommer</td>\n      <td>1st</td>\n      <td>0.69</td>\n      <td>0</td>\n      <td>0</td>\n      <td>0.18</td>\n    </tr>\n    <tr>\n      <th>1</th>\n      <td>vegetable</td>\n      <td>v_2</td>\n      <td>Courgette</td>\n      <td>1st</td>\n      <td>0.75</td>\n      <td>0</td>\n      <td>0</td>\n      <td>0.17</td>\n    </tr>\n    <tr>\n      <th>2</th>\n      <td>vegetable</td>\n      <td>v_3</td>\n      <td>SnoepVegetable tomaat</td>\n      <td>500g</td>\n      <td>1.99</td>\n      <td>0</td>\n      <td>0</td>\n      <td>0.50</td>\n    </tr>\n    <tr>\n      <th>3</th>\n      <td>vegetable</td>\n      <td>v_4</td>\n      <td>Paprika Mix</td>\n      <td>3st</td>\n      <td>1.79</td>\n      <td>0</td>\n      <td>0</td>\n      <td>0.40</td>\n    </tr>\n    <tr>\n      <th>4</th>\n      <td>vegetable</td>\n      <td>v_5</td>\n      <td>Paprika</td>\n      <td>1st</td>\n      <td>0.99</td>\n      <td>0</td>\n      <td>0</td>\n      <td>0.23</td>\n    </tr>\n  </tbody>\n</table>\n</div>"
     },
     "metadata": {},
     "execution_count": 10
    }
   ],
   "source": [
    "products.head()"
   ]
  },
  {
   "cell_type": "code",
   "execution_count": 11,
   "metadata": {},
   "outputs": [
    {
     "output_type": "execute_result",
     "data": {
      "text/plain": [
       "   day before or after delivery         Blauwe bessen\n",
       "0    0                   before                    []\n",
       "1    0                    after            [(20, 50)]\n",
       "2    3                   before            [(20, 14)]\n",
       "3    3                    after  [(20, 14), (23, 50)]\n",
       "4    7                   before            [(23, 32)]"
      ],
      "text/html": "<div>\n<style scoped>\n    .dataframe tbody tr th:only-of-type {\n        vertical-align: middle;\n    }\n\n    .dataframe tbody tr th {\n        vertical-align: top;\n    }\n\n    .dataframe thead th {\n        text-align: right;\n    }\n</style>\n<table border=\"1\" class=\"dataframe\">\n  <thead>\n    <tr style=\"text-align: right;\">\n      <th></th>\n      <th>day</th>\n      <th>before or after delivery</th>\n      <th>Blauwe bessen</th>\n    </tr>\n  </thead>\n  <tbody>\n    <tr>\n      <th>0</th>\n      <td>0</td>\n      <td>before</td>\n      <td>[]</td>\n    </tr>\n    <tr>\n      <th>1</th>\n      <td>0</td>\n      <td>after</td>\n      <td>[(20, 50)]</td>\n    </tr>\n    <tr>\n      <th>2</th>\n      <td>3</td>\n      <td>before</td>\n      <td>[(20, 14)]</td>\n    </tr>\n    <tr>\n      <th>3</th>\n      <td>3</td>\n      <td>after</td>\n      <td>[(20, 14), (23, 50)]</td>\n    </tr>\n    <tr>\n      <th>4</th>\n      <td>7</td>\n      <td>before</td>\n      <td>[(23, 32)]</td>\n    </tr>\n  </tbody>\n</table>\n</div>"
     },
     "metadata": {},
     "execution_count": 11
    }
   ],
   "source": [
    "inventory[['day', 'before or after delivery','Blauwe bessen']].head()"
   ]
  },
  {
   "cell_type": "code",
   "execution_count": 12,
   "metadata": {},
   "outputs": [
    {
     "output_type": "execute_result",
     "data": {
      "text/plain": [
       "               day      time  customer  bank acount   category product_id  \\\n",
       "370       1/1/2018  13:52:41      23.0   53801240.0  vegetable       v_14   \n",
       "504       1/1/2018  14:41:10      28.0   29159112.0  vegetable       v_14   \n",
       "631       1/1/2018  16:13:24      37.0   77943433.0  vegetable       v_14   \n",
       "644       1/1/2018  16:13:24      37.0   77943433.0  vegetable       v_14   \n",
       "869       1/1/2018  18:41:40      48.0          NaN  vegetable       v_14   \n",
       "...            ...       ...       ...          ...        ...        ...   \n",
       "352607  28-12-2018  13:58:45   20567.0   80448895.0  vegetable       v_14   \n",
       "353181  29-12-2018  11:20:57   20599.0   13185251.0  vegetable       v_14   \n",
       "353411  29-12-2018  13:54:53   20612.0   62257065.0  vegetable       v_14   \n",
       "353940  30-12-2018   9:14:20   20641.0     423613.0  vegetable       v_14   \n",
       "354381  30-12-2018  15:47:54   20663.0   87022141.0  vegetable       v_14   \n",
       "\n",
       "                 description  size  std_sales_price  purchase_price  bio  \\\n",
       "370     Biologische knoflook  100g             0.69            0.48  1.0   \n",
       "504     Biologische knoflook  100g             0.69            0.48  1.0   \n",
       "631     Biologische knoflook  100g             0.69            0.48  1.0   \n",
       "644     Biologische knoflook  100g             0.69            0.48  1.0   \n",
       "869     Biologische knoflook  100g             0.69            0.48  1.0   \n",
       "...                      ...   ...              ...             ...  ...   \n",
       "352607  Biologische knoflook  100g             0.69            0.69  1.0   \n",
       "353181  Biologische knoflook  100g             0.69            0.69  1.0   \n",
       "353411  Biologische knoflook  100g             0.69            0.69  1.0   \n",
       "353940  Biologische knoflook  100g             0.69            0.69  1.0   \n",
       "354381  Biologische knoflook  100g             0.69            0.69  1.0   \n",
       "\n",
       "        basic  \n",
       "370       0.0  \n",
       "504       0.0  \n",
       "631       0.0  \n",
       "644       0.0  \n",
       "869       0.0  \n",
       "...       ...  \n",
       "352607    0.0  \n",
       "353181    0.0  \n",
       "353411    0.0  \n",
       "353940    0.0  \n",
       "354381    0.0  \n",
       "\n",
       "[1422 rows x 12 columns]"
      ],
      "text/html": "<div>\n<style scoped>\n    .dataframe tbody tr th:only-of-type {\n        vertical-align: middle;\n    }\n\n    .dataframe tbody tr th {\n        vertical-align: top;\n    }\n\n    .dataframe thead th {\n        text-align: right;\n    }\n</style>\n<table border=\"1\" class=\"dataframe\">\n  <thead>\n    <tr style=\"text-align: right;\">\n      <th></th>\n      <th>day</th>\n      <th>time</th>\n      <th>customer</th>\n      <th>bank acount</th>\n      <th>category</th>\n      <th>product_id</th>\n      <th>description</th>\n      <th>size</th>\n      <th>std_sales_price</th>\n      <th>purchase_price</th>\n      <th>bio</th>\n      <th>basic</th>\n    </tr>\n  </thead>\n  <tbody>\n    <tr>\n      <th>370</th>\n      <td>1/1/2018</td>\n      <td>13:52:41</td>\n      <td>23.0</td>\n      <td>53801240.0</td>\n      <td>vegetable</td>\n      <td>v_14</td>\n      <td>Biologische knoflook</td>\n      <td>100g</td>\n      <td>0.69</td>\n      <td>0.48</td>\n      <td>1.0</td>\n      <td>0.0</td>\n    </tr>\n    <tr>\n      <th>504</th>\n      <td>1/1/2018</td>\n      <td>14:41:10</td>\n      <td>28.0</td>\n      <td>29159112.0</td>\n      <td>vegetable</td>\n      <td>v_14</td>\n      <td>Biologische knoflook</td>\n      <td>100g</td>\n      <td>0.69</td>\n      <td>0.48</td>\n      <td>1.0</td>\n      <td>0.0</td>\n    </tr>\n    <tr>\n      <th>631</th>\n      <td>1/1/2018</td>\n      <td>16:13:24</td>\n      <td>37.0</td>\n      <td>77943433.0</td>\n      <td>vegetable</td>\n      <td>v_14</td>\n      <td>Biologische knoflook</td>\n      <td>100g</td>\n      <td>0.69</td>\n      <td>0.48</td>\n      <td>1.0</td>\n      <td>0.0</td>\n    </tr>\n    <tr>\n      <th>644</th>\n      <td>1/1/2018</td>\n      <td>16:13:24</td>\n      <td>37.0</td>\n      <td>77943433.0</td>\n      <td>vegetable</td>\n      <td>v_14</td>\n      <td>Biologische knoflook</td>\n      <td>100g</td>\n      <td>0.69</td>\n      <td>0.48</td>\n      <td>1.0</td>\n      <td>0.0</td>\n    </tr>\n    <tr>\n      <th>869</th>\n      <td>1/1/2018</td>\n      <td>18:41:40</td>\n      <td>48.0</td>\n      <td>NaN</td>\n      <td>vegetable</td>\n      <td>v_14</td>\n      <td>Biologische knoflook</td>\n      <td>100g</td>\n      <td>0.69</td>\n      <td>0.48</td>\n      <td>1.0</td>\n      <td>0.0</td>\n    </tr>\n    <tr>\n      <th>...</th>\n      <td>...</td>\n      <td>...</td>\n      <td>...</td>\n      <td>...</td>\n      <td>...</td>\n      <td>...</td>\n      <td>...</td>\n      <td>...</td>\n      <td>...</td>\n      <td>...</td>\n      <td>...</td>\n      <td>...</td>\n    </tr>\n    <tr>\n      <th>352607</th>\n      <td>28-12-2018</td>\n      <td>13:58:45</td>\n      <td>20567.0</td>\n      <td>80448895.0</td>\n      <td>vegetable</td>\n      <td>v_14</td>\n      <td>Biologische knoflook</td>\n      <td>100g</td>\n      <td>0.69</td>\n      <td>0.69</td>\n      <td>1.0</td>\n      <td>0.0</td>\n    </tr>\n    <tr>\n      <th>353181</th>\n      <td>29-12-2018</td>\n      <td>11:20:57</td>\n      <td>20599.0</td>\n      <td>13185251.0</td>\n      <td>vegetable</td>\n      <td>v_14</td>\n      <td>Biologische knoflook</td>\n      <td>100g</td>\n      <td>0.69</td>\n      <td>0.69</td>\n      <td>1.0</td>\n      <td>0.0</td>\n    </tr>\n    <tr>\n      <th>353411</th>\n      <td>29-12-2018</td>\n      <td>13:54:53</td>\n      <td>20612.0</td>\n      <td>62257065.0</td>\n      <td>vegetable</td>\n      <td>v_14</td>\n      <td>Biologische knoflook</td>\n      <td>100g</td>\n      <td>0.69</td>\n      <td>0.69</td>\n      <td>1.0</td>\n      <td>0.0</td>\n    </tr>\n    <tr>\n      <th>353940</th>\n      <td>30-12-2018</td>\n      <td>9:14:20</td>\n      <td>20641.0</td>\n      <td>423613.0</td>\n      <td>vegetable</td>\n      <td>v_14</td>\n      <td>Biologische knoflook</td>\n      <td>100g</td>\n      <td>0.69</td>\n      <td>0.69</td>\n      <td>1.0</td>\n      <td>0.0</td>\n    </tr>\n    <tr>\n      <th>354381</th>\n      <td>30-12-2018</td>\n      <td>15:47:54</td>\n      <td>20663.0</td>\n      <td>87022141.0</td>\n      <td>vegetable</td>\n      <td>v_14</td>\n      <td>Biologische knoflook</td>\n      <td>100g</td>\n      <td>0.69</td>\n      <td>0.69</td>\n      <td>1.0</td>\n      <td>0.0</td>\n    </tr>\n  </tbody>\n</table>\n<p>1422 rows × 12 columns</p>\n</div>"
     },
     "metadata": {},
     "execution_count": 12
    }
   ],
   "source": [
    "product = 'Biologische knoflook' #select the product to analyze\n",
    "transactions[transactions[\"description\"] == product] #transactions for that product"
   ]
  },
  {
   "cell_type": "code",
   "execution_count": 13,
   "metadata": {},
   "outputs": [],
   "source": [
    "def date_converter(row):\n",
    "    converted_date = datetime.datetime(2018, 1, 1) + datetime.timedelta(row[\"day\"])\n",
    "    return converted_date\n",
    "\n",
    "inventory[\"date\"] = inventory.apply(date_converter, axis = 1) #convert day of year to actual timestamp"
   ]
  },
  {
   "cell_type": "code",
   "execution_count": 14,
   "metadata": {},
   "outputs": [],
   "source": [
    "def week_of_year(row):\n",
    "    week_nr = datetime.date(row[\"date\"].year, row[\"date\"].month, row[\"date\"].day).isocalendar()[1]\n",
    "    return week_nr\n",
    "\n",
    "inventory[\"week\"] = inventory.apply(week_of_year, axis = 1)\n",
    "#add nr week of year as an extra column to inventory"
   ]
  },
  {
   "cell_type": "code",
   "execution_count": 15,
   "metadata": {},
   "outputs": [
    {
     "output_type": "stream",
     "name": "stderr",
     "text": [
      "/Users/teddy/.conda/envs/Pycharm_Files/lib/python3.7/site-packages/ipykernel_launcher.py:13: SettingWithCopyWarning: \nA value is trying to be set on a copy of a slice from a DataFrame.\nTry using .loc[row_indexer,col_indexer] = value instead\n\nSee the caveats in the documentation: https://pandas.pydata.org/pandas-docs/stable/user_guide/indexing.html#returning-a-view-versus-a-copy\n  del sys.path[0]\n"
     ]
    }
   ],
   "source": [
    "#only keep relevant columns in inventory\n",
    "filter_inventory = inventory[[\"day\", \"before or after delivery\", \"date\", \"week\", product]]\n",
    "#filters promotion table to only contain discounts for chosen product\n",
    "promotions_filter = promotions[promotions[\"description\"] == product]\n",
    "\n",
    "def check_discount(row):\n",
    "    if row[\"week\"] in promotions_filter[\"week\"].values:\n",
    "        discount_amount = promotions_filter[promotions_filter[\"week\"] == row[\"week\"]][\"discount\"]\n",
    "        return discount_amount.values[0]\n",
    "    else:\n",
    "        return 0\n",
    "#adds extra column to filter inventory containing discount amount\n",
    "filter_inventory[\"discount\"] = filter_inventory.apply(check_discount, axis = 1)\n"
   ]
  },
  {
   "cell_type": "code",
   "execution_count": 16,
   "metadata": {},
   "outputs": [
    {
     "output_type": "stream",
     "name": "stderr",
     "text": [
      "/Users/teddy/.conda/envs/Pycharm_Files/lib/python3.7/site-packages/ipykernel_launcher.py:8: SettingWithCopyWarning: \nA value is trying to be set on a copy of a slice from a DataFrame.\nTry using .loc[row_indexer,col_indexer] = value instead\n\nSee the caveats in the documentation: https://pandas.pydata.org/pandas-docs/stable/user_guide/indexing.html#returning-a-view-versus-a-copy\n  \n"
     ]
    }
   ],
   "source": [
    "def total_inv(row):\n",
    "    total = 0\n",
    "    if len(row[product]) > 0:\n",
    "        for batch in row[product]:\n",
    "            total += batch[1]\n",
    "    return total\n",
    "#adds total nr items in inventory for the filtered dataframe\n",
    "filter_inventory[\"total inventory\"] = filter_inventory.apply(total_inv, axis = 1)"
   ]
  },
  {
   "cell_type": "code",
   "execution_count": 17,
   "metadata": {},
   "outputs": [
    {
     "output_type": "execute_result",
     "data": {
      "text/plain": [
       "array([ 14,  17,  21,  24,  28,  31,  35,  38,  42,  45,  49,  52,  56,\n",
       "        59,  63,  66,  70,  73,  77,  80,  84,  87,  91,  94,  98, 101,\n",
       "       105, 108, 112, 115, 119, 122, 126, 129, 133, 136, 140, 143, 147,\n",
       "       150, 154, 157, 161, 164, 168, 171, 175, 178, 182, 185, 189, 192,\n",
       "       196, 199, 203, 206, 210, 213, 217, 220, 224, 227, 231, 234, 238,\n",
       "       241, 245, 248, 252, 255, 259, 262, 266, 269, 273, 276, 280, 283,\n",
       "       287, 290, 294, 297, 301, 304, 308, 311, 315, 318, 322, 325, 329,\n",
       "       332, 336, 339, 343, 346, 350, 353, 357, 360, 364, 367, 371, 374])"
      ]
     },
     "metadata": {},
     "execution_count": 17
    }
   ],
   "source": [
    "best_before = []\n",
    "for element_list in filter_inventory[product]:\n",
    "    for batch in element_list:\n",
    "        best_before.append(batch[0])\n",
    "bb_dates = np.unique(best_before)\n",
    "#list of each unique best before dates\n",
    "bb_dates"
   ]
  },
  {
   "cell_type": "code",
   "execution_count": 18,
   "metadata": {},
   "outputs": [
    {
     "output_type": "execute_result",
     "data": {
      "text/plain": [
       "     best before\n",
       "0             14\n",
       "1             17\n",
       "2             21\n",
       "3             24\n",
       "4             28\n",
       "..           ...\n",
       "99           360\n",
       "100          364\n",
       "101          367\n",
       "102          371\n",
       "103          374\n",
       "\n",
       "[104 rows x 1 columns]"
      ],
      "text/html": "<div>\n<style scoped>\n    .dataframe tbody tr th:only-of-type {\n        vertical-align: middle;\n    }\n\n    .dataframe tbody tr th {\n        vertical-align: top;\n    }\n\n    .dataframe thead th {\n        text-align: right;\n    }\n</style>\n<table border=\"1\" class=\"dataframe\">\n  <thead>\n    <tr style=\"text-align: right;\">\n      <th></th>\n      <th>best before</th>\n    </tr>\n  </thead>\n  <tbody>\n    <tr>\n      <th>0</th>\n      <td>14</td>\n    </tr>\n    <tr>\n      <th>1</th>\n      <td>17</td>\n    </tr>\n    <tr>\n      <th>2</th>\n      <td>21</td>\n    </tr>\n    <tr>\n      <th>3</th>\n      <td>24</td>\n    </tr>\n    <tr>\n      <th>4</th>\n      <td>28</td>\n    </tr>\n    <tr>\n      <th>...</th>\n      <td>...</td>\n    </tr>\n    <tr>\n      <th>99</th>\n      <td>360</td>\n    </tr>\n    <tr>\n      <th>100</th>\n      <td>364</td>\n    </tr>\n    <tr>\n      <th>101</th>\n      <td>367</td>\n    </tr>\n    <tr>\n      <th>102</th>\n      <td>371</td>\n    </tr>\n    <tr>\n      <th>103</th>\n      <td>374</td>\n    </tr>\n  </tbody>\n</table>\n<p>104 rows × 1 columns</p>\n</div>"
     },
     "metadata": {},
     "execution_count": 18
    }
   ],
   "source": [
    "df_waste = pd.DataFrame({\"best before\":bb_dates})\n",
    "df_waste #build initial df with points where waste can occur"
   ]
  },
  {
   "cell_type": "code",
   "execution_count": 19,
   "metadata": {},
   "outputs": [
    {
     "output_type": "execute_result",
     "data": {
      "text/plain": [
       "     best before  amount\n",
       "0             14      30\n",
       "1             17      30\n",
       "2             21      25\n",
       "3             24      25\n",
       "4             28      25\n",
       "..           ...     ...\n",
       "99           360      25\n",
       "100          364      25\n",
       "101          367      25\n",
       "102          371      25\n",
       "103          374      25\n",
       "\n",
       "[104 rows x 2 columns]"
      ],
      "text/html": "<div>\n<style scoped>\n    .dataframe tbody tr th:only-of-type {\n        vertical-align: middle;\n    }\n\n    .dataframe tbody tr th {\n        vertical-align: top;\n    }\n\n    .dataframe thead th {\n        text-align: right;\n    }\n</style>\n<table border=\"1\" class=\"dataframe\">\n  <thead>\n    <tr style=\"text-align: right;\">\n      <th></th>\n      <th>best before</th>\n      <th>amount</th>\n    </tr>\n  </thead>\n  <tbody>\n    <tr>\n      <th>0</th>\n      <td>14</td>\n      <td>30</td>\n    </tr>\n    <tr>\n      <th>1</th>\n      <td>17</td>\n      <td>30</td>\n    </tr>\n    <tr>\n      <th>2</th>\n      <td>21</td>\n      <td>25</td>\n    </tr>\n    <tr>\n      <th>3</th>\n      <td>24</td>\n      <td>25</td>\n    </tr>\n    <tr>\n      <th>4</th>\n      <td>28</td>\n      <td>25</td>\n    </tr>\n    <tr>\n      <th>...</th>\n      <td>...</td>\n      <td>...</td>\n    </tr>\n    <tr>\n      <th>99</th>\n      <td>360</td>\n      <td>25</td>\n    </tr>\n    <tr>\n      <th>100</th>\n      <td>364</td>\n      <td>25</td>\n    </tr>\n    <tr>\n      <th>101</th>\n      <td>367</td>\n      <td>25</td>\n    </tr>\n    <tr>\n      <th>102</th>\n      <td>371</td>\n      <td>25</td>\n    </tr>\n    <tr>\n      <th>103</th>\n      <td>374</td>\n      <td>25</td>\n    </tr>\n  </tbody>\n</table>\n<p>104 rows × 2 columns</p>\n</div>"
     },
     "metadata": {},
     "execution_count": 19
    }
   ],
   "source": [
    "def input_inv(row):\n",
    "    for element_list in filter_inventory[product]:\n",
    "        if len(element_list) > 0:\n",
    "            for batch in element_list:\n",
    "                if batch[0] == row[\"best before\"]:\n",
    "                    return batch[1]\n",
    "\n",
    "df_waste[\"amount\"] = df_waste.apply(input_inv, axis = 1)\n",
    "df_waste #amount that was received with particular expiry date"
   ]
  },
  {
   "cell_type": "code",
   "execution_count": 20,
   "metadata": {},
   "outputs": [
    {
     "output_type": "execute_result",
     "data": {
      "text/plain": [
       "     best before  amount\n",
       "0             14      30\n",
       "1             17      30\n",
       "2             21      25\n",
       "3             24      25\n",
       "4             28      25\n",
       "..           ...     ...\n",
       "96           350      25\n",
       "97           353      25\n",
       "98           357      25\n",
       "99           360      25\n",
       "100          364      25\n",
       "\n",
       "[101 rows x 2 columns]"
      ],
      "text/html": "<div>\n<style scoped>\n    .dataframe tbody tr th:only-of-type {\n        vertical-align: middle;\n    }\n\n    .dataframe tbody tr th {\n        vertical-align: top;\n    }\n\n    .dataframe thead th {\n        text-align: right;\n    }\n</style>\n<table border=\"1\" class=\"dataframe\">\n  <thead>\n    <tr style=\"text-align: right;\">\n      <th></th>\n      <th>best before</th>\n      <th>amount</th>\n    </tr>\n  </thead>\n  <tbody>\n    <tr>\n      <th>0</th>\n      <td>14</td>\n      <td>30</td>\n    </tr>\n    <tr>\n      <th>1</th>\n      <td>17</td>\n      <td>30</td>\n    </tr>\n    <tr>\n      <th>2</th>\n      <td>21</td>\n      <td>25</td>\n    </tr>\n    <tr>\n      <th>3</th>\n      <td>24</td>\n      <td>25</td>\n    </tr>\n    <tr>\n      <th>4</th>\n      <td>28</td>\n      <td>25</td>\n    </tr>\n    <tr>\n      <th>...</th>\n      <td>...</td>\n      <td>...</td>\n    </tr>\n    <tr>\n      <th>96</th>\n      <td>350</td>\n      <td>25</td>\n    </tr>\n    <tr>\n      <th>97</th>\n      <td>353</td>\n      <td>25</td>\n    </tr>\n    <tr>\n      <th>98</th>\n      <td>357</td>\n      <td>25</td>\n    </tr>\n    <tr>\n      <th>99</th>\n      <td>360</td>\n      <td>25</td>\n    </tr>\n    <tr>\n      <th>100</th>\n      <td>364</td>\n      <td>25</td>\n    </tr>\n  </tbody>\n</table>\n<p>101 rows × 2 columns</p>\n</div>"
     },
     "metadata": {},
     "execution_count": 20
    }
   ],
   "source": [
    "df_waste = df_waste[df_waste[\"best before\"] < 365] #only keep rows where expiry date is in same year\n",
    "df_waste"
   ]
  },
  {
   "cell_type": "code",
   "execution_count": 21,
   "metadata": {},
   "outputs": [
    {
     "output_type": "execute_result",
     "data": {
      "text/plain": [
       "             day      time  customer  bank acount   category product_id  \\\n",
       "370   2018-01-01  13:52:41      23.0   53801240.0  vegetable       v_14   \n",
       "504   2018-01-01  14:41:10      28.0   29159112.0  vegetable       v_14   \n",
       "631   2018-01-01  16:13:24      37.0   77943433.0  vegetable       v_14   \n",
       "644   2018-01-01  16:13:24      37.0   77943433.0  vegetable       v_14   \n",
       "869   2018-01-01  18:41:40      48.0          NaN  vegetable       v_14   \n",
       "1050  2018-01-01  19:59:10      58.0   53245671.0  vegetable       v_14   \n",
       "55935 2018-01-03   9:22:31    3326.0   32342952.0  vegetable       v_14   \n",
       "55943 2018-01-03   9:22:31    3326.0   32342952.0  vegetable       v_14   \n",
       "56088 2018-01-03  11:30:50    3333.0   73458689.0  vegetable       v_14   \n",
       "56303 2018-01-03  14:02:46    3348.0   33780213.0  vegetable       v_14   \n",
       "56624 2018-01-03  18:38:07    3371.0   33780213.0  vegetable       v_14   \n",
       "56630 2018-01-03  18:38:07    3371.0   33780213.0  vegetable       v_14   \n",
       "\n",
       "                description  size  std_sales_price  purchase_price  bio  basic  \n",
       "370    Biologische knoflook  100g             0.69            0.48  1.0    0.0  \n",
       "504    Biologische knoflook  100g             0.69            0.48  1.0    0.0  \n",
       "631    Biologische knoflook  100g             0.69            0.48  1.0    0.0  \n",
       "644    Biologische knoflook  100g             0.69            0.48  1.0    0.0  \n",
       "869    Biologische knoflook  100g             0.69            0.48  1.0    0.0  \n",
       "1050   Biologische knoflook  100g             0.69            0.48  1.0    0.0  \n",
       "55935  Biologische knoflook  100g             0.69            0.69  1.0    0.0  \n",
       "55943  Biologische knoflook  100g             0.69            0.69  1.0    0.0  \n",
       "56088  Biologische knoflook  100g             0.69            0.69  1.0    0.0  \n",
       "56303  Biologische knoflook  100g             0.69            0.69  1.0    0.0  \n",
       "56624  Biologische knoflook  100g             0.69            0.69  1.0    0.0  \n",
       "56630  Biologische knoflook  100g             0.69            0.69  1.0    0.0  "
      ],
      "text/html": "<div>\n<style scoped>\n    .dataframe tbody tr th:only-of-type {\n        vertical-align: middle;\n    }\n\n    .dataframe tbody tr th {\n        vertical-align: top;\n    }\n\n    .dataframe thead th {\n        text-align: right;\n    }\n</style>\n<table border=\"1\" class=\"dataframe\">\n  <thead>\n    <tr style=\"text-align: right;\">\n      <th></th>\n      <th>day</th>\n      <th>time</th>\n      <th>customer</th>\n      <th>bank acount</th>\n      <th>category</th>\n      <th>product_id</th>\n      <th>description</th>\n      <th>size</th>\n      <th>std_sales_price</th>\n      <th>purchase_price</th>\n      <th>bio</th>\n      <th>basic</th>\n    </tr>\n  </thead>\n  <tbody>\n    <tr>\n      <th>370</th>\n      <td>2018-01-01</td>\n      <td>13:52:41</td>\n      <td>23.0</td>\n      <td>53801240.0</td>\n      <td>vegetable</td>\n      <td>v_14</td>\n      <td>Biologische knoflook</td>\n      <td>100g</td>\n      <td>0.69</td>\n      <td>0.48</td>\n      <td>1.0</td>\n      <td>0.0</td>\n    </tr>\n    <tr>\n      <th>504</th>\n      <td>2018-01-01</td>\n      <td>14:41:10</td>\n      <td>28.0</td>\n      <td>29159112.0</td>\n      <td>vegetable</td>\n      <td>v_14</td>\n      <td>Biologische knoflook</td>\n      <td>100g</td>\n      <td>0.69</td>\n      <td>0.48</td>\n      <td>1.0</td>\n      <td>0.0</td>\n    </tr>\n    <tr>\n      <th>631</th>\n      <td>2018-01-01</td>\n      <td>16:13:24</td>\n      <td>37.0</td>\n      <td>77943433.0</td>\n      <td>vegetable</td>\n      <td>v_14</td>\n      <td>Biologische knoflook</td>\n      <td>100g</td>\n      <td>0.69</td>\n      <td>0.48</td>\n      <td>1.0</td>\n      <td>0.0</td>\n    </tr>\n    <tr>\n      <th>644</th>\n      <td>2018-01-01</td>\n      <td>16:13:24</td>\n      <td>37.0</td>\n      <td>77943433.0</td>\n      <td>vegetable</td>\n      <td>v_14</td>\n      <td>Biologische knoflook</td>\n      <td>100g</td>\n      <td>0.69</td>\n      <td>0.48</td>\n      <td>1.0</td>\n      <td>0.0</td>\n    </tr>\n    <tr>\n      <th>869</th>\n      <td>2018-01-01</td>\n      <td>18:41:40</td>\n      <td>48.0</td>\n      <td>NaN</td>\n      <td>vegetable</td>\n      <td>v_14</td>\n      <td>Biologische knoflook</td>\n      <td>100g</td>\n      <td>0.69</td>\n      <td>0.48</td>\n      <td>1.0</td>\n      <td>0.0</td>\n    </tr>\n    <tr>\n      <th>1050</th>\n      <td>2018-01-01</td>\n      <td>19:59:10</td>\n      <td>58.0</td>\n      <td>53245671.0</td>\n      <td>vegetable</td>\n      <td>v_14</td>\n      <td>Biologische knoflook</td>\n      <td>100g</td>\n      <td>0.69</td>\n      <td>0.48</td>\n      <td>1.0</td>\n      <td>0.0</td>\n    </tr>\n    <tr>\n      <th>55935</th>\n      <td>2018-01-03</td>\n      <td>9:22:31</td>\n      <td>3326.0</td>\n      <td>32342952.0</td>\n      <td>vegetable</td>\n      <td>v_14</td>\n      <td>Biologische knoflook</td>\n      <td>100g</td>\n      <td>0.69</td>\n      <td>0.69</td>\n      <td>1.0</td>\n      <td>0.0</td>\n    </tr>\n    <tr>\n      <th>55943</th>\n      <td>2018-01-03</td>\n      <td>9:22:31</td>\n      <td>3326.0</td>\n      <td>32342952.0</td>\n      <td>vegetable</td>\n      <td>v_14</td>\n      <td>Biologische knoflook</td>\n      <td>100g</td>\n      <td>0.69</td>\n      <td>0.69</td>\n      <td>1.0</td>\n      <td>0.0</td>\n    </tr>\n    <tr>\n      <th>56088</th>\n      <td>2018-01-03</td>\n      <td>11:30:50</td>\n      <td>3333.0</td>\n      <td>73458689.0</td>\n      <td>vegetable</td>\n      <td>v_14</td>\n      <td>Biologische knoflook</td>\n      <td>100g</td>\n      <td>0.69</td>\n      <td>0.69</td>\n      <td>1.0</td>\n      <td>0.0</td>\n    </tr>\n    <tr>\n      <th>56303</th>\n      <td>2018-01-03</td>\n      <td>14:02:46</td>\n      <td>3348.0</td>\n      <td>33780213.0</td>\n      <td>vegetable</td>\n      <td>v_14</td>\n      <td>Biologische knoflook</td>\n      <td>100g</td>\n      <td>0.69</td>\n      <td>0.69</td>\n      <td>1.0</td>\n      <td>0.0</td>\n    </tr>\n    <tr>\n      <th>56624</th>\n      <td>2018-01-03</td>\n      <td>18:38:07</td>\n      <td>3371.0</td>\n      <td>33780213.0</td>\n      <td>vegetable</td>\n      <td>v_14</td>\n      <td>Biologische knoflook</td>\n      <td>100g</td>\n      <td>0.69</td>\n      <td>0.69</td>\n      <td>1.0</td>\n      <td>0.0</td>\n    </tr>\n    <tr>\n      <th>56630</th>\n      <td>2018-01-03</td>\n      <td>18:38:07</td>\n      <td>3371.0</td>\n      <td>33780213.0</td>\n      <td>vegetable</td>\n      <td>v_14</td>\n      <td>Biologische knoflook</td>\n      <td>100g</td>\n      <td>0.69</td>\n      <td>0.69</td>\n      <td>1.0</td>\n      <td>0.0</td>\n    </tr>\n  </tbody>\n</table>\n</div>"
     },
     "metadata": {},
     "execution_count": 21
    }
   ],
   "source": [
    "transactions[\"day\"] = pd.to_datetime(transactions[\"day\"])\n",
    "filter_transactions = transactions[transactions[\"description\"] == product]\n",
    "#converts date then filters transactions to contain selected product purchases\n",
    "\n",
    "first_restock = df_date[df_date[\"day\"] == 3][\"date\"].values[0]\n",
    "#first_restock check purchases mde before the first restock\n",
    "filter_transactions[filter_transactions[\"day\"] < first_restock]\n",
    "#PROBLEM: IF A PRODUCT HASN'T BEEN BOUGHT IN ONE DAY IT HAS A ZERO, CAUSES AN ERROR FEW CELLS "
   ]
  },
  {
   "cell_type": "code",
   "execution_count": 22,
   "metadata": {},
   "outputs": [
    {
     "output_type": "execute_result",
     "data": {
      "text/plain": [
       "day\n",
       "0.142857     6\n",
       "0.428571     6\n",
       "0.571429     1\n",
       "0.714286     6\n",
       "0.857143     5\n",
       "            ..\n",
       "51.428571    7\n",
       "51.571429    1\n",
       "51.714286    4\n",
       "51.857143    2\n",
       "52.000000    2\n",
       "Name: product_id, Length: 348, dtype: int64"
      ]
     },
     "metadata": {},
     "execution_count": 22
    }
   ],
   "source": [
    "#cumulative sum of purchases from that product\n",
    "purchases_per_day = filter_transactions.groupby(\"day\").count()[\"product_id\"].cumsum()\n",
    "#purchases made per day from that product\n",
    "purchases_per_day_plotting = filter_transactions.groupby(\"day\").count()[\"product_id\"]\n",
    "#idk know what is this\n",
    "purchases_per_day_plotting.index = purchases_per_day_plotting.index.dayofyear/7\n",
    "purchases_per_day_plotting"
   ]
  },
  {
   "cell_type": "code",
   "execution_count": 23,
   "metadata": {},
   "outputs": [],
   "source": [
    "purchases_per_day.index[0].year\n",
    "weeknr = []\n",
    "for ind in purchases_per_day.index:\n",
    "    week = datetime.date(ind.year, ind.month, ind.day).isocalendar()[1]\n",
    "    weeknr.append(week)\n",
    "#week number for each purchase day\n"
   ]
  },
  {
   "cell_type": "code",
   "execution_count": 24,
   "metadata": {},
   "outputs": [
    {
     "output_type": "stream",
     "name": "stderr",
     "text": [
      "/Users/teddy/.conda/envs/Pycharm_Files/lib/python3.7/site-packages/pandas/core/frame.py:3997: SettingWithCopyWarning: \nA value is trying to be set on a copy of a slice from a DataFrame\n\nSee the caveats in the documentation: https://pandas.pydata.org/pandas-docs/stable/user_guide/indexing.html#returning-a-view-versus-a-copy\n  errors=errors,\n"
     ]
    },
    {
     "output_type": "execute_result",
     "data": {
      "text/plain": [
       "    best before  amount\n",
       "0            14      30\n",
       "1            17      30\n",
       "2            21      25\n",
       "3            24      25\n",
       "4            28      25\n",
       "..          ...     ...\n",
       "87          318      25\n",
       "88          322      25\n",
       "89          325      25\n",
       "90          329      25\n",
       "91          332      25\n",
       "\n",
       "[92 rows x 2 columns]"
      ],
      "text/html": "<div>\n<style scoped>\n    .dataframe tbody tr th:only-of-type {\n        vertical-align: middle;\n    }\n\n    .dataframe tbody tr th {\n        vertical-align: top;\n    }\n\n    .dataframe thead th {\n        text-align: right;\n    }\n</style>\n<table border=\"1\" class=\"dataframe\">\n  <thead>\n    <tr style=\"text-align: right;\">\n      <th></th>\n      <th>best before</th>\n      <th>amount</th>\n    </tr>\n  </thead>\n  <tbody>\n    <tr>\n      <th>0</th>\n      <td>14</td>\n      <td>30</td>\n    </tr>\n    <tr>\n      <th>1</th>\n      <td>17</td>\n      <td>30</td>\n    </tr>\n    <tr>\n      <th>2</th>\n      <td>21</td>\n      <td>25</td>\n    </tr>\n    <tr>\n      <th>3</th>\n      <td>24</td>\n      <td>25</td>\n    </tr>\n    <tr>\n      <th>4</th>\n      <td>28</td>\n      <td>25</td>\n    </tr>\n    <tr>\n      <th>...</th>\n      <td>...</td>\n      <td>...</td>\n    </tr>\n    <tr>\n      <th>87</th>\n      <td>318</td>\n      <td>25</td>\n    </tr>\n    <tr>\n      <th>88</th>\n      <td>322</td>\n      <td>25</td>\n    </tr>\n    <tr>\n      <th>89</th>\n      <td>325</td>\n      <td>25</td>\n    </tr>\n    <tr>\n      <th>90</th>\n      <td>329</td>\n      <td>25</td>\n    </tr>\n    <tr>\n      <th>91</th>\n      <td>332</td>\n      <td>25</td>\n    </tr>\n  </tbody>\n</table>\n<p>92 rows × 2 columns</p>\n</div>"
     },
     "metadata": {},
     "execution_count": 24
    }
   ],
   "source": [
    "df_waste.drop(index=df_waste.tail(9).index, inplace=True)\n",
    "#drop the last rows not to cause index issues\n",
    "#STILL NEED TO BE FIXED\n",
    "df_waste"
   ]
  },
  {
   "cell_type": "code",
   "execution_count": 25,
   "metadata": {},
   "outputs": [
    {
     "output_type": "stream",
     "name": "stderr",
     "text": [
      "/Users/teddy/.conda/envs/Pycharm_Files/lib/python3.7/site-packages/ipykernel_launcher.py:1: SettingWithCopyWarning: \nA value is trying to be set on a copy of a slice from a DataFrame.\nTry using .loc[row_indexer,col_indexer] = value instead\n\nSee the caveats in the documentation: https://pandas.pydata.org/pandas-docs/stable/user_guide/indexing.html#returning-a-view-versus-a-copy\n  \"\"\"Entry point for launching an IPython kernel.\n"
     ]
    },
    {
     "output_type": "execute_result",
     "data": {
      "text/plain": [
       "    best before  amount  purchases\n",
       "0            14      30         70\n",
       "1            17      30         79\n",
       "2            21      25         90\n",
       "3            24      25        102\n",
       "4            28      25        121\n",
       "..          ...     ...        ...\n",
       "87          318      25       1307\n",
       "88          322      25       1324\n",
       "89          325      25       1330\n",
       "90          329      25       1350\n",
       "91          332      25       1363\n",
       "\n",
       "[92 rows x 3 columns]"
      ],
      "text/html": "<div>\n<style scoped>\n    .dataframe tbody tr th:only-of-type {\n        vertical-align: middle;\n    }\n\n    .dataframe tbody tr th {\n        vertical-align: top;\n    }\n\n    .dataframe thead th {\n        text-align: right;\n    }\n</style>\n<table border=\"1\" class=\"dataframe\">\n  <thead>\n    <tr style=\"text-align: right;\">\n      <th></th>\n      <th>best before</th>\n      <th>amount</th>\n      <th>purchases</th>\n    </tr>\n  </thead>\n  <tbody>\n    <tr>\n      <th>0</th>\n      <td>14</td>\n      <td>30</td>\n      <td>70</td>\n    </tr>\n    <tr>\n      <th>1</th>\n      <td>17</td>\n      <td>30</td>\n      <td>79</td>\n    </tr>\n    <tr>\n      <th>2</th>\n      <td>21</td>\n      <td>25</td>\n      <td>90</td>\n    </tr>\n    <tr>\n      <th>3</th>\n      <td>24</td>\n      <td>25</td>\n      <td>102</td>\n    </tr>\n    <tr>\n      <th>4</th>\n      <td>28</td>\n      <td>25</td>\n      <td>121</td>\n    </tr>\n    <tr>\n      <th>...</th>\n      <td>...</td>\n      <td>...</td>\n      <td>...</td>\n    </tr>\n    <tr>\n      <th>87</th>\n      <td>318</td>\n      <td>25</td>\n      <td>1307</td>\n    </tr>\n    <tr>\n      <th>88</th>\n      <td>322</td>\n      <td>25</td>\n      <td>1324</td>\n    </tr>\n    <tr>\n      <th>89</th>\n      <td>325</td>\n      <td>25</td>\n      <td>1330</td>\n    </tr>\n    <tr>\n      <th>90</th>\n      <td>329</td>\n      <td>25</td>\n      <td>1350</td>\n    </tr>\n    <tr>\n      <th>91</th>\n      <td>332</td>\n      <td>25</td>\n      <td>1363</td>\n    </tr>\n  </tbody>\n</table>\n<p>92 rows × 3 columns</p>\n</div>"
     },
     "metadata": {},
     "execution_count": 25
    }
   ],
   "source": [
    "df_waste[\"purchases\"] = [purchases_per_day[i-1] for i in df_waste[\"best before\"]]\n",
    "#add cumulative sum of purchases up until that day (based on expiry dates)\n",
    "df_waste"
   ]
  },
  {
   "cell_type": "code",
   "execution_count": 26,
   "metadata": {},
   "outputs": [
    {
     "output_type": "stream",
     "name": "stderr",
     "text": [
      "/Users/teddy/.conda/envs/Pycharm_Files/lib/python3.7/site-packages/ipykernel_launcher.py:1: SettingWithCopyWarning: \nA value is trying to be set on a copy of a slice from a DataFrame.\nTry using .loc[row_indexer,col_indexer] = value instead\n\nSee the caveats in the documentation: https://pandas.pydata.org/pandas-docs/stable/user_guide/indexing.html#returning-a-view-versus-a-copy\n  \"\"\"Entry point for launching an IPython kernel.\n"
     ]
    },
    {
     "output_type": "execute_result",
     "data": {
      "text/plain": [
       "    best before  amount  purchases  prev purchases\n",
       "0            14      30         70             NaN\n",
       "1            17      30         79             9.0\n",
       "2            21      25         90            11.0\n",
       "3            24      25        102            12.0\n",
       "4            28      25        121            19.0\n",
       "..          ...     ...        ...             ...\n",
       "87          318      25       1307            10.0\n",
       "88          322      25       1324            17.0\n",
       "89          325      25       1330             6.0\n",
       "90          329      25       1350            20.0\n",
       "91          332      25       1363            13.0\n",
       "\n",
       "[92 rows x 4 columns]"
      ],
      "text/html": "<div>\n<style scoped>\n    .dataframe tbody tr th:only-of-type {\n        vertical-align: middle;\n    }\n\n    .dataframe tbody tr th {\n        vertical-align: top;\n    }\n\n    .dataframe thead th {\n        text-align: right;\n    }\n</style>\n<table border=\"1\" class=\"dataframe\">\n  <thead>\n    <tr style=\"text-align: right;\">\n      <th></th>\n      <th>best before</th>\n      <th>amount</th>\n      <th>purchases</th>\n      <th>prev purchases</th>\n    </tr>\n  </thead>\n  <tbody>\n    <tr>\n      <th>0</th>\n      <td>14</td>\n      <td>30</td>\n      <td>70</td>\n      <td>NaN</td>\n    </tr>\n    <tr>\n      <th>1</th>\n      <td>17</td>\n      <td>30</td>\n      <td>79</td>\n      <td>9.0</td>\n    </tr>\n    <tr>\n      <th>2</th>\n      <td>21</td>\n      <td>25</td>\n      <td>90</td>\n      <td>11.0</td>\n    </tr>\n    <tr>\n      <th>3</th>\n      <td>24</td>\n      <td>25</td>\n      <td>102</td>\n      <td>12.0</td>\n    </tr>\n    <tr>\n      <th>4</th>\n      <td>28</td>\n      <td>25</td>\n      <td>121</td>\n      <td>19.0</td>\n    </tr>\n    <tr>\n      <th>...</th>\n      <td>...</td>\n      <td>...</td>\n      <td>...</td>\n      <td>...</td>\n    </tr>\n    <tr>\n      <th>87</th>\n      <td>318</td>\n      <td>25</td>\n      <td>1307</td>\n      <td>10.0</td>\n    </tr>\n    <tr>\n      <th>88</th>\n      <td>322</td>\n      <td>25</td>\n      <td>1324</td>\n      <td>17.0</td>\n    </tr>\n    <tr>\n      <th>89</th>\n      <td>325</td>\n      <td>25</td>\n      <td>1330</td>\n      <td>6.0</td>\n    </tr>\n    <tr>\n      <th>90</th>\n      <td>329</td>\n      <td>25</td>\n      <td>1350</td>\n      <td>20.0</td>\n    </tr>\n    <tr>\n      <th>91</th>\n      <td>332</td>\n      <td>25</td>\n      <td>1363</td>\n      <td>13.0</td>\n    </tr>\n  </tbody>\n</table>\n<p>92 rows × 4 columns</p>\n</div>"
     },
     "metadata": {},
     "execution_count": 26
    }
   ],
   "source": [
    "df_waste[\"prev purchases\"] = df_waste[\"purchases\"].diff()\n",
    "df_waste #difference in purchases since a previous batch of product expired"
   ]
  },
  {
   "cell_type": "code",
   "execution_count": 30,
   "metadata": {},
   "outputs": [
    {
     "output_type": "stream",
     "name": "stdout",
     "text": [
      "0\n",
      "107\n",
      "8\n",
      "260\n",
      "18\n",
      "388\n",
      "26\n",
      "701\n",
      "47\n",
      "/Users/teddy/.conda/envs/Pycharm_Files/lib/python3.7/site-packages/ipykernel_launcher.py:4: SettingWithCopyWarning: \n",
      "A value is trying to be set on a copy of a slice from a DataFrame.\n",
      "Try using .loc[row_indexer,col_indexer] = value instead\n",
      "\n",
      "See the caveats in the documentation: https://pandas.pydata.org/pandas-docs/stable/user_guide/indexing.html#returning-a-view-versus-a-copy\n",
      "  after removing the cwd from sys.path.\n",
      "/Users/teddy/.conda/envs/Pycharm_Files/lib/python3.7/site-packages/pandas/core/indexing.py:671: SettingWithCopyWarning: \n",
      "A value is trying to be set on a copy of a slice from a DataFrame\n",
      "\n",
      "See the caveats in the documentation: https://pandas.pydata.org/pandas-docs/stable/user_guide/indexing.html#returning-a-view-versus-a-copy\n",
      "  self._setitem_with_indexer(indexer, value)\n",
      "/Users/teddy/.conda/envs/Pycharm_Files/lib/python3.7/site-packages/ipykernel_launcher.py:6: SettingWithCopyWarning: \n",
      "A value is trying to be set on a copy of a slice from a DataFrame\n",
      "\n",
      "See the caveats in the documentation: https://pandas.pydata.org/pandas-docs/stable/user_guide/indexing.html#returning-a-view-versus-a-copy\n",
      "  \n",
      "/Users/teddy/.conda/envs/Pycharm_Files/lib/python3.7/site-packages/ipykernel_launcher.py:24: SettingWithCopyWarning: \n",
      "A value is trying to be set on a copy of a slice from a DataFrame.\n",
      "Try using .loc[row_indexer,col_indexer] = value instead\n",
      "\n",
      "See the caveats in the documentation: https://pandas.pydata.org/pandas-docs/stable/user_guide/indexing.html#returning-a-view-versus-a-copy\n",
      "/Users/teddy/.conda/envs/Pycharm_Files/lib/python3.7/site-packages/ipykernel_launcher.py:29: SettingWithCopyWarning: \n",
      "A value is trying to be set on a copy of a slice from a DataFrame.\n",
      "Try using .loc[row_indexer,col_indexer] = value instead\n",
      "\n",
      "See the caveats in the documentation: https://pandas.pydata.org/pandas-docs/stable/user_guide/indexing.html#returning-a-view-versus-a-copy\n",
      "/Users/teddy/.conda/envs/Pycharm_Files/lib/python3.7/site-packages/ipykernel_launcher.py:30: SettingWithCopyWarning: \n",
      "A value is trying to be set on a copy of a slice from a DataFrame.\n",
      "Try using .loc[row_indexer,col_indexer] = value instead\n",
      "\n",
      "See the caveats in the documentation: https://pandas.pydata.org/pandas-docs/stable/user_guide/indexing.html#returning-a-view-versus-a-copy\n",
      "/Users/teddy/.conda/envs/Pycharm_Files/lib/python3.7/site-packages/ipykernel_launcher.py:31: SettingWithCopyWarning: \n",
      "A value is trying to be set on a copy of a slice from a DataFrame.\n",
      "Try using .loc[row_indexer,col_indexer] = value instead\n",
      "\n",
      "See the caveats in the documentation: https://pandas.pydata.org/pandas-docs/stable/user_guide/indexing.html#returning-a-view-versus-a-copy\n",
      "/Users/teddy/.conda/envs/Pycharm_Files/lib/python3.7/site-packages/ipykernel_launcher.py:32: SettingWithCopyWarning: \n",
      "A value is trying to be set on a copy of a slice from a DataFrame.\n",
      "Try using .loc[row_indexer,col_indexer] = value instead\n",
      "\n",
      "See the caveats in the documentation: https://pandas.pydata.org/pandas-docs/stable/user_guide/indexing.html#returning-a-view-versus-a-copy\n",
      "/Users/teddy/.conda/envs/Pycharm_Files/lib/python3.7/site-packages/pandas/core/indexing.py:966: SettingWithCopyWarning: \n",
      "A value is trying to be set on a copy of a slice from a DataFrame.\n",
      "Try using .loc[row_indexer,col_indexer] = value instead\n",
      "\n",
      "See the caveats in the documentation: https://pandas.pydata.org/pandas-docs/stable/user_guide/indexing.html#returning-a-view-versus-a-copy\n",
      "  self.obj[item] = s\n",
      "/Users/teddy/.conda/envs/Pycharm_Files/lib/python3.7/site-packages/ipykernel_launcher.py:43: SettingWithCopyWarning: \n",
      "A value is trying to be set on a copy of a slice from a DataFrame.\n",
      "Try using .loc[row_indexer,col_indexer] = value instead\n",
      "\n",
      "See the caveats in the documentation: https://pandas.pydata.org/pandas-docs/stable/user_guide/indexing.html#returning-a-view-versus-a-copy\n",
      "/Users/teddy/.conda/envs/Pycharm_Files/lib/python3.7/site-packages/ipykernel_launcher.py:44: SettingWithCopyWarning: \n",
      "A value is trying to be set on a copy of a slice from a DataFrame.\n",
      "Try using .loc[row_indexer,col_indexer] = value instead\n",
      "\n",
      "See the caveats in the documentation: https://pandas.pydata.org/pandas-docs/stable/user_guide/indexing.html#returning-a-view-versus-a-copy\n",
      "/Users/teddy/.conda/envs/Pycharm_Files/lib/python3.7/site-packages/ipykernel_launcher.py:45: SettingWithCopyWarning: \n",
      "A value is trying to be set on a copy of a slice from a DataFrame.\n",
      "Try using .loc[row_indexer,col_indexer] = value instead\n",
      "\n",
      "See the caveats in the documentation: https://pandas.pydata.org/pandas-docs/stable/user_guide/indexing.html#returning-a-view-versus-a-copy\n",
      "/Users/teddy/.conda/envs/Pycharm_Files/lib/python3.7/site-packages/ipykernel_launcher.py:46: SettingWithCopyWarning: \n",
      "A value is trying to be set on a copy of a slice from a DataFrame.\n",
      "Try using .loc[row_indexer,col_indexer] = value instead\n",
      "\n",
      "See the caveats in the documentation: https://pandas.pydata.org/pandas-docs/stable/user_guide/indexing.html#returning-a-view-versus-a-copy\n"
     ]
    },
    {
     "output_type": "execute_result",
     "data": {
      "text/plain": [
       "    best before  amount  purchases  prev purchases  remaining  waste  \\\n",
       "0            14      30         70             NaN      -40.0  -40.0   \n",
       "1            17      30         79             9.0       21.0  -19.0   \n",
       "2            21      25         90            11.0       14.0   -5.0   \n",
       "3            24      25        102            12.0       13.0    8.0   \n",
       "4            28      25        121            19.0        6.0    6.0   \n",
       "5            31      25        133            12.0       13.0   13.0   \n",
       "6            35      25        155            22.0        3.0    3.0   \n",
       "7            38      25        164             9.0       16.0   16.0   \n",
       "8            42      25        173             9.0       16.0   16.0   \n",
       "9            45      25        178             5.0       20.0   20.0   \n",
       "10           49      25        194            16.0        9.0    9.0   \n",
       "11           52      25        214            20.0        5.0    5.0   \n",
       "12           56      25        233            19.0        6.0    6.0   \n",
       "13           59      25        242             9.0       16.0   16.0   \n",
       "14           63      15        263            21.0       -6.0   -6.0   \n",
       "15           66      15        270             7.0        8.0    2.0   \n",
       "16           70      25        287            17.0        8.0    8.0   \n",
       "17           73      25        307            20.0        5.0    5.0   \n",
       "18           77      25        334            27.0       -2.0   -2.0   \n",
       "19           80      25        348            14.0       11.0    9.0   \n",
       "20           84      25        365            17.0        8.0    8.0   \n",
       "21           87      25        382            17.0        8.0    8.0   \n",
       "22           91      25        395            13.0       12.0   12.0   \n",
       "23           94      25        409            14.0       11.0   11.0   \n",
       "24           98      25        431            22.0        3.0    3.0   \n",
       "25          101      25        446            15.0       10.0   10.0   \n",
       "26          105      25        461            15.0       10.0   10.0   \n",
       "27          108      25        467             6.0       19.0   19.0   \n",
       "28          112      25        481            14.0       11.0   11.0   \n",
       "29          115      25        495            14.0       11.0   11.0   \n",
       "30          119      25        510            15.0       10.0   10.0   \n",
       "31          122      25        526            16.0        9.0    9.0   \n",
       "32          126      25        536            10.0       15.0   15.0   \n",
       "33          129      25        553            17.0        8.0    8.0   \n",
       "34          133       5        570            17.0      -12.0  -12.0   \n",
       "35          136       5        588            18.0      -13.0  -25.0   \n",
       "36          140      25        605            17.0        8.0  -17.0   \n",
       "37          143      25        618            13.0       12.0   -5.0   \n",
       "38          147      25        644            26.0       -1.0   -6.0   \n",
       "39          150      25        655            11.0       14.0    8.0   \n",
       "40          154      25        669            14.0       11.0   11.0   \n",
       "41          157      25        680            11.0       14.0   14.0   \n",
       "42          161      25        698            18.0        7.0    7.0   \n",
       "43          164      25        709            11.0       14.0   14.0   \n",
       "44          168      25        719            10.0       15.0   15.0   \n",
       "45          171      25        737            18.0        7.0    7.0   \n",
       "46          175      25        775            38.0      -13.0  -13.0   \n",
       "47          178      25        787            12.0       13.0    0.0   \n",
       "48          182      25        802            15.0       10.0   10.0   \n",
       "49          185      25        809             7.0       18.0   18.0   \n",
       "\n",
       "         date  week  weekPrice  lost_Revenue  lost_profit  cost_wasted  \\\n",
       "0  2018-01-15     3     0.6900      -27.6000     -21.6000        -6.00   \n",
       "1  2018-01-18     3     0.6900      -13.1100     -10.2600        -2.85   \n",
       "2  2018-01-22     4     0.6900       -3.4500      -2.7000        -0.75   \n",
       "3  2018-01-25     4     0.6900        5.5200       4.3200         1.20   \n",
       "4  2018-01-29     5     0.6900        4.1400       3.2400         0.90   \n",
       "5  2018-02-01     5     0.6900        8.9700       7.0200         1.95   \n",
       "6  2018-02-05     6     0.6900        2.0700       1.6200         0.45   \n",
       "7  2018-02-08     6     0.6900       11.0400       8.6400         2.40   \n",
       "8  2018-02-12     7     0.6900       11.0400       8.6400         2.40   \n",
       "9  2018-02-15     7     0.6900       13.8000      10.8000         3.00   \n",
       "10 2018-02-19     8     0.5865        5.2785       3.9285         1.35   \n",
       "11 2018-02-22     8     0.5865        2.9325       2.1825         0.75   \n",
       "12 2018-02-26     9     0.6900        4.1400       3.2400         0.90   \n",
       "13 2018-03-01     9     0.6900       11.0400       8.6400         2.40   \n",
       "14 2018-03-05    10     0.6900       -4.1400      -3.2400        -0.90   \n",
       "15 2018-03-08    10     0.6900        1.3800       1.0800         0.30   \n",
       "16 2018-03-12    11     0.6900        5.5200       4.3200         1.20   \n",
       "17 2018-03-15    11     0.6900        3.4500       2.7000         0.75   \n",
       "18 2018-03-19    12     0.6900       -1.3800      -1.0800        -0.30   \n",
       "19 2018-03-22    12     0.6900        6.2100       4.8600         1.35   \n",
       "20 2018-03-26    13     0.6900        5.5200       4.3200         1.20   \n",
       "21 2018-03-29    13     0.6900        5.5200       4.3200         1.20   \n",
       "22 2018-04-02    14     0.6900        8.2800       6.4800         1.80   \n",
       "23 2018-04-05    14     0.6900        7.5900       5.9400         1.65   \n",
       "24 2018-04-09    15     0.6900        2.0700       1.6200         0.45   \n",
       "25 2018-04-12    15     0.6900        6.9000       5.4000         1.50   \n",
       "26 2018-04-16    16     0.6900        6.9000       5.4000         1.50   \n",
       "27 2018-04-19    16     0.6900       13.1100      10.2600         2.85   \n",
       "28 2018-04-23    17     0.6900        7.5900       5.9400         1.65   \n",
       "29 2018-04-26    17     0.6900        7.5900       5.9400         1.65   \n",
       "30 2018-04-30    18     0.6555        6.5550       5.0550         1.50   \n",
       "31 2018-05-03    18     0.6555        5.8995       4.5495         1.35   \n",
       "32 2018-05-07    19     0.6900       10.3500       8.1000         2.25   \n",
       "33 2018-05-10    19     0.6900        5.5200       4.3200         1.20   \n",
       "34 2018-05-14    20     0.6900       -8.2800      -6.4800        -1.80   \n",
       "35 2018-05-17    20     0.6900      -17.2500     -13.5000        -3.75   \n",
       "36 2018-05-21    21     0.6900      -11.7300      -9.1800        -2.55   \n",
       "37 2018-05-24    21     0.6900       -3.4500      -2.7000        -0.75   \n",
       "38 2018-05-28    22     0.6900       -4.1400      -3.2400        -0.90   \n",
       "39 2018-05-31    22     0.6900        5.5200       4.3200         1.20   \n",
       "40 2018-06-04    23     0.6900        7.5900       5.9400         1.65   \n",
       "41 2018-06-07    23     0.6900        9.6600       7.5600         2.10   \n",
       "42 2018-06-11    24     0.6900        4.8300       3.7800         1.05   \n",
       "43 2018-06-14    24     0.6900        9.6600       7.5600         2.10   \n",
       "44 2018-06-18    25     0.6900       10.3500       8.1000         2.25   \n",
       "45 2018-06-21    25     0.6900        4.8300       3.7800         1.05   \n",
       "46 2018-06-25    26     0.4830       -6.2790      -4.3290        -1.95   \n",
       "47 2018-06-28    26     0.4830        0.0000       0.0000         0.00   \n",
       "48 2018-07-02    27     0.6900        6.9000       5.4000         1.50   \n",
       "49 2018-07-05    27     0.6900       12.4200       9.7200         2.70   \n",
       "\n",
       "    purc_price  \n",
       "0         0.15  \n",
       "1         0.15  \n",
       "2         0.15  \n",
       "3         0.15  \n",
       "4         0.15  \n",
       "5         0.15  \n",
       "6         0.15  \n",
       "7         0.15  \n",
       "8         0.15  \n",
       "9         0.15  \n",
       "10        0.15  \n",
       "11        0.15  \n",
       "12        0.15  \n",
       "13        0.15  \n",
       "14        0.15  \n",
       "15        0.15  \n",
       "16        0.15  \n",
       "17        0.15  \n",
       "18        0.15  \n",
       "19        0.15  \n",
       "20        0.15  \n",
       "21        0.15  \n",
       "22        0.15  \n",
       "23        0.15  \n",
       "24        0.15  \n",
       "25        0.15  \n",
       "26        0.15  \n",
       "27        0.15  \n",
       "28        0.15  \n",
       "29        0.15  \n",
       "30        0.15  \n",
       "31        0.15  \n",
       "32        0.15  \n",
       "33        0.15  \n",
       "34        0.15  \n",
       "35        0.15  \n",
       "36        0.15  \n",
       "37        0.15  \n",
       "38        0.15  \n",
       "39        0.15  \n",
       "40        0.15  \n",
       "41        0.15  \n",
       "42        0.15  \n",
       "43        0.15  \n",
       "44        0.15  \n",
       "45        0.15  \n",
       "46        0.15  \n",
       "47        0.15  \n",
       "48        0.15  \n",
       "49        0.15  "
      ],
      "text/html": "<div>\n<style scoped>\n    .dataframe tbody tr th:only-of-type {\n        vertical-align: middle;\n    }\n\n    .dataframe tbody tr th {\n        vertical-align: top;\n    }\n\n    .dataframe thead th {\n        text-align: right;\n    }\n</style>\n<table border=\"1\" class=\"dataframe\">\n  <thead>\n    <tr style=\"text-align: right;\">\n      <th></th>\n      <th>best before</th>\n      <th>amount</th>\n      <th>purchases</th>\n      <th>prev purchases</th>\n      <th>remaining</th>\n      <th>waste</th>\n      <th>date</th>\n      <th>week</th>\n      <th>weekPrice</th>\n      <th>lost_Revenue</th>\n      <th>lost_profit</th>\n      <th>cost_wasted</th>\n      <th>purc_price</th>\n    </tr>\n  </thead>\n  <tbody>\n    <tr>\n      <th>0</th>\n      <td>14</td>\n      <td>30</td>\n      <td>70</td>\n      <td>NaN</td>\n      <td>-40.0</td>\n      <td>-40.0</td>\n      <td>2018-01-15</td>\n      <td>3</td>\n      <td>0.6900</td>\n      <td>-27.6000</td>\n      <td>-21.6000</td>\n      <td>-6.00</td>\n      <td>0.15</td>\n    </tr>\n    <tr>\n      <th>1</th>\n      <td>17</td>\n      <td>30</td>\n      <td>79</td>\n      <td>9.0</td>\n      <td>21.0</td>\n      <td>-19.0</td>\n      <td>2018-01-18</td>\n      <td>3</td>\n      <td>0.6900</td>\n      <td>-13.1100</td>\n      <td>-10.2600</td>\n      <td>-2.85</td>\n      <td>0.15</td>\n    </tr>\n    <tr>\n      <th>2</th>\n      <td>21</td>\n      <td>25</td>\n      <td>90</td>\n      <td>11.0</td>\n      <td>14.0</td>\n      <td>-5.0</td>\n      <td>2018-01-22</td>\n      <td>4</td>\n      <td>0.6900</td>\n      <td>-3.4500</td>\n      <td>-2.7000</td>\n      <td>-0.75</td>\n      <td>0.15</td>\n    </tr>\n    <tr>\n      <th>3</th>\n      <td>24</td>\n      <td>25</td>\n      <td>102</td>\n      <td>12.0</td>\n      <td>13.0</td>\n      <td>8.0</td>\n      <td>2018-01-25</td>\n      <td>4</td>\n      <td>0.6900</td>\n      <td>5.5200</td>\n      <td>4.3200</td>\n      <td>1.20</td>\n      <td>0.15</td>\n    </tr>\n    <tr>\n      <th>4</th>\n      <td>28</td>\n      <td>25</td>\n      <td>121</td>\n      <td>19.0</td>\n      <td>6.0</td>\n      <td>6.0</td>\n      <td>2018-01-29</td>\n      <td>5</td>\n      <td>0.6900</td>\n      <td>4.1400</td>\n      <td>3.2400</td>\n      <td>0.90</td>\n      <td>0.15</td>\n    </tr>\n    <tr>\n      <th>5</th>\n      <td>31</td>\n      <td>25</td>\n      <td>133</td>\n      <td>12.0</td>\n      <td>13.0</td>\n      <td>13.0</td>\n      <td>2018-02-01</td>\n      <td>5</td>\n      <td>0.6900</td>\n      <td>8.9700</td>\n      <td>7.0200</td>\n      <td>1.95</td>\n      <td>0.15</td>\n    </tr>\n    <tr>\n      <th>6</th>\n      <td>35</td>\n      <td>25</td>\n      <td>155</td>\n      <td>22.0</td>\n      <td>3.0</td>\n      <td>3.0</td>\n      <td>2018-02-05</td>\n      <td>6</td>\n      <td>0.6900</td>\n      <td>2.0700</td>\n      <td>1.6200</td>\n      <td>0.45</td>\n      <td>0.15</td>\n    </tr>\n    <tr>\n      <th>7</th>\n      <td>38</td>\n      <td>25</td>\n      <td>164</td>\n      <td>9.0</td>\n      <td>16.0</td>\n      <td>16.0</td>\n      <td>2018-02-08</td>\n      <td>6</td>\n      <td>0.6900</td>\n      <td>11.0400</td>\n      <td>8.6400</td>\n      <td>2.40</td>\n      <td>0.15</td>\n    </tr>\n    <tr>\n      <th>8</th>\n      <td>42</td>\n      <td>25</td>\n      <td>173</td>\n      <td>9.0</td>\n      <td>16.0</td>\n      <td>16.0</td>\n      <td>2018-02-12</td>\n      <td>7</td>\n      <td>0.6900</td>\n      <td>11.0400</td>\n      <td>8.6400</td>\n      <td>2.40</td>\n      <td>0.15</td>\n    </tr>\n    <tr>\n      <th>9</th>\n      <td>45</td>\n      <td>25</td>\n      <td>178</td>\n      <td>5.0</td>\n      <td>20.0</td>\n      <td>20.0</td>\n      <td>2018-02-15</td>\n      <td>7</td>\n      <td>0.6900</td>\n      <td>13.8000</td>\n      <td>10.8000</td>\n      <td>3.00</td>\n      <td>0.15</td>\n    </tr>\n    <tr>\n      <th>10</th>\n      <td>49</td>\n      <td>25</td>\n      <td>194</td>\n      <td>16.0</td>\n      <td>9.0</td>\n      <td>9.0</td>\n      <td>2018-02-19</td>\n      <td>8</td>\n      <td>0.5865</td>\n      <td>5.2785</td>\n      <td>3.9285</td>\n      <td>1.35</td>\n      <td>0.15</td>\n    </tr>\n    <tr>\n      <th>11</th>\n      <td>52</td>\n      <td>25</td>\n      <td>214</td>\n      <td>20.0</td>\n      <td>5.0</td>\n      <td>5.0</td>\n      <td>2018-02-22</td>\n      <td>8</td>\n      <td>0.5865</td>\n      <td>2.9325</td>\n      <td>2.1825</td>\n      <td>0.75</td>\n      <td>0.15</td>\n    </tr>\n    <tr>\n      <th>12</th>\n      <td>56</td>\n      <td>25</td>\n      <td>233</td>\n      <td>19.0</td>\n      <td>6.0</td>\n      <td>6.0</td>\n      <td>2018-02-26</td>\n      <td>9</td>\n      <td>0.6900</td>\n      <td>4.1400</td>\n      <td>3.2400</td>\n      <td>0.90</td>\n      <td>0.15</td>\n    </tr>\n    <tr>\n      <th>13</th>\n      <td>59</td>\n      <td>25</td>\n      <td>242</td>\n      <td>9.0</td>\n      <td>16.0</td>\n      <td>16.0</td>\n      <td>2018-03-01</td>\n      <td>9</td>\n      <td>0.6900</td>\n      <td>11.0400</td>\n      <td>8.6400</td>\n      <td>2.40</td>\n      <td>0.15</td>\n    </tr>\n    <tr>\n      <th>14</th>\n      <td>63</td>\n      <td>15</td>\n      <td>263</td>\n      <td>21.0</td>\n      <td>-6.0</td>\n      <td>-6.0</td>\n      <td>2018-03-05</td>\n      <td>10</td>\n      <td>0.6900</td>\n      <td>-4.1400</td>\n      <td>-3.2400</td>\n      <td>-0.90</td>\n      <td>0.15</td>\n    </tr>\n    <tr>\n      <th>15</th>\n      <td>66</td>\n      <td>15</td>\n      <td>270</td>\n      <td>7.0</td>\n      <td>8.0</td>\n      <td>2.0</td>\n      <td>2018-03-08</td>\n      <td>10</td>\n      <td>0.6900</td>\n      <td>1.3800</td>\n      <td>1.0800</td>\n      <td>0.30</td>\n      <td>0.15</td>\n    </tr>\n    <tr>\n      <th>16</th>\n      <td>70</td>\n      <td>25</td>\n      <td>287</td>\n      <td>17.0</td>\n      <td>8.0</td>\n      <td>8.0</td>\n      <td>2018-03-12</td>\n      <td>11</td>\n      <td>0.6900</td>\n      <td>5.5200</td>\n      <td>4.3200</td>\n      <td>1.20</td>\n      <td>0.15</td>\n    </tr>\n    <tr>\n      <th>17</th>\n      <td>73</td>\n      <td>25</td>\n      <td>307</td>\n      <td>20.0</td>\n      <td>5.0</td>\n      <td>5.0</td>\n      <td>2018-03-15</td>\n      <td>11</td>\n      <td>0.6900</td>\n      <td>3.4500</td>\n      <td>2.7000</td>\n      <td>0.75</td>\n      <td>0.15</td>\n    </tr>\n    <tr>\n      <th>18</th>\n      <td>77</td>\n      <td>25</td>\n      <td>334</td>\n      <td>27.0</td>\n      <td>-2.0</td>\n      <td>-2.0</td>\n      <td>2018-03-19</td>\n      <td>12</td>\n      <td>0.6900</td>\n      <td>-1.3800</td>\n      <td>-1.0800</td>\n      <td>-0.30</td>\n      <td>0.15</td>\n    </tr>\n    <tr>\n      <th>19</th>\n      <td>80</td>\n      <td>25</td>\n      <td>348</td>\n      <td>14.0</td>\n      <td>11.0</td>\n      <td>9.0</td>\n      <td>2018-03-22</td>\n      <td>12</td>\n      <td>0.6900</td>\n      <td>6.2100</td>\n      <td>4.8600</td>\n      <td>1.35</td>\n      <td>0.15</td>\n    </tr>\n    <tr>\n      <th>20</th>\n      <td>84</td>\n      <td>25</td>\n      <td>365</td>\n      <td>17.0</td>\n      <td>8.0</td>\n      <td>8.0</td>\n      <td>2018-03-26</td>\n      <td>13</td>\n      <td>0.6900</td>\n      <td>5.5200</td>\n      <td>4.3200</td>\n      <td>1.20</td>\n      <td>0.15</td>\n    </tr>\n    <tr>\n      <th>21</th>\n      <td>87</td>\n      <td>25</td>\n      <td>382</td>\n      <td>17.0</td>\n      <td>8.0</td>\n      <td>8.0</td>\n      <td>2018-03-29</td>\n      <td>13</td>\n      <td>0.6900</td>\n      <td>5.5200</td>\n      <td>4.3200</td>\n      <td>1.20</td>\n      <td>0.15</td>\n    </tr>\n    <tr>\n      <th>22</th>\n      <td>91</td>\n      <td>25</td>\n      <td>395</td>\n      <td>13.0</td>\n      <td>12.0</td>\n      <td>12.0</td>\n      <td>2018-04-02</td>\n      <td>14</td>\n      <td>0.6900</td>\n      <td>8.2800</td>\n      <td>6.4800</td>\n      <td>1.80</td>\n      <td>0.15</td>\n    </tr>\n    <tr>\n      <th>23</th>\n      <td>94</td>\n      <td>25</td>\n      <td>409</td>\n      <td>14.0</td>\n      <td>11.0</td>\n      <td>11.0</td>\n      <td>2018-04-05</td>\n      <td>14</td>\n      <td>0.6900</td>\n      <td>7.5900</td>\n      <td>5.9400</td>\n      <td>1.65</td>\n      <td>0.15</td>\n    </tr>\n    <tr>\n      <th>24</th>\n      <td>98</td>\n      <td>25</td>\n      <td>431</td>\n      <td>22.0</td>\n      <td>3.0</td>\n      <td>3.0</td>\n      <td>2018-04-09</td>\n      <td>15</td>\n      <td>0.6900</td>\n      <td>2.0700</td>\n      <td>1.6200</td>\n      <td>0.45</td>\n      <td>0.15</td>\n    </tr>\n    <tr>\n      <th>25</th>\n      <td>101</td>\n      <td>25</td>\n      <td>446</td>\n      <td>15.0</td>\n      <td>10.0</td>\n      <td>10.0</td>\n      <td>2018-04-12</td>\n      <td>15</td>\n      <td>0.6900</td>\n      <td>6.9000</td>\n      <td>5.4000</td>\n      <td>1.50</td>\n      <td>0.15</td>\n    </tr>\n    <tr>\n      <th>26</th>\n      <td>105</td>\n      <td>25</td>\n      <td>461</td>\n      <td>15.0</td>\n      <td>10.0</td>\n      <td>10.0</td>\n      <td>2018-04-16</td>\n      <td>16</td>\n      <td>0.6900</td>\n      <td>6.9000</td>\n      <td>5.4000</td>\n      <td>1.50</td>\n      <td>0.15</td>\n    </tr>\n    <tr>\n      <th>27</th>\n      <td>108</td>\n      <td>25</td>\n      <td>467</td>\n      <td>6.0</td>\n      <td>19.0</td>\n      <td>19.0</td>\n      <td>2018-04-19</td>\n      <td>16</td>\n      <td>0.6900</td>\n      <td>13.1100</td>\n      <td>10.2600</td>\n      <td>2.85</td>\n      <td>0.15</td>\n    </tr>\n    <tr>\n      <th>28</th>\n      <td>112</td>\n      <td>25</td>\n      <td>481</td>\n      <td>14.0</td>\n      <td>11.0</td>\n      <td>11.0</td>\n      <td>2018-04-23</td>\n      <td>17</td>\n      <td>0.6900</td>\n      <td>7.5900</td>\n      <td>5.9400</td>\n      <td>1.65</td>\n      <td>0.15</td>\n    </tr>\n    <tr>\n      <th>29</th>\n      <td>115</td>\n      <td>25</td>\n      <td>495</td>\n      <td>14.0</td>\n      <td>11.0</td>\n      <td>11.0</td>\n      <td>2018-04-26</td>\n      <td>17</td>\n      <td>0.6900</td>\n      <td>7.5900</td>\n      <td>5.9400</td>\n      <td>1.65</td>\n      <td>0.15</td>\n    </tr>\n    <tr>\n      <th>30</th>\n      <td>119</td>\n      <td>25</td>\n      <td>510</td>\n      <td>15.0</td>\n      <td>10.0</td>\n      <td>10.0</td>\n      <td>2018-04-30</td>\n      <td>18</td>\n      <td>0.6555</td>\n      <td>6.5550</td>\n      <td>5.0550</td>\n      <td>1.50</td>\n      <td>0.15</td>\n    </tr>\n    <tr>\n      <th>31</th>\n      <td>122</td>\n      <td>25</td>\n      <td>526</td>\n      <td>16.0</td>\n      <td>9.0</td>\n      <td>9.0</td>\n      <td>2018-05-03</td>\n      <td>18</td>\n      <td>0.6555</td>\n      <td>5.8995</td>\n      <td>4.5495</td>\n      <td>1.35</td>\n      <td>0.15</td>\n    </tr>\n    <tr>\n      <th>32</th>\n      <td>126</td>\n      <td>25</td>\n      <td>536</td>\n      <td>10.0</td>\n      <td>15.0</td>\n      <td>15.0</td>\n      <td>2018-05-07</td>\n      <td>19</td>\n      <td>0.6900</td>\n      <td>10.3500</td>\n      <td>8.1000</td>\n      <td>2.25</td>\n      <td>0.15</td>\n    </tr>\n    <tr>\n      <th>33</th>\n      <td>129</td>\n      <td>25</td>\n      <td>553</td>\n      <td>17.0</td>\n      <td>8.0</td>\n      <td>8.0</td>\n      <td>2018-05-10</td>\n      <td>19</td>\n      <td>0.6900</td>\n      <td>5.5200</td>\n      <td>4.3200</td>\n      <td>1.20</td>\n      <td>0.15</td>\n    </tr>\n    <tr>\n      <th>34</th>\n      <td>133</td>\n      <td>5</td>\n      <td>570</td>\n      <td>17.0</td>\n      <td>-12.0</td>\n      <td>-12.0</td>\n      <td>2018-05-14</td>\n      <td>20</td>\n      <td>0.6900</td>\n      <td>-8.2800</td>\n      <td>-6.4800</td>\n      <td>-1.80</td>\n      <td>0.15</td>\n    </tr>\n    <tr>\n      <th>35</th>\n      <td>136</td>\n      <td>5</td>\n      <td>588</td>\n      <td>18.0</td>\n      <td>-13.0</td>\n      <td>-25.0</td>\n      <td>2018-05-17</td>\n      <td>20</td>\n      <td>0.6900</td>\n      <td>-17.2500</td>\n      <td>-13.5000</td>\n      <td>-3.75</td>\n      <td>0.15</td>\n    </tr>\n    <tr>\n      <th>36</th>\n      <td>140</td>\n      <td>25</td>\n      <td>605</td>\n      <td>17.0</td>\n      <td>8.0</td>\n      <td>-17.0</td>\n      <td>2018-05-21</td>\n      <td>21</td>\n      <td>0.6900</td>\n      <td>-11.7300</td>\n      <td>-9.1800</td>\n      <td>-2.55</td>\n      <td>0.15</td>\n    </tr>\n    <tr>\n      <th>37</th>\n      <td>143</td>\n      <td>25</td>\n      <td>618</td>\n      <td>13.0</td>\n      <td>12.0</td>\n      <td>-5.0</td>\n      <td>2018-05-24</td>\n      <td>21</td>\n      <td>0.6900</td>\n      <td>-3.4500</td>\n      <td>-2.7000</td>\n      <td>-0.75</td>\n      <td>0.15</td>\n    </tr>\n    <tr>\n      <th>38</th>\n      <td>147</td>\n      <td>25</td>\n      <td>644</td>\n      <td>26.0</td>\n      <td>-1.0</td>\n      <td>-6.0</td>\n      <td>2018-05-28</td>\n      <td>22</td>\n      <td>0.6900</td>\n      <td>-4.1400</td>\n      <td>-3.2400</td>\n      <td>-0.90</td>\n      <td>0.15</td>\n    </tr>\n    <tr>\n      <th>39</th>\n      <td>150</td>\n      <td>25</td>\n      <td>655</td>\n      <td>11.0</td>\n      <td>14.0</td>\n      <td>8.0</td>\n      <td>2018-05-31</td>\n      <td>22</td>\n      <td>0.6900</td>\n      <td>5.5200</td>\n      <td>4.3200</td>\n      <td>1.20</td>\n      <td>0.15</td>\n    </tr>\n    <tr>\n      <th>40</th>\n      <td>154</td>\n      <td>25</td>\n      <td>669</td>\n      <td>14.0</td>\n      <td>11.0</td>\n      <td>11.0</td>\n      <td>2018-06-04</td>\n      <td>23</td>\n      <td>0.6900</td>\n      <td>7.5900</td>\n      <td>5.9400</td>\n      <td>1.65</td>\n      <td>0.15</td>\n    </tr>\n    <tr>\n      <th>41</th>\n      <td>157</td>\n      <td>25</td>\n      <td>680</td>\n      <td>11.0</td>\n      <td>14.0</td>\n      <td>14.0</td>\n      <td>2018-06-07</td>\n      <td>23</td>\n      <td>0.6900</td>\n      <td>9.6600</td>\n      <td>7.5600</td>\n      <td>2.10</td>\n      <td>0.15</td>\n    </tr>\n    <tr>\n      <th>42</th>\n      <td>161</td>\n      <td>25</td>\n      <td>698</td>\n      <td>18.0</td>\n      <td>7.0</td>\n      <td>7.0</td>\n      <td>2018-06-11</td>\n      <td>24</td>\n      <td>0.6900</td>\n      <td>4.8300</td>\n      <td>3.7800</td>\n      <td>1.05</td>\n      <td>0.15</td>\n    </tr>\n    <tr>\n      <th>43</th>\n      <td>164</td>\n      <td>25</td>\n      <td>709</td>\n      <td>11.0</td>\n      <td>14.0</td>\n      <td>14.0</td>\n      <td>2018-06-14</td>\n      <td>24</td>\n      <td>0.6900</td>\n      <td>9.6600</td>\n      <td>7.5600</td>\n      <td>2.10</td>\n      <td>0.15</td>\n    </tr>\n    <tr>\n      <th>44</th>\n      <td>168</td>\n      <td>25</td>\n      <td>719</td>\n      <td>10.0</td>\n      <td>15.0</td>\n      <td>15.0</td>\n      <td>2018-06-18</td>\n      <td>25</td>\n      <td>0.6900</td>\n      <td>10.3500</td>\n      <td>8.1000</td>\n      <td>2.25</td>\n      <td>0.15</td>\n    </tr>\n    <tr>\n      <th>45</th>\n      <td>171</td>\n      <td>25</td>\n      <td>737</td>\n      <td>18.0</td>\n      <td>7.0</td>\n      <td>7.0</td>\n      <td>2018-06-21</td>\n      <td>25</td>\n      <td>0.6900</td>\n      <td>4.8300</td>\n      <td>3.7800</td>\n      <td>1.05</td>\n      <td>0.15</td>\n    </tr>\n    <tr>\n      <th>46</th>\n      <td>175</td>\n      <td>25</td>\n      <td>775</td>\n      <td>38.0</td>\n      <td>-13.0</td>\n      <td>-13.0</td>\n      <td>2018-06-25</td>\n      <td>26</td>\n      <td>0.4830</td>\n      <td>-6.2790</td>\n      <td>-4.3290</td>\n      <td>-1.95</td>\n      <td>0.15</td>\n    </tr>\n    <tr>\n      <th>47</th>\n      <td>178</td>\n      <td>25</td>\n      <td>787</td>\n      <td>12.0</td>\n      <td>13.0</td>\n      <td>0.0</td>\n      <td>2018-06-28</td>\n      <td>26</td>\n      <td>0.4830</td>\n      <td>0.0000</td>\n      <td>0.0000</td>\n      <td>0.00</td>\n      <td>0.15</td>\n    </tr>\n    <tr>\n      <th>48</th>\n      <td>182</td>\n      <td>25</td>\n      <td>802</td>\n      <td>15.0</td>\n      <td>10.0</td>\n      <td>10.0</td>\n      <td>2018-07-02</td>\n      <td>27</td>\n      <td>0.6900</td>\n      <td>6.9000</td>\n      <td>5.4000</td>\n      <td>1.50</td>\n      <td>0.15</td>\n    </tr>\n    <tr>\n      <th>49</th>\n      <td>185</td>\n      <td>25</td>\n      <td>809</td>\n      <td>7.0</td>\n      <td>18.0</td>\n      <td>18.0</td>\n      <td>2018-07-05</td>\n      <td>27</td>\n      <td>0.6900</td>\n      <td>12.4200</td>\n      <td>9.7200</td>\n      <td>2.70</td>\n      <td>0.15</td>\n    </tr>\n  </tbody>\n</table>\n</div>"
     },
     "metadata": {},
     "execution_count": 30
    }
   ],
   "source": [
    "length = df_waste.shape[0]\n",
    "lst_waste = [] #nr rows in waste dataframe\n",
    "#amount left from the item\n",
    "df_waste[\"remaining\"] = df_waste[\"amount\"] - df_waste[\"prev purchases\"] \n",
    "#the first row is different as there is no prev pruchases available\n",
    "df_waste[\"remaining\"].iloc[0] = df_waste[\"amount\"].iloc[0] - df_waste[\"purchases\"].iloc[0]\n",
    "\n",
    "for i in range(length):\n",
    "    #iterates through the rows of the waste dataframe\n",
    "    current_row = df_waste.iloc[i]\n",
    "    if i == 0:\n",
    "        #\n",
    "        lst_waste.append(current_row[\"remaining\"])\n",
    "        continue     \n",
    "    else:\n",
    "        prev_row = df_waste.iloc[i-1] #previous row in dataframe\n",
    "        if lst_waste[-1] < 0:\n",
    "            #no idea whats happening here, I've had enough\n",
    "            waste = lst_waste[-1] + current_row[\"remaining\"]\n",
    "            lst_waste.append(lst_waste[-1] + current_row[\"remaining\"])\n",
    "        else:\n",
    "            lst_waste.append(current_row[\"remaining\"])\n",
    "    \n",
    "df_waste[\"waste\"] = lst_waste\n",
    "def date_converter(row):\n",
    "    converted_date = datetime.datetime(2018, 1, 1) + datetime.timedelta(row[\"best before\"])\n",
    "    return converted_date\n",
    "purchase_price = products[products['description'] == product]['purchase_price']\n",
    "df_waste[\"date\"] = df_waste.apply(date_converter, axis = 1)\n",
    "df_waste[\"week\"] = df_waste.apply(week_of_year, axis = 1)\n",
    "df_waste[df_waste[\"waste\"] < 0][\"waste\"] = 0\n",
    "df_waste['weekPrice'] = [float(products[products['description'] == product]['std_sales_price'])] * len(df_waste)\n",
    "#df_waste.set_index('week', inplace = True)\n",
    "#print(df_waste.head())\n",
    "for week_ind in list(promotions[promotions['description'] == product].index):\n",
    "    week = promotions.at[week_ind, 'week']\n",
    "    print(week_ind)\n",
    "    # print(df_waste[['week']].dtypes)\n",
    "    if week in list(np.unique(df_waste.week)):\n",
    "        print(week)\n",
    "        df_waste.loc[df_waste[df_waste['week'] == week]['weekPrice'].index, 'weekPrice'] = (1 - (promotions.at[week_ind, 'discount'] / 100)) * df_waste.loc[df_waste[df_waste['week'] == week]['weekPrice'].index, 'weekPrice']\n",
    "        #break\n",
    "df_waste['lost_Revenue'] = df_waste.waste * df_waste.weekPrice\n",
    "df_waste['purc_price'] = [float(purchase_price)] * len(df_waste)\n",
    "df_waste['lost_profit'] = df_waste['waste'] * (df_waste['weekPrice'] - df_waste['purc_price'])\n",
    "df_waste['cost_wasted'] = df_waste['waste'] * df_waste['purc_price']\n",
    "df_waste.head(50)"
   ]
  },
  {
   "cell_type": "code",
   "execution_count": 232,
   "metadata": {},
   "outputs": [
    {
     "output_type": "execute_result",
     "data": {
      "text/plain": [
       "     week   category product_id           description  discount\n",
       "0       1  vegetable       v_14  Biologische knoflook        30\n",
       "107     8  vegetable       v_14  Biologische knoflook        15\n",
       "260    18  vegetable       v_14  Biologische knoflook         5\n",
       "388    26  vegetable       v_14  Biologische knoflook        30\n",
       "701    47  vegetable       v_14  Biologische knoflook        25"
      ],
      "text/html": "<div>\n<style scoped>\n    .dataframe tbody tr th:only-of-type {\n        vertical-align: middle;\n    }\n\n    .dataframe tbody tr th {\n        vertical-align: top;\n    }\n\n    .dataframe thead th {\n        text-align: right;\n    }\n</style>\n<table border=\"1\" class=\"dataframe\">\n  <thead>\n    <tr style=\"text-align: right;\">\n      <th></th>\n      <th>week</th>\n      <th>category</th>\n      <th>product_id</th>\n      <th>description</th>\n      <th>discount</th>\n    </tr>\n  </thead>\n  <tbody>\n    <tr>\n      <th>0</th>\n      <td>1</td>\n      <td>vegetable</td>\n      <td>v_14</td>\n      <td>Biologische knoflook</td>\n      <td>30</td>\n    </tr>\n    <tr>\n      <th>107</th>\n      <td>8</td>\n      <td>vegetable</td>\n      <td>v_14</td>\n      <td>Biologische knoflook</td>\n      <td>15</td>\n    </tr>\n    <tr>\n      <th>260</th>\n      <td>18</td>\n      <td>vegetable</td>\n      <td>v_14</td>\n      <td>Biologische knoflook</td>\n      <td>5</td>\n    </tr>\n    <tr>\n      <th>388</th>\n      <td>26</td>\n      <td>vegetable</td>\n      <td>v_14</td>\n      <td>Biologische knoflook</td>\n      <td>30</td>\n    </tr>\n    <tr>\n      <th>701</th>\n      <td>47</td>\n      <td>vegetable</td>\n      <td>v_14</td>\n      <td>Biologische knoflook</td>\n      <td>25</td>\n    </tr>\n  </tbody>\n</table>\n</div>"
     },
     "metadata": {},
     "execution_count": 232
    }
   ],
   "source": [
    "#promotions[(promotions['description'] == product) & (promotions['week'] == week)]['discount']\n",
    "#promotions[promotions['description'] == product]['week']\n",
    "promotions[(promotions['description'] == product) ]"
   ]
  },
  {
   "cell_type": "code",
   "execution_count": 32,
   "metadata": {},
   "outputs": [
    {
     "output_type": "execute_result",
     "data": {
      "text/plain": [
       "waste           897.000\n",
       "lost_Revenue    612.168\n",
       "lost_profit     477.618\n",
       "cost_wasted     134.550\n",
       "dtype: float64"
      ]
     },
     "metadata": {},
     "execution_count": 32
    }
   ],
   "source": [
    "df_waste[df_waste['waste']>0][['waste', 'lost_Revenue', 'lost_profit', 'cost_wasted']].sum()"
   ]
  },
  {
   "cell_type": "code",
   "execution_count": 200,
   "metadata": {},
   "outputs": [
    {
     "output_type": "stream",
     "name": "stdout",
     "text": [
      "The number of products wasted in the dataset for Biologische knoflook is 897.0 items\n"
     ]
    }
   ],
   "source": [
    "print('The number of products wasted in the dataset for {} is {} items'.format(product, df_waste[df_waste['waste']>0]['waste'].sum()))"
   ]
  },
  {
   "cell_type": "code",
   "execution_count": 131,
   "metadata": {},
   "outputs": [
    {
     "output_type": "execute_result",
     "data": {
      "text/plain": [
       "    best before  amount  purchases  prev purchases  remaining  waste  \\\n",
       "0           NaN     NaN        NaN             NaN        NaN    NaN   \n",
       "1           NaN     NaN        NaN             NaN        NaN    NaN   \n",
       "2           NaN     NaN        NaN             NaN        NaN    NaN   \n",
       "3           NaN     NaN        NaN             NaN        NaN    NaN   \n",
       "4          28.0    25.0      113.0             9.0       16.0   12.0   \n",
       "..          ...     ...        ...             ...        ...    ...   \n",
       "87        318.0    25.0     1236.0            10.0       15.0   15.0   \n",
       "88        322.0    25.0     1252.0            16.0        9.0    9.0   \n",
       "89        325.0    25.0     1261.0             9.0       16.0   16.0   \n",
       "90        329.0    25.0     1271.0            10.0       15.0   15.0   \n",
       "91        332.0    25.0     1275.0             4.0       21.0   21.0   \n",
       "\n",
       "         date  week  \n",
       "0         NaT   NaN  \n",
       "1         NaT   NaN  \n",
       "2         NaT   NaN  \n",
       "3         NaT   NaN  \n",
       "4  2018-01-29   5.0  \n",
       "..        ...   ...  \n",
       "87 2018-11-15  46.0  \n",
       "88 2018-11-19  47.0  \n",
       "89 2018-11-22  47.0  \n",
       "90 2018-11-26  48.0  \n",
       "91 2018-11-29  48.0  \n",
       "\n",
       "[92 rows x 8 columns]"
      ],
      "text/html": "<div>\n<style scoped>\n    .dataframe tbody tr th:only-of-type {\n        vertical-align: middle;\n    }\n\n    .dataframe tbody tr th {\n        vertical-align: top;\n    }\n\n    .dataframe thead th {\n        text-align: right;\n    }\n</style>\n<table border=\"1\" class=\"dataframe\">\n  <thead>\n    <tr style=\"text-align: right;\">\n      <th></th>\n      <th>best before</th>\n      <th>amount</th>\n      <th>purchases</th>\n      <th>prev purchases</th>\n      <th>remaining</th>\n      <th>waste</th>\n      <th>date</th>\n      <th>week</th>\n    </tr>\n  </thead>\n  <tbody>\n    <tr>\n      <th>0</th>\n      <td>NaN</td>\n      <td>NaN</td>\n      <td>NaN</td>\n      <td>NaN</td>\n      <td>NaN</td>\n      <td>NaN</td>\n      <td>NaT</td>\n      <td>NaN</td>\n    </tr>\n    <tr>\n      <th>1</th>\n      <td>NaN</td>\n      <td>NaN</td>\n      <td>NaN</td>\n      <td>NaN</td>\n      <td>NaN</td>\n      <td>NaN</td>\n      <td>NaT</td>\n      <td>NaN</td>\n    </tr>\n    <tr>\n      <th>2</th>\n      <td>NaN</td>\n      <td>NaN</td>\n      <td>NaN</td>\n      <td>NaN</td>\n      <td>NaN</td>\n      <td>NaN</td>\n      <td>NaT</td>\n      <td>NaN</td>\n    </tr>\n    <tr>\n      <th>3</th>\n      <td>NaN</td>\n      <td>NaN</td>\n      <td>NaN</td>\n      <td>NaN</td>\n      <td>NaN</td>\n      <td>NaN</td>\n      <td>NaT</td>\n      <td>NaN</td>\n    </tr>\n    <tr>\n      <th>4</th>\n      <td>28.0</td>\n      <td>25.0</td>\n      <td>113.0</td>\n      <td>9.0</td>\n      <td>16.0</td>\n      <td>12.0</td>\n      <td>2018-01-29</td>\n      <td>5.0</td>\n    </tr>\n    <tr>\n      <th>...</th>\n      <td>...</td>\n      <td>...</td>\n      <td>...</td>\n      <td>...</td>\n      <td>...</td>\n      <td>...</td>\n      <td>...</td>\n      <td>...</td>\n    </tr>\n    <tr>\n      <th>87</th>\n      <td>318.0</td>\n      <td>25.0</td>\n      <td>1236.0</td>\n      <td>10.0</td>\n      <td>15.0</td>\n      <td>15.0</td>\n      <td>2018-11-15</td>\n      <td>46.0</td>\n    </tr>\n    <tr>\n      <th>88</th>\n      <td>322.0</td>\n      <td>25.0</td>\n      <td>1252.0</td>\n      <td>16.0</td>\n      <td>9.0</td>\n      <td>9.0</td>\n      <td>2018-11-19</td>\n      <td>47.0</td>\n    </tr>\n    <tr>\n      <th>89</th>\n      <td>325.0</td>\n      <td>25.0</td>\n      <td>1261.0</td>\n      <td>9.0</td>\n      <td>16.0</td>\n      <td>16.0</td>\n      <td>2018-11-22</td>\n      <td>47.0</td>\n    </tr>\n    <tr>\n      <th>90</th>\n      <td>329.0</td>\n      <td>25.0</td>\n      <td>1271.0</td>\n      <td>10.0</td>\n      <td>15.0</td>\n      <td>15.0</td>\n      <td>2018-11-26</td>\n      <td>48.0</td>\n    </tr>\n    <tr>\n      <th>91</th>\n      <td>332.0</td>\n      <td>25.0</td>\n      <td>1275.0</td>\n      <td>4.0</td>\n      <td>21.0</td>\n      <td>21.0</td>\n      <td>2018-11-29</td>\n      <td>48.0</td>\n    </tr>\n  </tbody>\n</table>\n<p>92 rows × 8 columns</p>\n</div>"
     },
     "metadata": {},
     "execution_count": 131
    }
   ],
   "source": [
    "df_waste.loc[:,:].where(df_waste.loc[:,'waste']>0)"
   ]
  },
  {
   "cell_type": "code",
   "execution_count": 132,
   "metadata": {},
   "outputs": [
    {
     "output_type": "execute_result",
     "data": {
      "text/plain": [
       "985.0"
      ]
     },
     "metadata": {},
     "execution_count": 132
    }
   ],
   "source": [
    "df_waste[df_waste['waste']>0]['waste'].sum()"
   ]
  },
  {
   "cell_type": "code",
   "execution_count": 31,
   "metadata": {},
   "outputs": [
    {
     "output_type": "execute_result",
     "data": {
      "text/plain": [
       "            time  customer  bank acount  category  product_id  description  \\\n",
       "day                                                                          \n",
       "2018-01-01     2         2            1         2           2            2   \n",
       "2018-01-02     1         1            0         1           1            1   \n",
       "2018-01-03     3         3            3         3           3            3   \n",
       "2018-01-04     9         9            9         9           9            9   \n",
       "2018-01-05     4         4            4         4           4            4   \n",
       "2018-01-06     3         3            1         3           3            3   \n",
       "2018-01-07     7         7            4         7           7            7   \n",
       "2018-01-08     5         5            5         5           5            5   \n",
       "2018-01-09     5         5            5         5           5            5   \n",
       "2018-01-10     1         1            1         1           1            1   \n",
       "2018-01-11     4         4            4         4           4            4   \n",
       "2018-01-12     4         4            4         4           4            4   \n",
       "2018-01-13     5         5            4         5           5            5   \n",
       "2018-01-15     4         4            2         4           4            4   \n",
       "\n",
       "            size  std_sales_price  purchase_price  bio  basic  \n",
       "day                                                            \n",
       "2018-01-01     2                2               2    2      2  \n",
       "2018-01-02     1                1               1    1      1  \n",
       "2018-01-03     3                3               3    3      3  \n",
       "2018-01-04     9                9               9    9      9  \n",
       "2018-01-05     4                4               4    4      4  \n",
       "2018-01-06     3                3               3    3      3  \n",
       "2018-01-07     7                7               7    7      7  \n",
       "2018-01-08     5                5               5    5      5  \n",
       "2018-01-09     5                5               5    5      5  \n",
       "2018-01-10     1                1               1    1      1  \n",
       "2018-01-11     4                4               4    4      4  \n",
       "2018-01-12     4                4               4    4      4  \n",
       "2018-01-13     5                5               5    5      5  \n",
       "2018-01-15     4                4               4    4      4  "
      ],
      "text/html": "<div>\n<style scoped>\n    .dataframe tbody tr th:only-of-type {\n        vertical-align: middle;\n    }\n\n    .dataframe tbody tr th {\n        vertical-align: top;\n    }\n\n    .dataframe thead th {\n        text-align: right;\n    }\n</style>\n<table border=\"1\" class=\"dataframe\">\n  <thead>\n    <tr style=\"text-align: right;\">\n      <th></th>\n      <th>time</th>\n      <th>customer</th>\n      <th>bank acount</th>\n      <th>category</th>\n      <th>product_id</th>\n      <th>description</th>\n      <th>size</th>\n      <th>std_sales_price</th>\n      <th>purchase_price</th>\n      <th>bio</th>\n      <th>basic</th>\n    </tr>\n    <tr>\n      <th>day</th>\n      <th></th>\n      <th></th>\n      <th></th>\n      <th></th>\n      <th></th>\n      <th></th>\n      <th></th>\n      <th></th>\n      <th></th>\n      <th></th>\n      <th></th>\n    </tr>\n  </thead>\n  <tbody>\n    <tr>\n      <th>2018-01-01</th>\n      <td>2</td>\n      <td>2</td>\n      <td>1</td>\n      <td>2</td>\n      <td>2</td>\n      <td>2</td>\n      <td>2</td>\n      <td>2</td>\n      <td>2</td>\n      <td>2</td>\n      <td>2</td>\n    </tr>\n    <tr>\n      <th>2018-01-02</th>\n      <td>1</td>\n      <td>1</td>\n      <td>0</td>\n      <td>1</td>\n      <td>1</td>\n      <td>1</td>\n      <td>1</td>\n      <td>1</td>\n      <td>1</td>\n      <td>1</td>\n      <td>1</td>\n    </tr>\n    <tr>\n      <th>2018-01-03</th>\n      <td>3</td>\n      <td>3</td>\n      <td>3</td>\n      <td>3</td>\n      <td>3</td>\n      <td>3</td>\n      <td>3</td>\n      <td>3</td>\n      <td>3</td>\n      <td>3</td>\n      <td>3</td>\n    </tr>\n    <tr>\n      <th>2018-01-04</th>\n      <td>9</td>\n      <td>9</td>\n      <td>9</td>\n      <td>9</td>\n      <td>9</td>\n      <td>9</td>\n      <td>9</td>\n      <td>9</td>\n      <td>9</td>\n      <td>9</td>\n      <td>9</td>\n    </tr>\n    <tr>\n      <th>2018-01-05</th>\n      <td>4</td>\n      <td>4</td>\n      <td>4</td>\n      <td>4</td>\n      <td>4</td>\n      <td>4</td>\n      <td>4</td>\n      <td>4</td>\n      <td>4</td>\n      <td>4</td>\n      <td>4</td>\n    </tr>\n    <tr>\n      <th>2018-01-06</th>\n      <td>3</td>\n      <td>3</td>\n      <td>1</td>\n      <td>3</td>\n      <td>3</td>\n      <td>3</td>\n      <td>3</td>\n      <td>3</td>\n      <td>3</td>\n      <td>3</td>\n      <td>3</td>\n    </tr>\n    <tr>\n      <th>2018-01-07</th>\n      <td>7</td>\n      <td>7</td>\n      <td>4</td>\n      <td>7</td>\n      <td>7</td>\n      <td>7</td>\n      <td>7</td>\n      <td>7</td>\n      <td>7</td>\n      <td>7</td>\n      <td>7</td>\n    </tr>\n    <tr>\n      <th>2018-01-08</th>\n      <td>5</td>\n      <td>5</td>\n      <td>5</td>\n      <td>5</td>\n      <td>5</td>\n      <td>5</td>\n      <td>5</td>\n      <td>5</td>\n      <td>5</td>\n      <td>5</td>\n      <td>5</td>\n    </tr>\n    <tr>\n      <th>2018-01-09</th>\n      <td>5</td>\n      <td>5</td>\n      <td>5</td>\n      <td>5</td>\n      <td>5</td>\n      <td>5</td>\n      <td>5</td>\n      <td>5</td>\n      <td>5</td>\n      <td>5</td>\n      <td>5</td>\n    </tr>\n    <tr>\n      <th>2018-01-10</th>\n      <td>1</td>\n      <td>1</td>\n      <td>1</td>\n      <td>1</td>\n      <td>1</td>\n      <td>1</td>\n      <td>1</td>\n      <td>1</td>\n      <td>1</td>\n      <td>1</td>\n      <td>1</td>\n    </tr>\n    <tr>\n      <th>2018-01-11</th>\n      <td>4</td>\n      <td>4</td>\n      <td>4</td>\n      <td>4</td>\n      <td>4</td>\n      <td>4</td>\n      <td>4</td>\n      <td>4</td>\n      <td>4</td>\n      <td>4</td>\n      <td>4</td>\n    </tr>\n    <tr>\n      <th>2018-01-12</th>\n      <td>4</td>\n      <td>4</td>\n      <td>4</td>\n      <td>4</td>\n      <td>4</td>\n      <td>4</td>\n      <td>4</td>\n      <td>4</td>\n      <td>4</td>\n      <td>4</td>\n      <td>4</td>\n    </tr>\n    <tr>\n      <th>2018-01-13</th>\n      <td>5</td>\n      <td>5</td>\n      <td>4</td>\n      <td>5</td>\n      <td>5</td>\n      <td>5</td>\n      <td>5</td>\n      <td>5</td>\n      <td>5</td>\n      <td>5</td>\n      <td>5</td>\n    </tr>\n    <tr>\n      <th>2018-01-15</th>\n      <td>4</td>\n      <td>4</td>\n      <td>2</td>\n      <td>4</td>\n      <td>4</td>\n      <td>4</td>\n      <td>4</td>\n      <td>4</td>\n      <td>4</td>\n      <td>4</td>\n      <td>4</td>\n    </tr>\n  </tbody>\n</table>\n</div>"
     },
     "metadata": {},
     "execution_count": 31
    }
   ],
   "source": [
    "transactions[transactions['description'] == 'Biologische prei'].groupby('day').count().iloc[0:14, :]"
   ]
  },
  {
   "cell_type": "code",
   "execution_count": 131,
   "metadata": {},
   "outputs": [
    {
     "output_type": "stream",
     "name": "stderr",
     "text": [
      "<ipython-input-131-08904a856e7a>:1: SettingWithCopyWarning:\n\n\nA value is trying to be set on a copy of a slice from a DataFrame.\nTry using .loc[row_indexer,col_indexer] = value instead\n\nSee the caveats in the documentation: https://pandas.pydata.org/pandas-docs/stable/user_guide/indexing.html#returning-a-view-versus-a-copy\n\n"
     ]
    }
   ],
   "source": [
    "df_waste[\"waste nn\"] = [i if i > 0 else 0 for i in df_waste[\"waste\"]]\n",
    "#takes nonnegative values which is counted as waste\n",
    "waste_group = df_waste.groupby(\"week\").sum()\n",
    "waste_group[\"weekly purchases\"] = waste_group[\"purchases\"].diff()\n"
   ]
  },
  {
   "source": [
    "## `df_waste` is prepared for plotting"
   ],
   "cell_type": "markdown",
   "metadata": {}
  },
  {
   "cell_type": "code",
   "execution_count": 132,
   "metadata": {},
   "outputs": [
    {
     "output_type": "execute_result",
     "data": {
      "text/plain": [
       "      best before  amount  purchases  prev purchases  remaining  waste  \\\n",
       "week                                                                     \n",
       "3              31      52        119             5.0      -10.0  -41.0   \n",
       "4              45      52        179            36.0       16.0    3.0   \n",
       "5              59      52        238            25.0       27.0   27.0   \n",
       "6              73      52        283            23.0       29.0   29.0   \n",
       "7              87      52        327            24.0       28.0   28.0   \n",
       "8             101      52        383            24.0       28.0   28.0   \n",
       "9             115      52        430            26.0       26.0   26.0   \n",
       "10            129      52        492            31.0       21.0   21.0   \n",
       "11            143      52        537            21.0       31.0   31.0   \n",
       "12            157      52        589            33.0       19.0   19.0   \n",
       "13            171      52        650            23.0       29.0   29.0   \n",
       "14            185      52        716            38.0       14.0   14.0   \n",
       "15            199      52        801            40.0       12.0    9.0   \n",
       "16            213      52        860            35.0       17.0   17.0   \n",
       "17            227      52        921            25.0       27.0   27.0   \n",
       "18            241      52        967            21.0       31.0   31.0   \n",
       "19            255      22       1020            27.0       -5.0  -13.0   \n",
       "20            269      52       1064            26.0       26.0   21.0   \n",
       "21            283      52       1122            29.0       23.0   23.0   \n",
       "22            297      52       1171            21.0       31.0   31.0   \n",
       "23            311      52       1225            28.0       24.0   24.0   \n",
       "24            325      52       1266            17.0       35.0   35.0   \n",
       "25            339      52       1316            27.0       25.0   25.0   \n",
       "26            353      52       1362            24.0       28.0   28.0   \n",
       "27            367      52       1400            18.0       34.0   34.0   \n",
       "28            381      52       1445            23.0       29.0   29.0   \n",
       "29            395      52       1489            23.0       29.0   29.0   \n",
       "30            409      52       1556            39.0       13.0   13.0   \n",
       "31            423      52       1623            27.0       25.0   25.0   \n",
       "32            437      52       1676            26.0       26.0   26.0   \n",
       "33            451      52       1728            28.0       24.0   24.0   \n",
       "34            465      52       1782            30.0       22.0   22.0   \n",
       "35            479      52       1863            36.0       16.0   15.0   \n",
       "36            493      52       1912            25.0       27.0   27.0   \n",
       "37            507      52       1965            28.0       24.0   24.0   \n",
       "38            521      52       2017            23.0       29.0   29.0   \n",
       "39            535      52       2052            19.0       33.0   33.0   \n",
       "40            549      52       2103            26.0       26.0   26.0   \n",
       "41            563      52       2151            21.0       31.0   31.0   \n",
       "42            577      52       2197            27.0       25.0   25.0   \n",
       "43            591      52       2263            30.0       22.0   22.0   \n",
       "44            605      52       2312            28.0       24.0   24.0   \n",
       "45            619      52       2357            19.0       33.0   33.0   \n",
       "46            633      52       2412            32.0       20.0   20.0   \n",
       "47            647      52       2460            19.0       33.0   33.0   \n",
       "48            661      52       2506            24.0       28.0   28.0   \n",
       "\n",
       "      waste nn  weekly purchases  \n",
       "week                              \n",
       "3          0.0               NaN  \n",
       "4          6.0              60.0  \n",
       "5         27.0              59.0  \n",
       "6         29.0              45.0  \n",
       "7         28.0              44.0  \n",
       "8         28.0              56.0  \n",
       "9         26.0              47.0  \n",
       "10        21.0              62.0  \n",
       "11        31.0              45.0  \n",
       "12        19.0              52.0  \n",
       "13        29.0              61.0  \n",
       "14        14.0              66.0  \n",
       "15        12.0              85.0  \n",
       "16        17.0              59.0  \n",
       "17        27.0              61.0  \n",
       "18        31.0              46.0  \n",
       "19         0.0              53.0  \n",
       "20        21.0              44.0  \n",
       "21        23.0              58.0  \n",
       "22        31.0              49.0  \n",
       "23        24.0              54.0  \n",
       "24        35.0              41.0  \n",
       "25        25.0              50.0  \n",
       "26        28.0              46.0  \n",
       "27        34.0              38.0  \n",
       "28        29.0              45.0  \n",
       "29        29.0              44.0  \n",
       "30        13.0              67.0  \n",
       "31        25.0              67.0  \n",
       "32        26.0              53.0  \n",
       "33        24.0              52.0  \n",
       "34        22.0              54.0  \n",
       "35        16.0              81.0  \n",
       "36        27.0              49.0  \n",
       "37        24.0              53.0  \n",
       "38        29.0              52.0  \n",
       "39        33.0              35.0  \n",
       "40        26.0              51.0  \n",
       "41        31.0              48.0  \n",
       "42        25.0              46.0  \n",
       "43        22.0              66.0  \n",
       "44        24.0              49.0  \n",
       "45        33.0              45.0  \n",
       "46        20.0              55.0  \n",
       "47        33.0              48.0  \n",
       "48        28.0              46.0  "
      ],
      "text/html": "<div>\n<style scoped>\n    .dataframe tbody tr th:only-of-type {\n        vertical-align: middle;\n    }\n\n    .dataframe tbody tr th {\n        vertical-align: top;\n    }\n\n    .dataframe thead th {\n        text-align: right;\n    }\n</style>\n<table border=\"1\" class=\"dataframe\">\n  <thead>\n    <tr style=\"text-align: right;\">\n      <th></th>\n      <th>best before</th>\n      <th>amount</th>\n      <th>purchases</th>\n      <th>prev purchases</th>\n      <th>remaining</th>\n      <th>waste</th>\n      <th>waste nn</th>\n      <th>weekly purchases</th>\n    </tr>\n    <tr>\n      <th>week</th>\n      <th></th>\n      <th></th>\n      <th></th>\n      <th></th>\n      <th></th>\n      <th></th>\n      <th></th>\n      <th></th>\n    </tr>\n  </thead>\n  <tbody>\n    <tr>\n      <th>3</th>\n      <td>31</td>\n      <td>52</td>\n      <td>119</td>\n      <td>5.0</td>\n      <td>-10.0</td>\n      <td>-41.0</td>\n      <td>0.0</td>\n      <td>NaN</td>\n    </tr>\n    <tr>\n      <th>4</th>\n      <td>45</td>\n      <td>52</td>\n      <td>179</td>\n      <td>36.0</td>\n      <td>16.0</td>\n      <td>3.0</td>\n      <td>6.0</td>\n      <td>60.0</td>\n    </tr>\n    <tr>\n      <th>5</th>\n      <td>59</td>\n      <td>52</td>\n      <td>238</td>\n      <td>25.0</td>\n      <td>27.0</td>\n      <td>27.0</td>\n      <td>27.0</td>\n      <td>59.0</td>\n    </tr>\n    <tr>\n      <th>6</th>\n      <td>73</td>\n      <td>52</td>\n      <td>283</td>\n      <td>23.0</td>\n      <td>29.0</td>\n      <td>29.0</td>\n      <td>29.0</td>\n      <td>45.0</td>\n    </tr>\n    <tr>\n      <th>7</th>\n      <td>87</td>\n      <td>52</td>\n      <td>327</td>\n      <td>24.0</td>\n      <td>28.0</td>\n      <td>28.0</td>\n      <td>28.0</td>\n      <td>44.0</td>\n    </tr>\n    <tr>\n      <th>8</th>\n      <td>101</td>\n      <td>52</td>\n      <td>383</td>\n      <td>24.0</td>\n      <td>28.0</td>\n      <td>28.0</td>\n      <td>28.0</td>\n      <td>56.0</td>\n    </tr>\n    <tr>\n      <th>9</th>\n      <td>115</td>\n      <td>52</td>\n      <td>430</td>\n      <td>26.0</td>\n      <td>26.0</td>\n      <td>26.0</td>\n      <td>26.0</td>\n      <td>47.0</td>\n    </tr>\n    <tr>\n      <th>10</th>\n      <td>129</td>\n      <td>52</td>\n      <td>492</td>\n      <td>31.0</td>\n      <td>21.0</td>\n      <td>21.0</td>\n      <td>21.0</td>\n      <td>62.0</td>\n    </tr>\n    <tr>\n      <th>11</th>\n      <td>143</td>\n      <td>52</td>\n      <td>537</td>\n      <td>21.0</td>\n      <td>31.0</td>\n      <td>31.0</td>\n      <td>31.0</td>\n      <td>45.0</td>\n    </tr>\n    <tr>\n      <th>12</th>\n      <td>157</td>\n      <td>52</td>\n      <td>589</td>\n      <td>33.0</td>\n      <td>19.0</td>\n      <td>19.0</td>\n      <td>19.0</td>\n      <td>52.0</td>\n    </tr>\n    <tr>\n      <th>13</th>\n      <td>171</td>\n      <td>52</td>\n      <td>650</td>\n      <td>23.0</td>\n      <td>29.0</td>\n      <td>29.0</td>\n      <td>29.0</td>\n      <td>61.0</td>\n    </tr>\n    <tr>\n      <th>14</th>\n      <td>185</td>\n      <td>52</td>\n      <td>716</td>\n      <td>38.0</td>\n      <td>14.0</td>\n      <td>14.0</td>\n      <td>14.0</td>\n      <td>66.0</td>\n    </tr>\n    <tr>\n      <th>15</th>\n      <td>199</td>\n      <td>52</td>\n      <td>801</td>\n      <td>40.0</td>\n      <td>12.0</td>\n      <td>9.0</td>\n      <td>12.0</td>\n      <td>85.0</td>\n    </tr>\n    <tr>\n      <th>16</th>\n      <td>213</td>\n      <td>52</td>\n      <td>860</td>\n      <td>35.0</td>\n      <td>17.0</td>\n      <td>17.0</td>\n      <td>17.0</td>\n      <td>59.0</td>\n    </tr>\n    <tr>\n      <th>17</th>\n      <td>227</td>\n      <td>52</td>\n      <td>921</td>\n      <td>25.0</td>\n      <td>27.0</td>\n      <td>27.0</td>\n      <td>27.0</td>\n      <td>61.0</td>\n    </tr>\n    <tr>\n      <th>18</th>\n      <td>241</td>\n      <td>52</td>\n      <td>967</td>\n      <td>21.0</td>\n      <td>31.0</td>\n      <td>31.0</td>\n      <td>31.0</td>\n      <td>46.0</td>\n    </tr>\n    <tr>\n      <th>19</th>\n      <td>255</td>\n      <td>22</td>\n      <td>1020</td>\n      <td>27.0</td>\n      <td>-5.0</td>\n      <td>-13.0</td>\n      <td>0.0</td>\n      <td>53.0</td>\n    </tr>\n    <tr>\n      <th>20</th>\n      <td>269</td>\n      <td>52</td>\n      <td>1064</td>\n      <td>26.0</td>\n      <td>26.0</td>\n      <td>21.0</td>\n      <td>21.0</td>\n      <td>44.0</td>\n    </tr>\n    <tr>\n      <th>21</th>\n      <td>283</td>\n      <td>52</td>\n      <td>1122</td>\n      <td>29.0</td>\n      <td>23.0</td>\n      <td>23.0</td>\n      <td>23.0</td>\n      <td>58.0</td>\n    </tr>\n    <tr>\n      <th>22</th>\n      <td>297</td>\n      <td>52</td>\n      <td>1171</td>\n      <td>21.0</td>\n      <td>31.0</td>\n      <td>31.0</td>\n      <td>31.0</td>\n      <td>49.0</td>\n    </tr>\n    <tr>\n      <th>23</th>\n      <td>311</td>\n      <td>52</td>\n      <td>1225</td>\n      <td>28.0</td>\n      <td>24.0</td>\n      <td>24.0</td>\n      <td>24.0</td>\n      <td>54.0</td>\n    </tr>\n    <tr>\n      <th>24</th>\n      <td>325</td>\n      <td>52</td>\n      <td>1266</td>\n      <td>17.0</td>\n      <td>35.0</td>\n      <td>35.0</td>\n      <td>35.0</td>\n      <td>41.0</td>\n    </tr>\n    <tr>\n      <th>25</th>\n      <td>339</td>\n      <td>52</td>\n      <td>1316</td>\n      <td>27.0</td>\n      <td>25.0</td>\n      <td>25.0</td>\n      <td>25.0</td>\n      <td>50.0</td>\n    </tr>\n    <tr>\n      <th>26</th>\n      <td>353</td>\n      <td>52</td>\n      <td>1362</td>\n      <td>24.0</td>\n      <td>28.0</td>\n      <td>28.0</td>\n      <td>28.0</td>\n      <td>46.0</td>\n    </tr>\n    <tr>\n      <th>27</th>\n      <td>367</td>\n      <td>52</td>\n      <td>1400</td>\n      <td>18.0</td>\n      <td>34.0</td>\n      <td>34.0</td>\n      <td>34.0</td>\n      <td>38.0</td>\n    </tr>\n    <tr>\n      <th>28</th>\n      <td>381</td>\n      <td>52</td>\n      <td>1445</td>\n      <td>23.0</td>\n      <td>29.0</td>\n      <td>29.0</td>\n      <td>29.0</td>\n      <td>45.0</td>\n    </tr>\n    <tr>\n      <th>29</th>\n      <td>395</td>\n      <td>52</td>\n      <td>1489</td>\n      <td>23.0</td>\n      <td>29.0</td>\n      <td>29.0</td>\n      <td>29.0</td>\n      <td>44.0</td>\n    </tr>\n    <tr>\n      <th>30</th>\n      <td>409</td>\n      <td>52</td>\n      <td>1556</td>\n      <td>39.0</td>\n      <td>13.0</td>\n      <td>13.0</td>\n      <td>13.0</td>\n      <td>67.0</td>\n    </tr>\n    <tr>\n      <th>31</th>\n      <td>423</td>\n      <td>52</td>\n      <td>1623</td>\n      <td>27.0</td>\n      <td>25.0</td>\n      <td>25.0</td>\n      <td>25.0</td>\n      <td>67.0</td>\n    </tr>\n    <tr>\n      <th>32</th>\n      <td>437</td>\n      <td>52</td>\n      <td>1676</td>\n      <td>26.0</td>\n      <td>26.0</td>\n      <td>26.0</td>\n      <td>26.0</td>\n      <td>53.0</td>\n    </tr>\n    <tr>\n      <th>33</th>\n      <td>451</td>\n      <td>52</td>\n      <td>1728</td>\n      <td>28.0</td>\n      <td>24.0</td>\n      <td>24.0</td>\n      <td>24.0</td>\n      <td>52.0</td>\n    </tr>\n    <tr>\n      <th>34</th>\n      <td>465</td>\n      <td>52</td>\n      <td>1782</td>\n      <td>30.0</td>\n      <td>22.0</td>\n      <td>22.0</td>\n      <td>22.0</td>\n      <td>54.0</td>\n    </tr>\n    <tr>\n      <th>35</th>\n      <td>479</td>\n      <td>52</td>\n      <td>1863</td>\n      <td>36.0</td>\n      <td>16.0</td>\n      <td>15.0</td>\n      <td>16.0</td>\n      <td>81.0</td>\n    </tr>\n    <tr>\n      <th>36</th>\n      <td>493</td>\n      <td>52</td>\n      <td>1912</td>\n      <td>25.0</td>\n      <td>27.0</td>\n      <td>27.0</td>\n      <td>27.0</td>\n      <td>49.0</td>\n    </tr>\n    <tr>\n      <th>37</th>\n      <td>507</td>\n      <td>52</td>\n      <td>1965</td>\n      <td>28.0</td>\n      <td>24.0</td>\n      <td>24.0</td>\n      <td>24.0</td>\n      <td>53.0</td>\n    </tr>\n    <tr>\n      <th>38</th>\n      <td>521</td>\n      <td>52</td>\n      <td>2017</td>\n      <td>23.0</td>\n      <td>29.0</td>\n      <td>29.0</td>\n      <td>29.0</td>\n      <td>52.0</td>\n    </tr>\n    <tr>\n      <th>39</th>\n      <td>535</td>\n      <td>52</td>\n      <td>2052</td>\n      <td>19.0</td>\n      <td>33.0</td>\n      <td>33.0</td>\n      <td>33.0</td>\n      <td>35.0</td>\n    </tr>\n    <tr>\n      <th>40</th>\n      <td>549</td>\n      <td>52</td>\n      <td>2103</td>\n      <td>26.0</td>\n      <td>26.0</td>\n      <td>26.0</td>\n      <td>26.0</td>\n      <td>51.0</td>\n    </tr>\n    <tr>\n      <th>41</th>\n      <td>563</td>\n      <td>52</td>\n      <td>2151</td>\n      <td>21.0</td>\n      <td>31.0</td>\n      <td>31.0</td>\n      <td>31.0</td>\n      <td>48.0</td>\n    </tr>\n    <tr>\n      <th>42</th>\n      <td>577</td>\n      <td>52</td>\n      <td>2197</td>\n      <td>27.0</td>\n      <td>25.0</td>\n      <td>25.0</td>\n      <td>25.0</td>\n      <td>46.0</td>\n    </tr>\n    <tr>\n      <th>43</th>\n      <td>591</td>\n      <td>52</td>\n      <td>2263</td>\n      <td>30.0</td>\n      <td>22.0</td>\n      <td>22.0</td>\n      <td>22.0</td>\n      <td>66.0</td>\n    </tr>\n    <tr>\n      <th>44</th>\n      <td>605</td>\n      <td>52</td>\n      <td>2312</td>\n      <td>28.0</td>\n      <td>24.0</td>\n      <td>24.0</td>\n      <td>24.0</td>\n      <td>49.0</td>\n    </tr>\n    <tr>\n      <th>45</th>\n      <td>619</td>\n      <td>52</td>\n      <td>2357</td>\n      <td>19.0</td>\n      <td>33.0</td>\n      <td>33.0</td>\n      <td>33.0</td>\n      <td>45.0</td>\n    </tr>\n    <tr>\n      <th>46</th>\n      <td>633</td>\n      <td>52</td>\n      <td>2412</td>\n      <td>32.0</td>\n      <td>20.0</td>\n      <td>20.0</td>\n      <td>20.0</td>\n      <td>55.0</td>\n    </tr>\n    <tr>\n      <th>47</th>\n      <td>647</td>\n      <td>52</td>\n      <td>2460</td>\n      <td>19.0</td>\n      <td>33.0</td>\n      <td>33.0</td>\n      <td>33.0</td>\n      <td>48.0</td>\n    </tr>\n    <tr>\n      <th>48</th>\n      <td>661</td>\n      <td>52</td>\n      <td>2506</td>\n      <td>24.0</td>\n      <td>28.0</td>\n      <td>28.0</td>\n      <td>28.0</td>\n      <td>46.0</td>\n    </tr>\n  </tbody>\n</table>\n</div>"
     },
     "metadata": {},
     "execution_count": 132
    }
   ],
   "source": [
    "waste_group"
   ]
  },
  {
   "cell_type": "code",
   "execution_count": 133,
   "metadata": {},
   "outputs": [],
   "source": [
    "waste_group[\"week\"] = waste_group.index"
   ]
  },
  {
   "cell_type": "code",
   "execution_count": 134,
   "metadata": {},
   "outputs": [
    {
     "output_type": "display_data",
     "data": {
      "application/vnd.plotly.v1+json": {
       "config": {
        "plotlyServerURL": "https://plot.ly"
       },
       "data": [
        {
         "hovertemplate": "week=%{x}<br>waste nn=%{y}<extra></extra>",
         "legendgroup": "",
         "line": {
          "color": "#636efa",
          "dash": "solid"
         },
         "mode": "lines",
         "name": "",
         "orientation": "v",
         "showlegend": false,
         "type": "scatter",
         "x": [
          3,
          4,
          5,
          6,
          7,
          8,
          9,
          10,
          11,
          12,
          13,
          14,
          15,
          16,
          17,
          18,
          19,
          20,
          21,
          22,
          23,
          24,
          25,
          26,
          27,
          28,
          29,
          30,
          31,
          32,
          33,
          34,
          35,
          36,
          37,
          38,
          39,
          40,
          41,
          42,
          43,
          44,
          45,
          46,
          47,
          48
         ],
         "xaxis": "x",
         "y": [
          0,
          6,
          27,
          29,
          28,
          28,
          26,
          21,
          31,
          19,
          29,
          14,
          12,
          17,
          27,
          31,
          0,
          21,
          23,
          31,
          24,
          35,
          25,
          28,
          34,
          29,
          29,
          13,
          25,
          26,
          24,
          22,
          16,
          27,
          24,
          29,
          33,
          26,
          31,
          25,
          22,
          24,
          33,
          20,
          33,
          28
         ],
         "yaxis": "y"
        },
        {
         "mode": "lines",
         "type": "scatter",
         "x": [
          3,
          4,
          5,
          6,
          7,
          8,
          9,
          10,
          11,
          12,
          13,
          14,
          15,
          16,
          17,
          18,
          19,
          20,
          21,
          22,
          23,
          24,
          25,
          26,
          27,
          28,
          29,
          30,
          31,
          32,
          33,
          34,
          35,
          36,
          37,
          38,
          39,
          40,
          41,
          42,
          43,
          44,
          45,
          46,
          47,
          48
         ],
         "y": [
          52,
          52,
          52,
          52,
          52,
          52,
          52,
          52,
          52,
          52,
          52,
          52,
          52,
          52,
          52,
          52,
          22,
          52,
          52,
          52,
          52,
          52,
          52,
          52,
          52,
          52,
          52,
          52,
          52,
          52,
          52,
          52,
          52,
          52,
          52,
          52,
          52,
          52,
          52,
          52,
          52,
          52,
          52,
          52,
          52,
          52
         ]
        },
        {
         "mode": "lines",
         "type": "scatter",
         "x": [
          3,
          4,
          5,
          6,
          7,
          8,
          9,
          10,
          11,
          12,
          13,
          14,
          15,
          16,
          17,
          18,
          19,
          20,
          21,
          22,
          23,
          24,
          25,
          26,
          27,
          28,
          29,
          30,
          31,
          32,
          33,
          34,
          35,
          36,
          37,
          38,
          39,
          40,
          41,
          42,
          43,
          44,
          45,
          46,
          47,
          48
         ],
         "y": [
          null,
          60,
          59,
          45,
          44,
          56,
          47,
          62,
          45,
          52,
          61,
          66,
          85,
          59,
          61,
          46,
          53,
          44,
          58,
          49,
          54,
          41,
          50,
          46,
          38,
          45,
          44,
          67,
          67,
          53,
          52,
          54,
          81,
          49,
          53,
          52,
          35,
          51,
          48,
          46,
          66,
          49,
          45,
          55,
          48,
          46
         ]
        }
       ],
       "layout": {
        "legend": {
         "tracegroupgap": 0
        },
        "template": {
         "data": {
          "bar": [
           {
            "error_x": {
             "color": "#2a3f5f"
            },
            "error_y": {
             "color": "#2a3f5f"
            },
            "marker": {
             "line": {
              "color": "#E5ECF6",
              "width": 0.5
             }
            },
            "type": "bar"
           }
          ],
          "barpolar": [
           {
            "marker": {
             "line": {
              "color": "#E5ECF6",
              "width": 0.5
             }
            },
            "type": "barpolar"
           }
          ],
          "carpet": [
           {
            "aaxis": {
             "endlinecolor": "#2a3f5f",
             "gridcolor": "white",
             "linecolor": "white",
             "minorgridcolor": "white",
             "startlinecolor": "#2a3f5f"
            },
            "baxis": {
             "endlinecolor": "#2a3f5f",
             "gridcolor": "white",
             "linecolor": "white",
             "minorgridcolor": "white",
             "startlinecolor": "#2a3f5f"
            },
            "type": "carpet"
           }
          ],
          "choropleth": [
           {
            "colorbar": {
             "outlinewidth": 0,
             "ticks": ""
            },
            "type": "choropleth"
           }
          ],
          "contour": [
           {
            "colorbar": {
             "outlinewidth": 0,
             "ticks": ""
            },
            "colorscale": [
             [
              0,
              "#0d0887"
             ],
             [
              0.1111111111111111,
              "#46039f"
             ],
             [
              0.2222222222222222,
              "#7201a8"
             ],
             [
              0.3333333333333333,
              "#9c179e"
             ],
             [
              0.4444444444444444,
              "#bd3786"
             ],
             [
              0.5555555555555556,
              "#d8576b"
             ],
             [
              0.6666666666666666,
              "#ed7953"
             ],
             [
              0.7777777777777778,
              "#fb9f3a"
             ],
             [
              0.8888888888888888,
              "#fdca26"
             ],
             [
              1,
              "#f0f921"
             ]
            ],
            "type": "contour"
           }
          ],
          "contourcarpet": [
           {
            "colorbar": {
             "outlinewidth": 0,
             "ticks": ""
            },
            "type": "contourcarpet"
           }
          ],
          "heatmap": [
           {
            "colorbar": {
             "outlinewidth": 0,
             "ticks": ""
            },
            "colorscale": [
             [
              0,
              "#0d0887"
             ],
             [
              0.1111111111111111,
              "#46039f"
             ],
             [
              0.2222222222222222,
              "#7201a8"
             ],
             [
              0.3333333333333333,
              "#9c179e"
             ],
             [
              0.4444444444444444,
              "#bd3786"
             ],
             [
              0.5555555555555556,
              "#d8576b"
             ],
             [
              0.6666666666666666,
              "#ed7953"
             ],
             [
              0.7777777777777778,
              "#fb9f3a"
             ],
             [
              0.8888888888888888,
              "#fdca26"
             ],
             [
              1,
              "#f0f921"
             ]
            ],
            "type": "heatmap"
           }
          ],
          "heatmapgl": [
           {
            "colorbar": {
             "outlinewidth": 0,
             "ticks": ""
            },
            "colorscale": [
             [
              0,
              "#0d0887"
             ],
             [
              0.1111111111111111,
              "#46039f"
             ],
             [
              0.2222222222222222,
              "#7201a8"
             ],
             [
              0.3333333333333333,
              "#9c179e"
             ],
             [
              0.4444444444444444,
              "#bd3786"
             ],
             [
              0.5555555555555556,
              "#d8576b"
             ],
             [
              0.6666666666666666,
              "#ed7953"
             ],
             [
              0.7777777777777778,
              "#fb9f3a"
             ],
             [
              0.8888888888888888,
              "#fdca26"
             ],
             [
              1,
              "#f0f921"
             ]
            ],
            "type": "heatmapgl"
           }
          ],
          "histogram": [
           {
            "marker": {
             "colorbar": {
              "outlinewidth": 0,
              "ticks": ""
             }
            },
            "type": "histogram"
           }
          ],
          "histogram2d": [
           {
            "colorbar": {
             "outlinewidth": 0,
             "ticks": ""
            },
            "colorscale": [
             [
              0,
              "#0d0887"
             ],
             [
              0.1111111111111111,
              "#46039f"
             ],
             [
              0.2222222222222222,
              "#7201a8"
             ],
             [
              0.3333333333333333,
              "#9c179e"
             ],
             [
              0.4444444444444444,
              "#bd3786"
             ],
             [
              0.5555555555555556,
              "#d8576b"
             ],
             [
              0.6666666666666666,
              "#ed7953"
             ],
             [
              0.7777777777777778,
              "#fb9f3a"
             ],
             [
              0.8888888888888888,
              "#fdca26"
             ],
             [
              1,
              "#f0f921"
             ]
            ],
            "type": "histogram2d"
           }
          ],
          "histogram2dcontour": [
           {
            "colorbar": {
             "outlinewidth": 0,
             "ticks": ""
            },
            "colorscale": [
             [
              0,
              "#0d0887"
             ],
             [
              0.1111111111111111,
              "#46039f"
             ],
             [
              0.2222222222222222,
              "#7201a8"
             ],
             [
              0.3333333333333333,
              "#9c179e"
             ],
             [
              0.4444444444444444,
              "#bd3786"
             ],
             [
              0.5555555555555556,
              "#d8576b"
             ],
             [
              0.6666666666666666,
              "#ed7953"
             ],
             [
              0.7777777777777778,
              "#fb9f3a"
             ],
             [
              0.8888888888888888,
              "#fdca26"
             ],
             [
              1,
              "#f0f921"
             ]
            ],
            "type": "histogram2dcontour"
           }
          ],
          "mesh3d": [
           {
            "colorbar": {
             "outlinewidth": 0,
             "ticks": ""
            },
            "type": "mesh3d"
           }
          ],
          "parcoords": [
           {
            "line": {
             "colorbar": {
              "outlinewidth": 0,
              "ticks": ""
             }
            },
            "type": "parcoords"
           }
          ],
          "pie": [
           {
            "automargin": true,
            "type": "pie"
           }
          ],
          "scatter": [
           {
            "marker": {
             "colorbar": {
              "outlinewidth": 0,
              "ticks": ""
             }
            },
            "type": "scatter"
           }
          ],
          "scatter3d": [
           {
            "line": {
             "colorbar": {
              "outlinewidth": 0,
              "ticks": ""
             }
            },
            "marker": {
             "colorbar": {
              "outlinewidth": 0,
              "ticks": ""
             }
            },
            "type": "scatter3d"
           }
          ],
          "scattercarpet": [
           {
            "marker": {
             "colorbar": {
              "outlinewidth": 0,
              "ticks": ""
             }
            },
            "type": "scattercarpet"
           }
          ],
          "scattergeo": [
           {
            "marker": {
             "colorbar": {
              "outlinewidth": 0,
              "ticks": ""
             }
            },
            "type": "scattergeo"
           }
          ],
          "scattergl": [
           {
            "marker": {
             "colorbar": {
              "outlinewidth": 0,
              "ticks": ""
             }
            },
            "type": "scattergl"
           }
          ],
          "scattermapbox": [
           {
            "marker": {
             "colorbar": {
              "outlinewidth": 0,
              "ticks": ""
             }
            },
            "type": "scattermapbox"
           }
          ],
          "scatterpolar": [
           {
            "marker": {
             "colorbar": {
              "outlinewidth": 0,
              "ticks": ""
             }
            },
            "type": "scatterpolar"
           }
          ],
          "scatterpolargl": [
           {
            "marker": {
             "colorbar": {
              "outlinewidth": 0,
              "ticks": ""
             }
            },
            "type": "scatterpolargl"
           }
          ],
          "scatterternary": [
           {
            "marker": {
             "colorbar": {
              "outlinewidth": 0,
              "ticks": ""
             }
            },
            "type": "scatterternary"
           }
          ],
          "surface": [
           {
            "colorbar": {
             "outlinewidth": 0,
             "ticks": ""
            },
            "colorscale": [
             [
              0,
              "#0d0887"
             ],
             [
              0.1111111111111111,
              "#46039f"
             ],
             [
              0.2222222222222222,
              "#7201a8"
             ],
             [
              0.3333333333333333,
              "#9c179e"
             ],
             [
              0.4444444444444444,
              "#bd3786"
             ],
             [
              0.5555555555555556,
              "#d8576b"
             ],
             [
              0.6666666666666666,
              "#ed7953"
             ],
             [
              0.7777777777777778,
              "#fb9f3a"
             ],
             [
              0.8888888888888888,
              "#fdca26"
             ],
             [
              1,
              "#f0f921"
             ]
            ],
            "type": "surface"
           }
          ],
          "table": [
           {
            "cells": {
             "fill": {
              "color": "#EBF0F8"
             },
             "line": {
              "color": "white"
             }
            },
            "header": {
             "fill": {
              "color": "#C8D4E3"
             },
             "line": {
              "color": "white"
             }
            },
            "type": "table"
           }
          ]
         },
         "layout": {
          "annotationdefaults": {
           "arrowcolor": "#2a3f5f",
           "arrowhead": 0,
           "arrowwidth": 1
          },
          "coloraxis": {
           "colorbar": {
            "outlinewidth": 0,
            "ticks": ""
           }
          },
          "colorscale": {
           "diverging": [
            [
             0,
             "#8e0152"
            ],
            [
             0.1,
             "#c51b7d"
            ],
            [
             0.2,
             "#de77ae"
            ],
            [
             0.3,
             "#f1b6da"
            ],
            [
             0.4,
             "#fde0ef"
            ],
            [
             0.5,
             "#f7f7f7"
            ],
            [
             0.6,
             "#e6f5d0"
            ],
            [
             0.7,
             "#b8e186"
            ],
            [
             0.8,
             "#7fbc41"
            ],
            [
             0.9,
             "#4d9221"
            ],
            [
             1,
             "#276419"
            ]
           ],
           "sequential": [
            [
             0,
             "#0d0887"
            ],
            [
             0.1111111111111111,
             "#46039f"
            ],
            [
             0.2222222222222222,
             "#7201a8"
            ],
            [
             0.3333333333333333,
             "#9c179e"
            ],
            [
             0.4444444444444444,
             "#bd3786"
            ],
            [
             0.5555555555555556,
             "#d8576b"
            ],
            [
             0.6666666666666666,
             "#ed7953"
            ],
            [
             0.7777777777777778,
             "#fb9f3a"
            ],
            [
             0.8888888888888888,
             "#fdca26"
            ],
            [
             1,
             "#f0f921"
            ]
           ],
           "sequentialminus": [
            [
             0,
             "#0d0887"
            ],
            [
             0.1111111111111111,
             "#46039f"
            ],
            [
             0.2222222222222222,
             "#7201a8"
            ],
            [
             0.3333333333333333,
             "#9c179e"
            ],
            [
             0.4444444444444444,
             "#bd3786"
            ],
            [
             0.5555555555555556,
             "#d8576b"
            ],
            [
             0.6666666666666666,
             "#ed7953"
            ],
            [
             0.7777777777777778,
             "#fb9f3a"
            ],
            [
             0.8888888888888888,
             "#fdca26"
            ],
            [
             1,
             "#f0f921"
            ]
           ]
          },
          "colorway": [
           "#636efa",
           "#EF553B",
           "#00cc96",
           "#ab63fa",
           "#FFA15A",
           "#19d3f3",
           "#FF6692",
           "#B6E880",
           "#FF97FF",
           "#FECB52"
          ],
          "font": {
           "color": "#2a3f5f"
          },
          "geo": {
           "bgcolor": "white",
           "lakecolor": "white",
           "landcolor": "#E5ECF6",
           "showlakes": true,
           "showland": true,
           "subunitcolor": "white"
          },
          "hoverlabel": {
           "align": "left"
          },
          "hovermode": "closest",
          "mapbox": {
           "style": "light"
          },
          "paper_bgcolor": "white",
          "plot_bgcolor": "#E5ECF6",
          "polar": {
           "angularaxis": {
            "gridcolor": "white",
            "linecolor": "white",
            "ticks": ""
           },
           "bgcolor": "#E5ECF6",
           "radialaxis": {
            "gridcolor": "white",
            "linecolor": "white",
            "ticks": ""
           }
          },
          "scene": {
           "xaxis": {
            "backgroundcolor": "#E5ECF6",
            "gridcolor": "white",
            "gridwidth": 2,
            "linecolor": "white",
            "showbackground": true,
            "ticks": "",
            "zerolinecolor": "white"
           },
           "yaxis": {
            "backgroundcolor": "#E5ECF6",
            "gridcolor": "white",
            "gridwidth": 2,
            "linecolor": "white",
            "showbackground": true,
            "ticks": "",
            "zerolinecolor": "white"
           },
           "zaxis": {
            "backgroundcolor": "#E5ECF6",
            "gridcolor": "white",
            "gridwidth": 2,
            "linecolor": "white",
            "showbackground": true,
            "ticks": "",
            "zerolinecolor": "white"
           }
          },
          "shapedefaults": {
           "line": {
            "color": "#2a3f5f"
           }
          },
          "ternary": {
           "aaxis": {
            "gridcolor": "white",
            "linecolor": "white",
            "ticks": ""
           },
           "baxis": {
            "gridcolor": "white",
            "linecolor": "white",
            "ticks": ""
           },
           "bgcolor": "#E5ECF6",
           "caxis": {
            "gridcolor": "white",
            "linecolor": "white",
            "ticks": ""
           }
          },
          "title": {
           "x": 0.05
          },
          "xaxis": {
           "automargin": true,
           "gridcolor": "white",
           "linecolor": "white",
           "ticks": "",
           "title": {
            "standoff": 15
           },
           "zerolinecolor": "white",
           "zerolinewidth": 2
          },
          "yaxis": {
           "automargin": true,
           "gridcolor": "white",
           "linecolor": "white",
           "ticks": "",
           "title": {
            "standoff": 15
           },
           "zerolinecolor": "white",
           "zerolinewidth": 2
          }
         }
        },
        "title": {
         "text": "Absolute waste of Biologische prei per week"
        },
        "xaxis": {
         "anchor": "y",
         "domain": [
          0,
          1
         ],
         "title": {
          "text": "week"
         }
        },
        "yaxis": {
         "anchor": "x",
         "domain": [
          0,
          1
         ],
         "title": {
          "text": "Waste amount"
         }
        }
       }
      }
     },
     "metadata": {}
    }
   ],
   "source": [
    "import plotly.express as px\n",
    "fig = px.line(waste_group, x = \"week\", y = \"waste nn\", title=\"Absolute waste of {} per week\".format(product))\n",
    "fig.add_scatter(x=waste_group[\"week\"], y=waste_group[\"amount\"], mode=\"lines\")\n",
    "fig.add_scatter(x=waste_group[\"week\"], y=waste_group[\"weekly purchases\"], mode=\"lines\")\n",
    "fig.update_yaxes(title=\"Waste amount\")\n",
    "fig.show()"
   ]
  },
  {
   "cell_type": "code",
   "execution_count": 112,
   "metadata": {},
   "outputs": [
    {
     "output_type": "execute_result",
     "data": {
      "text/plain": [
       "day\n",
       "2018-01-01       8\n",
       "2018-01-02      13\n",
       "2018-01-03      18\n",
       "2018-01-04      30\n",
       "2018-01-05      40\n",
       "              ... \n",
       "2018-12-26    2913\n",
       "2018-12-27    2918\n",
       "2018-12-28    2921\n",
       "2018-12-29    2934\n",
       "2018-12-30    2943\n",
       "Name: product_id, Length: 364, dtype: int64"
      ]
     },
     "metadata": {},
     "execution_count": 112
    }
   ],
   "source": [
    "purchases_per_day"
   ]
  },
  {
   "cell_type": "code",
   "execution_count": 71,
   "metadata": {},
   "outputs": [],
   "source": [
    "transactions[\"day\"] = pd.to_datetime(transactions[\"day\"])\n",
    "filter_transactions = transactions[transactions[\"description\"] == product]"
   ]
  },
  {
   "cell_type": "code",
   "execution_count": 86,
   "metadata": {},
   "outputs": [
    {
     "output_type": "execute_result",
     "data": {
      "text/plain": [
       "             day      time  customer  bank acount   category product_id  \\\n",
       "89    2018-01-01  10:40:13       6.0   54211938.0  vegetable        v_1   \n",
       "467   2018-01-01  14:21:35      26.0   51433968.0  vegetable        v_1   \n",
       "573   2018-01-01  15:36:46      33.0   30794082.0  vegetable        v_1   \n",
       "700   2018-01-01  16:56:20      39.0   15832817.0  vegetable        v_1   \n",
       "808   2018-01-01  18:15:29      46.0   90399261.0  vegetable        v_1   \n",
       "821   2018-01-01  18:15:29      46.0   90399261.0  vegetable        v_1   \n",
       "824   2018-01-01  18:15:29      46.0   90399261.0  vegetable        v_1   \n",
       "879   2018-01-01  18:46:48      49.0   15382238.0  vegetable        v_1   \n",
       "29093 2018-01-02  12:52:06    1714.0   28719528.0  vegetable        v_1   \n",
       "29134 2018-01-02  13:44:14    1718.0   39309224.0  vegetable        v_1   \n",
       "29295 2018-01-02  15:15:43    1728.0    8997496.0  vegetable        v_1   \n",
       "29445 2018-01-02  17:57:52    1737.0   34052285.0  vegetable        v_1   \n",
       "29559 2018-01-02  18:51:21    1745.0   50106779.0  vegetable        v_1   \n",
       "55959 2018-01-03   9:22:58    3327.0          NaN  vegetable        v_1   \n",
       "56275 2018-01-03  13:35:26    3346.0   73805186.0  vegetable        v_1   \n",
       "56537 2018-01-03  16:48:00    3364.0   73806149.0  vegetable        v_1   \n",
       "56586 2018-01-03  17:58:20    3369.0     319898.0  vegetable        v_1   \n",
       "56613 2018-01-03  18:20:23    3370.0   98645816.0  vegetable        v_1   \n",
       "\n",
       "      description size  std_sales_price  purchase_price  bio  basic  \n",
       "89      Komkommer  1st             0.69            0.69  0.0    0.0  \n",
       "467     Komkommer  1st             0.69            0.69  0.0    0.0  \n",
       "573     Komkommer  1st             0.69            0.69  0.0    0.0  \n",
       "700     Komkommer  1st             0.69            0.69  0.0    0.0  \n",
       "808     Komkommer  1st             0.69            0.69  0.0    0.0  \n",
       "821     Komkommer  1st             0.69            0.69  0.0    0.0  \n",
       "824     Komkommer  1st             0.69            0.69  0.0    0.0  \n",
       "879     Komkommer  1st             0.69            0.69  0.0    0.0  \n",
       "29093   Komkommer  1st             0.69            0.69  0.0    0.0  \n",
       "29134   Komkommer  1st             0.69            0.69  0.0    0.0  \n",
       "29295   Komkommer  1st             0.69            0.69  0.0    0.0  \n",
       "29445   Komkommer  1st             0.69            0.69  0.0    0.0  \n",
       "29559   Komkommer  1st             0.69            0.69  0.0    0.0  \n",
       "55959   Komkommer  1st             0.69            0.69  0.0    0.0  \n",
       "56275   Komkommer  1st             0.69            0.69  0.0    0.0  \n",
       "56537   Komkommer  1st             0.69            0.69  0.0    0.0  \n",
       "56586   Komkommer  1st             0.69            0.69  0.0    0.0  \n",
       "56613   Komkommer  1st             0.69            0.69  0.0    0.0  "
      ],
      "text/html": "<div>\n<style scoped>\n    .dataframe tbody tr th:only-of-type {\n        vertical-align: middle;\n    }\n\n    .dataframe tbody tr th {\n        vertical-align: top;\n    }\n\n    .dataframe thead th {\n        text-align: right;\n    }\n</style>\n<table border=\"1\" class=\"dataframe\">\n  <thead>\n    <tr style=\"text-align: right;\">\n      <th></th>\n      <th>day</th>\n      <th>time</th>\n      <th>customer</th>\n      <th>bank acount</th>\n      <th>category</th>\n      <th>product_id</th>\n      <th>description</th>\n      <th>size</th>\n      <th>std_sales_price</th>\n      <th>purchase_price</th>\n      <th>bio</th>\n      <th>basic</th>\n    </tr>\n  </thead>\n  <tbody>\n    <tr>\n      <th>89</th>\n      <td>2018-01-01</td>\n      <td>10:40:13</td>\n      <td>6.0</td>\n      <td>54211938.0</td>\n      <td>vegetable</td>\n      <td>v_1</td>\n      <td>Komkommer</td>\n      <td>1st</td>\n      <td>0.69</td>\n      <td>0.69</td>\n      <td>0.0</td>\n      <td>0.0</td>\n    </tr>\n    <tr>\n      <th>467</th>\n      <td>2018-01-01</td>\n      <td>14:21:35</td>\n      <td>26.0</td>\n      <td>51433968.0</td>\n      <td>vegetable</td>\n      <td>v_1</td>\n      <td>Komkommer</td>\n      <td>1st</td>\n      <td>0.69</td>\n      <td>0.69</td>\n      <td>0.0</td>\n      <td>0.0</td>\n    </tr>\n    <tr>\n      <th>573</th>\n      <td>2018-01-01</td>\n      <td>15:36:46</td>\n      <td>33.0</td>\n      <td>30794082.0</td>\n      <td>vegetable</td>\n      <td>v_1</td>\n      <td>Komkommer</td>\n      <td>1st</td>\n      <td>0.69</td>\n      <td>0.69</td>\n      <td>0.0</td>\n      <td>0.0</td>\n    </tr>\n    <tr>\n      <th>700</th>\n      <td>2018-01-01</td>\n      <td>16:56:20</td>\n      <td>39.0</td>\n      <td>15832817.0</td>\n      <td>vegetable</td>\n      <td>v_1</td>\n      <td>Komkommer</td>\n      <td>1st</td>\n      <td>0.69</td>\n      <td>0.69</td>\n      <td>0.0</td>\n      <td>0.0</td>\n    </tr>\n    <tr>\n      <th>808</th>\n      <td>2018-01-01</td>\n      <td>18:15:29</td>\n      <td>46.0</td>\n      <td>90399261.0</td>\n      <td>vegetable</td>\n      <td>v_1</td>\n      <td>Komkommer</td>\n      <td>1st</td>\n      <td>0.69</td>\n      <td>0.69</td>\n      <td>0.0</td>\n      <td>0.0</td>\n    </tr>\n    <tr>\n      <th>821</th>\n      <td>2018-01-01</td>\n      <td>18:15:29</td>\n      <td>46.0</td>\n      <td>90399261.0</td>\n      <td>vegetable</td>\n      <td>v_1</td>\n      <td>Komkommer</td>\n      <td>1st</td>\n      <td>0.69</td>\n      <td>0.69</td>\n      <td>0.0</td>\n      <td>0.0</td>\n    </tr>\n    <tr>\n      <th>824</th>\n      <td>2018-01-01</td>\n      <td>18:15:29</td>\n      <td>46.0</td>\n      <td>90399261.0</td>\n      <td>vegetable</td>\n      <td>v_1</td>\n      <td>Komkommer</td>\n      <td>1st</td>\n      <td>0.69</td>\n      <td>0.69</td>\n      <td>0.0</td>\n      <td>0.0</td>\n    </tr>\n    <tr>\n      <th>879</th>\n      <td>2018-01-01</td>\n      <td>18:46:48</td>\n      <td>49.0</td>\n      <td>15382238.0</td>\n      <td>vegetable</td>\n      <td>v_1</td>\n      <td>Komkommer</td>\n      <td>1st</td>\n      <td>0.69</td>\n      <td>0.69</td>\n      <td>0.0</td>\n      <td>0.0</td>\n    </tr>\n    <tr>\n      <th>29093</th>\n      <td>2018-01-02</td>\n      <td>12:52:06</td>\n      <td>1714.0</td>\n      <td>28719528.0</td>\n      <td>vegetable</td>\n      <td>v_1</td>\n      <td>Komkommer</td>\n      <td>1st</td>\n      <td>0.69</td>\n      <td>0.69</td>\n      <td>0.0</td>\n      <td>0.0</td>\n    </tr>\n    <tr>\n      <th>29134</th>\n      <td>2018-01-02</td>\n      <td>13:44:14</td>\n      <td>1718.0</td>\n      <td>39309224.0</td>\n      <td>vegetable</td>\n      <td>v_1</td>\n      <td>Komkommer</td>\n      <td>1st</td>\n      <td>0.69</td>\n      <td>0.69</td>\n      <td>0.0</td>\n      <td>0.0</td>\n    </tr>\n    <tr>\n      <th>29295</th>\n      <td>2018-01-02</td>\n      <td>15:15:43</td>\n      <td>1728.0</td>\n      <td>8997496.0</td>\n      <td>vegetable</td>\n      <td>v_1</td>\n      <td>Komkommer</td>\n      <td>1st</td>\n      <td>0.69</td>\n      <td>0.69</td>\n      <td>0.0</td>\n      <td>0.0</td>\n    </tr>\n    <tr>\n      <th>29445</th>\n      <td>2018-01-02</td>\n      <td>17:57:52</td>\n      <td>1737.0</td>\n      <td>34052285.0</td>\n      <td>vegetable</td>\n      <td>v_1</td>\n      <td>Komkommer</td>\n      <td>1st</td>\n      <td>0.69</td>\n      <td>0.69</td>\n      <td>0.0</td>\n      <td>0.0</td>\n    </tr>\n    <tr>\n      <th>29559</th>\n      <td>2018-01-02</td>\n      <td>18:51:21</td>\n      <td>1745.0</td>\n      <td>50106779.0</td>\n      <td>vegetable</td>\n      <td>v_1</td>\n      <td>Komkommer</td>\n      <td>1st</td>\n      <td>0.69</td>\n      <td>0.69</td>\n      <td>0.0</td>\n      <td>0.0</td>\n    </tr>\n    <tr>\n      <th>55959</th>\n      <td>2018-01-03</td>\n      <td>9:22:58</td>\n      <td>3327.0</td>\n      <td>NaN</td>\n      <td>vegetable</td>\n      <td>v_1</td>\n      <td>Komkommer</td>\n      <td>1st</td>\n      <td>0.69</td>\n      <td>0.69</td>\n      <td>0.0</td>\n      <td>0.0</td>\n    </tr>\n    <tr>\n      <th>56275</th>\n      <td>2018-01-03</td>\n      <td>13:35:26</td>\n      <td>3346.0</td>\n      <td>73805186.0</td>\n      <td>vegetable</td>\n      <td>v_1</td>\n      <td>Komkommer</td>\n      <td>1st</td>\n      <td>0.69</td>\n      <td>0.69</td>\n      <td>0.0</td>\n      <td>0.0</td>\n    </tr>\n    <tr>\n      <th>56537</th>\n      <td>2018-01-03</td>\n      <td>16:48:00</td>\n      <td>3364.0</td>\n      <td>73806149.0</td>\n      <td>vegetable</td>\n      <td>v_1</td>\n      <td>Komkommer</td>\n      <td>1st</td>\n      <td>0.69</td>\n      <td>0.69</td>\n      <td>0.0</td>\n      <td>0.0</td>\n    </tr>\n    <tr>\n      <th>56586</th>\n      <td>2018-01-03</td>\n      <td>17:58:20</td>\n      <td>3369.0</td>\n      <td>319898.0</td>\n      <td>vegetable</td>\n      <td>v_1</td>\n      <td>Komkommer</td>\n      <td>1st</td>\n      <td>0.69</td>\n      <td>0.69</td>\n      <td>0.0</td>\n      <td>0.0</td>\n    </tr>\n    <tr>\n      <th>56613</th>\n      <td>2018-01-03</td>\n      <td>18:20:23</td>\n      <td>3370.0</td>\n      <td>98645816.0</td>\n      <td>vegetable</td>\n      <td>v_1</td>\n      <td>Komkommer</td>\n      <td>1st</td>\n      <td>0.69</td>\n      <td>0.69</td>\n      <td>0.0</td>\n      <td>0.0</td>\n    </tr>\n  </tbody>\n</table>\n</div>"
     },
     "metadata": {},
     "execution_count": 86
    }
   ],
   "source": [
    "daydate = df_date[df_date[\"day\"] == 2][\"date\"].values[0]\n",
    "\n",
    "filter_transactions[filter_transactions[\"day\"] <= daydate]\n"
   ]
  },
  {
   "cell_type": "code",
   "execution_count": 111,
   "metadata": {},
   "outputs": [
    {
     "output_type": "execute_result",
     "data": {
      "text/plain": [
       "day\n",
       "2018-01-01       8\n",
       "2018-01-02      13\n",
       "2018-01-03      18\n",
       "2018-01-04      30\n",
       "2018-01-05      40\n",
       "              ... \n",
       "2018-12-26    2913\n",
       "2018-12-27    2918\n",
       "2018-12-28    2921\n",
       "2018-12-29    2934\n",
       "2018-12-30    2943\n",
       "Name: product_id, Length: 364, dtype: int64"
      ]
     },
     "metadata": {},
     "execution_count": 111
    }
   ],
   "source": [
    "purchases_per_day = filter_transactions.groupby(\"day\").count()[\"product_id\"].cumsum()\n",
    "purchases_per_day"
   ]
  },
  {
   "cell_type": "code",
   "execution_count": 52,
   "metadata": {},
   "outputs": [
    {
     "output_type": "execute_result",
     "data": {
      "text/plain": [
       "numpy.datetime64('2018-01-15T00:00:00.000000000')"
      ]
     },
     "metadata": {},
     "execution_count": 52
    }
   ],
   "source": [
    "daydate"
   ]
  },
  {
   "cell_type": "code",
   "execution_count": 15,
   "metadata": {},
   "outputs": [],
   "source": [
    "dayofyear = list(range(365))\n",
    "date = [datetime.datetime(2018, 1, 1) + datetime.timedelta(day) for day in dayofyear]\n",
    "df_date = pd.DataFrame({\"day\":dayofyear, \"date\":date})"
   ]
  }
 ]
}