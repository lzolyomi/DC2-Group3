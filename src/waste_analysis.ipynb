{
 "metadata": {
  "language_info": {
   "codemirror_mode": {
    "name": "ipython",
    "version": 3
   },
   "file_extension": ".py",
   "mimetype": "text/x-python",
   "name": "python",
   "nbconvert_exporter": "python",
   "pygments_lexer": "ipython3",
   "version": "3.8.2-final"
  },
  "orig_nbformat": 2,
  "kernelspec": {
   "name": "python3",
   "display_name": "Python 3.8.2 64-bit",
   "metadata": {
    "interpreter": {
     "hash": "1baa965d5efe3ac65b79dfc60c0d706280b1da80fedb7760faf2759126c4f253"
    }
   }
  }
 },
 "nbformat": 4,
 "nbformat_minor": 2,
 "cells": [
  {
   "cell_type": "code",
   "execution_count": 1,
   "metadata": {},
   "outputs": [],
   "source": [
    "import pandas as pd\n",
    "import numpy as np \n",
    "import datetime\n",
    "inventory = pd.read_csv(\"data/inventory.csv\")\n",
    "products = pd.read_csv(\"data/products.csv\")\n",
    "promotions = pd.read_csv(\"data/promotions.csv\")\n",
    "transactions = pd.read_csv(\"data/transactions.csv\")\n",
    "\n",
    "import ast\n",
    "for colname in inventory.columns[2:]:\n",
    "    inventory[colname] = [ast.literal_eval(i) for i in inventory[colname]]"
   ]
  },
  {
   "cell_type": "code",
   "execution_count": 66,
   "metadata": {},
   "outputs": [
    {
     "output_type": "execute_result",
     "data": {
      "text/plain": [
       "              day      time  customer  bank acount   category product_id  \\\n",
       "237    2018-01-01  13:03:28      16.0          NaN  vegetable       v_20   \n",
       "420    2018-01-01  14:09:57      24.0   55280334.0  vegetable       v_20   \n",
       "683    2018-01-01  16:56:20      39.0   15832817.0  vegetable       v_20   \n",
       "699    2018-01-01  16:56:20      39.0   15832817.0  vegetable       v_20   \n",
       "1057   2018-01-01  19:59:10      58.0   53245671.0  vegetable       v_20   \n",
       "...           ...       ...       ...          ...        ...        ...   \n",
       "353636 2018-12-29  17:25:54   20625.0   90982137.0  vegetable       v_20   \n",
       "353638 2018-12-29  17:25:54   20625.0   90982137.0  vegetable       v_20   \n",
       "353642 2018-12-29  17:25:54   20625.0   90982137.0  vegetable       v_20   \n",
       "353908 2018-12-30   9:09:23   20639.0    6301858.0  vegetable       v_20   \n",
       "354477 2018-12-30  16:25:46   20667.0   43420043.0  vegetable       v_20   \n",
       "\n",
       "                 description  size  std_sales_price  purchase_price  bio  \\\n",
       "237     Biologische brocolli  400g             1.79            1.79  1.0   \n",
       "420     Biologische brocolli  400g             1.79            1.79  1.0   \n",
       "683     Biologische brocolli  400g             1.79            1.79  1.0   \n",
       "699     Biologische brocolli  400g             1.79            1.79  1.0   \n",
       "1057    Biologische brocolli  400g             1.79            1.79  1.0   \n",
       "...                      ...   ...              ...             ...  ...   \n",
       "353636  Biologische brocolli  400g             1.79            1.79  1.0   \n",
       "353638  Biologische brocolli  400g             1.79            1.79  1.0   \n",
       "353642  Biologische brocolli  400g             1.79            1.79  1.0   \n",
       "353908  Biologische brocolli  400g             1.79            1.79  1.0   \n",
       "354477  Biologische brocolli  400g             1.79            1.79  1.0   \n",
       "\n",
       "        basic  \n",
       "237       0.0  \n",
       "420       0.0  \n",
       "683       0.0  \n",
       "699       0.0  \n",
       "1057      0.0  \n",
       "...       ...  \n",
       "353636    0.0  \n",
       "353638    0.0  \n",
       "353642    0.0  \n",
       "353908    0.0  \n",
       "354477    0.0  \n",
       "\n",
       "[1306 rows x 12 columns]"
      ],
      "text/html": "<div>\n<style scoped>\n    .dataframe tbody tr th:only-of-type {\n        vertical-align: middle;\n    }\n\n    .dataframe tbody tr th {\n        vertical-align: top;\n    }\n\n    .dataframe thead th {\n        text-align: right;\n    }\n</style>\n<table border=\"1\" class=\"dataframe\">\n  <thead>\n    <tr style=\"text-align: right;\">\n      <th></th>\n      <th>day</th>\n      <th>time</th>\n      <th>customer</th>\n      <th>bank acount</th>\n      <th>category</th>\n      <th>product_id</th>\n      <th>description</th>\n      <th>size</th>\n      <th>std_sales_price</th>\n      <th>purchase_price</th>\n      <th>bio</th>\n      <th>basic</th>\n    </tr>\n  </thead>\n  <tbody>\n    <tr>\n      <th>237</th>\n      <td>2018-01-01</td>\n      <td>13:03:28</td>\n      <td>16.0</td>\n      <td>NaN</td>\n      <td>vegetable</td>\n      <td>v_20</td>\n      <td>Biologische brocolli</td>\n      <td>400g</td>\n      <td>1.79</td>\n      <td>1.79</td>\n      <td>1.0</td>\n      <td>0.0</td>\n    </tr>\n    <tr>\n      <th>420</th>\n      <td>2018-01-01</td>\n      <td>14:09:57</td>\n      <td>24.0</td>\n      <td>55280334.0</td>\n      <td>vegetable</td>\n      <td>v_20</td>\n      <td>Biologische brocolli</td>\n      <td>400g</td>\n      <td>1.79</td>\n      <td>1.79</td>\n      <td>1.0</td>\n      <td>0.0</td>\n    </tr>\n    <tr>\n      <th>683</th>\n      <td>2018-01-01</td>\n      <td>16:56:20</td>\n      <td>39.0</td>\n      <td>15832817.0</td>\n      <td>vegetable</td>\n      <td>v_20</td>\n      <td>Biologische brocolli</td>\n      <td>400g</td>\n      <td>1.79</td>\n      <td>1.79</td>\n      <td>1.0</td>\n      <td>0.0</td>\n    </tr>\n    <tr>\n      <th>699</th>\n      <td>2018-01-01</td>\n      <td>16:56:20</td>\n      <td>39.0</td>\n      <td>15832817.0</td>\n      <td>vegetable</td>\n      <td>v_20</td>\n      <td>Biologische brocolli</td>\n      <td>400g</td>\n      <td>1.79</td>\n      <td>1.79</td>\n      <td>1.0</td>\n      <td>0.0</td>\n    </tr>\n    <tr>\n      <th>1057</th>\n      <td>2018-01-01</td>\n      <td>19:59:10</td>\n      <td>58.0</td>\n      <td>53245671.0</td>\n      <td>vegetable</td>\n      <td>v_20</td>\n      <td>Biologische brocolli</td>\n      <td>400g</td>\n      <td>1.79</td>\n      <td>1.79</td>\n      <td>1.0</td>\n      <td>0.0</td>\n    </tr>\n    <tr>\n      <th>...</th>\n      <td>...</td>\n      <td>...</td>\n      <td>...</td>\n      <td>...</td>\n      <td>...</td>\n      <td>...</td>\n      <td>...</td>\n      <td>...</td>\n      <td>...</td>\n      <td>...</td>\n      <td>...</td>\n      <td>...</td>\n    </tr>\n    <tr>\n      <th>353636</th>\n      <td>2018-12-29</td>\n      <td>17:25:54</td>\n      <td>20625.0</td>\n      <td>90982137.0</td>\n      <td>vegetable</td>\n      <td>v_20</td>\n      <td>Biologische brocolli</td>\n      <td>400g</td>\n      <td>1.79</td>\n      <td>1.79</td>\n      <td>1.0</td>\n      <td>0.0</td>\n    </tr>\n    <tr>\n      <th>353638</th>\n      <td>2018-12-29</td>\n      <td>17:25:54</td>\n      <td>20625.0</td>\n      <td>90982137.0</td>\n      <td>vegetable</td>\n      <td>v_20</td>\n      <td>Biologische brocolli</td>\n      <td>400g</td>\n      <td>1.79</td>\n      <td>1.79</td>\n      <td>1.0</td>\n      <td>0.0</td>\n    </tr>\n    <tr>\n      <th>353642</th>\n      <td>2018-12-29</td>\n      <td>17:25:54</td>\n      <td>20625.0</td>\n      <td>90982137.0</td>\n      <td>vegetable</td>\n      <td>v_20</td>\n      <td>Biologische brocolli</td>\n      <td>400g</td>\n      <td>1.79</td>\n      <td>1.79</td>\n      <td>1.0</td>\n      <td>0.0</td>\n    </tr>\n    <tr>\n      <th>353908</th>\n      <td>2018-12-30</td>\n      <td>9:09:23</td>\n      <td>20639.0</td>\n      <td>6301858.0</td>\n      <td>vegetable</td>\n      <td>v_20</td>\n      <td>Biologische brocolli</td>\n      <td>400g</td>\n      <td>1.79</td>\n      <td>1.79</td>\n      <td>1.0</td>\n      <td>0.0</td>\n    </tr>\n    <tr>\n      <th>354477</th>\n      <td>2018-12-30</td>\n      <td>16:25:46</td>\n      <td>20667.0</td>\n      <td>43420043.0</td>\n      <td>vegetable</td>\n      <td>v_20</td>\n      <td>Biologische brocolli</td>\n      <td>400g</td>\n      <td>1.79</td>\n      <td>1.79</td>\n      <td>1.0</td>\n      <td>0.0</td>\n    </tr>\n  </tbody>\n</table>\n<p>1306 rows × 12 columns</p>\n</div>"
     },
     "metadata": {},
     "execution_count": 66
    }
   ],
   "source": [
    "product = \"Biologische brocolli\"\n",
    "transactions[transactions[\"description\"] == product]"
   ]
  },
  {
   "cell_type": "code",
   "execution_count": 67,
   "metadata": {},
   "outputs": [],
   "source": [
    "def date_converter(row):\n",
    "    converted_date = datetime.datetime(2018, 1, 1) + datetime.timedelta(row[\"day\"])\n",
    "    return converted_date\n",
    "\n",
    "inventory[\"date\"] = inventory.apply(date_converter, axis = 1)"
   ]
  },
  {
   "cell_type": "code",
   "execution_count": 68,
   "metadata": {},
   "outputs": [],
   "source": [
    "def week_of_year(row):\n",
    "    week_nr = datetime.date(row[\"date\"].year, row[\"date\"].month, row[\"date\"].day).isocalendar()[1]\n",
    "    return week_nr\n",
    "\n",
    "inventory[\"week\"] = inventory.apply(week_of_year, axis = 1)"
   ]
  },
  {
   "cell_type": "code",
   "execution_count": 69,
   "metadata": {},
   "outputs": [
    {
     "output_type": "stream",
     "name": "stderr",
     "text": [
      "<ipython-input-69-bc6caeb2001c>:11: SettingWithCopyWarning:\n\n\nA value is trying to be set on a copy of a slice from a DataFrame.\nTry using .loc[row_indexer,col_indexer] = value instead\n\nSee the caveats in the documentation: https://pandas.pydata.org/pandas-docs/stable/user_guide/indexing.html#returning-a-view-versus-a-copy\n\n"
     ]
    }
   ],
   "source": [
    "filter_inventory = inventory[[\"day\", \"before or after delivery\", \"date\", \"week\", product]]\n",
    "promotions_filter = promotions[promotions[\"description\"] == product]\n",
    "\n",
    "def check_discount(row):\n",
    "    if row[\"week\"] in promotions_filter[\"week\"].values:\n",
    "        discount_amount = promotions_filter[promotions_filter[\"week\"] == row[\"week\"]][\"discount\"]\n",
    "        return discount_amount.values[0]\n",
    "    else:\n",
    "        return 0\n",
    "\n",
    "filter_inventory[\"discount\"] = filter_inventory.apply(check_discount, axis = 1)\n"
   ]
  },
  {
   "cell_type": "code",
   "execution_count": 70,
   "metadata": {},
   "outputs": [
    {
     "output_type": "stream",
     "name": "stderr",
     "text": [
      "<ipython-input-70-24d8929c98e7>:8: SettingWithCopyWarning:\n\n\nA value is trying to be set on a copy of a slice from a DataFrame.\nTry using .loc[row_indexer,col_indexer] = value instead\n\nSee the caveats in the documentation: https://pandas.pydata.org/pandas-docs/stable/user_guide/indexing.html#returning-a-view-versus-a-copy\n\n"
     ]
    }
   ],
   "source": [
    "def total_inv(row):\n",
    "    total = 0\n",
    "    if len(row[product]) > 0:\n",
    "        for batch in row[product]:\n",
    "            total += batch[1]\n",
    "    return total\n",
    "\n",
    "filter_inventory[\"total inventory\"] = filter_inventory.apply(total_inv, axis = 1)"
   ]
  },
  {
   "cell_type": "code",
   "execution_count": 71,
   "metadata": {},
   "outputs": [],
   "source": [
    "best_before = []\n",
    "for element_list in filter_inventory[product]:\n",
    "    for batch in element_list:\n",
    "        best_before.append(batch[0])\n",
    "bb_dates = np.unique(best_before)"
   ]
  },
  {
   "cell_type": "code",
   "execution_count": 72,
   "metadata": {},
   "outputs": [
    {
     "output_type": "execute_result",
     "data": {
      "text/plain": [
       "     best before\n",
       "0             14\n",
       "1             17\n",
       "2             21\n",
       "3             24\n",
       "4             28\n",
       "..           ...\n",
       "99           360\n",
       "100          364\n",
       "101          367\n",
       "102          371\n",
       "103          374\n",
       "\n",
       "[104 rows x 1 columns]"
      ],
      "text/html": "<div>\n<style scoped>\n    .dataframe tbody tr th:only-of-type {\n        vertical-align: middle;\n    }\n\n    .dataframe tbody tr th {\n        vertical-align: top;\n    }\n\n    .dataframe thead th {\n        text-align: right;\n    }\n</style>\n<table border=\"1\" class=\"dataframe\">\n  <thead>\n    <tr style=\"text-align: right;\">\n      <th></th>\n      <th>best before</th>\n    </tr>\n  </thead>\n  <tbody>\n    <tr>\n      <th>0</th>\n      <td>14</td>\n    </tr>\n    <tr>\n      <th>1</th>\n      <td>17</td>\n    </tr>\n    <tr>\n      <th>2</th>\n      <td>21</td>\n    </tr>\n    <tr>\n      <th>3</th>\n      <td>24</td>\n    </tr>\n    <tr>\n      <th>4</th>\n      <td>28</td>\n    </tr>\n    <tr>\n      <th>...</th>\n      <td>...</td>\n    </tr>\n    <tr>\n      <th>99</th>\n      <td>360</td>\n    </tr>\n    <tr>\n      <th>100</th>\n      <td>364</td>\n    </tr>\n    <tr>\n      <th>101</th>\n      <td>367</td>\n    </tr>\n    <tr>\n      <th>102</th>\n      <td>371</td>\n    </tr>\n    <tr>\n      <th>103</th>\n      <td>374</td>\n    </tr>\n  </tbody>\n</table>\n<p>104 rows × 1 columns</p>\n</div>"
     },
     "metadata": {},
     "execution_count": 72
    }
   ],
   "source": [
    "df_waste = pd.DataFrame({\"best before\":bb_dates})\n",
    "df_waste"
   ]
  },
  {
   "cell_type": "code",
   "execution_count": 73,
   "metadata": {},
   "outputs": [],
   "source": [
    "def input_inv(row):\n",
    "    for element_list in filter_inventory[product]:\n",
    "        if len(element_list) > 0:\n",
    "            for batch in element_list:\n",
    "                if batch[0] == row[\"best before\"]:\n",
    "                    return batch[1]\n",
    "df_waste[\"amount\"] = df_waste.apply(input_inv, axis = 1)"
   ]
  },
  {
   "cell_type": "code",
   "execution_count": 74,
   "metadata": {},
   "outputs": [
    {
     "output_type": "execute_result",
     "data": {
      "text/plain": [
       "     best before  amount\n",
       "0             14      26\n",
       "1             17      26\n",
       "2             21      26\n",
       "3             24      26\n",
       "4             28      26\n",
       "..           ...     ...\n",
       "96           350      26\n",
       "97           353      26\n",
       "98           357      26\n",
       "99           360      26\n",
       "100          364      26\n",
       "\n",
       "[101 rows x 2 columns]"
      ],
      "text/html": "<div>\n<style scoped>\n    .dataframe tbody tr th:only-of-type {\n        vertical-align: middle;\n    }\n\n    .dataframe tbody tr th {\n        vertical-align: top;\n    }\n\n    .dataframe thead th {\n        text-align: right;\n    }\n</style>\n<table border=\"1\" class=\"dataframe\">\n  <thead>\n    <tr style=\"text-align: right;\">\n      <th></th>\n      <th>best before</th>\n      <th>amount</th>\n    </tr>\n  </thead>\n  <tbody>\n    <tr>\n      <th>0</th>\n      <td>14</td>\n      <td>26</td>\n    </tr>\n    <tr>\n      <th>1</th>\n      <td>17</td>\n      <td>26</td>\n    </tr>\n    <tr>\n      <th>2</th>\n      <td>21</td>\n      <td>26</td>\n    </tr>\n    <tr>\n      <th>3</th>\n      <td>24</td>\n      <td>26</td>\n    </tr>\n    <tr>\n      <th>4</th>\n      <td>28</td>\n      <td>26</td>\n    </tr>\n    <tr>\n      <th>...</th>\n      <td>...</td>\n      <td>...</td>\n    </tr>\n    <tr>\n      <th>96</th>\n      <td>350</td>\n      <td>26</td>\n    </tr>\n    <tr>\n      <th>97</th>\n      <td>353</td>\n      <td>26</td>\n    </tr>\n    <tr>\n      <th>98</th>\n      <td>357</td>\n      <td>26</td>\n    </tr>\n    <tr>\n      <th>99</th>\n      <td>360</td>\n      <td>26</td>\n    </tr>\n    <tr>\n      <th>100</th>\n      <td>364</td>\n      <td>26</td>\n    </tr>\n  </tbody>\n</table>\n<p>101 rows × 2 columns</p>\n</div>"
     },
     "metadata": {},
     "execution_count": 74
    }
   ],
   "source": [
    "df_waste\n",
    "#product gets thrown away on the day it goes bad, no one can buy it anymore ON THAT DAY\n",
    "#discard any items that has best before for enxt year\n",
    "#haven't sold anything that is not in stock\n",
    "df_waste = df_waste[df_waste[\"best before\"] < 365]\n",
    "df_waste"
   ]
  },
  {
   "cell_type": "code",
   "execution_count": 75,
   "metadata": {},
   "outputs": [
    {
     "output_type": "execute_result",
     "data": {
      "text/plain": [
       "             day      time  customer  bank acount   category product_id  \\\n",
       "237   2018-01-01  13:03:28      16.0          NaN  vegetable       v_20   \n",
       "420   2018-01-01  14:09:57      24.0   55280334.0  vegetable       v_20   \n",
       "683   2018-01-01  16:56:20      39.0   15832817.0  vegetable       v_20   \n",
       "699   2018-01-01  16:56:20      39.0   15832817.0  vegetable       v_20   \n",
       "1057  2018-01-01  19:59:10      58.0   53245671.0  vegetable       v_20   \n",
       "29070 2018-01-02  12:35:20    1713.0   17960423.0  vegetable       v_20   \n",
       "56620 2018-01-03  18:38:07    3371.0   33780213.0  vegetable       v_20   \n",
       "\n",
       "                description  size  std_sales_price  purchase_price  bio  basic  \n",
       "237    Biologische brocolli  400g             1.79            1.79  1.0    0.0  \n",
       "420    Biologische brocolli  400g             1.79            1.79  1.0    0.0  \n",
       "683    Biologische brocolli  400g             1.79            1.79  1.0    0.0  \n",
       "699    Biologische brocolli  400g             1.79            1.79  1.0    0.0  \n",
       "1057   Biologische brocolli  400g             1.79            1.79  1.0    0.0  \n",
       "29070  Biologische brocolli  400g             1.79            1.79  1.0    0.0  \n",
       "56620  Biologische brocolli  400g             1.79            1.79  1.0    0.0  "
      ],
      "text/html": "<div>\n<style scoped>\n    .dataframe tbody tr th:only-of-type {\n        vertical-align: middle;\n    }\n\n    .dataframe tbody tr th {\n        vertical-align: top;\n    }\n\n    .dataframe thead th {\n        text-align: right;\n    }\n</style>\n<table border=\"1\" class=\"dataframe\">\n  <thead>\n    <tr style=\"text-align: right;\">\n      <th></th>\n      <th>day</th>\n      <th>time</th>\n      <th>customer</th>\n      <th>bank acount</th>\n      <th>category</th>\n      <th>product_id</th>\n      <th>description</th>\n      <th>size</th>\n      <th>std_sales_price</th>\n      <th>purchase_price</th>\n      <th>bio</th>\n      <th>basic</th>\n    </tr>\n  </thead>\n  <tbody>\n    <tr>\n      <th>237</th>\n      <td>2018-01-01</td>\n      <td>13:03:28</td>\n      <td>16.0</td>\n      <td>NaN</td>\n      <td>vegetable</td>\n      <td>v_20</td>\n      <td>Biologische brocolli</td>\n      <td>400g</td>\n      <td>1.79</td>\n      <td>1.79</td>\n      <td>1.0</td>\n      <td>0.0</td>\n    </tr>\n    <tr>\n      <th>420</th>\n      <td>2018-01-01</td>\n      <td>14:09:57</td>\n      <td>24.0</td>\n      <td>55280334.0</td>\n      <td>vegetable</td>\n      <td>v_20</td>\n      <td>Biologische brocolli</td>\n      <td>400g</td>\n      <td>1.79</td>\n      <td>1.79</td>\n      <td>1.0</td>\n      <td>0.0</td>\n    </tr>\n    <tr>\n      <th>683</th>\n      <td>2018-01-01</td>\n      <td>16:56:20</td>\n      <td>39.0</td>\n      <td>15832817.0</td>\n      <td>vegetable</td>\n      <td>v_20</td>\n      <td>Biologische brocolli</td>\n      <td>400g</td>\n      <td>1.79</td>\n      <td>1.79</td>\n      <td>1.0</td>\n      <td>0.0</td>\n    </tr>\n    <tr>\n      <th>699</th>\n      <td>2018-01-01</td>\n      <td>16:56:20</td>\n      <td>39.0</td>\n      <td>15832817.0</td>\n      <td>vegetable</td>\n      <td>v_20</td>\n      <td>Biologische brocolli</td>\n      <td>400g</td>\n      <td>1.79</td>\n      <td>1.79</td>\n      <td>1.0</td>\n      <td>0.0</td>\n    </tr>\n    <tr>\n      <th>1057</th>\n      <td>2018-01-01</td>\n      <td>19:59:10</td>\n      <td>58.0</td>\n      <td>53245671.0</td>\n      <td>vegetable</td>\n      <td>v_20</td>\n      <td>Biologische brocolli</td>\n      <td>400g</td>\n      <td>1.79</td>\n      <td>1.79</td>\n      <td>1.0</td>\n      <td>0.0</td>\n    </tr>\n    <tr>\n      <th>29070</th>\n      <td>2018-01-02</td>\n      <td>12:35:20</td>\n      <td>1713.0</td>\n      <td>17960423.0</td>\n      <td>vegetable</td>\n      <td>v_20</td>\n      <td>Biologische brocolli</td>\n      <td>400g</td>\n      <td>1.79</td>\n      <td>1.79</td>\n      <td>1.0</td>\n      <td>0.0</td>\n    </tr>\n    <tr>\n      <th>56620</th>\n      <td>2018-01-03</td>\n      <td>18:38:07</td>\n      <td>3371.0</td>\n      <td>33780213.0</td>\n      <td>vegetable</td>\n      <td>v_20</td>\n      <td>Biologische brocolli</td>\n      <td>400g</td>\n      <td>1.79</td>\n      <td>1.79</td>\n      <td>1.0</td>\n      <td>0.0</td>\n    </tr>\n  </tbody>\n</table>\n</div>"
     },
     "metadata": {},
     "execution_count": 75
    }
   ],
   "source": [
    "transactions[\"day\"] = pd.to_datetime(transactions[\"day\"])\n",
    "filter_transactions = transactions[transactions[\"description\"] == product]\n",
    "\n",
    "#filter_transactions[\"week\"] = filter_transactions.apply(week_of_year, axis=1)\n",
    "first_restock = df_date[df_date[\"day\"] == 3][\"date\"].values[0]\n",
    "#first_restock\n",
    "filter_transactions[filter_transactions[\"day\"] < first_restock]\n",
    "#PROBLEM: IF A PRODUCT HASN'T BEEN BOUGHT IN ONE DAY IT HAS A ZERO, CAUSES AN ERROR FEW CELLS "
   ]
  },
  {
   "cell_type": "code",
   "execution_count": 76,
   "metadata": {},
   "outputs": [
    {
     "output_type": "error",
     "ename": "KeyError",
     "evalue": "'date'",
     "traceback": [
      "\u001b[1;31m---------------------------------------------------------------------------\u001b[0m",
      "\u001b[1;31mKeyError\u001b[0m                                  Traceback (most recent call last)",
      "\u001b[1;32m~\\AppData\\Roaming\\Python\\Python38\\site-packages\\pandas\\core\\indexes\\base.py\u001b[0m in \u001b[0;36mget_loc\u001b[1;34m(self, key, method, tolerance)\u001b[0m\n\u001b[0;32m   2894\u001b[0m             \u001b[1;32mtry\u001b[0m\u001b[1;33m:\u001b[0m\u001b[1;33m\u001b[0m\u001b[1;33m\u001b[0m\u001b[0m\n\u001b[1;32m-> 2895\u001b[1;33m                 \u001b[1;32mreturn\u001b[0m \u001b[0mself\u001b[0m\u001b[1;33m.\u001b[0m\u001b[0m_engine\u001b[0m\u001b[1;33m.\u001b[0m\u001b[0mget_loc\u001b[0m\u001b[1;33m(\u001b[0m\u001b[0mcasted_key\u001b[0m\u001b[1;33m)\u001b[0m\u001b[1;33m\u001b[0m\u001b[1;33m\u001b[0m\u001b[0m\n\u001b[0m\u001b[0;32m   2896\u001b[0m             \u001b[1;32mexcept\u001b[0m \u001b[0mKeyError\u001b[0m \u001b[1;32mas\u001b[0m \u001b[0merr\u001b[0m\u001b[1;33m:\u001b[0m\u001b[1;33m\u001b[0m\u001b[1;33m\u001b[0m\u001b[0m\n",
      "\u001b[1;32mpandas\\_libs\\index.pyx\u001b[0m in \u001b[0;36mpandas._libs.index.IndexEngine.get_loc\u001b[1;34m()\u001b[0m\n",
      "\u001b[1;32mpandas\\_libs\\index.pyx\u001b[0m in \u001b[0;36mpandas._libs.index.IndexEngine.get_loc\u001b[1;34m()\u001b[0m\n",
      "\u001b[1;32mpandas\\_libs\\hashtable_class_helper.pxi\u001b[0m in \u001b[0;36mpandas._libs.hashtable.PyObjectHashTable.get_item\u001b[1;34m()\u001b[0m\n",
      "\u001b[1;32mpandas\\_libs\\hashtable_class_helper.pxi\u001b[0m in \u001b[0;36mpandas._libs.hashtable.PyObjectHashTable.get_item\u001b[1;34m()\u001b[0m\n",
      "\u001b[1;31mKeyError\u001b[0m: 'date'",
      "\nThe above exception was the direct cause of the following exception:\n",
      "\u001b[1;31mKeyError\u001b[0m                                  Traceback (most recent call last)",
      "\u001b[1;32m<ipython-input-76-167a29683279>\u001b[0m in \u001b[0;36m<module>\u001b[1;34m\u001b[0m\n\u001b[1;32m----> 1\u001b[1;33m \u001b[0mfilter_transactions\u001b[0m\u001b[1;33m[\u001b[0m\u001b[1;34m\"date\"\u001b[0m\u001b[1;33m]\u001b[0m\u001b[1;33m.\u001b[0m\u001b[0miloc\u001b[0m\u001b[1;33m[\u001b[0m\u001b[1;36m0\u001b[0m\u001b[1;33m]\u001b[0m\u001b[1;33m.\u001b[0m\u001b[0mday\u001b[0m\u001b[1;33m\u001b[0m\u001b[1;33m\u001b[0m\u001b[0m\n\u001b[0m",
      "\u001b[1;32m~\\AppData\\Roaming\\Python\\Python38\\site-packages\\pandas\\core\\frame.py\u001b[0m in \u001b[0;36m__getitem__\u001b[1;34m(self, key)\u001b[0m\n\u001b[0;32m   2904\u001b[0m             \u001b[1;32mif\u001b[0m \u001b[0mself\u001b[0m\u001b[1;33m.\u001b[0m\u001b[0mcolumns\u001b[0m\u001b[1;33m.\u001b[0m\u001b[0mnlevels\u001b[0m \u001b[1;33m>\u001b[0m \u001b[1;36m1\u001b[0m\u001b[1;33m:\u001b[0m\u001b[1;33m\u001b[0m\u001b[1;33m\u001b[0m\u001b[0m\n\u001b[0;32m   2905\u001b[0m                 \u001b[1;32mreturn\u001b[0m \u001b[0mself\u001b[0m\u001b[1;33m.\u001b[0m\u001b[0m_getitem_multilevel\u001b[0m\u001b[1;33m(\u001b[0m\u001b[0mkey\u001b[0m\u001b[1;33m)\u001b[0m\u001b[1;33m\u001b[0m\u001b[1;33m\u001b[0m\u001b[0m\n\u001b[1;32m-> 2906\u001b[1;33m             \u001b[0mindexer\u001b[0m \u001b[1;33m=\u001b[0m \u001b[0mself\u001b[0m\u001b[1;33m.\u001b[0m\u001b[0mcolumns\u001b[0m\u001b[1;33m.\u001b[0m\u001b[0mget_loc\u001b[0m\u001b[1;33m(\u001b[0m\u001b[0mkey\u001b[0m\u001b[1;33m)\u001b[0m\u001b[1;33m\u001b[0m\u001b[1;33m\u001b[0m\u001b[0m\n\u001b[0m\u001b[0;32m   2907\u001b[0m             \u001b[1;32mif\u001b[0m \u001b[0mis_integer\u001b[0m\u001b[1;33m(\u001b[0m\u001b[0mindexer\u001b[0m\u001b[1;33m)\u001b[0m\u001b[1;33m:\u001b[0m\u001b[1;33m\u001b[0m\u001b[1;33m\u001b[0m\u001b[0m\n\u001b[0;32m   2908\u001b[0m                 \u001b[0mindexer\u001b[0m \u001b[1;33m=\u001b[0m \u001b[1;33m[\u001b[0m\u001b[0mindexer\u001b[0m\u001b[1;33m]\u001b[0m\u001b[1;33m\u001b[0m\u001b[1;33m\u001b[0m\u001b[0m\n",
      "\u001b[1;32m~\\AppData\\Roaming\\Python\\Python38\\site-packages\\pandas\\core\\indexes\\base.py\u001b[0m in \u001b[0;36mget_loc\u001b[1;34m(self, key, method, tolerance)\u001b[0m\n\u001b[0;32m   2895\u001b[0m                 \u001b[1;32mreturn\u001b[0m \u001b[0mself\u001b[0m\u001b[1;33m.\u001b[0m\u001b[0m_engine\u001b[0m\u001b[1;33m.\u001b[0m\u001b[0mget_loc\u001b[0m\u001b[1;33m(\u001b[0m\u001b[0mcasted_key\u001b[0m\u001b[1;33m)\u001b[0m\u001b[1;33m\u001b[0m\u001b[1;33m\u001b[0m\u001b[0m\n\u001b[0;32m   2896\u001b[0m             \u001b[1;32mexcept\u001b[0m \u001b[0mKeyError\u001b[0m \u001b[1;32mas\u001b[0m \u001b[0merr\u001b[0m\u001b[1;33m:\u001b[0m\u001b[1;33m\u001b[0m\u001b[1;33m\u001b[0m\u001b[0m\n\u001b[1;32m-> 2897\u001b[1;33m                 \u001b[1;32mraise\u001b[0m \u001b[0mKeyError\u001b[0m\u001b[1;33m(\u001b[0m\u001b[0mkey\u001b[0m\u001b[1;33m)\u001b[0m \u001b[1;32mfrom\u001b[0m \u001b[0merr\u001b[0m\u001b[1;33m\u001b[0m\u001b[1;33m\u001b[0m\u001b[0m\n\u001b[0m\u001b[0;32m   2898\u001b[0m \u001b[1;33m\u001b[0m\u001b[0m\n\u001b[0;32m   2899\u001b[0m         \u001b[1;32mif\u001b[0m \u001b[0mtolerance\u001b[0m \u001b[1;32mis\u001b[0m \u001b[1;32mnot\u001b[0m \u001b[1;32mNone\u001b[0m\u001b[1;33m:\u001b[0m\u001b[1;33m\u001b[0m\u001b[1;33m\u001b[0m\u001b[0m\n",
      "\u001b[1;31mKeyError\u001b[0m: 'date'"
     ]
    }
   ],
   "source": [
    "filter_transactions[\"date\"].iloc[0].day"
   ]
  },
  {
   "cell_type": "code",
   "execution_count": 77,
   "metadata": {},
   "outputs": [
    {
     "output_type": "execute_result",
     "data": {
      "text/plain": [
       "day\n",
       "0.142857     5\n",
       "0.285714     1\n",
       "0.428571     1\n",
       "0.571429     4\n",
       "0.714286     4\n",
       "            ..\n",
       "51.428571    5\n",
       "51.571429    1\n",
       "51.714286    1\n",
       "51.857143    5\n",
       "52.000000    2\n",
       "Name: product_id, Length: 333, dtype: int64"
      ]
     },
     "metadata": {},
     "execution_count": 77
    }
   ],
   "source": [
    "purchases_per_day = filter_transactions.groupby(\"day\").count()[\"product_id\"].cumsum()\n",
    "purchases_per_day_plotting = filter_transactions.groupby(\"day\").count()[\"product_id\"]\n",
    "purchases_per_day_plotting.index = purchases_per_day_plotting.index.dayofyear/7\n",
    "purchases_per_day_plotting"
   ]
  },
  {
   "cell_type": "code",
   "execution_count": 78,
   "metadata": {},
   "outputs": [],
   "source": [
    "purchases_per_day.index[0].year\n",
    "weeknr = []\n",
    "for ind in purchases_per_day.index:\n",
    "    week = datetime.date(ind.year, ind.month, ind.day).isocalendar()[1]\n",
    "    weeknr.append(week)\n"
   ]
  },
  {
   "cell_type": "code",
   "execution_count": 81,
   "metadata": {},
   "outputs": [
    {
     "output_type": "stream",
     "name": "stderr",
     "text": [
      "C:\\Users\\zolyo\\AppData\\Roaming\\Python\\Python38\\site-packages\\pandas\\core\\frame.py:4167: SettingWithCopyWarning:\n\n\nA value is trying to be set on a copy of a slice from a DataFrame\n\nSee the caveats in the documentation: https://pandas.pydata.org/pandas-docs/stable/user_guide/indexing.html#returning-a-view-versus-a-copy\n\n"
     ]
    },
    {
     "output_type": "execute_result",
     "data": {
      "text/plain": [
       "    best before  amount\n",
       "0            14      26\n",
       "1            17      26\n",
       "2            21      26\n",
       "3            24      26\n",
       "4            28      26\n",
       "..          ...     ...\n",
       "83          304      26\n",
       "84          308      26\n",
       "85          311      26\n",
       "86          315      26\n",
       "87          318      26\n",
       "\n",
       "[88 rows x 2 columns]"
      ],
      "text/html": "<div>\n<style scoped>\n    .dataframe tbody tr th:only-of-type {\n        vertical-align: middle;\n    }\n\n    .dataframe tbody tr th {\n        vertical-align: top;\n    }\n\n    .dataframe thead th {\n        text-align: right;\n    }\n</style>\n<table border=\"1\" class=\"dataframe\">\n  <thead>\n    <tr style=\"text-align: right;\">\n      <th></th>\n      <th>best before</th>\n      <th>amount</th>\n    </tr>\n  </thead>\n  <tbody>\n    <tr>\n      <th>0</th>\n      <td>14</td>\n      <td>26</td>\n    </tr>\n    <tr>\n      <th>1</th>\n      <td>17</td>\n      <td>26</td>\n    </tr>\n    <tr>\n      <th>2</th>\n      <td>21</td>\n      <td>26</td>\n    </tr>\n    <tr>\n      <th>3</th>\n      <td>24</td>\n      <td>26</td>\n    </tr>\n    <tr>\n      <th>4</th>\n      <td>28</td>\n      <td>26</td>\n    </tr>\n    <tr>\n      <th>...</th>\n      <td>...</td>\n      <td>...</td>\n    </tr>\n    <tr>\n      <th>83</th>\n      <td>304</td>\n      <td>26</td>\n    </tr>\n    <tr>\n      <th>84</th>\n      <td>308</td>\n      <td>26</td>\n    </tr>\n    <tr>\n      <th>85</th>\n      <td>311</td>\n      <td>26</td>\n    </tr>\n    <tr>\n      <th>86</th>\n      <td>315</td>\n      <td>26</td>\n    </tr>\n    <tr>\n      <th>87</th>\n      <td>318</td>\n      <td>26</td>\n    </tr>\n  </tbody>\n</table>\n<p>88 rows × 2 columns</p>\n</div>"
     },
     "metadata": {},
     "execution_count": 81
    }
   ],
   "source": [
    "df_waste.drop(index=df_waste.tail(9).index, inplace=True)\n",
    "df_waste"
   ]
  },
  {
   "cell_type": "code",
   "execution_count": 82,
   "metadata": {},
   "outputs": [
    {
     "output_type": "stream",
     "name": "stderr",
     "text": [
      "<ipython-input-82-aaa3093af6f6>:1: SettingWithCopyWarning:\n\n\nA value is trying to be set on a copy of a slice from a DataFrame.\nTry using .loc[row_indexer,col_indexer] = value instead\n\nSee the caveats in the documentation: https://pandas.pydata.org/pandas-docs/stable/user_guide/indexing.html#returning-a-view-versus-a-copy\n\n"
     ]
    }
   ],
   "source": [
    "df_waste[\"purchases\"] = [purchases_per_day[i-1] for i in df_waste[\"best before\"]]"
   ]
  },
  {
   "cell_type": "code",
   "execution_count": 83,
   "metadata": {},
   "outputs": [
    {
     "output_type": "stream",
     "name": "stderr",
     "text": [
      "<ipython-input-83-202d6bfb1fb9>:1: SettingWithCopyWarning:\n\n\nA value is trying to be set on a copy of a slice from a DataFrame.\nTry using .loc[row_indexer,col_indexer] = value instead\n\nSee the caveats in the documentation: https://pandas.pydata.org/pandas-docs/stable/user_guide/indexing.html#returning-a-view-versus-a-copy\n\n"
     ]
    },
    {
     "output_type": "execute_result",
     "data": {
      "text/plain": [
       "    best before  amount  purchases  prev purchases\n",
       "0            14      26         52             NaN\n",
       "1            17      26         62            10.0\n",
       "2            21      26         81            19.0\n",
       "3            24      26         87             6.0\n",
       "4            28      26        105            18.0\n",
       "..          ...     ...        ...             ...\n",
       "83          304      26       1196            12.0\n",
       "84          308      26       1210            14.0\n",
       "85          311      26       1224            14.0\n",
       "86          315      26       1243            19.0\n",
       "87          318      26       1257            14.0\n",
       "\n",
       "[88 rows x 4 columns]"
      ],
      "text/html": "<div>\n<style scoped>\n    .dataframe tbody tr th:only-of-type {\n        vertical-align: middle;\n    }\n\n    .dataframe tbody tr th {\n        vertical-align: top;\n    }\n\n    .dataframe thead th {\n        text-align: right;\n    }\n</style>\n<table border=\"1\" class=\"dataframe\">\n  <thead>\n    <tr style=\"text-align: right;\">\n      <th></th>\n      <th>best before</th>\n      <th>amount</th>\n      <th>purchases</th>\n      <th>prev purchases</th>\n    </tr>\n  </thead>\n  <tbody>\n    <tr>\n      <th>0</th>\n      <td>14</td>\n      <td>26</td>\n      <td>52</td>\n      <td>NaN</td>\n    </tr>\n    <tr>\n      <th>1</th>\n      <td>17</td>\n      <td>26</td>\n      <td>62</td>\n      <td>10.0</td>\n    </tr>\n    <tr>\n      <th>2</th>\n      <td>21</td>\n      <td>26</td>\n      <td>81</td>\n      <td>19.0</td>\n    </tr>\n    <tr>\n      <th>3</th>\n      <td>24</td>\n      <td>26</td>\n      <td>87</td>\n      <td>6.0</td>\n    </tr>\n    <tr>\n      <th>4</th>\n      <td>28</td>\n      <td>26</td>\n      <td>105</td>\n      <td>18.0</td>\n    </tr>\n    <tr>\n      <th>...</th>\n      <td>...</td>\n      <td>...</td>\n      <td>...</td>\n      <td>...</td>\n    </tr>\n    <tr>\n      <th>83</th>\n      <td>304</td>\n      <td>26</td>\n      <td>1196</td>\n      <td>12.0</td>\n    </tr>\n    <tr>\n      <th>84</th>\n      <td>308</td>\n      <td>26</td>\n      <td>1210</td>\n      <td>14.0</td>\n    </tr>\n    <tr>\n      <th>85</th>\n      <td>311</td>\n      <td>26</td>\n      <td>1224</td>\n      <td>14.0</td>\n    </tr>\n    <tr>\n      <th>86</th>\n      <td>315</td>\n      <td>26</td>\n      <td>1243</td>\n      <td>19.0</td>\n    </tr>\n    <tr>\n      <th>87</th>\n      <td>318</td>\n      <td>26</td>\n      <td>1257</td>\n      <td>14.0</td>\n    </tr>\n  </tbody>\n</table>\n<p>88 rows × 4 columns</p>\n</div>"
     },
     "metadata": {},
     "execution_count": 83
    }
   ],
   "source": [
    "df_waste[\"prev purchases\"] = df_waste[\"purchases\"].diff()\n",
    "df_waste"
   ]
  },
  {
   "cell_type": "code",
   "execution_count": 84,
   "metadata": {},
   "outputs": [
    {
     "output_type": "stream",
     "name": "stderr",
     "text": [
      "<ipython-input-84-15cae0269777>:3: SettingWithCopyWarning:\n\n\nA value is trying to be set on a copy of a slice from a DataFrame.\nTry using .loc[row_indexer,col_indexer] = value instead\n\nSee the caveats in the documentation: https://pandas.pydata.org/pandas-docs/stable/user_guide/indexing.html#returning-a-view-versus-a-copy\n\nC:\\Users\\zolyo\\AppData\\Roaming\\Python\\Python38\\site-packages\\pandas\\core\\indexing.py:670: SettingWithCopyWarning:\n\n\nA value is trying to be set on a copy of a slice from a DataFrame\n\nSee the caveats in the documentation: https://pandas.pydata.org/pandas-docs/stable/user_guide/indexing.html#returning-a-view-versus-a-copy\n\n<ipython-input-84-15cae0269777>:4: SettingWithCopyWarning:\n\n\nA value is trying to be set on a copy of a slice from a DataFrame\n\nSee the caveats in the documentation: https://pandas.pydata.org/pandas-docs/stable/user_guide/indexing.html#returning-a-view-versus-a-copy\n\n<ipython-input-84-15cae0269777>:19: SettingWithCopyWarning:\n\n\nA value is trying to be set on a copy of a slice from a DataFrame.\nTry using .loc[row_indexer,col_indexer] = value instead\n\nSee the caveats in the documentation: https://pandas.pydata.org/pandas-docs/stable/user_guide/indexing.html#returning-a-view-versus-a-copy\n\n<ipython-input-84-15cae0269777>:24: SettingWithCopyWarning:\n\n\nA value is trying to be set on a copy of a slice from a DataFrame.\nTry using .loc[row_indexer,col_indexer] = value instead\n\nSee the caveats in the documentation: https://pandas.pydata.org/pandas-docs/stable/user_guide/indexing.html#returning-a-view-versus-a-copy\n\n<ipython-input-84-15cae0269777>:25: SettingWithCopyWarning:\n\n\nA value is trying to be set on a copy of a slice from a DataFrame.\nTry using .loc[row_indexer,col_indexer] = value instead\n\nSee the caveats in the documentation: https://pandas.pydata.org/pandas-docs/stable/user_guide/indexing.html#returning-a-view-versus-a-copy\n\n<ipython-input-84-15cae0269777>:26: SettingWithCopyWarning:\n\n\nA value is trying to be set on a copy of a slice from a DataFrame.\nTry using .loc[row_indexer,col_indexer] = value instead\n\nSee the caveats in the documentation: https://pandas.pydata.org/pandas-docs/stable/user_guide/indexing.html#returning-a-view-versus-a-copy\n\n"
     ]
    }
   ],
   "source": [
    "length = df_waste.shape[0]\n",
    "lst_waste = []\n",
    "df_waste[\"remaining\"] = df_waste[\"amount\"] - df_waste[\"prev purchases\"]\n",
    "df_waste[\"remaining\"].iloc[0] = df_waste[\"amount\"].iloc[0] - df_waste[\"purchases\"].iloc[0]\n",
    "\n",
    "for i in range(length):\n",
    "    current_row = df_waste.iloc[i]\n",
    "    if i == 0:\n",
    "        lst_waste.append(current_row[\"remaining\"])\n",
    "        continue     \n",
    "    else:\n",
    "        prev_row = df_waste.iloc[i-1]\n",
    "        if lst_waste[-1] < 0:\n",
    "            waste = lst_waste[-1] + current_row[\"remaining\"]\n",
    "            lst_waste.append(lst_waste[-1] + current_row[\"remaining\"])\n",
    "        else:\n",
    "            lst_waste.append(current_row[\"remaining\"])\n",
    "    \n",
    "df_waste[\"waste\"] = lst_waste\n",
    "def date_converter(row):\n",
    "    converted_date = datetime.datetime(2018, 1, 1) + datetime.timedelta(row[\"best before\"])\n",
    "    return converted_date\n",
    "\n",
    "df_waste[\"date\"] = df_waste.apply(date_converter, axis = 1)\n",
    "df_waste[\"week\"] = df_waste.apply(week_of_year, axis = 1)\n",
    "df_waste[df_waste[\"waste\"] < 0][\"waste\"] = 0"
   ]
  },
  {
   "cell_type": "code",
   "execution_count": 85,
   "metadata": {},
   "outputs": [
    {
     "output_type": "execute_result",
     "data": {
      "text/plain": [
       "    best before  amount  purchases  prev purchases  remaining  waste  \\\n",
       "0            14      26         52             NaN      -26.0  -26.0   \n",
       "1            17      26         62            10.0       16.0  -10.0   \n",
       "2            21      26         81            19.0        7.0   -3.0   \n",
       "3            24      26         87             6.0       20.0   17.0   \n",
       "4            28      26        105            18.0        8.0    8.0   \n",
       "..          ...     ...        ...             ...        ...    ...   \n",
       "83          304      26       1196            12.0       14.0   14.0   \n",
       "84          308      26       1210            14.0       12.0   12.0   \n",
       "85          311      26       1224            14.0       12.0   12.0   \n",
       "86          315      26       1243            19.0        7.0    7.0   \n",
       "87          318      26       1257            14.0       12.0   12.0   \n",
       "\n",
       "         date  week  \n",
       "0  2018-01-15     3  \n",
       "1  2018-01-18     3  \n",
       "2  2018-01-22     4  \n",
       "3  2018-01-25     4  \n",
       "4  2018-01-29     5  \n",
       "..        ...   ...  \n",
       "83 2018-11-01    44  \n",
       "84 2018-11-05    45  \n",
       "85 2018-11-08    45  \n",
       "86 2018-11-12    46  \n",
       "87 2018-11-15    46  \n",
       "\n",
       "[88 rows x 8 columns]"
      ],
      "text/html": "<div>\n<style scoped>\n    .dataframe tbody tr th:only-of-type {\n        vertical-align: middle;\n    }\n\n    .dataframe tbody tr th {\n        vertical-align: top;\n    }\n\n    .dataframe thead th {\n        text-align: right;\n    }\n</style>\n<table border=\"1\" class=\"dataframe\">\n  <thead>\n    <tr style=\"text-align: right;\">\n      <th></th>\n      <th>best before</th>\n      <th>amount</th>\n      <th>purchases</th>\n      <th>prev purchases</th>\n      <th>remaining</th>\n      <th>waste</th>\n      <th>date</th>\n      <th>week</th>\n    </tr>\n  </thead>\n  <tbody>\n    <tr>\n      <th>0</th>\n      <td>14</td>\n      <td>26</td>\n      <td>52</td>\n      <td>NaN</td>\n      <td>-26.0</td>\n      <td>-26.0</td>\n      <td>2018-01-15</td>\n      <td>3</td>\n    </tr>\n    <tr>\n      <th>1</th>\n      <td>17</td>\n      <td>26</td>\n      <td>62</td>\n      <td>10.0</td>\n      <td>16.0</td>\n      <td>-10.0</td>\n      <td>2018-01-18</td>\n      <td>3</td>\n    </tr>\n    <tr>\n      <th>2</th>\n      <td>21</td>\n      <td>26</td>\n      <td>81</td>\n      <td>19.0</td>\n      <td>7.0</td>\n      <td>-3.0</td>\n      <td>2018-01-22</td>\n      <td>4</td>\n    </tr>\n    <tr>\n      <th>3</th>\n      <td>24</td>\n      <td>26</td>\n      <td>87</td>\n      <td>6.0</td>\n      <td>20.0</td>\n      <td>17.0</td>\n      <td>2018-01-25</td>\n      <td>4</td>\n    </tr>\n    <tr>\n      <th>4</th>\n      <td>28</td>\n      <td>26</td>\n      <td>105</td>\n      <td>18.0</td>\n      <td>8.0</td>\n      <td>8.0</td>\n      <td>2018-01-29</td>\n      <td>5</td>\n    </tr>\n    <tr>\n      <th>...</th>\n      <td>...</td>\n      <td>...</td>\n      <td>...</td>\n      <td>...</td>\n      <td>...</td>\n      <td>...</td>\n      <td>...</td>\n      <td>...</td>\n    </tr>\n    <tr>\n      <th>83</th>\n      <td>304</td>\n      <td>26</td>\n      <td>1196</td>\n      <td>12.0</td>\n      <td>14.0</td>\n      <td>14.0</td>\n      <td>2018-11-01</td>\n      <td>44</td>\n    </tr>\n    <tr>\n      <th>84</th>\n      <td>308</td>\n      <td>26</td>\n      <td>1210</td>\n      <td>14.0</td>\n      <td>12.0</td>\n      <td>12.0</td>\n      <td>2018-11-05</td>\n      <td>45</td>\n    </tr>\n    <tr>\n      <th>85</th>\n      <td>311</td>\n      <td>26</td>\n      <td>1224</td>\n      <td>14.0</td>\n      <td>12.0</td>\n      <td>12.0</td>\n      <td>2018-11-08</td>\n      <td>45</td>\n    </tr>\n    <tr>\n      <th>86</th>\n      <td>315</td>\n      <td>26</td>\n      <td>1243</td>\n      <td>19.0</td>\n      <td>7.0</td>\n      <td>7.0</td>\n      <td>2018-11-12</td>\n      <td>46</td>\n    </tr>\n    <tr>\n      <th>87</th>\n      <td>318</td>\n      <td>26</td>\n      <td>1257</td>\n      <td>14.0</td>\n      <td>12.0</td>\n      <td>12.0</td>\n      <td>2018-11-15</td>\n      <td>46</td>\n    </tr>\n  </tbody>\n</table>\n<p>88 rows × 8 columns</p>\n</div>"
     },
     "metadata": {},
     "execution_count": 85
    }
   ],
   "source": [
    "df_waste"
   ]
  },
  {
   "cell_type": "code",
   "execution_count": 86,
   "metadata": {},
   "outputs": [
    {
     "output_type": "stream",
     "name": "stderr",
     "text": [
      "<ipython-input-86-aae312e1e342>:1: SettingWithCopyWarning:\n\n\nA value is trying to be set on a copy of a slice from a DataFrame.\nTry using .loc[row_indexer,col_indexer] = value instead\n\nSee the caveats in the documentation: https://pandas.pydata.org/pandas-docs/stable/user_guide/indexing.html#returning-a-view-versus-a-copy\n\n"
     ]
    }
   ],
   "source": [
    "df_waste[\"waste nn\"] = [i if i > 0 else 0 for i in df_waste[\"waste\"]]\n",
    "waste_group = df_waste.groupby(\"week\").sum()\n"
   ]
  },
  {
   "cell_type": "code",
   "execution_count": 87,
   "metadata": {},
   "outputs": [],
   "source": [
    "waste_group[\"week\"] = waste_group.index"
   ]
  },
  {
   "cell_type": "code",
   "execution_count": 89,
   "metadata": {},
   "outputs": [
    {
     "output_type": "display_data",
     "data": {
      "application/vnd.plotly.v1+json": {
       "config": {
        "plotlyServerURL": "https://plot.ly"
       },
       "data": [
        {
         "hovertemplate": "week=%{x}<br>waste nn=%{y}<extra></extra>",
         "legendgroup": "",
         "line": {
          "color": "#636efa",
          "dash": "solid"
         },
         "mode": "lines",
         "name": "",
         "orientation": "v",
         "showlegend": false,
         "type": "scatter",
         "x": [
          3,
          4,
          5,
          6,
          7,
          8,
          9,
          10,
          11,
          12,
          13,
          14,
          15,
          16,
          17,
          18,
          19,
          20,
          21,
          22,
          23,
          24,
          25,
          26,
          27,
          28,
          29,
          30,
          31,
          32,
          33,
          34,
          35,
          36,
          37,
          38,
          39,
          40,
          41,
          42,
          43,
          44,
          45,
          46
         ],
         "xaxis": "x",
         "y": [
          0,
          17,
          21,
          27,
          28,
          36,
          25,
          22,
          18,
          28,
          21,
          19,
          25,
          18,
          11,
          34,
          27,
          29,
          10,
          29,
          36,
          21,
          27,
          32,
          34,
          33,
          33,
          29,
          20,
          16,
          21,
          26,
          18,
          30,
          8,
          17,
          27,
          22,
          33,
          30,
          20,
          30,
          24,
          19
         ],
         "yaxis": "y"
        }
       ],
       "layout": {
        "legend": {
         "tracegroupgap": 0
        },
        "template": {
         "data": {
          "bar": [
           {
            "error_x": {
             "color": "#2a3f5f"
            },
            "error_y": {
             "color": "#2a3f5f"
            },
            "marker": {
             "line": {
              "color": "#E5ECF6",
              "width": 0.5
             }
            },
            "type": "bar"
           }
          ],
          "barpolar": [
           {
            "marker": {
             "line": {
              "color": "#E5ECF6",
              "width": 0.5
             }
            },
            "type": "barpolar"
           }
          ],
          "carpet": [
           {
            "aaxis": {
             "endlinecolor": "#2a3f5f",
             "gridcolor": "white",
             "linecolor": "white",
             "minorgridcolor": "white",
             "startlinecolor": "#2a3f5f"
            },
            "baxis": {
             "endlinecolor": "#2a3f5f",
             "gridcolor": "white",
             "linecolor": "white",
             "minorgridcolor": "white",
             "startlinecolor": "#2a3f5f"
            },
            "type": "carpet"
           }
          ],
          "choropleth": [
           {
            "colorbar": {
             "outlinewidth": 0,
             "ticks": ""
            },
            "type": "choropleth"
           }
          ],
          "contour": [
           {
            "colorbar": {
             "outlinewidth": 0,
             "ticks": ""
            },
            "colorscale": [
             [
              0,
              "#0d0887"
             ],
             [
              0.1111111111111111,
              "#46039f"
             ],
             [
              0.2222222222222222,
              "#7201a8"
             ],
             [
              0.3333333333333333,
              "#9c179e"
             ],
             [
              0.4444444444444444,
              "#bd3786"
             ],
             [
              0.5555555555555556,
              "#d8576b"
             ],
             [
              0.6666666666666666,
              "#ed7953"
             ],
             [
              0.7777777777777778,
              "#fb9f3a"
             ],
             [
              0.8888888888888888,
              "#fdca26"
             ],
             [
              1,
              "#f0f921"
             ]
            ],
            "type": "contour"
           }
          ],
          "contourcarpet": [
           {
            "colorbar": {
             "outlinewidth": 0,
             "ticks": ""
            },
            "type": "contourcarpet"
           }
          ],
          "heatmap": [
           {
            "colorbar": {
             "outlinewidth": 0,
             "ticks": ""
            },
            "colorscale": [
             [
              0,
              "#0d0887"
             ],
             [
              0.1111111111111111,
              "#46039f"
             ],
             [
              0.2222222222222222,
              "#7201a8"
             ],
             [
              0.3333333333333333,
              "#9c179e"
             ],
             [
              0.4444444444444444,
              "#bd3786"
             ],
             [
              0.5555555555555556,
              "#d8576b"
             ],
             [
              0.6666666666666666,
              "#ed7953"
             ],
             [
              0.7777777777777778,
              "#fb9f3a"
             ],
             [
              0.8888888888888888,
              "#fdca26"
             ],
             [
              1,
              "#f0f921"
             ]
            ],
            "type": "heatmap"
           }
          ],
          "heatmapgl": [
           {
            "colorbar": {
             "outlinewidth": 0,
             "ticks": ""
            },
            "colorscale": [
             [
              0,
              "#0d0887"
             ],
             [
              0.1111111111111111,
              "#46039f"
             ],
             [
              0.2222222222222222,
              "#7201a8"
             ],
             [
              0.3333333333333333,
              "#9c179e"
             ],
             [
              0.4444444444444444,
              "#bd3786"
             ],
             [
              0.5555555555555556,
              "#d8576b"
             ],
             [
              0.6666666666666666,
              "#ed7953"
             ],
             [
              0.7777777777777778,
              "#fb9f3a"
             ],
             [
              0.8888888888888888,
              "#fdca26"
             ],
             [
              1,
              "#f0f921"
             ]
            ],
            "type": "heatmapgl"
           }
          ],
          "histogram": [
           {
            "marker": {
             "colorbar": {
              "outlinewidth": 0,
              "ticks": ""
             }
            },
            "type": "histogram"
           }
          ],
          "histogram2d": [
           {
            "colorbar": {
             "outlinewidth": 0,
             "ticks": ""
            },
            "colorscale": [
             [
              0,
              "#0d0887"
             ],
             [
              0.1111111111111111,
              "#46039f"
             ],
             [
              0.2222222222222222,
              "#7201a8"
             ],
             [
              0.3333333333333333,
              "#9c179e"
             ],
             [
              0.4444444444444444,
              "#bd3786"
             ],
             [
              0.5555555555555556,
              "#d8576b"
             ],
             [
              0.6666666666666666,
              "#ed7953"
             ],
             [
              0.7777777777777778,
              "#fb9f3a"
             ],
             [
              0.8888888888888888,
              "#fdca26"
             ],
             [
              1,
              "#f0f921"
             ]
            ],
            "type": "histogram2d"
           }
          ],
          "histogram2dcontour": [
           {
            "colorbar": {
             "outlinewidth": 0,
             "ticks": ""
            },
            "colorscale": [
             [
              0,
              "#0d0887"
             ],
             [
              0.1111111111111111,
              "#46039f"
             ],
             [
              0.2222222222222222,
              "#7201a8"
             ],
             [
              0.3333333333333333,
              "#9c179e"
             ],
             [
              0.4444444444444444,
              "#bd3786"
             ],
             [
              0.5555555555555556,
              "#d8576b"
             ],
             [
              0.6666666666666666,
              "#ed7953"
             ],
             [
              0.7777777777777778,
              "#fb9f3a"
             ],
             [
              0.8888888888888888,
              "#fdca26"
             ],
             [
              1,
              "#f0f921"
             ]
            ],
            "type": "histogram2dcontour"
           }
          ],
          "mesh3d": [
           {
            "colorbar": {
             "outlinewidth": 0,
             "ticks": ""
            },
            "type": "mesh3d"
           }
          ],
          "parcoords": [
           {
            "line": {
             "colorbar": {
              "outlinewidth": 0,
              "ticks": ""
             }
            },
            "type": "parcoords"
           }
          ],
          "pie": [
           {
            "automargin": true,
            "type": "pie"
           }
          ],
          "scatter": [
           {
            "marker": {
             "colorbar": {
              "outlinewidth": 0,
              "ticks": ""
             }
            },
            "type": "scatter"
           }
          ],
          "scatter3d": [
           {
            "line": {
             "colorbar": {
              "outlinewidth": 0,
              "ticks": ""
             }
            },
            "marker": {
             "colorbar": {
              "outlinewidth": 0,
              "ticks": ""
             }
            },
            "type": "scatter3d"
           }
          ],
          "scattercarpet": [
           {
            "marker": {
             "colorbar": {
              "outlinewidth": 0,
              "ticks": ""
             }
            },
            "type": "scattercarpet"
           }
          ],
          "scattergeo": [
           {
            "marker": {
             "colorbar": {
              "outlinewidth": 0,
              "ticks": ""
             }
            },
            "type": "scattergeo"
           }
          ],
          "scattergl": [
           {
            "marker": {
             "colorbar": {
              "outlinewidth": 0,
              "ticks": ""
             }
            },
            "type": "scattergl"
           }
          ],
          "scattermapbox": [
           {
            "marker": {
             "colorbar": {
              "outlinewidth": 0,
              "ticks": ""
             }
            },
            "type": "scattermapbox"
           }
          ],
          "scatterpolar": [
           {
            "marker": {
             "colorbar": {
              "outlinewidth": 0,
              "ticks": ""
             }
            },
            "type": "scatterpolar"
           }
          ],
          "scatterpolargl": [
           {
            "marker": {
             "colorbar": {
              "outlinewidth": 0,
              "ticks": ""
             }
            },
            "type": "scatterpolargl"
           }
          ],
          "scatterternary": [
           {
            "marker": {
             "colorbar": {
              "outlinewidth": 0,
              "ticks": ""
             }
            },
            "type": "scatterternary"
           }
          ],
          "surface": [
           {
            "colorbar": {
             "outlinewidth": 0,
             "ticks": ""
            },
            "colorscale": [
             [
              0,
              "#0d0887"
             ],
             [
              0.1111111111111111,
              "#46039f"
             ],
             [
              0.2222222222222222,
              "#7201a8"
             ],
             [
              0.3333333333333333,
              "#9c179e"
             ],
             [
              0.4444444444444444,
              "#bd3786"
             ],
             [
              0.5555555555555556,
              "#d8576b"
             ],
             [
              0.6666666666666666,
              "#ed7953"
             ],
             [
              0.7777777777777778,
              "#fb9f3a"
             ],
             [
              0.8888888888888888,
              "#fdca26"
             ],
             [
              1,
              "#f0f921"
             ]
            ],
            "type": "surface"
           }
          ],
          "table": [
           {
            "cells": {
             "fill": {
              "color": "#EBF0F8"
             },
             "line": {
              "color": "white"
             }
            },
            "header": {
             "fill": {
              "color": "#C8D4E3"
             },
             "line": {
              "color": "white"
             }
            },
            "type": "table"
           }
          ]
         },
         "layout": {
          "annotationdefaults": {
           "arrowcolor": "#2a3f5f",
           "arrowhead": 0,
           "arrowwidth": 1
          },
          "coloraxis": {
           "colorbar": {
            "outlinewidth": 0,
            "ticks": ""
           }
          },
          "colorscale": {
           "diverging": [
            [
             0,
             "#8e0152"
            ],
            [
             0.1,
             "#c51b7d"
            ],
            [
             0.2,
             "#de77ae"
            ],
            [
             0.3,
             "#f1b6da"
            ],
            [
             0.4,
             "#fde0ef"
            ],
            [
             0.5,
             "#f7f7f7"
            ],
            [
             0.6,
             "#e6f5d0"
            ],
            [
             0.7,
             "#b8e186"
            ],
            [
             0.8,
             "#7fbc41"
            ],
            [
             0.9,
             "#4d9221"
            ],
            [
             1,
             "#276419"
            ]
           ],
           "sequential": [
            [
             0,
             "#0d0887"
            ],
            [
             0.1111111111111111,
             "#46039f"
            ],
            [
             0.2222222222222222,
             "#7201a8"
            ],
            [
             0.3333333333333333,
             "#9c179e"
            ],
            [
             0.4444444444444444,
             "#bd3786"
            ],
            [
             0.5555555555555556,
             "#d8576b"
            ],
            [
             0.6666666666666666,
             "#ed7953"
            ],
            [
             0.7777777777777778,
             "#fb9f3a"
            ],
            [
             0.8888888888888888,
             "#fdca26"
            ],
            [
             1,
             "#f0f921"
            ]
           ],
           "sequentialminus": [
            [
             0,
             "#0d0887"
            ],
            [
             0.1111111111111111,
             "#46039f"
            ],
            [
             0.2222222222222222,
             "#7201a8"
            ],
            [
             0.3333333333333333,
             "#9c179e"
            ],
            [
             0.4444444444444444,
             "#bd3786"
            ],
            [
             0.5555555555555556,
             "#d8576b"
            ],
            [
             0.6666666666666666,
             "#ed7953"
            ],
            [
             0.7777777777777778,
             "#fb9f3a"
            ],
            [
             0.8888888888888888,
             "#fdca26"
            ],
            [
             1,
             "#f0f921"
            ]
           ]
          },
          "colorway": [
           "#636efa",
           "#EF553B",
           "#00cc96",
           "#ab63fa",
           "#FFA15A",
           "#19d3f3",
           "#FF6692",
           "#B6E880",
           "#FF97FF",
           "#FECB52"
          ],
          "font": {
           "color": "#2a3f5f"
          },
          "geo": {
           "bgcolor": "white",
           "lakecolor": "white",
           "landcolor": "#E5ECF6",
           "showlakes": true,
           "showland": true,
           "subunitcolor": "white"
          },
          "hoverlabel": {
           "align": "left"
          },
          "hovermode": "closest",
          "mapbox": {
           "style": "light"
          },
          "paper_bgcolor": "white",
          "plot_bgcolor": "#E5ECF6",
          "polar": {
           "angularaxis": {
            "gridcolor": "white",
            "linecolor": "white",
            "ticks": ""
           },
           "bgcolor": "#E5ECF6",
           "radialaxis": {
            "gridcolor": "white",
            "linecolor": "white",
            "ticks": ""
           }
          },
          "scene": {
           "xaxis": {
            "backgroundcolor": "#E5ECF6",
            "gridcolor": "white",
            "gridwidth": 2,
            "linecolor": "white",
            "showbackground": true,
            "ticks": "",
            "zerolinecolor": "white"
           },
           "yaxis": {
            "backgroundcolor": "#E5ECF6",
            "gridcolor": "white",
            "gridwidth": 2,
            "linecolor": "white",
            "showbackground": true,
            "ticks": "",
            "zerolinecolor": "white"
           },
           "zaxis": {
            "backgroundcolor": "#E5ECF6",
            "gridcolor": "white",
            "gridwidth": 2,
            "linecolor": "white",
            "showbackground": true,
            "ticks": "",
            "zerolinecolor": "white"
           }
          },
          "shapedefaults": {
           "line": {
            "color": "#2a3f5f"
           }
          },
          "ternary": {
           "aaxis": {
            "gridcolor": "white",
            "linecolor": "white",
            "ticks": ""
           },
           "baxis": {
            "gridcolor": "white",
            "linecolor": "white",
            "ticks": ""
           },
           "bgcolor": "#E5ECF6",
           "caxis": {
            "gridcolor": "white",
            "linecolor": "white",
            "ticks": ""
           }
          },
          "title": {
           "x": 0.05
          },
          "xaxis": {
           "automargin": true,
           "gridcolor": "white",
           "linecolor": "white",
           "ticks": "",
           "title": {
            "standoff": 15
           },
           "zerolinecolor": "white",
           "zerolinewidth": 2
          },
          "yaxis": {
           "automargin": true,
           "gridcolor": "white",
           "linecolor": "white",
           "ticks": "",
           "title": {
            "standoff": 15
           },
           "zerolinecolor": "white",
           "zerolinewidth": 2
          }
         }
        },
        "title": {
         "text": "Absolute waste of Bio broccoli per week"
        },
        "xaxis": {
         "anchor": "y",
         "domain": [
          0,
          1
         ],
         "title": {
          "text": "week"
         }
        },
        "yaxis": {
         "anchor": "x",
         "domain": [
          0,
          1
         ],
         "title": {
          "text": "Waste amount"
         }
        }
       }
      }
     },
     "metadata": {}
    }
   ],
   "source": [
    "import plotly.express as px\n",
    "fig = px.line(waste_group, x = \"week\", y = \"waste nn\", title=\"Absolute waste of Bio broccoli per week\")\n",
    "fig.update_yaxes(title=\"Waste amount\")\n",
    "fig.show()"
   ]
  },
  {
   "cell_type": "code",
   "execution_count": 112,
   "metadata": {},
   "outputs": [
    {
     "output_type": "execute_result",
     "data": {
      "text/plain": [
       "day\n",
       "2018-01-01       8\n",
       "2018-01-02      13\n",
       "2018-01-03      18\n",
       "2018-01-04      30\n",
       "2018-01-05      40\n",
       "              ... \n",
       "2018-12-26    2913\n",
       "2018-12-27    2918\n",
       "2018-12-28    2921\n",
       "2018-12-29    2934\n",
       "2018-12-30    2943\n",
       "Name: product_id, Length: 364, dtype: int64"
      ]
     },
     "metadata": {},
     "execution_count": 112
    }
   ],
   "source": [
    "purchases_per_day"
   ]
  },
  {
   "cell_type": "code",
   "execution_count": 71,
   "metadata": {},
   "outputs": [],
   "source": [
    "transactions[\"day\"] = pd.to_datetime(transactions[\"day\"])\n",
    "filter_transactions = transactions[transactions[\"description\"] == product]"
   ]
  },
  {
   "cell_type": "code",
   "execution_count": 86,
   "metadata": {},
   "outputs": [
    {
     "output_type": "execute_result",
     "data": {
      "text/plain": [
       "             day      time  customer  bank acount   category product_id  \\\n",
       "89    2018-01-01  10:40:13       6.0   54211938.0  vegetable        v_1   \n",
       "467   2018-01-01  14:21:35      26.0   51433968.0  vegetable        v_1   \n",
       "573   2018-01-01  15:36:46      33.0   30794082.0  vegetable        v_1   \n",
       "700   2018-01-01  16:56:20      39.0   15832817.0  vegetable        v_1   \n",
       "808   2018-01-01  18:15:29      46.0   90399261.0  vegetable        v_1   \n",
       "821   2018-01-01  18:15:29      46.0   90399261.0  vegetable        v_1   \n",
       "824   2018-01-01  18:15:29      46.0   90399261.0  vegetable        v_1   \n",
       "879   2018-01-01  18:46:48      49.0   15382238.0  vegetable        v_1   \n",
       "29093 2018-01-02  12:52:06    1714.0   28719528.0  vegetable        v_1   \n",
       "29134 2018-01-02  13:44:14    1718.0   39309224.0  vegetable        v_1   \n",
       "29295 2018-01-02  15:15:43    1728.0    8997496.0  vegetable        v_1   \n",
       "29445 2018-01-02  17:57:52    1737.0   34052285.0  vegetable        v_1   \n",
       "29559 2018-01-02  18:51:21    1745.0   50106779.0  vegetable        v_1   \n",
       "55959 2018-01-03   9:22:58    3327.0          NaN  vegetable        v_1   \n",
       "56275 2018-01-03  13:35:26    3346.0   73805186.0  vegetable        v_1   \n",
       "56537 2018-01-03  16:48:00    3364.0   73806149.0  vegetable        v_1   \n",
       "56586 2018-01-03  17:58:20    3369.0     319898.0  vegetable        v_1   \n",
       "56613 2018-01-03  18:20:23    3370.0   98645816.0  vegetable        v_1   \n",
       "\n",
       "      description size  std_sales_price  purchase_price  bio  basic  \n",
       "89      Komkommer  1st             0.69            0.69  0.0    0.0  \n",
       "467     Komkommer  1st             0.69            0.69  0.0    0.0  \n",
       "573     Komkommer  1st             0.69            0.69  0.0    0.0  \n",
       "700     Komkommer  1st             0.69            0.69  0.0    0.0  \n",
       "808     Komkommer  1st             0.69            0.69  0.0    0.0  \n",
       "821     Komkommer  1st             0.69            0.69  0.0    0.0  \n",
       "824     Komkommer  1st             0.69            0.69  0.0    0.0  \n",
       "879     Komkommer  1st             0.69            0.69  0.0    0.0  \n",
       "29093   Komkommer  1st             0.69            0.69  0.0    0.0  \n",
       "29134   Komkommer  1st             0.69            0.69  0.0    0.0  \n",
       "29295   Komkommer  1st             0.69            0.69  0.0    0.0  \n",
       "29445   Komkommer  1st             0.69            0.69  0.0    0.0  \n",
       "29559   Komkommer  1st             0.69            0.69  0.0    0.0  \n",
       "55959   Komkommer  1st             0.69            0.69  0.0    0.0  \n",
       "56275   Komkommer  1st             0.69            0.69  0.0    0.0  \n",
       "56537   Komkommer  1st             0.69            0.69  0.0    0.0  \n",
       "56586   Komkommer  1st             0.69            0.69  0.0    0.0  \n",
       "56613   Komkommer  1st             0.69            0.69  0.0    0.0  "
      ],
      "text/html": "<div>\n<style scoped>\n    .dataframe tbody tr th:only-of-type {\n        vertical-align: middle;\n    }\n\n    .dataframe tbody tr th {\n        vertical-align: top;\n    }\n\n    .dataframe thead th {\n        text-align: right;\n    }\n</style>\n<table border=\"1\" class=\"dataframe\">\n  <thead>\n    <tr style=\"text-align: right;\">\n      <th></th>\n      <th>day</th>\n      <th>time</th>\n      <th>customer</th>\n      <th>bank acount</th>\n      <th>category</th>\n      <th>product_id</th>\n      <th>description</th>\n      <th>size</th>\n      <th>std_sales_price</th>\n      <th>purchase_price</th>\n      <th>bio</th>\n      <th>basic</th>\n    </tr>\n  </thead>\n  <tbody>\n    <tr>\n      <th>89</th>\n      <td>2018-01-01</td>\n      <td>10:40:13</td>\n      <td>6.0</td>\n      <td>54211938.0</td>\n      <td>vegetable</td>\n      <td>v_1</td>\n      <td>Komkommer</td>\n      <td>1st</td>\n      <td>0.69</td>\n      <td>0.69</td>\n      <td>0.0</td>\n      <td>0.0</td>\n    </tr>\n    <tr>\n      <th>467</th>\n      <td>2018-01-01</td>\n      <td>14:21:35</td>\n      <td>26.0</td>\n      <td>51433968.0</td>\n      <td>vegetable</td>\n      <td>v_1</td>\n      <td>Komkommer</td>\n      <td>1st</td>\n      <td>0.69</td>\n      <td>0.69</td>\n      <td>0.0</td>\n      <td>0.0</td>\n    </tr>\n    <tr>\n      <th>573</th>\n      <td>2018-01-01</td>\n      <td>15:36:46</td>\n      <td>33.0</td>\n      <td>30794082.0</td>\n      <td>vegetable</td>\n      <td>v_1</td>\n      <td>Komkommer</td>\n      <td>1st</td>\n      <td>0.69</td>\n      <td>0.69</td>\n      <td>0.0</td>\n      <td>0.0</td>\n    </tr>\n    <tr>\n      <th>700</th>\n      <td>2018-01-01</td>\n      <td>16:56:20</td>\n      <td>39.0</td>\n      <td>15832817.0</td>\n      <td>vegetable</td>\n      <td>v_1</td>\n      <td>Komkommer</td>\n      <td>1st</td>\n      <td>0.69</td>\n      <td>0.69</td>\n      <td>0.0</td>\n      <td>0.0</td>\n    </tr>\n    <tr>\n      <th>808</th>\n      <td>2018-01-01</td>\n      <td>18:15:29</td>\n      <td>46.0</td>\n      <td>90399261.0</td>\n      <td>vegetable</td>\n      <td>v_1</td>\n      <td>Komkommer</td>\n      <td>1st</td>\n      <td>0.69</td>\n      <td>0.69</td>\n      <td>0.0</td>\n      <td>0.0</td>\n    </tr>\n    <tr>\n      <th>821</th>\n      <td>2018-01-01</td>\n      <td>18:15:29</td>\n      <td>46.0</td>\n      <td>90399261.0</td>\n      <td>vegetable</td>\n      <td>v_1</td>\n      <td>Komkommer</td>\n      <td>1st</td>\n      <td>0.69</td>\n      <td>0.69</td>\n      <td>0.0</td>\n      <td>0.0</td>\n    </tr>\n    <tr>\n      <th>824</th>\n      <td>2018-01-01</td>\n      <td>18:15:29</td>\n      <td>46.0</td>\n      <td>90399261.0</td>\n      <td>vegetable</td>\n      <td>v_1</td>\n      <td>Komkommer</td>\n      <td>1st</td>\n      <td>0.69</td>\n      <td>0.69</td>\n      <td>0.0</td>\n      <td>0.0</td>\n    </tr>\n    <tr>\n      <th>879</th>\n      <td>2018-01-01</td>\n      <td>18:46:48</td>\n      <td>49.0</td>\n      <td>15382238.0</td>\n      <td>vegetable</td>\n      <td>v_1</td>\n      <td>Komkommer</td>\n      <td>1st</td>\n      <td>0.69</td>\n      <td>0.69</td>\n      <td>0.0</td>\n      <td>0.0</td>\n    </tr>\n    <tr>\n      <th>29093</th>\n      <td>2018-01-02</td>\n      <td>12:52:06</td>\n      <td>1714.0</td>\n      <td>28719528.0</td>\n      <td>vegetable</td>\n      <td>v_1</td>\n      <td>Komkommer</td>\n      <td>1st</td>\n      <td>0.69</td>\n      <td>0.69</td>\n      <td>0.0</td>\n      <td>0.0</td>\n    </tr>\n    <tr>\n      <th>29134</th>\n      <td>2018-01-02</td>\n      <td>13:44:14</td>\n      <td>1718.0</td>\n      <td>39309224.0</td>\n      <td>vegetable</td>\n      <td>v_1</td>\n      <td>Komkommer</td>\n      <td>1st</td>\n      <td>0.69</td>\n      <td>0.69</td>\n      <td>0.0</td>\n      <td>0.0</td>\n    </tr>\n    <tr>\n      <th>29295</th>\n      <td>2018-01-02</td>\n      <td>15:15:43</td>\n      <td>1728.0</td>\n      <td>8997496.0</td>\n      <td>vegetable</td>\n      <td>v_1</td>\n      <td>Komkommer</td>\n      <td>1st</td>\n      <td>0.69</td>\n      <td>0.69</td>\n      <td>0.0</td>\n      <td>0.0</td>\n    </tr>\n    <tr>\n      <th>29445</th>\n      <td>2018-01-02</td>\n      <td>17:57:52</td>\n      <td>1737.0</td>\n      <td>34052285.0</td>\n      <td>vegetable</td>\n      <td>v_1</td>\n      <td>Komkommer</td>\n      <td>1st</td>\n      <td>0.69</td>\n      <td>0.69</td>\n      <td>0.0</td>\n      <td>0.0</td>\n    </tr>\n    <tr>\n      <th>29559</th>\n      <td>2018-01-02</td>\n      <td>18:51:21</td>\n      <td>1745.0</td>\n      <td>50106779.0</td>\n      <td>vegetable</td>\n      <td>v_1</td>\n      <td>Komkommer</td>\n      <td>1st</td>\n      <td>0.69</td>\n      <td>0.69</td>\n      <td>0.0</td>\n      <td>0.0</td>\n    </tr>\n    <tr>\n      <th>55959</th>\n      <td>2018-01-03</td>\n      <td>9:22:58</td>\n      <td>3327.0</td>\n      <td>NaN</td>\n      <td>vegetable</td>\n      <td>v_1</td>\n      <td>Komkommer</td>\n      <td>1st</td>\n      <td>0.69</td>\n      <td>0.69</td>\n      <td>0.0</td>\n      <td>0.0</td>\n    </tr>\n    <tr>\n      <th>56275</th>\n      <td>2018-01-03</td>\n      <td>13:35:26</td>\n      <td>3346.0</td>\n      <td>73805186.0</td>\n      <td>vegetable</td>\n      <td>v_1</td>\n      <td>Komkommer</td>\n      <td>1st</td>\n      <td>0.69</td>\n      <td>0.69</td>\n      <td>0.0</td>\n      <td>0.0</td>\n    </tr>\n    <tr>\n      <th>56537</th>\n      <td>2018-01-03</td>\n      <td>16:48:00</td>\n      <td>3364.0</td>\n      <td>73806149.0</td>\n      <td>vegetable</td>\n      <td>v_1</td>\n      <td>Komkommer</td>\n      <td>1st</td>\n      <td>0.69</td>\n      <td>0.69</td>\n      <td>0.0</td>\n      <td>0.0</td>\n    </tr>\n    <tr>\n      <th>56586</th>\n      <td>2018-01-03</td>\n      <td>17:58:20</td>\n      <td>3369.0</td>\n      <td>319898.0</td>\n      <td>vegetable</td>\n      <td>v_1</td>\n      <td>Komkommer</td>\n      <td>1st</td>\n      <td>0.69</td>\n      <td>0.69</td>\n      <td>0.0</td>\n      <td>0.0</td>\n    </tr>\n    <tr>\n      <th>56613</th>\n      <td>2018-01-03</td>\n      <td>18:20:23</td>\n      <td>3370.0</td>\n      <td>98645816.0</td>\n      <td>vegetable</td>\n      <td>v_1</td>\n      <td>Komkommer</td>\n      <td>1st</td>\n      <td>0.69</td>\n      <td>0.69</td>\n      <td>0.0</td>\n      <td>0.0</td>\n    </tr>\n  </tbody>\n</table>\n</div>"
     },
     "metadata": {},
     "execution_count": 86
    }
   ],
   "source": [
    "daydate = df_date[df_date[\"day\"] == 2][\"date\"].values[0]\n",
    "\n",
    "filter_transactions[filter_transactions[\"day\"] <= daydate]\n"
   ]
  },
  {
   "cell_type": "code",
   "execution_count": 111,
   "metadata": {},
   "outputs": [
    {
     "output_type": "execute_result",
     "data": {
      "text/plain": [
       "day\n",
       "2018-01-01       8\n",
       "2018-01-02      13\n",
       "2018-01-03      18\n",
       "2018-01-04      30\n",
       "2018-01-05      40\n",
       "              ... \n",
       "2018-12-26    2913\n",
       "2018-12-27    2918\n",
       "2018-12-28    2921\n",
       "2018-12-29    2934\n",
       "2018-12-30    2943\n",
       "Name: product_id, Length: 364, dtype: int64"
      ]
     },
     "metadata": {},
     "execution_count": 111
    }
   ],
   "source": [
    "purchases_per_day = filter_transactions.groupby(\"day\").count()[\"product_id\"].cumsum()\n",
    "purchases_per_day"
   ]
  },
  {
   "cell_type": "code",
   "execution_count": 52,
   "metadata": {},
   "outputs": [
    {
     "output_type": "execute_result",
     "data": {
      "text/plain": [
       "numpy.datetime64('2018-01-15T00:00:00.000000000')"
      ]
     },
     "metadata": {},
     "execution_count": 52
    }
   ],
   "source": [
    "daydate"
   ]
  },
  {
   "cell_type": "code",
   "execution_count": 13,
   "metadata": {},
   "outputs": [
    {
     "output_type": "execute_result",
     "data": {
      "text/plain": [
       "     day       date\n",
       "0      0 2018-01-01\n",
       "1      1 2018-01-02\n",
       "2      2 2018-01-03\n",
       "3      3 2018-01-04\n",
       "4      4 2018-01-05\n",
       "..   ...        ...\n",
       "360  360 2018-12-27\n",
       "361  361 2018-12-28\n",
       "362  362 2018-12-29\n",
       "363  363 2018-12-30\n",
       "364  364 2018-12-31\n",
       "\n",
       "[365 rows x 2 columns]"
      ],
      "text/html": "<div>\n<style scoped>\n    .dataframe tbody tr th:only-of-type {\n        vertical-align: middle;\n    }\n\n    .dataframe tbody tr th {\n        vertical-align: top;\n    }\n\n    .dataframe thead th {\n        text-align: right;\n    }\n</style>\n<table border=\"1\" class=\"dataframe\">\n  <thead>\n    <tr style=\"text-align: right;\">\n      <th></th>\n      <th>day</th>\n      <th>date</th>\n    </tr>\n  </thead>\n  <tbody>\n    <tr>\n      <th>0</th>\n      <td>0</td>\n      <td>2018-01-01</td>\n    </tr>\n    <tr>\n      <th>1</th>\n      <td>1</td>\n      <td>2018-01-02</td>\n    </tr>\n    <tr>\n      <th>2</th>\n      <td>2</td>\n      <td>2018-01-03</td>\n    </tr>\n    <tr>\n      <th>3</th>\n      <td>3</td>\n      <td>2018-01-04</td>\n    </tr>\n    <tr>\n      <th>4</th>\n      <td>4</td>\n      <td>2018-01-05</td>\n    </tr>\n    <tr>\n      <th>...</th>\n      <td>...</td>\n      <td>...</td>\n    </tr>\n    <tr>\n      <th>360</th>\n      <td>360</td>\n      <td>2018-12-27</td>\n    </tr>\n    <tr>\n      <th>361</th>\n      <td>361</td>\n      <td>2018-12-28</td>\n    </tr>\n    <tr>\n      <th>362</th>\n      <td>362</td>\n      <td>2018-12-29</td>\n    </tr>\n    <tr>\n      <th>363</th>\n      <td>363</td>\n      <td>2018-12-30</td>\n    </tr>\n    <tr>\n      <th>364</th>\n      <td>364</td>\n      <td>2018-12-31</td>\n    </tr>\n  </tbody>\n</table>\n<p>365 rows × 2 columns</p>\n</div>"
     },
     "metadata": {},
     "execution_count": 13
    }
   ],
   "source": [
    "dayofyear = list(range(365))\n",
    "date = [datetime.datetime(2018, 1, 1) + datetime.timedelta(day) for day in dayofyear]\n",
    "df_date = pd.DataFrame({\"day\":dayofyear, \"date\":date})\n",
    "df_date"
   ]
  }
 ]
}