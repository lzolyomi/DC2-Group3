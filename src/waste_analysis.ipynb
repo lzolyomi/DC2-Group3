{
 "metadata": {
  "language_info": {
   "codemirror_mode": {
    "name": "ipython",
    "version": 3
   },
   "file_extension": ".py",
   "mimetype": "text/x-python",
   "name": "python",
   "nbconvert_exporter": "python",
   "pygments_lexer": "ipython3",
   "version": "3.8.5"
  },
  "orig_nbformat": 2,
  "kernelspec": {
   "name": "python3",
   "display_name": "Python 3",
   "language": "python"
  }
 },
 "nbformat": 4,
 "nbformat_minor": 2,
 "cells": [
  {
   "cell_type": "code",
   "execution_count": 20,
   "metadata": {},
   "outputs": [],
   "source": [
    "import pandas as pd\n",
    "import numpy as np \n",
    "import datetime\n",
    "inventory = pd.read_csv(\"data/inventory.csv\")\n",
    "products = pd.read_csv(\"data/products.csv\")\n",
    "promotions = pd.read_csv(\"data/promotions.csv\")\n",
    "transactions = pd.read_csv(\"data/transactions.csv\")\n",
    "\n",
    "#create a reference dataframe\n",
    "dayofyear = list(range(365))\n",
    "date = [datetime.datetime(2018, 1, 1) + datetime.timedelta(day) for day in dayofyear]\n",
    "df_date = pd.DataFrame({\"day\":dayofyear, \"date\":date})\n",
    "\n",
    "import ast\n",
    "for colname in inventory.columns[2:]:\n",
    "    inventory[colname] = [ast.literal_eval(i) for i in inventory[colname]]\n",
    "    #converting inventory rows to list of tuples from string"
   ]
  },
  {
   "cell_type": "code",
   "execution_count": 21,
   "metadata": {},
   "outputs": [
    {
     "output_type": "execute_result",
     "data": {
      "text/plain": [
       "    category product_id            description  size  std_sales_price  bio  \\\n",
       "0  vegetable        v_1              Komkommer   1st             0.69    0   \n",
       "1  vegetable        v_2              Courgette   1st             0.75    0   \n",
       "2  vegetable        v_3  SnoepVegetable tomaat  500g             1.99    0   \n",
       "3  vegetable        v_4            Paprika Mix   3st             1.79    0   \n",
       "4  vegetable        v_5                Paprika   1st             0.99    0   \n",
       "\n",
       "   basic  purchase_price  \n",
       "0      0            0.18  \n",
       "1      0            0.17  \n",
       "2      0            0.50  \n",
       "3      0            0.40  \n",
       "4      0            0.23  "
      ],
      "text/html": "<div>\n<style scoped>\n    .dataframe tbody tr th:only-of-type {\n        vertical-align: middle;\n    }\n\n    .dataframe tbody tr th {\n        vertical-align: top;\n    }\n\n    .dataframe thead th {\n        text-align: right;\n    }\n</style>\n<table border=\"1\" class=\"dataframe\">\n  <thead>\n    <tr style=\"text-align: right;\">\n      <th></th>\n      <th>category</th>\n      <th>product_id</th>\n      <th>description</th>\n      <th>size</th>\n      <th>std_sales_price</th>\n      <th>bio</th>\n      <th>basic</th>\n      <th>purchase_price</th>\n    </tr>\n  </thead>\n  <tbody>\n    <tr>\n      <th>0</th>\n      <td>vegetable</td>\n      <td>v_1</td>\n      <td>Komkommer</td>\n      <td>1st</td>\n      <td>0.69</td>\n      <td>0</td>\n      <td>0</td>\n      <td>0.18</td>\n    </tr>\n    <tr>\n      <th>1</th>\n      <td>vegetable</td>\n      <td>v_2</td>\n      <td>Courgette</td>\n      <td>1st</td>\n      <td>0.75</td>\n      <td>0</td>\n      <td>0</td>\n      <td>0.17</td>\n    </tr>\n    <tr>\n      <th>2</th>\n      <td>vegetable</td>\n      <td>v_3</td>\n      <td>SnoepVegetable tomaat</td>\n      <td>500g</td>\n      <td>1.99</td>\n      <td>0</td>\n      <td>0</td>\n      <td>0.50</td>\n    </tr>\n    <tr>\n      <th>3</th>\n      <td>vegetable</td>\n      <td>v_4</td>\n      <td>Paprika Mix</td>\n      <td>3st</td>\n      <td>1.79</td>\n      <td>0</td>\n      <td>0</td>\n      <td>0.40</td>\n    </tr>\n    <tr>\n      <th>4</th>\n      <td>vegetable</td>\n      <td>v_5</td>\n      <td>Paprika</td>\n      <td>1st</td>\n      <td>0.99</td>\n      <td>0</td>\n      <td>0</td>\n      <td>0.23</td>\n    </tr>\n  </tbody>\n</table>\n</div>"
     },
     "metadata": {},
     "execution_count": 21
    }
   ],
   "source": [
    "products.head()"
   ]
  },
  {
   "cell_type": "code",
   "execution_count": 22,
   "metadata": {},
   "outputs": [
    {
     "output_type": "execute_result",
     "data": {
      "text/plain": [
       "Index(['Basis annanasstukjes', 'Biologisch wilde bosbes',\n",
       "       'Biologische rozijnen', 'Biologische santana appelen',\n",
       "       'Pitloze druivenmix', 'Biologische sinaasappelen',\n",
       "       'Aardbeien ontkroond', 'Rundergehakt', 'Gerookte spekreepjes',\n",
       "       'Spekreepjes', 'Mini gourmet hamburgers', 'Unox Gelderse rookworst',\n",
       "       'Half om half gehakt', 'Rundergehakt.1', 'Slavinken',\n",
       "       'Mini biefstukjes', 'Rundersoepballetjes', 'Hamburgers',\n",
       "       'Unox Gelderse rookworst.1', 'Mini gourmet kipsatespiesjes',\n",
       "       'Unox Magere rookworst', 'Biologische spekreepjes',\n",
       "       'Sappige gelders rookworst', 'Biologisch rundergehakt',\n",
       "       'Varkensbraadworst', 'Runder riblap Iers', 'rundergehakt',\n",
       "       'gerookt onbijtspek', 'rundervinken', 'half of half gehakt',\n",
       "       'Gekruide runderchipolata', 'Biologisch rundergehakt.1',\n",
       "       'Mini gourmet slavink', 'Mini gourmet varkenshaas',\n",
       "       'Zigeuner gehaktschnitzel', 'Veluwse rookworst fijn',\n",
       "       'Runderbraadworst', 'Spekblokjes', 'biologische Hamburger',\n",
       "       'Mager rundergehakt'],\n",
       "      dtype='object')"
      ]
     },
     "metadata": {},
     "execution_count": 22
    }
   ],
   "source": [
    "inventory.columns[60:100]"
   ]
  },
  {
   "cell_type": "code",
   "execution_count": 23,
   "metadata": {},
   "outputs": [
    {
     "output_type": "execute_result",
     "data": {
      "text/plain": [
       "               day      time  customer  bank acount category product_id  \\\n",
       "1782      2/1/2018  18:44:22     101.0   24107630.0     meat       m_15   \n",
       "1827      2/1/2018  18:47:38     102.0   34187107.0     meat       m_15   \n",
       "2103      3/1/2018  10:47:17     117.0    1064747.0     meat       m_15   \n",
       "2724      3/1/2018  19:25:33     158.0   63634047.0     meat       m_15   \n",
       "4534      6/1/2018  12:45:08     274.0   43670698.0     meat       m_15   \n",
       "...            ...       ...       ...          ...      ...        ...   \n",
       "353828  29-12-2018  20:04:32   20636.0   38621378.0     meat       m_15   \n",
       "354041  30-12-2018  10:08:47   20646.0          NaN     meat       m_15   \n",
       "354144  30-12-2018  12:42:05   20650.0   63634047.0     meat       m_15   \n",
       "354171  30-12-2018  13:15:05   20651.0   79747334.0     meat       m_15   \n",
       "354260  30-12-2018  14:26:22   20656.0   40285157.0     meat       m_15   \n",
       "\n",
       "                    description  size  std_sales_price  purchase_price  bio  \\\n",
       "1782    Biologische spekreepjes  200g             2.69            2.69  1.0   \n",
       "1827    Biologische spekreepjes  200g             2.69            2.69  1.0   \n",
       "2103    Biologische spekreepjes  200g             2.69            2.69  1.0   \n",
       "2724    Biologische spekreepjes  200g             2.69            2.69  1.0   \n",
       "4534    Biologische spekreepjes  200g             2.69            2.69  1.0   \n",
       "...                         ...   ...              ...             ...  ...   \n",
       "353828  Biologische spekreepjes  200g             2.69            2.69  1.0   \n",
       "354041  Biologische spekreepjes  200g             2.69            2.69  1.0   \n",
       "354144  Biologische spekreepjes  200g             2.69            2.69  1.0   \n",
       "354171  Biologische spekreepjes  200g             2.69            2.69  1.0   \n",
       "354260  Biologische spekreepjes  200g             2.69            2.69  1.0   \n",
       "\n",
       "        basic  \n",
       "1782      0.0  \n",
       "1827      0.0  \n",
       "2103      0.0  \n",
       "2724      0.0  \n",
       "4534      0.0  \n",
       "...       ...  \n",
       "353828    0.0  \n",
       "354041    0.0  \n",
       "354144    0.0  \n",
       "354171    0.0  \n",
       "354260    0.0  \n",
       "\n",
       "[439 rows x 12 columns]"
      ],
      "text/html": "<div>\n<style scoped>\n    .dataframe tbody tr th:only-of-type {\n        vertical-align: middle;\n    }\n\n    .dataframe tbody tr th {\n        vertical-align: top;\n    }\n\n    .dataframe thead th {\n        text-align: right;\n    }\n</style>\n<table border=\"1\" class=\"dataframe\">\n  <thead>\n    <tr style=\"text-align: right;\">\n      <th></th>\n      <th>day</th>\n      <th>time</th>\n      <th>customer</th>\n      <th>bank acount</th>\n      <th>category</th>\n      <th>product_id</th>\n      <th>description</th>\n      <th>size</th>\n      <th>std_sales_price</th>\n      <th>purchase_price</th>\n      <th>bio</th>\n      <th>basic</th>\n    </tr>\n  </thead>\n  <tbody>\n    <tr>\n      <th>1782</th>\n      <td>2/1/2018</td>\n      <td>18:44:22</td>\n      <td>101.0</td>\n      <td>24107630.0</td>\n      <td>meat</td>\n      <td>m_15</td>\n      <td>Biologische spekreepjes</td>\n      <td>200g</td>\n      <td>2.69</td>\n      <td>2.69</td>\n      <td>1.0</td>\n      <td>0.0</td>\n    </tr>\n    <tr>\n      <th>1827</th>\n      <td>2/1/2018</td>\n      <td>18:47:38</td>\n      <td>102.0</td>\n      <td>34187107.0</td>\n      <td>meat</td>\n      <td>m_15</td>\n      <td>Biologische spekreepjes</td>\n      <td>200g</td>\n      <td>2.69</td>\n      <td>2.69</td>\n      <td>1.0</td>\n      <td>0.0</td>\n    </tr>\n    <tr>\n      <th>2103</th>\n      <td>3/1/2018</td>\n      <td>10:47:17</td>\n      <td>117.0</td>\n      <td>1064747.0</td>\n      <td>meat</td>\n      <td>m_15</td>\n      <td>Biologische spekreepjes</td>\n      <td>200g</td>\n      <td>2.69</td>\n      <td>2.69</td>\n      <td>1.0</td>\n      <td>0.0</td>\n    </tr>\n    <tr>\n      <th>2724</th>\n      <td>3/1/2018</td>\n      <td>19:25:33</td>\n      <td>158.0</td>\n      <td>63634047.0</td>\n      <td>meat</td>\n      <td>m_15</td>\n      <td>Biologische spekreepjes</td>\n      <td>200g</td>\n      <td>2.69</td>\n      <td>2.69</td>\n      <td>1.0</td>\n      <td>0.0</td>\n    </tr>\n    <tr>\n      <th>4534</th>\n      <td>6/1/2018</td>\n      <td>12:45:08</td>\n      <td>274.0</td>\n      <td>43670698.0</td>\n      <td>meat</td>\n      <td>m_15</td>\n      <td>Biologische spekreepjes</td>\n      <td>200g</td>\n      <td>2.69</td>\n      <td>2.69</td>\n      <td>1.0</td>\n      <td>0.0</td>\n    </tr>\n    <tr>\n      <th>...</th>\n      <td>...</td>\n      <td>...</td>\n      <td>...</td>\n      <td>...</td>\n      <td>...</td>\n      <td>...</td>\n      <td>...</td>\n      <td>...</td>\n      <td>...</td>\n      <td>...</td>\n      <td>...</td>\n      <td>...</td>\n    </tr>\n    <tr>\n      <th>353828</th>\n      <td>29-12-2018</td>\n      <td>20:04:32</td>\n      <td>20636.0</td>\n      <td>38621378.0</td>\n      <td>meat</td>\n      <td>m_15</td>\n      <td>Biologische spekreepjes</td>\n      <td>200g</td>\n      <td>2.69</td>\n      <td>2.69</td>\n      <td>1.0</td>\n      <td>0.0</td>\n    </tr>\n    <tr>\n      <th>354041</th>\n      <td>30-12-2018</td>\n      <td>10:08:47</td>\n      <td>20646.0</td>\n      <td>NaN</td>\n      <td>meat</td>\n      <td>m_15</td>\n      <td>Biologische spekreepjes</td>\n      <td>200g</td>\n      <td>2.69</td>\n      <td>2.69</td>\n      <td>1.0</td>\n      <td>0.0</td>\n    </tr>\n    <tr>\n      <th>354144</th>\n      <td>30-12-2018</td>\n      <td>12:42:05</td>\n      <td>20650.0</td>\n      <td>63634047.0</td>\n      <td>meat</td>\n      <td>m_15</td>\n      <td>Biologische spekreepjes</td>\n      <td>200g</td>\n      <td>2.69</td>\n      <td>2.69</td>\n      <td>1.0</td>\n      <td>0.0</td>\n    </tr>\n    <tr>\n      <th>354171</th>\n      <td>30-12-2018</td>\n      <td>13:15:05</td>\n      <td>20651.0</td>\n      <td>79747334.0</td>\n      <td>meat</td>\n      <td>m_15</td>\n      <td>Biologische spekreepjes</td>\n      <td>200g</td>\n      <td>2.69</td>\n      <td>2.69</td>\n      <td>1.0</td>\n      <td>0.0</td>\n    </tr>\n    <tr>\n      <th>354260</th>\n      <td>30-12-2018</td>\n      <td>14:26:22</td>\n      <td>20656.0</td>\n      <td>40285157.0</td>\n      <td>meat</td>\n      <td>m_15</td>\n      <td>Biologische spekreepjes</td>\n      <td>200g</td>\n      <td>2.69</td>\n      <td>2.69</td>\n      <td>1.0</td>\n      <td>0.0</td>\n    </tr>\n  </tbody>\n</table>\n<p>439 rows × 12 columns</p>\n</div>"
     },
     "metadata": {},
     "execution_count": 23
    }
   ],
   "source": [
    "product = 'Biologische spekreepjes' #select the product to analyze\n",
    "transactions[transactions[\"description\"] == product] #transactions for that product"
   ]
  },
  {
   "cell_type": "code",
   "execution_count": 24,
   "metadata": {},
   "outputs": [],
   "source": [
    "def date_converter(row):\n",
    "    converted_date = datetime.datetime(2018, 1, 1) + datetime.timedelta(row[\"day\"])\n",
    "    return converted_date\n",
    "\n",
    "inventory[\"date\"] = inventory.apply(date_converter, axis = 1) #convert day of year to actual timestamp"
   ]
  },
  {
   "cell_type": "code",
   "execution_count": 25,
   "metadata": {},
   "outputs": [],
   "source": [
    "def week_of_year(row):\n",
    "    week_nr = datetime.date(row[\"date\"].year, row[\"date\"].month, row[\"date\"].day).isocalendar()[1]\n",
    "    return week_nr\n",
    "\n",
    "inventory[\"week\"] = inventory.apply(week_of_year, axis = 1)\n",
    "#add nr week of year as an extra column to inventory"
   ]
  },
  {
   "cell_type": "code",
   "execution_count": 26,
   "metadata": {},
   "outputs": [
    {
     "output_type": "stream",
     "name": "stderr",
     "text": [
      "<ipython-input-26-77f34563d40f>:13: SettingWithCopyWarning: \nA value is trying to be set on a copy of a slice from a DataFrame.\nTry using .loc[row_indexer,col_indexer] = value instead\n\nSee the caveats in the documentation: https://pandas.pydata.org/pandas-docs/stable/user_guide/indexing.html#returning-a-view-versus-a-copy\n  filter_inventory[\"discount\"] = filter_inventory.apply(check_discount, axis = 1)\n"
     ]
    }
   ],
   "source": [
    "#only keep relevant columns in inventory\n",
    "filter_inventory = inventory[[\"day\", \"before or after delivery\", \"date\", \"week\", product]]\n",
    "#filters promotion table to only contain discounts for chosen product\n",
    "promotions_filter = promotions[promotions[\"description\"] == product]\n",
    "\n",
    "def check_discount(row):\n",
    "    if row[\"week\"] in promotions_filter[\"week\"].values:\n",
    "        discount_amount = promotions_filter[promotions_filter[\"week\"] == row[\"week\"]][\"discount\"]\n",
    "        return discount_amount.values[0]\n",
    "    else:\n",
    "        return 0\n",
    "#adds extra column to filter inventory containing discount amount\n",
    "filter_inventory[\"discount\"] = filter_inventory.apply(check_discount, axis = 1)\n"
   ]
  },
  {
   "cell_type": "code",
   "execution_count": 27,
   "metadata": {},
   "outputs": [
    {
     "output_type": "stream",
     "name": "stderr",
     "text": [
      "<ipython-input-27-12a88a37912f>:8: SettingWithCopyWarning: \nA value is trying to be set on a copy of a slice from a DataFrame.\nTry using .loc[row_indexer,col_indexer] = value instead\n\nSee the caveats in the documentation: https://pandas.pydata.org/pandas-docs/stable/user_guide/indexing.html#returning-a-view-versus-a-copy\n  filter_inventory[\"total inventory\"] = filter_inventory.apply(total_inv, axis = 1)\n"
     ]
    }
   ],
   "source": [
    "def total_inv(row):\n",
    "    total = 0\n",
    "    if len(row[product]) > 0:\n",
    "        for batch in row[product]:\n",
    "            total += batch[1]\n",
    "    return total\n",
    "#adds total nr items in inventory for the filtered dataframe\n",
    "filter_inventory[\"total inventory\"] = filter_inventory.apply(total_inv, axis = 1)"
   ]
  },
  {
   "cell_type": "code",
   "execution_count": 28,
   "metadata": {},
   "outputs": [
    {
     "output_type": "execute_result",
     "data": {
      "text/plain": [
       "array([ 10,  13,  17,  20,  24,  27,  31,  34,  38,  41,  45,  48,  52,\n",
       "        55,  59,  62,  66,  69,  73,  76,  80,  83,  87,  90,  94,  97,\n",
       "       101, 104, 108, 111, 115, 118, 122, 125, 129, 132, 136, 139, 143,\n",
       "       146, 150, 153, 157, 160, 164, 167, 171, 174, 178, 181, 185, 188,\n",
       "       192, 195, 199, 202, 206, 209, 213, 216, 220, 223, 227, 230, 234,\n",
       "       237, 241, 244, 248, 251, 255, 258, 262, 265, 269, 272, 276, 279,\n",
       "       283, 286, 290, 293, 297, 300, 304, 307, 311, 314, 318, 321, 325,\n",
       "       328, 332, 335, 339, 342, 346, 349, 353, 356, 360, 363, 367, 370])"
      ]
     },
     "metadata": {},
     "execution_count": 28
    }
   ],
   "source": [
    "best_before = []\n",
    "for element_list in filter_inventory[product]:\n",
    "    for batch in element_list:\n",
    "        best_before.append(batch[0])\n",
    "bb_dates = np.unique(best_before)\n",
    "#list of each unique best before dates\n",
    "bb_dates"
   ]
  },
  {
   "cell_type": "code",
   "execution_count": 29,
   "metadata": {},
   "outputs": [
    {
     "output_type": "execute_result",
     "data": {
      "text/plain": [
       "     best before\n",
       "0             10\n",
       "1             13\n",
       "2             17\n",
       "3             20\n",
       "4             24\n",
       "..           ...\n",
       "99           356\n",
       "100          360\n",
       "101          363\n",
       "102          367\n",
       "103          370\n",
       "\n",
       "[104 rows x 1 columns]"
      ],
      "text/html": "<div>\n<style scoped>\n    .dataframe tbody tr th:only-of-type {\n        vertical-align: middle;\n    }\n\n    .dataframe tbody tr th {\n        vertical-align: top;\n    }\n\n    .dataframe thead th {\n        text-align: right;\n    }\n</style>\n<table border=\"1\" class=\"dataframe\">\n  <thead>\n    <tr style=\"text-align: right;\">\n      <th></th>\n      <th>best before</th>\n    </tr>\n  </thead>\n  <tbody>\n    <tr>\n      <th>0</th>\n      <td>10</td>\n    </tr>\n    <tr>\n      <th>1</th>\n      <td>13</td>\n    </tr>\n    <tr>\n      <th>2</th>\n      <td>17</td>\n    </tr>\n    <tr>\n      <th>3</th>\n      <td>20</td>\n    </tr>\n    <tr>\n      <th>4</th>\n      <td>24</td>\n    </tr>\n    <tr>\n      <th>...</th>\n      <td>...</td>\n    </tr>\n    <tr>\n      <th>99</th>\n      <td>356</td>\n    </tr>\n    <tr>\n      <th>100</th>\n      <td>360</td>\n    </tr>\n    <tr>\n      <th>101</th>\n      <td>363</td>\n    </tr>\n    <tr>\n      <th>102</th>\n      <td>367</td>\n    </tr>\n    <tr>\n      <th>103</th>\n      <td>370</td>\n    </tr>\n  </tbody>\n</table>\n<p>104 rows × 1 columns</p>\n</div>"
     },
     "metadata": {},
     "execution_count": 29
    }
   ],
   "source": [
    "df_waste = pd.DataFrame({\"best before\":bb_dates})\n",
    "df_waste #build initial df with points where waste can occur"
   ]
  },
  {
   "cell_type": "code",
   "execution_count": 30,
   "metadata": {},
   "outputs": [
    {
     "output_type": "execute_result",
     "data": {
      "text/plain": [
       "     best before  amount\n",
       "0             10       5\n",
       "1             13       5\n",
       "2             17       5\n",
       "3             20       5\n",
       "4             24       5\n",
       "..           ...     ...\n",
       "99           356       5\n",
       "100          360       5\n",
       "101          363       5\n",
       "102          367       5\n",
       "103          370       5\n",
       "\n",
       "[104 rows x 2 columns]"
      ],
      "text/html": "<div>\n<style scoped>\n    .dataframe tbody tr th:only-of-type {\n        vertical-align: middle;\n    }\n\n    .dataframe tbody tr th {\n        vertical-align: top;\n    }\n\n    .dataframe thead th {\n        text-align: right;\n    }\n</style>\n<table border=\"1\" class=\"dataframe\">\n  <thead>\n    <tr style=\"text-align: right;\">\n      <th></th>\n      <th>best before</th>\n      <th>amount</th>\n    </tr>\n  </thead>\n  <tbody>\n    <tr>\n      <th>0</th>\n      <td>10</td>\n      <td>5</td>\n    </tr>\n    <tr>\n      <th>1</th>\n      <td>13</td>\n      <td>5</td>\n    </tr>\n    <tr>\n      <th>2</th>\n      <td>17</td>\n      <td>5</td>\n    </tr>\n    <tr>\n      <th>3</th>\n      <td>20</td>\n      <td>5</td>\n    </tr>\n    <tr>\n      <th>4</th>\n      <td>24</td>\n      <td>5</td>\n    </tr>\n    <tr>\n      <th>...</th>\n      <td>...</td>\n      <td>...</td>\n    </tr>\n    <tr>\n      <th>99</th>\n      <td>356</td>\n      <td>5</td>\n    </tr>\n    <tr>\n      <th>100</th>\n      <td>360</td>\n      <td>5</td>\n    </tr>\n    <tr>\n      <th>101</th>\n      <td>363</td>\n      <td>5</td>\n    </tr>\n    <tr>\n      <th>102</th>\n      <td>367</td>\n      <td>5</td>\n    </tr>\n    <tr>\n      <th>103</th>\n      <td>370</td>\n      <td>5</td>\n    </tr>\n  </tbody>\n</table>\n<p>104 rows × 2 columns</p>\n</div>"
     },
     "metadata": {},
     "execution_count": 30
    }
   ],
   "source": [
    "def input_inv(row):\n",
    "    for element_list in filter_inventory[product]:\n",
    "        if len(element_list) > 0:\n",
    "            for batch in element_list:\n",
    "                if batch[0] == row[\"best before\"]:\n",
    "                    return batch[1]\n",
    "\n",
    "df_waste[\"amount\"] = df_waste.apply(input_inv, axis = 1)\n",
    "df_waste #amount that was received with particular expiry date"
   ]
  },
  {
   "cell_type": "code",
   "execution_count": 31,
   "metadata": {},
   "outputs": [
    {
     "output_type": "execute_result",
     "data": {
      "text/plain": [
       "     best before  amount\n",
       "0             10       5\n",
       "1             13       5\n",
       "2             17       5\n",
       "3             20       5\n",
       "4             24       5\n",
       "..           ...     ...\n",
       "97           349       5\n",
       "98           353       5\n",
       "99           356       5\n",
       "100          360       5\n",
       "101          363       5\n",
       "\n",
       "[102 rows x 2 columns]"
      ],
      "text/html": "<div>\n<style scoped>\n    .dataframe tbody tr th:only-of-type {\n        vertical-align: middle;\n    }\n\n    .dataframe tbody tr th {\n        vertical-align: top;\n    }\n\n    .dataframe thead th {\n        text-align: right;\n    }\n</style>\n<table border=\"1\" class=\"dataframe\">\n  <thead>\n    <tr style=\"text-align: right;\">\n      <th></th>\n      <th>best before</th>\n      <th>amount</th>\n    </tr>\n  </thead>\n  <tbody>\n    <tr>\n      <th>0</th>\n      <td>10</td>\n      <td>5</td>\n    </tr>\n    <tr>\n      <th>1</th>\n      <td>13</td>\n      <td>5</td>\n    </tr>\n    <tr>\n      <th>2</th>\n      <td>17</td>\n      <td>5</td>\n    </tr>\n    <tr>\n      <th>3</th>\n      <td>20</td>\n      <td>5</td>\n    </tr>\n    <tr>\n      <th>4</th>\n      <td>24</td>\n      <td>5</td>\n    </tr>\n    <tr>\n      <th>...</th>\n      <td>...</td>\n      <td>...</td>\n    </tr>\n    <tr>\n      <th>97</th>\n      <td>349</td>\n      <td>5</td>\n    </tr>\n    <tr>\n      <th>98</th>\n      <td>353</td>\n      <td>5</td>\n    </tr>\n    <tr>\n      <th>99</th>\n      <td>356</td>\n      <td>5</td>\n    </tr>\n    <tr>\n      <th>100</th>\n      <td>360</td>\n      <td>5</td>\n    </tr>\n    <tr>\n      <th>101</th>\n      <td>363</td>\n      <td>5</td>\n    </tr>\n  </tbody>\n</table>\n<p>102 rows × 2 columns</p>\n</div>"
     },
     "metadata": {},
     "execution_count": 31
    }
   ],
   "source": [
    "df_waste = df_waste[df_waste[\"best before\"] < 365] #only keep rows where expiry date is in same year\n",
    "df_waste"
   ]
  },
  {
   "cell_type": "code",
   "execution_count": 38,
   "metadata": {},
   "outputs": [
    {
     "output_type": "stream",
     "name": "stderr",
     "text": [
      "<ipython-input-38-20a29ce21d11>:8: SettingWithCopyWarning: \nA value is trying to be set on a copy of a slice from a DataFrame.\nTry using .loc[row_indexer,col_indexer] = value instead\n\nSee the caveats in the documentation: https://pandas.pydata.org/pandas-docs/stable/user_guide/indexing.html#returning-a-view-versus-a-copy\n  filtered_transactions[\"DOY\"] = filtered_transactions.apply(input_DOY, axis=1)\n"
     ]
    },
    {
     "output_type": "execute_result",
     "data": {
      "text/plain": [
       "       DOY  cumulative purchases\n",
       "doy                             \n",
       "1      NaN                   NaN\n",
       "2      NaN                   NaN\n",
       "3      NaN                   NaN\n",
       "4      4.0                   1.0\n",
       "5      5.0                   4.0\n",
       "..     ...                   ...\n",
       "360  360.0                 428.0\n",
       "361  361.0                 429.0\n",
       "362  362.0                 433.0\n",
       "363  363.0                 437.0\n",
       "364  363.0                 437.0\n",
       "\n",
       "[364 rows x 2 columns]"
      ],
      "text/html": "<div>\n<style scoped>\n    .dataframe tbody tr th:only-of-type {\n        vertical-align: middle;\n    }\n\n    .dataframe tbody tr th {\n        vertical-align: top;\n    }\n\n    .dataframe thead th {\n        text-align: right;\n    }\n</style>\n<table border=\"1\" class=\"dataframe\">\n  <thead>\n    <tr style=\"text-align: right;\">\n      <th></th>\n      <th>DOY</th>\n      <th>cumulative purchases</th>\n    </tr>\n    <tr>\n      <th>doy</th>\n      <th></th>\n      <th></th>\n    </tr>\n  </thead>\n  <tbody>\n    <tr>\n      <th>1</th>\n      <td>NaN</td>\n      <td>NaN</td>\n    </tr>\n    <tr>\n      <th>2</th>\n      <td>NaN</td>\n      <td>NaN</td>\n    </tr>\n    <tr>\n      <th>3</th>\n      <td>NaN</td>\n      <td>NaN</td>\n    </tr>\n    <tr>\n      <th>4</th>\n      <td>4.0</td>\n      <td>1.0</td>\n    </tr>\n    <tr>\n      <th>5</th>\n      <td>5.0</td>\n      <td>4.0</td>\n    </tr>\n    <tr>\n      <th>...</th>\n      <td>...</td>\n      <td>...</td>\n    </tr>\n    <tr>\n      <th>360</th>\n      <td>360.0</td>\n      <td>428.0</td>\n    </tr>\n    <tr>\n      <th>361</th>\n      <td>361.0</td>\n      <td>429.0</td>\n    </tr>\n    <tr>\n      <th>362</th>\n      <td>362.0</td>\n      <td>433.0</td>\n    </tr>\n    <tr>\n      <th>363</th>\n      <td>363.0</td>\n      <td>437.0</td>\n    </tr>\n    <tr>\n      <th>364</th>\n      <td>363.0</td>\n      <td>437.0</td>\n    </tr>\n  </tbody>\n</table>\n<p>364 rows × 2 columns</p>\n</div>"
     },
     "metadata": {},
     "execution_count": 38
    }
   ],
   "source": [
    "transactions[\"day\"] = pd.to_datetime(transactions[\"day\"])\n",
    "#filter_transactions = transactions[transactions[\"description\"] == product]\n",
    "#converts date then filters transactions to contain selected product purchases\n",
    "filtered_transactions = transactions[transactions[\"description\"] == product]\n",
    "def input_DOY(row):\n",
    "    doy = pd.to_datetime(row[\"day\"], dayfirst=True).dayofyear - 1\n",
    "    return doy \n",
    "filtered_transactions[\"DOY\"] = filtered_transactions.apply(input_DOY, axis=1)\n",
    "cumsum_purchases = filtered_transactions.groupby(\"DOY\").count()[\"product_id\"].cumsum()\n",
    "#creating a dataframe,  merging it with reference so each day is accounted for\n",
    "df_purchases = pd.DataFrame({\"DOY\":cumsum_purchases.index, \"cumulative purchases\":cumsum_purchases})\n",
    "ref = pd.DataFrame({\"doy\":range(1,365)}) #reference table to match up days\n",
    "joint_purchases = ref.set_index('doy').join(df_purchases)\n",
    "joint_purchases.fillna(method='pad', inplace=True)#days where 0 purchases happened\n",
    "\n",
    "first_restock = df_date[df_date[\"day\"] == 3][\"date\"].values[0]\n",
    "#first_restock check purchases mde before the first restock\n",
    "filtered_transactions[filtered_transactions[\"day\"] < first_restock]\n",
    "#PROBLEM: IF A PRODUCT HASN'T BEEN BOUGHT IN ONE DAY IT HAS A ZERO, CAUSES AN ERROR FEW CELLS \n",
    "joint_purchases"
   ]
  },
  {
   "cell_type": "code",
   "execution_count": 40,
   "metadata": {},
   "outputs": [
    {
     "output_type": "execute_result",
     "data": {
      "text/plain": [
       "day\n",
       "2018-01-05      1\n",
       "2018-01-06      4\n",
       "2018-01-07      6\n",
       "2018-01-09      8\n",
       "2018-01-10      9\n",
       "             ... \n",
       "2018-12-26    427\n",
       "2018-12-27    428\n",
       "2018-12-28    429\n",
       "2018-12-29    433\n",
       "2018-12-30    437\n",
       "Name: product_id, Length: 243, dtype: int64"
      ]
     },
     "metadata": {},
     "execution_count": 40
    }
   ],
   "source": [
    "#cumulative sum of purchases from that product\n",
    "purchases_per_day = filtered_transactions.groupby(\"day\").count()[\"product_id\"].cumsum()\n",
    "#purchases made per day from that product\n",
    "purchases_per_day_plotting = filtered_transactions.groupby(\"day\").count()[\"product_id\"]\n",
    "#idk know what is this\n",
    "purchases_per_day_plotting.index = purchases_per_day_plotting.index.dayofyear/7\n",
    "purchases_per_day\n",
    "#would need to generate the individual days where there are no new purchases and assign a zero value to these days to fix the cumsum()"
   ]
  },
  {
   "cell_type": "code",
   "execution_count": 41,
   "metadata": {},
   "outputs": [
    {
     "output_type": "execute_result",
     "data": {
      "text/plain": [
       "day\n",
       "2018-01-05      1\n",
       "2018-01-06      4\n",
       "2018-01-07      6\n",
       "2018-01-09      8\n",
       "2018-01-10      9\n",
       "             ... \n",
       "2018-12-26    427\n",
       "2018-12-27    428\n",
       "2018-12-28    429\n",
       "2018-12-29    433\n",
       "2018-12-30    437\n",
       "Name: product_id, Length: 243, dtype: int64"
      ]
     },
     "metadata": {},
     "execution_count": 41
    }
   ],
   "source": [
    "purchases_per_day.index[0].year\n",
    "weeknr = []\n",
    "for ind in purchases_per_day.index:\n",
    "    week = datetime.date(ind.year, ind.month, ind.day).isocalendar()[1]\n",
    "    weeknr.append(week)\n",
    "#week number for each purchase day\n",
    "purchases_per_day"
   ]
  },
  {
   "cell_type": "code",
   "execution_count": 42,
   "metadata": {},
   "outputs": [
    {
     "output_type": "stream",
     "name": "stderr",
     "text": [
      "C:\\Users\\zolyo\\AppData\\Roaming\\Python\\Python38\\site-packages\\pandas\\core\\frame.py:4167: SettingWithCopyWarning: \nA value is trying to be set on a copy of a slice from a DataFrame\n\nSee the caveats in the documentation: https://pandas.pydata.org/pandas-docs/stable/user_guide/indexing.html#returning-a-view-versus-a-copy\n  return super().drop(\n"
     ]
    },
    {
     "output_type": "execute_result",
     "data": {
      "text/plain": [
       "    best before  amount\n",
       "0            10       5\n",
       "1            13       5\n",
       "2            17       5\n",
       "3            20       5\n",
       "4            24       5\n",
       "..          ...     ...\n",
       "79          286       5\n",
       "80          290       5\n",
       "81          293       5\n",
       "82          297       5\n",
       "83          300       5\n",
       "\n",
       "[84 rows x 2 columns]"
      ],
      "text/html": "<div>\n<style scoped>\n    .dataframe tbody tr th:only-of-type {\n        vertical-align: middle;\n    }\n\n    .dataframe tbody tr th {\n        vertical-align: top;\n    }\n\n    .dataframe thead th {\n        text-align: right;\n    }\n</style>\n<table border=\"1\" class=\"dataframe\">\n  <thead>\n    <tr style=\"text-align: right;\">\n      <th></th>\n      <th>best before</th>\n      <th>amount</th>\n    </tr>\n  </thead>\n  <tbody>\n    <tr>\n      <th>0</th>\n      <td>10</td>\n      <td>5</td>\n    </tr>\n    <tr>\n      <th>1</th>\n      <td>13</td>\n      <td>5</td>\n    </tr>\n    <tr>\n      <th>2</th>\n      <td>17</td>\n      <td>5</td>\n    </tr>\n    <tr>\n      <th>3</th>\n      <td>20</td>\n      <td>5</td>\n    </tr>\n    <tr>\n      <th>4</th>\n      <td>24</td>\n      <td>5</td>\n    </tr>\n    <tr>\n      <th>...</th>\n      <td>...</td>\n      <td>...</td>\n    </tr>\n    <tr>\n      <th>79</th>\n      <td>286</td>\n      <td>5</td>\n    </tr>\n    <tr>\n      <th>80</th>\n      <td>290</td>\n      <td>5</td>\n    </tr>\n    <tr>\n      <th>81</th>\n      <td>293</td>\n      <td>5</td>\n    </tr>\n    <tr>\n      <th>82</th>\n      <td>297</td>\n      <td>5</td>\n    </tr>\n    <tr>\n      <th>83</th>\n      <td>300</td>\n      <td>5</td>\n    </tr>\n  </tbody>\n</table>\n<p>84 rows × 2 columns</p>\n</div>"
     },
     "metadata": {},
     "execution_count": 42
    }
   ],
   "source": [
    "df_waste.drop(index=df_waste.tail(9).index, inplace=True)\n",
    "#drop the last rows not to cause index issues\n",
    "#STILL NEED TO BE FIXED\n",
    "df_waste"
   ]
  },
  {
   "cell_type": "code",
   "execution_count": 43,
   "metadata": {},
   "outputs": [
    {
     "output_type": "stream",
     "name": "stderr",
     "text": [
      "<ipython-input-43-1d0854f8769b>:2: SettingWithCopyWarning: \nA value is trying to be set on a copy of a slice from a DataFrame.\nTry using .loc[row_indexer,col_indexer] = value instead\n\nSee the caveats in the documentation: https://pandas.pydata.org/pandas-docs/stable/user_guide/indexing.html#returning-a-view-versus-a-copy\n  df_waste[\"purchases\"] = [joint_purchases['cumulative purchases'][i] for i in df_waste[\"best before\"]]\n"
     ]
    },
    {
     "output_type": "execute_result",
     "data": {
      "text/plain": [
       "    best before  amount  purchases\n",
       "0            10       5       10.0\n",
       "1            13       5       14.0\n",
       "2            17       5       18.0\n",
       "3            20       5       22.0\n",
       "4            24       5       24.0\n",
       "..          ...     ...        ...\n",
       "79          286       5      347.0\n",
       "80          290       5      350.0\n",
       "81          293       5      351.0\n",
       "82          297       5      356.0\n",
       "83          300       5      360.0\n",
       "\n",
       "[84 rows x 3 columns]"
      ],
      "text/html": "<div>\n<style scoped>\n    .dataframe tbody tr th:only-of-type {\n        vertical-align: middle;\n    }\n\n    .dataframe tbody tr th {\n        vertical-align: top;\n    }\n\n    .dataframe thead th {\n        text-align: right;\n    }\n</style>\n<table border=\"1\" class=\"dataframe\">\n  <thead>\n    <tr style=\"text-align: right;\">\n      <th></th>\n      <th>best before</th>\n      <th>amount</th>\n      <th>purchases</th>\n    </tr>\n  </thead>\n  <tbody>\n    <tr>\n      <th>0</th>\n      <td>10</td>\n      <td>5</td>\n      <td>10.0</td>\n    </tr>\n    <tr>\n      <th>1</th>\n      <td>13</td>\n      <td>5</td>\n      <td>14.0</td>\n    </tr>\n    <tr>\n      <th>2</th>\n      <td>17</td>\n      <td>5</td>\n      <td>18.0</td>\n    </tr>\n    <tr>\n      <th>3</th>\n      <td>20</td>\n      <td>5</td>\n      <td>22.0</td>\n    </tr>\n    <tr>\n      <th>4</th>\n      <td>24</td>\n      <td>5</td>\n      <td>24.0</td>\n    </tr>\n    <tr>\n      <th>...</th>\n      <td>...</td>\n      <td>...</td>\n      <td>...</td>\n    </tr>\n    <tr>\n      <th>79</th>\n      <td>286</td>\n      <td>5</td>\n      <td>347.0</td>\n    </tr>\n    <tr>\n      <th>80</th>\n      <td>290</td>\n      <td>5</td>\n      <td>350.0</td>\n    </tr>\n    <tr>\n      <th>81</th>\n      <td>293</td>\n      <td>5</td>\n      <td>351.0</td>\n    </tr>\n    <tr>\n      <th>82</th>\n      <td>297</td>\n      <td>5</td>\n      <td>356.0</td>\n    </tr>\n    <tr>\n      <th>83</th>\n      <td>300</td>\n      <td>5</td>\n      <td>360.0</td>\n    </tr>\n  </tbody>\n</table>\n<p>84 rows × 3 columns</p>\n</div>"
     },
     "metadata": {},
     "execution_count": 43
    }
   ],
   "source": [
    "#df_waste[\"purchases\"] = [purchases_per_day[i-1] for i in df_waste[\"best before\"]]\n",
    "df_waste[\"purchases\"] = [joint_purchases['cumulative purchases'][i] for i in df_waste[\"best before\"]]\n",
    "#add cumulative sum of purchases up until that day (based on expiry dates)\n",
    "df_waste"
   ]
  },
  {
   "cell_type": "code",
   "execution_count": 44,
   "metadata": {},
   "outputs": [
    {
     "output_type": "stream",
     "name": "stderr",
     "text": [
      "<ipython-input-44-248a6f37d748>:1: SettingWithCopyWarning: \nA value is trying to be set on a copy of a slice from a DataFrame.\nTry using .loc[row_indexer,col_indexer] = value instead\n\nSee the caveats in the documentation: https://pandas.pydata.org/pandas-docs/stable/user_guide/indexing.html#returning-a-view-versus-a-copy\n  df_waste[\"prev purchases\"] = df_waste[\"purchases\"].diff()\n"
     ]
    },
    {
     "output_type": "execute_result",
     "data": {
      "text/plain": [
       "    best before  amount  purchases  prev purchases\n",
       "0            10       5       10.0             NaN\n",
       "1            13       5       14.0             4.0\n",
       "2            17       5       18.0             4.0\n",
       "3            20       5       22.0             4.0\n",
       "4            24       5       24.0             2.0\n",
       "..          ...     ...        ...             ...\n",
       "79          286       5      347.0             5.0\n",
       "80          290       5      350.0             3.0\n",
       "81          293       5      351.0             1.0\n",
       "82          297       5      356.0             5.0\n",
       "83          300       5      360.0             4.0\n",
       "\n",
       "[84 rows x 4 columns]"
      ],
      "text/html": "<div>\n<style scoped>\n    .dataframe tbody tr th:only-of-type {\n        vertical-align: middle;\n    }\n\n    .dataframe tbody tr th {\n        vertical-align: top;\n    }\n\n    .dataframe thead th {\n        text-align: right;\n    }\n</style>\n<table border=\"1\" class=\"dataframe\">\n  <thead>\n    <tr style=\"text-align: right;\">\n      <th></th>\n      <th>best before</th>\n      <th>amount</th>\n      <th>purchases</th>\n      <th>prev purchases</th>\n    </tr>\n  </thead>\n  <tbody>\n    <tr>\n      <th>0</th>\n      <td>10</td>\n      <td>5</td>\n      <td>10.0</td>\n      <td>NaN</td>\n    </tr>\n    <tr>\n      <th>1</th>\n      <td>13</td>\n      <td>5</td>\n      <td>14.0</td>\n      <td>4.0</td>\n    </tr>\n    <tr>\n      <th>2</th>\n      <td>17</td>\n      <td>5</td>\n      <td>18.0</td>\n      <td>4.0</td>\n    </tr>\n    <tr>\n      <th>3</th>\n      <td>20</td>\n      <td>5</td>\n      <td>22.0</td>\n      <td>4.0</td>\n    </tr>\n    <tr>\n      <th>4</th>\n      <td>24</td>\n      <td>5</td>\n      <td>24.0</td>\n      <td>2.0</td>\n    </tr>\n    <tr>\n      <th>...</th>\n      <td>...</td>\n      <td>...</td>\n      <td>...</td>\n      <td>...</td>\n    </tr>\n    <tr>\n      <th>79</th>\n      <td>286</td>\n      <td>5</td>\n      <td>347.0</td>\n      <td>5.0</td>\n    </tr>\n    <tr>\n      <th>80</th>\n      <td>290</td>\n      <td>5</td>\n      <td>350.0</td>\n      <td>3.0</td>\n    </tr>\n    <tr>\n      <th>81</th>\n      <td>293</td>\n      <td>5</td>\n      <td>351.0</td>\n      <td>1.0</td>\n    </tr>\n    <tr>\n      <th>82</th>\n      <td>297</td>\n      <td>5</td>\n      <td>356.0</td>\n      <td>5.0</td>\n    </tr>\n    <tr>\n      <th>83</th>\n      <td>300</td>\n      <td>5</td>\n      <td>360.0</td>\n      <td>4.0</td>\n    </tr>\n  </tbody>\n</table>\n<p>84 rows × 4 columns</p>\n</div>"
     },
     "metadata": {},
     "execution_count": 44
    }
   ],
   "source": [
    "df_waste[\"prev purchases\"] = df_waste[\"purchases\"].diff()\n",
    "df_waste #difference in purchases since a previous batch of product expired"
   ]
  },
  {
   "cell_type": "code",
   "execution_count": 45,
   "metadata": {},
   "outputs": [
    {
     "output_type": "stream",
     "name": "stderr",
     "text": [
      "<ipython-input-45-080965735ec7>:4: SettingWithCopyWarning: \nA value is trying to be set on a copy of a slice from a DataFrame.\nTry using .loc[row_indexer,col_indexer] = value instead\n\nSee the caveats in the documentation: https://pandas.pydata.org/pandas-docs/stable/user_guide/indexing.html#returning-a-view-versus-a-copy\n  df_waste[\"remaining\"] = df_waste[\"amount\"] - df_waste[\"prev purchases\"]\nC:\\Users\\zolyo\\AppData\\Roaming\\Python\\Python38\\site-packages\\pandas\\core\\indexing.py:670: SettingWithCopyWarning: \nA value is trying to be set on a copy of a slice from a DataFrame\n\nSee the caveats in the documentation: https://pandas.pydata.org/pandas-docs/stable/user_guide/indexing.html#returning-a-view-versus-a-copy\n  iloc._setitem_with_indexer(indexer, value)\n<ipython-input-45-080965735ec7>:6: SettingWithCopyWarning: \nA value is trying to be set on a copy of a slice from a DataFrame\n\nSee the caveats in the documentation: https://pandas.pydata.org/pandas-docs/stable/user_guide/indexing.html#returning-a-view-versus-a-copy\n  df_waste[\"remaining\"].iloc[0] = df_waste[\"amount\"].iloc[0] - df_waste[\"purchases\"].iloc[0]\n<ipython-input-45-080965735ec7>:24: SettingWithCopyWarning: \nA value is trying to be set on a copy of a slice from a DataFrame.\nTry using .loc[row_indexer,col_indexer] = value instead\n\nSee the caveats in the documentation: https://pandas.pydata.org/pandas-docs/stable/user_guide/indexing.html#returning-a-view-versus-a-copy\n  df_waste[\"waste\"] = lst_waste\n<ipython-input-45-080965735ec7>:29: SettingWithCopyWarning: \nA value is trying to be set on a copy of a slice from a DataFrame.\nTry using .loc[row_indexer,col_indexer] = value instead\n\nSee the caveats in the documentation: https://pandas.pydata.org/pandas-docs/stable/user_guide/indexing.html#returning-a-view-versus-a-copy\n  df_waste[\"date\"] = df_waste.apply(date_converter, axis = 1)\n<ipython-input-45-080965735ec7>:30: SettingWithCopyWarning: \nA value is trying to be set on a copy of a slice from a DataFrame.\nTry using .loc[row_indexer,col_indexer] = value instead\n\nSee the caveats in the documentation: https://pandas.pydata.org/pandas-docs/stable/user_guide/indexing.html#returning-a-view-versus-a-copy\n  df_waste[\"week\"] = df_waste.apply(week_of_year, axis = 1)\n<ipython-input-45-080965735ec7>:31: SettingWithCopyWarning: \nA value is trying to be set on a copy of a slice from a DataFrame.\nTry using .loc[row_indexer,col_indexer] = value instead\n\nSee the caveats in the documentation: https://pandas.pydata.org/pandas-docs/stable/user_guide/indexing.html#returning-a-view-versus-a-copy\n  df_waste[df_waste[\"waste\"] < 0][\"waste\"] = 0\n<ipython-input-45-080965735ec7>:33: SettingWithCopyWarning: \nA value is trying to be set on a copy of a slice from a DataFrame.\nTry using .loc[row_indexer,col_indexer] = value instead\n\nSee the caveats in the documentation: https://pandas.pydata.org/pandas-docs/stable/user_guide/indexing.html#returning-a-view-versus-a-copy\n  df_waste['weekPrice'] = [float(products[products['description'] == product]['std_sales_price'].mean())] * len(df_waste)\n<ipython-input-45-080965735ec7>:44: SettingWithCopyWarning: \nA value is trying to be set on a copy of a slice from a DataFrame.\nTry using .loc[row_indexer,col_indexer] = value instead\n\nSee the caveats in the documentation: https://pandas.pydata.org/pandas-docs/stable/user_guide/indexing.html#returning-a-view-versus-a-copy\n  df_waste['lost_Revenue'] = df_waste.waste * df_waste.weekPrice\n<ipython-input-45-080965735ec7>:45: SettingWithCopyWarning: \nA value is trying to be set on a copy of a slice from a DataFrame.\nTry using .loc[row_indexer,col_indexer] = value instead\n\nSee the caveats in the documentation: https://pandas.pydata.org/pandas-docs/stable/user_guide/indexing.html#returning-a-view-versus-a-copy\n  df_waste['purc_price'] = [float(purchase_price)] * len(df_waste)\n<ipython-input-45-080965735ec7>:46: SettingWithCopyWarning: \nA value is trying to be set on a copy of a slice from a DataFrame.\nTry using .loc[row_indexer,col_indexer] = value instead\n\nSee the caveats in the documentation: https://pandas.pydata.org/pandas-docs/stable/user_guide/indexing.html#returning-a-view-versus-a-copy\n  df_waste['lost_profit'] = df_waste['waste'] * (df_waste['weekPrice'] - df_waste['purc_price'])\n<ipython-input-45-080965735ec7>:47: SettingWithCopyWarning: \nA value is trying to be set on a copy of a slice from a DataFrame.\nTry using .loc[row_indexer,col_indexer] = value instead\n\nSee the caveats in the documentation: https://pandas.pydata.org/pandas-docs/stable/user_guide/indexing.html#returning-a-view-versus-a-copy\n  df_waste['cost_wasted'] = df_waste['waste'] * df_waste['purc_price']\n"
     ]
    },
    {
     "output_type": "execute_result",
     "data": {
      "text/plain": [
       "    best before  amount  purchases  prev purchases  remaining  waste  \\\n",
       "0            10       5       10.0             NaN       -5.0   -5.0   \n",
       "1            13       5       14.0             4.0        1.0   -4.0   \n",
       "2            17       5       18.0             4.0        1.0   -3.0   \n",
       "3            20       5       22.0             4.0        1.0   -2.0   \n",
       "4            24       5       24.0             2.0        3.0    1.0   \n",
       "5            27       5       29.0             5.0        0.0    0.0   \n",
       "6            31       5       33.0             4.0        1.0    1.0   \n",
       "7            34       5       35.0             2.0        3.0    3.0   \n",
       "8            38       5       42.0             7.0       -2.0   -2.0   \n",
       "9            41       5       46.0             4.0        1.0   -1.0   \n",
       "10           45       5       49.0             3.0        2.0    1.0   \n",
       "11           48       5       53.0             4.0        1.0    1.0   \n",
       "12           52       5       56.0             3.0        2.0    2.0   \n",
       "13           55       5       58.0             2.0        3.0    3.0   \n",
       "14           59       5       63.0             5.0        0.0    0.0   \n",
       "15           62       5       71.0             8.0       -3.0   -3.0   \n",
       "16           66       5       78.0             7.0       -2.0   -5.0   \n",
       "17           69       5       88.0            10.0       -5.0  -10.0   \n",
       "18           73       5       92.0             4.0        1.0   -9.0   \n",
       "19           76       5       98.0             6.0       -1.0  -10.0   \n",
       "20           80       5      102.0             4.0        1.0   -9.0   \n",
       "21           83       5      105.0             3.0        2.0   -7.0   \n",
       "22           87       5      111.0             6.0       -1.0   -8.0   \n",
       "23           90       5      112.0             1.0        4.0   -4.0   \n",
       "24           94       5      120.0             8.0       -3.0   -7.0   \n",
       "25           97       5      125.0             5.0        0.0   -7.0   \n",
       "26          101       5      133.0             8.0       -3.0  -10.0   \n",
       "27          104       5      135.0             2.0        3.0   -7.0   \n",
       "28          108       5      138.0             3.0        2.0   -5.0   \n",
       "29          111       5      146.0             8.0       -3.0   -8.0   \n",
       "30          115       5      149.0             3.0        2.0   -6.0   \n",
       "31          118       5      156.0             7.0       -2.0   -8.0   \n",
       "32          122       5      156.0             0.0        5.0   -3.0   \n",
       "33          125       5      157.0             1.0        4.0    1.0   \n",
       "34          129       5      161.0             4.0        1.0    1.0   \n",
       "35          132       5      166.0             5.0        0.0    0.0   \n",
       "36          136       5      170.0             4.0        1.0    1.0   \n",
       "37          139       5      174.0             4.0        1.0    1.0   \n",
       "38          143       5      180.0             6.0       -1.0   -1.0   \n",
       "39          146       5      182.0             2.0        3.0    2.0   \n",
       "40          150       5      191.0             9.0       -4.0   -4.0   \n",
       "41          153       5      194.0             3.0        2.0   -2.0   \n",
       "42          157       5      198.0             4.0        1.0   -1.0   \n",
       "43          160       5      202.0             4.0        1.0    0.0   \n",
       "44          164       5      207.0             5.0        0.0    0.0   \n",
       "45          167       5      211.0             4.0        1.0    1.0   \n",
       "46          171       5      214.0             3.0        2.0    2.0   \n",
       "47          174       5      220.0             6.0       -1.0   -1.0   \n",
       "48          178       5      221.0             1.0        4.0    3.0   \n",
       "49          181       5      226.0             5.0        0.0    0.0   \n",
       "\n",
       "         date  week  weekPrice  lost_Revenue  purc_price  lost_profit  \\\n",
       "0  2018-01-11     2       2.69        -13.45        0.61       -10.40   \n",
       "1  2018-01-14     2       2.69        -10.76        0.61        -8.32   \n",
       "2  2018-01-18     3       2.69         -8.07        0.61        -6.24   \n",
       "3  2018-01-21     3       2.69         -5.38        0.61        -4.16   \n",
       "4  2018-01-25     4       2.69          2.69        0.61         2.08   \n",
       "5  2018-01-28     4       2.69          0.00        0.61         0.00   \n",
       "6  2018-02-01     5       2.69          2.69        0.61         2.08   \n",
       "7  2018-02-04     5       2.69          8.07        0.61         6.24   \n",
       "8  2018-02-08     6       2.69         -5.38        0.61        -4.16   \n",
       "9  2018-02-11     6       2.69         -2.69        0.61        -2.08   \n",
       "10 2018-02-15     7       2.69          2.69        0.61         2.08   \n",
       "11 2018-02-18     7       2.69          2.69        0.61         2.08   \n",
       "12 2018-02-22     8       2.69          5.38        0.61         4.16   \n",
       "13 2018-02-25     8       2.69          8.07        0.61         6.24   \n",
       "14 2018-03-01     9       2.69          0.00        0.61         0.00   \n",
       "15 2018-03-04     9       2.69         -8.07        0.61        -6.24   \n",
       "16 2018-03-08    10       2.69        -13.45        0.61       -10.40   \n",
       "17 2018-03-11    10       2.69        -26.90        0.61       -20.80   \n",
       "18 2018-03-15    11       2.69        -24.21        0.61       -18.72   \n",
       "19 2018-03-18    11       2.69        -26.90        0.61       -20.80   \n",
       "20 2018-03-22    12       2.69        -24.21        0.61       -18.72   \n",
       "21 2018-03-25    12       2.69        -18.83        0.61       -14.56   \n",
       "22 2018-03-29    13       2.69        -21.52        0.61       -16.64   \n",
       "23 2018-04-01    13       2.69        -10.76        0.61        -8.32   \n",
       "24 2018-04-05    14       2.69        -18.83        0.61       -14.56   \n",
       "25 2018-04-08    14       2.69        -18.83        0.61       -14.56   \n",
       "26 2018-04-12    15       2.69        -26.90        0.61       -20.80   \n",
       "27 2018-04-15    15       2.69        -18.83        0.61       -14.56   \n",
       "28 2018-04-19    16       2.69        -13.45        0.61       -10.40   \n",
       "29 2018-04-22    16       2.69        -21.52        0.61       -16.64   \n",
       "30 2018-04-26    17       2.69        -16.14        0.61       -12.48   \n",
       "31 2018-04-29    17       2.69        -21.52        0.61       -16.64   \n",
       "32 2018-05-03    18       2.69         -8.07        0.61        -6.24   \n",
       "33 2018-05-06    18       2.69          2.69        0.61         2.08   \n",
       "34 2018-05-10    19       2.69          2.69        0.61         2.08   \n",
       "35 2018-05-13    19       2.69          0.00        0.61         0.00   \n",
       "36 2018-05-17    20       2.69          2.69        0.61         2.08   \n",
       "37 2018-05-20    20       2.69          2.69        0.61         2.08   \n",
       "38 2018-05-24    21       2.69         -2.69        0.61        -2.08   \n",
       "39 2018-05-27    21       2.69          5.38        0.61         4.16   \n",
       "40 2018-05-31    22       2.69        -10.76        0.61        -8.32   \n",
       "41 2018-06-03    22       2.69         -5.38        0.61        -4.16   \n",
       "42 2018-06-07    23       2.69         -2.69        0.61        -2.08   \n",
       "43 2018-06-10    23       2.69          0.00        0.61         0.00   \n",
       "44 2018-06-14    24       2.69          0.00        0.61         0.00   \n",
       "45 2018-06-17    24       2.69          2.69        0.61         2.08   \n",
       "46 2018-06-21    25       2.69          5.38        0.61         4.16   \n",
       "47 2018-06-24    25       2.69         -2.69        0.61        -2.08   \n",
       "48 2018-06-28    26       2.69          8.07        0.61         6.24   \n",
       "49 2018-07-01    26       2.69          0.00        0.61         0.00   \n",
       "\n",
       "    cost_wasted  \n",
       "0         -3.05  \n",
       "1         -2.44  \n",
       "2         -1.83  \n",
       "3         -1.22  \n",
       "4          0.61  \n",
       "5          0.00  \n",
       "6          0.61  \n",
       "7          1.83  \n",
       "8         -1.22  \n",
       "9         -0.61  \n",
       "10         0.61  \n",
       "11         0.61  \n",
       "12         1.22  \n",
       "13         1.83  \n",
       "14         0.00  \n",
       "15        -1.83  \n",
       "16        -3.05  \n",
       "17        -6.10  \n",
       "18        -5.49  \n",
       "19        -6.10  \n",
       "20        -5.49  \n",
       "21        -4.27  \n",
       "22        -4.88  \n",
       "23        -2.44  \n",
       "24        -4.27  \n",
       "25        -4.27  \n",
       "26        -6.10  \n",
       "27        -4.27  \n",
       "28        -3.05  \n",
       "29        -4.88  \n",
       "30        -3.66  \n",
       "31        -4.88  \n",
       "32        -1.83  \n",
       "33         0.61  \n",
       "34         0.61  \n",
       "35         0.00  \n",
       "36         0.61  \n",
       "37         0.61  \n",
       "38        -0.61  \n",
       "39         1.22  \n",
       "40        -2.44  \n",
       "41        -1.22  \n",
       "42        -0.61  \n",
       "43         0.00  \n",
       "44         0.00  \n",
       "45         0.61  \n",
       "46         1.22  \n",
       "47        -0.61  \n",
       "48         1.83  \n",
       "49         0.00  "
      ],
      "text/html": "<div>\n<style scoped>\n    .dataframe tbody tr th:only-of-type {\n        vertical-align: middle;\n    }\n\n    .dataframe tbody tr th {\n        vertical-align: top;\n    }\n\n    .dataframe thead th {\n        text-align: right;\n    }\n</style>\n<table border=\"1\" class=\"dataframe\">\n  <thead>\n    <tr style=\"text-align: right;\">\n      <th></th>\n      <th>best before</th>\n      <th>amount</th>\n      <th>purchases</th>\n      <th>prev purchases</th>\n      <th>remaining</th>\n      <th>waste</th>\n      <th>date</th>\n      <th>week</th>\n      <th>weekPrice</th>\n      <th>lost_Revenue</th>\n      <th>purc_price</th>\n      <th>lost_profit</th>\n      <th>cost_wasted</th>\n    </tr>\n  </thead>\n  <tbody>\n    <tr>\n      <th>0</th>\n      <td>10</td>\n      <td>5</td>\n      <td>10.0</td>\n      <td>NaN</td>\n      <td>-5.0</td>\n      <td>-5.0</td>\n      <td>2018-01-11</td>\n      <td>2</td>\n      <td>2.69</td>\n      <td>-13.45</td>\n      <td>0.61</td>\n      <td>-10.40</td>\n      <td>-3.05</td>\n    </tr>\n    <tr>\n      <th>1</th>\n      <td>13</td>\n      <td>5</td>\n      <td>14.0</td>\n      <td>4.0</td>\n      <td>1.0</td>\n      <td>-4.0</td>\n      <td>2018-01-14</td>\n      <td>2</td>\n      <td>2.69</td>\n      <td>-10.76</td>\n      <td>0.61</td>\n      <td>-8.32</td>\n      <td>-2.44</td>\n    </tr>\n    <tr>\n      <th>2</th>\n      <td>17</td>\n      <td>5</td>\n      <td>18.0</td>\n      <td>4.0</td>\n      <td>1.0</td>\n      <td>-3.0</td>\n      <td>2018-01-18</td>\n      <td>3</td>\n      <td>2.69</td>\n      <td>-8.07</td>\n      <td>0.61</td>\n      <td>-6.24</td>\n      <td>-1.83</td>\n    </tr>\n    <tr>\n      <th>3</th>\n      <td>20</td>\n      <td>5</td>\n      <td>22.0</td>\n      <td>4.0</td>\n      <td>1.0</td>\n      <td>-2.0</td>\n      <td>2018-01-21</td>\n      <td>3</td>\n      <td>2.69</td>\n      <td>-5.38</td>\n      <td>0.61</td>\n      <td>-4.16</td>\n      <td>-1.22</td>\n    </tr>\n    <tr>\n      <th>4</th>\n      <td>24</td>\n      <td>5</td>\n      <td>24.0</td>\n      <td>2.0</td>\n      <td>3.0</td>\n      <td>1.0</td>\n      <td>2018-01-25</td>\n      <td>4</td>\n      <td>2.69</td>\n      <td>2.69</td>\n      <td>0.61</td>\n      <td>2.08</td>\n      <td>0.61</td>\n    </tr>\n    <tr>\n      <th>5</th>\n      <td>27</td>\n      <td>5</td>\n      <td>29.0</td>\n      <td>5.0</td>\n      <td>0.0</td>\n      <td>0.0</td>\n      <td>2018-01-28</td>\n      <td>4</td>\n      <td>2.69</td>\n      <td>0.00</td>\n      <td>0.61</td>\n      <td>0.00</td>\n      <td>0.00</td>\n    </tr>\n    <tr>\n      <th>6</th>\n      <td>31</td>\n      <td>5</td>\n      <td>33.0</td>\n      <td>4.0</td>\n      <td>1.0</td>\n      <td>1.0</td>\n      <td>2018-02-01</td>\n      <td>5</td>\n      <td>2.69</td>\n      <td>2.69</td>\n      <td>0.61</td>\n      <td>2.08</td>\n      <td>0.61</td>\n    </tr>\n    <tr>\n      <th>7</th>\n      <td>34</td>\n      <td>5</td>\n      <td>35.0</td>\n      <td>2.0</td>\n      <td>3.0</td>\n      <td>3.0</td>\n      <td>2018-02-04</td>\n      <td>5</td>\n      <td>2.69</td>\n      <td>8.07</td>\n      <td>0.61</td>\n      <td>6.24</td>\n      <td>1.83</td>\n    </tr>\n    <tr>\n      <th>8</th>\n      <td>38</td>\n      <td>5</td>\n      <td>42.0</td>\n      <td>7.0</td>\n      <td>-2.0</td>\n      <td>-2.0</td>\n      <td>2018-02-08</td>\n      <td>6</td>\n      <td>2.69</td>\n      <td>-5.38</td>\n      <td>0.61</td>\n      <td>-4.16</td>\n      <td>-1.22</td>\n    </tr>\n    <tr>\n      <th>9</th>\n      <td>41</td>\n      <td>5</td>\n      <td>46.0</td>\n      <td>4.0</td>\n      <td>1.0</td>\n      <td>-1.0</td>\n      <td>2018-02-11</td>\n      <td>6</td>\n      <td>2.69</td>\n      <td>-2.69</td>\n      <td>0.61</td>\n      <td>-2.08</td>\n      <td>-0.61</td>\n    </tr>\n    <tr>\n      <th>10</th>\n      <td>45</td>\n      <td>5</td>\n      <td>49.0</td>\n      <td>3.0</td>\n      <td>2.0</td>\n      <td>1.0</td>\n      <td>2018-02-15</td>\n      <td>7</td>\n      <td>2.69</td>\n      <td>2.69</td>\n      <td>0.61</td>\n      <td>2.08</td>\n      <td>0.61</td>\n    </tr>\n    <tr>\n      <th>11</th>\n      <td>48</td>\n      <td>5</td>\n      <td>53.0</td>\n      <td>4.0</td>\n      <td>1.0</td>\n      <td>1.0</td>\n      <td>2018-02-18</td>\n      <td>7</td>\n      <td>2.69</td>\n      <td>2.69</td>\n      <td>0.61</td>\n      <td>2.08</td>\n      <td>0.61</td>\n    </tr>\n    <tr>\n      <th>12</th>\n      <td>52</td>\n      <td>5</td>\n      <td>56.0</td>\n      <td>3.0</td>\n      <td>2.0</td>\n      <td>2.0</td>\n      <td>2018-02-22</td>\n      <td>8</td>\n      <td>2.69</td>\n      <td>5.38</td>\n      <td>0.61</td>\n      <td>4.16</td>\n      <td>1.22</td>\n    </tr>\n    <tr>\n      <th>13</th>\n      <td>55</td>\n      <td>5</td>\n      <td>58.0</td>\n      <td>2.0</td>\n      <td>3.0</td>\n      <td>3.0</td>\n      <td>2018-02-25</td>\n      <td>8</td>\n      <td>2.69</td>\n      <td>8.07</td>\n      <td>0.61</td>\n      <td>6.24</td>\n      <td>1.83</td>\n    </tr>\n    <tr>\n      <th>14</th>\n      <td>59</td>\n      <td>5</td>\n      <td>63.0</td>\n      <td>5.0</td>\n      <td>0.0</td>\n      <td>0.0</td>\n      <td>2018-03-01</td>\n      <td>9</td>\n      <td>2.69</td>\n      <td>0.00</td>\n      <td>0.61</td>\n      <td>0.00</td>\n      <td>0.00</td>\n    </tr>\n    <tr>\n      <th>15</th>\n      <td>62</td>\n      <td>5</td>\n      <td>71.0</td>\n      <td>8.0</td>\n      <td>-3.0</td>\n      <td>-3.0</td>\n      <td>2018-03-04</td>\n      <td>9</td>\n      <td>2.69</td>\n      <td>-8.07</td>\n      <td>0.61</td>\n      <td>-6.24</td>\n      <td>-1.83</td>\n    </tr>\n    <tr>\n      <th>16</th>\n      <td>66</td>\n      <td>5</td>\n      <td>78.0</td>\n      <td>7.0</td>\n      <td>-2.0</td>\n      <td>-5.0</td>\n      <td>2018-03-08</td>\n      <td>10</td>\n      <td>2.69</td>\n      <td>-13.45</td>\n      <td>0.61</td>\n      <td>-10.40</td>\n      <td>-3.05</td>\n    </tr>\n    <tr>\n      <th>17</th>\n      <td>69</td>\n      <td>5</td>\n      <td>88.0</td>\n      <td>10.0</td>\n      <td>-5.0</td>\n      <td>-10.0</td>\n      <td>2018-03-11</td>\n      <td>10</td>\n      <td>2.69</td>\n      <td>-26.90</td>\n      <td>0.61</td>\n      <td>-20.80</td>\n      <td>-6.10</td>\n    </tr>\n    <tr>\n      <th>18</th>\n      <td>73</td>\n      <td>5</td>\n      <td>92.0</td>\n      <td>4.0</td>\n      <td>1.0</td>\n      <td>-9.0</td>\n      <td>2018-03-15</td>\n      <td>11</td>\n      <td>2.69</td>\n      <td>-24.21</td>\n      <td>0.61</td>\n      <td>-18.72</td>\n      <td>-5.49</td>\n    </tr>\n    <tr>\n      <th>19</th>\n      <td>76</td>\n      <td>5</td>\n      <td>98.0</td>\n      <td>6.0</td>\n      <td>-1.0</td>\n      <td>-10.0</td>\n      <td>2018-03-18</td>\n      <td>11</td>\n      <td>2.69</td>\n      <td>-26.90</td>\n      <td>0.61</td>\n      <td>-20.80</td>\n      <td>-6.10</td>\n    </tr>\n    <tr>\n      <th>20</th>\n      <td>80</td>\n      <td>5</td>\n      <td>102.0</td>\n      <td>4.0</td>\n      <td>1.0</td>\n      <td>-9.0</td>\n      <td>2018-03-22</td>\n      <td>12</td>\n      <td>2.69</td>\n      <td>-24.21</td>\n      <td>0.61</td>\n      <td>-18.72</td>\n      <td>-5.49</td>\n    </tr>\n    <tr>\n      <th>21</th>\n      <td>83</td>\n      <td>5</td>\n      <td>105.0</td>\n      <td>3.0</td>\n      <td>2.0</td>\n      <td>-7.0</td>\n      <td>2018-03-25</td>\n      <td>12</td>\n      <td>2.69</td>\n      <td>-18.83</td>\n      <td>0.61</td>\n      <td>-14.56</td>\n      <td>-4.27</td>\n    </tr>\n    <tr>\n      <th>22</th>\n      <td>87</td>\n      <td>5</td>\n      <td>111.0</td>\n      <td>6.0</td>\n      <td>-1.0</td>\n      <td>-8.0</td>\n      <td>2018-03-29</td>\n      <td>13</td>\n      <td>2.69</td>\n      <td>-21.52</td>\n      <td>0.61</td>\n      <td>-16.64</td>\n      <td>-4.88</td>\n    </tr>\n    <tr>\n      <th>23</th>\n      <td>90</td>\n      <td>5</td>\n      <td>112.0</td>\n      <td>1.0</td>\n      <td>4.0</td>\n      <td>-4.0</td>\n      <td>2018-04-01</td>\n      <td>13</td>\n      <td>2.69</td>\n      <td>-10.76</td>\n      <td>0.61</td>\n      <td>-8.32</td>\n      <td>-2.44</td>\n    </tr>\n    <tr>\n      <th>24</th>\n      <td>94</td>\n      <td>5</td>\n      <td>120.0</td>\n      <td>8.0</td>\n      <td>-3.0</td>\n      <td>-7.0</td>\n      <td>2018-04-05</td>\n      <td>14</td>\n      <td>2.69</td>\n      <td>-18.83</td>\n      <td>0.61</td>\n      <td>-14.56</td>\n      <td>-4.27</td>\n    </tr>\n    <tr>\n      <th>25</th>\n      <td>97</td>\n      <td>5</td>\n      <td>125.0</td>\n      <td>5.0</td>\n      <td>0.0</td>\n      <td>-7.0</td>\n      <td>2018-04-08</td>\n      <td>14</td>\n      <td>2.69</td>\n      <td>-18.83</td>\n      <td>0.61</td>\n      <td>-14.56</td>\n      <td>-4.27</td>\n    </tr>\n    <tr>\n      <th>26</th>\n      <td>101</td>\n      <td>5</td>\n      <td>133.0</td>\n      <td>8.0</td>\n      <td>-3.0</td>\n      <td>-10.0</td>\n      <td>2018-04-12</td>\n      <td>15</td>\n      <td>2.69</td>\n      <td>-26.90</td>\n      <td>0.61</td>\n      <td>-20.80</td>\n      <td>-6.10</td>\n    </tr>\n    <tr>\n      <th>27</th>\n      <td>104</td>\n      <td>5</td>\n      <td>135.0</td>\n      <td>2.0</td>\n      <td>3.0</td>\n      <td>-7.0</td>\n      <td>2018-04-15</td>\n      <td>15</td>\n      <td>2.69</td>\n      <td>-18.83</td>\n      <td>0.61</td>\n      <td>-14.56</td>\n      <td>-4.27</td>\n    </tr>\n    <tr>\n      <th>28</th>\n      <td>108</td>\n      <td>5</td>\n      <td>138.0</td>\n      <td>3.0</td>\n      <td>2.0</td>\n      <td>-5.0</td>\n      <td>2018-04-19</td>\n      <td>16</td>\n      <td>2.69</td>\n      <td>-13.45</td>\n      <td>0.61</td>\n      <td>-10.40</td>\n      <td>-3.05</td>\n    </tr>\n    <tr>\n      <th>29</th>\n      <td>111</td>\n      <td>5</td>\n      <td>146.0</td>\n      <td>8.0</td>\n      <td>-3.0</td>\n      <td>-8.0</td>\n      <td>2018-04-22</td>\n      <td>16</td>\n      <td>2.69</td>\n      <td>-21.52</td>\n      <td>0.61</td>\n      <td>-16.64</td>\n      <td>-4.88</td>\n    </tr>\n    <tr>\n      <th>30</th>\n      <td>115</td>\n      <td>5</td>\n      <td>149.0</td>\n      <td>3.0</td>\n      <td>2.0</td>\n      <td>-6.0</td>\n      <td>2018-04-26</td>\n      <td>17</td>\n      <td>2.69</td>\n      <td>-16.14</td>\n      <td>0.61</td>\n      <td>-12.48</td>\n      <td>-3.66</td>\n    </tr>\n    <tr>\n      <th>31</th>\n      <td>118</td>\n      <td>5</td>\n      <td>156.0</td>\n      <td>7.0</td>\n      <td>-2.0</td>\n      <td>-8.0</td>\n      <td>2018-04-29</td>\n      <td>17</td>\n      <td>2.69</td>\n      <td>-21.52</td>\n      <td>0.61</td>\n      <td>-16.64</td>\n      <td>-4.88</td>\n    </tr>\n    <tr>\n      <th>32</th>\n      <td>122</td>\n      <td>5</td>\n      <td>156.0</td>\n      <td>0.0</td>\n      <td>5.0</td>\n      <td>-3.0</td>\n      <td>2018-05-03</td>\n      <td>18</td>\n      <td>2.69</td>\n      <td>-8.07</td>\n      <td>0.61</td>\n      <td>-6.24</td>\n      <td>-1.83</td>\n    </tr>\n    <tr>\n      <th>33</th>\n      <td>125</td>\n      <td>5</td>\n      <td>157.0</td>\n      <td>1.0</td>\n      <td>4.0</td>\n      <td>1.0</td>\n      <td>2018-05-06</td>\n      <td>18</td>\n      <td>2.69</td>\n      <td>2.69</td>\n      <td>0.61</td>\n      <td>2.08</td>\n      <td>0.61</td>\n    </tr>\n    <tr>\n      <th>34</th>\n      <td>129</td>\n      <td>5</td>\n      <td>161.0</td>\n      <td>4.0</td>\n      <td>1.0</td>\n      <td>1.0</td>\n      <td>2018-05-10</td>\n      <td>19</td>\n      <td>2.69</td>\n      <td>2.69</td>\n      <td>0.61</td>\n      <td>2.08</td>\n      <td>0.61</td>\n    </tr>\n    <tr>\n      <th>35</th>\n      <td>132</td>\n      <td>5</td>\n      <td>166.0</td>\n      <td>5.0</td>\n      <td>0.0</td>\n      <td>0.0</td>\n      <td>2018-05-13</td>\n      <td>19</td>\n      <td>2.69</td>\n      <td>0.00</td>\n      <td>0.61</td>\n      <td>0.00</td>\n      <td>0.00</td>\n    </tr>\n    <tr>\n      <th>36</th>\n      <td>136</td>\n      <td>5</td>\n      <td>170.0</td>\n      <td>4.0</td>\n      <td>1.0</td>\n      <td>1.0</td>\n      <td>2018-05-17</td>\n      <td>20</td>\n      <td>2.69</td>\n      <td>2.69</td>\n      <td>0.61</td>\n      <td>2.08</td>\n      <td>0.61</td>\n    </tr>\n    <tr>\n      <th>37</th>\n      <td>139</td>\n      <td>5</td>\n      <td>174.0</td>\n      <td>4.0</td>\n      <td>1.0</td>\n      <td>1.0</td>\n      <td>2018-05-20</td>\n      <td>20</td>\n      <td>2.69</td>\n      <td>2.69</td>\n      <td>0.61</td>\n      <td>2.08</td>\n      <td>0.61</td>\n    </tr>\n    <tr>\n      <th>38</th>\n      <td>143</td>\n      <td>5</td>\n      <td>180.0</td>\n      <td>6.0</td>\n      <td>-1.0</td>\n      <td>-1.0</td>\n      <td>2018-05-24</td>\n      <td>21</td>\n      <td>2.69</td>\n      <td>-2.69</td>\n      <td>0.61</td>\n      <td>-2.08</td>\n      <td>-0.61</td>\n    </tr>\n    <tr>\n      <th>39</th>\n      <td>146</td>\n      <td>5</td>\n      <td>182.0</td>\n      <td>2.0</td>\n      <td>3.0</td>\n      <td>2.0</td>\n      <td>2018-05-27</td>\n      <td>21</td>\n      <td>2.69</td>\n      <td>5.38</td>\n      <td>0.61</td>\n      <td>4.16</td>\n      <td>1.22</td>\n    </tr>\n    <tr>\n      <th>40</th>\n      <td>150</td>\n      <td>5</td>\n      <td>191.0</td>\n      <td>9.0</td>\n      <td>-4.0</td>\n      <td>-4.0</td>\n      <td>2018-05-31</td>\n      <td>22</td>\n      <td>2.69</td>\n      <td>-10.76</td>\n      <td>0.61</td>\n      <td>-8.32</td>\n      <td>-2.44</td>\n    </tr>\n    <tr>\n      <th>41</th>\n      <td>153</td>\n      <td>5</td>\n      <td>194.0</td>\n      <td>3.0</td>\n      <td>2.0</td>\n      <td>-2.0</td>\n      <td>2018-06-03</td>\n      <td>22</td>\n      <td>2.69</td>\n      <td>-5.38</td>\n      <td>0.61</td>\n      <td>-4.16</td>\n      <td>-1.22</td>\n    </tr>\n    <tr>\n      <th>42</th>\n      <td>157</td>\n      <td>5</td>\n      <td>198.0</td>\n      <td>4.0</td>\n      <td>1.0</td>\n      <td>-1.0</td>\n      <td>2018-06-07</td>\n      <td>23</td>\n      <td>2.69</td>\n      <td>-2.69</td>\n      <td>0.61</td>\n      <td>-2.08</td>\n      <td>-0.61</td>\n    </tr>\n    <tr>\n      <th>43</th>\n      <td>160</td>\n      <td>5</td>\n      <td>202.0</td>\n      <td>4.0</td>\n      <td>1.0</td>\n      <td>0.0</td>\n      <td>2018-06-10</td>\n      <td>23</td>\n      <td>2.69</td>\n      <td>0.00</td>\n      <td>0.61</td>\n      <td>0.00</td>\n      <td>0.00</td>\n    </tr>\n    <tr>\n      <th>44</th>\n      <td>164</td>\n      <td>5</td>\n      <td>207.0</td>\n      <td>5.0</td>\n      <td>0.0</td>\n      <td>0.0</td>\n      <td>2018-06-14</td>\n      <td>24</td>\n      <td>2.69</td>\n      <td>0.00</td>\n      <td>0.61</td>\n      <td>0.00</td>\n      <td>0.00</td>\n    </tr>\n    <tr>\n      <th>45</th>\n      <td>167</td>\n      <td>5</td>\n      <td>211.0</td>\n      <td>4.0</td>\n      <td>1.0</td>\n      <td>1.0</td>\n      <td>2018-06-17</td>\n      <td>24</td>\n      <td>2.69</td>\n      <td>2.69</td>\n      <td>0.61</td>\n      <td>2.08</td>\n      <td>0.61</td>\n    </tr>\n    <tr>\n      <th>46</th>\n      <td>171</td>\n      <td>5</td>\n      <td>214.0</td>\n      <td>3.0</td>\n      <td>2.0</td>\n      <td>2.0</td>\n      <td>2018-06-21</td>\n      <td>25</td>\n      <td>2.69</td>\n      <td>5.38</td>\n      <td>0.61</td>\n      <td>4.16</td>\n      <td>1.22</td>\n    </tr>\n    <tr>\n      <th>47</th>\n      <td>174</td>\n      <td>5</td>\n      <td>220.0</td>\n      <td>6.0</td>\n      <td>-1.0</td>\n      <td>-1.0</td>\n      <td>2018-06-24</td>\n      <td>25</td>\n      <td>2.69</td>\n      <td>-2.69</td>\n      <td>0.61</td>\n      <td>-2.08</td>\n      <td>-0.61</td>\n    </tr>\n    <tr>\n      <th>48</th>\n      <td>178</td>\n      <td>5</td>\n      <td>221.0</td>\n      <td>1.0</td>\n      <td>4.0</td>\n      <td>3.0</td>\n      <td>2018-06-28</td>\n      <td>26</td>\n      <td>2.69</td>\n      <td>8.07</td>\n      <td>0.61</td>\n      <td>6.24</td>\n      <td>1.83</td>\n    </tr>\n    <tr>\n      <th>49</th>\n      <td>181</td>\n      <td>5</td>\n      <td>226.0</td>\n      <td>5.0</td>\n      <td>0.0</td>\n      <td>0.0</td>\n      <td>2018-07-01</td>\n      <td>26</td>\n      <td>2.69</td>\n      <td>0.00</td>\n      <td>0.61</td>\n      <td>0.00</td>\n      <td>0.00</td>\n    </tr>\n  </tbody>\n</table>\n</div>"
     },
     "metadata": {},
     "execution_count": 45
    }
   ],
   "source": [
    "length = df_waste.shape[0]\n",
    "lst_waste = [] #nr rows in waste dataframe\n",
    "#amount left from the item\n",
    "df_waste[\"remaining\"] = df_waste[\"amount\"] - df_waste[\"prev purchases\"] \n",
    "#the first row is different as there is no prev pruchases available\n",
    "df_waste[\"remaining\"].iloc[0] = df_waste[\"amount\"].iloc[0] - df_waste[\"purchases\"].iloc[0]\n",
    "\n",
    "for i in range(length):\n",
    "    #iterates through the rows of the waste dataframe\n",
    "    current_row = df_waste.iloc[i]\n",
    "    if i == 0:\n",
    "        #\n",
    "        lst_waste.append(current_row[\"remaining\"])\n",
    "        continue     \n",
    "    else:\n",
    "        prev_row = df_waste.iloc[i-1] #previous row in dataframe\n",
    "        if lst_waste[-1] < 0:\n",
    "            #no idea whats happening here, I've had enough\n",
    "            waste = lst_waste[-1] + current_row[\"remaining\"]\n",
    "            lst_waste.append(lst_waste[-1] + current_row[\"remaining\"])\n",
    "        else:\n",
    "            lst_waste.append(current_row[\"remaining\"])\n",
    "    \n",
    "df_waste[\"waste\"] = lst_waste\n",
    "def date_converter(row):\n",
    "    converted_date = datetime.datetime(2018, 1, 1) + datetime.timedelta(row[\"best before\"])\n",
    "    return converted_date\n",
    "purchase_price = products[products['description'] == product]['purchase_price'].mean()\n",
    "df_waste[\"date\"] = df_waste.apply(date_converter, axis = 1)\n",
    "df_waste[\"week\"] = df_waste.apply(week_of_year, axis = 1)\n",
    "df_waste[df_waste[\"waste\"] < 0][\"waste\"] = 0\n",
    "\n",
    "df_waste['weekPrice'] = [float(products[products['description'] == product]['std_sales_price'].mean())] * len(df_waste)\n",
    "#df_waste.set_index('week', inplace = True)\n",
    "#print(df_waste.head())\n",
    "for week_ind in list(promotions[promotions['description'] == product].index):\n",
    "    week = promotions.at[week_ind, 'week']\n",
    "    print(week_ind)\n",
    "    # print(df_waste[['week']].dtypes)\n",
    "    if week in list(np.unique(df_waste.week)):\n",
    "        print(week)\n",
    "        df_waste.loc[df_waste[df_waste['week'] == week]['weekPrice'].index, 'weekPrice'] = (1 - (promotions.at[week_ind, 'discount'] / 100)) * df_waste.loc[df_waste[df_waste['week'] == week]['weekPrice'].index, 'weekPrice']\n",
    "        #break\n",
    "df_waste['lost_Revenue'] = df_waste.waste * df_waste.weekPrice\n",
    "df_waste['purc_price'] = [float(purchase_price)] * len(df_waste)\n",
    "df_waste['lost_profit'] = df_waste['waste'] * (df_waste['weekPrice'] - df_waste['purc_price'])\n",
    "df_waste['cost_wasted'] = df_waste['waste'] * df_waste['purc_price']\n",
    "df_waste.head(50)"
   ]
  },
  {
   "cell_type": "code",
   "execution_count": 46,
   "metadata": {},
   "outputs": [
    {
     "output_type": "execute_result",
     "data": {
      "text/plain": [
       "Empty DataFrame\n",
       "Columns: [week, category, product_id, description, discount]\n",
       "Index: []"
      ],
      "text/html": "<div>\n<style scoped>\n    .dataframe tbody tr th:only-of-type {\n        vertical-align: middle;\n    }\n\n    .dataframe tbody tr th {\n        vertical-align: top;\n    }\n\n    .dataframe thead th {\n        text-align: right;\n    }\n</style>\n<table border=\"1\" class=\"dataframe\">\n  <thead>\n    <tr style=\"text-align: right;\">\n      <th></th>\n      <th>week</th>\n      <th>category</th>\n      <th>product_id</th>\n      <th>description</th>\n      <th>discount</th>\n    </tr>\n  </thead>\n  <tbody>\n  </tbody>\n</table>\n</div>"
     },
     "metadata": {},
     "execution_count": 46
    }
   ],
   "source": [
    "#promotions[(promotions['description'] == product) & (promotions['week'] == week)]['discount']\n",
    "#promotions[promotions['description'] == product]['week']\n",
    "promotions[(promotions['description'] == product) ]"
   ]
  },
  {
   "cell_type": "code",
   "execution_count": 47,
   "metadata": {},
   "outputs": [
    {
     "output_type": "stream",
     "name": "stdout",
     "text": [
      "   category product_id          description  size  std_sales_price  bio  \\\n70     meat        m_6  Half om half gehakt  500g             2.69    0   \n\n    basic  purchase_price  \n70      0            0.55  \n"
     ]
    }
   ],
   "source": [
    "print(products[products['description'] == 'Half om half gehakt'])"
   ]
  },
  {
   "cell_type": "code",
   "execution_count": 48,
   "metadata": {},
   "outputs": [
    {
     "output_type": "execute_result",
     "data": {
      "text/plain": [
       "waste            60.0\n",
       "lost_Revenue    161.4\n",
       "lost_profit     124.8\n",
       "cost_wasted      36.6\n",
       "dtype: float64"
      ]
     },
     "metadata": {},
     "execution_count": 48
    }
   ],
   "source": [
    "df_waste[df_waste['waste']>0][['waste', 'lost_Revenue', 'lost_profit', 'cost_wasted']].sum()"
   ]
  },
  {
   "cell_type": "code",
   "execution_count": 49,
   "metadata": {},
   "outputs": [
    {
     "output_type": "stream",
     "name": "stdout",
     "text": [
      "The number of products wasted in the dataset for Biologische spekreepjes is 60.0 items\n"
     ]
    }
   ],
   "source": [
    "print('The number of products wasted in the dataset for {} is {} items'.format(product, df_waste[df_waste['waste']>0]['waste'].sum()))"
   ]
  },
  {
   "cell_type": "code",
   "execution_count": 50,
   "metadata": {},
   "outputs": [
    {
     "output_type": "execute_result",
     "data": {
      "text/plain": [
       "    best before  amount  purchases  prev purchases  remaining  waste  \\\n",
       "0           NaN     NaN        NaN             NaN        NaN    NaN   \n",
       "1           NaN     NaN        NaN             NaN        NaN    NaN   \n",
       "2           NaN     NaN        NaN             NaN        NaN    NaN   \n",
       "3           NaN     NaN        NaN             NaN        NaN    NaN   \n",
       "4          24.0     5.0       24.0             2.0        3.0    1.0   \n",
       "..          ...     ...        ...             ...        ...    ...   \n",
       "79          NaN     NaN        NaN             NaN        NaN    NaN   \n",
       "80          NaN     NaN        NaN             NaN        NaN    NaN   \n",
       "81        293.0     5.0      351.0             1.0        4.0    2.0   \n",
       "82          NaN     NaN        NaN             NaN        NaN    NaN   \n",
       "83        300.0     5.0      360.0             4.0        1.0    1.0   \n",
       "\n",
       "         date  week  weekPrice  lost_Revenue  purc_price  lost_profit  \\\n",
       "0         NaT   NaN        NaN           NaN         NaN          NaN   \n",
       "1         NaT   NaN        NaN           NaN         NaN          NaN   \n",
       "2         NaT   NaN        NaN           NaN         NaN          NaN   \n",
       "3         NaT   NaN        NaN           NaN         NaN          NaN   \n",
       "4  2018-01-25   4.0       2.69          2.69        0.61         2.08   \n",
       "..        ...   ...        ...           ...         ...          ...   \n",
       "79        NaT   NaN        NaN           NaN         NaN          NaN   \n",
       "80        NaT   NaN        NaN           NaN         NaN          NaN   \n",
       "81 2018-10-21  42.0       2.69          5.38        0.61         4.16   \n",
       "82        NaT   NaN        NaN           NaN         NaN          NaN   \n",
       "83 2018-10-28  43.0       2.69          2.69        0.61         2.08   \n",
       "\n",
       "    cost_wasted  \n",
       "0           NaN  \n",
       "1           NaN  \n",
       "2           NaN  \n",
       "3           NaN  \n",
       "4          0.61  \n",
       "..          ...  \n",
       "79          NaN  \n",
       "80          NaN  \n",
       "81         1.22  \n",
       "82          NaN  \n",
       "83         0.61  \n",
       "\n",
       "[84 rows x 13 columns]"
      ],
      "text/html": "<div>\n<style scoped>\n    .dataframe tbody tr th:only-of-type {\n        vertical-align: middle;\n    }\n\n    .dataframe tbody tr th {\n        vertical-align: top;\n    }\n\n    .dataframe thead th {\n        text-align: right;\n    }\n</style>\n<table border=\"1\" class=\"dataframe\">\n  <thead>\n    <tr style=\"text-align: right;\">\n      <th></th>\n      <th>best before</th>\n      <th>amount</th>\n      <th>purchases</th>\n      <th>prev purchases</th>\n      <th>remaining</th>\n      <th>waste</th>\n      <th>date</th>\n      <th>week</th>\n      <th>weekPrice</th>\n      <th>lost_Revenue</th>\n      <th>purc_price</th>\n      <th>lost_profit</th>\n      <th>cost_wasted</th>\n    </tr>\n  </thead>\n  <tbody>\n    <tr>\n      <th>0</th>\n      <td>NaN</td>\n      <td>NaN</td>\n      <td>NaN</td>\n      <td>NaN</td>\n      <td>NaN</td>\n      <td>NaN</td>\n      <td>NaT</td>\n      <td>NaN</td>\n      <td>NaN</td>\n      <td>NaN</td>\n      <td>NaN</td>\n      <td>NaN</td>\n      <td>NaN</td>\n    </tr>\n    <tr>\n      <th>1</th>\n      <td>NaN</td>\n      <td>NaN</td>\n      <td>NaN</td>\n      <td>NaN</td>\n      <td>NaN</td>\n      <td>NaN</td>\n      <td>NaT</td>\n      <td>NaN</td>\n      <td>NaN</td>\n      <td>NaN</td>\n      <td>NaN</td>\n      <td>NaN</td>\n      <td>NaN</td>\n    </tr>\n    <tr>\n      <th>2</th>\n      <td>NaN</td>\n      <td>NaN</td>\n      <td>NaN</td>\n      <td>NaN</td>\n      <td>NaN</td>\n      <td>NaN</td>\n      <td>NaT</td>\n      <td>NaN</td>\n      <td>NaN</td>\n      <td>NaN</td>\n      <td>NaN</td>\n      <td>NaN</td>\n      <td>NaN</td>\n    </tr>\n    <tr>\n      <th>3</th>\n      <td>NaN</td>\n      <td>NaN</td>\n      <td>NaN</td>\n      <td>NaN</td>\n      <td>NaN</td>\n      <td>NaN</td>\n      <td>NaT</td>\n      <td>NaN</td>\n      <td>NaN</td>\n      <td>NaN</td>\n      <td>NaN</td>\n      <td>NaN</td>\n      <td>NaN</td>\n    </tr>\n    <tr>\n      <th>4</th>\n      <td>24.0</td>\n      <td>5.0</td>\n      <td>24.0</td>\n      <td>2.0</td>\n      <td>3.0</td>\n      <td>1.0</td>\n      <td>2018-01-25</td>\n      <td>4.0</td>\n      <td>2.69</td>\n      <td>2.69</td>\n      <td>0.61</td>\n      <td>2.08</td>\n      <td>0.61</td>\n    </tr>\n    <tr>\n      <th>...</th>\n      <td>...</td>\n      <td>...</td>\n      <td>...</td>\n      <td>...</td>\n      <td>...</td>\n      <td>...</td>\n      <td>...</td>\n      <td>...</td>\n      <td>...</td>\n      <td>...</td>\n      <td>...</td>\n      <td>...</td>\n      <td>...</td>\n    </tr>\n    <tr>\n      <th>79</th>\n      <td>NaN</td>\n      <td>NaN</td>\n      <td>NaN</td>\n      <td>NaN</td>\n      <td>NaN</td>\n      <td>NaN</td>\n      <td>NaT</td>\n      <td>NaN</td>\n      <td>NaN</td>\n      <td>NaN</td>\n      <td>NaN</td>\n      <td>NaN</td>\n      <td>NaN</td>\n    </tr>\n    <tr>\n      <th>80</th>\n      <td>NaN</td>\n      <td>NaN</td>\n      <td>NaN</td>\n      <td>NaN</td>\n      <td>NaN</td>\n      <td>NaN</td>\n      <td>NaT</td>\n      <td>NaN</td>\n      <td>NaN</td>\n      <td>NaN</td>\n      <td>NaN</td>\n      <td>NaN</td>\n      <td>NaN</td>\n    </tr>\n    <tr>\n      <th>81</th>\n      <td>293.0</td>\n      <td>5.0</td>\n      <td>351.0</td>\n      <td>1.0</td>\n      <td>4.0</td>\n      <td>2.0</td>\n      <td>2018-10-21</td>\n      <td>42.0</td>\n      <td>2.69</td>\n      <td>5.38</td>\n      <td>0.61</td>\n      <td>4.16</td>\n      <td>1.22</td>\n    </tr>\n    <tr>\n      <th>82</th>\n      <td>NaN</td>\n      <td>NaN</td>\n      <td>NaN</td>\n      <td>NaN</td>\n      <td>NaN</td>\n      <td>NaN</td>\n      <td>NaT</td>\n      <td>NaN</td>\n      <td>NaN</td>\n      <td>NaN</td>\n      <td>NaN</td>\n      <td>NaN</td>\n      <td>NaN</td>\n    </tr>\n    <tr>\n      <th>83</th>\n      <td>300.0</td>\n      <td>5.0</td>\n      <td>360.0</td>\n      <td>4.0</td>\n      <td>1.0</td>\n      <td>1.0</td>\n      <td>2018-10-28</td>\n      <td>43.0</td>\n      <td>2.69</td>\n      <td>2.69</td>\n      <td>0.61</td>\n      <td>2.08</td>\n      <td>0.61</td>\n    </tr>\n  </tbody>\n</table>\n<p>84 rows × 13 columns</p>\n</div>"
     },
     "metadata": {},
     "execution_count": 50
    }
   ],
   "source": [
    "df_waste.loc[:,:].where(df_waste.loc[:,'waste']>0)"
   ]
  },
  {
   "cell_type": "code",
   "execution_count": 51,
   "metadata": {},
   "outputs": [
    {
     "output_type": "execute_result",
     "data": {
      "text/plain": [
       "60.0"
      ]
     },
     "metadata": {},
     "execution_count": 51
    }
   ],
   "source": [
    "df_waste[df_waste['waste']>0]['waste'].sum()"
   ]
  },
  {
   "cell_type": "code",
   "execution_count": 52,
   "metadata": {},
   "outputs": [
    {
     "output_type": "execute_result",
     "data": {
      "text/plain": [
       "            time  customer  bank acount  category  product_id  description  \\\n",
       "day                                                                          \n",
       "2018-01-01     2         2            1         2           2            2   \n",
       "2018-01-02     1         1            0         1           1            1   \n",
       "2018-01-03     3         3            3         3           3            3   \n",
       "2018-01-04     9         9            9         9           9            9   \n",
       "2018-01-05     4         4            4         4           4            4   \n",
       "2018-01-06     3         3            1         3           3            3   \n",
       "2018-01-07     7         7            4         7           7            7   \n",
       "2018-01-08     5         5            5         5           5            5   \n",
       "2018-01-09     5         5            5         5           5            5   \n",
       "2018-01-10     1         1            1         1           1            1   \n",
       "2018-01-11     4         4            4         4           4            4   \n",
       "2018-01-12     4         4            4         4           4            4   \n",
       "2018-01-13     5         5            4         5           5            5   \n",
       "2018-01-15     4         4            2         4           4            4   \n",
       "\n",
       "            size  std_sales_price  purchase_price  bio  basic  \n",
       "day                                                            \n",
       "2018-01-01     2                2               2    2      2  \n",
       "2018-01-02     1                1               1    1      1  \n",
       "2018-01-03     3                3               3    3      3  \n",
       "2018-01-04     9                9               9    9      9  \n",
       "2018-01-05     4                4               4    4      4  \n",
       "2018-01-06     3                3               3    3      3  \n",
       "2018-01-07     7                7               7    7      7  \n",
       "2018-01-08     5                5               5    5      5  \n",
       "2018-01-09     5                5               5    5      5  \n",
       "2018-01-10     1                1               1    1      1  \n",
       "2018-01-11     4                4               4    4      4  \n",
       "2018-01-12     4                4               4    4      4  \n",
       "2018-01-13     5                5               5    5      5  \n",
       "2018-01-15     4                4               4    4      4  "
      ],
      "text/html": "<div>\n<style scoped>\n    .dataframe tbody tr th:only-of-type {\n        vertical-align: middle;\n    }\n\n    .dataframe tbody tr th {\n        vertical-align: top;\n    }\n\n    .dataframe thead th {\n        text-align: right;\n    }\n</style>\n<table border=\"1\" class=\"dataframe\">\n  <thead>\n    <tr style=\"text-align: right;\">\n      <th></th>\n      <th>time</th>\n      <th>customer</th>\n      <th>bank acount</th>\n      <th>category</th>\n      <th>product_id</th>\n      <th>description</th>\n      <th>size</th>\n      <th>std_sales_price</th>\n      <th>purchase_price</th>\n      <th>bio</th>\n      <th>basic</th>\n    </tr>\n    <tr>\n      <th>day</th>\n      <th></th>\n      <th></th>\n      <th></th>\n      <th></th>\n      <th></th>\n      <th></th>\n      <th></th>\n      <th></th>\n      <th></th>\n      <th></th>\n      <th></th>\n    </tr>\n  </thead>\n  <tbody>\n    <tr>\n      <th>2018-01-01</th>\n      <td>2</td>\n      <td>2</td>\n      <td>1</td>\n      <td>2</td>\n      <td>2</td>\n      <td>2</td>\n      <td>2</td>\n      <td>2</td>\n      <td>2</td>\n      <td>2</td>\n      <td>2</td>\n    </tr>\n    <tr>\n      <th>2018-01-02</th>\n      <td>1</td>\n      <td>1</td>\n      <td>0</td>\n      <td>1</td>\n      <td>1</td>\n      <td>1</td>\n      <td>1</td>\n      <td>1</td>\n      <td>1</td>\n      <td>1</td>\n      <td>1</td>\n    </tr>\n    <tr>\n      <th>2018-01-03</th>\n      <td>3</td>\n      <td>3</td>\n      <td>3</td>\n      <td>3</td>\n      <td>3</td>\n      <td>3</td>\n      <td>3</td>\n      <td>3</td>\n      <td>3</td>\n      <td>3</td>\n      <td>3</td>\n    </tr>\n    <tr>\n      <th>2018-01-04</th>\n      <td>9</td>\n      <td>9</td>\n      <td>9</td>\n      <td>9</td>\n      <td>9</td>\n      <td>9</td>\n      <td>9</td>\n      <td>9</td>\n      <td>9</td>\n      <td>9</td>\n      <td>9</td>\n    </tr>\n    <tr>\n      <th>2018-01-05</th>\n      <td>4</td>\n      <td>4</td>\n      <td>4</td>\n      <td>4</td>\n      <td>4</td>\n      <td>4</td>\n      <td>4</td>\n      <td>4</td>\n      <td>4</td>\n      <td>4</td>\n      <td>4</td>\n    </tr>\n    <tr>\n      <th>2018-01-06</th>\n      <td>3</td>\n      <td>3</td>\n      <td>1</td>\n      <td>3</td>\n      <td>3</td>\n      <td>3</td>\n      <td>3</td>\n      <td>3</td>\n      <td>3</td>\n      <td>3</td>\n      <td>3</td>\n    </tr>\n    <tr>\n      <th>2018-01-07</th>\n      <td>7</td>\n      <td>7</td>\n      <td>4</td>\n      <td>7</td>\n      <td>7</td>\n      <td>7</td>\n      <td>7</td>\n      <td>7</td>\n      <td>7</td>\n      <td>7</td>\n      <td>7</td>\n    </tr>\n    <tr>\n      <th>2018-01-08</th>\n      <td>5</td>\n      <td>5</td>\n      <td>5</td>\n      <td>5</td>\n      <td>5</td>\n      <td>5</td>\n      <td>5</td>\n      <td>5</td>\n      <td>5</td>\n      <td>5</td>\n      <td>5</td>\n    </tr>\n    <tr>\n      <th>2018-01-09</th>\n      <td>5</td>\n      <td>5</td>\n      <td>5</td>\n      <td>5</td>\n      <td>5</td>\n      <td>5</td>\n      <td>5</td>\n      <td>5</td>\n      <td>5</td>\n      <td>5</td>\n      <td>5</td>\n    </tr>\n    <tr>\n      <th>2018-01-10</th>\n      <td>1</td>\n      <td>1</td>\n      <td>1</td>\n      <td>1</td>\n      <td>1</td>\n      <td>1</td>\n      <td>1</td>\n      <td>1</td>\n      <td>1</td>\n      <td>1</td>\n      <td>1</td>\n    </tr>\n    <tr>\n      <th>2018-01-11</th>\n      <td>4</td>\n      <td>4</td>\n      <td>4</td>\n      <td>4</td>\n      <td>4</td>\n      <td>4</td>\n      <td>4</td>\n      <td>4</td>\n      <td>4</td>\n      <td>4</td>\n      <td>4</td>\n    </tr>\n    <tr>\n      <th>2018-01-12</th>\n      <td>4</td>\n      <td>4</td>\n      <td>4</td>\n      <td>4</td>\n      <td>4</td>\n      <td>4</td>\n      <td>4</td>\n      <td>4</td>\n      <td>4</td>\n      <td>4</td>\n      <td>4</td>\n    </tr>\n    <tr>\n      <th>2018-01-13</th>\n      <td>5</td>\n      <td>5</td>\n      <td>4</td>\n      <td>5</td>\n      <td>5</td>\n      <td>5</td>\n      <td>5</td>\n      <td>5</td>\n      <td>5</td>\n      <td>5</td>\n      <td>5</td>\n    </tr>\n    <tr>\n      <th>2018-01-15</th>\n      <td>4</td>\n      <td>4</td>\n      <td>2</td>\n      <td>4</td>\n      <td>4</td>\n      <td>4</td>\n      <td>4</td>\n      <td>4</td>\n      <td>4</td>\n      <td>4</td>\n      <td>4</td>\n    </tr>\n  </tbody>\n</table>\n</div>"
     },
     "metadata": {},
     "execution_count": 52
    }
   ],
   "source": [
    "transactions[transactions['description'] == 'Biologische prei'].groupby('day').count().iloc[0:14, :]"
   ]
  },
  {
   "cell_type": "code",
   "execution_count": 53,
   "metadata": {},
   "outputs": [
    {
     "output_type": "stream",
     "name": "stderr",
     "text": [
      "<ipython-input-53-08904a856e7a>:1: SettingWithCopyWarning: \nA value is trying to be set on a copy of a slice from a DataFrame.\nTry using .loc[row_indexer,col_indexer] = value instead\n\nSee the caveats in the documentation: https://pandas.pydata.org/pandas-docs/stable/user_guide/indexing.html#returning-a-view-versus-a-copy\n  df_waste[\"waste nn\"] = [i if i > 0 else 0 for i in df_waste[\"waste\"]]\n"
     ]
    }
   ],
   "source": [
    "df_waste[\"waste nn\"] = [i if i > 0 else 0 for i in df_waste[\"waste\"]]\n",
    "#takes nonnegative values which is counted as waste\n",
    "waste_group = df_waste.groupby(\"week\").sum()\n",
    "waste_group[\"weekly purchases\"] = waste_group[\"purchases\"].diff()\n"
   ]
  },
  {
   "source": [
    "## `df_waste` is prepared for plotting"
   ],
   "cell_type": "markdown",
   "metadata": {}
  },
  {
   "cell_type": "code",
   "execution_count": 54,
   "metadata": {},
   "outputs": [
    {
     "output_type": "execute_result",
     "data": {
      "text/plain": [
       "      best before  amount  purchases  prev purchases  remaining  waste  \\\n",
       "week                                                                     \n",
       "2              23      10       24.0             4.0       -4.0   -9.0   \n",
       "3              37      10       40.0             8.0        2.0   -5.0   \n",
       "4              51      10       53.0             7.0        3.0    1.0   \n",
       "5              65      10       68.0             6.0        4.0    4.0   \n",
       "6              79      10       88.0            11.0       -1.0   -3.0   \n",
       "7              93      10      102.0             7.0        3.0    2.0   \n",
       "8             107      10      114.0             5.0        5.0    5.0   \n",
       "9             121      10      134.0            13.0       -3.0   -3.0   \n",
       "10            135      10      166.0            17.0       -7.0  -15.0   \n",
       "11            149      10      190.0            10.0        0.0  -19.0   \n",
       "12            163      10      207.0             7.0        3.0  -16.0   \n",
       "13            177      10      223.0             7.0        3.0  -12.0   \n",
       "14            191      10      245.0            13.0       -3.0  -14.0   \n",
       "15            205      10      268.0            10.0        0.0  -17.0   \n",
       "16            219      10      284.0            11.0       -1.0  -13.0   \n",
       "17            233      10      305.0            10.0        0.0  -14.0   \n",
       "18            247      10      313.0             1.0        9.0   -2.0   \n",
       "19            261      10      327.0             9.0        1.0    1.0   \n",
       "20            275      10      344.0             8.0        2.0    2.0   \n",
       "21            289      10      362.0             8.0        2.0    1.0   \n",
       "22            303      10      385.0            12.0       -2.0   -6.0   \n",
       "23            317      10      400.0             8.0        2.0   -1.0   \n",
       "24            331      10      418.0             9.0        1.0    1.0   \n",
       "25            345      10      434.0             9.0        1.0    1.0   \n",
       "26            359      10      447.0             6.0        4.0    3.0   \n",
       "27            373      10      459.0             5.0        5.0    5.0   \n",
       "28            387      10      470.0             5.0        5.0    5.0   \n",
       "29            401      10      486.0             9.0        1.0    1.0   \n",
       "30            415      10      505.0            11.0       -1.0   -1.0   \n",
       "31            429      10      525.0             9.0        1.0   -2.0   \n",
       "32            443      10      535.0             3.0        7.0    6.0   \n",
       "33            457      10      545.0             6.0        4.0    4.0   \n",
       "34            471      10      562.0             9.0        1.0    1.0   \n",
       "35            485      10      581.0            10.0        0.0    0.0   \n",
       "36            499      10      596.0             7.0        3.0    3.0   \n",
       "37            513      10      610.0             7.0        3.0    3.0   \n",
       "38            527      10      625.0             6.0        4.0    4.0   \n",
       "39            541      10      649.0            14.0       -4.0   -8.0   \n",
       "40            555      10      667.0             9.0        1.0   -6.0   \n",
       "41            569      10      689.0            11.0       -1.0   -8.0   \n",
       "42            583      10      701.0             4.0        6.0    0.0   \n",
       "43            597      10      716.0             9.0        1.0    1.0   \n",
       "\n",
       "      weekPrice  lost_Revenue  purc_price  lost_profit  cost_wasted  waste nn  \\\n",
       "week                                                                            \n",
       "2          5.38        -24.21        1.22       -18.72        -5.49       0.0   \n",
       "3          5.38        -13.45        1.22       -10.40        -3.05       0.0   \n",
       "4          5.38          2.69        1.22         2.08         0.61       1.0   \n",
       "5          5.38         10.76        1.22         8.32         2.44       4.0   \n",
       "6          5.38         -8.07        1.22        -6.24        -1.83       0.0   \n",
       "7          5.38          5.38        1.22         4.16         1.22       2.0   \n",
       "8          5.38         13.45        1.22        10.40         3.05       5.0   \n",
       "9          5.38         -8.07        1.22        -6.24        -1.83       0.0   \n",
       "10         5.38        -40.35        1.22       -31.20        -9.15       0.0   \n",
       "11         5.38        -51.11        1.22       -39.52       -11.59       0.0   \n",
       "12         5.38        -43.04        1.22       -33.28        -9.76       0.0   \n",
       "13         5.38        -32.28        1.22       -24.96        -7.32       0.0   \n",
       "14         5.38        -37.66        1.22       -29.12        -8.54       0.0   \n",
       "15         5.38        -45.73        1.22       -35.36       -10.37       0.0   \n",
       "16         5.38        -34.97        1.22       -27.04        -7.93       0.0   \n",
       "17         5.38        -37.66        1.22       -29.12        -8.54       0.0   \n",
       "18         5.38         -5.38        1.22        -4.16        -1.22       1.0   \n",
       "19         5.38          2.69        1.22         2.08         0.61       1.0   \n",
       "20         5.38          5.38        1.22         4.16         1.22       2.0   \n",
       "21         5.38          2.69        1.22         2.08         0.61       2.0   \n",
       "22         5.38        -16.14        1.22       -12.48        -3.66       0.0   \n",
       "23         5.38         -2.69        1.22        -2.08        -0.61       0.0   \n",
       "24         5.38          2.69        1.22         2.08         0.61       1.0   \n",
       "25         5.38          2.69        1.22         2.08         0.61       2.0   \n",
       "26         5.38          8.07        1.22         6.24         1.83       3.0   \n",
       "27         5.38         13.45        1.22        10.40         3.05       5.0   \n",
       "28         5.38         13.45        1.22        10.40         3.05       5.0   \n",
       "29         5.38          2.69        1.22         2.08         0.61       1.0   \n",
       "30         5.38         -2.69        1.22        -2.08        -0.61       1.0   \n",
       "31         5.38         -5.38        1.22        -4.16        -1.22       0.0   \n",
       "32         5.38         16.14        1.22        12.48         3.66       6.0   \n",
       "33         5.38         10.76        1.22         8.32         2.44       4.0   \n",
       "34         5.38          2.69        1.22         2.08         0.61       1.0   \n",
       "35         5.38          0.00        1.22         0.00         0.00       0.0   \n",
       "36         5.38          8.07        1.22         6.24         1.83       3.0   \n",
       "37         5.38          8.07        1.22         6.24         1.83       3.0   \n",
       "38         5.38         10.76        1.22         8.32         2.44       4.0   \n",
       "39         5.38        -21.52        1.22       -16.64        -4.88       0.0   \n",
       "40         5.38        -16.14        1.22       -12.48        -3.66       0.0   \n",
       "41         5.38        -21.52        1.22       -16.64        -4.88       0.0   \n",
       "42         5.38          0.00        1.22         0.00         0.00       2.0   \n",
       "43         5.38          2.69        1.22         2.08         0.61       1.0   \n",
       "\n",
       "      weekly purchases  \n",
       "week                    \n",
       "2                  NaN  \n",
       "3                 16.0  \n",
       "4                 13.0  \n",
       "5                 15.0  \n",
       "6                 20.0  \n",
       "7                 14.0  \n",
       "8                 12.0  \n",
       "9                 20.0  \n",
       "10                32.0  \n",
       "11                24.0  \n",
       "12                17.0  \n",
       "13                16.0  \n",
       "14                22.0  \n",
       "15                23.0  \n",
       "16                16.0  \n",
       "17                21.0  \n",
       "18                 8.0  \n",
       "19                14.0  \n",
       "20                17.0  \n",
       "21                18.0  \n",
       "22                23.0  \n",
       "23                15.0  \n",
       "24                18.0  \n",
       "25                16.0  \n",
       "26                13.0  \n",
       "27                12.0  \n",
       "28                11.0  \n",
       "29                16.0  \n",
       "30                19.0  \n",
       "31                20.0  \n",
       "32                10.0  \n",
       "33                10.0  \n",
       "34                17.0  \n",
       "35                19.0  \n",
       "36                15.0  \n",
       "37                14.0  \n",
       "38                15.0  \n",
       "39                24.0  \n",
       "40                18.0  \n",
       "41                22.0  \n",
       "42                12.0  \n",
       "43                15.0  "
      ],
      "text/html": "<div>\n<style scoped>\n    .dataframe tbody tr th:only-of-type {\n        vertical-align: middle;\n    }\n\n    .dataframe tbody tr th {\n        vertical-align: top;\n    }\n\n    .dataframe thead th {\n        text-align: right;\n    }\n</style>\n<table border=\"1\" class=\"dataframe\">\n  <thead>\n    <tr style=\"text-align: right;\">\n      <th></th>\n      <th>best before</th>\n      <th>amount</th>\n      <th>purchases</th>\n      <th>prev purchases</th>\n      <th>remaining</th>\n      <th>waste</th>\n      <th>weekPrice</th>\n      <th>lost_Revenue</th>\n      <th>purc_price</th>\n      <th>lost_profit</th>\n      <th>cost_wasted</th>\n      <th>waste nn</th>\n      <th>weekly purchases</th>\n    </tr>\n    <tr>\n      <th>week</th>\n      <th></th>\n      <th></th>\n      <th></th>\n      <th></th>\n      <th></th>\n      <th></th>\n      <th></th>\n      <th></th>\n      <th></th>\n      <th></th>\n      <th></th>\n      <th></th>\n      <th></th>\n    </tr>\n  </thead>\n  <tbody>\n    <tr>\n      <th>2</th>\n      <td>23</td>\n      <td>10</td>\n      <td>24.0</td>\n      <td>4.0</td>\n      <td>-4.0</td>\n      <td>-9.0</td>\n      <td>5.38</td>\n      <td>-24.21</td>\n      <td>1.22</td>\n      <td>-18.72</td>\n      <td>-5.49</td>\n      <td>0.0</td>\n      <td>NaN</td>\n    </tr>\n    <tr>\n      <th>3</th>\n      <td>37</td>\n      <td>10</td>\n      <td>40.0</td>\n      <td>8.0</td>\n      <td>2.0</td>\n      <td>-5.0</td>\n      <td>5.38</td>\n      <td>-13.45</td>\n      <td>1.22</td>\n      <td>-10.40</td>\n      <td>-3.05</td>\n      <td>0.0</td>\n      <td>16.0</td>\n    </tr>\n    <tr>\n      <th>4</th>\n      <td>51</td>\n      <td>10</td>\n      <td>53.0</td>\n      <td>7.0</td>\n      <td>3.0</td>\n      <td>1.0</td>\n      <td>5.38</td>\n      <td>2.69</td>\n      <td>1.22</td>\n      <td>2.08</td>\n      <td>0.61</td>\n      <td>1.0</td>\n      <td>13.0</td>\n    </tr>\n    <tr>\n      <th>5</th>\n      <td>65</td>\n      <td>10</td>\n      <td>68.0</td>\n      <td>6.0</td>\n      <td>4.0</td>\n      <td>4.0</td>\n      <td>5.38</td>\n      <td>10.76</td>\n      <td>1.22</td>\n      <td>8.32</td>\n      <td>2.44</td>\n      <td>4.0</td>\n      <td>15.0</td>\n    </tr>\n    <tr>\n      <th>6</th>\n      <td>79</td>\n      <td>10</td>\n      <td>88.0</td>\n      <td>11.0</td>\n      <td>-1.0</td>\n      <td>-3.0</td>\n      <td>5.38</td>\n      <td>-8.07</td>\n      <td>1.22</td>\n      <td>-6.24</td>\n      <td>-1.83</td>\n      <td>0.0</td>\n      <td>20.0</td>\n    </tr>\n    <tr>\n      <th>7</th>\n      <td>93</td>\n      <td>10</td>\n      <td>102.0</td>\n      <td>7.0</td>\n      <td>3.0</td>\n      <td>2.0</td>\n      <td>5.38</td>\n      <td>5.38</td>\n      <td>1.22</td>\n      <td>4.16</td>\n      <td>1.22</td>\n      <td>2.0</td>\n      <td>14.0</td>\n    </tr>\n    <tr>\n      <th>8</th>\n      <td>107</td>\n      <td>10</td>\n      <td>114.0</td>\n      <td>5.0</td>\n      <td>5.0</td>\n      <td>5.0</td>\n      <td>5.38</td>\n      <td>13.45</td>\n      <td>1.22</td>\n      <td>10.40</td>\n      <td>3.05</td>\n      <td>5.0</td>\n      <td>12.0</td>\n    </tr>\n    <tr>\n      <th>9</th>\n      <td>121</td>\n      <td>10</td>\n      <td>134.0</td>\n      <td>13.0</td>\n      <td>-3.0</td>\n      <td>-3.0</td>\n      <td>5.38</td>\n      <td>-8.07</td>\n      <td>1.22</td>\n      <td>-6.24</td>\n      <td>-1.83</td>\n      <td>0.0</td>\n      <td>20.0</td>\n    </tr>\n    <tr>\n      <th>10</th>\n      <td>135</td>\n      <td>10</td>\n      <td>166.0</td>\n      <td>17.0</td>\n      <td>-7.0</td>\n      <td>-15.0</td>\n      <td>5.38</td>\n      <td>-40.35</td>\n      <td>1.22</td>\n      <td>-31.20</td>\n      <td>-9.15</td>\n      <td>0.0</td>\n      <td>32.0</td>\n    </tr>\n    <tr>\n      <th>11</th>\n      <td>149</td>\n      <td>10</td>\n      <td>190.0</td>\n      <td>10.0</td>\n      <td>0.0</td>\n      <td>-19.0</td>\n      <td>5.38</td>\n      <td>-51.11</td>\n      <td>1.22</td>\n      <td>-39.52</td>\n      <td>-11.59</td>\n      <td>0.0</td>\n      <td>24.0</td>\n    </tr>\n    <tr>\n      <th>12</th>\n      <td>163</td>\n      <td>10</td>\n      <td>207.0</td>\n      <td>7.0</td>\n      <td>3.0</td>\n      <td>-16.0</td>\n      <td>5.38</td>\n      <td>-43.04</td>\n      <td>1.22</td>\n      <td>-33.28</td>\n      <td>-9.76</td>\n      <td>0.0</td>\n      <td>17.0</td>\n    </tr>\n    <tr>\n      <th>13</th>\n      <td>177</td>\n      <td>10</td>\n      <td>223.0</td>\n      <td>7.0</td>\n      <td>3.0</td>\n      <td>-12.0</td>\n      <td>5.38</td>\n      <td>-32.28</td>\n      <td>1.22</td>\n      <td>-24.96</td>\n      <td>-7.32</td>\n      <td>0.0</td>\n      <td>16.0</td>\n    </tr>\n    <tr>\n      <th>14</th>\n      <td>191</td>\n      <td>10</td>\n      <td>245.0</td>\n      <td>13.0</td>\n      <td>-3.0</td>\n      <td>-14.0</td>\n      <td>5.38</td>\n      <td>-37.66</td>\n      <td>1.22</td>\n      <td>-29.12</td>\n      <td>-8.54</td>\n      <td>0.0</td>\n      <td>22.0</td>\n    </tr>\n    <tr>\n      <th>15</th>\n      <td>205</td>\n      <td>10</td>\n      <td>268.0</td>\n      <td>10.0</td>\n      <td>0.0</td>\n      <td>-17.0</td>\n      <td>5.38</td>\n      <td>-45.73</td>\n      <td>1.22</td>\n      <td>-35.36</td>\n      <td>-10.37</td>\n      <td>0.0</td>\n      <td>23.0</td>\n    </tr>\n    <tr>\n      <th>16</th>\n      <td>219</td>\n      <td>10</td>\n      <td>284.0</td>\n      <td>11.0</td>\n      <td>-1.0</td>\n      <td>-13.0</td>\n      <td>5.38</td>\n      <td>-34.97</td>\n      <td>1.22</td>\n      <td>-27.04</td>\n      <td>-7.93</td>\n      <td>0.0</td>\n      <td>16.0</td>\n    </tr>\n    <tr>\n      <th>17</th>\n      <td>233</td>\n      <td>10</td>\n      <td>305.0</td>\n      <td>10.0</td>\n      <td>0.0</td>\n      <td>-14.0</td>\n      <td>5.38</td>\n      <td>-37.66</td>\n      <td>1.22</td>\n      <td>-29.12</td>\n      <td>-8.54</td>\n      <td>0.0</td>\n      <td>21.0</td>\n    </tr>\n    <tr>\n      <th>18</th>\n      <td>247</td>\n      <td>10</td>\n      <td>313.0</td>\n      <td>1.0</td>\n      <td>9.0</td>\n      <td>-2.0</td>\n      <td>5.38</td>\n      <td>-5.38</td>\n      <td>1.22</td>\n      <td>-4.16</td>\n      <td>-1.22</td>\n      <td>1.0</td>\n      <td>8.0</td>\n    </tr>\n    <tr>\n      <th>19</th>\n      <td>261</td>\n      <td>10</td>\n      <td>327.0</td>\n      <td>9.0</td>\n      <td>1.0</td>\n      <td>1.0</td>\n      <td>5.38</td>\n      <td>2.69</td>\n      <td>1.22</td>\n      <td>2.08</td>\n      <td>0.61</td>\n      <td>1.0</td>\n      <td>14.0</td>\n    </tr>\n    <tr>\n      <th>20</th>\n      <td>275</td>\n      <td>10</td>\n      <td>344.0</td>\n      <td>8.0</td>\n      <td>2.0</td>\n      <td>2.0</td>\n      <td>5.38</td>\n      <td>5.38</td>\n      <td>1.22</td>\n      <td>4.16</td>\n      <td>1.22</td>\n      <td>2.0</td>\n      <td>17.0</td>\n    </tr>\n    <tr>\n      <th>21</th>\n      <td>289</td>\n      <td>10</td>\n      <td>362.0</td>\n      <td>8.0</td>\n      <td>2.0</td>\n      <td>1.0</td>\n      <td>5.38</td>\n      <td>2.69</td>\n      <td>1.22</td>\n      <td>2.08</td>\n      <td>0.61</td>\n      <td>2.0</td>\n      <td>18.0</td>\n    </tr>\n    <tr>\n      <th>22</th>\n      <td>303</td>\n      <td>10</td>\n      <td>385.0</td>\n      <td>12.0</td>\n      <td>-2.0</td>\n      <td>-6.0</td>\n      <td>5.38</td>\n      <td>-16.14</td>\n      <td>1.22</td>\n      <td>-12.48</td>\n      <td>-3.66</td>\n      <td>0.0</td>\n      <td>23.0</td>\n    </tr>\n    <tr>\n      <th>23</th>\n      <td>317</td>\n      <td>10</td>\n      <td>400.0</td>\n      <td>8.0</td>\n      <td>2.0</td>\n      <td>-1.0</td>\n      <td>5.38</td>\n      <td>-2.69</td>\n      <td>1.22</td>\n      <td>-2.08</td>\n      <td>-0.61</td>\n      <td>0.0</td>\n      <td>15.0</td>\n    </tr>\n    <tr>\n      <th>24</th>\n      <td>331</td>\n      <td>10</td>\n      <td>418.0</td>\n      <td>9.0</td>\n      <td>1.0</td>\n      <td>1.0</td>\n      <td>5.38</td>\n      <td>2.69</td>\n      <td>1.22</td>\n      <td>2.08</td>\n      <td>0.61</td>\n      <td>1.0</td>\n      <td>18.0</td>\n    </tr>\n    <tr>\n      <th>25</th>\n      <td>345</td>\n      <td>10</td>\n      <td>434.0</td>\n      <td>9.0</td>\n      <td>1.0</td>\n      <td>1.0</td>\n      <td>5.38</td>\n      <td>2.69</td>\n      <td>1.22</td>\n      <td>2.08</td>\n      <td>0.61</td>\n      <td>2.0</td>\n      <td>16.0</td>\n    </tr>\n    <tr>\n      <th>26</th>\n      <td>359</td>\n      <td>10</td>\n      <td>447.0</td>\n      <td>6.0</td>\n      <td>4.0</td>\n      <td>3.0</td>\n      <td>5.38</td>\n      <td>8.07</td>\n      <td>1.22</td>\n      <td>6.24</td>\n      <td>1.83</td>\n      <td>3.0</td>\n      <td>13.0</td>\n    </tr>\n    <tr>\n      <th>27</th>\n      <td>373</td>\n      <td>10</td>\n      <td>459.0</td>\n      <td>5.0</td>\n      <td>5.0</td>\n      <td>5.0</td>\n      <td>5.38</td>\n      <td>13.45</td>\n      <td>1.22</td>\n      <td>10.40</td>\n      <td>3.05</td>\n      <td>5.0</td>\n      <td>12.0</td>\n    </tr>\n    <tr>\n      <th>28</th>\n      <td>387</td>\n      <td>10</td>\n      <td>470.0</td>\n      <td>5.0</td>\n      <td>5.0</td>\n      <td>5.0</td>\n      <td>5.38</td>\n      <td>13.45</td>\n      <td>1.22</td>\n      <td>10.40</td>\n      <td>3.05</td>\n      <td>5.0</td>\n      <td>11.0</td>\n    </tr>\n    <tr>\n      <th>29</th>\n      <td>401</td>\n      <td>10</td>\n      <td>486.0</td>\n      <td>9.0</td>\n      <td>1.0</td>\n      <td>1.0</td>\n      <td>5.38</td>\n      <td>2.69</td>\n      <td>1.22</td>\n      <td>2.08</td>\n      <td>0.61</td>\n      <td>1.0</td>\n      <td>16.0</td>\n    </tr>\n    <tr>\n      <th>30</th>\n      <td>415</td>\n      <td>10</td>\n      <td>505.0</td>\n      <td>11.0</td>\n      <td>-1.0</td>\n      <td>-1.0</td>\n      <td>5.38</td>\n      <td>-2.69</td>\n      <td>1.22</td>\n      <td>-2.08</td>\n      <td>-0.61</td>\n      <td>1.0</td>\n      <td>19.0</td>\n    </tr>\n    <tr>\n      <th>31</th>\n      <td>429</td>\n      <td>10</td>\n      <td>525.0</td>\n      <td>9.0</td>\n      <td>1.0</td>\n      <td>-2.0</td>\n      <td>5.38</td>\n      <td>-5.38</td>\n      <td>1.22</td>\n      <td>-4.16</td>\n      <td>-1.22</td>\n      <td>0.0</td>\n      <td>20.0</td>\n    </tr>\n    <tr>\n      <th>32</th>\n      <td>443</td>\n      <td>10</td>\n      <td>535.0</td>\n      <td>3.0</td>\n      <td>7.0</td>\n      <td>6.0</td>\n      <td>5.38</td>\n      <td>16.14</td>\n      <td>1.22</td>\n      <td>12.48</td>\n      <td>3.66</td>\n      <td>6.0</td>\n      <td>10.0</td>\n    </tr>\n    <tr>\n      <th>33</th>\n      <td>457</td>\n      <td>10</td>\n      <td>545.0</td>\n      <td>6.0</td>\n      <td>4.0</td>\n      <td>4.0</td>\n      <td>5.38</td>\n      <td>10.76</td>\n      <td>1.22</td>\n      <td>8.32</td>\n      <td>2.44</td>\n      <td>4.0</td>\n      <td>10.0</td>\n    </tr>\n    <tr>\n      <th>34</th>\n      <td>471</td>\n      <td>10</td>\n      <td>562.0</td>\n      <td>9.0</td>\n      <td>1.0</td>\n      <td>1.0</td>\n      <td>5.38</td>\n      <td>2.69</td>\n      <td>1.22</td>\n      <td>2.08</td>\n      <td>0.61</td>\n      <td>1.0</td>\n      <td>17.0</td>\n    </tr>\n    <tr>\n      <th>35</th>\n      <td>485</td>\n      <td>10</td>\n      <td>581.0</td>\n      <td>10.0</td>\n      <td>0.0</td>\n      <td>0.0</td>\n      <td>5.38</td>\n      <td>0.00</td>\n      <td>1.22</td>\n      <td>0.00</td>\n      <td>0.00</td>\n      <td>0.0</td>\n      <td>19.0</td>\n    </tr>\n    <tr>\n      <th>36</th>\n      <td>499</td>\n      <td>10</td>\n      <td>596.0</td>\n      <td>7.0</td>\n      <td>3.0</td>\n      <td>3.0</td>\n      <td>5.38</td>\n      <td>8.07</td>\n      <td>1.22</td>\n      <td>6.24</td>\n      <td>1.83</td>\n      <td>3.0</td>\n      <td>15.0</td>\n    </tr>\n    <tr>\n      <th>37</th>\n      <td>513</td>\n      <td>10</td>\n      <td>610.0</td>\n      <td>7.0</td>\n      <td>3.0</td>\n      <td>3.0</td>\n      <td>5.38</td>\n      <td>8.07</td>\n      <td>1.22</td>\n      <td>6.24</td>\n      <td>1.83</td>\n      <td>3.0</td>\n      <td>14.0</td>\n    </tr>\n    <tr>\n      <th>38</th>\n      <td>527</td>\n      <td>10</td>\n      <td>625.0</td>\n      <td>6.0</td>\n      <td>4.0</td>\n      <td>4.0</td>\n      <td>5.38</td>\n      <td>10.76</td>\n      <td>1.22</td>\n      <td>8.32</td>\n      <td>2.44</td>\n      <td>4.0</td>\n      <td>15.0</td>\n    </tr>\n    <tr>\n      <th>39</th>\n      <td>541</td>\n      <td>10</td>\n      <td>649.0</td>\n      <td>14.0</td>\n      <td>-4.0</td>\n      <td>-8.0</td>\n      <td>5.38</td>\n      <td>-21.52</td>\n      <td>1.22</td>\n      <td>-16.64</td>\n      <td>-4.88</td>\n      <td>0.0</td>\n      <td>24.0</td>\n    </tr>\n    <tr>\n      <th>40</th>\n      <td>555</td>\n      <td>10</td>\n      <td>667.0</td>\n      <td>9.0</td>\n      <td>1.0</td>\n      <td>-6.0</td>\n      <td>5.38</td>\n      <td>-16.14</td>\n      <td>1.22</td>\n      <td>-12.48</td>\n      <td>-3.66</td>\n      <td>0.0</td>\n      <td>18.0</td>\n    </tr>\n    <tr>\n      <th>41</th>\n      <td>569</td>\n      <td>10</td>\n      <td>689.0</td>\n      <td>11.0</td>\n      <td>-1.0</td>\n      <td>-8.0</td>\n      <td>5.38</td>\n      <td>-21.52</td>\n      <td>1.22</td>\n      <td>-16.64</td>\n      <td>-4.88</td>\n      <td>0.0</td>\n      <td>22.0</td>\n    </tr>\n    <tr>\n      <th>42</th>\n      <td>583</td>\n      <td>10</td>\n      <td>701.0</td>\n      <td>4.0</td>\n      <td>6.0</td>\n      <td>0.0</td>\n      <td>5.38</td>\n      <td>0.00</td>\n      <td>1.22</td>\n      <td>0.00</td>\n      <td>0.00</td>\n      <td>2.0</td>\n      <td>12.0</td>\n    </tr>\n    <tr>\n      <th>43</th>\n      <td>597</td>\n      <td>10</td>\n      <td>716.0</td>\n      <td>9.0</td>\n      <td>1.0</td>\n      <td>1.0</td>\n      <td>5.38</td>\n      <td>2.69</td>\n      <td>1.22</td>\n      <td>2.08</td>\n      <td>0.61</td>\n      <td>1.0</td>\n      <td>15.0</td>\n    </tr>\n  </tbody>\n</table>\n</div>"
     },
     "metadata": {},
     "execution_count": 54
    }
   ],
   "source": [
    "waste_group"
   ]
  },
  {
   "cell_type": "code",
   "execution_count": 55,
   "metadata": {},
   "outputs": [],
   "source": [
    "waste_group[\"week\"] = waste_group.index"
   ]
  },
  {
   "cell_type": "code",
   "execution_count": 58,
   "metadata": {},
   "outputs": [
    {
     "output_type": "display_data",
     "data": {
      "application/vnd.plotly.v1+json": {
       "config": {
        "plotlyServerURL": "https://plot.ly"
       },
       "data": [
        {
         "hovertemplate": "week=%{x}<br>waste nn=%{y}<extra></extra>",
         "legendgroup": "",
         "line": {
          "color": "#636efa",
          "dash": "solid"
         },
         "mode": "lines",
         "name": "",
         "orientation": "v",
         "showlegend": false,
         "type": "scatter",
         "x": [
          2,
          3,
          4,
          5,
          6,
          7,
          8,
          9,
          10,
          11,
          12,
          13,
          14,
          15,
          16,
          17,
          18,
          19,
          20,
          21,
          22,
          23,
          24,
          25,
          26,
          27,
          28,
          29,
          30,
          31,
          32,
          33,
          34,
          35,
          36,
          37,
          38,
          39,
          40,
          41,
          42,
          43
         ],
         "xaxis": "x",
         "y": [
          0,
          0,
          1,
          4,
          0,
          2,
          5,
          0,
          0,
          0,
          0,
          0,
          0,
          0,
          0,
          0,
          1,
          1,
          2,
          2,
          0,
          0,
          1,
          2,
          3,
          5,
          5,
          1,
          1,
          0,
          6,
          4,
          1,
          0,
          3,
          3,
          4,
          0,
          0,
          0,
          2,
          1
         ],
         "yaxis": "y"
        },
        {
         "mode": "lines",
         "type": "scatter",
         "x": [
          2,
          3,
          4,
          5,
          6,
          7,
          8,
          9,
          10,
          11,
          12,
          13,
          14,
          15,
          16,
          17,
          18,
          19,
          20,
          21,
          22,
          23,
          24,
          25,
          26,
          27,
          28,
          29,
          30,
          31,
          32,
          33,
          34,
          35,
          36,
          37,
          38,
          39,
          40,
          41,
          42,
          43
         ],
         "y": [
          10,
          10,
          10,
          10,
          10,
          10,
          10,
          10,
          10,
          10,
          10,
          10,
          10,
          10,
          10,
          10,
          10,
          10,
          10,
          10,
          10,
          10,
          10,
          10,
          10,
          10,
          10,
          10,
          10,
          10,
          10,
          10,
          10,
          10,
          10,
          10,
          10,
          10,
          10,
          10,
          10,
          10
         ]
        },
        {
         "mode": "lines",
         "type": "scatter",
         "x": [
          2,
          3,
          4,
          5,
          6,
          7,
          8,
          9,
          10,
          11,
          12,
          13,
          14,
          15,
          16,
          17,
          18,
          19,
          20,
          21,
          22,
          23,
          24,
          25,
          26,
          27,
          28,
          29,
          30,
          31,
          32,
          33,
          34,
          35,
          36,
          37,
          38,
          39,
          40,
          41,
          42,
          43
         ],
         "y": [
          null,
          16,
          13,
          15,
          20,
          14,
          12,
          20,
          32,
          24,
          17,
          16,
          22,
          23,
          16,
          21,
          8,
          14,
          17,
          18,
          23,
          15,
          18,
          16,
          13,
          12,
          11,
          16,
          19,
          20,
          10,
          10,
          17,
          19,
          15,
          14,
          15,
          24,
          18,
          22,
          12,
          15
         ]
        }
       ],
       "layout": {
        "legend": {
         "tracegroupgap": 0
        },
        "template": {
         "data": {
          "bar": [
           {
            "error_x": {
             "color": "#2a3f5f"
            },
            "error_y": {
             "color": "#2a3f5f"
            },
            "marker": {
             "line": {
              "color": "#E5ECF6",
              "width": 0.5
             }
            },
            "type": "bar"
           }
          ],
          "barpolar": [
           {
            "marker": {
             "line": {
              "color": "#E5ECF6",
              "width": 0.5
             }
            },
            "type": "barpolar"
           }
          ],
          "carpet": [
           {
            "aaxis": {
             "endlinecolor": "#2a3f5f",
             "gridcolor": "white",
             "linecolor": "white",
             "minorgridcolor": "white",
             "startlinecolor": "#2a3f5f"
            },
            "baxis": {
             "endlinecolor": "#2a3f5f",
             "gridcolor": "white",
             "linecolor": "white",
             "minorgridcolor": "white",
             "startlinecolor": "#2a3f5f"
            },
            "type": "carpet"
           }
          ],
          "choropleth": [
           {
            "colorbar": {
             "outlinewidth": 0,
             "ticks": ""
            },
            "type": "choropleth"
           }
          ],
          "contour": [
           {
            "colorbar": {
             "outlinewidth": 0,
             "ticks": ""
            },
            "colorscale": [
             [
              0,
              "#0d0887"
             ],
             [
              0.1111111111111111,
              "#46039f"
             ],
             [
              0.2222222222222222,
              "#7201a8"
             ],
             [
              0.3333333333333333,
              "#9c179e"
             ],
             [
              0.4444444444444444,
              "#bd3786"
             ],
             [
              0.5555555555555556,
              "#d8576b"
             ],
             [
              0.6666666666666666,
              "#ed7953"
             ],
             [
              0.7777777777777778,
              "#fb9f3a"
             ],
             [
              0.8888888888888888,
              "#fdca26"
             ],
             [
              1,
              "#f0f921"
             ]
            ],
            "type": "contour"
           }
          ],
          "contourcarpet": [
           {
            "colorbar": {
             "outlinewidth": 0,
             "ticks": ""
            },
            "type": "contourcarpet"
           }
          ],
          "heatmap": [
           {
            "colorbar": {
             "outlinewidth": 0,
             "ticks": ""
            },
            "colorscale": [
             [
              0,
              "#0d0887"
             ],
             [
              0.1111111111111111,
              "#46039f"
             ],
             [
              0.2222222222222222,
              "#7201a8"
             ],
             [
              0.3333333333333333,
              "#9c179e"
             ],
             [
              0.4444444444444444,
              "#bd3786"
             ],
             [
              0.5555555555555556,
              "#d8576b"
             ],
             [
              0.6666666666666666,
              "#ed7953"
             ],
             [
              0.7777777777777778,
              "#fb9f3a"
             ],
             [
              0.8888888888888888,
              "#fdca26"
             ],
             [
              1,
              "#f0f921"
             ]
            ],
            "type": "heatmap"
           }
          ],
          "heatmapgl": [
           {
            "colorbar": {
             "outlinewidth": 0,
             "ticks": ""
            },
            "colorscale": [
             [
              0,
              "#0d0887"
             ],
             [
              0.1111111111111111,
              "#46039f"
             ],
             [
              0.2222222222222222,
              "#7201a8"
             ],
             [
              0.3333333333333333,
              "#9c179e"
             ],
             [
              0.4444444444444444,
              "#bd3786"
             ],
             [
              0.5555555555555556,
              "#d8576b"
             ],
             [
              0.6666666666666666,
              "#ed7953"
             ],
             [
              0.7777777777777778,
              "#fb9f3a"
             ],
             [
              0.8888888888888888,
              "#fdca26"
             ],
             [
              1,
              "#f0f921"
             ]
            ],
            "type": "heatmapgl"
           }
          ],
          "histogram": [
           {
            "marker": {
             "colorbar": {
              "outlinewidth": 0,
              "ticks": ""
             }
            },
            "type": "histogram"
           }
          ],
          "histogram2d": [
           {
            "colorbar": {
             "outlinewidth": 0,
             "ticks": ""
            },
            "colorscale": [
             [
              0,
              "#0d0887"
             ],
             [
              0.1111111111111111,
              "#46039f"
             ],
             [
              0.2222222222222222,
              "#7201a8"
             ],
             [
              0.3333333333333333,
              "#9c179e"
             ],
             [
              0.4444444444444444,
              "#bd3786"
             ],
             [
              0.5555555555555556,
              "#d8576b"
             ],
             [
              0.6666666666666666,
              "#ed7953"
             ],
             [
              0.7777777777777778,
              "#fb9f3a"
             ],
             [
              0.8888888888888888,
              "#fdca26"
             ],
             [
              1,
              "#f0f921"
             ]
            ],
            "type": "histogram2d"
           }
          ],
          "histogram2dcontour": [
           {
            "colorbar": {
             "outlinewidth": 0,
             "ticks": ""
            },
            "colorscale": [
             [
              0,
              "#0d0887"
             ],
             [
              0.1111111111111111,
              "#46039f"
             ],
             [
              0.2222222222222222,
              "#7201a8"
             ],
             [
              0.3333333333333333,
              "#9c179e"
             ],
             [
              0.4444444444444444,
              "#bd3786"
             ],
             [
              0.5555555555555556,
              "#d8576b"
             ],
             [
              0.6666666666666666,
              "#ed7953"
             ],
             [
              0.7777777777777778,
              "#fb9f3a"
             ],
             [
              0.8888888888888888,
              "#fdca26"
             ],
             [
              1,
              "#f0f921"
             ]
            ],
            "type": "histogram2dcontour"
           }
          ],
          "mesh3d": [
           {
            "colorbar": {
             "outlinewidth": 0,
             "ticks": ""
            },
            "type": "mesh3d"
           }
          ],
          "parcoords": [
           {
            "line": {
             "colorbar": {
              "outlinewidth": 0,
              "ticks": ""
             }
            },
            "type": "parcoords"
           }
          ],
          "pie": [
           {
            "automargin": true,
            "type": "pie"
           }
          ],
          "scatter": [
           {
            "marker": {
             "colorbar": {
              "outlinewidth": 0,
              "ticks": ""
             }
            },
            "type": "scatter"
           }
          ],
          "scatter3d": [
           {
            "line": {
             "colorbar": {
              "outlinewidth": 0,
              "ticks": ""
             }
            },
            "marker": {
             "colorbar": {
              "outlinewidth": 0,
              "ticks": ""
             }
            },
            "type": "scatter3d"
           }
          ],
          "scattercarpet": [
           {
            "marker": {
             "colorbar": {
              "outlinewidth": 0,
              "ticks": ""
             }
            },
            "type": "scattercarpet"
           }
          ],
          "scattergeo": [
           {
            "marker": {
             "colorbar": {
              "outlinewidth": 0,
              "ticks": ""
             }
            },
            "type": "scattergeo"
           }
          ],
          "scattergl": [
           {
            "marker": {
             "colorbar": {
              "outlinewidth": 0,
              "ticks": ""
             }
            },
            "type": "scattergl"
           }
          ],
          "scattermapbox": [
           {
            "marker": {
             "colorbar": {
              "outlinewidth": 0,
              "ticks": ""
             }
            },
            "type": "scattermapbox"
           }
          ],
          "scatterpolar": [
           {
            "marker": {
             "colorbar": {
              "outlinewidth": 0,
              "ticks": ""
             }
            },
            "type": "scatterpolar"
           }
          ],
          "scatterpolargl": [
           {
            "marker": {
             "colorbar": {
              "outlinewidth": 0,
              "ticks": ""
             }
            },
            "type": "scatterpolargl"
           }
          ],
          "scatterternary": [
           {
            "marker": {
             "colorbar": {
              "outlinewidth": 0,
              "ticks": ""
             }
            },
            "type": "scatterternary"
           }
          ],
          "surface": [
           {
            "colorbar": {
             "outlinewidth": 0,
             "ticks": ""
            },
            "colorscale": [
             [
              0,
              "#0d0887"
             ],
             [
              0.1111111111111111,
              "#46039f"
             ],
             [
              0.2222222222222222,
              "#7201a8"
             ],
             [
              0.3333333333333333,
              "#9c179e"
             ],
             [
              0.4444444444444444,
              "#bd3786"
             ],
             [
              0.5555555555555556,
              "#d8576b"
             ],
             [
              0.6666666666666666,
              "#ed7953"
             ],
             [
              0.7777777777777778,
              "#fb9f3a"
             ],
             [
              0.8888888888888888,
              "#fdca26"
             ],
             [
              1,
              "#f0f921"
             ]
            ],
            "type": "surface"
           }
          ],
          "table": [
           {
            "cells": {
             "fill": {
              "color": "#EBF0F8"
             },
             "line": {
              "color": "white"
             }
            },
            "header": {
             "fill": {
              "color": "#C8D4E3"
             },
             "line": {
              "color": "white"
             }
            },
            "type": "table"
           }
          ]
         },
         "layout": {
          "annotationdefaults": {
           "arrowcolor": "#2a3f5f",
           "arrowhead": 0,
           "arrowwidth": 1
          },
          "coloraxis": {
           "colorbar": {
            "outlinewidth": 0,
            "ticks": ""
           }
          },
          "colorscale": {
           "diverging": [
            [
             0,
             "#8e0152"
            ],
            [
             0.1,
             "#c51b7d"
            ],
            [
             0.2,
             "#de77ae"
            ],
            [
             0.3,
             "#f1b6da"
            ],
            [
             0.4,
             "#fde0ef"
            ],
            [
             0.5,
             "#f7f7f7"
            ],
            [
             0.6,
             "#e6f5d0"
            ],
            [
             0.7,
             "#b8e186"
            ],
            [
             0.8,
             "#7fbc41"
            ],
            [
             0.9,
             "#4d9221"
            ],
            [
             1,
             "#276419"
            ]
           ],
           "sequential": [
            [
             0,
             "#0d0887"
            ],
            [
             0.1111111111111111,
             "#46039f"
            ],
            [
             0.2222222222222222,
             "#7201a8"
            ],
            [
             0.3333333333333333,
             "#9c179e"
            ],
            [
             0.4444444444444444,
             "#bd3786"
            ],
            [
             0.5555555555555556,
             "#d8576b"
            ],
            [
             0.6666666666666666,
             "#ed7953"
            ],
            [
             0.7777777777777778,
             "#fb9f3a"
            ],
            [
             0.8888888888888888,
             "#fdca26"
            ],
            [
             1,
             "#f0f921"
            ]
           ],
           "sequentialminus": [
            [
             0,
             "#0d0887"
            ],
            [
             0.1111111111111111,
             "#46039f"
            ],
            [
             0.2222222222222222,
             "#7201a8"
            ],
            [
             0.3333333333333333,
             "#9c179e"
            ],
            [
             0.4444444444444444,
             "#bd3786"
            ],
            [
             0.5555555555555556,
             "#d8576b"
            ],
            [
             0.6666666666666666,
             "#ed7953"
            ],
            [
             0.7777777777777778,
             "#fb9f3a"
            ],
            [
             0.8888888888888888,
             "#fdca26"
            ],
            [
             1,
             "#f0f921"
            ]
           ]
          },
          "colorway": [
           "#636efa",
           "#EF553B",
           "#00cc96",
           "#ab63fa",
           "#FFA15A",
           "#19d3f3",
           "#FF6692",
           "#B6E880",
           "#FF97FF",
           "#FECB52"
          ],
          "font": {
           "color": "#2a3f5f"
          },
          "geo": {
           "bgcolor": "white",
           "lakecolor": "white",
           "landcolor": "#E5ECF6",
           "showlakes": true,
           "showland": true,
           "subunitcolor": "white"
          },
          "hoverlabel": {
           "align": "left"
          },
          "hovermode": "closest",
          "mapbox": {
           "style": "light"
          },
          "paper_bgcolor": "white",
          "plot_bgcolor": "#E5ECF6",
          "polar": {
           "angularaxis": {
            "gridcolor": "white",
            "linecolor": "white",
            "ticks": ""
           },
           "bgcolor": "#E5ECF6",
           "radialaxis": {
            "gridcolor": "white",
            "linecolor": "white",
            "ticks": ""
           }
          },
          "scene": {
           "xaxis": {
            "backgroundcolor": "#E5ECF6",
            "gridcolor": "white",
            "gridwidth": 2,
            "linecolor": "white",
            "showbackground": true,
            "ticks": "",
            "zerolinecolor": "white"
           },
           "yaxis": {
            "backgroundcolor": "#E5ECF6",
            "gridcolor": "white",
            "gridwidth": 2,
            "linecolor": "white",
            "showbackground": true,
            "ticks": "",
            "zerolinecolor": "white"
           },
           "zaxis": {
            "backgroundcolor": "#E5ECF6",
            "gridcolor": "white",
            "gridwidth": 2,
            "linecolor": "white",
            "showbackground": true,
            "ticks": "",
            "zerolinecolor": "white"
           }
          },
          "shapedefaults": {
           "line": {
            "color": "#2a3f5f"
           }
          },
          "ternary": {
           "aaxis": {
            "gridcolor": "white",
            "linecolor": "white",
            "ticks": ""
           },
           "baxis": {
            "gridcolor": "white",
            "linecolor": "white",
            "ticks": ""
           },
           "bgcolor": "#E5ECF6",
           "caxis": {
            "gridcolor": "white",
            "linecolor": "white",
            "ticks": ""
           }
          },
          "title": {
           "x": 0.05
          },
          "xaxis": {
           "automargin": true,
           "gridcolor": "white",
           "linecolor": "white",
           "ticks": "",
           "title": {
            "standoff": 15
           },
           "zerolinecolor": "white",
           "zerolinewidth": 2
          },
          "yaxis": {
           "automargin": true,
           "gridcolor": "white",
           "linecolor": "white",
           "ticks": "",
           "title": {
            "standoff": 15
           },
           "zerolinecolor": "white",
           "zerolinewidth": 2
          }
         }
        },
        "title": {
         "text": "Absolute waste of Biologische spekreepjes per week"
        },
        "xaxis": {
         "anchor": "y",
         "domain": [
          0,
          1
         ],
         "title": {
          "text": "week"
         }
        },
        "yaxis": {
         "anchor": "x",
         "domain": [
          0,
          1
         ],
         "title": {
          "text": "Waste amount"
         }
        }
       }
      }
     },
     "metadata": {}
    }
   ],
   "source": [
    "import plotly.express as px\n",
    "fig = px.line(waste_group, x = \"week\", y = \"waste nn\", title=\"Absolute waste of {} per week\".format(product))\n",
    "fig.add_scatter(x=waste_group[\"week\"], y=waste_group[\"amount\"], mode=\"lines\")\n",
    "fig.add_scatter(x=waste_group[\"week\"], y=waste_group[\"weekly purchases\"], mode=\"lines\")\n",
    "fig.update_yaxes(title=\"Waste amount\")\n",
    "fig.show()"
   ]
  },
  {
   "cell_type": "code",
   "execution_count": 112,
   "metadata": {},
   "outputs": [
    {
     "output_type": "execute_result",
     "data": {
      "text/plain": [
       "day\n",
       "2018-01-01       8\n",
       "2018-01-02      13\n",
       "2018-01-03      18\n",
       "2018-01-04      30\n",
       "2018-01-05      40\n",
       "              ... \n",
       "2018-12-26    2913\n",
       "2018-12-27    2918\n",
       "2018-12-28    2921\n",
       "2018-12-29    2934\n",
       "2018-12-30    2943\n",
       "Name: product_id, Length: 364, dtype: int64"
      ]
     },
     "metadata": {},
     "execution_count": 112
    }
   ],
   "source": [
    "purchases_per_day"
   ]
  },
  {
   "cell_type": "code",
   "execution_count": 71,
   "metadata": {},
   "outputs": [],
   "source": [
    "transactions[\"day\"] = pd.to_datetime(transactions[\"day\"])\n",
    "filter_transactions = transactions[transactions[\"description\"] == product]"
   ]
  },
  {
   "cell_type": "code",
   "execution_count": 86,
   "metadata": {},
   "outputs": [
    {
     "output_type": "execute_result",
     "data": {
      "text/plain": [
       "             day      time  customer  bank acount   category product_id  \\\n",
       "89    2018-01-01  10:40:13       6.0   54211938.0  vegetable        v_1   \n",
       "467   2018-01-01  14:21:35      26.0   51433968.0  vegetable        v_1   \n",
       "573   2018-01-01  15:36:46      33.0   30794082.0  vegetable        v_1   \n",
       "700   2018-01-01  16:56:20      39.0   15832817.0  vegetable        v_1   \n",
       "808   2018-01-01  18:15:29      46.0   90399261.0  vegetable        v_1   \n",
       "821   2018-01-01  18:15:29      46.0   90399261.0  vegetable        v_1   \n",
       "824   2018-01-01  18:15:29      46.0   90399261.0  vegetable        v_1   \n",
       "879   2018-01-01  18:46:48      49.0   15382238.0  vegetable        v_1   \n",
       "29093 2018-01-02  12:52:06    1714.0   28719528.0  vegetable        v_1   \n",
       "29134 2018-01-02  13:44:14    1718.0   39309224.0  vegetable        v_1   \n",
       "29295 2018-01-02  15:15:43    1728.0    8997496.0  vegetable        v_1   \n",
       "29445 2018-01-02  17:57:52    1737.0   34052285.0  vegetable        v_1   \n",
       "29559 2018-01-02  18:51:21    1745.0   50106779.0  vegetable        v_1   \n",
       "55959 2018-01-03   9:22:58    3327.0          NaN  vegetable        v_1   \n",
       "56275 2018-01-03  13:35:26    3346.0   73805186.0  vegetable        v_1   \n",
       "56537 2018-01-03  16:48:00    3364.0   73806149.0  vegetable        v_1   \n",
       "56586 2018-01-03  17:58:20    3369.0     319898.0  vegetable        v_1   \n",
       "56613 2018-01-03  18:20:23    3370.0   98645816.0  vegetable        v_1   \n",
       "\n",
       "      description size  std_sales_price  purchase_price  bio  basic  \n",
       "89      Komkommer  1st             0.69            0.69  0.0    0.0  \n",
       "467     Komkommer  1st             0.69            0.69  0.0    0.0  \n",
       "573     Komkommer  1st             0.69            0.69  0.0    0.0  \n",
       "700     Komkommer  1st             0.69            0.69  0.0    0.0  \n",
       "808     Komkommer  1st             0.69            0.69  0.0    0.0  \n",
       "821     Komkommer  1st             0.69            0.69  0.0    0.0  \n",
       "824     Komkommer  1st             0.69            0.69  0.0    0.0  \n",
       "879     Komkommer  1st             0.69            0.69  0.0    0.0  \n",
       "29093   Komkommer  1st             0.69            0.69  0.0    0.0  \n",
       "29134   Komkommer  1st             0.69            0.69  0.0    0.0  \n",
       "29295   Komkommer  1st             0.69            0.69  0.0    0.0  \n",
       "29445   Komkommer  1st             0.69            0.69  0.0    0.0  \n",
       "29559   Komkommer  1st             0.69            0.69  0.0    0.0  \n",
       "55959   Komkommer  1st             0.69            0.69  0.0    0.0  \n",
       "56275   Komkommer  1st             0.69            0.69  0.0    0.0  \n",
       "56537   Komkommer  1st             0.69            0.69  0.0    0.0  \n",
       "56586   Komkommer  1st             0.69            0.69  0.0    0.0  \n",
       "56613   Komkommer  1st             0.69            0.69  0.0    0.0  "
      ],
      "text/html": "<div>\n<style scoped>\n    .dataframe tbody tr th:only-of-type {\n        vertical-align: middle;\n    }\n\n    .dataframe tbody tr th {\n        vertical-align: top;\n    }\n\n    .dataframe thead th {\n        text-align: right;\n    }\n</style>\n<table border=\"1\" class=\"dataframe\">\n  <thead>\n    <tr style=\"text-align: right;\">\n      <th></th>\n      <th>day</th>\n      <th>time</th>\n      <th>customer</th>\n      <th>bank acount</th>\n      <th>category</th>\n      <th>product_id</th>\n      <th>description</th>\n      <th>size</th>\n      <th>std_sales_price</th>\n      <th>purchase_price</th>\n      <th>bio</th>\n      <th>basic</th>\n    </tr>\n  </thead>\n  <tbody>\n    <tr>\n      <th>89</th>\n      <td>2018-01-01</td>\n      <td>10:40:13</td>\n      <td>6.0</td>\n      <td>54211938.0</td>\n      <td>vegetable</td>\n      <td>v_1</td>\n      <td>Komkommer</td>\n      <td>1st</td>\n      <td>0.69</td>\n      <td>0.69</td>\n      <td>0.0</td>\n      <td>0.0</td>\n    </tr>\n    <tr>\n      <th>467</th>\n      <td>2018-01-01</td>\n      <td>14:21:35</td>\n      <td>26.0</td>\n      <td>51433968.0</td>\n      <td>vegetable</td>\n      <td>v_1</td>\n      <td>Komkommer</td>\n      <td>1st</td>\n      <td>0.69</td>\n      <td>0.69</td>\n      <td>0.0</td>\n      <td>0.0</td>\n    </tr>\n    <tr>\n      <th>573</th>\n      <td>2018-01-01</td>\n      <td>15:36:46</td>\n      <td>33.0</td>\n      <td>30794082.0</td>\n      <td>vegetable</td>\n      <td>v_1</td>\n      <td>Komkommer</td>\n      <td>1st</td>\n      <td>0.69</td>\n      <td>0.69</td>\n      <td>0.0</td>\n      <td>0.0</td>\n    </tr>\n    <tr>\n      <th>700</th>\n      <td>2018-01-01</td>\n      <td>16:56:20</td>\n      <td>39.0</td>\n      <td>15832817.0</td>\n      <td>vegetable</td>\n      <td>v_1</td>\n      <td>Komkommer</td>\n      <td>1st</td>\n      <td>0.69</td>\n      <td>0.69</td>\n      <td>0.0</td>\n      <td>0.0</td>\n    </tr>\n    <tr>\n      <th>808</th>\n      <td>2018-01-01</td>\n      <td>18:15:29</td>\n      <td>46.0</td>\n      <td>90399261.0</td>\n      <td>vegetable</td>\n      <td>v_1</td>\n      <td>Komkommer</td>\n      <td>1st</td>\n      <td>0.69</td>\n      <td>0.69</td>\n      <td>0.0</td>\n      <td>0.0</td>\n    </tr>\n    <tr>\n      <th>821</th>\n      <td>2018-01-01</td>\n      <td>18:15:29</td>\n      <td>46.0</td>\n      <td>90399261.0</td>\n      <td>vegetable</td>\n      <td>v_1</td>\n      <td>Komkommer</td>\n      <td>1st</td>\n      <td>0.69</td>\n      <td>0.69</td>\n      <td>0.0</td>\n      <td>0.0</td>\n    </tr>\n    <tr>\n      <th>824</th>\n      <td>2018-01-01</td>\n      <td>18:15:29</td>\n      <td>46.0</td>\n      <td>90399261.0</td>\n      <td>vegetable</td>\n      <td>v_1</td>\n      <td>Komkommer</td>\n      <td>1st</td>\n      <td>0.69</td>\n      <td>0.69</td>\n      <td>0.0</td>\n      <td>0.0</td>\n    </tr>\n    <tr>\n      <th>879</th>\n      <td>2018-01-01</td>\n      <td>18:46:48</td>\n      <td>49.0</td>\n      <td>15382238.0</td>\n      <td>vegetable</td>\n      <td>v_1</td>\n      <td>Komkommer</td>\n      <td>1st</td>\n      <td>0.69</td>\n      <td>0.69</td>\n      <td>0.0</td>\n      <td>0.0</td>\n    </tr>\n    <tr>\n      <th>29093</th>\n      <td>2018-01-02</td>\n      <td>12:52:06</td>\n      <td>1714.0</td>\n      <td>28719528.0</td>\n      <td>vegetable</td>\n      <td>v_1</td>\n      <td>Komkommer</td>\n      <td>1st</td>\n      <td>0.69</td>\n      <td>0.69</td>\n      <td>0.0</td>\n      <td>0.0</td>\n    </tr>\n    <tr>\n      <th>29134</th>\n      <td>2018-01-02</td>\n      <td>13:44:14</td>\n      <td>1718.0</td>\n      <td>39309224.0</td>\n      <td>vegetable</td>\n      <td>v_1</td>\n      <td>Komkommer</td>\n      <td>1st</td>\n      <td>0.69</td>\n      <td>0.69</td>\n      <td>0.0</td>\n      <td>0.0</td>\n    </tr>\n    <tr>\n      <th>29295</th>\n      <td>2018-01-02</td>\n      <td>15:15:43</td>\n      <td>1728.0</td>\n      <td>8997496.0</td>\n      <td>vegetable</td>\n      <td>v_1</td>\n      <td>Komkommer</td>\n      <td>1st</td>\n      <td>0.69</td>\n      <td>0.69</td>\n      <td>0.0</td>\n      <td>0.0</td>\n    </tr>\n    <tr>\n      <th>29445</th>\n      <td>2018-01-02</td>\n      <td>17:57:52</td>\n      <td>1737.0</td>\n      <td>34052285.0</td>\n      <td>vegetable</td>\n      <td>v_1</td>\n      <td>Komkommer</td>\n      <td>1st</td>\n      <td>0.69</td>\n      <td>0.69</td>\n      <td>0.0</td>\n      <td>0.0</td>\n    </tr>\n    <tr>\n      <th>29559</th>\n      <td>2018-01-02</td>\n      <td>18:51:21</td>\n      <td>1745.0</td>\n      <td>50106779.0</td>\n      <td>vegetable</td>\n      <td>v_1</td>\n      <td>Komkommer</td>\n      <td>1st</td>\n      <td>0.69</td>\n      <td>0.69</td>\n      <td>0.0</td>\n      <td>0.0</td>\n    </tr>\n    <tr>\n      <th>55959</th>\n      <td>2018-01-03</td>\n      <td>9:22:58</td>\n      <td>3327.0</td>\n      <td>NaN</td>\n      <td>vegetable</td>\n      <td>v_1</td>\n      <td>Komkommer</td>\n      <td>1st</td>\n      <td>0.69</td>\n      <td>0.69</td>\n      <td>0.0</td>\n      <td>0.0</td>\n    </tr>\n    <tr>\n      <th>56275</th>\n      <td>2018-01-03</td>\n      <td>13:35:26</td>\n      <td>3346.0</td>\n      <td>73805186.0</td>\n      <td>vegetable</td>\n      <td>v_1</td>\n      <td>Komkommer</td>\n      <td>1st</td>\n      <td>0.69</td>\n      <td>0.69</td>\n      <td>0.0</td>\n      <td>0.0</td>\n    </tr>\n    <tr>\n      <th>56537</th>\n      <td>2018-01-03</td>\n      <td>16:48:00</td>\n      <td>3364.0</td>\n      <td>73806149.0</td>\n      <td>vegetable</td>\n      <td>v_1</td>\n      <td>Komkommer</td>\n      <td>1st</td>\n      <td>0.69</td>\n      <td>0.69</td>\n      <td>0.0</td>\n      <td>0.0</td>\n    </tr>\n    <tr>\n      <th>56586</th>\n      <td>2018-01-03</td>\n      <td>17:58:20</td>\n      <td>3369.0</td>\n      <td>319898.0</td>\n      <td>vegetable</td>\n      <td>v_1</td>\n      <td>Komkommer</td>\n      <td>1st</td>\n      <td>0.69</td>\n      <td>0.69</td>\n      <td>0.0</td>\n      <td>0.0</td>\n    </tr>\n    <tr>\n      <th>56613</th>\n      <td>2018-01-03</td>\n      <td>18:20:23</td>\n      <td>3370.0</td>\n      <td>98645816.0</td>\n      <td>vegetable</td>\n      <td>v_1</td>\n      <td>Komkommer</td>\n      <td>1st</td>\n      <td>0.69</td>\n      <td>0.69</td>\n      <td>0.0</td>\n      <td>0.0</td>\n    </tr>\n  </tbody>\n</table>\n</div>"
     },
     "metadata": {},
     "execution_count": 86
    }
   ],
   "source": [
    "daydate = df_date[df_date[\"day\"] == 2][\"date\"].values[0]\n",
    "\n",
    "filter_transactions[filter_transactions[\"day\"] <= daydate]\n"
   ]
  },
  {
   "cell_type": "code",
   "execution_count": 111,
   "metadata": {},
   "outputs": [
    {
     "output_type": "execute_result",
     "data": {
      "text/plain": [
       "day\n",
       "2018-01-01       8\n",
       "2018-01-02      13\n",
       "2018-01-03      18\n",
       "2018-01-04      30\n",
       "2018-01-05      40\n",
       "              ... \n",
       "2018-12-26    2913\n",
       "2018-12-27    2918\n",
       "2018-12-28    2921\n",
       "2018-12-29    2934\n",
       "2018-12-30    2943\n",
       "Name: product_id, Length: 364, dtype: int64"
      ]
     },
     "metadata": {},
     "execution_count": 111
    }
   ],
   "source": [
    "purchases_per_day = filter_transactions.groupby(\"day\").count()[\"product_id\"].cumsum()\n",
    "purchases_per_day"
   ]
  },
  {
   "cell_type": "code",
   "execution_count": 52,
   "metadata": {},
   "outputs": [
    {
     "output_type": "execute_result",
     "data": {
      "text/plain": [
       "numpy.datetime64('2018-01-15T00:00:00.000000000')"
      ]
     },
     "metadata": {},
     "execution_count": 52
    }
   ],
   "source": [
    "daydate"
   ]
  },
  {
   "cell_type": "code",
   "execution_count": 15,
   "metadata": {},
   "outputs": [],
   "source": [
    "dayofyear = list(range(365))\n",
    "date = [datetime.datetime(2018, 1, 1) + datetime.timedelta(day) for day in dayofyear]\n",
    "df_date = pd.DataFrame({\"day\":dayofyear, \"date\":date})"
   ]
  }
 ]
}