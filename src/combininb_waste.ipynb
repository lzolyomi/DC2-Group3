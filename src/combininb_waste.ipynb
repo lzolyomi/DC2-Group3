{
 "metadata": {
  "language_info": {
   "codemirror_mode": {
    "name": "ipython",
    "version": 3
   },
   "file_extension": ".py",
   "mimetype": "text/x-python",
   "name": "python",
   "nbconvert_exporter": "python",
   "pygments_lexer": "ipython3",
   "version": "3.8.2"
  },
  "orig_nbformat": 2,
  "kernelspec": {
   "name": "python382jvsc74a57bd01baa965d5efe3ac65b79dfc60c0d706280b1da80fedb7760faf2759126c4f253",
   "display_name": "Python 3.8.2 64-bit"
  },
  "metadata": {
   "interpreter": {
    "hash": "1baa965d5efe3ac65b79dfc60c0d706280b1da80fedb7760faf2759126c4f253"
   }
  }
 },
 "nbformat": 4,
 "nbformat_minor": 2,
 "cells": [
  {
   "cell_type": "code",
   "execution_count": 6,
   "metadata": {},
   "outputs": [],
   "source": [
    "import pandas as pd\n",
    "import numpy as np \n",
    "import datetime\n",
    "import ast\n",
    "from waste_functions import predicted_demand, waste_analysis\n",
    "inventory = pd.read_csv(\"data/inventory.csv\")\n",
    "products = pd.read_csv(\"data/products.csv\")\n",
    "promotions = pd.read_csv(\"data/promotions.csv\")\n",
    "transactions = pd.read_csv(\"data/transactions.csv\")\n",
    "discount_per_day = pd.read_csv(\"nr_discounts_per_day.csv\")\n",
    "pd.set_option('mode.chained_assignment', None) #turns off pandas warnings\n",
    "#create a reference dataframe\n",
    "dayofyear = list(range(365))\n",
    "date = [datetime.datetime(2018, 1, 1) + datetime.timedelta(day) for day in dayofyear]\n",
    "df_date = pd.DataFrame({\"day\":dayofyear, \"date\":date})\n",
    "\n",
    "tup_list2 = [('Blauwe bessen', '150g'), ('Rundergehakt', '300g '), ('Unox Gelderse rookworst', '285g'), ('Biologisch rundergehakt', '300g')]\n",
    "for pair in tup_list2:\n",
    "\n",
    "    transactions.loc[transactions[(transactions['description'] == pair[0]) & (transactions['size'] == pair[1])].index, 'description'] = pair[0] + '.1'\n",
    "\n",
    "    products.loc[products[(products['description'] == pair[0]) & (products['size'] == pair[1])].index, 'description'] = pair[0] + '.1'\n",
    "\n",
    "#for colname in inventory.columns[2:]:\n",
    "#    inventory[colname] = [ast.literal_eval(i) for i in inventory[colname]]\n",
    "    #converting inventory rows to list of tuples from string\n",
    "\n",
    "product = \"Biologische brocolli\" # item to be analyzed\n",
    "filtered_transactions = transactions[transactions[\"description\"] == product]\n",
    "filtered_inventory = inventory[[\"day\", \"before or after delivery\", product]]"
   ]
  },
  {
   "source": [
    "## Testing `waste analysis` function "
   ],
   "cell_type": "markdown",
   "metadata": {}
  },
  {
   "cell_type": "code",
   "execution_count": 7,
   "metadata": {},
   "outputs": [
    {
     "output_type": "stream",
     "name": "stdout",
     "text": [
      "(101, 7)\n",
      "Extended waste dataframe created\n",
      "Data prepared for prediction\n",
      "Model fitted; test set metrics: MAE: 1.8313170478097898 MSE: 4.959650043989804, R^2 score: -0.14613332060051532\n",
      "Demand function fitted\n",
      "Average of actual/estimated purchase ratios: 1.0003016335273742\n",
      "Waste change predicted, calculating revenue loss...\n"
     ]
    }
   ],
   "source": [
    "complimentary = \"Biologisch volkoren heel\"\n",
    "from sklearn.ensemble import RandomForestRegressor\n",
    "from sklearn.tree import DecisionTreeRegressor\n",
    "rf = RandomForestRegressor(n_estimators=50)\n",
    "dtc = DecisionTreeRegressor(criterion=\"mae\")\n",
    "output_full = waste_analysis(inventory, transactions, products, product, discount_per_day=discount_per_day)\n"
   ]
  },
  {
   "cell_type": "code",
   "execution_count": 11,
   "metadata": {},
   "outputs": [
    {
     "output_type": "execute_result",
     "data": {
      "text/plain": [
       "False"
      ]
     },
     "metadata": {},
     "execution_count": 11
    }
   ],
   "source": [
    "len(output_full[output_full[\"remaining_stock\"]-(output_full[\"predicted demand\"]-output_full[\"purchases\"]) < 0]) > 0"
   ]
  },
  {
   "cell_type": "code",
   "execution_count": 8,
   "metadata": {},
   "outputs": [
    {
     "output_type": "execute_result",
     "data": {
      "text/plain": [
       "{'loss revenue': 2399.19,\n",
       " 'loss profit': 1848.97,\n",
       " 'waste cost': 550.22,\n",
       " 'expected loss revenue': 1545.65,\n",
       " 'expected loss profit': 1147.54,\n",
       " 'expected waste cost': 398.11}"
      ]
     },
     "metadata": {},
     "execution_count": 8
    }
   ],
   "source": [
    "money_cols = [\"loss revenue\", \"loss profit\", \"waste cost\", \"expected loss revenue\", \"expected loss profit\", \"expected waste cost\"]\n",
    "values = output_full[money_cols].sum().values.round(2)\n",
    "dct = {}\n",
    "i = 0\n",
    "for name in money_cols:\n",
    "    dct[name] = values[i]\n",
    "    i += 1\n",
    "dct "
   ]
  },
  {
   "cell_type": "code",
   "execution_count": 10,
   "metadata": {},
   "outputs": [
    {
     "output_type": "execute_result",
     "data": {
      "text/plain": [
       "         Metric                 Method  values product\n",
       "0  Loss revenue                 Actual  2399.2    name\n",
       "1   Loss profit                 Actual  1849.0    name\n",
       "2    Waste cost                 Actual   550.2    name\n",
       "3  Loss revenue  Predicted w/discounts  1545.6    name\n",
       "4   Loss profit  Predicted w/discounts  1147.5    name\n",
       "5    Waste cost  Predicted w/discounts   398.1    name"
      ],
      "text/html": "<div>\n<style scoped>\n    .dataframe tbody tr th:only-of-type {\n        vertical-align: middle;\n    }\n\n    .dataframe tbody tr th {\n        vertical-align: top;\n    }\n\n    .dataframe thead th {\n        text-align: right;\n    }\n</style>\n<table border=\"1\" class=\"dataframe\">\n  <thead>\n    <tr style=\"text-align: right;\">\n      <th></th>\n      <th>Metric</th>\n      <th>Method</th>\n      <th>values</th>\n      <th>product</th>\n    </tr>\n  </thead>\n  <tbody>\n    <tr>\n      <th>0</th>\n      <td>Loss revenue</td>\n      <td>Actual</td>\n      <td>2399.2</td>\n      <td>name</td>\n    </tr>\n    <tr>\n      <th>1</th>\n      <td>Loss profit</td>\n      <td>Actual</td>\n      <td>1849.0</td>\n      <td>name</td>\n    </tr>\n    <tr>\n      <th>2</th>\n      <td>Waste cost</td>\n      <td>Actual</td>\n      <td>550.2</td>\n      <td>name</td>\n    </tr>\n    <tr>\n      <th>3</th>\n      <td>Loss revenue</td>\n      <td>Predicted w/discounts</td>\n      <td>1545.6</td>\n      <td>name</td>\n    </tr>\n    <tr>\n      <th>4</th>\n      <td>Loss profit</td>\n      <td>Predicted w/discounts</td>\n      <td>1147.5</td>\n      <td>name</td>\n    </tr>\n    <tr>\n      <th>5</th>\n      <td>Waste cost</td>\n      <td>Predicted w/discounts</td>\n      <td>398.1</td>\n      <td>name</td>\n    </tr>\n  </tbody>\n</table>\n</div>"
     },
     "metadata": {},
     "execution_count": 10
    }
   ],
   "source": [
    "results = pd.DataFrame({\"Metric\":[\"Loss revenue\", \"Loss profit\", \"Waste cost\",\"Loss revenue\", \"Loss profit\", \"Waste cost\"], \"Method\":[\"Actual\", \"Actual\", \"Actual\", \"Predicted w/discounts\", \"Predicted w/discounts\", \"Predicted w/discounts\"], \"values\":output_full[money_cols].sum().values.round(1)})\n",
    "results[\"product\"] = [\"name\", \"name\", \"name\", \"name\", \"name\", \"name\"]\n",
    "results"
   ]
  },
  {
   "cell_type": "code",
   "execution_count": 11,
   "metadata": {},
   "outputs": [
    {
     "output_type": "display_data",
     "data": {
      "application/vnd.plotly.v1+json": {
       "config": {
        "plotlyServerURL": "https://plot.ly"
       },
       "data": [
        {
         "alignmentgroup": "True",
         "hovertemplate": "Method=Actual<br>Metric=%{x}<br>values=%{text}<extra></extra>",
         "legendgroup": "Actual",
         "marker": {
          "color": "#636efa"
         },
         "name": "Actual",
         "offsetgroup": "Actual",
         "orientation": "v",
         "showlegend": true,
         "text": [
          2399.2,
          1849,
          550.2
         ],
         "textposition": "auto",
         "type": "bar",
         "x": [
          "Loss revenue",
          "Loss profit",
          "Waste cost"
         ],
         "xaxis": "x",
         "y": [
          2399.2,
          1849,
          550.2
         ],
         "yaxis": "y"
        },
        {
         "alignmentgroup": "True",
         "hovertemplate": "Method=Predicted w/discounts<br>Metric=%{x}<br>values=%{text}<extra></extra>",
         "legendgroup": "Predicted w/discounts",
         "marker": {
          "color": "#EF553B"
         },
         "name": "Predicted w/discounts",
         "offsetgroup": "Predicted w/discounts",
         "orientation": "v",
         "showlegend": true,
         "text": [
          1545.6,
          1147.5,
          398.1
         ],
         "textposition": "auto",
         "type": "bar",
         "x": [
          "Loss revenue",
          "Loss profit",
          "Waste cost"
         ],
         "xaxis": "x",
         "y": [
          1545.6,
          1147.5,
          398.1
         ],
         "yaxis": "y"
        }
       ],
       "layout": {
        "barmode": "group",
        "height": 700,
        "legend": {
         "title": {
          "text": "Method"
         },
         "tracegroupgap": 0
        },
        "margin": {
         "t": 60
        },
        "paper_bgcolor": "rgba(0,0,0,0)",
        "showlegend": false,
        "template": {
         "data": {
          "bar": [
           {
            "error_x": {
             "color": "#2a3f5f"
            },
            "error_y": {
             "color": "#2a3f5f"
            },
            "marker": {
             "line": {
              "color": "#E5ECF6",
              "width": 0.5
             }
            },
            "type": "bar"
           }
          ],
          "barpolar": [
           {
            "marker": {
             "line": {
              "color": "#E5ECF6",
              "width": 0.5
             }
            },
            "type": "barpolar"
           }
          ],
          "carpet": [
           {
            "aaxis": {
             "endlinecolor": "#2a3f5f",
             "gridcolor": "white",
             "linecolor": "white",
             "minorgridcolor": "white",
             "startlinecolor": "#2a3f5f"
            },
            "baxis": {
             "endlinecolor": "#2a3f5f",
             "gridcolor": "white",
             "linecolor": "white",
             "minorgridcolor": "white",
             "startlinecolor": "#2a3f5f"
            },
            "type": "carpet"
           }
          ],
          "choropleth": [
           {
            "colorbar": {
             "outlinewidth": 0,
             "ticks": ""
            },
            "type": "choropleth"
           }
          ],
          "contour": [
           {
            "colorbar": {
             "outlinewidth": 0,
             "ticks": ""
            },
            "colorscale": [
             [
              0,
              "#0d0887"
             ],
             [
              0.1111111111111111,
              "#46039f"
             ],
             [
              0.2222222222222222,
              "#7201a8"
             ],
             [
              0.3333333333333333,
              "#9c179e"
             ],
             [
              0.4444444444444444,
              "#bd3786"
             ],
             [
              0.5555555555555556,
              "#d8576b"
             ],
             [
              0.6666666666666666,
              "#ed7953"
             ],
             [
              0.7777777777777778,
              "#fb9f3a"
             ],
             [
              0.8888888888888888,
              "#fdca26"
             ],
             [
              1,
              "#f0f921"
             ]
            ],
            "type": "contour"
           }
          ],
          "contourcarpet": [
           {
            "colorbar": {
             "outlinewidth": 0,
             "ticks": ""
            },
            "type": "contourcarpet"
           }
          ],
          "heatmap": [
           {
            "colorbar": {
             "outlinewidth": 0,
             "ticks": ""
            },
            "colorscale": [
             [
              0,
              "#0d0887"
             ],
             [
              0.1111111111111111,
              "#46039f"
             ],
             [
              0.2222222222222222,
              "#7201a8"
             ],
             [
              0.3333333333333333,
              "#9c179e"
             ],
             [
              0.4444444444444444,
              "#bd3786"
             ],
             [
              0.5555555555555556,
              "#d8576b"
             ],
             [
              0.6666666666666666,
              "#ed7953"
             ],
             [
              0.7777777777777778,
              "#fb9f3a"
             ],
             [
              0.8888888888888888,
              "#fdca26"
             ],
             [
              1,
              "#f0f921"
             ]
            ],
            "type": "heatmap"
           }
          ],
          "heatmapgl": [
           {
            "colorbar": {
             "outlinewidth": 0,
             "ticks": ""
            },
            "colorscale": [
             [
              0,
              "#0d0887"
             ],
             [
              0.1111111111111111,
              "#46039f"
             ],
             [
              0.2222222222222222,
              "#7201a8"
             ],
             [
              0.3333333333333333,
              "#9c179e"
             ],
             [
              0.4444444444444444,
              "#bd3786"
             ],
             [
              0.5555555555555556,
              "#d8576b"
             ],
             [
              0.6666666666666666,
              "#ed7953"
             ],
             [
              0.7777777777777778,
              "#fb9f3a"
             ],
             [
              0.8888888888888888,
              "#fdca26"
             ],
             [
              1,
              "#f0f921"
             ]
            ],
            "type": "heatmapgl"
           }
          ],
          "histogram": [
           {
            "marker": {
             "colorbar": {
              "outlinewidth": 0,
              "ticks": ""
             }
            },
            "type": "histogram"
           }
          ],
          "histogram2d": [
           {
            "colorbar": {
             "outlinewidth": 0,
             "ticks": ""
            },
            "colorscale": [
             [
              0,
              "#0d0887"
             ],
             [
              0.1111111111111111,
              "#46039f"
             ],
             [
              0.2222222222222222,
              "#7201a8"
             ],
             [
              0.3333333333333333,
              "#9c179e"
             ],
             [
              0.4444444444444444,
              "#bd3786"
             ],
             [
              0.5555555555555556,
              "#d8576b"
             ],
             [
              0.6666666666666666,
              "#ed7953"
             ],
             [
              0.7777777777777778,
              "#fb9f3a"
             ],
             [
              0.8888888888888888,
              "#fdca26"
             ],
             [
              1,
              "#f0f921"
             ]
            ],
            "type": "histogram2d"
           }
          ],
          "histogram2dcontour": [
           {
            "colorbar": {
             "outlinewidth": 0,
             "ticks": ""
            },
            "colorscale": [
             [
              0,
              "#0d0887"
             ],
             [
              0.1111111111111111,
              "#46039f"
             ],
             [
              0.2222222222222222,
              "#7201a8"
             ],
             [
              0.3333333333333333,
              "#9c179e"
             ],
             [
              0.4444444444444444,
              "#bd3786"
             ],
             [
              0.5555555555555556,
              "#d8576b"
             ],
             [
              0.6666666666666666,
              "#ed7953"
             ],
             [
              0.7777777777777778,
              "#fb9f3a"
             ],
             [
              0.8888888888888888,
              "#fdca26"
             ],
             [
              1,
              "#f0f921"
             ]
            ],
            "type": "histogram2dcontour"
           }
          ],
          "mesh3d": [
           {
            "colorbar": {
             "outlinewidth": 0,
             "ticks": ""
            },
            "type": "mesh3d"
           }
          ],
          "parcoords": [
           {
            "line": {
             "colorbar": {
              "outlinewidth": 0,
              "ticks": ""
             }
            },
            "type": "parcoords"
           }
          ],
          "pie": [
           {
            "automargin": true,
            "type": "pie"
           }
          ],
          "scatter": [
           {
            "marker": {
             "colorbar": {
              "outlinewidth": 0,
              "ticks": ""
             }
            },
            "type": "scatter"
           }
          ],
          "scatter3d": [
           {
            "line": {
             "colorbar": {
              "outlinewidth": 0,
              "ticks": ""
             }
            },
            "marker": {
             "colorbar": {
              "outlinewidth": 0,
              "ticks": ""
             }
            },
            "type": "scatter3d"
           }
          ],
          "scattercarpet": [
           {
            "marker": {
             "colorbar": {
              "outlinewidth": 0,
              "ticks": ""
             }
            },
            "type": "scattercarpet"
           }
          ],
          "scattergeo": [
           {
            "marker": {
             "colorbar": {
              "outlinewidth": 0,
              "ticks": ""
             }
            },
            "type": "scattergeo"
           }
          ],
          "scattergl": [
           {
            "marker": {
             "colorbar": {
              "outlinewidth": 0,
              "ticks": ""
             }
            },
            "type": "scattergl"
           }
          ],
          "scattermapbox": [
           {
            "marker": {
             "colorbar": {
              "outlinewidth": 0,
              "ticks": ""
             }
            },
            "type": "scattermapbox"
           }
          ],
          "scatterpolar": [
           {
            "marker": {
             "colorbar": {
              "outlinewidth": 0,
              "ticks": ""
             }
            },
            "type": "scatterpolar"
           }
          ],
          "scatterpolargl": [
           {
            "marker": {
             "colorbar": {
              "outlinewidth": 0,
              "ticks": ""
             }
            },
            "type": "scatterpolargl"
           }
          ],
          "scatterternary": [
           {
            "marker": {
             "colorbar": {
              "outlinewidth": 0,
              "ticks": ""
             }
            },
            "type": "scatterternary"
           }
          ],
          "surface": [
           {
            "colorbar": {
             "outlinewidth": 0,
             "ticks": ""
            },
            "colorscale": [
             [
              0,
              "#0d0887"
             ],
             [
              0.1111111111111111,
              "#46039f"
             ],
             [
              0.2222222222222222,
              "#7201a8"
             ],
             [
              0.3333333333333333,
              "#9c179e"
             ],
             [
              0.4444444444444444,
              "#bd3786"
             ],
             [
              0.5555555555555556,
              "#d8576b"
             ],
             [
              0.6666666666666666,
              "#ed7953"
             ],
             [
              0.7777777777777778,
              "#fb9f3a"
             ],
             [
              0.8888888888888888,
              "#fdca26"
             ],
             [
              1,
              "#f0f921"
             ]
            ],
            "type": "surface"
           }
          ],
          "table": [
           {
            "cells": {
             "fill": {
              "color": "#EBF0F8"
             },
             "line": {
              "color": "white"
             }
            },
            "header": {
             "fill": {
              "color": "#C8D4E3"
             },
             "line": {
              "color": "white"
             }
            },
            "type": "table"
           }
          ]
         },
         "layout": {
          "annotationdefaults": {
           "arrowcolor": "#2a3f5f",
           "arrowhead": 0,
           "arrowwidth": 1
          },
          "coloraxis": {
           "colorbar": {
            "outlinewidth": 0,
            "ticks": ""
           }
          },
          "colorscale": {
           "diverging": [
            [
             0,
             "#8e0152"
            ],
            [
             0.1,
             "#c51b7d"
            ],
            [
             0.2,
             "#de77ae"
            ],
            [
             0.3,
             "#f1b6da"
            ],
            [
             0.4,
             "#fde0ef"
            ],
            [
             0.5,
             "#f7f7f7"
            ],
            [
             0.6,
             "#e6f5d0"
            ],
            [
             0.7,
             "#b8e186"
            ],
            [
             0.8,
             "#7fbc41"
            ],
            [
             0.9,
             "#4d9221"
            ],
            [
             1,
             "#276419"
            ]
           ],
           "sequential": [
            [
             0,
             "#0d0887"
            ],
            [
             0.1111111111111111,
             "#46039f"
            ],
            [
             0.2222222222222222,
             "#7201a8"
            ],
            [
             0.3333333333333333,
             "#9c179e"
            ],
            [
             0.4444444444444444,
             "#bd3786"
            ],
            [
             0.5555555555555556,
             "#d8576b"
            ],
            [
             0.6666666666666666,
             "#ed7953"
            ],
            [
             0.7777777777777778,
             "#fb9f3a"
            ],
            [
             0.8888888888888888,
             "#fdca26"
            ],
            [
             1,
             "#f0f921"
            ]
           ],
           "sequentialminus": [
            [
             0,
             "#0d0887"
            ],
            [
             0.1111111111111111,
             "#46039f"
            ],
            [
             0.2222222222222222,
             "#7201a8"
            ],
            [
             0.3333333333333333,
             "#9c179e"
            ],
            [
             0.4444444444444444,
             "#bd3786"
            ],
            [
             0.5555555555555556,
             "#d8576b"
            ],
            [
             0.6666666666666666,
             "#ed7953"
            ],
            [
             0.7777777777777778,
             "#fb9f3a"
            ],
            [
             0.8888888888888888,
             "#fdca26"
            ],
            [
             1,
             "#f0f921"
            ]
           ]
          },
          "colorway": [
           "#636efa",
           "#EF553B",
           "#00cc96",
           "#ab63fa",
           "#FFA15A",
           "#19d3f3",
           "#FF6692",
           "#B6E880",
           "#FF97FF",
           "#FECB52"
          ],
          "font": {
           "color": "#2a3f5f"
          },
          "geo": {
           "bgcolor": "white",
           "lakecolor": "white",
           "landcolor": "#E5ECF6",
           "showlakes": true,
           "showland": true,
           "subunitcolor": "white"
          },
          "hoverlabel": {
           "align": "left"
          },
          "hovermode": "closest",
          "mapbox": {
           "style": "light"
          },
          "paper_bgcolor": "white",
          "plot_bgcolor": "#E5ECF6",
          "polar": {
           "angularaxis": {
            "gridcolor": "white",
            "linecolor": "white",
            "ticks": ""
           },
           "bgcolor": "#E5ECF6",
           "radialaxis": {
            "gridcolor": "white",
            "linecolor": "white",
            "ticks": ""
           }
          },
          "scene": {
           "xaxis": {
            "backgroundcolor": "#E5ECF6",
            "gridcolor": "white",
            "gridwidth": 2,
            "linecolor": "white",
            "showbackground": true,
            "ticks": "",
            "zerolinecolor": "white"
           },
           "yaxis": {
            "backgroundcolor": "#E5ECF6",
            "gridcolor": "white",
            "gridwidth": 2,
            "linecolor": "white",
            "showbackground": true,
            "ticks": "",
            "zerolinecolor": "white"
           },
           "zaxis": {
            "backgroundcolor": "#E5ECF6",
            "gridcolor": "white",
            "gridwidth": 2,
            "linecolor": "white",
            "showbackground": true,
            "ticks": "",
            "zerolinecolor": "white"
           }
          },
          "shapedefaults": {
           "line": {
            "color": "#2a3f5f"
           }
          },
          "ternary": {
           "aaxis": {
            "gridcolor": "white",
            "linecolor": "white",
            "ticks": ""
           },
           "baxis": {
            "gridcolor": "white",
            "linecolor": "white",
            "ticks": ""
           },
           "bgcolor": "#E5ECF6",
           "caxis": {
            "gridcolor": "white",
            "linecolor": "white",
            "ticks": ""
           }
          },
          "title": {
           "x": 0.05
          },
          "xaxis": {
           "automargin": true,
           "gridcolor": "white",
           "linecolor": "white",
           "ticks": "",
           "title": {
            "standoff": 15
           },
           "zerolinecolor": "white",
           "zerolinewidth": 2
          },
          "yaxis": {
           "automargin": true,
           "gridcolor": "white",
           "linecolor": "white",
           "ticks": "",
           "title": {
            "standoff": 15
           },
           "zerolinecolor": "white",
           "zerolinewidth": 2
          }
         }
        },
        "title": {
         "x": 0.5,
         "xanchor": "center",
         "y": 0.9,
         "yanchor": "top"
        },
        "width": 1000,
        "xaxis": {
         "anchor": "y",
         "domain": [
          0,
          1
         ],
         "title": {
          "text": "Product"
         }
        },
        "yaxis": {
         "anchor": "x",
         "domain": [
          0,
          1
         ],
         "title": {
          "text": "Out of Stock Event Count"
         }
        }
       }
      }
     },
     "metadata": {}
    }
   ],
   "source": [
    "import plotly.express as px\n",
    "fig = px.bar(results, x=\"Metric\", y='values', color=\"Method\", barmode='group', text=\"values\")\n",
    "fig.update_layout(showlegend=False, xaxis_title=\"Product\",\n",
    "    yaxis_title=\"Out of Stock Event Count\",width=1000,\n",
    "    height=700, title={\n",
    "                'y':0.9,\n",
    "        'x':0.5,\n",
    "        'xanchor': 'center',\n",
    "        'yanchor': 'top'},\n",
    "        paper_bgcolor='rgba(0,0,0,0)')\n",
    "fig.show()"
   ]
  },
  {
   "cell_type": "code",
   "execution_count": 29,
   "metadata": {},
   "outputs": [
    {
     "output_type": "execute_result",
     "data": {
      "text/plain": [
       "73.03975700396828"
      ]
     },
     "metadata": {},
     "execution_count": 29
    }
   ],
   "source": [
    "(output_copy[\"loss revenue\"]-output_copy[\"expected loss revenue\"]).mean()"
   ]
  },
  {
   "cell_type": "code",
   "execution_count": 12,
   "metadata": {},
   "outputs": [
    {
     "output_type": "display_data",
     "data": {
      "application/vnd.plotly.v1+json": {
       "config": {
        "plotlyServerURL": "https://plot.ly"
       },
       "data": [
        {
         "hovertemplate": "week=%{x}<br>MA7_exp=%{y}<extra></extra>",
         "legendgroup": "",
         "line": {
          "color": "#636efa",
          "dash": "solid"
         },
         "mode": "lines",
         "name": "",
         "orientation": "v",
         "showlegend": false,
         "type": "scatter",
         "x": [
          3,
          4,
          5,
          6,
          7,
          8,
          9,
          10,
          11,
          12,
          13,
          14,
          15,
          16,
          17,
          18,
          19,
          20,
          21,
          22,
          23,
          24,
          25,
          26,
          27,
          28,
          29,
          30,
          31,
          32,
          33,
          34,
          35,
          36,
          37,
          38,
          39,
          40,
          41,
          42,
          43,
          44,
          45,
          46,
          47,
          48,
          49,
          50,
          51,
          52
         ],
         "xaxis": "x",
         "y": [
          null,
          null,
          null,
          null,
          null,
          null,
          34.605357142857144,
          38.18535714285714,
          35.3725,
          33.5825,
          38.10964285714285,
          41.93714285714286,
          41.17000000000001,
          38.86857142857144,
          39.6357142857143,
          41.170000000000016,
          43.72714285714288,
          44.49428571428574,
          49.35285714285716,
          43.72714285714288,
          46.54000000000001,
          52.165714285714294,
          54.72285714285715,
          54.978571428571435,
          53.955714285714286,
          50.88714285714286,
          56.25714285714287,
          57.79142857142858,
          56.51285714285716,
          54.21142857142859,
          51.910000000000025,
          48.8414285714286,
          47.56285714285717,
          44.49428571428574,
          42.192857142857164,
          42.70428571428573,
          44.750000000000014,
          46.02857142857145,
          51.39857142857145,
          53.9557142857143,
          54.46714285714287,
          57.024285714285725,
          54.211428571428584,
          51.91000000000001,
          52.42142857142858,
          58.047142857142866,
          53.95571428571429,
          52.93285714285715,
          52.421428571428585,
          59.3257142857143
         ],
         "yaxis": "y"
        },
        {
         "mode": "lines",
         "name": "With discounts applied",
         "type": "scatter",
         "x": [
          3,
          4,
          5,
          6,
          7,
          8,
          9,
          10,
          11,
          12,
          13,
          14,
          15,
          16,
          17,
          18,
          19,
          20,
          21,
          22,
          23,
          24,
          25,
          26,
          27,
          28,
          29,
          30,
          31,
          32,
          33,
          34,
          35,
          36,
          37,
          38,
          39,
          40,
          41,
          42,
          43,
          44,
          45,
          46,
          47,
          48,
          49,
          50,
          51,
          52
         ],
         "y": [
          null,
          null,
          null,
          null,
          null,
          null,
          21.208571428571425,
          23.494285714285713,
          21.198571428571427,
          20.321428571428566,
          23.288571428571423,
          24.617142857142852,
          23.599999999999998,
          23.384285714285713,
          22.295714285714286,
          23.195714285714285,
          24.375714285714285,
          25.300000000000004,
          29.21857142857143,
          26.50857142857143,
          27.7,
          33.80571428571429,
          37.034285714285716,
          37.91571428571429,
          36.621428571428574,
          34.73142857142858,
          38.54428571428572,
          40.30428571428573,
          38.52000000000002,
          35.42428571428573,
          35.0657142857143,
          33.580000000000005,
          32.04285714285715,
          28.590000000000007,
          25.607142857142865,
          26.58000000000001,
          28.581428571428578,
          27.16142857142858,
          31.320000000000004,
          33.94571428571429,
          35.120000000000005,
          37.65285714285715,
          34.59857142857144,
          33.431428571428576,
          33.52,
          38.68714285714287,
          36.69285714285714,
          34.658571428571435,
          34.36285714285715,
          41.51285714285716
         ]
        }
       ],
       "layout": {
        "height": 700,
        "legend": {
         "tracegroupgap": 0
        },
        "paper_bgcolor": "rgba(0,0,0,0)",
        "showlegend": false,
        "template": {
         "data": {
          "bar": [
           {
            "error_x": {
             "color": "#2a3f5f"
            },
            "error_y": {
             "color": "#2a3f5f"
            },
            "marker": {
             "line": {
              "color": "#E5ECF6",
              "width": 0.5
             }
            },
            "type": "bar"
           }
          ],
          "barpolar": [
           {
            "marker": {
             "line": {
              "color": "#E5ECF6",
              "width": 0.5
             }
            },
            "type": "barpolar"
           }
          ],
          "carpet": [
           {
            "aaxis": {
             "endlinecolor": "#2a3f5f",
             "gridcolor": "white",
             "linecolor": "white",
             "minorgridcolor": "white",
             "startlinecolor": "#2a3f5f"
            },
            "baxis": {
             "endlinecolor": "#2a3f5f",
             "gridcolor": "white",
             "linecolor": "white",
             "minorgridcolor": "white",
             "startlinecolor": "#2a3f5f"
            },
            "type": "carpet"
           }
          ],
          "choropleth": [
           {
            "colorbar": {
             "outlinewidth": 0,
             "ticks": ""
            },
            "type": "choropleth"
           }
          ],
          "contour": [
           {
            "colorbar": {
             "outlinewidth": 0,
             "ticks": ""
            },
            "colorscale": [
             [
              0,
              "#0d0887"
             ],
             [
              0.1111111111111111,
              "#46039f"
             ],
             [
              0.2222222222222222,
              "#7201a8"
             ],
             [
              0.3333333333333333,
              "#9c179e"
             ],
             [
              0.4444444444444444,
              "#bd3786"
             ],
             [
              0.5555555555555556,
              "#d8576b"
             ],
             [
              0.6666666666666666,
              "#ed7953"
             ],
             [
              0.7777777777777778,
              "#fb9f3a"
             ],
             [
              0.8888888888888888,
              "#fdca26"
             ],
             [
              1,
              "#f0f921"
             ]
            ],
            "type": "contour"
           }
          ],
          "contourcarpet": [
           {
            "colorbar": {
             "outlinewidth": 0,
             "ticks": ""
            },
            "type": "contourcarpet"
           }
          ],
          "heatmap": [
           {
            "colorbar": {
             "outlinewidth": 0,
             "ticks": ""
            },
            "colorscale": [
             [
              0,
              "#0d0887"
             ],
             [
              0.1111111111111111,
              "#46039f"
             ],
             [
              0.2222222222222222,
              "#7201a8"
             ],
             [
              0.3333333333333333,
              "#9c179e"
             ],
             [
              0.4444444444444444,
              "#bd3786"
             ],
             [
              0.5555555555555556,
              "#d8576b"
             ],
             [
              0.6666666666666666,
              "#ed7953"
             ],
             [
              0.7777777777777778,
              "#fb9f3a"
             ],
             [
              0.8888888888888888,
              "#fdca26"
             ],
             [
              1,
              "#f0f921"
             ]
            ],
            "type": "heatmap"
           }
          ],
          "heatmapgl": [
           {
            "colorbar": {
             "outlinewidth": 0,
             "ticks": ""
            },
            "colorscale": [
             [
              0,
              "#0d0887"
             ],
             [
              0.1111111111111111,
              "#46039f"
             ],
             [
              0.2222222222222222,
              "#7201a8"
             ],
             [
              0.3333333333333333,
              "#9c179e"
             ],
             [
              0.4444444444444444,
              "#bd3786"
             ],
             [
              0.5555555555555556,
              "#d8576b"
             ],
             [
              0.6666666666666666,
              "#ed7953"
             ],
             [
              0.7777777777777778,
              "#fb9f3a"
             ],
             [
              0.8888888888888888,
              "#fdca26"
             ],
             [
              1,
              "#f0f921"
             ]
            ],
            "type": "heatmapgl"
           }
          ],
          "histogram": [
           {
            "marker": {
             "colorbar": {
              "outlinewidth": 0,
              "ticks": ""
             }
            },
            "type": "histogram"
           }
          ],
          "histogram2d": [
           {
            "colorbar": {
             "outlinewidth": 0,
             "ticks": ""
            },
            "colorscale": [
             [
              0,
              "#0d0887"
             ],
             [
              0.1111111111111111,
              "#46039f"
             ],
             [
              0.2222222222222222,
              "#7201a8"
             ],
             [
              0.3333333333333333,
              "#9c179e"
             ],
             [
              0.4444444444444444,
              "#bd3786"
             ],
             [
              0.5555555555555556,
              "#d8576b"
             ],
             [
              0.6666666666666666,
              "#ed7953"
             ],
             [
              0.7777777777777778,
              "#fb9f3a"
             ],
             [
              0.8888888888888888,
              "#fdca26"
             ],
             [
              1,
              "#f0f921"
             ]
            ],
            "type": "histogram2d"
           }
          ],
          "histogram2dcontour": [
           {
            "colorbar": {
             "outlinewidth": 0,
             "ticks": ""
            },
            "colorscale": [
             [
              0,
              "#0d0887"
             ],
             [
              0.1111111111111111,
              "#46039f"
             ],
             [
              0.2222222222222222,
              "#7201a8"
             ],
             [
              0.3333333333333333,
              "#9c179e"
             ],
             [
              0.4444444444444444,
              "#bd3786"
             ],
             [
              0.5555555555555556,
              "#d8576b"
             ],
             [
              0.6666666666666666,
              "#ed7953"
             ],
             [
              0.7777777777777778,
              "#fb9f3a"
             ],
             [
              0.8888888888888888,
              "#fdca26"
             ],
             [
              1,
              "#f0f921"
             ]
            ],
            "type": "histogram2dcontour"
           }
          ],
          "mesh3d": [
           {
            "colorbar": {
             "outlinewidth": 0,
             "ticks": ""
            },
            "type": "mesh3d"
           }
          ],
          "parcoords": [
           {
            "line": {
             "colorbar": {
              "outlinewidth": 0,
              "ticks": ""
             }
            },
            "type": "parcoords"
           }
          ],
          "pie": [
           {
            "automargin": true,
            "type": "pie"
           }
          ],
          "scatter": [
           {
            "marker": {
             "colorbar": {
              "outlinewidth": 0,
              "ticks": ""
             }
            },
            "type": "scatter"
           }
          ],
          "scatter3d": [
           {
            "line": {
             "colorbar": {
              "outlinewidth": 0,
              "ticks": ""
             }
            },
            "marker": {
             "colorbar": {
              "outlinewidth": 0,
              "ticks": ""
             }
            },
            "type": "scatter3d"
           }
          ],
          "scattercarpet": [
           {
            "marker": {
             "colorbar": {
              "outlinewidth": 0,
              "ticks": ""
             }
            },
            "type": "scattercarpet"
           }
          ],
          "scattergeo": [
           {
            "marker": {
             "colorbar": {
              "outlinewidth": 0,
              "ticks": ""
             }
            },
            "type": "scattergeo"
           }
          ],
          "scattergl": [
           {
            "marker": {
             "colorbar": {
              "outlinewidth": 0,
              "ticks": ""
             }
            },
            "type": "scattergl"
           }
          ],
          "scattermapbox": [
           {
            "marker": {
             "colorbar": {
              "outlinewidth": 0,
              "ticks": ""
             }
            },
            "type": "scattermapbox"
           }
          ],
          "scatterpolar": [
           {
            "marker": {
             "colorbar": {
              "outlinewidth": 0,
              "ticks": ""
             }
            },
            "type": "scatterpolar"
           }
          ],
          "scatterpolargl": [
           {
            "marker": {
             "colorbar": {
              "outlinewidth": 0,
              "ticks": ""
             }
            },
            "type": "scatterpolargl"
           }
          ],
          "scatterternary": [
           {
            "marker": {
             "colorbar": {
              "outlinewidth": 0,
              "ticks": ""
             }
            },
            "type": "scatterternary"
           }
          ],
          "surface": [
           {
            "colorbar": {
             "outlinewidth": 0,
             "ticks": ""
            },
            "colorscale": [
             [
              0,
              "#0d0887"
             ],
             [
              0.1111111111111111,
              "#46039f"
             ],
             [
              0.2222222222222222,
              "#7201a8"
             ],
             [
              0.3333333333333333,
              "#9c179e"
             ],
             [
              0.4444444444444444,
              "#bd3786"
             ],
             [
              0.5555555555555556,
              "#d8576b"
             ],
             [
              0.6666666666666666,
              "#ed7953"
             ],
             [
              0.7777777777777778,
              "#fb9f3a"
             ],
             [
              0.8888888888888888,
              "#fdca26"
             ],
             [
              1,
              "#f0f921"
             ]
            ],
            "type": "surface"
           }
          ],
          "table": [
           {
            "cells": {
             "fill": {
              "color": "#EBF0F8"
             },
             "line": {
              "color": "white"
             }
            },
            "header": {
             "fill": {
              "color": "#C8D4E3"
             },
             "line": {
              "color": "white"
             }
            },
            "type": "table"
           }
          ]
         },
         "layout": {
          "annotationdefaults": {
           "arrowcolor": "#2a3f5f",
           "arrowhead": 0,
           "arrowwidth": 1
          },
          "coloraxis": {
           "colorbar": {
            "outlinewidth": 0,
            "ticks": ""
           }
          },
          "colorscale": {
           "diverging": [
            [
             0,
             "#8e0152"
            ],
            [
             0.1,
             "#c51b7d"
            ],
            [
             0.2,
             "#de77ae"
            ],
            [
             0.3,
             "#f1b6da"
            ],
            [
             0.4,
             "#fde0ef"
            ],
            [
             0.5,
             "#f7f7f7"
            ],
            [
             0.6,
             "#e6f5d0"
            ],
            [
             0.7,
             "#b8e186"
            ],
            [
             0.8,
             "#7fbc41"
            ],
            [
             0.9,
             "#4d9221"
            ],
            [
             1,
             "#276419"
            ]
           ],
           "sequential": [
            [
             0,
             "#0d0887"
            ],
            [
             0.1111111111111111,
             "#46039f"
            ],
            [
             0.2222222222222222,
             "#7201a8"
            ],
            [
             0.3333333333333333,
             "#9c179e"
            ],
            [
             0.4444444444444444,
             "#bd3786"
            ],
            [
             0.5555555555555556,
             "#d8576b"
            ],
            [
             0.6666666666666666,
             "#ed7953"
            ],
            [
             0.7777777777777778,
             "#fb9f3a"
            ],
            [
             0.8888888888888888,
             "#fdca26"
            ],
            [
             1,
             "#f0f921"
            ]
           ],
           "sequentialminus": [
            [
             0,
             "#0d0887"
            ],
            [
             0.1111111111111111,
             "#46039f"
            ],
            [
             0.2222222222222222,
             "#7201a8"
            ],
            [
             0.3333333333333333,
             "#9c179e"
            ],
            [
             0.4444444444444444,
             "#bd3786"
            ],
            [
             0.5555555555555556,
             "#d8576b"
            ],
            [
             0.6666666666666666,
             "#ed7953"
            ],
            [
             0.7777777777777778,
             "#fb9f3a"
            ],
            [
             0.8888888888888888,
             "#fdca26"
            ],
            [
             1,
             "#f0f921"
            ]
           ]
          },
          "colorway": [
           "#636efa",
           "#EF553B",
           "#00cc96",
           "#ab63fa",
           "#FFA15A",
           "#19d3f3",
           "#FF6692",
           "#B6E880",
           "#FF97FF",
           "#FECB52"
          ],
          "font": {
           "color": "#2a3f5f"
          },
          "geo": {
           "bgcolor": "white",
           "lakecolor": "white",
           "landcolor": "#E5ECF6",
           "showlakes": true,
           "showland": true,
           "subunitcolor": "white"
          },
          "hoverlabel": {
           "align": "left"
          },
          "hovermode": "closest",
          "mapbox": {
           "style": "light"
          },
          "paper_bgcolor": "white",
          "plot_bgcolor": "#E5ECF6",
          "polar": {
           "angularaxis": {
            "gridcolor": "white",
            "linecolor": "white",
            "ticks": ""
           },
           "bgcolor": "#E5ECF6",
           "radialaxis": {
            "gridcolor": "white",
            "linecolor": "white",
            "ticks": ""
           }
          },
          "scene": {
           "xaxis": {
            "backgroundcolor": "#E5ECF6",
            "gridcolor": "white",
            "gridwidth": 2,
            "linecolor": "white",
            "showbackground": true,
            "ticks": "",
            "zerolinecolor": "white"
           },
           "yaxis": {
            "backgroundcolor": "#E5ECF6",
            "gridcolor": "white",
            "gridwidth": 2,
            "linecolor": "white",
            "showbackground": true,
            "ticks": "",
            "zerolinecolor": "white"
           },
           "zaxis": {
            "backgroundcolor": "#E5ECF6",
            "gridcolor": "white",
            "gridwidth": 2,
            "linecolor": "white",
            "showbackground": true,
            "ticks": "",
            "zerolinecolor": "white"
           }
          },
          "shapedefaults": {
           "line": {
            "color": "#2a3f5f"
           }
          },
          "ternary": {
           "aaxis": {
            "gridcolor": "white",
            "linecolor": "white",
            "ticks": ""
           },
           "baxis": {
            "gridcolor": "white",
            "linecolor": "white",
            "ticks": ""
           },
           "bgcolor": "#E5ECF6",
           "caxis": {
            "gridcolor": "white",
            "linecolor": "white",
            "ticks": ""
           }
          },
          "title": {
           "x": 0.05
          },
          "xaxis": {
           "automargin": true,
           "gridcolor": "white",
           "linecolor": "white",
           "ticks": "",
           "title": {
            "standoff": 15
           },
           "zerolinecolor": "white",
           "zerolinewidth": 2
          },
          "yaxis": {
           "automargin": true,
           "gridcolor": "white",
           "linecolor": "white",
           "ticks": "",
           "title": {
            "standoff": 15
           },
           "zerolinecolor": "white",
           "zerolinewidth": 2
          }
         }
        },
        "title": {
         "text": "Loss of revenue for biological  vegetables per week",
         "x": 0.5,
         "xanchor": "center",
         "y": 0.9,
         "yanchor": "top"
        },
        "width": 1000,
        "xaxis": {
         "anchor": "y",
         "domain": [
          0,
          1
         ],
         "title": {
          "text": "Week nr"
         }
        },
        "yaxis": {
         "anchor": "x",
         "domain": [
          0,
          1
         ],
         "title": {
          "text": "Revenue loss in €"
         }
        }
       }
      }
     },
     "metadata": {}
    }
   ],
   "source": [
    "import plotly.express as px\n",
    "\n",
    "output_copy = output_full.groupby(\"week\").sum()\n",
    "output_copy[\"MA7\"] = output_copy['expected loss revenue'].rolling(7).mean()\n",
    "output_copy[\"MA7_exp\"] = output_copy[\"loss revenue\"].rolling(7).mean()\n",
    "fig = px.line(output_copy, x=output_copy.index, y=\"MA7_exp\", title=\"Loss of revenue for biological  vegetables per week\")\n",
    "fig.add_scatter(x=output_copy.index, y=output_copy[\"MA7\"], mode=\"lines\", name=\"With discounts applied\")\n",
    "fig.update_layout(showlegend=False, xaxis_title=\"Week nr\",\n",
    "    yaxis_title=\"Revenue loss in €\",width=1000,\n",
    "    height=700, title={\n",
    "        \n",
    "                'y':0.9,\n",
    "        'x':0.5,\n",
    "        'xanchor': 'center',\n",
    "        'yanchor': 'top'},\n",
    "        paper_bgcolor='rgba(0,0,0,0)')\n",
    "fig.show()"
   ]
  },
  {
   "cell_type": "code",
   "execution_count": 13,
   "metadata": {},
   "outputs": [],
   "source": [
    "bio_products = ['Biologische rode kool', 'Biologische pompoen',\n",
    "       'Biologische cherry tomaten', 'Biologische prei',\n",
    "       'Biologische Bloemkool', 'Biologische courgette',\n",
    "       'Biologische brocolli', 'Biologische knoflook',\n",
    "       'Biologische kikkererwten']\n",
    "snacks = products[products[\"category\"] == \"meat\"][\"description\"].values\n"
   ]
  },
  {
   "cell_type": "code",
   "execution_count": 14,
   "metadata": {
    "tags": []
   },
   "outputs": [
    {
     "output_type": "stream",
     "name": "stdout",
     "text": [
      "Current product is Biologische rode kool\n",
      "(101, 7)\n",
      "Extended waste dataframe created\n",
      "Data prepared for prediction\n",
      "Model fitted; test set metrics: MAE: 1.692273797539847 MSE: 4.7417045694054565, R^2 score: -0.079238499156558\n",
      "Demand function fitted\n",
      "Average of actual/estimated purchase ratios: 1.028668437753402\n",
      "Waste change predicted, calculating revenue loss...\n",
      "Values: [1661.84 1266.74  395.1  1245.34  915.63  329.7 ]\n",
      "Current product is Biologische pompoen\n",
      "(101, 7)\n",
      "Extended waste dataframe created\n",
      "Data prepared for prediction\n",
      "Model fitted; test set metrics: MAE: 1.4855821152775206 MSE: 3.693833662043078, R^2 score: -0.2176430772911313\n",
      "Demand function fitted\n",
      "Average of actual/estimated purchase ratios: 1.035907096160337\n",
      "Waste change predicted, calculating revenue loss...\n",
      "Values: [2882.97 2188.54  694.43 2465.37 1856.5   608.88]\n",
      "Current product is Biologische cherry tomaten\n",
      "(101, 7)\n",
      "Extended waste dataframe created\n",
      "Data prepared for prediction\n",
      "Model fitted; test set metrics: MAE: 1.9522704720875572 MSE: 5.770638103624382, R^2 score: 0.06141523041227559\n",
      "Demand function fitted\n",
      "Average of actual/estimated purchase ratios: 0.9673455305515295\n",
      "Waste change predicted, calculating revenue loss...\n",
      "Values: [1771.18 1388.34  382.84 1405.94 1071.02  334.9 ]\n",
      "Current product is Biologische prei\n",
      "(101, 7)\n",
      "Extended waste dataframe created\n",
      "Data prepared for prediction\n",
      "Model fitted; test set metrics: MAE: 1.4358902314077937 MSE: 3.326587120366766, R^2 score: -0.11815451624990914\n",
      "Demand function fitted\n",
      "Average of actual/estimated purchase ratios: 0.9736762461937989\n",
      "Waste change predicted, calculating revenue loss...\n",
      "Values: [1123.3   857.5   265.8   927.71  684.11  243.6 ]\n",
      "Current product is Biologische Bloemkool\n",
      "(101, 7)\n",
      "Extended waste dataframe created\n",
      "Data prepared for prediction\n",
      "Model fitted; test set metrics: MAE: 1.6988573012668866 MSE: 4.23428080293308, R^2 score: -0.193798974671465\n",
      "Demand function fitted\n",
      "Value error occured at range (42, 45)\n",
      ">>>> Biologische Bloemkool IS NOT INCLUDED\n",
      "Current product is Biologische courgette\n",
      "(101, 7)\n",
      "Extended waste dataframe created\n",
      "Data prepared for prediction\n",
      "Model fitted; test set metrics: MAE: 1.6138529870012701 MSE: 6.133829235169003, R^2 score: 0.045979828454110305\n",
      "Demand function fitted\n",
      "Average of actual/estimated purchase ratios: 0.9836647893419088\n",
      "Waste change predicted, calculating revenue loss...\n",
      "Values: [2295.52 1706.85  588.67 1704.2  1222.18  482.03]\n",
      "Current product is Biologische brocolli\n",
      "(101, 7)\n",
      "Extended waste dataframe created\n",
      "Data prepared for prediction\n",
      "Model fitted; test set metrics: MAE: 1.8313170478097898 MSE: 4.959650043989804, R^2 score: -0.14613332060051532\n",
      "Demand function fitted\n",
      "Average of actual/estimated purchase ratios: 1.0003016335273742\n",
      "Waste change predicted, calculating revenue loss...\n",
      "Values: [2399.19 1848.97  550.22 1545.65 1147.54  398.11]\n",
      "Current product is Biologische knoflook\n",
      "(101, 7)\n",
      "Extended waste dataframe created\n",
      "Data prepared for prediction\n",
      "Model fitted; test set metrics: MAE: 1.8624454296986455 MSE: 4.919674338148043, R^2 score: -0.2739981242145699\n",
      "Demand function fitted\n",
      "Average of actual/estimated purchase ratios: 0.9519799926960796\n",
      "Waste change predicted, calculating revenue loss...\n",
      "Values: [727.29 567.24 160.05 535.03 401.27 133.8 ]\n",
      "Current product is Biologische kikkererwten\n",
      "(101, 7)\n",
      "Extended waste dataframe created\n",
      "Data prepared for prediction\n",
      "Model fitted; test set metrics: MAE: 1.6083338910878826 MSE: 3.602261628432721, R^2 score: -0.2718312466464814\n",
      "Demand function fitted\n",
      "Value error occured at range (161, 164)\n",
      ">>>> Biologische kikkererwten IS NOT INCLUDED\n"
     ]
    }
   ],
   "source": [
    "money_dct = {}\n",
    "list_of_df = []\n",
    "\n",
    "for prod in bio_products:\n",
    "    try:\n",
    "        print(\"Current product is {}\".format(prod))\n",
    "        inventory = pd.read_csv(\"data/inventory.csv\")\n",
    "        products = pd.read_csv(\"data/products.csv\")\n",
    "        promotions = pd.read_csv(\"data/promotions.csv\")\n",
    "        transactions = pd.read_csv(\"data/transactions.csv\")\n",
    "        discount_per_day = pd.read_csv(\"nr_discounts_per_day.csv\")\n",
    "        pd.set_option('mode.chained_assignment', None) #turns off pandas warnings\n",
    "        #create a reference dataframe\n",
    "        dayofyear = list(range(365))\n",
    "        date = [datetime.datetime(2018, 1, 1) + datetime.timedelta(day) for day in dayofyear]\n",
    "        df_date = pd.DataFrame({\"day\":dayofyear, \"date\":date})\n",
    "\n",
    "        tup_list2 = [('Blauwe bessen', '150g'), ('Rundergehakt', '300g '), ('Unox Gelderse rookworst', '285g'), ('Biologisch rundergehakt', '300g')]\n",
    "        for pair in tup_list2:\n",
    "\n",
    "            transactions.loc[transactions[(transactions['description'] == pair[0]) & (transactions['size'] == pair[1])].index, 'description'] = pair[0] + '.1'\n",
    "\n",
    "            products.loc[products[(products['description'] == pair[0]) & (products['size'] == pair[1])].index, 'description'] = pair[0] + '.1'\n",
    "\n",
    "        #for colname in inventory.columns[2:]:\n",
    "        #    inventory[colname] = [ast.literal_eval(i) for i in inventory[colname]]\n",
    "            #converting inventory rows to list of tuples from string\n",
    "\n",
    "        product = prod # item to be analyzed\n",
    "        filtered_transactions = transactions[transactions[\"description\"] == product]\n",
    "        filtered_inventory = inventory[[\"day\", \"before or after delivery\", product]]\n",
    "\n",
    "        output_full = waste_analysis(inventory, transactions, products, product, discount_per_day=discount_per_day)\n",
    "        list_of_df.append(output_full)\n",
    "        values = output_full[money_cols].sum().values.round(2)\n",
    "        print(\"Values: {}\".format(values))\n",
    "        i = 0\n",
    "        for name in money_cols:\n",
    "            if name not in money_dct.keys():\n",
    "                money_dct[name] = values[i]\n",
    "            else:\n",
    "                money_dct[name] += values[i]\n",
    "            i += 1\n",
    "            if len(output_full[output_full[\"remaining_stock\"]-(output_full[\"predicted demand\"]-output_full[\"purchases\"]) < 0]) > 0:\n",
    "                print(\">>>>>>>>>>>>>>>> \\n WARNING item would go out of stock at range {} \".format(rang))\n",
    "    except(ValueError):\n",
    "            print(\">>>> {} IS NOT INCLUDED\".format(prod))\n"
   ]
  },
  {
   "cell_type": "code",
   "execution_count": 13,
   "metadata": {},
   "outputs": [],
   "source": [
    "all_bio = pd.concat(list_of_df)"
   ]
  },
  {
   "cell_type": "code",
   "execution_count": 14,
   "metadata": {},
   "outputs": [
    {
     "output_type": "execute_result",
     "data": {
      "text/plain": [
       "         Metric                 Method    values\n",
       "0  Loss revenue                 Actual  16274.81\n",
       "1   Loss profit                 Actual  12401.80\n",
       "2    Waste cost                 Actual   3873.01\n",
       "3  Loss revenue  Predicted w/discounts  12622.81\n",
       "4   Loss profit  Predicted w/discounts   9355.29\n",
       "5    Waste cost  Predicted w/discounts   3267.58"
      ],
      "text/html": "<div>\n<style scoped>\n    .dataframe tbody tr th:only-of-type {\n        vertical-align: middle;\n    }\n\n    .dataframe tbody tr th {\n        vertical-align: top;\n    }\n\n    .dataframe thead th {\n        text-align: right;\n    }\n</style>\n<table border=\"1\" class=\"dataframe\">\n  <thead>\n    <tr style=\"text-align: right;\">\n      <th></th>\n      <th>Metric</th>\n      <th>Method</th>\n      <th>values</th>\n    </tr>\n  </thead>\n  <tbody>\n    <tr>\n      <th>0</th>\n      <td>Loss revenue</td>\n      <td>Actual</td>\n      <td>16274.81</td>\n    </tr>\n    <tr>\n      <th>1</th>\n      <td>Loss profit</td>\n      <td>Actual</td>\n      <td>12401.80</td>\n    </tr>\n    <tr>\n      <th>2</th>\n      <td>Waste cost</td>\n      <td>Actual</td>\n      <td>3873.01</td>\n    </tr>\n    <tr>\n      <th>3</th>\n      <td>Loss revenue</td>\n      <td>Predicted w/discounts</td>\n      <td>12622.81</td>\n    </tr>\n    <tr>\n      <th>4</th>\n      <td>Loss profit</td>\n      <td>Predicted w/discounts</td>\n      <td>9355.29</td>\n    </tr>\n    <tr>\n      <th>5</th>\n      <td>Waste cost</td>\n      <td>Predicted w/discounts</td>\n      <td>3267.58</td>\n    </tr>\n  </tbody>\n</table>\n</div>"
     },
     "metadata": {},
     "execution_count": 14
    }
   ],
   "source": [
    "results = pd.DataFrame({\"Metric\":[\"Loss revenue\", \"Loss profit\", \"Waste cost\",\"Loss revenue\", \"Loss profit\", \"Waste cost\"], \"Method\":[\"Actual\", \"Actual\", \"Actual\", \"Predicted w/discounts\", \"Predicted w/discounts\", \"Predicted w/discounts\"], \"values\":[round(i,2) for i in money_dct.values()]})\n",
    "results"
   ]
  },
  {
   "cell_type": "code",
   "execution_count": 32,
   "metadata": {},
   "outputs": [
    {
     "output_type": "display_data",
     "data": {
      "application/vnd.plotly.v1+json": {
       "config": {
        "plotlyServerURL": "https://plot.ly"
       },
       "data": [
        {
         "alignmentgroup": "True",
         "hovertemplate": "Method=Actual<br>Metric=%{x}<br>values=%{text}<extra></extra>",
         "legendgroup": "Actual",
         "marker": {
          "color": "#636efa"
         },
         "name": "Actual",
         "offsetgroup": "Actual",
         "orientation": "v",
         "showlegend": true,
         "text": [
          35859.71,
          28167.22,
          7692.49
         ],
         "textposition": "auto",
         "type": "bar",
         "x": [
          "Loss revenue",
          "Loss profit",
          "Waste cost"
         ],
         "xaxis": "x",
         "y": [
          35859.71,
          28167.22,
          7692.49
         ],
         "yaxis": "y"
        },
        {
         "alignmentgroup": "True",
         "hovertemplate": "Method=Predicted w/discounts<br>Metric=%{x}<br>values=%{text}<extra></extra>",
         "legendgroup": "Predicted w/discounts",
         "marker": {
          "color": "#EF553B"
         },
         "name": "Predicted w/discounts",
         "offsetgroup": "Predicted w/discounts",
         "orientation": "v",
         "showlegend": true,
         "text": [
          31180.16,
          24362.39,
          6817.89
         ],
         "textposition": "auto",
         "type": "bar",
         "x": [
          "Loss revenue",
          "Loss profit",
          "Waste cost"
         ],
         "xaxis": "x",
         "y": [
          31180.16,
          24362.39,
          6817.89
         ],
         "yaxis": "y"
        }
       ],
       "layout": {
        "barmode": "group",
        "height": 700,
        "legend": {
         "title": {
          "text": "Method"
         },
         "tracegroupgap": 0
        },
        "paper_bgcolor": "rgba(0,0,0,0)",
        "showlegend": false,
        "template": {
         "data": {
          "bar": [
           {
            "error_x": {
             "color": "#2a3f5f"
            },
            "error_y": {
             "color": "#2a3f5f"
            },
            "marker": {
             "line": {
              "color": "#E5ECF6",
              "width": 0.5
             }
            },
            "type": "bar"
           }
          ],
          "barpolar": [
           {
            "marker": {
             "line": {
              "color": "#E5ECF6",
              "width": 0.5
             }
            },
            "type": "barpolar"
           }
          ],
          "carpet": [
           {
            "aaxis": {
             "endlinecolor": "#2a3f5f",
             "gridcolor": "white",
             "linecolor": "white",
             "minorgridcolor": "white",
             "startlinecolor": "#2a3f5f"
            },
            "baxis": {
             "endlinecolor": "#2a3f5f",
             "gridcolor": "white",
             "linecolor": "white",
             "minorgridcolor": "white",
             "startlinecolor": "#2a3f5f"
            },
            "type": "carpet"
           }
          ],
          "choropleth": [
           {
            "colorbar": {
             "outlinewidth": 0,
             "ticks": ""
            },
            "type": "choropleth"
           }
          ],
          "contour": [
           {
            "colorbar": {
             "outlinewidth": 0,
             "ticks": ""
            },
            "colorscale": [
             [
              0,
              "#0d0887"
             ],
             [
              0.1111111111111111,
              "#46039f"
             ],
             [
              0.2222222222222222,
              "#7201a8"
             ],
             [
              0.3333333333333333,
              "#9c179e"
             ],
             [
              0.4444444444444444,
              "#bd3786"
             ],
             [
              0.5555555555555556,
              "#d8576b"
             ],
             [
              0.6666666666666666,
              "#ed7953"
             ],
             [
              0.7777777777777778,
              "#fb9f3a"
             ],
             [
              0.8888888888888888,
              "#fdca26"
             ],
             [
              1,
              "#f0f921"
             ]
            ],
            "type": "contour"
           }
          ],
          "contourcarpet": [
           {
            "colorbar": {
             "outlinewidth": 0,
             "ticks": ""
            },
            "type": "contourcarpet"
           }
          ],
          "heatmap": [
           {
            "colorbar": {
             "outlinewidth": 0,
             "ticks": ""
            },
            "colorscale": [
             [
              0,
              "#0d0887"
             ],
             [
              0.1111111111111111,
              "#46039f"
             ],
             [
              0.2222222222222222,
              "#7201a8"
             ],
             [
              0.3333333333333333,
              "#9c179e"
             ],
             [
              0.4444444444444444,
              "#bd3786"
             ],
             [
              0.5555555555555556,
              "#d8576b"
             ],
             [
              0.6666666666666666,
              "#ed7953"
             ],
             [
              0.7777777777777778,
              "#fb9f3a"
             ],
             [
              0.8888888888888888,
              "#fdca26"
             ],
             [
              1,
              "#f0f921"
             ]
            ],
            "type": "heatmap"
           }
          ],
          "heatmapgl": [
           {
            "colorbar": {
             "outlinewidth": 0,
             "ticks": ""
            },
            "colorscale": [
             [
              0,
              "#0d0887"
             ],
             [
              0.1111111111111111,
              "#46039f"
             ],
             [
              0.2222222222222222,
              "#7201a8"
             ],
             [
              0.3333333333333333,
              "#9c179e"
             ],
             [
              0.4444444444444444,
              "#bd3786"
             ],
             [
              0.5555555555555556,
              "#d8576b"
             ],
             [
              0.6666666666666666,
              "#ed7953"
             ],
             [
              0.7777777777777778,
              "#fb9f3a"
             ],
             [
              0.8888888888888888,
              "#fdca26"
             ],
             [
              1,
              "#f0f921"
             ]
            ],
            "type": "heatmapgl"
           }
          ],
          "histogram": [
           {
            "marker": {
             "colorbar": {
              "outlinewidth": 0,
              "ticks": ""
             }
            },
            "type": "histogram"
           }
          ],
          "histogram2d": [
           {
            "colorbar": {
             "outlinewidth": 0,
             "ticks": ""
            },
            "colorscale": [
             [
              0,
              "#0d0887"
             ],
             [
              0.1111111111111111,
              "#46039f"
             ],
             [
              0.2222222222222222,
              "#7201a8"
             ],
             [
              0.3333333333333333,
              "#9c179e"
             ],
             [
              0.4444444444444444,
              "#bd3786"
             ],
             [
              0.5555555555555556,
              "#d8576b"
             ],
             [
              0.6666666666666666,
              "#ed7953"
             ],
             [
              0.7777777777777778,
              "#fb9f3a"
             ],
             [
              0.8888888888888888,
              "#fdca26"
             ],
             [
              1,
              "#f0f921"
             ]
            ],
            "type": "histogram2d"
           }
          ],
          "histogram2dcontour": [
           {
            "colorbar": {
             "outlinewidth": 0,
             "ticks": ""
            },
            "colorscale": [
             [
              0,
              "#0d0887"
             ],
             [
              0.1111111111111111,
              "#46039f"
             ],
             [
              0.2222222222222222,
              "#7201a8"
             ],
             [
              0.3333333333333333,
              "#9c179e"
             ],
             [
              0.4444444444444444,
              "#bd3786"
             ],
             [
              0.5555555555555556,
              "#d8576b"
             ],
             [
              0.6666666666666666,
              "#ed7953"
             ],
             [
              0.7777777777777778,
              "#fb9f3a"
             ],
             [
              0.8888888888888888,
              "#fdca26"
             ],
             [
              1,
              "#f0f921"
             ]
            ],
            "type": "histogram2dcontour"
           }
          ],
          "mesh3d": [
           {
            "colorbar": {
             "outlinewidth": 0,
             "ticks": ""
            },
            "type": "mesh3d"
           }
          ],
          "parcoords": [
           {
            "line": {
             "colorbar": {
              "outlinewidth": 0,
              "ticks": ""
             }
            },
            "type": "parcoords"
           }
          ],
          "pie": [
           {
            "automargin": true,
            "type": "pie"
           }
          ],
          "scatter": [
           {
            "marker": {
             "colorbar": {
              "outlinewidth": 0,
              "ticks": ""
             }
            },
            "type": "scatter"
           }
          ],
          "scatter3d": [
           {
            "line": {
             "colorbar": {
              "outlinewidth": 0,
              "ticks": ""
             }
            },
            "marker": {
             "colorbar": {
              "outlinewidth": 0,
              "ticks": ""
             }
            },
            "type": "scatter3d"
           }
          ],
          "scattercarpet": [
           {
            "marker": {
             "colorbar": {
              "outlinewidth": 0,
              "ticks": ""
             }
            },
            "type": "scattercarpet"
           }
          ],
          "scattergeo": [
           {
            "marker": {
             "colorbar": {
              "outlinewidth": 0,
              "ticks": ""
             }
            },
            "type": "scattergeo"
           }
          ],
          "scattergl": [
           {
            "marker": {
             "colorbar": {
              "outlinewidth": 0,
              "ticks": ""
             }
            },
            "type": "scattergl"
           }
          ],
          "scattermapbox": [
           {
            "marker": {
             "colorbar": {
              "outlinewidth": 0,
              "ticks": ""
             }
            },
            "type": "scattermapbox"
           }
          ],
          "scatterpolar": [
           {
            "marker": {
             "colorbar": {
              "outlinewidth": 0,
              "ticks": ""
             }
            },
            "type": "scatterpolar"
           }
          ],
          "scatterpolargl": [
           {
            "marker": {
             "colorbar": {
              "outlinewidth": 0,
              "ticks": ""
             }
            },
            "type": "scatterpolargl"
           }
          ],
          "scatterternary": [
           {
            "marker": {
             "colorbar": {
              "outlinewidth": 0,
              "ticks": ""
             }
            },
            "type": "scatterternary"
           }
          ],
          "surface": [
           {
            "colorbar": {
             "outlinewidth": 0,
             "ticks": ""
            },
            "colorscale": [
             [
              0,
              "#0d0887"
             ],
             [
              0.1111111111111111,
              "#46039f"
             ],
             [
              0.2222222222222222,
              "#7201a8"
             ],
             [
              0.3333333333333333,
              "#9c179e"
             ],
             [
              0.4444444444444444,
              "#bd3786"
             ],
             [
              0.5555555555555556,
              "#d8576b"
             ],
             [
              0.6666666666666666,
              "#ed7953"
             ],
             [
              0.7777777777777778,
              "#fb9f3a"
             ],
             [
              0.8888888888888888,
              "#fdca26"
             ],
             [
              1,
              "#f0f921"
             ]
            ],
            "type": "surface"
           }
          ],
          "table": [
           {
            "cells": {
             "fill": {
              "color": "#EBF0F8"
             },
             "line": {
              "color": "white"
             }
            },
            "header": {
             "fill": {
              "color": "#C8D4E3"
             },
             "line": {
              "color": "white"
             }
            },
            "type": "table"
           }
          ]
         },
         "layout": {
          "annotationdefaults": {
           "arrowcolor": "#2a3f5f",
           "arrowhead": 0,
           "arrowwidth": 1
          },
          "coloraxis": {
           "colorbar": {
            "outlinewidth": 0,
            "ticks": ""
           }
          },
          "colorscale": {
           "diverging": [
            [
             0,
             "#8e0152"
            ],
            [
             0.1,
             "#c51b7d"
            ],
            [
             0.2,
             "#de77ae"
            ],
            [
             0.3,
             "#f1b6da"
            ],
            [
             0.4,
             "#fde0ef"
            ],
            [
             0.5,
             "#f7f7f7"
            ],
            [
             0.6,
             "#e6f5d0"
            ],
            [
             0.7,
             "#b8e186"
            ],
            [
             0.8,
             "#7fbc41"
            ],
            [
             0.9,
             "#4d9221"
            ],
            [
             1,
             "#276419"
            ]
           ],
           "sequential": [
            [
             0,
             "#0d0887"
            ],
            [
             0.1111111111111111,
             "#46039f"
            ],
            [
             0.2222222222222222,
             "#7201a8"
            ],
            [
             0.3333333333333333,
             "#9c179e"
            ],
            [
             0.4444444444444444,
             "#bd3786"
            ],
            [
             0.5555555555555556,
             "#d8576b"
            ],
            [
             0.6666666666666666,
             "#ed7953"
            ],
            [
             0.7777777777777778,
             "#fb9f3a"
            ],
            [
             0.8888888888888888,
             "#fdca26"
            ],
            [
             1,
             "#f0f921"
            ]
           ],
           "sequentialminus": [
            [
             0,
             "#0d0887"
            ],
            [
             0.1111111111111111,
             "#46039f"
            ],
            [
             0.2222222222222222,
             "#7201a8"
            ],
            [
             0.3333333333333333,
             "#9c179e"
            ],
            [
             0.4444444444444444,
             "#bd3786"
            ],
            [
             0.5555555555555556,
             "#d8576b"
            ],
            [
             0.6666666666666666,
             "#ed7953"
            ],
            [
             0.7777777777777778,
             "#fb9f3a"
            ],
            [
             0.8888888888888888,
             "#fdca26"
            ],
            [
             1,
             "#f0f921"
            ]
           ]
          },
          "colorway": [
           "#636efa",
           "#EF553B",
           "#00cc96",
           "#ab63fa",
           "#FFA15A",
           "#19d3f3",
           "#FF6692",
           "#B6E880",
           "#FF97FF",
           "#FECB52"
          ],
          "font": {
           "color": "#2a3f5f"
          },
          "geo": {
           "bgcolor": "white",
           "lakecolor": "white",
           "landcolor": "#E5ECF6",
           "showlakes": true,
           "showland": true,
           "subunitcolor": "white"
          },
          "hoverlabel": {
           "align": "left"
          },
          "hovermode": "closest",
          "mapbox": {
           "style": "light"
          },
          "paper_bgcolor": "white",
          "plot_bgcolor": "#E5ECF6",
          "polar": {
           "angularaxis": {
            "gridcolor": "white",
            "linecolor": "white",
            "ticks": ""
           },
           "bgcolor": "#E5ECF6",
           "radialaxis": {
            "gridcolor": "white",
            "linecolor": "white",
            "ticks": ""
           }
          },
          "scene": {
           "xaxis": {
            "backgroundcolor": "#E5ECF6",
            "gridcolor": "white",
            "gridwidth": 2,
            "linecolor": "white",
            "showbackground": true,
            "ticks": "",
            "zerolinecolor": "white"
           },
           "yaxis": {
            "backgroundcolor": "#E5ECF6",
            "gridcolor": "white",
            "gridwidth": 2,
            "linecolor": "white",
            "showbackground": true,
            "ticks": "",
            "zerolinecolor": "white"
           },
           "zaxis": {
            "backgroundcolor": "#E5ECF6",
            "gridcolor": "white",
            "gridwidth": 2,
            "linecolor": "white",
            "showbackground": true,
            "ticks": "",
            "zerolinecolor": "white"
           }
          },
          "shapedefaults": {
           "line": {
            "color": "#2a3f5f"
           }
          },
          "ternary": {
           "aaxis": {
            "gridcolor": "white",
            "linecolor": "white",
            "ticks": ""
           },
           "baxis": {
            "gridcolor": "white",
            "linecolor": "white",
            "ticks": ""
           },
           "bgcolor": "#E5ECF6",
           "caxis": {
            "gridcolor": "white",
            "linecolor": "white",
            "ticks": ""
           }
          },
          "title": {
           "x": 0.05
          },
          "xaxis": {
           "automargin": true,
           "gridcolor": "white",
           "linecolor": "white",
           "ticks": "",
           "title": {
            "standoff": 15
           },
           "zerolinecolor": "white",
           "zerolinewidth": 2
          },
          "yaxis": {
           "automargin": true,
           "gridcolor": "white",
           "linecolor": "white",
           "ticks": "",
           "title": {
            "standoff": 15
           },
           "zerolinecolor": "white",
           "zerolinewidth": 2
          }
         }
        },
        "title": {
         "text": "Savings with optimized waste management for meat products",
         "x": 0.5,
         "xanchor": "center",
         "y": 0.9,
         "yanchor": "top"
        },
        "width": 1000,
        "xaxis": {
         "anchor": "y",
         "domain": [
          0,
          1
         ],
         "title": {
          "text": "Product"
         }
        },
        "yaxis": {
         "anchor": "x",
         "domain": [
          0,
          1
         ],
         "title": {
          "text": "Total loss in €"
         }
        }
       }
      }
     },
     "metadata": {}
    }
   ],
   "source": [
    "import plotly.express as px\n",
    "fig = px.bar(results, x=\"Metric\", y='values', color=\"Method\", barmode='group', text=\"values\", title=\"Savings with optimized waste management for meat products\")\n",
    "fig.update_layout(showlegend=False, xaxis_title=\"Product\",\n",
    "    yaxis_title=\"Total loss in €\",width=1000,\n",
    "    height=700, title={\n",
    "        \n",
    "                'y':0.9,\n",
    "        'x':0.5,\n",
    "        'xanchor': 'center',\n",
    "        'yanchor': 'top'},\n",
    "        paper_bgcolor='rgba(0,0,0,0)')\n",
    "fig.show()"
   ]
  },
  {
   "cell_type": "code",
   "execution_count": 2,
   "metadata": {},
   "outputs": [
    {
     "output_type": "stream",
     "name": "stdout",
     "text": [
      "(101, 5)\n"
     ]
    },
    {
     "output_type": "execute_result",
     "data": {
      "text/plain": [
       "                 amount    DOY  cumulative purchases  purchases  remaining  \\\n",
       "best before day                                                              \n",
       "14                   26   14.0                  42.0        NaN      -16.0   \n",
       "17                   26   17.0                  52.0       10.0       16.0   \n",
       "21                   26   21.0                  71.0       19.0        7.0   \n",
       "24                   26   24.0                  77.0        6.0       20.0   \n",
       "28                   26   28.0                  95.0       18.0        8.0   \n",
       "...                 ...    ...                   ...        ...        ...   \n",
       "350                  26  350.0                1268.0       11.0       15.0   \n",
       "353                  26  353.0                1278.0       10.0       16.0   \n",
       "357                  26  357.0                1290.0       12.0       14.0   \n",
       "360                  26  360.0                1296.0        6.0       20.0   \n",
       "364                  26  363.0                1304.0        8.0       18.0   \n",
       "\n",
       "                 waste  week  waste nn  \n",
       "best before day                         \n",
       "14               -16.0     3       0.0  \n",
       "17                 0.0     3       0.0  \n",
       "21                 7.0     4       7.0  \n",
       "24                20.0     4      20.0  \n",
       "28                 8.0     5       8.0  \n",
       "...                ...   ...       ...  \n",
       "350               15.0    51      15.0  \n",
       "353               16.0    51      16.0  \n",
       "357               14.0    52      14.0  \n",
       "360               20.0    52      20.0  \n",
       "364               18.0    52      18.0  \n",
       "\n",
       "[101 rows x 8 columns]"
      ],
      "text/html": "<div>\n<style scoped>\n    .dataframe tbody tr th:only-of-type {\n        vertical-align: middle;\n    }\n\n    .dataframe tbody tr th {\n        vertical-align: top;\n    }\n\n    .dataframe thead th {\n        text-align: right;\n    }\n</style>\n<table border=\"1\" class=\"dataframe\">\n  <thead>\n    <tr style=\"text-align: right;\">\n      <th></th>\n      <th>amount</th>\n      <th>DOY</th>\n      <th>cumulative purchases</th>\n      <th>purchases</th>\n      <th>remaining</th>\n      <th>waste</th>\n      <th>week</th>\n      <th>waste nn</th>\n    </tr>\n    <tr>\n      <th>best before day</th>\n      <th></th>\n      <th></th>\n      <th></th>\n      <th></th>\n      <th></th>\n      <th></th>\n      <th></th>\n      <th></th>\n    </tr>\n  </thead>\n  <tbody>\n    <tr>\n      <th>14</th>\n      <td>26</td>\n      <td>14.0</td>\n      <td>42.0</td>\n      <td>NaN</td>\n      <td>-16.0</td>\n      <td>-16.0</td>\n      <td>3</td>\n      <td>0.0</td>\n    </tr>\n    <tr>\n      <th>17</th>\n      <td>26</td>\n      <td>17.0</td>\n      <td>52.0</td>\n      <td>10.0</td>\n      <td>16.0</td>\n      <td>0.0</td>\n      <td>3</td>\n      <td>0.0</td>\n    </tr>\n    <tr>\n      <th>21</th>\n      <td>26</td>\n      <td>21.0</td>\n      <td>71.0</td>\n      <td>19.0</td>\n      <td>7.0</td>\n      <td>7.0</td>\n      <td>4</td>\n      <td>7.0</td>\n    </tr>\n    <tr>\n      <th>24</th>\n      <td>26</td>\n      <td>24.0</td>\n      <td>77.0</td>\n      <td>6.0</td>\n      <td>20.0</td>\n      <td>20.0</td>\n      <td>4</td>\n      <td>20.0</td>\n    </tr>\n    <tr>\n      <th>28</th>\n      <td>26</td>\n      <td>28.0</td>\n      <td>95.0</td>\n      <td>18.0</td>\n      <td>8.0</td>\n      <td>8.0</td>\n      <td>5</td>\n      <td>8.0</td>\n    </tr>\n    <tr>\n      <th>...</th>\n      <td>...</td>\n      <td>...</td>\n      <td>...</td>\n      <td>...</td>\n      <td>...</td>\n      <td>...</td>\n      <td>...</td>\n      <td>...</td>\n    </tr>\n    <tr>\n      <th>350</th>\n      <td>26</td>\n      <td>350.0</td>\n      <td>1268.0</td>\n      <td>11.0</td>\n      <td>15.0</td>\n      <td>15.0</td>\n      <td>51</td>\n      <td>15.0</td>\n    </tr>\n    <tr>\n      <th>353</th>\n      <td>26</td>\n      <td>353.0</td>\n      <td>1278.0</td>\n      <td>10.0</td>\n      <td>16.0</td>\n      <td>16.0</td>\n      <td>51</td>\n      <td>16.0</td>\n    </tr>\n    <tr>\n      <th>357</th>\n      <td>26</td>\n      <td>357.0</td>\n      <td>1290.0</td>\n      <td>12.0</td>\n      <td>14.0</td>\n      <td>14.0</td>\n      <td>52</td>\n      <td>14.0</td>\n    </tr>\n    <tr>\n      <th>360</th>\n      <td>26</td>\n      <td>360.0</td>\n      <td>1296.0</td>\n      <td>6.0</td>\n      <td>20.0</td>\n      <td>20.0</td>\n      <td>52</td>\n      <td>20.0</td>\n    </tr>\n    <tr>\n      <th>364</th>\n      <td>26</td>\n      <td>363.0</td>\n      <td>1304.0</td>\n      <td>8.0</td>\n      <td>18.0</td>\n      <td>18.0</td>\n      <td>52</td>\n      <td>18.0</td>\n    </tr>\n  </tbody>\n</table>\n<p>101 rows × 8 columns</p>\n</div>"
     },
     "metadata": {},
     "execution_count": 2
    }
   ],
   "source": [
    "from waste_functions import create_bb_data, add_purchases\n",
    "\n",
    "waste_df = create_bb_data(filtered_inventory, product)\n",
    "waste_df_extended = add_purchases(waste_df, transactions, product)\n",
    "waste_df_extended"
   ]
  },
  {
   "source": [
    "## Creating range intervals for mid-delivery sales calculation"
   ],
   "cell_type": "markdown",
   "metadata": {}
  },
  {
   "cell_type": "code",
   "execution_count": 3,
   "metadata": {},
   "outputs": [],
   "source": [
    "best_before = []\n",
    "for element_list in inventory[product]:\n",
    "    for batch in element_list:\n",
    "        best_before.append(batch[0])\n",
    "bb_dates = list(np.unique(best_before))\n",
    "#list of each unique best before dates\n",
    "bb_dates.insert(0, 0)\n",
    "ranges = []\n",
    "i = 0\n",
    "for item in bb_dates:\n",
    "    if i < len(bb_dates)-1:\n",
    "        i += 1\n",
    "        ret_tupl = (item, bb_dates[i])\n",
    "        ranges.append(ret_tupl)\n",
    "\n"
   ]
  },
  {
   "cell_type": "code",
   "execution_count": 4,
   "metadata": {},
   "outputs": [
    {
     "output_type": "execute_result",
     "data": {
      "text/plain": [
       "(24, 28)"
      ]
     },
     "metadata": {},
     "execution_count": 4
    }
   ],
   "source": [
    "ranges[4]"
   ]
  },
  {
   "cell_type": "code",
   "execution_count": 30,
   "metadata": {},
   "outputs": [],
   "source": [
    "from demand import *\n",
    "compl_prod=\"Basis anannasstukjes\"\n",
    "\n",
    "prepared_transactions = prepare_data(filtered_transactions, discounts_per_day=discount_per_day)\n",
    "output_dct = prepare_demand_function(prepared_transactions)"
   ]
  },
  {
   "cell_type": "code",
   "execution_count": 39,
   "metadata": {},
   "outputs": [
    {
     "output_type": "execute_result",
     "data": {
      "text/plain": [
       "    count discount std min 25% 50% 75% max     month               product  \\\n",
       "346     2        0   0   0   0   0   0   0  December  Biologische knoflook   \n",
       "347     2        0   0   0   0   0   0   0  December  Biologische knoflook   \n",
       "\n",
       "     DOY dayofweek purchase_price std_sales_price prev_day_purchases  \\\n",
       "346  362  Saturday           0.69            0.69                  4   \n",
       "347  363    Sunday           0.69            0.69                  2   \n",
       "\n",
       "           days on_discount  \n",
       "346  29-12-2018          12  \n",
       "347  30-12-2018          13  "
      ],
      "text/html": "<div>\n<style scoped>\n    .dataframe tbody tr th:only-of-type {\n        vertical-align: middle;\n    }\n\n    .dataframe tbody tr th {\n        vertical-align: top;\n    }\n\n    .dataframe thead th {\n        text-align: right;\n    }\n</style>\n<table border=\"1\" class=\"dataframe\">\n  <thead>\n    <tr style=\"text-align: right;\">\n      <th></th>\n      <th>count</th>\n      <th>discount</th>\n      <th>std</th>\n      <th>min</th>\n      <th>25%</th>\n      <th>50%</th>\n      <th>75%</th>\n      <th>max</th>\n      <th>month</th>\n      <th>product</th>\n      <th>DOY</th>\n      <th>dayofweek</th>\n      <th>purchase_price</th>\n      <th>std_sales_price</th>\n      <th>prev_day_purchases</th>\n      <th>days</th>\n      <th>on_discount</th>\n    </tr>\n  </thead>\n  <tbody>\n    <tr>\n      <th>346</th>\n      <td>2</td>\n      <td>0</td>\n      <td>0</td>\n      <td>0</td>\n      <td>0</td>\n      <td>0</td>\n      <td>0</td>\n      <td>0</td>\n      <td>December</td>\n      <td>Biologische knoflook</td>\n      <td>362</td>\n      <td>Saturday</td>\n      <td>0.69</td>\n      <td>0.69</td>\n      <td>4</td>\n      <td>29-12-2018</td>\n      <td>12</td>\n    </tr>\n    <tr>\n      <th>347</th>\n      <td>2</td>\n      <td>0</td>\n      <td>0</td>\n      <td>0</td>\n      <td>0</td>\n      <td>0</td>\n      <td>0</td>\n      <td>0</td>\n      <td>December</td>\n      <td>Biologische knoflook</td>\n      <td>363</td>\n      <td>Sunday</td>\n      <td>0.69</td>\n      <td>0.69</td>\n      <td>2</td>\n      <td>30-12-2018</td>\n      <td>13</td>\n    </tr>\n  </tbody>\n</table>\n</div>"
     },
     "metadata": {},
     "execution_count": 39
    }
   ],
   "source": [
    "last = len(prepared_transactions)-1\n",
    "pd.DataFrame(prepared_transactions.values, columns=prepared_transactions.columns).loc[last-1:]"
   ]
  },
  {
   "cell_type": "code",
   "execution_count": 6,
   "metadata": {},
   "outputs": [
    {
     "output_type": "stream",
     "name": "stdout",
     "text": [
      "Model fitted; test set metrics: MAE: 1.8313170478097898 MSE: 4.959650043989804, R^2 score: -0.14613332060051532\n"
     ]
    }
   ],
   "source": [
    "from sklearn.ensemble import RandomForestRegressor\n",
    "from sklearn.neural_network import MLPRegressor\n",
    "from sklearn.tree import DecisionTreeRegressor\n",
    "rf = RandomForestRegressor(n_estimators=50, max_depth=9)\n",
    "nn =  MLPRegressor(hidden_layer_sizes=(50,50))\n",
    "dtr = DecisionTreeRegressor()\n",
    "model = fit_demand_function(output_dct)"
   ]
  },
  {
   "cell_type": "code",
   "execution_count": 7,
   "metadata": {},
   "outputs": [
    {
     "output_type": "execute_result",
     "data": {
      "text/plain": [
       "    discount purchase_price prev_day_purchases on_discount  x0_Friday  \\\n",
       "0          0           1.79                  0          15        0.0   \n",
       "3          0           1.79                  1          11        0.0   \n",
       "5          0           1.79                  1          22        0.0   \n",
       "6          0           1.79                  2          15        0.0   \n",
       "8          0           1.79                  1          14        0.0   \n",
       "..       ...            ...                ...         ...        ...   \n",
       "259        0           1.79                  6          15        0.0   \n",
       "260        0           1.79                  2          11        0.0   \n",
       "261        0           1.79                  5          24        0.0   \n",
       "262        0           1.79                  4          15        0.0   \n",
       "263        0           1.79                  3          14        0.0   \n",
       "\n",
       "     x0_Monday  x0_Saturday  x0_Sunday  x0_Thursday  x0_Tuesday  ...  \\\n",
       "0          1.0          0.0        0.0          0.0         0.0  ...   \n",
       "3          0.0          1.0        0.0          0.0         0.0  ...   \n",
       "5          1.0          0.0        0.0          0.0         0.0  ...   \n",
       "6          0.0          0.0        0.0          0.0         1.0  ...   \n",
       "8          0.0          0.0        0.0          1.0         0.0  ...   \n",
       "..         ...          ...        ...          ...         ...  ...   \n",
       "259        0.0          1.0        0.0          0.0         0.0  ...   \n",
       "260        0.0          0.0        1.0          0.0         0.0  ...   \n",
       "261        1.0          0.0        0.0          0.0         0.0  ...   \n",
       "262        0.0          0.0        0.0          0.0         1.0  ...   \n",
       "263        0.0          0.0        0.0          0.0         0.0  ...   \n",
       "\n",
       "     x0_December  x0_February  x0_January  x0_July  x0_June  x0_March  x0_May  \\\n",
       "0            0.0          0.0         1.0      0.0      0.0       0.0     0.0   \n",
       "3            0.0          0.0         1.0      0.0      0.0       0.0     0.0   \n",
       "5            0.0          0.0         1.0      0.0      0.0       0.0     0.0   \n",
       "6            0.0          0.0         1.0      0.0      0.0       0.0     0.0   \n",
       "8            0.0          0.0         1.0      0.0      0.0       0.0     0.0   \n",
       "..           ...          ...         ...      ...      ...       ...     ...   \n",
       "259          0.0          0.0         0.0      0.0      0.0       0.0     0.0   \n",
       "260          0.0          0.0         0.0      0.0      0.0       0.0     0.0   \n",
       "261          0.0          0.0         0.0      0.0      0.0       0.0     0.0   \n",
       "262          0.0          0.0         0.0      0.0      0.0       0.0     0.0   \n",
       "263          0.0          0.0         0.0      0.0      0.0       0.0     0.0   \n",
       "\n",
       "     x0_November  x0_October  x0_September  \n",
       "0            0.0         0.0           0.0  \n",
       "3            0.0         0.0           0.0  \n",
       "5            0.0         0.0           0.0  \n",
       "6            0.0         0.0           0.0  \n",
       "8            0.0         0.0           0.0  \n",
       "..           ...         ...           ...  \n",
       "259          0.0         1.0           0.0  \n",
       "260          0.0         1.0           0.0  \n",
       "261          0.0         1.0           0.0  \n",
       "262          0.0         1.0           0.0  \n",
       "263          0.0         1.0           0.0  \n",
       "\n",
       "[232 rows x 23 columns]"
      ],
      "text/html": "<div>\n<style scoped>\n    .dataframe tbody tr th:only-of-type {\n        vertical-align: middle;\n    }\n\n    .dataframe tbody tr th {\n        vertical-align: top;\n    }\n\n    .dataframe thead th {\n        text-align: right;\n    }\n</style>\n<table border=\"1\" class=\"dataframe\">\n  <thead>\n    <tr style=\"text-align: right;\">\n      <th></th>\n      <th>discount</th>\n      <th>purchase_price</th>\n      <th>prev_day_purchases</th>\n      <th>on_discount</th>\n      <th>x0_Friday</th>\n      <th>x0_Monday</th>\n      <th>x0_Saturday</th>\n      <th>x0_Sunday</th>\n      <th>x0_Thursday</th>\n      <th>x0_Tuesday</th>\n      <th>...</th>\n      <th>x0_December</th>\n      <th>x0_February</th>\n      <th>x0_January</th>\n      <th>x0_July</th>\n      <th>x0_June</th>\n      <th>x0_March</th>\n      <th>x0_May</th>\n      <th>x0_November</th>\n      <th>x0_October</th>\n      <th>x0_September</th>\n    </tr>\n  </thead>\n  <tbody>\n    <tr>\n      <th>0</th>\n      <td>0</td>\n      <td>1.79</td>\n      <td>0</td>\n      <td>15</td>\n      <td>0.0</td>\n      <td>1.0</td>\n      <td>0.0</td>\n      <td>0.0</td>\n      <td>0.0</td>\n      <td>0.0</td>\n      <td>...</td>\n      <td>0.0</td>\n      <td>0.0</td>\n      <td>1.0</td>\n      <td>0.0</td>\n      <td>0.0</td>\n      <td>0.0</td>\n      <td>0.0</td>\n      <td>0.0</td>\n      <td>0.0</td>\n      <td>0.0</td>\n    </tr>\n    <tr>\n      <th>3</th>\n      <td>0</td>\n      <td>1.79</td>\n      <td>1</td>\n      <td>11</td>\n      <td>0.0</td>\n      <td>0.0</td>\n      <td>1.0</td>\n      <td>0.0</td>\n      <td>0.0</td>\n      <td>0.0</td>\n      <td>...</td>\n      <td>0.0</td>\n      <td>0.0</td>\n      <td>1.0</td>\n      <td>0.0</td>\n      <td>0.0</td>\n      <td>0.0</td>\n      <td>0.0</td>\n      <td>0.0</td>\n      <td>0.0</td>\n      <td>0.0</td>\n    </tr>\n    <tr>\n      <th>5</th>\n      <td>0</td>\n      <td>1.79</td>\n      <td>1</td>\n      <td>22</td>\n      <td>0.0</td>\n      <td>1.0</td>\n      <td>0.0</td>\n      <td>0.0</td>\n      <td>0.0</td>\n      <td>0.0</td>\n      <td>...</td>\n      <td>0.0</td>\n      <td>0.0</td>\n      <td>1.0</td>\n      <td>0.0</td>\n      <td>0.0</td>\n      <td>0.0</td>\n      <td>0.0</td>\n      <td>0.0</td>\n      <td>0.0</td>\n      <td>0.0</td>\n    </tr>\n    <tr>\n      <th>6</th>\n      <td>0</td>\n      <td>1.79</td>\n      <td>2</td>\n      <td>15</td>\n      <td>0.0</td>\n      <td>0.0</td>\n      <td>0.0</td>\n      <td>0.0</td>\n      <td>0.0</td>\n      <td>1.0</td>\n      <td>...</td>\n      <td>0.0</td>\n      <td>0.0</td>\n      <td>1.0</td>\n      <td>0.0</td>\n      <td>0.0</td>\n      <td>0.0</td>\n      <td>0.0</td>\n      <td>0.0</td>\n      <td>0.0</td>\n      <td>0.0</td>\n    </tr>\n    <tr>\n      <th>8</th>\n      <td>0</td>\n      <td>1.79</td>\n      <td>1</td>\n      <td>14</td>\n      <td>0.0</td>\n      <td>0.0</td>\n      <td>0.0</td>\n      <td>0.0</td>\n      <td>1.0</td>\n      <td>0.0</td>\n      <td>...</td>\n      <td>0.0</td>\n      <td>0.0</td>\n      <td>1.0</td>\n      <td>0.0</td>\n      <td>0.0</td>\n      <td>0.0</td>\n      <td>0.0</td>\n      <td>0.0</td>\n      <td>0.0</td>\n      <td>0.0</td>\n    </tr>\n    <tr>\n      <th>...</th>\n      <td>...</td>\n      <td>...</td>\n      <td>...</td>\n      <td>...</td>\n      <td>...</td>\n      <td>...</td>\n      <td>...</td>\n      <td>...</td>\n      <td>...</td>\n      <td>...</td>\n      <td>...</td>\n      <td>...</td>\n      <td>...</td>\n      <td>...</td>\n      <td>...</td>\n      <td>...</td>\n      <td>...</td>\n      <td>...</td>\n      <td>...</td>\n      <td>...</td>\n      <td>...</td>\n    </tr>\n    <tr>\n      <th>259</th>\n      <td>0</td>\n      <td>1.79</td>\n      <td>6</td>\n      <td>15</td>\n      <td>0.0</td>\n      <td>0.0</td>\n      <td>1.0</td>\n      <td>0.0</td>\n      <td>0.0</td>\n      <td>0.0</td>\n      <td>...</td>\n      <td>0.0</td>\n      <td>0.0</td>\n      <td>0.0</td>\n      <td>0.0</td>\n      <td>0.0</td>\n      <td>0.0</td>\n      <td>0.0</td>\n      <td>0.0</td>\n      <td>1.0</td>\n      <td>0.0</td>\n    </tr>\n    <tr>\n      <th>260</th>\n      <td>0</td>\n      <td>1.79</td>\n      <td>2</td>\n      <td>11</td>\n      <td>0.0</td>\n      <td>0.0</td>\n      <td>0.0</td>\n      <td>1.0</td>\n      <td>0.0</td>\n      <td>0.0</td>\n      <td>...</td>\n      <td>0.0</td>\n      <td>0.0</td>\n      <td>0.0</td>\n      <td>0.0</td>\n      <td>0.0</td>\n      <td>0.0</td>\n      <td>0.0</td>\n      <td>0.0</td>\n      <td>1.0</td>\n      <td>0.0</td>\n    </tr>\n    <tr>\n      <th>261</th>\n      <td>0</td>\n      <td>1.79</td>\n      <td>5</td>\n      <td>24</td>\n      <td>0.0</td>\n      <td>1.0</td>\n      <td>0.0</td>\n      <td>0.0</td>\n      <td>0.0</td>\n      <td>0.0</td>\n      <td>...</td>\n      <td>0.0</td>\n      <td>0.0</td>\n      <td>0.0</td>\n      <td>0.0</td>\n      <td>0.0</td>\n      <td>0.0</td>\n      <td>0.0</td>\n      <td>0.0</td>\n      <td>1.0</td>\n      <td>0.0</td>\n    </tr>\n    <tr>\n      <th>262</th>\n      <td>0</td>\n      <td>1.79</td>\n      <td>4</td>\n      <td>15</td>\n      <td>0.0</td>\n      <td>0.0</td>\n      <td>0.0</td>\n      <td>0.0</td>\n      <td>0.0</td>\n      <td>1.0</td>\n      <td>...</td>\n      <td>0.0</td>\n      <td>0.0</td>\n      <td>0.0</td>\n      <td>0.0</td>\n      <td>0.0</td>\n      <td>0.0</td>\n      <td>0.0</td>\n      <td>0.0</td>\n      <td>1.0</td>\n      <td>0.0</td>\n    </tr>\n    <tr>\n      <th>263</th>\n      <td>0</td>\n      <td>1.79</td>\n      <td>3</td>\n      <td>14</td>\n      <td>0.0</td>\n      <td>0.0</td>\n      <td>0.0</td>\n      <td>0.0</td>\n      <td>0.0</td>\n      <td>0.0</td>\n      <td>...</td>\n      <td>0.0</td>\n      <td>0.0</td>\n      <td>0.0</td>\n      <td>0.0</td>\n      <td>0.0</td>\n      <td>0.0</td>\n      <td>0.0</td>\n      <td>0.0</td>\n      <td>1.0</td>\n      <td>0.0</td>\n    </tr>\n  </tbody>\n</table>\n<p>232 rows × 23 columns</p>\n</div>"
     },
     "metadata": {},
     "execution_count": 7
    }
   ],
   "source": [
    "output_dct[\"train\"][0]"
   ]
  },
  {
   "cell_type": "code",
   "execution_count": 8,
   "metadata": {
    "tags": []
   },
   "outputs": [
    {
     "output_type": "stream",
     "name": "stdout",
     "text": [
      "Value error occurred\nValue error occurred\nValue error occurred\n"
     ]
    }
   ],
   "source": [
    "\n",
    "test = predicted_demand(waste_df_extended, ranges, model, output_dct, prepared_transactions)"
   ]
  },
  {
   "cell_type": "code",
   "execution_count": 9,
   "metadata": {},
   "outputs": [],
   "source": [
    "test['purchases'].iloc[0] = test[\"cumulative purchases\"].iloc[0]"
   ]
  },
  {
   "cell_type": "code",
   "execution_count": 10,
   "metadata": {},
   "outputs": [],
   "source": [
    "waste_df_extended[\"expected waste\"].fillna(0, inplace=True)"
   ]
  },
  {
   "cell_type": "code",
   "execution_count": 11,
   "metadata": {},
   "outputs": [
    {
     "output_type": "execute_result",
     "data": {
      "text/plain": [
       "                 amount    DOY  cumulative purchases  purchases  remaining  \\\n",
       "best before day                                                              \n",
       "14                   26   14.0                  42.0       42.0      -16.0   \n",
       "17                   26   17.0                  52.0       10.0       16.0   \n",
       "21                   26   21.0                  71.0       19.0        7.0   \n",
       "24                   26   24.0                  77.0        6.0       20.0   \n",
       "28                   26   28.0                  95.0       18.0        8.0   \n",
       "...                 ...    ...                   ...        ...        ...   \n",
       "350                  26  350.0                1268.0       11.0       15.0   \n",
       "353                  26  353.0                1278.0       10.0       16.0   \n",
       "357                  26  357.0                1290.0       12.0       14.0   \n",
       "360                  26  360.0                1296.0        6.0       20.0   \n",
       "364                  26  363.0                1304.0        8.0       18.0   \n",
       "\n",
       "                 waste  week  waste nn  predicted demand  demand_discounts  \\\n",
       "best before day                                                              \n",
       "14               -16.0     3       0.0                41                41   \n",
       "17                 0.0     3       0.0                15                15   \n",
       "21                 7.0     4       7.0                16                33   \n",
       "24                20.0     4      20.0                16                33   \n",
       "28                 8.0     5       8.0                16                33   \n",
       "...                ...   ...       ...               ...               ...   \n",
       "350               15.0    51      15.0                21                38   \n",
       "353               16.0    51      16.0                13                30   \n",
       "357               14.0    52      14.0                16                33   \n",
       "360               20.0    52      20.0                 8                25   \n",
       "364               18.0    52      18.0                10                27   \n",
       "\n",
       "                 avg_price  expected purchases  expected waste  \\\n",
       "best before day                                                  \n",
       "14                1.790000                 NaN             0.0   \n",
       "17                1.790000                20.0             0.0   \n",
       "21                1.491667                39.0             0.0   \n",
       "24                1.432000                12.0            14.0   \n",
       "28                1.271842                37.0             0.0   \n",
       "...                    ...                 ...             ...   \n",
       "350               1.541389                22.0             4.0   \n",
       "353               1.057727                20.0             6.0   \n",
       "357               1.193333                25.0             1.0   \n",
       "360               0.895000                12.0            14.0   \n",
       "364               0.895000                16.0            10.0   \n",
       "\n",
       "                 expected loss revenue  expected loss profit  \\\n",
       "best before day                                                \n",
       "14                            0.000000              0.000000   \n",
       "17                            0.000000              0.000000   \n",
       "21                            0.000000              0.000000   \n",
       "24                           20.048000             14.308000   \n",
       "28                            0.000000              0.000000   \n",
       "...                                ...                   ...   \n",
       "350                           6.165556              4.525556   \n",
       "353                           6.346364              3.886364   \n",
       "357                           1.193333              0.783333   \n",
       "360                          12.530000              6.790000   \n",
       "364                           8.950000              4.850000   \n",
       "\n",
       "                 expected waste cost  loss revenue  loss profit  waste cost  \n",
       "best before day                                                              \n",
       "14                              0.00      0.000000     0.000000        0.00  \n",
       "17                              0.00      0.000000     0.000000        0.00  \n",
       "21                              0.00     10.441667     7.571667        2.87  \n",
       "24                              5.74     28.640000    20.440000        8.20  \n",
       "28                              0.00     10.174737     6.894737        3.28  \n",
       "...                              ...           ...          ...         ...  \n",
       "350                             1.64     23.120833    16.970833        6.15  \n",
       "353                             2.46     16.923636    10.363636        6.56  \n",
       "357                             0.41     16.706667    10.966667        5.74  \n",
       "360                             5.74     17.900000     9.700000        8.20  \n",
       "364                             4.10     16.110000     8.730000        7.38  \n",
       "\n",
       "[101 rows x 19 columns]"
      ],
      "text/html": "<div>\n<style scoped>\n    .dataframe tbody tr th:only-of-type {\n        vertical-align: middle;\n    }\n\n    .dataframe tbody tr th {\n        vertical-align: top;\n    }\n\n    .dataframe thead th {\n        text-align: right;\n    }\n</style>\n<table border=\"1\" class=\"dataframe\">\n  <thead>\n    <tr style=\"text-align: right;\">\n      <th></th>\n      <th>amount</th>\n      <th>DOY</th>\n      <th>cumulative purchases</th>\n      <th>purchases</th>\n      <th>remaining</th>\n      <th>waste</th>\n      <th>week</th>\n      <th>waste nn</th>\n      <th>predicted demand</th>\n      <th>demand_discounts</th>\n      <th>avg_price</th>\n      <th>expected purchases</th>\n      <th>expected waste</th>\n      <th>expected loss revenue</th>\n      <th>expected loss profit</th>\n      <th>expected waste cost</th>\n      <th>loss revenue</th>\n      <th>loss profit</th>\n      <th>waste cost</th>\n    </tr>\n    <tr>\n      <th>best before day</th>\n      <th></th>\n      <th></th>\n      <th></th>\n      <th></th>\n      <th></th>\n      <th></th>\n      <th></th>\n      <th></th>\n      <th></th>\n      <th></th>\n      <th></th>\n      <th></th>\n      <th></th>\n      <th></th>\n      <th></th>\n      <th></th>\n      <th></th>\n      <th></th>\n      <th></th>\n    </tr>\n  </thead>\n  <tbody>\n    <tr>\n      <th>14</th>\n      <td>26</td>\n      <td>14.0</td>\n      <td>42.0</td>\n      <td>42.0</td>\n      <td>-16.0</td>\n      <td>-16.0</td>\n      <td>3</td>\n      <td>0.0</td>\n      <td>41</td>\n      <td>41</td>\n      <td>1.790000</td>\n      <td>NaN</td>\n      <td>0.0</td>\n      <td>0.000000</td>\n      <td>0.000000</td>\n      <td>0.00</td>\n      <td>0.000000</td>\n      <td>0.000000</td>\n      <td>0.00</td>\n    </tr>\n    <tr>\n      <th>17</th>\n      <td>26</td>\n      <td>17.0</td>\n      <td>52.0</td>\n      <td>10.0</td>\n      <td>16.0</td>\n      <td>0.0</td>\n      <td>3</td>\n      <td>0.0</td>\n      <td>15</td>\n      <td>15</td>\n      <td>1.790000</td>\n      <td>20.0</td>\n      <td>0.0</td>\n      <td>0.000000</td>\n      <td>0.000000</td>\n      <td>0.00</td>\n      <td>0.000000</td>\n      <td>0.000000</td>\n      <td>0.00</td>\n    </tr>\n    <tr>\n      <th>21</th>\n      <td>26</td>\n      <td>21.0</td>\n      <td>71.0</td>\n      <td>19.0</td>\n      <td>7.0</td>\n      <td>7.0</td>\n      <td>4</td>\n      <td>7.0</td>\n      <td>16</td>\n      <td>33</td>\n      <td>1.491667</td>\n      <td>39.0</td>\n      <td>0.0</td>\n      <td>0.000000</td>\n      <td>0.000000</td>\n      <td>0.00</td>\n      <td>10.441667</td>\n      <td>7.571667</td>\n      <td>2.87</td>\n    </tr>\n    <tr>\n      <th>24</th>\n      <td>26</td>\n      <td>24.0</td>\n      <td>77.0</td>\n      <td>6.0</td>\n      <td>20.0</td>\n      <td>20.0</td>\n      <td>4</td>\n      <td>20.0</td>\n      <td>16</td>\n      <td>33</td>\n      <td>1.432000</td>\n      <td>12.0</td>\n      <td>14.0</td>\n      <td>20.048000</td>\n      <td>14.308000</td>\n      <td>5.74</td>\n      <td>28.640000</td>\n      <td>20.440000</td>\n      <td>8.20</td>\n    </tr>\n    <tr>\n      <th>28</th>\n      <td>26</td>\n      <td>28.0</td>\n      <td>95.0</td>\n      <td>18.0</td>\n      <td>8.0</td>\n      <td>8.0</td>\n      <td>5</td>\n      <td>8.0</td>\n      <td>16</td>\n      <td>33</td>\n      <td>1.271842</td>\n      <td>37.0</td>\n      <td>0.0</td>\n      <td>0.000000</td>\n      <td>0.000000</td>\n      <td>0.00</td>\n      <td>10.174737</td>\n      <td>6.894737</td>\n      <td>3.28</td>\n    </tr>\n    <tr>\n      <th>...</th>\n      <td>...</td>\n      <td>...</td>\n      <td>...</td>\n      <td>...</td>\n      <td>...</td>\n      <td>...</td>\n      <td>...</td>\n      <td>...</td>\n      <td>...</td>\n      <td>...</td>\n      <td>...</td>\n      <td>...</td>\n      <td>...</td>\n      <td>...</td>\n      <td>...</td>\n      <td>...</td>\n      <td>...</td>\n      <td>...</td>\n      <td>...</td>\n    </tr>\n    <tr>\n      <th>350</th>\n      <td>26</td>\n      <td>350.0</td>\n      <td>1268.0</td>\n      <td>11.0</td>\n      <td>15.0</td>\n      <td>15.0</td>\n      <td>51</td>\n      <td>15.0</td>\n      <td>21</td>\n      <td>38</td>\n      <td>1.541389</td>\n      <td>22.0</td>\n      <td>4.0</td>\n      <td>6.165556</td>\n      <td>4.525556</td>\n      <td>1.64</td>\n      <td>23.120833</td>\n      <td>16.970833</td>\n      <td>6.15</td>\n    </tr>\n    <tr>\n      <th>353</th>\n      <td>26</td>\n      <td>353.0</td>\n      <td>1278.0</td>\n      <td>10.0</td>\n      <td>16.0</td>\n      <td>16.0</td>\n      <td>51</td>\n      <td>16.0</td>\n      <td>13</td>\n      <td>30</td>\n      <td>1.057727</td>\n      <td>20.0</td>\n      <td>6.0</td>\n      <td>6.346364</td>\n      <td>3.886364</td>\n      <td>2.46</td>\n      <td>16.923636</td>\n      <td>10.363636</td>\n      <td>6.56</td>\n    </tr>\n    <tr>\n      <th>357</th>\n      <td>26</td>\n      <td>357.0</td>\n      <td>1290.0</td>\n      <td>12.0</td>\n      <td>14.0</td>\n      <td>14.0</td>\n      <td>52</td>\n      <td>14.0</td>\n      <td>16</td>\n      <td>33</td>\n      <td>1.193333</td>\n      <td>25.0</td>\n      <td>1.0</td>\n      <td>1.193333</td>\n      <td>0.783333</td>\n      <td>0.41</td>\n      <td>16.706667</td>\n      <td>10.966667</td>\n      <td>5.74</td>\n    </tr>\n    <tr>\n      <th>360</th>\n      <td>26</td>\n      <td>360.0</td>\n      <td>1296.0</td>\n      <td>6.0</td>\n      <td>20.0</td>\n      <td>20.0</td>\n      <td>52</td>\n      <td>20.0</td>\n      <td>8</td>\n      <td>25</td>\n      <td>0.895000</td>\n      <td>12.0</td>\n      <td>14.0</td>\n      <td>12.530000</td>\n      <td>6.790000</td>\n      <td>5.74</td>\n      <td>17.900000</td>\n      <td>9.700000</td>\n      <td>8.20</td>\n    </tr>\n    <tr>\n      <th>364</th>\n      <td>26</td>\n      <td>363.0</td>\n      <td>1304.0</td>\n      <td>8.0</td>\n      <td>18.0</td>\n      <td>18.0</td>\n      <td>52</td>\n      <td>18.0</td>\n      <td>10</td>\n      <td>27</td>\n      <td>0.895000</td>\n      <td>16.0</td>\n      <td>10.0</td>\n      <td>8.950000</td>\n      <td>4.850000</td>\n      <td>4.10</td>\n      <td>16.110000</td>\n      <td>8.730000</td>\n      <td>7.38</td>\n    </tr>\n  </tbody>\n</table>\n<p>101 rows × 19 columns</p>\n</div>"
     },
     "metadata": {},
     "execution_count": 11
    }
   ],
   "source": [
    "purchase_price = products[products[\"description\"] == product][\"purchase_price\"].values\n",
    "waste_df_extended.fillna({\"expected waste\":0}, inplace=True)\n",
    "waste_df_extended[\"expected loss revenue\"] = waste_df_extended[\"expected waste\"]*waste_df_extended[\"avg_price\"]\n",
    "waste_df_extended[\"expected loss profit\"] = waste_df_extended[\"expected waste\"]*(waste_df_extended[\"avg_price\"]-purchase_price)\n",
    "waste_df_extended[\"expected waste cost\"] = waste_df_extended[\"expected waste\"]*purchase_price\n",
    "\n",
    "waste_df_extended[\"loss revenue\"] = waste_df_extended[\"waste nn\"]*waste_df_extended[\"avg_price\"]\n",
    "waste_df_extended[\"loss profit\"] = waste_df_extended[\"waste nn\"]*(waste_df_extended[\"avg_price\"]-purchase_price)\n",
    "waste_df_extended[\"waste cost\"] = waste_df_extended[\"waste nn\"]*purchase_price\n",
    "waste_df_extended"
   ]
  },
  {
   "cell_type": "code",
   "execution_count": 12,
   "metadata": {},
   "outputs": [
    {
     "output_type": "display_data",
     "data": {
      "application/vnd.plotly.v1+json": {
       "config": {
        "plotlyServerURL": "https://plot.ly"
       },
       "data": [
        {
         "hovertemplate": "DOY=%{x}<br>expected loss revenue=%{y}<extra></extra>",
         "legendgroup": "",
         "line": {
          "color": "#636efa",
          "dash": "solid"
         },
         "mode": "lines",
         "name": "",
         "orientation": "v",
         "showlegend": false,
         "type": "scatter",
         "x": [
          14,
          17,
          21,
          24,
          28,
          31,
          35,
          38,
          42,
          43,
          49,
          52,
          56,
          59,
          63,
          66,
          70,
          73,
          77,
          80,
          84,
          87,
          91,
          94,
          98,
          100,
          104,
          108,
          112,
          115,
          119,
          122,
          126,
          129,
          133,
          136,
          140,
          143,
          146,
          150,
          154,
          157,
          161,
          164,
          168,
          171,
          175,
          178,
          182,
          185,
          189,
          192,
          196,
          199,
          203,
          206,
          210,
          213,
          217,
          220,
          224,
          227,
          231,
          234,
          238,
          241,
          245,
          248,
          252,
          255,
          259,
          262,
          266,
          269,
          273,
          276,
          280,
          283,
          287,
          290,
          294,
          296,
          301,
          304,
          308,
          311,
          315,
          318,
          322,
          325,
          329,
          332,
          334,
          339,
          343,
          346,
          350,
          353,
          357,
          360,
          363
         ],
         "xaxis": "x",
         "y": [
          0,
          0,
          0,
          20.048000000000002,
          0,
          8.950000000000001,
          0,
          0,
          0,
          6.599133333333333,
          9.3975,
          1.3638095238095238,
          0,
          9.913846153846153,
          0,
          5.264705882352941,
          0,
          0,
          0,
          12.214117647058824,
          8.055,
          0,
          0,
          1.2785714285714285,
          0,
          13.425,
          4.556363636363636,
          3.5800000000000005,
          0,
          0,
          0,
          8.726249999999999,
          0,
          17.228749999999998,
          0,
          9.913846153846153,
          0,
          12.53,
          1.11875,
          5.369999999999999,
          0,
          18.795,
          14.320000000000004,
          18.098888888888894,
          11.065454545454543,
          3.5799999999999996,
          0,
          14.32,
          0,
          7.287857142857142,
          5.114285714285714,
          11.251428571428573,
          9.763636363636365,
          17.228749999999998,
          0,
          21.204615384615387,
          7.322727272727271,
          10.74,
          0,
          5.264705882352941,
          0,
          15.214999999999996,
          0,
          0,
          0,
          21.479999999999997,
          0,
          7.719374999999998,
          0,
          1.1746874999999997,
          8.84470588235294,
          15.662500000000001,
          8.592,
          1.2679166666666664,
          0,
          1.2146428571428571,
          5.264705882352941,
          12.204545454545455,
          8.95,
          13.424999999999999,
          0,
          12.53,
          5.369999999999999,
          10.74,
          5.37,
          0,
          0,
          19.093333333333334,
          0,
          18.411428571428573,
          1.2146428571428571,
          14.319999999999997,
          18.225454545454546,
          14.32,
          0,
          0,
          6.165555555555555,
          6.3463636363636375,
          1.1933333333333334,
          12.53,
          8.95
         ],
         "yaxis": "y"
        },
        {
         "mode": "lines",
         "type": "scatter",
         "x": [
          14,
          17,
          21,
          24,
          28,
          31,
          35,
          38,
          42,
          43,
          49,
          52,
          56,
          59,
          63,
          66,
          70,
          73,
          77,
          80,
          84,
          87,
          91,
          94,
          98,
          100,
          104,
          108,
          112,
          115,
          119,
          122,
          126,
          129,
          133,
          136,
          140,
          143,
          146,
          150,
          154,
          157,
          161,
          164,
          168,
          171,
          175,
          178,
          182,
          185,
          189,
          192,
          196,
          199,
          203,
          206,
          210,
          213,
          217,
          220,
          224,
          227,
          231,
          234,
          238,
          241,
          245,
          248,
          252,
          255,
          259,
          262,
          266,
          269,
          273,
          276,
          280,
          283,
          287,
          290,
          294,
          296,
          301,
          304,
          308,
          311,
          315,
          318,
          322,
          325,
          329,
          332,
          334,
          339,
          343,
          346,
          350,
          353,
          357,
          360,
          363
         ],
         "y": [
          0,
          0,
          10.441666666666666,
          28.640000000000004,
          10.174736842105263,
          16.110000000000003,
          9.22048888888889,
          0,
          0,
          10.370066666666665,
          29.535,
          25.912380952380953,
          9.522799999999997,
          21.066923076923075,
          0,
          18.426470588235293,
          4.276111111111111,
          19.391666666666666,
          2.8128571428571427,
          25.955000000000002,
          21.479999999999997,
          10.471500000000002,
          16.557499999999997,
          17.9,
          6.7125,
          24.165,
          17.086363636363632,
          13.425000000000002,
          13.854600000000001,
          9.205714285714285,
          8.822142857142856,
          23.269999999999996,
          14.09625,
          24.612499999999997,
          14.47794117647059,
          21.066923076923075,
          14.645454545454546,
          17.9,
          15.662499999999998,
          14.319999999999997,
          8.787272727272725,
          26.85,
          22.67333333333334,
          25.85555555555556,
          23.514090909090903,
          13.424999999999999,
          9.950294117647058,
          18.795,
          11.137777777777778,
          19.43428571428571,
          19.178571428571427,
          23.909285714285716,
          20.747727272727275,
          24.612499999999997,
          13.808571428571426,
          30.292307692307695,
          19.527272727272724,
          19.332,
          10.382,
          19.74264705882353,
          0,
          18.794999999999995,
          0,
          14.767500000000002,
          7.938260869565216,
          28.192499999999995,
          12.485249999999999,
          20.584999999999994,
          11.890714285714285,
          16.445624999999996,
          23.585882352941173,
          22.375000000000004,
          18.258000000000003,
          17.75083333333333,
          15.035999999999996,
          17.005,
          19.74264705882353,
          21.96818181818182,
          16.11,
          21.256249999999998,
          10.35086956521739,
          17.9,
          20.137499999999996,
          19.332,
          20.1375,
          12.785714285714285,
          1.500441176470588,
          25.060000000000002,
          10.881315789473684,
          24.165000000000003,
          17.005,
          18.794999999999995,
          26.036363636363635,
          18.795,
          14.73766666666667,
          13.604,
          23.12083333333333,
          16.923636363636366,
          16.706666666666667,
          17.9,
          16.11
         ]
        }
       ],
       "layout": {
        "legend": {
         "tracegroupgap": 0
        },
        "margin": {
         "t": 60
        },
        "template": {
         "data": {
          "bar": [
           {
            "error_x": {
             "color": "#2a3f5f"
            },
            "error_y": {
             "color": "#2a3f5f"
            },
            "marker": {
             "line": {
              "color": "#E5ECF6",
              "width": 0.5
             }
            },
            "type": "bar"
           }
          ],
          "barpolar": [
           {
            "marker": {
             "line": {
              "color": "#E5ECF6",
              "width": 0.5
             }
            },
            "type": "barpolar"
           }
          ],
          "carpet": [
           {
            "aaxis": {
             "endlinecolor": "#2a3f5f",
             "gridcolor": "white",
             "linecolor": "white",
             "minorgridcolor": "white",
             "startlinecolor": "#2a3f5f"
            },
            "baxis": {
             "endlinecolor": "#2a3f5f",
             "gridcolor": "white",
             "linecolor": "white",
             "minorgridcolor": "white",
             "startlinecolor": "#2a3f5f"
            },
            "type": "carpet"
           }
          ],
          "choropleth": [
           {
            "colorbar": {
             "outlinewidth": 0,
             "ticks": ""
            },
            "type": "choropleth"
           }
          ],
          "contour": [
           {
            "colorbar": {
             "outlinewidth": 0,
             "ticks": ""
            },
            "colorscale": [
             [
              0,
              "#0d0887"
             ],
             [
              0.1111111111111111,
              "#46039f"
             ],
             [
              0.2222222222222222,
              "#7201a8"
             ],
             [
              0.3333333333333333,
              "#9c179e"
             ],
             [
              0.4444444444444444,
              "#bd3786"
             ],
             [
              0.5555555555555556,
              "#d8576b"
             ],
             [
              0.6666666666666666,
              "#ed7953"
             ],
             [
              0.7777777777777778,
              "#fb9f3a"
             ],
             [
              0.8888888888888888,
              "#fdca26"
             ],
             [
              1,
              "#f0f921"
             ]
            ],
            "type": "contour"
           }
          ],
          "contourcarpet": [
           {
            "colorbar": {
             "outlinewidth": 0,
             "ticks": ""
            },
            "type": "contourcarpet"
           }
          ],
          "heatmap": [
           {
            "colorbar": {
             "outlinewidth": 0,
             "ticks": ""
            },
            "colorscale": [
             [
              0,
              "#0d0887"
             ],
             [
              0.1111111111111111,
              "#46039f"
             ],
             [
              0.2222222222222222,
              "#7201a8"
             ],
             [
              0.3333333333333333,
              "#9c179e"
             ],
             [
              0.4444444444444444,
              "#bd3786"
             ],
             [
              0.5555555555555556,
              "#d8576b"
             ],
             [
              0.6666666666666666,
              "#ed7953"
             ],
             [
              0.7777777777777778,
              "#fb9f3a"
             ],
             [
              0.8888888888888888,
              "#fdca26"
             ],
             [
              1,
              "#f0f921"
             ]
            ],
            "type": "heatmap"
           }
          ],
          "heatmapgl": [
           {
            "colorbar": {
             "outlinewidth": 0,
             "ticks": ""
            },
            "colorscale": [
             [
              0,
              "#0d0887"
             ],
             [
              0.1111111111111111,
              "#46039f"
             ],
             [
              0.2222222222222222,
              "#7201a8"
             ],
             [
              0.3333333333333333,
              "#9c179e"
             ],
             [
              0.4444444444444444,
              "#bd3786"
             ],
             [
              0.5555555555555556,
              "#d8576b"
             ],
             [
              0.6666666666666666,
              "#ed7953"
             ],
             [
              0.7777777777777778,
              "#fb9f3a"
             ],
             [
              0.8888888888888888,
              "#fdca26"
             ],
             [
              1,
              "#f0f921"
             ]
            ],
            "type": "heatmapgl"
           }
          ],
          "histogram": [
           {
            "marker": {
             "colorbar": {
              "outlinewidth": 0,
              "ticks": ""
             }
            },
            "type": "histogram"
           }
          ],
          "histogram2d": [
           {
            "colorbar": {
             "outlinewidth": 0,
             "ticks": ""
            },
            "colorscale": [
             [
              0,
              "#0d0887"
             ],
             [
              0.1111111111111111,
              "#46039f"
             ],
             [
              0.2222222222222222,
              "#7201a8"
             ],
             [
              0.3333333333333333,
              "#9c179e"
             ],
             [
              0.4444444444444444,
              "#bd3786"
             ],
             [
              0.5555555555555556,
              "#d8576b"
             ],
             [
              0.6666666666666666,
              "#ed7953"
             ],
             [
              0.7777777777777778,
              "#fb9f3a"
             ],
             [
              0.8888888888888888,
              "#fdca26"
             ],
             [
              1,
              "#f0f921"
             ]
            ],
            "type": "histogram2d"
           }
          ],
          "histogram2dcontour": [
           {
            "colorbar": {
             "outlinewidth": 0,
             "ticks": ""
            },
            "colorscale": [
             [
              0,
              "#0d0887"
             ],
             [
              0.1111111111111111,
              "#46039f"
             ],
             [
              0.2222222222222222,
              "#7201a8"
             ],
             [
              0.3333333333333333,
              "#9c179e"
             ],
             [
              0.4444444444444444,
              "#bd3786"
             ],
             [
              0.5555555555555556,
              "#d8576b"
             ],
             [
              0.6666666666666666,
              "#ed7953"
             ],
             [
              0.7777777777777778,
              "#fb9f3a"
             ],
             [
              0.8888888888888888,
              "#fdca26"
             ],
             [
              1,
              "#f0f921"
             ]
            ],
            "type": "histogram2dcontour"
           }
          ],
          "mesh3d": [
           {
            "colorbar": {
             "outlinewidth": 0,
             "ticks": ""
            },
            "type": "mesh3d"
           }
          ],
          "parcoords": [
           {
            "line": {
             "colorbar": {
              "outlinewidth": 0,
              "ticks": ""
             }
            },
            "type": "parcoords"
           }
          ],
          "pie": [
           {
            "automargin": true,
            "type": "pie"
           }
          ],
          "scatter": [
           {
            "marker": {
             "colorbar": {
              "outlinewidth": 0,
              "ticks": ""
             }
            },
            "type": "scatter"
           }
          ],
          "scatter3d": [
           {
            "line": {
             "colorbar": {
              "outlinewidth": 0,
              "ticks": ""
             }
            },
            "marker": {
             "colorbar": {
              "outlinewidth": 0,
              "ticks": ""
             }
            },
            "type": "scatter3d"
           }
          ],
          "scattercarpet": [
           {
            "marker": {
             "colorbar": {
              "outlinewidth": 0,
              "ticks": ""
             }
            },
            "type": "scattercarpet"
           }
          ],
          "scattergeo": [
           {
            "marker": {
             "colorbar": {
              "outlinewidth": 0,
              "ticks": ""
             }
            },
            "type": "scattergeo"
           }
          ],
          "scattergl": [
           {
            "marker": {
             "colorbar": {
              "outlinewidth": 0,
              "ticks": ""
             }
            },
            "type": "scattergl"
           }
          ],
          "scattermapbox": [
           {
            "marker": {
             "colorbar": {
              "outlinewidth": 0,
              "ticks": ""
             }
            },
            "type": "scattermapbox"
           }
          ],
          "scatterpolar": [
           {
            "marker": {
             "colorbar": {
              "outlinewidth": 0,
              "ticks": ""
             }
            },
            "type": "scatterpolar"
           }
          ],
          "scatterpolargl": [
           {
            "marker": {
             "colorbar": {
              "outlinewidth": 0,
              "ticks": ""
             }
            },
            "type": "scatterpolargl"
           }
          ],
          "scatterternary": [
           {
            "marker": {
             "colorbar": {
              "outlinewidth": 0,
              "ticks": ""
             }
            },
            "type": "scatterternary"
           }
          ],
          "surface": [
           {
            "colorbar": {
             "outlinewidth": 0,
             "ticks": ""
            },
            "colorscale": [
             [
              0,
              "#0d0887"
             ],
             [
              0.1111111111111111,
              "#46039f"
             ],
             [
              0.2222222222222222,
              "#7201a8"
             ],
             [
              0.3333333333333333,
              "#9c179e"
             ],
             [
              0.4444444444444444,
              "#bd3786"
             ],
             [
              0.5555555555555556,
              "#d8576b"
             ],
             [
              0.6666666666666666,
              "#ed7953"
             ],
             [
              0.7777777777777778,
              "#fb9f3a"
             ],
             [
              0.8888888888888888,
              "#fdca26"
             ],
             [
              1,
              "#f0f921"
             ]
            ],
            "type": "surface"
           }
          ],
          "table": [
           {
            "cells": {
             "fill": {
              "color": "#EBF0F8"
             },
             "line": {
              "color": "white"
             }
            },
            "header": {
             "fill": {
              "color": "#C8D4E3"
             },
             "line": {
              "color": "white"
             }
            },
            "type": "table"
           }
          ]
         },
         "layout": {
          "annotationdefaults": {
           "arrowcolor": "#2a3f5f",
           "arrowhead": 0,
           "arrowwidth": 1
          },
          "coloraxis": {
           "colorbar": {
            "outlinewidth": 0,
            "ticks": ""
           }
          },
          "colorscale": {
           "diverging": [
            [
             0,
             "#8e0152"
            ],
            [
             0.1,
             "#c51b7d"
            ],
            [
             0.2,
             "#de77ae"
            ],
            [
             0.3,
             "#f1b6da"
            ],
            [
             0.4,
             "#fde0ef"
            ],
            [
             0.5,
             "#f7f7f7"
            ],
            [
             0.6,
             "#e6f5d0"
            ],
            [
             0.7,
             "#b8e186"
            ],
            [
             0.8,
             "#7fbc41"
            ],
            [
             0.9,
             "#4d9221"
            ],
            [
             1,
             "#276419"
            ]
           ],
           "sequential": [
            [
             0,
             "#0d0887"
            ],
            [
             0.1111111111111111,
             "#46039f"
            ],
            [
             0.2222222222222222,
             "#7201a8"
            ],
            [
             0.3333333333333333,
             "#9c179e"
            ],
            [
             0.4444444444444444,
             "#bd3786"
            ],
            [
             0.5555555555555556,
             "#d8576b"
            ],
            [
             0.6666666666666666,
             "#ed7953"
            ],
            [
             0.7777777777777778,
             "#fb9f3a"
            ],
            [
             0.8888888888888888,
             "#fdca26"
            ],
            [
             1,
             "#f0f921"
            ]
           ],
           "sequentialminus": [
            [
             0,
             "#0d0887"
            ],
            [
             0.1111111111111111,
             "#46039f"
            ],
            [
             0.2222222222222222,
             "#7201a8"
            ],
            [
             0.3333333333333333,
             "#9c179e"
            ],
            [
             0.4444444444444444,
             "#bd3786"
            ],
            [
             0.5555555555555556,
             "#d8576b"
            ],
            [
             0.6666666666666666,
             "#ed7953"
            ],
            [
             0.7777777777777778,
             "#fb9f3a"
            ],
            [
             0.8888888888888888,
             "#fdca26"
            ],
            [
             1,
             "#f0f921"
            ]
           ]
          },
          "colorway": [
           "#636efa",
           "#EF553B",
           "#00cc96",
           "#ab63fa",
           "#FFA15A",
           "#19d3f3",
           "#FF6692",
           "#B6E880",
           "#FF97FF",
           "#FECB52"
          ],
          "font": {
           "color": "#2a3f5f"
          },
          "geo": {
           "bgcolor": "white",
           "lakecolor": "white",
           "landcolor": "#E5ECF6",
           "showlakes": true,
           "showland": true,
           "subunitcolor": "white"
          },
          "hoverlabel": {
           "align": "left"
          },
          "hovermode": "closest",
          "mapbox": {
           "style": "light"
          },
          "paper_bgcolor": "white",
          "plot_bgcolor": "#E5ECF6",
          "polar": {
           "angularaxis": {
            "gridcolor": "white",
            "linecolor": "white",
            "ticks": ""
           },
           "bgcolor": "#E5ECF6",
           "radialaxis": {
            "gridcolor": "white",
            "linecolor": "white",
            "ticks": ""
           }
          },
          "scene": {
           "xaxis": {
            "backgroundcolor": "#E5ECF6",
            "gridcolor": "white",
            "gridwidth": 2,
            "linecolor": "white",
            "showbackground": true,
            "ticks": "",
            "zerolinecolor": "white"
           },
           "yaxis": {
            "backgroundcolor": "#E5ECF6",
            "gridcolor": "white",
            "gridwidth": 2,
            "linecolor": "white",
            "showbackground": true,
            "ticks": "",
            "zerolinecolor": "white"
           },
           "zaxis": {
            "backgroundcolor": "#E5ECF6",
            "gridcolor": "white",
            "gridwidth": 2,
            "linecolor": "white",
            "showbackground": true,
            "ticks": "",
            "zerolinecolor": "white"
           }
          },
          "shapedefaults": {
           "line": {
            "color": "#2a3f5f"
           }
          },
          "ternary": {
           "aaxis": {
            "gridcolor": "white",
            "linecolor": "white",
            "ticks": ""
           },
           "baxis": {
            "gridcolor": "white",
            "linecolor": "white",
            "ticks": ""
           },
           "bgcolor": "#E5ECF6",
           "caxis": {
            "gridcolor": "white",
            "linecolor": "white",
            "ticks": ""
           }
          },
          "title": {
           "x": 0.05
          },
          "xaxis": {
           "automargin": true,
           "gridcolor": "white",
           "linecolor": "white",
           "ticks": "",
           "title": {
            "standoff": 15
           },
           "zerolinecolor": "white",
           "zerolinewidth": 2
          },
          "yaxis": {
           "automargin": true,
           "gridcolor": "white",
           "linecolor": "white",
           "ticks": "",
           "title": {
            "standoff": 15
           },
           "zerolinecolor": "white",
           "zerolinewidth": 2
          }
         }
        },
        "xaxis": {
         "anchor": "y",
         "domain": [
          0,
          1
         ],
         "title": {
          "text": "DOY"
         }
        },
        "yaxis": {
         "anchor": "x",
         "domain": [
          0,
          1
         ],
         "title": {
          "text": "expected loss revenue"
         }
        }
       }
      }
     },
     "metadata": {}
    }
   ],
   "source": [
    "import plotly.express as px\n",
    "\n",
    "fig = px.line(waste_df_extended, x=\"DOY\", y=\"expected loss revenue\")\n",
    "fig.add_scatter(x=waste_df_extended[\"DOY\"], y=waste_df_extended[\"loss revenue\"], mode=\"lines\")\n",
    "fig.show()"
   ]
  },
  {
   "cell_type": "code",
   "execution_count": 11,
   "metadata": {},
   "outputs": [
    {
     "output_type": "execute_result",
     "data": {
      "text/plain": [
       "1418.0"
      ]
     },
     "metadata": {},
     "execution_count": 11
    }
   ],
   "source": [
    "actual_purchases = test['purchases'].sum()\n",
    "actual_purchases "
   ]
  },
  {
   "cell_type": "code",
   "execution_count": 12,
   "metadata": {},
   "outputs": [],
   "source": [
    "pred_demand_discounts = test[\"demand_discounts\"].sum()"
   ]
  },
  {
   "cell_type": "code",
   "execution_count": 13,
   "metadata": {},
   "outputs": [
    {
     "output_type": "execute_result",
     "data": {
      "text/plain": [
       "1806.9149483893552"
      ]
     },
     "metadata": {},
     "execution_count": 13
    }
   ],
   "source": [
    "pred_demand = test[\"predicted demand\"].sum()\n",
    "pred_demand"
   ]
  },
  {
   "cell_type": "code",
   "execution_count": 14,
   "metadata": {},
   "outputs": [
    {
     "output_type": "execute_result",
     "data": {
      "text/plain": [
       "1734.6240243785185"
      ]
     },
     "metadata": {},
     "execution_count": 14
    }
   ],
   "source": [
    "(pred_demand_discounts/pred_demand)*actual_purchases"
   ]
  }
 ]
}