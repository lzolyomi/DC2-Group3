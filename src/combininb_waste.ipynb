{
 "metadata": {
  "language_info": {
   "codemirror_mode": {
    "name": "ipython",
    "version": 3
   },
   "file_extension": ".py",
   "mimetype": "text/x-python",
   "name": "python",
   "nbconvert_exporter": "python",
   "pygments_lexer": "ipython3",
   "version": "3.8.2-final"
  },
  "orig_nbformat": 2,
  "kernelspec": {
   "name": "python3",
   "display_name": "Python 3.8.2 64-bit",
   "metadata": {
    "interpreter": {
     "hash": "1baa965d5efe3ac65b79dfc60c0d706280b1da80fedb7760faf2759126c4f253"
    }
   }
  }
 },
 "nbformat": 4,
 "nbformat_minor": 2,
 "cells": [
  {
   "cell_type": "code",
   "execution_count": 1,
   "metadata": {},
   "outputs": [],
   "source": [
    "import pandas as pd\n",
    "import numpy as np \n",
    "import datetime\n",
    "inventory = pd.read_csv(\"data/inventory.csv\")\n",
    "products = pd.read_csv(\"data/products.csv\")\n",
    "promotions = pd.read_csv(\"data/promotions.csv\")\n",
    "transactions = pd.read_csv(\"data/transactions.csv\")\n",
    "\n",
    "#create a reference dataframe\n",
    "dayofyear = list(range(365))\n",
    "date = [datetime.datetime(2018, 1, 1) + datetime.timedelta(day) for day in dayofyear]\n",
    "df_date = pd.DataFrame({\"day\":dayofyear, \"date\":date})\n",
    "\n",
    "import ast\n",
    "for colname in inventory.columns[2:]:\n",
    "    inventory[colname] = [ast.literal_eval(i) for i in inventory[colname]]\n",
    "    #converting inventory rows to list of tuples from string\n",
    "product = \"Biologische prei\"\n",
    "filtered_transactions = transactions[transactions[\"description\"] == product]\n",
    "filtered_inventory = inventory[[\"day\", \"before or after delivery\", product]]"
   ]
  },
  {
   "source": [
    "## Testing `waste analysis` function "
   ],
   "cell_type": "markdown",
   "metadata": {}
  },
  {
   "cell_type": "code",
   "execution_count": 2,
   "metadata": {},
   "outputs": [
    {
     "output_type": "stream",
     "name": "stdout",
     "text": [
      "Extended waste dataframe created\n",
      "compl_product is a string\n",
      "Data prepared for prediction\n",
      "Model fitted; test set metrics: MAE: 1.8800259673437245 MSE: 5.048821404639766, R^2 score: -0.290824821125778\n",
      "Demand function fitted\n",
      "Value error occurred\n",
      "Value error occurred\n",
      "Value error occurred\n",
      "Average of actual/estimated purchase ratios: 0.21296535558961688\n",
      "Waste change predicted, calculating revenue loss...\n"
     ]
    },
    {
     "output_type": "execute_result",
     "data": {
      "text/plain": [
       "                 amount    DOY  cumulative purchases  purchases  remaining  \\\n",
       "best before day                                                              \n",
       "14                   30   14.0                  76.0        NaN      -46.0   \n",
       "17                   30   17.0                  85.0        9.0       21.0   \n",
       "21                   25   21.0                  96.0       11.0       14.0   \n",
       "24                   25   24.0                 108.0       12.0       13.0   \n",
       "28                   25   28.0                 127.0       19.0        6.0   \n",
       "...                 ...    ...                   ...        ...        ...   \n",
       "350                  25  350.0                1373.0       10.0       15.0   \n",
       "353                  25  352.0                1380.0        7.0       18.0   \n",
       "357                  25  357.0                1397.0       17.0        8.0   \n",
       "360                  25  360.0                1410.0       13.0       12.0   \n",
       "364                  25  363.0                1418.0        8.0       17.0   \n",
       "\n",
       "                 waste  week  waste nn  predicted demand  demand_discounts  \\\n",
       "best before day                                                              \n",
       "14               -46.0     3       0.0               245               245   \n",
       "17               -25.0     3       0.0                78                84   \n",
       "21               -11.0     4       0.0                59                65   \n",
       "24                 2.0     4       2.0                60                68   \n",
       "28                 6.0     5       6.0                92                92   \n",
       "...                ...   ...       ...               ...               ...   \n",
       "350               15.0    51      15.0                67                73   \n",
       "353               18.0    51      18.0                36                36   \n",
       "357                8.0    52       8.0                76                82   \n",
       "360               12.0    52      12.0                59                67   \n",
       "364               17.0    52      17.0                49                56   \n",
       "\n",
       "                 avg_price  std_price  expected purchases  expected waste  \\\n",
       "best before day                                                             \n",
       "14                0.598816   0.597857                 NaN             0.0   \n",
       "17                0.644000   0.690000                10.0             0.0   \n",
       "21                0.575000   0.690000                12.0             0.0   \n",
       "24                0.472385   0.690000                13.0             1.0   \n",
       "28                0.690000   0.690000                20.0             5.0   \n",
       "...                    ...        ...                 ...             ...   \n",
       "350               0.627273   0.690000                11.0            14.0   \n",
       "353               0.690000   0.690000                 7.0            18.0   \n",
       "357               0.616941   0.690000                18.0             7.0   \n",
       "360               0.490393   0.690000                14.0            11.0   \n",
       "364               0.603750   0.690000                 8.0            17.0   \n",
       "\n",
       "                 expected loss revenue  expected loss profit  \\\n",
       "best before day                                                \n",
       "14                                0.00              0.000000   \n",
       "17                                0.00              0.000000   \n",
       "21                                0.00              0.000000   \n",
       "24                                0.47              0.322385   \n",
       "28                                3.45              2.700000   \n",
       "...                                ...                   ...   \n",
       "350                               8.78              6.681818   \n",
       "353                              12.42              9.720000   \n",
       "357                               4.32              3.268588   \n",
       "360                               5.39              3.744321   \n",
       "364                              10.26              7.713750   \n",
       "\n",
       "                 expected waste cost  loss revenue  loss profit  waste cost  \n",
       "best before day                                                              \n",
       "14                              0.00          0.00         0.00        0.00  \n",
       "17                              0.00          0.00         0.00        0.00  \n",
       "21                              0.00          0.00         0.00        0.00  \n",
       "24                              0.15          1.38         1.08        0.30  \n",
       "28                              0.75          4.14         3.24        0.90  \n",
       "...                              ...           ...          ...         ...  \n",
       "350                             2.10         10.35         8.10        2.25  \n",
       "353                             2.70         12.42         9.72        2.70  \n",
       "357                             1.05          5.52         4.32        1.20  \n",
       "360                             1.65          8.28         6.48        1.80  \n",
       "364                             2.55         11.73         9.18        2.55  \n",
       "\n",
       "[101 rows x 20 columns]"
      ],
      "text/html": "<div>\n<style scoped>\n    .dataframe tbody tr th:only-of-type {\n        vertical-align: middle;\n    }\n\n    .dataframe tbody tr th {\n        vertical-align: top;\n    }\n\n    .dataframe thead th {\n        text-align: right;\n    }\n</style>\n<table border=\"1\" class=\"dataframe\">\n  <thead>\n    <tr style=\"text-align: right;\">\n      <th></th>\n      <th>amount</th>\n      <th>DOY</th>\n      <th>cumulative purchases</th>\n      <th>purchases</th>\n      <th>remaining</th>\n      <th>waste</th>\n      <th>week</th>\n      <th>waste nn</th>\n      <th>predicted demand</th>\n      <th>demand_discounts</th>\n      <th>avg_price</th>\n      <th>std_price</th>\n      <th>expected purchases</th>\n      <th>expected waste</th>\n      <th>expected loss revenue</th>\n      <th>expected loss profit</th>\n      <th>expected waste cost</th>\n      <th>loss revenue</th>\n      <th>loss profit</th>\n      <th>waste cost</th>\n    </tr>\n    <tr>\n      <th>best before day</th>\n      <th></th>\n      <th></th>\n      <th></th>\n      <th></th>\n      <th></th>\n      <th></th>\n      <th></th>\n      <th></th>\n      <th></th>\n      <th></th>\n      <th></th>\n      <th></th>\n      <th></th>\n      <th></th>\n      <th></th>\n      <th></th>\n      <th></th>\n      <th></th>\n      <th></th>\n      <th></th>\n    </tr>\n  </thead>\n  <tbody>\n    <tr>\n      <th>14</th>\n      <td>30</td>\n      <td>14.0</td>\n      <td>76.0</td>\n      <td>NaN</td>\n      <td>-46.0</td>\n      <td>-46.0</td>\n      <td>3</td>\n      <td>0.0</td>\n      <td>245</td>\n      <td>245</td>\n      <td>0.598816</td>\n      <td>0.597857</td>\n      <td>NaN</td>\n      <td>0.0</td>\n      <td>0.00</td>\n      <td>0.000000</td>\n      <td>0.00</td>\n      <td>0.00</td>\n      <td>0.00</td>\n      <td>0.00</td>\n    </tr>\n    <tr>\n      <th>17</th>\n      <td>30</td>\n      <td>17.0</td>\n      <td>85.0</td>\n      <td>9.0</td>\n      <td>21.0</td>\n      <td>-25.0</td>\n      <td>3</td>\n      <td>0.0</td>\n      <td>78</td>\n      <td>84</td>\n      <td>0.644000</td>\n      <td>0.690000</td>\n      <td>10.0</td>\n      <td>0.0</td>\n      <td>0.00</td>\n      <td>0.000000</td>\n      <td>0.00</td>\n      <td>0.00</td>\n      <td>0.00</td>\n      <td>0.00</td>\n    </tr>\n    <tr>\n      <th>21</th>\n      <td>25</td>\n      <td>21.0</td>\n      <td>96.0</td>\n      <td>11.0</td>\n      <td>14.0</td>\n      <td>-11.0</td>\n      <td>4</td>\n      <td>0.0</td>\n      <td>59</td>\n      <td>65</td>\n      <td>0.575000</td>\n      <td>0.690000</td>\n      <td>12.0</td>\n      <td>0.0</td>\n      <td>0.00</td>\n      <td>0.000000</td>\n      <td>0.00</td>\n      <td>0.00</td>\n      <td>0.00</td>\n      <td>0.00</td>\n    </tr>\n    <tr>\n      <th>24</th>\n      <td>25</td>\n      <td>24.0</td>\n      <td>108.0</td>\n      <td>12.0</td>\n      <td>13.0</td>\n      <td>2.0</td>\n      <td>4</td>\n      <td>2.0</td>\n      <td>60</td>\n      <td>68</td>\n      <td>0.472385</td>\n      <td>0.690000</td>\n      <td>13.0</td>\n      <td>1.0</td>\n      <td>0.47</td>\n      <td>0.322385</td>\n      <td>0.15</td>\n      <td>1.38</td>\n      <td>1.08</td>\n      <td>0.30</td>\n    </tr>\n    <tr>\n      <th>28</th>\n      <td>25</td>\n      <td>28.0</td>\n      <td>127.0</td>\n      <td>19.0</td>\n      <td>6.0</td>\n      <td>6.0</td>\n      <td>5</td>\n      <td>6.0</td>\n      <td>92</td>\n      <td>92</td>\n      <td>0.690000</td>\n      <td>0.690000</td>\n      <td>20.0</td>\n      <td>5.0</td>\n      <td>3.45</td>\n      <td>2.700000</td>\n      <td>0.75</td>\n      <td>4.14</td>\n      <td>3.24</td>\n      <td>0.90</td>\n    </tr>\n    <tr>\n      <th>...</th>\n      <td>...</td>\n      <td>...</td>\n      <td>...</td>\n      <td>...</td>\n      <td>...</td>\n      <td>...</td>\n      <td>...</td>\n      <td>...</td>\n      <td>...</td>\n      <td>...</td>\n      <td>...</td>\n      <td>...</td>\n      <td>...</td>\n      <td>...</td>\n      <td>...</td>\n      <td>...</td>\n      <td>...</td>\n      <td>...</td>\n      <td>...</td>\n      <td>...</td>\n    </tr>\n    <tr>\n      <th>350</th>\n      <td>25</td>\n      <td>350.0</td>\n      <td>1373.0</td>\n      <td>10.0</td>\n      <td>15.0</td>\n      <td>15.0</td>\n      <td>51</td>\n      <td>15.0</td>\n      <td>67</td>\n      <td>73</td>\n      <td>0.627273</td>\n      <td>0.690000</td>\n      <td>11.0</td>\n      <td>14.0</td>\n      <td>8.78</td>\n      <td>6.681818</td>\n      <td>2.10</td>\n      <td>10.35</td>\n      <td>8.10</td>\n      <td>2.25</td>\n    </tr>\n    <tr>\n      <th>353</th>\n      <td>25</td>\n      <td>352.0</td>\n      <td>1380.0</td>\n      <td>7.0</td>\n      <td>18.0</td>\n      <td>18.0</td>\n      <td>51</td>\n      <td>18.0</td>\n      <td>36</td>\n      <td>36</td>\n      <td>0.690000</td>\n      <td>0.690000</td>\n      <td>7.0</td>\n      <td>18.0</td>\n      <td>12.42</td>\n      <td>9.720000</td>\n      <td>2.70</td>\n      <td>12.42</td>\n      <td>9.72</td>\n      <td>2.70</td>\n    </tr>\n    <tr>\n      <th>357</th>\n      <td>25</td>\n      <td>357.0</td>\n      <td>1397.0</td>\n      <td>17.0</td>\n      <td>8.0</td>\n      <td>8.0</td>\n      <td>52</td>\n      <td>8.0</td>\n      <td>76</td>\n      <td>82</td>\n      <td>0.616941</td>\n      <td>0.690000</td>\n      <td>18.0</td>\n      <td>7.0</td>\n      <td>4.32</td>\n      <td>3.268588</td>\n      <td>1.05</td>\n      <td>5.52</td>\n      <td>4.32</td>\n      <td>1.20</td>\n    </tr>\n    <tr>\n      <th>360</th>\n      <td>25</td>\n      <td>360.0</td>\n      <td>1410.0</td>\n      <td>13.0</td>\n      <td>12.0</td>\n      <td>12.0</td>\n      <td>52</td>\n      <td>12.0</td>\n      <td>59</td>\n      <td>67</td>\n      <td>0.490393</td>\n      <td>0.690000</td>\n      <td>14.0</td>\n      <td>11.0</td>\n      <td>5.39</td>\n      <td>3.744321</td>\n      <td>1.65</td>\n      <td>8.28</td>\n      <td>6.48</td>\n      <td>1.80</td>\n    </tr>\n    <tr>\n      <th>364</th>\n      <td>25</td>\n      <td>363.0</td>\n      <td>1418.0</td>\n      <td>8.0</td>\n      <td>17.0</td>\n      <td>17.0</td>\n      <td>52</td>\n      <td>17.0</td>\n      <td>49</td>\n      <td>56</td>\n      <td>0.603750</td>\n      <td>0.690000</td>\n      <td>8.0</td>\n      <td>17.0</td>\n      <td>10.26</td>\n      <td>7.713750</td>\n      <td>2.55</td>\n      <td>11.73</td>\n      <td>9.18</td>\n      <td>2.55</td>\n    </tr>\n  </tbody>\n</table>\n<p>101 rows × 20 columns</p>\n</div>"
     },
     "metadata": {},
     "execution_count": 2
    }
   ],
   "source": [
    "complimentary = \"Biologisch volkoren heel\"\n",
    "from sklearn.ensemble import RandomForestRegressor\n",
    "rf = RandomForestRegressor(n_estimators=50)\n",
    "output_full = waste_analysis(inventory, transactions, products, product, discount_per_day=discount_per_day,compl_prod=complimentary)\n",
    "1.8624454296986455\n",
    "output_full"
   ]
  },
  {
   "cell_type": "code",
   "execution_count": 3,
   "metadata": {},
   "outputs": [
    {
     "output_type": "execute_result",
     "data": {
      "text/plain": [
       "array([727.29, 567.24, 160.05, 535.03, 401.27, 133.8 ])"
      ]
     },
     "metadata": {},
     "execution_count": 3
    }
   ],
   "source": [
    "money_cols = [\"loss revenue\", \"loss profit\", \"waste cost\", \"expected loss revenue\", \"expected loss profit\", \"expected waste cost\"]\n",
    "output_full[money_cols].sum().values.round(2)"
   ]
  },
  {
   "cell_type": "code",
   "execution_count": 4,
   "metadata": {},
   "outputs": [
    {
     "output_type": "execute_result",
     "data": {
      "text/plain": [
       "         Metric                 Method  values product\n",
       "0  Loss revenue                 Actual   727.3    name\n",
       "1   Loss profit                 Actual   567.2    name\n",
       "2    Waste cost                 Actual   160.1    name\n",
       "3  Loss revenue  Predicted w/discounts   535.0    name\n",
       "4   Loss profit  Predicted w/discounts   401.3    name\n",
       "5    Waste cost  Predicted w/discounts   133.8    name"
      ],
      "text/html": "<div>\n<style scoped>\n    .dataframe tbody tr th:only-of-type {\n        vertical-align: middle;\n    }\n\n    .dataframe tbody tr th {\n        vertical-align: top;\n    }\n\n    .dataframe thead th {\n        text-align: right;\n    }\n</style>\n<table border=\"1\" class=\"dataframe\">\n  <thead>\n    <tr style=\"text-align: right;\">\n      <th></th>\n      <th>Metric</th>\n      <th>Method</th>\n      <th>values</th>\n      <th>product</th>\n    </tr>\n  </thead>\n  <tbody>\n    <tr>\n      <th>0</th>\n      <td>Loss revenue</td>\n      <td>Actual</td>\n      <td>727.3</td>\n      <td>name</td>\n    </tr>\n    <tr>\n      <th>1</th>\n      <td>Loss profit</td>\n      <td>Actual</td>\n      <td>567.2</td>\n      <td>name</td>\n    </tr>\n    <tr>\n      <th>2</th>\n      <td>Waste cost</td>\n      <td>Actual</td>\n      <td>160.1</td>\n      <td>name</td>\n    </tr>\n    <tr>\n      <th>3</th>\n      <td>Loss revenue</td>\n      <td>Predicted w/discounts</td>\n      <td>535.0</td>\n      <td>name</td>\n    </tr>\n    <tr>\n      <th>4</th>\n      <td>Loss profit</td>\n      <td>Predicted w/discounts</td>\n      <td>401.3</td>\n      <td>name</td>\n    </tr>\n    <tr>\n      <th>5</th>\n      <td>Waste cost</td>\n      <td>Predicted w/discounts</td>\n      <td>133.8</td>\n      <td>name</td>\n    </tr>\n  </tbody>\n</table>\n</div>"
     },
     "metadata": {},
     "execution_count": 4
    }
   ],
   "source": [
    "results = pd.DataFrame({\"Metric\":[\"Loss revenue\", \"Loss profit\", \"Waste cost\",\"Loss revenue\", \"Loss profit\", \"Waste cost\"], \"Method\":[\"Actual\", \"Actual\", \"Actual\", \"Predicted w/discounts\", \"Predicted w/discounts\", \"Predicted w/discounts\"], \"values\":output_full[money_cols].sum().values.round(1)})\n",
    "results[\"product\"] = [\"name\", \"name\", \"name\", \"name\", \"name\", \"name\"]\n",
    "results"
   ]
  },
  {
   "cell_type": "code",
   "execution_count": 5,
   "metadata": {},
   "outputs": [
    {
     "output_type": "display_data",
     "data": {
      "application/vnd.plotly.v1+json": {
       "config": {
        "plotlyServerURL": "https://plot.ly"
       },
       "data": [
        {
         "alignmentgroup": "True",
         "hovertemplate": "Method=Actual<br>Metric=%{x}<br>values=%{text}<extra></extra>",
         "legendgroup": "Actual",
         "marker": {
          "color": "#636efa"
         },
         "name": "Actual",
         "offsetgroup": "Actual",
         "orientation": "v",
         "showlegend": true,
         "text": [
          727.3,
          567.2,
          160.1
         ],
         "textposition": "auto",
         "type": "bar",
         "x": [
          "Loss revenue",
          "Loss profit",
          "Waste cost"
         ],
         "xaxis": "x",
         "y": [
          727.3,
          567.2,
          160.1
         ],
         "yaxis": "y"
        },
        {
         "alignmentgroup": "True",
         "hovertemplate": "Method=Predicted w/discounts<br>Metric=%{x}<br>values=%{text}<extra></extra>",
         "legendgroup": "Predicted w/discounts",
         "marker": {
          "color": "#EF553B"
         },
         "name": "Predicted w/discounts",
         "offsetgroup": "Predicted w/discounts",
         "orientation": "v",
         "showlegend": true,
         "text": [
          535,
          401.3,
          133.8
         ],
         "textposition": "auto",
         "type": "bar",
         "x": [
          "Loss revenue",
          "Loss profit",
          "Waste cost"
         ],
         "xaxis": "x",
         "y": [
          535,
          401.3,
          133.8
         ],
         "yaxis": "y"
        }
       ],
       "layout": {
        "barmode": "group",
        "legend": {
         "title": {
          "text": "Method"
         },
         "tracegroupgap": 0
        },
        "margin": {
         "t": 60
        },
        "template": {
         "data": {
          "bar": [
           {
            "error_x": {
             "color": "#2a3f5f"
            },
            "error_y": {
             "color": "#2a3f5f"
            },
            "marker": {
             "line": {
              "color": "#E5ECF6",
              "width": 0.5
             }
            },
            "type": "bar"
           }
          ],
          "barpolar": [
           {
            "marker": {
             "line": {
              "color": "#E5ECF6",
              "width": 0.5
             }
            },
            "type": "barpolar"
           }
          ],
          "carpet": [
           {
            "aaxis": {
             "endlinecolor": "#2a3f5f",
             "gridcolor": "white",
             "linecolor": "white",
             "minorgridcolor": "white",
             "startlinecolor": "#2a3f5f"
            },
            "baxis": {
             "endlinecolor": "#2a3f5f",
             "gridcolor": "white",
             "linecolor": "white",
             "minorgridcolor": "white",
             "startlinecolor": "#2a3f5f"
            },
            "type": "carpet"
           }
          ],
          "choropleth": [
           {
            "colorbar": {
             "outlinewidth": 0,
             "ticks": ""
            },
            "type": "choropleth"
           }
          ],
          "contour": [
           {
            "colorbar": {
             "outlinewidth": 0,
             "ticks": ""
            },
            "colorscale": [
             [
              0,
              "#0d0887"
             ],
             [
              0.1111111111111111,
              "#46039f"
             ],
             [
              0.2222222222222222,
              "#7201a8"
             ],
             [
              0.3333333333333333,
              "#9c179e"
             ],
             [
              0.4444444444444444,
              "#bd3786"
             ],
             [
              0.5555555555555556,
              "#d8576b"
             ],
             [
              0.6666666666666666,
              "#ed7953"
             ],
             [
              0.7777777777777778,
              "#fb9f3a"
             ],
             [
              0.8888888888888888,
              "#fdca26"
             ],
             [
              1,
              "#f0f921"
             ]
            ],
            "type": "contour"
           }
          ],
          "contourcarpet": [
           {
            "colorbar": {
             "outlinewidth": 0,
             "ticks": ""
            },
            "type": "contourcarpet"
           }
          ],
          "heatmap": [
           {
            "colorbar": {
             "outlinewidth": 0,
             "ticks": ""
            },
            "colorscale": [
             [
              0,
              "#0d0887"
             ],
             [
              0.1111111111111111,
              "#46039f"
             ],
             [
              0.2222222222222222,
              "#7201a8"
             ],
             [
              0.3333333333333333,
              "#9c179e"
             ],
             [
              0.4444444444444444,
              "#bd3786"
             ],
             [
              0.5555555555555556,
              "#d8576b"
             ],
             [
              0.6666666666666666,
              "#ed7953"
             ],
             [
              0.7777777777777778,
              "#fb9f3a"
             ],
             [
              0.8888888888888888,
              "#fdca26"
             ],
             [
              1,
              "#f0f921"
             ]
            ],
            "type": "heatmap"
           }
          ],
          "heatmapgl": [
           {
            "colorbar": {
             "outlinewidth": 0,
             "ticks": ""
            },
            "colorscale": [
             [
              0,
              "#0d0887"
             ],
             [
              0.1111111111111111,
              "#46039f"
             ],
             [
              0.2222222222222222,
              "#7201a8"
             ],
             [
              0.3333333333333333,
              "#9c179e"
             ],
             [
              0.4444444444444444,
              "#bd3786"
             ],
             [
              0.5555555555555556,
              "#d8576b"
             ],
             [
              0.6666666666666666,
              "#ed7953"
             ],
             [
              0.7777777777777778,
              "#fb9f3a"
             ],
             [
              0.8888888888888888,
              "#fdca26"
             ],
             [
              1,
              "#f0f921"
             ]
            ],
            "type": "heatmapgl"
           }
          ],
          "histogram": [
           {
            "marker": {
             "colorbar": {
              "outlinewidth": 0,
              "ticks": ""
             }
            },
            "type": "histogram"
           }
          ],
          "histogram2d": [
           {
            "colorbar": {
             "outlinewidth": 0,
             "ticks": ""
            },
            "colorscale": [
             [
              0,
              "#0d0887"
             ],
             [
              0.1111111111111111,
              "#46039f"
             ],
             [
              0.2222222222222222,
              "#7201a8"
             ],
             [
              0.3333333333333333,
              "#9c179e"
             ],
             [
              0.4444444444444444,
              "#bd3786"
             ],
             [
              0.5555555555555556,
              "#d8576b"
             ],
             [
              0.6666666666666666,
              "#ed7953"
             ],
             [
              0.7777777777777778,
              "#fb9f3a"
             ],
             [
              0.8888888888888888,
              "#fdca26"
             ],
             [
              1,
              "#f0f921"
             ]
            ],
            "type": "histogram2d"
           }
          ],
          "histogram2dcontour": [
           {
            "colorbar": {
             "outlinewidth": 0,
             "ticks": ""
            },
            "colorscale": [
             [
              0,
              "#0d0887"
             ],
             [
              0.1111111111111111,
              "#46039f"
             ],
             [
              0.2222222222222222,
              "#7201a8"
             ],
             [
              0.3333333333333333,
              "#9c179e"
             ],
             [
              0.4444444444444444,
              "#bd3786"
             ],
             [
              0.5555555555555556,
              "#d8576b"
             ],
             [
              0.6666666666666666,
              "#ed7953"
             ],
             [
              0.7777777777777778,
              "#fb9f3a"
             ],
             [
              0.8888888888888888,
              "#fdca26"
             ],
             [
              1,
              "#f0f921"
             ]
            ],
            "type": "histogram2dcontour"
           }
          ],
          "mesh3d": [
           {
            "colorbar": {
             "outlinewidth": 0,
             "ticks": ""
            },
            "type": "mesh3d"
           }
          ],
          "parcoords": [
           {
            "line": {
             "colorbar": {
              "outlinewidth": 0,
              "ticks": ""
             }
            },
            "type": "parcoords"
           }
          ],
          "pie": [
           {
            "automargin": true,
            "type": "pie"
           }
          ],
          "scatter": [
           {
            "marker": {
             "colorbar": {
              "outlinewidth": 0,
              "ticks": ""
             }
            },
            "type": "scatter"
           }
          ],
          "scatter3d": [
           {
            "line": {
             "colorbar": {
              "outlinewidth": 0,
              "ticks": ""
             }
            },
            "marker": {
             "colorbar": {
              "outlinewidth": 0,
              "ticks": ""
             }
            },
            "type": "scatter3d"
           }
          ],
          "scattercarpet": [
           {
            "marker": {
             "colorbar": {
              "outlinewidth": 0,
              "ticks": ""
             }
            },
            "type": "scattercarpet"
           }
          ],
          "scattergeo": [
           {
            "marker": {
             "colorbar": {
              "outlinewidth": 0,
              "ticks": ""
             }
            },
            "type": "scattergeo"
           }
          ],
          "scattergl": [
           {
            "marker": {
             "colorbar": {
              "outlinewidth": 0,
              "ticks": ""
             }
            },
            "type": "scattergl"
           }
          ],
          "scattermapbox": [
           {
            "marker": {
             "colorbar": {
              "outlinewidth": 0,
              "ticks": ""
             }
            },
            "type": "scattermapbox"
           }
          ],
          "scatterpolar": [
           {
            "marker": {
             "colorbar": {
              "outlinewidth": 0,
              "ticks": ""
             }
            },
            "type": "scatterpolar"
           }
          ],
          "scatterpolargl": [
           {
            "marker": {
             "colorbar": {
              "outlinewidth": 0,
              "ticks": ""
             }
            },
            "type": "scatterpolargl"
           }
          ],
          "scatterternary": [
           {
            "marker": {
             "colorbar": {
              "outlinewidth": 0,
              "ticks": ""
             }
            },
            "type": "scatterternary"
           }
          ],
          "surface": [
           {
            "colorbar": {
             "outlinewidth": 0,
             "ticks": ""
            },
            "colorscale": [
             [
              0,
              "#0d0887"
             ],
             [
              0.1111111111111111,
              "#46039f"
             ],
             [
              0.2222222222222222,
              "#7201a8"
             ],
             [
              0.3333333333333333,
              "#9c179e"
             ],
             [
              0.4444444444444444,
              "#bd3786"
             ],
             [
              0.5555555555555556,
              "#d8576b"
             ],
             [
              0.6666666666666666,
              "#ed7953"
             ],
             [
              0.7777777777777778,
              "#fb9f3a"
             ],
             [
              0.8888888888888888,
              "#fdca26"
             ],
             [
              1,
              "#f0f921"
             ]
            ],
            "type": "surface"
           }
          ],
          "table": [
           {
            "cells": {
             "fill": {
              "color": "#EBF0F8"
             },
             "line": {
              "color": "white"
             }
            },
            "header": {
             "fill": {
              "color": "#C8D4E3"
             },
             "line": {
              "color": "white"
             }
            },
            "type": "table"
           }
          ]
         },
         "layout": {
          "annotationdefaults": {
           "arrowcolor": "#2a3f5f",
           "arrowhead": 0,
           "arrowwidth": 1
          },
          "coloraxis": {
           "colorbar": {
            "outlinewidth": 0,
            "ticks": ""
           }
          },
          "colorscale": {
           "diverging": [
            [
             0,
             "#8e0152"
            ],
            [
             0.1,
             "#c51b7d"
            ],
            [
             0.2,
             "#de77ae"
            ],
            [
             0.3,
             "#f1b6da"
            ],
            [
             0.4,
             "#fde0ef"
            ],
            [
             0.5,
             "#f7f7f7"
            ],
            [
             0.6,
             "#e6f5d0"
            ],
            [
             0.7,
             "#b8e186"
            ],
            [
             0.8,
             "#7fbc41"
            ],
            [
             0.9,
             "#4d9221"
            ],
            [
             1,
             "#276419"
            ]
           ],
           "sequential": [
            [
             0,
             "#0d0887"
            ],
            [
             0.1111111111111111,
             "#46039f"
            ],
            [
             0.2222222222222222,
             "#7201a8"
            ],
            [
             0.3333333333333333,
             "#9c179e"
            ],
            [
             0.4444444444444444,
             "#bd3786"
            ],
            [
             0.5555555555555556,
             "#d8576b"
            ],
            [
             0.6666666666666666,
             "#ed7953"
            ],
            [
             0.7777777777777778,
             "#fb9f3a"
            ],
            [
             0.8888888888888888,
             "#fdca26"
            ],
            [
             1,
             "#f0f921"
            ]
           ],
           "sequentialminus": [
            [
             0,
             "#0d0887"
            ],
            [
             0.1111111111111111,
             "#46039f"
            ],
            [
             0.2222222222222222,
             "#7201a8"
            ],
            [
             0.3333333333333333,
             "#9c179e"
            ],
            [
             0.4444444444444444,
             "#bd3786"
            ],
            [
             0.5555555555555556,
             "#d8576b"
            ],
            [
             0.6666666666666666,
             "#ed7953"
            ],
            [
             0.7777777777777778,
             "#fb9f3a"
            ],
            [
             0.8888888888888888,
             "#fdca26"
            ],
            [
             1,
             "#f0f921"
            ]
           ]
          },
          "colorway": [
           "#636efa",
           "#EF553B",
           "#00cc96",
           "#ab63fa",
           "#FFA15A",
           "#19d3f3",
           "#FF6692",
           "#B6E880",
           "#FF97FF",
           "#FECB52"
          ],
          "font": {
           "color": "#2a3f5f"
          },
          "geo": {
           "bgcolor": "white",
           "lakecolor": "white",
           "landcolor": "#E5ECF6",
           "showlakes": true,
           "showland": true,
           "subunitcolor": "white"
          },
          "hoverlabel": {
           "align": "left"
          },
          "hovermode": "closest",
          "mapbox": {
           "style": "light"
          },
          "paper_bgcolor": "white",
          "plot_bgcolor": "#E5ECF6",
          "polar": {
           "angularaxis": {
            "gridcolor": "white",
            "linecolor": "white",
            "ticks": ""
           },
           "bgcolor": "#E5ECF6",
           "radialaxis": {
            "gridcolor": "white",
            "linecolor": "white",
            "ticks": ""
           }
          },
          "scene": {
           "xaxis": {
            "backgroundcolor": "#E5ECF6",
            "gridcolor": "white",
            "gridwidth": 2,
            "linecolor": "white",
            "showbackground": true,
            "ticks": "",
            "zerolinecolor": "white"
           },
           "yaxis": {
            "backgroundcolor": "#E5ECF6",
            "gridcolor": "white",
            "gridwidth": 2,
            "linecolor": "white",
            "showbackground": true,
            "ticks": "",
            "zerolinecolor": "white"
           },
           "zaxis": {
            "backgroundcolor": "#E5ECF6",
            "gridcolor": "white",
            "gridwidth": 2,
            "linecolor": "white",
            "showbackground": true,
            "ticks": "",
            "zerolinecolor": "white"
           }
          },
          "shapedefaults": {
           "line": {
            "color": "#2a3f5f"
           }
          },
          "ternary": {
           "aaxis": {
            "gridcolor": "white",
            "linecolor": "white",
            "ticks": ""
           },
           "baxis": {
            "gridcolor": "white",
            "linecolor": "white",
            "ticks": ""
           },
           "bgcolor": "#E5ECF6",
           "caxis": {
            "gridcolor": "white",
            "linecolor": "white",
            "ticks": ""
           }
          },
          "title": {
           "x": 0.05
          },
          "xaxis": {
           "automargin": true,
           "gridcolor": "white",
           "linecolor": "white",
           "ticks": "",
           "title": {
            "standoff": 15
           },
           "zerolinecolor": "white",
           "zerolinewidth": 2
          },
          "yaxis": {
           "automargin": true,
           "gridcolor": "white",
           "linecolor": "white",
           "ticks": "",
           "title": {
            "standoff": 15
           },
           "zerolinecolor": "white",
           "zerolinewidth": 2
          }
         }
        },
        "xaxis": {
         "anchor": "y",
         "domain": [
          0,
          1
         ],
         "title": {
          "text": "Metric"
         }
        },
        "yaxis": {
         "anchor": "x",
         "domain": [
          0,
          1
         ],
         "title": {
          "text": "values"
         }
        }
       }
      }
     },
     "metadata": {}
    }
   ],
   "source": [
    "import plotly.express as px\n",
    "fig = px.bar(results, x=\"Metric\", y='values', color=\"Method\", barmode='group', text=\"values\")\n",
    "fig.show()"
   ]
  },
  {
   "cell_type": "code",
   "execution_count": 6,
   "metadata": {},
   "outputs": [
    {
     "output_type": "display_data",
     "data": {
      "application/vnd.plotly.v1+json": {
       "config": {
        "plotlyServerURL": "https://plot.ly"
       },
       "data": [
        {
         "hovertemplate": "DOY=%{x}<br>MA7=%{y}<extra></extra>",
         "legendgroup": "",
         "line": {
          "color": "#636efa",
          "dash": "solid"
         },
         "mode": "lines",
         "name": "",
         "orientation": "v",
         "showlegend": false,
         "type": "scatter",
         "x": [
          14,
          17,
          21,
          24,
          28,
          30,
          35,
          38,
          42,
          45,
          49,
          52,
          56,
          59,
          63,
          66,
          70,
          73,
          77,
          80,
          84,
          87,
          91,
          94,
          98,
          101,
          105,
          108,
          112,
          115,
          119,
          122,
          126,
          128,
          133,
          136,
          140,
          143,
          147,
          150,
          154,
          157,
          161,
          164,
          168,
          171,
          175,
          178,
          182,
          185,
          189,
          192,
          196,
          199,
          203,
          206,
          210,
          213,
          217,
          220,
          224,
          227,
          231,
          234,
          238,
          241,
          245,
          248,
          252,
          255,
          259,
          262,
          266,
          269,
          273,
          276,
          280,
          283,
          287,
          290,
          294,
          297,
          301,
          304,
          308,
          311,
          315,
          318,
          322,
          325,
          329,
          331,
          336,
          339,
          343,
          346,
          350,
          352,
          357,
          360,
          363
         ],
         "xaxis": "x",
         "y": [
          null,
          null,
          null,
          null,
          null,
          null,
          2.3328571428571427,
          3.2199999999999998,
          3.9557142857142855,
          5.7299999999999995,
          6.39,
          6.1585714285714275,
          5.11142857142857,
          5.018571428571428,
          4.131428571428571,
          3.395714285714285,
          1.6214285714285708,
          0.9614285714285709,
          0.8985714285714279,
          1.3285714285714278,
          0.8428571428571422,
          1.2699999999999994,
          2.0642857142857136,
          3.4471428571428566,
          4.142857142857142,
          6.114285714285714,
          5.982857142857142,
          6.732857142857142,
          7.502857142857143,
          7.394285714285713,
          6.54142857142857,
          6.652857142857142,
          4.871428571428571,
          6.522857142857142,
          5.578571428571428,
          4.381428571428571,
          3.695714285714285,
          3.1657142857142846,
          2.358571428571427,
          2.6414285714285697,
          0.7628571428571413,
          2.127142857142856,
          3.6128571428571417,
          4.644285714285713,
          5.074285714285713,
          6.289999999999998,
          6.149999999999998,
          6.311428571428569,
          4.947142857142855,
          3.461428571428569,
          3.0257142857142836,
          4.065714285714284,
          3.6757142857142844,
          4.495714285714285,
          4.5699999999999985,
          5.389999999999999,
          6.422857142857142,
          6.631428571428571,
          5.855714285714285,
          5.754285714285714,
          4.6014285714285705,
          5.237142857142857,
          5.35,
          5.659999999999998,
          5.831428571428569,
          6.209999999999998,
          6.431428571428569,
          7.18285714285714,
          7.058571428571425,
          7.899999999999997,
          7.825714285714283,
          7.832857142857141,
          7.3042857142857125,
          7.668571428571427,
          7.475714285714284,
          7.301428571428571,
          6.398571428571428,
          6.459999999999999,
          6.467142857142855,
          7.459999999999998,
          7.314285714285711,
          8.33285714285714,
          7.859999999999998,
          7.817142857142854,
          7.3714285714285674,
          7.262857142857139,
          6.109999999999997,
          6.144285714285711,
          6.147142857142854,
          6.3057142857142825,
          5.761428571428569,
          6.234285714285712,
          6.174285714285712,
          6.64142857142857,
          6.384285714285712,
          5.967142857142854,
          6.608571428571425,
          7.715714285714283,
          6.798571428571425,
          6.6771428571428535,
          7.205714285714282
         ],
         "yaxis": "y"
        },
        {
         "mode": "lines",
         "type": "scatter",
         "x": [
          14,
          17,
          21,
          24,
          28,
          30,
          35,
          38,
          42,
          45,
          49,
          52,
          56,
          59,
          63,
          66,
          70,
          73,
          77,
          80,
          84,
          87,
          91,
          94,
          98,
          101,
          105,
          108,
          112,
          115,
          119,
          122,
          126,
          128,
          133,
          136,
          140,
          143,
          147,
          150,
          154,
          157,
          161,
          164,
          168,
          171,
          175,
          178,
          182,
          185,
          189,
          192,
          196,
          199,
          203,
          206,
          210,
          213,
          217,
          220,
          224,
          227,
          231,
          234,
          238,
          241,
          245,
          248,
          252,
          255,
          259,
          262,
          266,
          269,
          273,
          276,
          280,
          283,
          287,
          290,
          294,
          297,
          301,
          304,
          308,
          311,
          315,
          318,
          322,
          325,
          329,
          331,
          336,
          339,
          343,
          346,
          350,
          352,
          357,
          360,
          363
         ],
         "y": [
          null,
          null,
          null,
          null,
          null,
          null,
          3.647142857142857,
          4.829999999999999,
          5.914285714285713,
          7.787142857142856,
          8.641547619047618,
          8.389642857142855,
          7.126785714285712,
          7.00440476190476,
          5.8215476190476165,
          4.737261904761902,
          3.160119047619045,
          2.3057142857142834,
          1.9661904761904736,
          2.3419047619047597,
          1.8728571428571406,
          2.661428571428569,
          3.745714285714283,
          5.125714285714283,
          5.914285714285711,
          7.98428571428571,
          7.98428571428571,
          8.772857142857138,
          9.561428571428566,
          9.462857142857137,
          8.668499999999996,
          9.102428571428568,
          7.508142857142856,
          8.789571428571428,
          7.508142857142857,
          5.930999999999999,
          4.945285714285714,
          4.063928571428571,
          2.8414285714285703,
          3.154285714285713,
          1.577142857142856,
          3.154285714285713,
          5.027142857142856,
          6.407142857142857,
          7.195714285714284,
          8.575714285714284,
          8.522380952380951,
          8.624999999999998,
          7.047857142857141,
          5.272321428571426,
          4.878035714285711,
          5.863749999999998,
          5.370892857142856,
          6.114226190476189,
          6.307321428571427,
          7.391607142857142,
          8.575714285714286,
          8.871428571428572,
          8.082857142857142,
          7.984285714285714,
          6.505714285714285,
          6.998571428571429,
          7.097142857142858,
          7.6885714285714295,
          7.6885714285714295,
          8.082857142857144,
          8.28,
          9.265714285714285,
          9.265714285714285,
          9.955714285714285,
          9.857142857142858,
          9.857142857142858,
          9.364285714285714,
          9.758571428571429,
          9.659999999999998,
          9.462857142857143,
          8.772857142857143,
          8.575714285714284,
          8.575714285714284,
          9.56142857142857,
          9.46285714285714,
          10.251428571428571,
          9.758571428571427,
          9.857142857142856,
          9.561428571428568,
          9.46285714285714,
          8.279999999999998,
          8.279999999999996,
          8.246428571428568,
          8.44785714285714,
          7.7204285714285685,
          8.213285714285712,
          8.213285714285712,
          8.903285714285712,
          8.607571428571426,
          8.641142857142855,
          9.228285714285713,
          10.448571428571427,
          9.46285714285714,
          9.46285714285714,
          9.758571428571427
         ]
        }
       ],
       "layout": {
        "legend": {
         "tracegroupgap": 0
        },
        "margin": {
         "t": 60
        },
        "template": {
         "data": {
          "bar": [
           {
            "error_x": {
             "color": "#2a3f5f"
            },
            "error_y": {
             "color": "#2a3f5f"
            },
            "marker": {
             "line": {
              "color": "#E5ECF6",
              "width": 0.5
             }
            },
            "type": "bar"
           }
          ],
          "barpolar": [
           {
            "marker": {
             "line": {
              "color": "#E5ECF6",
              "width": 0.5
             }
            },
            "type": "barpolar"
           }
          ],
          "carpet": [
           {
            "aaxis": {
             "endlinecolor": "#2a3f5f",
             "gridcolor": "white",
             "linecolor": "white",
             "minorgridcolor": "white",
             "startlinecolor": "#2a3f5f"
            },
            "baxis": {
             "endlinecolor": "#2a3f5f",
             "gridcolor": "white",
             "linecolor": "white",
             "minorgridcolor": "white",
             "startlinecolor": "#2a3f5f"
            },
            "type": "carpet"
           }
          ],
          "choropleth": [
           {
            "colorbar": {
             "outlinewidth": 0,
             "ticks": ""
            },
            "type": "choropleth"
           }
          ],
          "contour": [
           {
            "colorbar": {
             "outlinewidth": 0,
             "ticks": ""
            },
            "colorscale": [
             [
              0,
              "#0d0887"
             ],
             [
              0.1111111111111111,
              "#46039f"
             ],
             [
              0.2222222222222222,
              "#7201a8"
             ],
             [
              0.3333333333333333,
              "#9c179e"
             ],
             [
              0.4444444444444444,
              "#bd3786"
             ],
             [
              0.5555555555555556,
              "#d8576b"
             ],
             [
              0.6666666666666666,
              "#ed7953"
             ],
             [
              0.7777777777777778,
              "#fb9f3a"
             ],
             [
              0.8888888888888888,
              "#fdca26"
             ],
             [
              1,
              "#f0f921"
             ]
            ],
            "type": "contour"
           }
          ],
          "contourcarpet": [
           {
            "colorbar": {
             "outlinewidth": 0,
             "ticks": ""
            },
            "type": "contourcarpet"
           }
          ],
          "heatmap": [
           {
            "colorbar": {
             "outlinewidth": 0,
             "ticks": ""
            },
            "colorscale": [
             [
              0,
              "#0d0887"
             ],
             [
              0.1111111111111111,
              "#46039f"
             ],
             [
              0.2222222222222222,
              "#7201a8"
             ],
             [
              0.3333333333333333,
              "#9c179e"
             ],
             [
              0.4444444444444444,
              "#bd3786"
             ],
             [
              0.5555555555555556,
              "#d8576b"
             ],
             [
              0.6666666666666666,
              "#ed7953"
             ],
             [
              0.7777777777777778,
              "#fb9f3a"
             ],
             [
              0.8888888888888888,
              "#fdca26"
             ],
             [
              1,
              "#f0f921"
             ]
            ],
            "type": "heatmap"
           }
          ],
          "heatmapgl": [
           {
            "colorbar": {
             "outlinewidth": 0,
             "ticks": ""
            },
            "colorscale": [
             [
              0,
              "#0d0887"
             ],
             [
              0.1111111111111111,
              "#46039f"
             ],
             [
              0.2222222222222222,
              "#7201a8"
             ],
             [
              0.3333333333333333,
              "#9c179e"
             ],
             [
              0.4444444444444444,
              "#bd3786"
             ],
             [
              0.5555555555555556,
              "#d8576b"
             ],
             [
              0.6666666666666666,
              "#ed7953"
             ],
             [
              0.7777777777777778,
              "#fb9f3a"
             ],
             [
              0.8888888888888888,
              "#fdca26"
             ],
             [
              1,
              "#f0f921"
             ]
            ],
            "type": "heatmapgl"
           }
          ],
          "histogram": [
           {
            "marker": {
             "colorbar": {
              "outlinewidth": 0,
              "ticks": ""
             }
            },
            "type": "histogram"
           }
          ],
          "histogram2d": [
           {
            "colorbar": {
             "outlinewidth": 0,
             "ticks": ""
            },
            "colorscale": [
             [
              0,
              "#0d0887"
             ],
             [
              0.1111111111111111,
              "#46039f"
             ],
             [
              0.2222222222222222,
              "#7201a8"
             ],
             [
              0.3333333333333333,
              "#9c179e"
             ],
             [
              0.4444444444444444,
              "#bd3786"
             ],
             [
              0.5555555555555556,
              "#d8576b"
             ],
             [
              0.6666666666666666,
              "#ed7953"
             ],
             [
              0.7777777777777778,
              "#fb9f3a"
             ],
             [
              0.8888888888888888,
              "#fdca26"
             ],
             [
              1,
              "#f0f921"
             ]
            ],
            "type": "histogram2d"
           }
          ],
          "histogram2dcontour": [
           {
            "colorbar": {
             "outlinewidth": 0,
             "ticks": ""
            },
            "colorscale": [
             [
              0,
              "#0d0887"
             ],
             [
              0.1111111111111111,
              "#46039f"
             ],
             [
              0.2222222222222222,
              "#7201a8"
             ],
             [
              0.3333333333333333,
              "#9c179e"
             ],
             [
              0.4444444444444444,
              "#bd3786"
             ],
             [
              0.5555555555555556,
              "#d8576b"
             ],
             [
              0.6666666666666666,
              "#ed7953"
             ],
             [
              0.7777777777777778,
              "#fb9f3a"
             ],
             [
              0.8888888888888888,
              "#fdca26"
             ],
             [
              1,
              "#f0f921"
             ]
            ],
            "type": "histogram2dcontour"
           }
          ],
          "mesh3d": [
           {
            "colorbar": {
             "outlinewidth": 0,
             "ticks": ""
            },
            "type": "mesh3d"
           }
          ],
          "parcoords": [
           {
            "line": {
             "colorbar": {
              "outlinewidth": 0,
              "ticks": ""
             }
            },
            "type": "parcoords"
           }
          ],
          "pie": [
           {
            "automargin": true,
            "type": "pie"
           }
          ],
          "scatter": [
           {
            "marker": {
             "colorbar": {
              "outlinewidth": 0,
              "ticks": ""
             }
            },
            "type": "scatter"
           }
          ],
          "scatter3d": [
           {
            "line": {
             "colorbar": {
              "outlinewidth": 0,
              "ticks": ""
             }
            },
            "marker": {
             "colorbar": {
              "outlinewidth": 0,
              "ticks": ""
             }
            },
            "type": "scatter3d"
           }
          ],
          "scattercarpet": [
           {
            "marker": {
             "colorbar": {
              "outlinewidth": 0,
              "ticks": ""
             }
            },
            "type": "scattercarpet"
           }
          ],
          "scattergeo": [
           {
            "marker": {
             "colorbar": {
              "outlinewidth": 0,
              "ticks": ""
             }
            },
            "type": "scattergeo"
           }
          ],
          "scattergl": [
           {
            "marker": {
             "colorbar": {
              "outlinewidth": 0,
              "ticks": ""
             }
            },
            "type": "scattergl"
           }
          ],
          "scattermapbox": [
           {
            "marker": {
             "colorbar": {
              "outlinewidth": 0,
              "ticks": ""
             }
            },
            "type": "scattermapbox"
           }
          ],
          "scatterpolar": [
           {
            "marker": {
             "colorbar": {
              "outlinewidth": 0,
              "ticks": ""
             }
            },
            "type": "scatterpolar"
           }
          ],
          "scatterpolargl": [
           {
            "marker": {
             "colorbar": {
              "outlinewidth": 0,
              "ticks": ""
             }
            },
            "type": "scatterpolargl"
           }
          ],
          "scatterternary": [
           {
            "marker": {
             "colorbar": {
              "outlinewidth": 0,
              "ticks": ""
             }
            },
            "type": "scatterternary"
           }
          ],
          "surface": [
           {
            "colorbar": {
             "outlinewidth": 0,
             "ticks": ""
            },
            "colorscale": [
             [
              0,
              "#0d0887"
             ],
             [
              0.1111111111111111,
              "#46039f"
             ],
             [
              0.2222222222222222,
              "#7201a8"
             ],
             [
              0.3333333333333333,
              "#9c179e"
             ],
             [
              0.4444444444444444,
              "#bd3786"
             ],
             [
              0.5555555555555556,
              "#d8576b"
             ],
             [
              0.6666666666666666,
              "#ed7953"
             ],
             [
              0.7777777777777778,
              "#fb9f3a"
             ],
             [
              0.8888888888888888,
              "#fdca26"
             ],
             [
              1,
              "#f0f921"
             ]
            ],
            "type": "surface"
           }
          ],
          "table": [
           {
            "cells": {
             "fill": {
              "color": "#EBF0F8"
             },
             "line": {
              "color": "white"
             }
            },
            "header": {
             "fill": {
              "color": "#C8D4E3"
             },
             "line": {
              "color": "white"
             }
            },
            "type": "table"
           }
          ]
         },
         "layout": {
          "annotationdefaults": {
           "arrowcolor": "#2a3f5f",
           "arrowhead": 0,
           "arrowwidth": 1
          },
          "coloraxis": {
           "colorbar": {
            "outlinewidth": 0,
            "ticks": ""
           }
          },
          "colorscale": {
           "diverging": [
            [
             0,
             "#8e0152"
            ],
            [
             0.1,
             "#c51b7d"
            ],
            [
             0.2,
             "#de77ae"
            ],
            [
             0.3,
             "#f1b6da"
            ],
            [
             0.4,
             "#fde0ef"
            ],
            [
             0.5,
             "#f7f7f7"
            ],
            [
             0.6,
             "#e6f5d0"
            ],
            [
             0.7,
             "#b8e186"
            ],
            [
             0.8,
             "#7fbc41"
            ],
            [
             0.9,
             "#4d9221"
            ],
            [
             1,
             "#276419"
            ]
           ],
           "sequential": [
            [
             0,
             "#0d0887"
            ],
            [
             0.1111111111111111,
             "#46039f"
            ],
            [
             0.2222222222222222,
             "#7201a8"
            ],
            [
             0.3333333333333333,
             "#9c179e"
            ],
            [
             0.4444444444444444,
             "#bd3786"
            ],
            [
             0.5555555555555556,
             "#d8576b"
            ],
            [
             0.6666666666666666,
             "#ed7953"
            ],
            [
             0.7777777777777778,
             "#fb9f3a"
            ],
            [
             0.8888888888888888,
             "#fdca26"
            ],
            [
             1,
             "#f0f921"
            ]
           ],
           "sequentialminus": [
            [
             0,
             "#0d0887"
            ],
            [
             0.1111111111111111,
             "#46039f"
            ],
            [
             0.2222222222222222,
             "#7201a8"
            ],
            [
             0.3333333333333333,
             "#9c179e"
            ],
            [
             0.4444444444444444,
             "#bd3786"
            ],
            [
             0.5555555555555556,
             "#d8576b"
            ],
            [
             0.6666666666666666,
             "#ed7953"
            ],
            [
             0.7777777777777778,
             "#fb9f3a"
            ],
            [
             0.8888888888888888,
             "#fdca26"
            ],
            [
             1,
             "#f0f921"
            ]
           ]
          },
          "colorway": [
           "#636efa",
           "#EF553B",
           "#00cc96",
           "#ab63fa",
           "#FFA15A",
           "#19d3f3",
           "#FF6692",
           "#B6E880",
           "#FF97FF",
           "#FECB52"
          ],
          "font": {
           "color": "#2a3f5f"
          },
          "geo": {
           "bgcolor": "white",
           "lakecolor": "white",
           "landcolor": "#E5ECF6",
           "showlakes": true,
           "showland": true,
           "subunitcolor": "white"
          },
          "hoverlabel": {
           "align": "left"
          },
          "hovermode": "closest",
          "mapbox": {
           "style": "light"
          },
          "paper_bgcolor": "white",
          "plot_bgcolor": "#E5ECF6",
          "polar": {
           "angularaxis": {
            "gridcolor": "white",
            "linecolor": "white",
            "ticks": ""
           },
           "bgcolor": "#E5ECF6",
           "radialaxis": {
            "gridcolor": "white",
            "linecolor": "white",
            "ticks": ""
           }
          },
          "scene": {
           "xaxis": {
            "backgroundcolor": "#E5ECF6",
            "gridcolor": "white",
            "gridwidth": 2,
            "linecolor": "white",
            "showbackground": true,
            "ticks": "",
            "zerolinecolor": "white"
           },
           "yaxis": {
            "backgroundcolor": "#E5ECF6",
            "gridcolor": "white",
            "gridwidth": 2,
            "linecolor": "white",
            "showbackground": true,
            "ticks": "",
            "zerolinecolor": "white"
           },
           "zaxis": {
            "backgroundcolor": "#E5ECF6",
            "gridcolor": "white",
            "gridwidth": 2,
            "linecolor": "white",
            "showbackground": true,
            "ticks": "",
            "zerolinecolor": "white"
           }
          },
          "shapedefaults": {
           "line": {
            "color": "#2a3f5f"
           }
          },
          "ternary": {
           "aaxis": {
            "gridcolor": "white",
            "linecolor": "white",
            "ticks": ""
           },
           "baxis": {
            "gridcolor": "white",
            "linecolor": "white",
            "ticks": ""
           },
           "bgcolor": "#E5ECF6",
           "caxis": {
            "gridcolor": "white",
            "linecolor": "white",
            "ticks": ""
           }
          },
          "title": {
           "x": 0.05
          },
          "xaxis": {
           "automargin": true,
           "gridcolor": "white",
           "linecolor": "white",
           "ticks": "",
           "title": {
            "standoff": 15
           },
           "zerolinecolor": "white",
           "zerolinewidth": 2
          },
          "yaxis": {
           "automargin": true,
           "gridcolor": "white",
           "linecolor": "white",
           "ticks": "",
           "title": {
            "standoff": 15
           },
           "zerolinecolor": "white",
           "zerolinewidth": 2
          }
         }
        },
        "xaxis": {
         "anchor": "y",
         "domain": [
          0,
          1
         ],
         "title": {
          "text": "DOY"
         }
        },
        "yaxis": {
         "anchor": "x",
         "domain": [
          0,
          1
         ],
         "title": {
          "text": "MA7"
         }
        }
       }
      }
     },
     "metadata": {}
    }
   ],
   "source": [
    "import plotly.express as px\n",
    "\n",
    "output_copy = output_full.copy()\n",
    "output_copy[\"MA7\"] = output_copy['expected loss revenue'].rolling(7).mean()\n",
    "output_copy[\"MA7_exp\"] = output_copy[\"loss revenue\"].rolling(7).mean()\n",
    "fig = px.line(output_copy, x=\"DOY\", y=\"MA7\")\n",
    "fig.add_scatter(x=output_copy[\"DOY\"], y=output_copy[\"MA7_exp\"], mode=\"lines\")\n",
    "fig.show()"
   ]
  },
  {
   "cell_type": "code",
   "execution_count": 2,
   "metadata": {},
   "outputs": [
    {
     "output_type": "stream",
     "name": "stdout",
     "text": [
      "(101, 5)\n",
      "c:\\Users\\zolyo\\OneDrive\\Documents\\Quartile 3\\JBG050 Data Challenge 2\\Code\\src\\waste_functions.py:40: SettingWithCopyWarning: \n",
      "A value is trying to be set on a copy of a slice from a DataFrame.\n",
      "Try using .loc[row_indexer,col_indexer] = value instead\n",
      "\n",
      "See the caveats in the documentation: https://pandas.pydata.org/pandas-docs/stable/user_guide/indexing.html#returning-a-view-versus-a-copy\n",
      "  filtered_transactions[\"DOY\"] = filtered_transactions.apply(input_DOY, axis=1)\n",
      "C:\\Users\\zolyo\\AppData\\Roaming\\Python\\Python38\\site-packages\\pandas\\core\\indexing.py:670: SettingWithCopyWarning: \n",
      "A value is trying to be set on a copy of a slice from a DataFrame\n",
      "\n",
      "See the caveats in the documentation: https://pandas.pydata.org/pandas-docs/stable/user_guide/indexing.html#returning-a-view-versus-a-copy\n",
      "  iloc._setitem_with_indexer(indexer, value)\n"
     ]
    },
    {
     "output_type": "execute_result",
     "data": {
      "text/plain": [
       "                 amount    DOY  cumulative purchases  purchases  remaining  \\\n",
       "best before day                                                              \n",
       "14                   26   14.0                  36.0        NaN      -10.0   \n",
       "17                   26   17.0                  41.0        5.0       21.0   \n",
       "21                   26   21.0                  60.0       19.0        7.0   \n",
       "24                   26   24.0                  68.0        8.0       18.0   \n",
       "28                   26   28.0                  88.0       20.0        6.0   \n",
       "...                 ...    ...                   ...        ...        ...   \n",
       "350                  26  350.0                1229.0       11.0       15.0   \n",
       "353                  26  353.0                1237.0        8.0       18.0   \n",
       "357                  26  357.0                1251.0       14.0       12.0   \n",
       "360                  26  360.0                1261.0       10.0       16.0   \n",
       "364                  26  363.0                1267.0        6.0       20.0   \n",
       "\n",
       "                 waste  week  waste nn  \n",
       "best before day                         \n",
       "14               -10.0     3       0.0  \n",
       "17                11.0     3      11.0  \n",
       "21                 7.0     4       7.0  \n",
       "24                18.0     4      18.0  \n",
       "28                 6.0     5       6.0  \n",
       "...                ...   ...       ...  \n",
       "350               15.0    51      15.0  \n",
       "353               18.0    51      18.0  \n",
       "357               12.0    52      12.0  \n",
       "360               16.0    52      16.0  \n",
       "364               20.0    52      20.0  \n",
       "\n",
       "[101 rows x 8 columns]"
      ],
      "text/html": "<div>\n<style scoped>\n    .dataframe tbody tr th:only-of-type {\n        vertical-align: middle;\n    }\n\n    .dataframe tbody tr th {\n        vertical-align: top;\n    }\n\n    .dataframe thead th {\n        text-align: right;\n    }\n</style>\n<table border=\"1\" class=\"dataframe\">\n  <thead>\n    <tr style=\"text-align: right;\">\n      <th></th>\n      <th>amount</th>\n      <th>DOY</th>\n      <th>cumulative purchases</th>\n      <th>purchases</th>\n      <th>remaining</th>\n      <th>waste</th>\n      <th>week</th>\n      <th>waste nn</th>\n    </tr>\n    <tr>\n      <th>best before day</th>\n      <th></th>\n      <th></th>\n      <th></th>\n      <th></th>\n      <th></th>\n      <th></th>\n      <th></th>\n      <th></th>\n    </tr>\n  </thead>\n  <tbody>\n    <tr>\n      <th>14</th>\n      <td>26</td>\n      <td>14.0</td>\n      <td>36.0</td>\n      <td>NaN</td>\n      <td>-10.0</td>\n      <td>-10.0</td>\n      <td>3</td>\n      <td>0.0</td>\n    </tr>\n    <tr>\n      <th>17</th>\n      <td>26</td>\n      <td>17.0</td>\n      <td>41.0</td>\n      <td>5.0</td>\n      <td>21.0</td>\n      <td>11.0</td>\n      <td>3</td>\n      <td>11.0</td>\n    </tr>\n    <tr>\n      <th>21</th>\n      <td>26</td>\n      <td>21.0</td>\n      <td>60.0</td>\n      <td>19.0</td>\n      <td>7.0</td>\n      <td>7.0</td>\n      <td>4</td>\n      <td>7.0</td>\n    </tr>\n    <tr>\n      <th>24</th>\n      <td>26</td>\n      <td>24.0</td>\n      <td>68.0</td>\n      <td>8.0</td>\n      <td>18.0</td>\n      <td>18.0</td>\n      <td>4</td>\n      <td>18.0</td>\n    </tr>\n    <tr>\n      <th>28</th>\n      <td>26</td>\n      <td>28.0</td>\n      <td>88.0</td>\n      <td>20.0</td>\n      <td>6.0</td>\n      <td>6.0</td>\n      <td>5</td>\n      <td>6.0</td>\n    </tr>\n    <tr>\n      <th>...</th>\n      <td>...</td>\n      <td>...</td>\n      <td>...</td>\n      <td>...</td>\n      <td>...</td>\n      <td>...</td>\n      <td>...</td>\n      <td>...</td>\n    </tr>\n    <tr>\n      <th>350</th>\n      <td>26</td>\n      <td>350.0</td>\n      <td>1229.0</td>\n      <td>11.0</td>\n      <td>15.0</td>\n      <td>15.0</td>\n      <td>51</td>\n      <td>15.0</td>\n    </tr>\n    <tr>\n      <th>353</th>\n      <td>26</td>\n      <td>353.0</td>\n      <td>1237.0</td>\n      <td>8.0</td>\n      <td>18.0</td>\n      <td>18.0</td>\n      <td>51</td>\n      <td>18.0</td>\n    </tr>\n    <tr>\n      <th>357</th>\n      <td>26</td>\n      <td>357.0</td>\n      <td>1251.0</td>\n      <td>14.0</td>\n      <td>12.0</td>\n      <td>12.0</td>\n      <td>52</td>\n      <td>12.0</td>\n    </tr>\n    <tr>\n      <th>360</th>\n      <td>26</td>\n      <td>360.0</td>\n      <td>1261.0</td>\n      <td>10.0</td>\n      <td>16.0</td>\n      <td>16.0</td>\n      <td>52</td>\n      <td>16.0</td>\n    </tr>\n    <tr>\n      <th>364</th>\n      <td>26</td>\n      <td>363.0</td>\n      <td>1267.0</td>\n      <td>6.0</td>\n      <td>20.0</td>\n      <td>20.0</td>\n      <td>52</td>\n      <td>20.0</td>\n    </tr>\n  </tbody>\n</table>\n<p>101 rows × 8 columns</p>\n</div>"
     },
     "metadata": {},
     "execution_count": 2
    }
   ],
   "source": [
    "from waste_functions import create_bb_data, add_purchases\n",
    "\n",
    "waste_df = create_bb_data(filtered_inventory, product)\n",
    "waste_df_extended = add_purchases(waste_df, transactions, product)\n",
    "waste_df_extended"
   ]
  },
  {
   "source": [
    "## Creating range intervals for mid-delivery sales calclation"
   ],
   "cell_type": "markdown",
   "metadata": {}
  },
  {
   "cell_type": "code",
   "execution_count": 3,
   "metadata": {},
   "outputs": [],
   "source": [
    "best_before = []\n",
    "for element_list in inventory[product]:\n",
    "    for batch in element_list:\n",
    "        best_before.append(batch[0])\n",
    "bb_dates = list(np.unique(best_before))\n",
    "#list of each unique best before dates\n",
    "bb_dates.insert(0, 0)\n",
    "ranges = []\n",
    "i = 0\n",
    "for item in bb_dates:\n",
    "    if i < len(bb_dates)-1:\n",
    "        i += 1\n",
    "        ret_tupl = (item, bb_dates[i])\n",
    "        ranges.append(ret_tupl)\n",
    "\n"
   ]
  },
  {
   "cell_type": "code",
   "execution_count": 4,
   "metadata": {},
   "outputs": [
    {
     "output_type": "stream",
     "name": "stderr",
     "text": [
      "c:\\Users\\zolyo\\OneDrive\\Documents\\Quartile 3\\JBG050 Data Challenge 2\\Code\\src\\demand.py:17: SettingWithCopyWarning: \n",
      "A value is trying to be set on a copy of a slice from a DataFrame.\n",
      "Try using .loc[row_indexer,col_indexer] = value instead\n",
      "\n",
      "See the caveats in the documentation: https://pandas.pydata.org/pandas-docs/stable/user_guide/indexing.html#returning-a-view-versus-a-copy\n",
      "  filtered_transactions[\"day\"] = pd.to_datetime(filtered_transactions[\"day\"], dayfirst=True)\n",
      "c:\\Users\\zolyo\\OneDrive\\Documents\\Quartile 3\\JBG050 Data Challenge 2\\Code\\src\\demand.py:20: SettingWithCopyWarning: \n",
      "A value is trying to be set on a copy of a slice from a DataFrame.\n",
      "Try using .loc[row_indexer,col_indexer] = value instead\n",
      "\n",
      "See the caveats in the documentation: https://pandas.pydata.org/pandas-docs/stable/user_guide/indexing.html#returning-a-view-versus-a-copy\n",
      "  filtered_transactions[\"discount\"] = 100-(\n",
      "c:\\Users\\zolyo\\OneDrive\\Documents\\Quartile 3\\JBG050 Data Challenge 2\\Code\\src\\demand.py:29: SettingWithCopyWarning: \n",
      "A value is trying to be set on a copy of a slice from a DataFrame.\n",
      "Try using .loc[row_indexer,col_indexer] = value instead\n",
      "\n",
      "See the caveats in the documentation: https://pandas.pydata.org/pandas-docs/stable/user_guide/indexing.html#returning-a-view-versus-a-copy\n",
      "  purchases[\"month\"] = [purchases.index[i][1].month_name() for i in range(purchases.shape[0])]\n",
      "c:\\Users\\zolyo\\OneDrive\\Documents\\Quartile 3\\JBG050 Data Challenge 2\\Code\\src\\demand.py:31: SettingWithCopyWarning: \n",
      "A value is trying to be set on a copy of a slice from a DataFrame.\n",
      "Try using .loc[row_indexer,col_indexer] = value instead\n",
      "\n",
      "See the caveats in the documentation: https://pandas.pydata.org/pandas-docs/stable/user_guide/indexing.html#returning-a-view-versus-a-copy\n",
      "  purchases[\"product\"] = [purchases.index[i][0] for i in range(purchases.shape[0])]\n",
      "c:\\Users\\zolyo\\OneDrive\\Documents\\Quartile 3\\JBG050 Data Challenge 2\\Code\\src\\demand.py:33: SettingWithCopyWarning: \n",
      "A value is trying to be set on a copy of a slice from a DataFrame.\n",
      "Try using .loc[row_indexer,col_indexer] = value instead\n",
      "\n",
      "See the caveats in the documentation: https://pandas.pydata.org/pandas-docs/stable/user_guide/indexing.html#returning-a-view-versus-a-copy\n",
      "  purchases[\"DOY\"] = [purchases.index[i][1].dayofyear-1 for i in range(purchases.shape[0])]\n",
      "c:\\Users\\zolyo\\OneDrive\\Documents\\Quartile 3\\JBG050 Data Challenge 2\\Code\\src\\demand.py:35: SettingWithCopyWarning: \n",
      "A value is trying to be set on a copy of a slice from a DataFrame.\n",
      "Try using .loc[row_indexer,col_indexer] = value instead\n",
      "\n",
      "See the caveats in the documentation: https://pandas.pydata.org/pandas-docs/stable/user_guide/indexing.html#returning-a-view-versus-a-copy\n",
      "  purchases[\"dayofweek\"] = [purchases.index[i][1].dayofweek for i in range(purchases.shape[0])]\n",
      "C:\\Users\\zolyo\\AppData\\Roaming\\Python\\Python38\\site-packages\\pandas\\core\\series.py:4575: SettingWithCopyWarning: \n",
      "A value is trying to be set on a copy of a slice from a DataFrame\n",
      "\n",
      "See the caveats in the documentation: https://pandas.pydata.org/pandas-docs/stable/user_guide/indexing.html#returning-a-view-versus-a-copy\n",
      "  return super().replace(\n",
      "c:\\Users\\zolyo\\OneDrive\\Documents\\Quartile 3\\JBG050 Data Challenge 2\\Code\\src\\demand.py:37: SettingWithCopyWarning: \n",
      "A value is trying to be set on a copy of a slice from a DataFrame.\n",
      "Try using .loc[row_indexer,col_indexer] = value instead\n",
      "\n",
      "See the caveats in the documentation: https://pandas.pydata.org/pandas-docs/stable/user_guide/indexing.html#returning-a-view-versus-a-copy\n",
      "  purchases[\"purchase_price\"] = pp\n",
      "c:\\Users\\zolyo\\OneDrive\\Documents\\Quartile 3\\JBG050 Data Challenge 2\\Code\\src\\demand.py:38: SettingWithCopyWarning: \n",
      "A value is trying to be set on a copy of a slice from a DataFrame.\n",
      "Try using .loc[row_indexer,col_indexer] = value instead\n",
      "\n",
      "See the caveats in the documentation: https://pandas.pydata.org/pandas-docs/stable/user_guide/indexing.html#returning-a-view-versus-a-copy\n",
      "  purchases[\"std_sales_price\"] = std_p\n",
      "C:\\Users\\zolyo\\AppData\\Roaming\\Python\\Python38\\site-packages\\pandas\\core\\frame.py:4300: SettingWithCopyWarning: \n",
      "A value is trying to be set on a copy of a slice from a DataFrame\n",
      "\n",
      "See the caveats in the documentation: https://pandas.pydata.org/pandas-docs/stable/user_guide/indexing.html#returning-a-view-versus-a-copy\n",
      "  return super().rename(\n",
      "c:\\Users\\zolyo\\OneDrive\\Documents\\Quartile 3\\JBG050 Data Challenge 2\\Code\\src\\demand.py:42: SettingWithCopyWarning: \n",
      "A value is trying to be set on a copy of a slice from a DataFrame.\n",
      "Try using .loc[row_indexer,col_indexer] = value instead\n",
      "\n",
      "See the caveats in the documentation: https://pandas.pydata.org/pandas-docs/stable/user_guide/indexing.html#returning-a-view-versus-a-copy\n",
      "  purchases[\"prev_day_purchases\"] = purchases[\"count\"].shift(1)\n",
      "C:\\Users\\zolyo\\AppData\\Roaming\\Python\\Python38\\site-packages\\pandas\\core\\indexing.py:670: SettingWithCopyWarning: \n",
      "A value is trying to be set on a copy of a slice from a DataFrame\n",
      "\n",
      "See the caveats in the documentation: https://pandas.pydata.org/pandas-docs/stable/user_guide/indexing.html#returning-a-view-versus-a-copy\n",
      "  iloc._setitem_with_indexer(indexer, value)\n",
      "c:\\Users\\zolyo\\OneDrive\\Documents\\Quartile 3\\JBG050 Data Challenge 2\\Code\\src\\demand.py:43: SettingWithCopyWarning: \n",
      "A value is trying to be set on a copy of a slice from a DataFrame\n",
      "\n",
      "See the caveats in the documentation: https://pandas.pydata.org/pandas-docs/stable/user_guide/indexing.html#returning-a-view-versus-a-copy\n",
      "  purchases[\"prev_day_purchases\"].iloc[0] = 0\n"
     ]
    }
   ],
   "source": [
    "ranges[4]"
   ]
  },
  {
   "cell_type": "code",
   "execution_count": 30,
   "metadata": {},
   "outputs": [],
   "source": [
    "from demand import *\n",
    "compl_prod=\"Basis anannasstukjes\"\n",
    "discount_per_day = pd.read_csv(\"nr_discounts_per_day.csv\")\n",
    "prepared_transactions = prepare_data(filtered_transactions, discounts_per_day=discount_per_day)\n",
    "output_dct = prepare_demand_function(prepared_transactions)"
   ]
  },
  {
   "cell_type": "code",
   "execution_count": 39,
   "metadata": {},
   "outputs": [
    {
     "output_type": "execute_result",
     "data": {
      "text/plain": [
       "    count discount std min 25% 50% 75% max     month               product  \\\n",
       "346     2        0   0   0   0   0   0   0  December  Biologische knoflook   \n",
       "347     2        0   0   0   0   0   0   0  December  Biologische knoflook   \n",
       "\n",
       "     DOY dayofweek purchase_price std_sales_price prev_day_purchases  \\\n",
       "346  362  Saturday           0.69            0.69                  4   \n",
       "347  363    Sunday           0.69            0.69                  2   \n",
       "\n",
       "           days on_discount  \n",
       "346  29-12-2018          12  \n",
       "347  30-12-2018          13  "
      ],
      "text/html": "<div>\n<style scoped>\n    .dataframe tbody tr th:only-of-type {\n        vertical-align: middle;\n    }\n\n    .dataframe tbody tr th {\n        vertical-align: top;\n    }\n\n    .dataframe thead th {\n        text-align: right;\n    }\n</style>\n<table border=\"1\" class=\"dataframe\">\n  <thead>\n    <tr style=\"text-align: right;\">\n      <th></th>\n      <th>count</th>\n      <th>discount</th>\n      <th>std</th>\n      <th>min</th>\n      <th>25%</th>\n      <th>50%</th>\n      <th>75%</th>\n      <th>max</th>\n      <th>month</th>\n      <th>product</th>\n      <th>DOY</th>\n      <th>dayofweek</th>\n      <th>purchase_price</th>\n      <th>std_sales_price</th>\n      <th>prev_day_purchases</th>\n      <th>days</th>\n      <th>on_discount</th>\n    </tr>\n  </thead>\n  <tbody>\n    <tr>\n      <th>346</th>\n      <td>2</td>\n      <td>0</td>\n      <td>0</td>\n      <td>0</td>\n      <td>0</td>\n      <td>0</td>\n      <td>0</td>\n      <td>0</td>\n      <td>December</td>\n      <td>Biologische knoflook</td>\n      <td>362</td>\n      <td>Saturday</td>\n      <td>0.69</td>\n      <td>0.69</td>\n      <td>4</td>\n      <td>29-12-2018</td>\n      <td>12</td>\n    </tr>\n    <tr>\n      <th>347</th>\n      <td>2</td>\n      <td>0</td>\n      <td>0</td>\n      <td>0</td>\n      <td>0</td>\n      <td>0</td>\n      <td>0</td>\n      <td>0</td>\n      <td>December</td>\n      <td>Biologische knoflook</td>\n      <td>363</td>\n      <td>Sunday</td>\n      <td>0.69</td>\n      <td>0.69</td>\n      <td>2</td>\n      <td>30-12-2018</td>\n      <td>13</td>\n    </tr>\n  </tbody>\n</table>\n</div>"
     },
     "metadata": {},
     "execution_count": 39
    }
   ],
   "source": [
    "last = len(prepared_transactions)-1\n",
    "pd.DataFrame(prepared_transactions.values, columns=prepared_transactions.columns).loc[last-1:]"
   ]
  },
  {
   "cell_type": "code",
   "execution_count": 6,
   "metadata": {},
   "outputs": [
    {
     "output_type": "stream",
     "name": "stdout",
     "text": [
      "Model fitted; test set metrics: MAE: 1.4358902314077937 MSE: 3.326587120366766, R^2 score: -0.11815451624990914\n"
     ]
    }
   ],
   "source": [
    "model = fit_demand_function(output_dct)"
   ]
  },
  {
   "cell_type": "code",
   "execution_count": 6,
   "metadata": {
    "tags": [
     "outputPrepend"
    ]
   },
   "outputs": [
    {
     "output_type": "stream",
     "name": "stderr",
     "text": [
      "as.pydata.org/pandas-docs/stable/user_guide/indexing.html#returning-a-view-versus-a-copy\n",
      "  df_prep.dropna(inplace=True)\n",
      "c:\\Users\\zolyo\\OneDrive\\Documents\\Quartile 3\\JBG050 Data Challenge 2\\Code\\src\\demand.py:152: SettingWithCopyWarning: \n",
      "A value is trying to be set on a copy of a slice from a DataFrame\n",
      "\n",
      "See the caveats in the documentation: https://pandas.pydata.org/pandas-docs/stable/user_guide/indexing.html#returning-a-view-versus-a-copy\n",
      "  df_prep.dropna(inplace=True)\n",
      "c:\\Users\\zolyo\\OneDrive\\Documents\\Quartile 3\\JBG050 Data Challenge 2\\Code\\src\\demand.py:152: SettingWithCopyWarning: \n",
      "A value is trying to be set on a copy of a slice from a DataFrame\n",
      "\n",
      "See the caveats in the documentation: https://pandas.pydata.org/pandas-docs/stable/user_guide/indexing.html#returning-a-view-versus-a-copy\n",
      "  df_prep.dropna(inplace=True)\n",
      "c:\\Users\\zolyo\\OneDrive\\Documents\\Quartile 3\\JBG050 Data Challenge 2\\Code\\src\\demand.py:152: SettingWithCopyWarning: \n",
      "A value is trying to be set on a copy of a slice from a DataFrame\n",
      "\n",
      "See the caveats in the documentation: https://pandas.pydata.org/pandas-docs/stable/user_guide/indexing.html#returning-a-view-versus-a-copy\n",
      "  df_prep.dropna(inplace=True)\n",
      "c:\\Users\\zolyo\\OneDrive\\Documents\\Quartile 3\\JBG050 Data Challenge 2\\Code\\src\\demand.py:152: SettingWithCopyWarning: \n",
      "A value is trying to be set on a copy of a slice from a DataFrame\n",
      "\n",
      "See the caveats in the documentation: https://pandas.pydata.org/pandas-docs/stable/user_guide/indexing.html#returning-a-view-versus-a-copy\n",
      "  df_prep.dropna(inplace=True)\n",
      "c:\\Users\\zolyo\\OneDrive\\Documents\\Quartile 3\\JBG050 Data Challenge 2\\Code\\src\\demand.py:152: SettingWithCopyWarning: \n",
      "A value is trying to be set on a copy of a slice from a DataFrame\n",
      "\n",
      "See the caveats in the documentation: https://pandas.pydata.org/pandas-docs/stable/user_guide/indexing.html#returning-a-view-versus-a-copy\n",
      "  df_prep.dropna(inplace=True)\n",
      "c:\\Users\\zolyo\\OneDrive\\Documents\\Quartile 3\\JBG050 Data Challenge 2\\Code\\src\\demand.py:152: SettingWithCopyWarning: \n",
      "A value is trying to be set on a copy of a slice from a DataFrame\n",
      "\n",
      "See the caveats in the documentation: https://pandas.pydata.org/pandas-docs/stable/user_guide/indexing.html#returning-a-view-versus-a-copy\n",
      "  df_prep.dropna(inplace=True)\n",
      "c:\\Users\\zolyo\\OneDrive\\Documents\\Quartile 3\\JBG050 Data Challenge 2\\Code\\src\\demand.py:152: SettingWithCopyWarning: \n",
      "A value is trying to be set on a copy of a slice from a DataFrame\n",
      "\n",
      "See the caveats in the documentation: https://pandas.pydata.org/pandas-docs/stable/user_guide/indexing.html#returning-a-view-versus-a-copy\n",
      "  df_prep.dropna(inplace=True)\n",
      "c:\\Users\\zolyo\\OneDrive\\Documents\\Quartile 3\\JBG050 Data Challenge 2\\Code\\src\\demand.py:152: SettingWithCopyWarning: \n",
      "A value is trying to be set on a copy of a slice from a DataFrame\n",
      "\n",
      "See the caveats in the documentation: https://pandas.pydata.org/pandas-docs/stable/user_guide/indexing.html#returning-a-view-versus-a-copy\n",
      "  df_prep.dropna(inplace=True)\n",
      "c:\\Users\\zolyo\\OneDrive\\Documents\\Quartile 3\\JBG050 Data Challenge 2\\Code\\src\\demand.py:152: SettingWithCopyWarning: \n",
      "A value is trying to be set on a copy of a slice from a DataFrame\n",
      "\n",
      "See the caveats in the documentation: https://pandas.pydata.org/pandas-docs/stable/user_guide/indexing.html#returning-a-view-versus-a-copy\n",
      "  df_prep.dropna(inplace=True)\n",
      "c:\\Users\\zolyo\\OneDrive\\Documents\\Quartile 3\\JBG050 Data Challenge 2\\Code\\src\\demand.py:152: SettingWithCopyWarning: \n",
      "A value is trying to be set on a copy of a slice from a DataFrame\n",
      "\n",
      "See the caveats in the documentation: https://pandas.pydata.org/pandas-docs/stable/user_guide/indexing.html#returning-a-view-versus-a-copy\n",
      "  df_prep.dropna(inplace=True)\n",
      "c:\\Users\\zolyo\\OneDrive\\Documents\\Quartile 3\\JBG050 Data Challenge 2\\Code\\src\\demand.py:152: SettingWithCopyWarning: \n",
      "A value is trying to be set on a copy of a slice from a DataFrame\n",
      "\n",
      "See the caveats in the documentation: https://pandas.pydata.org/pandas-docs/stable/user_guide/indexing.html#returning-a-view-versus-a-copy\n",
      "  df_prep.dropna(inplace=True)\n",
      "c:\\Users\\zolyo\\OneDrive\\Documents\\Quartile 3\\JBG050 Data Challenge 2\\Code\\src\\demand.py:152: SettingWithCopyWarning: \n",
      "A value is trying to be set on a copy of a slice from a DataFrame\n",
      "\n",
      "See the caveats in the documentation: https://pandas.pydata.org/pandas-docs/stable/user_guide/indexing.html#returning-a-view-versus-a-copy\n",
      "  df_prep.dropna(inplace=True)\n",
      "c:\\Users\\zolyo\\OneDrive\\Documents\\Quartile 3\\JBG050 Data Challenge 2\\Code\\src\\demand.py:152: SettingWithCopyWarning: \n",
      "A value is trying to be set on a copy of a slice from a DataFrame\n",
      "\n",
      "See the caveats in the documentation: https://pandas.pydata.org/pandas-docs/stable/user_guide/indexing.html#returning-a-view-versus-a-copy\n",
      "  df_prep.dropna(inplace=True)\n",
      "c:\\Users\\zolyo\\OneDrive\\Documents\\Quartile 3\\JBG050 Data Challenge 2\\Code\\src\\demand.py:152: SettingWithCopyWarning: \n",
      "A value is trying to be set on a copy of a slice from a DataFrame\n",
      "\n",
      "See the caveats in the documentation: https://pandas.pydata.org/pandas-docs/stable/user_guide/indexing.html#returning-a-view-versus-a-copy\n",
      "  df_prep.dropna(inplace=True)\n",
      "c:\\Users\\zolyo\\OneDrive\\Documents\\Quartile 3\\JBG050 Data Challenge 2\\Code\\src\\demand.py:152: SettingWithCopyWarning: \n",
      "A value is trying to be set on a copy of a slice from a DataFrame\n",
      "\n",
      "See the caveats in the documentation: https://pandas.pydata.org/pandas-docs/stable/user_guide/indexing.html#returning-a-view-versus-a-copy\n",
      "  df_prep.dropna(inplace=True)\n",
      "c:\\Users\\zolyo\\OneDrive\\Documents\\Quartile 3\\JBG050 Data Challenge 2\\Code\\src\\demand.py:152: SettingWithCopyWarning: \n",
      "A value is trying to be set on a copy of a slice from a DataFrame\n",
      "\n",
      "See the caveats in the documentation: https://pandas.pydata.org/pandas-docs/stable/user_guide/indexing.html#returning-a-view-versus-a-copy\n",
      "  df_prep.dropna(inplace=True)\n",
      "c:\\Users\\zolyo\\OneDrive\\Documents\\Quartile 3\\JBG050 Data Challenge 2\\Code\\src\\demand.py:152: SettingWithCopyWarning: \n",
      "A value is trying to be set on a copy of a slice from a DataFrame\n",
      "\n",
      "See the caveats in the documentation: https://pandas.pydata.org/pandas-docs/stable/user_guide/indexing.html#returning-a-view-versus-a-copy\n",
      "  df_prep.dropna(inplace=True)\n",
      "c:\\Users\\zolyo\\OneDrive\\Documents\\Quartile 3\\JBG050 Data Challenge 2\\Code\\src\\demand.py:152: SettingWithCopyWarning: \n",
      "A value is trying to be set on a copy of a slice from a DataFrame\n",
      "\n",
      "See the caveats in the documentation: https://pandas.pydata.org/pandas-docs/stable/user_guide/indexing.html#returning-a-view-versus-a-copy\n",
      "  df_prep.dropna(inplace=True)\n",
      "c:\\Users\\zolyo\\OneDrive\\Documents\\Quartile 3\\JBG050 Data Challenge 2\\Code\\src\\demand.py:152: SettingWithCopyWarning: \n",
      "A value is trying to be set on a copy of a slice from a DataFrame\n",
      "\n",
      "See the caveats in the documentation: https://pandas.pydata.org/pandas-docs/stable/user_guide/indexing.html#returning-a-view-versus-a-copy\n",
      "  df_prep.dropna(inplace=True)\n",
      "c:\\Users\\zolyo\\OneDrive\\Documents\\Quartile 3\\JBG050 Data Challenge 2\\Code\\src\\demand.py:152: SettingWithCopyWarning: \n",
      "A value is trying to be set on a copy of a slice from a DataFrame\n",
      "\n",
      "See the caveats in the documentation: https://pandas.pydata.org/pandas-docs/stable/user_guide/indexing.html#returning-a-view-versus-a-copy\n",
      "  df_prep.dropna(inplace=True)\n",
      "c:\\Users\\zolyo\\OneDrive\\Documents\\Quartile 3\\JBG050 Data Challenge 2\\Code\\src\\demand.py:152: SettingWithCopyWarning: \n",
      "A value is trying to be set on a copy of a slice from a DataFrame\n",
      "\n",
      "See the caveats in the documentation: https://pandas.pydata.org/pandas-docs/stable/user_guide/indexing.html#returning-a-view-versus-a-copy\n",
      "  df_prep.dropna(inplace=True)\n",
      "c:\\Users\\zolyo\\OneDrive\\Documents\\Quartile 3\\JBG050 Data Challenge 2\\Code\\src\\demand.py:152: SettingWithCopyWarning: \n",
      "A value is trying to be set on a copy of a slice from a DataFrame\n",
      "\n",
      "See the caveats in the documentation: https://pandas.pydata.org/pandas-docs/stable/user_guide/indexing.html#returning-a-view-versus-a-copy\n",
      "  df_prep.dropna(inplace=True)\n",
      "c:\\Users\\zolyo\\OneDrive\\Documents\\Quartile 3\\JBG050 Data Challenge 2\\Code\\src\\demand.py:152: SettingWithCopyWarning: \n",
      "A value is trying to be set on a copy of a slice from a DataFrame\n",
      "\n",
      "See the caveats in the documentation: https://pandas.pydata.org/pandas-docs/stable/user_guide/indexing.html#returning-a-view-versus-a-copy\n",
      "  df_prep.dropna(inplace=True)\n",
      "c:\\Users\\zolyo\\OneDrive\\Documents\\Quartile 3\\JBG050 Data Challenge 2\\Code\\src\\demand.py:152: SettingWithCopyWarning: \n",
      "A value is trying to be set on a copy of a slice from a DataFrame\n",
      "\n",
      "See the caveats in the documentation: https://pandas.pydata.org/pandas-docs/stable/user_guide/indexing.html#returning-a-view-versus-a-copy\n",
      "  df_prep.dropna(inplace=True)\n",
      "c:\\Users\\zolyo\\OneDrive\\Documents\\Quartile 3\\JBG050 Data Challenge 2\\Code\\src\\demand.py:152: SettingWithCopyWarning: \n",
      "A value is trying to be set on a copy of a slice from a DataFrame\n",
      "\n",
      "See the caveats in the documentation: https://pandas.pydata.org/pandas-docs/stable/user_guide/indexing.html#returning-a-view-versus-a-copy\n",
      "  df_prep.dropna(inplace=True)\n",
      "c:\\Users\\zolyo\\OneDrive\\Documents\\Quartile 3\\JBG050 Data Challenge 2\\Code\\src\\demand.py:152: SettingWithCopyWarning: \n",
      "A value is trying to be set on a copy of a slice from a DataFrame\n",
      "\n",
      "See the caveats in the documentation: https://pandas.pydata.org/pandas-docs/stable/user_guide/indexing.html#returning-a-view-versus-a-copy\n",
      "  df_prep.dropna(inplace=True)\n",
      "c:\\Users\\zolyo\\OneDrive\\Documents\\Quartile 3\\JBG050 Data Challenge 2\\Code\\src\\demand.py:152: SettingWithCopyWarning: \n",
      "A value is trying to be set on a copy of a slice from a DataFrame\n",
      "\n",
      "See the caveats in the documentation: https://pandas.pydata.org/pandas-docs/stable/user_guide/indexing.html#returning-a-view-versus-a-copy\n",
      "  df_prep.dropna(inplace=True)\n",
      "c:\\Users\\zolyo\\OneDrive\\Documents\\Quartile 3\\JBG050 Data Challenge 2\\Code\\src\\demand.py:152: SettingWithCopyWarning: \n",
      "A value is trying to be set on a copy of a slice from a DataFrame\n",
      "\n",
      "See the caveats in the documentation: https://pandas.pydata.org/pandas-docs/stable/user_guide/indexing.html#returning-a-view-versus-a-copy\n",
      "  df_prep.dropna(inplace=True)\n",
      "c:\\Users\\zolyo\\OneDrive\\Documents\\Quartile 3\\JBG050 Data Challenge 2\\Code\\src\\demand.py:152: SettingWithCopyWarning: \n",
      "A value is trying to be set on a copy of a slice from a DataFrame\n",
      "\n",
      "See the caveats in the documentation: https://pandas.pydata.org/pandas-docs/stable/user_guide/indexing.html#returning-a-view-versus-a-copy\n",
      "  df_prep.dropna(inplace=True)\n",
      "c:\\Users\\zolyo\\OneDrive\\Documents\\Quartile 3\\JBG050 Data Challenge 2\\Code\\src\\demand.py:152: SettingWithCopyWarning: \n",
      "A value is trying to be set on a copy of a slice from a DataFrame\n",
      "\n",
      "See the caveats in the documentation: https://pandas.pydata.org/pandas-docs/stable/user_guide/indexing.html#returning-a-view-versus-a-copy\n",
      "  df_prep.dropna(inplace=True)\n",
      "c:\\Users\\zolyo\\OneDrive\\Documents\\Quartile 3\\JBG050 Data Challenge 2\\Code\\src\\demand.py:152: SettingWithCopyWarning: \n",
      "A value is trying to be set on a copy of a slice from a DataFrame\n",
      "\n",
      "See the caveats in the documentation: https://pandas.pydata.org/pandas-docs/stable/user_guide/indexing.html#returning-a-view-versus-a-copy\n",
      "  df_prep.dropna(inplace=True)\n",
      "c:\\Users\\zolyo\\OneDrive\\Documents\\Quartile 3\\JBG050 Data Challenge 2\\Code\\src\\demand.py:152: SettingWithCopyWarning: \n",
      "A value is trying to be set on a copy of a slice from a DataFrame\n",
      "\n",
      "See the caveats in the documentation: https://pandas.pydata.org/pandas-docs/stable/user_guide/indexing.html#returning-a-view-versus-a-copy\n",
      "  df_prep.dropna(inplace=True)\n",
      "c:\\Users\\zolyo\\OneDrive\\Documents\\Quartile 3\\JBG050 Data Challenge 2\\Code\\src\\demand.py:152: SettingWithCopyWarning: \n",
      "A value is trying to be set on a copy of a slice from a DataFrame\n",
      "\n",
      "See the caveats in the documentation: https://pandas.pydata.org/pandas-docs/stable/user_guide/indexing.html#returning-a-view-versus-a-copy\n",
      "  df_prep.dropna(inplace=True)\n",
      "c:\\Users\\zolyo\\OneDrive\\Documents\\Quartile 3\\JBG050 Data Challenge 2\\Code\\src\\demand.py:152: SettingWithCopyWarning: \n",
      "A value is trying to be set on a copy of a slice from a DataFrame\n",
      "\n",
      "See the caveats in the documentation: https://pandas.pydata.org/pandas-docs/stable/user_guide/indexing.html#returning-a-view-versus-a-copy\n",
      "  df_prep.dropna(inplace=True)\n",
      "c:\\Users\\zolyo\\OneDrive\\Documents\\Quartile 3\\JBG050 Data Challenge 2\\Code\\src\\demand.py:152: SettingWithCopyWarning: \n",
      "A value is trying to be set on a copy of a slice from a DataFrame\n",
      "\n",
      "See the caveats in the documentation: https://pandas.pydata.org/pandas-docs/stable/user_guide/indexing.html#returning-a-view-versus-a-copy\n",
      "  df_prep.dropna(inplace=True)\n",
      "c:\\Users\\zolyo\\OneDrive\\Documents\\Quartile 3\\JBG050 Data Challenge 2\\Code\\src\\demand.py:152: SettingWithCopyWarning: \n",
      "A value is trying to be set on a copy of a slice from a DataFrame\n",
      "\n",
      "See the caveats in the documentation: https://pandas.pydata.org/pandas-docs/stable/user_guide/indexing.html#returning-a-view-versus-a-copy\n",
      "  df_prep.dropna(inplace=True)\n",
      "c:\\Users\\zolyo\\OneDrive\\Documents\\Quartile 3\\JBG050 Data Challenge 2\\Code\\src\\demand.py:152: SettingWithCopyWarning: \n",
      "A value is trying to be set on a copy of a slice from a DataFrame\n",
      "\n",
      "See the caveats in the documentation: https://pandas.pydata.org/pandas-docs/stable/user_guide/indexing.html#returning-a-view-versus-a-copy\n",
      "  df_prep.dropna(inplace=True)\n",
      "c:\\Users\\zolyo\\OneDrive\\Documents\\Quartile 3\\JBG050 Data Challenge 2\\Code\\src\\demand.py:152: SettingWithCopyWarning: \n",
      "A value is trying to be set on a copy of a slice from a DataFrame\n",
      "\n",
      "See the caveats in the documentation: https://pandas.pydata.org/pandas-docs/stable/user_guide/indexing.html#returning-a-view-versus-a-copy\n",
      "  df_prep.dropna(inplace=True)\n",
      "c:\\Users\\zolyo\\OneDrive\\Documents\\Quartile 3\\JBG050 Data Challenge 2\\Code\\src\\demand.py:152: SettingWithCopyWarning: \n",
      "A value is trying to be set on a copy of a slice from a DataFrame\n",
      "\n",
      "See the caveats in the documentation: https://pandas.pydata.org/pandas-docs/stable/user_guide/indexing.html#returning-a-view-versus-a-copy\n",
      "  df_prep.dropna(inplace=True)\n",
      "c:\\Users\\zolyo\\OneDrive\\Documents\\Quartile 3\\JBG050 Data Challenge 2\\Code\\src\\demand.py:152: SettingWithCopyWarning: \n",
      "A value is trying to be set on a copy of a slice from a DataFrame\n",
      "\n",
      "See the caveats in the documentation: https://pandas.pydata.org/pandas-docs/stable/user_guide/indexing.html#returning-a-view-versus-a-copy\n",
      "  df_prep.dropna(inplace=True)\n",
      "c:\\Users\\zolyo\\OneDrive\\Documents\\Quartile 3\\JBG050 Data Challenge 2\\Code\\src\\demand.py:152: SettingWithCopyWarning: \n",
      "A value is trying to be set on a copy of a slice from a DataFrame\n",
      "\n",
      "See the caveats in the documentation: https://pandas.pydata.org/pandas-docs/stable/user_guide/indexing.html#returning-a-view-versus-a-copy\n",
      "  df_prep.dropna(inplace=True)\n",
      "c:\\Users\\zolyo\\OneDrive\\Documents\\Quartile 3\\JBG050 Data Challenge 2\\Code\\src\\demand.py:152: SettingWithCopyWarning: \n",
      "A value is trying to be set on a copy of a slice from a DataFrame\n",
      "\n",
      "See the caveats in the documentation: https://pandas.pydata.org/pandas-docs/stable/user_guide/indexing.html#returning-a-view-versus-a-copy\n",
      "  df_prep.dropna(inplace=True)\n",
      "c:\\Users\\zolyo\\OneDrive\\Documents\\Quartile 3\\JBG050 Data Challenge 2\\Code\\src\\demand.py:152: SettingWithCopyWarning: \n",
      "A value is trying to be set on a copy of a slice from a DataFrame\n",
      "\n",
      "See the caveats in the documentation: https://pandas.pydata.org/pandas-docs/stable/user_guide/indexing.html#returning-a-view-versus-a-copy\n",
      "  df_prep.dropna(inplace=True)\n",
      "c:\\Users\\zolyo\\OneDrive\\Documents\\Quartile 3\\JBG050 Data Challenge 2\\Code\\src\\demand.py:152: SettingWithCopyWarning: \n",
      "A value is trying to be set on a copy of a slice from a DataFrame\n",
      "\n",
      "See the caveats in the documentation: https://pandas.pydata.org/pandas-docs/stable/user_guide/indexing.html#returning-a-view-versus-a-copy\n",
      "  df_prep.dropna(inplace=True)\n",
      "c:\\Users\\zolyo\\OneDrive\\Documents\\Quartile 3\\JBG050 Data Challenge 2\\Code\\src\\demand.py:152: SettingWithCopyWarning: \n",
      "A value is trying to be set on a copy of a slice from a DataFrame\n",
      "\n",
      "See the caveats in the documentation: https://pandas.pydata.org/pandas-docs/stable/user_guide/indexing.html#returning-a-view-versus-a-copy\n",
      "  df_prep.dropna(inplace=True)\n",
      "c:\\Users\\zolyo\\OneDrive\\Documents\\Quartile 3\\JBG050 Data Challenge 2\\Code\\src\\demand.py:152: SettingWithCopyWarning: \n",
      "A value is trying to be set on a copy of a slice from a DataFrame\n",
      "\n",
      "See the caveats in the documentation: https://pandas.pydata.org/pandas-docs/stable/user_guide/indexing.html#returning-a-view-versus-a-copy\n",
      "  df_prep.dropna(inplace=True)\n",
      "c:\\Users\\zolyo\\OneDrive\\Documents\\Quartile 3\\JBG050 Data Challenge 2\\Code\\src\\demand.py:152: SettingWithCopyWarning: \n",
      "A value is trying to be set on a copy of a slice from a DataFrame\n",
      "\n",
      "See the caveats in the documentation: https://pandas.pydata.org/pandas-docs/stable/user_guide/indexing.html#returning-a-view-versus-a-copy\n",
      "  df_prep.dropna(inplace=True)\n",
      "c:\\Users\\zolyo\\OneDrive\\Documents\\Quartile 3\\JBG050 Data Challenge 2\\Code\\src\\demand.py:152: SettingWithCopyWarning: \n",
      "A value is trying to be set on a copy of a slice from a DataFrame\n",
      "\n",
      "See the caveats in the documentation: https://pandas.pydata.org/pandas-docs/stable/user_guide/indexing.html#returning-a-view-versus-a-copy\n",
      "  df_prep.dropna(inplace=True)\n",
      "c:\\Users\\zolyo\\OneDrive\\Documents\\Quartile 3\\JBG050 Data Challenge 2\\Code\\src\\demand.py:152: SettingWithCopyWarning: \n",
      "A value is trying to be set on a copy of a slice from a DataFrame\n",
      "\n",
      "See the caveats in the documentation: https://pandas.pydata.org/pandas-docs/stable/user_guide/indexing.html#returning-a-view-versus-a-copy\n",
      "  df_prep.dropna(inplace=True)\n",
      "c:\\Users\\zolyo\\OneDrive\\Documents\\Quartile 3\\JBG050 Data Challenge 2\\Code\\src\\demand.py:152: SettingWithCopyWarning: \n",
      "A value is trying to be set on a copy of a slice from a DataFrame\n",
      "\n",
      "See the caveats in the documentation: https://pandas.pydata.org/pandas-docs/stable/user_guide/indexing.html#returning-a-view-versus-a-copy\n",
      "  df_prep.dropna(inplace=True)\n",
      "c:\\Users\\zolyo\\OneDrive\\Documents\\Quartile 3\\JBG050 Data Challenge 2\\Code\\src\\demand.py:152: SettingWithCopyWarning: \n",
      "A value is trying to be set on a copy of a slice from a DataFrame\n",
      "\n",
      "See the caveats in the documentation: https://pandas.pydata.org/pandas-docs/stable/user_guide/indexing.html#returning-a-view-versus-a-copy\n",
      "  df_prep.dropna(inplace=True)\n",
      "c:\\Users\\zolyo\\OneDrive\\Documents\\Quartile 3\\JBG050 Data Challenge 2\\Code\\src\\demand.py:152: SettingWithCopyWarning: \n",
      "A value is trying to be set on a copy of a slice from a DataFrame\n",
      "\n",
      "See the caveats in the documentation: https://pandas.pydata.org/pandas-docs/stable/user_guide/indexing.html#returning-a-view-versus-a-copy\n",
      "  df_prep.dropna(inplace=True)\n",
      "c:\\Users\\zolyo\\OneDrive\\Documents\\Quartile 3\\JBG050 Data Challenge 2\\Code\\src\\demand.py:152: SettingWithCopyWarning: \n",
      "A value is trying to be set on a copy of a slice from a DataFrame\n",
      "\n",
      "See the caveats in the documentation: https://pandas.pydata.org/pandas-docs/stable/user_guide/indexing.html#returning-a-view-versus-a-copy\n",
      "  df_prep.dropna(inplace=True)\n",
      "c:\\Users\\zolyo\\OneDrive\\Documents\\Quartile 3\\JBG050 Data Challenge 2\\Code\\src\\demand.py:152: SettingWithCopyWarning: \n",
      "A value is trying to be set on a copy of a slice from a DataFrame\n",
      "\n",
      "See the caveats in the documentation: https://pandas.pydata.org/pandas-docs/stable/user_guide/indexing.html#returning-a-view-versus-a-copy\n",
      "  df_prep.dropna(inplace=True)\n",
      "c:\\Users\\zolyo\\OneDrive\\Documents\\Quartile 3\\JBG050 Data Challenge 2\\Code\\src\\demand.py:152: SettingWithCopyWarning: \n",
      "A value is trying to be set on a copy of a slice from a DataFrame\n",
      "\n",
      "See the caveats in the documentation: https://pandas.pydata.org/pandas-docs/stable/user_guide/indexing.html#returning-a-view-versus-a-copy\n",
      "  df_prep.dropna(inplace=True)\n",
      "c:\\Users\\zolyo\\OneDrive\\Documents\\Quartile 3\\JBG050 Data Challenge 2\\Code\\src\\demand.py:152: SettingWithCopyWarning: \n",
      "A value is trying to be set on a copy of a slice from a DataFrame\n",
      "\n",
      "See the caveats in the documentation: https://pandas.pydata.org/pandas-docs/stable/user_guide/indexing.html#returning-a-view-versus-a-copy\n",
      "  df_prep.dropna(inplace=True)\n"
     ]
    }
   ],
   "source": [
    "from waste_functions import predicted_demand\n",
    "\n",
    "test = predicted_demand(waste_df_extended, ranges, model, output_dct, prepared_transactions)"
   ]
  },
  {
   "cell_type": "code",
   "execution_count": 7,
   "metadata": {},
   "outputs": [
    {
     "output_type": "execute_result",
     "data": {
      "text/plain": [
       "                 amount    DOY  cumulative purchases  purchases  remaining  \\\n",
       "best before day                                                              \n",
       "14                   26   14.0                  36.0        NaN      -10.0   \n",
       "17                   26   17.0                  41.0        5.0       21.0   \n",
       "21                   26   21.0                  60.0       19.0        7.0   \n",
       "24                   26   24.0                  68.0        8.0       18.0   \n",
       "28                   26   28.0                  88.0       20.0        6.0   \n",
       "...                 ...    ...                   ...        ...        ...   \n",
       "350                  26  350.0                1229.0       11.0       15.0   \n",
       "353                  26  353.0                1237.0        8.0       18.0   \n",
       "357                  26  357.0                1251.0       14.0       12.0   \n",
       "360                  26  360.0                1261.0       10.0       16.0   \n",
       "364                  26  363.0                1267.0        6.0       20.0   \n",
       "\n",
       "                 waste  week  waste nn  predicted demand  demand_discounts  \n",
       "best before day                                                             \n",
       "14               -10.0     3       0.0         38.803361         40.901873  \n",
       "17                11.0     3      11.0          7.904251         10.002763  \n",
       "21                 7.0     4       7.0         12.064346         14.162858  \n",
       "24                18.0     4      18.0         12.743521         14.842033  \n",
       "28                 6.0     5       6.0         22.054773         24.153285  \n",
       "...                ...   ...       ...               ...               ...  \n",
       "350               15.0    51      15.0         21.842744         23.941256  \n",
       "353               18.0    51      18.0         12.500279         14.598791  \n",
       "357               12.0    52      12.0         21.619144         23.717656  \n",
       "360               16.0    52      16.0         17.134042         19.232554  \n",
       "364               20.0    52      20.0         17.312971         19.411483  \n",
       "\n",
       "[101 rows x 10 columns]"
      ],
      "text/html": "<div>\n<style scoped>\n    .dataframe tbody tr th:only-of-type {\n        vertical-align: middle;\n    }\n\n    .dataframe tbody tr th {\n        vertical-align: top;\n    }\n\n    .dataframe thead th {\n        text-align: right;\n    }\n</style>\n<table border=\"1\" class=\"dataframe\">\n  <thead>\n    <tr style=\"text-align: right;\">\n      <th></th>\n      <th>amount</th>\n      <th>DOY</th>\n      <th>cumulative purchases</th>\n      <th>purchases</th>\n      <th>remaining</th>\n      <th>waste</th>\n      <th>week</th>\n      <th>waste nn</th>\n      <th>predicted demand</th>\n      <th>demand_discounts</th>\n    </tr>\n    <tr>\n      <th>best before day</th>\n      <th></th>\n      <th></th>\n      <th></th>\n      <th></th>\n      <th></th>\n      <th></th>\n      <th></th>\n      <th></th>\n      <th></th>\n      <th></th>\n    </tr>\n  </thead>\n  <tbody>\n    <tr>\n      <th>14</th>\n      <td>26</td>\n      <td>14.0</td>\n      <td>36.0</td>\n      <td>NaN</td>\n      <td>-10.0</td>\n      <td>-10.0</td>\n      <td>3</td>\n      <td>0.0</td>\n      <td>38.803361</td>\n      <td>40.901873</td>\n    </tr>\n    <tr>\n      <th>17</th>\n      <td>26</td>\n      <td>17.0</td>\n      <td>41.0</td>\n      <td>5.0</td>\n      <td>21.0</td>\n      <td>11.0</td>\n      <td>3</td>\n      <td>11.0</td>\n      <td>7.904251</td>\n      <td>10.002763</td>\n    </tr>\n    <tr>\n      <th>21</th>\n      <td>26</td>\n      <td>21.0</td>\n      <td>60.0</td>\n      <td>19.0</td>\n      <td>7.0</td>\n      <td>7.0</td>\n      <td>4</td>\n      <td>7.0</td>\n      <td>12.064346</td>\n      <td>14.162858</td>\n    </tr>\n    <tr>\n      <th>24</th>\n      <td>26</td>\n      <td>24.0</td>\n      <td>68.0</td>\n      <td>8.0</td>\n      <td>18.0</td>\n      <td>18.0</td>\n      <td>4</td>\n      <td>18.0</td>\n      <td>12.743521</td>\n      <td>14.842033</td>\n    </tr>\n    <tr>\n      <th>28</th>\n      <td>26</td>\n      <td>28.0</td>\n      <td>88.0</td>\n      <td>20.0</td>\n      <td>6.0</td>\n      <td>6.0</td>\n      <td>5</td>\n      <td>6.0</td>\n      <td>22.054773</td>\n      <td>24.153285</td>\n    </tr>\n    <tr>\n      <th>...</th>\n      <td>...</td>\n      <td>...</td>\n      <td>...</td>\n      <td>...</td>\n      <td>...</td>\n      <td>...</td>\n      <td>...</td>\n      <td>...</td>\n      <td>...</td>\n      <td>...</td>\n    </tr>\n    <tr>\n      <th>350</th>\n      <td>26</td>\n      <td>350.0</td>\n      <td>1229.0</td>\n      <td>11.0</td>\n      <td>15.0</td>\n      <td>15.0</td>\n      <td>51</td>\n      <td>15.0</td>\n      <td>21.842744</td>\n      <td>23.941256</td>\n    </tr>\n    <tr>\n      <th>353</th>\n      <td>26</td>\n      <td>353.0</td>\n      <td>1237.0</td>\n      <td>8.0</td>\n      <td>18.0</td>\n      <td>18.0</td>\n      <td>51</td>\n      <td>18.0</td>\n      <td>12.500279</td>\n      <td>14.598791</td>\n    </tr>\n    <tr>\n      <th>357</th>\n      <td>26</td>\n      <td>357.0</td>\n      <td>1251.0</td>\n      <td>14.0</td>\n      <td>12.0</td>\n      <td>12.0</td>\n      <td>52</td>\n      <td>12.0</td>\n      <td>21.619144</td>\n      <td>23.717656</td>\n    </tr>\n    <tr>\n      <th>360</th>\n      <td>26</td>\n      <td>360.0</td>\n      <td>1261.0</td>\n      <td>10.0</td>\n      <td>16.0</td>\n      <td>16.0</td>\n      <td>52</td>\n      <td>16.0</td>\n      <td>17.134042</td>\n      <td>19.232554</td>\n    </tr>\n    <tr>\n      <th>364</th>\n      <td>26</td>\n      <td>363.0</td>\n      <td>1267.0</td>\n      <td>6.0</td>\n      <td>20.0</td>\n      <td>20.0</td>\n      <td>52</td>\n      <td>20.0</td>\n      <td>17.312971</td>\n      <td>19.411483</td>\n    </tr>\n  </tbody>\n</table>\n<p>101 rows × 10 columns</p>\n</div>"
     },
     "metadata": {},
     "execution_count": 7
    }
   ],
   "source": [
    "test"
   ]
  },
  {
   "cell_type": "code",
   "execution_count": null,
   "metadata": {},
   "outputs": [],
   "source": []
  }
 ]
}