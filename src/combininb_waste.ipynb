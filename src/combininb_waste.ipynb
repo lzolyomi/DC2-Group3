{
 "metadata": {
  "language_info": {
   "codemirror_mode": {
    "name": "ipython",
    "version": 3
   },
   "file_extension": ".py",
   "mimetype": "text/x-python",
   "name": "python",
   "nbconvert_exporter": "python",
   "pygments_lexer": "ipython3",
   "version": "3.8.2"
  },
  "orig_nbformat": 2,
  "kernelspec": {
   "name": "python382jvsc74a57bd01baa965d5efe3ac65b79dfc60c0d706280b1da80fedb7760faf2759126c4f253",
   "display_name": "Python 3.8.2 64-bit"
  },
  "metadata": {
   "interpreter": {
    "hash": "1baa965d5efe3ac65b79dfc60c0d706280b1da80fedb7760faf2759126c4f253"
   }
  }
 },
 "nbformat": 4,
 "nbformat_minor": 2,
 "cells": [
  {
   "cell_type": "code",
   "execution_count": 1,
   "metadata": {},
   "outputs": [],
   "source": [
    "import pandas as pd\n",
    "import numpy as np \n",
    "import datetime\n",
    "import ast\n",
    "from waste_functions import predicted_demand, waste_analysis\n",
    "inventory = pd.read_csv(\"data/inventory.csv\")\n",
    "products = pd.read_csv(\"data/products.csv\")\n",
    "promotions = pd.read_csv(\"data/promotions.csv\")\n",
    "transactions = pd.read_csv(\"data/transactions.csv\")\n",
    "discount_per_day = pd.read_csv(\"nr_discounts_per_day.csv\")\n",
    "pd.set_option('mode.chained_assignment', None) #turns off pandas warnings\n",
    "#create a reference dataframe\n",
    "dayofyear = list(range(365))\n",
    "date = [datetime.datetime(2018, 1, 1) + datetime.timedelta(day) for day in dayofyear]\n",
    "df_date = pd.DataFrame({\"day\":dayofyear, \"date\":date})\n",
    "\n",
    "tup_list2 = [('Blauwe bessen', '150g'), ('Rundergehakt', '300g '), ('Unox Gelderse rookworst', '285g'), ('Biologisch rundergehakt', '300g')]\n",
    "for pair in tup_list2:\n",
    "\n",
    "    transactions.loc[transactions[(transactions['description'] == pair[0]) & (transactions['size'] == pair[1])].index, 'description'] = pair[0] + '.1'\n",
    "\n",
    "    products.loc[products[(products['description'] == pair[0]) & (products['size'] == pair[1])].index, 'description'] = pair[0] + '.1'\n",
    "\n",
    "#for colname in inventory.columns[2:]:\n",
    "#    inventory[colname] = [ast.literal_eval(i) for i in inventory[colname]]\n",
    "    #converting inventory rows to list of tuples from string\n",
    "\n",
    "product = \"Eierkoeken\" # item to be analyzed\n",
    "filtered_transactions = transactions[transactions[\"description\"] == product]\n",
    "filtered_inventory = inventory[[\"day\", \"before or after delivery\", product]]"
   ]
  },
  {
   "source": [
    "## Testing `waste analysis` function "
   ],
   "cell_type": "markdown",
   "metadata": {}
  },
  {
   "cell_type": "code",
   "execution_count": 9,
   "metadata": {},
   "outputs": [
    {
     "output_type": "stream",
     "name": "stdout",
     "text": [
      "(76, 7)\n",
      "Extended waste dataframe created\n",
      "Data prepared for prediction\n",
      "Model fitted; test set metrics: MAE: 5.3112624680954905 MSE: 43.26675861223043, R^2 score: 0.3341249548189359\n",
      "Demand function fitted\n",
      "Average of actual/estimated purchase ratios: 1.0053999221263994\n",
      "Waste change predicted, calculating revenue loss...\n"
     ]
    },
    {
     "output_type": "execute_result",
     "data": {
      "text/plain": [
       "                 amount total_inventory remaining_stock    DOY  \\\n",
       "best before day                                                  \n",
       "100                 125            None            None  100.0   \n",
       "103                 125            None            None  103.0   \n",
       "107                 125            None            None  107.0   \n",
       "110                 125            None            None  110.0   \n",
       "114                 125            None            None  114.0   \n",
       "...                 ...             ...             ...    ...   \n",
       "348                 150            None            None  348.0   \n",
       "352                 150            None            None  352.0   \n",
       "355                 150            None            None  355.0   \n",
       "359                 125            None            None  359.0   \n",
       "362                 125            None            None  362.0   \n",
       "\n",
       "                 cumulative purchases  purchases  remaining   waste  week  \\\n",
       "best before day                                                             \n",
       "100                            3338.0        NaN    -3213.0 -3213.0    15   \n",
       "103                            3430.0       92.0       33.0 -3180.0    15   \n",
       "107                            3567.0      137.0      -12.0 -3192.0    16   \n",
       "110                            3659.0       92.0       33.0 -3159.0    16   \n",
       "114                            3778.0      119.0        6.0 -3153.0    17   \n",
       "...                               ...        ...        ...     ...   ...   \n",
       "348                           11053.0       93.0       57.0 -1803.0    50   \n",
       "352                           11184.0      131.0       19.0 -1784.0    51   \n",
       "355                           11281.0       97.0       53.0 -1731.0    51   \n",
       "359                           11393.0      112.0       13.0 -1718.0    52   \n",
       "362                           11465.0       72.0       53.0 -1665.0    52   \n",
       "\n",
       "                 waste nn  ...  avg_price  std_price  expected purchases  \\\n",
       "best before day            ...                                             \n",
       "100                     0  ...   1.640139   1.684029                 NaN   \n",
       "103                     0  ...   1.657951   1.790000                98.0   \n",
       "107                     0  ...   1.637036   1.790000               146.0   \n",
       "110                     0  ...   1.757572   1.790000                98.0   \n",
       "114                     0  ...   1.747441   1.790000               127.0   \n",
       "...                   ...  ...        ...        ...                 ...   \n",
       "348                     0  ...   1.667104   1.790000                99.0   \n",
       "352                     0  ...   1.665908   1.790000               139.0   \n",
       "355                     0  ...   1.654394   1.790000               103.0   \n",
       "359                     0  ...   1.790000   1.790000               119.0   \n",
       "362                     0  ...   1.607022   1.790000                77.0   \n",
       "\n",
       "                 expected waste  expected loss revenue  expected loss profit  \\\n",
       "best before day                                                                \n",
       "100                         0.0                    0.0                   0.0   \n",
       "103                         0.0                    0.0                   0.0   \n",
       "107                         0.0                    0.0                   0.0   \n",
       "110                         0.0                    0.0                   0.0   \n",
       "114                         0.0                    0.0                   0.0   \n",
       "...                         ...                    ...                   ...   \n",
       "348                         0.0                    0.0                   0.0   \n",
       "352                         0.0                    0.0                   0.0   \n",
       "355                         0.0                    0.0                   0.0   \n",
       "359                         0.0                    0.0                   0.0   \n",
       "362                         0.0                    0.0                   0.0   \n",
       "\n",
       "                 expected waste cost  loss revenue  loss profit  waste cost  \n",
       "best before day                                                              \n",
       "100                              0.0           0.0          0.0         0.0  \n",
       "103                              0.0           0.0          0.0         0.0  \n",
       "107                              0.0           0.0          0.0         0.0  \n",
       "110                              0.0           0.0          0.0         0.0  \n",
       "114                              0.0           0.0          0.0         0.0  \n",
       "...                              ...           ...          ...         ...  \n",
       "348                              0.0           0.0          0.0         0.0  \n",
       "352                              0.0           0.0          0.0         0.0  \n",
       "355                              0.0           0.0          0.0         0.0  \n",
       "359                              0.0           0.0          0.0         0.0  \n",
       "362                              0.0           0.0          0.0         0.0  \n",
       "\n",
       "[76 rows x 21 columns]"
      ],
      "text/html": "<div>\n<style scoped>\n    .dataframe tbody tr th:only-of-type {\n        vertical-align: middle;\n    }\n\n    .dataframe tbody tr th {\n        vertical-align: top;\n    }\n\n    .dataframe thead th {\n        text-align: right;\n    }\n</style>\n<table border=\"1\" class=\"dataframe\">\n  <thead>\n    <tr style=\"text-align: right;\">\n      <th></th>\n      <th>amount</th>\n      <th>total_inventory</th>\n      <th>remaining_stock</th>\n      <th>DOY</th>\n      <th>cumulative purchases</th>\n      <th>purchases</th>\n      <th>remaining</th>\n      <th>waste</th>\n      <th>week</th>\n      <th>waste nn</th>\n      <th>...</th>\n      <th>avg_price</th>\n      <th>std_price</th>\n      <th>expected purchases</th>\n      <th>expected waste</th>\n      <th>expected loss revenue</th>\n      <th>expected loss profit</th>\n      <th>expected waste cost</th>\n      <th>loss revenue</th>\n      <th>loss profit</th>\n      <th>waste cost</th>\n    </tr>\n    <tr>\n      <th>best before day</th>\n      <th></th>\n      <th></th>\n      <th></th>\n      <th></th>\n      <th></th>\n      <th></th>\n      <th></th>\n      <th></th>\n      <th></th>\n      <th></th>\n      <th></th>\n      <th></th>\n      <th></th>\n      <th></th>\n      <th></th>\n      <th></th>\n      <th></th>\n      <th></th>\n      <th></th>\n      <th></th>\n      <th></th>\n    </tr>\n  </thead>\n  <tbody>\n    <tr>\n      <th>100</th>\n      <td>125</td>\n      <td>None</td>\n      <td>None</td>\n      <td>100.0</td>\n      <td>3338.0</td>\n      <td>NaN</td>\n      <td>-3213.0</td>\n      <td>-3213.0</td>\n      <td>15</td>\n      <td>0</td>\n      <td>...</td>\n      <td>1.640139</td>\n      <td>1.684029</td>\n      <td>NaN</td>\n      <td>0.0</td>\n      <td>0.0</td>\n      <td>0.0</td>\n      <td>0.0</td>\n      <td>0.0</td>\n      <td>0.0</td>\n      <td>0.0</td>\n    </tr>\n    <tr>\n      <th>103</th>\n      <td>125</td>\n      <td>None</td>\n      <td>None</td>\n      <td>103.0</td>\n      <td>3430.0</td>\n      <td>92.0</td>\n      <td>33.0</td>\n      <td>-3180.0</td>\n      <td>15</td>\n      <td>0</td>\n      <td>...</td>\n      <td>1.657951</td>\n      <td>1.790000</td>\n      <td>98.0</td>\n      <td>0.0</td>\n      <td>0.0</td>\n      <td>0.0</td>\n      <td>0.0</td>\n      <td>0.0</td>\n      <td>0.0</td>\n      <td>0.0</td>\n    </tr>\n    <tr>\n      <th>107</th>\n      <td>125</td>\n      <td>None</td>\n      <td>None</td>\n      <td>107.0</td>\n      <td>3567.0</td>\n      <td>137.0</td>\n      <td>-12.0</td>\n      <td>-3192.0</td>\n      <td>16</td>\n      <td>0</td>\n      <td>...</td>\n      <td>1.637036</td>\n      <td>1.790000</td>\n      <td>146.0</td>\n      <td>0.0</td>\n      <td>0.0</td>\n      <td>0.0</td>\n      <td>0.0</td>\n      <td>0.0</td>\n      <td>0.0</td>\n      <td>0.0</td>\n    </tr>\n    <tr>\n      <th>110</th>\n      <td>125</td>\n      <td>None</td>\n      <td>None</td>\n      <td>110.0</td>\n      <td>3659.0</td>\n      <td>92.0</td>\n      <td>33.0</td>\n      <td>-3159.0</td>\n      <td>16</td>\n      <td>0</td>\n      <td>...</td>\n      <td>1.757572</td>\n      <td>1.790000</td>\n      <td>98.0</td>\n      <td>0.0</td>\n      <td>0.0</td>\n      <td>0.0</td>\n      <td>0.0</td>\n      <td>0.0</td>\n      <td>0.0</td>\n      <td>0.0</td>\n    </tr>\n    <tr>\n      <th>114</th>\n      <td>125</td>\n      <td>None</td>\n      <td>None</td>\n      <td>114.0</td>\n      <td>3778.0</td>\n      <td>119.0</td>\n      <td>6.0</td>\n      <td>-3153.0</td>\n      <td>17</td>\n      <td>0</td>\n      <td>...</td>\n      <td>1.747441</td>\n      <td>1.790000</td>\n      <td>127.0</td>\n      <td>0.0</td>\n      <td>0.0</td>\n      <td>0.0</td>\n      <td>0.0</td>\n      <td>0.0</td>\n      <td>0.0</td>\n      <td>0.0</td>\n    </tr>\n    <tr>\n      <th>...</th>\n      <td>...</td>\n      <td>...</td>\n      <td>...</td>\n      <td>...</td>\n      <td>...</td>\n      <td>...</td>\n      <td>...</td>\n      <td>...</td>\n      <td>...</td>\n      <td>...</td>\n      <td>...</td>\n      <td>...</td>\n      <td>...</td>\n      <td>...</td>\n      <td>...</td>\n      <td>...</td>\n      <td>...</td>\n      <td>...</td>\n      <td>...</td>\n      <td>...</td>\n      <td>...</td>\n    </tr>\n    <tr>\n      <th>348</th>\n      <td>150</td>\n      <td>None</td>\n      <td>None</td>\n      <td>348.0</td>\n      <td>11053.0</td>\n      <td>93.0</td>\n      <td>57.0</td>\n      <td>-1803.0</td>\n      <td>50</td>\n      <td>0</td>\n      <td>...</td>\n      <td>1.667104</td>\n      <td>1.790000</td>\n      <td>99.0</td>\n      <td>0.0</td>\n      <td>0.0</td>\n      <td>0.0</td>\n      <td>0.0</td>\n      <td>0.0</td>\n      <td>0.0</td>\n      <td>0.0</td>\n    </tr>\n    <tr>\n      <th>352</th>\n      <td>150</td>\n      <td>None</td>\n      <td>None</td>\n      <td>352.0</td>\n      <td>11184.0</td>\n      <td>131.0</td>\n      <td>19.0</td>\n      <td>-1784.0</td>\n      <td>51</td>\n      <td>0</td>\n      <td>...</td>\n      <td>1.665908</td>\n      <td>1.790000</td>\n      <td>139.0</td>\n      <td>0.0</td>\n      <td>0.0</td>\n      <td>0.0</td>\n      <td>0.0</td>\n      <td>0.0</td>\n      <td>0.0</td>\n      <td>0.0</td>\n    </tr>\n    <tr>\n      <th>355</th>\n      <td>150</td>\n      <td>None</td>\n      <td>None</td>\n      <td>355.0</td>\n      <td>11281.0</td>\n      <td>97.0</td>\n      <td>53.0</td>\n      <td>-1731.0</td>\n      <td>51</td>\n      <td>0</td>\n      <td>...</td>\n      <td>1.654394</td>\n      <td>1.790000</td>\n      <td>103.0</td>\n      <td>0.0</td>\n      <td>0.0</td>\n      <td>0.0</td>\n      <td>0.0</td>\n      <td>0.0</td>\n      <td>0.0</td>\n      <td>0.0</td>\n    </tr>\n    <tr>\n      <th>359</th>\n      <td>125</td>\n      <td>None</td>\n      <td>None</td>\n      <td>359.0</td>\n      <td>11393.0</td>\n      <td>112.0</td>\n      <td>13.0</td>\n      <td>-1718.0</td>\n      <td>52</td>\n      <td>0</td>\n      <td>...</td>\n      <td>1.790000</td>\n      <td>1.790000</td>\n      <td>119.0</td>\n      <td>0.0</td>\n      <td>0.0</td>\n      <td>0.0</td>\n      <td>0.0</td>\n      <td>0.0</td>\n      <td>0.0</td>\n      <td>0.0</td>\n    </tr>\n    <tr>\n      <th>362</th>\n      <td>125</td>\n      <td>None</td>\n      <td>None</td>\n      <td>362.0</td>\n      <td>11465.0</td>\n      <td>72.0</td>\n      <td>53.0</td>\n      <td>-1665.0</td>\n      <td>52</td>\n      <td>0</td>\n      <td>...</td>\n      <td>1.607022</td>\n      <td>1.790000</td>\n      <td>77.0</td>\n      <td>0.0</td>\n      <td>0.0</td>\n      <td>0.0</td>\n      <td>0.0</td>\n      <td>0.0</td>\n      <td>0.0</td>\n      <td>0.0</td>\n    </tr>\n  </tbody>\n</table>\n<p>76 rows × 21 columns</p>\n</div>"
     },
     "metadata": {},
     "execution_count": 9
    }
   ],
   "source": [
    "complimentary = \"Biologisch volkoren heel\"\n",
    "from sklearn.ensemble import RandomForestRegressor\n",
    "from sklearn.tree import DecisionTreeRegressor\n",
    "rf = RandomForestRegressor(n_estimators=50)\n",
    "dtc = DecisionTreeRegressor(criterion=\"mae\")\n",
    "output_full = waste_analysis(inventory, transactions, products, product, discount_per_day=discount_per_day)\n",
    "\n",
    "output_full"
   ]
  },
  {
   "cell_type": "code",
   "execution_count": 2,
   "metadata": {},
   "outputs": [
    {
     "output_type": "error",
     "ename": "NameError",
     "evalue": "name 'output_full' is not defined",
     "traceback": [
      "\u001b[1;31m---------------------------------------------------------------------------\u001b[0m",
      "\u001b[1;31mNameError\u001b[0m                                 Traceback (most recent call last)",
      "\u001b[1;32m<ipython-input-2-cf7cee87a780>\u001b[0m in \u001b[0;36m<module>\u001b[1;34m\u001b[0m\n\u001b[0;32m      1\u001b[0m \u001b[0mmoney_cols\u001b[0m \u001b[1;33m=\u001b[0m \u001b[1;33m[\u001b[0m\u001b[1;34m\"loss revenue\"\u001b[0m\u001b[1;33m,\u001b[0m \u001b[1;34m\"loss profit\"\u001b[0m\u001b[1;33m,\u001b[0m \u001b[1;34m\"waste cost\"\u001b[0m\u001b[1;33m,\u001b[0m \u001b[1;34m\"expected loss revenue\"\u001b[0m\u001b[1;33m,\u001b[0m \u001b[1;34m\"expected loss profit\"\u001b[0m\u001b[1;33m,\u001b[0m \u001b[1;34m\"expected waste cost\"\u001b[0m\u001b[1;33m]\u001b[0m\u001b[1;33m\u001b[0m\u001b[1;33m\u001b[0m\u001b[0m\n\u001b[1;32m----> 2\u001b[1;33m \u001b[0mvalues\u001b[0m \u001b[1;33m=\u001b[0m \u001b[0moutput_full\u001b[0m\u001b[1;33m[\u001b[0m\u001b[0mmoney_cols\u001b[0m\u001b[1;33m]\u001b[0m\u001b[1;33m.\u001b[0m\u001b[0msum\u001b[0m\u001b[1;33m(\u001b[0m\u001b[1;33m)\u001b[0m\u001b[1;33m.\u001b[0m\u001b[0mvalues\u001b[0m\u001b[1;33m.\u001b[0m\u001b[0mround\u001b[0m\u001b[1;33m(\u001b[0m\u001b[1;36m2\u001b[0m\u001b[1;33m)\u001b[0m\u001b[1;33m\u001b[0m\u001b[1;33m\u001b[0m\u001b[0m\n\u001b[0m\u001b[0;32m      3\u001b[0m \u001b[0mdct\u001b[0m \u001b[1;33m=\u001b[0m \u001b[1;33m{\u001b[0m\u001b[1;33m}\u001b[0m\u001b[1;33m\u001b[0m\u001b[1;33m\u001b[0m\u001b[0m\n\u001b[0;32m      4\u001b[0m \u001b[0mi\u001b[0m \u001b[1;33m=\u001b[0m \u001b[1;36m0\u001b[0m\u001b[1;33m\u001b[0m\u001b[1;33m\u001b[0m\u001b[0m\n\u001b[0;32m      5\u001b[0m \u001b[1;32mfor\u001b[0m \u001b[0mname\u001b[0m \u001b[1;32min\u001b[0m \u001b[0mmoney_cols\u001b[0m\u001b[1;33m:\u001b[0m\u001b[1;33m\u001b[0m\u001b[1;33m\u001b[0m\u001b[0m\n",
      "\u001b[1;31mNameError\u001b[0m: name 'output_full' is not defined"
     ]
    }
   ],
   "source": [
    "money_cols = [\"loss revenue\", \"loss profit\", \"waste cost\", \"expected loss revenue\", \"expected loss profit\", \"expected waste cost\"]\n",
    "values = output_full[money_cols].sum().values.round(2)\n",
    "dct = {}\n",
    "i = 0\n",
    "for name in money_cols:\n",
    "    dct[name] = values[i]\n",
    "    i += 1\n",
    "dct "
   ]
  },
  {
   "cell_type": "code",
   "execution_count": 5,
   "metadata": {},
   "outputs": [
    {
     "output_type": "execute_result",
     "data": {
      "text/plain": [
       "         Metric                 Method  values product\n",
       "0  Loss revenue                 Actual  2484.8    name\n",
       "1   Loss profit                 Actual  1886.9    name\n",
       "2    Waste cost                 Actual   597.8    name\n",
       "3  Loss revenue  Predicted w/discounts  2106.3    name\n",
       "4   Loss profit  Predicted w/discounts  1564.6    name\n",
       "5    Waste cost  Predicted w/discounts   541.8    name"
      ],
      "text/html": "<div>\n<style scoped>\n    .dataframe tbody tr th:only-of-type {\n        vertical-align: middle;\n    }\n\n    .dataframe tbody tr th {\n        vertical-align: top;\n    }\n\n    .dataframe thead th {\n        text-align: right;\n    }\n</style>\n<table border=\"1\" class=\"dataframe\">\n  <thead>\n    <tr style=\"text-align: right;\">\n      <th></th>\n      <th>Metric</th>\n      <th>Method</th>\n      <th>values</th>\n      <th>product</th>\n    </tr>\n  </thead>\n  <tbody>\n    <tr>\n      <th>0</th>\n      <td>Loss revenue</td>\n      <td>Actual</td>\n      <td>2484.8</td>\n      <td>name</td>\n    </tr>\n    <tr>\n      <th>1</th>\n      <td>Loss profit</td>\n      <td>Actual</td>\n      <td>1886.9</td>\n      <td>name</td>\n    </tr>\n    <tr>\n      <th>2</th>\n      <td>Waste cost</td>\n      <td>Actual</td>\n      <td>597.8</td>\n      <td>name</td>\n    </tr>\n    <tr>\n      <th>3</th>\n      <td>Loss revenue</td>\n      <td>Predicted w/discounts</td>\n      <td>2106.3</td>\n      <td>name</td>\n    </tr>\n    <tr>\n      <th>4</th>\n      <td>Loss profit</td>\n      <td>Predicted w/discounts</td>\n      <td>1564.6</td>\n      <td>name</td>\n    </tr>\n    <tr>\n      <th>5</th>\n      <td>Waste cost</td>\n      <td>Predicted w/discounts</td>\n      <td>541.8</td>\n      <td>name</td>\n    </tr>\n  </tbody>\n</table>\n</div>"
     },
     "metadata": {},
     "execution_count": 5
    }
   ],
   "source": [
    "results = pd.DataFrame({\"Metric\":[\"Loss revenue\", \"Loss profit\", \"Waste cost\",\"Loss revenue\", \"Loss profit\", \"Waste cost\"], \"Method\":[\"Actual\", \"Actual\", \"Actual\", \"Predicted w/discounts\", \"Predicted w/discounts\", \"Predicted w/discounts\"], \"values\":output_full[money_cols].sum().values.round(1)})\n",
    "results[\"product\"] = [\"name\", \"name\", \"name\", \"name\", \"name\", \"name\"]\n",
    "results"
   ]
  },
  {
   "cell_type": "code",
   "execution_count": 31,
   "metadata": {},
   "outputs": [
    {
     "output_type": "display_data",
     "data": {
      "application/vnd.plotly.v1+json": {
       "config": {
        "plotlyServerURL": "https://plot.ly"
       },
       "data": [
        {
         "alignmentgroup": "True",
         "hovertemplate": "Method=Actual<br>Metric=%{x}<br>values=%{text}<extra></extra>",
         "legendgroup": "Actual",
         "marker": {
          "color": "#636efa"
         },
         "name": "Actual",
         "offsetgroup": "Actual",
         "orientation": "v",
         "showlegend": true,
         "text": [
          39744.08,
          26838.41,
          12905.68
         ],
         "textposition": "auto",
         "type": "bar",
         "x": [
          "Loss revenue",
          "Loss profit",
          "Waste cost"
         ],
         "xaxis": "x",
         "y": [
          39744.08,
          26838.41,
          12905.68
         ],
         "yaxis": "y"
        },
        {
         "alignmentgroup": "True",
         "hovertemplate": "Method=Predicted w/discounts<br>Metric=%{x}<br>values=%{text}<extra></extra>",
         "legendgroup": "Predicted w/discounts",
         "marker": {
          "color": "#EF553B"
         },
         "name": "Predicted w/discounts",
         "offsetgroup": "Predicted w/discounts",
         "orientation": "v",
         "showlegend": true,
         "text": [
          34291.28,
          22984.64,
          11306.66
         ],
         "textposition": "auto",
         "type": "bar",
         "x": [
          "Loss revenue",
          "Loss profit",
          "Waste cost"
         ],
         "xaxis": "x",
         "y": [
          34291.28,
          22984.64,
          11306.66
         ],
         "yaxis": "y"
        }
       ],
       "layout": {
        "barmode": "group",
        "height": 700,
        "legend": {
         "title": {
          "text": "Method"
         },
         "tracegroupgap": 0
        },
        "margin": {
         "t": 60
        },
        "paper_bgcolor": "rgba(0,0,0,0)",
        "showlegend": false,
        "template": {
         "data": {
          "bar": [
           {
            "error_x": {
             "color": "#2a3f5f"
            },
            "error_y": {
             "color": "#2a3f5f"
            },
            "marker": {
             "line": {
              "color": "#E5ECF6",
              "width": 0.5
             }
            },
            "type": "bar"
           }
          ],
          "barpolar": [
           {
            "marker": {
             "line": {
              "color": "#E5ECF6",
              "width": 0.5
             }
            },
            "type": "barpolar"
           }
          ],
          "carpet": [
           {
            "aaxis": {
             "endlinecolor": "#2a3f5f",
             "gridcolor": "white",
             "linecolor": "white",
             "minorgridcolor": "white",
             "startlinecolor": "#2a3f5f"
            },
            "baxis": {
             "endlinecolor": "#2a3f5f",
             "gridcolor": "white",
             "linecolor": "white",
             "minorgridcolor": "white",
             "startlinecolor": "#2a3f5f"
            },
            "type": "carpet"
           }
          ],
          "choropleth": [
           {
            "colorbar": {
             "outlinewidth": 0,
             "ticks": ""
            },
            "type": "choropleth"
           }
          ],
          "contour": [
           {
            "colorbar": {
             "outlinewidth": 0,
             "ticks": ""
            },
            "colorscale": [
             [
              0,
              "#0d0887"
             ],
             [
              0.1111111111111111,
              "#46039f"
             ],
             [
              0.2222222222222222,
              "#7201a8"
             ],
             [
              0.3333333333333333,
              "#9c179e"
             ],
             [
              0.4444444444444444,
              "#bd3786"
             ],
             [
              0.5555555555555556,
              "#d8576b"
             ],
             [
              0.6666666666666666,
              "#ed7953"
             ],
             [
              0.7777777777777778,
              "#fb9f3a"
             ],
             [
              0.8888888888888888,
              "#fdca26"
             ],
             [
              1,
              "#f0f921"
             ]
            ],
            "type": "contour"
           }
          ],
          "contourcarpet": [
           {
            "colorbar": {
             "outlinewidth": 0,
             "ticks": ""
            },
            "type": "contourcarpet"
           }
          ],
          "heatmap": [
           {
            "colorbar": {
             "outlinewidth": 0,
             "ticks": ""
            },
            "colorscale": [
             [
              0,
              "#0d0887"
             ],
             [
              0.1111111111111111,
              "#46039f"
             ],
             [
              0.2222222222222222,
              "#7201a8"
             ],
             [
              0.3333333333333333,
              "#9c179e"
             ],
             [
              0.4444444444444444,
              "#bd3786"
             ],
             [
              0.5555555555555556,
              "#d8576b"
             ],
             [
              0.6666666666666666,
              "#ed7953"
             ],
             [
              0.7777777777777778,
              "#fb9f3a"
             ],
             [
              0.8888888888888888,
              "#fdca26"
             ],
             [
              1,
              "#f0f921"
             ]
            ],
            "type": "heatmap"
           }
          ],
          "heatmapgl": [
           {
            "colorbar": {
             "outlinewidth": 0,
             "ticks": ""
            },
            "colorscale": [
             [
              0,
              "#0d0887"
             ],
             [
              0.1111111111111111,
              "#46039f"
             ],
             [
              0.2222222222222222,
              "#7201a8"
             ],
             [
              0.3333333333333333,
              "#9c179e"
             ],
             [
              0.4444444444444444,
              "#bd3786"
             ],
             [
              0.5555555555555556,
              "#d8576b"
             ],
             [
              0.6666666666666666,
              "#ed7953"
             ],
             [
              0.7777777777777778,
              "#fb9f3a"
             ],
             [
              0.8888888888888888,
              "#fdca26"
             ],
             [
              1,
              "#f0f921"
             ]
            ],
            "type": "heatmapgl"
           }
          ],
          "histogram": [
           {
            "marker": {
             "colorbar": {
              "outlinewidth": 0,
              "ticks": ""
             }
            },
            "type": "histogram"
           }
          ],
          "histogram2d": [
           {
            "colorbar": {
             "outlinewidth": 0,
             "ticks": ""
            },
            "colorscale": [
             [
              0,
              "#0d0887"
             ],
             [
              0.1111111111111111,
              "#46039f"
             ],
             [
              0.2222222222222222,
              "#7201a8"
             ],
             [
              0.3333333333333333,
              "#9c179e"
             ],
             [
              0.4444444444444444,
              "#bd3786"
             ],
             [
              0.5555555555555556,
              "#d8576b"
             ],
             [
              0.6666666666666666,
              "#ed7953"
             ],
             [
              0.7777777777777778,
              "#fb9f3a"
             ],
             [
              0.8888888888888888,
              "#fdca26"
             ],
             [
              1,
              "#f0f921"
             ]
            ],
            "type": "histogram2d"
           }
          ],
          "histogram2dcontour": [
           {
            "colorbar": {
             "outlinewidth": 0,
             "ticks": ""
            },
            "colorscale": [
             [
              0,
              "#0d0887"
             ],
             [
              0.1111111111111111,
              "#46039f"
             ],
             [
              0.2222222222222222,
              "#7201a8"
             ],
             [
              0.3333333333333333,
              "#9c179e"
             ],
             [
              0.4444444444444444,
              "#bd3786"
             ],
             [
              0.5555555555555556,
              "#d8576b"
             ],
             [
              0.6666666666666666,
              "#ed7953"
             ],
             [
              0.7777777777777778,
              "#fb9f3a"
             ],
             [
              0.8888888888888888,
              "#fdca26"
             ],
             [
              1,
              "#f0f921"
             ]
            ],
            "type": "histogram2dcontour"
           }
          ],
          "mesh3d": [
           {
            "colorbar": {
             "outlinewidth": 0,
             "ticks": ""
            },
            "type": "mesh3d"
           }
          ],
          "parcoords": [
           {
            "line": {
             "colorbar": {
              "outlinewidth": 0,
              "ticks": ""
             }
            },
            "type": "parcoords"
           }
          ],
          "pie": [
           {
            "automargin": true,
            "type": "pie"
           }
          ],
          "scatter": [
           {
            "marker": {
             "colorbar": {
              "outlinewidth": 0,
              "ticks": ""
             }
            },
            "type": "scatter"
           }
          ],
          "scatter3d": [
           {
            "line": {
             "colorbar": {
              "outlinewidth": 0,
              "ticks": ""
             }
            },
            "marker": {
             "colorbar": {
              "outlinewidth": 0,
              "ticks": ""
             }
            },
            "type": "scatter3d"
           }
          ],
          "scattercarpet": [
           {
            "marker": {
             "colorbar": {
              "outlinewidth": 0,
              "ticks": ""
             }
            },
            "type": "scattercarpet"
           }
          ],
          "scattergeo": [
           {
            "marker": {
             "colorbar": {
              "outlinewidth": 0,
              "ticks": ""
             }
            },
            "type": "scattergeo"
           }
          ],
          "scattergl": [
           {
            "marker": {
             "colorbar": {
              "outlinewidth": 0,
              "ticks": ""
             }
            },
            "type": "scattergl"
           }
          ],
          "scattermapbox": [
           {
            "marker": {
             "colorbar": {
              "outlinewidth": 0,
              "ticks": ""
             }
            },
            "type": "scattermapbox"
           }
          ],
          "scatterpolar": [
           {
            "marker": {
             "colorbar": {
              "outlinewidth": 0,
              "ticks": ""
             }
            },
            "type": "scatterpolar"
           }
          ],
          "scatterpolargl": [
           {
            "marker": {
             "colorbar": {
              "outlinewidth": 0,
              "ticks": ""
             }
            },
            "type": "scatterpolargl"
           }
          ],
          "scatterternary": [
           {
            "marker": {
             "colorbar": {
              "outlinewidth": 0,
              "ticks": ""
             }
            },
            "type": "scatterternary"
           }
          ],
          "surface": [
           {
            "colorbar": {
             "outlinewidth": 0,
             "ticks": ""
            },
            "colorscale": [
             [
              0,
              "#0d0887"
             ],
             [
              0.1111111111111111,
              "#46039f"
             ],
             [
              0.2222222222222222,
              "#7201a8"
             ],
             [
              0.3333333333333333,
              "#9c179e"
             ],
             [
              0.4444444444444444,
              "#bd3786"
             ],
             [
              0.5555555555555556,
              "#d8576b"
             ],
             [
              0.6666666666666666,
              "#ed7953"
             ],
             [
              0.7777777777777778,
              "#fb9f3a"
             ],
             [
              0.8888888888888888,
              "#fdca26"
             ],
             [
              1,
              "#f0f921"
             ]
            ],
            "type": "surface"
           }
          ],
          "table": [
           {
            "cells": {
             "fill": {
              "color": "#EBF0F8"
             },
             "line": {
              "color": "white"
             }
            },
            "header": {
             "fill": {
              "color": "#C8D4E3"
             },
             "line": {
              "color": "white"
             }
            },
            "type": "table"
           }
          ]
         },
         "layout": {
          "annotationdefaults": {
           "arrowcolor": "#2a3f5f",
           "arrowhead": 0,
           "arrowwidth": 1
          },
          "coloraxis": {
           "colorbar": {
            "outlinewidth": 0,
            "ticks": ""
           }
          },
          "colorscale": {
           "diverging": [
            [
             0,
             "#8e0152"
            ],
            [
             0.1,
             "#c51b7d"
            ],
            [
             0.2,
             "#de77ae"
            ],
            [
             0.3,
             "#f1b6da"
            ],
            [
             0.4,
             "#fde0ef"
            ],
            [
             0.5,
             "#f7f7f7"
            ],
            [
             0.6,
             "#e6f5d0"
            ],
            [
             0.7,
             "#b8e186"
            ],
            [
             0.8,
             "#7fbc41"
            ],
            [
             0.9,
             "#4d9221"
            ],
            [
             1,
             "#276419"
            ]
           ],
           "sequential": [
            [
             0,
             "#0d0887"
            ],
            [
             0.1111111111111111,
             "#46039f"
            ],
            [
             0.2222222222222222,
             "#7201a8"
            ],
            [
             0.3333333333333333,
             "#9c179e"
            ],
            [
             0.4444444444444444,
             "#bd3786"
            ],
            [
             0.5555555555555556,
             "#d8576b"
            ],
            [
             0.6666666666666666,
             "#ed7953"
            ],
            [
             0.7777777777777778,
             "#fb9f3a"
            ],
            [
             0.8888888888888888,
             "#fdca26"
            ],
            [
             1,
             "#f0f921"
            ]
           ],
           "sequentialminus": [
            [
             0,
             "#0d0887"
            ],
            [
             0.1111111111111111,
             "#46039f"
            ],
            [
             0.2222222222222222,
             "#7201a8"
            ],
            [
             0.3333333333333333,
             "#9c179e"
            ],
            [
             0.4444444444444444,
             "#bd3786"
            ],
            [
             0.5555555555555556,
             "#d8576b"
            ],
            [
             0.6666666666666666,
             "#ed7953"
            ],
            [
             0.7777777777777778,
             "#fb9f3a"
            ],
            [
             0.8888888888888888,
             "#fdca26"
            ],
            [
             1,
             "#f0f921"
            ]
           ]
          },
          "colorway": [
           "#636efa",
           "#EF553B",
           "#00cc96",
           "#ab63fa",
           "#FFA15A",
           "#19d3f3",
           "#FF6692",
           "#B6E880",
           "#FF97FF",
           "#FECB52"
          ],
          "font": {
           "color": "#2a3f5f"
          },
          "geo": {
           "bgcolor": "white",
           "lakecolor": "white",
           "landcolor": "#E5ECF6",
           "showlakes": true,
           "showland": true,
           "subunitcolor": "white"
          },
          "hoverlabel": {
           "align": "left"
          },
          "hovermode": "closest",
          "mapbox": {
           "style": "light"
          },
          "paper_bgcolor": "white",
          "plot_bgcolor": "#E5ECF6",
          "polar": {
           "angularaxis": {
            "gridcolor": "white",
            "linecolor": "white",
            "ticks": ""
           },
           "bgcolor": "#E5ECF6",
           "radialaxis": {
            "gridcolor": "white",
            "linecolor": "white",
            "ticks": ""
           }
          },
          "scene": {
           "xaxis": {
            "backgroundcolor": "#E5ECF6",
            "gridcolor": "white",
            "gridwidth": 2,
            "linecolor": "white",
            "showbackground": true,
            "ticks": "",
            "zerolinecolor": "white"
           },
           "yaxis": {
            "backgroundcolor": "#E5ECF6",
            "gridcolor": "white",
            "gridwidth": 2,
            "linecolor": "white",
            "showbackground": true,
            "ticks": "",
            "zerolinecolor": "white"
           },
           "zaxis": {
            "backgroundcolor": "#E5ECF6",
            "gridcolor": "white",
            "gridwidth": 2,
            "linecolor": "white",
            "showbackground": true,
            "ticks": "",
            "zerolinecolor": "white"
           }
          },
          "shapedefaults": {
           "line": {
            "color": "#2a3f5f"
           }
          },
          "ternary": {
           "aaxis": {
            "gridcolor": "white",
            "linecolor": "white",
            "ticks": ""
           },
           "baxis": {
            "gridcolor": "white",
            "linecolor": "white",
            "ticks": ""
           },
           "bgcolor": "#E5ECF6",
           "caxis": {
            "gridcolor": "white",
            "linecolor": "white",
            "ticks": ""
           }
          },
          "title": {
           "x": 0.05
          },
          "xaxis": {
           "automargin": true,
           "gridcolor": "white",
           "linecolor": "white",
           "ticks": "",
           "title": {
            "standoff": 15
           },
           "zerolinecolor": "white",
           "zerolinewidth": 2
          },
          "yaxis": {
           "automargin": true,
           "gridcolor": "white",
           "linecolor": "white",
           "ticks": "",
           "title": {
            "standoff": 15
           },
           "zerolinecolor": "white",
           "zerolinewidth": 2
          }
         }
        },
        "title": {
         "x": 0.5,
         "xanchor": "center",
         "y": 0.9,
         "yanchor": "top"
        },
        "width": 1000,
        "xaxis": {
         "anchor": "y",
         "domain": [
          0,
          1
         ],
         "title": {
          "text": "Product"
         }
        },
        "yaxis": {
         "anchor": "x",
         "domain": [
          0,
          1
         ],
         "title": {
          "text": "Out of Stock Event Count"
         }
        }
       }
      }
     },
     "metadata": {}
    }
   ],
   "source": [
    "import plotly.express as px\n",
    "fig = px.bar(results, x=\"Metric\", y='values', color=\"Method\", barmode='group', text=\"values\")\n",
    "fig.update_layout(showlegend=False, xaxis_title=\"Product\",\n",
    "    yaxis_title=\"Out of Stock Event Count\",width=1000,\n",
    "    height=700, title={\n",
    "                'y':0.9,\n",
    "        'x':0.5,\n",
    "        'xanchor': 'center',\n",
    "        'yanchor': 'top'},\n",
    "        paper_bgcolor='rgba(0,0,0,0)')\n",
    "fig.show()"
   ]
  },
  {
   "cell_type": "code",
   "execution_count": 7,
   "metadata": {},
   "outputs": [
    {
     "output_type": "display_data",
     "data": {
      "application/vnd.plotly.v1+json": {
       "config": {
        "plotlyServerURL": "https://plot.ly"
       },
       "data": [
        {
         "hovertemplate": "week=%{x}<br>MA7_exp=%{y}<extra></extra>",
         "legendgroup": "",
         "line": {
          "color": "#636efa",
          "dash": "solid"
         },
         "mode": "lines",
         "name": "",
         "orientation": "v",
         "showlegend": false,
         "type": "scatter",
         "x": [
          3,
          4,
          5,
          6,
          7,
          8,
          9,
          10,
          11,
          12,
          13,
          14,
          15,
          16,
          17,
          18,
          19,
          20,
          21,
          22,
          23,
          24,
          25,
          26,
          27,
          28,
          29,
          30,
          31,
          32,
          33,
          34,
          35,
          36,
          37,
          38,
          39,
          40,
          41,
          42,
          43,
          44,
          45,
          46,
          47,
          48,
          49,
          50,
          51,
          52
         ],
         "xaxis": "x",
         "y": [
          null,
          null,
          null,
          null,
          null,
          null,
          39.971428571428575,
          43.72714285714286,
          46.392857142857146,
          49.848571428571425,
          55.31142857142857,
          58.72571428571428,
          57.36,
          46.04464285714285,
          49.56721428571428,
          43.421499999999995,
          37.27578571428571,
          41.71435714285714,
          40.007214285714284,
          38.6415,
          46.20114285714286,
          50.87285714285714,
          58.20314285714286,
          63.156714285714294,
          53.25528571428572,
          52.572428571428574,
          49.49957142857143,
          49.15814285714286,
          45.743857142857145,
          47.63214285714285,
          49.50714285714285,
          59.74999999999999,
          63.505714285714284,
          62.481428571428566,
          57.35999999999999,
          57.70142857142856,
          57.35999999999998,
          53.10714285714284,
          49.218571428571416,
          43.23999999999999,
          41.13285714285713,
          46.23771428571427,
          37.36057142857141,
          35.653428571428556,
          44.00342857142856,
          49.59914285714284,
          51.48057142857141,
          57.34342857142855,
          55.652857142857115,
          69.99285714285712
         ],
         "yaxis": "y"
        },
        {
         "mode": "lines",
         "type": "scatter",
         "x": [
          3,
          4,
          5,
          6,
          7,
          8,
          9,
          10,
          11,
          12,
          13,
          14,
          15,
          16,
          17,
          18,
          19,
          20,
          21,
          22,
          23,
          24,
          25,
          26,
          27,
          28,
          29,
          30,
          31,
          32,
          33,
          34,
          35,
          36,
          37,
          38,
          39,
          40,
          41,
          42,
          43,
          44,
          45,
          46,
          47,
          48,
          49,
          50,
          51,
          52
         ],
         "y": [
          null,
          null,
          null,
          null,
          null,
          null,
          39.534285714285716,
          42.94857142857143,
          43.06571428571429,
          44.06857142857143,
          47.814285714285724,
          50.80857142857144,
          48.531428571428584,
          38.72714285714287,
          41.35285714285716,
          36.51857142857145,
          31.840000000000014,
          36.622857142857164,
          34.27000000000002,
          32.13142857142859,
          39.115714285714304,
          43.00714285714288,
          51.8814285714286,
          55.424285714285745,
          46.89571428571431,
          46.57714285714288,
          44.36571428571431,
          42.98000000000002,
          39.65857142857145,
          37.83714285714287,
          39.40285714285716,
          47.61285714285715,
          49.74142857142858,
          49.65000000000001,
          44.68428571428573,
          45.44714285714287,
          45.218571428571444,
          42.06000000000001,
          38.82714285714287,
          34.83142857142858,
          33.001428571428576,
          38.267142857142865,
          30.894285714285722,
          28.95285714285715,
          36.65000000000002,
          41.070000000000014,
          43.638571428571446,
          47.71000000000002,
          45.84714285714288,
          57.59714285714288
         ]
        }
       ],
       "layout": {
        "legend": {
         "tracegroupgap": 0
        },
        "margin": {
         "t": 60
        },
        "template": {
         "data": {
          "bar": [
           {
            "error_x": {
             "color": "#2a3f5f"
            },
            "error_y": {
             "color": "#2a3f5f"
            },
            "marker": {
             "line": {
              "color": "#E5ECF6",
              "width": 0.5
             }
            },
            "type": "bar"
           }
          ],
          "barpolar": [
           {
            "marker": {
             "line": {
              "color": "#E5ECF6",
              "width": 0.5
             }
            },
            "type": "barpolar"
           }
          ],
          "carpet": [
           {
            "aaxis": {
             "endlinecolor": "#2a3f5f",
             "gridcolor": "white",
             "linecolor": "white",
             "minorgridcolor": "white",
             "startlinecolor": "#2a3f5f"
            },
            "baxis": {
             "endlinecolor": "#2a3f5f",
             "gridcolor": "white",
             "linecolor": "white",
             "minorgridcolor": "white",
             "startlinecolor": "#2a3f5f"
            },
            "type": "carpet"
           }
          ],
          "choropleth": [
           {
            "colorbar": {
             "outlinewidth": 0,
             "ticks": ""
            },
            "type": "choropleth"
           }
          ],
          "contour": [
           {
            "colorbar": {
             "outlinewidth": 0,
             "ticks": ""
            },
            "colorscale": [
             [
              0,
              "#0d0887"
             ],
             [
              0.1111111111111111,
              "#46039f"
             ],
             [
              0.2222222222222222,
              "#7201a8"
             ],
             [
              0.3333333333333333,
              "#9c179e"
             ],
             [
              0.4444444444444444,
              "#bd3786"
             ],
             [
              0.5555555555555556,
              "#d8576b"
             ],
             [
              0.6666666666666666,
              "#ed7953"
             ],
             [
              0.7777777777777778,
              "#fb9f3a"
             ],
             [
              0.8888888888888888,
              "#fdca26"
             ],
             [
              1,
              "#f0f921"
             ]
            ],
            "type": "contour"
           }
          ],
          "contourcarpet": [
           {
            "colorbar": {
             "outlinewidth": 0,
             "ticks": ""
            },
            "type": "contourcarpet"
           }
          ],
          "heatmap": [
           {
            "colorbar": {
             "outlinewidth": 0,
             "ticks": ""
            },
            "colorscale": [
             [
              0,
              "#0d0887"
             ],
             [
              0.1111111111111111,
              "#46039f"
             ],
             [
              0.2222222222222222,
              "#7201a8"
             ],
             [
              0.3333333333333333,
              "#9c179e"
             ],
             [
              0.4444444444444444,
              "#bd3786"
             ],
             [
              0.5555555555555556,
              "#d8576b"
             ],
             [
              0.6666666666666666,
              "#ed7953"
             ],
             [
              0.7777777777777778,
              "#fb9f3a"
             ],
             [
              0.8888888888888888,
              "#fdca26"
             ],
             [
              1,
              "#f0f921"
             ]
            ],
            "type": "heatmap"
           }
          ],
          "heatmapgl": [
           {
            "colorbar": {
             "outlinewidth": 0,
             "ticks": ""
            },
            "colorscale": [
             [
              0,
              "#0d0887"
             ],
             [
              0.1111111111111111,
              "#46039f"
             ],
             [
              0.2222222222222222,
              "#7201a8"
             ],
             [
              0.3333333333333333,
              "#9c179e"
             ],
             [
              0.4444444444444444,
              "#bd3786"
             ],
             [
              0.5555555555555556,
              "#d8576b"
             ],
             [
              0.6666666666666666,
              "#ed7953"
             ],
             [
              0.7777777777777778,
              "#fb9f3a"
             ],
             [
              0.8888888888888888,
              "#fdca26"
             ],
             [
              1,
              "#f0f921"
             ]
            ],
            "type": "heatmapgl"
           }
          ],
          "histogram": [
           {
            "marker": {
             "colorbar": {
              "outlinewidth": 0,
              "ticks": ""
             }
            },
            "type": "histogram"
           }
          ],
          "histogram2d": [
           {
            "colorbar": {
             "outlinewidth": 0,
             "ticks": ""
            },
            "colorscale": [
             [
              0,
              "#0d0887"
             ],
             [
              0.1111111111111111,
              "#46039f"
             ],
             [
              0.2222222222222222,
              "#7201a8"
             ],
             [
              0.3333333333333333,
              "#9c179e"
             ],
             [
              0.4444444444444444,
              "#bd3786"
             ],
             [
              0.5555555555555556,
              "#d8576b"
             ],
             [
              0.6666666666666666,
              "#ed7953"
             ],
             [
              0.7777777777777778,
              "#fb9f3a"
             ],
             [
              0.8888888888888888,
              "#fdca26"
             ],
             [
              1,
              "#f0f921"
             ]
            ],
            "type": "histogram2d"
           }
          ],
          "histogram2dcontour": [
           {
            "colorbar": {
             "outlinewidth": 0,
             "ticks": ""
            },
            "colorscale": [
             [
              0,
              "#0d0887"
             ],
             [
              0.1111111111111111,
              "#46039f"
             ],
             [
              0.2222222222222222,
              "#7201a8"
             ],
             [
              0.3333333333333333,
              "#9c179e"
             ],
             [
              0.4444444444444444,
              "#bd3786"
             ],
             [
              0.5555555555555556,
              "#d8576b"
             ],
             [
              0.6666666666666666,
              "#ed7953"
             ],
             [
              0.7777777777777778,
              "#fb9f3a"
             ],
             [
              0.8888888888888888,
              "#fdca26"
             ],
             [
              1,
              "#f0f921"
             ]
            ],
            "type": "histogram2dcontour"
           }
          ],
          "mesh3d": [
           {
            "colorbar": {
             "outlinewidth": 0,
             "ticks": ""
            },
            "type": "mesh3d"
           }
          ],
          "parcoords": [
           {
            "line": {
             "colorbar": {
              "outlinewidth": 0,
              "ticks": ""
             }
            },
            "type": "parcoords"
           }
          ],
          "pie": [
           {
            "automargin": true,
            "type": "pie"
           }
          ],
          "scatter": [
           {
            "marker": {
             "colorbar": {
              "outlinewidth": 0,
              "ticks": ""
             }
            },
            "type": "scatter"
           }
          ],
          "scatter3d": [
           {
            "line": {
             "colorbar": {
              "outlinewidth": 0,
              "ticks": ""
             }
            },
            "marker": {
             "colorbar": {
              "outlinewidth": 0,
              "ticks": ""
             }
            },
            "type": "scatter3d"
           }
          ],
          "scattercarpet": [
           {
            "marker": {
             "colorbar": {
              "outlinewidth": 0,
              "ticks": ""
             }
            },
            "type": "scattercarpet"
           }
          ],
          "scattergeo": [
           {
            "marker": {
             "colorbar": {
              "outlinewidth": 0,
              "ticks": ""
             }
            },
            "type": "scattergeo"
           }
          ],
          "scattergl": [
           {
            "marker": {
             "colorbar": {
              "outlinewidth": 0,
              "ticks": ""
             }
            },
            "type": "scattergl"
           }
          ],
          "scattermapbox": [
           {
            "marker": {
             "colorbar": {
              "outlinewidth": 0,
              "ticks": ""
             }
            },
            "type": "scattermapbox"
           }
          ],
          "scatterpolar": [
           {
            "marker": {
             "colorbar": {
              "outlinewidth": 0,
              "ticks": ""
             }
            },
            "type": "scatterpolar"
           }
          ],
          "scatterpolargl": [
           {
            "marker": {
             "colorbar": {
              "outlinewidth": 0,
              "ticks": ""
             }
            },
            "type": "scatterpolargl"
           }
          ],
          "scatterternary": [
           {
            "marker": {
             "colorbar": {
              "outlinewidth": 0,
              "ticks": ""
             }
            },
            "type": "scatterternary"
           }
          ],
          "surface": [
           {
            "colorbar": {
             "outlinewidth": 0,
             "ticks": ""
            },
            "colorscale": [
             [
              0,
              "#0d0887"
             ],
             [
              0.1111111111111111,
              "#46039f"
             ],
             [
              0.2222222222222222,
              "#7201a8"
             ],
             [
              0.3333333333333333,
              "#9c179e"
             ],
             [
              0.4444444444444444,
              "#bd3786"
             ],
             [
              0.5555555555555556,
              "#d8576b"
             ],
             [
              0.6666666666666666,
              "#ed7953"
             ],
             [
              0.7777777777777778,
              "#fb9f3a"
             ],
             [
              0.8888888888888888,
              "#fdca26"
             ],
             [
              1,
              "#f0f921"
             ]
            ],
            "type": "surface"
           }
          ],
          "table": [
           {
            "cells": {
             "fill": {
              "color": "#EBF0F8"
             },
             "line": {
              "color": "white"
             }
            },
            "header": {
             "fill": {
              "color": "#C8D4E3"
             },
             "line": {
              "color": "white"
             }
            },
            "type": "table"
           }
          ]
         },
         "layout": {
          "annotationdefaults": {
           "arrowcolor": "#2a3f5f",
           "arrowhead": 0,
           "arrowwidth": 1
          },
          "coloraxis": {
           "colorbar": {
            "outlinewidth": 0,
            "ticks": ""
           }
          },
          "colorscale": {
           "diverging": [
            [
             0,
             "#8e0152"
            ],
            [
             0.1,
             "#c51b7d"
            ],
            [
             0.2,
             "#de77ae"
            ],
            [
             0.3,
             "#f1b6da"
            ],
            [
             0.4,
             "#fde0ef"
            ],
            [
             0.5,
             "#f7f7f7"
            ],
            [
             0.6,
             "#e6f5d0"
            ],
            [
             0.7,
             "#b8e186"
            ],
            [
             0.8,
             "#7fbc41"
            ],
            [
             0.9,
             "#4d9221"
            ],
            [
             1,
             "#276419"
            ]
           ],
           "sequential": [
            [
             0,
             "#0d0887"
            ],
            [
             0.1111111111111111,
             "#46039f"
            ],
            [
             0.2222222222222222,
             "#7201a8"
            ],
            [
             0.3333333333333333,
             "#9c179e"
            ],
            [
             0.4444444444444444,
             "#bd3786"
            ],
            [
             0.5555555555555556,
             "#d8576b"
            ],
            [
             0.6666666666666666,
             "#ed7953"
            ],
            [
             0.7777777777777778,
             "#fb9f3a"
            ],
            [
             0.8888888888888888,
             "#fdca26"
            ],
            [
             1,
             "#f0f921"
            ]
           ],
           "sequentialminus": [
            [
             0,
             "#0d0887"
            ],
            [
             0.1111111111111111,
             "#46039f"
            ],
            [
             0.2222222222222222,
             "#7201a8"
            ],
            [
             0.3333333333333333,
             "#9c179e"
            ],
            [
             0.4444444444444444,
             "#bd3786"
            ],
            [
             0.5555555555555556,
             "#d8576b"
            ],
            [
             0.6666666666666666,
             "#ed7953"
            ],
            [
             0.7777777777777778,
             "#fb9f3a"
            ],
            [
             0.8888888888888888,
             "#fdca26"
            ],
            [
             1,
             "#f0f921"
            ]
           ]
          },
          "colorway": [
           "#636efa",
           "#EF553B",
           "#00cc96",
           "#ab63fa",
           "#FFA15A",
           "#19d3f3",
           "#FF6692",
           "#B6E880",
           "#FF97FF",
           "#FECB52"
          ],
          "font": {
           "color": "#2a3f5f"
          },
          "geo": {
           "bgcolor": "white",
           "lakecolor": "white",
           "landcolor": "#E5ECF6",
           "showlakes": true,
           "showland": true,
           "subunitcolor": "white"
          },
          "hoverlabel": {
           "align": "left"
          },
          "hovermode": "closest",
          "mapbox": {
           "style": "light"
          },
          "paper_bgcolor": "white",
          "plot_bgcolor": "#E5ECF6",
          "polar": {
           "angularaxis": {
            "gridcolor": "white",
            "linecolor": "white",
            "ticks": ""
           },
           "bgcolor": "#E5ECF6",
           "radialaxis": {
            "gridcolor": "white",
            "linecolor": "white",
            "ticks": ""
           }
          },
          "scene": {
           "xaxis": {
            "backgroundcolor": "#E5ECF6",
            "gridcolor": "white",
            "gridwidth": 2,
            "linecolor": "white",
            "showbackground": true,
            "ticks": "",
            "zerolinecolor": "white"
           },
           "yaxis": {
            "backgroundcolor": "#E5ECF6",
            "gridcolor": "white",
            "gridwidth": 2,
            "linecolor": "white",
            "showbackground": true,
            "ticks": "",
            "zerolinecolor": "white"
           },
           "zaxis": {
            "backgroundcolor": "#E5ECF6",
            "gridcolor": "white",
            "gridwidth": 2,
            "linecolor": "white",
            "showbackground": true,
            "ticks": "",
            "zerolinecolor": "white"
           }
          },
          "shapedefaults": {
           "line": {
            "color": "#2a3f5f"
           }
          },
          "ternary": {
           "aaxis": {
            "gridcolor": "white",
            "linecolor": "white",
            "ticks": ""
           },
           "baxis": {
            "gridcolor": "white",
            "linecolor": "white",
            "ticks": ""
           },
           "bgcolor": "#E5ECF6",
           "caxis": {
            "gridcolor": "white",
            "linecolor": "white",
            "ticks": ""
           }
          },
          "title": {
           "x": 0.05
          },
          "xaxis": {
           "automargin": true,
           "gridcolor": "white",
           "linecolor": "white",
           "ticks": "",
           "title": {
            "standoff": 15
           },
           "zerolinecolor": "white",
           "zerolinewidth": 2
          },
          "yaxis": {
           "automargin": true,
           "gridcolor": "white",
           "linecolor": "white",
           "ticks": "",
           "title": {
            "standoff": 15
           },
           "zerolinecolor": "white",
           "zerolinewidth": 2
          }
         }
        },
        "xaxis": {
         "anchor": "y",
         "domain": [
          0,
          1
         ],
         "title": {
          "text": "week"
         }
        },
        "yaxis": {
         "anchor": "x",
         "domain": [
          0,
          1
         ],
         "title": {
          "text": "MA7_exp"
         }
        }
       }
      }
     },
     "metadata": {}
    }
   ],
   "source": [
    "import plotly.express as px\n",
    "\n",
    "output_copy = output_full.groupby(\"week\").sum()\n",
    "output_copy[\"MA7\"] = output_copy['expected loss revenue'].rolling(7).mean()\n",
    "output_copy[\"MA7_exp\"] = output_copy[\"loss revenue\"].rolling(7).mean()\n",
    "fig = px.line(output_copy, x=output_copy.index, y=\"MA7_exp\")\n",
    "fig.add_scatter(x=output_copy.index, y=output_copy[\"MA7\"], mode=\"lines\")\n",
    "fig.show()"
   ]
  },
  {
   "cell_type": "code",
   "execution_count": 7,
   "metadata": {},
   "outputs": [],
   "source": [
    "bio_products = ['Biologische rode kool', 'Biologische pompoen',\n",
    "       'Biologische cherry tomaten', 'Biologische prei',\n",
    "       'Biologische Bloemkool', 'Biologische courgette',\n",
    "       'Biologische brocolli', 'Biologische knoflook',\n",
    "       'Biologische kikkererwten']\n",
    "snacks = products[products[\"category\"] == \"meat\"][\"description\"].values\n"
   ]
  },
  {
   "cell_type": "code",
   "execution_count": 8,
   "metadata": {
    "tags": [
     "outputPrepend"
    ]
   },
   "outputs": [
    {
     "output_type": "stream",
     "name": "stdout",
     "text": [
      "^2 score: 0.18186480872601873\n",
      "Demand function fitted\n",
      "Average of actual/estimated purchase ratios: 1.012732027697424\n",
      "Waste change predicted, calculating revenue loss...\n",
      "Values: [105.78  86.1   19.68  63.85  50.89  12.96]\n",
      "Current product is Unox Gelderse rookworst.1\n",
      "(102, 7)\n",
      "Extended waste dataframe created\n",
      "Data prepared for prediction\n",
      "Model fitted; test set metrics: MAE: 1.5446772219193274 MSE: 3.4786190291799595, R^2 score: 0.006039515624617131\n",
      "Demand function fitted\n",
      "Average of actual/estimated purchase ratios: 1.0007507031397884\n",
      "Waste change predicted, calculating revenue loss...\n",
      "Values: [5542.7  4458.28 1084.42 5159.97 4121.59 1038.4 ]\n",
      "Current product is Half om half gehakt\n",
      "(102, 7)\n",
      "Extended waste dataframe created\n",
      "Data prepared for prediction\n",
      "Model fitted; test set metrics: MAE: 1.7407283967514682 MSE: 5.3827441694822245, R^2 score: 0.08655886511170474\n",
      "Demand function fitted\n",
      "Average of actual/estimated purchase ratios: 1.0219341543200462\n",
      "Waste change predicted, calculating revenue loss...\n",
      "Values: [209.82 166.92  42.9  151.45 118.44  33.  ]\n",
      "Current product is Rundergehakt.1\n",
      "(102, 7)\n",
      "Extended waste dataframe created\n",
      "Data prepared for prediction\n",
      "Model fitted; test set metrics: MAE: 1.6775460670753337 MSE: 4.581661160816712, R^2 score: 0.1387321209838266\n",
      "Demand function fitted\n",
      "Average of actual/estimated purchase ratios: 1.011792622148185\n",
      "Waste change predicted, calculating revenue loss...\n",
      "Values: [3255.22 2582.47  672.75 2974.67 2345.08  629.55]\n",
      "Current product is Slavinken\n",
      "(102, 7)\n",
      "Extended waste dataframe created\n",
      "Data prepared for prediction\n",
      "Model fitted; test set metrics: MAE: 1.5233930900636687 MSE: 3.5358590345188343, R^2 score: -0.028857053777002317\n",
      "Demand function fitted\n",
      "Average of actual/estimated purchase ratios: 1.0072062813548426\n",
      "Waste change predicted, calculating revenue loss...\n",
      "Values: [164.99 134.28  30.71 175.69 140.9   34.78]\n",
      "Current product is Mini biefstukjes\n",
      "(102, 7)\n",
      "Extended waste dataframe created\n",
      "Data prepared for prediction\n",
      "Model fitted; test set metrics: MAE: 1.2332180183263692 MSE: 2.512674914762927, R^2 score: -0.002036457099498401\n",
      "Demand function fitted\n",
      "Average of actual/estimated purchase ratios: 1.0194446874436278\n",
      "Waste change predicted, calculating revenue loss...\n",
      "Values: [229.2  185.04  44.16 111.41  87.49  23.92]\n",
      "Current product is Rundersoepballetjes\n",
      "(102, 7)\n",
      "Extended waste dataframe created\n",
      "Data prepared for prediction\n",
      "Model fitted; test set metrics: MAE: 1.7832240651504532 MSE: 4.439808169232855, R^2 score: 0.0004752501329102765\n",
      "Demand function fitted\n",
      "Average of actual/estimated purchase ratios: 0.9921225549393274\n",
      "Waste change predicted, calculating revenue loss...\n",
      "Values: [242.78 193.98  48.8  143.64 112.44  31.2 ]\n",
      "Current product is Hamburgers\n",
      "(102, 7)\n",
      "Extended waste dataframe created\n",
      "Data prepared for prediction\n",
      "Model fitted; test set metrics: MAE: 1.766009802037703 MSE: 4.8558520875106685, R^2 score: 0.0667769709910584\n",
      "Demand function fitted\n",
      "Average of actual/estimated purchase ratios: 0.973417853815795\n",
      "Waste change predicted, calculating revenue loss...\n",
      "Values: [396.98 315.85  81.13 212.44 164.86  47.58]\n",
      "Current product is Unox Gelderse rookworst\n",
      "(102, 7)\n",
      "Extended waste dataframe created\n",
      "Data prepared for prediction\n",
      "Model fitted; test set metrics: MAE: 2.2017915744544996 MSE: 8.294159190618341, R^2 score: -0.3789304772464217\n",
      "Demand function fitted\n",
      "Average of actual/estimated purchase ratios: 1.0674662767748808\n",
      "Waste change predicted, calculating revenue loss...\n",
      "Values: [6131.   4922.85 1208.15 5432.86 4348.84 1084.05]\n",
      "Current product is Mini gourmet kipsatespiesjes\n",
      "(102, 7)\n",
      "Extended waste dataframe created\n",
      "Data prepared for prediction\n",
      "Model fitted; test set metrics: MAE: 2.0311032655511916 MSE: 8.120066957569081, R^2 score: -0.3994975481655123\n",
      "Demand function fitted\n",
      "Average of actual/estimated purchase ratios: 1.0390829270496011\n",
      "Waste change predicted, calculating revenue loss...\n",
      "Values: [1105.56  901.32  204.24  836.69  664.65  172.04]\n",
      "Current product is Unox Magere rookworst\n",
      "(102, 7)\n",
      "Extended waste dataframe created\n",
      "Data prepared for prediction\n",
      "Model fitted; test set metrics: MAE: 2.0592101773226243 MSE: 7.70996158032709, R^2 score: -0.025291077944053164\n",
      "Demand function fitted\n",
      "Average of actual/estimated purchase ratios: 1.0687850551466656\n",
      "Waste change predicted, calculating revenue loss...\n",
      "Values: [1060.39  844.42  215.97  596.    460.76  135.24]\n",
      "Current product is Biologische spekreepjes\n",
      "(102, 7)\n",
      "Extended waste dataframe created\n",
      "Data prepared for prediction\n",
      "Model fitted; test set metrics: MAE: 0.7337826010545933 MSE: 1.075234010547775, R^2 score: 0.042759211629801674\n",
      "Demand function fitted\n",
      "Value error occured at range (27, 31)\n",
      "Value error occured at range (34, 38)\n",
      "Value error occured at range (48, 52)\n",
      "Value error occured at range (52, 55)\n",
      "Value error occured at range (66, 69)\n",
      "Value error occured at range (97, 101)\n",
      "Value error occured at range (104, 108)\n",
      "Value error occured at range (188, 192)\n",
      "Value error occured at range (262, 265)\n",
      "Value error occured at range (286, 290)\n",
      "Value error occured at range (290, 293)\n",
      "Value error occured at range (314, 318)\n",
      "Value error occured at range (339, 342)\n",
      "Average of actual/estimated purchase ratios: 0.9378167067229004\n",
      "Waste change predicted, calculating revenue loss...\n",
      "Values: [134.5   87.53  46.97 134.5   87.53  46.97]\n",
      "Current product is Sappige gelders rookworst\n",
      "(102, 7)\n",
      "Extended waste dataframe created\n",
      "Data prepared for prediction\n",
      "Model fitted; test set metrics: MAE: 1.3499332828656225 MSE: 2.674811502619306, R^2 score: -0.12175896596534508\n",
      "Demand function fitted\n",
      "Average of actual/estimated purchase ratios: 0.9944562713584147\n",
      "Waste change predicted, calculating revenue loss...\n",
      "Values: [118.8   94.6   24.2   72.44  56.38  16.06]\n",
      "Current product is Biologisch rundergehakt.1\n",
      "(102, 7)\n",
      "Extended waste dataframe created\n",
      "Data prepared for prediction\n",
      "Model fitted; test set metrics: MAE: 0.7283573410719153 MSE: 1.006504865856807, R^2 score: -0.2581310823210088\n",
      "Demand function fitted\n",
      "Value error occured at range (38, 41)\n",
      "Value error occured at range (41, 45)\n",
      "Value error occured at range (45, 48)\n",
      "Value error occured at range (48, 52)\n",
      "Value error occured at range (150, 153)\n",
      "Value error occured at range (160, 164)\n",
      "Value error occured at range (164, 167)\n",
      "Value error occured at range (167, 171)\n",
      "Value error occured at range (237, 241)\n",
      "Value error occured at range (241, 244)\n",
      "Value error occured at range (255, 258)\n",
      "Value error occured at range (258, 262)\n",
      "Value error occured at range (262, 265)\n",
      "Value error occured at range (286, 290)\n",
      "Value error occured at range (293, 297)\n",
      "Value error occured at range (297, 300)\n",
      "Value error occured at range (307, 311)\n",
      "Value error occured at range (318, 321)\n",
      "Average of actual/estimated purchase ratios: 0.9684852953966373\n",
      "Waste change predicted, calculating revenue loss...\n",
      "Values: [1475.23 1088.49  386.74 1463.08 1077.53  385.52]\n",
      "Current product is Varkensbraadworst\n",
      "(102, 7)\n",
      "Extended waste dataframe created\n",
      "Data prepared for prediction\n",
      "Model fitted; test set metrics: MAE: 1.6882506531857846 MSE: 5.588964996493434, R^2 score: 0.23993490402612616\n",
      "Demand function fitted\n",
      "Average of actual/estimated purchase ratios: 1.0187934814522326\n",
      "Waste change predicted, calculating revenue loss...\n",
      "Values: [217.69 171.93  45.76 155.15 123.44  31.72]\n",
      "Current product is Runder riblap Iers\n",
      "(102, 7)\n",
      "Extended waste dataframe created\n",
      "Data prepared for prediction\n",
      "Model fitted; test set metrics: MAE: 1.5243348016724685 MSE: 4.10023892151551, R^2 score: -0.0326863815118692\n",
      "Demand function fitted\n",
      "Average of actual/estimated purchase ratios: 0.9948976772683376\n",
      "Waste change predicted, calculating revenue loss...\n",
      "Values: [270.94 218.04  52.9  179.14 141.18  37.95]\n",
      "Current product is rundergehakt\n",
      "(102, 7)\n",
      "Extended waste dataframe created\n",
      "Data prepared for prediction\n",
      "Model fitted; test set metrics: MAE: 1.5065387275340583 MSE: 3.4950552175761773, R^2 score: -0.10412803157315298\n",
      "Demand function fitted\n",
      "Average of actual/estimated purchase ratios: 0.9463350892208903\n",
      "Waste change predicted, calculating revenue loss...\n",
      "Values: [539.55 430.55 109.   340.21 261.21  79.  ]\n",
      "Current product is gerookt onbijtspek\n",
      "(102, 7)\n",
      "Extended waste dataframe created\n",
      "Data prepared for prediction\n",
      "Model fitted; test set metrics: MAE: 2.1896281119719077 MSE: 8.021552282490447, R^2 score: -0.5694341422263918\n",
      "Demand function fitted\n",
      "Average of actual/estimated purchase ratios: 1.0612514166662155\n",
      "Waste change predicted, calculating revenue loss...\n",
      "Values: [518.66 410.78 107.88 541.59 422.11 119.48]\n",
      "Current product is rundervinken\n",
      "(102, 7)\n",
      "Extended waste dataframe created\n",
      "Data prepared for prediction\n",
      "Model fitted; test set metrics: MAE: 1.255935301420025 MSE: 2.3596576381685175, R^2 score: 0.02322812673691288\n",
      "Demand function fitted\n",
      "Average of actual/estimated purchase ratios: 0.9917080273587474\n",
      "Waste change predicted, calculating revenue loss...\n",
      "Values: [404.79 324.43  80.36 238.57 186.65  51.94]\n",
      "Current product is half of half gehakt\n",
      "(102, 7)\n",
      "Extended waste dataframe created\n",
      "Data prepared for prediction\n",
      "Model fitted; test set metrics: MAE: 1.748747427251182 MSE: 4.910707080729826, R^2 score: 0.007000219389130313\n",
      "Demand function fitted\n",
      "Average of actual/estimated purchase ratios: 1.0141530856067118\n",
      "Waste change predicted, calculating revenue loss...\n",
      "Values: [472.91 372.21 100.7  376.32 290.47  85.88]\n",
      "Current product is Gekruide runderchipolata\n",
      "(102, 7)\n",
      "Extended waste dataframe created\n",
      "Data prepared for prediction\n",
      "Model fitted; test set metrics: MAE: 1.6134172364894392 MSE: 3.366558586198262, R^2 score: -0.17871127634270456\n",
      "Demand function fitted\n",
      "Average of actual/estimated purchase ratios: 0.9999405336018399\n",
      "Waste change predicted, calculating revenue loss...\n",
      "Values: [296.67 231.57  65.1  208.52 158.82  49.7 ]\n",
      "Current product is Biologisch rundergehakt\n",
      "(102, 7)\n",
      "Extended waste dataframe created\n",
      "Data prepared for prediction\n",
      "Model fitted; test set metrics: MAE: 0.6290385045042008 MSE: 0.5083493638001667, R^2 score: 0.17157881454787638\n",
      "Demand function fitted\n",
      "Value error occured at range (17, 20)\n",
      "Value error occured at range (48, 52)\n",
      "Value error occured at range (55, 59)\n",
      "Value error occured at range (108, 111)\n",
      "Value error occured at range (132, 136)\n",
      "Value error occured at range (150, 153)\n",
      "Value error occured at range (164, 167)\n",
      "Value error occured at range (174, 178)\n",
      "Value error occured at range (178, 181)\n",
      "Value error occured at range (185, 188)\n",
      "Value error occured at range (202, 206)\n",
      "Value error occured at range (220, 223)\n",
      "Value error occured at range (237, 241)\n",
      "Value error occured at range (272, 276)\n",
      "Value error occured at range (276, 279)\n",
      "Value error occured at range (290, 293)\n",
      "Value error occured at range (318, 321)\n",
      "Value error occured at range (325, 328)\n",
      "Average of actual/estimated purchase ratios: 0.951187355940833\n",
      "Waste change predicted, calculating revenue loss...\n",
      "Values: [2672.84 1937.36  735.48 2692.67 1960.43  732.24]\n",
      "Current product is Mini gourmet slavink\n",
      "(102, 7)\n",
      "Extended waste dataframe created\n",
      "Data prepared for prediction\n",
      "Model fitted; test set metrics: MAE: 1.2945753277036645 MSE: 2.5122969889907005, R^2 score: -0.08596239918363024\n",
      "Demand function fitted\n",
      "Average of actual/estimated purchase ratios: 0.9877888504039528\n",
      "Waste change predicted, calculating revenue loss...\n",
      "Values: [41.28 32.96  8.32 35.4  27.61  7.8 ]\n",
      "Current product is Mini gourmet varkenshaas\n",
      "(102, 7)\n",
      "Extended waste dataframe created\n",
      "Data prepared for prediction\n",
      "Model fitted; test set metrics: MAE: 1.3189567838827299 MSE: 2.705645304765717, R^2 score: -0.006751741308173909\n",
      "Demand function fitted\n",
      "Average of actual/estimated purchase ratios: 0.9991095119437617\n",
      "Waste change predicted, calculating revenue loss...\n",
      "Values: [262.9  204.6   58.3  180.18 135.67  44.52]\n",
      "Current product is Zigeuner gehaktschnitzel\n",
      "(102, 7)\n",
      "Extended waste dataframe created\n",
      "Data prepared for prediction\n",
      "Model fitted; test set metrics: MAE: 1.521392545411961 MSE: 3.8148477168943606, R^2 score: 0.20403360764101164\n",
      "Demand function fitted\n",
      "Average of actual/estimated purchase ratios: 0.9856875038836167\n",
      "Waste change predicted, calculating revenue loss...\n",
      "Values: [7.8  6.27 1.53 7.8  6.27 1.53]\n",
      "Current product is Veluwse rookworst fijn\n",
      "(102, 7)\n",
      "Extended waste dataframe created\n",
      "Data prepared for prediction\n",
      "Model fitted; test set metrics: MAE: 1.3211860345847253 MSE: 3.6029527515965802, R^2 score: 0.06363806501526814\n",
      "Demand function fitted\n",
      "Average of actual/estimated purchase ratios: 1.0223239683479612\n",
      "Waste change predicted, calculating revenue loss...\n",
      "Values: [0. 0. 0. 0. 0. 0.]\n",
      "Current product is Runderbraadworst\n",
      "(102, 7)\n",
      "Extended waste dataframe created\n",
      "Data prepared for prediction\n",
      "Model fitted; test set metrics: MAE: 1.3769970894429617 MSE: 2.8357044430802905, R^2 score: 0.3914209708795514\n",
      "Demand function fitted\n",
      "Average of actual/estimated purchase ratios: 0.989631155512887\n",
      "Waste change predicted, calculating revenue loss...\n",
      "Values: [258.63 203.82  54.81 191.39 149.18  42.21]\n",
      "Current product is Spekblokjes\n",
      "(102, 7)\n",
      "Extended waste dataframe created\n",
      "Data prepared for prediction\n",
      "Model fitted; test set metrics: MAE: 1.666148120166927 MSE: 5.6323539182508835, R^2 score: -0.016170622787984756\n",
      "Demand function fitted\n",
      "Average of actual/estimated purchase ratios: 1.0153307406175698\n",
      "Waste change predicted, calculating revenue loss...\n",
      "Values: [50.85 41.55  9.3  43.01 34.33  8.68]\n",
      "Current product is biologische Hamburger\n",
      "(102, 7)\n",
      "Extended waste dataframe created\n",
      "Data prepared for prediction\n",
      "Model fitted; test set metrics: MAE: 0.7023769787377369 MSE: 0.7421299902651367, R^2 score: 0.0012456205777601204\n",
      "Demand function fitted\n",
      "Value error occured at range (31, 34)\n",
      "Value error occured at range (34, 38)\n",
      "Value error occured at range (48, 52)\n",
      "Value error occured at range (52, 55)\n",
      "Value error occured at range (94, 97)\n",
      "Value error occured at range (118, 122)\n",
      "Value error occured at range (139, 143)\n",
      "Value error occured at range (150, 153)\n",
      "Value error occured at range (160, 164)\n",
      "Value error occured at range (269, 272)\n",
      "Value error occured at range (293, 297)\n",
      "Value error occured at range (304, 307)\n",
      "Value error occured at range (342, 346)\n",
      "Average of actual/estimated purchase ratios: 1.0696972219143794\n",
      "Waste change predicted, calculating revenue loss...\n",
      "Values: [91.26 56.47 34.79 91.14 56.35 34.79]\n",
      "Current product is Mager rundergehakt\n",
      "(102, 7)\n",
      "Extended waste dataframe created\n",
      "Data prepared for prediction\n",
      "Model fitted; test set metrics: MAE: 1.5493155039797752 MSE: 3.3240288119124832, R^2 score: 0.1139418466668618\n",
      "Demand function fitted\n",
      "Average of actual/estimated purchase ratios: 0.9636106596778459\n",
      "Waste change predicted, calculating revenue loss...\n",
      "Values: [502.6  403.06  99.54 328.18 256.29  71.89]\n",
      "Current product is Biologische gerookte ontbijtspek\n",
      "(102, 7)\n",
      "Extended waste dataframe created\n",
      "Data prepared for prediction\n",
      "Model fitted; test set metrics: MAE: 0.752836775619401 MSE: 0.7581985384414442, R^2 score: -0.21146940381404677\n",
      "Demand function fitted\n",
      "Value error occured at range (27, 31)\n",
      "Value error occured at range (41, 45)\n",
      "Value error occured at range (80, 83)\n",
      "Value error occured at range (83, 87)\n",
      "Value error occured at range (94, 97)\n",
      "Value error occured at range (104, 108)\n",
      "Value error occured at range (108, 111)\n",
      "Value error occured at range (171, 174)\n",
      "Value error occured at range (185, 188)\n",
      "Value error occured at range (188, 192)\n",
      "Value error occured at range (213, 216)\n",
      "Value error occured at range (237, 241)\n",
      "Value error occured at range (248, 251)\n",
      "Value error occured at range (251, 255)\n",
      "Value error occured at range (300, 304)\n",
      "Value error occured at range (307, 311)\n",
      "Value error occured at range (318, 321)\n",
      "Value error occured at range (360, 363)\n",
      ">>>> Biologische gerookte ontbijtspek IS NOT INCLUDED\n",
      "Current product is Biefstuk\n",
      "(102, 7)\n",
      "Extended waste dataframe created\n",
      "Data prepared for prediction\n",
      "Model fitted; test set metrics: MAE: 1.5350008008283875 MSE: 4.097376477570805, R^2 score: -0.01384207958413275\n",
      "Demand function fitted\n",
      "Average of actual/estimated purchase ratios: 1.031625730404274\n",
      "Waste change predicted, calculating revenue loss...\n",
      "Values: [688.76 536.   152.76 421.8  320.36 101.46]\n",
      "Current product is Biologische runderchipolata\n",
      "(102, 7)\n",
      "Extended waste dataframe created\n",
      "Data prepared for prediction\n",
      "Model fitted; test set metrics: MAE: 0.6191191566862796 MSE: 0.7348440412450823, R^2 score: -0.3211557762810522\n",
      "Demand function fitted\n",
      "Value error occured at range (10, 13)\n",
      "Value error occured at range (52, 55)\n",
      "Value error occured at range (66, 69)\n",
      "Value error occured at range (125, 129)\n",
      "Value error occured at range (129, 132)\n",
      "Value error occured at range (143, 146)\n",
      "Value error occured at range (167, 171)\n",
      "Value error occured at range (178, 181)\n",
      "Value error occured at range (181, 185)\n",
      "Value error occured at range (192, 195)\n",
      "Value error occured at range (206, 209)\n",
      "Value error occured at range (216, 220)\n",
      "Value error occured at range (223, 227)\n",
      "Value error occured at range (234, 237)\n",
      "Value error occured at range (286, 290)\n",
      "Value error occured at range (353, 356)\n",
      "Value error occured at range (360, 363)\n",
      ">>>> Biologische runderchipolata IS NOT INCLUDED\n",
      "Current product is Biologische rundersoepballetjes\n",
      "(102, 7)\n",
      "Extended waste dataframe created\n",
      "Data prepared for prediction\n",
      "Model fitted; test set metrics: MAE: 0.6547371497533496 MSE: 0.5737433767704545, R^2 score: -0.38845897178449973\n",
      "Demand function fitted\n",
      "Value error occured at range (24, 27)\n",
      "Value error occured at range (27, 31)\n",
      "Value error occured at range (55, 59)\n",
      "Value error occured at range (62, 66)\n",
      "Value error occured at range (87, 90)\n",
      "Value error occured at range (101, 104)\n",
      "Value error occured at range (150, 153)\n",
      "Value error occured at range (153, 157)\n",
      "Value error occured at range (164, 167)\n",
      "Value error occured at range (174, 178)\n",
      "Value error occured at range (181, 185)\n",
      "Value error occured at range (199, 202)\n",
      "Value error occured at range (202, 206)\n",
      "Value error occured at range (213, 216)\n",
      "Value error occured at range (262, 265)\n",
      "Value error occured at range (283, 286)\n",
      "Value error occured at range (286, 290)\n",
      "Value error occured at range (290, 293)\n",
      "Value error occured at range (307, 311)\n",
      "Value error occured at range (321, 325)\n",
      "Value error occured at range (328, 332)\n",
      "Value error occured at range (342, 346)\n",
      "Value error occured at range (349, 353)\n",
      "Average of actual/estimated purchase ratios: 1.010762735162337\n",
      "Waste change predicted, calculating revenue loss...\n",
      "Values: [312.15 204.27 107.88 312.81 204.93 107.88]\n",
      "Current product is Kipblokjes\n",
      "(102, 7)\n",
      "Extended waste dataframe created\n",
      "Data prepared for prediction\n",
      "Model fitted; test set metrics: MAE: 1.3250955445230508 MSE: 2.816123878466407, R^2 score: -0.0068822805689945366\n",
      "Demand function fitted\n",
      "Average of actual/estimated purchase ratios: 0.9607534601800647\n",
      "Waste change predicted, calculating revenue loss...\n",
      "Values: [244.56 194.58  49.98 179.01 140.25  38.76]\n",
      "Current product is Kipfilet naturel\n",
      "(102, 7)\n",
      "Extended waste dataframe created\n",
      "Data prepared for prediction\n",
      "Model fitted; test set metrics: MAE: 1.685310637899097 MSE: 4.361986146152132, R^2 score: 0.1272192245303535\n",
      "Demand function fitted\n",
      "Average of actual/estimated purchase ratios: 1.0239228903556343\n",
      "Waste change predicted, calculating revenue loss...\n",
      "Values: [1379.52 1108.8   270.72  768.25  600.01  168.26]\n",
      "Current product is Krokante Kipfiletschnitzel\n",
      "(102, 7)\n",
      "Extended waste dataframe created\n",
      "Data prepared for prediction\n",
      "Model fitted; test set metrics: MAE: 1.4071422190476777 MSE: 2.708828016334872, R^2 score: -0.18563502391189912\n",
      "Demand function fitted\n",
      "Average of actual/estimated purchase ratios: 1.026222153436532\n",
      "Waste change predicted, calculating revenue loss...\n",
      "Values: [122.15  98.7   23.45  73.17  57.78  15.41]\n",
      "Current product is Kipfilet\n",
      "(102, 7)\n",
      "Extended waste dataframe created\n",
      "Data prepared for prediction\n",
      "Model fitted; test set metrics: MAE: 1.4463112450457962 MSE: 2.9721204161682393, R^2 score: 0.10535702776355005\n",
      "Demand function fitted\n",
      "Average of actual/estimated purchase ratios: 0.9780130699410962\n",
      "Waste change predicted, calculating revenue loss...\n",
      "Values: [194.84 154.04  40.8  107.42  81.57  25.84]\n"
     ]
    }
   ],
   "source": [
    "money_dct = {}\n",
    "list_of_df = []\n",
    "\n",
    "for prod in snacks:\n",
    "    try:\n",
    "        print(\"Current product is {}\".format(prod))\n",
    "        inventory = pd.read_csv(\"data/inventory.csv\")\n",
    "        products = pd.read_csv(\"data/products.csv\")\n",
    "        promotions = pd.read_csv(\"data/promotions.csv\")\n",
    "        transactions = pd.read_csv(\"data/transactions.csv\")\n",
    "        discount_per_day = pd.read_csv(\"nr_discounts_per_day.csv\")\n",
    "        pd.set_option('mode.chained_assignment', None) #turns off pandas warnings\n",
    "        #create a reference dataframe\n",
    "        dayofyear = list(range(365))\n",
    "        date = [datetime.datetime(2018, 1, 1) + datetime.timedelta(day) for day in dayofyear]\n",
    "        df_date = pd.DataFrame({\"day\":dayofyear, \"date\":date})\n",
    "\n",
    "        tup_list2 = [('Blauwe bessen', '150g'), ('Rundergehakt', '300g '), ('Unox Gelderse rookworst', '285g'), ('Biologisch rundergehakt', '300g')]\n",
    "        for pair in tup_list2:\n",
    "\n",
    "            transactions.loc[transactions[(transactions['description'] == pair[0]) & (transactions['size'] == pair[1])].index, 'description'] = pair[0] + '.1'\n",
    "\n",
    "            products.loc[products[(products['description'] == pair[0]) & (products['size'] == pair[1])].index, 'description'] = pair[0] + '.1'\n",
    "\n",
    "        #for colname in inventory.columns[2:]:\n",
    "        #    inventory[colname] = [ast.literal_eval(i) for i in inventory[colname]]\n",
    "            #converting inventory rows to list of tuples from string\n",
    "\n",
    "        product = prod # item to be analyzed\n",
    "        filtered_transactions = transactions[transactions[\"description\"] == product]\n",
    "        filtered_inventory = inventory[[\"day\", \"before or after delivery\", product]]\n",
    "\n",
    "        output_full = waste_analysis(inventory, transactions, products, product, discount_per_day=discount_per_day)\n",
    "        list_of_df.append(output_full)\n",
    "        values = output_full[money_cols].sum().values.round(2)\n",
    "        print(\"Values: {}\".format(values))\n",
    "        i = 0\n",
    "        for name in money_cols:\n",
    "            if name not in money_dct.keys():\n",
    "                money_dct[name] = values[i]\n",
    "            else:\n",
    "                money_dct[name] += values[i]\n",
    "            i += 1\n",
    "    except(ValueError):\n",
    "            print(\">>>> {} IS NOT INCLUDED\".format(prod))\n"
   ]
  },
  {
   "cell_type": "code",
   "execution_count": 9,
   "metadata": {},
   "outputs": [
    {
     "output_type": "execute_result",
     "data": {
      "text/plain": [
       "         Metric                 Method    values\n",
       "0  Loss revenue                 Actual  35859.71\n",
       "1   Loss profit                 Actual  28167.22\n",
       "2    Waste cost                 Actual   7692.49\n",
       "3  Loss revenue  Predicted w/discounts  31180.16\n",
       "4   Loss profit  Predicted w/discounts  24362.39\n",
       "5    Waste cost  Predicted w/discounts   6817.89"
      ],
      "text/html": "<div>\n<style scoped>\n    .dataframe tbody tr th:only-of-type {\n        vertical-align: middle;\n    }\n\n    .dataframe tbody tr th {\n        vertical-align: top;\n    }\n\n    .dataframe thead th {\n        text-align: right;\n    }\n</style>\n<table border=\"1\" class=\"dataframe\">\n  <thead>\n    <tr style=\"text-align: right;\">\n      <th></th>\n      <th>Metric</th>\n      <th>Method</th>\n      <th>values</th>\n    </tr>\n  </thead>\n  <tbody>\n    <tr>\n      <th>0</th>\n      <td>Loss revenue</td>\n      <td>Actual</td>\n      <td>35859.71</td>\n    </tr>\n    <tr>\n      <th>1</th>\n      <td>Loss profit</td>\n      <td>Actual</td>\n      <td>28167.22</td>\n    </tr>\n    <tr>\n      <th>2</th>\n      <td>Waste cost</td>\n      <td>Actual</td>\n      <td>7692.49</td>\n    </tr>\n    <tr>\n      <th>3</th>\n      <td>Loss revenue</td>\n      <td>Predicted w/discounts</td>\n      <td>31180.16</td>\n    </tr>\n    <tr>\n      <th>4</th>\n      <td>Loss profit</td>\n      <td>Predicted w/discounts</td>\n      <td>24362.39</td>\n    </tr>\n    <tr>\n      <th>5</th>\n      <td>Waste cost</td>\n      <td>Predicted w/discounts</td>\n      <td>6817.89</td>\n    </tr>\n  </tbody>\n</table>\n</div>"
     },
     "metadata": {},
     "execution_count": 9
    }
   ],
   "source": [
    "results = pd.DataFrame({\"Metric\":[\"Loss revenue\", \"Loss profit\", \"Waste cost\",\"Loss revenue\", \"Loss profit\", \"Waste cost\"], \"Method\":[\"Actual\", \"Actual\", \"Actual\", \"Predicted w/discounts\", \"Predicted w/discounts\", \"Predicted w/discounts\"], \"values\":[round(i,2) for i in money_dct.values()]})\n",
    "results"
   ]
  },
  {
   "cell_type": "code",
   "execution_count": 10,
   "metadata": {},
   "outputs": [
    {
     "output_type": "display_data",
     "data": {
      "application/vnd.plotly.v1+json": {
       "config": {
        "plotlyServerURL": "https://plot.ly"
       },
       "data": [
        {
         "alignmentgroup": "True",
         "hovertemplate": "Method=Actual<br>Metric=%{x}<br>values=%{text}<extra></extra>",
         "legendgroup": "Actual",
         "marker": {
          "color": "#636efa"
         },
         "name": "Actual",
         "offsetgroup": "Actual",
         "orientation": "v",
         "showlegend": true,
         "text": [
          35859.71,
          28167.22,
          7692.49
         ],
         "textposition": "auto",
         "type": "bar",
         "x": [
          "Loss revenue",
          "Loss profit",
          "Waste cost"
         ],
         "xaxis": "x",
         "y": [
          35859.71,
          28167.22,
          7692.49
         ],
         "yaxis": "y"
        },
        {
         "alignmentgroup": "True",
         "hovertemplate": "Method=Predicted w/discounts<br>Metric=%{x}<br>values=%{text}<extra></extra>",
         "legendgroup": "Predicted w/discounts",
         "marker": {
          "color": "#EF553B"
         },
         "name": "Predicted w/discounts",
         "offsetgroup": "Predicted w/discounts",
         "orientation": "v",
         "showlegend": true,
         "text": [
          31180.16,
          24362.39,
          6817.89
         ],
         "textposition": "auto",
         "type": "bar",
         "x": [
          "Loss revenue",
          "Loss profit",
          "Waste cost"
         ],
         "xaxis": "x",
         "y": [
          31180.16,
          24362.39,
          6817.89
         ],
         "yaxis": "y"
        }
       ],
       "layout": {
        "barmode": "group",
        "height": 700,
        "legend": {
         "title": {
          "text": "Method"
         },
         "tracegroupgap": 0
        },
        "paper_bgcolor": "rgba(0,0,0,0)",
        "showlegend": false,
        "template": {
         "data": {
          "bar": [
           {
            "error_x": {
             "color": "#2a3f5f"
            },
            "error_y": {
             "color": "#2a3f5f"
            },
            "marker": {
             "line": {
              "color": "#E5ECF6",
              "width": 0.5
             }
            },
            "type": "bar"
           }
          ],
          "barpolar": [
           {
            "marker": {
             "line": {
              "color": "#E5ECF6",
              "width": 0.5
             }
            },
            "type": "barpolar"
           }
          ],
          "carpet": [
           {
            "aaxis": {
             "endlinecolor": "#2a3f5f",
             "gridcolor": "white",
             "linecolor": "white",
             "minorgridcolor": "white",
             "startlinecolor": "#2a3f5f"
            },
            "baxis": {
             "endlinecolor": "#2a3f5f",
             "gridcolor": "white",
             "linecolor": "white",
             "minorgridcolor": "white",
             "startlinecolor": "#2a3f5f"
            },
            "type": "carpet"
           }
          ],
          "choropleth": [
           {
            "colorbar": {
             "outlinewidth": 0,
             "ticks": ""
            },
            "type": "choropleth"
           }
          ],
          "contour": [
           {
            "colorbar": {
             "outlinewidth": 0,
             "ticks": ""
            },
            "colorscale": [
             [
              0,
              "#0d0887"
             ],
             [
              0.1111111111111111,
              "#46039f"
             ],
             [
              0.2222222222222222,
              "#7201a8"
             ],
             [
              0.3333333333333333,
              "#9c179e"
             ],
             [
              0.4444444444444444,
              "#bd3786"
             ],
             [
              0.5555555555555556,
              "#d8576b"
             ],
             [
              0.6666666666666666,
              "#ed7953"
             ],
             [
              0.7777777777777778,
              "#fb9f3a"
             ],
             [
              0.8888888888888888,
              "#fdca26"
             ],
             [
              1,
              "#f0f921"
             ]
            ],
            "type": "contour"
           }
          ],
          "contourcarpet": [
           {
            "colorbar": {
             "outlinewidth": 0,
             "ticks": ""
            },
            "type": "contourcarpet"
           }
          ],
          "heatmap": [
           {
            "colorbar": {
             "outlinewidth": 0,
             "ticks": ""
            },
            "colorscale": [
             [
              0,
              "#0d0887"
             ],
             [
              0.1111111111111111,
              "#46039f"
             ],
             [
              0.2222222222222222,
              "#7201a8"
             ],
             [
              0.3333333333333333,
              "#9c179e"
             ],
             [
              0.4444444444444444,
              "#bd3786"
             ],
             [
              0.5555555555555556,
              "#d8576b"
             ],
             [
              0.6666666666666666,
              "#ed7953"
             ],
             [
              0.7777777777777778,
              "#fb9f3a"
             ],
             [
              0.8888888888888888,
              "#fdca26"
             ],
             [
              1,
              "#f0f921"
             ]
            ],
            "type": "heatmap"
           }
          ],
          "heatmapgl": [
           {
            "colorbar": {
             "outlinewidth": 0,
             "ticks": ""
            },
            "colorscale": [
             [
              0,
              "#0d0887"
             ],
             [
              0.1111111111111111,
              "#46039f"
             ],
             [
              0.2222222222222222,
              "#7201a8"
             ],
             [
              0.3333333333333333,
              "#9c179e"
             ],
             [
              0.4444444444444444,
              "#bd3786"
             ],
             [
              0.5555555555555556,
              "#d8576b"
             ],
             [
              0.6666666666666666,
              "#ed7953"
             ],
             [
              0.7777777777777778,
              "#fb9f3a"
             ],
             [
              0.8888888888888888,
              "#fdca26"
             ],
             [
              1,
              "#f0f921"
             ]
            ],
            "type": "heatmapgl"
           }
          ],
          "histogram": [
           {
            "marker": {
             "colorbar": {
              "outlinewidth": 0,
              "ticks": ""
             }
            },
            "type": "histogram"
           }
          ],
          "histogram2d": [
           {
            "colorbar": {
             "outlinewidth": 0,
             "ticks": ""
            },
            "colorscale": [
             [
              0,
              "#0d0887"
             ],
             [
              0.1111111111111111,
              "#46039f"
             ],
             [
              0.2222222222222222,
              "#7201a8"
             ],
             [
              0.3333333333333333,
              "#9c179e"
             ],
             [
              0.4444444444444444,
              "#bd3786"
             ],
             [
              0.5555555555555556,
              "#d8576b"
             ],
             [
              0.6666666666666666,
              "#ed7953"
             ],
             [
              0.7777777777777778,
              "#fb9f3a"
             ],
             [
              0.8888888888888888,
              "#fdca26"
             ],
             [
              1,
              "#f0f921"
             ]
            ],
            "type": "histogram2d"
           }
          ],
          "histogram2dcontour": [
           {
            "colorbar": {
             "outlinewidth": 0,
             "ticks": ""
            },
            "colorscale": [
             [
              0,
              "#0d0887"
             ],
             [
              0.1111111111111111,
              "#46039f"
             ],
             [
              0.2222222222222222,
              "#7201a8"
             ],
             [
              0.3333333333333333,
              "#9c179e"
             ],
             [
              0.4444444444444444,
              "#bd3786"
             ],
             [
              0.5555555555555556,
              "#d8576b"
             ],
             [
              0.6666666666666666,
              "#ed7953"
             ],
             [
              0.7777777777777778,
              "#fb9f3a"
             ],
             [
              0.8888888888888888,
              "#fdca26"
             ],
             [
              1,
              "#f0f921"
             ]
            ],
            "type": "histogram2dcontour"
           }
          ],
          "mesh3d": [
           {
            "colorbar": {
             "outlinewidth": 0,
             "ticks": ""
            },
            "type": "mesh3d"
           }
          ],
          "parcoords": [
           {
            "line": {
             "colorbar": {
              "outlinewidth": 0,
              "ticks": ""
             }
            },
            "type": "parcoords"
           }
          ],
          "pie": [
           {
            "automargin": true,
            "type": "pie"
           }
          ],
          "scatter": [
           {
            "marker": {
             "colorbar": {
              "outlinewidth": 0,
              "ticks": ""
             }
            },
            "type": "scatter"
           }
          ],
          "scatter3d": [
           {
            "line": {
             "colorbar": {
              "outlinewidth": 0,
              "ticks": ""
             }
            },
            "marker": {
             "colorbar": {
              "outlinewidth": 0,
              "ticks": ""
             }
            },
            "type": "scatter3d"
           }
          ],
          "scattercarpet": [
           {
            "marker": {
             "colorbar": {
              "outlinewidth": 0,
              "ticks": ""
             }
            },
            "type": "scattercarpet"
           }
          ],
          "scattergeo": [
           {
            "marker": {
             "colorbar": {
              "outlinewidth": 0,
              "ticks": ""
             }
            },
            "type": "scattergeo"
           }
          ],
          "scattergl": [
           {
            "marker": {
             "colorbar": {
              "outlinewidth": 0,
              "ticks": ""
             }
            },
            "type": "scattergl"
           }
          ],
          "scattermapbox": [
           {
            "marker": {
             "colorbar": {
              "outlinewidth": 0,
              "ticks": ""
             }
            },
            "type": "scattermapbox"
           }
          ],
          "scatterpolar": [
           {
            "marker": {
             "colorbar": {
              "outlinewidth": 0,
              "ticks": ""
             }
            },
            "type": "scatterpolar"
           }
          ],
          "scatterpolargl": [
           {
            "marker": {
             "colorbar": {
              "outlinewidth": 0,
              "ticks": ""
             }
            },
            "type": "scatterpolargl"
           }
          ],
          "scatterternary": [
           {
            "marker": {
             "colorbar": {
              "outlinewidth": 0,
              "ticks": ""
             }
            },
            "type": "scatterternary"
           }
          ],
          "surface": [
           {
            "colorbar": {
             "outlinewidth": 0,
             "ticks": ""
            },
            "colorscale": [
             [
              0,
              "#0d0887"
             ],
             [
              0.1111111111111111,
              "#46039f"
             ],
             [
              0.2222222222222222,
              "#7201a8"
             ],
             [
              0.3333333333333333,
              "#9c179e"
             ],
             [
              0.4444444444444444,
              "#bd3786"
             ],
             [
              0.5555555555555556,
              "#d8576b"
             ],
             [
              0.6666666666666666,
              "#ed7953"
             ],
             [
              0.7777777777777778,
              "#fb9f3a"
             ],
             [
              0.8888888888888888,
              "#fdca26"
             ],
             [
              1,
              "#f0f921"
             ]
            ],
            "type": "surface"
           }
          ],
          "table": [
           {
            "cells": {
             "fill": {
              "color": "#EBF0F8"
             },
             "line": {
              "color": "white"
             }
            },
            "header": {
             "fill": {
              "color": "#C8D4E3"
             },
             "line": {
              "color": "white"
             }
            },
            "type": "table"
           }
          ]
         },
         "layout": {
          "annotationdefaults": {
           "arrowcolor": "#2a3f5f",
           "arrowhead": 0,
           "arrowwidth": 1
          },
          "coloraxis": {
           "colorbar": {
            "outlinewidth": 0,
            "ticks": ""
           }
          },
          "colorscale": {
           "diverging": [
            [
             0,
             "#8e0152"
            ],
            [
             0.1,
             "#c51b7d"
            ],
            [
             0.2,
             "#de77ae"
            ],
            [
             0.3,
             "#f1b6da"
            ],
            [
             0.4,
             "#fde0ef"
            ],
            [
             0.5,
             "#f7f7f7"
            ],
            [
             0.6,
             "#e6f5d0"
            ],
            [
             0.7,
             "#b8e186"
            ],
            [
             0.8,
             "#7fbc41"
            ],
            [
             0.9,
             "#4d9221"
            ],
            [
             1,
             "#276419"
            ]
           ],
           "sequential": [
            [
             0,
             "#0d0887"
            ],
            [
             0.1111111111111111,
             "#46039f"
            ],
            [
             0.2222222222222222,
             "#7201a8"
            ],
            [
             0.3333333333333333,
             "#9c179e"
            ],
            [
             0.4444444444444444,
             "#bd3786"
            ],
            [
             0.5555555555555556,
             "#d8576b"
            ],
            [
             0.6666666666666666,
             "#ed7953"
            ],
            [
             0.7777777777777778,
             "#fb9f3a"
            ],
            [
             0.8888888888888888,
             "#fdca26"
            ],
            [
             1,
             "#f0f921"
            ]
           ],
           "sequentialminus": [
            [
             0,
             "#0d0887"
            ],
            [
             0.1111111111111111,
             "#46039f"
            ],
            [
             0.2222222222222222,
             "#7201a8"
            ],
            [
             0.3333333333333333,
             "#9c179e"
            ],
            [
             0.4444444444444444,
             "#bd3786"
            ],
            [
             0.5555555555555556,
             "#d8576b"
            ],
            [
             0.6666666666666666,
             "#ed7953"
            ],
            [
             0.7777777777777778,
             "#fb9f3a"
            ],
            [
             0.8888888888888888,
             "#fdca26"
            ],
            [
             1,
             "#f0f921"
            ]
           ]
          },
          "colorway": [
           "#636efa",
           "#EF553B",
           "#00cc96",
           "#ab63fa",
           "#FFA15A",
           "#19d3f3",
           "#FF6692",
           "#B6E880",
           "#FF97FF",
           "#FECB52"
          ],
          "font": {
           "color": "#2a3f5f"
          },
          "geo": {
           "bgcolor": "white",
           "lakecolor": "white",
           "landcolor": "#E5ECF6",
           "showlakes": true,
           "showland": true,
           "subunitcolor": "white"
          },
          "hoverlabel": {
           "align": "left"
          },
          "hovermode": "closest",
          "mapbox": {
           "style": "light"
          },
          "paper_bgcolor": "white",
          "plot_bgcolor": "#E5ECF6",
          "polar": {
           "angularaxis": {
            "gridcolor": "white",
            "linecolor": "white",
            "ticks": ""
           },
           "bgcolor": "#E5ECF6",
           "radialaxis": {
            "gridcolor": "white",
            "linecolor": "white",
            "ticks": ""
           }
          },
          "scene": {
           "xaxis": {
            "backgroundcolor": "#E5ECF6",
            "gridcolor": "white",
            "gridwidth": 2,
            "linecolor": "white",
            "showbackground": true,
            "ticks": "",
            "zerolinecolor": "white"
           },
           "yaxis": {
            "backgroundcolor": "#E5ECF6",
            "gridcolor": "white",
            "gridwidth": 2,
            "linecolor": "white",
            "showbackground": true,
            "ticks": "",
            "zerolinecolor": "white"
           },
           "zaxis": {
            "backgroundcolor": "#E5ECF6",
            "gridcolor": "white",
            "gridwidth": 2,
            "linecolor": "white",
            "showbackground": true,
            "ticks": "",
            "zerolinecolor": "white"
           }
          },
          "shapedefaults": {
           "line": {
            "color": "#2a3f5f"
           }
          },
          "ternary": {
           "aaxis": {
            "gridcolor": "white",
            "linecolor": "white",
            "ticks": ""
           },
           "baxis": {
            "gridcolor": "white",
            "linecolor": "white",
            "ticks": ""
           },
           "bgcolor": "#E5ECF6",
           "caxis": {
            "gridcolor": "white",
            "linecolor": "white",
            "ticks": ""
           }
          },
          "title": {
           "x": 0.05
          },
          "xaxis": {
           "automargin": true,
           "gridcolor": "white",
           "linecolor": "white",
           "ticks": "",
           "title": {
            "standoff": 15
           },
           "zerolinecolor": "white",
           "zerolinewidth": 2
          },
          "yaxis": {
           "automargin": true,
           "gridcolor": "white",
           "linecolor": "white",
           "ticks": "",
           "title": {
            "standoff": 15
           },
           "zerolinecolor": "white",
           "zerolinewidth": 2
          }
         }
        },
        "title": {
         "text": "Savings with optimized waste management for bio Vegetables",
         "x": 0.5,
         "xanchor": "center",
         "y": 0.9,
         "yanchor": "top"
        },
        "width": 1000,
        "xaxis": {
         "anchor": "y",
         "domain": [
          0,
          1
         ],
         "title": {
          "text": "Product"
         }
        },
        "yaxis": {
         "anchor": "x",
         "domain": [
          0,
          1
         ],
         "title": {
          "text": "Total loss in €"
         }
        }
       }
      }
     },
     "metadata": {}
    }
   ],
   "source": [
    "import plotly.express as px\n",
    "fig = px.bar(results, x=\"Metric\", y='values', color=\"Method\", barmode='group', text=\"values\", title=\"Savings with optimized waste management for bio Vegetables\")\n",
    "fig.update_layout(showlegend=False, xaxis_title=\"Product\",\n",
    "    yaxis_title=\"Total loss in €\",width=1000,\n",
    "    height=700, title={\n",
    "        \n",
    "                'y':0.9,\n",
    "        'x':0.5,\n",
    "        'xanchor': 'center',\n",
    "        'yanchor': 'top'},\n",
    "        paper_bgcolor='rgba(0,0,0,0)')\n",
    "fig.show()"
   ]
  },
  {
   "cell_type": "code",
   "execution_count": 2,
   "metadata": {},
   "outputs": [
    {
     "output_type": "stream",
     "name": "stdout",
     "text": [
      "(101, 5)\n"
     ]
    },
    {
     "output_type": "execute_result",
     "data": {
      "text/plain": [
       "                 amount    DOY  cumulative purchases  purchases  remaining  \\\n",
       "best before day                                                              \n",
       "14                   26   14.0                  42.0        NaN      -16.0   \n",
       "17                   26   17.0                  52.0       10.0       16.0   \n",
       "21                   26   21.0                  71.0       19.0        7.0   \n",
       "24                   26   24.0                  77.0        6.0       20.0   \n",
       "28                   26   28.0                  95.0       18.0        8.0   \n",
       "...                 ...    ...                   ...        ...        ...   \n",
       "350                  26  350.0                1268.0       11.0       15.0   \n",
       "353                  26  353.0                1278.0       10.0       16.0   \n",
       "357                  26  357.0                1290.0       12.0       14.0   \n",
       "360                  26  360.0                1296.0        6.0       20.0   \n",
       "364                  26  363.0                1304.0        8.0       18.0   \n",
       "\n",
       "                 waste  week  waste nn  \n",
       "best before day                         \n",
       "14               -16.0     3       0.0  \n",
       "17                 0.0     3       0.0  \n",
       "21                 7.0     4       7.0  \n",
       "24                20.0     4      20.0  \n",
       "28                 8.0     5       8.0  \n",
       "...                ...   ...       ...  \n",
       "350               15.0    51      15.0  \n",
       "353               16.0    51      16.0  \n",
       "357               14.0    52      14.0  \n",
       "360               20.0    52      20.0  \n",
       "364               18.0    52      18.0  \n",
       "\n",
       "[101 rows x 8 columns]"
      ],
      "text/html": "<div>\n<style scoped>\n    .dataframe tbody tr th:only-of-type {\n        vertical-align: middle;\n    }\n\n    .dataframe tbody tr th {\n        vertical-align: top;\n    }\n\n    .dataframe thead th {\n        text-align: right;\n    }\n</style>\n<table border=\"1\" class=\"dataframe\">\n  <thead>\n    <tr style=\"text-align: right;\">\n      <th></th>\n      <th>amount</th>\n      <th>DOY</th>\n      <th>cumulative purchases</th>\n      <th>purchases</th>\n      <th>remaining</th>\n      <th>waste</th>\n      <th>week</th>\n      <th>waste nn</th>\n    </tr>\n    <tr>\n      <th>best before day</th>\n      <th></th>\n      <th></th>\n      <th></th>\n      <th></th>\n      <th></th>\n      <th></th>\n      <th></th>\n      <th></th>\n    </tr>\n  </thead>\n  <tbody>\n    <tr>\n      <th>14</th>\n      <td>26</td>\n      <td>14.0</td>\n      <td>42.0</td>\n      <td>NaN</td>\n      <td>-16.0</td>\n      <td>-16.0</td>\n      <td>3</td>\n      <td>0.0</td>\n    </tr>\n    <tr>\n      <th>17</th>\n      <td>26</td>\n      <td>17.0</td>\n      <td>52.0</td>\n      <td>10.0</td>\n      <td>16.0</td>\n      <td>0.0</td>\n      <td>3</td>\n      <td>0.0</td>\n    </tr>\n    <tr>\n      <th>21</th>\n      <td>26</td>\n      <td>21.0</td>\n      <td>71.0</td>\n      <td>19.0</td>\n      <td>7.0</td>\n      <td>7.0</td>\n      <td>4</td>\n      <td>7.0</td>\n    </tr>\n    <tr>\n      <th>24</th>\n      <td>26</td>\n      <td>24.0</td>\n      <td>77.0</td>\n      <td>6.0</td>\n      <td>20.0</td>\n      <td>20.0</td>\n      <td>4</td>\n      <td>20.0</td>\n    </tr>\n    <tr>\n      <th>28</th>\n      <td>26</td>\n      <td>28.0</td>\n      <td>95.0</td>\n      <td>18.0</td>\n      <td>8.0</td>\n      <td>8.0</td>\n      <td>5</td>\n      <td>8.0</td>\n    </tr>\n    <tr>\n      <th>...</th>\n      <td>...</td>\n      <td>...</td>\n      <td>...</td>\n      <td>...</td>\n      <td>...</td>\n      <td>...</td>\n      <td>...</td>\n      <td>...</td>\n    </tr>\n    <tr>\n      <th>350</th>\n      <td>26</td>\n      <td>350.0</td>\n      <td>1268.0</td>\n      <td>11.0</td>\n      <td>15.0</td>\n      <td>15.0</td>\n      <td>51</td>\n      <td>15.0</td>\n    </tr>\n    <tr>\n      <th>353</th>\n      <td>26</td>\n      <td>353.0</td>\n      <td>1278.0</td>\n      <td>10.0</td>\n      <td>16.0</td>\n      <td>16.0</td>\n      <td>51</td>\n      <td>16.0</td>\n    </tr>\n    <tr>\n      <th>357</th>\n      <td>26</td>\n      <td>357.0</td>\n      <td>1290.0</td>\n      <td>12.0</td>\n      <td>14.0</td>\n      <td>14.0</td>\n      <td>52</td>\n      <td>14.0</td>\n    </tr>\n    <tr>\n      <th>360</th>\n      <td>26</td>\n      <td>360.0</td>\n      <td>1296.0</td>\n      <td>6.0</td>\n      <td>20.0</td>\n      <td>20.0</td>\n      <td>52</td>\n      <td>20.0</td>\n    </tr>\n    <tr>\n      <th>364</th>\n      <td>26</td>\n      <td>363.0</td>\n      <td>1304.0</td>\n      <td>8.0</td>\n      <td>18.0</td>\n      <td>18.0</td>\n      <td>52</td>\n      <td>18.0</td>\n    </tr>\n  </tbody>\n</table>\n<p>101 rows × 8 columns</p>\n</div>"
     },
     "metadata": {},
     "execution_count": 2
    }
   ],
   "source": [
    "from waste_functions import create_bb_data, add_purchases\n",
    "\n",
    "waste_df = create_bb_data(filtered_inventory, product)\n",
    "waste_df_extended = add_purchases(waste_df, transactions, product)\n",
    "waste_df_extended"
   ]
  },
  {
   "source": [
    "## Creating range intervals for mid-delivery sales calculation"
   ],
   "cell_type": "markdown",
   "metadata": {}
  },
  {
   "cell_type": "code",
   "execution_count": 3,
   "metadata": {},
   "outputs": [],
   "source": [
    "best_before = []\n",
    "for element_list in inventory[product]:\n",
    "    for batch in element_list:\n",
    "        best_before.append(batch[0])\n",
    "bb_dates = list(np.unique(best_before))\n",
    "#list of each unique best before dates\n",
    "bb_dates.insert(0, 0)\n",
    "ranges = []\n",
    "i = 0\n",
    "for item in bb_dates:\n",
    "    if i < len(bb_dates)-1:\n",
    "        i += 1\n",
    "        ret_tupl = (item, bb_dates[i])\n",
    "        ranges.append(ret_tupl)\n",
    "\n"
   ]
  },
  {
   "cell_type": "code",
   "execution_count": 4,
   "metadata": {},
   "outputs": [
    {
     "output_type": "execute_result",
     "data": {
      "text/plain": [
       "(24, 28)"
      ]
     },
     "metadata": {},
     "execution_count": 4
    }
   ],
   "source": [
    "ranges[4]"
   ]
  },
  {
   "cell_type": "code",
   "execution_count": 30,
   "metadata": {},
   "outputs": [],
   "source": [
    "from demand import *\n",
    "compl_prod=\"Basis anannasstukjes\"\n",
    "\n",
    "prepared_transactions = prepare_data(filtered_transactions, discounts_per_day=discount_per_day)\n",
    "output_dct = prepare_demand_function(prepared_transactions)"
   ]
  },
  {
   "cell_type": "code",
   "execution_count": 39,
   "metadata": {},
   "outputs": [
    {
     "output_type": "execute_result",
     "data": {
      "text/plain": [
       "    count discount std min 25% 50% 75% max     month               product  \\\n",
       "346     2        0   0   0   0   0   0   0  December  Biologische knoflook   \n",
       "347     2        0   0   0   0   0   0   0  December  Biologische knoflook   \n",
       "\n",
       "     DOY dayofweek purchase_price std_sales_price prev_day_purchases  \\\n",
       "346  362  Saturday           0.69            0.69                  4   \n",
       "347  363    Sunday           0.69            0.69                  2   \n",
       "\n",
       "           days on_discount  \n",
       "346  29-12-2018          12  \n",
       "347  30-12-2018          13  "
      ],
      "text/html": "<div>\n<style scoped>\n    .dataframe tbody tr th:only-of-type {\n        vertical-align: middle;\n    }\n\n    .dataframe tbody tr th {\n        vertical-align: top;\n    }\n\n    .dataframe thead th {\n        text-align: right;\n    }\n</style>\n<table border=\"1\" class=\"dataframe\">\n  <thead>\n    <tr style=\"text-align: right;\">\n      <th></th>\n      <th>count</th>\n      <th>discount</th>\n      <th>std</th>\n      <th>min</th>\n      <th>25%</th>\n      <th>50%</th>\n      <th>75%</th>\n      <th>max</th>\n      <th>month</th>\n      <th>product</th>\n      <th>DOY</th>\n      <th>dayofweek</th>\n      <th>purchase_price</th>\n      <th>std_sales_price</th>\n      <th>prev_day_purchases</th>\n      <th>days</th>\n      <th>on_discount</th>\n    </tr>\n  </thead>\n  <tbody>\n    <tr>\n      <th>346</th>\n      <td>2</td>\n      <td>0</td>\n      <td>0</td>\n      <td>0</td>\n      <td>0</td>\n      <td>0</td>\n      <td>0</td>\n      <td>0</td>\n      <td>December</td>\n      <td>Biologische knoflook</td>\n      <td>362</td>\n      <td>Saturday</td>\n      <td>0.69</td>\n      <td>0.69</td>\n      <td>4</td>\n      <td>29-12-2018</td>\n      <td>12</td>\n    </tr>\n    <tr>\n      <th>347</th>\n      <td>2</td>\n      <td>0</td>\n      <td>0</td>\n      <td>0</td>\n      <td>0</td>\n      <td>0</td>\n      <td>0</td>\n      <td>0</td>\n      <td>December</td>\n      <td>Biologische knoflook</td>\n      <td>363</td>\n      <td>Sunday</td>\n      <td>0.69</td>\n      <td>0.69</td>\n      <td>2</td>\n      <td>30-12-2018</td>\n      <td>13</td>\n    </tr>\n  </tbody>\n</table>\n</div>"
     },
     "metadata": {},
     "execution_count": 39
    }
   ],
   "source": [
    "last = len(prepared_transactions)-1\n",
    "pd.DataFrame(prepared_transactions.values, columns=prepared_transactions.columns).loc[last-1:]"
   ]
  },
  {
   "cell_type": "code",
   "execution_count": 6,
   "metadata": {},
   "outputs": [
    {
     "output_type": "stream",
     "name": "stdout",
     "text": [
      "Model fitted; test set metrics: MAE: 1.8313170478097898 MSE: 4.959650043989804, R^2 score: -0.14613332060051532\n"
     ]
    }
   ],
   "source": [
    "from sklearn.ensemble import RandomForestRegressor\n",
    "from sklearn.neural_network import MLPRegressor\n",
    "from sklearn.tree import DecisionTreeRegressor\n",
    "rf = RandomForestRegressor(n_estimators=50, max_depth=9)\n",
    "nn =  MLPRegressor(hidden_layer_sizes=(50,50))\n",
    "dtr = DecisionTreeRegressor()\n",
    "model = fit_demand_function(output_dct)"
   ]
  },
  {
   "cell_type": "code",
   "execution_count": 7,
   "metadata": {},
   "outputs": [
    {
     "output_type": "execute_result",
     "data": {
      "text/plain": [
       "    discount purchase_price prev_day_purchases on_discount  x0_Friday  \\\n",
       "0          0           1.79                  0          15        0.0   \n",
       "3          0           1.79                  1          11        0.0   \n",
       "5          0           1.79                  1          22        0.0   \n",
       "6          0           1.79                  2          15        0.0   \n",
       "8          0           1.79                  1          14        0.0   \n",
       "..       ...            ...                ...         ...        ...   \n",
       "259        0           1.79                  6          15        0.0   \n",
       "260        0           1.79                  2          11        0.0   \n",
       "261        0           1.79                  5          24        0.0   \n",
       "262        0           1.79                  4          15        0.0   \n",
       "263        0           1.79                  3          14        0.0   \n",
       "\n",
       "     x0_Monday  x0_Saturday  x0_Sunday  x0_Thursday  x0_Tuesday  ...  \\\n",
       "0          1.0          0.0        0.0          0.0         0.0  ...   \n",
       "3          0.0          1.0        0.0          0.0         0.0  ...   \n",
       "5          1.0          0.0        0.0          0.0         0.0  ...   \n",
       "6          0.0          0.0        0.0          0.0         1.0  ...   \n",
       "8          0.0          0.0        0.0          1.0         0.0  ...   \n",
       "..         ...          ...        ...          ...         ...  ...   \n",
       "259        0.0          1.0        0.0          0.0         0.0  ...   \n",
       "260        0.0          0.0        1.0          0.0         0.0  ...   \n",
       "261        1.0          0.0        0.0          0.0         0.0  ...   \n",
       "262        0.0          0.0        0.0          0.0         1.0  ...   \n",
       "263        0.0          0.0        0.0          0.0         0.0  ...   \n",
       "\n",
       "     x0_December  x0_February  x0_January  x0_July  x0_June  x0_March  x0_May  \\\n",
       "0            0.0          0.0         1.0      0.0      0.0       0.0     0.0   \n",
       "3            0.0          0.0         1.0      0.0      0.0       0.0     0.0   \n",
       "5            0.0          0.0         1.0      0.0      0.0       0.0     0.0   \n",
       "6            0.0          0.0         1.0      0.0      0.0       0.0     0.0   \n",
       "8            0.0          0.0         1.0      0.0      0.0       0.0     0.0   \n",
       "..           ...          ...         ...      ...      ...       ...     ...   \n",
       "259          0.0          0.0         0.0      0.0      0.0       0.0     0.0   \n",
       "260          0.0          0.0         0.0      0.0      0.0       0.0     0.0   \n",
       "261          0.0          0.0         0.0      0.0      0.0       0.0     0.0   \n",
       "262          0.0          0.0         0.0      0.0      0.0       0.0     0.0   \n",
       "263          0.0          0.0         0.0      0.0      0.0       0.0     0.0   \n",
       "\n",
       "     x0_November  x0_October  x0_September  \n",
       "0            0.0         0.0           0.0  \n",
       "3            0.0         0.0           0.0  \n",
       "5            0.0         0.0           0.0  \n",
       "6            0.0         0.0           0.0  \n",
       "8            0.0         0.0           0.0  \n",
       "..           ...         ...           ...  \n",
       "259          0.0         1.0           0.0  \n",
       "260          0.0         1.0           0.0  \n",
       "261          0.0         1.0           0.0  \n",
       "262          0.0         1.0           0.0  \n",
       "263          0.0         1.0           0.0  \n",
       "\n",
       "[232 rows x 23 columns]"
      ],
      "text/html": "<div>\n<style scoped>\n    .dataframe tbody tr th:only-of-type {\n        vertical-align: middle;\n    }\n\n    .dataframe tbody tr th {\n        vertical-align: top;\n    }\n\n    .dataframe thead th {\n        text-align: right;\n    }\n</style>\n<table border=\"1\" class=\"dataframe\">\n  <thead>\n    <tr style=\"text-align: right;\">\n      <th></th>\n      <th>discount</th>\n      <th>purchase_price</th>\n      <th>prev_day_purchases</th>\n      <th>on_discount</th>\n      <th>x0_Friday</th>\n      <th>x0_Monday</th>\n      <th>x0_Saturday</th>\n      <th>x0_Sunday</th>\n      <th>x0_Thursday</th>\n      <th>x0_Tuesday</th>\n      <th>...</th>\n      <th>x0_December</th>\n      <th>x0_February</th>\n      <th>x0_January</th>\n      <th>x0_July</th>\n      <th>x0_June</th>\n      <th>x0_March</th>\n      <th>x0_May</th>\n      <th>x0_November</th>\n      <th>x0_October</th>\n      <th>x0_September</th>\n    </tr>\n  </thead>\n  <tbody>\n    <tr>\n      <th>0</th>\n      <td>0</td>\n      <td>1.79</td>\n      <td>0</td>\n      <td>15</td>\n      <td>0.0</td>\n      <td>1.0</td>\n      <td>0.0</td>\n      <td>0.0</td>\n      <td>0.0</td>\n      <td>0.0</td>\n      <td>...</td>\n      <td>0.0</td>\n      <td>0.0</td>\n      <td>1.0</td>\n      <td>0.0</td>\n      <td>0.0</td>\n      <td>0.0</td>\n      <td>0.0</td>\n      <td>0.0</td>\n      <td>0.0</td>\n      <td>0.0</td>\n    </tr>\n    <tr>\n      <th>3</th>\n      <td>0</td>\n      <td>1.79</td>\n      <td>1</td>\n      <td>11</td>\n      <td>0.0</td>\n      <td>0.0</td>\n      <td>1.0</td>\n      <td>0.0</td>\n      <td>0.0</td>\n      <td>0.0</td>\n      <td>...</td>\n      <td>0.0</td>\n      <td>0.0</td>\n      <td>1.0</td>\n      <td>0.0</td>\n      <td>0.0</td>\n      <td>0.0</td>\n      <td>0.0</td>\n      <td>0.0</td>\n      <td>0.0</td>\n      <td>0.0</td>\n    </tr>\n    <tr>\n      <th>5</th>\n      <td>0</td>\n      <td>1.79</td>\n      <td>1</td>\n      <td>22</td>\n      <td>0.0</td>\n      <td>1.0</td>\n      <td>0.0</td>\n      <td>0.0</td>\n      <td>0.0</td>\n      <td>0.0</td>\n      <td>...</td>\n      <td>0.0</td>\n      <td>0.0</td>\n      <td>1.0</td>\n      <td>0.0</td>\n      <td>0.0</td>\n      <td>0.0</td>\n      <td>0.0</td>\n      <td>0.0</td>\n      <td>0.0</td>\n      <td>0.0</td>\n    </tr>\n    <tr>\n      <th>6</th>\n      <td>0</td>\n      <td>1.79</td>\n      <td>2</td>\n      <td>15</td>\n      <td>0.0</td>\n      <td>0.0</td>\n      <td>0.0</td>\n      <td>0.0</td>\n      <td>0.0</td>\n      <td>1.0</td>\n      <td>...</td>\n      <td>0.0</td>\n      <td>0.0</td>\n      <td>1.0</td>\n      <td>0.0</td>\n      <td>0.0</td>\n      <td>0.0</td>\n      <td>0.0</td>\n      <td>0.0</td>\n      <td>0.0</td>\n      <td>0.0</td>\n    </tr>\n    <tr>\n      <th>8</th>\n      <td>0</td>\n      <td>1.79</td>\n      <td>1</td>\n      <td>14</td>\n      <td>0.0</td>\n      <td>0.0</td>\n      <td>0.0</td>\n      <td>0.0</td>\n      <td>1.0</td>\n      <td>0.0</td>\n      <td>...</td>\n      <td>0.0</td>\n      <td>0.0</td>\n      <td>1.0</td>\n      <td>0.0</td>\n      <td>0.0</td>\n      <td>0.0</td>\n      <td>0.0</td>\n      <td>0.0</td>\n      <td>0.0</td>\n      <td>0.0</td>\n    </tr>\n    <tr>\n      <th>...</th>\n      <td>...</td>\n      <td>...</td>\n      <td>...</td>\n      <td>...</td>\n      <td>...</td>\n      <td>...</td>\n      <td>...</td>\n      <td>...</td>\n      <td>...</td>\n      <td>...</td>\n      <td>...</td>\n      <td>...</td>\n      <td>...</td>\n      <td>...</td>\n      <td>...</td>\n      <td>...</td>\n      <td>...</td>\n      <td>...</td>\n      <td>...</td>\n      <td>...</td>\n      <td>...</td>\n    </tr>\n    <tr>\n      <th>259</th>\n      <td>0</td>\n      <td>1.79</td>\n      <td>6</td>\n      <td>15</td>\n      <td>0.0</td>\n      <td>0.0</td>\n      <td>1.0</td>\n      <td>0.0</td>\n      <td>0.0</td>\n      <td>0.0</td>\n      <td>...</td>\n      <td>0.0</td>\n      <td>0.0</td>\n      <td>0.0</td>\n      <td>0.0</td>\n      <td>0.0</td>\n      <td>0.0</td>\n      <td>0.0</td>\n      <td>0.0</td>\n      <td>1.0</td>\n      <td>0.0</td>\n    </tr>\n    <tr>\n      <th>260</th>\n      <td>0</td>\n      <td>1.79</td>\n      <td>2</td>\n      <td>11</td>\n      <td>0.0</td>\n      <td>0.0</td>\n      <td>0.0</td>\n      <td>1.0</td>\n      <td>0.0</td>\n      <td>0.0</td>\n      <td>...</td>\n      <td>0.0</td>\n      <td>0.0</td>\n      <td>0.0</td>\n      <td>0.0</td>\n      <td>0.0</td>\n      <td>0.0</td>\n      <td>0.0</td>\n      <td>0.0</td>\n      <td>1.0</td>\n      <td>0.0</td>\n    </tr>\n    <tr>\n      <th>261</th>\n      <td>0</td>\n      <td>1.79</td>\n      <td>5</td>\n      <td>24</td>\n      <td>0.0</td>\n      <td>1.0</td>\n      <td>0.0</td>\n      <td>0.0</td>\n      <td>0.0</td>\n      <td>0.0</td>\n      <td>...</td>\n      <td>0.0</td>\n      <td>0.0</td>\n      <td>0.0</td>\n      <td>0.0</td>\n      <td>0.0</td>\n      <td>0.0</td>\n      <td>0.0</td>\n      <td>0.0</td>\n      <td>1.0</td>\n      <td>0.0</td>\n    </tr>\n    <tr>\n      <th>262</th>\n      <td>0</td>\n      <td>1.79</td>\n      <td>4</td>\n      <td>15</td>\n      <td>0.0</td>\n      <td>0.0</td>\n      <td>0.0</td>\n      <td>0.0</td>\n      <td>0.0</td>\n      <td>1.0</td>\n      <td>...</td>\n      <td>0.0</td>\n      <td>0.0</td>\n      <td>0.0</td>\n      <td>0.0</td>\n      <td>0.0</td>\n      <td>0.0</td>\n      <td>0.0</td>\n      <td>0.0</td>\n      <td>1.0</td>\n      <td>0.0</td>\n    </tr>\n    <tr>\n      <th>263</th>\n      <td>0</td>\n      <td>1.79</td>\n      <td>3</td>\n      <td>14</td>\n      <td>0.0</td>\n      <td>0.0</td>\n      <td>0.0</td>\n      <td>0.0</td>\n      <td>0.0</td>\n      <td>0.0</td>\n      <td>...</td>\n      <td>0.0</td>\n      <td>0.0</td>\n      <td>0.0</td>\n      <td>0.0</td>\n      <td>0.0</td>\n      <td>0.0</td>\n      <td>0.0</td>\n      <td>0.0</td>\n      <td>1.0</td>\n      <td>0.0</td>\n    </tr>\n  </tbody>\n</table>\n<p>232 rows × 23 columns</p>\n</div>"
     },
     "metadata": {},
     "execution_count": 7
    }
   ],
   "source": [
    "output_dct[\"train\"][0]"
   ]
  },
  {
   "cell_type": "code",
   "execution_count": 8,
   "metadata": {
    "tags": []
   },
   "outputs": [
    {
     "output_type": "stream",
     "name": "stdout",
     "text": [
      "Value error occurred\nValue error occurred\nValue error occurred\n"
     ]
    }
   ],
   "source": [
    "\n",
    "test = predicted_demand(waste_df_extended, ranges, model, output_dct, prepared_transactions)"
   ]
  },
  {
   "cell_type": "code",
   "execution_count": 9,
   "metadata": {},
   "outputs": [],
   "source": [
    "test['purchases'].iloc[0] = test[\"cumulative purchases\"].iloc[0]"
   ]
  },
  {
   "cell_type": "code",
   "execution_count": 10,
   "metadata": {},
   "outputs": [],
   "source": [
    "waste_df_extended[\"expected waste\"].fillna(0, inplace=True)"
   ]
  },
  {
   "cell_type": "code",
   "execution_count": 11,
   "metadata": {},
   "outputs": [
    {
     "output_type": "execute_result",
     "data": {
      "text/plain": [
       "                 amount    DOY  cumulative purchases  purchases  remaining  \\\n",
       "best before day                                                              \n",
       "14                   26   14.0                  42.0       42.0      -16.0   \n",
       "17                   26   17.0                  52.0       10.0       16.0   \n",
       "21                   26   21.0                  71.0       19.0        7.0   \n",
       "24                   26   24.0                  77.0        6.0       20.0   \n",
       "28                   26   28.0                  95.0       18.0        8.0   \n",
       "...                 ...    ...                   ...        ...        ...   \n",
       "350                  26  350.0                1268.0       11.0       15.0   \n",
       "353                  26  353.0                1278.0       10.0       16.0   \n",
       "357                  26  357.0                1290.0       12.0       14.0   \n",
       "360                  26  360.0                1296.0        6.0       20.0   \n",
       "364                  26  363.0                1304.0        8.0       18.0   \n",
       "\n",
       "                 waste  week  waste nn  predicted demand  demand_discounts  \\\n",
       "best before day                                                              \n",
       "14               -16.0     3       0.0                41                41   \n",
       "17                 0.0     3       0.0                15                15   \n",
       "21                 7.0     4       7.0                16                33   \n",
       "24                20.0     4      20.0                16                33   \n",
       "28                 8.0     5       8.0                16                33   \n",
       "...                ...   ...       ...               ...               ...   \n",
       "350               15.0    51      15.0                21                38   \n",
       "353               16.0    51      16.0                13                30   \n",
       "357               14.0    52      14.0                16                33   \n",
       "360               20.0    52      20.0                 8                25   \n",
       "364               18.0    52      18.0                10                27   \n",
       "\n",
       "                 avg_price  expected purchases  expected waste  \\\n",
       "best before day                                                  \n",
       "14                1.790000                 NaN             0.0   \n",
       "17                1.790000                20.0             0.0   \n",
       "21                1.491667                39.0             0.0   \n",
       "24                1.432000                12.0            14.0   \n",
       "28                1.271842                37.0             0.0   \n",
       "...                    ...                 ...             ...   \n",
       "350               1.541389                22.0             4.0   \n",
       "353               1.057727                20.0             6.0   \n",
       "357               1.193333                25.0             1.0   \n",
       "360               0.895000                12.0            14.0   \n",
       "364               0.895000                16.0            10.0   \n",
       "\n",
       "                 expected loss revenue  expected loss profit  \\\n",
       "best before day                                                \n",
       "14                            0.000000              0.000000   \n",
       "17                            0.000000              0.000000   \n",
       "21                            0.000000              0.000000   \n",
       "24                           20.048000             14.308000   \n",
       "28                            0.000000              0.000000   \n",
       "...                                ...                   ...   \n",
       "350                           6.165556              4.525556   \n",
       "353                           6.346364              3.886364   \n",
       "357                           1.193333              0.783333   \n",
       "360                          12.530000              6.790000   \n",
       "364                           8.950000              4.850000   \n",
       "\n",
       "                 expected waste cost  loss revenue  loss profit  waste cost  \n",
       "best before day                                                              \n",
       "14                              0.00      0.000000     0.000000        0.00  \n",
       "17                              0.00      0.000000     0.000000        0.00  \n",
       "21                              0.00     10.441667     7.571667        2.87  \n",
       "24                              5.74     28.640000    20.440000        8.20  \n",
       "28                              0.00     10.174737     6.894737        3.28  \n",
       "...                              ...           ...          ...         ...  \n",
       "350                             1.64     23.120833    16.970833        6.15  \n",
       "353                             2.46     16.923636    10.363636        6.56  \n",
       "357                             0.41     16.706667    10.966667        5.74  \n",
       "360                             5.74     17.900000     9.700000        8.20  \n",
       "364                             4.10     16.110000     8.730000        7.38  \n",
       "\n",
       "[101 rows x 19 columns]"
      ],
      "text/html": "<div>\n<style scoped>\n    .dataframe tbody tr th:only-of-type {\n        vertical-align: middle;\n    }\n\n    .dataframe tbody tr th {\n        vertical-align: top;\n    }\n\n    .dataframe thead th {\n        text-align: right;\n    }\n</style>\n<table border=\"1\" class=\"dataframe\">\n  <thead>\n    <tr style=\"text-align: right;\">\n      <th></th>\n      <th>amount</th>\n      <th>DOY</th>\n      <th>cumulative purchases</th>\n      <th>purchases</th>\n      <th>remaining</th>\n      <th>waste</th>\n      <th>week</th>\n      <th>waste nn</th>\n      <th>predicted demand</th>\n      <th>demand_discounts</th>\n      <th>avg_price</th>\n      <th>expected purchases</th>\n      <th>expected waste</th>\n      <th>expected loss revenue</th>\n      <th>expected loss profit</th>\n      <th>expected waste cost</th>\n      <th>loss revenue</th>\n      <th>loss profit</th>\n      <th>waste cost</th>\n    </tr>\n    <tr>\n      <th>best before day</th>\n      <th></th>\n      <th></th>\n      <th></th>\n      <th></th>\n      <th></th>\n      <th></th>\n      <th></th>\n      <th></th>\n      <th></th>\n      <th></th>\n      <th></th>\n      <th></th>\n      <th></th>\n      <th></th>\n      <th></th>\n      <th></th>\n      <th></th>\n      <th></th>\n      <th></th>\n    </tr>\n  </thead>\n  <tbody>\n    <tr>\n      <th>14</th>\n      <td>26</td>\n      <td>14.0</td>\n      <td>42.0</td>\n      <td>42.0</td>\n      <td>-16.0</td>\n      <td>-16.0</td>\n      <td>3</td>\n      <td>0.0</td>\n      <td>41</td>\n      <td>41</td>\n      <td>1.790000</td>\n      <td>NaN</td>\n      <td>0.0</td>\n      <td>0.000000</td>\n      <td>0.000000</td>\n      <td>0.00</td>\n      <td>0.000000</td>\n      <td>0.000000</td>\n      <td>0.00</td>\n    </tr>\n    <tr>\n      <th>17</th>\n      <td>26</td>\n      <td>17.0</td>\n      <td>52.0</td>\n      <td>10.0</td>\n      <td>16.0</td>\n      <td>0.0</td>\n      <td>3</td>\n      <td>0.0</td>\n      <td>15</td>\n      <td>15</td>\n      <td>1.790000</td>\n      <td>20.0</td>\n      <td>0.0</td>\n      <td>0.000000</td>\n      <td>0.000000</td>\n      <td>0.00</td>\n      <td>0.000000</td>\n      <td>0.000000</td>\n      <td>0.00</td>\n    </tr>\n    <tr>\n      <th>21</th>\n      <td>26</td>\n      <td>21.0</td>\n      <td>71.0</td>\n      <td>19.0</td>\n      <td>7.0</td>\n      <td>7.0</td>\n      <td>4</td>\n      <td>7.0</td>\n      <td>16</td>\n      <td>33</td>\n      <td>1.491667</td>\n      <td>39.0</td>\n      <td>0.0</td>\n      <td>0.000000</td>\n      <td>0.000000</td>\n      <td>0.00</td>\n      <td>10.441667</td>\n      <td>7.571667</td>\n      <td>2.87</td>\n    </tr>\n    <tr>\n      <th>24</th>\n      <td>26</td>\n      <td>24.0</td>\n      <td>77.0</td>\n      <td>6.0</td>\n      <td>20.0</td>\n      <td>20.0</td>\n      <td>4</td>\n      <td>20.0</td>\n      <td>16</td>\n      <td>33</td>\n      <td>1.432000</td>\n      <td>12.0</td>\n      <td>14.0</td>\n      <td>20.048000</td>\n      <td>14.308000</td>\n      <td>5.74</td>\n      <td>28.640000</td>\n      <td>20.440000</td>\n      <td>8.20</td>\n    </tr>\n    <tr>\n      <th>28</th>\n      <td>26</td>\n      <td>28.0</td>\n      <td>95.0</td>\n      <td>18.0</td>\n      <td>8.0</td>\n      <td>8.0</td>\n      <td>5</td>\n      <td>8.0</td>\n      <td>16</td>\n      <td>33</td>\n      <td>1.271842</td>\n      <td>37.0</td>\n      <td>0.0</td>\n      <td>0.000000</td>\n      <td>0.000000</td>\n      <td>0.00</td>\n      <td>10.174737</td>\n      <td>6.894737</td>\n      <td>3.28</td>\n    </tr>\n    <tr>\n      <th>...</th>\n      <td>...</td>\n      <td>...</td>\n      <td>...</td>\n      <td>...</td>\n      <td>...</td>\n      <td>...</td>\n      <td>...</td>\n      <td>...</td>\n      <td>...</td>\n      <td>...</td>\n      <td>...</td>\n      <td>...</td>\n      <td>...</td>\n      <td>...</td>\n      <td>...</td>\n      <td>...</td>\n      <td>...</td>\n      <td>...</td>\n      <td>...</td>\n    </tr>\n    <tr>\n      <th>350</th>\n      <td>26</td>\n      <td>350.0</td>\n      <td>1268.0</td>\n      <td>11.0</td>\n      <td>15.0</td>\n      <td>15.0</td>\n      <td>51</td>\n      <td>15.0</td>\n      <td>21</td>\n      <td>38</td>\n      <td>1.541389</td>\n      <td>22.0</td>\n      <td>4.0</td>\n      <td>6.165556</td>\n      <td>4.525556</td>\n      <td>1.64</td>\n      <td>23.120833</td>\n      <td>16.970833</td>\n      <td>6.15</td>\n    </tr>\n    <tr>\n      <th>353</th>\n      <td>26</td>\n      <td>353.0</td>\n      <td>1278.0</td>\n      <td>10.0</td>\n      <td>16.0</td>\n      <td>16.0</td>\n      <td>51</td>\n      <td>16.0</td>\n      <td>13</td>\n      <td>30</td>\n      <td>1.057727</td>\n      <td>20.0</td>\n      <td>6.0</td>\n      <td>6.346364</td>\n      <td>3.886364</td>\n      <td>2.46</td>\n      <td>16.923636</td>\n      <td>10.363636</td>\n      <td>6.56</td>\n    </tr>\n    <tr>\n      <th>357</th>\n      <td>26</td>\n      <td>357.0</td>\n      <td>1290.0</td>\n      <td>12.0</td>\n      <td>14.0</td>\n      <td>14.0</td>\n      <td>52</td>\n      <td>14.0</td>\n      <td>16</td>\n      <td>33</td>\n      <td>1.193333</td>\n      <td>25.0</td>\n      <td>1.0</td>\n      <td>1.193333</td>\n      <td>0.783333</td>\n      <td>0.41</td>\n      <td>16.706667</td>\n      <td>10.966667</td>\n      <td>5.74</td>\n    </tr>\n    <tr>\n      <th>360</th>\n      <td>26</td>\n      <td>360.0</td>\n      <td>1296.0</td>\n      <td>6.0</td>\n      <td>20.0</td>\n      <td>20.0</td>\n      <td>52</td>\n      <td>20.0</td>\n      <td>8</td>\n      <td>25</td>\n      <td>0.895000</td>\n      <td>12.0</td>\n      <td>14.0</td>\n      <td>12.530000</td>\n      <td>6.790000</td>\n      <td>5.74</td>\n      <td>17.900000</td>\n      <td>9.700000</td>\n      <td>8.20</td>\n    </tr>\n    <tr>\n      <th>364</th>\n      <td>26</td>\n      <td>363.0</td>\n      <td>1304.0</td>\n      <td>8.0</td>\n      <td>18.0</td>\n      <td>18.0</td>\n      <td>52</td>\n      <td>18.0</td>\n      <td>10</td>\n      <td>27</td>\n      <td>0.895000</td>\n      <td>16.0</td>\n      <td>10.0</td>\n      <td>8.950000</td>\n      <td>4.850000</td>\n      <td>4.10</td>\n      <td>16.110000</td>\n      <td>8.730000</td>\n      <td>7.38</td>\n    </tr>\n  </tbody>\n</table>\n<p>101 rows × 19 columns</p>\n</div>"
     },
     "metadata": {},
     "execution_count": 11
    }
   ],
   "source": [
    "purchase_price = products[products[\"description\"] == product][\"purchase_price\"].values\n",
    "waste_df_extended.fillna({\"expected waste\":0}, inplace=True)\n",
    "waste_df_extended[\"expected loss revenue\"] = waste_df_extended[\"expected waste\"]*waste_df_extended[\"avg_price\"]\n",
    "waste_df_extended[\"expected loss profit\"] = waste_df_extended[\"expected waste\"]*(waste_df_extended[\"avg_price\"]-purchase_price)\n",
    "waste_df_extended[\"expected waste cost\"] = waste_df_extended[\"expected waste\"]*purchase_price\n",
    "\n",
    "waste_df_extended[\"loss revenue\"] = waste_df_extended[\"waste nn\"]*waste_df_extended[\"avg_price\"]\n",
    "waste_df_extended[\"loss profit\"] = waste_df_extended[\"waste nn\"]*(waste_df_extended[\"avg_price\"]-purchase_price)\n",
    "waste_df_extended[\"waste cost\"] = waste_df_extended[\"waste nn\"]*purchase_price\n",
    "waste_df_extended"
   ]
  },
  {
   "cell_type": "code",
   "execution_count": 12,
   "metadata": {},
   "outputs": [
    {
     "output_type": "display_data",
     "data": {
      "application/vnd.plotly.v1+json": {
       "config": {
        "plotlyServerURL": "https://plot.ly"
       },
       "data": [
        {
         "hovertemplate": "DOY=%{x}<br>expected loss revenue=%{y}<extra></extra>",
         "legendgroup": "",
         "line": {
          "color": "#636efa",
          "dash": "solid"
         },
         "mode": "lines",
         "name": "",
         "orientation": "v",
         "showlegend": false,
         "type": "scatter",
         "x": [
          14,
          17,
          21,
          24,
          28,
          31,
          35,
          38,
          42,
          43,
          49,
          52,
          56,
          59,
          63,
          66,
          70,
          73,
          77,
          80,
          84,
          87,
          91,
          94,
          98,
          100,
          104,
          108,
          112,
          115,
          119,
          122,
          126,
          129,
          133,
          136,
          140,
          143,
          146,
          150,
          154,
          157,
          161,
          164,
          168,
          171,
          175,
          178,
          182,
          185,
          189,
          192,
          196,
          199,
          203,
          206,
          210,
          213,
          217,
          220,
          224,
          227,
          231,
          234,
          238,
          241,
          245,
          248,
          252,
          255,
          259,
          262,
          266,
          269,
          273,
          276,
          280,
          283,
          287,
          290,
          294,
          296,
          301,
          304,
          308,
          311,
          315,
          318,
          322,
          325,
          329,
          332,
          334,
          339,
          343,
          346,
          350,
          353,
          357,
          360,
          363
         ],
         "xaxis": "x",
         "y": [
          0,
          0,
          0,
          20.048000000000002,
          0,
          8.950000000000001,
          0,
          0,
          0,
          6.599133333333333,
          9.3975,
          1.3638095238095238,
          0,
          9.913846153846153,
          0,
          5.264705882352941,
          0,
          0,
          0,
          12.214117647058824,
          8.055,
          0,
          0,
          1.2785714285714285,
          0,
          13.425,
          4.556363636363636,
          3.5800000000000005,
          0,
          0,
          0,
          8.726249999999999,
          0,
          17.228749999999998,
          0,
          9.913846153846153,
          0,
          12.53,
          1.11875,
          5.369999999999999,
          0,
          18.795,
          14.320000000000004,
          18.098888888888894,
          11.065454545454543,
          3.5799999999999996,
          0,
          14.32,
          0,
          7.287857142857142,
          5.114285714285714,
          11.251428571428573,
          9.763636363636365,
          17.228749999999998,
          0,
          21.204615384615387,
          7.322727272727271,
          10.74,
          0,
          5.264705882352941,
          0,
          15.214999999999996,
          0,
          0,
          0,
          21.479999999999997,
          0,
          7.719374999999998,
          0,
          1.1746874999999997,
          8.84470588235294,
          15.662500000000001,
          8.592,
          1.2679166666666664,
          0,
          1.2146428571428571,
          5.264705882352941,
          12.204545454545455,
          8.95,
          13.424999999999999,
          0,
          12.53,
          5.369999999999999,
          10.74,
          5.37,
          0,
          0,
          19.093333333333334,
          0,
          18.411428571428573,
          1.2146428571428571,
          14.319999999999997,
          18.225454545454546,
          14.32,
          0,
          0,
          6.165555555555555,
          6.3463636363636375,
          1.1933333333333334,
          12.53,
          8.95
         ],
         "yaxis": "y"
        },
        {
         "mode": "lines",
         "type": "scatter",
         "x": [
          14,
          17,
          21,
          24,
          28,
          31,
          35,
          38,
          42,
          43,
          49,
          52,
          56,
          59,
          63,
          66,
          70,
          73,
          77,
          80,
          84,
          87,
          91,
          94,
          98,
          100,
          104,
          108,
          112,
          115,
          119,
          122,
          126,
          129,
          133,
          136,
          140,
          143,
          146,
          150,
          154,
          157,
          161,
          164,
          168,
          171,
          175,
          178,
          182,
          185,
          189,
          192,
          196,
          199,
          203,
          206,
          210,
          213,
          217,
          220,
          224,
          227,
          231,
          234,
          238,
          241,
          245,
          248,
          252,
          255,
          259,
          262,
          266,
          269,
          273,
          276,
          280,
          283,
          287,
          290,
          294,
          296,
          301,
          304,
          308,
          311,
          315,
          318,
          322,
          325,
          329,
          332,
          334,
          339,
          343,
          346,
          350,
          353,
          357,
          360,
          363
         ],
         "y": [
          0,
          0,
          10.441666666666666,
          28.640000000000004,
          10.174736842105263,
          16.110000000000003,
          9.22048888888889,
          0,
          0,
          10.370066666666665,
          29.535,
          25.912380952380953,
          9.522799999999997,
          21.066923076923075,
          0,
          18.426470588235293,
          4.276111111111111,
          19.391666666666666,
          2.8128571428571427,
          25.955000000000002,
          21.479999999999997,
          10.471500000000002,
          16.557499999999997,
          17.9,
          6.7125,
          24.165,
          17.086363636363632,
          13.425000000000002,
          13.854600000000001,
          9.205714285714285,
          8.822142857142856,
          23.269999999999996,
          14.09625,
          24.612499999999997,
          14.47794117647059,
          21.066923076923075,
          14.645454545454546,
          17.9,
          15.662499999999998,
          14.319999999999997,
          8.787272727272725,
          26.85,
          22.67333333333334,
          25.85555555555556,
          23.514090909090903,
          13.424999999999999,
          9.950294117647058,
          18.795,
          11.137777777777778,
          19.43428571428571,
          19.178571428571427,
          23.909285714285716,
          20.747727272727275,
          24.612499999999997,
          13.808571428571426,
          30.292307692307695,
          19.527272727272724,
          19.332,
          10.382,
          19.74264705882353,
          0,
          18.794999999999995,
          0,
          14.767500000000002,
          7.938260869565216,
          28.192499999999995,
          12.485249999999999,
          20.584999999999994,
          11.890714285714285,
          16.445624999999996,
          23.585882352941173,
          22.375000000000004,
          18.258000000000003,
          17.75083333333333,
          15.035999999999996,
          17.005,
          19.74264705882353,
          21.96818181818182,
          16.11,
          21.256249999999998,
          10.35086956521739,
          17.9,
          20.137499999999996,
          19.332,
          20.1375,
          12.785714285714285,
          1.500441176470588,
          25.060000000000002,
          10.881315789473684,
          24.165000000000003,
          17.005,
          18.794999999999995,
          26.036363636363635,
          18.795,
          14.73766666666667,
          13.604,
          23.12083333333333,
          16.923636363636366,
          16.706666666666667,
          17.9,
          16.11
         ]
        }
       ],
       "layout": {
        "legend": {
         "tracegroupgap": 0
        },
        "margin": {
         "t": 60
        },
        "template": {
         "data": {
          "bar": [
           {
            "error_x": {
             "color": "#2a3f5f"
            },
            "error_y": {
             "color": "#2a3f5f"
            },
            "marker": {
             "line": {
              "color": "#E5ECF6",
              "width": 0.5
             }
            },
            "type": "bar"
           }
          ],
          "barpolar": [
           {
            "marker": {
             "line": {
              "color": "#E5ECF6",
              "width": 0.5
             }
            },
            "type": "barpolar"
           }
          ],
          "carpet": [
           {
            "aaxis": {
             "endlinecolor": "#2a3f5f",
             "gridcolor": "white",
             "linecolor": "white",
             "minorgridcolor": "white",
             "startlinecolor": "#2a3f5f"
            },
            "baxis": {
             "endlinecolor": "#2a3f5f",
             "gridcolor": "white",
             "linecolor": "white",
             "minorgridcolor": "white",
             "startlinecolor": "#2a3f5f"
            },
            "type": "carpet"
           }
          ],
          "choropleth": [
           {
            "colorbar": {
             "outlinewidth": 0,
             "ticks": ""
            },
            "type": "choropleth"
           }
          ],
          "contour": [
           {
            "colorbar": {
             "outlinewidth": 0,
             "ticks": ""
            },
            "colorscale": [
             [
              0,
              "#0d0887"
             ],
             [
              0.1111111111111111,
              "#46039f"
             ],
             [
              0.2222222222222222,
              "#7201a8"
             ],
             [
              0.3333333333333333,
              "#9c179e"
             ],
             [
              0.4444444444444444,
              "#bd3786"
             ],
             [
              0.5555555555555556,
              "#d8576b"
             ],
             [
              0.6666666666666666,
              "#ed7953"
             ],
             [
              0.7777777777777778,
              "#fb9f3a"
             ],
             [
              0.8888888888888888,
              "#fdca26"
             ],
             [
              1,
              "#f0f921"
             ]
            ],
            "type": "contour"
           }
          ],
          "contourcarpet": [
           {
            "colorbar": {
             "outlinewidth": 0,
             "ticks": ""
            },
            "type": "contourcarpet"
           }
          ],
          "heatmap": [
           {
            "colorbar": {
             "outlinewidth": 0,
             "ticks": ""
            },
            "colorscale": [
             [
              0,
              "#0d0887"
             ],
             [
              0.1111111111111111,
              "#46039f"
             ],
             [
              0.2222222222222222,
              "#7201a8"
             ],
             [
              0.3333333333333333,
              "#9c179e"
             ],
             [
              0.4444444444444444,
              "#bd3786"
             ],
             [
              0.5555555555555556,
              "#d8576b"
             ],
             [
              0.6666666666666666,
              "#ed7953"
             ],
             [
              0.7777777777777778,
              "#fb9f3a"
             ],
             [
              0.8888888888888888,
              "#fdca26"
             ],
             [
              1,
              "#f0f921"
             ]
            ],
            "type": "heatmap"
           }
          ],
          "heatmapgl": [
           {
            "colorbar": {
             "outlinewidth": 0,
             "ticks": ""
            },
            "colorscale": [
             [
              0,
              "#0d0887"
             ],
             [
              0.1111111111111111,
              "#46039f"
             ],
             [
              0.2222222222222222,
              "#7201a8"
             ],
             [
              0.3333333333333333,
              "#9c179e"
             ],
             [
              0.4444444444444444,
              "#bd3786"
             ],
             [
              0.5555555555555556,
              "#d8576b"
             ],
             [
              0.6666666666666666,
              "#ed7953"
             ],
             [
              0.7777777777777778,
              "#fb9f3a"
             ],
             [
              0.8888888888888888,
              "#fdca26"
             ],
             [
              1,
              "#f0f921"
             ]
            ],
            "type": "heatmapgl"
           }
          ],
          "histogram": [
           {
            "marker": {
             "colorbar": {
              "outlinewidth": 0,
              "ticks": ""
             }
            },
            "type": "histogram"
           }
          ],
          "histogram2d": [
           {
            "colorbar": {
             "outlinewidth": 0,
             "ticks": ""
            },
            "colorscale": [
             [
              0,
              "#0d0887"
             ],
             [
              0.1111111111111111,
              "#46039f"
             ],
             [
              0.2222222222222222,
              "#7201a8"
             ],
             [
              0.3333333333333333,
              "#9c179e"
             ],
             [
              0.4444444444444444,
              "#bd3786"
             ],
             [
              0.5555555555555556,
              "#d8576b"
             ],
             [
              0.6666666666666666,
              "#ed7953"
             ],
             [
              0.7777777777777778,
              "#fb9f3a"
             ],
             [
              0.8888888888888888,
              "#fdca26"
             ],
             [
              1,
              "#f0f921"
             ]
            ],
            "type": "histogram2d"
           }
          ],
          "histogram2dcontour": [
           {
            "colorbar": {
             "outlinewidth": 0,
             "ticks": ""
            },
            "colorscale": [
             [
              0,
              "#0d0887"
             ],
             [
              0.1111111111111111,
              "#46039f"
             ],
             [
              0.2222222222222222,
              "#7201a8"
             ],
             [
              0.3333333333333333,
              "#9c179e"
             ],
             [
              0.4444444444444444,
              "#bd3786"
             ],
             [
              0.5555555555555556,
              "#d8576b"
             ],
             [
              0.6666666666666666,
              "#ed7953"
             ],
             [
              0.7777777777777778,
              "#fb9f3a"
             ],
             [
              0.8888888888888888,
              "#fdca26"
             ],
             [
              1,
              "#f0f921"
             ]
            ],
            "type": "histogram2dcontour"
           }
          ],
          "mesh3d": [
           {
            "colorbar": {
             "outlinewidth": 0,
             "ticks": ""
            },
            "type": "mesh3d"
           }
          ],
          "parcoords": [
           {
            "line": {
             "colorbar": {
              "outlinewidth": 0,
              "ticks": ""
             }
            },
            "type": "parcoords"
           }
          ],
          "pie": [
           {
            "automargin": true,
            "type": "pie"
           }
          ],
          "scatter": [
           {
            "marker": {
             "colorbar": {
              "outlinewidth": 0,
              "ticks": ""
             }
            },
            "type": "scatter"
           }
          ],
          "scatter3d": [
           {
            "line": {
             "colorbar": {
              "outlinewidth": 0,
              "ticks": ""
             }
            },
            "marker": {
             "colorbar": {
              "outlinewidth": 0,
              "ticks": ""
             }
            },
            "type": "scatter3d"
           }
          ],
          "scattercarpet": [
           {
            "marker": {
             "colorbar": {
              "outlinewidth": 0,
              "ticks": ""
             }
            },
            "type": "scattercarpet"
           }
          ],
          "scattergeo": [
           {
            "marker": {
             "colorbar": {
              "outlinewidth": 0,
              "ticks": ""
             }
            },
            "type": "scattergeo"
           }
          ],
          "scattergl": [
           {
            "marker": {
             "colorbar": {
              "outlinewidth": 0,
              "ticks": ""
             }
            },
            "type": "scattergl"
           }
          ],
          "scattermapbox": [
           {
            "marker": {
             "colorbar": {
              "outlinewidth": 0,
              "ticks": ""
             }
            },
            "type": "scattermapbox"
           }
          ],
          "scatterpolar": [
           {
            "marker": {
             "colorbar": {
              "outlinewidth": 0,
              "ticks": ""
             }
            },
            "type": "scatterpolar"
           }
          ],
          "scatterpolargl": [
           {
            "marker": {
             "colorbar": {
              "outlinewidth": 0,
              "ticks": ""
             }
            },
            "type": "scatterpolargl"
           }
          ],
          "scatterternary": [
           {
            "marker": {
             "colorbar": {
              "outlinewidth": 0,
              "ticks": ""
             }
            },
            "type": "scatterternary"
           }
          ],
          "surface": [
           {
            "colorbar": {
             "outlinewidth": 0,
             "ticks": ""
            },
            "colorscale": [
             [
              0,
              "#0d0887"
             ],
             [
              0.1111111111111111,
              "#46039f"
             ],
             [
              0.2222222222222222,
              "#7201a8"
             ],
             [
              0.3333333333333333,
              "#9c179e"
             ],
             [
              0.4444444444444444,
              "#bd3786"
             ],
             [
              0.5555555555555556,
              "#d8576b"
             ],
             [
              0.6666666666666666,
              "#ed7953"
             ],
             [
              0.7777777777777778,
              "#fb9f3a"
             ],
             [
              0.8888888888888888,
              "#fdca26"
             ],
             [
              1,
              "#f0f921"
             ]
            ],
            "type": "surface"
           }
          ],
          "table": [
           {
            "cells": {
             "fill": {
              "color": "#EBF0F8"
             },
             "line": {
              "color": "white"
             }
            },
            "header": {
             "fill": {
              "color": "#C8D4E3"
             },
             "line": {
              "color": "white"
             }
            },
            "type": "table"
           }
          ]
         },
         "layout": {
          "annotationdefaults": {
           "arrowcolor": "#2a3f5f",
           "arrowhead": 0,
           "arrowwidth": 1
          },
          "coloraxis": {
           "colorbar": {
            "outlinewidth": 0,
            "ticks": ""
           }
          },
          "colorscale": {
           "diverging": [
            [
             0,
             "#8e0152"
            ],
            [
             0.1,
             "#c51b7d"
            ],
            [
             0.2,
             "#de77ae"
            ],
            [
             0.3,
             "#f1b6da"
            ],
            [
             0.4,
             "#fde0ef"
            ],
            [
             0.5,
             "#f7f7f7"
            ],
            [
             0.6,
             "#e6f5d0"
            ],
            [
             0.7,
             "#b8e186"
            ],
            [
             0.8,
             "#7fbc41"
            ],
            [
             0.9,
             "#4d9221"
            ],
            [
             1,
             "#276419"
            ]
           ],
           "sequential": [
            [
             0,
             "#0d0887"
            ],
            [
             0.1111111111111111,
             "#46039f"
            ],
            [
             0.2222222222222222,
             "#7201a8"
            ],
            [
             0.3333333333333333,
             "#9c179e"
            ],
            [
             0.4444444444444444,
             "#bd3786"
            ],
            [
             0.5555555555555556,
             "#d8576b"
            ],
            [
             0.6666666666666666,
             "#ed7953"
            ],
            [
             0.7777777777777778,
             "#fb9f3a"
            ],
            [
             0.8888888888888888,
             "#fdca26"
            ],
            [
             1,
             "#f0f921"
            ]
           ],
           "sequentialminus": [
            [
             0,
             "#0d0887"
            ],
            [
             0.1111111111111111,
             "#46039f"
            ],
            [
             0.2222222222222222,
             "#7201a8"
            ],
            [
             0.3333333333333333,
             "#9c179e"
            ],
            [
             0.4444444444444444,
             "#bd3786"
            ],
            [
             0.5555555555555556,
             "#d8576b"
            ],
            [
             0.6666666666666666,
             "#ed7953"
            ],
            [
             0.7777777777777778,
             "#fb9f3a"
            ],
            [
             0.8888888888888888,
             "#fdca26"
            ],
            [
             1,
             "#f0f921"
            ]
           ]
          },
          "colorway": [
           "#636efa",
           "#EF553B",
           "#00cc96",
           "#ab63fa",
           "#FFA15A",
           "#19d3f3",
           "#FF6692",
           "#B6E880",
           "#FF97FF",
           "#FECB52"
          ],
          "font": {
           "color": "#2a3f5f"
          },
          "geo": {
           "bgcolor": "white",
           "lakecolor": "white",
           "landcolor": "#E5ECF6",
           "showlakes": true,
           "showland": true,
           "subunitcolor": "white"
          },
          "hoverlabel": {
           "align": "left"
          },
          "hovermode": "closest",
          "mapbox": {
           "style": "light"
          },
          "paper_bgcolor": "white",
          "plot_bgcolor": "#E5ECF6",
          "polar": {
           "angularaxis": {
            "gridcolor": "white",
            "linecolor": "white",
            "ticks": ""
           },
           "bgcolor": "#E5ECF6",
           "radialaxis": {
            "gridcolor": "white",
            "linecolor": "white",
            "ticks": ""
           }
          },
          "scene": {
           "xaxis": {
            "backgroundcolor": "#E5ECF6",
            "gridcolor": "white",
            "gridwidth": 2,
            "linecolor": "white",
            "showbackground": true,
            "ticks": "",
            "zerolinecolor": "white"
           },
           "yaxis": {
            "backgroundcolor": "#E5ECF6",
            "gridcolor": "white",
            "gridwidth": 2,
            "linecolor": "white",
            "showbackground": true,
            "ticks": "",
            "zerolinecolor": "white"
           },
           "zaxis": {
            "backgroundcolor": "#E5ECF6",
            "gridcolor": "white",
            "gridwidth": 2,
            "linecolor": "white",
            "showbackground": true,
            "ticks": "",
            "zerolinecolor": "white"
           }
          },
          "shapedefaults": {
           "line": {
            "color": "#2a3f5f"
           }
          },
          "ternary": {
           "aaxis": {
            "gridcolor": "white",
            "linecolor": "white",
            "ticks": ""
           },
           "baxis": {
            "gridcolor": "white",
            "linecolor": "white",
            "ticks": ""
           },
           "bgcolor": "#E5ECF6",
           "caxis": {
            "gridcolor": "white",
            "linecolor": "white",
            "ticks": ""
           }
          },
          "title": {
           "x": 0.05
          },
          "xaxis": {
           "automargin": true,
           "gridcolor": "white",
           "linecolor": "white",
           "ticks": "",
           "title": {
            "standoff": 15
           },
           "zerolinecolor": "white",
           "zerolinewidth": 2
          },
          "yaxis": {
           "automargin": true,
           "gridcolor": "white",
           "linecolor": "white",
           "ticks": "",
           "title": {
            "standoff": 15
           },
           "zerolinecolor": "white",
           "zerolinewidth": 2
          }
         }
        },
        "xaxis": {
         "anchor": "y",
         "domain": [
          0,
          1
         ],
         "title": {
          "text": "DOY"
         }
        },
        "yaxis": {
         "anchor": "x",
         "domain": [
          0,
          1
         ],
         "title": {
          "text": "expected loss revenue"
         }
        }
       }
      }
     },
     "metadata": {}
    }
   ],
   "source": [
    "import plotly.express as px\n",
    "\n",
    "fig = px.line(waste_df_extended, x=\"DOY\", y=\"expected loss revenue\")\n",
    "fig.add_scatter(x=waste_df_extended[\"DOY\"], y=waste_df_extended[\"loss revenue\"], mode=\"lines\")\n",
    "fig.show()"
   ]
  },
  {
   "cell_type": "code",
   "execution_count": 11,
   "metadata": {},
   "outputs": [
    {
     "output_type": "execute_result",
     "data": {
      "text/plain": [
       "1418.0"
      ]
     },
     "metadata": {},
     "execution_count": 11
    }
   ],
   "source": [
    "actual_purchases = test['purchases'].sum()\n",
    "actual_purchases "
   ]
  },
  {
   "cell_type": "code",
   "execution_count": 12,
   "metadata": {},
   "outputs": [],
   "source": [
    "pred_demand_discounts = test[\"demand_discounts\"].sum()"
   ]
  },
  {
   "cell_type": "code",
   "execution_count": 13,
   "metadata": {},
   "outputs": [
    {
     "output_type": "execute_result",
     "data": {
      "text/plain": [
       "1806.9149483893552"
      ]
     },
     "metadata": {},
     "execution_count": 13
    }
   ],
   "source": [
    "pred_demand = test[\"predicted demand\"].sum()\n",
    "pred_demand"
   ]
  },
  {
   "cell_type": "code",
   "execution_count": 14,
   "metadata": {},
   "outputs": [
    {
     "output_type": "execute_result",
     "data": {
      "text/plain": [
       "1734.6240243785185"
      ]
     },
     "metadata": {},
     "execution_count": 14
    }
   ],
   "source": [
    "(pred_demand_discounts/pred_demand)*actual_purchases"
   ]
  }
 ]
}