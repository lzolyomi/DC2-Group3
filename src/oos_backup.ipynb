{
 "cells": [
  {
   "cell_type": "code",
   "execution_count": 6,
   "metadata": {},
   "outputs": [],
   "source": [
    "import pandas as pd\n",
    "import numpy as np \n",
    "import datetime\n",
    "inventory = pd.read_csv(\"data/inventory.csv\")\n",
    "products = pd.read_csv(\"data/products.csv\")\n",
    "promotions = pd.read_csv(\"data/promotions.csv\")\n",
    "transactions = pd.read_csv(\"data/transactions.csv\")\n",
    "\n",
    "#create a reference dataframe\n",
    "dayofyear = list(range(365))\n",
    "date = [datetime.datetime(2018, 1, 1) + datetime.timedelta(day) for day in dayofyear]\n",
    "df_date = pd.DataFrame({\"day\":dayofyear, \"date\":date})\n",
    "\n",
    "import ast\n",
    "for colname in inventory.columns[2:]:\n",
    "    inventory[colname] = [ast.literal_eval(i) for i in inventory[colname]]\n",
    "    #converting inventory rows to list of tuples from string\n",
    "inventory['last_delivery'] = inventory['day'].shift(periods = 1)"
   ]
  },
  {
   "cell_type": "code",
   "execution_count": 31,
   "metadata": {},
   "outputs": [
    {
     "output_type": "execute_result",
     "data": {
      "text/plain": [
       "     day before or after delivery  \\\n",
       "198  346                   before   \n",
       "199  346                    after   \n",
       "\n",
       "                                        Komkommer  \\\n",
       "198             [(350, 29), (353, 36), (357, 36)]   \n",
       "199  [(350, 29), (353, 36), (357, 36), (360, 36)]   \n",
       "\n",
       "                                        Courgette  \\\n",
       "198             [(350, 33), (353, 36), (357, 36)]   \n",
       "199  [(350, 33), (353, 36), (357, 36), (360, 36)]   \n",
       "\n",
       "                            SnoepVegetable tomaat  \\\n",
       "198             [(350, 31), (353, 37), (357, 37)]   \n",
       "199  [(350, 31), (353, 37), (357, 37), (360, 37)]   \n",
       "\n",
       "                                      Paprika Mix  \\\n",
       "198             [(350, 25), (353, 33), (357, 33)]   \n",
       "199  [(350, 25), (353, 33), (357, 33), (360, 33)]   \n",
       "\n",
       "                                          Paprika  Geschrapte worteltjes  \\\n",
       "198             [(350, 28), (353, 34), (357, 34)]             [(357, 5)]   \n",
       "199  [(350, 28), (353, 34), (357, 34), (360, 34)]  [(357, 5), (360, 21)]   \n",
       "\n",
       "                               Basis Sperziebonen  \\\n",
       "198             [(350, 28), (353, 31), (357, 31)]   \n",
       "199  [(350, 28), (353, 31), (357, 31), (360, 31)]   \n",
       "\n",
       "             Basis Rode kool met appel  ...        Chinois brioche  \\\n",
       "198             [(353, 28), (357, 35)]  ...             [(348, 5)]   \n",
       "199  [(353, 28), (357, 35), (360, 35)]  ...  [(348, 5), (351, 20)]   \n",
       "\n",
       "                                Vanille muffins (vers)  \\\n",
       "198  [(397, 3), (401, 155), (404, 155), (408, 130),...   \n",
       "199  [(397, 3), (401, 155), (404, 155), (408, 130),...   \n",
       "\n",
       "                          Basic chocolate chip cookies  \\\n",
       "198  [(380, 34), (383, 45), (387, 45), (390, 45), (...   \n",
       "199  [(380, 34), (383, 45), (387, 45), (390, 45), (...   \n",
       "\n",
       "                                                  Oreo  \\\n",
       "198  [(376, 96), (380, 131), (383, 131), (387, 157)...   \n",
       "199  [(376, 96), (380, 131), (383, 131), (387, 157)...   \n",
       "\n",
       "                                      Bakkersspeculaas  \\\n",
       "198  [(394, 27), (397, 45), (401, 62), (404, 62), (...   \n",
       "199  [(394, 27), (397, 45), (401, 62), (404, 62), (...   \n",
       "\n",
       "                                            Eierkoeken  \\\n",
       "198  [(397, 45), (401, 125), (404, 125), (408, 125)...   \n",
       "199  [(397, 45), (401, 125), (404, 125), (408, 125)...   \n",
       "\n",
       "                                   Ribbelchips naturel  \\\n",
       "198  [(380, 42), (383, 45), (387, 45), (390, 45), (...   \n",
       "199  [(380, 42), (383, 45), (387, 45), (390, 45), (...   \n",
       "\n",
       "                                   Ribbelchips paprika  \\\n",
       "198  [(390, 43), (394, 44), (397, 44), (401, 44), (...   \n",
       "199  [(390, 43), (394, 44), (397, 44), (401, 44), (...   \n",
       "\n",
       "                                   Doritos sweet chili last_delivery  \n",
       "198  [(390, 34), (394, 77), (397, 77), (401, 128), ...         343.0  \n",
       "199  [(390, 34), (394, 77), (397, 77), (401, 128), ...         346.0  \n",
       "\n",
       "[2 rows x 158 columns]"
      ],
      "text/html": "<div>\n<style scoped>\n    .dataframe tbody tr th:only-of-type {\n        vertical-align: middle;\n    }\n\n    .dataframe tbody tr th {\n        vertical-align: top;\n    }\n\n    .dataframe thead th {\n        text-align: right;\n    }\n</style>\n<table border=\"1\" class=\"dataframe\">\n  <thead>\n    <tr style=\"text-align: right;\">\n      <th></th>\n      <th>day</th>\n      <th>before or after delivery</th>\n      <th>Komkommer</th>\n      <th>Courgette</th>\n      <th>SnoepVegetable tomaat</th>\n      <th>Paprika Mix</th>\n      <th>Paprika</th>\n      <th>Geschrapte worteltjes</th>\n      <th>Basis Sperziebonen</th>\n      <th>Basis Rode kool met appel</th>\n      <th>...</th>\n      <th>Chinois brioche</th>\n      <th>Vanille muffins (vers)</th>\n      <th>Basic chocolate chip cookies</th>\n      <th>Oreo</th>\n      <th>Bakkersspeculaas</th>\n      <th>Eierkoeken</th>\n      <th>Ribbelchips naturel</th>\n      <th>Ribbelchips paprika</th>\n      <th>Doritos sweet chili</th>\n      <th>last_delivery</th>\n    </tr>\n  </thead>\n  <tbody>\n    <tr>\n      <th>198</th>\n      <td>346</td>\n      <td>before</td>\n      <td>[(350, 29), (353, 36), (357, 36)]</td>\n      <td>[(350, 33), (353, 36), (357, 36)]</td>\n      <td>[(350, 31), (353, 37), (357, 37)]</td>\n      <td>[(350, 25), (353, 33), (357, 33)]</td>\n      <td>[(350, 28), (353, 34), (357, 34)]</td>\n      <td>[(357, 5)]</td>\n      <td>[(350, 28), (353, 31), (357, 31)]</td>\n      <td>[(353, 28), (357, 35)]</td>\n      <td>...</td>\n      <td>[(348, 5)]</td>\n      <td>[(397, 3), (401, 155), (404, 155), (408, 130),...</td>\n      <td>[(380, 34), (383, 45), (387, 45), (390, 45), (...</td>\n      <td>[(376, 96), (380, 131), (383, 131), (387, 157)...</td>\n      <td>[(394, 27), (397, 45), (401, 62), (404, 62), (...</td>\n      <td>[(397, 45), (401, 125), (404, 125), (408, 125)...</td>\n      <td>[(380, 42), (383, 45), (387, 45), (390, 45), (...</td>\n      <td>[(390, 43), (394, 44), (397, 44), (401, 44), (...</td>\n      <td>[(390, 34), (394, 77), (397, 77), (401, 128), ...</td>\n      <td>343.0</td>\n    </tr>\n    <tr>\n      <th>199</th>\n      <td>346</td>\n      <td>after</td>\n      <td>[(350, 29), (353, 36), (357, 36), (360, 36)]</td>\n      <td>[(350, 33), (353, 36), (357, 36), (360, 36)]</td>\n      <td>[(350, 31), (353, 37), (357, 37), (360, 37)]</td>\n      <td>[(350, 25), (353, 33), (357, 33), (360, 33)]</td>\n      <td>[(350, 28), (353, 34), (357, 34), (360, 34)]</td>\n      <td>[(357, 5), (360, 21)]</td>\n      <td>[(350, 28), (353, 31), (357, 31), (360, 31)]</td>\n      <td>[(353, 28), (357, 35), (360, 35)]</td>\n      <td>...</td>\n      <td>[(348, 5), (351, 20)]</td>\n      <td>[(397, 3), (401, 155), (404, 155), (408, 130),...</td>\n      <td>[(380, 34), (383, 45), (387, 45), (390, 45), (...</td>\n      <td>[(376, 96), (380, 131), (383, 131), (387, 157)...</td>\n      <td>[(394, 27), (397, 45), (401, 62), (404, 62), (...</td>\n      <td>[(397, 45), (401, 125), (404, 125), (408, 125)...</td>\n      <td>[(380, 42), (383, 45), (387, 45), (390, 45), (...</td>\n      <td>[(390, 43), (394, 44), (397, 44), (401, 44), (...</td>\n      <td>[(390, 34), (394, 77), (397, 77), (401, 128), ...</td>\n      <td>346.0</td>\n    </tr>\n  </tbody>\n</table>\n<p>2 rows × 158 columns</p>\n</div>"
     },
     "metadata": {},
     "execution_count": 31
    }
   ],
   "source": [
    "#inventory[inventory['before or after delivery'] == 'after'][['day', 'before or after delivery', 'Mini gourmet slavink']]\n",
    "inventory[inventory['day'] == 346]"
   ]
  },
  {
   "cell_type": "code",
   "execution_count": 158,
   "metadata": {},
   "outputs": [
    {
     "output_type": "execute_result",
     "data": {
      "text/plain": [
       "        day      time  customer  bank acount   category product_id  \\\n",
       "743     NaN  17:28:54      42.0   21803414.0       meat        m_6   \n",
       "1299    NaN  11:52:46      73.0   61836671.0      fruit        f_7   \n",
       "1304    NaN  11:52:46      73.0   61836671.0      bread       b_32   \n",
       "2540    NaN  15:46:56     146.0   21215141.0  vegetable       v_27   \n",
       "2706    NaN  19:25:33     158.0   63634047.0  vegetable       v_31   \n",
       "...     ...       ...       ...          ...        ...        ...   \n",
       "350257  NaN  12:50:56   20423.0   80260665.0      fruit       f_28   \n",
       "351045  NaN  11:13:39   20468.0   87323494.0  vegetable        v_3   \n",
       "352540  NaN  12:16:07   20564.0   75219029.0      snack        s_8   \n",
       "352833  NaN  17:42:57   20581.0    7201122.0       meat        m_3   \n",
       "354439  NaN  16:25:36   20666.0   57335333.0      fruit        f_4   \n",
       "\n",
       "                       description  size  std_sales_price  purchase_price  \\\n",
       "743            Half om half gehakt  500g             2.69            2.42   \n",
       "1299          Pitloze rode druiven  500g             2.19            2.19   \n",
       "1304      Biologisch volkoren heel   1st             2.34            2.34   \n",
       "2540    Buitenbeentjes puntpaprika  500g             2.49            2.49   \n",
       "2706                Verse zuurkool  400g             1.39            1.39   \n",
       "...                            ...   ...              ...             ...   \n",
       "350257          Pitloze druivenmix  500g             2.59            2.59   \n",
       "351045       SnoepVegetable tomaat  500g             1.99            1.99   \n",
       "352540         Doritos sweet chili  185g             1.59            1.59   \n",
       "352833                 Spekreepjes  250g             3.39            3.39   \n",
       "354439       Pitloze witte druiven  500g             1.79            1.79   \n",
       "\n",
       "        bio  basic datetime  \n",
       "743     0.0    0.0      NaT  \n",
       "1299    0.0    0.0      NaT  \n",
       "1304    1.0    0.0      NaT  \n",
       "2540    0.0    0.0      NaT  \n",
       "2706    0.0    0.0      NaT  \n",
       "...     ...    ...      ...  \n",
       "350257  0.0    0.0      NaT  \n",
       "351045  0.0    0.0      NaT  \n",
       "352540  0.0    0.0      NaT  \n",
       "352833  0.0    0.0      NaT  \n",
       "354439  0.0    0.0      NaT  \n",
       "\n",
       "[345 rows x 13 columns]"
      ],
      "text/html": "<div>\n<style scoped>\n    .dataframe tbody tr th:only-of-type {\n        vertical-align: middle;\n    }\n\n    .dataframe tbody tr th {\n        vertical-align: top;\n    }\n\n    .dataframe thead th {\n        text-align: right;\n    }\n</style>\n<table border=\"1\" class=\"dataframe\">\n  <thead>\n    <tr style=\"text-align: right;\">\n      <th></th>\n      <th>day</th>\n      <th>time</th>\n      <th>customer</th>\n      <th>bank acount</th>\n      <th>category</th>\n      <th>product_id</th>\n      <th>description</th>\n      <th>size</th>\n      <th>std_sales_price</th>\n      <th>purchase_price</th>\n      <th>bio</th>\n      <th>basic</th>\n      <th>datetime</th>\n    </tr>\n  </thead>\n  <tbody>\n    <tr>\n      <th>743</th>\n      <td>NaN</td>\n      <td>17:28:54</td>\n      <td>42.0</td>\n      <td>21803414.0</td>\n      <td>meat</td>\n      <td>m_6</td>\n      <td>Half om half gehakt</td>\n      <td>500g</td>\n      <td>2.69</td>\n      <td>2.42</td>\n      <td>0.0</td>\n      <td>0.0</td>\n      <td>NaT</td>\n    </tr>\n    <tr>\n      <th>1299</th>\n      <td>NaN</td>\n      <td>11:52:46</td>\n      <td>73.0</td>\n      <td>61836671.0</td>\n      <td>fruit</td>\n      <td>f_7</td>\n      <td>Pitloze rode druiven</td>\n      <td>500g</td>\n      <td>2.19</td>\n      <td>2.19</td>\n      <td>0.0</td>\n      <td>0.0</td>\n      <td>NaT</td>\n    </tr>\n    <tr>\n      <th>1304</th>\n      <td>NaN</td>\n      <td>11:52:46</td>\n      <td>73.0</td>\n      <td>61836671.0</td>\n      <td>bread</td>\n      <td>b_32</td>\n      <td>Biologisch volkoren heel</td>\n      <td>1st</td>\n      <td>2.34</td>\n      <td>2.34</td>\n      <td>1.0</td>\n      <td>0.0</td>\n      <td>NaT</td>\n    </tr>\n    <tr>\n      <th>2540</th>\n      <td>NaN</td>\n      <td>15:46:56</td>\n      <td>146.0</td>\n      <td>21215141.0</td>\n      <td>vegetable</td>\n      <td>v_27</td>\n      <td>Buitenbeentjes puntpaprika</td>\n      <td>500g</td>\n      <td>2.49</td>\n      <td>2.49</td>\n      <td>0.0</td>\n      <td>0.0</td>\n      <td>NaT</td>\n    </tr>\n    <tr>\n      <th>2706</th>\n      <td>NaN</td>\n      <td>19:25:33</td>\n      <td>158.0</td>\n      <td>63634047.0</td>\n      <td>vegetable</td>\n      <td>v_31</td>\n      <td>Verse zuurkool</td>\n      <td>400g</td>\n      <td>1.39</td>\n      <td>1.39</td>\n      <td>0.0</td>\n      <td>0.0</td>\n      <td>NaT</td>\n    </tr>\n    <tr>\n      <th>...</th>\n      <td>...</td>\n      <td>...</td>\n      <td>...</td>\n      <td>...</td>\n      <td>...</td>\n      <td>...</td>\n      <td>...</td>\n      <td>...</td>\n      <td>...</td>\n      <td>...</td>\n      <td>...</td>\n      <td>...</td>\n      <td>...</td>\n    </tr>\n    <tr>\n      <th>350257</th>\n      <td>NaN</td>\n      <td>12:50:56</td>\n      <td>20423.0</td>\n      <td>80260665.0</td>\n      <td>fruit</td>\n      <td>f_28</td>\n      <td>Pitloze druivenmix</td>\n      <td>500g</td>\n      <td>2.59</td>\n      <td>2.59</td>\n      <td>0.0</td>\n      <td>0.0</td>\n      <td>NaT</td>\n    </tr>\n    <tr>\n      <th>351045</th>\n      <td>NaN</td>\n      <td>11:13:39</td>\n      <td>20468.0</td>\n      <td>87323494.0</td>\n      <td>vegetable</td>\n      <td>v_3</td>\n      <td>SnoepVegetable tomaat</td>\n      <td>500g</td>\n      <td>1.99</td>\n      <td>1.99</td>\n      <td>0.0</td>\n      <td>0.0</td>\n      <td>NaT</td>\n    </tr>\n    <tr>\n      <th>352540</th>\n      <td>NaN</td>\n      <td>12:16:07</td>\n      <td>20564.0</td>\n      <td>75219029.0</td>\n      <td>snack</td>\n      <td>s_8</td>\n      <td>Doritos sweet chili</td>\n      <td>185g</td>\n      <td>1.59</td>\n      <td>1.59</td>\n      <td>0.0</td>\n      <td>0.0</td>\n      <td>NaT</td>\n    </tr>\n    <tr>\n      <th>352833</th>\n      <td>NaN</td>\n      <td>17:42:57</td>\n      <td>20581.0</td>\n      <td>7201122.0</td>\n      <td>meat</td>\n      <td>m_3</td>\n      <td>Spekreepjes</td>\n      <td>250g</td>\n      <td>3.39</td>\n      <td>3.39</td>\n      <td>0.0</td>\n      <td>0.0</td>\n      <td>NaT</td>\n    </tr>\n    <tr>\n      <th>354439</th>\n      <td>NaN</td>\n      <td>16:25:36</td>\n      <td>20666.0</td>\n      <td>57335333.0</td>\n      <td>fruit</td>\n      <td>f_4</td>\n      <td>Pitloze witte druiven</td>\n      <td>500g</td>\n      <td>1.79</td>\n      <td>1.79</td>\n      <td>0.0</td>\n      <td>0.0</td>\n      <td>NaT</td>\n    </tr>\n  </tbody>\n</table>\n<p>345 rows × 13 columns</p>\n</div>"
     },
     "metadata": {},
     "execution_count": 158
    }
   ],
   "source": [
    "product = \"Mini gourmet slavink\" #select the product to analyze\n",
    "transactions[transactions[\"description\"] == product].iloc[0:50,] #transactions for that product\n",
    "transactions['datetime'] = pd.to_datetime(transactions['day'])\n",
    "transactions[transactions['datetime'].isna()]\n",
    "#transactions['day_of_year'] = [i.timetuple().tm_yday for i in transactions['datetime']]"
   ]
  },
  {
   "cell_type": "code",
   "execution_count": 9,
   "metadata": {},
   "outputs": [
    {
     "output_type": "execute_result",
     "data": {
      "text/plain": [
       "Series([], Name: Doritos sweet chili, dtype: object)"
      ]
     },
     "metadata": {},
     "execution_count": 9
    }
   ],
   "source": [
    "slav = inventory[inventory['before or after delivery'] == 'before']['Doritos sweet chili']\n",
    "slav[120:]\n",
    "#len(slav[(slav.astype(str).values == '[]')])"
   ]
  },
  {
   "cell_type": "code",
   "execution_count": 10,
   "metadata": {},
   "outputs": [
    {
     "output_type": "execute_result",
     "data": {
      "text/plain": [
       "     day               Mini gourmet slavink\n",
       "1      0                         [(10, 14)]\n",
       "3      3                         [(13, 14)]\n",
       "5      7                         [(17, 14)]\n",
       "7     10                [(17, 2), (20, 14)]\n",
       "9     14                [(20, 5), (24, 12)]\n",
       "..   ...                                ...\n",
       "199  346  [(349, 13), (353, 14), (356, 14)]\n",
       "201  350  [(353, 12), (356, 14), (360, 14)]\n",
       "203  353  [(356, 14), (360, 14), (363, 14)]\n",
       "205  357  [(360, 12), (363, 14), (367, 14)]\n",
       "207  360  [(363, 14), (367, 14), (370, 14)]\n",
       "\n",
       "[104 rows x 2 columns]"
      ],
      "text/html": "<div>\n<style scoped>\n    .dataframe tbody tr th:only-of-type {\n        vertical-align: middle;\n    }\n\n    .dataframe tbody tr th {\n        vertical-align: top;\n    }\n\n    .dataframe thead th {\n        text-align: right;\n    }\n</style>\n<table border=\"1\" class=\"dataframe\">\n  <thead>\n    <tr style=\"text-align: right;\">\n      <th></th>\n      <th>day</th>\n      <th>Mini gourmet slavink</th>\n    </tr>\n  </thead>\n  <tbody>\n    <tr>\n      <th>1</th>\n      <td>0</td>\n      <td>[(10, 14)]</td>\n    </tr>\n    <tr>\n      <th>3</th>\n      <td>3</td>\n      <td>[(13, 14)]</td>\n    </tr>\n    <tr>\n      <th>5</th>\n      <td>7</td>\n      <td>[(17, 14)]</td>\n    </tr>\n    <tr>\n      <th>7</th>\n      <td>10</td>\n      <td>[(17, 2), (20, 14)]</td>\n    </tr>\n    <tr>\n      <th>9</th>\n      <td>14</td>\n      <td>[(20, 5), (24, 12)]</td>\n    </tr>\n    <tr>\n      <th>...</th>\n      <td>...</td>\n      <td>...</td>\n    </tr>\n    <tr>\n      <th>199</th>\n      <td>346</td>\n      <td>[(349, 13), (353, 14), (356, 14)]</td>\n    </tr>\n    <tr>\n      <th>201</th>\n      <td>350</td>\n      <td>[(353, 12), (356, 14), (360, 14)]</td>\n    </tr>\n    <tr>\n      <th>203</th>\n      <td>353</td>\n      <td>[(356, 14), (360, 14), (363, 14)]</td>\n    </tr>\n    <tr>\n      <th>205</th>\n      <td>357</td>\n      <td>[(360, 12), (363, 14), (367, 14)]</td>\n    </tr>\n    <tr>\n      <th>207</th>\n      <td>360</td>\n      <td>[(363, 14), (367, 14), (370, 14)]</td>\n    </tr>\n  </tbody>\n</table>\n<p>104 rows × 2 columns</p>\n</div>"
     },
     "metadata": {},
     "execution_count": 10
    }
   ],
   "source": [
    "inventory[inventory['before or after delivery'] == 'after'][['day','Mini gourmet slavink']]"
   ]
  },
  {
   "cell_type": "code",
   "execution_count": 11,
   "metadata": {},
   "outputs": [
    {
     "output_type": "execute_result",
     "data": {
      "text/plain": [
       "     day    Mini gourmet slavink\n",
       "0      0                      []\n",
       "2      3                      []\n",
       "4      7                      []\n",
       "6     10               [(17, 2)]\n",
       "8     14               [(20, 5)]\n",
       "..   ...                     ...\n",
       "198  346  [(349, 13), (353, 14)]\n",
       "200  350  [(353, 12), (356, 14)]\n",
       "202  353  [(356, 14), (360, 14)]\n",
       "204  357  [(360, 12), (363, 14)]\n",
       "206  360  [(363, 14), (367, 14)]\n",
       "\n",
       "[104 rows x 2 columns]"
      ],
      "text/html": "<div>\n<style scoped>\n    .dataframe tbody tr th:only-of-type {\n        vertical-align: middle;\n    }\n\n    .dataframe tbody tr th {\n        vertical-align: top;\n    }\n\n    .dataframe thead th {\n        text-align: right;\n    }\n</style>\n<table border=\"1\" class=\"dataframe\">\n  <thead>\n    <tr style=\"text-align: right;\">\n      <th></th>\n      <th>day</th>\n      <th>Mini gourmet slavink</th>\n    </tr>\n  </thead>\n  <tbody>\n    <tr>\n      <th>0</th>\n      <td>0</td>\n      <td>[]</td>\n    </tr>\n    <tr>\n      <th>2</th>\n      <td>3</td>\n      <td>[]</td>\n    </tr>\n    <tr>\n      <th>4</th>\n      <td>7</td>\n      <td>[]</td>\n    </tr>\n    <tr>\n      <th>6</th>\n      <td>10</td>\n      <td>[(17, 2)]</td>\n    </tr>\n    <tr>\n      <th>8</th>\n      <td>14</td>\n      <td>[(20, 5)]</td>\n    </tr>\n    <tr>\n      <th>...</th>\n      <td>...</td>\n      <td>...</td>\n    </tr>\n    <tr>\n      <th>198</th>\n      <td>346</td>\n      <td>[(349, 13), (353, 14)]</td>\n    </tr>\n    <tr>\n      <th>200</th>\n      <td>350</td>\n      <td>[(353, 12), (356, 14)]</td>\n    </tr>\n    <tr>\n      <th>202</th>\n      <td>353</td>\n      <td>[(356, 14), (360, 14)]</td>\n    </tr>\n    <tr>\n      <th>204</th>\n      <td>357</td>\n      <td>[(360, 12), (363, 14)]</td>\n    </tr>\n    <tr>\n      <th>206</th>\n      <td>360</td>\n      <td>[(363, 14), (367, 14)]</td>\n    </tr>\n  </tbody>\n</table>\n<p>104 rows × 2 columns</p>\n</div>"
     },
     "metadata": {},
     "execution_count": 11
    }
   ],
   "source": [
    "inventory[inventory['before or after delivery'] == 'before'][['day','Mini gourmet slavink']]"
   ]
  },
  {
   "cell_type": "code",
   "execution_count": 12,
   "metadata": {},
   "outputs": [
    {
     "output_type": "stream",
     "name": "stdout",
     "text": [
      "2018-01-06 00:00:00\n"
     ]
    }
   ],
   "source": [
    "print(datetime.datetime(2018, 1, 1) + datetime.timedelta(5))"
   ]
  },
  {
   "cell_type": "code",
   "execution_count": 162,
   "metadata": {},
   "outputs": [
    {
     "output_type": "execute_result",
     "data": {
      "text/plain": [
       "                       product  count_days  \\\n",
       "90        Mini gourmet slavink          32   \n",
       "144               Amandelkrans          30   \n",
       "92    Zigeuner gehaktschnitzel          28   \n",
       "93      Veluwse rookworst fijn          26   \n",
       "130  Bolletje Fries roggebrood          22   \n",
       "..                         ...         ...   \n",
       "50                    Jonagold           0   \n",
       "48             Blauwe bessen.1           0   \n",
       "44          Biologische banane           0   \n",
       "42                      Elstar           0   \n",
       "155              last_delivery           0   \n",
       "\n",
       "                                                  days  \\\n",
       "90   [3, 7, 17, 21, 24, 28, 35, 80, 84, 87, 105, 10...   \n",
       "144  [28, 38, 59, 63, 66, 70, 73, 77, 80, 84, 87, 9...   \n",
       "92   [84, 94, 98, 101, 105, 108, 115, 119, 133, 136...   \n",
       "93   [49, 52, 56, 161, 164, 168, 171, 175, 178, 185...   \n",
       "130  [28, 38, 42, 80, 84, 87, 105, 119, 150, 154, 1...   \n",
       "..                                                 ...   \n",
       "50                                                  []   \n",
       "48                                                  []   \n",
       "44                                                  []   \n",
       "42                                                  []   \n",
       "155                                                 []   \n",
       "\n",
       "                                         last_delivery  \\\n",
       "90   [0, 3, 14, 17, 21, 24, 31, 77, 80, 84, 101, 10...   \n",
       "144  [24, 35, 56, 59, 63, 66, 70, 73, 77, 80, 84, 8...   \n",
       "92   [80, 91, 94, 98, 101, 105, 112, 115, 129, 133,...   \n",
       "93   [45, 49, 52, 157, 161, 164, 168, 171, 175, 182...   \n",
       "130  [24, 35, 38, 77, 80, 84, 101, 115, 147, 150, 1...   \n",
       "..                                                 ...   \n",
       "50                                                  []   \n",
       "48                                                  []   \n",
       "44                                                  []   \n",
       "42                                                  []   \n",
       "155                                                 []   \n",
       "\n",
       "                                              day_date  \\\n",
       "90   [2018-01-04 00:00:00, 2018-01-08 00:00:00, 201...   \n",
       "144  [2018-01-29 00:00:00, 2018-02-08 00:00:00, 201...   \n",
       "92   [2018-03-26 00:00:00, 2018-04-05 00:00:00, 201...   \n",
       "93   [2018-02-19 00:00:00, 2018-02-22 00:00:00, 201...   \n",
       "130  [2018-01-29 00:00:00, 2018-02-08 00:00:00, 201...   \n",
       "..                                                 ...   \n",
       "50                                                  []   \n",
       "48                                                  []   \n",
       "44                                                  []   \n",
       "42                                                  []   \n",
       "155                                                 []   \n",
       "\n",
       "                                       last_deliv_date  \\\n",
       "90   [2018-01-01 00:00:00, 2018-01-04 00:00:00, 201...   \n",
       "144  [2018-01-25 00:00:00, 2018-02-05 00:00:00, 201...   \n",
       "92   [2018-03-22 00:00:00, 2018-04-02 00:00:00, 201...   \n",
       "93   [2018-02-15 00:00:00, 2018-02-19 00:00:00, 201...   \n",
       "130  [2018-01-25 00:00:00, 2018-02-05 00:00:00, 201...   \n",
       "..                                                 ...   \n",
       "50                                                  []   \n",
       "48                                                  []   \n",
       "44                                                  []   \n",
       "42                                                  []   \n",
       "155                                                 []   \n",
       "\n",
       "                                                 weeks  \\\n",
       "90   [1, 2, 3, 4, 4, 5, 6, 12, 13, 13, 16, 16, 17, ...   \n",
       "144  [5, 6, 9, 10, 10, 11, 11, 12, 12, 13, 13, 14, ...   \n",
       "92   [13, 14, 15, 15, 16, 16, 17, 18, 20, 20, 22, 2...   \n",
       "93   [8, 8, 9, 24, 24, 25, 25, 26, 26, 27, 28, 28, ...   \n",
       "130  [5, 6, 7, 12, 13, 13, 16, 18, 22, 23, 24, 25, ...   \n",
       "..                                                 ...   \n",
       "50                                                  []   \n",
       "48                                                  []   \n",
       "44                                                  []   \n",
       "42                                                  []   \n",
       "155                                                 []   \n",
       "\n",
       "                                            last_stock  \\\n",
       "90   [14, 14, 17, 12, 14, 14, 15, 20, 14, 14, 17, 1...   \n",
       "144  [33, 26, 25, 20, 20, 20, 20, 20, 20, 20, 20, 2...   \n",
       "92   [15, 18, 14, 14, 14, 14, 15, 14, 15, 14, 16, 1...   \n",
       "93   [9, 14, 14, 17, 9, 9, 14, 14, 14, 24, 20, 14, ...   \n",
       "130  [21, 16, 11, 12, 8, 18, 24, 23, 30, 22, 21, 11...   \n",
       "..                                                 ...   \n",
       "50                                                  []   \n",
       "48                                                  []   \n",
       "44                                                  []   \n",
       "42                                                  []   \n",
       "155                                                 []   \n",
       "\n",
       "                                             purchases  \n",
       "90   [[12], [11], [19], [15], [16], [19], [26], [25...  \n",
       "144  [[32], [24], [24], [28], [18], [26], [15], [31...  \n",
       "92   [[22], [14], [21], [10], [19], [15], [19], [19...  \n",
       "93   [[12], [16], [16], [26], [22], [18], [17], [18...  \n",
       "130  [[27], [23], [27], [14], [16], [20], [30], [28...  \n",
       "..                                                 ...  \n",
       "50                                                  []  \n",
       "48                                                  []  \n",
       "44                                                  []  \n",
       "42                                                  []  \n",
       "155                                                 []  \n",
       "\n",
       "[156 rows x 9 columns]"
      ],
      "text/html": "<div>\n<style scoped>\n    .dataframe tbody tr th:only-of-type {\n        vertical-align: middle;\n    }\n\n    .dataframe tbody tr th {\n        vertical-align: top;\n    }\n\n    .dataframe thead th {\n        text-align: right;\n    }\n</style>\n<table border=\"1\" class=\"dataframe\">\n  <thead>\n    <tr style=\"text-align: right;\">\n      <th></th>\n      <th>product</th>\n      <th>count_days</th>\n      <th>days</th>\n      <th>last_delivery</th>\n      <th>day_date</th>\n      <th>last_deliv_date</th>\n      <th>weeks</th>\n      <th>last_stock</th>\n      <th>purchases</th>\n    </tr>\n  </thead>\n  <tbody>\n    <tr>\n      <th>90</th>\n      <td>Mini gourmet slavink</td>\n      <td>32</td>\n      <td>[3, 7, 17, 21, 24, 28, 35, 80, 84, 87, 105, 10...</td>\n      <td>[0, 3, 14, 17, 21, 24, 31, 77, 80, 84, 101, 10...</td>\n      <td>[2018-01-04 00:00:00, 2018-01-08 00:00:00, 201...</td>\n      <td>[2018-01-01 00:00:00, 2018-01-04 00:00:00, 201...</td>\n      <td>[1, 2, 3, 4, 4, 5, 6, 12, 13, 13, 16, 16, 17, ...</td>\n      <td>[14, 14, 17, 12, 14, 14, 15, 20, 14, 14, 17, 1...</td>\n      <td>[[12], [11], [19], [15], [16], [19], [26], [25...</td>\n    </tr>\n    <tr>\n      <th>144</th>\n      <td>Amandelkrans</td>\n      <td>30</td>\n      <td>[28, 38, 59, 63, 66, 70, 73, 77, 80, 84, 87, 9...</td>\n      <td>[24, 35, 56, 59, 63, 66, 70, 73, 77, 80, 84, 8...</td>\n      <td>[2018-01-29 00:00:00, 2018-02-08 00:00:00, 201...</td>\n      <td>[2018-01-25 00:00:00, 2018-02-05 00:00:00, 201...</td>\n      <td>[5, 6, 9, 10, 10, 11, 11, 12, 12, 13, 13, 14, ...</td>\n      <td>[33, 26, 25, 20, 20, 20, 20, 20, 20, 20, 20, 2...</td>\n      <td>[[32], [24], [24], [28], [18], [26], [15], [31...</td>\n    </tr>\n    <tr>\n      <th>92</th>\n      <td>Zigeuner gehaktschnitzel</td>\n      <td>28</td>\n      <td>[84, 94, 98, 101, 105, 108, 115, 119, 133, 136...</td>\n      <td>[80, 91, 94, 98, 101, 105, 112, 115, 129, 133,...</td>\n      <td>[2018-03-26 00:00:00, 2018-04-05 00:00:00, 201...</td>\n      <td>[2018-03-22 00:00:00, 2018-04-02 00:00:00, 201...</td>\n      <td>[13, 14, 15, 15, 16, 16, 17, 18, 20, 20, 22, 2...</td>\n      <td>[15, 18, 14, 14, 14, 14, 15, 14, 15, 14, 16, 1...</td>\n      <td>[[22], [14], [21], [10], [19], [15], [19], [19...</td>\n    </tr>\n    <tr>\n      <th>93</th>\n      <td>Veluwse rookworst fijn</td>\n      <td>26</td>\n      <td>[49, 52, 56, 161, 164, 168, 171, 175, 178, 185...</td>\n      <td>[45, 49, 52, 157, 161, 164, 168, 171, 175, 182...</td>\n      <td>[2018-02-19 00:00:00, 2018-02-22 00:00:00, 201...</td>\n      <td>[2018-02-15 00:00:00, 2018-02-19 00:00:00, 201...</td>\n      <td>[8, 8, 9, 24, 24, 25, 25, 26, 26, 27, 28, 28, ...</td>\n      <td>[9, 14, 14, 17, 9, 9, 14, 14, 14, 24, 20, 14, ...</td>\n      <td>[[12], [16], [16], [26], [22], [18], [17], [18...</td>\n    </tr>\n    <tr>\n      <th>130</th>\n      <td>Bolletje Fries roggebrood</td>\n      <td>22</td>\n      <td>[28, 38, 42, 80, 84, 87, 105, 119, 150, 154, 1...</td>\n      <td>[24, 35, 38, 77, 80, 84, 101, 115, 147, 150, 1...</td>\n      <td>[2018-01-29 00:00:00, 2018-02-08 00:00:00, 201...</td>\n      <td>[2018-01-25 00:00:00, 2018-02-05 00:00:00, 201...</td>\n      <td>[5, 6, 7, 12, 13, 13, 16, 18, 22, 23, 24, 25, ...</td>\n      <td>[21, 16, 11, 12, 8, 18, 24, 23, 30, 22, 21, 11...</td>\n      <td>[[27], [23], [27], [14], [16], [20], [30], [28...</td>\n    </tr>\n    <tr>\n      <th>...</th>\n      <td>...</td>\n      <td>...</td>\n      <td>...</td>\n      <td>...</td>\n      <td>...</td>\n      <td>...</td>\n      <td>...</td>\n      <td>...</td>\n      <td>...</td>\n    </tr>\n    <tr>\n      <th>50</th>\n      <td>Jonagold</td>\n      <td>0</td>\n      <td>[]</td>\n      <td>[]</td>\n      <td>[]</td>\n      <td>[]</td>\n      <td>[]</td>\n      <td>[]</td>\n      <td>[]</td>\n    </tr>\n    <tr>\n      <th>48</th>\n      <td>Blauwe bessen.1</td>\n      <td>0</td>\n      <td>[]</td>\n      <td>[]</td>\n      <td>[]</td>\n      <td>[]</td>\n      <td>[]</td>\n      <td>[]</td>\n      <td>[]</td>\n    </tr>\n    <tr>\n      <th>44</th>\n      <td>Biologische banane</td>\n      <td>0</td>\n      <td>[]</td>\n      <td>[]</td>\n      <td>[]</td>\n      <td>[]</td>\n      <td>[]</td>\n      <td>[]</td>\n      <td>[]</td>\n    </tr>\n    <tr>\n      <th>42</th>\n      <td>Elstar</td>\n      <td>0</td>\n      <td>[]</td>\n      <td>[]</td>\n      <td>[]</td>\n      <td>[]</td>\n      <td>[]</td>\n      <td>[]</td>\n      <td>[]</td>\n    </tr>\n    <tr>\n      <th>155</th>\n      <td>last_delivery</td>\n      <td>0</td>\n      <td>[]</td>\n      <td>[]</td>\n      <td>[]</td>\n      <td>[]</td>\n      <td>[]</td>\n      <td>[]</td>\n      <td>[]</td>\n    </tr>\n  </tbody>\n</table>\n<p>156 rows × 9 columns</p>\n</div>"
     },
     "metadata": {},
     "execution_count": 162
    }
   ],
   "source": [
    "def date_converter(value):\n",
    "    row = datetime.datetime(2018, 1, 1) + datetime.timedelta(days = int(value))\n",
    "    return row\n",
    "\n",
    "def date_converter_week(value):\n",
    "    row = value.isocalendar()[1]\n",
    "    return row\n",
    "\n",
    "#inventory[inventory.values == []]\n",
    "#filtered_inventory = inventory[(inventory.astype(str) == '[]')]\n",
    "#print(filtered_inventory.shape)\n",
    "#Total number of times that the product had zero inventory\n",
    "filtered_inventory = inventory[inventory['day'] > 0]\n",
    "##print(filtered_inventory.shape)\n",
    "filtered_inventory = filtered_inventory[filtered_inventory['before or after delivery'] == 'before']\n",
    "filtered_inventory = filtered_inventory[filtered_inventory.astype(str) == '[]']\n",
    "#print(filtered_inventory)\n",
    "num_sold_out = pd.DataFrame()\n",
    "num_sold_out['count_days'] = pd.Series(filtered_inventory.astype(str).isin(['[]']).sum(axis=0))\n",
    "#num_sold_out\n",
    "days_with_waste = [[inventory.loc[i, 'day'] for i in filtered_inventory.index if str(filtered_inventory.loc[i, col]) == '[]'] for col in filtered_inventory.columns[2:]]\n",
    "last_deliv = [[int(inventory.loc[i, 'last_delivery']) for i in filtered_inventory.index if str(filtered_inventory.loc[i, col]) == '[]'] for col in filtered_inventory.columns[2:]]\n",
    "\n",
    "num_sold_out.drop(['day', 'before or after delivery'], inplace=True)\n",
    "num_sold_out.reset_index(inplace=True)\n",
    "num_sold_out.columns = ['product', 'count_days']\n",
    "\n",
    "num_sold_out['days'] = days_with_waste\n",
    "num_sold_out['last_delivery'] = last_deliv\n",
    "#num_sold_out.set_index('product', inplace = True)\n",
    "#print(num_sold_out.index)\n",
    "last_stock = [ [ [sum([t[1] for t in stock]) for stock in inventory.loc[inventory[(inventory['day'] == i) & (inventory['before or after delivery'] == 'after')].index, num_sold_out.loc[prod, 'product'] ] ] for i in num_sold_out.loc[prod, 'last_delivery'] ] for prod in num_sold_out.index ]\n",
    "\n",
    "last_stock2 = [ [ [sum([s[1] for s in t]) for t in inventory.loc[inventory[(inventory['day'] == i) & (inventory['before or after delivery'] == 'after')].index, num_sold_out.loc[prod, 'product'] ] ] for i in num_sold_out.loc[prod, 'last_delivery'] ] for prod in num_sold_out.index ]\n",
    "\n",
    "\n",
    "\n",
    "import itertools\n",
    "unested = [list(itertools.chain(*sub)) for sub in last_stock2]\n",
    "#sum the stock in inventory for each day before the inventory reaches zero for each product in the sold out table\n",
    "\n",
    "\n",
    "num_sold_out['day_date'] = [[date_converter(t) for t in i] for i in num_sold_out['days']]\n",
    "num_sold_out['last_deliv_date'] = [[date_converter(t) for t in i] for i in num_sold_out['last_delivery']]\n",
    "num_sold_out['weeks'] = [[date_converter_week(t) for t in i] for i in num_sold_out['day_date']]\n",
    "num_sold_out['last_stock'] = unested\n",
    "\n",
    "last_transactions = [ [ [\n",
    "    len(transactions[(transactions['description'] == num_sold_out['product'][prod]) & (\n",
    "                        transactions['datetime'] <= num_sold_out.loc[prod, 'day_date'][i] ) & (\n",
    "                        transactions['datetime'] >= num_sold_out.loc[prod, 'last_deliv_date'][i]\n",
    "    )]) ]\n",
    "    for i in range(len(num_sold_out.loc[prod, 'last_deliv_date'])) ] \n",
    "    for prod in num_sold_out.index ]\n",
    "\n",
    "\n",
    "#restocked during each of these periods (look at the total first quantities of \"after\" delivery days for inventory)\n",
    "#sold (look at the transactions table to check for how many of the product was purchased before the delivery day\n",
    "# could even check for timing as to when the delivery itself actually occurs)\n",
    "#waste (should have numbers from this from waste analysis)\n",
    "#weeks on discount also\n",
    "num_sold_out['purchases'] = last_transactions\n",
    "num_sold_out.sort_values(by = 'count_days', ascending = False, inplace = True)\n",
    "\n",
    "\n",
    "#print(len(num_sold_out['last_stock'][5]))\n",
    "#print(len(num_sold_out['days'][5]))\n",
    "#product, day of delivery/index of some sort, value in list, \n",
    "num_sold_out\n",
    "#look at the transactions between periods, do we actually restock these?, specific product drilldown"
   ]
  },
  {
   "cell_type": "code",
   "execution_count": 55,
   "metadata": {},
   "outputs": [
    {
     "output_type": "execute_result",
     "data": {
      "text/plain": [
       "datetime.datetime(2018, 1, 29, 0, 0)"
      ]
     },
     "metadata": {},
     "execution_count": 55
    }
   ],
   "source": [
    "num_sold_out[['day_date']].iloc[1,][0][0]"
   ]
  },
  {
   "cell_type": "code",
   "execution_count": 116,
   "metadata": {},
   "outputs": [],
   "source": [
    "def date_converter(row):\n",
    "    converted_date = datetime.datetime(2018, 1, 1) + datetime.timedelta(row[\"day\"])\n",
    "    return converted_date\n",
    "\n",
    "inventory[\"date\"] = inventory.apply(date_converter, axis = 1) #convert day of year to actual timestamp"
   ]
  },
  {
   "cell_type": "code",
   "execution_count": 117,
   "metadata": {},
   "outputs": [],
   "source": [
    "def week_of_year(row):\n",
    "    week_nr = datetime.date(row[\"date\"].year, row[\"date\"].month, row[\"date\"].day).isocalendar()[1]\n",
    "    return week_nr\n",
    "\n",
    "inventory[\"week\"] = inventory.apply(week_of_year, axis = 1)\n",
    "#add nr week of year as an extra column to inventory"
   ]
  },
  {
   "cell_type": "code",
   "execution_count": 118,
   "metadata": {},
   "outputs": [
    {
     "name": "stderr",
     "output_type": "stream",
     "text": [
      "<ipython-input-118-77f34563d40f>:13: SettingWithCopyWarning:\n",
      "\n",
      "\n",
      "A value is trying to be set on a copy of a slice from a DataFrame.\n",
      "Try using .loc[row_indexer,col_indexer] = value instead\n",
      "\n",
      "See the caveats in the documentation: https://pandas.pydata.org/pandas-docs/stable/user_guide/indexing.html#returning-a-view-versus-a-copy\n",
      "\n"
     ]
    }
   ],
   "source": [
    "#only keep relevant columns in inventory\n",
    "filter_inventory = inventory[[\"day\", \"before or after delivery\", \"date\", \"week\", product]]\n",
    "#filters promotion table to only contain discounts for chosen product\n",
    "promotions_filter = promotions[promotions[\"description\"] == product]\n",
    "\n",
    "def check_discount(row):\n",
    "    if row[\"week\"] in promotions_filter[\"week\"].values:\n",
    "        discount_amount = promotions_filter[promotions_filter[\"week\"] == row[\"week\"]][\"discount\"]\n",
    "        return discount_amount.values[0]\n",
    "    else:\n",
    "        return 0\n",
    "#adds extra column to filter inventory containing discount amount\n",
    "filter_inventory[\"discount\"] = filter_inventory.apply(check_discount, axis = 1)\n"
   ]
  },
  {
   "cell_type": "code",
   "execution_count": 119,
   "metadata": {},
   "outputs": [
    {
     "name": "stderr",
     "output_type": "stream",
     "text": [
      "<ipython-input-119-12a88a37912f>:8: SettingWithCopyWarning:\n",
      "\n",
      "\n",
      "A value is trying to be set on a copy of a slice from a DataFrame.\n",
      "Try using .loc[row_indexer,col_indexer] = value instead\n",
      "\n",
      "See the caveats in the documentation: https://pandas.pydata.org/pandas-docs/stable/user_guide/indexing.html#returning-a-view-versus-a-copy\n",
      "\n"
     ]
    }
   ],
   "source": [
    "def total_inv(row):\n",
    "    total = 0\n",
    "    if len(row[product]) > 0:\n",
    "        for batch in row[product]:\n",
    "            total += batch[1]\n",
    "    return total\n",
    "#adds total nr items in inventory for the filtered dataframe\n",
    "filter_inventory[\"total inventory\"] = filter_inventory.apply(total_inv, axis = 1)"
   ]
  },
  {
   "cell_type": "code",
   "execution_count": 120,
   "metadata": {},
   "outputs": [
    {
     "data": {
      "text/plain": [
       "array([ 14,  17,  21,  24,  28,  31,  35,  38,  42,  45,  49,  52,  56,\n",
       "        59,  63,  66,  70,  73,  77,  80,  84,  87,  91,  94,  98, 101,\n",
       "       105, 108, 112, 115, 119, 122, 126, 129, 133, 136, 140, 143, 147,\n",
       "       150, 154, 157, 161, 164, 168, 171, 175, 178, 182, 185, 189, 192,\n",
       "       196, 199, 203, 206, 210, 213, 217, 220, 224, 227, 231, 234, 238,\n",
       "       241, 245, 248, 252, 255, 259, 262, 266, 269, 273, 276, 280, 283,\n",
       "       287, 290, 294, 297, 301, 304, 308, 311, 315, 318, 322, 325, 329,\n",
       "       332, 336, 339, 343, 346, 350, 353, 357, 360, 364, 367, 371, 374])"
      ]
     },
     "execution_count": 120,
     "metadata": {},
     "output_type": "execute_result"
    }
   ],
   "source": [
    "best_before = []\n",
    "for element_list in filter_inventory[product]:\n",
    "    for batch in element_list:\n",
    "        best_before.append(batch[0])\n",
    "bb_dates = np.unique(best_before)\n",
    "#list of each unique best before dates\n",
    "bb_dates"
   ]
  },
  {
   "cell_type": "code",
   "execution_count": 121,
   "metadata": {},
   "outputs": [
    {
     "data": {
      "text/html": [
       "<div>\n",
       "<style scoped>\n",
       "    .dataframe tbody tr th:only-of-type {\n",
       "        vertical-align: middle;\n",
       "    }\n",
       "\n",
       "    .dataframe tbody tr th {\n",
       "        vertical-align: top;\n",
       "    }\n",
       "\n",
       "    .dataframe thead th {\n",
       "        text-align: right;\n",
       "    }\n",
       "</style>\n",
       "<table border=\"1\" class=\"dataframe\">\n",
       "  <thead>\n",
       "    <tr style=\"text-align: right;\">\n",
       "      <th></th>\n",
       "      <th>best before</th>\n",
       "    </tr>\n",
       "  </thead>\n",
       "  <tbody>\n",
       "    <tr>\n",
       "      <th>0</th>\n",
       "      <td>14</td>\n",
       "    </tr>\n",
       "    <tr>\n",
       "      <th>1</th>\n",
       "      <td>17</td>\n",
       "    </tr>\n",
       "    <tr>\n",
       "      <th>2</th>\n",
       "      <td>21</td>\n",
       "    </tr>\n",
       "    <tr>\n",
       "      <th>3</th>\n",
       "      <td>24</td>\n",
       "    </tr>\n",
       "    <tr>\n",
       "      <th>4</th>\n",
       "      <td>28</td>\n",
       "    </tr>\n",
       "    <tr>\n",
       "      <th>...</th>\n",
       "      <td>...</td>\n",
       "    </tr>\n",
       "    <tr>\n",
       "      <th>99</th>\n",
       "      <td>360</td>\n",
       "    </tr>\n",
       "    <tr>\n",
       "      <th>100</th>\n",
       "      <td>364</td>\n",
       "    </tr>\n",
       "    <tr>\n",
       "      <th>101</th>\n",
       "      <td>367</td>\n",
       "    </tr>\n",
       "    <tr>\n",
       "      <th>102</th>\n",
       "      <td>371</td>\n",
       "    </tr>\n",
       "    <tr>\n",
       "      <th>103</th>\n",
       "      <td>374</td>\n",
       "    </tr>\n",
       "  </tbody>\n",
       "</table>\n",
       "<p>104 rows × 1 columns</p>\n",
       "</div>"
      ],
      "text/plain": [
       "     best before\n",
       "0             14\n",
       "1             17\n",
       "2             21\n",
       "3             24\n",
       "4             28\n",
       "..           ...\n",
       "99           360\n",
       "100          364\n",
       "101          367\n",
       "102          371\n",
       "103          374\n",
       "\n",
       "[104 rows x 1 columns]"
      ]
     },
     "execution_count": 121,
     "metadata": {},
     "output_type": "execute_result"
    }
   ],
   "source": [
    "df_waste = pd.DataFrame({\"best before\":bb_dates})\n",
    "df_waste #build initial df with points where waste can occur"
   ]
  },
  {
   "cell_type": "code",
   "execution_count": 122,
   "metadata": {},
   "outputs": [
    {
     "data": {
      "text/html": [
       "<div>\n",
       "<style scoped>\n",
       "    .dataframe tbody tr th:only-of-type {\n",
       "        vertical-align: middle;\n",
       "    }\n",
       "\n",
       "    .dataframe tbody tr th {\n",
       "        vertical-align: top;\n",
       "    }\n",
       "\n",
       "    .dataframe thead th {\n",
       "        text-align: right;\n",
       "    }\n",
       "</style>\n",
       "<table border=\"1\" class=\"dataframe\">\n",
       "  <thead>\n",
       "    <tr style=\"text-align: right;\">\n",
       "      <th></th>\n",
       "      <th>best before</th>\n",
       "      <th>amount</th>\n",
       "    </tr>\n",
       "  </thead>\n",
       "  <tbody>\n",
       "    <tr>\n",
       "      <th>0</th>\n",
       "      <td>14</td>\n",
       "      <td>26</td>\n",
       "    </tr>\n",
       "    <tr>\n",
       "      <th>1</th>\n",
       "      <td>17</td>\n",
       "      <td>26</td>\n",
       "    </tr>\n",
       "    <tr>\n",
       "      <th>2</th>\n",
       "      <td>21</td>\n",
       "      <td>26</td>\n",
       "    </tr>\n",
       "    <tr>\n",
       "      <th>3</th>\n",
       "      <td>24</td>\n",
       "      <td>26</td>\n",
       "    </tr>\n",
       "    <tr>\n",
       "      <th>4</th>\n",
       "      <td>28</td>\n",
       "      <td>26</td>\n",
       "    </tr>\n",
       "    <tr>\n",
       "      <th>...</th>\n",
       "      <td>...</td>\n",
       "      <td>...</td>\n",
       "    </tr>\n",
       "    <tr>\n",
       "      <th>99</th>\n",
       "      <td>360</td>\n",
       "      <td>26</td>\n",
       "    </tr>\n",
       "    <tr>\n",
       "      <th>100</th>\n",
       "      <td>364</td>\n",
       "      <td>26</td>\n",
       "    </tr>\n",
       "    <tr>\n",
       "      <th>101</th>\n",
       "      <td>367</td>\n",
       "      <td>26</td>\n",
       "    </tr>\n",
       "    <tr>\n",
       "      <th>102</th>\n",
       "      <td>371</td>\n",
       "      <td>26</td>\n",
       "    </tr>\n",
       "    <tr>\n",
       "      <th>103</th>\n",
       "      <td>374</td>\n",
       "      <td>26</td>\n",
       "    </tr>\n",
       "  </tbody>\n",
       "</table>\n",
       "<p>104 rows × 2 columns</p>\n",
       "</div>"
      ],
      "text/plain": [
       "     best before  amount\n",
       "0             14      26\n",
       "1             17      26\n",
       "2             21      26\n",
       "3             24      26\n",
       "4             28      26\n",
       "..           ...     ...\n",
       "99           360      26\n",
       "100          364      26\n",
       "101          367      26\n",
       "102          371      26\n",
       "103          374      26\n",
       "\n",
       "[104 rows x 2 columns]"
      ]
     },
     "execution_count": 122,
     "metadata": {},
     "output_type": "execute_result"
    }
   ],
   "source": [
    "def input_inv(row):\n",
    "    for element_list in filter_inventory[product]:\n",
    "        if len(element_list) > 0:\n",
    "            for batch in element_list:\n",
    "                if batch[0] == row[\"best before\"]:\n",
    "                    return batch[1]\n",
    "\n",
    "df_waste[\"amount\"] = df_waste.apply(input_inv, axis = 1)\n",
    "df_waste #amount that was received with particular expiry date"
   ]
  },
  {
   "cell_type": "code",
   "execution_count": 123,
   "metadata": {},
   "outputs": [
    {
     "data": {
      "text/html": [
       "<div>\n",
       "<style scoped>\n",
       "    .dataframe tbody tr th:only-of-type {\n",
       "        vertical-align: middle;\n",
       "    }\n",
       "\n",
       "    .dataframe tbody tr th {\n",
       "        vertical-align: top;\n",
       "    }\n",
       "\n",
       "    .dataframe thead th {\n",
       "        text-align: right;\n",
       "    }\n",
       "</style>\n",
       "<table border=\"1\" class=\"dataframe\">\n",
       "  <thead>\n",
       "    <tr style=\"text-align: right;\">\n",
       "      <th></th>\n",
       "      <th>best before</th>\n",
       "      <th>amount</th>\n",
       "    </tr>\n",
       "  </thead>\n",
       "  <tbody>\n",
       "    <tr>\n",
       "      <th>0</th>\n",
       "      <td>14</td>\n",
       "      <td>26</td>\n",
       "    </tr>\n",
       "    <tr>\n",
       "      <th>1</th>\n",
       "      <td>17</td>\n",
       "      <td>26</td>\n",
       "    </tr>\n",
       "    <tr>\n",
       "      <th>2</th>\n",
       "      <td>21</td>\n",
       "      <td>26</td>\n",
       "    </tr>\n",
       "    <tr>\n",
       "      <th>3</th>\n",
       "      <td>24</td>\n",
       "      <td>26</td>\n",
       "    </tr>\n",
       "    <tr>\n",
       "      <th>4</th>\n",
       "      <td>28</td>\n",
       "      <td>26</td>\n",
       "    </tr>\n",
       "    <tr>\n",
       "      <th>...</th>\n",
       "      <td>...</td>\n",
       "      <td>...</td>\n",
       "    </tr>\n",
       "    <tr>\n",
       "      <th>96</th>\n",
       "      <td>350</td>\n",
       "      <td>26</td>\n",
       "    </tr>\n",
       "    <tr>\n",
       "      <th>97</th>\n",
       "      <td>353</td>\n",
       "      <td>26</td>\n",
       "    </tr>\n",
       "    <tr>\n",
       "      <th>98</th>\n",
       "      <td>357</td>\n",
       "      <td>26</td>\n",
       "    </tr>\n",
       "    <tr>\n",
       "      <th>99</th>\n",
       "      <td>360</td>\n",
       "      <td>26</td>\n",
       "    </tr>\n",
       "    <tr>\n",
       "      <th>100</th>\n",
       "      <td>364</td>\n",
       "      <td>26</td>\n",
       "    </tr>\n",
       "  </tbody>\n",
       "</table>\n",
       "<p>101 rows × 2 columns</p>\n",
       "</div>"
      ],
      "text/plain": [
       "     best before  amount\n",
       "0             14      26\n",
       "1             17      26\n",
       "2             21      26\n",
       "3             24      26\n",
       "4             28      26\n",
       "..           ...     ...\n",
       "96           350      26\n",
       "97           353      26\n",
       "98           357      26\n",
       "99           360      26\n",
       "100          364      26\n",
       "\n",
       "[101 rows x 2 columns]"
      ]
     },
     "execution_count": 123,
     "metadata": {},
     "output_type": "execute_result"
    }
   ],
   "source": [
    "df_waste = df_waste[df_waste[\"best before\"] < 365] #only keep rows where expiry date is in same year\n",
    "df_waste"
   ]
  },
  {
   "cell_type": "code",
   "execution_count": 124,
   "metadata": {},
   "outputs": [
    {
     "data": {
      "text/html": [
       "<div>\n",
       "<style scoped>\n",
       "    .dataframe tbody tr th:only-of-type {\n",
       "        vertical-align: middle;\n",
       "    }\n",
       "\n",
       "    .dataframe tbody tr th {\n",
       "        vertical-align: top;\n",
       "    }\n",
       "\n",
       "    .dataframe thead th {\n",
       "        text-align: right;\n",
       "    }\n",
       "</style>\n",
       "<table border=\"1\" class=\"dataframe\">\n",
       "  <thead>\n",
       "    <tr style=\"text-align: right;\">\n",
       "      <th></th>\n",
       "      <th>day</th>\n",
       "      <th>time</th>\n",
       "      <th>customer</th>\n",
       "      <th>bank acount</th>\n",
       "      <th>category</th>\n",
       "      <th>product_id</th>\n",
       "      <th>description</th>\n",
       "      <th>size</th>\n",
       "      <th>std_sales_price</th>\n",
       "      <th>purchase_price</th>\n",
       "      <th>bio</th>\n",
       "      <th>basic</th>\n",
       "    </tr>\n",
       "  </thead>\n",
       "  <tbody>\n",
       "    <tr>\n",
       "      <th>201</th>\n",
       "      <td>2018-01-01</td>\n",
       "      <td>12:20:00</td>\n",
       "      <td>14.0</td>\n",
       "      <td>67267391.0</td>\n",
       "      <td>vegetable</td>\n",
       "      <td>v_17</td>\n",
       "      <td>Biologische prei</td>\n",
       "      <td>1st</td>\n",
       "      <td>0.85</td>\n",
       "      <td>0.85</td>\n",
       "      <td>1.0</td>\n",
       "      <td>0.0</td>\n",
       "    </tr>\n",
       "    <tr>\n",
       "      <th>867</th>\n",
       "      <td>2018-01-01</td>\n",
       "      <td>18:41:40</td>\n",
       "      <td>48.0</td>\n",
       "      <td>NaN</td>\n",
       "      <td>vegetable</td>\n",
       "      <td>v_17</td>\n",
       "      <td>Biologische prei</td>\n",
       "      <td>1st</td>\n",
       "      <td>0.85</td>\n",
       "      <td>0.85</td>\n",
       "      <td>1.0</td>\n",
       "      <td>0.0</td>\n",
       "    </tr>\n",
       "    <tr>\n",
       "      <th>28992</th>\n",
       "      <td>2018-01-02</td>\n",
       "      <td>11:53:17</td>\n",
       "      <td>1708.0</td>\n",
       "      <td>NaN</td>\n",
       "      <td>vegetable</td>\n",
       "      <td>v_17</td>\n",
       "      <td>Biologische prei</td>\n",
       "      <td>1st</td>\n",
       "      <td>0.85</td>\n",
       "      <td>0.85</td>\n",
       "      <td>1.0</td>\n",
       "      <td>0.0</td>\n",
       "    </tr>\n",
       "    <tr>\n",
       "      <th>56097</th>\n",
       "      <td>2018-01-03</td>\n",
       "      <td>11:30:50</td>\n",
       "      <td>3333.0</td>\n",
       "      <td>73458689.0</td>\n",
       "      <td>vegetable</td>\n",
       "      <td>v_17</td>\n",
       "      <td>Biologische prei</td>\n",
       "      <td>1st</td>\n",
       "      <td>0.85</td>\n",
       "      <td>0.85</td>\n",
       "      <td>1.0</td>\n",
       "      <td>0.0</td>\n",
       "    </tr>\n",
       "    <tr>\n",
       "      <th>56293</th>\n",
       "      <td>2018-01-03</td>\n",
       "      <td>14:02:46</td>\n",
       "      <td>3348.0</td>\n",
       "      <td>33780213.0</td>\n",
       "      <td>vegetable</td>\n",
       "      <td>v_17</td>\n",
       "      <td>Biologische prei</td>\n",
       "      <td>1st</td>\n",
       "      <td>0.85</td>\n",
       "      <td>0.85</td>\n",
       "      <td>1.0</td>\n",
       "      <td>0.0</td>\n",
       "    </tr>\n",
       "    <tr>\n",
       "      <th>56629</th>\n",
       "      <td>2018-01-03</td>\n",
       "      <td>18:38:07</td>\n",
       "      <td>3371.0</td>\n",
       "      <td>33780213.0</td>\n",
       "      <td>vegetable</td>\n",
       "      <td>v_17</td>\n",
       "      <td>Biologische prei</td>\n",
       "      <td>1st</td>\n",
       "      <td>0.85</td>\n",
       "      <td>0.85</td>\n",
       "      <td>1.0</td>\n",
       "      <td>0.0</td>\n",
       "    </tr>\n",
       "  </tbody>\n",
       "</table>\n",
       "</div>"
      ],
      "text/plain": [
       "             day      time  customer  bank acount   category product_id  \\\n",
       "201   2018-01-01  12:20:00      14.0   67267391.0  vegetable       v_17   \n",
       "867   2018-01-01  18:41:40      48.0          NaN  vegetable       v_17   \n",
       "28992 2018-01-02  11:53:17    1708.0          NaN  vegetable       v_17   \n",
       "56097 2018-01-03  11:30:50    3333.0   73458689.0  vegetable       v_17   \n",
       "56293 2018-01-03  14:02:46    3348.0   33780213.0  vegetable       v_17   \n",
       "56629 2018-01-03  18:38:07    3371.0   33780213.0  vegetable       v_17   \n",
       "\n",
       "            description size  std_sales_price  purchase_price  bio  basic  \n",
       "201    Biologische prei  1st             0.85            0.85  1.0    0.0  \n",
       "867    Biologische prei  1st             0.85            0.85  1.0    0.0  \n",
       "28992  Biologische prei  1st             0.85            0.85  1.0    0.0  \n",
       "56097  Biologische prei  1st             0.85            0.85  1.0    0.0  \n",
       "56293  Biologische prei  1st             0.85            0.85  1.0    0.0  \n",
       "56629  Biologische prei  1st             0.85            0.85  1.0    0.0  "
      ]
     },
     "execution_count": 124,
     "metadata": {},
     "output_type": "execute_result"
    }
   ],
   "source": [
    "transactions[\"day\"] = pd.to_datetime(transactions[\"day\"])\n",
    "filter_transactions = transactions[transactions[\"description\"] == product]\n",
    "#converts date then filters transactions to contain selected product purchases\n",
    "\n",
    "first_restock = df_date[df_date[\"day\"] == 3][\"date\"].values[0]\n",
    "#first_restock check purchases mde before the first restock\n",
    "filter_transactions[filter_transactions[\"day\"] < first_restock]\n",
    "#PROBLEM: IF A PRODUCT HASN'T BEEN BOUGHT IN ONE DAY IT HAS A ZERO, CAUSES AN ERROR FEW CELLS "
   ]
  },
  {
   "cell_type": "code",
   "execution_count": 125,
   "metadata": {},
   "outputs": [
    {
     "data": {
      "text/plain": [
       "day\n",
       "0.142857     2\n",
       "0.285714     1\n",
       "0.428571     3\n",
       "0.571429     9\n",
       "0.714286     4\n",
       "            ..\n",
       "51.428571    4\n",
       "51.571429    4\n",
       "51.714286    2\n",
       "51.857143    2\n",
       "52.000000    2\n",
       "Name: product_id, Length: 336, dtype: int64"
      ]
     },
     "execution_count": 125,
     "metadata": {},
     "output_type": "execute_result"
    }
   ],
   "source": [
    "#cumulative sum of purchases from that product\n",
    "purchases_per_day = filter_transactions.groupby(\"day\").count()[\"product_id\"].cumsum()\n",
    "#purchases made per day from that product\n",
    "purchases_per_day_plotting = filter_transactions.groupby(\"day\").count()[\"product_id\"]\n",
    "#idk know what is this\n",
    "purchases_per_day_plotting.index = purchases_per_day_plotting.index.dayofyear/7\n",
    "purchases_per_day_plotting"
   ]
  },
  {
   "cell_type": "code",
   "execution_count": 126,
   "metadata": {},
   "outputs": [],
   "source": [
    "purchases_per_day.index[0].year\n",
    "weeknr = []\n",
    "for ind in purchases_per_day.index:\n",
    "    week = datetime.date(ind.year, ind.month, ind.day).isocalendar()[1]\n",
    "    weeknr.append(week)\n",
    "#week number for each purchase day\n"
   ]
  },
  {
   "cell_type": "code",
   "execution_count": 127,
   "metadata": {},
   "outputs": [
    {
     "name": "stderr",
     "output_type": "stream",
     "text": [
      "C:\\Users\\zolyo\\AppData\\Roaming\\Python\\Python38\\site-packages\\pandas\\core\\frame.py:4167: SettingWithCopyWarning:\n",
      "\n",
      "\n",
      "A value is trying to be set on a copy of a slice from a DataFrame\n",
      "\n",
      "See the caveats in the documentation: https://pandas.pydata.org/pandas-docs/stable/user_guide/indexing.html#returning-a-view-versus-a-copy\n",
      "\n"
     ]
    },
    {
     "data": {
      "text/html": [
       "<div>\n",
       "<style scoped>\n",
       "    .dataframe tbody tr th:only-of-type {\n",
       "        vertical-align: middle;\n",
       "    }\n",
       "\n",
       "    .dataframe tbody tr th {\n",
       "        vertical-align: top;\n",
       "    }\n",
       "\n",
       "    .dataframe thead th {\n",
       "        text-align: right;\n",
       "    }\n",
       "</style>\n",
       "<table border=\"1\" class=\"dataframe\">\n",
       "  <thead>\n",
       "    <tr style=\"text-align: right;\">\n",
       "      <th></th>\n",
       "      <th>best before</th>\n",
       "      <th>amount</th>\n",
       "    </tr>\n",
       "  </thead>\n",
       "  <tbody>\n",
       "    <tr>\n",
       "      <th>0</th>\n",
       "      <td>14</td>\n",
       "      <td>26</td>\n",
       "    </tr>\n",
       "    <tr>\n",
       "      <th>1</th>\n",
       "      <td>17</td>\n",
       "      <td>26</td>\n",
       "    </tr>\n",
       "    <tr>\n",
       "      <th>2</th>\n",
       "      <td>21</td>\n",
       "      <td>26</td>\n",
       "    </tr>\n",
       "    <tr>\n",
       "      <th>3</th>\n",
       "      <td>24</td>\n",
       "      <td>26</td>\n",
       "    </tr>\n",
       "    <tr>\n",
       "      <th>4</th>\n",
       "      <td>28</td>\n",
       "      <td>26</td>\n",
       "    </tr>\n",
       "    <tr>\n",
       "      <th>...</th>\n",
       "      <td>...</td>\n",
       "      <td>...</td>\n",
       "    </tr>\n",
       "    <tr>\n",
       "      <th>87</th>\n",
       "      <td>318</td>\n",
       "      <td>26</td>\n",
       "    </tr>\n",
       "    <tr>\n",
       "      <th>88</th>\n",
       "      <td>322</td>\n",
       "      <td>26</td>\n",
       "    </tr>\n",
       "    <tr>\n",
       "      <th>89</th>\n",
       "      <td>325</td>\n",
       "      <td>26</td>\n",
       "    </tr>\n",
       "    <tr>\n",
       "      <th>90</th>\n",
       "      <td>329</td>\n",
       "      <td>26</td>\n",
       "    </tr>\n",
       "    <tr>\n",
       "      <th>91</th>\n",
       "      <td>332</td>\n",
       "      <td>26</td>\n",
       "    </tr>\n",
       "  </tbody>\n",
       "</table>\n",
       "<p>92 rows × 2 columns</p>\n",
       "</div>"
      ],
      "text/plain": [
       "    best before  amount\n",
       "0            14      26\n",
       "1            17      26\n",
       "2            21      26\n",
       "3            24      26\n",
       "4            28      26\n",
       "..          ...     ...\n",
       "87          318      26\n",
       "88          322      26\n",
       "89          325      26\n",
       "90          329      26\n",
       "91          332      26\n",
       "\n",
       "[92 rows x 2 columns]"
      ]
     },
     "execution_count": 127,
     "metadata": {},
     "output_type": "execute_result"
    }
   ],
   "source": [
    "df_waste.drop(index=df_waste.tail(9).index, inplace=True)\n",
    "#drop the last rows not to cause index issues\n",
    "#STILL NEED TO BE FIXED\n",
    "df_waste"
   ]
  },
  {
   "cell_type": "code",
   "execution_count": 128,
   "metadata": {},
   "outputs": [
    {
     "name": "stderr",
     "output_type": "stream",
     "text": [
      "<ipython-input-128-62eb4934d63e>:1: SettingWithCopyWarning:\n",
      "\n",
      "\n",
      "A value is trying to be set on a copy of a slice from a DataFrame.\n",
      "Try using .loc[row_indexer,col_indexer] = value instead\n",
      "\n",
      "See the caveats in the documentation: https://pandas.pydata.org/pandas-docs/stable/user_guide/indexing.html#returning-a-view-versus-a-copy\n",
      "\n"
     ]
    },
    {
     "data": {
      "text/html": [
       "<div>\n",
       "<style scoped>\n",
       "    .dataframe tbody tr th:only-of-type {\n",
       "        vertical-align: middle;\n",
       "    }\n",
       "\n",
       "    .dataframe tbody tr th {\n",
       "        vertical-align: top;\n",
       "    }\n",
       "\n",
       "    .dataframe thead th {\n",
       "        text-align: right;\n",
       "    }\n",
       "</style>\n",
       "<table border=\"1\" class=\"dataframe\">\n",
       "  <thead>\n",
       "    <tr style=\"text-align: right;\">\n",
       "      <th></th>\n",
       "      <th>best before</th>\n",
       "      <th>amount</th>\n",
       "      <th>purchases</th>\n",
       "    </tr>\n",
       "  </thead>\n",
       "  <tbody>\n",
       "    <tr>\n",
       "      <th>0</th>\n",
       "      <td>14</td>\n",
       "      <td>26</td>\n",
       "      <td>57</td>\n",
       "    </tr>\n",
       "    <tr>\n",
       "      <th>1</th>\n",
       "      <td>17</td>\n",
       "      <td>26</td>\n",
       "      <td>62</td>\n",
       "    </tr>\n",
       "    <tr>\n",
       "      <th>2</th>\n",
       "      <td>21</td>\n",
       "      <td>26</td>\n",
       "      <td>81</td>\n",
       "    </tr>\n",
       "    <tr>\n",
       "      <th>3</th>\n",
       "      <td>24</td>\n",
       "      <td>26</td>\n",
       "      <td>98</td>\n",
       "    </tr>\n",
       "    <tr>\n",
       "      <th>4</th>\n",
       "      <td>28</td>\n",
       "      <td>26</td>\n",
       "      <td>115</td>\n",
       "    </tr>\n",
       "    <tr>\n",
       "      <th>...</th>\n",
       "      <td>...</td>\n",
       "      <td>...</td>\n",
       "      <td>...</td>\n",
       "    </tr>\n",
       "    <tr>\n",
       "      <th>87</th>\n",
       "      <td>318</td>\n",
       "      <td>26</td>\n",
       "      <td>1214</td>\n",
       "    </tr>\n",
       "    <tr>\n",
       "      <th>88</th>\n",
       "      <td>322</td>\n",
       "      <td>26</td>\n",
       "      <td>1227</td>\n",
       "    </tr>\n",
       "    <tr>\n",
       "      <th>89</th>\n",
       "      <td>325</td>\n",
       "      <td>26</td>\n",
       "      <td>1233</td>\n",
       "    </tr>\n",
       "    <tr>\n",
       "      <th>90</th>\n",
       "      <td>329</td>\n",
       "      <td>26</td>\n",
       "      <td>1249</td>\n",
       "    </tr>\n",
       "    <tr>\n",
       "      <th>91</th>\n",
       "      <td>332</td>\n",
       "      <td>26</td>\n",
       "      <td>1257</td>\n",
       "    </tr>\n",
       "  </tbody>\n",
       "</table>\n",
       "<p>92 rows × 3 columns</p>\n",
       "</div>"
      ],
      "text/plain": [
       "    best before  amount  purchases\n",
       "0            14      26         57\n",
       "1            17      26         62\n",
       "2            21      26         81\n",
       "3            24      26         98\n",
       "4            28      26        115\n",
       "..          ...     ...        ...\n",
       "87          318      26       1214\n",
       "88          322      26       1227\n",
       "89          325      26       1233\n",
       "90          329      26       1249\n",
       "91          332      26       1257\n",
       "\n",
       "[92 rows x 3 columns]"
      ]
     },
     "execution_count": 128,
     "metadata": {},
     "output_type": "execute_result"
    }
   ],
   "source": [
    "df_waste[\"purchases\"] = [purchases_per_day[i-1] for i in df_waste[\"best before\"]]\n",
    "#add cumulative sum of purchases up until that day (based on expiry dates)\n",
    "df_waste"
   ]
  },
  {
   "cell_type": "code",
   "execution_count": 129,
   "metadata": {},
   "outputs": [
    {
     "name": "stderr",
     "output_type": "stream",
     "text": [
      "<ipython-input-129-248a6f37d748>:1: SettingWithCopyWarning:\n",
      "\n",
      "\n",
      "A value is trying to be set on a copy of a slice from a DataFrame.\n",
      "Try using .loc[row_indexer,col_indexer] = value instead\n",
      "\n",
      "See the caveats in the documentation: https://pandas.pydata.org/pandas-docs/stable/user_guide/indexing.html#returning-a-view-versus-a-copy\n",
      "\n"
     ]
    },
    {
     "data": {
      "text/html": [
       "<div>\n",
       "<style scoped>\n",
       "    .dataframe tbody tr th:only-of-type {\n",
       "        vertical-align: middle;\n",
       "    }\n",
       "\n",
       "    .dataframe tbody tr th {\n",
       "        vertical-align: top;\n",
       "    }\n",
       "\n",
       "    .dataframe thead th {\n",
       "        text-align: right;\n",
       "    }\n",
       "</style>\n",
       "<table border=\"1\" class=\"dataframe\">\n",
       "  <thead>\n",
       "    <tr style=\"text-align: right;\">\n",
       "      <th></th>\n",
       "      <th>best before</th>\n",
       "      <th>amount</th>\n",
       "      <th>purchases</th>\n",
       "      <th>prev purchases</th>\n",
       "    </tr>\n",
       "  </thead>\n",
       "  <tbody>\n",
       "    <tr>\n",
       "      <th>0</th>\n",
       "      <td>14</td>\n",
       "      <td>26</td>\n",
       "      <td>57</td>\n",
       "      <td>NaN</td>\n",
       "    </tr>\n",
       "    <tr>\n",
       "      <th>1</th>\n",
       "      <td>17</td>\n",
       "      <td>26</td>\n",
       "      <td>62</td>\n",
       "      <td>5.0</td>\n",
       "    </tr>\n",
       "    <tr>\n",
       "      <th>2</th>\n",
       "      <td>21</td>\n",
       "      <td>26</td>\n",
       "      <td>81</td>\n",
       "      <td>19.0</td>\n",
       "    </tr>\n",
       "    <tr>\n",
       "      <th>3</th>\n",
       "      <td>24</td>\n",
       "      <td>26</td>\n",
       "      <td>98</td>\n",
       "      <td>17.0</td>\n",
       "    </tr>\n",
       "    <tr>\n",
       "      <th>4</th>\n",
       "      <td>28</td>\n",
       "      <td>26</td>\n",
       "      <td>115</td>\n",
       "      <td>17.0</td>\n",
       "    </tr>\n",
       "    <tr>\n",
       "      <th>...</th>\n",
       "      <td>...</td>\n",
       "      <td>...</td>\n",
       "      <td>...</td>\n",
       "      <td>...</td>\n",
       "    </tr>\n",
       "    <tr>\n",
       "      <th>87</th>\n",
       "      <td>318</td>\n",
       "      <td>26</td>\n",
       "      <td>1214</td>\n",
       "      <td>16.0</td>\n",
       "    </tr>\n",
       "    <tr>\n",
       "      <th>88</th>\n",
       "      <td>322</td>\n",
       "      <td>26</td>\n",
       "      <td>1227</td>\n",
       "      <td>13.0</td>\n",
       "    </tr>\n",
       "    <tr>\n",
       "      <th>89</th>\n",
       "      <td>325</td>\n",
       "      <td>26</td>\n",
       "      <td>1233</td>\n",
       "      <td>6.0</td>\n",
       "    </tr>\n",
       "    <tr>\n",
       "      <th>90</th>\n",
       "      <td>329</td>\n",
       "      <td>26</td>\n",
       "      <td>1249</td>\n",
       "      <td>16.0</td>\n",
       "    </tr>\n",
       "    <tr>\n",
       "      <th>91</th>\n",
       "      <td>332</td>\n",
       "      <td>26</td>\n",
       "      <td>1257</td>\n",
       "      <td>8.0</td>\n",
       "    </tr>\n",
       "  </tbody>\n",
       "</table>\n",
       "<p>92 rows × 4 columns</p>\n",
       "</div>"
      ],
      "text/plain": [
       "    best before  amount  purchases  prev purchases\n",
       "0            14      26         57             NaN\n",
       "1            17      26         62             5.0\n",
       "2            21      26         81            19.0\n",
       "3            24      26         98            17.0\n",
       "4            28      26        115            17.0\n",
       "..          ...     ...        ...             ...\n",
       "87          318      26       1214            16.0\n",
       "88          322      26       1227            13.0\n",
       "89          325      26       1233             6.0\n",
       "90          329      26       1249            16.0\n",
       "91          332      26       1257             8.0\n",
       "\n",
       "[92 rows x 4 columns]"
      ]
     },
     "execution_count": 129,
     "metadata": {},
     "output_type": "execute_result"
    }
   ],
   "source": [
    "df_waste[\"prev purchases\"] = df_waste[\"purchases\"].diff()\n",
    "df_waste #difference in purchases since a previous batch of product expired"
   ]
  },
  {
   "cell_type": "code",
   "execution_count": 130,
   "metadata": {},
   "outputs": [
    {
     "name": "stderr",
     "output_type": "stream",
     "text": [
      "<ipython-input-130-5d914a2b7924>:4: SettingWithCopyWarning:\n",
      "\n",
      "\n",
      "A value is trying to be set on a copy of a slice from a DataFrame.\n",
      "Try using .loc[row_indexer,col_indexer] = value instead\n",
      "\n",
      "See the caveats in the documentation: https://pandas.pydata.org/pandas-docs/stable/user_guide/indexing.html#returning-a-view-versus-a-copy\n",
      "\n",
      "C:\\Users\\zolyo\\AppData\\Roaming\\Python\\Python38\\site-packages\\pandas\\core\\indexing.py:670: SettingWithCopyWarning:\n",
      "\n",
      "\n",
      "A value is trying to be set on a copy of a slice from a DataFrame\n",
      "\n",
      "See the caveats in the documentation: https://pandas.pydata.org/pandas-docs/stable/user_guide/indexing.html#returning-a-view-versus-a-copy\n",
      "\n",
      "<ipython-input-130-5d914a2b7924>:6: SettingWithCopyWarning:\n",
      "\n",
      "\n",
      "A value is trying to be set on a copy of a slice from a DataFrame\n",
      "\n",
      "See the caveats in the documentation: https://pandas.pydata.org/pandas-docs/stable/user_guide/indexing.html#returning-a-view-versus-a-copy\n",
      "\n",
      "<ipython-input-130-5d914a2b7924>:24: SettingWithCopyWarning:\n",
      "\n",
      "\n",
      "A value is trying to be set on a copy of a slice from a DataFrame.\n",
      "Try using .loc[row_indexer,col_indexer] = value instead\n",
      "\n",
      "See the caveats in the documentation: https://pandas.pydata.org/pandas-docs/stable/user_guide/indexing.html#returning-a-view-versus-a-copy\n",
      "\n",
      "<ipython-input-130-5d914a2b7924>:29: SettingWithCopyWarning:\n",
      "\n",
      "\n",
      "A value is trying to be set on a copy of a slice from a DataFrame.\n",
      "Try using .loc[row_indexer,col_indexer] = value instead\n",
      "\n",
      "See the caveats in the documentation: https://pandas.pydata.org/pandas-docs/stable/user_guide/indexing.html#returning-a-view-versus-a-copy\n",
      "\n",
      "<ipython-input-130-5d914a2b7924>:30: SettingWithCopyWarning:\n",
      "\n",
      "\n",
      "A value is trying to be set on a copy of a slice from a DataFrame.\n",
      "Try using .loc[row_indexer,col_indexer] = value instead\n",
      "\n",
      "See the caveats in the documentation: https://pandas.pydata.org/pandas-docs/stable/user_guide/indexing.html#returning-a-view-versus-a-copy\n",
      "\n",
      "<ipython-input-130-5d914a2b7924>:31: SettingWithCopyWarning:\n",
      "\n",
      "\n",
      "A value is trying to be set on a copy of a slice from a DataFrame.\n",
      "Try using .loc[row_indexer,col_indexer] = value instead\n",
      "\n",
      "See the caveats in the documentation: https://pandas.pydata.org/pandas-docs/stable/user_guide/indexing.html#returning-a-view-versus-a-copy\n",
      "\n"
     ]
    },
    {
     "data": {
      "text/html": [
       "<div>\n",
       "<style scoped>\n",
       "    .dataframe tbody tr th:only-of-type {\n",
       "        vertical-align: middle;\n",
       "    }\n",
       "\n",
       "    .dataframe tbody tr th {\n",
       "        vertical-align: top;\n",
       "    }\n",
       "\n",
       "    .dataframe thead th {\n",
       "        text-align: right;\n",
       "    }\n",
       "</style>\n",
       "<table border=\"1\" class=\"dataframe\">\n",
       "  <thead>\n",
       "    <tr style=\"text-align: right;\">\n",
       "      <th></th>\n",
       "      <th>best before</th>\n",
       "      <th>amount</th>\n",
       "      <th>purchases</th>\n",
       "      <th>prev purchases</th>\n",
       "      <th>remaining</th>\n",
       "      <th>waste</th>\n",
       "      <th>date</th>\n",
       "      <th>week</th>\n",
       "    </tr>\n",
       "  </thead>\n",
       "  <tbody>\n",
       "    <tr>\n",
       "      <th>0</th>\n",
       "      <td>14</td>\n",
       "      <td>26</td>\n",
       "      <td>57</td>\n",
       "      <td>NaN</td>\n",
       "      <td>-31.0</td>\n",
       "      <td>-31.0</td>\n",
       "      <td>2018-01-15</td>\n",
       "      <td>3</td>\n",
       "    </tr>\n",
       "    <tr>\n",
       "      <th>1</th>\n",
       "      <td>17</td>\n",
       "      <td>26</td>\n",
       "      <td>62</td>\n",
       "      <td>5.0</td>\n",
       "      <td>21.0</td>\n",
       "      <td>-10.0</td>\n",
       "      <td>2018-01-18</td>\n",
       "      <td>3</td>\n",
       "    </tr>\n",
       "    <tr>\n",
       "      <th>2</th>\n",
       "      <td>21</td>\n",
       "      <td>26</td>\n",
       "      <td>81</td>\n",
       "      <td>19.0</td>\n",
       "      <td>7.0</td>\n",
       "      <td>-3.0</td>\n",
       "      <td>2018-01-22</td>\n",
       "      <td>4</td>\n",
       "    </tr>\n",
       "    <tr>\n",
       "      <th>3</th>\n",
       "      <td>24</td>\n",
       "      <td>26</td>\n",
       "      <td>98</td>\n",
       "      <td>17.0</td>\n",
       "      <td>9.0</td>\n",
       "      <td>6.0</td>\n",
       "      <td>2018-01-25</td>\n",
       "      <td>4</td>\n",
       "    </tr>\n",
       "    <tr>\n",
       "      <th>4</th>\n",
       "      <td>28</td>\n",
       "      <td>26</td>\n",
       "      <td>115</td>\n",
       "      <td>17.0</td>\n",
       "      <td>9.0</td>\n",
       "      <td>9.0</td>\n",
       "      <td>2018-01-29</td>\n",
       "      <td>5</td>\n",
       "    </tr>\n",
       "    <tr>\n",
       "      <th>...</th>\n",
       "      <td>...</td>\n",
       "      <td>...</td>\n",
       "      <td>...</td>\n",
       "      <td>...</td>\n",
       "      <td>...</td>\n",
       "      <td>...</td>\n",
       "      <td>...</td>\n",
       "      <td>...</td>\n",
       "    </tr>\n",
       "    <tr>\n",
       "      <th>87</th>\n",
       "      <td>318</td>\n",
       "      <td>26</td>\n",
       "      <td>1214</td>\n",
       "      <td>16.0</td>\n",
       "      <td>10.0</td>\n",
       "      <td>10.0</td>\n",
       "      <td>2018-11-15</td>\n",
       "      <td>46</td>\n",
       "    </tr>\n",
       "    <tr>\n",
       "      <th>88</th>\n",
       "      <td>322</td>\n",
       "      <td>26</td>\n",
       "      <td>1227</td>\n",
       "      <td>13.0</td>\n",
       "      <td>13.0</td>\n",
       "      <td>13.0</td>\n",
       "      <td>2018-11-19</td>\n",
       "      <td>47</td>\n",
       "    </tr>\n",
       "    <tr>\n",
       "      <th>89</th>\n",
       "      <td>325</td>\n",
       "      <td>26</td>\n",
       "      <td>1233</td>\n",
       "      <td>6.0</td>\n",
       "      <td>20.0</td>\n",
       "      <td>20.0</td>\n",
       "      <td>2018-11-22</td>\n",
       "      <td>47</td>\n",
       "    </tr>\n",
       "    <tr>\n",
       "      <th>90</th>\n",
       "      <td>329</td>\n",
       "      <td>26</td>\n",
       "      <td>1249</td>\n",
       "      <td>16.0</td>\n",
       "      <td>10.0</td>\n",
       "      <td>10.0</td>\n",
       "      <td>2018-11-26</td>\n",
       "      <td>48</td>\n",
       "    </tr>\n",
       "    <tr>\n",
       "      <th>91</th>\n",
       "      <td>332</td>\n",
       "      <td>26</td>\n",
       "      <td>1257</td>\n",
       "      <td>8.0</td>\n",
       "      <td>18.0</td>\n",
       "      <td>18.0</td>\n",
       "      <td>2018-11-29</td>\n",
       "      <td>48</td>\n",
       "    </tr>\n",
       "  </tbody>\n",
       "</table>\n",
       "<p>92 rows × 8 columns</p>\n",
       "</div>"
      ],
      "text/plain": [
       "    best before  amount  purchases  prev purchases  remaining  waste  \\\n",
       "0            14      26         57             NaN      -31.0  -31.0   \n",
       "1            17      26         62             5.0       21.0  -10.0   \n",
       "2            21      26         81            19.0        7.0   -3.0   \n",
       "3            24      26         98            17.0        9.0    6.0   \n",
       "4            28      26        115            17.0        9.0    9.0   \n",
       "..          ...     ...        ...             ...        ...    ...   \n",
       "87          318      26       1214            16.0       10.0   10.0   \n",
       "88          322      26       1227            13.0       13.0   13.0   \n",
       "89          325      26       1233             6.0       20.0   20.0   \n",
       "90          329      26       1249            16.0       10.0   10.0   \n",
       "91          332      26       1257             8.0       18.0   18.0   \n",
       "\n",
       "         date  week  \n",
       "0  2018-01-15     3  \n",
       "1  2018-01-18     3  \n",
       "2  2018-01-22     4  \n",
       "3  2018-01-25     4  \n",
       "4  2018-01-29     5  \n",
       "..        ...   ...  \n",
       "87 2018-11-15    46  \n",
       "88 2018-11-19    47  \n",
       "89 2018-11-22    47  \n",
       "90 2018-11-26    48  \n",
       "91 2018-11-29    48  \n",
       "\n",
       "[92 rows x 8 columns]"
      ]
     },
     "execution_count": 130,
     "metadata": {},
     "output_type": "execute_result"
    }
   ],
   "source": [
    "length = df_waste.shape[0]\n",
    "lst_waste = [] #nr rows in waste dataframe\n",
    "#amount left from the item\n",
    "df_waste[\"remaining\"] = df_waste[\"amount\"] - df_waste[\"prev purchases\"] \n",
    "#the first row is different as there is no prev pruchases available\n",
    "df_waste[\"remaining\"].iloc[0] = df_waste[\"amount\"].iloc[0] - df_waste[\"purchases\"].iloc[0]\n",
    "\n",
    "for i in range(length):\n",
    "    #iterates through the rows of the waste dataframe\n",
    "    current_row = df_waste.iloc[i]\n",
    "    if i == 0:\n",
    "        #\n",
    "        lst_waste.append(current_row[\"remaining\"])\n",
    "        continue     \n",
    "    else:\n",
    "        prev_row = df_waste.iloc[i-1] #previous row in dataframe\n",
    "        if lst_waste[-1] < 0:\n",
    "            #no idea whats happening here\n",
    "            waste = lst_waste[-1] + current_row[\"remaining\"]\n",
    "            lst_waste.append(lst_waste[-1] + current_row[\"remaining\"])\n",
    "        else:\n",
    "            lst_waste.append(current_row[\"remaining\"])\n",
    "    \n",
    "df_waste[\"waste\"] = lst_waste\n",
    "def date_converter(row):\n",
    "    converted_date = datetime.datetime(2018, 1, 1) + datetime.timedelta(row[\"best before\"])\n",
    "    return converted_date\n",
    "\n",
    "df_waste[\"date\"] = df_waste.apply(date_converter, axis = 1)\n",
    "df_waste[\"week\"] = df_waste.apply(week_of_year, axis = 1)\n",
    "df_waste[df_waste[\"waste\"] < 0][\"waste\"] = 0\n",
    "df_waste"
   ]
  },
  {
   "cell_type": "code",
   "execution_count": 131,
   "metadata": {},
   "outputs": [
    {
     "name": "stderr",
     "output_type": "stream",
     "text": [
      "<ipython-input-131-08904a856e7a>:1: SettingWithCopyWarning:\n",
      "\n",
      "\n",
      "A value is trying to be set on a copy of a slice from a DataFrame.\n",
      "Try using .loc[row_indexer,col_indexer] = value instead\n",
      "\n",
      "See the caveats in the documentation: https://pandas.pydata.org/pandas-docs/stable/user_guide/indexing.html#returning-a-view-versus-a-copy\n",
      "\n"
     ]
    }
   ],
   "source": [
    "df_waste[\"waste nn\"] = [i if i > 0 else 0 for i in df_waste[\"waste\"]]\n",
    "#takes nonnegative values which is counted as waste\n",
    "waste_group = df_waste.groupby(\"week\").sum()\n",
    "waste_group[\"weekly purchases\"] = waste_group[\"purchases\"].diff()\n"
   ]
  },
  {
   "cell_type": "markdown",
   "metadata": {},
   "source": [
    "## `df_waste` is prepared for plotting"
   ]
  },
  {
   "cell_type": "code",
   "execution_count": 132,
   "metadata": {},
   "outputs": [
    {
     "data": {
      "text/html": [
       "<div>\n",
       "<style scoped>\n",
       "    .dataframe tbody tr th:only-of-type {\n",
       "        vertical-align: middle;\n",
       "    }\n",
       "\n",
       "    .dataframe tbody tr th {\n",
       "        vertical-align: top;\n",
       "    }\n",
       "\n",
       "    .dataframe thead th {\n",
       "        text-align: right;\n",
       "    }\n",
       "</style>\n",
       "<table border=\"1\" class=\"dataframe\">\n",
       "  <thead>\n",
       "    <tr style=\"text-align: right;\">\n",
       "      <th></th>\n",
       "      <th>best before</th>\n",
       "      <th>amount</th>\n",
       "      <th>purchases</th>\n",
       "      <th>prev purchases</th>\n",
       "      <th>remaining</th>\n",
       "      <th>waste</th>\n",
       "      <th>waste nn</th>\n",
       "      <th>weekly purchases</th>\n",
       "    </tr>\n",
       "    <tr>\n",
       "      <th>week</th>\n",
       "      <th></th>\n",
       "      <th></th>\n",
       "      <th></th>\n",
       "      <th></th>\n",
       "      <th></th>\n",
       "      <th></th>\n",
       "      <th></th>\n",
       "      <th></th>\n",
       "    </tr>\n",
       "  </thead>\n",
       "  <tbody>\n",
       "    <tr>\n",
       "      <th>3</th>\n",
       "      <td>31</td>\n",
       "      <td>52</td>\n",
       "      <td>119</td>\n",
       "      <td>5.0</td>\n",
       "      <td>-10.0</td>\n",
       "      <td>-41.0</td>\n",
       "      <td>0.0</td>\n",
       "      <td>NaN</td>\n",
       "    </tr>\n",
       "    <tr>\n",
       "      <th>4</th>\n",
       "      <td>45</td>\n",
       "      <td>52</td>\n",
       "      <td>179</td>\n",
       "      <td>36.0</td>\n",
       "      <td>16.0</td>\n",
       "      <td>3.0</td>\n",
       "      <td>6.0</td>\n",
       "      <td>60.0</td>\n",
       "    </tr>\n",
       "    <tr>\n",
       "      <th>5</th>\n",
       "      <td>59</td>\n",
       "      <td>52</td>\n",
       "      <td>238</td>\n",
       "      <td>25.0</td>\n",
       "      <td>27.0</td>\n",
       "      <td>27.0</td>\n",
       "      <td>27.0</td>\n",
       "      <td>59.0</td>\n",
       "    </tr>\n",
       "    <tr>\n",
       "      <th>6</th>\n",
       "      <td>73</td>\n",
       "      <td>52</td>\n",
       "      <td>283</td>\n",
       "      <td>23.0</td>\n",
       "      <td>29.0</td>\n",
       "      <td>29.0</td>\n",
       "      <td>29.0</td>\n",
       "      <td>45.0</td>\n",
       "    </tr>\n",
       "    <tr>\n",
       "      <th>7</th>\n",
       "      <td>87</td>\n",
       "      <td>52</td>\n",
       "      <td>327</td>\n",
       "      <td>24.0</td>\n",
       "      <td>28.0</td>\n",
       "      <td>28.0</td>\n",
       "      <td>28.0</td>\n",
       "      <td>44.0</td>\n",
       "    </tr>\n",
       "    <tr>\n",
       "      <th>8</th>\n",
       "      <td>101</td>\n",
       "      <td>52</td>\n",
       "      <td>383</td>\n",
       "      <td>24.0</td>\n",
       "      <td>28.0</td>\n",
       "      <td>28.0</td>\n",
       "      <td>28.0</td>\n",
       "      <td>56.0</td>\n",
       "    </tr>\n",
       "    <tr>\n",
       "      <th>9</th>\n",
       "      <td>115</td>\n",
       "      <td>52</td>\n",
       "      <td>430</td>\n",
       "      <td>26.0</td>\n",
       "      <td>26.0</td>\n",
       "      <td>26.0</td>\n",
       "      <td>26.0</td>\n",
       "      <td>47.0</td>\n",
       "    </tr>\n",
       "    <tr>\n",
       "      <th>10</th>\n",
       "      <td>129</td>\n",
       "      <td>52</td>\n",
       "      <td>492</td>\n",
       "      <td>31.0</td>\n",
       "      <td>21.0</td>\n",
       "      <td>21.0</td>\n",
       "      <td>21.0</td>\n",
       "      <td>62.0</td>\n",
       "    </tr>\n",
       "    <tr>\n",
       "      <th>11</th>\n",
       "      <td>143</td>\n",
       "      <td>52</td>\n",
       "      <td>537</td>\n",
       "      <td>21.0</td>\n",
       "      <td>31.0</td>\n",
       "      <td>31.0</td>\n",
       "      <td>31.0</td>\n",
       "      <td>45.0</td>\n",
       "    </tr>\n",
       "    <tr>\n",
       "      <th>12</th>\n",
       "      <td>157</td>\n",
       "      <td>52</td>\n",
       "      <td>589</td>\n",
       "      <td>33.0</td>\n",
       "      <td>19.0</td>\n",
       "      <td>19.0</td>\n",
       "      <td>19.0</td>\n",
       "      <td>52.0</td>\n",
       "    </tr>\n",
       "    <tr>\n",
       "      <th>13</th>\n",
       "      <td>171</td>\n",
       "      <td>52</td>\n",
       "      <td>650</td>\n",
       "      <td>23.0</td>\n",
       "      <td>29.0</td>\n",
       "      <td>29.0</td>\n",
       "      <td>29.0</td>\n",
       "      <td>61.0</td>\n",
       "    </tr>\n",
       "    <tr>\n",
       "      <th>14</th>\n",
       "      <td>185</td>\n",
       "      <td>52</td>\n",
       "      <td>716</td>\n",
       "      <td>38.0</td>\n",
       "      <td>14.0</td>\n",
       "      <td>14.0</td>\n",
       "      <td>14.0</td>\n",
       "      <td>66.0</td>\n",
       "    </tr>\n",
       "    <tr>\n",
       "      <th>15</th>\n",
       "      <td>199</td>\n",
       "      <td>52</td>\n",
       "      <td>801</td>\n",
       "      <td>40.0</td>\n",
       "      <td>12.0</td>\n",
       "      <td>9.0</td>\n",
       "      <td>12.0</td>\n",
       "      <td>85.0</td>\n",
       "    </tr>\n",
       "    <tr>\n",
       "      <th>16</th>\n",
       "      <td>213</td>\n",
       "      <td>52</td>\n",
       "      <td>860</td>\n",
       "      <td>35.0</td>\n",
       "      <td>17.0</td>\n",
       "      <td>17.0</td>\n",
       "      <td>17.0</td>\n",
       "      <td>59.0</td>\n",
       "    </tr>\n",
       "    <tr>\n",
       "      <th>17</th>\n",
       "      <td>227</td>\n",
       "      <td>52</td>\n",
       "      <td>921</td>\n",
       "      <td>25.0</td>\n",
       "      <td>27.0</td>\n",
       "      <td>27.0</td>\n",
       "      <td>27.0</td>\n",
       "      <td>61.0</td>\n",
       "    </tr>\n",
       "    <tr>\n",
       "      <th>18</th>\n",
       "      <td>241</td>\n",
       "      <td>52</td>\n",
       "      <td>967</td>\n",
       "      <td>21.0</td>\n",
       "      <td>31.0</td>\n",
       "      <td>31.0</td>\n",
       "      <td>31.0</td>\n",
       "      <td>46.0</td>\n",
       "    </tr>\n",
       "    <tr>\n",
       "      <th>19</th>\n",
       "      <td>255</td>\n",
       "      <td>22</td>\n",
       "      <td>1020</td>\n",
       "      <td>27.0</td>\n",
       "      <td>-5.0</td>\n",
       "      <td>-13.0</td>\n",
       "      <td>0.0</td>\n",
       "      <td>53.0</td>\n",
       "    </tr>\n",
       "    <tr>\n",
       "      <th>20</th>\n",
       "      <td>269</td>\n",
       "      <td>52</td>\n",
       "      <td>1064</td>\n",
       "      <td>26.0</td>\n",
       "      <td>26.0</td>\n",
       "      <td>21.0</td>\n",
       "      <td>21.0</td>\n",
       "      <td>44.0</td>\n",
       "    </tr>\n",
       "    <tr>\n",
       "      <th>21</th>\n",
       "      <td>283</td>\n",
       "      <td>52</td>\n",
       "      <td>1122</td>\n",
       "      <td>29.0</td>\n",
       "      <td>23.0</td>\n",
       "      <td>23.0</td>\n",
       "      <td>23.0</td>\n",
       "      <td>58.0</td>\n",
       "    </tr>\n",
       "    <tr>\n",
       "      <th>22</th>\n",
       "      <td>297</td>\n",
       "      <td>52</td>\n",
       "      <td>1171</td>\n",
       "      <td>21.0</td>\n",
       "      <td>31.0</td>\n",
       "      <td>31.0</td>\n",
       "      <td>31.0</td>\n",
       "      <td>49.0</td>\n",
       "    </tr>\n",
       "    <tr>\n",
       "      <th>23</th>\n",
       "      <td>311</td>\n",
       "      <td>52</td>\n",
       "      <td>1225</td>\n",
       "      <td>28.0</td>\n",
       "      <td>24.0</td>\n",
       "      <td>24.0</td>\n",
       "      <td>24.0</td>\n",
       "      <td>54.0</td>\n",
       "    </tr>\n",
       "    <tr>\n",
       "      <th>24</th>\n",
       "      <td>325</td>\n",
       "      <td>52</td>\n",
       "      <td>1266</td>\n",
       "      <td>17.0</td>\n",
       "      <td>35.0</td>\n",
       "      <td>35.0</td>\n",
       "      <td>35.0</td>\n",
       "      <td>41.0</td>\n",
       "    </tr>\n",
       "    <tr>\n",
       "      <th>25</th>\n",
       "      <td>339</td>\n",
       "      <td>52</td>\n",
       "      <td>1316</td>\n",
       "      <td>27.0</td>\n",
       "      <td>25.0</td>\n",
       "      <td>25.0</td>\n",
       "      <td>25.0</td>\n",
       "      <td>50.0</td>\n",
       "    </tr>\n",
       "    <tr>\n",
       "      <th>26</th>\n",
       "      <td>353</td>\n",
       "      <td>52</td>\n",
       "      <td>1362</td>\n",
       "      <td>24.0</td>\n",
       "      <td>28.0</td>\n",
       "      <td>28.0</td>\n",
       "      <td>28.0</td>\n",
       "      <td>46.0</td>\n",
       "    </tr>\n",
       "    <tr>\n",
       "      <th>27</th>\n",
       "      <td>367</td>\n",
       "      <td>52</td>\n",
       "      <td>1400</td>\n",
       "      <td>18.0</td>\n",
       "      <td>34.0</td>\n",
       "      <td>34.0</td>\n",
       "      <td>34.0</td>\n",
       "      <td>38.0</td>\n",
       "    </tr>\n",
       "    <tr>\n",
       "      <th>28</th>\n",
       "      <td>381</td>\n",
       "      <td>52</td>\n",
       "      <td>1445</td>\n",
       "      <td>23.0</td>\n",
       "      <td>29.0</td>\n",
       "      <td>29.0</td>\n",
       "      <td>29.0</td>\n",
       "      <td>45.0</td>\n",
       "    </tr>\n",
       "    <tr>\n",
       "      <th>29</th>\n",
       "      <td>395</td>\n",
       "      <td>52</td>\n",
       "      <td>1489</td>\n",
       "      <td>23.0</td>\n",
       "      <td>29.0</td>\n",
       "      <td>29.0</td>\n",
       "      <td>29.0</td>\n",
       "      <td>44.0</td>\n",
       "    </tr>\n",
       "    <tr>\n",
       "      <th>30</th>\n",
       "      <td>409</td>\n",
       "      <td>52</td>\n",
       "      <td>1556</td>\n",
       "      <td>39.0</td>\n",
       "      <td>13.0</td>\n",
       "      <td>13.0</td>\n",
       "      <td>13.0</td>\n",
       "      <td>67.0</td>\n",
       "    </tr>\n",
       "    <tr>\n",
       "      <th>31</th>\n",
       "      <td>423</td>\n",
       "      <td>52</td>\n",
       "      <td>1623</td>\n",
       "      <td>27.0</td>\n",
       "      <td>25.0</td>\n",
       "      <td>25.0</td>\n",
       "      <td>25.0</td>\n",
       "      <td>67.0</td>\n",
       "    </tr>\n",
       "    <tr>\n",
       "      <th>32</th>\n",
       "      <td>437</td>\n",
       "      <td>52</td>\n",
       "      <td>1676</td>\n",
       "      <td>26.0</td>\n",
       "      <td>26.0</td>\n",
       "      <td>26.0</td>\n",
       "      <td>26.0</td>\n",
       "      <td>53.0</td>\n",
       "    </tr>\n",
       "    <tr>\n",
       "      <th>33</th>\n",
       "      <td>451</td>\n",
       "      <td>52</td>\n",
       "      <td>1728</td>\n",
       "      <td>28.0</td>\n",
       "      <td>24.0</td>\n",
       "      <td>24.0</td>\n",
       "      <td>24.0</td>\n",
       "      <td>52.0</td>\n",
       "    </tr>\n",
       "    <tr>\n",
       "      <th>34</th>\n",
       "      <td>465</td>\n",
       "      <td>52</td>\n",
       "      <td>1782</td>\n",
       "      <td>30.0</td>\n",
       "      <td>22.0</td>\n",
       "      <td>22.0</td>\n",
       "      <td>22.0</td>\n",
       "      <td>54.0</td>\n",
       "    </tr>\n",
       "    <tr>\n",
       "      <th>35</th>\n",
       "      <td>479</td>\n",
       "      <td>52</td>\n",
       "      <td>1863</td>\n",
       "      <td>36.0</td>\n",
       "      <td>16.0</td>\n",
       "      <td>15.0</td>\n",
       "      <td>16.0</td>\n",
       "      <td>81.0</td>\n",
       "    </tr>\n",
       "    <tr>\n",
       "      <th>36</th>\n",
       "      <td>493</td>\n",
       "      <td>52</td>\n",
       "      <td>1912</td>\n",
       "      <td>25.0</td>\n",
       "      <td>27.0</td>\n",
       "      <td>27.0</td>\n",
       "      <td>27.0</td>\n",
       "      <td>49.0</td>\n",
       "    </tr>\n",
       "    <tr>\n",
       "      <th>37</th>\n",
       "      <td>507</td>\n",
       "      <td>52</td>\n",
       "      <td>1965</td>\n",
       "      <td>28.0</td>\n",
       "      <td>24.0</td>\n",
       "      <td>24.0</td>\n",
       "      <td>24.0</td>\n",
       "      <td>53.0</td>\n",
       "    </tr>\n",
       "    <tr>\n",
       "      <th>38</th>\n",
       "      <td>521</td>\n",
       "      <td>52</td>\n",
       "      <td>2017</td>\n",
       "      <td>23.0</td>\n",
       "      <td>29.0</td>\n",
       "      <td>29.0</td>\n",
       "      <td>29.0</td>\n",
       "      <td>52.0</td>\n",
       "    </tr>\n",
       "    <tr>\n",
       "      <th>39</th>\n",
       "      <td>535</td>\n",
       "      <td>52</td>\n",
       "      <td>2052</td>\n",
       "      <td>19.0</td>\n",
       "      <td>33.0</td>\n",
       "      <td>33.0</td>\n",
       "      <td>33.0</td>\n",
       "      <td>35.0</td>\n",
       "    </tr>\n",
       "    <tr>\n",
       "      <th>40</th>\n",
       "      <td>549</td>\n",
       "      <td>52</td>\n",
       "      <td>2103</td>\n",
       "      <td>26.0</td>\n",
       "      <td>26.0</td>\n",
       "      <td>26.0</td>\n",
       "      <td>26.0</td>\n",
       "      <td>51.0</td>\n",
       "    </tr>\n",
       "    <tr>\n",
       "      <th>41</th>\n",
       "      <td>563</td>\n",
       "      <td>52</td>\n",
       "      <td>2151</td>\n",
       "      <td>21.0</td>\n",
       "      <td>31.0</td>\n",
       "      <td>31.0</td>\n",
       "      <td>31.0</td>\n",
       "      <td>48.0</td>\n",
       "    </tr>\n",
       "    <tr>\n",
       "      <th>42</th>\n",
       "      <td>577</td>\n",
       "      <td>52</td>\n",
       "      <td>2197</td>\n",
       "      <td>27.0</td>\n",
       "      <td>25.0</td>\n",
       "      <td>25.0</td>\n",
       "      <td>25.0</td>\n",
       "      <td>46.0</td>\n",
       "    </tr>\n",
       "    <tr>\n",
       "      <th>43</th>\n",
       "      <td>591</td>\n",
       "      <td>52</td>\n",
       "      <td>2263</td>\n",
       "      <td>30.0</td>\n",
       "      <td>22.0</td>\n",
       "      <td>22.0</td>\n",
       "      <td>22.0</td>\n",
       "      <td>66.0</td>\n",
       "    </tr>\n",
       "    <tr>\n",
       "      <th>44</th>\n",
       "      <td>605</td>\n",
       "      <td>52</td>\n",
       "      <td>2312</td>\n",
       "      <td>28.0</td>\n",
       "      <td>24.0</td>\n",
       "      <td>24.0</td>\n",
       "      <td>24.0</td>\n",
       "      <td>49.0</td>\n",
       "    </tr>\n",
       "    <tr>\n",
       "      <th>45</th>\n",
       "      <td>619</td>\n",
       "      <td>52</td>\n",
       "      <td>2357</td>\n",
       "      <td>19.0</td>\n",
       "      <td>33.0</td>\n",
       "      <td>33.0</td>\n",
       "      <td>33.0</td>\n",
       "      <td>45.0</td>\n",
       "    </tr>\n",
       "    <tr>\n",
       "      <th>46</th>\n",
       "      <td>633</td>\n",
       "      <td>52</td>\n",
       "      <td>2412</td>\n",
       "      <td>32.0</td>\n",
       "      <td>20.0</td>\n",
       "      <td>20.0</td>\n",
       "      <td>20.0</td>\n",
       "      <td>55.0</td>\n",
       "    </tr>\n",
       "    <tr>\n",
       "      <th>47</th>\n",
       "      <td>647</td>\n",
       "      <td>52</td>\n",
       "      <td>2460</td>\n",
       "      <td>19.0</td>\n",
       "      <td>33.0</td>\n",
       "      <td>33.0</td>\n",
       "      <td>33.0</td>\n",
       "      <td>48.0</td>\n",
       "    </tr>\n",
       "    <tr>\n",
       "      <th>48</th>\n",
       "      <td>661</td>\n",
       "      <td>52</td>\n",
       "      <td>2506</td>\n",
       "      <td>24.0</td>\n",
       "      <td>28.0</td>\n",
       "      <td>28.0</td>\n",
       "      <td>28.0</td>\n",
       "      <td>46.0</td>\n",
       "    </tr>\n",
       "  </tbody>\n",
       "</table>\n",
       "</div>"
      ],
      "text/plain": [
       "      best before  amount  purchases  prev purchases  remaining  waste  \\\n",
       "week                                                                     \n",
       "3              31      52        119             5.0      -10.0  -41.0   \n",
       "4              45      52        179            36.0       16.0    3.0   \n",
       "5              59      52        238            25.0       27.0   27.0   \n",
       "6              73      52        283            23.0       29.0   29.0   \n",
       "7              87      52        327            24.0       28.0   28.0   \n",
       "8             101      52        383            24.0       28.0   28.0   \n",
       "9             115      52        430            26.0       26.0   26.0   \n",
       "10            129      52        492            31.0       21.0   21.0   \n",
       "11            143      52        537            21.0       31.0   31.0   \n",
       "12            157      52        589            33.0       19.0   19.0   \n",
       "13            171      52        650            23.0       29.0   29.0   \n",
       "14            185      52        716            38.0       14.0   14.0   \n",
       "15            199      52        801            40.0       12.0    9.0   \n",
       "16            213      52        860            35.0       17.0   17.0   \n",
       "17            227      52        921            25.0       27.0   27.0   \n",
       "18            241      52        967            21.0       31.0   31.0   \n",
       "19            255      22       1020            27.0       -5.0  -13.0   \n",
       "20            269      52       1064            26.0       26.0   21.0   \n",
       "21            283      52       1122            29.0       23.0   23.0   \n",
       "22            297      52       1171            21.0       31.0   31.0   \n",
       "23            311      52       1225            28.0       24.0   24.0   \n",
       "24            325      52       1266            17.0       35.0   35.0   \n",
       "25            339      52       1316            27.0       25.0   25.0   \n",
       "26            353      52       1362            24.0       28.0   28.0   \n",
       "27            367      52       1400            18.0       34.0   34.0   \n",
       "28            381      52       1445            23.0       29.0   29.0   \n",
       "29            395      52       1489            23.0       29.0   29.0   \n",
       "30            409      52       1556            39.0       13.0   13.0   \n",
       "31            423      52       1623            27.0       25.0   25.0   \n",
       "32            437      52       1676            26.0       26.0   26.0   \n",
       "33            451      52       1728            28.0       24.0   24.0   \n",
       "34            465      52       1782            30.0       22.0   22.0   \n",
       "35            479      52       1863            36.0       16.0   15.0   \n",
       "36            493      52       1912            25.0       27.0   27.0   \n",
       "37            507      52       1965            28.0       24.0   24.0   \n",
       "38            521      52       2017            23.0       29.0   29.0   \n",
       "39            535      52       2052            19.0       33.0   33.0   \n",
       "40            549      52       2103            26.0       26.0   26.0   \n",
       "41            563      52       2151            21.0       31.0   31.0   \n",
       "42            577      52       2197            27.0       25.0   25.0   \n",
       "43            591      52       2263            30.0       22.0   22.0   \n",
       "44            605      52       2312            28.0       24.0   24.0   \n",
       "45            619      52       2357            19.0       33.0   33.0   \n",
       "46            633      52       2412            32.0       20.0   20.0   \n",
       "47            647      52       2460            19.0       33.0   33.0   \n",
       "48            661      52       2506            24.0       28.0   28.0   \n",
       "\n",
       "      waste nn  weekly purchases  \n",
       "week                              \n",
       "3          0.0               NaN  \n",
       "4          6.0              60.0  \n",
       "5         27.0              59.0  \n",
       "6         29.0              45.0  \n",
       "7         28.0              44.0  \n",
       "8         28.0              56.0  \n",
       "9         26.0              47.0  \n",
       "10        21.0              62.0  \n",
       "11        31.0              45.0  \n",
       "12        19.0              52.0  \n",
       "13        29.0              61.0  \n",
       "14        14.0              66.0  \n",
       "15        12.0              85.0  \n",
       "16        17.0              59.0  \n",
       "17        27.0              61.0  \n",
       "18        31.0              46.0  \n",
       "19         0.0              53.0  \n",
       "20        21.0              44.0  \n",
       "21        23.0              58.0  \n",
       "22        31.0              49.0  \n",
       "23        24.0              54.0  \n",
       "24        35.0              41.0  \n",
       "25        25.0              50.0  \n",
       "26        28.0              46.0  \n",
       "27        34.0              38.0  \n",
       "28        29.0              45.0  \n",
       "29        29.0              44.0  \n",
       "30        13.0              67.0  \n",
       "31        25.0              67.0  \n",
       "32        26.0              53.0  \n",
       "33        24.0              52.0  \n",
       "34        22.0              54.0  \n",
       "35        16.0              81.0  \n",
       "36        27.0              49.0  \n",
       "37        24.0              53.0  \n",
       "38        29.0              52.0  \n",
       "39        33.0              35.0  \n",
       "40        26.0              51.0  \n",
       "41        31.0              48.0  \n",
       "42        25.0              46.0  \n",
       "43        22.0              66.0  \n",
       "44        24.0              49.0  \n",
       "45        33.0              45.0  \n",
       "46        20.0              55.0  \n",
       "47        33.0              48.0  \n",
       "48        28.0              46.0  "
      ]
     },
     "execution_count": 132,
     "metadata": {},
     "output_type": "execute_result"
    }
   ],
   "source": [
    "waste_group"
   ]
  },
  {
   "cell_type": "code",
   "execution_count": 133,
   "metadata": {},
   "outputs": [],
   "source": [
    "waste_group[\"week\"] = waste_group.index"
   ]
  },
  {
   "cell_type": "code",
   "execution_count": 134,
   "metadata": {},
   "outputs": [
    {
     "data": {
      "application/vnd.plotly.v1+json": {
       "config": {
        "plotlyServerURL": "https://plot.ly"
       },
       "data": [
        {
         "hovertemplate": "week=%{x}<br>waste nn=%{y}<extra></extra>",
         "legendgroup": "",
         "line": {
          "color": "#636efa",
          "dash": "solid"
         },
         "mode": "lines",
         "name": "",
         "orientation": "v",
         "showlegend": false,
         "type": "scatter",
         "x": [
          3,
          4,
          5,
          6,
          7,
          8,
          9,
          10,
          11,
          12,
          13,
          14,
          15,
          16,
          17,
          18,
          19,
          20,
          21,
          22,
          23,
          24,
          25,
          26,
          27,
          28,
          29,
          30,
          31,
          32,
          33,
          34,
          35,
          36,
          37,
          38,
          39,
          40,
          41,
          42,
          43,
          44,
          45,
          46,
          47,
          48
         ],
         "xaxis": "x",
         "y": [
          0,
          6,
          27,
          29,
          28,
          28,
          26,
          21,
          31,
          19,
          29,
          14,
          12,
          17,
          27,
          31,
          0,
          21,
          23,
          31,
          24,
          35,
          25,
          28,
          34,
          29,
          29,
          13,
          25,
          26,
          24,
          22,
          16,
          27,
          24,
          29,
          33,
          26,
          31,
          25,
          22,
          24,
          33,
          20,
          33,
          28
         ],
         "yaxis": "y"
        },
        {
         "mode": "lines",
         "type": "scatter",
         "x": [
          3,
          4,
          5,
          6,
          7,
          8,
          9,
          10,
          11,
          12,
          13,
          14,
          15,
          16,
          17,
          18,
          19,
          20,
          21,
          22,
          23,
          24,
          25,
          26,
          27,
          28,
          29,
          30,
          31,
          32,
          33,
          34,
          35,
          36,
          37,
          38,
          39,
          40,
          41,
          42,
          43,
          44,
          45,
          46,
          47,
          48
         ],
         "y": [
          52,
          52,
          52,
          52,
          52,
          52,
          52,
          52,
          52,
          52,
          52,
          52,
          52,
          52,
          52,
          52,
          22,
          52,
          52,
          52,
          52,
          52,
          52,
          52,
          52,
          52,
          52,
          52,
          52,
          52,
          52,
          52,
          52,
          52,
          52,
          52,
          52,
          52,
          52,
          52,
          52,
          52,
          52,
          52,
          52,
          52
         ]
        },
        {
         "mode": "lines",
         "type": "scatter",
         "x": [
          3,
          4,
          5,
          6,
          7,
          8,
          9,
          10,
          11,
          12,
          13,
          14,
          15,
          16,
          17,
          18,
          19,
          20,
          21,
          22,
          23,
          24,
          25,
          26,
          27,
          28,
          29,
          30,
          31,
          32,
          33,
          34,
          35,
          36,
          37,
          38,
          39,
          40,
          41,
          42,
          43,
          44,
          45,
          46,
          47,
          48
         ],
         "y": [
          null,
          60,
          59,
          45,
          44,
          56,
          47,
          62,
          45,
          52,
          61,
          66,
          85,
          59,
          61,
          46,
          53,
          44,
          58,
          49,
          54,
          41,
          50,
          46,
          38,
          45,
          44,
          67,
          67,
          53,
          52,
          54,
          81,
          49,
          53,
          52,
          35,
          51,
          48,
          46,
          66,
          49,
          45,
          55,
          48,
          46
         ]
        }
       ],
       "layout": {
        "legend": {
         "tracegroupgap": 0
        },
        "template": {
         "data": {
          "bar": [
           {
            "error_x": {
             "color": "#2a3f5f"
            },
            "error_y": {
             "color": "#2a3f5f"
            },
            "marker": {
             "line": {
              "color": "#E5ECF6",
              "width": 0.5
             }
            },
            "type": "bar"
           }
          ],
          "barpolar": [
           {
            "marker": {
             "line": {
              "color": "#E5ECF6",
              "width": 0.5
             }
            },
            "type": "barpolar"
           }
          ],
          "carpet": [
           {
            "aaxis": {
             "endlinecolor": "#2a3f5f",
             "gridcolor": "white",
             "linecolor": "white",
             "minorgridcolor": "white",
             "startlinecolor": "#2a3f5f"
            },
            "baxis": {
             "endlinecolor": "#2a3f5f",
             "gridcolor": "white",
             "linecolor": "white",
             "minorgridcolor": "white",
             "startlinecolor": "#2a3f5f"
            },
            "type": "carpet"
           }
          ],
          "choropleth": [
           {
            "colorbar": {
             "outlinewidth": 0,
             "ticks": ""
            },
            "type": "choropleth"
           }
          ],
          "contour": [
           {
            "colorbar": {
             "outlinewidth": 0,
             "ticks": ""
            },
            "colorscale": [
             [
              0,
              "#0d0887"
             ],
             [
              0.1111111111111111,
              "#46039f"
             ],
             [
              0.2222222222222222,
              "#7201a8"
             ],
             [
              0.3333333333333333,
              "#9c179e"
             ],
             [
              0.4444444444444444,
              "#bd3786"
             ],
             [
              0.5555555555555556,
              "#d8576b"
             ],
             [
              0.6666666666666666,
              "#ed7953"
             ],
             [
              0.7777777777777778,
              "#fb9f3a"
             ],
             [
              0.8888888888888888,
              "#fdca26"
             ],
             [
              1,
              "#f0f921"
             ]
            ],
            "type": "contour"
           }
          ],
          "contourcarpet": [
           {
            "colorbar": {
             "outlinewidth": 0,
             "ticks": ""
            },
            "type": "contourcarpet"
           }
          ],
          "heatmap": [
           {
            "colorbar": {
             "outlinewidth": 0,
             "ticks": ""
            },
            "colorscale": [
             [
              0,
              "#0d0887"
             ],
             [
              0.1111111111111111,
              "#46039f"
             ],
             [
              0.2222222222222222,
              "#7201a8"
             ],
             [
              0.3333333333333333,
              "#9c179e"
             ],
             [
              0.4444444444444444,
              "#bd3786"
             ],
             [
              0.5555555555555556,
              "#d8576b"
             ],
             [
              0.6666666666666666,
              "#ed7953"
             ],
             [
              0.7777777777777778,
              "#fb9f3a"
             ],
             [
              0.8888888888888888,
              "#fdca26"
             ],
             [
              1,
              "#f0f921"
             ]
            ],
            "type": "heatmap"
           }
          ],
          "heatmapgl": [
           {
            "colorbar": {
             "outlinewidth": 0,
             "ticks": ""
            },
            "colorscale": [
             [
              0,
              "#0d0887"
             ],
             [
              0.1111111111111111,
              "#46039f"
             ],
             [
              0.2222222222222222,
              "#7201a8"
             ],
             [
              0.3333333333333333,
              "#9c179e"
             ],
             [
              0.4444444444444444,
              "#bd3786"
             ],
             [
              0.5555555555555556,
              "#d8576b"
             ],
             [
              0.6666666666666666,
              "#ed7953"
             ],
             [
              0.7777777777777778,
              "#fb9f3a"
             ],
             [
              0.8888888888888888,
              "#fdca26"
             ],
             [
              1,
              "#f0f921"
             ]
            ],
            "type": "heatmapgl"
           }
          ],
          "histogram": [
           {
            "marker": {
             "colorbar": {
              "outlinewidth": 0,
              "ticks": ""
             }
            },
            "type": "histogram"
           }
          ],
          "histogram2d": [
           {
            "colorbar": {
             "outlinewidth": 0,
             "ticks": ""
            },
            "colorscale": [
             [
              0,
              "#0d0887"
             ],
             [
              0.1111111111111111,
              "#46039f"
             ],
             [
              0.2222222222222222,
              "#7201a8"
             ],
             [
              0.3333333333333333,
              "#9c179e"
             ],
             [
              0.4444444444444444,
              "#bd3786"
             ],
             [
              0.5555555555555556,
              "#d8576b"
             ],
             [
              0.6666666666666666,
              "#ed7953"
             ],
             [
              0.7777777777777778,
              "#fb9f3a"
             ],
             [
              0.8888888888888888,
              "#fdca26"
             ],
             [
              1,
              "#f0f921"
             ]
            ],
            "type": "histogram2d"
           }
          ],
          "histogram2dcontour": [
           {
            "colorbar": {
             "outlinewidth": 0,
             "ticks": ""
            },
            "colorscale": [
             [
              0,
              "#0d0887"
             ],
             [
              0.1111111111111111,
              "#46039f"
             ],
             [
              0.2222222222222222,
              "#7201a8"
             ],
             [
              0.3333333333333333,
              "#9c179e"
             ],
             [
              0.4444444444444444,
              "#bd3786"
             ],
             [
              0.5555555555555556,
              "#d8576b"
             ],
             [
              0.6666666666666666,
              "#ed7953"
             ],
             [
              0.7777777777777778,
              "#fb9f3a"
             ],
             [
              0.8888888888888888,
              "#fdca26"
             ],
             [
              1,
              "#f0f921"
             ]
            ],
            "type": "histogram2dcontour"
           }
          ],
          "mesh3d": [
           {
            "colorbar": {
             "outlinewidth": 0,
             "ticks": ""
            },
            "type": "mesh3d"
           }
          ],
          "parcoords": [
           {
            "line": {
             "colorbar": {
              "outlinewidth": 0,
              "ticks": ""
             }
            },
            "type": "parcoords"
           }
          ],
          "pie": [
           {
            "automargin": true,
            "type": "pie"
           }
          ],
          "scatter": [
           {
            "marker": {
             "colorbar": {
              "outlinewidth": 0,
              "ticks": ""
             }
            },
            "type": "scatter"
           }
          ],
          "scatter3d": [
           {
            "line": {
             "colorbar": {
              "outlinewidth": 0,
              "ticks": ""
             }
            },
            "marker": {
             "colorbar": {
              "outlinewidth": 0,
              "ticks": ""
             }
            },
            "type": "scatter3d"
           }
          ],
          "scattercarpet": [
           {
            "marker": {
             "colorbar": {
              "outlinewidth": 0,
              "ticks": ""
             }
            },
            "type": "scattercarpet"
           }
          ],
          "scattergeo": [
           {
            "marker": {
             "colorbar": {
              "outlinewidth": 0,
              "ticks": ""
             }
            },
            "type": "scattergeo"
           }
          ],
          "scattergl": [
           {
            "marker": {
             "colorbar": {
              "outlinewidth": 0,
              "ticks": ""
             }
            },
            "type": "scattergl"
           }
          ],
          "scattermapbox": [
           {
            "marker": {
             "colorbar": {
              "outlinewidth": 0,
              "ticks": ""
             }
            },
            "type": "scattermapbox"
           }
          ],
          "scatterpolar": [
           {
            "marker": {
             "colorbar": {
              "outlinewidth": 0,
              "ticks": ""
             }
            },
            "type": "scatterpolar"
           }
          ],
          "scatterpolargl": [
           {
            "marker": {
             "colorbar": {
              "outlinewidth": 0,
              "ticks": ""
             }
            },
            "type": "scatterpolargl"
           }
          ],
          "scatterternary": [
           {
            "marker": {
             "colorbar": {
              "outlinewidth": 0,
              "ticks": ""
             }
            },
            "type": "scatterternary"
           }
          ],
          "surface": [
           {
            "colorbar": {
             "outlinewidth": 0,
             "ticks": ""
            },
            "colorscale": [
             [
              0,
              "#0d0887"
             ],
             [
              0.1111111111111111,
              "#46039f"
             ],
             [
              0.2222222222222222,
              "#7201a8"
             ],
             [
              0.3333333333333333,
              "#9c179e"
             ],
             [
              0.4444444444444444,
              "#bd3786"
             ],
             [
              0.5555555555555556,
              "#d8576b"
             ],
             [
              0.6666666666666666,
              "#ed7953"
             ],
             [
              0.7777777777777778,
              "#fb9f3a"
             ],
             [
              0.8888888888888888,
              "#fdca26"
             ],
             [
              1,
              "#f0f921"
             ]
            ],
            "type": "surface"
           }
          ],
          "table": [
           {
            "cells": {
             "fill": {
              "color": "#EBF0F8"
             },
             "line": {
              "color": "white"
             }
            },
            "header": {
             "fill": {
              "color": "#C8D4E3"
             },
             "line": {
              "color": "white"
             }
            },
            "type": "table"
           }
          ]
         },
         "layout": {
          "annotationdefaults": {
           "arrowcolor": "#2a3f5f",
           "arrowhead": 0,
           "arrowwidth": 1
          },
          "coloraxis": {
           "colorbar": {
            "outlinewidth": 0,
            "ticks": ""
           }
          },
          "colorscale": {
           "diverging": [
            [
             0,
             "#8e0152"
            ],
            [
             0.1,
             "#c51b7d"
            ],
            [
             0.2,
             "#de77ae"
            ],
            [
             0.3,
             "#f1b6da"
            ],
            [
             0.4,
             "#fde0ef"
            ],
            [
             0.5,
             "#f7f7f7"
            ],
            [
             0.6,
             "#e6f5d0"
            ],
            [
             0.7,
             "#b8e186"
            ],
            [
             0.8,
             "#7fbc41"
            ],
            [
             0.9,
             "#4d9221"
            ],
            [
             1,
             "#276419"
            ]
           ],
           "sequential": [
            [
             0,
             "#0d0887"
            ],
            [
             0.1111111111111111,
             "#46039f"
            ],
            [
             0.2222222222222222,
             "#7201a8"
            ],
            [
             0.3333333333333333,
             "#9c179e"
            ],
            [
             0.4444444444444444,
             "#bd3786"
            ],
            [
             0.5555555555555556,
             "#d8576b"
            ],
            [
             0.6666666666666666,
             "#ed7953"
            ],
            [
             0.7777777777777778,
             "#fb9f3a"
            ],
            [
             0.8888888888888888,
             "#fdca26"
            ],
            [
             1,
             "#f0f921"
            ]
           ],
           "sequentialminus": [
            [
             0,
             "#0d0887"
            ],
            [
             0.1111111111111111,
             "#46039f"
            ],
            [
             0.2222222222222222,
             "#7201a8"
            ],
            [
             0.3333333333333333,
             "#9c179e"
            ],
            [
             0.4444444444444444,
             "#bd3786"
            ],
            [
             0.5555555555555556,
             "#d8576b"
            ],
            [
             0.6666666666666666,
             "#ed7953"
            ],
            [
             0.7777777777777778,
             "#fb9f3a"
            ],
            [
             0.8888888888888888,
             "#fdca26"
            ],
            [
             1,
             "#f0f921"
            ]
           ]
          },
          "colorway": [
           "#636efa",
           "#EF553B",
           "#00cc96",
           "#ab63fa",
           "#FFA15A",
           "#19d3f3",
           "#FF6692",
           "#B6E880",
           "#FF97FF",
           "#FECB52"
          ],
          "font": {
           "color": "#2a3f5f"
          },
          "geo": {
           "bgcolor": "white",
           "lakecolor": "white",
           "landcolor": "#E5ECF6",
           "showlakes": true,
           "showland": true,
           "subunitcolor": "white"
          },
          "hoverlabel": {
           "align": "left"
          },
          "hovermode": "closest",
          "mapbox": {
           "style": "light"
          },
          "paper_bgcolor": "white",
          "plot_bgcolor": "#E5ECF6",
          "polar": {
           "angularaxis": {
            "gridcolor": "white",
            "linecolor": "white",
            "ticks": ""
           },
           "bgcolor": "#E5ECF6",
           "radialaxis": {
            "gridcolor": "white",
            "linecolor": "white",
            "ticks": ""
           }
          },
          "scene": {
           "xaxis": {
            "backgroundcolor": "#E5ECF6",
            "gridcolor": "white",
            "gridwidth": 2,
            "linecolor": "white",
            "showbackground": true,
            "ticks": "",
            "zerolinecolor": "white"
           },
           "yaxis": {
            "backgroundcolor": "#E5ECF6",
            "gridcolor": "white",
            "gridwidth": 2,
            "linecolor": "white",
            "showbackground": true,
            "ticks": "",
            "zerolinecolor": "white"
           },
           "zaxis": {
            "backgroundcolor": "#E5ECF6",
            "gridcolor": "white",
            "gridwidth": 2,
            "linecolor": "white",
            "showbackground": true,
            "ticks": "",
            "zerolinecolor": "white"
           }
          },
          "shapedefaults": {
           "line": {
            "color": "#2a3f5f"
           }
          },
          "ternary": {
           "aaxis": {
            "gridcolor": "white",
            "linecolor": "white",
            "ticks": ""
           },
           "baxis": {
            "gridcolor": "white",
            "linecolor": "white",
            "ticks": ""
           },
           "bgcolor": "#E5ECF6",
           "caxis": {
            "gridcolor": "white",
            "linecolor": "white",
            "ticks": ""
           }
          },
          "title": {
           "x": 0.05
          },
          "xaxis": {
           "automargin": true,
           "gridcolor": "white",
           "linecolor": "white",
           "ticks": "",
           "title": {
            "standoff": 15
           },
           "zerolinecolor": "white",
           "zerolinewidth": 2
          },
          "yaxis": {
           "automargin": true,
           "gridcolor": "white",
           "linecolor": "white",
           "ticks": "",
           "title": {
            "standoff": 15
           },
           "zerolinecolor": "white",
           "zerolinewidth": 2
          }
         }
        },
        "title": {
         "text": "Absolute waste of Biologische prei per week"
        },
        "xaxis": {
         "anchor": "y",
         "domain": [
          0,
          1
         ],
         "title": {
          "text": "week"
         }
        },
        "yaxis": {
         "anchor": "x",
         "domain": [
          0,
          1
         ],
         "title": {
          "text": "Waste amount"
         }
        }
       }
      }
     },
     "metadata": {},
     "output_type": "display_data"
    }
   ],
   "source": [
    "import plotly.express as px\n",
    "fig = px.line(waste_group, x = \"week\", y = \"waste nn\", title=\"Absolute waste of {} per week\".format(product))\n",
    "fig.add_scatter(x=waste_group[\"week\"], y=waste_group[\"amount\"], mode=\"lines\")\n",
    "fig.add_scatter(x=waste_group[\"week\"], y=waste_group[\"weekly purchases\"], mode=\"lines\")\n",
    "fig.update_yaxes(title=\"Waste amount\")\n",
    "fig.show()"
   ]
  },
  {
   "cell_type": "code",
   "execution_count": 112,
   "metadata": {},
   "outputs": [
    {
     "data": {
      "text/plain": [
       "day\n",
       "2018-01-01       8\n",
       "2018-01-02      13\n",
       "2018-01-03      18\n",
       "2018-01-04      30\n",
       "2018-01-05      40\n",
       "              ... \n",
       "2018-12-26    2913\n",
       "2018-12-27    2918\n",
       "2018-12-28    2921\n",
       "2018-12-29    2934\n",
       "2018-12-30    2943\n",
       "Name: product_id, Length: 364, dtype: int64"
      ]
     },
     "execution_count": 112,
     "metadata": {},
     "output_type": "execute_result"
    }
   ],
   "source": [
    "purchases_per_day"
   ]
  },
  {
   "cell_type": "code",
   "execution_count": 71,
   "metadata": {},
   "outputs": [],
   "source": [
    "transactions[\"day\"] = pd.to_datetime(transactions[\"day\"])\n",
    "filter_transactions = transactions[transactions[\"description\"] == product]"
   ]
  },
  {
   "cell_type": "code",
   "execution_count": 86,
   "metadata": {},
   "outputs": [
    {
     "data": {
      "text/html": [
       "<div>\n",
       "<style scoped>\n",
       "    .dataframe tbody tr th:only-of-type {\n",
       "        vertical-align: middle;\n",
       "    }\n",
       "\n",
       "    .dataframe tbody tr th {\n",
       "        vertical-align: top;\n",
       "    }\n",
       "\n",
       "    .dataframe thead th {\n",
       "        text-align: right;\n",
       "    }\n",
       "</style>\n",
       "<table border=\"1\" class=\"dataframe\">\n",
       "  <thead>\n",
       "    <tr style=\"text-align: right;\">\n",
       "      <th></th>\n",
       "      <th>day</th>\n",
       "      <th>time</th>\n",
       "      <th>customer</th>\n",
       "      <th>bank acount</th>\n",
       "      <th>category</th>\n",
       "      <th>product_id</th>\n",
       "      <th>description</th>\n",
       "      <th>size</th>\n",
       "      <th>std_sales_price</th>\n",
       "      <th>purchase_price</th>\n",
       "      <th>bio</th>\n",
       "      <th>basic</th>\n",
       "    </tr>\n",
       "  </thead>\n",
       "  <tbody>\n",
       "    <tr>\n",
       "      <th>89</th>\n",
       "      <td>2018-01-01</td>\n",
       "      <td>10:40:13</td>\n",
       "      <td>6.0</td>\n",
       "      <td>54211938.0</td>\n",
       "      <td>vegetable</td>\n",
       "      <td>v_1</td>\n",
       "      <td>Komkommer</td>\n",
       "      <td>1st</td>\n",
       "      <td>0.69</td>\n",
       "      <td>0.69</td>\n",
       "      <td>0.0</td>\n",
       "      <td>0.0</td>\n",
       "    </tr>\n",
       "    <tr>\n",
       "      <th>467</th>\n",
       "      <td>2018-01-01</td>\n",
       "      <td>14:21:35</td>\n",
       "      <td>26.0</td>\n",
       "      <td>51433968.0</td>\n",
       "      <td>vegetable</td>\n",
       "      <td>v_1</td>\n",
       "      <td>Komkommer</td>\n",
       "      <td>1st</td>\n",
       "      <td>0.69</td>\n",
       "      <td>0.69</td>\n",
       "      <td>0.0</td>\n",
       "      <td>0.0</td>\n",
       "    </tr>\n",
       "    <tr>\n",
       "      <th>573</th>\n",
       "      <td>2018-01-01</td>\n",
       "      <td>15:36:46</td>\n",
       "      <td>33.0</td>\n",
       "      <td>30794082.0</td>\n",
       "      <td>vegetable</td>\n",
       "      <td>v_1</td>\n",
       "      <td>Komkommer</td>\n",
       "      <td>1st</td>\n",
       "      <td>0.69</td>\n",
       "      <td>0.69</td>\n",
       "      <td>0.0</td>\n",
       "      <td>0.0</td>\n",
       "    </tr>\n",
       "    <tr>\n",
       "      <th>700</th>\n",
       "      <td>2018-01-01</td>\n",
       "      <td>16:56:20</td>\n",
       "      <td>39.0</td>\n",
       "      <td>15832817.0</td>\n",
       "      <td>vegetable</td>\n",
       "      <td>v_1</td>\n",
       "      <td>Komkommer</td>\n",
       "      <td>1st</td>\n",
       "      <td>0.69</td>\n",
       "      <td>0.69</td>\n",
       "      <td>0.0</td>\n",
       "      <td>0.0</td>\n",
       "    </tr>\n",
       "    <tr>\n",
       "      <th>808</th>\n",
       "      <td>2018-01-01</td>\n",
       "      <td>18:15:29</td>\n",
       "      <td>46.0</td>\n",
       "      <td>90399261.0</td>\n",
       "      <td>vegetable</td>\n",
       "      <td>v_1</td>\n",
       "      <td>Komkommer</td>\n",
       "      <td>1st</td>\n",
       "      <td>0.69</td>\n",
       "      <td>0.69</td>\n",
       "      <td>0.0</td>\n",
       "      <td>0.0</td>\n",
       "    </tr>\n",
       "    <tr>\n",
       "      <th>821</th>\n",
       "      <td>2018-01-01</td>\n",
       "      <td>18:15:29</td>\n",
       "      <td>46.0</td>\n",
       "      <td>90399261.0</td>\n",
       "      <td>vegetable</td>\n",
       "      <td>v_1</td>\n",
       "      <td>Komkommer</td>\n",
       "      <td>1st</td>\n",
       "      <td>0.69</td>\n",
       "      <td>0.69</td>\n",
       "      <td>0.0</td>\n",
       "      <td>0.0</td>\n",
       "    </tr>\n",
       "    <tr>\n",
       "      <th>824</th>\n",
       "      <td>2018-01-01</td>\n",
       "      <td>18:15:29</td>\n",
       "      <td>46.0</td>\n",
       "      <td>90399261.0</td>\n",
       "      <td>vegetable</td>\n",
       "      <td>v_1</td>\n",
       "      <td>Komkommer</td>\n",
       "      <td>1st</td>\n",
       "      <td>0.69</td>\n",
       "      <td>0.69</td>\n",
       "      <td>0.0</td>\n",
       "      <td>0.0</td>\n",
       "    </tr>\n",
       "    <tr>\n",
       "      <th>879</th>\n",
       "      <td>2018-01-01</td>\n",
       "      <td>18:46:48</td>\n",
       "      <td>49.0</td>\n",
       "      <td>15382238.0</td>\n",
       "      <td>vegetable</td>\n",
       "      <td>v_1</td>\n",
       "      <td>Komkommer</td>\n",
       "      <td>1st</td>\n",
       "      <td>0.69</td>\n",
       "      <td>0.69</td>\n",
       "      <td>0.0</td>\n",
       "      <td>0.0</td>\n",
       "    </tr>\n",
       "    <tr>\n",
       "      <th>29093</th>\n",
       "      <td>2018-01-02</td>\n",
       "      <td>12:52:06</td>\n",
       "      <td>1714.0</td>\n",
       "      <td>28719528.0</td>\n",
       "      <td>vegetable</td>\n",
       "      <td>v_1</td>\n",
       "      <td>Komkommer</td>\n",
       "      <td>1st</td>\n",
       "      <td>0.69</td>\n",
       "      <td>0.69</td>\n",
       "      <td>0.0</td>\n",
       "      <td>0.0</td>\n",
       "    </tr>\n",
       "    <tr>\n",
       "      <th>29134</th>\n",
       "      <td>2018-01-02</td>\n",
       "      <td>13:44:14</td>\n",
       "      <td>1718.0</td>\n",
       "      <td>39309224.0</td>\n",
       "      <td>vegetable</td>\n",
       "      <td>v_1</td>\n",
       "      <td>Komkommer</td>\n",
       "      <td>1st</td>\n",
       "      <td>0.69</td>\n",
       "      <td>0.69</td>\n",
       "      <td>0.0</td>\n",
       "      <td>0.0</td>\n",
       "    </tr>\n",
       "    <tr>\n",
       "      <th>29295</th>\n",
       "      <td>2018-01-02</td>\n",
       "      <td>15:15:43</td>\n",
       "      <td>1728.0</td>\n",
       "      <td>8997496.0</td>\n",
       "      <td>vegetable</td>\n",
       "      <td>v_1</td>\n",
       "      <td>Komkommer</td>\n",
       "      <td>1st</td>\n",
       "      <td>0.69</td>\n",
       "      <td>0.69</td>\n",
       "      <td>0.0</td>\n",
       "      <td>0.0</td>\n",
       "    </tr>\n",
       "    <tr>\n",
       "      <th>29445</th>\n",
       "      <td>2018-01-02</td>\n",
       "      <td>17:57:52</td>\n",
       "      <td>1737.0</td>\n",
       "      <td>34052285.0</td>\n",
       "      <td>vegetable</td>\n",
       "      <td>v_1</td>\n",
       "      <td>Komkommer</td>\n",
       "      <td>1st</td>\n",
       "      <td>0.69</td>\n",
       "      <td>0.69</td>\n",
       "      <td>0.0</td>\n",
       "      <td>0.0</td>\n",
       "    </tr>\n",
       "    <tr>\n",
       "      <th>29559</th>\n",
       "      <td>2018-01-02</td>\n",
       "      <td>18:51:21</td>\n",
       "      <td>1745.0</td>\n",
       "      <td>50106779.0</td>\n",
       "      <td>vegetable</td>\n",
       "      <td>v_1</td>\n",
       "      <td>Komkommer</td>\n",
       "      <td>1st</td>\n",
       "      <td>0.69</td>\n",
       "      <td>0.69</td>\n",
       "      <td>0.0</td>\n",
       "      <td>0.0</td>\n",
       "    </tr>\n",
       "    <tr>\n",
       "      <th>55959</th>\n",
       "      <td>2018-01-03</td>\n",
       "      <td>9:22:58</td>\n",
       "      <td>3327.0</td>\n",
       "      <td>NaN</td>\n",
       "      <td>vegetable</td>\n",
       "      <td>v_1</td>\n",
       "      <td>Komkommer</td>\n",
       "      <td>1st</td>\n",
       "      <td>0.69</td>\n",
       "      <td>0.69</td>\n",
       "      <td>0.0</td>\n",
       "      <td>0.0</td>\n",
       "    </tr>\n",
       "    <tr>\n",
       "      <th>56275</th>\n",
       "      <td>2018-01-03</td>\n",
       "      <td>13:35:26</td>\n",
       "      <td>3346.0</td>\n",
       "      <td>73805186.0</td>\n",
       "      <td>vegetable</td>\n",
       "      <td>v_1</td>\n",
       "      <td>Komkommer</td>\n",
       "      <td>1st</td>\n",
       "      <td>0.69</td>\n",
       "      <td>0.69</td>\n",
       "      <td>0.0</td>\n",
       "      <td>0.0</td>\n",
       "    </tr>\n",
       "    <tr>\n",
       "      <th>56537</th>\n",
       "      <td>2018-01-03</td>\n",
       "      <td>16:48:00</td>\n",
       "      <td>3364.0</td>\n",
       "      <td>73806149.0</td>\n",
       "      <td>vegetable</td>\n",
       "      <td>v_1</td>\n",
       "      <td>Komkommer</td>\n",
       "      <td>1st</td>\n",
       "      <td>0.69</td>\n",
       "      <td>0.69</td>\n",
       "      <td>0.0</td>\n",
       "      <td>0.0</td>\n",
       "    </tr>\n",
       "    <tr>\n",
       "      <th>56586</th>\n",
       "      <td>2018-01-03</td>\n",
       "      <td>17:58:20</td>\n",
       "      <td>3369.0</td>\n",
       "      <td>319898.0</td>\n",
       "      <td>vegetable</td>\n",
       "      <td>v_1</td>\n",
       "      <td>Komkommer</td>\n",
       "      <td>1st</td>\n",
       "      <td>0.69</td>\n",
       "      <td>0.69</td>\n",
       "      <td>0.0</td>\n",
       "      <td>0.0</td>\n",
       "    </tr>\n",
       "    <tr>\n",
       "      <th>56613</th>\n",
       "      <td>2018-01-03</td>\n",
       "      <td>18:20:23</td>\n",
       "      <td>3370.0</td>\n",
       "      <td>98645816.0</td>\n",
       "      <td>vegetable</td>\n",
       "      <td>v_1</td>\n",
       "      <td>Komkommer</td>\n",
       "      <td>1st</td>\n",
       "      <td>0.69</td>\n",
       "      <td>0.69</td>\n",
       "      <td>0.0</td>\n",
       "      <td>0.0</td>\n",
       "    </tr>\n",
       "  </tbody>\n",
       "</table>\n",
       "</div>"
      ],
      "text/plain": [
       "             day      time  customer  bank acount   category product_id  \\\n",
       "89    2018-01-01  10:40:13       6.0   54211938.0  vegetable        v_1   \n",
       "467   2018-01-01  14:21:35      26.0   51433968.0  vegetable        v_1   \n",
       "573   2018-01-01  15:36:46      33.0   30794082.0  vegetable        v_1   \n",
       "700   2018-01-01  16:56:20      39.0   15832817.0  vegetable        v_1   \n",
       "808   2018-01-01  18:15:29      46.0   90399261.0  vegetable        v_1   \n",
       "821   2018-01-01  18:15:29      46.0   90399261.0  vegetable        v_1   \n",
       "824   2018-01-01  18:15:29      46.0   90399261.0  vegetable        v_1   \n",
       "879   2018-01-01  18:46:48      49.0   15382238.0  vegetable        v_1   \n",
       "29093 2018-01-02  12:52:06    1714.0   28719528.0  vegetable        v_1   \n",
       "29134 2018-01-02  13:44:14    1718.0   39309224.0  vegetable        v_1   \n",
       "29295 2018-01-02  15:15:43    1728.0    8997496.0  vegetable        v_1   \n",
       "29445 2018-01-02  17:57:52    1737.0   34052285.0  vegetable        v_1   \n",
       "29559 2018-01-02  18:51:21    1745.0   50106779.0  vegetable        v_1   \n",
       "55959 2018-01-03   9:22:58    3327.0          NaN  vegetable        v_1   \n",
       "56275 2018-01-03  13:35:26    3346.0   73805186.0  vegetable        v_1   \n",
       "56537 2018-01-03  16:48:00    3364.0   73806149.0  vegetable        v_1   \n",
       "56586 2018-01-03  17:58:20    3369.0     319898.0  vegetable        v_1   \n",
       "56613 2018-01-03  18:20:23    3370.0   98645816.0  vegetable        v_1   \n",
       "\n",
       "      description size  std_sales_price  purchase_price  bio  basic  \n",
       "89      Komkommer  1st             0.69            0.69  0.0    0.0  \n",
       "467     Komkommer  1st             0.69            0.69  0.0    0.0  \n",
       "573     Komkommer  1st             0.69            0.69  0.0    0.0  \n",
       "700     Komkommer  1st             0.69            0.69  0.0    0.0  \n",
       "808     Komkommer  1st             0.69            0.69  0.0    0.0  \n",
       "821     Komkommer  1st             0.69            0.69  0.0    0.0  \n",
       "824     Komkommer  1st             0.69            0.69  0.0    0.0  \n",
       "879     Komkommer  1st             0.69            0.69  0.0    0.0  \n",
       "29093   Komkommer  1st             0.69            0.69  0.0    0.0  \n",
       "29134   Komkommer  1st             0.69            0.69  0.0    0.0  \n",
       "29295   Komkommer  1st             0.69            0.69  0.0    0.0  \n",
       "29445   Komkommer  1st             0.69            0.69  0.0    0.0  \n",
       "29559   Komkommer  1st             0.69            0.69  0.0    0.0  \n",
       "55959   Komkommer  1st             0.69            0.69  0.0    0.0  \n",
       "56275   Komkommer  1st             0.69            0.69  0.0    0.0  \n",
       "56537   Komkommer  1st             0.69            0.69  0.0    0.0  \n",
       "56586   Komkommer  1st             0.69            0.69  0.0    0.0  \n",
       "56613   Komkommer  1st             0.69            0.69  0.0    0.0  "
      ]
     },
     "execution_count": 86,
     "metadata": {},
     "output_type": "execute_result"
    }
   ],
   "source": [
    "daydate = df_date[df_date[\"day\"] == 2][\"date\"].values[0]\n",
    "\n",
    "filter_transactions[filter_transactions[\"day\"] <= daydate]\n"
   ]
  },
  {
   "cell_type": "code",
   "execution_count": 111,
   "metadata": {},
   "outputs": [
    {
     "data": {
      "text/plain": [
       "day\n",
       "2018-01-01       8\n",
       "2018-01-02      13\n",
       "2018-01-03      18\n",
       "2018-01-04      30\n",
       "2018-01-05      40\n",
       "              ... \n",
       "2018-12-26    2913\n",
       "2018-12-27    2918\n",
       "2018-12-28    2921\n",
       "2018-12-29    2934\n",
       "2018-12-30    2943\n",
       "Name: product_id, Length: 364, dtype: int64"
      ]
     },
     "execution_count": 111,
     "metadata": {},
     "output_type": "execute_result"
    }
   ],
   "source": [
    "purchases_per_day = filter_transactions.groupby(\"day\").count()[\"product_id\"].cumsum()\n",
    "purchases_per_day"
   ]
  },
  {
   "cell_type": "code",
   "execution_count": 52,
   "metadata": {},
   "outputs": [
    {
     "data": {
      "text/plain": [
       "numpy.datetime64('2018-01-15T00:00:00.000000000')"
      ]
     },
     "execution_count": 52,
     "metadata": {},
     "output_type": "execute_result"
    }
   ],
   "source": [
    "daydate"
   ]
  },
  {
   "cell_type": "code",
   "execution_count": 15,
   "metadata": {},
   "outputs": [],
   "source": [
    "dayofyear = list(range(365))\n",
    "date = [datetime.datetime(2018, 1, 1) + datetime.timedelta(day) for day in dayofyear]\n",
    "df_date = pd.DataFrame({\"day\":dayofyear, \"date\":date})"
   ]
  }
 ],
 "metadata": {
  "kernelspec": {
   "display_name": "Python 3",
   "language": "python",
   "name": "python3"
  },
  "language_info": {
   "codemirror_mode": {
    "name": "ipython",
    "version": 3
   },
   "file_extension": ".py",
   "mimetype": "text/x-python",
   "name": "python",
   "nbconvert_exporter": "python",
   "pygments_lexer": "ipython3",
   "version": "3.7.7"
  }
 },
 "nbformat": 4,
 "nbformat_minor": 2
}