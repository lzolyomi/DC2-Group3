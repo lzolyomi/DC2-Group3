{
 "metadata": {
  "language_info": {
   "codemirror_mode": {
    "name": "ipython",
    "version": 3
   },
   "file_extension": ".py",
   "mimetype": "text/x-python",
   "name": "python",
   "nbconvert_exporter": "python",
   "pygments_lexer": "ipython3",
   "version": "3.8.2"
  },
  "orig_nbformat": 2,
  "kernelspec": {
   "name": "python382jvsc74a57bd01baa965d5efe3ac65b79dfc60c0d706280b1da80fedb7760faf2759126c4f253",
   "display_name": "Python 3.8.2 64-bit"
  },
  "metadata": {
   "interpreter": {
    "hash": "1baa965d5efe3ac65b79dfc60c0d706280b1da80fedb7760faf2759126c4f253"
   }
  }
 },
 "nbformat": 4,
 "nbformat_minor": 2,
 "cells": [
  {
   "cell_type": "code",
   "execution_count": 2,
   "metadata": {},
   "outputs": [],
   "source": [
    "#Importing necessary libraries (These are all the required libraries to run the full notebook)\n",
    "import pandas as pd\n",
    "import numpy as np \n",
    "import datetime\n",
    "import ast\n",
    "import plotly.express as px #only needed for plots\n",
    "from sklearn.linear_model import Ridge\n",
    "\n",
    "# Importing our custom functions, please make sure that the files are in the same directory as this notebook\n",
    "from discounts import disc_per_day\n",
    "from waste_functions import waste_analysis\n",
    "#reading in the four datasets\n",
    "inventory = pd.read_csv(\"data/inventory.csv\")\n",
    "products = pd.read_csv(\"data/products.csv\")\n",
    "promotions = pd.read_csv(\"data/promotions.csv\")\n",
    "transactions = pd.read_csv(\"data/transactions.csv\")\n",
    "#----- Deals with products having sold in more than one size\n",
    "tup_list2 = [('Blauwe bessen', '150g'), ('Rundergehakt', '300g '), ('Unox Gelderse rookworst', '285g'), ('Biologisch rundergehakt', '300g')]\n",
    "for pair in tup_list2:\n",
    "    transactions.loc[transactions[(transactions['description'] == pair[0]) & (transactions['size'] == pair[1])].index, 'description'] = pair[0] + '.1'\n",
    "    products.loc[products[(products['description'] == pair[0]) & (products['size'] == pair[1])].index, 'description'] = pair[0] + '.1'\n"
   ]
  },
  {
   "cell_type": "code",
   "execution_count": null,
   "metadata": {},
   "outputs": [],
   "source": [
    "discounts_per_day = disc_per_day(transactions) #returns a table with the nr of products on discount for each day "
   ]
  },
  {
   "source": [
    "## Start the waste optimization\n",
    "First pick a product and run the following cells and at the end it will produce the table and plots we used in our presentation and report"
   ],
   "cell_type": "markdown",
   "metadata": {}
  },
  {
   "cell_type": "code",
   "execution_count": null,
   "metadata": {},
   "outputs": [],
   "source": [
    "product = \"Biologische brocolli\" #product we want to analyze MODIFY to get results for another product"
   ]
  },
  {
   "cell_type": "code",
   "execution_count": null,
   "metadata": {},
   "outputs": [],
   "source": [
    "full_output_table = waste_analysis(inventory = inventory, transactions = transactions, df_product=products, product=product, discount_per_day=discounts_per_day)\n"
   ]
  },
  {
   "cell_type": "code",
   "execution_count": null,
   "metadata": {},
   "outputs": [],
   "source": [
    "full_output_table.head() #output table used for our main waste analysis and optimization"
   ]
  },
  {
   "cell_type": "code",
   "execution_count": null,
   "metadata": {},
   "outputs": [],
   "source": [
    "# >>>> Cells only needed for the plots\n",
    "# NOTE: The created plots are for one product chosen at the beginning of the notebook\n",
    "results = pd.DataFrame({\"Metric\":[\"Loss revenue\", \"Loss profit\", \"Waste cost\",\"Loss revenue\", \"Loss profit\", \"Waste cost\"], \"Method\":[\"Actual\", \"Actual\", \"Actual\", \"Predicted w/discounts\", \"Predicted w/discounts\", \"Predicted w/discounts\"], \"values\":output_full[money_cols].sum().values.round(1)})"
   ]
  },
  {
   "cell_type": "code",
   "execution_count": null,
   "metadata": {},
   "outputs": [],
   "source": [
    "# >>>> Barchart for revenue, profit loss and waste costs with and without optimization\n",
    "fig = px.bar(results, x=\"Metric\", y='values', color=\"Method\", barmode='group', text=\"values\")\n",
    "fig.update_layout(showlegend=False, xaxis_title=\"Product\",\n",
    "    yaxis_title=\"Out of Stock Event Count\",width=1000,\n",
    "    height=700, title={\n",
    "                'y':0.9,\n",
    "        'x':0.5,\n",
    "        'xanchor': 'center',\n",
    "        'yanchor': 'top'},\n",
    "        paper_bgcolor='rgba(0,0,0,0)')\n",
    "fig.show()"
   ]
  },
  {
   "cell_type": "code",
   "execution_count": null,
   "metadata": {},
   "outputs": [],
   "source": [
    "# >>>> Linechart for revenue loss per week\n",
    "output_copy = output_full.groupby(\"week\").sum()\n",
    "output_copy[\"MA7\"] = output_copy['expected loss revenue'].rolling(7).mean()\n",
    "output_copy[\"MA7_exp\"] = output_copy[\"loss revenue\"].rolling(7).mean()\n",
    "fig = px.line(output_copy, x=output_copy.index, y=\"MA7_exp\", title=\"Loss of revenue for biological  vegetables per week\")\n",
    "fig.add_scatter(x=output_copy.index, y=output_copy[\"MA7\"], mode=\"lines\", name=\"With discounts applied\")\n",
    "fig.update_layout(showlegend=False, xaxis_title=\"Week nr\",\n",
    "    yaxis_title=\"Revenue loss in €\",width=1000,\n",
    "    height=700, title={\n",
    "        \n",
    "                'y':0.9,\n",
    "        'x':0.5,\n",
    "        'xanchor': 'center',\n",
    "        'yanchor': 'top'},\n",
    "        paper_bgcolor='rgba(0,0,0,0)')\n",
    "fig.show()"
   ]
  }
 ]
}