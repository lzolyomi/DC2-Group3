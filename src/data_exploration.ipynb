{
 "metadata": {
  "language_info": {
   "codemirror_mode": {
    "name": "ipython",
    "version": 3
   },
   "file_extension": ".py",
   "mimetype": "text/x-python",
   "name": "python",
   "nbconvert_exporter": "python",
   "pygments_lexer": "ipython3",
   "version": "3.8.5-final"
  },
  "orig_nbformat": 2,
  "kernelspec": {
   "name": "python3",
   "display_name": "Python 3",
   "language": "python"
  }
 },
 "nbformat": 4,
 "nbformat_minor": 2,
 "cells": [
  {
   "cell_type": "code",
   "execution_count": 13,
   "metadata": {},
   "outputs": [],
   "source": [
    "import pandas as pd\n",
    "import numpy as np \n",
    "import ast\n",
    "inventory = pd.read_csv(\"data/inventory.csv\")\n",
    "products = pd.read_csv(\"data/products.csv\")\n",
    "promotions = pd.read_csv(\"data/promotions.csv\")\n",
    "transactions = pd.read_csv(\"data/transactions.csv\")\n"
   ]
  },
  {
   "cell_type": "code",
   "execution_count": 14,
   "metadata": {},
   "outputs": [
    {
     "output_type": "execute_result",
     "data": {
      "text/plain": [
       "3688"
      ]
     },
     "metadata": {},
     "execution_count": 14
    }
   ],
   "source": [
    "for colname in inventory.columns[2:]:\n",
    "    inventory[colname] = [ast.literal_eval(i) for i in inventory[colname]]\n",
    "\n",
    "cucumber = inventory[\"Komkommer\"]\n",
    "amount = 0\n",
    "current_len = 0\n",
    "for inv in cucumber:\n",
    "    if len(inv) > current_len:\n",
    "        amount += inv[-1][-1]\n",
    "    current_len = len(inv)\n",
    "amount\n"
   ]
  },
  {
   "cell_type": "code",
   "execution_count": 15,
   "metadata": {},
   "outputs": [],
   "source": [
    "def count_inventory(colname, df_inventory):\n",
    "    item = df_inventory[colname]\n",
    "    amount = 0\n",
    "    current_len = 0\n",
    "    for inv in item:\n",
    "        if len(inv) > current_len:\n",
    "            amount += inv[-1][-1]\n",
    "        current_len = len(inv)\n",
    "    return amount\n"
   ]
  },
  {
   "cell_type": "code",
   "execution_count": 16,
   "metadata": {},
   "outputs": [
    {
     "output_type": "stream",
     "name": "stdout",
     "text": [
      "Komkommer\n",
      "Courgette\n",
      "SnoepVegetable tomaat\n",
      "Paprika Mix\n",
      "Paprika\n",
      "Geschrapte worteltjes\n",
      "Basis Sperziebonen\n",
      "Basis Rode kool met appel\n",
      "Basis worteltjes fijn\n",
      "Basis erwten zeer fijn\n",
      "Basis sperziebonen\n",
      "Biologische courgette\n",
      "Biologische Bloemkool\n",
      "Biologische knoflook\n",
      "Biologische pompoen\n",
      "Biologische kikkererwten\n",
      "Biologische prei\n",
      "Biologische rode kool\n",
      "Biologische cherry tomaten\n",
      "Biologische brocolli\n",
      "Boerenkool gesneden\n",
      "Spruiten\n",
      "Witlof\n",
      "Rucola\n",
      "Nasi bami Vegetable\n",
      "Snijbonen\n",
      "Buitenbeentjes puntpaprika\n",
      "Basis Maiskorrels\n",
      "Wortelen\n",
      "Pompoen stukjes\n",
      "Verse zuurkool\n",
      "Buitenbeentjes komkommer\n",
      "Buitenbeentjes paprika\n",
      "SnoepVegetable worteltjes\n",
      "WokVegetable thais\n",
      "Mandarijenen\n",
      "Bananen\n",
      "Chiquita bananen\n",
      "Pitloze witte druiven\n",
      "Zoete kleine appeltjes\n",
      "Pink lady appels\n",
      "Pitloze rode druiven\n",
      "Elstar\n",
      "Conference\n",
      "Biologische banane\n",
      "Citroenen\n",
      "Mango\n",
      "Blauwe bessen\n",
      "Blauwe bessen.1\n",
      "Aardbeien\n",
      "Jonagold\n",
      "Mandarijnen groot\n",
      "Mango eetrijp\n",
      "Buitenbeetjes appels\n",
      "Limoenen\n",
      "Granny smith\n",
      "Grapefruit rood\n",
      "Kanzi appelen\n",
      "Basis annanasstukjes\n",
      "Biologisch wilde bosbes\n",
      "Biologische rozijnen\n",
      "Biologische santana appelen\n",
      "Pitloze druivenmix\n",
      "Biologische sinaasappelen\n",
      "Aardbeien ontkroond\n",
      "Rundergehakt\n",
      "Gerookte spekreepjes\n",
      "Spekreepjes\n",
      "Mini gourmet hamburgers\n",
      "Unox Gelderse rookworst\n",
      "Half om half gehakt\n",
      "Rundergehakt.1\n",
      "Slavinken\n",
      "Mini biefstukjes\n",
      "Rundersoepballetjes\n",
      "Hamburgers\n",
      "Unox Gelderse rookworst.1\n",
      "Mini gourmet kipsatespiesjes\n",
      "Unox Magere rookworst\n",
      "Biologische spekreepjes\n",
      "Sappige gelders rookworst\n",
      "Biologisch rundergehakt\n",
      "Varkensbraadworst\n",
      "Runder riblap Iers\n",
      "rundergehakt\n",
      "gerookt onbijtspek\n",
      "rundervinken\n",
      "half of half gehakt\n",
      "Gekruide runderchipolata\n",
      "Biologisch rundergehakt.1\n",
      "Mini gourmet slavink\n",
      "Mini gourmet varkenshaas\n",
      "Zigeuner gehaktschnitzel\n",
      "Veluwse rookworst fijn\n",
      "Runderbraadworst\n",
      "Spekblokjes\n",
      "biologische Hamburger\n",
      "Mager rundergehakt\n",
      "Biologische gerookte ontbijtspek\n",
      "Biefstuk\n",
      "Biologische runderchipolata\n",
      "Biologische rundersoepballetjes\n",
      "Kipblokjes\n",
      "Kipfilet naturel\n",
      "Krokante Kipfiletschnitzel\n",
      "Kipfilet\n",
      "Zaans volkoren heel\n",
      "Tijger bruin heel\n",
      "Zaans volkoren half\n",
      "meergranen volkoren half\n",
      "Walkdorn heel\n",
      "Zaans bruin heel\n",
      "Tijger volkoren half\n",
      "Tijger volkoren heel\n",
      "Mais half\n",
      "Tijger bruin half\n",
      "Volkoren heel\n",
      "Meergranen volkoren heel\n",
      "Tijger wit half\n",
      "Vloerbrood meergranen\n",
      "Vloerbrood volkoren \n",
      "Casino wit half\n",
      "Tijger wit heel\n",
      "Bruin heel\n",
      "Zaanse sijnder bruin half\n",
      "Boerenvolkoren sesam heel\n",
      "Steiv spelt gesneden\n",
      "Krenten- en rozijnenbrood half\n",
      "Zaans volkoren \n",
      "Atkins laag koolhydraat volkoren brood half\n",
      "Bolletje Fries roggebrood\n",
      "Kaneelbroodjes\n",
      "Biologisch Vloerbrood meerzaden heel\n",
      "Basic meergranen heel\n",
      "Basic wit heel\n",
      "Basic casino half\n",
      "Basic volkoren heel\n",
      "Biologisch volkoren heel\n",
      "Biologisch bruin heel\n",
      "Glutenvrij bruin\n",
      "Muesli-notenbrood\n",
      "Basic roggebrood\n",
      "Melkbroodjes\n",
      "Krenten rozijnenwegge\n",
      "Amandelkrans\n",
      "Roomboter chocolade brood\n",
      "Chinois brioche\n",
      "Vanille muffins (vers)\n",
      "Basic chocolate chip cookies\n",
      "Oreo\n",
      "Bakkersspeculaas\n",
      "Eierkoeken\n",
      "Ribbelchips naturel\n",
      "Ribbelchips paprika\n",
      "Doritos sweet chili\n"
     ]
    }
   ],
   "source": [
    "dct_inv = {}\n",
    "dct_transactions = {}\n",
    "i = 0\n",
    "for colname in inventory.columns[2:]:\n",
    "    print(colname)\n",
    "    value = count_inventory(colname, inventory)\n",
    "    dct_inv[colname] = value\n",
    "    try:\n",
    "        bought_amount = transactions.groupby(\"description\").describe()[\"customer\"][\"count\"][colname]\n",
    "    except(KeyError):\n",
    "        bought_amount = value\n",
    "    dct_transactions[colname] = bought_amount\n",
    "    i += 1\n"
   ]
  },
  {
   "cell_type": "code",
   "execution_count": 17,
   "metadata": {},
   "outputs": [
    {
     "output_type": "execute_result",
     "data": {
      "text/plain": [
       "2151.0"
      ]
     },
     "metadata": {},
     "execution_count": 17
    }
   ],
   "source": [
    "transactions.groupby(\"description\").describe()[\"customer\"][\"count\"][\"Bananen\"]\n",
    "\n"
   ]
  },
  {
   "cell_type": "code",
   "execution_count": 18,
   "metadata": {},
   "outputs": [],
   "source": [
    "items_list = inventory.columns[2:]\n",
    "sum_inventory = dct_inv.values()\n",
    "purchases = dct_transactions.values()\n"
   ]
  },
  {
   "cell_type": "code",
   "execution_count": 19,
   "metadata": {},
   "outputs": [],
   "source": [
    "category_dct = {}\n",
    "categories = products[\"category\"].unique()\n",
    "\n",
    "vegetables = products[products[\"category\"] == categories[0]][\"description\"]\n",
    "for cat in categories:\n",
    "    items = products[products[\"category\"] == cat][\"description\"].values\n",
    "    category_dct[cat] = items\n",
    "\n",
    "categ_values = {}\n",
    "for categ in categories:\n",
    "    list = category_dct[categ]\n",
    "    for item in list:\n",
    "        categ_values[item] = categ\n",
    "categ_values[\"Blauwe bessen.1\"] = \"fruit\"\n",
    "categ_values[\"Rundergehakt.1\"] = \"meat\"\n",
    "categ_values[\"Unox Gelderse rookworst.1\"] = \"meat\"\n",
    "categ_values[\"Biologisch rundergehakt.1\"] = \"meat\"\n"
   ]
  },
  {
   "cell_type": "code",
   "execution_count": 20,
   "metadata": {},
   "outputs": [
    {
     "output_type": "execute_result",
     "data": {
      "text/plain": [
       "                      item  Inventory sum  purchases sum   Waste  Waste ratio  \\\n",
       "0                Komkommer           3688         2948.0   740.0     0.200651   \n",
       "1                Courgette           3506         2984.0   522.0     0.148888   \n",
       "2    SnoepVegetable tomaat           3860         3055.0   805.0     0.208549   \n",
       "3              Paprika Mix           3324         3037.0   287.0     0.086342   \n",
       "4                  Paprika           3362         3023.0   339.0     0.100833   \n",
       "..                     ...            ...            ...     ...          ...   \n",
       "150       Bakkersspeculaas           4568         3798.0   770.0     0.168564   \n",
       "151             Eierkoeken          13300        11498.0  1802.0     0.135489   \n",
       "152    Ribbelchips naturel           4624         3694.0   930.0     0.201125   \n",
       "153    Ribbelchips paprika           4420         3637.0   783.0     0.177149   \n",
       "154    Doritos sweet chili          13156        11121.0  2035.0     0.154682   \n",
       "\n",
       "      category  \n",
       "0    vegetable  \n",
       "1    vegetable  \n",
       "2    vegetable  \n",
       "3    vegetable  \n",
       "4    vegetable  \n",
       "..         ...  \n",
       "150      snack  \n",
       "151      snack  \n",
       "152      snack  \n",
       "153      snack  \n",
       "154      snack  \n",
       "\n",
       "[155 rows x 6 columns]"
      ],
      "text/html": "<div>\n<style scoped>\n    .dataframe tbody tr th:only-of-type {\n        vertical-align: middle;\n    }\n\n    .dataframe tbody tr th {\n        vertical-align: top;\n    }\n\n    .dataframe thead th {\n        text-align: right;\n    }\n</style>\n<table border=\"1\" class=\"dataframe\">\n  <thead>\n    <tr style=\"text-align: right;\">\n      <th></th>\n      <th>item</th>\n      <th>Inventory sum</th>\n      <th>purchases sum</th>\n      <th>Waste</th>\n      <th>Waste ratio</th>\n      <th>category</th>\n    </tr>\n  </thead>\n  <tbody>\n    <tr>\n      <th>0</th>\n      <td>Komkommer</td>\n      <td>3688</td>\n      <td>2948.0</td>\n      <td>740.0</td>\n      <td>0.200651</td>\n      <td>vegetable</td>\n    </tr>\n    <tr>\n      <th>1</th>\n      <td>Courgette</td>\n      <td>3506</td>\n      <td>2984.0</td>\n      <td>522.0</td>\n      <td>0.148888</td>\n      <td>vegetable</td>\n    </tr>\n    <tr>\n      <th>2</th>\n      <td>SnoepVegetable tomaat</td>\n      <td>3860</td>\n      <td>3055.0</td>\n      <td>805.0</td>\n      <td>0.208549</td>\n      <td>vegetable</td>\n    </tr>\n    <tr>\n      <th>3</th>\n      <td>Paprika Mix</td>\n      <td>3324</td>\n      <td>3037.0</td>\n      <td>287.0</td>\n      <td>0.086342</td>\n      <td>vegetable</td>\n    </tr>\n    <tr>\n      <th>4</th>\n      <td>Paprika</td>\n      <td>3362</td>\n      <td>3023.0</td>\n      <td>339.0</td>\n      <td>0.100833</td>\n      <td>vegetable</td>\n    </tr>\n    <tr>\n      <th>...</th>\n      <td>...</td>\n      <td>...</td>\n      <td>...</td>\n      <td>...</td>\n      <td>...</td>\n      <td>...</td>\n    </tr>\n    <tr>\n      <th>150</th>\n      <td>Bakkersspeculaas</td>\n      <td>4568</td>\n      <td>3798.0</td>\n      <td>770.0</td>\n      <td>0.168564</td>\n      <td>snack</td>\n    </tr>\n    <tr>\n      <th>151</th>\n      <td>Eierkoeken</td>\n      <td>13300</td>\n      <td>11498.0</td>\n      <td>1802.0</td>\n      <td>0.135489</td>\n      <td>snack</td>\n    </tr>\n    <tr>\n      <th>152</th>\n      <td>Ribbelchips naturel</td>\n      <td>4624</td>\n      <td>3694.0</td>\n      <td>930.0</td>\n      <td>0.201125</td>\n      <td>snack</td>\n    </tr>\n    <tr>\n      <th>153</th>\n      <td>Ribbelchips paprika</td>\n      <td>4420</td>\n      <td>3637.0</td>\n      <td>783.0</td>\n      <td>0.177149</td>\n      <td>snack</td>\n    </tr>\n    <tr>\n      <th>154</th>\n      <td>Doritos sweet chili</td>\n      <td>13156</td>\n      <td>11121.0</td>\n      <td>2035.0</td>\n      <td>0.154682</td>\n      <td>snack</td>\n    </tr>\n  </tbody>\n</table>\n<p>155 rows × 6 columns</p>\n</div>"
     },
     "metadata": {},
     "execution_count": 20
    }
   ],
   "source": [
    "final_df = pd.DataFrame({\"item\":items_list, \"Inventory sum\":sum_inventory, \"purchases sum\":purchases})\n",
    "final_df[\"Waste\"] = final_df[\"Inventory sum\"] - final_df[\"purchases sum\"]\n",
    "final_df[\"Waste ratio\"] = final_df[\"Waste\"]/final_df[\"Inventory sum\"]\n",
    "\n",
    "final_df[\"category\"] = [categ_values[i] for i in final_df[\"item\"]]\n",
    "final_df.to_csv(\"all_waste.csv\")\n",
    "final_df"
   ]
  },
  {
   "cell_type": "code",
   "execution_count": 21,
   "metadata": {},
   "outputs": [],
   "source": [
    "final_df.sort_values(\"Waste ratio\", ascending=False, inplace=True)"
   ]
  },
  {
   "cell_type": "code",
   "execution_count": 22,
   "metadata": {},
   "outputs": [
    {
     "output_type": "display_data",
     "data": {
      "application/vnd.plotly.v1+json": {
       "config": {
        "plotlyServerURL": "https://plot.ly"
       },
       "data": [
        {
         "alignmentgroup": "True",
         "hovertemplate": "category=vegetable<br>item=%{x}<br>Waste ratio=%{y}<extra></extra>",
         "legendgroup": "vegetable",
         "marker": {
          "color": "#636efa"
         },
         "name": "vegetable",
         "offsetgroup": "vegetable",
         "orientation": "v",
         "showlegend": true,
         "textposition": "auto",
         "type": "bar",
         "x": [
          "Biologische prei",
          "Biologische brocolli",
          "Biologische courgette",
          "Biologische rode kool",
          "Biologische cherry tomaten",
          "Biologische Bloemkool",
          "Biologische pompoen",
          "Biologische kikkererwten",
          "Biologische knoflook",
          "Basis Maiskorrels",
          "Basis Rode kool met appel",
          "SnoepVegetable worteltjes",
          "Basis erwten zeer fijn",
          "Basis sperziebonen",
          "SnoepVegetable tomaat",
          "Komkommer",
          "Basis Sperziebonen",
          "Boerenkool gesneden",
          "Witlof",
          "Rucola",
          "Pompoen stukjes",
          "Basis worteltjes fijn",
          "Buitenbeentjes puntpaprika",
          "Spruiten",
          "Wortelen",
          "Verse zuurkool",
          "Courgette",
          "WokVegetable thais",
          "Nasi bami Vegetable",
          "Geschrapte worteltjes",
          "Buitenbeentjes komkommer",
          "Snijbonen",
          "Paprika",
          "Buitenbeentjes paprika",
          "Paprika Mix"
         ],
         "xaxis": "x",
         "y": [
          0.525056095736724,
          0.5216593245227606,
          0.5189556509298998,
          0.5174461766889383,
          0.47109375,
          0.46294820717131474,
          0.46228528752800596,
          0.454320987654321,
          0.445703125,
          0.31065759637188206,
          0.2893845285149633,
          0.27234927234927236,
          0.26083138173302106,
          0.2300183038438072,
          0.20854922279792745,
          0.20065075921908893,
          0.18838254172015403,
          0.18766684463427658,
          0.18516483516483517,
          0.18407821229050278,
          0.16980624327233584,
          0.16933497536945813,
          0.16327077747989277,
          0.15275459098497496,
          0.1510989010989011,
          0.1491130820399113,
          0.1488876212207644,
          0.13329764453961457,
          0.13318534961154274,
          0.12956810631229235,
          0.12840466926070038,
          0.11918115535614134,
          0.10083283759666865,
          0.09356197352587245,
          0.08634175691937425
         ],
         "yaxis": "y"
        },
        {
         "alignmentgroup": "True",
         "hovertemplate": "category=bread<br>item=%{x}<br>Waste ratio=%{y}<extra></extra>",
         "legendgroup": "bread",
         "marker": {
          "color": "#EF553B"
         },
         "name": "bread",
         "offsetgroup": "bread",
         "orientation": "v",
         "showlegend": true,
         "textposition": "auto",
         "type": "bar",
         "x": [
          "Biologisch Vloerbrood meerzaden heel",
          "Biologisch bruin heel",
          "Biologisch volkoren heel",
          "Basic roggebrood",
          "Boerenvolkoren sesam heel",
          "Basic casino half",
          "Casino wit half",
          "Basic meergranen heel",
          "Basic volkoren heel",
          "Zaans volkoren half",
          "Basic wit heel",
          "Krenten- en rozijnenbrood half",
          "Bruin heel",
          "Walkdorn heel",
          "Glutenvrij bruin",
          "Zaans volkoren heel",
          "Atkins laag koolhydraat volkoren brood half",
          "Chinois brioche",
          "Melkbroodjes",
          "Mais half",
          "Vloerbrood meergranen",
          "Volkoren heel",
          "Zaans volkoren ",
          "Tijger volkoren half",
          "Tijger wit heel",
          "Tijger bruin half",
          "Zaans bruin heel",
          "Tijger wit half",
          "Krenten rozijnenwegge",
          "Roomboter chocolade brood",
          "Steiv spelt gesneden",
          "Meergranen volkoren heel",
          "Vloerbrood volkoren ",
          "Amandelkrans",
          "Tijger volkoren heel",
          "Kaneelbroodjes",
          "meergranen volkoren half",
          "Muesli-notenbrood",
          "Tijger bruin heel",
          "Bolletje Fries roggebrood",
          "Zaanse sijnder bruin half"
         ],
         "xaxis": "x",
         "y": [
          0.46142915144133173,
          0.4446606139213143,
          0.38584667228306657,
          0.28307022318998365,
          0.2656940760389036,
          0.24514991181657847,
          0.24424778761061947,
          0.23759864712514092,
          0.23170045045045046,
          0.22871376811594202,
          0.22819593787335724,
          0.22030651340996169,
          0.21743295019157088,
          0.20631970260223048,
          0.20484790874524714,
          0.20128676470588236,
          0.20036764705882354,
          0.1988360814742968,
          0.1984126984126984,
          0.1946277097078228,
          0.19242125984251968,
          0.18769074262461852,
          0.1865,
          0.18173076923076922,
          0.1731123388581952,
          0.17288801571709234,
          0.15403543307086615,
          0.1525096525096525,
          0.14970355731225296,
          0.1457905544147844,
          0.145769622833843,
          0.14134808853118713,
          0.13821138211382114,
          0.13565891472868216,
          0.13513513513513514,
          0.1324742268041237,
          0.12920168067226892,
          0.1285569105691057,
          0.12172088142707241,
          0.11664841182913473,
          0.10539979231568017
         ],
         "yaxis": "y"
        },
        {
         "alignmentgroup": "True",
         "hovertemplate": "category=fruit<br>item=%{x}<br>Waste ratio=%{y}<extra></extra>",
         "legendgroup": "fruit",
         "marker": {
          "color": "#00cc96"
         },
         "name": "fruit",
         "offsetgroup": "fruit",
         "orientation": "v",
         "showlegend": true,
         "textposition": "auto",
         "type": "bar",
         "x": [
          "Biologische sinaasappelen",
          "Biologische banane",
          "Biologisch wilde bosbes",
          "Biologische santana appelen",
          "Biologische rozijnen",
          "Mandarijenen",
          "Kanzi appelen",
          "Basis annanasstukjes",
          "Pink lady appels",
          "Bananen",
          "Citroenen",
          "Mango eetrijp",
          "Granny smith",
          "Elstar",
          "Mandarijnen groot",
          "Buitenbeetjes appels",
          "Pitloze druivenmix",
          "Aardbeien",
          "Grapefruit rood",
          "Limoenen",
          "Pitloze rode druiven",
          "Jonagold",
          "Aardbeien ontkroond",
          "Mango",
          "Chiquita bananen",
          "Conference",
          "Pitloze witte druiven",
          "Zoete kleine appeltjes",
          "Blauwe bessen",
          "Blauwe bessen.1"
         ],
         "xaxis": "x",
         "y": [
          0.4015503875968992,
          0.38661417322834646,
          0.37601626016260165,
          0.3620426829268293,
          0.3172995780590717,
          0.21804260985352863,
          0.20047011417058427,
          0.1706056129985229,
          0.16021260440394836,
          0.159765625,
          0.1532567049808429,
          0.15229295003422313,
          0.1520579268292683,
          0.14732142857142858,
          0.147239263803681,
          0.14516129032258066,
          0.13667953667953667,
          0.1348402182385035,
          0.1298449612403101,
          0.1256,
          0.11782708492731446,
          0.11035226455787203,
          0.10775566231983527,
          0.09425190194420964,
          0.08992506244796003,
          0.08207261724659606,
          0.06494464944649446,
          0.05672268907563025,
          0.0440935192780968,
          0
         ],
         "yaxis": "y"
        },
        {
         "alignmentgroup": "True",
         "hovertemplate": "category=meat<br>item=%{x}<br>Waste ratio=%{y}<extra></extra>",
         "legendgroup": "meat",
         "marker": {
          "color": "#ab63fa"
         },
         "name": "meat",
         "offsetgroup": "meat",
         "orientation": "v",
         "showlegend": true,
         "textposition": "auto",
         "type": "bar",
         "x": [
          "Biologische rundersoepballetjes",
          "Mini gourmet kipsatespiesjes",
          "Biologisch rundergehakt",
          "Kipfilet naturel",
          "Biologische gerookte ontbijtspek",
          "half of half gehakt",
          "Unox Magere rookworst",
          "Biologische runderchipolata",
          "Biologische spekreepjes",
          "biologische Hamburger",
          "rundervinken",
          "gerookt onbijtspek",
          "Hamburgers",
          "Biefstuk",
          "Mager rundergehakt",
          "Spekreepjes",
          "Mini gourmet varkenshaas",
          "Sappige gelders rookworst",
          "Rundersoepballetjes",
          "rundergehakt",
          "Gekruide runderchipolata",
          "Unox Gelderse rookworst",
          "Mini biefstukjes",
          "Runderbraadworst",
          "Mini gourmet hamburgers",
          "Varkensbraadworst",
          "Half om half gehakt",
          "Slavinken",
          "Kipfilet",
          "Gerookte spekreepjes",
          "Runder riblap Iers",
          "Kipblokjes",
          "Mini gourmet slavink",
          "Krokante Kipfiletschnitzel",
          "Spekblokjes",
          "Rundergehakt",
          "Zigeuner gehaktschnitzel",
          "Veluwse rookworst fijn",
          "Unox Gelderse rookworst.1",
          "Rundergehakt.1",
          "Biologisch rundergehakt.1"
         ],
         "xaxis": "x",
         "y": [
          0.30718954248366015,
          0.2273166023166023,
          0.21160714285714285,
          0.18312284730195177,
          0.173828125,
          0.1736111111111111,
          0.17138364779874213,
          0.1576923076923077,
          0.15576923076923077,
          0.1556420233463035,
          0.11743341404358354,
          0.11650485436893204,
          0.09915865384615384,
          0.094211123723042,
          0.0885678391959799,
          0.08774038461538461,
          0.08685162846803378,
          0.08620689655172414,
          0.08536585365853659,
          0.08383594692400483,
          0.07905138339920949,
          0.07851239669421488,
          0.07804232804232804,
          0.07248157248157248,
          0.06894409937888199,
          0.0687732342007435,
          0.06846733668341709,
          0.06017925736235595,
          0.05454545454545454,
          0.0524390243902439,
          0.04921259842519685,
          0.04780361757105943,
          0.04160887656033287,
          0.04143646408839779,
          0.028666666666666667,
          0.024007682458386685,
          0.01813110181311018,
          0.017857142857142856,
          0,
          0,
          0
         ],
         "yaxis": "y"
        },
        {
         "alignmentgroup": "True",
         "hovertemplate": "category=snack<br>item=%{x}<br>Waste ratio=%{y}<extra></extra>",
         "legendgroup": "snack",
         "marker": {
          "color": "#FFA15A"
         },
         "name": "snack",
         "offsetgroup": "snack",
         "orientation": "v",
         "showlegend": true,
         "textposition": "auto",
         "type": "bar",
         "x": [
          "Ribbelchips naturel",
          "Basic chocolate chip cookies",
          "Oreo",
          "Ribbelchips paprika",
          "Bakkersspeculaas",
          "Doritos sweet chili",
          "Vanille muffins (vers)",
          "Eierkoeken"
         ],
         "xaxis": "x",
         "y": [
          0.20112456747404844,
          0.20102632753235164,
          0.17853935947321162,
          0.17714932126696833,
          0.16856392294220665,
          0.15468227424749165,
          0.14892630928472114,
          0.13548872180451127
         ],
         "yaxis": "y"
        }
       ],
       "layout": {
        "barmode": "relative",
        "legend": {
         "title": {
          "text": "category"
         },
         "tracegroupgap": 0
        },
        "margin": {
         "t": 60
        },
        "template": {
         "data": {
          "bar": [
           {
            "error_x": {
             "color": "#2a3f5f"
            },
            "error_y": {
             "color": "#2a3f5f"
            },
            "marker": {
             "line": {
              "color": "#E5ECF6",
              "width": 0.5
             }
            },
            "type": "bar"
           }
          ],
          "barpolar": [
           {
            "marker": {
             "line": {
              "color": "#E5ECF6",
              "width": 0.5
             }
            },
            "type": "barpolar"
           }
          ],
          "carpet": [
           {
            "aaxis": {
             "endlinecolor": "#2a3f5f",
             "gridcolor": "white",
             "linecolor": "white",
             "minorgridcolor": "white",
             "startlinecolor": "#2a3f5f"
            },
            "baxis": {
             "endlinecolor": "#2a3f5f",
             "gridcolor": "white",
             "linecolor": "white",
             "minorgridcolor": "white",
             "startlinecolor": "#2a3f5f"
            },
            "type": "carpet"
           }
          ],
          "choropleth": [
           {
            "colorbar": {
             "outlinewidth": 0,
             "ticks": ""
            },
            "type": "choropleth"
           }
          ],
          "contour": [
           {
            "colorbar": {
             "outlinewidth": 0,
             "ticks": ""
            },
            "colorscale": [
             [
              0,
              "#0d0887"
             ],
             [
              0.1111111111111111,
              "#46039f"
             ],
             [
              0.2222222222222222,
              "#7201a8"
             ],
             [
              0.3333333333333333,
              "#9c179e"
             ],
             [
              0.4444444444444444,
              "#bd3786"
             ],
             [
              0.5555555555555556,
              "#d8576b"
             ],
             [
              0.6666666666666666,
              "#ed7953"
             ],
             [
              0.7777777777777778,
              "#fb9f3a"
             ],
             [
              0.8888888888888888,
              "#fdca26"
             ],
             [
              1,
              "#f0f921"
             ]
            ],
            "type": "contour"
           }
          ],
          "contourcarpet": [
           {
            "colorbar": {
             "outlinewidth": 0,
             "ticks": ""
            },
            "type": "contourcarpet"
           }
          ],
          "heatmap": [
           {
            "colorbar": {
             "outlinewidth": 0,
             "ticks": ""
            },
            "colorscale": [
             [
              0,
              "#0d0887"
             ],
             [
              0.1111111111111111,
              "#46039f"
             ],
             [
              0.2222222222222222,
              "#7201a8"
             ],
             [
              0.3333333333333333,
              "#9c179e"
             ],
             [
              0.4444444444444444,
              "#bd3786"
             ],
             [
              0.5555555555555556,
              "#d8576b"
             ],
             [
              0.6666666666666666,
              "#ed7953"
             ],
             [
              0.7777777777777778,
              "#fb9f3a"
             ],
             [
              0.8888888888888888,
              "#fdca26"
             ],
             [
              1,
              "#f0f921"
             ]
            ],
            "type": "heatmap"
           }
          ],
          "heatmapgl": [
           {
            "colorbar": {
             "outlinewidth": 0,
             "ticks": ""
            },
            "colorscale": [
             [
              0,
              "#0d0887"
             ],
             [
              0.1111111111111111,
              "#46039f"
             ],
             [
              0.2222222222222222,
              "#7201a8"
             ],
             [
              0.3333333333333333,
              "#9c179e"
             ],
             [
              0.4444444444444444,
              "#bd3786"
             ],
             [
              0.5555555555555556,
              "#d8576b"
             ],
             [
              0.6666666666666666,
              "#ed7953"
             ],
             [
              0.7777777777777778,
              "#fb9f3a"
             ],
             [
              0.8888888888888888,
              "#fdca26"
             ],
             [
              1,
              "#f0f921"
             ]
            ],
            "type": "heatmapgl"
           }
          ],
          "histogram": [
           {
            "marker": {
             "colorbar": {
              "outlinewidth": 0,
              "ticks": ""
             }
            },
            "type": "histogram"
           }
          ],
          "histogram2d": [
           {
            "colorbar": {
             "outlinewidth": 0,
             "ticks": ""
            },
            "colorscale": [
             [
              0,
              "#0d0887"
             ],
             [
              0.1111111111111111,
              "#46039f"
             ],
             [
              0.2222222222222222,
              "#7201a8"
             ],
             [
              0.3333333333333333,
              "#9c179e"
             ],
             [
              0.4444444444444444,
              "#bd3786"
             ],
             [
              0.5555555555555556,
              "#d8576b"
             ],
             [
              0.6666666666666666,
              "#ed7953"
             ],
             [
              0.7777777777777778,
              "#fb9f3a"
             ],
             [
              0.8888888888888888,
              "#fdca26"
             ],
             [
              1,
              "#f0f921"
             ]
            ],
            "type": "histogram2d"
           }
          ],
          "histogram2dcontour": [
           {
            "colorbar": {
             "outlinewidth": 0,
             "ticks": ""
            },
            "colorscale": [
             [
              0,
              "#0d0887"
             ],
             [
              0.1111111111111111,
              "#46039f"
             ],
             [
              0.2222222222222222,
              "#7201a8"
             ],
             [
              0.3333333333333333,
              "#9c179e"
             ],
             [
              0.4444444444444444,
              "#bd3786"
             ],
             [
              0.5555555555555556,
              "#d8576b"
             ],
             [
              0.6666666666666666,
              "#ed7953"
             ],
             [
              0.7777777777777778,
              "#fb9f3a"
             ],
             [
              0.8888888888888888,
              "#fdca26"
             ],
             [
              1,
              "#f0f921"
             ]
            ],
            "type": "histogram2dcontour"
           }
          ],
          "mesh3d": [
           {
            "colorbar": {
             "outlinewidth": 0,
             "ticks": ""
            },
            "type": "mesh3d"
           }
          ],
          "parcoords": [
           {
            "line": {
             "colorbar": {
              "outlinewidth": 0,
              "ticks": ""
             }
            },
            "type": "parcoords"
           }
          ],
          "pie": [
           {
            "automargin": true,
            "type": "pie"
           }
          ],
          "scatter": [
           {
            "marker": {
             "colorbar": {
              "outlinewidth": 0,
              "ticks": ""
             }
            },
            "type": "scatter"
           }
          ],
          "scatter3d": [
           {
            "line": {
             "colorbar": {
              "outlinewidth": 0,
              "ticks": ""
             }
            },
            "marker": {
             "colorbar": {
              "outlinewidth": 0,
              "ticks": ""
             }
            },
            "type": "scatter3d"
           }
          ],
          "scattercarpet": [
           {
            "marker": {
             "colorbar": {
              "outlinewidth": 0,
              "ticks": ""
             }
            },
            "type": "scattercarpet"
           }
          ],
          "scattergeo": [
           {
            "marker": {
             "colorbar": {
              "outlinewidth": 0,
              "ticks": ""
             }
            },
            "type": "scattergeo"
           }
          ],
          "scattergl": [
           {
            "marker": {
             "colorbar": {
              "outlinewidth": 0,
              "ticks": ""
             }
            },
            "type": "scattergl"
           }
          ],
          "scattermapbox": [
           {
            "marker": {
             "colorbar": {
              "outlinewidth": 0,
              "ticks": ""
             }
            },
            "type": "scattermapbox"
           }
          ],
          "scatterpolar": [
           {
            "marker": {
             "colorbar": {
              "outlinewidth": 0,
              "ticks": ""
             }
            },
            "type": "scatterpolar"
           }
          ],
          "scatterpolargl": [
           {
            "marker": {
             "colorbar": {
              "outlinewidth": 0,
              "ticks": ""
             }
            },
            "type": "scatterpolargl"
           }
          ],
          "scatterternary": [
           {
            "marker": {
             "colorbar": {
              "outlinewidth": 0,
              "ticks": ""
             }
            },
            "type": "scatterternary"
           }
          ],
          "surface": [
           {
            "colorbar": {
             "outlinewidth": 0,
             "ticks": ""
            },
            "colorscale": [
             [
              0,
              "#0d0887"
             ],
             [
              0.1111111111111111,
              "#46039f"
             ],
             [
              0.2222222222222222,
              "#7201a8"
             ],
             [
              0.3333333333333333,
              "#9c179e"
             ],
             [
              0.4444444444444444,
              "#bd3786"
             ],
             [
              0.5555555555555556,
              "#d8576b"
             ],
             [
              0.6666666666666666,
              "#ed7953"
             ],
             [
              0.7777777777777778,
              "#fb9f3a"
             ],
             [
              0.8888888888888888,
              "#fdca26"
             ],
             [
              1,
              "#f0f921"
             ]
            ],
            "type": "surface"
           }
          ],
          "table": [
           {
            "cells": {
             "fill": {
              "color": "#EBF0F8"
             },
             "line": {
              "color": "white"
             }
            },
            "header": {
             "fill": {
              "color": "#C8D4E3"
             },
             "line": {
              "color": "white"
             }
            },
            "type": "table"
           }
          ]
         },
         "layout": {
          "annotationdefaults": {
           "arrowcolor": "#2a3f5f",
           "arrowhead": 0,
           "arrowwidth": 1
          },
          "coloraxis": {
           "colorbar": {
            "outlinewidth": 0,
            "ticks": ""
           }
          },
          "colorscale": {
           "diverging": [
            [
             0,
             "#8e0152"
            ],
            [
             0.1,
             "#c51b7d"
            ],
            [
             0.2,
             "#de77ae"
            ],
            [
             0.3,
             "#f1b6da"
            ],
            [
             0.4,
             "#fde0ef"
            ],
            [
             0.5,
             "#f7f7f7"
            ],
            [
             0.6,
             "#e6f5d0"
            ],
            [
             0.7,
             "#b8e186"
            ],
            [
             0.8,
             "#7fbc41"
            ],
            [
             0.9,
             "#4d9221"
            ],
            [
             1,
             "#276419"
            ]
           ],
           "sequential": [
            [
             0,
             "#0d0887"
            ],
            [
             0.1111111111111111,
             "#46039f"
            ],
            [
             0.2222222222222222,
             "#7201a8"
            ],
            [
             0.3333333333333333,
             "#9c179e"
            ],
            [
             0.4444444444444444,
             "#bd3786"
            ],
            [
             0.5555555555555556,
             "#d8576b"
            ],
            [
             0.6666666666666666,
             "#ed7953"
            ],
            [
             0.7777777777777778,
             "#fb9f3a"
            ],
            [
             0.8888888888888888,
             "#fdca26"
            ],
            [
             1,
             "#f0f921"
            ]
           ],
           "sequentialminus": [
            [
             0,
             "#0d0887"
            ],
            [
             0.1111111111111111,
             "#46039f"
            ],
            [
             0.2222222222222222,
             "#7201a8"
            ],
            [
             0.3333333333333333,
             "#9c179e"
            ],
            [
             0.4444444444444444,
             "#bd3786"
            ],
            [
             0.5555555555555556,
             "#d8576b"
            ],
            [
             0.6666666666666666,
             "#ed7953"
            ],
            [
             0.7777777777777778,
             "#fb9f3a"
            ],
            [
             0.8888888888888888,
             "#fdca26"
            ],
            [
             1,
             "#f0f921"
            ]
           ]
          },
          "colorway": [
           "#636efa",
           "#EF553B",
           "#00cc96",
           "#ab63fa",
           "#FFA15A",
           "#19d3f3",
           "#FF6692",
           "#B6E880",
           "#FF97FF",
           "#FECB52"
          ],
          "font": {
           "color": "#2a3f5f"
          },
          "geo": {
           "bgcolor": "white",
           "lakecolor": "white",
           "landcolor": "#E5ECF6",
           "showlakes": true,
           "showland": true,
           "subunitcolor": "white"
          },
          "hoverlabel": {
           "align": "left"
          },
          "hovermode": "closest",
          "mapbox": {
           "style": "light"
          },
          "paper_bgcolor": "white",
          "plot_bgcolor": "#E5ECF6",
          "polar": {
           "angularaxis": {
            "gridcolor": "white",
            "linecolor": "white",
            "ticks": ""
           },
           "bgcolor": "#E5ECF6",
           "radialaxis": {
            "gridcolor": "white",
            "linecolor": "white",
            "ticks": ""
           }
          },
          "scene": {
           "xaxis": {
            "backgroundcolor": "#E5ECF6",
            "gridcolor": "white",
            "gridwidth": 2,
            "linecolor": "white",
            "showbackground": true,
            "ticks": "",
            "zerolinecolor": "white"
           },
           "yaxis": {
            "backgroundcolor": "#E5ECF6",
            "gridcolor": "white",
            "gridwidth": 2,
            "linecolor": "white",
            "showbackground": true,
            "ticks": "",
            "zerolinecolor": "white"
           },
           "zaxis": {
            "backgroundcolor": "#E5ECF6",
            "gridcolor": "white",
            "gridwidth": 2,
            "linecolor": "white",
            "showbackground": true,
            "ticks": "",
            "zerolinecolor": "white"
           }
          },
          "shapedefaults": {
           "line": {
            "color": "#2a3f5f"
           }
          },
          "ternary": {
           "aaxis": {
            "gridcolor": "white",
            "linecolor": "white",
            "ticks": ""
           },
           "baxis": {
            "gridcolor": "white",
            "linecolor": "white",
            "ticks": ""
           },
           "bgcolor": "#E5ECF6",
           "caxis": {
            "gridcolor": "white",
            "linecolor": "white",
            "ticks": ""
           }
          },
          "title": {
           "x": 0.05
          },
          "xaxis": {
           "automargin": true,
           "gridcolor": "white",
           "linecolor": "white",
           "ticks": "",
           "title": {
            "standoff": 15
           },
           "zerolinecolor": "white",
           "zerolinewidth": 2
          },
          "yaxis": {
           "automargin": true,
           "gridcolor": "white",
           "linecolor": "white",
           "ticks": "",
           "title": {
            "standoff": 15
           },
           "zerolinecolor": "white",
           "zerolinewidth": 2
          }
         }
        },
        "xaxis": {
         "anchor": "y",
         "domain": [
          0,
          1
         ],
         "showticklabels": false,
         "title": {
          "text": "x"
         },
         "visible": false
        },
        "yaxis": {
         "anchor": "x",
         "domain": [
          0,
          1
         ],
         "title": {
          "text": "Waste ratio"
         }
        }
       }
      }
     },
     "metadata": {}
    }
   ],
   "source": [
    "import plotly.express as px\n",
    "fig = px.bar(final_df, x=\"item\", y=\"Waste ratio\", color=\"category\")\n",
    "fig.update_xaxes(title='x', visible=False, showticklabels=False)\n",
    "fig.show()"
   ]
  },
  {
   "cell_type": "code",
   "execution_count": 23,
   "metadata": {},
   "outputs": [
    {
     "output_type": "display_data",
     "data": {
      "application/vnd.plotly.v1+json": {
       "config": {
        "plotlyServerURL": "https://plot.ly"
       },
       "data": [
        {
         "alignmentgroup": "True",
         "hovertemplate": "category=vegetable<br>item=%{x}<br>Waste ratio=%{y}<extra></extra>",
         "legendgroup": "vegetable",
         "marker": {
          "color": "purple"
         },
         "name": "vegetable",
         "offsetgroup": "vegetable",
         "orientation": "v",
         "showlegend": true,
         "textposition": "auto",
         "type": "bar",
         "x": [
          "Biologische prei",
          "Biologische brocolli",
          "Biologische courgette",
          "Biologische rode kool",
          "Biologische cherry tomaten",
          "Biologische Bloemkool",
          "Biologische pompoen",
          "Biologische kikkererwten",
          "Biologische knoflook",
          "Basis Maiskorrels",
          "Basis Rode kool met appel",
          "SnoepVegetable worteltjes",
          "Basis erwten zeer fijn",
          "Basis sperziebonen",
          "SnoepVegetable tomaat",
          "Komkommer",
          "Basis Sperziebonen",
          "Boerenkool gesneden",
          "Witlof",
          "Rucola",
          "Pompoen stukjes",
          "Basis worteltjes fijn",
          "Buitenbeentjes puntpaprika",
          "Spruiten",
          "Wortelen",
          "Verse zuurkool",
          "Courgette",
          "WokVegetable thais",
          "Nasi bami Vegetable",
          "Geschrapte worteltjes",
          "Buitenbeentjes komkommer",
          "Snijbonen",
          "Paprika",
          "Buitenbeentjes paprika",
          "Paprika Mix"
         ],
         "xaxis": "x",
         "y": [
          0.525056095736724,
          0.5216593245227606,
          0.5189556509298998,
          0.5174461766889383,
          0.47109375,
          0.46294820717131474,
          0.46228528752800596,
          0.454320987654321,
          0.445703125,
          0.31065759637188206,
          0.2893845285149633,
          0.27234927234927236,
          0.26083138173302106,
          0.2300183038438072,
          0.20854922279792745,
          0.20065075921908893,
          0.18838254172015403,
          0.18766684463427658,
          0.18516483516483517,
          0.18407821229050278,
          0.16980624327233584,
          0.16933497536945813,
          0.16327077747989277,
          0.15275459098497496,
          0.1510989010989011,
          0.1491130820399113,
          0.1488876212207644,
          0.13329764453961457,
          0.13318534961154274,
          0.12956810631229235,
          0.12840466926070038,
          0.11918115535614134,
          0.10083283759666865,
          0.09356197352587245,
          0.08634175691937425
         ],
         "yaxis": "y"
        }
       ],
       "layout": {
        "barmode": "relative",
        "legend": {
         "title": {
          "text": "category"
         },
         "tracegroupgap": 0
        },
        "margin": {
         "t": 60
        },
        "template": {
         "data": {
          "bar": [
           {
            "error_x": {
             "color": "#2a3f5f"
            },
            "error_y": {
             "color": "#2a3f5f"
            },
            "marker": {
             "line": {
              "color": "#E5ECF6",
              "width": 0.5
             }
            },
            "type": "bar"
           }
          ],
          "barpolar": [
           {
            "marker": {
             "line": {
              "color": "#E5ECF6",
              "width": 0.5
             }
            },
            "type": "barpolar"
           }
          ],
          "carpet": [
           {
            "aaxis": {
             "endlinecolor": "#2a3f5f",
             "gridcolor": "white",
             "linecolor": "white",
             "minorgridcolor": "white",
             "startlinecolor": "#2a3f5f"
            },
            "baxis": {
             "endlinecolor": "#2a3f5f",
             "gridcolor": "white",
             "linecolor": "white",
             "minorgridcolor": "white",
             "startlinecolor": "#2a3f5f"
            },
            "type": "carpet"
           }
          ],
          "choropleth": [
           {
            "colorbar": {
             "outlinewidth": 0,
             "ticks": ""
            },
            "type": "choropleth"
           }
          ],
          "contour": [
           {
            "colorbar": {
             "outlinewidth": 0,
             "ticks": ""
            },
            "colorscale": [
             [
              0,
              "#0d0887"
             ],
             [
              0.1111111111111111,
              "#46039f"
             ],
             [
              0.2222222222222222,
              "#7201a8"
             ],
             [
              0.3333333333333333,
              "#9c179e"
             ],
             [
              0.4444444444444444,
              "#bd3786"
             ],
             [
              0.5555555555555556,
              "#d8576b"
             ],
             [
              0.6666666666666666,
              "#ed7953"
             ],
             [
              0.7777777777777778,
              "#fb9f3a"
             ],
             [
              0.8888888888888888,
              "#fdca26"
             ],
             [
              1,
              "#f0f921"
             ]
            ],
            "type": "contour"
           }
          ],
          "contourcarpet": [
           {
            "colorbar": {
             "outlinewidth": 0,
             "ticks": ""
            },
            "type": "contourcarpet"
           }
          ],
          "heatmap": [
           {
            "colorbar": {
             "outlinewidth": 0,
             "ticks": ""
            },
            "colorscale": [
             [
              0,
              "#0d0887"
             ],
             [
              0.1111111111111111,
              "#46039f"
             ],
             [
              0.2222222222222222,
              "#7201a8"
             ],
             [
              0.3333333333333333,
              "#9c179e"
             ],
             [
              0.4444444444444444,
              "#bd3786"
             ],
             [
              0.5555555555555556,
              "#d8576b"
             ],
             [
              0.6666666666666666,
              "#ed7953"
             ],
             [
              0.7777777777777778,
              "#fb9f3a"
             ],
             [
              0.8888888888888888,
              "#fdca26"
             ],
             [
              1,
              "#f0f921"
             ]
            ],
            "type": "heatmap"
           }
          ],
          "heatmapgl": [
           {
            "colorbar": {
             "outlinewidth": 0,
             "ticks": ""
            },
            "colorscale": [
             [
              0,
              "#0d0887"
             ],
             [
              0.1111111111111111,
              "#46039f"
             ],
             [
              0.2222222222222222,
              "#7201a8"
             ],
             [
              0.3333333333333333,
              "#9c179e"
             ],
             [
              0.4444444444444444,
              "#bd3786"
             ],
             [
              0.5555555555555556,
              "#d8576b"
             ],
             [
              0.6666666666666666,
              "#ed7953"
             ],
             [
              0.7777777777777778,
              "#fb9f3a"
             ],
             [
              0.8888888888888888,
              "#fdca26"
             ],
             [
              1,
              "#f0f921"
             ]
            ],
            "type": "heatmapgl"
           }
          ],
          "histogram": [
           {
            "marker": {
             "colorbar": {
              "outlinewidth": 0,
              "ticks": ""
             }
            },
            "type": "histogram"
           }
          ],
          "histogram2d": [
           {
            "colorbar": {
             "outlinewidth": 0,
             "ticks": ""
            },
            "colorscale": [
             [
              0,
              "#0d0887"
             ],
             [
              0.1111111111111111,
              "#46039f"
             ],
             [
              0.2222222222222222,
              "#7201a8"
             ],
             [
              0.3333333333333333,
              "#9c179e"
             ],
             [
              0.4444444444444444,
              "#bd3786"
             ],
             [
              0.5555555555555556,
              "#d8576b"
             ],
             [
              0.6666666666666666,
              "#ed7953"
             ],
             [
              0.7777777777777778,
              "#fb9f3a"
             ],
             [
              0.8888888888888888,
              "#fdca26"
             ],
             [
              1,
              "#f0f921"
             ]
            ],
            "type": "histogram2d"
           }
          ],
          "histogram2dcontour": [
           {
            "colorbar": {
             "outlinewidth": 0,
             "ticks": ""
            },
            "colorscale": [
             [
              0,
              "#0d0887"
             ],
             [
              0.1111111111111111,
              "#46039f"
             ],
             [
              0.2222222222222222,
              "#7201a8"
             ],
             [
              0.3333333333333333,
              "#9c179e"
             ],
             [
              0.4444444444444444,
              "#bd3786"
             ],
             [
              0.5555555555555556,
              "#d8576b"
             ],
             [
              0.6666666666666666,
              "#ed7953"
             ],
             [
              0.7777777777777778,
              "#fb9f3a"
             ],
             [
              0.8888888888888888,
              "#fdca26"
             ],
             [
              1,
              "#f0f921"
             ]
            ],
            "type": "histogram2dcontour"
           }
          ],
          "mesh3d": [
           {
            "colorbar": {
             "outlinewidth": 0,
             "ticks": ""
            },
            "type": "mesh3d"
           }
          ],
          "parcoords": [
           {
            "line": {
             "colorbar": {
              "outlinewidth": 0,
              "ticks": ""
             }
            },
            "type": "parcoords"
           }
          ],
          "pie": [
           {
            "automargin": true,
            "type": "pie"
           }
          ],
          "scatter": [
           {
            "marker": {
             "colorbar": {
              "outlinewidth": 0,
              "ticks": ""
             }
            },
            "type": "scatter"
           }
          ],
          "scatter3d": [
           {
            "line": {
             "colorbar": {
              "outlinewidth": 0,
              "ticks": ""
             }
            },
            "marker": {
             "colorbar": {
              "outlinewidth": 0,
              "ticks": ""
             }
            },
            "type": "scatter3d"
           }
          ],
          "scattercarpet": [
           {
            "marker": {
             "colorbar": {
              "outlinewidth": 0,
              "ticks": ""
             }
            },
            "type": "scattercarpet"
           }
          ],
          "scattergeo": [
           {
            "marker": {
             "colorbar": {
              "outlinewidth": 0,
              "ticks": ""
             }
            },
            "type": "scattergeo"
           }
          ],
          "scattergl": [
           {
            "marker": {
             "colorbar": {
              "outlinewidth": 0,
              "ticks": ""
             }
            },
            "type": "scattergl"
           }
          ],
          "scattermapbox": [
           {
            "marker": {
             "colorbar": {
              "outlinewidth": 0,
              "ticks": ""
             }
            },
            "type": "scattermapbox"
           }
          ],
          "scatterpolar": [
           {
            "marker": {
             "colorbar": {
              "outlinewidth": 0,
              "ticks": ""
             }
            },
            "type": "scatterpolar"
           }
          ],
          "scatterpolargl": [
           {
            "marker": {
             "colorbar": {
              "outlinewidth": 0,
              "ticks": ""
             }
            },
            "type": "scatterpolargl"
           }
          ],
          "scatterternary": [
           {
            "marker": {
             "colorbar": {
              "outlinewidth": 0,
              "ticks": ""
             }
            },
            "type": "scatterternary"
           }
          ],
          "surface": [
           {
            "colorbar": {
             "outlinewidth": 0,
             "ticks": ""
            },
            "colorscale": [
             [
              0,
              "#0d0887"
             ],
             [
              0.1111111111111111,
              "#46039f"
             ],
             [
              0.2222222222222222,
              "#7201a8"
             ],
             [
              0.3333333333333333,
              "#9c179e"
             ],
             [
              0.4444444444444444,
              "#bd3786"
             ],
             [
              0.5555555555555556,
              "#d8576b"
             ],
             [
              0.6666666666666666,
              "#ed7953"
             ],
             [
              0.7777777777777778,
              "#fb9f3a"
             ],
             [
              0.8888888888888888,
              "#fdca26"
             ],
             [
              1,
              "#f0f921"
             ]
            ],
            "type": "surface"
           }
          ],
          "table": [
           {
            "cells": {
             "fill": {
              "color": "#EBF0F8"
             },
             "line": {
              "color": "white"
             }
            },
            "header": {
             "fill": {
              "color": "#C8D4E3"
             },
             "line": {
              "color": "white"
             }
            },
            "type": "table"
           }
          ]
         },
         "layout": {
          "annotationdefaults": {
           "arrowcolor": "#2a3f5f",
           "arrowhead": 0,
           "arrowwidth": 1
          },
          "coloraxis": {
           "colorbar": {
            "outlinewidth": 0,
            "ticks": ""
           }
          },
          "colorscale": {
           "diverging": [
            [
             0,
             "#8e0152"
            ],
            [
             0.1,
             "#c51b7d"
            ],
            [
             0.2,
             "#de77ae"
            ],
            [
             0.3,
             "#f1b6da"
            ],
            [
             0.4,
             "#fde0ef"
            ],
            [
             0.5,
             "#f7f7f7"
            ],
            [
             0.6,
             "#e6f5d0"
            ],
            [
             0.7,
             "#b8e186"
            ],
            [
             0.8,
             "#7fbc41"
            ],
            [
             0.9,
             "#4d9221"
            ],
            [
             1,
             "#276419"
            ]
           ],
           "sequential": [
            [
             0,
             "#0d0887"
            ],
            [
             0.1111111111111111,
             "#46039f"
            ],
            [
             0.2222222222222222,
             "#7201a8"
            ],
            [
             0.3333333333333333,
             "#9c179e"
            ],
            [
             0.4444444444444444,
             "#bd3786"
            ],
            [
             0.5555555555555556,
             "#d8576b"
            ],
            [
             0.6666666666666666,
             "#ed7953"
            ],
            [
             0.7777777777777778,
             "#fb9f3a"
            ],
            [
             0.8888888888888888,
             "#fdca26"
            ],
            [
             1,
             "#f0f921"
            ]
           ],
           "sequentialminus": [
            [
             0,
             "#0d0887"
            ],
            [
             0.1111111111111111,
             "#46039f"
            ],
            [
             0.2222222222222222,
             "#7201a8"
            ],
            [
             0.3333333333333333,
             "#9c179e"
            ],
            [
             0.4444444444444444,
             "#bd3786"
            ],
            [
             0.5555555555555556,
             "#d8576b"
            ],
            [
             0.6666666666666666,
             "#ed7953"
            ],
            [
             0.7777777777777778,
             "#fb9f3a"
            ],
            [
             0.8888888888888888,
             "#fdca26"
            ],
            [
             1,
             "#f0f921"
            ]
           ]
          },
          "colorway": [
           "#636efa",
           "#EF553B",
           "#00cc96",
           "#ab63fa",
           "#FFA15A",
           "#19d3f3",
           "#FF6692",
           "#B6E880",
           "#FF97FF",
           "#FECB52"
          ],
          "font": {
           "color": "#2a3f5f"
          },
          "geo": {
           "bgcolor": "white",
           "lakecolor": "white",
           "landcolor": "#E5ECF6",
           "showlakes": true,
           "showland": true,
           "subunitcolor": "white"
          },
          "hoverlabel": {
           "align": "left"
          },
          "hovermode": "closest",
          "mapbox": {
           "style": "light"
          },
          "paper_bgcolor": "white",
          "plot_bgcolor": "#E5ECF6",
          "polar": {
           "angularaxis": {
            "gridcolor": "white",
            "linecolor": "white",
            "ticks": ""
           },
           "bgcolor": "#E5ECF6",
           "radialaxis": {
            "gridcolor": "white",
            "linecolor": "white",
            "ticks": ""
           }
          },
          "scene": {
           "xaxis": {
            "backgroundcolor": "#E5ECF6",
            "gridcolor": "white",
            "gridwidth": 2,
            "linecolor": "white",
            "showbackground": true,
            "ticks": "",
            "zerolinecolor": "white"
           },
           "yaxis": {
            "backgroundcolor": "#E5ECF6",
            "gridcolor": "white",
            "gridwidth": 2,
            "linecolor": "white",
            "showbackground": true,
            "ticks": "",
            "zerolinecolor": "white"
           },
           "zaxis": {
            "backgroundcolor": "#E5ECF6",
            "gridcolor": "white",
            "gridwidth": 2,
            "linecolor": "white",
            "showbackground": true,
            "ticks": "",
            "zerolinecolor": "white"
           }
          },
          "shapedefaults": {
           "line": {
            "color": "#2a3f5f"
           }
          },
          "ternary": {
           "aaxis": {
            "gridcolor": "white",
            "linecolor": "white",
            "ticks": ""
           },
           "baxis": {
            "gridcolor": "white",
            "linecolor": "white",
            "ticks": ""
           },
           "bgcolor": "#E5ECF6",
           "caxis": {
            "gridcolor": "white",
            "linecolor": "white",
            "ticks": ""
           }
          },
          "title": {
           "x": 0.05
          },
          "xaxis": {
           "automargin": true,
           "gridcolor": "white",
           "linecolor": "white",
           "ticks": "",
           "title": {
            "standoff": 15
           },
           "zerolinecolor": "white",
           "zerolinewidth": 2
          },
          "yaxis": {
           "automargin": true,
           "gridcolor": "white",
           "linecolor": "white",
           "ticks": "",
           "title": {
            "standoff": 15
           },
           "zerolinecolor": "white",
           "zerolinewidth": 2
          }
         }
        },
        "xaxis": {
         "anchor": "y",
         "domain": [
          0,
          1
         ],
         "showticklabels": true,
         "tickangle": 45,
         "tickfont": {
          "size": 11
         },
         "title": {
          "text": "item"
         },
         "visible": true
        },
        "yaxis": {
         "anchor": "x",
         "domain": [
          0,
          1
         ],
         "title": {
          "text": "Waste ratio"
         }
        }
       }
      }
     },
     "metadata": {}
    }
   ],
   "source": [
    "import plotly.express as px\n",
    "fig = px.bar(final_df[final_df[\"category\"] == \"vegetable\"], x=\"item\", y=\"Waste ratio\", color_discrete_sequence=[\"purple\"], color=\"category\")\n",
    "fig.update_xaxes(visible=True, showticklabels=True)\n",
    "fig.update_layout(xaxis = dict( tickfont = dict(size=11)), xaxis_tickangle=45)\n",
    "fig.show()"
   ]
  },
  {
   "cell_type": "code",
   "execution_count": 26,
   "metadata": {},
   "outputs": [
    {
     "output_type": "execute_result",
     "data": {
      "text/plain": [
       "count    41.000000\n",
       "mean      0.200616\n",
       "std       0.079066\n",
       "min       0.105400\n",
       "25%       0.145770\n",
       "50%       0.192421\n",
       "75%       0.228196\n",
       "max       0.461429\n",
       "Name: Waste ratio, dtype: float64"
      ]
     },
     "metadata": {},
     "execution_count": 26
    }
   ],
   "source": [
    "final_df[final_df[\"category\"] == \"bread\"][\"Waste ratio\"].describe()"
   ]
  },
  {
   "cell_type": "code",
   "execution_count": null,
   "metadata": {},
   "outputs": [],
   "source": []
  }
 ]
}